{
  "nbformat": 4,
  "nbformat_minor": 0,
  "metadata": {
    "colab": {
      "name": "UI-Demo.ipynb",
      "version": "0.3.2",
      "provenance": [],
      "collapsed_sections": [],
      "toc_visible": true,
      "include_colab_link": true
    },
    "kernelspec": {
      "name": "python3",
      "display_name": "Python 3"
    },
    "accelerator": "GPU"
  },
  "cells": [
    {
      "cell_type": "markdown",
      "metadata": {
        "id": "view-in-github",
        "colab_type": "text"
      },
      "source": [
        "<a href=\"https://colab.research.google.com/github/compartia/nlp_tools/blob/demo/UI_Demo.ipynb\" target=\"_parent\"><img src=\"https://colab.research.google.com/assets/colab-badge.svg\" alt=\"Open In Colab\"/></a>"
      ]
    },
    {
      "metadata": {
        "id": "raaJNhjYXuoW",
        "colab_type": "text"
      },
      "cell_type": "markdown",
      "source": [
        "#.init"
      ]
    },
    {
      "metadata": {
        "id": "DmfQVYoSXqf8",
        "colab_type": "text"
      },
      "cell_type": "markdown",
      "source": [
        "##utils"
      ]
    },
    {
      "metadata": {
        "id": "YYCa_a2lXjxP",
        "colab_type": "code",
        "colab": {}
      },
      "cell_type": "code",
      "source": [
        "import IPython\n",
        "import uuid\n",
        "from google.colab import output\n",
        "from google.colab import files\n",
        "\n",
        "from __future__ import print_function\n",
        "\n",
        "from google.colab import widgets\n",
        "from google.colab import output\n",
        "\n",
        "\n",
        "\n",
        "# from google.colab import files\n",
        "\n",
        "def interactive_upload(filetype):\n",
        "  \n",
        "  import docx2txt\n",
        "  \n",
        "  print(f'Please select \"{filetype}\" .docx file:')\n",
        "  uploaded = files.upload()\n",
        "  docs=[]\n",
        "  for fn in uploaded.keys():\n",
        "    print('User uploaded file \"{name}\" with length {length} bytes'.format(\n",
        "        name=fn, length=len(uploaded[fn])))\n",
        "\n",
        "    with open(fn, \"wb\") as df:\n",
        "      df.write(uploaded[fn])\n",
        "      df.close()\n",
        "\n",
        "    # extract text\n",
        "  \n",
        "    text = ''\n",
        "    try:\n",
        "      text = docx2txt.process(fn)\n",
        "    except:\n",
        "      print(\"Unexpected error:\", sys.exc_info())\n",
        "      os.system('antiword -w 0 \"' + fn + '\" > \"' + fn + '.txt\"')\n",
        "      with open(fn + '.txt') as f:\n",
        "        text = f.read()\n",
        "    print(\"Символов в оригинальном документе:\", len(text))\n",
        "    docs.append(text)\n",
        "    return docs\n",
        "  \n",
        "  \n",
        "  \n",
        "  \n",
        "class InvokeButton(object):\n",
        "  def __init__(self, title, callback = None):\n",
        "    self.title = title\n",
        "    self.callback = callback\n",
        "\n",
        "#   def _repr_html_(self):\n",
        "  def render(self):\n",
        "    self.callback_id = 'button-' + str(uuid.uuid4())\n",
        "    if self.callback:\n",
        "      output.register_callback(self.callback_id, self.callback)\n",
        "\n",
        "    template =f'''<button style=\"padding:5px; font-size:16px; margin:15px\"  id=\"{self.callback_id}\">{self.title}</button>\n",
        "        <script>\n",
        "          document.querySelector(\"#{self.callback_id}\").onclick = (e) => {{\n",
        "            google.colab.kernel.invokeFunction(\"{self.callback_id}\", [], {{}})\n",
        "            e.preventDefault();\n",
        "          }};\n",
        "        </script>'''\n",
        "    display(IPython.display.HTML(template))\n",
        "    \n",
        "def upload_file_b(tb, type):\n",
        "  with output.redirect_to_element('#upload_area'): \n",
        "  \n",
        "    print(f'Загрузка документа типа \"{type}\"')\n",
        "    print('Select .docx files:')\n",
        "    uploaded = interactive_upload(type)\n",
        "\n",
        "#   with tb.output_to(type):\n",
        "#     for fn in uploaded:\n",
        "#       print(f'User uploaded file \"{fn[0:1000]}\" with length {len(fn)} bytes')\n",
        "\n",
        "def clear_div(elementID):\n",
        "  display(IPython.display.Javascript(f'document.getElementById(\"{elementID}\").innerHTML = \"\";'))\n",
        "\n",
        "def replace_self_elem(elementID, text):\n",
        "  #print(f'Replace: {elementID}')\n",
        "  display(IPython.display.Javascript(f'document.getElementById(\"{elementID}\").parentElement.innerHTML = \"{text}\";'))\n",
        "\n",
        "def toggle_element(elementId):\n",
        "  display(IPython.display.Javascript(f''' \n",
        "    var x = document.getElementById(\"{elementId}\");\n",
        "    if (x.style.display === \"none\")\n",
        "      x.style.display = \"block\";\n",
        "    else\n",
        "      x.style.display = \"none\";\n",
        "    '''))\n",
        "  \n",
        "def call_invoke(title, callback):\n",
        "  with output.redirect_to_element('#items'):    \n",
        "    InvokeButton(title, callback).render()\n",
        "    \n",
        "  clear_div(\"upload_area\")\n",
        "  \n",
        "  \n",
        "GLOBALS__ = {}"
      ],
      "execution_count": 0,
      "outputs": []
    },
    {
      "metadata": {
        "id": "TTYEFnsrX_LL",
        "colab_type": "text"
      },
      "cell_type": "markdown",
      "source": [
        "#Демо"
      ]
    },
    {
      "metadata": {
        "id": "st1uyXGyR1WN",
        "colab_type": "code",
        "outputId": "5ec72bbb-08d1-4b8b-e11d-9b69a3e137d0",
        "colab": {
          "base_uri": "https://localhost:8080/",
          "height": 34
        }
      },
      "cell_type": "code",
      "source": [
        "#@title Настройки { run: \"auto\", vertical-output: true, display-mode: \"form\" }\n",
        "USD_to_RUB = 64.02 #@param {type:\"number\"}\n",
        "RUB_to_USD = 1.0/USD_to_RUB\n",
        "\n",
        "# print('USD_to_RUB=',USD_to_RUB)\n",
        "# print('RUB_to_USD=',RUB_to_USD)\n",
        "\n",
        "\n",
        "\n",
        "currency_converter = {\n",
        "  'USD': USD_to_RUB,\n",
        "  'RUB': 1.0\n",
        "}\n",
        "\n",
        "print(currency_converter)"
      ],
      "execution_count": 2,
      "outputs": [
        {
          "output_type": "stream",
          "text": [
            "{'USD': 64.02, 'RUB': 1.0}\n"
          ],
          "name": "stdout"
        }
      ]
    },
    {
      "metadata": {
        "id": "CPxjslnsM6Y2",
        "colab_type": "code",
        "colab": {
          "base_uri": "https://localhost:8080/",
          "height": 52
        },
        "outputId": "d9295d47-453f-4eee-fa75-63e8fec0d40a"
      },
      "cell_type": "code",
      "source": [
        "# @title Настройка версии { vertical-output: true, output-height: 800, display-mode: \"form\" }\n",
        "\n",
        "\n",
        "import os\n",
        "import sys\n",
        "\n",
        "\n",
        "\n",
        "def interactive_upload(filetype):\n",
        "  from google.colab import files\n",
        "  import docx2txt\n",
        "\n",
        "  print(f'Please select \"{filetype}\" .docx file:')\n",
        "  uploaded = files.upload()\n",
        "  docs = []\n",
        "  for fn in uploaded.keys():\n",
        "    print('User uploaded file \"{name}\" with length {length} bytes'.format(\n",
        "      name=fn, length=len(uploaded[fn])))\n",
        "\n",
        "    with open(fn, \"wb\") as df:\n",
        "      df.write(uploaded[fn])\n",
        "      df.close()\n",
        "\n",
        "    # extract text\n",
        "\n",
        "    text = ''\n",
        "    try:\n",
        "      text = docx2txt.process(fn)\n",
        "    except:\n",
        "      print(\"Unexpected error:\", sys.exc_info())\n",
        "      os.system('antiword -w 0 \"' + fn + '\" > \"' + fn + '.txt\"')\n",
        "      with open(fn + '.txt') as f:\n",
        "        text = f.read()\n",
        "    print(\"Символов в оригинальном документе:\", len(text))\n",
        "    docs.append(text)\n",
        "    return docs\n",
        "\n",
        "\n",
        "# ====================================\n",
        "# ====================================\n",
        "_git_branch = \"demo\"  # @param {type:\"string\"}\n",
        "# ====================================\n",
        "# ====================================\n",
        " \n",
        "\n",
        "\n",
        "# AZ:-IMPORT CODE GITHUB-----------------------------------------------------------------------------------\n",
        "def _init_import_code_from_gh():\n",
        "  if '_init_import_code_from_gh' in GLOBALS__:\n",
        "    print('👌 code already imported from GitHub!')\n",
        "    return\n",
        "\n",
        "  print(f\"fetching code from GitHub.....{_git_branch}\")\n",
        "  l1 = 'rm -r nlp_tools'\n",
        "  l2 = f'git clone --single-branch --branch {_git_branch} https://github.com/compartia/nlp_tools.git nlp_tools'\n",
        "  os.system(l1)\n",
        "  os.system(l2)\n",
        "  import subprocess\n",
        "  r = subprocess.check_output(\n",
        "    'cd nlp_tools\\ngit rev-list --reverse HEAD | awk \"{ print NR }\" | tail -n 1\\ngit branch\\ngit log -3 --pretty=%B',\n",
        "    shell=True)\n",
        "  print('🦊 GIT revision:', str(r).replace('\\\\n', '\\t'))\n",
        "\n",
        "  sys.path.insert(0, 'nlp_tools')\n",
        "\n",
        "  # self-test\n",
        "  from text_tools import untokenize\n",
        "  untokenize(['code', 'ok'])\n",
        "  print(untokenize(['code', 'imported', 'OK 👍']))\n",
        "\n",
        "  print('installing antiword...')\n",
        "  r = subprocess.check_output('sudo apt-get install antiword', shell=True)\n",
        "  print(r)\n",
        "\n",
        "  print('installing docx2txt...')\n",
        "  r = subprocess.check_output(\"pip install docx2txt\", shell=True)\n",
        "  r = print(r)\n",
        "  print(r)\n",
        "  GLOBALS__['_init_import_code_from_gh'] = True\n",
        "  print('❤️ DONE importing Code fro GitHub')\n",
        "\n",
        "\n",
        "# AZ:-INIT ELMO-----------------------------------------------------------------------------------\n",
        "\n",
        "import tensorflow as tf\n",
        "import tensorflow_hub as hub\n",
        "\n",
        "\n",
        "def _import_elmo():\n",
        "  \"\"\"\n",
        "  ACHTUNG!! this method is called later by ElmoEmbedder\n",
        "  \"\"\"\n",
        "\n",
        "  #   if 'elmo' in GLOBALS__:\n",
        "  #     print('👌 Tensorflow hub.Module is already imported ')\n",
        "  #     return GLOBALS__['elmo']\n",
        "\n",
        "  elmo = hub.Module('https://storage.googleapis.com/az-nlp/elmo_ru-news_wmt11-16_1.5M_steps.tar.gz',\n",
        "                    trainable=False)  # twitter\n",
        "  print('❤️ ❤️ ❤️ DONE (re)importing Tensorflow hub.Module ')\n",
        "  print('Tensorflow version is', tf.__version__)\n",
        "\n",
        "  return elmo\n",
        "\n",
        "\n",
        "#   GLOBALS__['elmo'] = elmo\n",
        "\n",
        "#   print(GLOBALS__['elmo'].__dict__)\n",
        "#   return GLOBALS__['elmo']\n",
        "\n",
        "\n",
        "# AZ:-INIT EMBEDDER-----------------------------------------------------------------------------------\n",
        "\n",
        "def _init_embedder():\n",
        "  if 'elmo_embedder' in GLOBALS__:\n",
        "    print('👌 Embedder is already created! ')\n",
        "    return\n",
        "\n",
        "  from embedding_tools import ElmoEmbedder\n",
        "  GLOBALS__['elmo_embedder'] = ElmoEmbedder(_import_elmo(), tf, 'elmo', _import_elmo)\n",
        "\n",
        "  print('❤️ DONE creating words embedding model')\n",
        "  return GLOBALS__['elmo_embedder']\n",
        "\n",
        "\n",
        "# AZ:-Init chartes context-----------------------------------------------------------------------------------\n",
        "def _init_charters():\n",
        "  if 'CharterAnlysingContext' in GLOBALS__:\n",
        "    print('👌 Charters-related tools are already inited ')\n",
        "    return\n",
        "\n",
        "  from demo_charter import CharterAnlysingContext\n",
        "  GLOBALS__['CharterAnlysingContext'] = CharterAnlysingContext(GLOBALS__['elmo_embedder'], GLOBALS__['renderer'])\n",
        "  print('❤️ DONE initing Charters-related tools and models ')\n",
        "\n",
        "\n",
        "def _init_contracts():\n",
        "  if 'ContractAnlysingContext' in GLOBALS__:\n",
        "    print('👌 Contracts-related tools are already inited ')\n",
        "    return\n",
        "\n",
        "  from demo import ContractAnlysingContext\n",
        "  GLOBALS__['ContractAnlysingContext'] = ContractAnlysingContext(GLOBALS__['elmo_embedder'], GLOBALS__['renderer'])\n",
        "  print('❤️ DONE initing Contracts-related tools and models ')\n",
        "\n",
        "\n",
        "# AZ:- THE CODE----------------------------------------------------------------------------------\n",
        "def _init_the_code(reset=False):\n",
        "  if '_init_the_code' in GLOBALS__ and not reset:\n",
        "    print('👌 Code is alredy imported!')\n",
        "    return\n",
        "\n",
        "  import matplotlib as mpl\n",
        "  from IPython.core.display import display, HTML\n",
        "  import matplotlib.pyplot as plt\n",
        "  from renderer import AbstractRenderer, head_types_colors\n",
        "  from transaction_values import ValueConstraint\n",
        "  from legal_docs import org_types\n",
        "  from demo_charter import head_types_dict, head_types\n",
        "\n",
        "  class DemoRenderer(AbstractRenderer):\n",
        "\n",
        "    def render_subj(self, doc):\n",
        "      from demo import subject_types_dict\n",
        "      subj = doc.subject\n",
        "      s_name = subject_types_dict[subj[0]].upper()\n",
        "\n",
        "      display(\n",
        "        HTML(f'Предмет договора:<h3 style=\"margin:0\">{s_name}<sup> {subj[0]}</sup> </h3> confidence:{subj[1]:20,.2f}'))\n",
        "\n",
        "    def sign_to_text(self, sign: int):\n",
        "      if sign < 0: return \" &lt; \"\n",
        "      if sign > 0: return \" &gt; \"\n",
        "      return ' = '\n",
        "\n",
        "    def probable_value_to_html(self, pv):\n",
        "\n",
        "      vc = pv.value\n",
        "\n",
        "      color = '#333333'\n",
        "      if vc.sign > 0:\n",
        "        color = '#993300'\n",
        "      elif vc.sign < 0:\n",
        "        color = '#009933'\n",
        "\n",
        "      return f'<b style=\"color:{color}\">{self.sign_to_text(vc.sign)} {vc.currency} {vc.value:20,.2f} confidence={pv.confidence:20,.2f}</b> '\n",
        "\n",
        "    def render_contents(doc):\n",
        "      html = '<h3>Выявленное Содержание документа</h4>'\n",
        "      html += \"<ul>\"\n",
        "      for i in doc.structure.headline_indexes:\n",
        "        line = doc.structure.structure[i].to_string(doc.tokens_cc)\n",
        "        html += f'<li> {line} <sup>line {i}</sup></li>'\n",
        "      html += \"</ul>\"\n",
        "\n",
        "      display(HTML(html))\n",
        "\n",
        "    def render_sections(sections):\n",
        "      from legal_docs import HeadlineMeta\n",
        "      html = '<h3>Выявленное секции документа</h4>'\n",
        "      html += \"<ul>\"\n",
        "      for section_type in sections:\n",
        "        section: HeadlineMeta = sections[section_type]\n",
        "        body = section.body.untokenize_cc()[:1000]\n",
        "        headline = section.subdoc.untokenize_cc()[:500]\n",
        "        #     line = doc.structure.structure[i].to_string(doc.tokens_cc)\n",
        "        html += f'<li><h3> {headline} <sup>type: {section_type}</sup> </h3> <p>{body}</p> </li>'\n",
        "      html += \"</ul>\"\n",
        "\n",
        "      display(HTML(html))\n",
        "\n",
        "    def render_values(self, values):\n",
        "      if len(values) > 0:\n",
        "        for pv in values:\n",
        "          h = self.probable_value_to_html(pv)\n",
        "          display(HTML(h))\n",
        "      else:\n",
        "        display(HTML('сумма не найдена'))\n",
        "\n",
        "    def render_contents(self, doc):\n",
        "      html = '<h3>Выявленное Содержание документа</h4>'\n",
        "      html += \"<ul>\"\n",
        "      for i in doc.structure.headline_indexes:\n",
        "        line = doc.structure.structure[i].to_string(doc.tokens_cc)\n",
        "        html += f'<li> {line} <sup>line {i}</sup></li>'\n",
        "      html += \"</ul>\"\n",
        "\n",
        "      display(HTML(html))\n",
        "\n",
        "    def render_value_section_details(self, value_section_info):\n",
        "      value_section = value_section_info.body\n",
        "      headline_doc = value_section_info.subdoc\n",
        "\n",
        "      headline = headline_doc.untokenize_cc()\n",
        "\n",
        "      v_names = {\n",
        "        'value_attention_vector',\n",
        "        'novalue_attention_vector',\n",
        "\n",
        "        'novalue_attention_vector_local_contrast',\n",
        "        'value_attention_vector_tuned'}\n",
        "\n",
        "      fig = plt.figure(figsize=(20, 6))\n",
        "      ax = plt.axes()\n",
        "      for vector_name in v_names:\n",
        "        ax.plot(value_section.distances_per_pattern_dict[vector_name], label=vector_name, alpha=0.4);\n",
        "      ax.plot(value_section.distances_per_pattern_dict['value_attention_vector_tuned'], label=vector_name.upper(),\n",
        "              alpha=0.9, color='black');\n",
        "      plt.legend(loc='upper right')\n",
        "\n",
        "      text = self.to_color_text(value_section.tokens_cc,\n",
        "                                value_section.distances_per_pattern_dict['value_attention_vector_tuned'], _range=(0, 1))\n",
        "      html = f'<h3>{headline}</h3> <div style=\"margin-left:4em; font-size=90%\">{text}</div>'\n",
        "      display(HTML(html))\n",
        "\n",
        "    def to_color_text(self, tokens, weights, colormap='coolwarm', print_debug=False, _range=None):\n",
        "      if len(tokens) == 0:\n",
        "        return \" - empty -\"\n",
        "      if len(weights) != len(tokens):\n",
        "        raise ValueError(\"number of weights differs weights={} tokens={}\".format(len(weights), len(tokens)))\n",
        "\n",
        "      #   if()\n",
        "      vmin = weights.min()\n",
        "      vmax = weights.max()\n",
        "\n",
        "      if _range is not None:\n",
        "        vmin = _range[0]\n",
        "        vmax = _range[1]\n",
        "\n",
        "      if print_debug:\n",
        "        print(vmin, vmax)\n",
        "\n",
        "      norm = mpl.colors.Normalize(vmin=vmin - 0.5, vmax=vmax)\n",
        "      html = \"\"\n",
        "      cmap = mpl.cm.get_cmap(colormap)\n",
        "\n",
        "      for d in range(0, len(weights)):\n",
        "        word = tokens[d]\n",
        "        if word == ' ':\n",
        "          word = '&nbsp;_ '\n",
        "\n",
        "        html += '<span title=\"{} {:.4f}\" style=\"background-color:{}\">{} </span>'.format(\n",
        "          d,\n",
        "          weights[d],\n",
        "          mpl.colors.to_hex(cmap(norm(weights[d]))),\n",
        "          word)\n",
        "\n",
        "        #     html+='<span style=\"background-color:' +mpl.colors.to_hex(cmap(norm(weights[d]) ))+ '\">' + str(tokens[d]) + \" </span>\"\n",
        "        if tokens[d] == '\\n':\n",
        "          html += \"<br>\"\n",
        "\n",
        "      return html\n",
        "\n",
        "    def _render_sentence(self, sentence):\n",
        "      html = \"\"\n",
        "      constraints: List[ValueConstraint] = sentence['constraints']\n",
        "      for probable_v in constraints:\n",
        "        html += self.value_to_html(probable_v.value)\n",
        "\n",
        "      if len(constraints) > 0:\n",
        "        html += '<div style=\"border-bottom:1px solid #ccc; margin-top:1em\"></div>'\n",
        "        section = sentence['subdoc']\n",
        "        html += self.to_color_text(section.tokens, section.distances_per_pattern_dict['deal_value_attention_vector'])\n",
        "      return html\n",
        "\n",
        "    def render_constraint_values(self, rz):\n",
        "\n",
        "      html = ''\n",
        "      for head_type in rz.keys():\n",
        "\n",
        "        r_by_head_type = rz[head_type]\n",
        "\n",
        "        html += '<hr style=\"margin-top: 45px\">'\n",
        "        html += '<i style=\"padding:0; margin:0\">решения о пороговых суммах, которые принимает</i><h2 style=\"color:{}; padding:0;margin:0\">{}</h2>'.format(\n",
        "          head_types_colors[head_type],\n",
        "          head_types_dict[head_type])\n",
        "\n",
        "        sentences = r_by_head_type['sentences']\n",
        "        html += '<h4>{}</h4>'.format(r_by_head_type['caption'])\n",
        "        html += '<div style=\"padding-left:80px\">'\n",
        "\n",
        "        if True:\n",
        "          if len(sentences) > 0:\n",
        "            for sentence in sentences:\n",
        "              html += self._render_sentence(sentence)\n",
        "\n",
        "          else:\n",
        "            html += '<h4 style=\"color:crimson\">Пороговые суммы не найдены или не заданы</h4>'\n",
        "\n",
        "        html += '</div>'\n",
        "\n",
        "      return html\n",
        "\n",
        "    def render_charter_parsing_results(self, org, rz):\n",
        "      txt_html = self.to_color_text(org['tokens'], org['attention_vector'], _range=[0, 1])\n",
        "\n",
        "      html = '<div style=\"background:#eeeeff; padding:0.5em\"> recognized NE(s): <br><br> org type:<h3 style=\"margin:0\">  {} </h3>org full name:<h2 style=\"margin:0\">  {} </h2> <br>quote: <div style=\"font-size:90%; background:white\">{}</div> </div>'.format(\n",
        "        org['type_name'], org['name'], txt_html)\n",
        "      # html+=txt_html\n",
        "      html += self.render_constraint_values(rz)\n",
        "\n",
        "      display(HTML(html))\n",
        "\n",
        "    def render_color_text(self, tokens, weights, colormap='coolwarm', print_debug=False, _range=None):\n",
        "      html = self.to_color_text(tokens, weights, colormap, print_debug, _range)\n",
        "      display(HTML(html))\n",
        "\n",
        "    def print_results(self, doc, results):\n",
        "      result, (start, end), sentence, meta = results\n",
        "\n",
        "      html = \"<hr>\"\n",
        "\n",
        "      html += self._render_doc_subject_fragments(doc)\n",
        "\n",
        "      if result is None:\n",
        "        html += '<h2 style=\"color:red\">СУММА НЕ НАЙДЕНА</h2>'\n",
        "      else:\n",
        "        html += '<h2>' + str(result[0]) + ' ' + str(result[1]) + '</h2>'\n",
        "\n",
        "      for key in meta.keys():\n",
        "        html += '<div style=\"font-size:9px\">' + str(key) + \" = \" + str(meta[key]) + \"</div>\"\n",
        "\n",
        "      display(HTML(html))\n",
        "      self.render_color_text(doc.tokens[start:end], doc.sums[start:end])\n",
        "\n",
        "  GLOBALS__['renderer'] = DemoRenderer()\n",
        "\n",
        "  \n",
        "  # AZ:----------PROTOCOLS RENDERER-------------------------\n",
        "\n",
        "  from legal_docs import LegalDocument\n",
        "\n",
        "  import matplotlib as mpl\n",
        "  from IPython.core.display import display, HTML\n",
        "  from renderer import  as_headline_3\n",
        "  class ProtocolRenderer(DemoRenderer):\n",
        "\n",
        "    def winning_patterns_to_html(self, _tokens, ranges, winning_patterns, _range,\n",
        "                                 colormaps=['Reds', 'Purples', 'Blues', 'Greens', 'Greys']):\n",
        "      vmin = -ranges[1]\n",
        "      vmax = -ranges[0]\n",
        "\n",
        "      #     print(\"winning_patterns_to_html _range\", _range, \"min max=\", ranges)\n",
        "\n",
        "      norm = mpl.colors.Normalize(vmax=vmax, vmin=vmin)\n",
        "\n",
        "      cmaps = []\n",
        "\n",
        "      #     print (colormaps)\n",
        "      for n in colormaps:\n",
        "        cmap = mpl.cm.get_cmap(n)\n",
        "        cmaps.append(cmap)\n",
        "\n",
        "      html = \"\"\n",
        "\n",
        "      for d in _range:\n",
        "        winning_pattern_i = winning_patterns[d][0]\n",
        "        colormap = cmaps[winning_pattern_i % len(colormaps)]\n",
        "        normed = norm(-winning_patterns[d][1])\n",
        "        color = mpl.colors.to_hex(colormap(normed))\n",
        "        html += '<span title=\"' + '{} {:.2f}'.format(d, winning_patterns[d][\n",
        "          1]) + '\" style=\"background-color:' + color + '\">' + str(\n",
        "          _tokens[d]) + \" </span>\"\n",
        "        if _tokens[d] == '\\n':\n",
        "          html += \"<br>\"\n",
        "\n",
        "      return html\n",
        "\n",
        "    def _render_doc_subject_fragments(self, doc):\n",
        "      #     print(doc.per_subject_distances)\n",
        "\n",
        "      _html = \"\"\n",
        "      if doc.per_subject_distances is not None:\n",
        "\n",
        "        type = \"Договор  благотворительного пожертвования\"\n",
        "        if doc.per_subject_distances[0] > doc.per_subject_distances[1]:\n",
        "          type = \"Договор возмездного оказания услуг\"\n",
        "\n",
        "        _html += \"<h3>\" + type + \"</h3>\"\n",
        "\n",
        "        colormaps = ['PuRd'] * 5 + ['Blues'] * 7 + ['Greys']\n",
        "\n",
        "        _html += as_headline_4('Предмет договора')\n",
        "\n",
        "        for region in [doc.subj_range]:\n",
        "          _html += self.winning_patterns_to_html(_tokens=doc.tokens, ranges=doc.subj_ranges,\n",
        "                                                 winning_patterns=doc.winning_subj_patterns, _range=region,\n",
        "                                                 colormaps=colormaps)\n",
        "\n",
        "      return _html\n",
        "\n",
        "    def render_subject(self, counter):\n",
        "      html = as_headline_3('Предмет документа (X):') + self.subject_type_weights_to_html(counter)\n",
        "      display(HTML(html))\n",
        "\n",
        "    def print_results(self, _doc: LegalDocument, results=None):\n",
        "\n",
        "      if results is None:\n",
        "        results = _doc.found_sum\n",
        "\n",
        "      result, (start, end), sentence, meta = results\n",
        "\n",
        "      html = \"<hr>\"\n",
        "\n",
        "      html += self._render_doc_subject_fragments(_doc)\n",
        "\n",
        "      if result is None:\n",
        "        html += '<h2 style=\"color:red\">СУММА НЕ НАЙДЕНА</h2>'\n",
        "      else:\n",
        "        html += '<h2>' + str(result[0]) + ' ' + str(result[1]) + '</h2>'\n",
        "\n",
        "      for key in meta.keys():\n",
        "        html += '<div style=\"font-size:9px\">' + str(key) + \" = \" + str(meta[key]) + \"</div>\"\n",
        "\n",
        "      display(HTML(html))\n",
        "      self.render_color_text(_doc.tokens[start:end], _doc.sums[start:end])\n",
        "\n",
        "    def subject_type_weights_to_html(self, counter):\n",
        "      dict = {\n",
        "        't_dea': 'Сделка',\n",
        "        't_cha': 'Благотворительность',\n",
        "        't_org': 'Организационные решения'\n",
        "      }\n",
        "\n",
        "      maxkey = \"None\"\n",
        "      for key in dict:\n",
        "        if counter[key] > counter[maxkey]:\n",
        "          maxkey = key\n",
        "\n",
        "      html = \"\"\n",
        "      for key in dict:\n",
        "        templ = \"<div>{}: {}</div>\"\n",
        "        if key == maxkey:\n",
        "          templ = '<b style=\"font-size:135%; color:maroon\">{}: {}</b>'\n",
        "        html += templ.format(counter[key], dict[key])\n",
        "\n",
        "      return html\n",
        "\n",
        "  GLOBALS__['ProtocolRenderer'] = ProtocolRenderer()\n",
        "  \n",
        "  from demo_protocols import ProtocolAnlysingContext\n",
        "  GLOBALS__['ProtocolAnlysingContext'] = ProtocolAnlysingContext(GLOBALS__['elmo_embedder'],\n",
        "                                                                 GLOBALS__['ProtocolRenderer'])\n",
        "  GLOBALS__['_init_the_code'] = True\n",
        "    # AZ:-------------------------------------------------Init Protocols context===\n",
        "  \n",
        "\n",
        "  # AZ:-------------------------------------------------Init Charters context====\n",
        "\n",
        "  def read_doc(fn):\n",
        "    import docx2txt, sys, os\n",
        "    text = ''\n",
        "    try:\n",
        "      text = docx2txt.process(fn)\n",
        "    except:\n",
        "      print(\"Unexpected error:\", sys.exc_info())\n",
        "      os.system('antiword -w 0 \"' + fn + '\" > \"' + fn + '.txt\"')\n",
        "      with open(fn + '.txt') as f:\n",
        "        text = f.read()\n",
        "\n",
        "    return text\n",
        "\n",
        "  GLOBALS__['read_doc'] = read_doc\n",
        "\n",
        "  print(\"❤️ DONE initializing the code\")\n",
        "\n",
        "\n",
        "# AZ:-FINDING_VIOLATIONS--------------------------------------------------------\n",
        "def find_and_show_violations():\n",
        "  from IPython.core.display import display, HTML\n",
        "\n",
        "  from demo import ContractAnlysingContext\n",
        "  from demo_charter import CharterAnlysingContext\n",
        "  from renderer import as_headline_2, as_error_html\n",
        "\n",
        "  print('Поиск нарушений')\n",
        "\n",
        "  charterAnlysingContext: CharterAnlysingContext = GLOBALS__['CharterAnlysingContext']\n",
        "  contractAnlysingContext: ContractAnlysingContext = GLOBALS__['ContractAnlysingContext']\n",
        "\n",
        "  contract = contractAnlysingContext.contract\n",
        "  charter = charterAnlysingContext.doc\n",
        "  charter_constraints = charterAnlysingContext.constraints  # XXX: move to doc\n",
        "\n",
        "  renderer = GLOBALS__['renderer']\n",
        "  renderer.render_subj(contract)\n",
        "\n",
        "  import copy\n",
        "\n",
        "  def convert(v):\n",
        "    v_converted = copy.copy(v)\n",
        "    if v.currency in currency_converter:\n",
        "      v_converted.value = currency_converter[v.currency] * v.value\n",
        "      v_converted.currency = 'RUB'\n",
        "      return v_converted\n",
        "    else:\n",
        "      display(HTML(as_error_html(\n",
        "        f\"мы не в настроении (пока) конвертировать {v.currency} --> RUB. Это вообще валюта какой страны? Румынии?\")))\n",
        "      return v\n",
        "\n",
        "  best_value = contractAnlysingContext.find_contract_best_value(convert)\n",
        "\n",
        "  # rendering:----------------------------\n",
        "\n",
        "  def _render_violations(ranges_by_group, best_value):\n",
        "    for group_key in ranges_by_group:\n",
        "      group = ranges_by_group[group_key]\n",
        "      display(HTML(as_headline_2(group['name'])))\n",
        "\n",
        "      for rk in group['ranges']:\n",
        "        r = group['ranges'][rk]\n",
        "        display(HTML(r.check_contract_value(best_value, convert, renderer)))\n",
        "\n",
        "  print(\"Сумма Договора:\")\n",
        "  renderer.render_values([best_value])\n",
        "  renderer.render_color_text(best_value.value.context[0], best_value.value.context[1], _range=[0, 1])\n",
        "\n",
        "  _render_violations(\n",
        "    charterAnlysingContext.find_ranges_by_group(charter_constraints, convert, verbose=False),\n",
        "    best_value)\n",
        "\n",
        "\n",
        "#   display(HTML(renderer.render_constraint_values(charter_constraints)))\n",
        "\n",
        "\n",
        "# AZ:--------------------------------------------------------FINDING_VIOLATIONS-\n",
        "\n",
        "# AZ:- ENDO OF THE THE CODE------------------------------------------------XXXXX\n",
        "# AZ:- ENDO OF THE THE CODE------------------------------------------------XXXXX\n",
        "# AZ:- ENDO OF THE THE CODE------------------------------------------------XXXXX\n",
        "# AZ:- ENDO OF THE THE CODE------------------------------------------------XXXX"
      ],
      "execution_count": 3,
      "outputs": [
        {
          "output_type": "stream",
          "text": [
            "WARNING: Logging before flag parsing goes to stderr.\n",
            "W0418 18:39:09.602019 140221498161024 __init__.py:56] Some hub symbols are not available because TensorFlow version is less than 1.14\n"
          ],
          "name": "stderr"
        }
      ]
    },
    {
      "metadata": {
        "id": "QDIDCaXmVuB0",
        "colab_type": "code",
        "colab": {
          "resources": {
            "http://localhost:8080/nbextensions/google.colab/tabbar.css": {
              "data": "Lmdvb2ctdGFie3Bvc2l0aW9uOnJlbGF0aXZlO3BhZGRpbmc6NHB4IDhweDtjb2xvcjojMDBjO3RleHQtZGVjb3JhdGlvbjp1bmRlcmxpbmU7Y3Vyc29yOmRlZmF1bHR9Lmdvb2ctdGFiLWJhci10b3AgLmdvb2ctdGFie21hcmdpbjoxcHggNHB4IDAgMDtib3JkZXItYm90dG9tOjA7ZmxvYXQ6bGVmdH0uZ29vZy10YWItYmFyLXRvcDphZnRlciwuZ29vZy10YWItYmFyLWJvdHRvbTphZnRlcntjb250ZW50OiIgIjtkaXNwbGF5OmJsb2NrO2hlaWdodDowO2NsZWFyOmJvdGg7dmlzaWJpbGl0eTpoaWRkZW59Lmdvb2ctdGFiLWJhci1ib3R0b20gLmdvb2ctdGFie21hcmdpbjowIDRweCAxcHggMDtib3JkZXItdG9wOjA7ZmxvYXQ6bGVmdH0uZ29vZy10YWItYmFyLXN0YXJ0IC5nb29nLXRhYnttYXJnaW46MCAwIDRweCAxcHg7Ym9yZGVyLXJpZ2h0OjB9Lmdvb2ctdGFiLWJhci1lbmQgLmdvb2ctdGFie21hcmdpbjowIDFweCA0cHggMDtib3JkZXItbGVmdDowfS5nb29nLXRhYi1ob3ZlcntiYWNrZ3JvdW5kOiNlZWV9Lmdvb2ctdGFiLWRpc2FibGVke2NvbG9yOiM2NjZ9Lmdvb2ctdGFiLXNlbGVjdGVke2NvbG9yOiMwMDA7YmFja2dyb3VuZDojZmZmO3RleHQtZGVjb3JhdGlvbjpub25lO2ZvbnQtd2VpZ2h0OmJvbGQ7Ym9yZGVyOjFweCBzb2xpZCAjNmI5MGRhfS5nb29nLXRhYi1iYXItdG9we3BhZGRpbmctdG9wOjVweCFpbXBvcnRhbnQ7cGFkZGluZy1sZWZ0OjVweCFpbXBvcnRhbnQ7Ym9yZGVyLWJvdHRvbToxcHggc29saWQgIzZiOTBkYSFpbXBvcnRhbnR9Lmdvb2ctdGFiLWJhci10b3AgLmdvb2ctdGFiLXNlbGVjdGVke3RvcDoxcHg7bWFyZ2luLXRvcDowO3BhZGRpbmctYm90dG9tOjVweH0uZ29vZy10YWItYmFyLWJvdHRvbSAuZ29vZy10YWItc2VsZWN0ZWR7dG9wOi0xcHg7bWFyZ2luLWJvdHRvbTowO3BhZGRpbmctdG9wOjVweH0uZ29vZy10YWItYmFyLXN0YXJ0IC5nb29nLXRhYi1zZWxlY3RlZHtsZWZ0OjFweDttYXJnaW4tbGVmdDowO3BhZGRpbmctcmlnaHQ6OXB4fS5nb29nLXRhYi1iYXItZW5kIC5nb29nLXRhYi1zZWxlY3RlZHtsZWZ0Oi0xcHg7bWFyZ2luLXJpZ2h0OjA7cGFkZGluZy1sZWZ0OjlweH0uZ29vZy10YWItYmFye21hcmdpbjowO2JvcmRlcjowO3BhZGRpbmc6MDtsaXN0LXN0eWxlOm5vbmU7Y3Vyc29yOmRlZmF1bHQ7b3V0bGluZTpub25lO2JhY2tncm91bmQ6I2ViZWZmOX0uZ29vZy10YWItYmFyLWNsZWFye2NsZWFyOmJvdGg7aGVpZ2h0OjA7b3ZlcmZsb3c6aGlkZGVufS5nb29nLXRhYi1iYXItc3RhcnR7ZmxvYXQ6bGVmdH0uZ29vZy10YWItYmFyLWVuZHtmbG9hdDpyaWdodH0qIGh0bWwgLmdvb2ctdGFiLWJhci1zdGFydHttYXJnaW4tcmlnaHQ6LTNweH0qIGh0bWwgLmdvb2ctdGFiLWJhci1lbmR7bWFyZ2luLWxlZnQ6LTNweH0=",
              "ok": true,
              "headers": [
                [
                  "content-length",
                  "1394"
                ],
                [
                  "content-type",
                  "text/css"
                ]
              ],
              "status": 200,
              "status_text": ""
            },
            "http://localhost:8080/nbextensions/google.colab/tabbar_main.min.js": {
              "data": "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",
              "ok": true,
              "headers": [
                [
                  "content-type",
                  "application/javascript"
                ]
              ],
              "status": 200,
              "status_text": ""
            },
            "http://localhost:8080/nbextensions/google.colab/files.js": {
              "data": "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",
              "ok": true,
              "headers": [
                [
                  "content-type",
                  "application/javascript"
                ]
              ],
              "status": 200,
              "status_text": ""
            }
          },
          "base_uri": "https://localhost:8080/",
          "height": 543
        },
        "outputId": "4a1d9359-d6c3-4254-d4cb-d44082e71539"
      },
      "cell_type": "code",
      "source": [
        "#@title Обработка документов { vertical-output: true, output-height: 800, display-mode: \"form\" }\n",
        "\n",
        "# VI: @artifex from here:\n",
        "import traceback\n",
        "\n",
        "def process_charter():\n",
        "  uploaded = interactive_upload('Устав')\n",
        "  try:\n",
        "\n",
        "    GLOBALS__['CharterAnlysingContext'].verbosity_level=2\n",
        "    org, rz = GLOBALS__['CharterAnlysingContext'].analyze_charter(uploaded[0], True)\n",
        "    doc = GLOBALS__['CharterAnlysingContext'].doc\n",
        "\n",
        "\n",
        "    GLOBALS__['renderer'].render_contents(doc)\n",
        "    GLOBALS__['renderer'].render_charter_parsing_results(org, rz)\n",
        "  except Exception as e:\n",
        "    print(f\"💥\\033[1;31mОшибка:{e}\\033[1;0m\")\n",
        "    print(traceback.format_exc())\n",
        "\n",
        "def process_contract():\n",
        "  uploaded = interactive_upload('Договор')\n",
        "\n",
        "  try:\n",
        "    GLOBALS__['ContractAnlysingContext'].analyze_contract(uploaded[0])\n",
        "    doc = GLOBALS__['ContractAnlysingContext'].contract\n",
        "\n",
        "    GLOBALS__['renderer'].render_subj(doc)\n",
        "    GLOBALS__['renderer'].render_contents(doc)\n",
        "  except Exception as e:\n",
        "    print(f\"💥\\033[1;31mОшибка:{e}\\033[1;0m\")\n",
        "    print(traceback.format_exc())\n",
        "\n",
        "  \n",
        "def start_wizard(tb):\n",
        "  def step1():\n",
        "    #toggle_element(b1.callback_id)\n",
        "    with tb.output_to(0):\n",
        "      print(f\"\\033[1;32mСм. следующие табы\\u2713\")\n",
        "    \n",
        "    with tb.output_to(1):\n",
        "      b2.render()\n",
        "\n",
        "  def step2():\n",
        "    toggle_element(b2.callback_id)\n",
        "    with tb.output_to(1):      \n",
        "      process_charter() \n",
        "      \n",
        "      print(f\"\\033[1;32mУстав: сделано\\u2713\")  \n",
        "      toggle_element(b2.callback_id)\n",
        "    \n",
        "    with tb.output_to(2):\n",
        "      b3.render()\n",
        "\n",
        "  def step3():    \n",
        "    toggle_element(b3.callback_id)\n",
        "    with tb.output_to(2):\n",
        "      process_contract()\n",
        "      \n",
        "      print(f\"\\033[1;32mДоговор: сделано\\u2713\")  \n",
        "      toggle_element(b3.callback_id)\n",
        "    \n",
        "    with tb.output_to(3):\n",
        "      b4.render()\n",
        "\n",
        "  def step4():\n",
        "    with tb.output_to(3):\n",
        "            \n",
        "      find_and_show_violations()\n",
        "      \n",
        "      print(f\"\\033[1;32mПроверка нарушений: сделано\\u2713\")  \n",
        "      toggle_element(b4.callback_id)\n",
        "    \n",
        "    with tb.output_to(4):\n",
        "      b5.render()\n",
        "      \n",
        "  def step5():\n",
        "    toggle_element(b4.callback_id)\n",
        "    with tb.output_to(4):\n",
        "      uploaded = interactive_upload('Протокол')\n",
        "      try:\n",
        "        GLOBALS__['ProtocolAnlysingContext'].process(uploaded)        \n",
        "      except:\n",
        "        print(f\"💥\\033[1;31mОшибка:{sys.exc_info()}\\033[1;0m\")\n",
        "        print(traceback.format_exc())\n",
        "        \n",
        "      print(f\"\\033[1;32mПротокол: сделано\\u2713\")  \n",
        "      toggle_element(b4.callback_id)\n",
        "    \n",
        "                                     \n",
        "  b1 = InvokeButton('Начнём', step1)\n",
        "  b2 = InvokeButton('Устав...', step2)\n",
        "  b3 = InvokeButton('Договор...', step3)\n",
        "  b4 = InvokeButton('Искать нарушения...', step4)\n",
        "  b5 = InvokeButton('Протокол...', step5)\n",
        "  \n",
        "  with tb.output_to(0): \n",
        "    try:     \n",
        "      \n",
        "      ## do preparation here   \n",
        "      # 1.\n",
        "      _init_import_code_from_gh()\n",
        "      # 2.\n",
        "      _init_embedder()\n",
        "      # 3.\n",
        "      _init_the_code()\n",
        "      # 4.\n",
        "      _init_charters()\n",
        "      # 5.\n",
        "      _init_contracts()\n",
        "\n",
        "      b1.render()\n",
        "    except:\n",
        "      print(f\"💥\\033[1;31mОшибка:{sys.exc_info()}\\033[1;0m\")\n",
        "      print(traceback.format_exc())\n",
        "\n",
        "\n",
        "#@title Wizard2\n",
        "tb2 = widgets.TabBar(['Начало', 'Устав', 'Договор', 'Поиск нарушений', 'Протокол'], location='top')    \n",
        "start_wizard(tb2)"
      ],
      "execution_count": 4,
      "outputs": [
        {
          "output_type": "display_data",
          "data": {
            "text/html": [
              "<link rel=stylesheet type=text/css href='/nbextensions/google.colab/tabbar.css'></link>"
            ],
            "text/plain": [
              "<IPython.core.display.HTML object>"
            ]
          },
          "metadata": {
            "tags": [
              "outputarea_id1"
            ]
          }
        },
        {
          "output_type": "display_data",
          "data": {
            "text/html": [
              "<script src='/nbextensions/google.colab/tabbar_main.min.js'></script>"
            ],
            "text/plain": [
              "<IPython.core.display.HTML object>"
            ]
          },
          "metadata": {
            "tags": [
              "outputarea_id1"
            ]
          }
        },
        {
          "output_type": "display_data",
          "data": {
            "text/html": [
              "<div id=\"id1\"></div>"
            ],
            "text/plain": [
              "<IPython.core.display.HTML object>"
            ]
          },
          "metadata": {
            "tags": [
              "outputarea_id1"
            ]
          }
        },
        {
          "output_type": "display_data",
          "data": {
            "application/javascript": [
              "window[\"41102b8c-6209-11e9-a733-0242ac1c0002\"] = colab_lib.createTabBar({\"location\": \"top\", \"elementId\": \"id1\", \"tabNames\": [\"\\u041d\\u0430\\u0447\\u0430\\u043b\\u043e\", \"\\u0423\\u0441\\u0442\\u0430\\u0432\", \"\\u0414\\u043e\\u0433\\u043e\\u0432\\u043e\\u0440\", \"\\u041f\\u043e\\u0438\\u0441\\u043a \\u043d\\u0430\\u0440\\u0443\\u0448\\u0435\\u043d\\u0438\\u0439\", \"\\u041f\\u0440\\u043e\\u0442\\u043e\\u043a\\u043e\\u043b\"], \"initialSelection\": 0, \"contentBorder\": [\"0px\"], \"contentHeight\": [\"initial\"], \"borderColor\": [\"#a7a7a7\"]});\n",
              "//# sourceURL=js_731225ae01"
            ],
            "text/plain": [
              "<IPython.core.display.Javascript object>"
            ]
          },
          "metadata": {
            "tags": [
              "outputarea_id1"
            ]
          }
        },
        {
          "output_type": "display_data",
          "data": {
            "application/javascript": [
              "window[\"411055b2-6209-11e9-a733-0242ac1c0002\"] = window[\"id1\"].setSelectedTabIndex(0);\n",
              "//# sourceURL=js_821005727f"
            ],
            "text/plain": [
              "<IPython.core.display.Javascript object>"
            ]
          },
          "metadata": {
            "tags": [
              "outputarea_id1"
            ]
          }
        },
        {
          "output_type": "display_data",
          "data": {
            "application/javascript": [
              "window[\"4112641a-6209-11e9-a733-0242ac1c0002\"] = google.colab.output.getActiveOutputArea();\n",
              "//# sourceURL=js_58962ed364"
            ],
            "text/plain": [
              "<IPython.core.display.Javascript object>"
            ]
          },
          "metadata": {
            "tags": [
              "id1_content_0",
              "outputarea_id1"
            ]
          }
        },
        {
          "output_type": "display_data",
          "data": {
            "application/javascript": [
              "window[\"4112dac6-6209-11e9-a733-0242ac1c0002\"] = document.querySelector(\"#id1_content_0\");\n",
              "//# sourceURL=js_0be437f792"
            ],
            "text/plain": [
              "<IPython.core.display.Javascript object>"
            ]
          },
          "metadata": {
            "tags": [
              "id1_content_0",
              "outputarea_id1"
            ]
          }
        },
        {
          "output_type": "display_data",
          "data": {
            "application/javascript": [
              "window[\"4113085c-6209-11e9-a733-0242ac1c0002\"] = google.colab.output.setActiveOutputArea(window[\"4112dac6-6209-11e9-a733-0242ac1c0002\"]);\n",
              "//# sourceURL=js_1320f4d410"
            ],
            "text/plain": [
              "<IPython.core.display.Javascript object>"
            ]
          },
          "metadata": {
            "tags": [
              "id1_content_0",
              "outputarea_id1"
            ]
          }
        },
        {
          "output_type": "display_data",
          "data": {
            "application/javascript": [
              "window[\"411348f8-6209-11e9-a733-0242ac1c0002\"] = window[\"id1\"].setSelectedTabIndex(0);\n",
              "//# sourceURL=js_a996f3a10f"
            ],
            "text/plain": [
              "<IPython.core.display.Javascript object>"
            ]
          },
          "metadata": {
            "tags": [
              "id1_content_0",
              "outputarea_id1"
            ]
          }
        },
        {
          "output_type": "stream",
          "text": [
            "fetching code from GitHub.....demo\n",
            "🦊 GIT revision: b'229\t* demo\t* new tab behavior: updated & merged \\xf0\\x9f\\x90\\xb1\\xe2\\x80\\x8d\\xf0\\x9f\\x90\\x89\t* clean outputs\\xf0\\x9f\\x90\\xb1\\xe2\\x80\\x8d\\xf0\\x9f\\x91\\xa4\\xf0\\x9f\\x90\\x89\t+ initial commit\t'\n",
            "[nltk_data] Downloading package punkt to /root/nltk_data...\n",
            "[nltk_data]   Package punkt is already up-to-date!\n",
            "code imported OK 👍\n",
            "installing antiword...\n",
            "b\"Reading package lists...\\nBuilding dependency tree...\\nReading state information...\\nantiword is already the newest version (0.37-11build1).\\nThe following package was automatically installed and is no longer required:\\n  libnvidia-common-410\\nUse 'sudo apt autoremove' to remove it.\\n0 upgraded, 0 newly installed, 0 to remove and 6 not upgraded.\\n\"\n",
            "installing docx2txt...\n",
            "b'Requirement already satisfied: docx2txt in /usr/local/lib/python3.6/dist-packages (0.7)\\n'\n",
            "None\n",
            "❤️ DONE importing Code fro GitHub\n",
            "WARNING:tensorflow:From /usr/local/lib/python3.6/dist-packages/tensorflow/python/ops/control_flow_ops.py:3632: colocate_with (from tensorflow.python.framework.ops) is deprecated and will be removed in a future version.\n",
            "Instructions for updating:\n",
            "Colocations handled automatically by placer.\n"
          ],
          "name": "stdout"
        },
        {
          "output_type": "stream",
          "text": [
            "W0418 18:39:21.015568 140221498161024 deprecation.py:323] From /usr/local/lib/python3.6/dist-packages/tensorflow/python/ops/control_flow_ops.py:3632: colocate_with (from tensorflow.python.framework.ops) is deprecated and will be removed in a future version.\n",
            "Instructions for updating:\n",
            "Colocations handled automatically by placer.\n"
          ],
          "name": "stderr"
        },
        {
          "output_type": "stream",
          "text": [
            "❤️ ❤️ ❤️ DONE (re)importing Tensorflow hub.Module \n",
            "Tensorflow version is 1.13.1\n",
            "❤️ DONE creating words embedding model\n",
            "<nltk.tokenize.punkt.PunktSentenceTokenizer object at 0x7f8768a33ef0>\n",
            "❤️ DONE initializing the code\n",
            "❤️ DONE initing Charters-related tools and models \n",
            "INFO:tensorflow:Saver not created because there are no variables in the graph to restore\n"
          ],
          "name": "stdout"
        },
        {
          "output_type": "stream",
          "text": [
            "I0418 18:39:25.624544 140221498161024 saver.py:1483] Saver not created because there are no variables in the graph to restore\n"
          ],
          "name": "stderr"
        },
        {
          "output_type": "stream",
          "text": [
            "INFO:tensorflow:Saver not created because there are no variables in the graph to restore\n"
          ],
          "name": "stdout"
        },
        {
          "output_type": "stream",
          "text": [
            "I0418 18:39:34.841366 140221498161024 saver.py:1483] Saver not created because there are no variables in the graph to restore\n"
          ],
          "name": "stderr"
        },
        {
          "output_type": "stream",
          "text": [
            "INFO:tensorflow:Saver not created because there are no variables in the graph to restore\n"
          ],
          "name": "stdout"
        },
        {
          "output_type": "stream",
          "text": [
            "I0418 18:39:37.558019 140221498161024 saver.py:1483] Saver not created because there are no variables in the graph to restore\n"
          ],
          "name": "stderr"
        },
        {
          "output_type": "stream",
          "text": [
            "❤️ DONE initing Contracts-related tools and models \n"
          ],
          "name": "stdout"
        },
        {
          "output_type": "display_data",
          "data": {
            "text/html": [
              "<button style=\"padding:5px; font-size:16px; margin:15px\"  id=\"button-ee2ffbb0-1bcd-43d0-a4ea-ac3c7ce38fb0\">Начнём</button>\n",
              "        <script>\n",
              "          document.querySelector(\"#button-ee2ffbb0-1bcd-43d0-a4ea-ac3c7ce38fb0\").onclick = (e) => {\n",
              "            google.colab.kernel.invokeFunction(\"button-ee2ffbb0-1bcd-43d0-a4ea-ac3c7ce38fb0\", [], {})\n",
              "            e.preventDefault();\n",
              "          };\n",
              "        </script>"
            ],
            "text/plain": [
              "<IPython.core.display.HTML object>"
            ]
          },
          "metadata": {
            "tags": [
              "id1_content_0",
              "outputarea_id1",
              "user_output"
            ]
          }
        },
        {
          "output_type": "display_data",
          "data": {
            "application/javascript": [
              "window[\"52757b84-6209-11e9-a733-0242ac1c0002\"] = google.colab.output.setActiveOutputArea(window[\"4112641a-6209-11e9-a733-0242ac1c0002\"]);\n",
              "//# sourceURL=js_7afe9f1aa9"
            ],
            "text/plain": [
              "<IPython.core.display.Javascript object>"
            ]
          },
          "metadata": {
            "tags": [
              "id1_content_0",
              "outputarea_id1"
            ]
          }
        },
        {
          "output_type": "display_data",
          "data": {
            "application/javascript": [
              "window[\"544bb9fa-6209-11e9-a733-0242ac1c0002\"] = google.colab.output.getActiveOutputArea();\n",
              "//# sourceURL=js_41cfdbf7dd"
            ],
            "text/plain": [
              "<IPython.core.display.Javascript object>"
            ]
          },
          "metadata": {
            "tags": [
              "id1_content_0",
              "outputarea_id1"
            ]
          }
        },
        {
          "output_type": "display_data",
          "data": {
            "application/javascript": [
              "window[\"544c345c-6209-11e9-a733-0242ac1c0002\"] = document.querySelector(\"#id1_content_0\");\n",
              "//# sourceURL=js_aa5154e3c9"
            ],
            "text/plain": [
              "<IPython.core.display.Javascript object>"
            ]
          },
          "metadata": {
            "tags": [
              "id1_content_0",
              "outputarea_id1"
            ]
          }
        },
        {
          "output_type": "display_data",
          "data": {
            "application/javascript": [
              "window[\"544c944c-6209-11e9-a733-0242ac1c0002\"] = google.colab.output.setActiveOutputArea(window[\"544c345c-6209-11e9-a733-0242ac1c0002\"]);\n",
              "//# sourceURL=js_457ce1bead"
            ],
            "text/plain": [
              "<IPython.core.display.Javascript object>"
            ]
          },
          "metadata": {
            "tags": [
              "id1_content_0",
              "outputarea_id1"
            ]
          }
        },
        {
          "output_type": "display_data",
          "data": {
            "application/javascript": [
              "window[\"544ce848-6209-11e9-a733-0242ac1c0002\"] = window[\"id1\"].setSelectedTabIndex(0);\n",
              "//# sourceURL=js_5d309cedaf"
            ],
            "text/plain": [
              "<IPython.core.display.Javascript object>"
            ]
          },
          "metadata": {
            "tags": [
              "id1_content_0",
              "outputarea_id1"
            ]
          }
        },
        {
          "output_type": "stream",
          "text": [
            "\u001b[1;32mСм. следующие табы✓\n"
          ],
          "name": "stdout"
        },
        {
          "output_type": "display_data",
          "data": {
            "application/javascript": [
              "window[\"544e16dc-6209-11e9-a733-0242ac1c0002\"] = google.colab.output.setActiveOutputArea(window[\"544bb9fa-6209-11e9-a733-0242ac1c0002\"]);\n",
              "//# sourceURL=js_e4014021a6"
            ],
            "text/plain": [
              "<IPython.core.display.Javascript object>"
            ]
          },
          "metadata": {
            "tags": [
              "id1_content_0",
              "outputarea_id1"
            ]
          }
        },
        {
          "output_type": "display_data",
          "data": {
            "application/javascript": [
              "window[\"54503796-6209-11e9-a733-0242ac1c0002\"] = google.colab.output.getActiveOutputArea();\n",
              "//# sourceURL=js_e8d975d28d"
            ],
            "text/plain": [
              "<IPython.core.display.Javascript object>"
            ]
          },
          "metadata": {
            "tags": [
              "id1_content_1",
              "outputarea_id1"
            ]
          }
        },
        {
          "output_type": "display_data",
          "data": {
            "application/javascript": [
              "window[\"545089bc-6209-11e9-a733-0242ac1c0002\"] = document.querySelector(\"#id1_content_1\");\n",
              "//# sourceURL=js_fb2bcd30eb"
            ],
            "text/plain": [
              "<IPython.core.display.Javascript object>"
            ]
          },
          "metadata": {
            "tags": [
              "id1_content_1",
              "outputarea_id1"
            ]
          }
        },
        {
          "output_type": "display_data",
          "data": {
            "application/javascript": [
              "window[\"5450d9f8-6209-11e9-a733-0242ac1c0002\"] = google.colab.output.setActiveOutputArea(window[\"545089bc-6209-11e9-a733-0242ac1c0002\"]);\n",
              "//# sourceURL=js_4b01345aea"
            ],
            "text/plain": [
              "<IPython.core.display.Javascript object>"
            ]
          },
          "metadata": {
            "tags": [
              "id1_content_1",
              "outputarea_id1"
            ]
          }
        },
        {
          "output_type": "display_data",
          "data": {
            "application/javascript": [
              "window[\"5451478a-6209-11e9-a733-0242ac1c0002\"] = window[\"id1\"].setSelectedTabIndex(1);\n",
              "//# sourceURL=js_094d7aa94b"
            ],
            "text/plain": [
              "<IPython.core.display.Javascript object>"
            ]
          },
          "metadata": {
            "tags": [
              "id1_content_1",
              "outputarea_id1"
            ]
          }
        },
        {
          "output_type": "display_data",
          "data": {
            "text/html": [
              "<button style=\"padding:5px; font-size:16px; margin:15px\"  id=\"button-cf79f705-6fbb-46f4-9847-559c83d7745b\">Устав...</button>\n",
              "        <script>\n",
              "          document.querySelector(\"#button-cf79f705-6fbb-46f4-9847-559c83d7745b\").onclick = (e) => {\n",
              "            google.colab.kernel.invokeFunction(\"button-cf79f705-6fbb-46f4-9847-559c83d7745b\", [], {})\n",
              "            e.preventDefault();\n",
              "          };\n",
              "        </script>"
            ],
            "text/plain": [
              "<IPython.core.display.HTML object>"
            ]
          },
          "metadata": {
            "tags": [
              "id1_content_1",
              "outputarea_id1",
              "user_output"
            ]
          }
        },
        {
          "output_type": "display_data",
          "data": {
            "application/javascript": [
              "window[\"5452972a-6209-11e9-a733-0242ac1c0002\"] = google.colab.output.setActiveOutputArea(window[\"54503796-6209-11e9-a733-0242ac1c0002\"]);\n",
              "//# sourceURL=js_81974524e8"
            ],
            "text/plain": [
              "<IPython.core.display.Javascript object>"
            ]
          },
          "metadata": {
            "tags": [
              "id1_content_1",
              "outputarea_id1"
            ]
          }
        },
        {
          "output_type": "display_data",
          "data": {
            "application/javascript": [
              " \n",
              "    var x = document.getElementById(\"button-cf79f705-6fbb-46f4-9847-559c83d7745b\");\n",
              "    if (x.style.display === \"none\")\n",
              "      x.style.display = \"block\";\n",
              "    else\n",
              "      x.style.display = \"none\";\n",
              "    "
            ],
            "text/plain": [
              "<IPython.core.display.Javascript object>"
            ]
          },
          "metadata": {
            "tags": []
          }
        },
        {
          "output_type": "display_data",
          "data": {
            "application/javascript": [
              "window[\"557f2726-6209-11e9-a733-0242ac1c0002\"] = google.colab.output.getActiveOutputArea();\n",
              "//# sourceURL=js_03e3f0f836"
            ],
            "text/plain": [
              "<IPython.core.display.Javascript object>"
            ]
          },
          "metadata": {
            "tags": [
              "id1_content_1",
              "outputarea_id1"
            ]
          }
        },
        {
          "output_type": "display_data",
          "data": {
            "application/javascript": [
              "window[\"557fa14c-6209-11e9-a733-0242ac1c0002\"] = document.querySelector(\"#id1_content_1\");\n",
              "//# sourceURL=js_e8c3722733"
            ],
            "text/plain": [
              "<IPython.core.display.Javascript object>"
            ]
          },
          "metadata": {
            "tags": [
              "id1_content_1",
              "outputarea_id1"
            ]
          }
        },
        {
          "output_type": "display_data",
          "data": {
            "application/javascript": [
              "window[\"558004fc-6209-11e9-a733-0242ac1c0002\"] = google.colab.output.setActiveOutputArea(window[\"557fa14c-6209-11e9-a733-0242ac1c0002\"]);\n",
              "//# sourceURL=js_85d9668626"
            ],
            "text/plain": [
              "<IPython.core.display.Javascript object>"
            ]
          },
          "metadata": {
            "tags": [
              "id1_content_1",
              "outputarea_id1"
            ]
          }
        },
        {
          "output_type": "display_data",
          "data": {
            "application/javascript": [
              "window[\"5580abf0-6209-11e9-a733-0242ac1c0002\"] = window[\"id1\"].setSelectedTabIndex(1);\n",
              "//# sourceURL=js_defe21ec8a"
            ],
            "text/plain": [
              "<IPython.core.display.Javascript object>"
            ]
          },
          "metadata": {
            "tags": [
              "id1_content_1",
              "outputarea_id1"
            ]
          }
        },
        {
          "output_type": "stream",
          "text": [
            "Please select \"Устав\" .docx file:\n"
          ],
          "name": "stdout"
        },
        {
          "output_type": "display_data",
          "data": {
            "text/html": [
              "\n",
              "     <input type=\"file\" id=\"files-ac122aa6-3e24-4527-8028-f9d78231a565\" name=\"files[]\" multiple disabled />\n",
              "     <output id=\"result-ac122aa6-3e24-4527-8028-f9d78231a565\">\n",
              "      Upload widget is only available when the cell has been executed in the\n",
              "      current browser session. Please rerun this cell to enable.\n",
              "      </output>\n",
              "      <script src=\"/nbextensions/google.colab/files.js\"></script> "
            ],
            "text/plain": [
              "<IPython.core.display.HTML object>"
            ]
          },
          "metadata": {
            "tags": [
              "id1_content_1",
              "outputarea_id1",
              "user_output"
            ]
          }
        },
        {
          "output_type": "stream",
          "text": [
            "Saving МНГ Устав.docx to МНГ Устав (2).docx\n",
            "User uploaded file \"МНГ Устав.docx\" with length 332083 bytes\n",
            "Символов в оригинальном документе: 71981\n",
            "INFO:tensorflow:Saver not created because there are no variables in the graph to restore\n"
          ],
          "name": "stdout"
        },
        {
          "output_type": "stream",
          "text": [
            "I0418 18:40:00.187121 140221498161024 saver.py:1483] Saver not created because there are no variables in the graph to restore\n"
          ],
          "name": "stderr"
        },
        {
          "output_type": "stream",
          "text": [
            "INFO:tensorflow:Saver not created because there are no variables in the graph to restore\n"
          ],
          "name": "stdout"
        },
        {
          "output_type": "stream",
          "text": [
            "I0418 18:40:03.322062 140221498161024 saver.py:1483] Saver not created because there are no variables in the graph to restore\n"
          ],
          "name": "stderr"
        },
        {
          "output_type": "stream",
          "text": [
            "INFO:tensorflow:Saver not created because there are no variables in the graph to restore\n"
          ],
          "name": "stdout"
        },
        {
          "output_type": "stream",
          "text": [
            "I0418 18:40:06.415493 140221498161024 saver.py:1483] Saver not created because there are no variables in the graph to restore\n"
          ],
          "name": "stderr"
        },
        {
          "output_type": "stream",
          "text": [
            "INFO:tensorflow:Saver not created because there are no variables in the graph to restore\n"
          ],
          "name": "stdout"
        },
        {
          "output_type": "stream",
          "text": [
            "I0418 18:40:10.156324 140221498161024 saver.py:1483] Saver not created because there are no variables in the graph to restore\n"
          ],
          "name": "stderr"
        },
        {
          "output_type": "stream",
          "text": [
            "❤️ ACCOMPLISHED: \t 0.\t embedding headlines into semantic space\n",
            "Cannot find headline matching pattern \"headline.head.pravlenie\"\n",
            "❤️ ACCOMPLISHED: \t 1.\t extracting doc structure\n",
            "INFO:tensorflow:Saver not created because there are no variables in the graph to restore\n"
          ],
          "name": "stdout"
        },
        {
          "output_type": "stream",
          "text": [
            "I0418 18:40:14.412772 140221498161024 saver.py:1483] Saver not created because there are no variables in the graph to restore\n"
          ],
          "name": "stderr"
        },
        {
          "output_type": "stream",
          "text": [
            "Function calculate_distances_per_pattern called 37 times. \n",
            "Execution time max: 0.0325, average: 0.0142\n",
            "Function _emb called 1 times. \n",
            "Execution time max: 3.7630, average: 3.7630\n"
          ],
          "name": "stdout"
        },
        {
          "output_type": "display_data",
          "data": {
            "text/html": [
              "<span title=\"0 0.3444\" style=\"background-color:#ecd3c5\">\n",
              " </span><br><span title=\"1 0.3936\" style=\"background-color:#f1ccb8\">Фирменное </span><span title=\"2 0.4437\" style=\"background-color:#f5c2aa\">наименование </span><span title=\"3 0.3760\" style=\"background-color:#efcebd\">Общества </span><span title=\"4 0.2134\" style=\"background-color:#d6dce4\">на </span><span title=\"5 0.2101\" style=\"background-color:#d6dce4\">русском </span><span title=\"6 0.2529\" style=\"background-color:#dddcdc\">языке </span><span title=\"7 0.2422\" style=\"background-color:#dbdcde\">: </span><span title=\"8 0.3135\" style=\"background-color:#e7d7ce\">\n",
              " </span><br><span title=\"9 0.3684\" style=\"background-color:#efcfbf\">полное </span><span title=\"10 0.3649\" style=\"background-color:#eed0c0\">фирменное </span><span title=\"11 0.3196\" style=\"background-color:#e8d6cc\">наименование </span><span title=\"12 0.6577\" style=\"background-color:#f29072\">– </span><span title=\"13 0.8162\" style=\"background-color:#dd5f4b\">Акционерное </span><span title=\"14 0.5281\" style=\"background-color:#f7b194\">общество </span><span title=\"15 0.2769\" style=\"background-color:#e1dad6\">\n",
              " </span><br><span title=\"16 0.3085\" style=\"background-color:#e6d7cf\">« </span><span title=\"17 0.2628\" style=\"background-color:#dfdbd9\">Мессояханефтегаз </span><span title=\"18 0.2355\" style=\"background-color:#dadce0\">» </span><span title=\"19 0.2687\" style=\"background-color:#e0dbd8\">; </span><span title=\"20 0.3155\" style=\"background-color:#e8d6cc\">\n",
              " </span><br><span title=\"21 0.3652\" style=\"background-color:#eed0c0\">сокращенное </span><span title=\"22 0.3740\" style=\"background-color:#efcebd\">фирменное </span><span title=\"23 0.3237\" style=\"background-color:#e9d5cb\">наименование </span><span title=\"24 0.6394\" style=\"background-color:#f39577\">– </span><span title=\"25 0.8027\" style=\"background-color:#df634e\">Акционерное </span><span title=\"26 0.5614\" style=\"background-color:#f7a98b\">Общество </span><span title=\"27 0.3285\" style=\"background-color:#ead5c9\">« </span><span title=\"28 0.2697\" style=\"background-color:#e0dbd8\">Мессояханефтегаз </span><span title=\"29 0.2162\" style=\"background-color:#d7dce3\">» </span><span title=\"30 0.2511\" style=\"background-color:#dddcdc\">. </span><span title=\"31 0.3125\" style=\"background-color:#e7d7ce\">\n",
              " </span><br><span title=\"32 0.2620\" style=\"background-color:#dfdbd9\">Место </span><span title=\"33 0.3190\" style=\"background-color:#e8d6cc\">нахождения </span><span title=\"34 0.3425\" style=\"background-color:#ebd3c6\">Общества </span><span title=\"35 0.2361\" style=\"background-color:#dadce0\">: </span><span title=\"36 0.2836\" style=\"background-color:#e2dad5\">Российская </span><span title=\"37 0.2706\" style=\"background-color:#e0dbd8\">Федерация </span><span title=\"38 0.2098\" style=\"background-color:#d6dce4\">, </span><span title=\"39 0.2489\" style=\"background-color:#dcdddd\">Тюменская </span><span title=\"40 0.2335\" style=\"background-color:#dadce0\">область </span><span title=\"41 0.2193\" style=\"background-color:#d7dce3\">, </span><span title=\"42 0.2354\" style=\"background-color:#dadce0\">Ямало-Ненецкий </span><span title=\"43 0.2263\" style=\"background-color:#d8dce2\">автономный </span><span title=\"44 0.1943\" style=\"background-color:#d3dbe7\">округ </span><span title=\"45 0.1875\" style=\"background-color:#d2dbe8\">, </span><span title=\"46 0.1743\" style=\"background-color:#cfdaea\">город </span><span title=\"47 0.1440\" style=\"background-color:#c9d7f0\">Новый </span><span title=\"48 0.1587\" style=\"background-color:#ccd9ed\">Уренгой </span><span title=\"49 0.2016\" style=\"background-color:#d4dbe6\">. </span><span title=\"50 0.1966\" style=\"background-color:#d3dbe7\">\n",
              " </span><br><span title=\"51 0.1880\" style=\"background-color:#d2dbe8\">\n",
              " </span><br>"
            ],
            "text/plain": [
              "<IPython.core.display.HTML object>"
            ]
          },
          "metadata": {
            "tags": [
              "id1_content_1",
              "outputarea_id1",
              "user_output"
            ]
          }
        },
        {
          "output_type": "display_data",
          "data": {
            "text/html": [
              "<span title=\"0 0.2769\" style=\"background-color:#e1dad6\">\n",
              " </span><br>"
            ],
            "text/plain": [
              "<IPython.core.display.HTML object>"
            ]
          },
          "metadata": {
            "tags": [
              "id1_content_1",
              "outputarea_id1",
              "user_output"
            ]
          }
        },
        {
          "output_type": "stream",
          "text": [
            "Org type: Акционерное общество [13, 0.8162137269973755]\n",
            "❤️ ACCOMPLISHED: \t 2.\t extracting NERs (named entities)\n",
            "extract_constraint_values_from_section head.directors\n",
            "extract_constraint_values_from_section embedding....\n",
            "INFO:tensorflow:Saver not created because there are no variables in the graph to restore\n"
          ],
          "name": "stdout"
        },
        {
          "output_type": "stream",
          "text": [
            "I0418 18:40:18.240736 140221498161024 saver.py:1483] Saver not created because there are no variables in the graph to restore\n"
          ],
          "name": "stderr"
        },
        {
          "output_type": "display_data",
          "data": {
            "text/html": [
              "<span title=\"0 0.0000\" style=\"background-color:#aac7fd\">рассмотрение </span><span title=\"1 0.0000\" style=\"background-color:#aac7fd\">и </span><span title=\"2 0.0000\" style=\"background-color:#aac7fd\">утверждение </span><span title=\"3 0.0000\" style=\"background-color:#aac7fd\">крупных </span><span title=\"4 0.0000\" style=\"background-color:#aac7fd\">инвестиционных </span><span title=\"5 0.0000\" style=\"background-color:#aac7fd\">проектов </span><span title=\"6 0.0000\" style=\"background-color:#aac7fd\">общества </span><span title=\"7 0.0000\" style=\"background-color:#aac7fd\">, </span><span title=\"8 0.0000\" style=\"background-color:#aac7fd\">если </span><span title=\"9 0.0000\" style=\"background-color:#aac7fd\">в </span><span title=\"10 0.0000\" style=\"background-color:#aac7fd\">совокупности </span><span title=\"11 0.0000\" style=\"background-color:#aac7fd\">такой </span><span title=\"12 0.0000\" style=\"background-color:#aac7fd\">проект </span><span title=\"13 0.0000\" style=\"background-color:#aac7fd\">соответствует </span><span title=\"14 0.0000\" style=\"background-color:#aac7fd\">следующим </span><span title=\"15 0.0000\" style=\"background-color:#aac7fd\">основным </span><span title=\"16 0.0000\" style=\"background-color:#aac7fd\">характеристикам </span><span title=\"17 0.0000\" style=\"background-color:#aac7fd\">: </span><span title=\"18 0.0000\" style=\"background-color:#aac7fd\">1 </span><span title=\"19 0.0000\" style=\"background-color:#aac7fd\">) </span><span title=\"20 0.0000\" style=\"background-color:#aac7fd\">объем </span><span title=\"21 0.0000\" style=\"background-color:#aac7fd\">инвестиций </span><span title=\"22 0.0000\" style=\"background-color:#aac7fd\">по </span><span title=\"23 0.0000\" style=\"background-color:#aac7fd\">проекту </span><span title=\"24 0.0000\" style=\"background-color:#aac7fd\">в </span><span title=\"25 0.0000\" style=\"background-color:#aac7fd\">целом </span><span title=\"26 0.0000\" style=\"background-color:#aac7fd\">превышает </span><span title=\"27 0.0000\" style=\"background-color:#aac7fd\">15000000000 </span><span title=\"28 0.0000\" style=\"background-color:#aac7fd\">( </span><span title=\"29 0.0000\" style=\"background-color:#aac7fd\">пятнадцать </span><span title=\"30 0.0000\" style=\"background-color:#aac7fd\">миллиардов </span><span title=\"31 0.0000\" style=\"background-color:#aac7fd\">) </span><span title=\"32 0.0000\" style=\"background-color:#aac7fd\">рублей </span><span title=\"33 0.0000\" style=\"background-color:#aac7fd\">; </span><span title=\"34 0.0000\" style=\"background-color:#aac7fd\">2 </span><span title=\"35 0.0000\" style=\"background-color:#aac7fd\">) </span><span title=\"36 0.0000\" style=\"background-color:#aac7fd\">высокий </span><span title=\"37 0.0000\" style=\"background-color:#aac7fd\">уровень </span><span title=\"38 0.0000\" style=\"background-color:#aac7fd\">сложности </span><span title=\"39 0.0000\" style=\"background-color:#aac7fd\">реализации </span><span title=\"40 0.0000\" style=\"background-color:#aac7fd\">, </span><span title=\"41 0.0000\" style=\"background-color:#aac7fd\">критерием </span><span title=\"42 0.0000\" style=\"background-color:#aac7fd\">для </span><span title=\"43 0.0000\" style=\"background-color:#aac7fd\">этого </span><span title=\"44 0.0000\" style=\"background-color:#aac7fd\">может </span><span title=\"45 0.0000\" style=\"background-color:#aac7fd\">быть </span><span title=\"46 0.0000\" style=\"background-color:#aac7fd\">высокая </span><span title=\"47 0.0000\" style=\"background-color:#aac7fd\">неопределенность </span><span title=\"48 0.0000\" style=\"background-color:#aac7fd\">в </span><span title=\"49 0.0000\" style=\"background-color:#aac7fd\">реализации </span><span title=\"50 0.0000\" style=\"background-color:#aac7fd\">проекта </span><span title=\"51 0.0000\" style=\"background-color:#aac7fd\">, </span><span title=\"52 0.0000\" style=\"background-color:#aac7fd\">т. </span><span title=\"53 0.0000\" style=\"background-color:#aac7fd\">е. </span><span title=\"54 0.0000\" style=\"background-color:#aac7fd\">совокупность </span><span title=\"55 0.0000\" style=\"background-color:#aac7fd\">факторов </span><span title=\"56 0.0000\" style=\"background-color:#aac7fd\">, </span><span title=\"57 0.0000\" style=\"background-color:#aac7fd\">связанных </span><span title=\"58 0.0000\" style=\"background-color:#aac7fd\">со </span><span title=\"59 0.0000\" style=\"background-color:#aac7fd\">сложностью </span><span title=\"60 0.0000\" style=\"background-color:#aac7fd\">исполнения </span><span title=\"61 0.0000\" style=\"background-color:#aac7fd\">проекта </span><span title=\"62 0.0000\" style=\"background-color:#aac7fd\">, </span><span title=\"63 0.0000\" style=\"background-color:#aac7fd\">технологическими </span><span title=\"64 0.0000\" style=\"background-color:#aac7fd\">рисками </span><span title=\"65 0.0000\" style=\"background-color:#aac7fd\">, </span><span title=\"66 0.0000\" style=\"background-color:#aac7fd\">наличием </span><span title=\"67 0.0000\" style=\"background-color:#aac7fd\">потенциальных </span><span title=\"68 0.0000\" style=\"background-color:#aac7fd\">угроз </span><span title=\"69 0.0000\" style=\"background-color:#aac7fd\">в </span><span title=\"70 0.0000\" style=\"background-color:#aac7fd\">области </span><span title=\"71 0.0000\" style=\"background-color:#aac7fd\">промышленной </span><span title=\"72 0.0000\" style=\"background-color:#aac7fd\">безопасности </span><span title=\"73 0.0000\" style=\"background-color:#aac7fd\">, </span><span title=\"74 0.0000\" style=\"background-color:#aac7fd\">охраны </span><span title=\"75 0.0000\" style=\"background-color:#aac7fd\">труда </span><span title=\"76 0.0000\" style=\"background-color:#aac7fd\">и </span><span title=\"77 0.0000\" style=\"background-color:#aac7fd\">окружающей </span><span title=\"78 0.0000\" style=\"background-color:#aac7fd\">среды </span><span title=\"79 0.0000\" style=\"background-color:#aac7fd\">, </span><span title=\"80 0.0000\" style=\"background-color:#aac7fd\">низкой </span><span title=\"81 0.0000\" style=\"background-color:#aac7fd\">изученностью </span><span title=\"82 0.0000\" style=\"background-color:#aac7fd\">запасов </span><span title=\"83 0.0000\" style=\"background-color:#aac7fd\">или </span><span title=\"84 0.0000\" style=\"background-color:#aac7fd\">особенностью </span><span title=\"85 0.0000\" style=\"background-color:#aac7fd\">строения </span><span title=\"86 0.0000\" style=\"background-color:#aac7fd\">пласта </span><span title=\"87 0.0000\" style=\"background-color:#aac7fd\">; </span>"
            ],
            "text/plain": [
              "<IPython.core.display.HTML object>"
            ]
          },
          "metadata": {
            "tags": [
              "id1_content_1",
              "outputarea_id1",
              "user_output"
            ]
          }
        },
        {
          "output_type": "display_data",
          "data": {
            "text/html": [
              "<span title=\"0 0.0000\" style=\"background-color:#aac7fd\">одобрение </span><span title=\"1 0.0000\" style=\"background-color:#aac7fd\">сделки </span><span title=\"2 0.0000\" style=\"background-color:#aac7fd\">или </span><span title=\"3 0.0000\" style=\"background-color:#aac7fd\">нескольких </span><span title=\"4 0.0000\" style=\"background-color:#aac7fd\">взаимосвязанных </span><span title=\"5 0.0000\" style=\"background-color:#aac7fd\">сделок </span><span title=\"6 0.0000\" style=\"background-color:#aac7fd\">( </span><span title=\"7 0.0000\" style=\"background-color:#aac7fd\">за </span><span title=\"8 0.0000\" style=\"background-color:#aac7fd\">исключением </span><span title=\"9 0.0000\" style=\"background-color:#aac7fd\">сделок </span><span title=\"10 0.0000\" style=\"background-color:#aac7fd\">, </span><span title=\"11 0.0000\" style=\"background-color:#aac7fd\">указанных </span><span title=\"12 0.0000\" style=\"background-color:#aac7fd\">в </span><span title=\"13 0.0000\" style=\"background-color:#aac7fd\">пунктах </span><span title=\"14 0.0000\" style=\"background-color:#aac7fd\">11 </span><span title=\"15 0.0000\" style=\"background-color:#aac7fd\">, </span><span title=\"16 0.0000\" style=\"background-color:#aac7fd\">37 </span><span title=\"17 0.0000\" style=\"background-color:#aac7fd\">– </span><span title=\"18 0.0000\" style=\"background-color:#aac7fd\">40 </span><span title=\"19 0.0000\" style=\"background-color:#aac7fd\">и </span><span title=\"20 0.0000\" style=\"background-color:#aac7fd\">45 </span><span title=\"21 0.0000\" style=\"background-color:#aac7fd\">статьи </span><span title=\"22 0.0000\" style=\"background-color:#aac7fd\">19.1 </span><span title=\"23 0.0000\" style=\"background-color:#aac7fd\">и </span><span title=\"24 0.0000\" style=\"background-color:#aac7fd\">в </span><span title=\"25 0.0000\" style=\"background-color:#aac7fd\">пункте </span><span title=\"26 0.0000\" style=\"background-color:#aac7fd\">18 </span><span title=\"27 0.0000\" style=\"background-color:#aac7fd\">статьи </span><span title=\"28 0.0000\" style=\"background-color:#aac7fd\">14.1 </span><span title=\"29 0.0000\" style=\"background-color:#aac7fd\">настоящего </span><span title=\"30 0.0000\" style=\"background-color:#aac7fd\">устава </span><span title=\"31 0.0000\" style=\"background-color:#aac7fd\">) </span><span title=\"32 0.0000\" style=\"background-color:#aac7fd\">, </span><span title=\"33 0.8784\" style=\"background-color:#d0473d\">на </span><span title=\"34 0.9044\" style=\"background-color:#cb3e38\">сумму </span><span title=\"35 0.8962\" style=\"background-color:#cc403a\">свыше </span><span title=\"36 0.8897\" style=\"background-color:#cd423b\">50 </span><span title=\"37 0.8750\" style=\"background-color:#d1493f\">000000 </span><span title=\"38 0.7859\" style=\"background-color:#e26952\">( </span><span title=\"39 0.0000\" style=\"background-color:#aac7fd\">пятидесяти </span><span title=\"40 0.0000\" style=\"background-color:#aac7fd\">миллионов </span><span title=\"41 0.0000\" style=\"background-color:#aac7fd\">) </span><span title=\"42 0.0000\" style=\"background-color:#aac7fd\">рублей </span><span title=\"43 0.0000\" style=\"background-color:#aac7fd\">( </span><span title=\"44 0.0000\" style=\"background-color:#aac7fd\">или </span><span title=\"45 0.0000\" style=\"background-color:#aac7fd\">эквивалент </span><span title=\"46 0.0000\" style=\"background-color:#aac7fd\">указанной </span><span title=\"47 0.0000\" style=\"background-color:#aac7fd\">суммы </span><span title=\"48 0.0000\" style=\"background-color:#aac7fd\">в </span><span title=\"49 0.0000\" style=\"background-color:#aac7fd\">любой </span><span title=\"50 0.0000\" style=\"background-color:#aac7fd\">другой </span><span title=\"51 0.0000\" style=\"background-color:#aac7fd\">валюте </span><span title=\"52 0.0000\" style=\"background-color:#aac7fd\">) </span><span title=\"53 0.0000\" style=\"background-color:#aac7fd\">, </span><span title=\"54 0.8216\" style=\"background-color:#dc5d4a\">но </span><span title=\"55 0.8459\" style=\"background-color:#d75445\">не </span><span title=\"56 0.8236\" style=\"background-color:#dc5d4a\">превышающую </span><span title=\"57 0.8345\" style=\"background-color:#d95847\">100 </span><span title=\"58 0.8202\" style=\"background-color:#dc5d4a\">000 </span><span title=\"59 0.0000\" style=\"background-color:#aac7fd\">000 </span><span title=\"60 0.0000\" style=\"background-color:#aac7fd\">( </span><span title=\"61 0.0000\" style=\"background-color:#aac7fd\">сто </span><span title=\"62 0.0000\" style=\"background-color:#aac7fd\">миллионов </span><span title=\"63 0.0000\" style=\"background-color:#aac7fd\">) </span><span title=\"64 0.0000\" style=\"background-color:#aac7fd\">рублей </span><span title=\"65 0.0000\" style=\"background-color:#aac7fd\">( </span><span title=\"66 0.0000\" style=\"background-color:#aac7fd\">или </span><span title=\"67 0.0000\" style=\"background-color:#aac7fd\">эквивалент </span><span title=\"68 0.0000\" style=\"background-color:#aac7fd\">указанной </span><span title=\"69 0.0000\" style=\"background-color:#aac7fd\">суммы </span><span title=\"70 0.0000\" style=\"background-color:#aac7fd\">в </span><span title=\"71 0.0000\" style=\"background-color:#aac7fd\">любой </span><span title=\"72 0.0000\" style=\"background-color:#aac7fd\">другой </span><span title=\"73 0.0000\" style=\"background-color:#aac7fd\">валюте </span><span title=\"74 0.0000\" style=\"background-color:#aac7fd\">) </span><span title=\"75 0.0000\" style=\"background-color:#aac7fd\">, </span><span title=\"76 0.0000\" style=\"background-color:#aac7fd\">и </span><span title=\"77 0.0000\" style=\"background-color:#aac7fd\">сделок </span><span title=\"78 0.0000\" style=\"background-color:#aac7fd\">( </span><span title=\"79 0.0000\" style=\"background-color:#aac7fd\">в </span><span title=\"80 0.0000\" style=\"background-color:#aac7fd\">том </span><span title=\"81 0.0000\" style=\"background-color:#aac7fd\">числе </span><span title=\"82 0.0000\" style=\"background-color:#aac7fd\">нескольких </span><span title=\"83 0.0000\" style=\"background-color:#aac7fd\">взаимосвязанных </span><span title=\"84 0.0000\" style=\"background-color:#aac7fd\">сделок </span><span title=\"85 0.0000\" style=\"background-color:#aac7fd\">) </span><span title=\"86 0.0000\" style=\"background-color:#aac7fd\">с </span><span title=\"87 0.0000\" style=\"background-color:#aac7fd\">имуществом </span><span title=\"88 0.0000\" style=\"background-color:#aac7fd\">общества </span><span title=\"89 0.0000\" style=\"background-color:#aac7fd\">, </span><span title=\"90 0.0000\" style=\"background-color:#aac7fd\">стоимость </span><span title=\"91 0.0000\" style=\"background-color:#aac7fd\">которого </span><span title=\"92 0.0000\" style=\"background-color:#aac7fd\">на </span><span title=\"93 0.0000\" style=\"background-color:#aac7fd\">основании </span><span title=\"94 0.0000\" style=\"background-color:#aac7fd\">данных </span><span title=\"95 0.0000\" style=\"background-color:#aac7fd\">бухгалтерской </span><span title=\"96 0.0000\" style=\"background-color:#aac7fd\">отчетности </span><span title=\"97 0.0000\" style=\"background-color:#aac7fd\">общества </span><span title=\"98 0.0000\" style=\"background-color:#aac7fd\">за </span><span title=\"99 0.0000\" style=\"background-color:#aac7fd\">последний </span><span title=\"100 0.0000\" style=\"background-color:#aac7fd\">отчетный </span><span title=\"101 0.0000\" style=\"background-color:#aac7fd\">период </span><span title=\"102 0.0000\" style=\"background-color:#aac7fd\">, </span><span title=\"103 0.0000\" style=\"background-color:#aac7fd\">предшествующий </span><span title=\"104 0.0000\" style=\"background-color:#aac7fd\">дню </span><span title=\"105 0.0000\" style=\"background-color:#aac7fd\">принятия </span><span title=\"106 0.0000\" style=\"background-color:#aac7fd\">решения </span><span title=\"107 0.0000\" style=\"background-color:#aac7fd\">о </span><span title=\"108 0.0000\" style=\"background-color:#aac7fd\">совершении </span><span title=\"109 0.0000\" style=\"background-color:#aac7fd\">таких </span><span title=\"110 0.0000\" style=\"background-color:#aac7fd\">сделок </span><span title=\"111 0.9852\" style=\"background-color:#b70d28\">, </span><span title=\"112 0.9699\" style=\"background-color:#bb1b2c\">превышает </span><span title=\"113 0.9771\" style=\"background-color:#b8122a\">50 </span><span title=\"114 0.9618\" style=\"background-color:#bd1f2d\">000 </span><span title=\"115 0.8721\" style=\"background-color:#d1493f\">000 </span><span title=\"116 0.8055\" style=\"background-color:#df634e\">( </span><span title=\"117 0.0000\" style=\"background-color:#aac7fd\">пятьдесят </span><span title=\"118 0.0000\" style=\"background-color:#aac7fd\">миллионов </span><span title=\"119 0.0000\" style=\"background-color:#aac7fd\">) </span><span title=\"120 0.0000\" style=\"background-color:#aac7fd\">рублей </span><span title=\"121 0.0000\" style=\"background-color:#aac7fd\">( </span><span title=\"122 0.0000\" style=\"background-color:#aac7fd\">или </span><span title=\"123 0.0000\" style=\"background-color:#aac7fd\">эквивалент </span><span title=\"124 0.0000\" style=\"background-color:#aac7fd\">указанной </span><span title=\"125 0.0000\" style=\"background-color:#aac7fd\">суммы </span><span title=\"126 0.0000\" style=\"background-color:#aac7fd\">в </span><span title=\"127 0.0000\" style=\"background-color:#aac7fd\">любой </span><span title=\"128 0.0000\" style=\"background-color:#aac7fd\">другой </span><span title=\"129 0.0000\" style=\"background-color:#aac7fd\">валюте </span><span title=\"130 0.0000\" style=\"background-color:#aac7fd\">) </span><span title=\"131 0.8954\" style=\"background-color:#cc403a\">, </span><span title=\"132 0.9092\" style=\"background-color:#ca3b37\">но </span><span title=\"133 0.9254\" style=\"background-color:#c53334\">не </span><span title=\"134 0.9070\" style=\"background-color:#ca3b37\">превышает </span><span title=\"135 0.9070\" style=\"background-color:#ca3b37\">100 </span><span title=\"136 0.8922\" style=\"background-color:#cd423b\">000 </span><span title=\"137 0.8030\" style=\"background-color:#df634e\">000 </span><span title=\"138 0.0000\" style=\"background-color:#aac7fd\">( </span><span title=\"139 0.0000\" style=\"background-color:#aac7fd\">сто </span><span title=\"140 0.0000\" style=\"background-color:#aac7fd\">миллионов </span><span title=\"141 0.0000\" style=\"background-color:#aac7fd\">) </span><span title=\"142 0.0000\" style=\"background-color:#aac7fd\">рублей </span><span title=\"143 0.0000\" style=\"background-color:#aac7fd\">( </span><span title=\"144 0.0000\" style=\"background-color:#aac7fd\">или </span><span title=\"145 0.0000\" style=\"background-color:#aac7fd\">эквивалент </span><span title=\"146 0.0000\" style=\"background-color:#aac7fd\">указанной </span><span title=\"147 0.0000\" style=\"background-color:#aac7fd\">суммы </span><span title=\"148 0.0000\" style=\"background-color:#aac7fd\">в </span><span title=\"149 0.0000\" style=\"background-color:#aac7fd\">любой </span><span title=\"150 0.0000\" style=\"background-color:#aac7fd\">другой </span><span title=\"151 0.0000\" style=\"background-color:#aac7fd\">валюте </span><span title=\"152 0.0000\" style=\"background-color:#aac7fd\">) </span><span title=\"153 0.0000\" style=\"background-color:#aac7fd\">, </span><span title=\"154 0.0000\" style=\"background-color:#aac7fd\">за </span><span title=\"155 0.0000\" style=\"background-color:#aac7fd\">исключением </span><span title=\"156 0.0000\" style=\"background-color:#aac7fd\">сделок </span><span title=\"157 0.0000\" style=\"background-color:#aac7fd\">, </span><span title=\"158 0.0000\" style=\"background-color:#aac7fd\">совершаемых </span><span title=\"159 0.0000\" style=\"background-color:#aac7fd\">в </span><span title=\"160 0.0000\" style=\"background-color:#aac7fd\">процессе </span><span title=\"161 0.0000\" style=\"background-color:#aac7fd\">обычной </span><span title=\"162 0.0000\" style=\"background-color:#aac7fd\">хозяйственной </span><span title=\"163 0.0000\" style=\"background-color:#aac7fd\">деятельности </span><span title=\"164 0.0000\" style=\"background-color:#aac7fd\">общества </span><span title=\"165 0.0000\" style=\"background-color:#aac7fd\">, </span><span title=\"166 0.0000\" style=\"background-color:#aac7fd\">сделок </span><span title=\"167 0.0000\" style=\"background-color:#aac7fd\">с </span><span title=\"168 0.0000\" style=\"background-color:#aac7fd\">пао </span><span title=\"169 0.0000\" style=\"background-color:#aac7fd\">« </span><span title=\"170 0.0000\" style=\"background-color:#aac7fd\">газпром </span><span title=\"171 0.0000\" style=\"background-color:#aac7fd\">нефть </span><span title=\"172 0.0000\" style=\"background-color:#aac7fd\">» </span><span title=\"173 0.0000\" style=\"background-color:#aac7fd\">и </span><span title=\"174 0.0000\" style=\"background-color:#aac7fd\">обществами </span><span title=\"175 0.0000\" style=\"background-color:#aac7fd\">, </span><span title=\"176 0.0000\" style=\"background-color:#aac7fd\">входящими </span><span title=\"177 0.0000\" style=\"background-color:#aac7fd\">в </span><span title=\"178 0.0000\" style=\"background-color:#aac7fd\">группу </span><span title=\"179 0.0000\" style=\"background-color:#aac7fd\">лиц </span><span title=\"180 0.0000\" style=\"background-color:#aac7fd\">с </span><span title=\"181 0.0000\" style=\"background-color:#aac7fd\">ним </span><span title=\"182 0.0000\" style=\"background-color:#aac7fd\">, </span><span title=\"183 0.0000\" style=\"background-color:#aac7fd\">а </span><span title=\"184 0.0000\" style=\"background-color:#aac7fd\">также </span><span title=\"185 0.0000\" style=\"background-color:#aac7fd\">за </span><span title=\"186 0.0000\" style=\"background-color:#aac7fd\">исключением </span><span title=\"187 0.0000\" style=\"background-color:#aac7fd\">случаев </span><span title=\"188 0.0000\" style=\"background-color:#aac7fd\">, </span><span title=\"189 0.0000\" style=\"background-color:#aac7fd\">когда </span><span title=\"190 0.0000\" style=\"background-color:#aac7fd\">одобрение </span><span title=\"191 0.0000\" style=\"background-color:#aac7fd\">указанных </span><span title=\"192 0.0000\" style=\"background-color:#aac7fd\">сделок </span><span title=\"193 0.0000\" style=\"background-color:#aac7fd\">относится </span><span title=\"194 0.0000\" style=\"background-color:#aac7fd\">к </span><span title=\"195 0.0000\" style=\"background-color:#aac7fd\">компетенции </span><span title=\"196 0.0000\" style=\"background-color:#aac7fd\">общего </span><span title=\"197 0.0000\" style=\"background-color:#aac7fd\">собрания </span><span title=\"198 0.0000\" style=\"background-color:#aac7fd\">акционеров </span><span title=\"199 0.0000\" style=\"background-color:#aac7fd\">общества </span><span title=\"200 0.0000\" style=\"background-color:#aac7fd\">; </span>"
            ],
            "text/plain": [
              "<IPython.core.display.HTML object>"
            ]
          },
          "metadata": {
            "tags": [
              "id1_content_1",
              "outputarea_id1",
              "user_output"
            ]
          }
        },
        {
          "output_type": "display_data",
          "data": {
            "text/html": [
              "<span title=\"0 0.0000\" style=\"background-color:#aac7fd\">одобрение </span><span title=\"1 0.0000\" style=\"background-color:#aac7fd\">привлечения </span><span title=\"2 0.0000\" style=\"background-color:#aac7fd\">обществом </span><span title=\"3 0.0000\" style=\"background-color:#aac7fd\">любого </span><span title=\"4 0.0000\" style=\"background-color:#aac7fd\">финансирования </span><span title=\"5 0.0000\" style=\"background-color:#aac7fd\">со </span><span title=\"6 0.0000\" style=\"background-color:#aac7fd\">стороны </span><span title=\"7 0.0000\" style=\"background-color:#aac7fd\">третьих </span><span title=\"8 0.0000\" style=\"background-color:#aac7fd\">лиц </span><span title=\"9 0.0000\" style=\"background-color:#aac7fd\">путем </span><span title=\"10 0.0000\" style=\"background-color:#aac7fd\">заключения </span><span title=\"11 0.0000\" style=\"background-color:#aac7fd\">одной </span><span title=\"12 0.0000\" style=\"background-color:#aac7fd\">или </span><span title=\"13 0.0000\" style=\"background-color:#aac7fd\">нескольких </span><span title=\"14 0.0000\" style=\"background-color:#aac7fd\">взаимосвязанных </span><span title=\"15 0.0000\" style=\"background-color:#aac7fd\">сделок </span><span title=\"16 0.9836\" style=\"background-color:#b70d28\">на </span><span title=\"17 0.9872\" style=\"background-color:#b70d28\">суммы </span><span title=\"18 0.9896\" style=\"background-color:#b50927\">свыше </span><span title=\"19 0.9542\" style=\"background-color:#be242e\">эквивалента </span><span title=\"20 0.9584\" style=\"background-color:#be242e\">25000000 </span><span title=\"21 0.8687\" style=\"background-color:#d24b40\">( </span><span title=\"22 0.9296\" style=\"background-color:#c53334\">двадцати </span><span title=\"23 0.9161\" style=\"background-color:#c83836\">пяти </span><span title=\"24 0.8281\" style=\"background-color:#da5a49\">миллионов </span><span title=\"25 0.0000\" style=\"background-color:#aac7fd\">) </span><span title=\"26 0.0000\" style=\"background-color:#aac7fd\">долларов </span><span title=\"27 0.0000\" style=\"background-color:#aac7fd\">сша </span><span title=\"28 0.0000\" style=\"background-color:#aac7fd\">по </span><span title=\"29 0.0000\" style=\"background-color:#aac7fd\">курсу </span><span title=\"30 0.0000\" style=\"background-color:#aac7fd\">банка </span><span title=\"31 0.0000\" style=\"background-color:#aac7fd\">россии </span><span title=\"32 0.0000\" style=\"background-color:#aac7fd\">на </span><span title=\"33 0.0000\" style=\"background-color:#aac7fd\">дату </span><span title=\"34 0.0000\" style=\"background-color:#aac7fd\">принятия </span><span title=\"35 0.0000\" style=\"background-color:#aac7fd\">решения </span><span title=\"36 0.0000\" style=\"background-color:#aac7fd\">, </span><span title=\"37 0.0000\" style=\"background-color:#aac7fd\">а </span><span title=\"38 0.0000\" style=\"background-color:#aac7fd\">также </span><span title=\"39 0.0000\" style=\"background-color:#aac7fd\">договоров </span><span title=\"40 0.0000\" style=\"background-color:#aac7fd\">о </span><span title=\"41 0.0000\" style=\"background-color:#aac7fd\">выпуске </span><span title=\"42 0.0000\" style=\"background-color:#aac7fd\">гарантий </span><span title=\"43 0.0000\" style=\"background-color:#aac7fd\">и </span><span title=\"44 0.0000\" style=\"background-color:#aac7fd\">аккредитивов </span><span title=\"45 0.0000\" style=\"background-color:#aac7fd\">, </span><span title=\"46 0.0000\" style=\"background-color:#aac7fd\">выпуск </span><span title=\"47 0.0000\" style=\"background-color:#aac7fd\">векселей </span><span title=\"48 0.0000\" style=\"background-color:#aac7fd\">независимо </span><span title=\"49 0.0000\" style=\"background-color:#aac7fd\">от </span><span title=\"50 0.0000\" style=\"background-color:#aac7fd\">суммы </span><span title=\"51 0.0000\" style=\"background-color:#aac7fd\">; </span>"
            ],
            "text/plain": [
              "<IPython.core.display.HTML object>"
            ]
          },
          "metadata": {
            "tags": [
              "id1_content_1",
              "outputarea_id1",
              "user_output"
            ]
          }
        },
        {
          "output_type": "display_data",
          "data": {
            "text/html": [
              "<span title=\"0 0.0000\" style=\"background-color:#aac7fd\">одобрение </span><span title=\"1 0.0000\" style=\"background-color:#aac7fd\">кандидатуры </span><span title=\"2 0.0000\" style=\"background-color:#aac7fd\">и </span><span title=\"3 0.0000\" style=\"background-color:#aac7fd\">условий </span><span title=\"4 0.0000\" style=\"background-color:#aac7fd\">договоров </span><span title=\"5 0.0000\" style=\"background-color:#aac7fd\">с </span><span title=\"6 0.0000\" style=\"background-color:#aac7fd\">оценщиками </span><span title=\"7 0.0000\" style=\"background-color:#aac7fd\">, </span><span title=\"8 0.0000\" style=\"background-color:#aac7fd\">лицами </span><span title=\"9 0.0000\" style=\"background-color:#aac7fd\">, </span><span title=\"10 0.0000\" style=\"background-color:#aac7fd\">привлекаемыми </span><span title=\"11 0.0000\" style=\"background-color:#aac7fd\">для </span><span title=\"12 0.0000\" style=\"background-color:#aac7fd\">оказания </span><span title=\"13 0.0000\" style=\"background-color:#aac7fd\">обществу </span><span title=\"14 0.0000\" style=\"background-color:#aac7fd\">консультационных </span><span title=\"15 0.0000\" style=\"background-color:#aac7fd\">, </span><span title=\"16 0.0000\" style=\"background-color:#aac7fd\">юридических </span><span title=\"17 0.0000\" style=\"background-color:#aac7fd\">услуг </span><span title=\"18 0.0000\" style=\"background-color:#aac7fd\">, </span><span title=\"19 0.0000\" style=\"background-color:#aac7fd\">если </span><span title=\"20 0.0000\" style=\"background-color:#aac7fd\">стоимость </span><span title=\"21 0.0000\" style=\"background-color:#aac7fd\">оказываемых </span><span title=\"22 0.0000\" style=\"background-color:#aac7fd\">услуг </span><span title=\"23 0.0000\" style=\"background-color:#aac7fd\">превышает </span><span title=\"24 0.0000\" style=\"background-color:#aac7fd\">25000000 </span><span title=\"25 0.0000\" style=\"background-color:#aac7fd\">( </span><span title=\"26 0.0000\" style=\"background-color:#aac7fd\">двадцать </span><span title=\"27 0.0000\" style=\"background-color:#aac7fd\">пять </span><span title=\"28 0.0000\" style=\"background-color:#aac7fd\">миллионов </span><span title=\"29 0.0000\" style=\"background-color:#aac7fd\">) </span><span title=\"30 0.0000\" style=\"background-color:#aac7fd\">рублей </span><span title=\"31 0.0000\" style=\"background-color:#aac7fd\">; </span>"
            ],
            "text/plain": [
              "<IPython.core.display.HTML object>"
            ]
          },
          "metadata": {
            "tags": [
              "id1_content_1",
              "outputarea_id1",
              "user_output"
            ]
          }
        },
        {
          "output_type": "display_data",
          "data": {
            "text/html": [
              "<span title=\"0 0.0000\" style=\"background-color:#aac7fd\">одобрение </span><span title=\"1 0.0000\" style=\"background-color:#aac7fd\">следующих </span><span title=\"2 0.0000\" style=\"background-color:#aac7fd\">действий </span><span title=\"3 0.0000\" style=\"background-color:#aac7fd\">и </span><span title=\"4 0.0000\" style=\"background-color:#aac7fd\">решений </span><span title=\"5 0.0000\" style=\"background-color:#aac7fd\">, </span><span title=\"6 0.0000\" style=\"background-color:#aac7fd\">связанных </span><span title=\"7 0.0000\" style=\"background-color:#aac7fd\">со </span><span title=\"8 0.0000\" style=\"background-color:#aac7fd\">спорами </span><span title=\"9 0.0000\" style=\"background-color:#aac7fd\">общества </span><span title=\"10 0.0000\" style=\"background-color:#aac7fd\">с </span><span title=\"11 0.0000\" style=\"background-color:#aac7fd\">федеральными </span><span title=\"12 0.0000\" style=\"background-color:#aac7fd\">или </span><span title=\"13 0.0000\" style=\"background-color:#aac7fd\">региональными </span><span title=\"14 0.0000\" style=\"background-color:#aac7fd\">органами </span><span title=\"15 0.0000\" style=\"background-color:#aac7fd\">законодательной </span><span title=\"16 0.0000\" style=\"background-color:#aac7fd\">, </span><span title=\"17 0.0000\" style=\"background-color:#aac7fd\">исполнительной </span><span title=\"18 0.0000\" style=\"background-color:#aac7fd\">власти </span><span title=\"19 0.0000\" style=\"background-color:#aac7fd\">российской </span><span title=\"20 0.0000\" style=\"background-color:#aac7fd\">федерации </span><span title=\"21 0.0000\" style=\"background-color:#aac7fd\">, </span><span title=\"22 0.0000\" style=\"background-color:#aac7fd\">или </span><span title=\"23 0.0000\" style=\"background-color:#aac7fd\">органами </span><span title=\"24 0.0000\" style=\"background-color:#aac7fd\">местного </span><span title=\"25 0.0000\" style=\"background-color:#aac7fd\">самоуправления </span><span title=\"26 0.0000\" style=\"background-color:#aac7fd\">( </span><span title=\"27 0.0000\" style=\"background-color:#aac7fd\">далее </span><span title=\"28 0.0000\" style=\"background-color:#aac7fd\">– </span><span title=\"29 0.0000\" style=\"background-color:#aac7fd\">« </span><span title=\"30 0.0000\" style=\"background-color:#aac7fd\">органы </span><span title=\"31 0.0000\" style=\"background-color:#aac7fd\">государственной </span><span title=\"32 0.0000\" style=\"background-color:#aac7fd\">власти </span><span title=\"33 0.0000\" style=\"background-color:#aac7fd\">» </span><span title=\"34 0.0000\" style=\"background-color:#aac7fd\">) </span><span title=\"35 0.0000\" style=\"background-color:#aac7fd\">, </span><span title=\"36 0.0000\" style=\"background-color:#aac7fd\">на </span><span title=\"37 0.0000\" style=\"background-color:#aac7fd\">суммы </span><span title=\"38 0.0000\" style=\"background-color:#aac7fd\">, </span><span title=\"39 0.0000\" style=\"background-color:#aac7fd\">превышающие </span><span title=\"40 0.0000\" style=\"background-color:#aac7fd\">20000000 </span><span title=\"41 0.0000\" style=\"background-color:#aac7fd\">( </span><span title=\"42 0.0000\" style=\"background-color:#aac7fd\">двадцать </span><span title=\"43 0.0000\" style=\"background-color:#aac7fd\">миллионов </span><span title=\"44 0.0000\" style=\"background-color:#aac7fd\">) </span><span title=\"45 0.0000\" style=\"background-color:#aac7fd\">рублей </span><span title=\"46 0.0000\" style=\"background-color:#aac7fd\">, </span><span title=\"47 0.0000\" style=\"background-color:#aac7fd\">а </span><span title=\"48 0.0000\" style=\"background-color:#aac7fd\">также </span><span title=\"49 0.0000\" style=\"background-color:#aac7fd\">со </span><span title=\"50 0.0000\" style=\"background-color:#aac7fd\">спорами </span><span title=\"51 0.0000\" style=\"background-color:#aac7fd\">, </span><span title=\"52 0.0000\" style=\"background-color:#aac7fd\">независимо </span><span title=\"53 0.0000\" style=\"background-color:#aac7fd\">от </span><span title=\"54 0.0000\" style=\"background-color:#aac7fd\">их </span><span title=\"55 0.0000\" style=\"background-color:#aac7fd\">суммы </span><span title=\"56 0.0000\" style=\"background-color:#aac7fd\">, </span><span title=\"57 0.0000\" style=\"background-color:#aac7fd\">между </span><span title=\"58 0.0000\" style=\"background-color:#aac7fd\">обществом </span><span title=\"59 0.0000\" style=\"background-color:#aac7fd\">и </span><span title=\"60 0.0000\" style=\"background-color:#aac7fd\">аффилированными </span><span title=\"61 0.0000\" style=\"background-color:#aac7fd\">лицами </span><span title=\"62 0.0000\" style=\"background-color:#aac7fd\">акционеров </span><span title=\"63 0.0000\" style=\"background-color:#aac7fd\">общества </span><span title=\"64 0.0000\" style=\"background-color:#aac7fd\">, </span><span title=\"65 0.0000\" style=\"background-color:#aac7fd\">членом </span><span title=\"66 0.0000\" style=\"background-color:#aac7fd\">совета </span><span title=\"67 0.0000\" style=\"background-color:#aac7fd\">директоров </span><span title=\"68 0.0000\" style=\"background-color:#aac7fd\">, </span><span title=\"69 0.0000\" style=\"background-color:#aac7fd\">генеральным </span><span title=\"70 0.0000\" style=\"background-color:#aac7fd\">директором </span><span title=\"71 0.0000\" style=\"background-color:#aac7fd\">: </span><span title=\"72 0.0000\" style=\"background-color:#aac7fd\">( </span><span title=\"73 0.0000\" style=\"background-color:#aac7fd\">i </span><span title=\"74 0.0000\" style=\"background-color:#aac7fd\">) </span><span title=\"75 0.0000\" style=\"background-color:#aac7fd\">предъявление </span><span title=\"76 0.0000\" style=\"background-color:#aac7fd\">в </span><span title=\"77 0.0000\" style=\"background-color:#aac7fd\">суд </span><span title=\"78 0.0000\" style=\"background-color:#aac7fd\">исков </span><span title=\"79 0.0000\" style=\"background-color:#aac7fd\">или </span><span title=\"80 0.0000\" style=\"background-color:#aac7fd\">заявлений </span><span title=\"81 0.0000\" style=\"background-color:#aac7fd\">; </span><span title=\"82 0.0000\" style=\"background-color:#aac7fd\">( </span><span title=\"83 0.0000\" style=\"background-color:#aac7fd\">ii </span><span title=\"84 0.0000\" style=\"background-color:#aac7fd\">) </span><span title=\"85 0.0000\" style=\"background-color:#aac7fd\">изменение </span><span title=\"86 0.0000\" style=\"background-color:#aac7fd\">исковых </span><span title=\"87 0.0000\" style=\"background-color:#aac7fd\">требований </span><span title=\"88 0.0000\" style=\"background-color:#aac7fd\">( </span><span title=\"89 0.0000\" style=\"background-color:#aac7fd\">iii </span><span title=\"90 0.0000\" style=\"background-color:#aac7fd\">) </span><span title=\"91 0.0000\" style=\"background-color:#aac7fd\">отказ </span><span title=\"92 0.0000\" style=\"background-color:#aac7fd\">от </span><span title=\"93 0.0000\" style=\"background-color:#aac7fd\">иска </span><span title=\"94 0.0000\" style=\"background-color:#aac7fd\">или </span>"
            ],
            "text/plain": [
              "<IPython.core.display.HTML object>"
            ]
          },
          "metadata": {
            "tags": [
              "id1_content_1",
              "outputarea_id1",
              "user_output"
            ]
          }
        },
        {
          "output_type": "display_data",
          "data": {
            "text/html": [
              "<span title=\"0 0.0000\" style=\"background-color:#aac7fd\">одобрение </span><span title=\"1 0.0000\" style=\"background-color:#aac7fd\">следующих </span><span title=\"2 0.0000\" style=\"background-color:#aac7fd\">действий </span><span title=\"3 0.0000\" style=\"background-color:#aac7fd\">и </span><span title=\"4 0.0000\" style=\"background-color:#aac7fd\">решений </span><span title=\"5 0.0000\" style=\"background-color:#aac7fd\">, </span><span title=\"6 0.0000\" style=\"background-color:#aac7fd\">связанных </span><span title=\"7 0.0000\" style=\"background-color:#aac7fd\">со </span><span title=\"8 0.0000\" style=\"background-color:#aac7fd\">спорами </span><span title=\"9 0.0000\" style=\"background-color:#aac7fd\">общества </span><span title=\"10 0.0000\" style=\"background-color:#aac7fd\">с </span><span title=\"11 0.0000\" style=\"background-color:#aac7fd\">лицами </span><span title=\"12 0.0000\" style=\"background-color:#aac7fd\">, </span><span title=\"13 0.0000\" style=\"background-color:#aac7fd\">которые </span><span title=\"14 0.0000\" style=\"background-color:#aac7fd\">не </span><span title=\"15 0.0000\" style=\"background-color:#aac7fd\">являются </span><span title=\"16 0.0000\" style=\"background-color:#aac7fd\">аффилированными </span><span title=\"17 0.0000\" style=\"background-color:#aac7fd\">лицами </span><span title=\"18 0.0000\" style=\"background-color:#aac7fd\">общества </span><span title=\"19 0.0000\" style=\"background-color:#aac7fd\">, </span><span title=\"20 0.0000\" style=\"background-color:#aac7fd\">на </span><span title=\"21 0.0000\" style=\"background-color:#aac7fd\">суммы </span><span title=\"22 0.0000\" style=\"background-color:#aac7fd\">, </span><span title=\"23 0.0000\" style=\"background-color:#aac7fd\">превышающие </span><span title=\"24 0.0000\" style=\"background-color:#aac7fd\">сумму </span><span title=\"25 0.0000\" style=\"background-color:#aac7fd\">, </span><span title=\"26 0.0000\" style=\"background-color:#aac7fd\">эквивалентную </span><span title=\"27 0.0000\" style=\"background-color:#aac7fd\">25000000 </span><span title=\"28 0.0000\" style=\"background-color:#aac7fd\">( </span><span title=\"29 0.0000\" style=\"background-color:#aac7fd\">двадцати </span><span title=\"30 0.0000\" style=\"background-color:#aac7fd\">пяти </span><span title=\"31 0.0000\" style=\"background-color:#aac7fd\">миллионам </span><span title=\"32 0.0000\" style=\"background-color:#aac7fd\">) </span><span title=\"33 0.0000\" style=\"background-color:#aac7fd\">долларов </span><span title=\"34 0.0000\" style=\"background-color:#aac7fd\">сша </span><span title=\"35 0.0000\" style=\"background-color:#aac7fd\">: </span><span title=\"36 0.0000\" style=\"background-color:#aac7fd\">( </span><span title=\"37 0.0000\" style=\"background-color:#aac7fd\">i </span><span title=\"38 0.0000\" style=\"background-color:#aac7fd\">) </span><span title=\"39 0.0000\" style=\"background-color:#aac7fd\">предъявление </span><span title=\"40 0.0000\" style=\"background-color:#aac7fd\">в </span><span title=\"41 0.0000\" style=\"background-color:#aac7fd\">суд </span><span title=\"42 0.0000\" style=\"background-color:#aac7fd\">исков </span><span title=\"43 0.0000\" style=\"background-color:#aac7fd\">или </span><span title=\"44 0.0000\" style=\"background-color:#aac7fd\">заявлений </span><span title=\"45 0.0000\" style=\"background-color:#aac7fd\">; </span><span title=\"46 0.0000\" style=\"background-color:#aac7fd\">( </span><span title=\"47 0.0000\" style=\"background-color:#aac7fd\">ii </span><span title=\"48 0.0000\" style=\"background-color:#aac7fd\">) </span><span title=\"49 0.0000\" style=\"background-color:#aac7fd\">изменение </span><span title=\"50 0.0000\" style=\"background-color:#aac7fd\">исковых </span><span title=\"51 0.0000\" style=\"background-color:#aac7fd\">требований </span><span title=\"52 0.0000\" style=\"background-color:#aac7fd\">( </span><span title=\"53 0.0000\" style=\"background-color:#aac7fd\">iii </span><span title=\"54 0.0000\" style=\"background-color:#aac7fd\">) </span><span title=\"55 0.0000\" style=\"background-color:#aac7fd\">отказ </span><span title=\"56 0.0000\" style=\"background-color:#aac7fd\">от </span><span title=\"57 0.0000\" style=\"background-color:#aac7fd\">иска </span><span title=\"58 0.0000\" style=\"background-color:#aac7fd\">или </span><span title=\"59 0.0000\" style=\"background-color:#aac7fd\">признание </span><span title=\"60 0.0000\" style=\"background-color:#aac7fd\">иска </span><span title=\"61 0.0000\" style=\"background-color:#aac7fd\">( </span><span title=\"62 0.0000\" style=\"background-color:#aac7fd\">полное </span><span title=\"63 0.0000\" style=\"background-color:#aac7fd\">или </span><span title=\"64 0.0000\" style=\"background-color:#aac7fd\">частичное </span><span title=\"65 0.0000\" style=\"background-color:#aac7fd\">) </span><span title=\"66 0.0000\" style=\"background-color:#aac7fd\">; </span><span title=\"67 0.0000\" style=\"background-color:#aac7fd\">( </span><span title=\"68 0.0000\" style=\"background-color:#aac7fd\">iv </span><span title=\"69 0.0000\" style=\"background-color:#aac7fd\">) </span><span title=\"70 0.0000\" style=\"background-color:#aac7fd\">заключение </span><span title=\"71 0.0000\" style=\"background-color:#aac7fd\">мирового </span><span title=\"72 0.0000\" style=\"background-color:#aac7fd\">соглашения </span><span title=\"73 0.0000\" style=\"background-color:#aac7fd\">или </span><span title=\"74 0.0000\" style=\"background-color:#aac7fd\">соглашения </span><span title=\"75 0.0000\" style=\"background-color:#aac7fd\">по </span><span title=\"76 0.0000\" style=\"background-color:#aac7fd\">фактическим </span><span title=\"77 0.0000\" style=\"background-color:#aac7fd\">обстоятельствам </span><span title=\"78 0.0000\" style=\"background-color:#aac7fd\">; </span><span title=\"79 0.0000\" style=\"background-color:#aac7fd\">( </span><span title=\"80 0.0000\" style=\"background-color:#aac7fd\">v </span><span title=\"81 0.0000\" style=\"background-color:#aac7fd\">) </span><span title=\"82 0.0000\" style=\"background-color:#aac7fd\">передача </span><span title=\"83 0.0000\" style=\"background-color:#aac7fd\">спора </span><span title=\"84 0.0000\" style=\"background-color:#aac7fd\">на </span><span title=\"85 0.0000\" style=\"background-color:#aac7fd\">рассмотрение </span><span title=\"86 0.0000\" style=\"background-color:#aac7fd\">третейского </span><span title=\"87 0.0000\" style=\"background-color:#aac7fd\">суда </span><span title=\"88 0.0000\" style=\"background-color:#aac7fd\">; </span><span title=\"89 0.0000\" style=\"background-color:#aac7fd\">( </span><span title=\"90 0.0000\" style=\"background-color:#aac7fd\">vi </span><span title=\"91 0.0000\" style=\"background-color:#aac7fd\">) </span><span title=\"92 0.0000\" style=\"background-color:#aac7fd\">заключение </span><span title=\"93 0.0000\" style=\"background-color:#aac7fd\">соглашений </span><span title=\"94 0.0000\" style=\"background-color:#aac7fd\">об </span><span title=\"95 0.0000\" style=\"background-color:#aac7fd\">изменении </span><span title=\"96 0.0000\" style=\"background-color:#aac7fd\">подсудности </span><span title=\"97 0.0000\" style=\"background-color:#aac7fd\">; </span>"
            ],
            "text/plain": [
              "<IPython.core.display.HTML object>"
            ]
          },
          "metadata": {
            "tags": [
              "id1_content_1",
              "outputarea_id1",
              "user_output"
            ]
          }
        },
        {
          "output_type": "stream",
          "text": [
            "❤️ ACCOMPLISHED: \t 3.\t Finding margin transaction values in section Статья 19. Компетенция Совета директоров Общества\n",
            "extract_constraint_values_from_section head.all\n",
            "extract_constraint_values_from_section embedding....\n",
            "INFO:tensorflow:Saver not created because there are no variables in the graph to restore\n"
          ],
          "name": "stdout"
        },
        {
          "output_type": "stream",
          "text": [
            "I0418 18:40:24.732755 140221498161024 saver.py:1483] Saver not created because there are no variables in the graph to restore\n"
          ],
          "name": "stderr"
        },
        {
          "output_type": "display_data",
          "data": {
            "text/html": [
              "<span title=\"0 0.0000\" style=\"background-color:#aac7fd\">принятие </span><span title=\"1 0.0000\" style=\"background-color:#aac7fd\">решений </span><span title=\"2 0.0000\" style=\"background-color:#aac7fd\">о </span><span title=\"3 0.0000\" style=\"background-color:#aac7fd\">совершении </span><span title=\"4 0.0000\" style=\"background-color:#aac7fd\">сделок </span><span title=\"5 0.0000\" style=\"background-color:#aac7fd\">( </span><span title=\"6 0.0000\" style=\"background-color:#aac7fd\">в </span><span title=\"7 0.0000\" style=\"background-color:#aac7fd\">том </span><span title=\"8 0.0000\" style=\"background-color:#aac7fd\">числе </span><span title=\"9 0.0000\" style=\"background-color:#aac7fd\">нескольких </span><span title=\"10 0.0000\" style=\"background-color:#aac7fd\">взаимосвязанных </span><span title=\"11 0.0000\" style=\"background-color:#aac7fd\">сделок </span><span title=\"12 0.0000\" style=\"background-color:#aac7fd\">) </span><span title=\"13 0.0000\" style=\"background-color:#aac7fd\">на </span><span title=\"14 0.9332\" style=\"background-color:#c43032\">сумму </span><span title=\"15 0.9419\" style=\"background-color:#c12b30\">, </span><span title=\"16 0.9476\" style=\"background-color:#c0282f\">превышающую </span><span title=\"17 0.9439\" style=\"background-color:#c12b30\">100 </span><span title=\"18 0.9288\" style=\"background-color:#c53334\">000000 </span><span title=\"19 0.8393\" style=\"background-color:#d85646\">( </span><span title=\"20 0.7730\" style=\"background-color:#e36c55\">сто </span><span title=\"21 0.0000\" style=\"background-color:#aac7fd\">миллионов </span><span title=\"22 0.0000\" style=\"background-color:#aac7fd\">) </span><span title=\"23 0.0000\" style=\"background-color:#aac7fd\">рублей </span><span title=\"24 0.0000\" style=\"background-color:#aac7fd\">( </span><span title=\"25 0.0000\" style=\"background-color:#aac7fd\">или </span><span title=\"26 0.0000\" style=\"background-color:#aac7fd\">эквивалент </span><span title=\"27 0.0000\" style=\"background-color:#aac7fd\">указанной </span><span title=\"28 0.0000\" style=\"background-color:#aac7fd\">суммы </span><span title=\"29 0.0000\" style=\"background-color:#aac7fd\">в </span><span title=\"30 0.0000\" style=\"background-color:#aac7fd\">любой </span><span title=\"31 0.0000\" style=\"background-color:#aac7fd\">другой </span><span title=\"32 0.0000\" style=\"background-color:#aac7fd\">валюте </span><span title=\"33 0.0000\" style=\"background-color:#aac7fd\">) </span><span title=\"34 0.0000\" style=\"background-color:#aac7fd\">, </span><span title=\"35 0.0000\" style=\"background-color:#aac7fd\">и </span><span title=\"36 0.0000\" style=\"background-color:#aac7fd\">сделок </span><span title=\"37 0.0000\" style=\"background-color:#aac7fd\">( </span><span title=\"38 0.0000\" style=\"background-color:#aac7fd\">в </span><span title=\"39 0.0000\" style=\"background-color:#aac7fd\">том </span><span title=\"40 0.0000\" style=\"background-color:#aac7fd\">числе </span><span title=\"41 0.0000\" style=\"background-color:#aac7fd\">нескольких </span><span title=\"42 0.0000\" style=\"background-color:#aac7fd\">взаимосвязанных </span><span title=\"43 0.0000\" style=\"background-color:#aac7fd\">сделок </span><span title=\"44 0.0000\" style=\"background-color:#aac7fd\">) </span><span title=\"45 0.0000\" style=\"background-color:#aac7fd\">с </span><span title=\"46 0.0000\" style=\"background-color:#aac7fd\">имуществом </span><span title=\"47 0.0000\" style=\"background-color:#aac7fd\">общества </span><span title=\"48 0.0000\" style=\"background-color:#aac7fd\">, </span><span title=\"49 0.0000\" style=\"background-color:#aac7fd\">стоимость </span><span title=\"50 0.0000\" style=\"background-color:#aac7fd\">которого </span><span title=\"51 0.0000\" style=\"background-color:#aac7fd\">на </span><span title=\"52 0.0000\" style=\"background-color:#aac7fd\">основании </span><span title=\"53 0.0000\" style=\"background-color:#aac7fd\">данных </span><span title=\"54 0.0000\" style=\"background-color:#aac7fd\">бухгалтерской </span><span title=\"55 0.0000\" style=\"background-color:#aac7fd\">отчетности </span><span title=\"56 0.0000\" style=\"background-color:#aac7fd\">общества </span><span title=\"57 0.0000\" style=\"background-color:#aac7fd\">за </span><span title=\"58 0.0000\" style=\"background-color:#aac7fd\">последний </span><span title=\"59 0.0000\" style=\"background-color:#aac7fd\">отчетный </span><span title=\"60 0.0000\" style=\"background-color:#aac7fd\">период </span><span title=\"61 0.0000\" style=\"background-color:#aac7fd\">, </span><span title=\"62 0.0000\" style=\"background-color:#aac7fd\">предшествующий </span><span title=\"63 0.0000\" style=\"background-color:#aac7fd\">дню </span><span title=\"64 0.0000\" style=\"background-color:#aac7fd\">принятия </span><span title=\"65 0.0000\" style=\"background-color:#aac7fd\">решения </span><span title=\"66 0.0000\" style=\"background-color:#aac7fd\">о </span><span title=\"67 0.0000\" style=\"background-color:#aac7fd\">совершении </span><span title=\"68 0.0000\" style=\"background-color:#aac7fd\">таких </span><span title=\"69 0.9527\" style=\"background-color:#c0282f\">сделок </span><span title=\"70 0.9934\" style=\"background-color:#b50927\">, </span><span title=\"71 0.9885\" style=\"background-color:#b50927\">превышает </span><span title=\"72 0.9771\" style=\"background-color:#b8122a\">100 </span><span title=\"73 0.9618\" style=\"background-color:#bd1f2d\">000000 </span><span title=\"74 0.8721\" style=\"background-color:#d1493f\">( </span><span title=\"75 0.8055\" style=\"background-color:#df634e\">сто </span><span title=\"76 0.0000\" style=\"background-color:#aac7fd\">миллионов </span><span title=\"77 0.0000\" style=\"background-color:#aac7fd\">) </span><span title=\"78 0.0000\" style=\"background-color:#aac7fd\">рублей </span><span title=\"79 0.0000\" style=\"background-color:#aac7fd\">( </span><span title=\"80 0.0000\" style=\"background-color:#aac7fd\">или </span><span title=\"81 0.0000\" style=\"background-color:#aac7fd\">эквивалент </span><span title=\"82 0.0000\" style=\"background-color:#aac7fd\">указанной </span><span title=\"83 0.0000\" style=\"background-color:#aac7fd\">суммы </span><span title=\"84 0.0000\" style=\"background-color:#aac7fd\">в </span><span title=\"85 0.0000\" style=\"background-color:#aac7fd\">любой </span><span title=\"86 0.0000\" style=\"background-color:#aac7fd\">другой </span><span title=\"87 0.0000\" style=\"background-color:#aac7fd\">валюте </span><span title=\"88 0.0000\" style=\"background-color:#aac7fd\">) </span><span title=\"89 0.0000\" style=\"background-color:#aac7fd\">, </span><span title=\"90 0.0000\" style=\"background-color:#aac7fd\">за </span><span title=\"91 0.0000\" style=\"background-color:#aac7fd\">исключением </span><span title=\"92 0.0000\" style=\"background-color:#aac7fd\">сделок </span><span title=\"93 0.0000\" style=\"background-color:#aac7fd\">, </span><span title=\"94 0.0000\" style=\"background-color:#aac7fd\">совершаемых </span><span title=\"95 0.0000\" style=\"background-color:#aac7fd\">в </span><span title=\"96 0.0000\" style=\"background-color:#aac7fd\">процессе </span><span title=\"97 0.0000\" style=\"background-color:#aac7fd\">обычной </span><span title=\"98 0.0000\" style=\"background-color:#aac7fd\">хозяйственной </span><span title=\"99 0.0000\" style=\"background-color:#aac7fd\">деятельности </span><span title=\"100 0.0000\" style=\"background-color:#aac7fd\">общества </span><span title=\"101 0.0000\" style=\"background-color:#aac7fd\">, </span><span title=\"102 0.0000\" style=\"background-color:#aac7fd\">а </span><span title=\"103 0.0000\" style=\"background-color:#aac7fd\">также </span><span title=\"104 0.0000\" style=\"background-color:#aac7fd\">за </span><span title=\"105 0.0000\" style=\"background-color:#aac7fd\">исключением </span><span title=\"106 0.0000\" style=\"background-color:#aac7fd\">сделок </span><span title=\"107 0.0000\" style=\"background-color:#aac7fd\">с </span><span title=\"108 0.0000\" style=\"background-color:#aac7fd\">пао </span><span title=\"109 0.0000\" style=\"background-color:#aac7fd\">« </span><span title=\"110 0.0000\" style=\"background-color:#aac7fd\">газпром </span><span title=\"111 0.0000\" style=\"background-color:#aac7fd\">нефть </span><span title=\"112 0.0000\" style=\"background-color:#aac7fd\">» </span><span title=\"113 0.0000\" style=\"background-color:#aac7fd\">и </span><span title=\"114 0.0000\" style=\"background-color:#aac7fd\">обществами </span><span title=\"115 0.0000\" style=\"background-color:#aac7fd\">, </span><span title=\"116 0.0000\" style=\"background-color:#aac7fd\">входящими </span><span title=\"117 0.0000\" style=\"background-color:#aac7fd\">в </span><span title=\"118 0.0000\" style=\"background-color:#aac7fd\">группу </span><span title=\"119 0.0000\" style=\"background-color:#aac7fd\">лиц </span><span title=\"120 0.0000\" style=\"background-color:#aac7fd\">с </span><span title=\"121 0.0000\" style=\"background-color:#aac7fd\">ним </span><span title=\"122 0.0000\" style=\"background-color:#aac7fd\">, </span><span title=\"123 0.0000\" style=\"background-color:#aac7fd\">когда </span><span title=\"124 0.0000\" style=\"background-color:#aac7fd\">такая </span><span title=\"125 0.0000\" style=\"background-color:#aac7fd\">сделка </span><span title=\"126 0.0000\" style=\"background-color:#aac7fd\">или </span><span title=\"127 0.0000\" style=\"background-color:#aac7fd\">несколько </span><span title=\"128 0.0000\" style=\"background-color:#aac7fd\">взаимосвязанных </span><span title=\"129 0.0000\" style=\"background-color:#aac7fd\">сделок </span><span title=\"130 0.0000\" style=\"background-color:#aac7fd\">является </span><span title=\"131 0.0000\" style=\"background-color:#aac7fd\">( </span><span title=\"132 0.0000\" style=\"background-color:#aac7fd\">-ются </span><span title=\"133 0.0000\" style=\"background-color:#aac7fd\">) </span><span title=\"134 0.0000\" style=\"background-color:#aac7fd\">сделкой </span><span title=\"135 0.0000\" style=\"background-color:#aac7fd\">, </span><span title=\"136 0.0000\" style=\"background-color:#aac7fd\">в </span><span title=\"137 0.0000\" style=\"background-color:#aac7fd\">совершении </span><span title=\"138 0.0000\" style=\"background-color:#aac7fd\">которой </span><span title=\"139 0.0000\" style=\"background-color:#aac7fd\">имеется </span><span title=\"140 0.0000\" style=\"background-color:#aac7fd\">заинтересованность </span><span title=\"141 0.0000\" style=\"background-color:#aac7fd\">) </span><span title=\"142 0.0000\" style=\"background-color:#aac7fd\">; </span>"
            ],
            "text/plain": [
              "<IPython.core.display.HTML object>"
            ]
          },
          "metadata": {
            "tags": [
              "id1_content_1",
              "outputarea_id1",
              "user_output"
            ]
          }
        },
        {
          "output_type": "stream",
          "text": [
            "❤️ ACCOMPLISHED: \t 4.\t Finding margin transaction values in section Статья 14. Компетенция Общего собрания акционеров Общества\n",
            "extract_constraint_values_from_section head.gen\n",
            "extract_constraint_values_from_section embedding....\n",
            "INFO:tensorflow:Saver not created because there are no variables in the graph to restore\n"
          ],
          "name": "stdout"
        },
        {
          "output_type": "stream",
          "text": [
            "I0418 18:40:29.544645 140221498161024 saver.py:1483] Saver not created because there are no variables in the graph to restore\n"
          ],
          "name": "stderr"
        },
        {
          "output_type": "display_data",
          "data": {
            "text/html": [
              "<span title=\"0 0.0000\" style=\"background-color:#aac7fd\">заключение </span><span title=\"1 0.0000\" style=\"background-color:#aac7fd\">договоров </span><span title=\"2 0.0000\" style=\"background-color:#aac7fd\">займа </span><span title=\"3 0.0000\" style=\"background-color:#aac7fd\">, </span><span title=\"4 0.0000\" style=\"background-color:#aac7fd\">кредита </span><span title=\"5 0.0000\" style=\"background-color:#aac7fd\">, </span><span title=\"6 0.0000\" style=\"background-color:#aac7fd\">а </span><span title=\"7 0.0000\" style=\"background-color:#aac7fd\">также </span><span title=\"8 0.0000\" style=\"background-color:#aac7fd\">иных </span><span title=\"9 0.0000\" style=\"background-color:#aac7fd\">сделок </span><span title=\"10 0.0000\" style=\"background-color:#aac7fd\">, </span><span title=\"11 0.0000\" style=\"background-color:#aac7fd\">направленных </span><span title=\"12 0.0000\" style=\"background-color:#aac7fd\">на </span><span title=\"13 0.0000\" style=\"background-color:#aac7fd\">привлечение </span><span title=\"14 0.0000\" style=\"background-color:#aac7fd\">финансирования </span><span title=\"15 0.0000\" style=\"background-color:#aac7fd\">общества </span><span title=\"16 0.0000\" style=\"background-color:#aac7fd\">, </span><span title=\"17 0.0000\" style=\"background-color:#aac7fd\">если </span><span title=\"18 0.0000\" style=\"background-color:#aac7fd\">сумма </span><span title=\"19 0.0000\" style=\"background-color:#aac7fd\">каждой </span><span title=\"20 0.0000\" style=\"background-color:#aac7fd\">сделки </span><span title=\"21 0.0000\" style=\"background-color:#aac7fd\">или </span><span title=\"22 0.0000\" style=\"background-color:#aac7fd\">нескольких </span><span title=\"23 0.0000\" style=\"background-color:#aac7fd\">взаимосвязанных </span><span title=\"24 0.0000\" style=\"background-color:#aac7fd\">сделок </span><span title=\"25 0.0000\" style=\"background-color:#aac7fd\">в </span><span title=\"26 0.9664\" style=\"background-color:#bb1b2c\">совокупности </span><span title=\"27 0.9760\" style=\"background-color:#ba162b\">составляет </span><span title=\"28 0.9727\" style=\"background-color:#ba162b\">не </span><span title=\"29 0.9673\" style=\"background-color:#bb1b2c\">более </span><span title=\"30 0.8896\" style=\"background-color:#cd423b\">суммы </span><span title=\"31 0.9268\" style=\"background-color:#c53334\">, </span><span title=\"32 0.8469\" style=\"background-color:#d75445\">эквивалентной </span><span title=\"33 0.9320\" style=\"background-color:#c43032\">25000000 </span><span title=\"34 0.8425\" style=\"background-color:#d75445\">( </span><span title=\"35 0.7761\" style=\"background-color:#e36c55\">двадцати </span><span title=\"36 0.8903\" style=\"background-color:#cd423b\">пяти </span><span title=\"37 0.8025\" style=\"background-color:#df634e\">миллионам </span><span title=\"38 0.0000\" style=\"background-color:#aac7fd\">) </span><span title=\"39 0.0000\" style=\"background-color:#aac7fd\">долларов </span><span title=\"40 0.0000\" style=\"background-color:#aac7fd\">сша </span><span title=\"41 0.0000\" style=\"background-color:#aac7fd\">по </span><span title=\"42 0.0000\" style=\"background-color:#aac7fd\">курсу </span><span title=\"43 0.0000\" style=\"background-color:#aac7fd\">банка </span><span title=\"44 0.0000\" style=\"background-color:#aac7fd\">россии </span><span title=\"45 0.0000\" style=\"background-color:#aac7fd\">на </span><span title=\"46 0.0000\" style=\"background-color:#aac7fd\">дату </span><span title=\"47 0.0000\" style=\"background-color:#aac7fd\">подписания </span><span title=\"48 0.0000\" style=\"background-color:#aac7fd\">такой </span><span title=\"49 0.0000\" style=\"background-color:#aac7fd\">сделки </span><span title=\"50 0.0000\" style=\"background-color:#aac7fd\">( </span><span title=\"51 0.0000\" style=\"background-color:#aac7fd\">или </span><span title=\"52 0.0000\" style=\"background-color:#aac7fd\">на </span><span title=\"53 0.0000\" style=\"background-color:#aac7fd\">дату </span><span title=\"54 0.0000\" style=\"background-color:#aac7fd\">подписания </span><span title=\"55 0.0000\" style=\"background-color:#aac7fd\">каждой </span><span title=\"56 0.0000\" style=\"background-color:#aac7fd\">из </span><span title=\"57 0.0000\" style=\"background-color:#aac7fd\">взаимосвязанных </span><span title=\"58 0.0000\" style=\"background-color:#aac7fd\">сделок </span><span title=\"59 0.0000\" style=\"background-color:#aac7fd\">) </span><span title=\"60 0.0000\" style=\"background-color:#aac7fd\">; </span>"
            ],
            "text/plain": [
              "<IPython.core.display.HTML object>"
            ]
          },
          "metadata": {
            "tags": [
              "id1_content_1",
              "outputarea_id1",
              "user_output"
            ]
          }
        },
        {
          "output_type": "display_data",
          "data": {
            "text/html": [
              "<span title=\"0 0.0000\" style=\"background-color:#aac7fd\">заключение </span><span title=\"1 0.0000\" style=\"background-color:#aac7fd\">сделки </span><span title=\"2 0.0000\" style=\"background-color:#aac7fd\">или </span><span title=\"3 0.0000\" style=\"background-color:#aac7fd\">нескольких </span><span title=\"4 0.0000\" style=\"background-color:#aac7fd\">взаимосвязанных </span><span title=\"5 0.0000\" style=\"background-color:#aac7fd\">сделок </span><span title=\"6 0.0000\" style=\"background-color:#aac7fd\">( </span><span title=\"7 0.0000\" style=\"background-color:#aac7fd\">за </span><span title=\"8 0.0000\" style=\"background-color:#aac7fd\">исключением </span><span title=\"9 0.0000\" style=\"background-color:#aac7fd\">сделок </span><span title=\"10 0.0000\" style=\"background-color:#aac7fd\">, </span><span title=\"11 0.0000\" style=\"background-color:#aac7fd\">указанных </span><span title=\"12 0.0000\" style=\"background-color:#aac7fd\">в </span><span title=\"13 0.0000\" style=\"background-color:#aac7fd\">пунктах </span><span title=\"14 0.0000\" style=\"background-color:#aac7fd\">11 </span><span title=\"15 0.0000\" style=\"background-color:#aac7fd\">, </span><span title=\"16 0.0000\" style=\"background-color:#aac7fd\">37 </span><span title=\"17 0.0000\" style=\"background-color:#aac7fd\">– </span><span title=\"18 0.0000\" style=\"background-color:#aac7fd\">40 </span><span title=\"19 0.0000\" style=\"background-color:#aac7fd\">и </span><span title=\"20 0.0000\" style=\"background-color:#aac7fd\">45 </span><span title=\"21 0.0000\" style=\"background-color:#aac7fd\">статьи </span><span title=\"22 0.0000\" style=\"background-color:#aac7fd\">19.1 </span><span title=\"23 0.0000\" style=\"background-color:#aac7fd\">и </span><span title=\"24 0.0000\" style=\"background-color:#aac7fd\">в </span><span title=\"25 0.0000\" style=\"background-color:#aac7fd\">пункте </span><span title=\"26 0.0000\" style=\"background-color:#aac7fd\">18 </span><span title=\"27 0.0000\" style=\"background-color:#aac7fd\">статьи </span><span title=\"28 0.0000\" style=\"background-color:#aac7fd\">14.1 </span><span title=\"29 0.0000\" style=\"background-color:#aac7fd\">настоящего </span><span title=\"30 0.0000\" style=\"background-color:#aac7fd\">устава </span><span title=\"31 0.0000\" style=\"background-color:#aac7fd\">) </span><span title=\"32 0.0000\" style=\"background-color:#aac7fd\">, </span><span title=\"33 0.0000\" style=\"background-color:#aac7fd\">если </span><span title=\"34 0.0000\" style=\"background-color:#aac7fd\">сумма </span><span title=\"35 0.0000\" style=\"background-color:#aac7fd\">сделки </span><span title=\"36 0.0000\" style=\"background-color:#aac7fd\">или </span><span title=\"37 0.0000\" style=\"background-color:#aac7fd\">балансовая </span><span title=\"38 0.0000\" style=\"background-color:#aac7fd\">стоимость </span><span title=\"39 0.0000\" style=\"background-color:#aac7fd\">имущества </span><span title=\"40 0.0000\" style=\"background-color:#aac7fd\">, </span><span title=\"41 0.0000\" style=\"background-color:#aac7fd\">являющегося </span><span title=\"42 0.0000\" style=\"background-color:#aac7fd\">предметом </span><span title=\"43 0.0000\" style=\"background-color:#aac7fd\">такой </span><span title=\"44 0.0000\" style=\"background-color:#aac7fd\">сделки </span><span title=\"45 0.9838\" style=\"background-color:#b70d28\">, </span><span title=\"46 0.9913\" style=\"background-color:#b50927\">не </span><span title=\"47 0.9559\" style=\"background-color:#be242e\">превышает </span><span title=\"48 0.8876\" style=\"background-color:#cf453c\">сумму </span><span title=\"49 0.8387\" style=\"background-color:#d85646\">, </span><span title=\"50 0.7911\" style=\"background-color:#e16751\">эквивалентную </span><span title=\"51 0.9516\" style=\"background-color:#c0282f\">25000000 </span><span title=\"52 0.8620\" style=\"background-color:#d44e41\">( </span><span title=\"53 0.7955\" style=\"background-color:#e0654f\">двадцати </span><span title=\"54 0.9095\" style=\"background-color:#ca3b37\">пяти </span><span title=\"55 0.8216\" style=\"background-color:#dc5d4a\">миллионам </span><span title=\"56 0.0000\" style=\"background-color:#aac7fd\">) </span><span title=\"57 0.0000\" style=\"background-color:#aac7fd\">долларов </span><span title=\"58 0.0000\" style=\"background-color:#aac7fd\">сша </span><span title=\"59 0.0000\" style=\"background-color:#aac7fd\">по </span><span title=\"60 0.0000\" style=\"background-color:#aac7fd\">курсу </span><span title=\"61 0.0000\" style=\"background-color:#aac7fd\">банка </span><span title=\"62 0.0000\" style=\"background-color:#aac7fd\">россии </span><span title=\"63 0.0000\" style=\"background-color:#aac7fd\">на </span><span title=\"64 0.0000\" style=\"background-color:#aac7fd\">дату </span><span title=\"65 0.0000\" style=\"background-color:#aac7fd\">подписания </span><span title=\"66 0.0000\" style=\"background-color:#aac7fd\">такой </span><span title=\"67 0.0000\" style=\"background-color:#aac7fd\">сделки </span><span title=\"68 0.0000\" style=\"background-color:#aac7fd\">( </span><span title=\"69 0.0000\" style=\"background-color:#aac7fd\">или </span><span title=\"70 0.0000\" style=\"background-color:#aac7fd\">в </span><span title=\"71 0.0000\" style=\"background-color:#aac7fd\">совокупности </span><span title=\"72 0.0000\" style=\"background-color:#aac7fd\">по </span><span title=\"73 0.0000\" style=\"background-color:#aac7fd\">сумме </span><span title=\"74 0.0000\" style=\"background-color:#aac7fd\">взаимосвязанных </span><span title=\"75 0.0000\" style=\"background-color:#aac7fd\">сделок </span><span title=\"76 0.0000\" style=\"background-color:#aac7fd\">на </span><span title=\"77 0.0000\" style=\"background-color:#aac7fd\">дату </span><span title=\"78 0.0000\" style=\"background-color:#aac7fd\">подписания </span><span title=\"79 0.0000\" style=\"background-color:#aac7fd\">каждой </span><span title=\"80 0.0000\" style=\"background-color:#aac7fd\">из </span><span title=\"81 0.0000\" style=\"background-color:#aac7fd\">них </span><span title=\"82 0.0000\" style=\"background-color:#aac7fd\">) </span><span title=\"83 0.0000\" style=\"background-color:#aac7fd\">; </span>"
            ],
            "text/plain": [
              "<IPython.core.display.HTML object>"
            ]
          },
          "metadata": {
            "tags": [
              "id1_content_1",
              "outputarea_id1",
              "user_output"
            ]
          }
        },
        {
          "output_type": "display_data",
          "data": {
            "text/html": [
              "<span title=\"0 0.0000\" style=\"background-color:#aac7fd\">принятие </span><span title=\"1 0.0000\" style=\"background-color:#aac7fd\">решения </span><span title=\"2 0.0000\" style=\"background-color:#aac7fd\">об </span><span title=\"3 0.0000\" style=\"background-color:#aac7fd\">осуществлении </span><span title=\"4 0.0000\" style=\"background-color:#aac7fd\">следующих </span><span title=\"5 0.0000\" style=\"background-color:#aac7fd\">действий </span><span title=\"6 0.0000\" style=\"background-color:#aac7fd\">и </span><span title=\"7 0.0000\" style=\"background-color:#aac7fd\">решений </span><span title=\"8 0.0000\" style=\"background-color:#aac7fd\">, </span><span title=\"9 0.0000\" style=\"background-color:#aac7fd\">связанных </span><span title=\"10 0.0000\" style=\"background-color:#aac7fd\">со </span><span title=\"11 0.0000\" style=\"background-color:#aac7fd\">спорами </span><span title=\"12 0.0000\" style=\"background-color:#aac7fd\">общества </span><span title=\"13 0.0000\" style=\"background-color:#aac7fd\">с </span><span title=\"14 0.0000\" style=\"background-color:#aac7fd\">органами </span><span title=\"15 0.0000\" style=\"background-color:#aac7fd\">государственной </span><span title=\"16 0.0000\" style=\"background-color:#aac7fd\">власти </span><span title=\"17 0.0000\" style=\"background-color:#aac7fd\">, </span><span title=\"18 0.0000\" style=\"background-color:#aac7fd\">на </span><span title=\"19 0.0000\" style=\"background-color:#aac7fd\">суммы </span><span title=\"20 0.0000\" style=\"background-color:#aac7fd\">, </span><span title=\"21 0.0000\" style=\"background-color:#aac7fd\">не </span><span title=\"22 0.0000\" style=\"background-color:#aac7fd\">превышающие </span><span title=\"23 0.0000\" style=\"background-color:#aac7fd\">20000000 </span><span title=\"24 0.0000\" style=\"background-color:#aac7fd\">( </span><span title=\"25 0.0000\" style=\"background-color:#aac7fd\">двадцать </span><span title=\"26 0.0000\" style=\"background-color:#aac7fd\">миллионов </span><span title=\"27 0.0000\" style=\"background-color:#aac7fd\">) </span><span title=\"28 0.0000\" style=\"background-color:#aac7fd\">рублей </span><span title=\"29 0.0000\" style=\"background-color:#aac7fd\">: </span><span title=\"30 0.0000\" style=\"background-color:#aac7fd\">( </span><span title=\"31 0.0000\" style=\"background-color:#aac7fd\">i </span><span title=\"32 0.0000\" style=\"background-color:#aac7fd\">) </span><span title=\"33 0.0000\" style=\"background-color:#aac7fd\">предъявление </span><span title=\"34 0.0000\" style=\"background-color:#aac7fd\">в </span><span title=\"35 0.0000\" style=\"background-color:#aac7fd\">суд </span><span title=\"36 0.0000\" style=\"background-color:#aac7fd\">исков </span><span title=\"37 0.0000\" style=\"background-color:#aac7fd\">или </span><span title=\"38 0.0000\" style=\"background-color:#aac7fd\">заявлений </span><span title=\"39 0.0000\" style=\"background-color:#aac7fd\">; </span><span title=\"40 0.0000\" style=\"background-color:#aac7fd\">( </span><span title=\"41 0.0000\" style=\"background-color:#aac7fd\">ii </span><span title=\"42 0.0000\" style=\"background-color:#aac7fd\">) </span><span title=\"43 0.0000\" style=\"background-color:#aac7fd\">изменение </span><span title=\"44 0.0000\" style=\"background-color:#aac7fd\">исковых </span><span title=\"45 0.0000\" style=\"background-color:#aac7fd\">требований </span><span title=\"46 0.0000\" style=\"background-color:#aac7fd\">; </span><span title=\"47 0.0000\" style=\"background-color:#aac7fd\">( </span><span title=\"48 0.0000\" style=\"background-color:#aac7fd\">iii </span><span title=\"49 0.0000\" style=\"background-color:#aac7fd\">) </span><span title=\"50 0.0000\" style=\"background-color:#aac7fd\">отказ </span><span title=\"51 0.0000\" style=\"background-color:#aac7fd\">от </span><span title=\"52 0.0000\" style=\"background-color:#aac7fd\">иска </span><span title=\"53 0.0000\" style=\"background-color:#aac7fd\">или </span><span title=\"54 0.0000\" style=\"background-color:#aac7fd\">признание </span><span title=\"55 0.0000\" style=\"background-color:#aac7fd\">иска </span><span title=\"56 0.0000\" style=\"background-color:#aac7fd\">( </span><span title=\"57 0.0000\" style=\"background-color:#aac7fd\">полное </span><span title=\"58 0.0000\" style=\"background-color:#aac7fd\">или </span><span title=\"59 0.0000\" style=\"background-color:#aac7fd\">частичное </span><span title=\"60 0.0000\" style=\"background-color:#aac7fd\">) </span><span title=\"61 0.0000\" style=\"background-color:#aac7fd\">; </span>"
            ],
            "text/plain": [
              "<IPython.core.display.HTML object>"
            ]
          },
          "metadata": {
            "tags": [
              "id1_content_1",
              "outputarea_id1",
              "user_output"
            ]
          }
        },
        {
          "output_type": "display_data",
          "data": {
            "text/html": [
              "<span title=\"0 0.0000\" style=\"background-color:#aac7fd\">принятие </span><span title=\"1 0.0000\" style=\"background-color:#aac7fd\">решения </span><span title=\"2 0.0000\" style=\"background-color:#aac7fd\">об </span><span title=\"3 0.0000\" style=\"background-color:#aac7fd\">осуществлении </span><span title=\"4 0.0000\" style=\"background-color:#aac7fd\">следующих </span><span title=\"5 0.0000\" style=\"background-color:#aac7fd\">действий </span><span title=\"6 0.0000\" style=\"background-color:#aac7fd\">и </span><span title=\"7 0.0000\" style=\"background-color:#aac7fd\">решений </span><span title=\"8 0.0000\" style=\"background-color:#aac7fd\">, </span><span title=\"9 0.0000\" style=\"background-color:#aac7fd\">связанных </span><span title=\"10 0.0000\" style=\"background-color:#aac7fd\">со </span><span title=\"11 0.0000\" style=\"background-color:#aac7fd\">спорами </span><span title=\"12 0.0000\" style=\"background-color:#aac7fd\">общества </span><span title=\"13 0.0000\" style=\"background-color:#aac7fd\">с </span><span title=\"14 0.0000\" style=\"background-color:#aac7fd\">лицами </span><span title=\"15 0.0000\" style=\"background-color:#aac7fd\">, </span><span title=\"16 0.0000\" style=\"background-color:#aac7fd\">которые </span><span title=\"17 0.0000\" style=\"background-color:#aac7fd\">не </span><span title=\"18 0.0000\" style=\"background-color:#aac7fd\">являются </span><span title=\"19 0.0000\" style=\"background-color:#aac7fd\">аффилированными </span><span title=\"20 0.0000\" style=\"background-color:#aac7fd\">лицами </span><span title=\"21 0.0000\" style=\"background-color:#aac7fd\">общества </span><span title=\"22 0.0000\" style=\"background-color:#aac7fd\">, </span><span title=\"23 0.0000\" style=\"background-color:#aac7fd\">на </span><span title=\"24 0.0000\" style=\"background-color:#aac7fd\">суммы </span><span title=\"25 0.0000\" style=\"background-color:#aac7fd\">, </span><span title=\"26 0.0000\" style=\"background-color:#aac7fd\">не </span><span title=\"27 0.0000\" style=\"background-color:#aac7fd\">превышающие </span><span title=\"28 0.0000\" style=\"background-color:#aac7fd\">сумму </span><span title=\"29 0.0000\" style=\"background-color:#aac7fd\">, </span><span title=\"30 0.0000\" style=\"background-color:#aac7fd\">эквивалентную </span><span title=\"31 0.0000\" style=\"background-color:#aac7fd\">25000000 </span><span title=\"32 0.0000\" style=\"background-color:#aac7fd\">( </span><span title=\"33 0.0000\" style=\"background-color:#aac7fd\">двадцати </span><span title=\"34 0.0000\" style=\"background-color:#aac7fd\">пяти </span><span title=\"35 0.0000\" style=\"background-color:#aac7fd\">миллионам </span><span title=\"36 0.0000\" style=\"background-color:#aac7fd\">) </span><span title=\"37 0.0000\" style=\"background-color:#aac7fd\">долларов </span><span title=\"38 0.0000\" style=\"background-color:#aac7fd\">сша </span><span title=\"39 0.0000\" style=\"background-color:#aac7fd\">по </span><span title=\"40 0.0000\" style=\"background-color:#aac7fd\">курсу </span><span title=\"41 0.0000\" style=\"background-color:#aac7fd\">цб </span><span title=\"42 0.0000\" style=\"background-color:#aac7fd\">рф </span><span title=\"43 0.0000\" style=\"background-color:#aac7fd\">на </span><span title=\"44 0.0000\" style=\"background-color:#aac7fd\">дату </span><span title=\"45 0.0000\" style=\"background-color:#aac7fd\">совершения </span><span title=\"46 0.0000\" style=\"background-color:#aac7fd\">такого </span><span title=\"47 0.0000\" style=\"background-color:#aac7fd\">действия </span><span title=\"48 0.0000\" style=\"background-color:#aac7fd\">: </span><span title=\"49 0.0000\" style=\"background-color:#aac7fd\">( </span><span title=\"50 0.0000\" style=\"background-color:#aac7fd\">i </span><span title=\"51 0.0000\" style=\"background-color:#aac7fd\">) </span><span title=\"52 0.0000\" style=\"background-color:#aac7fd\">предъявление </span><span title=\"53 0.0000\" style=\"background-color:#aac7fd\">в </span><span title=\"54 0.0000\" style=\"background-color:#aac7fd\">суд </span><span title=\"55 0.0000\" style=\"background-color:#aac7fd\">исков </span><span title=\"56 0.0000\" style=\"background-color:#aac7fd\">или </span><span title=\"57 0.0000\" style=\"background-color:#aac7fd\">заявлений </span><span title=\"58 0.0000\" style=\"background-color:#aac7fd\">; </span><span title=\"59 0.0000\" style=\"background-color:#aac7fd\">( </span><span title=\"60 0.0000\" style=\"background-color:#aac7fd\">ii </span><span title=\"61 0.0000\" style=\"background-color:#aac7fd\">) </span><span title=\"62 0.0000\" style=\"background-color:#aac7fd\">изменение </span><span title=\"63 0.0000\" style=\"background-color:#aac7fd\">исковых </span><span title=\"64 0.0000\" style=\"background-color:#aac7fd\">требований </span><span title=\"65 0.0000\" style=\"background-color:#aac7fd\">; </span><span title=\"66 0.0000\" style=\"background-color:#aac7fd\">( </span><span title=\"67 0.0000\" style=\"background-color:#aac7fd\">iii </span><span title=\"68 0.0000\" style=\"background-color:#aac7fd\">) </span><span title=\"69 0.0000\" style=\"background-color:#aac7fd\">отказ </span><span title=\"70 0.0000\" style=\"background-color:#aac7fd\">от </span><span title=\"71 0.0000\" style=\"background-color:#aac7fd\">иска </span><span title=\"72 0.0000\" style=\"background-color:#aac7fd\">или </span><span title=\"73 0.0000\" style=\"background-color:#aac7fd\">признание </span><span title=\"74 0.0000\" style=\"background-color:#aac7fd\">иска </span><span title=\"75 0.0000\" style=\"background-color:#aac7fd\">( </span><span title=\"76 0.0000\" style=\"background-color:#aac7fd\">полное </span><span title=\"77 0.0000\" style=\"background-color:#aac7fd\">или </span><span title=\"78 0.0000\" style=\"background-color:#aac7fd\">частичное </span><span title=\"79 0.0000\" style=\"background-color:#aac7fd\">) </span><span title=\"80 0.0000\" style=\"background-color:#aac7fd\">; </span><span title=\"81 0.0000\" style=\"background-color:#aac7fd\">( </span><span title=\"82 0.0000\" style=\"background-color:#aac7fd\">iv </span><span title=\"83 0.0000\" style=\"background-color:#aac7fd\">) </span><span title=\"84 0.0000\" style=\"background-color:#aac7fd\">заключение </span><span title=\"85 0.0000\" style=\"background-color:#aac7fd\">мирового </span><span title=\"86 0.0000\" style=\"background-color:#aac7fd\">соглашения </span><span title=\"87 0.0000\" style=\"background-color:#aac7fd\">или </span><span title=\"88 0.0000\" style=\"background-color:#aac7fd\">соглашения </span><span title=\"89 0.0000\" style=\"background-color:#aac7fd\">по </span><span title=\"90 0.0000\" style=\"background-color:#aac7fd\">фактическим </span><span title=\"91 0.0000\" style=\"background-color:#aac7fd\">обстоятельствам </span><span title=\"92 0.0000\" style=\"background-color:#aac7fd\">; </span><span title=\"93 0.0000\" style=\"background-color:#aac7fd\">( </span><span title=\"94 0.0000\" style=\"background-color:#aac7fd\">v </span><span title=\"95 0.0000\" style=\"background-color:#aac7fd\">) </span><span title=\"96 0.0000\" style=\"background-color:#aac7fd\">передача </span><span title=\"97 0.0000\" style=\"background-color:#aac7fd\">спора </span><span title=\"98 0.0000\" style=\"background-color:#aac7fd\">на </span><span title=\"99 0.0000\" style=\"background-color:#aac7fd\">рассмотрение </span><span title=\"100 0.0000\" style=\"background-color:#aac7fd\">третейского </span><span title=\"101 0.0000\" style=\"background-color:#aac7fd\">суда </span><span title=\"102 0.0000\" style=\"background-color:#aac7fd\">; </span><span title=\"103 0.0000\" style=\"background-color:#aac7fd\">( </span><span title=\"104 0.0000\" style=\"background-color:#aac7fd\">vi </span><span title=\"105 0.0000\" style=\"background-color:#aac7fd\">) </span><span title=\"106 0.0000\" style=\"background-color:#aac7fd\">заключение </span><span title=\"107 0.0000\" style=\"background-color:#aac7fd\">соглашений </span><span title=\"108 0.0000\" style=\"background-color:#aac7fd\">об </span><span title=\"109 0.0000\" style=\"background-color:#aac7fd\">изменении </span><span title=\"110 0.0000\" style=\"background-color:#aac7fd\">подсудности </span><span title=\"111 0.0000\" style=\"background-color:#aac7fd\">; </span>"
            ],
            "text/plain": [
              "<IPython.core.display.HTML object>"
            ]
          },
          "metadata": {
            "tags": [
              "id1_content_1",
              "outputarea_id1",
              "user_output"
            ]
          }
        },
        {
          "output_type": "stream",
          "text": [
            "❤️ ACCOMPLISHED: \t 5.\t Finding margin transaction values in section Статья 22. Генеральный директор Общества\n",
            "❤️ ACCOMPLISHED: \t 6.\t Finding margin transaction values\n"
          ],
          "name": "stdout"
        },
        {
          "output_type": "display_data",
          "data": {
            "text/html": [
              "<h3>Выявленное Содержание документа</h4><ul><li> УТВЕРЖДЕН. <sup>line 0</sup></li><li> У С Т А В. <sup>line 16</sup></li><li> ОГЛАВЛЕНИЕ. <sup>line 39</sup></li><li> Статья 7. Уставный капитал Общества. Размещенные и объявленные акции. Вклады в имущество общества, не увеличивающие уставный <sup>line 46</sup></li><li> Статья 8. Облигации и иные эмиссионные ценные бумаги Общества 7 <sup>line 48</sup></li><li> Статья 10. Фонды Общества 8 <sup>line 50</sup></li><li> Статья 16. Предложения в повестку дня, информация о проведении <sup>line 56</sup></li><li> Статья 17. Участие и голосование на Общем собрании акционеров, <sup>line 58</sup></li><li> Статья 18. Совет директоров Общества 14 <sup>line 60</sup></li><li> Статья 21. Заседания Совета директоров Общества 21 <sup>line 63</sup></li><li> Статья 24. Ревизионная комиссия Общества 27 <sup>line 66</sup></li><li> Статья 1. Общие положения <sup>line 69</sup></li><li> Статья 2. Фирменное наименование и место нахождения Общества <sup>line 75</sup></li><li> Статья 3. Юридический статус Общества <sup>line 83</sup></li><li> Статья 4. Ответственность Общества <sup>line 99</sup></li><li> Статья 5. Филиалы и представительства, дочерние и зависимые общества <sup>line 105</sup></li><li> Статья 6. Цель создания и основные виды деятельности Общества <sup>line 114</sup></li><li> Статья 7. Уставный капитал Общества. Размещенные и объявленные акции. Вклады в имущество общества, не увеличивающие уставный капитал <sup>line 131</sup></li><li> Статья 8. Облигации и иные эмиссионные ценные бумаги Общества <sup>line 146</sup></li><li> Статья 9. Права и обязанности акционеров Общества <sup>line 150</sup></li><li> Статья 10. Фонды Общества <sup>line 167</sup></li><li> Статья 11. Дивиденды Общества <sup>line 173</sup></li><li> Статья 12. Органы управления <sup>line 182</sup></li><li> Статья 13. Общее собрание акционеров Общества <sup>line 188</sup></li><li> Статья 14. Компетенция Общего собрания акционеров Общества <sup>line 199</sup></li><li> Статья 15. Решения Общего собрания акционеров Общества <sup>line 229</sup></li><li> Статья 16. Предложения в повестку дня, информация о проведении Общего собрания акционеров Общества <sup>line 236</sup></li><li> Статья 17. Участие и голосование на Общем собрании акционеров, протокол Общего собрания акционеров Общества <sup>line 253</sup></li><li> Статья 18. Совет директоров Общества <sup>line 264</sup></li><li> Статья 19. Компетенция Совета директоров Общества <sup>line 273</sup></li><li> Статья 20. Председатель Совета директоров, Секретарь заседания Совета директоров и Секретарь Совета директоров Общества <sup>line 354</sup></li><li> Статья 21. Заседания Совета директоров Общества <sup>line 378</sup></li><li> Статья 22. Генеральный директор Общества <sup>line 394</sup></li><li> Статья 23. Порядок отчуждения акций Общества. Ограничения в отношении сделок с акциями Общества. <sup>line 438</sup></li><li> Статья 24. Ревизионная комиссия Общества <sup>line 456</sup></li><li> Статья 25. Действие Устава Общества <sup>line 483</sup></li><li> 11 <sup>line 493</sup></li></ul>"
            ],
            "text/plain": [
              "<IPython.core.display.HTML object>"
            ]
          },
          "metadata": {
            "tags": [
              "id1_content_1",
              "outputarea_id1",
              "user_output"
            ]
          }
        },
        {
          "output_type": "display_data",
          "data": {
            "text/html": [
              "<div style=\"background:#eeeeff; padding:0.5em\"> recognized NE(s): <br><br> org type:<h3 style=\"margin:0\">  Акционерное общество </h3>org full name:<h2 style=\"margin:0\">   </h2> <br>quote: <div style=\"font-size:90%; background:white\"><span title=\"0 0.3444\" style=\"background-color:#ecd3c5\">\n",
              " </span><br><span title=\"1 0.3936\" style=\"background-color:#f1ccb8\">Фирменное </span><span title=\"2 0.4437\" style=\"background-color:#f5c2aa\">наименование </span><span title=\"3 0.3760\" style=\"background-color:#efcebd\">Общества </span><span title=\"4 0.2134\" style=\"background-color:#d6dce4\">на </span><span title=\"5 0.2101\" style=\"background-color:#d6dce4\">русском </span><span title=\"6 0.2529\" style=\"background-color:#dddcdc\">языке </span><span title=\"7 0.2422\" style=\"background-color:#dbdcde\">: </span><span title=\"8 0.3135\" style=\"background-color:#e7d7ce\">\n",
              " </span><br><span title=\"9 0.3684\" style=\"background-color:#efcfbf\">полное </span><span title=\"10 0.3649\" style=\"background-color:#eed0c0\">фирменное </span><span title=\"11 0.3196\" style=\"background-color:#e8d6cc\">наименование </span><span title=\"12 0.6577\" style=\"background-color:#f29072\">– </span><span title=\"13 0.8162\" style=\"background-color:#dd5f4b\">Акционерное </span><span title=\"14 0.5281\" style=\"background-color:#f7b194\">общество </span><span title=\"15 0.2769\" style=\"background-color:#e1dad6\">\n",
              " </span><br><span title=\"16 0.3085\" style=\"background-color:#e6d7cf\">« </span><span title=\"17 0.2628\" style=\"background-color:#dfdbd9\">Мессояханефтегаз </span><span title=\"18 0.2355\" style=\"background-color:#dadce0\">» </span><span title=\"19 0.2687\" style=\"background-color:#e0dbd8\">; </span><span title=\"20 0.3155\" style=\"background-color:#e8d6cc\">\n",
              " </span><br><span title=\"21 0.3652\" style=\"background-color:#eed0c0\">сокращенное </span><span title=\"22 0.3740\" style=\"background-color:#efcebd\">фирменное </span><span title=\"23 0.3237\" style=\"background-color:#e9d5cb\">наименование </span><span title=\"24 0.6394\" style=\"background-color:#f39577\">– </span><span title=\"25 0.8027\" style=\"background-color:#df634e\">Акционерное </span><span title=\"26 0.5614\" style=\"background-color:#f7a98b\">Общество </span><span title=\"27 0.3285\" style=\"background-color:#ead5c9\">« </span><span title=\"28 0.2697\" style=\"background-color:#e0dbd8\">Мессояханефтегаз </span><span title=\"29 0.2162\" style=\"background-color:#d7dce3\">» </span><span title=\"30 0.2511\" style=\"background-color:#dddcdc\">. </span><span title=\"31 0.3125\" style=\"background-color:#e7d7ce\">\n",
              " </span><br><span title=\"32 0.2620\" style=\"background-color:#dfdbd9\">Место </span><span title=\"33 0.3190\" style=\"background-color:#e8d6cc\">нахождения </span><span title=\"34 0.3425\" style=\"background-color:#ebd3c6\">Общества </span><span title=\"35 0.2361\" style=\"background-color:#dadce0\">: </span><span title=\"36 0.2836\" style=\"background-color:#e2dad5\">Российская </span><span title=\"37 0.2706\" style=\"background-color:#e0dbd8\">Федерация </span><span title=\"38 0.2098\" style=\"background-color:#d6dce4\">, </span><span title=\"39 0.2489\" style=\"background-color:#dcdddd\">Тюменская </span><span title=\"40 0.2335\" style=\"background-color:#dadce0\">область </span><span title=\"41 0.2193\" style=\"background-color:#d7dce3\">, </span><span title=\"42 0.2354\" style=\"background-color:#dadce0\">Ямало-Ненецкий </span><span title=\"43 0.2263\" style=\"background-color:#d8dce2\">автономный </span><span title=\"44 0.1943\" style=\"background-color:#d3dbe7\">округ </span><span title=\"45 0.1875\" style=\"background-color:#d2dbe8\">, </span><span title=\"46 0.1743\" style=\"background-color:#cfdaea\">город </span><span title=\"47 0.1440\" style=\"background-color:#c9d7f0\">Новый </span><span title=\"48 0.1587\" style=\"background-color:#ccd9ed\">Уренгой </span><span title=\"49 0.2016\" style=\"background-color:#d4dbe6\">. </span><span title=\"50 0.1966\" style=\"background-color:#d3dbe7\">\n",
              " </span><br><span title=\"51 0.1880\" style=\"background-color:#d2dbe8\">\n",
              " </span><br></div> </div><hr style=\"margin-top: 45px\"><i style=\"padding:0; margin:0\">решения о пороговых суммах, которые принимает</i><h2 style=\"color:crimson; padding:0;margin:0\">Совет директоров</h2><h4>Статья 19. Компетенция Совета директоров Общества</h4><div style=\"padding-left:80px\"><b style=\"color:#993300\"> &gt;  RUB        50,000,000.00</b> <b style=\"color:#009933\"> &lt;  RUB       100,000,000.00</b> <b style=\"color:#993300\"> &gt;  RUB        50,000,000.00</b> <b style=\"color:#009933\"> &lt;  RUB       100,000,000.00</b> <div style=\"border-bottom:1px solid #ccc; margin-top:1em\"></div><span title=\"0 0.0000\" style=\"background-color:#abc8fd\">одобрение </span><span title=\"1 0.0000\" style=\"background-color:#abc8fd\">сделки </span><span title=\"2 0.0000\" style=\"background-color:#abc8fd\">или </span><span title=\"3 0.0000\" style=\"background-color:#abc8fd\">нескольких </span><span title=\"4 0.0000\" style=\"background-color:#abc8fd\">взаимосвязанных </span><span title=\"5 0.0000\" style=\"background-color:#abc8fd\">сделок </span><span title=\"6 0.0000\" style=\"background-color:#abc8fd\">( </span><span title=\"7 0.0000\" style=\"background-color:#abc8fd\">за </span><span title=\"8 0.0000\" style=\"background-color:#abc8fd\">исключением </span><span title=\"9 0.0000\" style=\"background-color:#abc8fd\">сделок </span><span title=\"10 0.0000\" style=\"background-color:#abc8fd\">, </span><span title=\"11 0.0000\" style=\"background-color:#abc8fd\">указанных </span><span title=\"12 0.0000\" style=\"background-color:#abc8fd\">в </span><span title=\"13 0.0000\" style=\"background-color:#abc8fd\">пунктах </span><span title=\"14 0.0000\" style=\"background-color:#abc8fd\">11 </span><span title=\"15 0.0000\" style=\"background-color:#abc8fd\">, </span><span title=\"16 0.0000\" style=\"background-color:#abc8fd\">37 </span><span title=\"17 0.0000\" style=\"background-color:#abc8fd\">– </span><span title=\"18 0.0000\" style=\"background-color:#abc8fd\">40 </span><span title=\"19 0.0000\" style=\"background-color:#abc8fd\">и </span><span title=\"20 0.0000\" style=\"background-color:#abc8fd\">45 </span><span title=\"21 0.0000\" style=\"background-color:#abc8fd\">статьи </span><span title=\"22 0.0000\" style=\"background-color:#abc8fd\">19.1 </span><span title=\"23 0.0000\" style=\"background-color:#abc8fd\">и </span><span title=\"24 0.0000\" style=\"background-color:#abc8fd\">в </span><span title=\"25 0.0000\" style=\"background-color:#abc8fd\">пункте </span><span title=\"26 0.0000\" style=\"background-color:#abc8fd\">18 </span><span title=\"27 0.0000\" style=\"background-color:#abc8fd\">статьи </span><span title=\"28 0.0000\" style=\"background-color:#abc8fd\">14.1 </span><span title=\"29 0.0000\" style=\"background-color:#abc8fd\">настоящего </span><span title=\"30 0.0000\" style=\"background-color:#abc8fd\">устава </span><span title=\"31 0.0000\" style=\"background-color:#abc8fd\">) </span><span title=\"32 0.0000\" style=\"background-color:#abc8fd\">, </span><span title=\"33 0.8784\" style=\"background-color:#cd423b\">на </span><span title=\"34 0.9044\" style=\"background-color:#c73635\">сумму </span><span title=\"35 0.8962\" style=\"background-color:#ca3b37\">свыше </span><span title=\"36 0.8897\" style=\"background-color:#cb3e38\">50 </span><span title=\"37 0.8750\" style=\"background-color:#cf453c\">000000 </span><span title=\"38 0.7859\" style=\"background-color:#e0654f\">( </span><span title=\"39 0.0000\" style=\"background-color:#abc8fd\">пятидесяти </span><span title=\"40 0.0000\" style=\"background-color:#abc8fd\">миллионов </span><span title=\"41 0.0000\" style=\"background-color:#abc8fd\">) </span><span title=\"42 0.0000\" style=\"background-color:#abc8fd\">рублей </span><span title=\"43 0.0000\" style=\"background-color:#abc8fd\">( </span><span title=\"44 0.0000\" style=\"background-color:#abc8fd\">или </span><span title=\"45 0.0000\" style=\"background-color:#abc8fd\">эквивалент </span><span title=\"46 0.0000\" style=\"background-color:#abc8fd\">указанной </span><span title=\"47 0.0000\" style=\"background-color:#abc8fd\">суммы </span><span title=\"48 0.0000\" style=\"background-color:#abc8fd\">в </span><span title=\"49 0.0000\" style=\"background-color:#abc8fd\">любой </span><span title=\"50 0.0000\" style=\"background-color:#abc8fd\">другой </span><span title=\"51 0.0000\" style=\"background-color:#abc8fd\">валюте </span><span title=\"52 0.0000\" style=\"background-color:#abc8fd\">) </span><span title=\"53 0.0000\" style=\"background-color:#abc8fd\">, </span><span title=\"54 0.8216\" style=\"background-color:#d95847\">но </span><span title=\"55 0.8459\" style=\"background-color:#d55042\">не </span><span title=\"56 0.8236\" style=\"background-color:#d85646\">превышающую </span><span title=\"57 0.8345\" style=\"background-color:#d65244\">100 </span><span title=\"58 0.8202\" style=\"background-color:#d95847\">000 </span><span title=\"59 0.0000\" style=\"background-color:#abc8fd\">000 </span><span title=\"60 0.0000\" style=\"background-color:#abc8fd\">( </span><span title=\"61 0.0000\" style=\"background-color:#abc8fd\">сто </span><span title=\"62 0.0000\" style=\"background-color:#abc8fd\">миллионов </span><span title=\"63 0.0000\" style=\"background-color:#abc8fd\">) </span><span title=\"64 0.0000\" style=\"background-color:#abc8fd\">рублей </span><span title=\"65 0.0000\" style=\"background-color:#abc8fd\">( </span><span title=\"66 0.0000\" style=\"background-color:#abc8fd\">или </span><span title=\"67 0.0000\" style=\"background-color:#abc8fd\">эквивалент </span><span title=\"68 0.0000\" style=\"background-color:#abc8fd\">указанной </span><span title=\"69 0.0000\" style=\"background-color:#abc8fd\">суммы </span><span title=\"70 0.0000\" style=\"background-color:#abc8fd\">в </span><span title=\"71 0.0000\" style=\"background-color:#abc8fd\">любой </span><span title=\"72 0.0000\" style=\"background-color:#abc8fd\">другой </span><span title=\"73 0.0000\" style=\"background-color:#abc8fd\">валюте </span><span title=\"74 0.0000\" style=\"background-color:#abc8fd\">) </span><span title=\"75 0.0000\" style=\"background-color:#abc8fd\">, </span><span title=\"76 0.0000\" style=\"background-color:#abc8fd\">и </span><span title=\"77 0.0000\" style=\"background-color:#abc8fd\">сделок </span><span title=\"78 0.0000\" style=\"background-color:#abc8fd\">( </span><span title=\"79 0.0000\" style=\"background-color:#abc8fd\">в </span><span title=\"80 0.0000\" style=\"background-color:#abc8fd\">том </span><span title=\"81 0.0000\" style=\"background-color:#abc8fd\">числе </span><span title=\"82 0.0000\" style=\"background-color:#abc8fd\">нескольких </span><span title=\"83 0.0000\" style=\"background-color:#abc8fd\">взаимосвязанных </span><span title=\"84 0.0000\" style=\"background-color:#abc8fd\">сделок </span><span title=\"85 0.0000\" style=\"background-color:#abc8fd\">) </span><span title=\"86 0.0000\" style=\"background-color:#abc8fd\">с </span><span title=\"87 0.0000\" style=\"background-color:#abc8fd\">имуществом </span><span title=\"88 0.0000\" style=\"background-color:#abc8fd\">общества </span><span title=\"89 0.0000\" style=\"background-color:#abc8fd\">, </span><span title=\"90 0.0000\" style=\"background-color:#abc8fd\">стоимость </span><span title=\"91 0.0000\" style=\"background-color:#abc8fd\">которого </span><span title=\"92 0.0000\" style=\"background-color:#abc8fd\">на </span><span title=\"93 0.0000\" style=\"background-color:#abc8fd\">основании </span><span title=\"94 0.0000\" style=\"background-color:#abc8fd\">данных </span><span title=\"95 0.0000\" style=\"background-color:#abc8fd\">бухгалтерской </span><span title=\"96 0.0000\" style=\"background-color:#abc8fd\">отчетности </span><span title=\"97 0.0000\" style=\"background-color:#abc8fd\">общества </span><span title=\"98 0.0000\" style=\"background-color:#abc8fd\">за </span><span title=\"99 0.0000\" style=\"background-color:#abc8fd\">последний </span><span title=\"100 0.0000\" style=\"background-color:#abc8fd\">отчетный </span><span title=\"101 0.0000\" style=\"background-color:#abc8fd\">период </span><span title=\"102 0.0000\" style=\"background-color:#abc8fd\">, </span><span title=\"103 0.0000\" style=\"background-color:#abc8fd\">предшествующий </span><span title=\"104 0.0000\" style=\"background-color:#abc8fd\">дню </span><span title=\"105 0.0000\" style=\"background-color:#abc8fd\">принятия </span><span title=\"106 0.0000\" style=\"background-color:#abc8fd\">решения </span><span title=\"107 0.0000\" style=\"background-color:#abc8fd\">о </span><span title=\"108 0.0000\" style=\"background-color:#abc8fd\">совершении </span><span title=\"109 0.0000\" style=\"background-color:#abc8fd\">таких </span><span title=\"110 0.0000\" style=\"background-color:#abc8fd\">сделок </span><span title=\"111 0.9852\" style=\"background-color:#b40426\">, </span><span title=\"112 0.9699\" style=\"background-color:#b70d28\">превышает </span><span title=\"113 0.9771\" style=\"background-color:#b50927\">50 </span><span title=\"114 0.9618\" style=\"background-color:#ba162b\">000 </span><span title=\"115 0.8721\" style=\"background-color:#cf453c\">000 </span><span title=\"116 0.8055\" style=\"background-color:#dc5d4a\">( </span><span title=\"117 0.0000\" style=\"background-color:#abc8fd\">пятьдесят </span><span title=\"118 0.0000\" style=\"background-color:#abc8fd\">миллионов </span><span title=\"119 0.0000\" style=\"background-color:#abc8fd\">) </span><span title=\"120 0.0000\" style=\"background-color:#abc8fd\">рублей </span><span title=\"121 0.0000\" style=\"background-color:#abc8fd\">( </span><span title=\"122 0.0000\" style=\"background-color:#abc8fd\">или </span><span title=\"123 0.0000\" style=\"background-color:#abc8fd\">эквивалент </span><span title=\"124 0.0000\" style=\"background-color:#abc8fd\">указанной </span><span title=\"125 0.0000\" style=\"background-color:#abc8fd\">суммы </span><span title=\"126 0.0000\" style=\"background-color:#abc8fd\">в </span><span title=\"127 0.0000\" style=\"background-color:#abc8fd\">любой </span><span title=\"128 0.0000\" style=\"background-color:#abc8fd\">другой </span><span title=\"129 0.0000\" style=\"background-color:#abc8fd\">валюте </span><span title=\"130 0.0000\" style=\"background-color:#abc8fd\">) </span><span title=\"131 0.8954\" style=\"background-color:#ca3b37\">, </span><span title=\"132 0.9092\" style=\"background-color:#c73635\">но </span><span title=\"133 0.9254\" style=\"background-color:#c32e31\">не </span><span title=\"134 0.9070\" style=\"background-color:#c73635\">превышает </span><span title=\"135 0.9070\" style=\"background-color:#c73635\">100 </span><span title=\"136 0.8922\" style=\"background-color:#cb3e38\">000 </span><span title=\"137 0.8030\" style=\"background-color:#dd5f4b\">000 </span><span title=\"138 0.0000\" style=\"background-color:#abc8fd\">( </span><span title=\"139 0.0000\" style=\"background-color:#abc8fd\">сто </span><span title=\"140 0.0000\" style=\"background-color:#abc8fd\">миллионов </span><span title=\"141 0.0000\" style=\"background-color:#abc8fd\">) </span><span title=\"142 0.0000\" style=\"background-color:#abc8fd\">рублей </span><span title=\"143 0.0000\" style=\"background-color:#abc8fd\">( </span><span title=\"144 0.0000\" style=\"background-color:#abc8fd\">или </span><span title=\"145 0.0000\" style=\"background-color:#abc8fd\">эквивалент </span><span title=\"146 0.0000\" style=\"background-color:#abc8fd\">указанной </span><span title=\"147 0.0000\" style=\"background-color:#abc8fd\">суммы </span><span title=\"148 0.0000\" style=\"background-color:#abc8fd\">в </span><span title=\"149 0.0000\" style=\"background-color:#abc8fd\">любой </span><span title=\"150 0.0000\" style=\"background-color:#abc8fd\">другой </span><span title=\"151 0.0000\" style=\"background-color:#abc8fd\">валюте </span><span title=\"152 0.0000\" style=\"background-color:#abc8fd\">) </span><span title=\"153 0.0000\" style=\"background-color:#abc8fd\">, </span><span title=\"154 0.0000\" style=\"background-color:#abc8fd\">за </span><span title=\"155 0.0000\" style=\"background-color:#abc8fd\">исключением </span><span title=\"156 0.0000\" style=\"background-color:#abc8fd\">сделок </span><span title=\"157 0.0000\" style=\"background-color:#abc8fd\">, </span><span title=\"158 0.0000\" style=\"background-color:#abc8fd\">совершаемых </span><span title=\"159 0.0000\" style=\"background-color:#abc8fd\">в </span><span title=\"160 0.0000\" style=\"background-color:#abc8fd\">процессе </span><span title=\"161 0.0000\" style=\"background-color:#abc8fd\">обычной </span><span title=\"162 0.0000\" style=\"background-color:#abc8fd\">хозяйственной </span><span title=\"163 0.0000\" style=\"background-color:#abc8fd\">деятельности </span><span title=\"164 0.0000\" style=\"background-color:#abc8fd\">общества </span><span title=\"165 0.0000\" style=\"background-color:#abc8fd\">, </span><span title=\"166 0.0000\" style=\"background-color:#abc8fd\">сделок </span><span title=\"167 0.0000\" style=\"background-color:#abc8fd\">с </span><span title=\"168 0.0000\" style=\"background-color:#abc8fd\">пао </span><span title=\"169 0.0000\" style=\"background-color:#abc8fd\">« </span><span title=\"170 0.0000\" style=\"background-color:#abc8fd\">газпром </span><span title=\"171 0.0000\" style=\"background-color:#abc8fd\">нефть </span><span title=\"172 0.0000\" style=\"background-color:#abc8fd\">» </span><span title=\"173 0.0000\" style=\"background-color:#abc8fd\">и </span><span title=\"174 0.0000\" style=\"background-color:#abc8fd\">обществами </span><span title=\"175 0.0000\" style=\"background-color:#abc8fd\">, </span><span title=\"176 0.0000\" style=\"background-color:#abc8fd\">входящими </span><span title=\"177 0.0000\" style=\"background-color:#abc8fd\">в </span><span title=\"178 0.0000\" style=\"background-color:#abc8fd\">группу </span><span title=\"179 0.0000\" style=\"background-color:#abc8fd\">лиц </span><span title=\"180 0.0000\" style=\"background-color:#abc8fd\">с </span><span title=\"181 0.0000\" style=\"background-color:#abc8fd\">ним </span><span title=\"182 0.0000\" style=\"background-color:#abc8fd\">, </span><span title=\"183 0.0000\" style=\"background-color:#abc8fd\">а </span><span title=\"184 0.0000\" style=\"background-color:#abc8fd\">также </span><span title=\"185 0.0000\" style=\"background-color:#abc8fd\">за </span><span title=\"186 0.0000\" style=\"background-color:#abc8fd\">исключением </span><span title=\"187 0.0000\" style=\"background-color:#abc8fd\">случаев </span><span title=\"188 0.0000\" style=\"background-color:#abc8fd\">, </span><span title=\"189 0.0000\" style=\"background-color:#abc8fd\">когда </span><span title=\"190 0.0000\" style=\"background-color:#abc8fd\">одобрение </span><span title=\"191 0.0000\" style=\"background-color:#abc8fd\">указанных </span><span title=\"192 0.0000\" style=\"background-color:#abc8fd\">сделок </span><span title=\"193 0.0000\" style=\"background-color:#abc8fd\">относится </span><span title=\"194 0.0000\" style=\"background-color:#abc8fd\">к </span><span title=\"195 0.0000\" style=\"background-color:#abc8fd\">компетенции </span><span title=\"196 0.0000\" style=\"background-color:#abc8fd\">общего </span><span title=\"197 0.0000\" style=\"background-color:#abc8fd\">собрания </span><span title=\"198 0.0000\" style=\"background-color:#abc8fd\">акционеров </span><span title=\"199 0.0000\" style=\"background-color:#abc8fd\">общества </span><span title=\"200 0.0000\" style=\"background-color:#abc8fd\">; </span><b style=\"color:#993300\"> &gt;  USD        25,000,000.00</b> <div style=\"border-bottom:1px solid #ccc; margin-top:1em\"></div><span title=\"0 0.0000\" style=\"background-color:#aac7fd\">одобрение </span><span title=\"1 0.0000\" style=\"background-color:#aac7fd\">привлечения </span><span title=\"2 0.0000\" style=\"background-color:#aac7fd\">обществом </span><span title=\"3 0.0000\" style=\"background-color:#aac7fd\">любого </span><span title=\"4 0.0000\" style=\"background-color:#aac7fd\">финансирования </span><span title=\"5 0.0000\" style=\"background-color:#aac7fd\">со </span><span title=\"6 0.0000\" style=\"background-color:#aac7fd\">стороны </span><span title=\"7 0.0000\" style=\"background-color:#aac7fd\">третьих </span><span title=\"8 0.0000\" style=\"background-color:#aac7fd\">лиц </span><span title=\"9 0.0000\" style=\"background-color:#aac7fd\">путем </span><span title=\"10 0.0000\" style=\"background-color:#aac7fd\">заключения </span><span title=\"11 0.0000\" style=\"background-color:#aac7fd\">одной </span><span title=\"12 0.0000\" style=\"background-color:#aac7fd\">или </span><span title=\"13 0.0000\" style=\"background-color:#aac7fd\">нескольких </span><span title=\"14 0.0000\" style=\"background-color:#aac7fd\">взаимосвязанных </span><span title=\"15 0.0000\" style=\"background-color:#aac7fd\">сделок </span><span title=\"16 0.9836\" style=\"background-color:#b50927\">на </span><span title=\"17 0.9872\" style=\"background-color:#b40426\">суммы </span><span title=\"18 0.9896\" style=\"background-color:#b40426\">свыше </span><span title=\"19 0.9542\" style=\"background-color:#bd1f2d\">эквивалента </span><span title=\"20 0.9584\" style=\"background-color:#bb1b2c\">25000000 </span><span title=\"21 0.8687\" style=\"background-color:#d0473d\">( </span><span title=\"22 0.9296\" style=\"background-color:#c32e31\">двадцати </span><span title=\"23 0.9161\" style=\"background-color:#c53334\">пяти </span><span title=\"24 0.8281\" style=\"background-color:#d85646\">миллионов </span><span title=\"25 0.0000\" style=\"background-color:#aac7fd\">) </span><span title=\"26 0.0000\" style=\"background-color:#aac7fd\">долларов </span><span title=\"27 0.0000\" style=\"background-color:#aac7fd\">сша </span><span title=\"28 0.0000\" style=\"background-color:#aac7fd\">по </span><span title=\"29 0.0000\" style=\"background-color:#aac7fd\">курсу </span><span title=\"30 0.0000\" style=\"background-color:#aac7fd\">банка </span><span title=\"31 0.0000\" style=\"background-color:#aac7fd\">россии </span><span title=\"32 0.0000\" style=\"background-color:#aac7fd\">на </span><span title=\"33 0.0000\" style=\"background-color:#aac7fd\">дату </span><span title=\"34 0.0000\" style=\"background-color:#aac7fd\">принятия </span><span title=\"35 0.0000\" style=\"background-color:#aac7fd\">решения </span><span title=\"36 0.0000\" style=\"background-color:#aac7fd\">, </span><span title=\"37 0.0000\" style=\"background-color:#aac7fd\">а </span><span title=\"38 0.0000\" style=\"background-color:#aac7fd\">также </span><span title=\"39 0.0000\" style=\"background-color:#aac7fd\">договоров </span><span title=\"40 0.0000\" style=\"background-color:#aac7fd\">о </span><span title=\"41 0.0000\" style=\"background-color:#aac7fd\">выпуске </span><span title=\"42 0.0000\" style=\"background-color:#aac7fd\">гарантий </span><span title=\"43 0.0000\" style=\"background-color:#aac7fd\">и </span><span title=\"44 0.0000\" style=\"background-color:#aac7fd\">аккредитивов </span><span title=\"45 0.0000\" style=\"background-color:#aac7fd\">, </span><span title=\"46 0.0000\" style=\"background-color:#aac7fd\">выпуск </span><span title=\"47 0.0000\" style=\"background-color:#aac7fd\">векселей </span><span title=\"48 0.0000\" style=\"background-color:#aac7fd\">независимо </span><span title=\"49 0.0000\" style=\"background-color:#aac7fd\">от </span><span title=\"50 0.0000\" style=\"background-color:#aac7fd\">суммы </span><span title=\"51 0.0000\" style=\"background-color:#aac7fd\">; </span></div><hr style=\"margin-top: 45px\"><i style=\"padding:0; margin:0\">решения о пороговых суммах, которые принимает</i><h2 style=\"color:orange; padding:0;margin:0\">Общее собрание участников/акционеров</h2><h4>Статья 14. Компетенция Общего собрания акционеров Общества</h4><div style=\"padding-left:80px\"><b style=\"color:#993300\"> &gt;  RUB       100,000,000.00</b> <b style=\"color:#993300\"> &gt;  RUB       100,000,000.00</b> <div style=\"border-bottom:1px solid #ccc; margin-top:1em\"></div><span title=\"0 0.0000\" style=\"background-color:#aac7fd\">принятие </span><span title=\"1 0.0000\" style=\"background-color:#aac7fd\">решений </span><span title=\"2 0.0000\" style=\"background-color:#aac7fd\">о </span><span title=\"3 0.0000\" style=\"background-color:#aac7fd\">совершении </span><span title=\"4 0.0000\" style=\"background-color:#aac7fd\">сделок </span><span title=\"5 0.0000\" style=\"background-color:#aac7fd\">( </span><span title=\"6 0.0000\" style=\"background-color:#aac7fd\">в </span><span title=\"7 0.0000\" style=\"background-color:#aac7fd\">том </span><span title=\"8 0.0000\" style=\"background-color:#aac7fd\">числе </span><span title=\"9 0.0000\" style=\"background-color:#aac7fd\">нескольких </span><span title=\"10 0.0000\" style=\"background-color:#aac7fd\">взаимосвязанных </span><span title=\"11 0.0000\" style=\"background-color:#aac7fd\">сделок </span><span title=\"12 0.0000\" style=\"background-color:#aac7fd\">) </span><span title=\"13 0.0000\" style=\"background-color:#aac7fd\">на </span><span title=\"14 0.9332\" style=\"background-color:#c32e31\">сумму </span><span title=\"15 0.9419\" style=\"background-color:#c0282f\">, </span><span title=\"16 0.9476\" style=\"background-color:#be242e\">превышающую </span><span title=\"17 0.9439\" style=\"background-color:#c0282f\">100 </span><span title=\"18 0.9288\" style=\"background-color:#c43032\">000000 </span><span title=\"19 0.8393\" style=\"background-color:#d75445\">( </span><span title=\"20 0.7730\" style=\"background-color:#e36b54\">сто </span><span title=\"21 0.0000\" style=\"background-color:#aac7fd\">миллионов </span><span title=\"22 0.0000\" style=\"background-color:#aac7fd\">) </span><span title=\"23 0.0000\" style=\"background-color:#aac7fd\">рублей </span><span title=\"24 0.0000\" style=\"background-color:#aac7fd\">( </span><span title=\"25 0.0000\" style=\"background-color:#aac7fd\">или </span><span title=\"26 0.0000\" style=\"background-color:#aac7fd\">эквивалент </span><span title=\"27 0.0000\" style=\"background-color:#aac7fd\">указанной </span><span title=\"28 0.0000\" style=\"background-color:#aac7fd\">суммы </span><span title=\"29 0.0000\" style=\"background-color:#aac7fd\">в </span><span title=\"30 0.0000\" style=\"background-color:#aac7fd\">любой </span><span title=\"31 0.0000\" style=\"background-color:#aac7fd\">другой </span><span title=\"32 0.0000\" style=\"background-color:#aac7fd\">валюте </span><span title=\"33 0.0000\" style=\"background-color:#aac7fd\">) </span><span title=\"34 0.0000\" style=\"background-color:#aac7fd\">, </span><span title=\"35 0.0000\" style=\"background-color:#aac7fd\">и </span><span title=\"36 0.0000\" style=\"background-color:#aac7fd\">сделок </span><span title=\"37 0.0000\" style=\"background-color:#aac7fd\">( </span><span title=\"38 0.0000\" style=\"background-color:#aac7fd\">в </span><span title=\"39 0.0000\" style=\"background-color:#aac7fd\">том </span><span title=\"40 0.0000\" style=\"background-color:#aac7fd\">числе </span><span title=\"41 0.0000\" style=\"background-color:#aac7fd\">нескольких </span><span title=\"42 0.0000\" style=\"background-color:#aac7fd\">взаимосвязанных </span><span title=\"43 0.0000\" style=\"background-color:#aac7fd\">сделок </span><span title=\"44 0.0000\" style=\"background-color:#aac7fd\">) </span><span title=\"45 0.0000\" style=\"background-color:#aac7fd\">с </span><span title=\"46 0.0000\" style=\"background-color:#aac7fd\">имуществом </span><span title=\"47 0.0000\" style=\"background-color:#aac7fd\">общества </span><span title=\"48 0.0000\" style=\"background-color:#aac7fd\">, </span><span title=\"49 0.0000\" style=\"background-color:#aac7fd\">стоимость </span><span title=\"50 0.0000\" style=\"background-color:#aac7fd\">которого </span><span title=\"51 0.0000\" style=\"background-color:#aac7fd\">на </span><span title=\"52 0.0000\" style=\"background-color:#aac7fd\">основании </span><span title=\"53 0.0000\" style=\"background-color:#aac7fd\">данных </span><span title=\"54 0.0000\" style=\"background-color:#aac7fd\">бухгалтерской </span><span title=\"55 0.0000\" style=\"background-color:#aac7fd\">отчетности </span><span title=\"56 0.0000\" style=\"background-color:#aac7fd\">общества </span><span title=\"57 0.0000\" style=\"background-color:#aac7fd\">за </span><span title=\"58 0.0000\" style=\"background-color:#aac7fd\">последний </span><span title=\"59 0.0000\" style=\"background-color:#aac7fd\">отчетный </span><span title=\"60 0.0000\" style=\"background-color:#aac7fd\">период </span><span title=\"61 0.0000\" style=\"background-color:#aac7fd\">, </span><span title=\"62 0.0000\" style=\"background-color:#aac7fd\">предшествующий </span><span title=\"63 0.0000\" style=\"background-color:#aac7fd\">дню </span><span title=\"64 0.0000\" style=\"background-color:#aac7fd\">принятия </span><span title=\"65 0.0000\" style=\"background-color:#aac7fd\">решения </span><span title=\"66 0.0000\" style=\"background-color:#aac7fd\">о </span><span title=\"67 0.0000\" style=\"background-color:#aac7fd\">совершении </span><span title=\"68 0.0000\" style=\"background-color:#aac7fd\">таких </span><span title=\"69 0.9527\" style=\"background-color:#bd1f2d\">сделок </span><span title=\"70 0.9934\" style=\"background-color:#b40426\">, </span><span title=\"71 0.9885\" style=\"background-color:#b40426\">превышает </span><span title=\"72 0.9771\" style=\"background-color:#b70d28\">100 </span><span title=\"73 0.9618\" style=\"background-color:#bb1b2c\">000000 </span><span title=\"74 0.8721\" style=\"background-color:#d0473d\">( </span><span title=\"75 0.8055\" style=\"background-color:#de614d\">сто </span><span title=\"76 0.0000\" style=\"background-color:#aac7fd\">миллионов </span><span title=\"77 0.0000\" style=\"background-color:#aac7fd\">) </span><span title=\"78 0.0000\" style=\"background-color:#aac7fd\">рублей </span><span title=\"79 0.0000\" style=\"background-color:#aac7fd\">( </span><span title=\"80 0.0000\" style=\"background-color:#aac7fd\">или </span><span title=\"81 0.0000\" style=\"background-color:#aac7fd\">эквивалент </span><span title=\"82 0.0000\" style=\"background-color:#aac7fd\">указанной </span><span title=\"83 0.0000\" style=\"background-color:#aac7fd\">суммы </span><span title=\"84 0.0000\" style=\"background-color:#aac7fd\">в </span><span title=\"85 0.0000\" style=\"background-color:#aac7fd\">любой </span><span title=\"86 0.0000\" style=\"background-color:#aac7fd\">другой </span><span title=\"87 0.0000\" style=\"background-color:#aac7fd\">валюте </span><span title=\"88 0.0000\" style=\"background-color:#aac7fd\">) </span><span title=\"89 0.0000\" style=\"background-color:#aac7fd\">, </span><span title=\"90 0.0000\" style=\"background-color:#aac7fd\">за </span><span title=\"91 0.0000\" style=\"background-color:#aac7fd\">исключением </span><span title=\"92 0.0000\" style=\"background-color:#aac7fd\">сделок </span><span title=\"93 0.0000\" style=\"background-color:#aac7fd\">, </span><span title=\"94 0.0000\" style=\"background-color:#aac7fd\">совершаемых </span><span title=\"95 0.0000\" style=\"background-color:#aac7fd\">в </span><span title=\"96 0.0000\" style=\"background-color:#aac7fd\">процессе </span><span title=\"97 0.0000\" style=\"background-color:#aac7fd\">обычной </span><span title=\"98 0.0000\" style=\"background-color:#aac7fd\">хозяйственной </span><span title=\"99 0.0000\" style=\"background-color:#aac7fd\">деятельности </span><span title=\"100 0.0000\" style=\"background-color:#aac7fd\">общества </span><span title=\"101 0.0000\" style=\"background-color:#aac7fd\">, </span><span title=\"102 0.0000\" style=\"background-color:#aac7fd\">а </span><span title=\"103 0.0000\" style=\"background-color:#aac7fd\">также </span><span title=\"104 0.0000\" style=\"background-color:#aac7fd\">за </span><span title=\"105 0.0000\" style=\"background-color:#aac7fd\">исключением </span><span title=\"106 0.0000\" style=\"background-color:#aac7fd\">сделок </span><span title=\"107 0.0000\" style=\"background-color:#aac7fd\">с </span><span title=\"108 0.0000\" style=\"background-color:#aac7fd\">пао </span><span title=\"109 0.0000\" style=\"background-color:#aac7fd\">« </span><span title=\"110 0.0000\" style=\"background-color:#aac7fd\">газпром </span><span title=\"111 0.0000\" style=\"background-color:#aac7fd\">нефть </span><span title=\"112 0.0000\" style=\"background-color:#aac7fd\">» </span><span title=\"113 0.0000\" style=\"background-color:#aac7fd\">и </span><span title=\"114 0.0000\" style=\"background-color:#aac7fd\">обществами </span><span title=\"115 0.0000\" style=\"background-color:#aac7fd\">, </span><span title=\"116 0.0000\" style=\"background-color:#aac7fd\">входящими </span><span title=\"117 0.0000\" style=\"background-color:#aac7fd\">в </span><span title=\"118 0.0000\" style=\"background-color:#aac7fd\">группу </span><span title=\"119 0.0000\" style=\"background-color:#aac7fd\">лиц </span><span title=\"120 0.0000\" style=\"background-color:#aac7fd\">с </span><span title=\"121 0.0000\" style=\"background-color:#aac7fd\">ним </span><span title=\"122 0.0000\" style=\"background-color:#aac7fd\">, </span><span title=\"123 0.0000\" style=\"background-color:#aac7fd\">когда </span><span title=\"124 0.0000\" style=\"background-color:#aac7fd\">такая </span><span title=\"125 0.0000\" style=\"background-color:#aac7fd\">сделка </span><span title=\"126 0.0000\" style=\"background-color:#aac7fd\">или </span><span title=\"127 0.0000\" style=\"background-color:#aac7fd\">несколько </span><span title=\"128 0.0000\" style=\"background-color:#aac7fd\">взаимосвязанных </span><span title=\"129 0.0000\" style=\"background-color:#aac7fd\">сделок </span><span title=\"130 0.0000\" style=\"background-color:#aac7fd\">является </span><span title=\"131 0.0000\" style=\"background-color:#aac7fd\">( </span><span title=\"132 0.0000\" style=\"background-color:#aac7fd\">-ются </span><span title=\"133 0.0000\" style=\"background-color:#aac7fd\">) </span><span title=\"134 0.0000\" style=\"background-color:#aac7fd\">сделкой </span><span title=\"135 0.0000\" style=\"background-color:#aac7fd\">, </span><span title=\"136 0.0000\" style=\"background-color:#aac7fd\">в </span><span title=\"137 0.0000\" style=\"background-color:#aac7fd\">совершении </span><span title=\"138 0.0000\" style=\"background-color:#aac7fd\">которой </span><span title=\"139 0.0000\" style=\"background-color:#aac7fd\">имеется </span><span title=\"140 0.0000\" style=\"background-color:#aac7fd\">заинтересованность </span><span title=\"141 0.0000\" style=\"background-color:#aac7fd\">) </span><span title=\"142 0.0000\" style=\"background-color:#aac7fd\">; </span></div><hr style=\"margin-top: 45px\"><i style=\"padding:0; margin:0\">решения о пороговых суммах, которые принимает</i><h2 style=\"color:blue; padding:0;margin:0\">Генеральный директор</h2><h4>Статья 22. Генеральный директор Общества</h4><div style=\"padding-left:80px\"><b style=\"color:#993300\"> &gt;  USD        25,000,000.00</b> <div style=\"border-bottom:1px solid #ccc; margin-top:1em\"></div><span title=\"0 0.0000\" style=\"background-color:#abc8fd\">заключение </span><span title=\"1 0.0000\" style=\"background-color:#abc8fd\">договоров </span><span title=\"2 0.0000\" style=\"background-color:#abc8fd\">займа </span><span title=\"3 0.0000\" style=\"background-color:#abc8fd\">, </span><span title=\"4 0.0000\" style=\"background-color:#abc8fd\">кредита </span><span title=\"5 0.0000\" style=\"background-color:#abc8fd\">, </span><span title=\"6 0.0000\" style=\"background-color:#abc8fd\">а </span><span title=\"7 0.0000\" style=\"background-color:#abc8fd\">также </span><span title=\"8 0.0000\" style=\"background-color:#abc8fd\">иных </span><span title=\"9 0.0000\" style=\"background-color:#abc8fd\">сделок </span><span title=\"10 0.0000\" style=\"background-color:#abc8fd\">, </span><span title=\"11 0.0000\" style=\"background-color:#abc8fd\">направленных </span><span title=\"12 0.0000\" style=\"background-color:#abc8fd\">на </span><span title=\"13 0.0000\" style=\"background-color:#abc8fd\">привлечение </span><span title=\"14 0.0000\" style=\"background-color:#abc8fd\">финансирования </span><span title=\"15 0.0000\" style=\"background-color:#abc8fd\">общества </span><span title=\"16 0.0000\" style=\"background-color:#abc8fd\">, </span><span title=\"17 0.0000\" style=\"background-color:#abc8fd\">если </span><span title=\"18 0.0000\" style=\"background-color:#abc8fd\">сумма </span><span title=\"19 0.0000\" style=\"background-color:#abc8fd\">каждой </span><span title=\"20 0.0000\" style=\"background-color:#abc8fd\">сделки </span><span title=\"21 0.0000\" style=\"background-color:#abc8fd\">или </span><span title=\"22 0.0000\" style=\"background-color:#abc8fd\">нескольких </span><span title=\"23 0.0000\" style=\"background-color:#abc8fd\">взаимосвязанных </span><span title=\"24 0.0000\" style=\"background-color:#abc8fd\">сделок </span><span title=\"25 0.0000\" style=\"background-color:#abc8fd\">в </span><span title=\"26 0.9664\" style=\"background-color:#b50927\">совокупности </span><span title=\"27 0.9760\" style=\"background-color:#b40426\">составляет </span><span title=\"28 0.9727\" style=\"background-color:#b40426\">не </span><span title=\"29 0.9673\" style=\"background-color:#b50927\">более </span><span title=\"30 0.8896\" style=\"background-color:#c83836\">суммы </span><span title=\"31 0.9268\" style=\"background-color:#c0282f\">, </span><span title=\"32 0.8469\" style=\"background-color:#d24b40\">эквивалентной </span><span title=\"33 0.9320\" style=\"background-color:#be242e\">25000000 </span><span title=\"34 0.8425\" style=\"background-color:#d44e41\">( </span><span title=\"35 0.7761\" style=\"background-color:#e0654f\">двадцати </span><span title=\"36 0.8903\" style=\"background-color:#c83836\">пяти </span><span title=\"37 0.8025\" style=\"background-color:#dc5d4a\">миллионам </span><span title=\"38 0.0000\" style=\"background-color:#abc8fd\">) </span><span title=\"39 0.0000\" style=\"background-color:#abc8fd\">долларов </span><span title=\"40 0.0000\" style=\"background-color:#abc8fd\">сша </span><span title=\"41 0.0000\" style=\"background-color:#abc8fd\">по </span><span title=\"42 0.0000\" style=\"background-color:#abc8fd\">курсу </span><span title=\"43 0.0000\" style=\"background-color:#abc8fd\">банка </span><span title=\"44 0.0000\" style=\"background-color:#abc8fd\">россии </span><span title=\"45 0.0000\" style=\"background-color:#abc8fd\">на </span><span title=\"46 0.0000\" style=\"background-color:#abc8fd\">дату </span><span title=\"47 0.0000\" style=\"background-color:#abc8fd\">подписания </span><span title=\"48 0.0000\" style=\"background-color:#abc8fd\">такой </span><span title=\"49 0.0000\" style=\"background-color:#abc8fd\">сделки </span><span title=\"50 0.0000\" style=\"background-color:#abc8fd\">( </span><span title=\"51 0.0000\" style=\"background-color:#abc8fd\">или </span><span title=\"52 0.0000\" style=\"background-color:#abc8fd\">на </span><span title=\"53 0.0000\" style=\"background-color:#abc8fd\">дату </span><span title=\"54 0.0000\" style=\"background-color:#abc8fd\">подписания </span><span title=\"55 0.0000\" style=\"background-color:#abc8fd\">каждой </span><span title=\"56 0.0000\" style=\"background-color:#abc8fd\">из </span><span title=\"57 0.0000\" style=\"background-color:#abc8fd\">взаимосвязанных </span><span title=\"58 0.0000\" style=\"background-color:#abc8fd\">сделок </span><span title=\"59 0.0000\" style=\"background-color:#abc8fd\">) </span><span title=\"60 0.0000\" style=\"background-color:#abc8fd\">; </span><b style=\"color:#993300\"> &gt;  USD        25,000,000.00</b> <div style=\"border-bottom:1px solid #ccc; margin-top:1em\"></div><span title=\"0 0.0000\" style=\"background-color:#aac7fd\">заключение </span><span title=\"1 0.0000\" style=\"background-color:#aac7fd\">сделки </span><span title=\"2 0.0000\" style=\"background-color:#aac7fd\">или </span><span title=\"3 0.0000\" style=\"background-color:#aac7fd\">нескольких </span><span title=\"4 0.0000\" style=\"background-color:#aac7fd\">взаимосвязанных </span><span title=\"5 0.0000\" style=\"background-color:#aac7fd\">сделок </span><span title=\"6 0.0000\" style=\"background-color:#aac7fd\">( </span><span title=\"7 0.0000\" style=\"background-color:#aac7fd\">за </span><span title=\"8 0.0000\" style=\"background-color:#aac7fd\">исключением </span><span title=\"9 0.0000\" style=\"background-color:#aac7fd\">сделок </span><span title=\"10 0.0000\" style=\"background-color:#aac7fd\">, </span><span title=\"11 0.0000\" style=\"background-color:#aac7fd\">указанных </span><span title=\"12 0.0000\" style=\"background-color:#aac7fd\">в </span><span title=\"13 0.0000\" style=\"background-color:#aac7fd\">пунктах </span><span title=\"14 0.0000\" style=\"background-color:#aac7fd\">11 </span><span title=\"15 0.0000\" style=\"background-color:#aac7fd\">, </span><span title=\"16 0.0000\" style=\"background-color:#aac7fd\">37 </span><span title=\"17 0.0000\" style=\"background-color:#aac7fd\">– </span><span title=\"18 0.0000\" style=\"background-color:#aac7fd\">40 </span><span title=\"19 0.0000\" style=\"background-color:#aac7fd\">и </span><span title=\"20 0.0000\" style=\"background-color:#aac7fd\">45 </span><span title=\"21 0.0000\" style=\"background-color:#aac7fd\">статьи </span><span title=\"22 0.0000\" style=\"background-color:#aac7fd\">19.1 </span><span title=\"23 0.0000\" style=\"background-color:#aac7fd\">и </span><span title=\"24 0.0000\" style=\"background-color:#aac7fd\">в </span><span title=\"25 0.0000\" style=\"background-color:#aac7fd\">пункте </span><span title=\"26 0.0000\" style=\"background-color:#aac7fd\">18 </span><span title=\"27 0.0000\" style=\"background-color:#aac7fd\">статьи </span><span title=\"28 0.0000\" style=\"background-color:#aac7fd\">14.1 </span><span title=\"29 0.0000\" style=\"background-color:#aac7fd\">настоящего </span><span title=\"30 0.0000\" style=\"background-color:#aac7fd\">устава </span><span title=\"31 0.0000\" style=\"background-color:#aac7fd\">) </span><span title=\"32 0.0000\" style=\"background-color:#aac7fd\">, </span><span title=\"33 0.0000\" style=\"background-color:#aac7fd\">если </span><span title=\"34 0.0000\" style=\"background-color:#aac7fd\">сумма </span><span title=\"35 0.0000\" style=\"background-color:#aac7fd\">сделки </span><span title=\"36 0.0000\" style=\"background-color:#aac7fd\">или </span><span title=\"37 0.0000\" style=\"background-color:#aac7fd\">балансовая </span><span title=\"38 0.0000\" style=\"background-color:#aac7fd\">стоимость </span><span title=\"39 0.0000\" style=\"background-color:#aac7fd\">имущества </span><span title=\"40 0.0000\" style=\"background-color:#aac7fd\">, </span><span title=\"41 0.0000\" style=\"background-color:#aac7fd\">являющегося </span><span title=\"42 0.0000\" style=\"background-color:#aac7fd\">предметом </span><span title=\"43 0.0000\" style=\"background-color:#aac7fd\">такой </span><span title=\"44 0.0000\" style=\"background-color:#aac7fd\">сделки </span><span title=\"45 0.9838\" style=\"background-color:#b50927\">, </span><span title=\"46 0.9913\" style=\"background-color:#b40426\">не </span><span title=\"47 0.9559\" style=\"background-color:#bd1f2d\">превышает </span><span title=\"48 0.8876\" style=\"background-color:#cc403a\">сумму </span><span title=\"49 0.8387\" style=\"background-color:#d75445\">, </span><span title=\"50 0.7911\" style=\"background-color:#e0654f\">эквивалентную </span><span title=\"51 0.9516\" style=\"background-color:#bd1f2d\">25000000 </span><span title=\"52 0.8620\" style=\"background-color:#d24b40\">( </span><span title=\"53 0.7955\" style=\"background-color:#df634e\">двадцати </span><span title=\"54 0.9095\" style=\"background-color:#c83836\">пяти </span><span title=\"55 0.8216\" style=\"background-color:#da5a49\">миллионам </span><span title=\"56 0.0000\" style=\"background-color:#aac7fd\">) </span><span title=\"57 0.0000\" style=\"background-color:#aac7fd\">долларов </span><span title=\"58 0.0000\" style=\"background-color:#aac7fd\">сша </span><span title=\"59 0.0000\" style=\"background-color:#aac7fd\">по </span><span title=\"60 0.0000\" style=\"background-color:#aac7fd\">курсу </span><span title=\"61 0.0000\" style=\"background-color:#aac7fd\">банка </span><span title=\"62 0.0000\" style=\"background-color:#aac7fd\">россии </span><span title=\"63 0.0000\" style=\"background-color:#aac7fd\">на </span><span title=\"64 0.0000\" style=\"background-color:#aac7fd\">дату </span><span title=\"65 0.0000\" style=\"background-color:#aac7fd\">подписания </span><span title=\"66 0.0000\" style=\"background-color:#aac7fd\">такой </span><span title=\"67 0.0000\" style=\"background-color:#aac7fd\">сделки </span><span title=\"68 0.0000\" style=\"background-color:#aac7fd\">( </span><span title=\"69 0.0000\" style=\"background-color:#aac7fd\">или </span><span title=\"70 0.0000\" style=\"background-color:#aac7fd\">в </span><span title=\"71 0.0000\" style=\"background-color:#aac7fd\">совокупности </span><span title=\"72 0.0000\" style=\"background-color:#aac7fd\">по </span><span title=\"73 0.0000\" style=\"background-color:#aac7fd\">сумме </span><span title=\"74 0.0000\" style=\"background-color:#aac7fd\">взаимосвязанных </span><span title=\"75 0.0000\" style=\"background-color:#aac7fd\">сделок </span><span title=\"76 0.0000\" style=\"background-color:#aac7fd\">на </span><span title=\"77 0.0000\" style=\"background-color:#aac7fd\">дату </span><span title=\"78 0.0000\" style=\"background-color:#aac7fd\">подписания </span><span title=\"79 0.0000\" style=\"background-color:#aac7fd\">каждой </span><span title=\"80 0.0000\" style=\"background-color:#aac7fd\">из </span><span title=\"81 0.0000\" style=\"background-color:#aac7fd\">них </span><span title=\"82 0.0000\" style=\"background-color:#aac7fd\">) </span><span title=\"83 0.0000\" style=\"background-color:#aac7fd\">; </span></div>"
            ],
            "text/plain": [
              "<IPython.core.display.HTML object>"
            ]
          },
          "metadata": {
            "tags": [
              "id1_content_1",
              "outputarea_id1",
              "user_output"
            ]
          }
        },
        {
          "output_type": "stream",
          "text": [
            "\u001b[1;32mУстав: сделано✓\n"
          ],
          "name": "stdout"
        },
        {
          "output_type": "display_data",
          "data": {
            "application/javascript": [
              " \n",
              "    var x = document.getElementById(\"button-cf79f705-6fbb-46f4-9847-559c83d7745b\");\n",
              "    if (x.style.display === \"none\")\n",
              "      x.style.display = \"block\";\n",
              "    else\n",
              "      x.style.display = \"none\";\n",
              "    "
            ],
            "text/plain": [
              "<IPython.core.display.Javascript object>"
            ]
          },
          "metadata": {
            "tags": [
              "id1_content_1",
              "outputarea_id1",
              "user_output"
            ]
          }
        },
        {
          "output_type": "display_data",
          "data": {
            "application/javascript": [
              "window[\"730aef96-6209-11e9-a733-0242ac1c0002\"] = google.colab.output.setActiveOutputArea(window[\"557f2726-6209-11e9-a733-0242ac1c0002\"]);\n",
              "//# sourceURL=js_de3afcc52a"
            ],
            "text/plain": [
              "<IPython.core.display.Javascript object>"
            ]
          },
          "metadata": {
            "tags": [
              "id1_content_1",
              "outputarea_id1"
            ]
          }
        },
        {
          "output_type": "display_data",
          "data": {
            "application/javascript": [
              "window[\"730dc07c-6209-11e9-a733-0242ac1c0002\"] = google.colab.output.getActiveOutputArea();\n",
              "//# sourceURL=js_9378f1435b"
            ],
            "text/plain": [
              "<IPython.core.display.Javascript object>"
            ]
          },
          "metadata": {
            "tags": [
              "id1_content_2",
              "outputarea_id1"
            ]
          }
        },
        {
          "output_type": "display_data",
          "data": {
            "application/javascript": [
              "window[\"730e0cd0-6209-11e9-a733-0242ac1c0002\"] = document.querySelector(\"#id1_content_2\");\n",
              "//# sourceURL=js_faeb2bed91"
            ],
            "text/plain": [
              "<IPython.core.display.Javascript object>"
            ]
          },
          "metadata": {
            "tags": [
              "id1_content_2",
              "outputarea_id1"
            ]
          }
        },
        {
          "output_type": "display_data",
          "data": {
            "application/javascript": [
              "window[\"730e587a-6209-11e9-a733-0242ac1c0002\"] = google.colab.output.setActiveOutputArea(window[\"730e0cd0-6209-11e9-a733-0242ac1c0002\"]);\n",
              "//# sourceURL=js_dca700943e"
            ],
            "text/plain": [
              "<IPython.core.display.Javascript object>"
            ]
          },
          "metadata": {
            "tags": [
              "id1_content_2",
              "outputarea_id1"
            ]
          }
        },
        {
          "output_type": "display_data",
          "data": {
            "application/javascript": [
              "window[\"730e9c2c-6209-11e9-a733-0242ac1c0002\"] = window[\"id1\"].setSelectedTabIndex(2);\n",
              "//# sourceURL=js_fa569adb6f"
            ],
            "text/plain": [
              "<IPython.core.display.Javascript object>"
            ]
          },
          "metadata": {
            "tags": [
              "id1_content_2",
              "outputarea_id1"
            ]
          }
        },
        {
          "output_type": "display_data",
          "data": {
            "text/html": [
              "<button style=\"padding:5px; font-size:16px; margin:15px\"  id=\"button-5cfdec26-350d-49e7-9ebd-686c89e9ec4b\">Договор...</button>\n",
              "        <script>\n",
              "          document.querySelector(\"#button-5cfdec26-350d-49e7-9ebd-686c89e9ec4b\").onclick = (e) => {\n",
              "            google.colab.kernel.invokeFunction(\"button-5cfdec26-350d-49e7-9ebd-686c89e9ec4b\", [], {})\n",
              "            e.preventDefault();\n",
              "          };\n",
              "        </script>"
            ],
            "text/plain": [
              "<IPython.core.display.HTML object>"
            ]
          },
          "metadata": {
            "tags": [
              "id1_content_2",
              "outputarea_id1",
              "user_output"
            ]
          }
        },
        {
          "output_type": "display_data",
          "data": {
            "application/javascript": [
              "window[\"730fa3e2-6209-11e9-a733-0242ac1c0002\"] = google.colab.output.setActiveOutputArea(window[\"730dc07c-6209-11e9-a733-0242ac1c0002\"]);\n",
              "//# sourceURL=js_b6fc293f80"
            ],
            "text/plain": [
              "<IPython.core.display.Javascript object>"
            ]
          },
          "metadata": {
            "tags": [
              "id1_content_2",
              "outputarea_id1"
            ]
          }
        },
        {
          "output_type": "display_data",
          "data": {
            "application/javascript": [
              " \n",
              "    var x = document.getElementById(\"button-5cfdec26-350d-49e7-9ebd-686c89e9ec4b\");\n",
              "    if (x.style.display === \"none\")\n",
              "      x.style.display = \"block\";\n",
              "    else\n",
              "      x.style.display = \"none\";\n",
              "    "
            ],
            "text/plain": [
              "<IPython.core.display.Javascript object>"
            ]
          },
          "metadata": {
            "tags": []
          }
        },
        {
          "output_type": "display_data",
          "data": {
            "application/javascript": [
              "window[\"74c10ac8-6209-11e9-a733-0242ac1c0002\"] = google.colab.output.getActiveOutputArea();\n",
              "//# sourceURL=js_c48ad5bc2e"
            ],
            "text/plain": [
              "<IPython.core.display.Javascript object>"
            ]
          },
          "metadata": {
            "tags": [
              "id1_content_2",
              "outputarea_id1"
            ]
          }
        },
        {
          "output_type": "display_data",
          "data": {
            "application/javascript": [
              "window[\"74c147fe-6209-11e9-a733-0242ac1c0002\"] = document.querySelector(\"#id1_content_2\");\n",
              "//# sourceURL=js_709fb9c418"
            ],
            "text/plain": [
              "<IPython.core.display.Javascript object>"
            ]
          },
          "metadata": {
            "tags": [
              "id1_content_2",
              "outputarea_id1"
            ]
          }
        },
        {
          "output_type": "display_data",
          "data": {
            "application/javascript": [
              "window[\"74c180c0-6209-11e9-a733-0242ac1c0002\"] = google.colab.output.setActiveOutputArea(window[\"74c147fe-6209-11e9-a733-0242ac1c0002\"]);\n",
              "//# sourceURL=js_29f9cfd5f9"
            ],
            "text/plain": [
              "<IPython.core.display.Javascript object>"
            ]
          },
          "metadata": {
            "tags": [
              "id1_content_2",
              "outputarea_id1"
            ]
          }
        },
        {
          "output_type": "display_data",
          "data": {
            "application/javascript": [
              "window[\"74c1b6c6-6209-11e9-a733-0242ac1c0002\"] = window[\"id1\"].setSelectedTabIndex(2);\n",
              "//# sourceURL=js_75fb065ac4"
            ],
            "text/plain": [
              "<IPython.core.display.Javascript object>"
            ]
          },
          "metadata": {
            "tags": [
              "id1_content_2",
              "outputarea_id1"
            ]
          }
        },
        {
          "output_type": "stream",
          "text": [
            "Please select \"Договор\" .docx file:\n"
          ],
          "name": "stdout"
        },
        {
          "output_type": "display_data",
          "data": {
            "text/html": [
              "\n",
              "     <input type=\"file\" id=\"files-5760c4d1-6f0a-4e4b-9acf-a313ddfbd99e\" name=\"files[]\" multiple disabled />\n",
              "     <output id=\"result-5760c4d1-6f0a-4e4b-9acf-a313ddfbd99e\">\n",
              "      Upload widget is only available when the cell has been executed in the\n",
              "      current browser session. Please rerun this cell to enable.\n",
              "      </output>\n",
              "      <script src=\"/nbextensions/google.colab/files.js\"></script> "
            ],
            "text/plain": [
              "<IPython.core.display.HTML object>"
            ]
          },
          "metadata": {
            "tags": [
              "id1_content_2",
              "outputarea_id1",
              "user_output"
            ]
          }
        },
        {
          "output_type": "stream",
          "text": [
            "Saving МНГ1 Договор купли-продажи АЗС № 24.docx to МНГ1 Договор купли-продажи АЗС № 24 (1).docx\n",
            "User uploaded file \"МНГ1 Договор купли-продажи АЗС № 24.docx\" with length 36979 bytes\n",
            "Символов в оригинальном документе: 12060\n",
            "❤️ ACCOMPLISHED: \t 0.\t parsing document and detecting document high-level structure\n",
            "INFO:tensorflow:Saver not created because there are no variables in the graph to restore\n"
          ],
          "name": "stdout"
        },
        {
          "output_type": "stream",
          "text": [
            "I0418 18:40:45.526041 140221498161024 saver.py:1483] Saver not created because there are no variables in the graph to restore\n"
          ],
          "name": "stderr"
        },
        {
          "output_type": "stream",
          "text": [
            "Cannot find headline matching pattern \"headline.def\"\n",
            "Cannot find headline matching pattern \"headline.price.\"\n",
            "Cannot find headline matching pattern \"headline.pricecond\"\n",
            "Cannot find headline matching pattern \"headline.terms\"\n",
            "Cannot find headline matching pattern \"headline.break\"\n",
            "Cannot find headline matching pattern \"headline.rights\"\n",
            "Cannot find headline matching pattern \"headline.obl\"\n",
            "Cannot find headline matching pattern \"headline.confidence\"\n",
            "Cannot find headline matching pattern \"headline.appl\"\n",
            "Cannot find headline matching pattern \"headline.addresses\"\n",
            "Cannot find headline matching pattern \"headline.conficts\"\n",
            "❤️ ACCOMPLISHED: \t 1.\t embedding headlines into semantic space\n",
            "⚠️ WARNING: - Раздел про стоимость сделки не найден!\n",
            "- Ищем стоимость в разделе ПРЕДМЕТ ДОГОВОРА.\n",
            "INFO:tensorflow:Saver not created because there are no variables in the graph to restore\n"
          ],
          "name": "stdout"
        },
        {
          "output_type": "stream",
          "text": [
            "I0418 18:40:50.580178 140221498161024 saver.py:1483] Saver not created because there are no variables in the graph to restore\n"
          ],
          "name": "stderr"
        },
        {
          "output_type": "stream",
          "text": [
            "Function calculate_distances_per_pattern called 60 times. \n",
            "Execution time max: 0.3153, average: 0.0380\n",
            "Function _emb called 2 times. \n",
            "Execution time max: 5.8558, average: 4.8094\n",
            "alt price section DOC --------------------\n"
          ],
          "name": "stdout"
        },
        {
          "output_type": "display_data",
          "data": {
            "text/html": [
              "<h3>ПРЕДМЕТ ДОГОВОРА.</h3> <div style=\"margin-left:4em; font-size=90%\"><span title=\"0 -0.0000\" style=\"background-color:#aac7fd\">1.1 </span><span title=\"1 0.0000\" style=\"background-color:#aac7fd\">Продавец </span><span title=\"2 0.0000\" style=\"background-color:#aac7fd\">обязуется </span><span title=\"3 0.0000\" style=\"background-color:#aac7fd\">передать </span><span title=\"4 0.0000\" style=\"background-color:#aac7fd\">в </span><span title=\"5 0.0000\" style=\"background-color:#aac7fd\">собственность </span><span title=\"6 0.0000\" style=\"background-color:#aac7fd\">, </span><span title=\"7 0.0000\" style=\"background-color:#aac7fd\">а </span><span title=\"8 0.0000\" style=\"background-color:#aac7fd\">Покупатель </span><span title=\"9 0.0000\" style=\"background-color:#aac7fd\">обязуется </span><span title=\"10 0.0000\" style=\"background-color:#aac7fd\">принять </span><span title=\"11 0.0000\" style=\"background-color:#aac7fd\">и </span><span title=\"12 0.0000\" style=\"background-color:#aac7fd\">оплатить </span><span title=\"13 0.0000\" style=\"background-color:#aac7fd\">в </span><span title=\"14 0.0000\" style=\"background-color:#aac7fd\">соответствии </span><span title=\"15 0.0000\" style=\"background-color:#aac7fd\">с </span><span title=\"16 0.0000\" style=\"background-color:#aac7fd\">условиями </span><span title=\"17 0.0000\" style=\"background-color:#aac7fd\">настоящего </span><span title=\"18 0.0000\" style=\"background-color:#aac7fd\">Договора </span><span title=\"19 0.0000\" style=\"background-color:#aac7fd\">следующее </span><span title=\"20 0.0000\" style=\"background-color:#aac7fd\">имущество </span><span title=\"21 0.0000\" style=\"background-color:#aac7fd\">: </span><span title=\"22 0.0000\" style=\"background-color:#aac7fd\">\n",
              " </span><br><span title=\"23 0.0000\" style=\"background-color:#aac7fd\">АЗС </span><span title=\"24 -0.0000\" style=\"background-color:#aac7fd\">№24 </span><span title=\"25 0.0000\" style=\"background-color:#aac7fd\">, </span><span title=\"26 0.0000\" style=\"background-color:#aac7fd\">назначение </span><span title=\"27 0.0000\" style=\"background-color:#aac7fd\">: </span><span title=\"28 0.0000\" style=\"background-color:#aac7fd\">нежилое </span><span title=\"29 0.0000\" style=\"background-color:#aac7fd\">, </span><span title=\"30 0.0000\" style=\"background-color:#aac7fd\">1-этажный </span><span title=\"31 0.0000\" style=\"background-color:#aac7fd\">( </span><span title=\"32 0.0000\" style=\"background-color:#aac7fd\">подземных </span><span title=\"33 0.0000\" style=\"background-color:#aac7fd\">этажей </span><span title=\"34 -0.0000\" style=\"background-color:#aac7fd\">- </span><span title=\"35 0.4451\" style=\"background-color:#f5c2aa\">0 </span><span title=\"36 0.4112\" style=\"background-color:#f2c9b4\">) </span><span title=\"37 0.3330\" style=\"background-color:#ead4c8\">, </span><span title=\"38 0.2890\" style=\"background-color:#e3d9d3\">общая </span><span title=\"39 0.2776\" style=\"background-color:#e1dad6\">площадь </span><span title=\"40 0.2301\" style=\"background-color:#d9dce1\">35,2 </span><span title=\"41 0.2121\" style=\"background-color:#d6dce4\">кв </span><span title=\"42 0.0000\" style=\"background-color:#aac7fd\">. </span><span title=\"43 0.0000\" style=\"background-color:#aac7fd\">м. </span><span title=\"44 0.0000\" style=\"background-color:#aac7fd\">, </span><span title=\"45 0.0000\" style=\"background-color:#aac7fd\">инв.№ </span><span title=\"46 0.0000\" style=\"background-color:#aac7fd\">5876 </span><span title=\"47 0.0000\" style=\"background-color:#aac7fd\">, </span><span title=\"48 0.0000\" style=\"background-color:#aac7fd\">лит </span><span title=\"49 0.0000\" style=\"background-color:#aac7fd\">. </span><span title=\"50 0.0000\" style=\"background-color:#aac7fd\">В </span><span title=\"51 0.0000\" style=\"background-color:#aac7fd\">, </span><span title=\"52 0.0000\" style=\"background-color:#aac7fd\">кадастровый </span><span title=\"53 0.0000\" style=\"background-color:#aac7fd\">номер </span><span title=\"54 0.0000\" style=\"background-color:#aac7fd\">: </span><span title=\"55 -0.0000\" style=\"background-color:#aac7fd\">11:99:000003:37 </span><span title=\"56 0.0000\" style=\"background-color:#aac7fd\">, </span><span title=\"57 0.0000\" style=\"background-color:#aac7fd\">адрес </span><span title=\"58 0.0000\" style=\"background-color:#aac7fd\">объекта </span><span title=\"59 0.0000\" style=\"background-color:#aac7fd\">: </span><span title=\"60 0.0000\" style=\"background-color:#aac7fd\">г. </span><span title=\"61 0.0000\" style=\"background-color:#aac7fd\">Кемерово </span><span title=\"62 0.0000\" style=\"background-color:#aac7fd\">, </span><span title=\"63 0.0000\" style=\"background-color:#aac7fd\">улица </span><span title=\"64 0.0000\" style=\"background-color:#aac7fd\">Ленина </span><span title=\"65 0.0000\" style=\"background-color:#aac7fd\">, </span><span title=\"66 0.0000\" style=\"background-color:#aac7fd\">дом </span><span title=\"67 0.0000\" style=\"background-color:#aac7fd\">25 </span><span title=\"68 0.0000\" style=\"background-color:#aac7fd\">( </span><span title=\"69 0.0000\" style=\"background-color:#aac7fd\">далее </span><span title=\"70 0.0000\" style=\"background-color:#aac7fd\">- </span><span title=\"71 0.0000\" style=\"background-color:#aac7fd\">« </span><span title=\"72 0.0000\" style=\"background-color:#aac7fd\">Объект </span><span title=\"73 0.0000\" style=\"background-color:#aac7fd\">» </span><span title=\"74 0.0000\" style=\"background-color:#aac7fd\">) </span><span title=\"75 0.0000\" style=\"background-color:#aac7fd\">, </span><span title=\"76 0.0000\" style=\"background-color:#aac7fd\">\n",
              " </span><br><span title=\"77 0.0000\" style=\"background-color:#aac7fd\">Земельный </span><span title=\"78 0.0000\" style=\"background-color:#aac7fd\">участок </span><span title=\"79 0.0000\" style=\"background-color:#aac7fd\">, </span><span title=\"80 0.0000\" style=\"background-color:#aac7fd\">категория </span><span title=\"81 0.0000\" style=\"background-color:#aac7fd\">земель </span><span title=\"82 0.0000\" style=\"background-color:#aac7fd\">: </span><span title=\"83 0.0000\" style=\"background-color:#aac7fd\">земли </span><span title=\"84 0.0000\" style=\"background-color:#aac7fd\">населенных </span><span title=\"85 0.0000\" style=\"background-color:#aac7fd\">пунктов </span><span title=\"86 0.0000\" style=\"background-color:#aac7fd\">, </span><span title=\"87 0.0000\" style=\"background-color:#aac7fd\">разрешенное </span><span title=\"88 0.0000\" style=\"background-color:#aac7fd\">использование </span><span title=\"89 0.0000\" style=\"background-color:#aac7fd\">: </span><span title=\"90 0.0000\" style=\"background-color:#aac7fd\">автозаправочная </span><span title=\"91 0.0000\" style=\"background-color:#aac7fd\">станция </span><span title=\"92 0.0000\" style=\"background-color:#aac7fd\">, </span><span title=\"93 0.0000\" style=\"background-color:#aac7fd\">общая </span><span title=\"94 0.0000\" style=\"background-color:#aac7fd\">площадь </span><span title=\"95 0.5461\" style=\"background-color:#f7ad90\">2 </span><span title=\"96 0.4582\" style=\"background-color:#f5c0a7\">950,16 </span><span title=\"97 0.3901\" style=\"background-color:#f1cdba\">кв </span><span title=\"98 0.3286\" style=\"background-color:#ead5c9\">. </span><span title=\"99 0.2760\" style=\"background-color:#e1dad6\">м. </span><span title=\"100 0.2560\" style=\"background-color:#dedcdb\">, </span><span title=\"101 0.2223\" style=\"background-color:#d8dce2\">кадастровый </span><span title=\"102 0.0000\" style=\"background-color:#aac7fd\">номер </span><span title=\"103 0.0000\" style=\"background-color:#aac7fd\">: </span><span title=\"104 0.0000\" style=\"background-color:#aac7fd\">12:00:0000001:5 </span><span title=\"105 0.0000\" style=\"background-color:#aac7fd\">, </span><span title=\"106 0.0000\" style=\"background-color:#aac7fd\">адрес </span><span title=\"107 0.0000\" style=\"background-color:#aac7fd\">: </span><span title=\"108 0.0000\" style=\"background-color:#aac7fd\">, </span><span title=\"109 0.0000\" style=\"background-color:#aac7fd\">г. </span><span title=\"110 0.0000\" style=\"background-color:#aac7fd\">Иваново </span><span title=\"111 0.0000\" style=\"background-color:#aac7fd\">, </span><span title=\"112 0.0000\" style=\"background-color:#aac7fd\">улица </span><span title=\"113 0.0000\" style=\"background-color:#aac7fd\">Центральная </span><span title=\"114 0.0000\" style=\"background-color:#aac7fd\">, </span><span title=\"115 0.0000\" style=\"background-color:#aac7fd\">дом </span><span title=\"116 -0.0000\" style=\"background-color:#aac7fd\">25 </span><span title=\"117 0.0000\" style=\"background-color:#aac7fd\">( </span><span title=\"118 0.0000\" style=\"background-color:#aac7fd\">далее </span><span title=\"119 0.0000\" style=\"background-color:#aac7fd\">– </span><span title=\"120 0.0000\" style=\"background-color:#aac7fd\">« </span><span title=\"121 0.0000\" style=\"background-color:#aac7fd\">Земельный </span><span title=\"122 0.0000\" style=\"background-color:#aac7fd\">участок </span><span title=\"123 0.0000\" style=\"background-color:#aac7fd\">» </span><span title=\"124 0.0000\" style=\"background-color:#aac7fd\">) </span><span title=\"125 0.0000\" style=\"background-color:#aac7fd\">. </span><span title=\"126 0.0000\" style=\"background-color:#aac7fd\">\n",
              " </span><br><span title=\"127 0.0000\" style=\"background-color:#aac7fd\">Перечень </span><span title=\"128 0.0000\" style=\"background-color:#aac7fd\">недвижимого </span><span title=\"129 0.0000\" style=\"background-color:#aac7fd\">Имущества </span><span title=\"130 0.0000\" style=\"background-color:#aac7fd\">приведен </span><span title=\"131 0.0000\" style=\"background-color:#aac7fd\">в </span><span title=\"132 0.0000\" style=\"background-color:#aac7fd\">Приложении </span><span title=\"133 0.0000\" style=\"background-color:#aac7fd\">№ </span><span title=\"134 0.4718\" style=\"background-color:#f6bea4\">1 </span><span title=\"135 0.4177\" style=\"background-color:#f3c8b2\">к </span><span title=\"136 0.3518\" style=\"background-color:#edd2c3\">настоящему </span><span title=\"137 0.3128\" style=\"background-color:#e7d7ce\">Договору </span><span title=\"138 0.2744\" style=\"background-color:#e1dad6\">. </span><span title=\"139 0.0000\" style=\"background-color:#aac7fd\">\n",
              " </span><br><span title=\"140 0.2080\" style=\"background-color:#d5dbe5\">Перечень </span><span title=\"141 0.0000\" style=\"background-color:#aac7fd\">и </span><span title=\"142 0.0000\" style=\"background-color:#aac7fd\">описание </span><span title=\"143 0.0000\" style=\"background-color:#aac7fd\">Движимого </span><span title=\"144 0.0000\" style=\"background-color:#aac7fd\">имущества </span><span title=\"145 0.0000\" style=\"background-color:#aac7fd\">, </span><span title=\"146 0.0000\" style=\"background-color:#aac7fd\">находящегося </span><span title=\"147 0.0000\" style=\"background-color:#aac7fd\">на </span><span title=\"148 0.0000\" style=\"background-color:#aac7fd\">Объекте </span><span title=\"149 0.0000\" style=\"background-color:#aac7fd\">, </span><span title=\"150 0.0000\" style=\"background-color:#aac7fd\">принадлежащего </span><span title=\"151 0.0000\" style=\"background-color:#aac7fd\">на </span><span title=\"152 0.0000\" style=\"background-color:#aac7fd\">праве </span><span title=\"153 0.0000\" style=\"background-color:#aac7fd\">собственности </span><span title=\"154 0.0000\" style=\"background-color:#aac7fd\">Продавцу </span><span title=\"155 0.0000\" style=\"background-color:#aac7fd\">и </span><span title=\"156 0.0000\" style=\"background-color:#aac7fd\">предназначенного </span><span title=\"157 0.0000\" style=\"background-color:#aac7fd\">для </span><span title=\"158 0.0000\" style=\"background-color:#aac7fd\">эксплуатации </span><span title=\"159 0.0000\" style=\"background-color:#aac7fd\">Объекта </span><span title=\"160 0.0000\" style=\"background-color:#aac7fd\">, </span><span title=\"161 0.0000\" style=\"background-color:#aac7fd\">содержатся </span><span title=\"162 0.0000\" style=\"background-color:#aac7fd\">в </span><span title=\"163 0.0000\" style=\"background-color:#aac7fd\">Приложении </span><span title=\"164 0.0000\" style=\"background-color:#aac7fd\">№ </span><span title=\"165 0.0000\" style=\"background-color:#aac7fd\">2 </span><span title=\"166 0.0000\" style=\"background-color:#aac7fd\">к </span><span title=\"167 0.0000\" style=\"background-color:#aac7fd\">настоящему </span><span title=\"168 0.0000\" style=\"background-color:#aac7fd\">Договору </span><span title=\"169 0.0000\" style=\"background-color:#aac7fd\">. </span><span title=\"170 0.0000\" style=\"background-color:#aac7fd\">\n",
              " </span><br><span title=\"171 -0.0000\" style=\"background-color:#aac7fd\">1.2 </span><span title=\"172 0.0000\" style=\"background-color:#aac7fd\">. </span><span title=\"173 0.0000\" style=\"background-color:#aac7fd\">Объект </span><span title=\"174 0.0000\" style=\"background-color:#aac7fd\">и </span><span title=\"175 0.0000\" style=\"background-color:#aac7fd\">Земельный </span><span title=\"176 0.0000\" style=\"background-color:#aac7fd\">участок </span><span title=\"177 0.0000\" style=\"background-color:#aac7fd\">принадлежат </span><span title=\"178 0.0000\" style=\"background-color:#aac7fd\">Продавцу </span><span title=\"179 0.0000\" style=\"background-color:#aac7fd\">на </span><span title=\"180 0.0000\" style=\"background-color:#aac7fd\">праве </span><span title=\"181 0.0000\" style=\"background-color:#aac7fd\">собственности </span><span title=\"182 0.0000\" style=\"background-color:#aac7fd\">на </span><span title=\"183 0.0000\" style=\"background-color:#aac7fd\">основании </span><span title=\"184 0.0000\" style=\"background-color:#aac7fd\">Договора </span><span title=\"185 0.0000\" style=\"background-color:#aac7fd\">купли-продажи </span><span title=\"186 0.0000\" style=\"background-color:#aac7fd\">от </span><span title=\"187 -0.0000\" style=\"background-color:#aac7fd\">01-02-2005 </span><span title=\"188 0.0000\" style=\"background-color:#aac7fd\">года </span><span title=\"189 0.0000\" style=\"background-color:#aac7fd\">. </span><span title=\"190 -0.0000\" style=\"background-color:#aac7fd\">\n",
              " </span><br><span title=\"191 -0.0000\" style=\"background-color:#aac7fd\">\n",
              " </span><br></div>"
            ],
            "text/plain": [
              "<IPython.core.display.HTML object>"
            ]
          },
          "metadata": {
            "tags": [
              "id1_content_2",
              "outputarea_id1",
              "user_output"
            ]
          }
        },
        {
          "output_type": "stream",
          "text": [
            "❤️ ACCOMPLISHED: \t 2.\t searching for transaction values in section  \"ПРЕДМЕТ ДОГОВОРА.\"\n",
            "⚠️ WARNING: - В разделе \"ПРЕДМЕТ ДОГОВОРА.\" стоимость сделки не найдена!\n",
            "⚠️ WARNING: - Ищем стоимость во всем документе!\n",
            "INFO:tensorflow:Saver not created because there are no variables in the graph to restore\n"
          ],
          "name": "stdout"
        },
        {
          "output_type": "stream",
          "text": [
            "I0418 18:40:56.258549 140221498161024 saver.py:1483] Saver not created because there are no variables in the graph to restore\n"
          ],
          "name": "stderr"
        },
        {
          "output_type": "stream",
          "text": [
            "Function calculate_distances_per_pattern called 61 times. \n",
            "Execution time max: 0.3153, average: 0.0396\n",
            "Function _emb called 3 times. \n",
            "Execution time max: 9.4598, average: 6.3595\n",
            "ENTIRE DOC --------------------------------------------------------------------------------------------------------------------------------------------\n",
            "❤️ ACCOMPLISHED: \t 3.\t searching for transaction values in the entire document\n",
            "INFO:tensorflow:Saver not created because there are no variables in the graph to restore\n"
          ],
          "name": "stdout"
        },
        {
          "output_type": "stream",
          "text": [
            "I0418 18:41:07.572449 140221498161024 saver.py:1483] Saver not created because there are no variables in the graph to restore\n"
          ],
          "name": "stderr"
        },
        {
          "output_type": "stream",
          "text": [
            "0\n",
            "clean-up ---------------SLEEP: give it a time\n",
            "❤️ ❤️ ❤️ DONE (re)importing Tensorflow hub.Module \n",
            "Tensorflow version is 1.13.1\n",
            "Function calculate_distances_per_pattern called 62 times. \n",
            "Execution time max: 1.3681, average: 0.0610\n",
            "Function _emb called 4 times. \n",
            "Execution time max: 22.2178, average: 10.3241\n",
            "❤️ ACCOMPLISHED: \t 4.\t fetching transaction values\n"
          ],
          "name": "stdout"
        },
        {
          "output_type": "display_data",
          "data": {
            "text/html": [
              "<b style=\"color:#333333\"> =  RUB         2,500,000.00 confidence=                0.33</b> "
            ],
            "text/plain": [
              "<IPython.core.display.HTML object>"
            ]
          },
          "metadata": {
            "tags": [
              "id1_content_2",
              "outputarea_id1",
              "user_output"
            ]
          }
        },
        {
          "output_type": "display_data",
          "data": {
            "text/html": [
              "<b style=\"color:#333333\"> =  RUB         2,000,000.00 confidence=                0.33</b> "
            ],
            "text/plain": [
              "<IPython.core.display.HTML object>"
            ]
          },
          "metadata": {
            "tags": [
              "id1_content_2",
              "outputarea_id1",
              "user_output"
            ]
          }
        },
        {
          "output_type": "display_data",
          "data": {
            "text/html": [
              "<b style=\"color:#333333\"> =  RUB           500,000.00 confidence=                0.32</b> "
            ],
            "text/plain": [
              "<IPython.core.display.HTML object>"
            ]
          },
          "metadata": {
            "tags": [
              "id1_content_2",
              "outputarea_id1",
              "user_output"
            ]
          }
        },
        {
          "output_type": "display_data",
          "data": {
            "text/html": [
              "<b style=\"color:#333333\"> =  RUB         7,600,000.00 confidence=                0.39</b> "
            ],
            "text/plain": [
              "<IPython.core.display.HTML object>"
            ]
          },
          "metadata": {
            "tags": [
              "id1_content_2",
              "outputarea_id1",
              "user_output"
            ]
          }
        },
        {
          "output_type": "display_data",
          "data": {
            "text/html": [
              "<b style=\"color:#333333\"> =  RUB         2,500,000.00 confidence=                0.32</b> "
            ],
            "text/plain": [
              "<IPython.core.display.HTML object>"
            ]
          },
          "metadata": {
            "tags": [
              "id1_content_2",
              "outputarea_id1",
              "user_output"
            ]
          }
        },
        {
          "output_type": "display_data",
          "data": {
            "text/html": [
              "<b style=\"color:#333333\"> =  RUB         2,500,000.00 confidence=                0.32</b> "
            ],
            "text/plain": [
              "<IPython.core.display.HTML object>"
            ]
          },
          "metadata": {
            "tags": [
              "id1_content_2",
              "outputarea_id1",
              "user_output"
            ]
          }
        },
        {
          "output_type": "stream",
          "text": [
            "Recent parsing warnings:\n",
            "\t\t ⚠️ WARNING: - Раздел про стоимость сделки не найден!\n",
            "\t\t ⚠️ WARNING: - В разделе \"ПРЕДМЕТ ДОГОВОРА.\" стоимость сделки не найдена!\n",
            "\t\t ⚠️ WARNING: - Ищем стоимость во всем документе!\n"
          ],
          "name": "stdout"
        },
        {
          "output_type": "display_data",
          "data": {
            "text/html": [
              "Предмет договора:<h3 style=\"margin:0\">КОММЕРЧЕСКАЯ СДЕЛКА<sup> comm</sup> </h3> confidence:                0.88"
            ],
            "text/plain": [
              "<IPython.core.display.HTML object>"
            ]
          },
          "metadata": {
            "tags": [
              "id1_content_2",
              "outputarea_id1",
              "user_output"
            ]
          }
        },
        {
          "output_type": "display_data",
          "data": {
            "text/html": [
              "<h3>Выявленное Содержание документа</h4><ul><li> 3 <sup>line 0</sup></li><li> ДОГОВОР. <sup>line 5</sup></li><li> ПРЕДМЕТ ДОГОВОРА. <sup>line 12</sup></li><li> 2.ГАРАНТИИ ПРОДАВЦА <sup>line 20</sup></li><li> 3.ПЕРЕХОД ПРАВА СОБСТВЕННОСТИ <sup>line 27</sup></li><li> 4.ОБЯЗАННОСТИ СТОРОН. <sup>line 31</sup></li><li> 5.СТОИМОСТЬ И ПОРЯДОК РАСЧЕТОВ. <sup>line 42</sup></li><li> 6.ОТВЕТСТВЕННОСТЬ СТОРОН. <sup>line 57</sup></li><li> 7.ОБСТОЯТЕЛЬСТВА НЕПРЕОДОЛИМОЙ СИЛЫ. <sup>line 63</sup></li><li> 8.ПОРЯДОК РАЗРЕШЕНИЯ СПОРОВ. <sup>line 68</sup></li><li> 9.ОСОБЫЕ УСЛОВИЯ. <sup>line 72</sup></li></ul>"
            ],
            "text/plain": [
              "<IPython.core.display.HTML object>"
            ]
          },
          "metadata": {
            "tags": [
              "id1_content_2",
              "outputarea_id1",
              "user_output"
            ]
          }
        },
        {
          "output_type": "stream",
          "text": [
            "\u001b[1;32mДоговор: сделано✓\n"
          ],
          "name": "stdout"
        },
        {
          "output_type": "display_data",
          "data": {
            "application/javascript": [
              " \n",
              "    var x = document.getElementById(\"button-5cfdec26-350d-49e7-9ebd-686c89e9ec4b\");\n",
              "    if (x.style.display === \"none\")\n",
              "      x.style.display = \"block\";\n",
              "    else\n",
              "      x.style.display = \"none\";\n",
              "    "
            ],
            "text/plain": [
              "<IPython.core.display.Javascript object>"
            ]
          },
          "metadata": {
            "tags": [
              "id1_content_2",
              "outputarea_id1",
              "user_output"
            ]
          }
        },
        {
          "output_type": "display_data",
          "data": {
            "image/png": "[encoded data removed]",
            "text/plain": [
              "<Figure size 1440x432 with 1 Axes>"
            ]
          },
          "metadata": {
            "tags": [
              "id1_content_2",
              "outputarea_id1",
              "user_output"
            ]
          }
        },
        {
          "output_type": "display_data",
          "data": {
            "application/javascript": [
              "window[\"943f2920-6209-11e9-a733-0242ac1c0002\"] = google.colab.output.setActiveOutputArea(window[\"74c10ac8-6209-11e9-a733-0242ac1c0002\"]);\n",
              "//# sourceURL=js_afe17f03d0"
            ],
            "text/plain": [
              "<IPython.core.display.Javascript object>"
            ]
          },
          "metadata": {
            "tags": [
              "id1_content_2",
              "outputarea_id1"
            ]
          }
        },
        {
          "output_type": "display_data",
          "data": {
            "application/javascript": [
              "window[\"9440c47e-6209-11e9-a733-0242ac1c0002\"] = google.colab.output.getActiveOutputArea();\n",
              "//# sourceURL=js_44c89df760"
            ],
            "text/plain": [
              "<IPython.core.display.Javascript object>"
            ]
          },
          "metadata": {
            "tags": [
              "id1_content_3",
              "outputarea_id1"
            ]
          }
        },
        {
          "output_type": "display_data",
          "data": {
            "application/javascript": [
              "window[\"944111fe-6209-11e9-a733-0242ac1c0002\"] = document.querySelector(\"#id1_content_3\");\n",
              "//# sourceURL=js_88a94aaebc"
            ],
            "text/plain": [
              "<IPython.core.display.Javascript object>"
            ]
          },
          "metadata": {
            "tags": [
              "id1_content_3",
              "outputarea_id1"
            ]
          }
        },
        {
          "output_type": "display_data",
          "data": {
            "application/javascript": [
              "window[\"94414d4a-6209-11e9-a733-0242ac1c0002\"] = google.colab.output.setActiveOutputArea(window[\"944111fe-6209-11e9-a733-0242ac1c0002\"]);\n",
              "//# sourceURL=js_ab8db9255f"
            ],
            "text/plain": [
              "<IPython.core.display.Javascript object>"
            ]
          },
          "metadata": {
            "tags": [
              "id1_content_3",
              "outputarea_id1"
            ]
          }
        },
        {
          "output_type": "display_data",
          "data": {
            "application/javascript": [
              "window[\"9441813e-6209-11e9-a733-0242ac1c0002\"] = window[\"id1\"].setSelectedTabIndex(3);\n",
              "//# sourceURL=js_3836fa3bc3"
            ],
            "text/plain": [
              "<IPython.core.display.Javascript object>"
            ]
          },
          "metadata": {
            "tags": [
              "id1_content_3",
              "outputarea_id1"
            ]
          }
        },
        {
          "output_type": "display_data",
          "data": {
            "text/html": [
              "<button style=\"padding:5px; font-size:16px; margin:15px\"  id=\"button-3264f88d-596c-4421-8d26-af9db569b14c\">Искать нарушения...</button>\n",
              "        <script>\n",
              "          document.querySelector(\"#button-3264f88d-596c-4421-8d26-af9db569b14c\").onclick = (e) => {\n",
              "            google.colab.kernel.invokeFunction(\"button-3264f88d-596c-4421-8d26-af9db569b14c\", [], {})\n",
              "            e.preventDefault();\n",
              "          };\n",
              "        </script>"
            ],
            "text/plain": [
              "<IPython.core.display.HTML object>"
            ]
          },
          "metadata": {
            "tags": [
              "id1_content_3",
              "outputarea_id1",
              "user_output"
            ]
          }
        },
        {
          "output_type": "display_data",
          "data": {
            "application/javascript": [
              "window[\"9445ee22-6209-11e9-a733-0242ac1c0002\"] = google.colab.output.setActiveOutputArea(window[\"9440c47e-6209-11e9-a733-0242ac1c0002\"]);\n",
              "//# sourceURL=js_8557e1fa8f"
            ],
            "text/plain": [
              "<IPython.core.display.Javascript object>"
            ]
          },
          "metadata": {
            "tags": [
              "id1_content_3",
              "outputarea_id1"
            ]
          }
        },
        {
          "output_type": "display_data",
          "data": {
            "application/javascript": [
              "window[\"9b155ac6-6209-11e9-a733-0242ac1c0002\"] = google.colab.output.getActiveOutputArea();\n",
              "//# sourceURL=js_693dc0bbe3"
            ],
            "text/plain": [
              "<IPython.core.display.Javascript object>"
            ]
          },
          "metadata": {
            "tags": [
              "id1_content_3",
              "outputarea_id1"
            ]
          }
        },
        {
          "output_type": "display_data",
          "data": {
            "application/javascript": [
              "window[\"9b15db18-6209-11e9-a733-0242ac1c0002\"] = document.querySelector(\"#id1_content_3\");\n",
              "//# sourceURL=js_690025b6d5"
            ],
            "text/plain": [
              "<IPython.core.display.Javascript object>"
            ]
          },
          "metadata": {
            "tags": [
              "id1_content_3",
              "outputarea_id1"
            ]
          }
        },
        {
          "output_type": "display_data",
          "data": {
            "application/javascript": [
              "window[\"9b169d78-6209-11e9-a733-0242ac1c0002\"] = google.colab.output.setActiveOutputArea(window[\"9b15db18-6209-11e9-a733-0242ac1c0002\"]);\n",
              "//# sourceURL=js_b0c70a9e11"
            ],
            "text/plain": [
              "<IPython.core.display.Javascript object>"
            ]
          },
          "metadata": {
            "tags": [
              "id1_content_3",
              "outputarea_id1"
            ]
          }
        },
        {
          "output_type": "display_data",
          "data": {
            "application/javascript": [
              "window[\"9b1785b2-6209-11e9-a733-0242ac1c0002\"] = window[\"id1\"].setSelectedTabIndex(3);\n",
              "//# sourceURL=js_f413dc7d65"
            ],
            "text/plain": [
              "<IPython.core.display.Javascript object>"
            ]
          },
          "metadata": {
            "tags": [
              "id1_content_3",
              "outputarea_id1"
            ]
          }
        },
        {
          "output_type": "stream",
          "text": [
            "Поиск нарушений\n"
          ],
          "name": "stdout"
        },
        {
          "output_type": "display_data",
          "data": {
            "text/html": [
              "Предмет договора:<h3 style=\"margin:0\">КОММЕРЧЕСКАЯ СДЕЛКА<sup> comm</sup> </h3> confidence:                0.88"
            ],
            "text/plain": [
              "<IPython.core.display.HTML object>"
            ]
          },
          "metadata": {
            "tags": [
              "id1_content_3",
              "outputarea_id1",
              "user_output"
            ]
          }
        },
        {
          "output_type": "stream",
          "text": [
            "Сумма Договора:\n"
          ],
          "name": "stdout"
        },
        {
          "output_type": "display_data",
          "data": {
            "text/html": [
              "<b style=\"color:#333333\"> =  RUB         7,600,000.00 confidence=                0.39</b> "
            ],
            "text/plain": [
              "<IPython.core.display.HTML object>"
            ]
          },
          "metadata": {
            "tags": [
              "id1_content_3",
              "outputarea_id1",
              "user_output"
            ]
          }
        },
        {
          "output_type": "display_data",
          "data": {
            "text/html": [
              "<span title=\"0 0.0000\" style=\"background-color:#aac7fd\">включая </span><span title=\"1 0.0000\" style=\"background-color:#aac7fd\">ндс </span><span title=\"2 0.4605\" style=\"background-color:#f5c0a7\">20 </span><span title=\"3 0.4050\" style=\"background-color:#f2cab5\">% </span><span title=\"4 0.3946\" style=\"background-color:#f1ccb8\">. </span><span title=\"5 0.3143\" style=\"background-color:#e7d7ce\">\n",
              " </span><br><span title=\"6 0.3048\" style=\"background-color:#e6d7cf\">общая </span><span title=\"7 0.3510\" style=\"background-color:#edd2c3\">стоимость </span><span title=\"8 0.3172\" style=\"background-color:#e8d6cc\">имущества </span><span title=\"9 0.2494\" style=\"background-color:#dcdddd\">составляет </span><span title=\"10 0.6444\" style=\"background-color:#f39475\">7600000 </span><span title=\"11 0.5541\" style=\"background-color:#f7ac8e\">( </span><span title=\"12 0.4693\" style=\"background-color:#f6bea4\">семь </span><span title=\"13 0.4135\" style=\"background-color:#f2c9b4\">миллионов </span><span title=\"14 0.3602\" style=\"background-color:#edd1c2\">шестьсот </span><span title=\"15 0.2988\" style=\"background-color:#e5d8d1\">тысяч </span><span title=\"16 0.4370\" style=\"background-color:#f4c5ad\">) </span><span title=\"17 0.3810\" style=\"background-color:#f0cdbb\">рублей </span><span title=\"18 0.3446\" style=\"background-color:#ecd3c5\">\n",
              " </span><br><span title=\"19 0.2903\" style=\"background-color:#e3d9d3\">\n",
              " </span><br><span title=\"20 0.2374\" style=\"background-color:#dadce0\">5.2 </span><span title=\"21 0.2449\" style=\"background-color:#dcdddd\">. </span><span title=\"22 0.0000\" style=\"background-color:#aac7fd\">оплата </span><span title=\"23 0.0000\" style=\"background-color:#aac7fd\">суммы </span><span title=\"24 0.0000\" style=\"background-color:#aac7fd\">, </span><span title=\"25 0.0000\" style=\"background-color:#aac7fd\">указанной </span><span title=\"26 0.0000\" style=\"background-color:#aac7fd\">в </span><span title=\"27 0.0000\" style=\"background-color:#aac7fd\">пункт </span><span title=\"28 0.0000\" style=\"background-color:#aac7fd\">5.1. </span><span title=\"29 0.0000\" style=\"background-color:#aac7fd\">настоящего </span>"
            ],
            "text/plain": [
              "<IPython.core.display.HTML object>"
            ]
          },
          "metadata": {
            "tags": [
              "id1_content_3",
              "outputarea_id1",
              "user_output"
            ]
          }
        },
        {
          "output_type": "display_data",
          "data": {
            "text/html": [
              "<h2>Совет директоров</h2>"
            ],
            "text/plain": [
              "<IPython.core.display.HTML object>"
            ]
          },
          "metadata": {
            "tags": [
              "id1_content_3",
              "outputarea_id1",
              "user_output"
            ]
          }
        },
        {
          "output_type": "display_data",
          "data": {
            "text/html": [
              "<div>диапазон:           50,000,000 RUB  < ..... <          100,000,000 RUB </div>"
            ],
            "text/plain": [
              "<IPython.core.display.HTML object>"
            ]
          },
          "metadata": {
            "tags": [
              "id1_content_3",
              "outputarea_id1",
              "user_output"
            ]
          }
        },
        {
          "output_type": "display_data",
          "data": {
            "text/html": [
              "<div>диапазон:           25,000,000 USD  < ..... <                  inf RUB </div><div style=\"color:orange\">конвертация валют           25,000,000 USD  --> RUB </div><div style=\"margin-left:2em\"><div style=\"color:orange\">примерно:           25,000,000 USD  ~~         1,600,500,000 RUB   </div></div>"
            ],
            "text/plain": [
              "<IPython.core.display.HTML object>"
            ]
          },
          "metadata": {
            "tags": [
              "id1_content_3",
              "outputarea_id1",
              "user_output"
            ]
          }
        },
        {
          "output_type": "display_data",
          "data": {
            "text/html": [
              "<h2>Общее собрание участников/акционеров</h2>"
            ],
            "text/plain": [
              "<IPython.core.display.HTML object>"
            ]
          },
          "metadata": {
            "tags": [
              "id1_content_3",
              "outputarea_id1",
              "user_output"
            ]
          }
        },
        {
          "output_type": "display_data",
          "data": {
            "text/html": [
              "<div>диапазон:          100,000,000 RUB  < ..... <                  inf RUB </div>"
            ],
            "text/plain": [
              "<IPython.core.display.HTML object>"
            ]
          },
          "metadata": {
            "tags": [
              "id1_content_3",
              "outputarea_id1",
              "user_output"
            ]
          }
        },
        {
          "output_type": "display_data",
          "data": {
            "text/html": [
              "<h2>Генеральный директор</h2>"
            ],
            "text/plain": [
              "<IPython.core.display.HTML object>"
            ]
          },
          "metadata": {
            "tags": [
              "id1_content_3",
              "outputarea_id1",
              "user_output"
            ]
          }
        },
        {
          "output_type": "display_data",
          "data": {
            "text/html": [
              "<div>диапазон:           25,000,000 USD  < ..... <                  inf RUB </div><div style=\"color:orange\">конвертация валют           25,000,000 USD  --> RUB </div><div style=\"margin-left:2em\"><div style=\"color:orange\">примерно:           25,000,000 USD  ~~         1,600,500,000 RUB   </div></div>"
            ],
            "text/plain": [
              "<IPython.core.display.HTML object>"
            ]
          },
          "metadata": {
            "tags": [
              "id1_content_3",
              "outputarea_id1",
              "user_output"
            ]
          }
        },
        {
          "output_type": "display_data",
          "data": {
            "text/html": [
              "<div>диапазон:           25,000,000 USD  < ..... <                  inf RUB </div><div style=\"color:orange\">конвертация валют           25,000,000 USD  --> RUB </div><div style=\"margin-left:2em\"><div style=\"color:orange\">примерно:           25,000,000 USD  ~~         1,600,500,000 RUB   </div></div>"
            ],
            "text/plain": [
              "<IPython.core.display.HTML object>"
            ]
          },
          "metadata": {
            "tags": [
              "id1_content_3",
              "outputarea_id1",
              "user_output"
            ]
          }
        },
        {
          "output_type": "stream",
          "text": [
            "\u001b[1;32mПроверка нарушений: сделано✓\n"
          ],
          "name": "stdout"
        },
        {
          "output_type": "display_data",
          "data": {
            "application/javascript": [
              " \n",
              "    var x = document.getElementById(\"button-3264f88d-596c-4421-8d26-af9db569b14c\");\n",
              "    if (x.style.display === \"none\")\n",
              "      x.style.display = \"block\";\n",
              "    else\n",
              "      x.style.display = \"none\";\n",
              "    "
            ],
            "text/plain": [
              "<IPython.core.display.Javascript object>"
            ]
          },
          "metadata": {
            "tags": [
              "id1_content_3",
              "outputarea_id1",
              "user_output"
            ]
          }
        },
        {
          "output_type": "display_data",
          "data": {
            "application/javascript": [
              "window[\"9b1e33b2-6209-11e9-a733-0242ac1c0002\"] = google.colab.output.setActiveOutputArea(window[\"9b155ac6-6209-11e9-a733-0242ac1c0002\"]);\n",
              "//# sourceURL=js_85391f9b21"
            ],
            "text/plain": [
              "<IPython.core.display.Javascript object>"
            ]
          },
          "metadata": {
            "tags": [
              "id1_content_3",
              "outputarea_id1"
            ]
          }
        },
        {
          "output_type": "display_data",
          "data": {
            "application/javascript": [
              "window[\"9b1f687c-6209-11e9-a733-0242ac1c0002\"] = google.colab.output.getActiveOutputArea();\n",
              "//# sourceURL=js_cf46188e76"
            ],
            "text/plain": [
              "<IPython.core.display.Javascript object>"
            ]
          },
          "metadata": {
            "tags": [
              "id1_content_4",
              "outputarea_id1"
            ]
          }
        },
        {
          "output_type": "display_data",
          "data": {
            "application/javascript": [
              "window[\"9b1fa7ec-6209-11e9-a733-0242ac1c0002\"] = document.querySelector(\"#id1_content_4\");\n",
              "//# sourceURL=js_6265d7c186"
            ],
            "text/plain": [
              "<IPython.core.display.Javascript object>"
            ]
          },
          "metadata": {
            "tags": [
              "id1_content_4",
              "outputarea_id1"
            ]
          }
        },
        {
          "output_type": "display_data",
          "data": {
            "application/javascript": [
              "window[\"9b1fe2ac-6209-11e9-a733-0242ac1c0002\"] = google.colab.output.setActiveOutputArea(window[\"9b1fa7ec-6209-11e9-a733-0242ac1c0002\"]);\n",
              "//# sourceURL=js_50a2a00e81"
            ],
            "text/plain": [
              "<IPython.core.display.Javascript object>"
            ]
          },
          "metadata": {
            "tags": [
              "id1_content_4",
              "outputarea_id1"
            ]
          }
        },
        {
          "output_type": "display_data",
          "data": {
            "application/javascript": [
              "window[\"9b2026c2-6209-11e9-a733-0242ac1c0002\"] = window[\"id1\"].setSelectedTabIndex(4);\n",
              "//# sourceURL=js_3fdd5cdddd"
            ],
            "text/plain": [
              "<IPython.core.display.Javascript object>"
            ]
          },
          "metadata": {
            "tags": [
              "id1_content_4",
              "outputarea_id1"
            ]
          }
        },
        {
          "output_type": "display_data",
          "data": {
            "text/html": [
              "<button style=\"padding:5px; font-size:16px; margin:15px\"  id=\"button-37d2aa0b-7759-432f-9cf2-44be8a44b340\">Протокол...</button>\n",
              "        <script>\n",
              "          document.querySelector(\"#button-37d2aa0b-7759-432f-9cf2-44be8a44b340\").onclick = (e) => {\n",
              "            google.colab.kernel.invokeFunction(\"button-37d2aa0b-7759-432f-9cf2-44be8a44b340\", [], {})\n",
              "            e.preventDefault();\n",
              "          };\n",
              "        </script>"
            ],
            "text/plain": [
              "<IPython.core.display.HTML object>"
            ]
          },
          "metadata": {
            "tags": [
              "id1_content_4",
              "outputarea_id1",
              "user_output"
            ]
          }
        },
        {
          "output_type": "display_data",
          "data": {
            "application/javascript": [
              "window[\"9b212676-6209-11e9-a733-0242ac1c0002\"] = google.colab.output.setActiveOutputArea(window[\"9b1f687c-6209-11e9-a733-0242ac1c0002\"]);\n",
              "//# sourceURL=js_0718927ba1"
            ],
            "text/plain": [
              "<IPython.core.display.Javascript object>"
            ]
          },
          "metadata": {
            "tags": [
              "id1_content_4",
              "outputarea_id1"
            ]
          }
        },
        {
          "output_type": "display_data",
          "data": {
            "application/javascript": [
              " \n",
              "    var x = document.getElementById(\"button-3264f88d-596c-4421-8d26-af9db569b14c\");\n",
              "    if (x.style.display === \"none\")\n",
              "      x.style.display = \"block\";\n",
              "    else\n",
              "      x.style.display = \"none\";\n",
              "    "
            ],
            "text/plain": [
              "<IPython.core.display.Javascript object>"
            ]
          },
          "metadata": {
            "tags": []
          }
        },
        {
          "output_type": "display_data",
          "data": {
            "application/javascript": [
              "window[\"a42c0dda-6209-11e9-a733-0242ac1c0002\"] = google.colab.output.getActiveOutputArea();\n",
              "//# sourceURL=js_c1615ac35a"
            ],
            "text/plain": [
              "<IPython.core.display.Javascript object>"
            ]
          },
          "metadata": {
            "tags": [
              "id1_content_4",
              "outputarea_id1"
            ]
          }
        },
        {
          "output_type": "display_data",
          "data": {
            "application/javascript": [
              "window[\"a42c8ed6-6209-11e9-a733-0242ac1c0002\"] = document.querySelector(\"#id1_content_4\");\n",
              "//# sourceURL=js_5f4fae40db"
            ],
            "text/plain": [
              "<IPython.core.display.Javascript object>"
            ]
          },
          "metadata": {
            "tags": [
              "id1_content_4",
              "outputarea_id1"
            ]
          }
        },
        {
          "output_type": "display_data",
          "data": {
            "application/javascript": [
              "window[\"a42cc5a4-6209-11e9-a733-0242ac1c0002\"] = google.colab.output.setActiveOutputArea(window[\"a42c8ed6-6209-11e9-a733-0242ac1c0002\"]);\n",
              "//# sourceURL=js_855b7b3675"
            ],
            "text/plain": [
              "<IPython.core.display.Javascript object>"
            ]
          },
          "metadata": {
            "tags": [
              "id1_content_4",
              "outputarea_id1"
            ]
          }
        },
        {
          "output_type": "display_data",
          "data": {
            "application/javascript": [
              "window[\"a42d4a38-6209-11e9-a733-0242ac1c0002\"] = window[\"id1\"].setSelectedTabIndex(4);\n",
              "//# sourceURL=js_afb3d0b4a5"
            ],
            "text/plain": [
              "<IPython.core.display.Javascript object>"
            ]
          },
          "metadata": {
            "tags": [
              "id1_content_4",
              "outputarea_id1"
            ]
          }
        },
        {
          "output_type": "stream",
          "text": [
            "Please select \"Протокол\" .docx file:\n"
          ],
          "name": "stdout"
        },
        {
          "output_type": "display_data",
          "data": {
            "text/html": [
              "\n",
              "     <input type=\"file\" id=\"files-2f295573-b536-40b8-b1b6-0aab217dbc9c\" name=\"files[]\" multiple disabled />\n",
              "     <output id=\"result-2f295573-b536-40b8-b1b6-0aab217dbc9c\">\n",
              "      Upload widget is only available when the cell has been executed in the\n",
              "      current browser session. Please rerun this cell to enable.\n",
              "      </output>\n",
              "      <script src=\"/nbextensions/google.colab/files.js\"></script> "
            ],
            "text/plain": [
              "<IPython.core.display.HTML object>"
            ]
          },
          "metadata": {
            "tags": [
              "id1_content_4",
              "outputarea_id1",
              "user_output"
            ]
          }
        },
        {
          "output_type": "stream",
          "text": [
            "Saving МНГ1 Протокол МНГ_продажа АЗС.docx to МНГ1 Протокол МНГ_продажа АЗС (1).docx\n",
            "User uploaded file \"МНГ1 Протокол МНГ_продажа АЗС.docx\" with length 32862 bytes\n",
            "Символов в оригинальном документе: 3960\n",
            "INFO:tensorflow:Saver not created because there are no variables in the graph to restore\n"
          ],
          "name": "stdout"
        },
        {
          "output_type": "stream",
          "text": [
            "I0418 18:42:13.056138 140221498161024 saver.py:1483] Saver not created because there are no variables in the graph to restore\n"
          ],
          "name": "stderr"
        },
        {
          "output_type": "stream",
          "text": [
            "❤️ ACCOMPLISHED: \t 0.\t Pattern factory created, patterns embedded into ELMO space\n",
            "💥\u001b[1;31mОшибка:(<class 'TypeError'>, TypeError('expected string or bytes-like object',), <traceback object at 0x7f869494c388>)\u001b[1;0m\n",
            "Traceback (most recent call last):\n",
            "  File \"<ipython-input-4-832618123e87>\", line 79, in step5\n",
            "    GLOBALS__['ProtocolAnlysingContext'].process(uploaded)\n",
            "  File \"nlp_tools/demo_protocols.py\", line 104, in process\n",
            "    protocol.parse()\n",
            "  File \"nlp_tools/legal_docs.py\", line 342, in parse\n",
            "    self.normal_text = self.preprocess_text(txt)\n",
            "  File \"nlp_tools/legal_docs.py\", line 352, in preprocess_text\n",
            "    return normalize_text(text, replacements_regex)\n",
            "  File \"nlp_tools/text_normalize.py\", line 103, in normalize_text\n",
            "    t = reg.sub(to, t)\n",
            "TypeError: expected string or bytes-like object\n",
            "\n",
            "\u001b[1;32mПротокол: сделано✓\n"
          ],
          "name": "stdout"
        },
        {
          "output_type": "display_data",
          "data": {
            "application/javascript": [
              " \n",
              "    var x = document.getElementById(\"button-3264f88d-596c-4421-8d26-af9db569b14c\");\n",
              "    if (x.style.display === \"none\")\n",
              "      x.style.display = \"block\";\n",
              "    else\n",
              "      x.style.display = \"none\";\n",
              "    "
            ],
            "text/plain": [
              "<IPython.core.display.Javascript object>"
            ]
          },
          "metadata": {
            "tags": [
              "id1_content_4",
              "outputarea_id1",
              "user_output"
            ]
          }
        },
        {
          "output_type": "display_data",
          "data": {
            "application/javascript": [
              "window[\"b23c4200-6209-11e9-a733-0242ac1c0002\"] = google.colab.output.setActiveOutputArea(window[\"a42c0dda-6209-11e9-a733-0242ac1c0002\"]);\n",
              "//# sourceURL=js_3cae70d295"
            ],
            "text/plain": [
              "<IPython.core.display.Javascript object>"
            ]
          },
          "metadata": {
            "tags": [
              "id1_content_4",
              "outputarea_id1"
            ]
          }
        }
      ]
    },
    {
      "metadata": {
        "id": "oC_jj3OrOFOy",
        "colab_type": "code",
        "colab": {}
      },
      "cell_type": "code",
      "source": [
        ""
      ],
      "execution_count": 0,
      "outputs": []
    }
  ]
}