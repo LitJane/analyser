{
  "nbformat": 4,
  "nbformat_minor": 0,
  "metadata": {
    "colab": {
      "name": "UI-Demo.ipynb",
      "version": "0.3.2",
      "provenance": [],
      "collapsed_sections": [],
      "toc_visible": true
    },
    "kernelspec": {
      "name": "python3",
      "display_name": "Python 3"
    },
    "accelerator": "GPU"
  },
  "cells": [
    {
      "metadata": {
        "id": "raaJNhjYXuoW",
        "colab_type": "text"
      },
      "cell_type": "markdown",
      "source": [
        "#.init"
      ]
    },
    {
      "metadata": {
        "id": "DmfQVYoSXqf8",
        "colab_type": "text"
      },
      "cell_type": "markdown",
      "source": [
        "##utils"
      ]
    },
    {
      "metadata": {
        "id": "YYCa_a2lXjxP",
        "colab_type": "code",
        "colab": {}
      },
      "cell_type": "code",
      "source": [
        "import IPython\n",
        "import uuid\n",
        "from google.colab import output\n",
        "from google.colab import files\n",
        "\n",
        "from __future__ import print_function\n",
        "\n",
        "from google.colab import widgets\n",
        "from google.colab import output\n",
        "\n",
        "\n",
        "\n",
        "# from google.colab import files\n",
        "\n",
        "def interactive_upload(filetype):\n",
        "  \n",
        "  import docx2txt\n",
        "  \n",
        "  print(f'Please select \"{filetype}\" .docx file:')\n",
        "  uploaded = files.upload()\n",
        "  docs=[]\n",
        "  for fn in uploaded.keys():\n",
        "    print('User uploaded file \"{name}\" with length {length} bytes'.format(\n",
        "        name=fn, length=len(uploaded[fn])))\n",
        "\n",
        "    with open(fn, \"wb\") as df:\n",
        "      df.write(uploaded[fn])\n",
        "      df.close()\n",
        "\n",
        "    # extract text\n",
        "  \n",
        "    text = ''\n",
        "    try:\n",
        "      text = docx2txt.process(fn)\n",
        "    except:\n",
        "      print(\"Unexpected error:\", sys.exc_info())\n",
        "      os.system('antiword -w 0 \"' + fn + '\" > \"' + fn + '.txt\"')\n",
        "      with open(fn + '.txt') as f:\n",
        "        text = f.read()\n",
        "    print(\"Символов в оригинальном документе:\", len(text))\n",
        "    docs.append(text)\n",
        "    return docs\n",
        "  \n",
        "  \n",
        "  \n",
        "  \n",
        "class InvokeButton(object):\n",
        "  def __init__(self, title, callback = None):\n",
        "    self.title = title\n",
        "    self.callback = callback\n",
        "\n",
        "#   def _repr_html_(self):\n",
        "  def render(self):\n",
        "    self.callback_id = 'button-' + str(uuid.uuid4())\n",
        "    if self.callback:\n",
        "      output.register_callback(self.callback_id, self.callback)\n",
        "\n",
        "    template =f'''<button style=\"padding:5px; font-size:16px; margin:15px\"  id=\"{self.callback_id}\">{self.title}</button>\n",
        "        <script>\n",
        "          document.querySelector(\"#{self.callback_id}\").onclick = (e) => {{\n",
        "            google.colab.kernel.invokeFunction(\"{self.callback_id}\", [], {{}})\n",
        "            e.preventDefault();\n",
        "          }};\n",
        "        </script>'''\n",
        "    display(IPython.display.HTML(template))\n",
        "    \n",
        "def upload_file_b(tb, type):\n",
        "  with output.redirect_to_element('#upload_area'): \n",
        "  \n",
        "    print(f'Загрузка документа типа \"{type}\"')\n",
        "    print('Select .docx files:')\n",
        "    uploaded = interactive_upload(type)\n",
        "\n",
        "#   with tb.output_to(type):\n",
        "#     for fn in uploaded:\n",
        "#       print(f'User uploaded file \"{fn[0:1000]}\" with length {len(fn)} bytes')\n",
        "\n",
        "def clear_div(elementID):\n",
        "  display(IPython.display.Javascript(f'document.getElementById(\"{elementID}\").innerHTML = \"\";'))\n",
        "\n",
        "def replace_self_elem(elementID, text):\n",
        "  #print(f'Replace: {elementID}')\n",
        "  display(IPython.display.Javascript(f'document.getElementById(\"{elementID}\").parentElement.innerHTML = \"{text}\";'))\n",
        "\n",
        "def toggle_element(elementId):\n",
        "  display(IPython.display.Javascript(f''' \n",
        "    var x = document.getElementById(\"{elementId}\");\n",
        "    if (x.style.display === \"none\")\n",
        "      x.style.display = \"block\";\n",
        "    else\n",
        "      x.style.display = \"none\";\n",
        "    '''))\n",
        "  \n",
        "def call_invoke(title, callback):\n",
        "  with output.redirect_to_element('#items'):    \n",
        "    InvokeButton(title, callback).render()\n",
        "    \n",
        "  clear_div(\"upload_area\")\n",
        "  \n",
        "  \n",
        "GLOBALS__ = {}"
      ],
      "execution_count": 0,
      "outputs": []
    },
    {
      "metadata": {
        "id": "TTYEFnsrX_LL",
        "colab_type": "text"
      },
      "cell_type": "markdown",
      "source": [
        "#Демо"
      ]
    },
    {
      "metadata": {
        "id": "st1uyXGyR1WN",
        "colab_type": "code",
        "outputId": "1db15a3c-fb41-409c-dd90-b2bbd4b99556",
        "colab": {
          "base_uri": "https://localhost:8080/",
          "height": 34
        }
      },
      "cell_type": "code",
      "source": [
        "#@title Настройки { run: \"auto\", vertical-output: true, display-mode: \"form\" }\n",
        "USD_to_RUB = 64.02 #@param {type:\"number\"}\n",
        "RUB_to_USD = 1.0/USD_to_RUB\n",
        "\n",
        "# print('USD_to_RUB=',USD_to_RUB)\n",
        "# print('RUB_to_USD=',RUB_to_USD)\n",
        "\n",
        "\n",
        "\n",
        "currency_converter = {\n",
        "  'USD': USD_to_RUB,\n",
        "  'RUB': 1.0\n",
        "}\n",
        "\n",
        "print(currency_converter)"
      ],
      "execution_count": 2,
      "outputs": [
        {
          "output_type": "stream",
          "text": [
            "{'USD': 64.02, 'RUB': 1.0}\n"
          ],
          "name": "stdout"
        }
      ]
    },
    {
      "metadata": {
        "id": "CPxjslnsM6Y2",
        "colab_type": "code",
        "outputId": "62715536-7a58-48e4-ffc9-990dcbcfe958",
        "colab": {
          "base_uri": "https://localhost:8080/",
          "height": 72
        }
      },
      "cell_type": "code",
      "source": [
        "#@title Обработка документов { vertical-output: true, output-height: 800, form-width: \"300px\", display-mode: \"form\" }\n",
        "\n",
        "\n",
        "import os\n",
        "import sys\n",
        "\n",
        "\n",
        "\n",
        "def interactive_upload(filetype):\n",
        "  from google.colab import files\n",
        "  import docx2txt\n",
        "\n",
        "  print(f'Please select \"{filetype}\" .docx file:')\n",
        "  uploaded = files.upload()\n",
        "  docs = []\n",
        "  for fn in uploaded.keys():\n",
        "    print('User uploaded file \"{name}\" with length {length} bytes'.format(\n",
        "      name=fn, length=len(uploaded[fn])))\n",
        "\n",
        "    with open(fn, \"wb\") as df:\n",
        "      df.write(uploaded[fn])\n",
        "      df.close()\n",
        "\n",
        "    # extract text\n",
        "\n",
        "    text = ''\n",
        "    try:\n",
        "      text = docx2txt.process(fn)\n",
        "    except:\n",
        "      print(\"Unexpected error:\", sys.exc_info())\n",
        "      os.system('antiword -w 0 \"' + fn + '\" > \"' + fn + '.txt\"')\n",
        "      with open(fn + '.txt') as f:\n",
        "        text = f.read()\n",
        "    print(\"Символов в оригинальном документе:\", len(text))\n",
        "    docs.append(text)\n",
        "    return docs\n",
        "\n",
        "\n",
        "# ====================================\n",
        "# ====================================\n",
        "_git_branch = \"show-violations\"  # @param {type:\"string\"}\n",
        "# ====================================\n",
        "# ====================================\n",
        " \n",
        "\n",
        "\n",
        "\n",
        "#''' AZ:-IMPORT CODE GITHUB----------------------------------------------😺------ '''\n",
        "import sys\n",
        "\n",
        "\n",
        "def _init_import_code_from_gh():\n",
        "  if 'GLOBALS__' not in globals():\n",
        "    print('adding global GLOBALS__')\n",
        "    global GLOBALS__\n",
        "    GLOBALS__ = {}\n",
        "\n",
        "  if '_init_import_code_from_gh' in GLOBALS__:\n",
        "    print('👌 code already imported from GitHub!')\n",
        "    return\n",
        "\n",
        "  import subprocess\n",
        "  def exec(x):\n",
        "    r = subprocess.check_output(x, shell=True)\n",
        "    r = r.decode('unicode-escape').encode('latin1').decode('utf8')\n",
        "    print(r)\n",
        "\n",
        "  print(f\"fetching code from GitHub.....{_git_branch}\")\n",
        "  try:\n",
        "    exec('rm -r nlp_tools')\n",
        "  except:\n",
        "    pass\n",
        "  exec(f'git clone --single-branch --branch {_git_branch} https://github.com/compartia/nlp_tools.git nlp_tools')\n",
        "\n",
        "  print('🦊 GIT revision:')\n",
        "  exec('cd nlp_tools\\ngit rev-list --reverse HEAD | awk \"{ print NR }\" | tail -n 1\\ngit branch\\ngit log -3 --pretty=%B')\n",
        "\n",
        "  sys.path.insert(0, 'nlp_tools')\n",
        "\n",
        "  # self-test\n",
        "  from text_tools import untokenize\n",
        "  print(untokenize(['code', 'imported', 'OK 👍']))\n",
        "\n",
        "  print('installing antiword...')\n",
        "  exec('sudo apt-get install antiword')\n",
        "\n",
        "  print('installing docx2txt...')\n",
        "  exec(\"pip install docx2txt\")\n",
        "\n",
        "  GLOBALS__['_init_import_code_from_gh'] = True\n",
        "\n",
        "\n",
        "  ''' AZ:-------------------------------------------------IMPORT CODE GITHUB-😺---'''\n",
        "  print('❤️ DONE importing Code fro GitHub')\n",
        "\n",
        "\n",
        "  \n",
        "  \n",
        "# AZ:-INIT ELMO-----------------------------------------------------------------------------------\n",
        "\n",
        "import tensorflow as tf\n",
        "import tensorflow_hub as hub\n",
        "\n",
        "\n",
        "def _import_elmo():\n",
        "  \"\"\"\n",
        "  ACHTUNG!! this method is called later by ElmoEmbedder\n",
        "  \"\"\"\n",
        "\n",
        "\n",
        "\n",
        "  elmo = hub.Module('https://storage.googleapis.com/az-nlp/elmo_ru-news_wmt11-16_1.5M_steps.tar.gz',\n",
        "                    trainable=False)  # twitter\n",
        "  print('❤️ ❤️ ❤️ DONE (re)importing Tensorflow hub.Module ')\n",
        "  print('Tensorflow version is', tf.__version__)\n",
        "\n",
        "  return elmo\n",
        "\n",
        "\n",
        "\n",
        "# AZ:-INIT EMBEDDER-----------------------------------------------------------------------------------\n",
        "\n",
        "def _init_embedder():\n",
        "  if 'elmo_embedder' in GLOBALS__:\n",
        "    print('👌 Embedder is already created! ')\n",
        "    return\n",
        "\n",
        "  from embedding_tools import ElmoEmbedder\n",
        "  GLOBALS__['elmo_embedder'] = ElmoEmbedder(_import_elmo(), tf, 'elmo', _import_elmo)\n",
        "\n",
        "  print('❤️ DONE creating words embedding model')\n",
        "  return GLOBALS__['elmo_embedder']\n",
        "\n",
        "\n",
        "# AZ:-Init chartes context-----------------------------------------------------------------------------------\n",
        "def _init_charters():\n",
        "  if 'CharterAnlysingContext' in GLOBALS__:\n",
        "    print('👌 Charters-related tools are already inited ')\n",
        "    return\n",
        "\n",
        "  _init_embedder()# PRECONDITION\n",
        "  from charter_patterns import CharterPatternFactory \n",
        "  from charter_parser import CharterDocumentParser\n",
        "  CPF = CharterPatternFactory( GLOBALS__[ 'elmo_embedder']  )  \n",
        "  GLOBALS__['CharterAnlysingContext'] = CharterDocumentParser(CPF)\n",
        "  print('❤️ DONE initing Charters-related tools and models ')\n",
        "\n",
        "\n",
        "def _init_contracts():\n",
        "  if 'ContractAnlysingContext' in GLOBALS__:\n",
        "    print('👌 Contracts-related tools are already inited ')\n",
        "    return\n",
        "\n",
        "  from demo import ContractAnlysingContext\n",
        "  GLOBALS__['ContractAnlysingContext'] = ContractAnlysingContext(GLOBALS__['elmo_embedder'], GLOBALS__['renderer'])\n",
        "  print('❤️ DONE initing Contracts-related tools and models ')\n",
        "  \n",
        "  \n",
        "  \n",
        "  \n",
        "\n",
        "\n",
        "# AZ:- THE CODE----------------------------------------------------------------------------------\n",
        "from typing import List\n",
        "\n",
        "\n",
        "\n",
        "\n",
        "def _init_the_code(reset=False):\n",
        "  if '_init_the_code' in GLOBALS__ and not reset:\n",
        "    print('👌 Code is alredy imported!')\n",
        "    return\n",
        "\n",
        "  from transaction_values import ValueConstraint\n",
        "\n",
        "  import matplotlib as mpl\n",
        "  from IPython.core.display import display, HTML\n",
        "  import matplotlib.pyplot as plt\n",
        "  from renderer import AbstractRenderer, head_types_colors\n",
        "  from renderer import to_multicolor_text, as_headline_3, as_offset\n",
        "  from renderer import as_msg, as_quote\n",
        "  from renderer import as_error_html\n",
        "  from transaction_values import ValueConstraint\n",
        "  from parsing import head_types_dict, head_types\n",
        "\n",
        "  def _as_smaller(txt):\n",
        "    return f'<div font-size:12px\">{txt}</div>'\n",
        "\n",
        "  def as_c_quote(txt):\n",
        "    return f'<div style=\"margin-top:0.2em; margin-left:2em; font-size:14px\">\"...{txt} ...\"</div>'\n",
        "\n",
        "  v_color_map = {\n",
        "    'deal_value_attention_vector': (0.0, 0.5, 1.0),\n",
        "    'value_attention_vector': (1.0, 0.5, 0.0),\n",
        "    'd_order_consent': (0.0, 0.3, 0.9),\n",
        "    'at_x_charity_': (0.0, 1.0, 0.0)\n",
        "  }\n",
        "\n",
        "  import numpy as np\n",
        "  class DemoRenderer(AbstractRenderer):\n",
        "\n",
        "    def render_multicolor_text(self, tokens, vectors, colormap, min_color=None, _slice=None):\n",
        "      display(HTML(to_multicolor_text(tokens, vectors, colormap, min_color=min_color, _slice=_slice)))\n",
        "\n",
        "    ''' AZ:-Rendering CHARITY🔥-----💸------💸-------💸------------------------------'''\n",
        "\n",
        "    def render_charity_constraints(self, doc, charity_constraints):\n",
        "      #       html=''\n",
        "      for head in charity_constraints:\n",
        "        charity_constraints_by_head = charity_constraints[head]\n",
        "        display(HTML(as_headline_3(f'{head} ({len(charity_constraints_by_head)})')))\n",
        "        html = self.html_charity_constraints_by_head(charity_constraints_by_head, doc, head)\n",
        "        display(HTML(html))\n",
        "\n",
        "    ''' AZ:------💸------💸-------💸----------------------END--Rendering CHARITY🔥------'''\n",
        "\n",
        "    def render_subj(self, doc):\n",
        "      from demo import subject_types_dict\n",
        "      subj = doc.subject\n",
        "      s_name = subject_types_dict[subj[0]].upper()\n",
        "\n",
        "      display(\n",
        "        HTML(f'Предмет договора:<h3 style=\"margin:0\">{s_name}<sup> {subj[0]}</sup> </h3> confidence:{subj[1]:20,.2f}'))\n",
        "\n",
        "    def sign_to_text(self, sign: int):\n",
        "      if sign < 0: return \" &lt; \"\n",
        "      if sign > 0: return \" &gt; \"\n",
        "      return ' = '\n",
        "\n",
        "    def probable_value_to_html(self, pv):\n",
        "      vc = pv.value\n",
        "      color = '#333333'\n",
        "      if vc.sign > 0:\n",
        "        color = '#993300'\n",
        "      elif vc.sign < 0:\n",
        "        color = '#009933'\n",
        "\n",
        "      return f'<b style=\"color:{color}\">{self.sign_to_text(vc.sign)} {vc.currency} {vc.value:20,.2f} confidence={pv.confidence:20,.2f}</b> '\n",
        "\n",
        "    def render_contents(self, doc):\n",
        "      html =  as_headline_3('Выявленное Содержание документа')\n",
        "      html += \"<ul>\"\n",
        "      for i in doc.structure.headline_indexes:\n",
        "        line = doc.structure.structure[i].to_string(doc.tokens_cc)\n",
        "        html += f'<li> {line} <sup>line {i}</sup></li>'\n",
        "      html += \"</ul>\"\n",
        "\n",
        "      display(HTML(html))\n",
        "      \n",
        "\n",
        "    def render_sections(self, sections):\n",
        "      from legal_docs import HeadlineMeta\n",
        "      html = as_headline_3('Выявленное секции документа')\n",
        "      html += \"<ul>\"\n",
        "      for section_type in sections:\n",
        "        section: HeadlineMeta = sections[section_type]\n",
        "        body = section.body.untokenize_cc()[:1000]\n",
        "        headline = section.subdoc.untokenize_cc()[:500]\n",
        "        #     line = doc.structure.structure[i].to_string(doc.tokens_cc)\n",
        "        html += f'<li><h3> {headline} <sup>type: {section_type}</sup> </h3> <p>{body}</p> </li>'\n",
        "      html += \"</ul>\"\n",
        "\n",
        "      display(HTML(html))\n",
        "\n",
        "    def render_values(self, values):\n",
        "      if len(values) > 0:\n",
        "        for pv in values:\n",
        "          h = self.probable_value_to_html(pv)\n",
        "          display(HTML(h))\n",
        "      else:\n",
        "        display(HTML('сумма не найдена'))\n",
        "\n",
        "    \n",
        "\n",
        "    def render_value_section_details(self, value_section_info):\n",
        "      value_section = value_section_info.body\n",
        "      headline_doc = value_section_info.subdoc\n",
        "\n",
        "      headline = headline_doc.untokenize_cc()\n",
        "\n",
        "      v_names = {\n",
        "        'value_attention_vector',\n",
        "        'novalue_attention_vector',\n",
        "\n",
        "        'novalue_attention_vector_local_contrast',\n",
        "        'value_attention_vector_tuned'}\n",
        "\n",
        "      fig = plt.figure(figsize=(20, 6))\n",
        "      ax = plt.axes()\n",
        "      for vector_name in v_names:\n",
        "        ax.plot(value_section.distances_per_pattern_dict[vector_name], label=vector_name, alpha=0.4)\n",
        "        \n",
        "      ax.plot(value_section.distances_per_pattern_dict['value_attention_vector_tuned'], label=vector_name.upper(),\n",
        "              alpha=0.9, color='black')\n",
        "      plt.legend(loc='upper right')\n",
        "\n",
        "      text = self.to_color_text(value_section.tokens_cc,\n",
        "                                value_section.distances_per_pattern_dict['value_attention_vector_tuned'], _range=(0, 1))\n",
        "      html = f'{ as_headline_3(headline)} <div style=\"margin-left:4em; font-size=90%\">{text}</div>'\n",
        "      display(HTML(html))\n",
        "\n",
        "    def to_color_text(self, tokens, weights, colormap='coolwarm', print_debug=False, _range=None):\n",
        "      if len(tokens) == 0:\n",
        "        return \" - empty -\"\n",
        "      if len(weights) != len(tokens):\n",
        "        raise ValueError(\"number of weights differs weights={} tokens={}\".format(len(weights), len(tokens)))\n",
        "\n",
        "      #   if()\n",
        "      vmin = np.min(weights)\n",
        "      vmax = np.max(weights)\n",
        "\n",
        "      if _range is not None:\n",
        "        vmin = _range[0]\n",
        "        vmax = _range[1]\n",
        "\n",
        "      if print_debug:\n",
        "        print(vmin, vmax)\n",
        "\n",
        "      norm = mpl.colors.Normalize(vmin=vmin - 0.5, vmax=vmax)\n",
        "      html = \"\"\n",
        "      cmap = mpl.cm.get_cmap(colormap)\n",
        "\n",
        "      for d in range(0, len(weights)):\n",
        "        word = tokens[d]\n",
        "        if word == ' ':\n",
        "          word = '&nbsp;_ '\n",
        "\n",
        "        html += '<span title=\"{} {:.4f}\" style=\"background-color:{}\">{} </span>'.format(\n",
        "          d,\n",
        "          weights[d],\n",
        "          mpl.colors.to_hex(cmap(norm(weights[d]))),\n",
        "          word)\n",
        "\n",
        "        #     html+='<span style=\"background-color:' +mpl.colors.to_hex(cmap(norm(weights[d]) ))+ '\">' + str(tokens[d]) + \" </span>\"\n",
        "        if tokens[d] == '\\n':\n",
        "          html += \"<br>\"\n",
        "\n",
        "      return html\n",
        "\n",
        "    def render_charter_parsing_results(self, doc, org, rz, charity_constraints):\n",
        "\n",
        "      txt_html = self.to_color_text(org['tokens'], org['attention_vector'], _range=[0, 1])\n",
        "  \n",
        "      html = '<div style=\"background:#eeeeff; padding:0.5em\"> recognized NE(s): <br><br> org type:<h3 style=\"margin:0\">  {} </h3>org full name:<h2 style=\"margin:0\">  {} </h2> <br>quote: <div style=\"font-size:90%; background:white\">{}</div> </div>'.format(\n",
        "        org['type_name'], org['name'], txt_html)\n",
        "      # html+=txt_html\n",
        "      html += self.render_constraint_values(doc, rz, charity_constraints)\n",
        "  \n",
        "      display(HTML(html))\n",
        "\n",
        "    def _render_sentence(self, sentence):\n",
        "  \n",
        "      html = \"\"\n",
        "      constraints: List[ValueConstraint] = sentence['constraints']\n",
        "      html += \"<br>\"\n",
        "      for probable_v in constraints:\n",
        "        html += self.value_to_html(probable_v.value)\n",
        "  \n",
        "      if len(constraints) > 0:\n",
        "        html += '<div style=\"border-bottom:1px solid #ccc; margin-top:1em\"></div>'\n",
        "        section = sentence['subdoc']\n",
        "        #         html += \"TODO:\"#self.to_color_text(section.tokens, section.distances_per_pattern_dict['deal_value_attention_vector'])\n",
        "  \n",
        "        v = {\n",
        "          'deal_value_attention_vector': section.distances_per_pattern_dict['deal_value_attention_vector'],\n",
        "          'value_attention_vector': section.distances_per_pattern_dict['value_attention_vector'],\n",
        "          'd_order_consent': section.distances_per_pattern_dict['d_order_consent']\n",
        "        }\n",
        "        min_color = (0.3, 0.3, 0.33)\n",
        "        html += as_c_quote(to_multicolor_text(section.tokens_cc, v, v_color_map, min_color=min_color, _slice=None))\n",
        "  \n",
        "      return html\n",
        "\n",
        "    def render_constraint_values(self, doc, rz, charity_constraints):\n",
        "  \n",
        "      html = ''\n",
        "      for head_type in rz.keys():\n",
        "  \n",
        "        r_by_head_type = rz[head_type]\n",
        "  \n",
        "        html += '<hr style=\"margin-top: 45px\">'\n",
        "  \n",
        "        html += f'<h2 style=\"color:{head_types_colors[head_type]}; padding:0; margin:0\">{head_types_dict[head_type]}</h2>'\n",
        "  \n",
        "        sentences = r_by_head_type['sentences']\n",
        "        html += as_quote(r_by_head_type['caption'])\n",
        "  \n",
        "        charity_constraints_by_head = charity_constraints[head_type]\n",
        "        html_i = ''\n",
        "        html_i += self.html_charity_constraints_by_head(charity_constraints_by_head, doc, head_type)\n",
        "  \n",
        "        if True:\n",
        "          html_i += as_headline_3('решения о пороговых суммах:')\n",
        "  \n",
        "          if len(sentences) > 0:\n",
        "            for sentence in sentences:\n",
        "              html_i += self._render_sentence(sentence)\n",
        "  \n",
        "          else:\n",
        "            html_i += as_error_html('Пороговые суммы не найдены или не заданы')\n",
        "  \n",
        "        html += as_offset(html_i)\n",
        "  \n",
        "      return html\n",
        "\n",
        "    \n",
        "\n",
        "    ''' AZ:-Rendering CHARITY🔥-----💸------💸-------💸------------------------------'''\n",
        "\n",
        "     \n",
        "\n",
        "    def html_charity_constraints_by_head(self, charity_constraints_by_head, doc, head) -> str:\n",
        "      html = ''\n",
        "\n",
        "      html += as_headline_3('одобрение сделок Благотворительности:')\n",
        "      if len(charity_constraints_by_head) > 0:\n",
        "        for _slice, _confidence, _sum in charity_constraints_by_head:\n",
        "          html += '<BR>'\n",
        "          _slice_post = slice(_slice.stop, _slice.stop + 80)\n",
        "          _slice_pre = slice(_slice.start - 40, _slice.start)\n",
        "          subdoc = doc.sections[head].body\n",
        "\n",
        "          v = {\n",
        "            'at_x_charity_': subdoc.distances_per_pattern_dict['$at_x_charity_'],\n",
        "            'deal_value_attention_vector': subdoc.distances_per_pattern_dict['deal_value_attention_vector'],\n",
        "            'd_order_consent': subdoc.distances_per_pattern_dict['d_order_consent']\n",
        "          }\n",
        "\n",
        "          min_color = (0.3, 0.3, 0.33)\n",
        "          q_html = ''\n",
        "          #         q_html += _as_smaller(to_multicolor_text(subdoc.tokens_cc, v, v_color_map, min_color=min_color, _slice=_slice_pre))\n",
        "          q_html += to_multicolor_text(subdoc.tokens_cc, v, v_color_map, min_color=min_color, _slice=_slice)\n",
        "          #         q_html += _as_smaller(to_multicolor_text(subdoc.tokens_cc, v, v_color_map, min_color=min_color, _slice=_slice_post))\n",
        "          html += as_c_quote(q_html)\n",
        "      else:\n",
        "        html += as_msg('не выявлено')\n",
        "\n",
        "      return html\n",
        "       \n",
        "\n",
        "  GLOBALS__['renderer'] = DemoRenderer()\n",
        "\n",
        "  \n",
        "  # AZ:----------PROTOCOLS RENDERER-------------------------\n",
        "\n",
        "  from legal_docs import LegalDocument\n",
        "\n",
        "  import matplotlib as mpl\n",
        "  from IPython.core.display import display, HTML\n",
        "  from renderer import  as_headline_3\n",
        "  class ProtocolRenderer(DemoRenderer):\n",
        "\n",
        "    def winning_patterns_to_html(self, _tokens, ranges, winning_patterns, _range,\n",
        "                                 colormaps=['Reds', 'Purples', 'Blues', 'Greens', 'Greys']):\n",
        "      vmin = -ranges[1]\n",
        "      vmax = -ranges[0]\n",
        "\n",
        "      #     print(\"winning_patterns_to_html _range\", _range, \"min max=\", ranges)\n",
        "\n",
        "      norm = mpl.colors.Normalize(vmax=vmax, vmin=vmin)\n",
        "\n",
        "      cmaps = []\n",
        "\n",
        "      #     print (colormaps)\n",
        "      for n in colormaps:\n",
        "        cmap = mpl.cm.get_cmap(n)\n",
        "        cmaps.append(cmap)\n",
        "\n",
        "      html = \"\"\n",
        "\n",
        "      for d in _range:\n",
        "        winning_pattern_i = winning_patterns[d][0]\n",
        "        colormap = cmaps[winning_pattern_i % len(colormaps)]\n",
        "        normed = norm(-winning_patterns[d][1])\n",
        "        color = mpl.colors.to_hex(colormap(normed))\n",
        "        html += '<span title=\"' + '{} {:.2f}'.format(d, winning_patterns[d][\n",
        "          1]) + '\" style=\"background-color:' + color + '\">' + str(\n",
        "          _tokens[d]) + \" </span>\"\n",
        "        if _tokens[d] == '\\n':\n",
        "          html += \"<br>\"\n",
        "\n",
        "      return html\n",
        "\n",
        "    def _render_doc_subject_fragments(self, doc):\n",
        "      #     print(doc.per_subject_distances)\n",
        "\n",
        "      _html = \"\"\n",
        "      if doc.per_subject_distances is not None:\n",
        "\n",
        "        type = \"Договор  благотворительного пожертвования\"\n",
        "        if doc.per_subject_distances[0] > doc.per_subject_distances[1]:\n",
        "          type = \"Договор возмездного оказания услуг\"\n",
        "\n",
        "        _html += \"<h3>\" + type + \"</h3>\"\n",
        "\n",
        "        colormaps = ['PuRd'] * 5 + ['Blues'] * 7 + ['Greys']\n",
        "\n",
        "        _html += as_headline_4('Предмет договора')\n",
        "\n",
        "        for region in [doc.subj_range]:\n",
        "          _html += self.winning_patterns_to_html(_tokens=doc.tokens, ranges=doc.subj_ranges,\n",
        "                                                 winning_patterns=doc.winning_subj_patterns, _range=region,\n",
        "                                                 colormaps=colormaps)\n",
        "\n",
        "      return _html\n",
        "\n",
        "    def render_subject(self, counter):\n",
        "      html = as_headline_3('Предмет документа (X):') + self.subject_type_weights_to_html(counter)\n",
        "      display(HTML(html))\n",
        "\n",
        "    def print_results(self, _doc: LegalDocument, results=None):\n",
        "\n",
        "      if results is None:\n",
        "        results = _doc.found_sum\n",
        "\n",
        "      result, (start, end), sentence, meta = results\n",
        "\n",
        "      html = \"<hr>\"\n",
        "\n",
        "      html += self._render_doc_subject_fragments(_doc)\n",
        "\n",
        "      if result is None:\n",
        "        html += '<h2 style=\"color:red\">СУММА НЕ НАЙДЕНА</h2>'\n",
        "      else:\n",
        "        html += '<h2>' + str(result[0]) + ' ' + str(result[1]) + '</h2>'\n",
        "\n",
        "      for key in meta.keys():\n",
        "        html += '<div style=\"font-size:9px\">' + str(key) + \" = \" + str(meta[key]) + \"</div>\"\n",
        "\n",
        "      display(HTML(html))\n",
        "      self.render_color_text(_doc.tokens[start:end], _doc.sums[start:end])\n",
        "\n",
        "    def subject_type_weights_to_html(self, counter):\n",
        "      dict = {\n",
        "        't_dea': 'Сделка',\n",
        "        't_cha': 'Благотворительность',\n",
        "        't_org': 'Организационные решения'\n",
        "      }\n",
        "\n",
        "      maxkey = \"None\"\n",
        "      for key in dict:\n",
        "        if counter[key] > counter[maxkey]:\n",
        "          maxkey = key\n",
        "\n",
        "      html = \"\"\n",
        "      for key in dict:\n",
        "        templ = \"<div>{}: {}</div>\"\n",
        "        if key == maxkey:\n",
        "          templ = '<b style=\"font-size:135%; color:maroon\">{}: {}</b>'\n",
        "        html += templ.format(counter[key], dict[key])\n",
        "\n",
        "      return html\n",
        "\n",
        "  GLOBALS__['ProtocolRenderer'] = ProtocolRenderer()\n",
        "  \n",
        "  from demo_protocols import ProtocolAnlysingContext\n",
        "  GLOBALS__['ProtocolAnlysingContext'] = ProtocolAnlysingContext(GLOBALS__['elmo_embedder'],\n",
        "                                                                 GLOBALS__['ProtocolRenderer'])\n",
        "  GLOBALS__['_init_the_code'] = True\n",
        "    # AZ:-------------------------------------------------Init Protocols context===\n",
        "  \n",
        "\n",
        "  # AZ:-------------------------------------------------Init Charters context====\n",
        "\n",
        "  def read_doc(fn):\n",
        "    import docx2txt, sys, os\n",
        "    text = ''\n",
        "    try:\n",
        "      text = docx2txt.process(fn)\n",
        "    except:\n",
        "      print(\"Unexpected error:\", sys.exc_info())\n",
        "      os.system('antiword -w 0 \"' + fn + '\" > \"' + fn + '.txt\"')\n",
        "      with open(fn + '.txt') as f:\n",
        "        text = f.read()\n",
        "\n",
        "    return text\n",
        "\n",
        "  GLOBALS__['read_doc'] = read_doc\n",
        "\n",
        "  print(\"❤️ DONE initializing the code\")\n",
        "\n",
        "\n",
        "# AZ:-FINDING_VIOLATIONS--------------------------------------------------------\n",
        "def find_and_show_violations():\n",
        "  from IPython.core.display import display, HTML\n",
        "\n",
        "  from demo import ContractAnlysingContext\n",
        "  from renderer import as_headline_2, as_error_html\n",
        "\n",
        "  print('Поиск нарушений')\n",
        "\n",
        "  charterAnlysingContext: CharterAnlysingContext = GLOBALS__['CharterAnlysingContext']\n",
        "  contractAnlysingContext: ContractAnlysingContext = GLOBALS__['ContractAnlysingContext']\n",
        "\n",
        "  contract = contractAnlysingContext.contract\n",
        "  charter = charterAnlysingContext.doc\n",
        "  charter_constraints = charterAnlysingContext.constraints  # XXX: move to doc\n",
        "\n",
        "  renderer = GLOBALS__['renderer']\n",
        "  renderer.render_subj(contract)\n",
        "\n",
        "  import copy\n",
        "\n",
        "  def convert(v):\n",
        "    v_converted = copy.copy(v)\n",
        "    if v.currency in currency_converter:\n",
        "      v_converted.value = currency_converter[v.currency] * v.value\n",
        "      v_converted.currency = 'RUB'\n",
        "      return v_converted\n",
        "    else:\n",
        "      display(HTML(as_error_html(\n",
        "        f\"мы не в настроении (пока) конвертировать {v.currency} --> RUB. Это вообще валюта какой страны? Румынии?\")))\n",
        "      return v\n",
        "\n",
        "  best_value = contractAnlysingContext.find_contract_best_value(convert)\n",
        "\n",
        "  # rendering:----------------------------\n",
        "\n",
        "  def _render_violations(ranges_by_group, best_value):\n",
        "    for group_key in ranges_by_group:\n",
        "      group = ranges_by_group[group_key]\n",
        "      display(HTML(as_headline_2(group['name'])))\n",
        "\n",
        "      for rk in group['ranges']:\n",
        "        r = group['ranges'][rk]\n",
        "        display(HTML(r.check_contract_value(best_value, convert, renderer)))\n",
        "\n",
        "  print(\"Сумма Договора:\")\n",
        "  renderer.render_values([best_value])\n",
        "  renderer.render_color_text(best_value.value.context.tokens, best_value.value.context.attention, _range=[0, 1])\n",
        "\n",
        "  _render_violations(\n",
        "    charterAnlysingContext.find_ranges_by_group(charter_constraints, convert, verbose=False),\n",
        "    best_value)\n",
        "\n",
        "\n",
        "#   display(HTML(renderer.render_constraint_values(charter_constraints)))\n",
        "\n",
        "\n",
        "# AZ:--------------------------------------------------------FINDING_VIOLATIONS-\n",
        "\n",
        "# AZ:- ENDO OF THE THE CODE------------------------------------------------XXXXX\n",
        "# AZ:- ENDO OF THE THE CODE------------------------------------------------XXXXX\n",
        "# AZ:- ENDO OF THE THE CODE------------------------------------------------XXXXX\n",
        "# AZ:- ENDO OF THE THE CODE------------------------------------------------XXXX"
      ],
      "execution_count": 4,
      "outputs": [
        {
          "output_type": "stream",
          "text": [
            "WARNING: Logging before flag parsing goes to stderr.\n",
            "W0422 09:56:07.049047 140543853238144 __init__.py:56] Some hub symbols are not available because TensorFlow version is less than 1.14\n"
          ],
          "name": "stderr"
        }
      ]
    },
    {
      "metadata": {
        "id": "QDIDCaXmVuB0",
        "colab_type": "code",
        "colab": {
          "resources": {
            "http://localhost:8080/nbextensions/google.colab/tabbar.css": {
              "data": "Lmdvb2ctdGFie3Bvc2l0aW9uOnJlbGF0aXZlO3BhZGRpbmc6NHB4IDhweDtjb2xvcjojMDBjO3RleHQtZGVjb3JhdGlvbjp1bmRlcmxpbmU7Y3Vyc29yOmRlZmF1bHR9Lmdvb2ctdGFiLWJhci10b3AgLmdvb2ctdGFie21hcmdpbjoxcHggNHB4IDAgMDtib3JkZXItYm90dG9tOjA7ZmxvYXQ6bGVmdH0uZ29vZy10YWItYmFyLXRvcDphZnRlciwuZ29vZy10YWItYmFyLWJvdHRvbTphZnRlcntjb250ZW50OiIgIjtkaXNwbGF5OmJsb2NrO2hlaWdodDowO2NsZWFyOmJvdGg7dmlzaWJpbGl0eTpoaWRkZW59Lmdvb2ctdGFiLWJhci1ib3R0b20gLmdvb2ctdGFie21hcmdpbjowIDRweCAxcHggMDtib3JkZXItdG9wOjA7ZmxvYXQ6bGVmdH0uZ29vZy10YWItYmFyLXN0YXJ0IC5nb29nLXRhYnttYXJnaW46MCAwIDRweCAxcHg7Ym9yZGVyLXJpZ2h0OjB9Lmdvb2ctdGFiLWJhci1lbmQgLmdvb2ctdGFie21hcmdpbjowIDFweCA0cHggMDtib3JkZXItbGVmdDowfS5nb29nLXRhYi1ob3ZlcntiYWNrZ3JvdW5kOiNlZWV9Lmdvb2ctdGFiLWRpc2FibGVke2NvbG9yOiM2NjZ9Lmdvb2ctdGFiLXNlbGVjdGVke2NvbG9yOiMwMDA7YmFja2dyb3VuZDojZmZmO3RleHQtZGVjb3JhdGlvbjpub25lO2ZvbnQtd2VpZ2h0OmJvbGQ7Ym9yZGVyOjFweCBzb2xpZCAjNmI5MGRhfS5nb29nLXRhYi1iYXItdG9we3BhZGRpbmctdG9wOjVweCFpbXBvcnRhbnQ7cGFkZGluZy1sZWZ0OjVweCFpbXBvcnRhbnQ7Ym9yZGVyLWJvdHRvbToxcHggc29saWQgIzZiOTBkYSFpbXBvcnRhbnR9Lmdvb2ctdGFiLWJhci10b3AgLmdvb2ctdGFiLXNlbGVjdGVke3RvcDoxcHg7bWFyZ2luLXRvcDowO3BhZGRpbmctYm90dG9tOjVweH0uZ29vZy10YWItYmFyLWJvdHRvbSAuZ29vZy10YWItc2VsZWN0ZWR7dG9wOi0xcHg7bWFyZ2luLWJvdHRvbTowO3BhZGRpbmctdG9wOjVweH0uZ29vZy10YWItYmFyLXN0YXJ0IC5nb29nLXRhYi1zZWxlY3RlZHtsZWZ0OjFweDttYXJnaW4tbGVmdDowO3BhZGRpbmctcmlnaHQ6OXB4fS5nb29nLXRhYi1iYXItZW5kIC5nb29nLXRhYi1zZWxlY3RlZHtsZWZ0Oi0xcHg7bWFyZ2luLXJpZ2h0OjA7cGFkZGluZy1sZWZ0OjlweH0uZ29vZy10YWItYmFye21hcmdpbjowO2JvcmRlcjowO3BhZGRpbmc6MDtsaXN0LXN0eWxlOm5vbmU7Y3Vyc29yOmRlZmF1bHQ7b3V0bGluZTpub25lO2JhY2tncm91bmQ6I2ViZWZmOX0uZ29vZy10YWItYmFyLWNsZWFye2NsZWFyOmJvdGg7aGVpZ2h0OjA7b3ZlcmZsb3c6aGlkZGVufS5nb29nLXRhYi1iYXItc3RhcnR7ZmxvYXQ6bGVmdH0uZ29vZy10YWItYmFyLWVuZHtmbG9hdDpyaWdodH0qIGh0bWwgLmdvb2ctdGFiLWJhci1zdGFydHttYXJnaW4tcmlnaHQ6LTNweH0qIGh0bWwgLmdvb2ctdGFiLWJhci1lbmR7bWFyZ2luLWxlZnQ6LTNweH0=",
              "ok": true,
              "headers": [
                [
                  "content-length",
                  "1394"
                ],
                [
                  "content-type",
                  "text/css"
                ]
              ],
              "status": 200,
              "status_text": ""
            },
            "http://localhost:8080/nbextensions/google.colab/tabbar_main.min.js": {
              "data": "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",
              "ok": true,
              "headers": [
                [
                  "content-type",
                  "application/javascript"
                ]
              ],
              "status": 200,
              "status_text": ""
            },
            "http://localhost:8080/nbextensions/google.colab/files.js": {
              "data": "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",
              "ok": true,
              "headers": [
                [
                  "content-type",
                  "application/javascript"
                ]
              ],
              "status": 200,
              "status_text": ""
            }
          },
          "base_uri": "https://localhost:8080/",
          "height": 117
        },
        "outputId": "e5220732-5866-40a3-de42-3df1acf4b67c"
      },
      "cell_type": "code",
      "source": [
        "#@title Обработка документов { vertical-output: true, output-height: 800, display-mode: \"form\" }\n",
        "\n",
        "# VI: @artifex from here:\n",
        "import traceback\n",
        "\n",
        "def process_charter():\n",
        "  uploaded = interactive_upload('Устав, он лег спать')\n",
        "  try:\n",
        "\n",
        "    _CTX = GLOBALS__['CharterAnlysingContext']\n",
        "    _CTX.verbosity_level=2\n",
        "    _CTX.analyze_charter(uploaded[0], True)\n",
        "\n",
        "\n",
        "    GLOBALS__['renderer'].render_charter_parsing_results(_CTX.doc, _CTX.org, _CTX.constraints, _CTX.charity_constraints)\n",
        "    GLOBALS__['renderer'].render_contents(_CTX.doc)\n",
        "  except Exception as e:\n",
        "    print(f\"💥\\033[1;31mОшибка:{e}\\033[1;0m\")\n",
        "    print(traceback.format_exc())\n",
        "\n",
        "def process_contract():\n",
        "  uploaded = interactive_upload('Договор')\n",
        "\n",
        "  try:\n",
        "    GLOBALS__['ContractAnlysingContext'].analyze_contract(uploaded[0])\n",
        "    doc = GLOBALS__['ContractAnlysingContext'].contract\n",
        "\n",
        "    GLOBALS__['renderer'].render_subj(doc)\n",
        "    GLOBALS__['renderer'].render_contents(doc)\n",
        "  except Exception as e:\n",
        "    print(f\"💥\\033[1;31mОшибка:{e}\\033[1;0m\")\n",
        "    print(traceback.format_exc())\n",
        "\n",
        "  \n",
        "def start_wizard(tb):\n",
        "  def step1():\n",
        "    #toggle_element(b1.callback_id)\n",
        "    with tb.output_to(0):\n",
        "      print(f\"\\033[1;32mСм. следующие табы\\u2713\")\n",
        "    \n",
        "    with tb.output_to(1):\n",
        "      b2.render()\n",
        "\n",
        "  def step2():\n",
        "    toggle_element(b2.callback_id)\n",
        "    with tb.output_to(1):      \n",
        "      process_charter() \n",
        "      \n",
        "      print(f\"\\033[1;32mУстав: сделано\\u2713\")  \n",
        "      toggle_element(b2.callback_id)\n",
        "    \n",
        "    with tb.output_to(2):\n",
        "      b3.render()\n",
        "\n",
        "  def step3():    \n",
        "    toggle_element(b3.callback_id)\n",
        "    with tb.output_to(2):\n",
        "      process_contract()\n",
        "      \n",
        "      print(f\"\\033[1;32mДоговор: сделано\\u2713\")  \n",
        "      toggle_element(b3.callback_id)\n",
        "    \n",
        "    with tb.output_to(3):\n",
        "      b4.render()\n",
        "\n",
        "  def step4():\n",
        "    with tb.output_to(3):\n",
        "            \n",
        "      find_and_show_violations()\n",
        "      \n",
        "      print(f\"\\033[1;32mПроверка нарушений: сделано\\u2713\")  \n",
        "      toggle_element(b4.callback_id)\n",
        "    \n",
        "    with tb.output_to(4):\n",
        "      b5.render()\n",
        "      \n",
        "  def step5():\n",
        "    toggle_element(b4.callback_id)\n",
        "    with tb.output_to(4):\n",
        "      uploaded = interactive_upload('Протокол')\n",
        "      try:\n",
        "        GLOBALS__['ProtocolAnlysingContext'].process(uploaded[0])        \n",
        "      except:\n",
        "        print(f\"💥\\033[1;31mОшибка:{sys.exc_info()}\\033[1;0m\")\n",
        "        print(traceback.format_exc())\n",
        "        \n",
        "      print(f\"\\033[1;32mПротокол: сделано\\u2713\")  \n",
        "      toggle_element(b4.callback_id)\n",
        "    \n",
        "                                     \n",
        "  b1 = InvokeButton('Начнём', step1)\n",
        "  b2 = InvokeButton('Устав...', step2)\n",
        "  b3 = InvokeButton('Договор...', step3)\n",
        "  b4 = InvokeButton('Искать нарушения...', step4)\n",
        "  b5 = InvokeButton('Протокол...', step5)\n",
        "  \n",
        "  with tb.output_to(0): \n",
        "    try:     \n",
        "      \n",
        "      ## do preparation here   \n",
        "      # 1.\n",
        "      _init_import_code_from_gh()\n",
        "      # 2.\n",
        "      _init_embedder()\n",
        "      # 3.\n",
        "      _init_the_code()\n",
        "      # 4.\n",
        "      _init_charters()\n",
        "      # 5.\n",
        "      _init_contracts()\n",
        "\n",
        "      b1.render()\n",
        "    except:\n",
        "      print(f\"💥\\033[1;31mОшибка:{sys.exc_info()}\\033[1;0m\")\n",
        "      print(traceback.format_exc())\n",
        "\n",
        "\n",
        "#@title Wizard2\n",
        "tb2 = widgets.TabBar(['Начало', 'Устав', 'Договор', 'Поиск нарушений', 'Протокол'], location='top')    \n",
        "start_wizard(tb2)"
      ],
      "execution_count": 6,
      "outputs": [
        {
          "output_type": "display_data",
          "data": {
            "text/html": [
              "<link rel=stylesheet type=text/css href='/nbextensions/google.colab/tabbar.css'></link>"
            ],
            "text/plain": [
              "<IPython.core.display.HTML object>"
            ]
          },
          "metadata": {
            "tags": [
              "outputarea_id2"
            ]
          }
        },
        {
          "output_type": "display_data",
          "data": {
            "text/html": [
              "<script src='/nbextensions/google.colab/tabbar_main.min.js'></script>"
            ],
            "text/plain": [
              "<IPython.core.display.HTML object>"
            ]
          },
          "metadata": {
            "tags": [
              "outputarea_id2"
            ]
          }
        },
        {
          "output_type": "display_data",
          "data": {
            "text/html": [
              "<div id=\"id2\"></div>"
            ],
            "text/plain": [
              "<IPython.core.display.HTML object>"
            ]
          },
          "metadata": {
            "tags": [
              "outputarea_id2"
            ]
          }
        },
        {
          "output_type": "display_data",
          "data": {
            "application/javascript": [
              "window[\"894e9fa8-64e5-11e9-9412-0242ac1c0002\"] = colab_lib.createTabBar({\"location\": \"top\", \"elementId\": \"id2\", \"tabNames\": [\"\\u041d\\u0430\\u0447\\u0430\\u043b\\u043e\", \"\\u0423\\u0441\\u0442\\u0430\\u0432\", \"\\u0414\\u043e\\u0433\\u043e\\u0432\\u043e\\u0440\", \"\\u041f\\u043e\\u0438\\u0441\\u043a \\u043d\\u0430\\u0440\\u0443\\u0448\\u0435\\u043d\\u0438\\u0439\", \"\\u041f\\u0440\\u043e\\u0442\\u043e\\u043a\\u043e\\u043b\"], \"initialSelection\": 0, \"contentBorder\": [\"0px\"], \"contentHeight\": [\"initial\"], \"borderColor\": [\"#a7a7a7\"]});\n",
              "//# sourceURL=js_bfa138d9f2"
            ],
            "text/plain": [
              "<IPython.core.display.Javascript object>"
            ]
          },
          "metadata": {
            "tags": [
              "outputarea_id2"
            ]
          }
        },
        {
          "output_type": "display_data",
          "data": {
            "application/javascript": [
              "window[\"894f2766-64e5-11e9-9412-0242ac1c0002\"] = window[\"id2\"].setSelectedTabIndex(0);\n",
              "//# sourceURL=js_cbf607da9d"
            ],
            "text/plain": [
              "<IPython.core.display.Javascript object>"
            ]
          },
          "metadata": {
            "tags": [
              "outputarea_id2"
            ]
          }
        },
        {
          "output_type": "display_data",
          "data": {
            "application/javascript": [
              "window[\"895136dc-64e5-11e9-9412-0242ac1c0002\"] = google.colab.output.getActiveOutputArea();\n",
              "//# sourceURL=js_535e4a355d"
            ],
            "text/plain": [
              "<IPython.core.display.Javascript object>"
            ]
          },
          "metadata": {
            "tags": [
              "id2_content_0",
              "outputarea_id2"
            ]
          }
        },
        {
          "output_type": "display_data",
          "data": {
            "application/javascript": [
              "window[\"8951b45e-64e5-11e9-9412-0242ac1c0002\"] = document.querySelector(\"#id2_content_0\");\n",
              "//# sourceURL=js_3ca2a19b31"
            ],
            "text/plain": [
              "<IPython.core.display.Javascript object>"
            ]
          },
          "metadata": {
            "tags": [
              "id2_content_0",
              "outputarea_id2"
            ]
          }
        },
        {
          "output_type": "display_data",
          "data": {
            "application/javascript": [
              "window[\"8951ea14-64e5-11e9-9412-0242ac1c0002\"] = google.colab.output.setActiveOutputArea(window[\"8951b45e-64e5-11e9-9412-0242ac1c0002\"]);\n",
              "//# sourceURL=js_07d4aecf0c"
            ],
            "text/plain": [
              "<IPython.core.display.Javascript object>"
            ]
          },
          "metadata": {
            "tags": [
              "id2_content_0",
              "outputarea_id2"
            ]
          }
        },
        {
          "output_type": "display_data",
          "data": {
            "application/javascript": [
              "window[\"89523960-64e5-11e9-9412-0242ac1c0002\"] = window[\"id2\"].setSelectedTabIndex(0);\n",
              "//# sourceURL=js_71504feb2f"
            ],
            "text/plain": [
              "<IPython.core.display.Javascript object>"
            ]
          },
          "metadata": {
            "tags": [
              "id2_content_0",
              "outputarea_id2"
            ]
          }
        },
        {
          "output_type": "stream",
          "text": [
            "👌 code already imported from GitHub!\n",
            "👌 Embedder is already created! \n",
            "👌 Code is alredy imported!\n",
            "👌 Charters-related tools are already inited \n",
            "👌 Contracts-related tools are already inited \n"
          ],
          "name": "stdout"
        },
        {
          "output_type": "display_data",
          "data": {
            "text/html": [
              "<button style=\"padding:5px; font-size:16px; margin:15px\"  id=\"button-a9173f38-59d3-4fe6-a815-ee9bd61c13b8\">Начнём</button>\n",
              "        <script>\n",
              "          document.querySelector(\"#button-a9173f38-59d3-4fe6-a815-ee9bd61c13b8\").onclick = (e) => {\n",
              "            google.colab.kernel.invokeFunction(\"button-a9173f38-59d3-4fe6-a815-ee9bd61c13b8\", [], {})\n",
              "            e.preventDefault();\n",
              "          };\n",
              "        </script>"
            ],
            "text/plain": [
              "<IPython.core.display.HTML object>"
            ]
          },
          "metadata": {
            "tags": [
              "id2_content_0",
              "outputarea_id2",
              "user_output"
            ]
          }
        },
        {
          "output_type": "display_data",
          "data": {
            "application/javascript": [
              "window[\"89539eea-64e5-11e9-9412-0242ac1c0002\"] = google.colab.output.setActiveOutputArea(window[\"895136dc-64e5-11e9-9412-0242ac1c0002\"]);\n",
              "//# sourceURL=js_35e197a8cc"
            ],
            "text/plain": [
              "<IPython.core.display.Javascript object>"
            ]
          },
          "metadata": {
            "tags": [
              "id2_content_0",
              "outputarea_id2"
            ]
          }
        },
        {
          "output_type": "display_data",
          "data": {
            "application/javascript": [
              "window[\"8bc1b7de-64e5-11e9-9412-0242ac1c0002\"] = google.colab.output.getActiveOutputArea();\n",
              "//# sourceURL=js_dd34021513"
            ],
            "text/plain": [
              "<IPython.core.display.Javascript object>"
            ]
          },
          "metadata": {
            "tags": [
              "id2_content_0",
              "outputarea_id2"
            ]
          }
        },
        {
          "output_type": "display_data",
          "data": {
            "application/javascript": [
              "window[\"8bc1f5be-64e5-11e9-9412-0242ac1c0002\"] = document.querySelector(\"#id2_content_0\");\n",
              "//# sourceURL=js_ac95310a3c"
            ],
            "text/plain": [
              "<IPython.core.display.Javascript object>"
            ]
          },
          "metadata": {
            "tags": [
              "id2_content_0",
              "outputarea_id2"
            ]
          }
        },
        {
          "output_type": "display_data",
          "data": {
            "application/javascript": [
              "window[\"8bc2859c-64e5-11e9-9412-0242ac1c0002\"] = google.colab.output.setActiveOutputArea(window[\"8bc1f5be-64e5-11e9-9412-0242ac1c0002\"]);\n",
              "//# sourceURL=js_30112c9f59"
            ],
            "text/plain": [
              "<IPython.core.display.Javascript object>"
            ]
          },
          "metadata": {
            "tags": [
              "id2_content_0",
              "outputarea_id2"
            ]
          }
        },
        {
          "output_type": "display_data",
          "data": {
            "application/javascript": [
              "window[\"8bc323f8-64e5-11e9-9412-0242ac1c0002\"] = window[\"id2\"].setSelectedTabIndex(0);\n",
              "//# sourceURL=js_3a2b1eea87"
            ],
            "text/plain": [
              "<IPython.core.display.Javascript object>"
            ]
          },
          "metadata": {
            "tags": [
              "id2_content_0",
              "outputarea_id2"
            ]
          }
        },
        {
          "output_type": "stream",
          "text": [
            "\u001b[1;32mСм. следующие табы✓\n"
          ],
          "name": "stdout"
        },
        {
          "output_type": "display_data",
          "data": {
            "application/javascript": [
              "window[\"8bc48554-64e5-11e9-9412-0242ac1c0002\"] = google.colab.output.setActiveOutputArea(window[\"8bc1b7de-64e5-11e9-9412-0242ac1c0002\"]);\n",
              "//# sourceURL=js_42630a1393"
            ],
            "text/plain": [
              "<IPython.core.display.Javascript object>"
            ]
          },
          "metadata": {
            "tags": [
              "id2_content_0",
              "outputarea_id2"
            ]
          }
        },
        {
          "output_type": "display_data",
          "data": {
            "application/javascript": [
              "window[\"8bc62c1a-64e5-11e9-9412-0242ac1c0002\"] = google.colab.output.getActiveOutputArea();\n",
              "//# sourceURL=js_3de785297e"
            ],
            "text/plain": [
              "<IPython.core.display.Javascript object>"
            ]
          },
          "metadata": {
            "tags": [
              "id2_content_1",
              "outputarea_id2"
            ]
          }
        },
        {
          "output_type": "display_data",
          "data": {
            "application/javascript": [
              "window[\"8bc65faa-64e5-11e9-9412-0242ac1c0002\"] = document.querySelector(\"#id2_content_1\");\n",
              "//# sourceURL=js_3a1bc82003"
            ],
            "text/plain": [
              "<IPython.core.display.Javascript object>"
            ]
          },
          "metadata": {
            "tags": [
              "id2_content_1",
              "outputarea_id2"
            ]
          }
        },
        {
          "output_type": "display_data",
          "data": {
            "application/javascript": [
              "window[\"8bc68f7a-64e5-11e9-9412-0242ac1c0002\"] = google.colab.output.setActiveOutputArea(window[\"8bc65faa-64e5-11e9-9412-0242ac1c0002\"]);\n",
              "//# sourceURL=js_41061fdf7f"
            ],
            "text/plain": [
              "<IPython.core.display.Javascript object>"
            ]
          },
          "metadata": {
            "tags": [
              "id2_content_1",
              "outputarea_id2"
            ]
          }
        },
        {
          "output_type": "display_data",
          "data": {
            "application/javascript": [
              "window[\"8bc6be3c-64e5-11e9-9412-0242ac1c0002\"] = window[\"id2\"].setSelectedTabIndex(1);\n",
              "//# sourceURL=js_918b840731"
            ],
            "text/plain": [
              "<IPython.core.display.Javascript object>"
            ]
          },
          "metadata": {
            "tags": [
              "id2_content_1",
              "outputarea_id2"
            ]
          }
        },
        {
          "output_type": "display_data",
          "data": {
            "text/html": [
              "<button style=\"padding:5px; font-size:16px; margin:15px\"  id=\"button-d13ba381-8b00-4b14-b683-4ee314aabf29\">Устав...</button>\n",
              "        <script>\n",
              "          document.querySelector(\"#button-d13ba381-8b00-4b14-b683-4ee314aabf29\").onclick = (e) => {\n",
              "            google.colab.kernel.invokeFunction(\"button-d13ba381-8b00-4b14-b683-4ee314aabf29\", [], {})\n",
              "            e.preventDefault();\n",
              "          };\n",
              "        </script>"
            ],
            "text/plain": [
              "<IPython.core.display.HTML object>"
            ]
          },
          "metadata": {
            "tags": [
              "id2_content_1",
              "outputarea_id2",
              "user_output"
            ]
          }
        },
        {
          "output_type": "display_data",
          "data": {
            "application/javascript": [
              "window[\"8bc77688-64e5-11e9-9412-0242ac1c0002\"] = google.colab.output.setActiveOutputArea(window[\"8bc62c1a-64e5-11e9-9412-0242ac1c0002\"]);\n",
              "//# sourceURL=js_47f51c6c54"
            ],
            "text/plain": [
              "<IPython.core.display.Javascript object>"
            ]
          },
          "metadata": {
            "tags": [
              "id2_content_1",
              "outputarea_id2"
            ]
          }
        },
        {
          "output_type": "display_data",
          "data": {
            "application/javascript": [
              " \n",
              "    var x = document.getElementById(\"button-d13ba381-8b00-4b14-b683-4ee314aabf29\");\n",
              "    if (x.style.display === \"none\")\n",
              "      x.style.display = \"block\";\n",
              "    else\n",
              "      x.style.display = \"none\";\n",
              "    "
            ],
            "text/plain": [
              "<IPython.core.display.Javascript object>"
            ]
          },
          "metadata": {
            "tags": []
          }
        },
        {
          "output_type": "display_data",
          "data": {
            "application/javascript": [
              "window[\"8ccbc890-64e5-11e9-9412-0242ac1c0002\"] = google.colab.output.getActiveOutputArea();\n",
              "//# sourceURL=js_a3b578a3ad"
            ],
            "text/plain": [
              "<IPython.core.display.Javascript object>"
            ]
          },
          "metadata": {
            "tags": [
              "id2_content_1",
              "outputarea_id2"
            ]
          }
        },
        {
          "output_type": "display_data",
          "data": {
            "application/javascript": [
              "window[\"8ccc07a6-64e5-11e9-9412-0242ac1c0002\"] = document.querySelector(\"#id2_content_1\");\n",
              "//# sourceURL=js_6e5a137ea3"
            ],
            "text/plain": [
              "<IPython.core.display.Javascript object>"
            ]
          },
          "metadata": {
            "tags": [
              "id2_content_1",
              "outputarea_id2"
            ]
          }
        },
        {
          "output_type": "display_data",
          "data": {
            "application/javascript": [
              "window[\"8ccc4112-64e5-11e9-9412-0242ac1c0002\"] = google.colab.output.setActiveOutputArea(window[\"8ccc07a6-64e5-11e9-9412-0242ac1c0002\"]);\n",
              "//# sourceURL=js_6d0852e4f4"
            ],
            "text/plain": [
              "<IPython.core.display.Javascript object>"
            ]
          },
          "metadata": {
            "tags": [
              "id2_content_1",
              "outputarea_id2"
            ]
          }
        },
        {
          "output_type": "display_data",
          "data": {
            "application/javascript": [
              "window[\"8cccb9b2-64e5-11e9-9412-0242ac1c0002\"] = window[\"id2\"].setSelectedTabIndex(1);\n",
              "//# sourceURL=js_d51aaf9bab"
            ],
            "text/plain": [
              "<IPython.core.display.Javascript object>"
            ]
          },
          "metadata": {
            "tags": [
              "id2_content_1",
              "outputarea_id2"
            ]
          }
        },
        {
          "output_type": "stream",
          "text": [
            "Please select \"Устав\" .docx file:\n"
          ],
          "name": "stdout"
        },
        {
          "output_type": "display_data",
          "data": {
            "text/html": [
              "\n",
              "     <input type=\"file\" id=\"files-aca284ce-9a6f-44fa-9787-fd2594b82833\" name=\"files[]\" multiple disabled />\n",
              "     <output id=\"result-aca284ce-9a6f-44fa-9787-fd2594b82833\">\n",
              "      Upload widget is only available when the cell has been executed in the\n",
              "      current browser session. Please rerun this cell to enable.\n",
              "      </output>\n",
              "      <script src=\"/nbextensions/google.colab/files.js\"></script> "
            ],
            "text/plain": [
              "<IPython.core.display.HTML object>"
            ]
          },
          "metadata": {
            "tags": [
              "id2_content_1",
              "outputarea_id2",
              "user_output"
            ]
          }
        },
        {
          "output_type": "stream",
          "text": [
            "Saving МНГ Устав.docx to МНГ Устав.docx\n",
            "User uploaded file \"МНГ Устав.docx\" with length 332083 bytes\n",
            "Символов в оригинальном документе: 71981\n",
            "WARNING: Document is too large for embedding: 10388 tokens. Splitting into 2 windows overlapping with 1200 tokens \n",
            "Embedding region: 0 7200\n",
            "🐌 Embedding 7200 words... it takes time (☕️?)..\n",
            "INFO:tensorflow:Saver not created because there are no variables in the graph to restore\n"
          ],
          "name": "stdout"
        },
        {
          "output_type": "stream",
          "text": [
            "I0422 10:01:29.153378 140543853238144 saver.py:1483] Saver not created because there are no variables in the graph to restore\n"
          ],
          "name": "stderr"
        },
        {
          "output_type": "stream",
          "text": [
            "Embedding complete 🐌 ; the shape is (1, 7200, 1024)\n",
            "Function _emb called 1 times. \n",
            "Execution time max: 19.6963, average: 19.6963\n",
            "Embedding region: 6000 4388\n",
            "🐌 Embedding 4388 words... it takes time (☕️?)..\n",
            "INFO:tensorflow:Saver not created because there are no variables in the graph to restore\n"
          ],
          "name": "stdout"
        },
        {
          "output_type": "stream",
          "text": [
            "I0422 10:01:48.656241 140543853238144 saver.py:1483] Saver not created because there are no variables in the graph to restore\n"
          ],
          "name": "stderr"
        },
        {
          "output_type": "stream",
          "text": [
            "Embedding complete 🐌 ; the shape is (1, 4388, 1024)\n",
            "Function _emb called 2 times. \n",
            "Execution time max: 19.6963, average: 16.3294\n",
            "Function _emb called 2 times. \n",
            "Execution time max: 19.6963, average: 16.3294\n",
            "Function _embedd_large called 1 times. \n",
            "Execution time max: 32.6735, average: 32.6735\n",
            "----WARNING!: function rectifyed_sum_by_pattern_prefix is deprecated\n",
            "----WARNING!: function subdoc is deprecated\n",
            "----------------- LegalDocument charter.name.undef deleted. Ciao bella!\n",
            "❤️ ACCOMPLISHED: \t 0.\t extracting NERs (named entities)\n",
            "❤️ ACCOMPLISHED: \t 1.\t detecting sections: \"{'head.all': <legal_docs.HeadlineMeta object at 0x7fd15eecdcc0>, 'head.directors': <legal_docs.HeadlineMeta object at 0x7fd15eecde80>, 'head.gen': <legal_docs.HeadlineMeta object at 0x7fd15eecde10>}\" \n",
            "extract_constraint_values_from_section head.all\n",
            "----WARNING!: function make_constraints_attention_vectors is deprecated\n",
            "extract_constraint_values_from_section embedding....\n",
            "❤️ ACCOMPLISHED: \t 2.\t Finding margin transaction values in section Статья 14. Компетенция Общего собрания акционеров Общества\n",
            "extract_constraint_values_from_section head.directors\n",
            "extract_constraint_values_from_section embedding....\n",
            "❤️ ACCOMPLISHED: \t 3.\t Finding margin transaction values in section Статья 19. Компетенция Совета директоров Общества\n",
            "extract_constraint_values_from_section head.gen\n",
            "extract_constraint_values_from_section embedding....\n",
            "❤️ ACCOMPLISHED: \t 4.\t Finding margin transaction values in section Статья 22. Генеральный директор Общества\n",
            "head.all\n",
            "head.directors\n",
            "nonzeros_count= 2\n",
            "confidence= 0.9726510673761368\n",
            "1213 1.9453021347522736\n",
            "head.gen\n"
          ],
          "name": "stdout"
        },
        {
          "output_type": "display_data",
          "data": {
            "text/html": [
              "<div style=\"background:#eeeeff; padding:0.5em\"> recognized NE(s): <br><br> org type:<h3 style=\"margin:0\">  Акционерное общество </h3>org full name:<h2 style=\"margin:0\">  « Мессояханефтегаз » </h2> <br>quote: <div style=\"font-size:90%; background:white\"><span title=\"0 0.1889\" style=\"background-color:#d2dbe8\">Статья </span><span title=\"1 0.1915\" style=\"background-color:#d3dbe7\">2 </span><span title=\"2 0.3608\" style=\"background-color:#edd1c2\">. </span><span title=\"3 0.3703\" style=\"background-color:#efcfbf\">Фирменное </span><span title=\"4 0.2848\" style=\"background-color:#e2dad5\">наименование </span><span title=\"5 0.2635\" style=\"background-color:#dfdbd9\">и </span><span title=\"6 0.2296\" style=\"background-color:#d9dce1\">место </span><span title=\"7 0.3297\" style=\"background-color:#ead5c9\">нахождения </span><span title=\"8 0.3758\" style=\"background-color:#efcebd\">Общества </span><span title=\"9 0.2285\" style=\"background-color:#d9dce1\">\n",
              " </span><br><span title=\"10 0.3660\" style=\"background-color:#eed0c0\">\n",
              " </span><br><span title=\"11 0.3870\" style=\"background-color:#f1cdba\">Фирменное </span><span title=\"12 0.4215\" style=\"background-color:#f3c7b1\">наименование </span><span title=\"13 0.3633\" style=\"background-color:#eed0c0\">Общества </span><span title=\"14 0.2082\" style=\"background-color:#d5dbe5\">на </span><span title=\"15 0.2012\" style=\"background-color:#d4dbe6\">русском </span><span title=\"16 0.2445\" style=\"background-color:#dcdddd\">языке </span><span title=\"17 0.2413\" style=\"background-color:#dbdcde\">: </span><span title=\"18 0.3102\" style=\"background-color:#e7d7ce\">\n",
              " </span><br><span title=\"19 0.3676\" style=\"background-color:#efcfbf\">полное </span><span title=\"20 0.3663\" style=\"background-color:#eed0c0\">фирменное </span><span title=\"21 0.3200\" style=\"background-color:#e8d6cc\">наименование </span><span title=\"22 0.6399\" style=\"background-color:#f39577\">– </span><span title=\"23 0.7919\" style=\"background-color:#e16751\">Акционерное </span><span title=\"24 0.5151\" style=\"background-color:#f7b497\">общество </span><span title=\"25 0.2742\" style=\"background-color:#e1dad6\">\n",
              " </span><br><span title=\"26 0.3005\" style=\"background-color:#e5d8d1\">« </span><span title=\"27 0.2589\" style=\"background-color:#dedcdb\">Мессояханефтегаз </span><span title=\"28 0.2361\" style=\"background-color:#dadce0\">» </span><span title=\"29 0.2695\" style=\"background-color:#e0dbd8\">; </span><span title=\"30 0.3152\" style=\"background-color:#e8d6cc\">\n",
              " </span><br><span title=\"31 0.3634\" style=\"background-color:#eed0c0\">сокращенное </span><span title=\"32 0.3744\" style=\"background-color:#efcebd\">фирменное </span><span title=\"33 0.3245\" style=\"background-color:#e9d5cb\">наименование </span><span title=\"34 0.6372\" style=\"background-color:#f39577\">– </span><span title=\"35 0.7969\" style=\"background-color:#e0654f\">Акционерное </span><span title=\"36 0.5529\" style=\"background-color:#f7ac8e\">Общество </span><span title=\"37 0.3195\" style=\"background-color:#e8d6cc\">« </span><span title=\"38 0.2632\" style=\"background-color:#dfdbd9\">Мессояханефтегаз </span><span title=\"39 0.2136\" style=\"background-color:#d6dce4\">» </span><span title=\"40 0.2504\" style=\"background-color:#dddcdc\">. </span><span title=\"41 0.3102\" style=\"background-color:#e7d7ce\">\n",
              " </span><br><span title=\"42 0.2604\" style=\"background-color:#dedcdb\">Место </span><span title=\"43 0.3167\" style=\"background-color:#e8d6cc\">нахождения </span><span title=\"44 0.3431\" style=\"background-color:#ebd3c6\">Общества </span><span title=\"45 0.2377\" style=\"background-color:#dadce0\">: </span><span title=\"46 0.2832\" style=\"background-color:#e2dad5\">Российская </span><span title=\"47 0.2708\" style=\"background-color:#e0dbd8\">Федерация </span><span title=\"48 0.2126\" style=\"background-color:#d6dce4\">, </span><span title=\"49 0.2495\" style=\"background-color:#dcdddd\">Тюменская </span><span title=\"50 0.2350\" style=\"background-color:#dadce0\">область </span><span title=\"51 0.2211\" style=\"background-color:#d8dce2\">, </span><span title=\"52 0.2353\" style=\"background-color:#dadce0\">Ямало-Ненецкий </span><span title=\"53 0.2264\" style=\"background-color:#d8dce2\">автономный </span><span title=\"54 0.1956\" style=\"background-color:#d3dbe7\">округ </span><span title=\"55 0.1874\" style=\"background-color:#d2dbe8\">, </span><span title=\"56 0.1782\" style=\"background-color:#cfdaea\">город </span><span title=\"57 0.1520\" style=\"background-color:#cbd8ee\">Новый </span><span title=\"58 0.1648\" style=\"background-color:#cdd9ec\">Уренгой </span><span title=\"59 0.1992\" style=\"background-color:#d4dbe6\">. </span><span title=\"60 0.1890\" style=\"background-color:#d2dbe8\">\n",
              " </span><br><span title=\"61 0.1772\" style=\"background-color:#cfdaea\">\n",
              " </span><br></div> </div><hr style=\"margin-top: 45px\"><h2 style=\"color:orange; padding:0; margin:0\">Общее собрание участников/акционеров</h2><i style=\"margin-top:0.2em; margin-left:2em; font-size:90%\">Статья 14. Компетенция Общего собрания акционеров Общества</i><div style=\"margin-left:2em\"><h3 style=\"margin:0\">одобрение сделок Благотворительности:</h3><div>не выявлено</div><h3 style=\"margin:0\">решения о пороговых суммах:</h3><br><b style=\"color:#993300\"> &gt;  RUB       100,000,000.00</b> <b style=\"color:#993300\"> &gt;  RUB       100,000,000.00</b> <div style=\"border-bottom:1px solid #ccc; margin-top:1em\"></div><div style=\"margin-top:0.2em; margin-left:2em; font-size:14px\">\"...<span style=\"background:rgb(76,117,207)\"> принятие </span><span style=\"background:rgb(76,113,196)\"> решений </span><span style=\"background:rgb(76,110,185)\"> о </span><span style=\"background:rgb(76,123,224)\"> совершении </span><span style=\"background:rgb(76,117,208)\"> сделок </span><span style=\"background:rgb(76,103,163)\"> ( </span><span style=\"background:rgb(76,98,149)\"> в </span><span style=\"background:rgb(76,95,141)\"> том </span><span style=\"background:rgb(76,104,167)\"> числе </span><span style=\"background:rgb(76,110,186)\"> нескольких </span><span style=\"background:rgb(76,116,203)\"> взаимосвязанных </span><span style=\"background:rgb(76,115,199)\"> сделок </span><span style=\"background:rgb(76,100,156)\"> ) </span><span style=\"background:rgb(76,97,145)\"> на </span><span style=\"background:rgb(76,93,134)\"> сумму </span><span style=\"background:rgb(255,255,255)\"> , </span><span style=\"background:rgb(255,255,255)\"> превышающую </span><span style=\"background:rgb(255,255,255)\"> 100 </span><span style=\"background:rgb(255,255,255)\"> 000000 </span><span style=\"background:rgb(255,255,255)\"> ( </span><span style=\"background:rgb(201,246,255)\"> сто </span><span style=\"background:rgb(163,132,120)\"> миллионов </span><span style=\"background:rgb(137,124,135)\"> ) </span><span style=\"background:rgb(119,116,140)\"> рублей </span><span style=\"background:rgb(106,105,127)\"> ( </span><span style=\"background:rgb(97,99,122)\"> или </span><span style=\"background:rgb(91,99,132)\"> эквивалент </span><span style=\"background:rgb(86,102,148)\"> указанной </span><span style=\"background:rgb(83,101,148)\"> суммы </span><span style=\"background:rgb(81,94,130)\"> в </span><span style=\"background:rgb(80,89,118)\"> любой </span><span style=\"background:rgb(78,91,124)\"> другой </span><span style=\"background:rgb(78,98,147)\"> валюте </span><span style=\"background:rgb(77,102,160)\"> ) </span><span style=\"background:rgb(77,101,158)\"> , </span><span style=\"background:rgb(77,115,201)\"> и </span><span style=\"background:rgb(76,116,202)\"> сделок </span><span style=\"background:rgb(76,103,164)\"> ( </span><span style=\"background:rgb(76,97,148)\"> в </span><span style=\"background:rgb(76,95,140)\"> том </span><span style=\"background:rgb(76,103,164)\"> числе </span><span style=\"background:rgb(76,109,182)\"> нескольких </span><span style=\"background:rgb(76,115,200)\"> взаимосвязанных </span><span style=\"background:rgb(76,113,195)\"> сделок </span><span style=\"background:rgb(76,100,155)\"> ) </span><span style=\"background:rgb(76,100,155)\"> с </span><span style=\"background:rgb(76,102,163)\"> имуществом </span><span style=\"background:rgb(76,101,160)\"> Общества </span><span style=\"background:rgb(76,100,154)\"> , </span><span style=\"background:rgb(76,103,163)\"> стоимость </span><span style=\"background:rgb(76,99,151)\"> которого </span><span style=\"background:rgb(76,95,140)\"> на </span><span style=\"background:rgb(76,99,154)\"> основании </span><span style=\"background:rgb(76,97,146)\"> данных </span><span style=\"background:rgb(76,97,148)\"> бухгалтерской </span><span style=\"background:rgb(76,104,168)\"> отчетности </span><span style=\"background:rgb(76,98,150)\"> Общества </span><span style=\"background:rgb(76,90,124)\"> за </span><span style=\"background:rgb(76,88,119)\"> последний </span><span style=\"background:rgb(76,93,134)\"> отчетный </span><span style=\"background:rgb(76,98,149)\"> период </span><span style=\"background:rgb(76,96,145)\"> , </span><span style=\"background:rgb(76,95,141)\"> предшествующий </span><span style=\"background:rgb(76,106,175)\"> дню </span><span style=\"background:rgb(76,115,200)\"> принятия </span><span style=\"background:rgb(76,108,179)\"> решения </span><span style=\"background:rgb(76,106,174)\"> о </span><span style=\"background:rgb(76,110,186)\"> совершении </span><span style=\"background:rgb(76,117,207)\"> таких </span><span style=\"background:rgb(76,114,199)\"> сделок </span><span style=\"background:rgb(255,255,255)\"> , </span><span style=\"background:rgb(255,255,255)\"> превышает </span><span style=\"background:rgb(255,255,255)\"> 100 </span><span style=\"background:rgb(255,255,255)\"> 000000 </span><span style=\"background:rgb(255,255,255)\"> ( </span><span style=\"background:rgb(201,251,255)\"> сто </span><span style=\"background:rgb(163,132,120)\"> миллионов </span><span style=\"background:rgb(137,122,131)\"> ) </span><span style=\"background:rgb(119,115,136)\"> рублей </span><span style=\"background:rgb(106,105,127)\"> ( </span><span style=\"background:rgb(97,99,121)\"> или </span><span style=\"background:rgb(91,98,128)\"> эквивалент </span><span style=\"background:rgb(86,101,144)\"> указанной </span><span style=\"background:rgb(83,100,144)\"> суммы </span><span style=\"background:rgb(81,92,125)\"> в </span><span style=\"background:rgb(80,88,114)\"> любой </span><span style=\"background:rgb(78,90,122)\"> другой </span><span style=\"background:rgb(78,97,143)\"> валюте </span><span style=\"background:rgb(77,100,154)\"> ) </span><span style=\"background:rgb(77,100,155)\"> , </span><span style=\"background:rgb(77,101,158)\"> за </span><span style=\"background:rgb(76,116,203)\"> исключением </span><span style=\"background:rgb(76,115,202)\"> сделок </span><span style=\"background:rgb(76,106,173)\"> , </span><span style=\"background:rgb(76,104,168)\"> совершаемых </span><span style=\"background:rgb(76,98,151)\"> в </span><span style=\"background:rgb(76,100,154)\"> процессе </span><span style=\"background:rgb(76,97,146)\"> обычной </span><span style=\"background:rgb(76,103,163)\"> хозяйственной </span><span style=\"background:rgb(76,108,179)\"> деятельности </span><span style=\"background:rgb(76,104,169)\"> Общества </span><span style=\"background:rgb(76,100,157)\"> , </span><span style=\"background:rgb(76,99,153)\"> а </span><span style=\"background:rgb(76,100,154)\"> также </span><span style=\"background:rgb(76,101,159)\"> за </span><span style=\"background:rgb(76,115,199)\"> исключением </span><span style=\"background:rgb(76,114,197)\"> сделок </span><span style=\"background:rgb(76,98,150)\"> с </span><span style=\"background:rgb(76,97,146)\"> ПАО </span><span style=\"background:rgb(76,95,142)\"> « </span><span style=\"background:rgb(76,93,136)\"> Газпром </span><span style=\"background:rgb(76,94,137)\"> нефть </span><span style=\"background:rgb(76,95,141)\"> » </span><span style=\"background:rgb(76,99,153)\"> и </span><span style=\"background:rgb(76,100,157)\"> обществами </span><span style=\"background:rgb(76,98,150)\"> , </span><span style=\"background:rgb(76,94,138)\"> входящими </span><span style=\"background:rgb(76,93,136)\"> в </span><span style=\"background:rgb(76,101,158)\"> группу </span><span style=\"background:rgb(76,101,158)\"> лиц </span><span style=\"background:rgb(76,98,151)\"> с </span><span style=\"background:rgb(76,103,164)\"> ним </span><span style=\"background:rgb(76,104,168)\"> , </span><span style=\"background:rgb(76,100,155)\"> когда </span><span style=\"background:rgb(76,104,167)\"> такая </span><span style=\"background:rgb(76,103,165)\"> сделка </span><span style=\"background:rgb(76,98,149)\"> или </span><span style=\"background:rgb(76,106,174)\"> несколько </span><span style=\"background:rgb(76,118,208)\"> взаимосвязанных </span><span style=\"background:rgb(76,115,200)\"> сделок </span><span style=\"background:rgb(76,101,160)\"> является </span><span style=\"background:rgb(76,97,147)\"> ( </span><span style=\"background:rgb(76,95,142)\"> -ются </span><span style=\"background:rgb(76,105,172)\"> ) </span><span style=\"background:rgb(76,108,178)\"> сделкой </span><span style=\"background:rgb(76,100,155)\"> , </span><span style=\"background:rgb(76,104,166)\"> в </span><span style=\"background:rgb(76,105,170)\"> совершении </span><span style=\"background:rgb(76,97,147)\"> которой </span><span style=\"background:rgb(76,95,142)\"> имеется </span><span style=\"background:rgb(76,99,152)\"> заинтересованность </span><span style=\"background:rgb(76,97,148)\"> ) </span><span style=\"background:rgb(76,97,145)\"> ; </span><br><span style=\"background:rgb(76,105,170)\"> \n",
              " </span> ...\"</div></div><hr style=\"margin-top: 45px\"><h2 style=\"color:crimson; padding:0; margin:0\">Совет директоров</h2><i style=\"margin-top:0.2em; margin-left:2em; font-size:90%\">Статья 19. Компетенция Совета директоров Общества</i><div style=\"margin-left:2em\"><h3 style=\"margin:0\">одобрение сделок Благотворительности:</h3><BR><div style=\"margin-top:0.2em; margin-left:2em; font-size:14px\">\"...<span style=\"background:rgb(76,132,250)\"> одобрение </span><span style=\"background:rgb(76,122,222)\"> сделок </span><span style=\"background:rgb(76,108,179)\"> о </span><span style=\"background:rgb(76,109,184)\"> передаче </span><span style=\"background:rgb(76,106,174)\"> имущества </span><span style=\"background:rgb(76,101,160)\"> Общества </span><span style=\"background:rgb(76,96,143)\"> в </span><span style=\"background:rgb(76,100,155)\"> безвозмездное </span><span style=\"background:rgb(76,102,161)\"> пользование </span><span style=\"background:rgb(76,97,146)\"> или </span><span style=\"background:rgb(76,99,153)\"> доверительное </span><span style=\"background:rgb(76,104,167)\"> управление </span><span style=\"background:rgb(76,117,206)\"> , </span><span style=\"background:rgb(76,120,217)\"> сделок </span><span style=\"background:rgb(76,255,186)\"> дарения </span><span style=\"background:rgb(76,110,185)\"> , </span><span style=\"background:rgb(76,255,189)\"> пожертвований </span><span style=\"background:rgb(76,117,206)\"> , </span><span style=\"background:rgb(76,115,202)\"> сделок </span><span style=\"background:rgb(76,104,167)\"> , </span><span style=\"background:rgb(76,103,163)\"> связанных </span><span style=\"background:rgb(76,101,159)\"> с </span><span style=\"background:rgb(76,102,161)\"> благотворительностью </span><span style=\"background:rgb(76,96,144)\"> ; </span> ...\"</div><h3 style=\"margin:0\">решения о пороговых суммах:</h3><br><b style=\"color:#993300\"> &gt;  RUB    15,000,000,000.00</b> <div style=\"border-bottom:1px solid #ccc; margin-top:1em\"></div><div style=\"margin-top:0.2em; margin-left:2em; font-size:14px\">\"...<span style=\"background:rgb(76,106,174)\"> рассмотрение </span><span style=\"background:rgb(76,106,175)\"> и </span><span style=\"background:rgb(76,111,188)\"> утверждение </span><span style=\"background:rgb(76,104,167)\"> крупных </span><span style=\"background:rgb(76,109,181)\"> инвестиционных </span><span style=\"background:rgb(76,112,191)\"> проектов </span><span style=\"background:rgb(76,106,174)\"> Общества </span><span style=\"background:rgb(76,101,159)\"> , </span><span style=\"background:rgb(76,97,146)\"> если </span><span style=\"background:rgb(76,94,138)\"> в </span><span style=\"background:rgb(76,94,137)\"> совокупности </span><span style=\"background:rgb(76,96,144)\"> такой </span><span style=\"background:rgb(76,97,146)\"> проект </span><span style=\"background:rgb(76,89,122)\"> соответствует </span><span style=\"background:rgb(76,83,105)\"> следующим </span><span style=\"background:rgb(76,85,111)\"> основным </span><span style=\"background:rgb(76,91,128)\"> характеристикам </span><span style=\"background:rgb(76,91,130)\"> : </span><span style=\"background:rgb(255,217,126)\"> 1 </span><span style=\"background:rgb(255,182,134)\"> ) </span><span style=\"background:rgb(201,164,161)\"> объем </span><span style=\"background:rgb(163,143,153)\"> инвестиций </span><span style=\"background:rgb(137,122,130)\"> по </span><span style=\"background:rgb(119,114,133)\"> проекту </span><span style=\"background:rgb(106,106,129)\"> в </span><span style=\"background:rgb(97,100,124)\"> целом </span><span style=\"background:rgb(91,96,121)\"> превышает </span><span style=\"background:rgb(255,255,255)\"> 15000000000 </span><span style=\"background:rgb(255,255,255)\"> ( </span><span style=\"background:rgb(255,255,255)\"> пятнадцать </span><span style=\"background:rgb(255,178,121)\"> миллиардов </span><span style=\"background:rgb(201,153,128)\"> ) </span><span style=\"background:rgb(163,138,139)\"> рублей </span><span style=\"background:rgb(137,123,132)\"> ; </span><span style=\"background:rgb(119,113,129)\"> 2 </span><span style=\"background:rgb(106,104,122)\"> ) </span><span style=\"background:rgb(97,99,122)\"> высокий </span><span style=\"background:rgb(91,104,147)\"> уровень </span><span style=\"background:rgb(86,113,178)\"> сложности </span><span style=\"background:rgb(83,109,170)\"> реализации </span><span style=\"background:rgb(81,96,135)\"> , </span><span style=\"background:rgb(80,95,137)\"> критерием </span><span style=\"background:rgb(78,99,148)\"> для </span><span style=\"background:rgb(78,94,136)\"> этого </span><span style=\"background:rgb(77,87,115)\"> может </span><span style=\"background:rgb(77,87,115)\"> быть </span><span style=\"background:rgb(77,93,133)\"> высокая </span><span style=\"background:rgb(76,99,151)\"> неопределенность </span><span style=\"background:rgb(76,105,170)\"> в </span><span style=\"background:rgb(76,110,187)\"> реализации </span><span style=\"background:rgb(76,102,160)\"> проекта </span><span style=\"background:rgb(76,91,128)\"> , </span><span style=\"background:rgb(76,89,122)\"> т. </span><span style=\"background:rgb(76,90,127)\"> е. </span><span style=\"background:rgb(76,96,144)\"> совокупность </span><span style=\"background:rgb(76,98,151)\"> факторов </span><span style=\"background:rgb(76,100,154)\"> , </span><span style=\"background:rgb(76,99,151)\"> связанных </span><span style=\"background:rgb(76,96,142)\"> со </span><span style=\"background:rgb(76,106,173)\"> сложностью </span><span style=\"background:rgb(76,109,182)\"> исполнения </span><span style=\"background:rgb(76,102,161)\"> проекта </span><span style=\"background:rgb(76,94,136)\"> , </span><span style=\"background:rgb(76,94,138)\"> технологическими </span><span style=\"background:rgb(76,98,150)\"> рисками </span><span style=\"background:rgb(76,99,151)\"> , </span><span style=\"background:rgb(76,101,159)\"> наличием </span><span style=\"background:rgb(76,104,167)\"> потенциальных </span><span style=\"background:rgb(76,101,158)\"> угроз </span><span style=\"background:rgb(76,95,141)\"> в </span><span style=\"background:rgb(76,94,138)\"> области </span><span style=\"background:rgb(76,94,137)\"> промышленной </span><span style=\"background:rgb(76,97,147)\"> безопасности </span><span style=\"background:rgb(76,100,156)\"> , </span><span style=\"background:rgb(76,100,157)\"> охраны </span><span style=\"background:rgb(76,96,144)\"> труда </span><span style=\"background:rgb(76,90,126)\"> и </span><span style=\"background:rgb(76,91,130)\"> окружающей </span><span style=\"background:rgb(76,97,145)\"> среды </span><span style=\"background:rgb(76,94,139)\"> , </span><span style=\"background:rgb(76,96,143)\"> низкой </span><span style=\"background:rgb(76,100,157)\"> изученностью </span><span style=\"background:rgb(76,99,153)\"> запасов </span><span style=\"background:rgb(76,96,143)\"> или </span><span style=\"background:rgb(76,97,147)\"> особенностью </span><span style=\"background:rgb(76,95,141)\"> строения </span><span style=\"background:rgb(76,95,140)\"> пласта </span><span style=\"background:rgb(76,94,138)\"> ; </span><br><span style=\"background:rgb(76,100,155)\"> \n",
              " </span> ...\"</div><br><b style=\"color:#993300\"> &gt;  RUB        50,000,000.00</b> <b style=\"color:#009933\"> &lt;  RUB       100,000,000.00</b> <b style=\"color:#993300\"> &gt;  RUB        50,000,000.00</b> <b style=\"color:#009933\"> &lt;  RUB       100,000,000.00</b> <div style=\"border-bottom:1px solid #ccc; margin-top:1em\"></div><div style=\"margin-top:0.2em; margin-left:2em; font-size:14px\">\"...<span style=\"background:rgb(76,125,231)\"> одобрение </span><span style=\"background:rgb(76,112,192)\"> сделки </span><span style=\"background:rgb(76,104,167)\"> или </span><span style=\"background:rgb(76,110,186)\"> нескольких </span><span style=\"background:rgb(76,120,217)\"> взаимосвязанных </span><span style=\"background:rgb(76,118,209)\"> сделок </span><span style=\"background:rgb(76,102,161)\"> ( </span><span style=\"background:rgb(76,103,164)\"> за </span><span style=\"background:rgb(76,115,199)\"> исключением </span><span style=\"background:rgb(76,114,197)\"> сделок </span><span style=\"background:rgb(76,102,162)\"> , </span><span style=\"background:rgb(76,100,155)\"> указанных </span><span style=\"background:rgb(76,95,140)\"> в </span><span style=\"background:rgb(76,94,137)\"> пунктах </span><span style=\"background:rgb(76,89,123)\"> 11 </span><span style=\"background:rgb(76,89,122)\"> , </span><span style=\"background:rgb(76,92,132)\"> 37 </span><span style=\"background:rgb(76,93,135)\"> – </span><span style=\"background:rgb(76,90,126)\"> 40 </span><span style=\"background:rgb(76,89,123)\"> и </span><span style=\"background:rgb(76,91,129)\"> 45 </span><span style=\"background:rgb(76,92,130)\"> статьи </span><span style=\"background:rgb(76,91,129)\"> 19.1 </span><span style=\"background:rgb(76,89,122)\"> и </span><span style=\"background:rgb(76,89,122)\"> в </span><span style=\"background:rgb(76,90,126)\"> пункте </span><span style=\"background:rgb(76,91,128)\"> 18 </span><span style=\"background:rgb(76,89,124)\"> статьи </span><span style=\"background:rgb(76,91,130)\"> 14.1 </span><span style=\"background:rgb(76,94,139)\"> настоящего </span><span style=\"background:rgb(76,98,150)\"> Устава </span><span style=\"background:rgb(76,98,150)\"> ) </span><span style=\"background:rgb(76,96,143)\"> , </span><span style=\"background:rgb(76,93,135)\"> на </span><span style=\"background:rgb(255,255,255)\"> сумму </span><span style=\"background:rgb(255,255,255)\"> свыше </span><span style=\"background:rgb(255,255,255)\"> 50 </span><span style=\"background:rgb(255,255,255)\"> 000000 </span><span style=\"background:rgb(255,255,255)\"> ( </span><span style=\"background:rgb(201,148,112)\"> пятидесяти </span><span style=\"background:rgb(163,131,117)\"> миллионов </span><span style=\"background:rgb(137,122,129)\"> ) </span><span style=\"background:rgb(119,113,132)\"> рублей </span><span style=\"background:rgb(106,104,124)\"> ( </span><span style=\"background:rgb(97,99,121)\"> или </span><span style=\"background:rgb(91,98,128)\"> эквивалент </span><span style=\"background:rgb(86,101,143)\"> указанной </span><span style=\"background:rgb(83,99,142)\"> суммы </span><span style=\"background:rgb(81,93,126)\"> в </span><span style=\"background:rgb(80,89,116)\"> любой </span><span style=\"background:rgb(78,89,120)\"> другой </span><span style=\"background:rgb(78,93,132)\"> валюте </span><span style=\"background:rgb(77,95,138)\"> ) </span><span style=\"background:rgb(77,96,141)\"> , </span><span style=\"background:rgb(255,255,255)\"> но </span><span style=\"background:rgb(255,255,255)\"> не </span><span style=\"background:rgb(255,255,255)\"> превышающую </span><span style=\"background:rgb(255,255,255)\"> 100 </span><span style=\"background:rgb(255,255,255)\"> 000 </span><span style=\"background:rgb(223,158,109)\"> 000 </span><span style=\"background:rgb(179,135,106)\"> ( </span><span style=\"background:rgb(148,119,105)\"> сто </span><span style=\"background:rgb(127,111,112)\"> миллионов </span><span style=\"background:rgb(111,108,125)\"> ) </span><span style=\"background:rgb(101,105,133)\"> рублей </span><span style=\"background:rgb(93,99,126)\"> ( </span><span style=\"background:rgb(88,94,121)\"> или </span><span style=\"background:rgb(84,96,130)\"> эквивалент </span><span style=\"background:rgb(82,99,145)\"> указанной </span><span style=\"background:rgb(80,99,146)\"> суммы </span><span style=\"background:rgb(79,93,130)\"> в </span><span style=\"background:rgb(78,89,119)\"> любой </span><span style=\"background:rgb(77,90,123)\"> другой </span><span style=\"background:rgb(77,96,143)\"> валюте </span><span style=\"background:rgb(77,101,156)\"> ) </span><span style=\"background:rgb(76,100,155)\"> , </span><span style=\"background:rgb(76,115,199)\"> и </span><span style=\"background:rgb(76,116,202)\"> сделок </span><span style=\"background:rgb(76,103,164)\"> ( </span><span style=\"background:rgb(76,98,148)\"> в </span><span style=\"background:rgb(76,95,140)\"> том </span><span style=\"background:rgb(76,103,164)\"> числе </span><span style=\"background:rgb(76,109,182)\"> нескольких </span><span style=\"background:rgb(76,115,200)\"> взаимосвязанных </span><span style=\"background:rgb(76,112,193)\"> сделок </span><span style=\"background:rgb(76,98,150)\"> ) </span><span style=\"background:rgb(76,98,151)\"> с </span><span style=\"background:rgb(76,101,159)\"> имуществом </span><span style=\"background:rgb(76,100,154)\"> Общества </span><span style=\"background:rgb(76,98,149)\"> , </span><span style=\"background:rgb(76,101,158)\"> стоимость </span><span style=\"background:rgb(76,97,146)\"> которого </span><span style=\"background:rgb(76,93,135)\"> на </span><span style=\"background:rgb(76,98,149)\"> основании </span><span style=\"background:rgb(76,96,144)\"> данных </span><span style=\"background:rgb(76,97,146)\"> бухгалтерской </span><span style=\"background:rgb(76,103,165)\"> отчетности </span><span style=\"background:rgb(76,97,146)\"> Общества </span><span style=\"background:rgb(76,88,121)\"> за </span><span style=\"background:rgb(76,87,116)\"> последний </span><span style=\"background:rgb(76,92,132)\"> отчетный </span><span style=\"background:rgb(76,96,145)\"> период </span><span style=\"background:rgb(76,95,141)\"> , </span><span style=\"background:rgb(76,94,138)\"> предшествующий </span><span style=\"background:rgb(76,105,170)\"> дню </span><span style=\"background:rgb(76,113,195)\"> принятия </span><span style=\"background:rgb(76,106,175)\"> решения </span><span style=\"background:rgb(76,105,170)\"> о </span><span style=\"background:rgb(76,109,183)\"> совершении </span><span style=\"background:rgb(76,116,202)\"> таких </span><span style=\"background:rgb(76,112,191)\"> сделок </span><span style=\"background:rgb(255,255,255)\"> , </span><span style=\"background:rgb(255,255,255)\"> превышает </span><span style=\"background:rgb(255,255,255)\"> 50 </span><span style=\"background:rgb(255,255,255)\"> 000 </span><span style=\"background:rgb(255,255,255)\"> 000 </span><span style=\"background:rgb(201,249,255)\"> ( </span><span style=\"background:rgb(163,127,104)\"> пятьдесят </span><span style=\"background:rgb(137,116,111)\"> миллионов </span><span style=\"background:rgb(119,110,121)\"> ) </span><span style=\"background:rgb(106,105,127)\"> рублей </span><span style=\"background:rgb(97,99,121)\"> ( </span><span style=\"background:rgb(91,94,116)\"> или </span><span style=\"background:rgb(86,94,123)\"> эквивалент </span><span style=\"background:rgb(83,98,138)\"> указанной </span><span style=\"background:rgb(81,96,136)\"> суммы </span><span style=\"background:rgb(80,90,121)\"> в </span><span style=\"background:rgb(78,87,113)\"> любой </span><span style=\"background:rgb(78,89,119)\"> другой </span><span style=\"background:rgb(77,93,132)\"> валюте </span><span style=\"background:rgb(77,94,137)\"> ) </span><span style=\"background:rgb(255,255,255)\"> , </span><span style=\"background:rgb(255,255,255)\"> но </span><span style=\"background:rgb(255,255,255)\"> не </span><span style=\"background:rgb(255,255,255)\"> превышает </span><span style=\"background:rgb(255,255,255)\"> 100 </span><span style=\"background:rgb(255,255,255)\"> 000 </span><span style=\"background:rgb(223,255,255)\"> 000 </span><span style=\"background:rgb(179,136,109)\"> ( </span><span style=\"background:rgb(148,120,107)\"> сто </span><span style=\"background:rgb(126,111,114)\"> миллионов </span><span style=\"background:rgb(111,107,124)\"> ) </span><span style=\"background:rgb(101,104,131)\"> рублей </span><span style=\"background:rgb(93,98,125)\"> ( </span><span style=\"background:rgb(88,94,119)\"> или </span><span style=\"background:rgb(84,94,126)\"> эквивалент </span><span style=\"background:rgb(82,98,141)\"> указанной </span><span style=\"background:rgb(80,97,141)\"> суммы </span><span style=\"background:rgb(79,91,124)\"> в </span><span style=\"background:rgb(78,87,114)\"> любой </span><span style=\"background:rgb(77,89,120)\"> другой </span><span style=\"background:rgb(77,95,139)\"> валюте </span><span style=\"background:rgb(77,98,149)\"> ) </span><span style=\"background:rgb(76,99,151)\"> , </span><span style=\"background:rgb(76,100,154)\"> за </span><span style=\"background:rgb(76,115,199)\"> исключением </span><span style=\"background:rgb(76,115,201)\"> сделок </span><span style=\"background:rgb(76,107,176)\"> , </span><span style=\"background:rgb(76,108,179)\"> совершаемых </span><span style=\"background:rgb(76,99,152)\"> в </span><span style=\"background:rgb(76,99,154)\"> процессе </span><span style=\"background:rgb(76,97,146)\"> обычной </span><span style=\"background:rgb(76,103,163)\"> хозяйственной </span><span style=\"background:rgb(76,107,178)\"> деятельности </span><span style=\"background:rgb(76,105,170)\"> Общества </span><span style=\"background:rgb(76,119,213)\"> , </span><span style=\"background:rgb(76,117,207)\"> сделок </span><span style=\"background:rgb(76,98,151)\"> с </span><span style=\"background:rgb(76,97,145)\"> ПАО </span><span style=\"background:rgb(76,95,141)\"> « </span><span style=\"background:rgb(76,93,134)\"> Газпром </span><span style=\"background:rgb(76,92,133)\"> нефть </span><span style=\"background:rgb(76,94,137)\"> » </span><span style=\"background:rgb(76,99,152)\"> и </span><span style=\"background:rgb(76,101,158)\"> обществами </span><span style=\"background:rgb(76,98,150)\"> , </span><span style=\"background:rgb(76,94,137)\"> входящими </span><span style=\"background:rgb(76,94,137)\"> в </span><span style=\"background:rgb(76,102,161)\"> группу </span><span style=\"background:rgb(76,100,156)\"> лиц </span><span style=\"background:rgb(76,97,148)\"> с </span><span style=\"background:rgb(76,104,167)\"> ним </span><span style=\"background:rgb(76,103,165)\"> , </span><span style=\"background:rgb(76,99,154)\"> а </span><span style=\"background:rgb(76,100,155)\"> также </span><span style=\"background:rgb(76,100,156)\"> за </span><span style=\"background:rgb(76,104,167)\"> исключением </span><span style=\"background:rgb(76,107,176)\"> случаев </span><span style=\"background:rgb(76,103,165)\"> , </span><span style=\"background:rgb(76,114,198)\"> когда </span><span style=\"background:rgb(76,119,213)\"> одобрение </span><span style=\"background:rgb(76,121,220)\"> указанных </span><span style=\"background:rgb(76,116,205)\"> сделок </span><span style=\"background:rgb(76,97,147)\"> относится </span><span style=\"background:rgb(76,98,150)\"> к </span><span style=\"background:rgb(76,99,153)\"> компетенции </span><span style=\"background:rgb(76,100,157)\"> Общего </span><span style=\"background:rgb(76,105,171)\"> собрания </span><span style=\"background:rgb(76,104,168)\"> акционеров </span><span style=\"background:rgb(76,102,162)\"> Общества </span><span style=\"background:rgb(76,95,140)\"> ; </span><br><span style=\"background:rgb(76,108,180)\"> \n",
              " </span> ...\"</div><br><b style=\"color:#993300\"> &gt;  USD        25,000,000.00</b> <div style=\"border-bottom:1px solid #ccc; margin-top:1em\"></div><div style=\"margin-top:0.2em; margin-left:2em; font-size:14px\">\"...<span style=\"background:rgb(76,122,221)\"> одобрение </span><span style=\"background:rgb(76,113,196)\"> привлечения </span><span style=\"background:rgb(76,106,173)\"> Обществом </span><span style=\"background:rgb(76,110,186)\"> любого </span><span style=\"background:rgb(76,109,183)\"> финансирования </span><span style=\"background:rgb(76,100,156)\"> со </span><span style=\"background:rgb(76,101,158)\"> стороны </span><span style=\"background:rgb(76,103,166)\"> третьих </span><span style=\"background:rgb(76,105,172)\"> лиц </span><span style=\"background:rgb(76,111,188)\"> путем </span><span style=\"background:rgb(76,112,191)\"> заключения </span><span style=\"background:rgb(76,101,158)\"> одной </span><span style=\"background:rgb(76,102,162)\"> или </span><span style=\"background:rgb(76,109,182)\"> нескольких </span><span style=\"background:rgb(76,121,218)\"> взаимосвязанных </span><span style=\"background:rgb(76,117,205)\"> сделок </span><span style=\"background:rgb(255,255,255)\"> на </span><span style=\"background:rgb(255,255,255)\"> суммы </span><span style=\"background:rgb(255,255,255)\"> свыше </span><span style=\"background:rgb(255,255,255)\"> эквивалента </span><span style=\"background:rgb(255,255,255)\"> 25000000 </span><span style=\"background:rgb(255,255,255)\"> ( </span><span style=\"background:rgb(255,255,255)\"> двадцати </span><span style=\"background:rgb(255,255,255)\"> пяти </span><span style=\"background:rgb(255,255,255)\"> миллионов </span><span style=\"background:rgb(201,160,150)\"> ) </span><span style=\"background:rgb(163,143,154)\"> долларов </span><span style=\"background:rgb(137,125,139)\"> США </span><span style=\"background:rgb(119,112,128)\"> по </span><span style=\"background:rgb(106,110,140)\"> курсу </span><span style=\"background:rgb(97,109,152)\"> Банка </span><span style=\"background:rgb(91,104,145)\"> России </span><span style=\"background:rgb(86,102,145)\"> на </span><span style=\"background:rgb(83,114,188)\"> дату </span><span style=\"background:rgb(81,119,206)\"> принятия </span><span style=\"background:rgb(80,111,184)\"> решения </span><span style=\"background:rgb(78,103,161)\"> , </span><span style=\"background:rgb(78,103,162)\"> а </span><span style=\"background:rgb(77,113,192)\"> также </span><span style=\"background:rgb(77,111,189)\"> договоров </span><span style=\"background:rgb(77,104,167)\"> о </span><span style=\"background:rgb(76,111,188)\"> выпуске </span><span style=\"background:rgb(76,107,177)\"> гарантий </span><span style=\"background:rgb(76,108,178)\"> и </span><span style=\"background:rgb(76,110,186)\"> аккредитивов </span><span style=\"background:rgb(76,103,166)\"> , </span><span style=\"background:rgb(76,110,184)\"> выпуск </span><span style=\"background:rgb(76,107,178)\"> векселей </span><span style=\"background:rgb(76,98,148)\"> независимо </span><span style=\"background:rgb(76,98,150)\"> от </span><span style=\"background:rgb(76,101,158)\"> суммы </span><span style=\"background:rgb(76,96,145)\"> ; </span><br><span style=\"background:rgb(76,109,184)\"> \n",
              " </span> ...\"</div><br><b style=\"color:#993300\"> &gt;  RUB        25,000,000.00</b> <div style=\"border-bottom:1px solid #ccc; margin-top:1em\"></div><div style=\"margin-top:0.2em; margin-left:2em; font-size:14px\">\"...<span style=\"background:rgb(76,119,212)\"> одобрение </span><span style=\"background:rgb(76,112,192)\"> кандидатуры </span><span style=\"background:rgb(76,111,190)\"> и </span><span style=\"background:rgb(76,118,209)\"> условий </span><span style=\"background:rgb(76,117,205)\"> договоров </span><span style=\"background:rgb(76,110,186)\"> с </span><span style=\"background:rgb(76,111,190)\"> оценщиками </span><span style=\"background:rgb(76,107,177)\"> , </span><span style=\"background:rgb(76,103,163)\"> лицами </span><span style=\"background:rgb(76,101,159)\"> , </span><span style=\"background:rgb(76,103,166)\"> привлекаемыми </span><span style=\"background:rgb(76,106,174)\"> для </span><span style=\"background:rgb(76,104,167)\"> оказания </span><span style=\"background:rgb(76,98,151)\"> Обществу </span><span style=\"background:rgb(76,97,147)\"> консультационных </span><span style=\"background:rgb(76,96,145)\"> , </span><span style=\"background:rgb(76,103,164)\"> юридических </span><span style=\"background:rgb(76,109,183)\"> услуг </span><span style=\"background:rgb(76,105,170)\"> , </span><span style=\"background:rgb(76,103,165)\"> если </span><span style=\"background:rgb(76,103,165)\"> стоимость </span><span style=\"background:rgb(76,104,168)\"> оказываемых </span><span style=\"background:rgb(255,255,255)\"> услуг </span><span style=\"background:rgb(255,255,255)\"> превышает </span><span style=\"background:rgb(255,255,255)\"> 25000000 </span><span style=\"background:rgb(255,255,255)\"> ( </span><span style=\"background:rgb(201,241,255)\"> двадцать </span><span style=\"background:rgb(255,255,255)\"> пять </span><span style=\"background:rgb(221,160,117)\"> миллионов </span><span style=\"background:rgb(178,143,132)\"> ) </span><span style=\"background:rgb(147,133,147)\"> рублей </span><span style=\"background:rgb(126,120,140)\"> ; </span><br><span style=\"background:rgb(111,126,182)\"> \n",
              " </span> ...\"</div><br><b style=\"color:#993300\"> &gt;  RUB        20,000,000.00</b> <div style=\"border-bottom:1px solid #ccc; margin-top:1em\"></div><div style=\"margin-top:0.2em; margin-left:2em; font-size:14px\">\"...<span style=\"background:rgb(100,130,208)\"> одобрение </span><span style=\"background:rgb(93,123,200)\"> следующих </span><span style=\"background:rgb(88,119,194)\"> действий </span><span style=\"background:rgb(84,116,190)\"> и </span><span style=\"background:rgb(82,114,188)\"> решений </span><span style=\"background:rgb(80,108,172)\"> , </span><span style=\"background:rgb(79,105,165)\"> связанных </span><span style=\"background:rgb(78,105,169)\"> со </span><span style=\"background:rgb(77,109,179)\"> спорами </span><span style=\"background:rgb(77,103,162)\"> Общества </span><span style=\"background:rgb(77,96,141)\"> с </span><span style=\"background:rgb(76,93,133)\"> федеральными </span><span style=\"background:rgb(76,93,136)\"> или </span><span style=\"background:rgb(76,97,148)\"> региональными </span><span style=\"background:rgb(76,95,142)\"> органами </span><span style=\"background:rgb(76,92,132)\"> законодательной </span><span style=\"background:rgb(76,92,131)\"> , </span><span style=\"background:rgb(76,94,138)\"> исполнительной </span><span style=\"background:rgb(76,96,144)\"> власти </span><span style=\"background:rgb(76,97,147)\"> Российской </span><span style=\"background:rgb(76,102,161)\"> Федерации </span><span style=\"background:rgb(76,98,149)\"> , </span><span style=\"background:rgb(76,97,148)\"> или </span><span style=\"background:rgb(76,95,140)\"> органами </span><span style=\"background:rgb(76,99,151)\"> местного </span><span style=\"background:rgb(76,102,162)\"> самоуправления </span><span style=\"background:rgb(76,95,141)\"> ( </span><span style=\"background:rgb(76,94,136)\"> далее </span><span style=\"background:rgb(76,93,135)\"> – </span><span style=\"background:rgb(76,94,137)\"> « </span><span style=\"background:rgb(76,92,130)\"> Органы </span><span style=\"background:rgb(76,92,130)\"> государственной </span><span style=\"background:rgb(76,93,135)\"> власти </span><span style=\"background:rgb(76,95,142)\"> » </span><span style=\"background:rgb(76,100,156)\"> ) </span><span style=\"background:rgb(76,98,150)\"> , </span><span style=\"background:rgb(76,96,145)\"> на </span><span style=\"background:rgb(76,95,140)\"> суммы </span><span style=\"background:rgb(76,92,131)\"> , </span><span style=\"background:rgb(76,91,127)\"> превышающие </span><span style=\"background:rgb(255,255,255)\"> 20000000 </span><span style=\"background:rgb(255,255,255)\"> ( </span><span style=\"background:rgb(201,147,108)\"> Двадцать </span><span style=\"background:rgb(163,131,118)\"> миллионов </span><span style=\"background:rgb(137,122,131)\"> ) </span><span style=\"background:rgb(119,119,149)\"> рублей </span><span style=\"background:rgb(106,114,152)\"> , </span><span style=\"background:rgb(97,107,146)\"> а </span><span style=\"background:rgb(91,102,139)\"> также </span><span style=\"background:rgb(86,106,158)\"> со </span><span style=\"background:rgb(83,108,168)\"> спорами </span><span style=\"background:rgb(81,102,155)\"> , </span><span style=\"background:rgb(80,100,151)\"> независимо </span><span style=\"background:rgb(78,99,148)\"> от </span><span style=\"background:rgb(78,102,158)\"> их </span><span style=\"background:rgb(77,103,163)\"> суммы </span><span style=\"background:rgb(77,98,147)\"> , </span><span style=\"background:rgb(77,99,151)\"> между </span><span style=\"background:rgb(76,99,152)\"> Обществом </span><span style=\"background:rgb(76,97,147)\"> и </span><span style=\"background:rgb(76,101,158)\"> аффилированными </span><span style=\"background:rgb(76,105,170)\"> лицами </span><span style=\"background:rgb(76,104,169)\"> акционеров </span><span style=\"background:rgb(76,101,158)\"> Общества </span><span style=\"background:rgb(76,97,147)\"> , </span><span style=\"background:rgb(76,100,154)\"> членом </span><span style=\"background:rgb(76,101,158)\"> Совета </span><span style=\"background:rgb(76,99,153)\"> директоров </span><span style=\"background:rgb(76,92,130)\"> , </span><span style=\"background:rgb(76,91,128)\"> Генеральным </span><span style=\"background:rgb(76,97,147)\"> директором </span><span style=\"background:rgb(76,96,142)\"> : </span><span style=\"background:rgb(76,91,130)\"> ( </span><span style=\"background:rgb(76,93,133)\"> i </span><span style=\"background:rgb(76,103,164)\"> ) </span><span style=\"background:rgb(76,100,157)\"> предъявление </span><span style=\"background:rgb(76,97,145)\"> в </span><span style=\"background:rgb(76,107,175)\"> суд </span><span style=\"background:rgb(76,106,173)\"> исков </span><span style=\"background:rgb(76,104,168)\"> или </span><span style=\"background:rgb(76,105,171)\"> заявлений </span><span style=\"background:rgb(76,95,140)\"> ; </span><span style=\"background:rgb(76,93,134)\"> ( </span><span style=\"background:rgb(76,95,141)\"> ii </span><span style=\"background:rgb(76,101,159)\"> ) </span><span style=\"background:rgb(76,101,157)\"> изменение </span><span style=\"background:rgb(76,101,160)\"> исковых </span><span style=\"background:rgb(76,101,160)\"> требований </span><span style=\"background:rgb(76,89,121)\"> ( </span><span style=\"background:rgb(76,92,130)\"> iii </span><span style=\"background:rgb(76,100,157)\"> ) </span><span style=\"background:rgb(76,100,156)\"> отказ </span><span style=\"background:rgb(76,104,168)\"> от </span><span style=\"background:rgb(76,103,164)\"> иска </span><span style=\"background:rgb(76,89,123)\"> или </span><br><span style=\"background:rgb(76,88,119)\"> \n",
              " </span> ...\"</div><br><b style=\"color:#993300\"> &gt;  USD        25,000,000.00</b> <div style=\"border-bottom:1px solid #ccc; margin-top:1em\"></div><div style=\"margin-top:0.2em; margin-left:2em; font-size:14px\">\"...<span style=\"background:rgb(76,118,211)\"> одобрение </span><span style=\"background:rgb(76,115,202)\"> следующих </span><span style=\"background:rgb(76,113,195)\"> действий </span><span style=\"background:rgb(76,112,191)\"> и </span><span style=\"background:rgb(76,111,188)\"> решений </span><span style=\"background:rgb(76,106,172)\"> , </span><span style=\"background:rgb(76,104,167)\"> связанных </span><span style=\"background:rgb(76,104,169)\"> со </span><span style=\"background:rgb(76,109,182)\"> спорами </span><span style=\"background:rgb(76,104,167)\"> Общества </span><span style=\"background:rgb(76,101,159)\"> с </span><span style=\"background:rgb(76,101,158)\"> лицами </span><span style=\"background:rgb(76,99,153)\"> , </span><span style=\"background:rgb(76,98,149)\"> которые </span><span style=\"background:rgb(76,96,144)\"> не </span><span style=\"background:rgb(76,100,156)\"> являются </span><span style=\"background:rgb(76,102,162)\"> аффилированными </span><span style=\"background:rgb(76,106,173)\"> лицами </span><span style=\"background:rgb(76,106,174)\"> Общества </span><span style=\"background:rgb(76,99,152)\"> , </span><span style=\"background:rgb(76,97,147)\"> на </span><span style=\"background:rgb(76,95,142)\"> суммы </span><span style=\"background:rgb(76,92,131)\"> , </span><span style=\"background:rgb(76,92,133)\"> превышающие </span><span style=\"background:rgb(76,91,128)\"> сумму </span><span style=\"background:rgb(76,88,121)\"> , </span><span style=\"background:rgb(76,87,118)\"> эквивалентную </span><span style=\"background:rgb(255,255,255)\"> 25000000 </span><span style=\"background:rgb(255,255,255)\"> ( </span><span style=\"background:rgb(201,144,100)\"> Двадцати </span><span style=\"background:rgb(255,255,255)\"> пяти </span><span style=\"background:rgb(224,161,116)\"> миллионам </span><span style=\"background:rgb(179,146,138)\"> ) </span><span style=\"background:rgb(148,133,146)\"> долларов </span><span style=\"background:rgb(127,122,147)\"> США </span><span style=\"background:rgb(111,113,141)\"> : </span><span style=\"background:rgb(101,103,128)\"> ( </span><span style=\"background:rgb(93,102,135)\"> i </span><span style=\"background:rgb(88,109,165)\"> ) </span><span style=\"background:rgb(85,105,157)\"> предъявление </span><span style=\"background:rgb(82,99,145)\"> в </span><span style=\"background:rgb(80,109,176)\"> суд </span><span style=\"background:rgb(79,107,172)\"> исков </span><span style=\"background:rgb(78,104,166)\"> или </span><span style=\"background:rgb(77,106,171)\"> заявлений </span><span style=\"background:rgb(77,95,139)\"> ; </span><span style=\"background:rgb(77,93,134)\"> ( </span><span style=\"background:rgb(76,95,141)\"> ii </span><span style=\"background:rgb(76,102,160)\"> ) </span><span style=\"background:rgb(76,101,159)\"> изменение </span><span style=\"background:rgb(76,102,162)\"> исковых </span><span style=\"background:rgb(76,103,164)\"> требований </span><span style=\"background:rgb(76,90,127)\"> ( </span><span style=\"background:rgb(76,93,133)\"> iii </span><span style=\"background:rgb(76,101,159)\"> ) </span><span style=\"background:rgb(76,101,159)\"> отказ </span><span style=\"background:rgb(76,105,172)\"> от </span><span style=\"background:rgb(76,105,171)\"> иска </span><span style=\"background:rgb(76,102,162)\"> или </span><span style=\"background:rgb(76,108,181)\"> признание </span><span style=\"background:rgb(76,105,171)\"> иска </span><span style=\"background:rgb(76,95,141)\"> ( </span><span style=\"background:rgb(76,90,125)\"> полное </span><span style=\"background:rgb(76,89,123)\"> или </span><span style=\"background:rgb(76,95,141)\"> частичное </span><span style=\"background:rgb(76,98,150)\"> ) </span><span style=\"background:rgb(76,95,141)\"> ; </span><span style=\"background:rgb(76,92,132)\"> ( </span><span style=\"background:rgb(76,95,139)\"> iv </span><span style=\"background:rgb(76,104,169)\"> ) </span><span style=\"background:rgb(76,105,170)\"> заключение </span><span style=\"background:rgb(76,107,176)\"> мирового </span><span style=\"background:rgb(76,107,177)\"> соглашения </span><span style=\"background:rgb(76,106,172)\"> или </span><span style=\"background:rgb(76,106,174)\"> соглашения </span><span style=\"background:rgb(76,94,137)\"> по </span><span style=\"background:rgb(76,93,135)\"> фактическим </span><span style=\"background:rgb(76,98,149)\"> обстоятельствам </span><span style=\"background:rgb(76,97,145)\"> ; </span><span style=\"background:rgb(76,93,135)\"> ( </span><span style=\"background:rgb(76,94,138)\"> v </span><span style=\"background:rgb(76,100,157)\"> ) </span><span style=\"background:rgb(76,107,176)\"> передача </span><span style=\"background:rgb(76,101,159)\"> спора </span><span style=\"background:rgb(76,101,159)\"> на </span><span style=\"background:rgb(76,103,164)\"> рассмотрение </span><span style=\"background:rgb(76,101,159)\"> третейского </span><span style=\"background:rgb(76,102,163)\"> суда </span><span style=\"background:rgb(76,95,140)\"> ; </span><span style=\"background:rgb(76,92,133)\"> ( </span><span style=\"background:rgb(76,95,140)\"> vi </span><span style=\"background:rgb(76,105,170)\"> ) </span><span style=\"background:rgb(76,115,201)\"> заключение </span><span style=\"background:rgb(76,109,184)\"> соглашений </span><span style=\"background:rgb(76,104,166)\"> об </span><span style=\"background:rgb(76,108,179)\"> изменении </span><span style=\"background:rgb(76,102,162)\"> подсудности </span><span style=\"background:rgb(76,95,140)\"> ; </span><br><span style=\"background:rgb(76,100,155)\"> \n",
              " </span> ...\"</div></div><hr style=\"margin-top: 45px\"><h2 style=\"color:blue; padding:0; margin:0\">Генеральный директор</h2><i style=\"margin-top:0.2em; margin-left:2em; font-size:90%\">Статья 22. Генеральный директор Общества</i><div style=\"margin-left:2em\"><h3 style=\"margin:0\">одобрение сделок Благотворительности:</h3><div>не выявлено</div><h3 style=\"margin:0\">решения о пороговых суммах:</h3><br><b style=\"color:#993300\"> &gt;  USD        25,000,000.00</b> <div style=\"border-bottom:1px solid #ccc; margin-top:1em\"></div><div style=\"margin-top:0.2em; margin-left:2em; font-size:14px\">\"...<span style=\"background:rgb(76,120,214)\"> заключение </span><span style=\"background:rgb(76,119,212)\"> договоров </span><span style=\"background:rgb(76,110,184)\"> займа </span><span style=\"background:rgb(76,108,179)\"> , </span><span style=\"background:rgb(76,111,190)\"> кредита </span><span style=\"background:rgb(76,107,175)\"> , </span><span style=\"background:rgb(76,108,179)\"> а </span><span style=\"background:rgb(76,111,190)\"> также </span><span style=\"background:rgb(76,123,226)\"> иных </span><span style=\"background:rgb(76,122,222)\"> сделок </span><span style=\"background:rgb(76,108,181)\"> , </span><span style=\"background:rgb(76,105,171)\"> направленных </span><span style=\"background:rgb(76,103,164)\"> на </span><span style=\"background:rgb(76,112,191)\"> привлечение </span><span style=\"background:rgb(76,114,197)\"> финансирования </span><span style=\"background:rgb(76,110,185)\"> Общества </span><span style=\"background:rgb(76,105,172)\"> , </span><span style=\"background:rgb(76,103,166)\"> если </span><span style=\"background:rgb(76,104,167)\"> сумма </span><span style=\"background:rgb(76,110,187)\"> каждой </span><span style=\"background:rgb(76,107,177)\"> сделки </span><span style=\"background:rgb(76,101,160)\"> или </span><span style=\"background:rgb(76,107,177)\"> нескольких </span><span style=\"background:rgb(76,116,204)\"> взаимосвязанных </span><span style=\"background:rgb(76,112,192)\"> сделок </span><span style=\"background:rgb(76,98,151)\"> в </span><span style=\"background:rgb(255,255,255)\"> совокупности </span><span style=\"background:rgb(255,255,255)\"> составляет </span><span style=\"background:rgb(255,255,255)\"> не </span><span style=\"background:rgb(255,255,255)\"> более </span><span style=\"background:rgb(249,255,255)\"> суммы </span><span style=\"background:rgb(197,255,255)\"> , </span><span style=\"background:rgb(161,229,255)\"> эквивалентной </span><span style=\"background:rgb(255,255,255)\"> 25000000 </span><span style=\"background:rgb(255,255,255)\"> ( </span><span style=\"background:rgb(201,243,255)\"> двадцати </span><span style=\"background:rgb(255,255,255)\"> пяти </span><span style=\"background:rgb(255,255,255)\"> миллионам </span><span style=\"background:rgb(201,156,135)\"> ) </span><span style=\"background:rgb(163,139,141)\"> долларов </span><span style=\"background:rgb(137,122,130)\"> США </span><span style=\"background:rgb(119,110,123)\"> по </span><span style=\"background:rgb(106,107,132)\"> курсу </span><span style=\"background:rgb(97,105,140)\"> Банка </span><span style=\"background:rgb(91,101,137)\"> России </span><span style=\"background:rgb(86,101,143)\"> на </span><span style=\"background:rgb(83,113,182)\"> дату </span><span style=\"background:rgb(81,114,192)\"> подписания </span><span style=\"background:rgb(80,116,197)\"> такой </span><span style=\"background:rgb(78,112,188)\"> сделки </span><span style=\"background:rgb(78,96,142)\"> ( </span><span style=\"background:rgb(77,94,137)\"> или </span><span style=\"background:rgb(77,96,142)\"> на </span><span style=\"background:rgb(77,107,176)\"> дату </span><span style=\"background:rgb(76,109,183)\"> подписания </span><span style=\"background:rgb(76,100,157)\"> каждой </span><span style=\"background:rgb(76,104,167)\"> из </span><span style=\"background:rgb(76,117,206)\"> взаимосвязанных </span><span style=\"background:rgb(76,116,202)\"> сделок </span><span style=\"background:rgb(76,98,150)\"> ) </span><span style=\"background:rgb(76,95,140)\"> ; </span><br><span style=\"background:rgb(76,103,164)\"> \n",
              " </span> ...\"</div><br><b style=\"color:#993300\"> &gt;  USD        25,000,000.00</b> <div style=\"border-bottom:1px solid #ccc; margin-top:1em\"></div><div style=\"margin-top:0.2em; margin-left:2em; font-size:14px\">\"...<span style=\"background:rgb(76,119,211)\"> заключение </span><span style=\"background:rgb(76,112,193)\"> сделки </span><span style=\"background:rgb(76,104,169)\"> или </span><span style=\"background:rgb(76,111,189)\"> нескольких </span><span style=\"background:rgb(76,123,223)\"> взаимосвязанных </span><span style=\"background:rgb(76,120,217)\"> сделок </span><span style=\"background:rgb(76,102,161)\"> ( </span><span style=\"background:rgb(76,103,164)\"> за </span><span style=\"background:rgb(76,116,205)\"> исключением </span><span style=\"background:rgb(76,116,205)\"> сделок </span><span style=\"background:rgb(76,104,167)\"> , </span><span style=\"background:rgb(76,100,157)\"> указанных </span><span style=\"background:rgb(76,94,139)\"> в </span><span style=\"background:rgb(76,93,135)\"> пунктах </span><span style=\"background:rgb(76,89,122)\"> 11 </span><span style=\"background:rgb(76,89,123)\"> , </span><span style=\"background:rgb(76,92,132)\"> 37 </span><span style=\"background:rgb(76,93,134)\"> – </span><span style=\"background:rgb(76,90,125)\"> 40 </span><span style=\"background:rgb(76,90,125)\"> и </span><span style=\"background:rgb(76,93,134)\"> 45 </span><span style=\"background:rgb(76,93,134)\"> статьи </span><span style=\"background:rgb(76,92,131)\"> 19.1 </span><span style=\"background:rgb(76,89,123)\"> и </span><span style=\"background:rgb(76,89,121)\"> в </span><span style=\"background:rgb(76,91,128)\"> пункте </span><span style=\"background:rgb(76,92,131)\"> 18 </span><span style=\"background:rgb(76,90,124)\"> статьи </span><span style=\"background:rgb(76,92,131)\"> 14.1 </span><span style=\"background:rgb(76,96,144)\"> настоящего </span><span style=\"background:rgb(76,102,160)\"> Устава </span><span style=\"background:rgb(76,104,167)\"> ) </span><span style=\"background:rgb(76,105,171)\"> , </span><span style=\"background:rgb(76,103,166)\"> если </span><span style=\"background:rgb(76,110,185)\"> сумма </span><span style=\"background:rgb(76,108,180)\"> сделки </span><span style=\"background:rgb(76,95,141)\"> или </span><span style=\"background:rgb(76,97,148)\"> балансовая </span><span style=\"background:rgb(76,104,168)\"> стоимость </span><span style=\"background:rgb(76,102,161)\"> имущества </span><span style=\"background:rgb(76,100,156)\"> , </span><span style=\"background:rgb(76,102,161)\"> являющегося </span><span style=\"background:rgb(76,102,162)\"> предметом </span><span style=\"background:rgb(76,111,188)\"> такой </span><span style=\"background:rgb(76,111,188)\"> сделки </span><span style=\"background:rgb(255,255,255)\"> , </span><span style=\"background:rgb(255,255,255)\"> не </span><span style=\"background:rgb(255,255,255)\"> превышает </span><span style=\"background:rgb(228,255,255)\"> сумму </span><span style=\"background:rgb(182,247,255)\"> , </span><span style=\"background:rgb(150,226,255)\"> эквивалентную </span><span style=\"background:rgb(255,255,255)\"> 25000000 </span><span style=\"background:rgb(255,255,255)\"> ( </span><span style=\"background:rgb(201,246,255)\"> двадцати </span><span style=\"background:rgb(255,255,255)\"> пяти </span><span style=\"background:rgb(255,255,255)\"> миллионам </span><span style=\"background:rgb(201,154,130)\"> ) </span><span style=\"background:rgb(163,137,134)\"> долларов </span><span style=\"background:rgb(137,120,125)\"> США </span><span style=\"background:rgb(119,110,121)\"> по </span><span style=\"background:rgb(106,107,131)\"> курсу </span><span style=\"background:rgb(97,104,137)\"> Банка </span><span style=\"background:rgb(91,100,133)\"> России </span><span style=\"background:rgb(86,100,141)\"> на </span><span style=\"background:rgb(83,113,183)\"> дату </span><span style=\"background:rgb(81,115,193)\"> подписания </span><span style=\"background:rgb(80,116,198)\"> такой </span><span style=\"background:rgb(78,112,187)\"> сделки </span><span style=\"background:rgb(78,96,142)\"> ( </span><span style=\"background:rgb(77,95,140)\"> или </span><span style=\"background:rgb(77,97,147)\"> в </span><span style=\"background:rgb(77,98,149)\"> совокупности </span><span style=\"background:rgb(76,97,145)\"> по </span><span style=\"background:rgb(76,105,171)\"> сумме </span><span style=\"background:rgb(76,117,205)\"> взаимосвязанных </span><span style=\"background:rgb(76,111,187)\"> сделок </span><span style=\"background:rgb(76,96,145)\"> на </span><span style=\"background:rgb(76,108,179)\"> дату </span><span style=\"background:rgb(76,108,178)\"> подписания </span><span style=\"background:rgb(76,97,147)\"> каждой </span><span style=\"background:rgb(76,100,156)\"> из </span><span style=\"background:rgb(76,103,164)\"> них </span><span style=\"background:rgb(76,97,148)\"> ) </span><span style=\"background:rgb(76,95,140)\"> ; </span><br><span style=\"background:rgb(76,102,162)\"> \n",
              " </span> ...\"</div><br><b style=\"color:#009933\"> &lt;  RUB        20,000,000.00</b> <div style=\"border-bottom:1px solid #ccc; margin-top:1em\"></div><div style=\"margin-top:0.2em; margin-left:2em; font-size:14px\">\"...<span style=\"background:rgb(76,114,198)\"> принятие </span><span style=\"background:rgb(76,110,186)\"> решения </span><span style=\"background:rgb(76,107,178)\"> об </span><span style=\"background:rgb(76,110,187)\"> осуществлении </span><span style=\"background:rgb(76,112,193)\"> следующих </span><span style=\"background:rgb(76,112,191)\"> действий </span><span style=\"background:rgb(76,111,190)\"> и </span><span style=\"background:rgb(76,111,188)\"> решений </span><span style=\"background:rgb(76,104,169)\"> , </span><span style=\"background:rgb(76,101,160)\"> связанных </span><span style=\"background:rgb(76,103,165)\"> со </span><span style=\"background:rgb(76,108,179)\"> спорами </span><span style=\"background:rgb(76,101,159)\"> Общества </span><span style=\"background:rgb(76,96,143)\"> с </span><span style=\"background:rgb(76,91,129)\"> Органами </span><span style=\"background:rgb(76,91,130)\"> государственной </span><span style=\"background:rgb(76,102,161)\"> власти </span><span style=\"background:rgb(76,100,157)\"> , </span><span style=\"background:rgb(76,98,149)\"> на </span><span style=\"background:rgb(255,255,255)\"> суммы </span><span style=\"background:rgb(255,255,255)\"> , </span><span style=\"background:rgb(255,255,255)\"> не </span><span style=\"background:rgb(255,255,255)\"> превышающие </span><span style=\"background:rgb(255,255,255)\"> 20000000 </span><span style=\"background:rgb(255,255,255)\"> ( </span><span style=\"background:rgb(201,146,106)\"> Двадцать </span><span style=\"background:rgb(163,130,116)\"> миллионов </span><span style=\"background:rgb(137,122,131)\"> ) </span><span style=\"background:rgb(119,118,147)\"> рублей </span><span style=\"background:rgb(106,109,139)\"> : </span><span style=\"background:rgb(97,101,127)\"> ( </span><span style=\"background:rgb(91,100,134)\"> i </span><span style=\"background:rgb(86,109,167)\"> ) </span><span style=\"background:rgb(83,104,158)\"> предъявление </span><span style=\"background:rgb(81,100,147)\"> в </span><span style=\"background:rgb(80,109,177)\"> суд </span><span style=\"background:rgb(78,106,171)\"> исков </span><span style=\"background:rgb(78,104,165)\"> или </span><span style=\"background:rgb(77,106,171)\"> заявлений </span><span style=\"background:rgb(77,95,140)\"> ; </span><span style=\"background:rgb(77,93,134)\"> ( </span><span style=\"background:rgb(76,95,140)\"> ii </span><span style=\"background:rgb(76,102,160)\"> ) </span><span style=\"background:rgb(76,101,158)\"> изменение </span><span style=\"background:rgb(76,102,161)\"> исковых </span><span style=\"background:rgb(76,104,166)\"> требований </span><span style=\"background:rgb(76,92,132)\"> ; </span><span style=\"background:rgb(76,88,120)\"> ( </span><span style=\"background:rgb(76,91,129)\"> iii </span><span style=\"background:rgb(76,100,156)\"> ) </span><span style=\"background:rgb(76,101,158)\"> отказ </span><span style=\"background:rgb(76,106,172)\"> от </span><span style=\"background:rgb(76,105,171)\"> иска </span><span style=\"background:rgb(76,101,160)\"> или </span><span style=\"background:rgb(76,108,178)\"> признание </span><span style=\"background:rgb(76,105,169)\"> иска </span><span style=\"background:rgb(76,95,140)\"> ( </span><span style=\"background:rgb(76,90,125)\"> полное </span><span style=\"background:rgb(76,89,121)\"> или </span><span style=\"background:rgb(76,94,138)\"> частичное </span><span style=\"background:rgb(76,96,144)\"> ) </span><span style=\"background:rgb(76,93,136)\"> ; </span><br><span style=\"background:rgb(76,90,125)\"> \n",
              " </span> ...\"</div><br><b style=\"color:#993300\"> &gt;  USD        25,000,000.00</b> <div style=\"border-bottom:1px solid #ccc; margin-top:1em\"></div><div style=\"margin-top:0.2em; margin-left:2em; font-size:14px\">\"...<span style=\"background:rgb(76,114,197)\"> принятие </span><span style=\"background:rgb(76,110,186)\"> решения </span><span style=\"background:rgb(76,108,179)\"> об </span><span style=\"background:rgb(76,111,188)\"> осуществлении </span><span style=\"background:rgb(76,112,193)\"> следующих </span><span style=\"background:rgb(76,111,189)\"> действий </span><span style=\"background:rgb(76,111,187)\"> и </span><span style=\"background:rgb(76,110,185)\"> решений </span><span style=\"background:rgb(76,104,169)\"> , </span><span style=\"background:rgb(76,103,164)\"> связанных </span><span style=\"background:rgb(76,104,167)\"> со </span><span style=\"background:rgb(76,108,180)\"> спорами </span><span style=\"background:rgb(76,103,165)\"> Общества </span><span style=\"background:rgb(76,100,157)\"> с </span><span style=\"background:rgb(76,100,155)\"> лицами </span><span style=\"background:rgb(76,98,151)\"> , </span><span style=\"background:rgb(76,97,147)\"> которые </span><span style=\"background:rgb(76,95,142)\"> не </span><span style=\"background:rgb(76,99,154)\"> являются </span><span style=\"background:rgb(76,101,160)\"> аффилированными </span><span style=\"background:rgb(76,105,170)\"> лицами </span><span style=\"background:rgb(76,105,170)\"> Общества </span><span style=\"background:rgb(76,97,148)\"> , </span><span style=\"background:rgb(76,97,146)\"> на </span><span style=\"background:rgb(76,95,140)\"> суммы </span><span style=\"background:rgb(76,90,126)\"> , </span><span style=\"background:rgb(255,255,255)\"> не </span><span style=\"background:rgb(231,255,255)\"> превышающие </span><span style=\"background:rgb(185,241,255)\"> сумму </span><span style=\"background:rgb(152,125,117)\"> , </span><span style=\"background:rgb(129,114,117)\"> эквивалентную </span><span style=\"background:rgb(255,255,255)\"> 25000000 </span><span style=\"background:rgb(255,255,255)\"> ( </span><span style=\"background:rgb(201,144,102)\"> Двадцати </span><span style=\"background:rgb(255,255,255)\"> пяти </span><span style=\"background:rgb(224,161,115)\"> миллионам </span><span style=\"background:rgb(180,145,136)\"> ) </span><span style=\"background:rgb(149,133,145)\"> долларов </span><span style=\"background:rgb(127,118,134)\"> США </span><span style=\"background:rgb(112,107,122)\"> по </span><span style=\"background:rgb(101,104,132)\"> курсу </span><span style=\"background:rgb(93,104,142)\"> ЦБ </span><span style=\"background:rgb(88,100,136)\"> РФ </span><span style=\"background:rgb(85,98,138)\"> на </span><span style=\"background:rgb(82,109,175)\"> дату </span><span style=\"background:rgb(80,109,176)\"> совершения </span><span style=\"background:rgb(79,106,169)\"> такого </span><span style=\"background:rgb(78,103,162)\"> действия </span><span style=\"background:rgb(77,93,133)\"> : </span><span style=\"background:rgb(77,89,122)\"> ( </span><span style=\"background:rgb(77,93,132)\"> i </span><span style=\"background:rgb(76,104,166)\"> ) </span><span style=\"background:rgb(76,101,158)\"> предъявление </span><span style=\"background:rgb(76,97,147)\"> в </span><span style=\"background:rgb(76,107,178)\"> суд </span><span style=\"background:rgb(76,106,172)\"> исков </span><span style=\"background:rgb(76,104,168)\"> или </span><span style=\"background:rgb(76,106,173)\"> заявлений </span><span style=\"background:rgb(76,95,140)\"> ; </span><span style=\"background:rgb(76,93,135)\"> ( </span><span style=\"background:rgb(76,96,142)\"> ii </span><span style=\"background:rgb(76,102,161)\"> ) </span><span style=\"background:rgb(76,102,160)\"> изменение </span><span style=\"background:rgb(76,102,163)\"> исковых </span><span style=\"background:rgb(76,104,168)\"> требований </span><span style=\"background:rgb(76,93,134)\"> ; </span><span style=\"background:rgb(76,89,123)\"> ( </span><span style=\"background:rgb(76,92,132)\"> iii </span><span style=\"background:rgb(76,101,159)\"> ) </span><span style=\"background:rgb(76,102,160)\"> отказ </span><span style=\"background:rgb(76,106,175)\"> от </span><span style=\"background:rgb(76,106,173)\"> иска </span><span style=\"background:rgb(76,102,162)\"> или </span><span style=\"background:rgb(76,109,182)\"> признание </span><span style=\"background:rgb(76,106,172)\"> иска </span><span style=\"background:rgb(76,95,141)\"> ( </span><span style=\"background:rgb(76,90,125)\"> полное </span><span style=\"background:rgb(76,89,123)\"> или </span><span style=\"background:rgb(76,95,141)\"> частичное </span><span style=\"background:rgb(76,98,150)\"> ) </span><span style=\"background:rgb(76,95,140)\"> ; </span><span style=\"background:rgb(76,92,131)\"> ( </span><span style=\"background:rgb(76,94,139)\"> iv </span><span style=\"background:rgb(76,105,169)\"> ) </span><span style=\"background:rgb(76,105,171)\"> заключение </span><span style=\"background:rgb(76,107,177)\"> мирового </span><span style=\"background:rgb(76,107,177)\"> соглашения </span><span style=\"background:rgb(76,106,173)\"> или </span><span style=\"background:rgb(76,107,175)\"> соглашения </span><span style=\"background:rgb(76,94,137)\"> по </span><span style=\"background:rgb(76,93,136)\"> фактическим </span><span style=\"background:rgb(76,98,150)\"> обстоятельствам </span><span style=\"background:rgb(76,96,144)\"> ; </span><span style=\"background:rgb(76,93,134)\"> ( </span><span style=\"background:rgb(76,94,138)\"> v </span><span style=\"background:rgb(76,101,157)\"> ) </span><span style=\"background:rgb(76,107,176)\"> передача </span><span style=\"background:rgb(76,101,160)\"> спора </span><span style=\"background:rgb(76,102,161)\"> на </span><span style=\"background:rgb(76,103,165)\"> рассмотрение </span><span style=\"background:rgb(76,101,159)\"> третейского </span><span style=\"background:rgb(76,102,163)\"> суда </span><span style=\"background:rgb(76,94,138)\"> ; </span><span style=\"background:rgb(76,92,132)\"> ( </span><span style=\"background:rgb(76,95,140)\"> vi </span><span style=\"background:rgb(76,105,172)\"> ) </span><span style=\"background:rgb(76,115,202)\"> заключение </span><span style=\"background:rgb(76,110,186)\"> соглашений </span><span style=\"background:rgb(76,104,169)\"> об </span><span style=\"background:rgb(76,108,181)\"> изменении </span><span style=\"background:rgb(76,102,162)\"> подсудности </span><span style=\"background:rgb(76,94,138)\"> ; </span><br><span style=\"background:rgb(76,104,167)\"> \n",
              " </span> ...\"</div></div>"
            ],
            "text/plain": [
              "<IPython.core.display.HTML object>"
            ]
          },
          "metadata": {
            "tags": [
              "id2_content_1",
              "outputarea_id2",
              "user_output"
            ]
          }
        },
        {
          "output_type": "display_data",
          "data": {
            "text/html": [
              "<h3 style=\"margin:0\">Выявленное Содержание документа</h3><ul><li> УТВЕРЖДЕН. <sup>line 0</sup></li><li> У С Т А В. <sup>line 16</sup></li><li> Статья 1. Общие положения <sup>line 39</sup></li><li> Статья 2. Фирменное наименование и место нахождения Общества <sup>line 45</sup></li><li> Статья 3. Юридический статус Общества <sup>line 53</sup></li><li> Статья 4. Ответственность Общества <sup>line 69</sup></li><li> Статья 5. Филиалы и представительства, дочерние и зависимые общества <sup>line 75</sup></li><li> Статья 6. Цель создания и основные виды деятельности Общества <sup>line 84</sup></li><li> Статья 8. Облигации и иные эмиссионные ценные бумаги Общества <sup>line 116</sup></li><li> Статья 9. Права и обязанности акционеров Общества <sup>line 120</sup></li><li> Статья 10. Фонды Общества <sup>line 137</sup></li><li> Статья 11. Дивиденды Общества <sup>line 143</sup></li><li> Статья 12. Органы управления <sup>line 152</sup></li><li> Статья 13. Общее собрание акционеров Общества <sup>line 158</sup></li><li> Статья 14. Компетенция Общего собрания акционеров Общества <sup>line 169</sup></li><li> Статья 15. Решения Общего собрания акционеров Общества <sup>line 199</sup></li><li> Статья 16. Предложения в повестку дня, информация о проведении Общего собрания акционеров Общества <sup>line 206</sup></li><li> Статья 17. Участие и голосование на Общем собрании акционеров, протокол Общего собрания акционеров Общества <sup>line 223</sup></li><li> Статья 18. Совет директоров Общества <sup>line 234</sup></li><li> Статья 19. Компетенция Совета директоров Общества <sup>line 243</sup></li><li> Статья 20. Председатель Совета директоров, Секретарь заседания Совета директоров и Секретарь Совета директоров Общества <sup>line 324</sup></li><li> Статья 21. Заседания Совета директоров Общества <sup>line 348</sup></li><li> Статья 22. Генеральный директор Общества <sup>line 364</sup></li><li> Статья 23. Порядок отчуждения акций Общества. Ограничения в отношении сделок с акциями Общества. <sup>line 408</sup></li><li> Статья 24. Ревизионная комиссия Общества <sup>line 426</sup></li><li> Статья 25. Действие Устава Общества <sup>line 453</sup></li><li> 11 <sup>line 463</sup></li></ul>"
            ],
            "text/plain": [
              "<IPython.core.display.HTML object>"
            ]
          },
          "metadata": {
            "tags": [
              "id2_content_1",
              "outputarea_id2",
              "user_output"
            ]
          }
        },
        {
          "output_type": "stream",
          "text": [
            "\u001b[1;32mУстав: сделано✓\n"
          ],
          "name": "stdout"
        },
        {
          "output_type": "display_data",
          "data": {
            "application/javascript": [
              " \n",
              "    var x = document.getElementById(\"button-d13ba381-8b00-4b14-b683-4ee314aabf29\");\n",
              "    if (x.style.display === \"none\")\n",
              "      x.style.display = \"block\";\n",
              "    else\n",
              "      x.style.display = \"none\";\n",
              "    "
            ],
            "text/plain": [
              "<IPython.core.display.Javascript object>"
            ]
          },
          "metadata": {
            "tags": [
              "id2_content_1",
              "outputarea_id2",
              "user_output"
            ]
          }
        },
        {
          "output_type": "display_data",
          "data": {
            "application/javascript": [
              "window[\"b6994d0a-64e5-11e9-9412-0242ac1c0002\"] = google.colab.output.setActiveOutputArea(window[\"8ccbc890-64e5-11e9-9412-0242ac1c0002\"]);\n",
              "//# sourceURL=js_7267c0109e"
            ],
            "text/plain": [
              "<IPython.core.display.Javascript object>"
            ]
          },
          "metadata": {
            "tags": [
              "id2_content_1",
              "outputarea_id2"
            ]
          }
        },
        {
          "output_type": "display_data",
          "data": {
            "application/javascript": [
              "window[\"b69a4e30-64e5-11e9-9412-0242ac1c0002\"] = google.colab.output.getActiveOutputArea();\n",
              "//# sourceURL=js_69318c760a"
            ],
            "text/plain": [
              "<IPython.core.display.Javascript object>"
            ]
          },
          "metadata": {
            "tags": [
              "id2_content_2",
              "outputarea_id2"
            ]
          }
        },
        {
          "output_type": "display_data",
          "data": {
            "application/javascript": [
              "window[\"b69a7f7c-64e5-11e9-9412-0242ac1c0002\"] = document.querySelector(\"#id2_content_2\");\n",
              "//# sourceURL=js_fe3da87fc0"
            ],
            "text/plain": [
              "<IPython.core.display.Javascript object>"
            ]
          },
          "metadata": {
            "tags": [
              "id2_content_2",
              "outputarea_id2"
            ]
          }
        },
        {
          "output_type": "display_data",
          "data": {
            "application/javascript": [
              "window[\"b69aa97a-64e5-11e9-9412-0242ac1c0002\"] = google.colab.output.setActiveOutputArea(window[\"b69a7f7c-64e5-11e9-9412-0242ac1c0002\"]);\n",
              "//# sourceURL=js_7cbcf03a54"
            ],
            "text/plain": [
              "<IPython.core.display.Javascript object>"
            ]
          },
          "metadata": {
            "tags": [
              "id2_content_2",
              "outputarea_id2"
            ]
          }
        },
        {
          "output_type": "display_data",
          "data": {
            "application/javascript": [
              "window[\"b69ad314-64e5-11e9-9412-0242ac1c0002\"] = window[\"id2\"].setSelectedTabIndex(2);\n",
              "//# sourceURL=js_a8663c8807"
            ],
            "text/plain": [
              "<IPython.core.display.Javascript object>"
            ]
          },
          "metadata": {
            "tags": [
              "id2_content_2",
              "outputarea_id2"
            ]
          }
        },
        {
          "output_type": "display_data",
          "data": {
            "text/html": [
              "<button style=\"padding:5px; font-size:16px; margin:15px\"  id=\"button-ec8706b8-228c-4f78-bfdd-033131855ce4\">Договор...</button>\n",
              "        <script>\n",
              "          document.querySelector(\"#button-ec8706b8-228c-4f78-bfdd-033131855ce4\").onclick = (e) => {\n",
              "            google.colab.kernel.invokeFunction(\"button-ec8706b8-228c-4f78-bfdd-033131855ce4\", [], {})\n",
              "            e.preventDefault();\n",
              "          };\n",
              "        </script>"
            ],
            "text/plain": [
              "<IPython.core.display.HTML object>"
            ]
          },
          "metadata": {
            "tags": [
              "id2_content_2",
              "outputarea_id2",
              "user_output"
            ]
          }
        },
        {
          "output_type": "display_data",
          "data": {
            "application/javascript": [
              "window[\"b69b7cc4-64e5-11e9-9412-0242ac1c0002\"] = google.colab.output.setActiveOutputArea(window[\"b69a4e30-64e5-11e9-9412-0242ac1c0002\"]);\n",
              "//# sourceURL=js_c110aa0546"
            ],
            "text/plain": [
              "<IPython.core.display.Javascript object>"
            ]
          },
          "metadata": {
            "tags": [
              "id2_content_2",
              "outputarea_id2"
            ]
          }
        }
      ]
    },
    {
      "metadata": {
        "id": "oC_jj3OrOFOy",
        "colab_type": "code",
        "colab": {}
      },
      "cell_type": "code",
      "source": [
        ""
      ],
      "execution_count": 0,
      "outputs": []
    }
  ]
}