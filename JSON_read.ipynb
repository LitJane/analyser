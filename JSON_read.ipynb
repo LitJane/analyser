{
  "nbformat": 4,
  "nbformat_minor": 0,
  "metadata": {
    "colab": {
      "name": "JSON read.ipynb",
      "version": "0.3.2",
      "provenance": [],
      "collapsed_sections": [],
      "toc_visible": true,
      "include_colab_link": true
    },
    "kernelspec": {
      "name": "python3",
      "display_name": "Python 3"
    }
  },
  "cells": [
    {
      "cell_type": "markdown",
      "metadata": {
        "id": "view-in-github",
        "colab_type": "text"
      },
      "source": [
        "<a href=\"https://colab.research.google.com/github/compartia/nlp_tools/blob/tokenization-improve/JSON_read.ipynb\" target=\"_parent\"><img src=\"https://colab.research.google.com/assets/colab-badge.svg\" alt=\"Open In Colab\"/></a>"
      ]
    },
    {
      "cell_type": "markdown",
      "metadata": {
        "id": "p6qHuCtkv-0X",
        "colab_type": "text"
      },
      "source": [
        "# 0. Инит всега\n",
        "- юзер, запусти эту ячейку только один раз"
      ]
    },
    {
      "cell_type": "code",
      "metadata": {
        "id": "79EqyE4nmqwL",
        "colab_type": "code",
        "colab": {}
      },
      "source": [
        "#@title  { form-width: \"300px\", display-mode: \"form\" }\n",
        "\n",
        "import json\n",
        "import subprocess\n",
        "import sys\n",
        "import time\n",
        "\n",
        "import numpy as np\n",
        "from IPython.core.display import display, HTML\n",
        "from google.colab import files\n",
        "\n",
        "Ничто = None\n",
        "_git_branch = 'tokenization-improve'\n",
        "\n",
        "\n",
        "def exec(x):\n",
        "  r = subprocess.check_output(x, shell=True)\n",
        "  r = r.decode('unicode-escape').encode('latin1').decode('utf8')\n",
        "  print(r)\n",
        "\n",
        "\n",
        "print(f\"fetching code from GitHub.....{_git_branch}\")\n",
        "try:\n",
        "  exec('rm -r nlp_tools')\n",
        "except:\n",
        "  pass\n",
        "exec(f'git clone --single-branch --branch {_git_branch} https://github.com/compartia/nlp_tools.git nlp_tools')\n",
        "\n",
        "print('🦊 GIT revision:')\n",
        "exec('cd nlp_tools\\ngit rev-list --reverse HEAD | awk \"{ print NR }\" | tail -n 1\\ngit branch\\ngit log -3 --pretty=%B')\n",
        "\n",
        "sys.path.insert(0, 'nlp_tools')\n",
        "\n",
        "print('❤️importing Code from GitHub ... DONE')\n",
        "\n",
        "\n",
        "\n",
        "def interactive_upload():\n",
        "  print(f'Please select .json file:')\n",
        "  uploaded = files.upload()\n",
        "\n",
        "  fn = list(uploaded.keys())[0]\n",
        "  with open(fn, \"wb\") as _back:\n",
        "    _back.write(uploaded[fn])\n",
        "    _back.close()\n",
        "\n",
        "  with open(fn) as json_file:\n",
        "    data = json.load(json_file)\n",
        "\n",
        "  return data\n",
        "\n",
        "\n",
        "\n",
        "#----\n",
        "import matplotlib as mpl\n",
        "from documents import TextMap\n",
        "from renderer import HtmlRenderer\n",
        "\n",
        "\n",
        "class ContractDocumentJson:\n",
        "\n",
        "  def from_json(jsondata):\n",
        "    c = ContractDocumentJson()\n",
        "    c.__dict__ = jsondata\n",
        "    return c\n",
        "\n",
        "  def __init__(self):\n",
        "    self.ID = Ничто\n",
        "    self.filename = Ничто\n",
        "    self.original_text = Ничто\n",
        "    self.normal_text = Ничто\n",
        "\n",
        "    self.import_timestamp = time.time()\n",
        "    self.analyze_timestamp = time.time()\n",
        "    self.tokenization_maps = {}\n",
        "    self.tags = []\n",
        "\n",
        " \n",
        "\n",
        "class DemoRenderer(HtmlRenderer):\n",
        "\n",
        "  def render_color_text(self, tokens, weights, colormap='coolwarm', print_debug=False, _range=None):\n",
        "    html = self.to_color_text(tokens, weights, colormap, print_debug, _range)\n",
        "    display(HTML(html))\n",
        "\n",
        "  def to_color_text(self, tokens, weights, colormap='coolwarm', print_debug=False, _range=None):\n",
        "    return super()._to_color_text(tokens, weights, mpl, colormap=colormap, _range=_range)\n",
        "\n",
        "   \n",
        "renderer_ = DemoRenderer()\n",
        "\n",
        "\n",
        "def print_json_summary(cd):\n",
        "  wordsmap = TextMap(cd.normal_text, cd.tokenization_maps['$words'])\n",
        "  print(f'read file {cd.filename}')\n",
        "\n",
        "  for tag in cd.tags:\n",
        "    span = tag['span']\n",
        "    _map = cd.tokenization_maps[tag['span_map']]\n",
        "    print(tag)\n",
        " \n",
        "\n",
        " \n",
        " \n",
        "def json2html(cd):\n",
        "  wordsmap = TextMap(cd.normal_text, cd.tokenization_maps['$words'])\n",
        "  markup_vector = np.zeros(len(wordsmap))\n",
        " \n",
        "  for tag in cd.tags:\n",
        "    span = tag['span']\n",
        "    markup_vector[span[0]:span[1]] += 1\n",
        "\n",
        "  return renderer_.to_color_text(wordsmap.tokens, markup_vector, _range=(0, 1))\n",
        "  "
      ],
      "execution_count": 0,
      "outputs": []
    },
    {
      "cell_type": "markdown",
      "metadata": {
        "id": "5PE1JTb-wo2M",
        "colab_type": "text"
      },
      "source": [
        "# 1. Upload Contract JSON\n",
        "- пре-запускать для каждого файла"
      ]
    },
    {
      "cell_type": "code",
      "metadata": {
        "id": "j3Bq_wAetk-J",
        "colab_type": "code",
        "colab": {}
      },
      "source": [
        "from google.colab import files\n",
        "data = interactive_upload()"
      ],
      "execution_count": 0,
      "outputs": []
    },
    {
      "cell_type": "markdown",
      "metadata": {
        "id": "eHU3XgObxJjp",
        "colab_type": "text"
      },
      "source": [
        "# 2. Render tags"
      ]
    },
    {
      "cell_type": "code",
      "metadata": {
        "id": "OPKQa4ClvgiE",
        "colab_type": "code",
        "colab": {}
      },
      "source": [
        "json_obj = ContractDocumentJson.from_json(data)\n",
        "print_json_summary(json_obj)"
      ],
      "execution_count": 0,
      "outputs": []
    },
    {
      "cell_type": "code",
      "metadata": {
        "id": "e1uYYnL9o01r",
        "colab_type": "code",
        "colab": {}
      },
      "source": [
        "html = json2html(json_obj)\n",
        "display(HTML(html))"
      ],
      "execution_count": 0,
      "outputs": []
    }
  ]
}