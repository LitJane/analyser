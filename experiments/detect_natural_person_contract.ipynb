{
 "cells": [
  {
   "cell_type": "markdown",
   "id": "84416aa0",
   "metadata": {
    "colab_type": "text",
    "id": "JbsxFAqC6pjQ",
    "papermill": {
     "duration": 0.02715,
     "end_time": "2021-08-03T13:00:10.959150",
     "exception": false,
     "start_time": "2021-08-03T13:00:10.932000",
     "status": "completed"
    },
    "tags": []
   },
   "source": [
    "# Imports"
   ]
  },
  {
   "cell_type": "code",
   "execution_count": null,
   "id": "a63d3c58-2d3a-4f27-a017-c9acd65e4806",
   "metadata": {
    "papermill": {
     "duration": 0.021947,
     "end_time": "2021-08-03T13:00:10.998129",
     "exception": false,
     "start_time": "2021-08-03T13:00:10.976182",
     "status": "completed"
    },
    "tags": []
   },
   "outputs": [],
   "source": []
  },
  {
   "cell_type": "code",
   "execution_count": null,
   "id": "28d79173",
   "metadata": {
    "colab": {},
    "colab_type": "code",
    "id": "JoHJkn9yQIgg",
    "papermill": {
     "duration": 1.861673,
     "end_time": "2021-08-03T13:00:12.870686",
     "exception": false,
     "start_time": "2021-08-03T13:00:11.009013",
     "status": "completed"
    },
    "tags": []
   },
   "outputs": [],
   "source": [
    "import logging\n",
    "import platform\n",
    "import sys\n",
    "import os\n",
    "import seaborn as sns\n",
    "import matplotlib.pyplot as plt\n",
    "from IPython.display import display, Markdown\n",
    "from datetime import datetime\n",
    "# import tensorflow as tf\n",
    "\n",
    "logger = logging.getLogger('_ipynb')\n",
    "logger.setLevel(logging.DEBUG)\n",
    "\n",
    "\n",
    "ch = logging.StreamHandler()\n",
    "ch.setLevel(logging.DEBUG)\n",
    "formatter = logging.Formatter('%(levelname)s - %(asctime)s - %(name)s - %(message)s')\n",
    "ch.setFormatter(formatter)\n",
    "logger.addHandler(ch)\n",
    "logger.debug('--=logging started=--')\n",
    "\n",
    "# print(tf.__version__)\n",
    "CPU = platform.processor()\n",
    "print (f'Running on CPU:{CPU}')\n",
    "\n",
    "\n",
    "nb_dir = os.path.split(os.getcwd())[0]\n",
    "\n",
    "if nb_dir not in sys.path:\n",
    "    sys.path.append(nb_dir)\n",
    "\n",
    "import analyser.hyperparams \n",
    "print(analyser.hyperparams.__file__)"
   ]
  },
  {
   "cell_type": "markdown",
   "id": "ae495501",
   "metadata": {
    "papermill": {
     "duration": 0.007981,
     "end_time": "2021-08-03T13:00:12.911919",
     "exception": false,
     "start_time": "2021-08-03T13:00:12.903938",
     "status": "completed"
    },
    "tags": []
   },
   "source": [
    "### Prepare workdir"
   ]
  },
  {
   "cell_type": "code",
   "execution_count": null,
   "id": "c1029623",
   "metadata": {
    "colab": {},
    "colab_type": "code",
    "id": "jT7451NXspdw",
    "papermill": {
     "duration": 0.011883,
     "end_time": "2021-08-03T13:00:12.931780",
     "exception": false,
     "start_time": "2021-08-03T13:00:12.919897",
     "status": "completed"
    },
    "tags": []
   },
   "outputs": [],
   "source": [
    "# from pathlib import Path\n",
    "# _work_dir_default = Path(analyser.hyperparams.__file__).parent.parent.parent / 'work'\n",
    "# work_dir = os.environ.get('GPN_WORK_DIR', _work_dir_default)\n",
    "\n",
    "# if not os.path.isdir(work_dir):\n",
    "#     os.mkdir(work_dir)\n",
    "\n",
    "from analyser.hyperparams import work_dir  \n",
    " \n",
    "print('work_dir=', work_dir)\n",
    "assert os.path.isdir(work_dir)"
   ]
  },
  {
   "cell_type": "markdown",
   "id": "8c55a33b",
   "metadata": {
    "papermill": {
     "duration": 0.008023,
     "end_time": "2021-08-03T13:00:12.947888",
     "exception": false,
     "start_time": "2021-08-03T13:00:12.939865",
     "status": "completed"
    },
    "tags": []
   },
   "source": [
    "### Imports..."
   ]
  },
  {
   "cell_type": "code",
   "execution_count": null,
   "id": "34cde660",
   "metadata": {
    "colab": {
     "base_uri": "https://localhost:8080/",
     "height": 87
    },
    "colab_type": "code",
    "id": "pexvDJbAtZM0",
    "outputId": "4f7e6e34-d675-423d-d102-1020d49d854f",
    "papermill": {
     "duration": 1.475714,
     "end_time": "2021-08-03T13:00:14.431563",
     "exception": false,
     "start_time": "2021-08-03T13:00:12.955849",
     "status": "completed"
    },
    "tags": []
   },
   "outputs": [],
   "source": [
    "%matplotlib inline\n",
    "\n",
    "import pandas as pd\n",
    "from pandas import DataFrame\n",
    "\n",
    "from analyser.finalizer import get_doc_by_id\n",
    "from analyser.persistence import DbJsonDoc\n",
    "from integration.db import get_mongodb_connection\n",
    "from pymongo import ASCENDING"
   ]
  },
  {
   "cell_type": "markdown",
   "id": "c80bc438-04c3-4b77-9718-233d3da546e0",
   "metadata": {},
   "source": [
    "### Import docs having orgs"
   ]
  },
  {
   "cell_type": "code",
   "execution_count": null,
   "id": "26545c63-b9e7-4d0c-9f87-24f165faec89",
   "metadata": {},
   "outputs": [],
   "source": [
    "import re \n",
    "\n",
    "db = get_mongodb_connection()\n",
    "documents_collection = db['documents']\n",
    "sorting = [('analysis.analyze_timestamp', ASCENDING), ('user.updateDate', ASCENDING)]\n",
    "\n",
    "query = {\n",
    "  '$and': [\n",
    "#     {\"parse.documentType\": \"CONTRACT\"},      \n",
    "#     {\"state\": 15},\n",
    "#     {\"analysis.attributes_tree.contract.orgs.1.type\": {\"$type\": 10}},\n",
    "      \n",
    "    {'$or': [\n",
    "        {\"user.attributes_tree.contract.orgs\": {\"$ne\": None}},\n",
    "        {\"analysis.attributes_tree.contract.orgs\": {\"$ne\": None}}\n",
    "    ]}\n",
    "  ]\n",
    "}\n",
    "\n",
    "query = {\n",
    "    '$and': [\n",
    "       {'$or': [\n",
    "        {\"user.attributes_tree.contract.orgs\": {\"$ne\": None}},\n",
    "        {\"analysis.attributes_tree.contract.orgs\": {\"$ne\": None}}\n",
    "        ]},\n",
    "        \n",
    "        {'parse.paragraphs.0.paragraphHeader.text':{ \"$regex\":  re.compile(r'физическим лицом' , re.IGNORECASE)} }\n",
    "    ]\n",
    "}\n",
    "\n",
    "res = documents_collection.find(filter=query, \n",
    "                                sort=sorting,\n",
    "                                projection={'_id': True, \n",
    "                                            'user.updateDate':True, \n",
    "                                            \"analysis.attributes_tree.contract.orgs\":True,  \n",
    "                                            \"user.attributes_tree.contract.orgs\":True,\n",
    "                                           'parse.paragraphs.paragraphHeader.text':True}\n",
    "\n",
    "                               ).limit(2000)\n",
    "\n",
    "\n",
    "\n",
    "res_orgs = list([i for i in res])\n",
    "\n",
    "_s = f\"#### Всего документов с org  {len(res_orgs)}\"\n",
    "display(Markdown(_s))\n",
    "\n",
    "# print(res_inside)"
   ]
  },
  {
   "cell_type": "code",
   "execution_count": null,
   "id": "464b8ed9-344e-41b6-afd8-20948f8ceac5",
   "metadata": {},
   "outputs": [],
   "source": [
    "# d['parse']['paragraphs'][0]['paragraphHeader']['text']"
   ]
  },
  {
   "cell_type": "code",
   "execution_count": null,
   "id": "15b4ed6d-4301-4862-913f-1a32beb9e859",
   "metadata": {},
   "outputs": [],
   "source": [
    "res_orgs[0]"
   ]
  },
  {
   "cell_type": "markdown",
   "id": "590b7158-d5fd-42d4-abd2-d63df84e592a",
   "metadata": {},
   "source": [
    "### Pull orgs from DB"
   ]
  },
  {
   "cell_type": "code",
   "execution_count": null,
   "id": "53177099-abca-4b64-921c-32e90a9a8a24",
   "metadata": {
    "tags": []
   },
   "outputs": [],
   "source": [
    "lines=[]\n",
    "for k, obj in enumerate(res_orgs):\n",
    "#     d = get_doc_by_id(oid)\n",
    "#     jd = DbJsonDoc(d)\n",
    "    tree = obj.get('user') or obj['analysis'] # jd.get_attributes_tree()\n",
    "    tree = tree['attributes_tree'].get('contract',{})\n",
    "#     print(tree)\n",
    "    orgs = tree.get('orgs', [])\n",
    "    \n",
    "    \n",
    "    line = [None]*6\n",
    "    line[0] = oid\n",
    "    line[-1] = obj['parse']['paragraphs'][0]['paragraphHeader']['text']\n",
    "    \n",
    "    for oi, o in enumerate(orgs):\n",
    "#         print (o['type']['value'])\n",
    "        line[ 1 + oi] = o.get('type', {}).get('value')\n",
    "        line[ 3 + oi] = o.get('name', {}).get('value')\n",
    "#     s = ins['span']\n",
    "#     quote = doc[s[0]: s[1]].get_normal_text()\n",
    "#     print(line)\n",
    "    lines.append( line )\n",
    "    \n",
    "orgs = DataFrame(lines, columns=['uid', 'type_1','type_2', 'name_1', 'name_2', 'headline'])\n",
    "orgs"
   ]
  },
  {
   "cell_type": "code",
   "execution_count": null,
   "id": "855c27ef-92f7-4138-8f24-eda428c3950a",
   "metadata": {},
   "outputs": [],
   "source": [
    "# orgs.__dict__\n",
    "orgs[orgs.type_2.isna() | orgs.type_1.isna() ]"
   ]
  },
  {
   "cell_type": "code",
   "execution_count": null,
   "id": "17d8cac4-5c20-44b6-ada0-4dbf2ac1516b",
   "metadata": {},
   "outputs": [],
   "source": [
    "from analyser.text_normalize import r_human_name\n",
    "r_human_name"
   ]
  },
  {
   "cell_type": "code",
   "execution_count": null,
   "id": "a28ceb2b-c339-403b-bf9a-34321b543340",
   "metadata": {},
   "outputs": [],
   "source": [
    "r = re.compile(r'\\W' + r_human_name, re.MULTILINE)\n",
    "\n",
    "x = r.search('что-то Мироздания С.К., который был')\n",
    "x['human_name']"
   ]
  },
  {
   "cell_type": "code",
   "execution_count": null,
   "id": "71520334-9464-4f11-8eb1-19c3588bf204",
   "metadata": {},
   "outputs": [],
   "source": [
    "r = re.compile(r'\\W' + r_human_name, re.MULTILINE)\n",
    "for i, row in orgs.iterrows():\n",
    "    x = r.search(str(row.name_2))\n",
    "    if x is not None:\n",
    "        print(x)"
   ]
  },
  {
   "cell_type": "code",
   "execution_count": null,
   "id": "27f156fb-46ad-4654-bfae-a7c35269f472",
   "metadata": {},
   "outputs": [],
   "source": []
  }
 ],
 "metadata": {
  "colab": {
   "collapsed_sections": [
    "9eF-UGHyh-C9",
    "7X_zYCYEdlPM",
    "lyI4hbTRFjyM"
   ],
   "name": "Local: structure keras uber model - clean train, evaluate, test.ipynb",
   "provenance": [],
   "toc_visible": true
  },
  "kernelspec": {
   "display_name": "Python 3 (ipykernel)",
   "language": "python",
   "name": "python3"
  },
  "language_info": {
   "codemirror_mode": {
    "name": "ipython",
    "version": 3
   },
   "file_extension": ".py",
   "mimetype": "text/x-python",
   "name": "python",
   "nbconvert_exporter": "python",
   "pygments_lexer": "ipython3",
   "version": "3.9.6"
  },
  "papermill": {
   "default_parameters": {},
   "duration": 10.184245,
   "end_time": "2021-08-03T13:00:20.283835",
   "environment_variables": {},
   "exception": null,
   "input_path": "trainsets/export_trainset.ipynb",
   "output_path": "trainsets/export_trainset.ipynb",
   "parameters": {},
   "start_time": "2021-08-03T13:00:10.099590",
   "version": "2.3.3"
  }
 },
 "nbformat": 4,
 "nbformat_minor": 5
}
