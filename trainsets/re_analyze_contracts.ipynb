{
 "cells": [
  {
   "cell_type": "code",
   "execution_count": 1,
   "id": "a22f50b4",
   "metadata": {},
   "outputs": [
    {
     "name": "stderr",
     "output_type": "stream",
     "text": [
      "2023-02-07 17:27:12.413658: I tensorflow/stream_executor/platform/default/dso_loader.cc:53] Successfully opened dynamic library libcudart.so.11.0\n",
      "DEBUG - 2023-02-07 17:27:12,995 - retrain_ipynb - --=logging started=--\n"
     ]
    }
   ],
   "source": [
    "import logging\n",
    "import platform\n",
    "import sys\n",
    "import os\n",
    "import seaborn as sns\n",
    "import matplotlib.pyplot as plt\n",
    "from IPython.display import display, Markdown\n",
    "from datetime import datetime\n",
    "import tensorflow as tf\n",
    "\n",
    "logger = logging.getLogger('retrain_ipynb')\n",
    "logger.setLevel(logging.DEBUG)\n",
    "\n",
    "\n",
    "ch = logging.StreamHandler()\n",
    "ch.setLevel(logging.DEBUG)\n",
    "formatter = logging.Formatter('%(levelname)s - %(asctime)s - %(name)s - %(message)s')\n",
    "ch.setFormatter(formatter)\n",
    "logger.addHandler(ch)\n",
    "logger.debug('--=logging started=--')\n",
    " "
   ]
  },
  {
   "cell_type": "code",
   "execution_count": 2,
   "id": "9a53a552",
   "metadata": {},
   "outputs": [
    {
     "name": "stdout",
     "output_type": "stream",
     "text": [
      "Nemoware Analyser v23.2.7\n",
      "USING WORKDIR: [/root/artem/work]\n",
      " set ENV GPN_WORK_DIR to override\n",
      "datasets_dir: [/root/artem/work/datasets]\n",
      "reports_dir: [/root/artem/work/reports]\n"
     ]
    },
    {
     "name": "stderr",
     "output_type": "stream",
     "text": [
      "/root/artem/analyser/analyser/hyperparams.py:15: UserWarning: please set GPN_WORK_DIR environment variable\n",
      "  warnings.warn('please set GPN_WORK_DIR environment variable')\n"
     ]
    }
   ],
   "source": [
    "\n",
    "nb_dir = os.path.split(os.getcwd())[0]\n",
    "if nb_dir not in sys.path:\n",
    "    sys.path.append(nb_dir)\n",
    "    \n",
    "import analyser.hyperparams "
   ]
  },
  {
   "cell_type": "code",
   "execution_count": 3,
   "id": "e6232fe5",
   "metadata": {
    "jupyter": {
     "source_hidden": true
    },
    "tags": []
   },
   "outputs": [],
   "source": [
    "ids_all='''\n",
    "\n",
    "\n",
    "63ac1fab862ea92bf713c51e\n",
    "63ac1faa862ea92bf713c50d\n",
    "63ac1fa9862ea92bf713c509\n",
    "63ac1faa862ea92bf713c515 \n",
    "63ac1faa862ea92bf713c51d\n",
    "63ac1fac862ea92bf713c534\n",
    "63ac1fa9862ea92bf713c50a\n",
    "63ac1fac862ea92bf713c536\n",
    "63ac1fab862ea92bf713c522\n",
    "63ac1fad862ea92bf713c53f\n",
    "\n",
    "6391a7481864c6df4d29f30b\n",
    "63a43056beaa9eeec65ecafb\n",
    "63a430a6beaa9eeec65ecb0b \n",
    "63a43092beaa9eeec65ecb09\n",
    "63a4306dbeaa9eeec65ecafe\n",
    "63a430dbbeaa9eeec65ecb12 \n",
    "63a430e6beaa9eeec65ecb18\n",
    "63a430b4beaa9eeec65ecb0d \n",
    "\n",
    "\n",
    "63c506ede2456d59975e15bf\n",
    "63c506ede2456d59975e15c6\n",
    "63c506bde2456d59975e110a\n",
    "63c506cbe2456d59975e12ae\n",
    "63c506bde2456d59975e1107\n",
    "63c506cbe2456d59975e12aa\n",
    "63c506cbe2456d59975e12a6\n",
    "63c506bce2456d59975e10f9  \n",
    "63c506cbe2456d59975e12a6\n",
    "63c506bce2456d59975e10f9 \n",
    "63c506cae2456d59975e129a \n",
    "63c506bce2456d59975e10ef\n",
    "63c506b4e2456d59975e103d\n",
    "63c506ace2456d59975e0f9b\n",
    "63c506c9e2456d59975e127d\n",
    "63c506bce2456d59975e10ef\n",
    "63c506ace2456d59975e0f9b\n",
    "63c506c9e2456d59975e127d\n",
    "63c506c8e2456d59975e123e\n",
    "63c506c9e2456d59975e1276\n",
    "63c506bbe2456d59975e10d9\n",
    "63c506afe2456d59975e0fca\n",
    "63c506bbe2456d59975e10dd  \n",
    "63c506c9e2456d59975e1276\n",
    "63c506bbe2456d59975e10d9\n",
    "63c506bae2456d59975e10c1  \n",
    "\n",
    "\n",
    "63c506e5e2456d59975e1570  \n",
    "63c506b0e2456d59975e0fea   \n",
    "63c506c7e2456d59975e1232  \n",
    "63c506c1e2456d59975e1187  \n",
    "63c506c0e2456d59975e116a  \n",
    "63c506c1e2456d59975e118c  \n",
    "63c506dbe2456d59975e143d  \n",
    "63c506c0e2456d59975e1170  \n",
    "63c506c5e2456d59975e1201  \n",
    "63c506bee2456d59975e1139  \n",
    "63c506b9e2456d59975e10ae  \n",
    "63c506e4e2456d59975e1550  \n",
    "63c506e4e2456d59975e1550  \n",
    "63c506c6e2456d59975e121e  \n",
    "63c506dbe2456d59975e143c  \n",
    "63c506ece2456d59975e15b6  \n",
    "63c506c9e2456d59975e1266  \n",
    "63c506e5e2456d59975e155d  \n",
    "63c506dfe2456d59975e14ac  \n",
    "63c506b4e2456d59975e1041   \n",
    "63c506b0e2456d59975e0fe6  \n",
    "63c506b5e2456d59975e1042  \n",
    "63c506ebe2456d59975e1596  \n",
    "63c506dce2456d59975e1456  \n",
    "63c506c0e2456d59975e116d   \n",
    "63c506d6e2456d59975e13a2   \n",
    "63c506ebe2456d59975e15a2  \n",
    "63c506d1e2456d59975e1337  \n",
    "63c506d2e2456d59975e1346  \n",
    "63c506c7e2456d59975e1231   \n",
    "63c506c6e2456d59975e1222  \n",
    "63c506cae2456d59975e1284   \n",
    "63c506b7e2456d59975e107e  \n",
    "63c506aae2456d59975e0f82  \n",
    "63c506aee2456d59975e0fc8   \n",
    "63c506b1e2456d59975e0fed  \n",
    "63c506c5e2456d59975e11fe  \n",
    "63c506c0e2456d59975e1185  \n",
    "63c506d8e2456d59975e13f2   \n",
    "\n",
    "\n",
    "63c506d4e2456d59975e1386 \n",
    "63c506d9e2456d59975e13ff \n",
    "63c506bbe2456d59975e10e2 \n",
    "63c506dee2456d59975e148b \n",
    "63c506e0e2456d59975e14e2 \n",
    "63c506e1e2456d59975e14e4 \n",
    "63c506b3e2456d59975e102b \n",
    "63c506e5e2456d59975e156b \n",
    "63c506c4e2456d59975e11e3 \n",
    "63c506c2e2456d59975e11a8 \n",
    "63c506c9e2456d59975e127f \n",
    "63c506cfe2456d59975e12fa \n",
    "63c506e3e2456d59975e1519 \n",
    "63c506c0e2456d59975e1182 \n",
    "63c506d0e2456d59975e1319 \n",
    "63c506d1e2456d59975e1341 \n",
    "63c506c8e2456d59975e1259 \n",
    "63c506c1e2456d59975e1194 \n",
    "63c506dde2456d59975e146a \n",
    "63c506cde2456d59975e12e6 \n",
    "63c506cfe2456d59975e1301 \n",
    "63c506abe2456d59975e0f95 \n",
    "63c506b8e2456d59975e108b \n",
    "63c506dde2456d59975e1469 \n",
    "63c506bbe2456d59975e10d7 \n",
    "63c506dde2456d59975e1469 \n",
    "\n",
    "\n",
    "63c506ebe2456d59975e1599\n",
    "63c506b9e2456d59975e10aa\n",
    "63c506bde2456d59975e1118\n",
    "63c506b9e2456d59975e10b5\n",
    "63c506cce2456d59975e12c3\n",
    "63c506b0e2456d59975e0fe7\n",
    "63c506bde2456d59975e111f\n",
    "63c506bde2456d59975e1120\n",
    "63c506ace2456d59975e0f9e\n",
    "63c506bde2456d59975e1122\n",
    "63c506b5e2456d59975e1059\n",
    "63c506bde2456d59975e1123\n",
    "63c506bee2456d59975e112a\n",
    "63c506abe2456d59975e0f8f\n",
    "63c506b6e2456d59975e105d\n",
    "63c506bfe2456d59975e1144\n",
    "63c506bfe2456d59975e1147\n",
    "63c506bfe2456d59975e114c\n",
    "63c506b6e2456d59975e1070\n",
    "63c506abe2456d59975e0f92\n",
    "63c506b1e2456d59975e1005\n",
    "63c506b7e2456d59975e107a\n",
    "63c506b7e2456d59975e107b\n",
    "63c506c0e2456d59975e117b\n",
    "63c506c1e2456d59975e1186\n",
    "63c506b2e2456d59975e1007\n",
    "63c506c1e2456d59975e1188\n",
    "63c506b2e2456d59975e1009\n",
    "63c506c1e2456d59975e119b\n",
    "63c506c1e2456d59975e119f\n",
    "63c506c2e2456d59975e11a3\n",
    "63c506b8e2456d59975e109e\n",
    "63c506c2e2456d59975e11ae\n",
    "63c506aee2456d59975e0fc1\n",
    "63c506b3e2456d59975e1019\n",
    "63c506c3e2456d59975e11c3\n",
    "63c506b9e2456d59975e10a8\n",
    "63c506c3e2456d59975e11d2\n",
    "63c506c3e2456d59975e11d6\n",
    "63c506c4e2456d59975e11da\n",
    "63c506c4e2456d59975e11dd\n",
    "\n",
    "\n",
    "63c506c9e2456d59975e1271\n",
    "63c506bbe2456d59975e10d4\n",
    "63c506b4e2456d59975e103d\n",
    "63c506c8e2456d59975e1261\n",
    "63c506c7e2456d59975e1223\n",
    "63c506bae2456d59975e10bf\n",
    "63c506c8e2456d59975e125c\n",
    "63c506c8e2456d59975e1256\n",
    "63c506c9e2456d59975e1271\n",
    "63c506bbe2456d59975e10d4\n",
    "63c506b4e2456d59975e103d\n",
    "63c506c8e2456d59975e1261\n",
    "63c506aee2456d59975e0fc5\n",
    "63c506c8e2456d59975e125c\n",
    "63c506c8e2456d59975e1256\n",
    "63c506afe2456d59975e0fcd\n",
    "63c506c8e2456d59975e1251\n",
    "63c506abe2456d59975e0f8b\n",
    "63c506dee2456d59975e1488\n",
    "63c506c8e2456d59975e123e\n",
    "63c506b9e2456d59975e10af\n",
    "63c506c8e2456d59975e1256\n",
    "63c506afe2456d59975e0fcd\n",
    "63c506c8e2456d59975e1251\n",
    "63c506abe2456d59975e0f8b\n",
    "63c506c8e2456d59975e123e\n",
    "63c506c4e2456d59975e11da\n",
    "63c506dce2456d59975e1459\n",
    "63c506afe2456d59975e0fca\n",
    "63c506c3e2456d59975e11d2\n",
    "63c506b9e2456d59975e10a8\n",
    "63c506c7e2456d59975e123a\n",
    "63c506afe2456d59975e0fca\n",
    "63c506dae2456d59975e1415\n",
    "63c506b8e2456d59975e109e\n",
    "63c506c7e2456d59975e122d\n",
    "63c506c2e2456d59975e11a3\n",
    "63c506b8e2456d59975e109c\n",
    "63c506c1e2456d59975e1186\n",
    "63c506bae2456d59975e10bc\n",
    "63c506d7e2456d59975e13d6\n",
    "63c506c1e2456d59975e1188\n",
    "63c506b4e2456d59975e102f\n",
    "63c506c7e2456d59975e1223\n",
    "63c506bae2456d59975e10c1\n",
    "63c506bae2456d59975e10c2\n",
    "63c506bae2456d59975e10bf\n",
    "63c506bae2456d59975e10bc\n",
    "63c506c5e2456d59975e1202\n",
    "63c506d5e2456d59975e1394\n",
    "63c506b9e2456d59975e10b3\n",
    "63c506c4e2456d59975e11ee\n",
    "63c506b9e2456d59975e10af\n",
    "63c506c4e2456d59975e11ea\n",
    "63c506b1e2456d59975e1004\n",
    "63c506c5e2456d59975e1202\n",
    "63c506bfe2456d59975e1147\n",
    "\n",
    "63c506c3e2456d59975e11d2\n",
    "63c506ace2456d59975e0f9e\n",
    "63c506c3e2456d59975e11d6\n",
    "63c506cfe2456d59975e1311\n",
    "63c506c4e2456d59975e11ea\n",
    "63c506c4e2456d59975e11ee\n",
    "63c506b3e2456d59975e102a\n",
    "63c506b9e2456d59975e10b3\n",
    "63c506c5e2456d59975e1202\n",
    "63c506bfe2456d59975e1147\n",
    "63c506b9e2456d59975e10af\n",
    "63c506b9e2456d59975e10b3\n",
    "63c506c5e2456d59975e1202\n",
    "63c506aee2456d59975e0fc5\n",
    "63c506bae2456d59975e10bc \n",
    "'''\n",
    "ids = ids_all.split()\n",
    "# ids\n",
    "\n",
    "import pandas as pd\n",
    "\n",
    "\n",
    "def load_docs_data(ids, df, col_suffix):\n",
    "  for _id in ids:\n",
    "    doc = get_doc_by_id(ObjectId(_id))\n",
    "    jd = DbJsonDoc(doc)\n",
    "#     print(jd.get_attribute_value('number'))\n",
    "    \n",
    "    df.at[ _id, f'analyze_timestamp{col_suffix}']=jd.analysis['analyze_timestamp']\n",
    "    df.at[ _id, f'number{col_suffix}']=jd.get_attribute_value('number')\n",
    "    df.at[ _id, f'subject{col_suffix}']=jd.get_attribute_value('subject')\n",
    "    df.at[ _id, f'amount_netto{col_suffix}'] = jd.get_attributes_tree().get('price', {}).get('amount_netto', {}).get('value', None)\n",
    "    df.at[ _id, f'amount_brutto{col_suffix}'] = jd.get_attributes_tree().get('price', {}).get('amount_brutto', {}).get('value', None)\n",
    "    df.at[ _id, f'amount{col_suffix}'] = jd.get_attributes_tree().get('price', {}).get('amount', {}).get('value', None)\n",
    "    df.at[ _id, f'vat{col_suffix}'] = jd.get_attributes_tree().get('price', {}).get('vat', {}).get('value', None)\n",
    "    df.at[ _id, f'currency{col_suffix}'] = jd.get_attributes_tree().get('price', {}).get('currency', {}).get('value', None)\n",
    "    df.at[ _id, f'analysis.version{col_suffix}'] = jd.analysis['version']\n",
    "    \n",
    "     \n",
    "    span = jd.get_attributes_tree().get('subject', {}).get('span', None)\n",
    "    \n",
    "    if span:\n",
    "        tm = jd.get_tokens_map_unchaged()\n",
    "\n",
    "        quote = tm.text_range(span)\n",
    "    \n",
    "        df.at[_id,f'subject quote{col_suffix}'] = quote[:200]\n",
    "\n"
   ]
  },
  {
   "cell_type": "code",
   "execution_count": 4,
   "id": "511b8777",
   "metadata": {},
   "outputs": [],
   "source": [
    "df=None\n",
    "fn = '495-contracts-re-analyze-subj.csv'\n",
    "df = pd.read_csv(fn, index_col=0)\n",
    "df['subject quote _old']=''"
   ]
  },
  {
   "cell_type": "code",
   "execution_count": null,
   "id": "d02492b9",
   "metadata": {},
   "outputs": [],
   "source": []
  },
  {
   "cell_type": "code",
   "execution_count": 5,
   "id": "a5e25bb4",
   "metadata": {},
   "outputs": [],
   "source": [
    "if df is None:\n",
    "    df=pd.DataFrame()\n",
    "    load_docs_data(ids, df, ' _old')\n",
    "    df = df.sort_values(['subject _old', 'subject quote _old'])\n",
    "    df.to_csv('495-contracts-re-analyze-subj.csv')"
   ]
  },
  {
   "cell_type": "code",
   "execution_count": 6,
   "id": "4450c33f",
   "metadata": {},
   "outputs": [
    {
     "name": "stderr",
     "output_type": "stream",
     "text": [
      "[documents.py:270 -             __init__() ] loading word cases stats model from: /root/artem/analyser/analyser/vocab/word_cases_stats.pickle\n",
      "[currencies.py:17 -             _env_var() ] Currency-service : define GPN_CURRENCY_USER environment variable! defaulting to None\n",
      "[currencies.py:17 -             _env_var() ] Currency-service : define GPN_CURRENCY_PASSWORD environment variable! defaulting to None\n",
      "[currencies.py:17 -             _env_var() ] Currency-service : define GPN_CURRENCY_URL environment variable! defaulting to None\n"
     ]
    },
    {
     "name": "stdout",
     "output_type": "stream",
     "text": [
      "HyperParameters.subsidiary_name_match_min_jaro_similarity 0.9649122807017544\n"
     ]
    },
    {
     "name": "stderr",
     "output_type": "stream",
     "text": [
      "[tools.py:29 -             __init__() ] model_checkpoint_path: /root/artem/analyser/analyser/vocab\n",
      "[tools.py:29 -             __init__() ] model_checkpoint_path: /root/artem/analyser/analyser/vocab\n",
      "2023-02-07 17:27:14.958575: I tensorflow/stream_executor/platform/default/dso_loader.cc:53] Successfully opened dynamic library libcuda.so.1\n",
      "2023-02-07 17:27:15.441228: I tensorflow/stream_executor/cuda/cuda_gpu_executor.cc:937] successful NUMA node read from SysFS had negative value (-1), but there must be at least one NUMA node, so returning NUMA node zero\n",
      "2023-02-07 17:27:15.441894: I tensorflow/core/common_runtime/gpu/gpu_device.cc:1733] Found device 0 with properties: \n",
      "pciBusID: 0000:01:00.0 name: A100-PCIE-40GB computeCapability: 8.0\n",
      "coreClock: 1.41GHz coreCount: 108 deviceMemorySize: 39.59GiB deviceMemoryBandwidth: 1.41TiB/s\n",
      "2023-02-07 17:27:15.441919: I tensorflow/stream_executor/platform/default/dso_loader.cc:53] Successfully opened dynamic library libcudart.so.11.0\n",
      "2023-02-07 17:27:15.441952: I tensorflow/stream_executor/platform/default/dso_loader.cc:53] Successfully opened dynamic library libcublas.so.11\n",
      "2023-02-07 17:27:15.441970: I tensorflow/stream_executor/platform/default/dso_loader.cc:53] Successfully opened dynamic library libcublasLt.so.11\n",
      "2023-02-07 17:27:15.442567: I tensorflow/stream_executor/platform/default/dso_loader.cc:53] Successfully opened dynamic library libcufft.so.10\n",
      "2023-02-07 17:27:15.442728: I tensorflow/stream_executor/platform/default/dso_loader.cc:53] Successfully opened dynamic library libcurand.so.10\n",
      "2023-02-07 17:27:15.443259: I tensorflow/stream_executor/platform/default/dso_loader.cc:53] Successfully opened dynamic library libcusolver.so.11\n",
      "2023-02-07 17:27:15.443699: I tensorflow/stream_executor/platform/default/dso_loader.cc:53] Successfully opened dynamic library libcusparse.so.11\n",
      "2023-02-07 17:27:15.443727: I tensorflow/stream_executor/platform/default/dso_loader.cc:53] Successfully opened dynamic library libcudnn.so.8\n",
      "2023-02-07 17:27:15.443778: I tensorflow/stream_executor/cuda/cuda_gpu_executor.cc:937] successful NUMA node read from SysFS had negative value (-1), but there must be at least one NUMA node, so returning NUMA node zero\n",
      "2023-02-07 17:27:15.444434: I tensorflow/stream_executor/cuda/cuda_gpu_executor.cc:937] successful NUMA node read from SysFS had negative value (-1), but there must be at least one NUMA node, so returning NUMA node zero\n",
      "2023-02-07 17:27:15.445056: I tensorflow/core/common_runtime/gpu/gpu_device.cc:1871] Adding visible gpu devices: 0\n",
      "2023-02-07 17:27:15.445408: I tensorflow/core/platform/cpu_feature_guard.cc:142] This TensorFlow binary is optimized with oneAPI Deep Neural Network Library (oneDNN) to use the following CPU instructions in performance-critical operations:  AVX2 FMA\n",
      "To enable them in other operations, rebuild TensorFlow with the appropriate compiler flags.\n",
      "2023-02-07 17:27:15.446117: I tensorflow/stream_executor/cuda/cuda_gpu_executor.cc:937] successful NUMA node read from SysFS had negative value (-1), but there must be at least one NUMA node, so returning NUMA node zero\n",
      "2023-02-07 17:27:15.446744: I tensorflow/core/common_runtime/gpu/gpu_device.cc:1733] Found device 0 with properties: \n",
      "pciBusID: 0000:01:00.0 name: A100-PCIE-40GB computeCapability: 8.0\n",
      "coreClock: 1.41GHz coreCount: 108 deviceMemorySize: 39.59GiB deviceMemoryBandwidth: 1.41TiB/s\n",
      "2023-02-07 17:27:15.446785: I tensorflow/stream_executor/cuda/cuda_gpu_executor.cc:937] successful NUMA node read from SysFS had negative value (-1), but there must be at least one NUMA node, so returning NUMA node zero\n",
      "2023-02-07 17:27:15.447433: I tensorflow/stream_executor/cuda/cuda_gpu_executor.cc:937] successful NUMA node read from SysFS had negative value (-1), but there must be at least one NUMA node, so returning NUMA node zero\n",
      "2023-02-07 17:27:15.448049: I tensorflow/core/common_runtime/gpu/gpu_device.cc:1871] Adding visible gpu devices: 0\n",
      "2023-02-07 17:27:15.448075: I tensorflow/stream_executor/platform/default/dso_loader.cc:53] Successfully opened dynamic library libcudart.so.11.0\n",
      "2023-02-07 17:27:15.754640: I tensorflow/core/common_runtime/gpu/gpu_device.cc:1258] Device interconnect StreamExecutor with strength 1 edge matrix:\n",
      "2023-02-07 17:27:15.754663: I tensorflow/core/common_runtime/gpu/gpu_device.cc:1264]      0 \n",
      "2023-02-07 17:27:15.754668: I tensorflow/core/common_runtime/gpu/gpu_device.cc:1277] 0:   N \n",
      "2023-02-07 17:27:15.754808: I tensorflow/stream_executor/cuda/cuda_gpu_executor.cc:937] successful NUMA node read from SysFS had negative value (-1), but there must be at least one NUMA node, so returning NUMA node zero\n",
      "2023-02-07 17:27:15.755497: I tensorflow/stream_executor/cuda/cuda_gpu_executor.cc:937] successful NUMA node read from SysFS had negative value (-1), but there must be at least one NUMA node, so returning NUMA node zero\n",
      "2023-02-07 17:27:15.756144: I tensorflow/stream_executor/cuda/cuda_gpu_executor.cc:937] successful NUMA node read from SysFS had negative value (-1), but there must be at least one NUMA node, so returning NUMA node zero\n",
      "2023-02-07 17:27:15.756771: I tensorflow/core/common_runtime/gpu/gpu_device.cc:1418] Created TensorFlow device (/job:localhost/replica:0/task:0/device:GPU:0 with 38424 MB memory) -> physical GPU (device: 0, name: A100-PCIE-40GB, pci bus id: 0000:01:00.0, compute capability: 8.0)\n",
      "[tools.py:121 -           init_model() ] weights loaded: /root/artem/analyser/analyser/vocab/make_att_model.h5\n",
      "[insides_finder.py:41 -             __init__() ] InsidesFinder: centroids.shape (23, 512)\n"
     ]
    },
    {
     "name": "stdout",
     "output_type": "stream",
     "text": [
      "Model: \"make_att_model\"\n",
      "__________________________________________________________________________________________________\n",
      "Layer (type)                    Output Shape         Param #     Connected to                     \n",
      "==================================================================================================\n",
      "token_features (InputLayer)     [(None, None, 15)]   0                                            \n",
      "__________________________________________________________________________________________________\n",
      "input_text_emb (InputLayer)     [(None, None, 1024)] 0                                            \n",
      "__________________________________________________________________________________________________\n",
      "bn2 (BatchNormalization)        (None, None, 15)     60          token_features[0][0]             \n",
      "__________________________________________________________________________________________________\n",
      "concatenate (Concatenate)       (None, None, 1039)   0           input_text_emb[0][0]             \n",
      "                                                                 bn2[0][0]                        \n",
      "__________________________________________________________________________________________________\n",
      "encoder_0/multiheadattention (M (None, None, 1039)   4259855     concatenate[0][0]                \n",
      "                                                                 concatenate[0][0]                \n",
      "                                                                 concatenate[0][0]                \n",
      "__________________________________________________________________________________________________\n",
      "encoder_0/att_dropout (Dropout) (None, None, 1039)   0           encoder_0/multiheadattention[0][0\n",
      "__________________________________________________________________________________________________\n",
      "tf.__operators__.add (TFOpLambd (None, None, 1039)   0           concatenate[0][0]                \n",
      "                                                                 encoder_0/att_dropout[0][0]      \n",
      "__________________________________________________________________________________________________\n",
      "encoder_0/att_layernormalizatio (None, None, 1039)   2078        tf.__operators__.add[0][0]       \n",
      "__________________________________________________________________________________________________\n",
      "encoder_0/ffn (Sequential)      (None, None, 1039)   267151      encoder_0/att_layernormalization[\n",
      "__________________________________________________________________________________________________\n",
      "encoder_0/ffn_dropout (Dropout) (None, None, 1039)   0           encoder_0/ffn[0][0]              \n",
      "__________________________________________________________________________________________________\n",
      "tf.__operators__.add_1 (TFOpLam (None, None, 1039)   0           encoder_0/att_layernormalization[\n",
      "                                                                 encoder_0/ffn_dropout[0][0]      \n",
      "__________________________________________________________________________________________________\n",
      "encoder_0/ffn_layernormalizatio (None, None, 1039)   2078        tf.__operators__.add_1[0][0]     \n",
      "__________________________________________________________________________________________________\n",
      "bn1 (BatchNormalization)        (None, None, 1039)   4156        encoder_0/ffn_layernormalization[\n",
      "__________________________________________________________________________________________________\n",
      "O1_tagging_tanh (LSTM)          (None, None, 30)     128400      bn1[0][0]                        \n",
      "__________________________________________________________________________________________________\n",
      "embedding_reduced (Bidirectiona (None, 32)           6016        O1_tagging_tanh[0][0]            \n",
      "__________________________________________________________________________________________________\n",
      "bn_bi_2 (BatchNormalization)    (None, 32)           128         embedding_reduced[0][0]          \n",
      "__________________________________________________________________________________________________\n",
      "dropout (Dropout)               (None, 32)           0           bn_bi_2[0][0]                    \n",
      "__________________________________________________________________________________________________\n",
      "O1_tagging (ThresholdLayer)     (None, None, 30)     1           O1_tagging_tanh[0][0]            \n",
      "__________________________________________________________________________________________________\n",
      "O2_subject (Dense)              (None, 43)           1419        dropout[0][0]                    \n",
      "==================================================================================================\n",
      "Total params: 4,671,342\n",
      "Trainable params: 4,669,170\n",
      "Non-trainable params: 2,172\n",
      "__________________________________________________________________________________________________\n",
      "InsidesFinder: centroids.shape (23, 512)\n",
      "InsidesFinder distance_threshold 0.6861824989318848\n"
     ]
    }
   ],
   "source": [
    "from bson import ObjectId\n",
    "\n",
    "from analyser.finalizer import get_doc_by_id, get_audit_by_id\n",
    "from analyser.log import logger\n",
    "from analyser.parsing import AuditContext\n",
    "from analyser.persistence import DbJsonDoc\n",
    "from analyser.runner import BaseProcessor, document_processors, CONTRACT\n",
    "\n",
    "\n",
    "def re_analyze_contract(_id):\n",
    "  processor: BaseProcessor = document_processors[CONTRACT]\n",
    "  # doc = get_doc_by_id(ObjectId('638f0a81b1363747e929f304'))\n",
    "  doc = get_doc_by_id(ObjectId(_id))\n",
    "  #\n",
    "  if doc is None:\n",
    "    raise RuntimeError(\"fix unit test please, doc with given UID is not in test DB\")\n",
    "\n",
    "  audit = get_audit_by_id(doc['auditId'])\n",
    "  # print(audit)\n",
    "\n",
    "  jdoc = DbJsonDoc(doc)\n",
    "  logger.info(f'......pre-processing {jdoc._id}')\n",
    "  ctx = AuditContext()\n",
    "  ctx.audit_subsidiary_name = audit.get('subsidiary', {}).get('name')\n",
    "  processor.preprocess(jdoc, context=ctx)\n",
    "  processor.process(jdoc, audit, ctx)"
   ]
  },
  {
   "cell_type": "code",
   "execution_count": 7,
   "id": "583c05cc",
   "metadata": {},
   "outputs": [
    {
     "data": {
      "text/plain": [
       "analyze_timestamp _old     2023-02-01 22:16:53.711\n",
       "number _old                         -85-985-856-95\n",
       "subject _old              DealIntellectualProperty\n",
       "amount_netto _old                      4.40001e+07\n",
       "amount_brutto _old                             NaN\n",
       "amount _old                                    NaN\n",
       "vat _old                                       NaN\n",
       "currency _old                                  RUB\n",
       "analysis.version _old                       23.2.1\n",
       "subject quote _old                                \n",
       "Name: 63ac1fab862ea92bf713c51e, dtype: object"
      ]
     },
     "execution_count": 7,
     "metadata": {},
     "output_type": "execute_result"
    }
   ],
   "source": [
    "df.loc[ids[0]]"
   ]
  },
  {
   "cell_type": "code",
   "execution_count": 8,
   "id": "3943ee65",
   "metadata": {
    "collapsed": true,
    "jupyter": {
     "outputs_hidden": true
    },
    "tags": []
   },
   "outputs": [
    {
     "name": "stderr",
     "output_type": "stream",
     "text": [
      "/root/artem/analyser/integration/db.py:14: UserWarning: MongoDB : define GPN_DB_NAME environment variable! defaulting to gpn\n",
      "  warnings.warn(msg)\n",
      "/root/artem/analyser/integration/db.py:14: UserWarning: MongoDB : define GPN_DB_PORT environment variable! defaulting to 27017\n",
      "  warnings.warn(msg)\n",
      "/root/artem/analyser/integration/db.py:14: UserWarning: MongoDB : define GPN_DB_USER environment variable! defaulting to None\n",
      "  warnings.warn(msg)\n",
      "/root/artem/analyser/integration/db.py:14: UserWarning: MongoDB : define GPN_DB_PASSWORD environment variable! defaulting to None\n",
      "  warnings.warn(msg)\n",
      "/root/artem/analyser/integration/db.py:14: UserWarning: MongoDB : define GPN_USE_MONGO_TLS environment variable! defaulting to False\n",
      "  warnings.warn(msg)\n",
      "/root/artem/analyser/integration/db.py:14: UserWarning: MongoDB : define GPN_DB_TLS_CA environment variable! defaulting to None\n",
      "  warnings.warn(msg)\n",
      "/root/artem/analyser/integration/db.py:14: UserWarning: MongoDB : define GPN_DB_TLS_KEY environment variable! defaulting to None\n",
      "  warnings.warn(msg)\n",
      "[703404606.py:22 -  re_analyze_contract() ] ......pre-processing 63ac1fab862ea92bf713c51e\n",
      "[runner.py:63 -           preprocess() ] skipping doc 63ac1fab862ea92bf713c51e because it is corrected by user\n",
      "[runner.py:96 -              process() ] skipping doc 63ac1fab862ea92bf713c51e postprocessing because it is corrected by user\n",
      "[runner.py:106 -              process() ] analysis saved, doc._id=63ac1fab862ea92bf713c51e\n",
      "[703404606.py:22 -  re_analyze_contract() ] ......pre-processing 63ac1faa862ea92bf713c50d\n"
     ]
    },
    {
     "name": "stdout",
     "output_type": "stream",
     "text": [
      "DB HOST IS: 192.168.10.36\n",
      "1 ================================================================================\n"
     ]
    },
    {
     "name": "stderr",
     "output_type": "stream",
     "text": [
      "2023-02-07 17:27:17.506677: I tensorflow/compiler/mlir/mlir_graph_optimization_pass.cc:176] None of the MLIR Optimization Passes are enabled (registered 2)\n",
      "2023-02-07 17:27:17.507457: I tensorflow/core/platform/profile_utils/cpu_utils.cc:114] CPU Frequency: 3699850000 Hz\n",
      "2023-02-07 17:27:17.987169: I tensorflow/stream_executor/platform/default/dso_loader.cc:53] Successfully opened dynamic library libcublas.so.11\n",
      "2023-02-07 17:27:18.518152: I tensorflow/stream_executor/platform/default/dso_loader.cc:53] Successfully opened dynamic library libcublasLt.so.11\n",
      "2023-02-07 17:27:18.518198: I tensorflow/stream_executor/cuda/cuda_blas.cc:1838] TensorFloat-32 will be used for the matrix multiplication. This will only be logged once.\n",
      "2023-02-07 17:27:18.528009: I tensorflow/stream_executor/platform/default/dso_loader.cc:53] Successfully opened dynamic library libcudnn.so.8\n",
      "2023-02-07 17:27:18.624404: I tensorflow/stream_executor/cuda/cuda_dnn.cc:359] Loaded cuDNN version 8500\n",
      "[runner.py:106 -              process() ] analysis saved, doc._id=63ac1faa862ea92bf713c50d\n",
      "[703404606.py:22 -  re_analyze_contract() ] ......pre-processing 63ac1fa9862ea92bf713c509\n"
     ]
    },
    {
     "name": "stdout",
     "output_type": "stream",
     "text": [
      "2 ================================================================================\n"
     ]
    },
    {
     "name": "stderr",
     "output_type": "stream",
     "text": [
      "[runner.py:106 -              process() ] analysis saved, doc._id=63ac1fa9862ea92bf713c509\n",
      "[703404606.py:22 -  re_analyze_contract() ] ......pre-processing 63ac1faa862ea92bf713c515\n"
     ]
    },
    {
     "name": "stdout",
     "output_type": "stream",
     "text": [
      "3 ================================================================================\n"
     ]
    },
    {
     "name": "stderr",
     "output_type": "stream",
     "text": [
      "[runner.py:106 -              process() ] analysis saved, doc._id=63ac1faa862ea92bf713c515\n",
      "[703404606.py:22 -  re_analyze_contract() ] ......pre-processing 63ac1faa862ea92bf713c51d\n"
     ]
    },
    {
     "name": "stdout",
     "output_type": "stream",
     "text": [
      "4 ================================================================================\n"
     ]
    },
    {
     "name": "stderr",
     "output_type": "stream",
     "text": [
      "[contract_parser.py:426 - nn_find_contract_value() ] vat is None\n",
      "[runner.py:106 -              process() ] analysis saved, doc._id=63ac1faa862ea92bf713c51d\n",
      "[703404606.py:22 -  re_analyze_contract() ] ......pre-processing 63ac1fac862ea92bf713c534\n",
      "[runner.py:63 -           preprocess() ] skipping doc 63ac1fac862ea92bf713c534 because it is corrected by user\n",
      "[runner.py:96 -              process() ] skipping doc 63ac1fac862ea92bf713c534 postprocessing because it is corrected by user\n",
      "[runner.py:106 -              process() ] analysis saved, doc._id=63ac1fac862ea92bf713c534\n",
      "[703404606.py:22 -  re_analyze_contract() ] ......pre-processing 63ac1fa9862ea92bf713c50a\n",
      "[runner.py:63 -           preprocess() ] skipping doc 63ac1fa9862ea92bf713c50a because it is corrected by user\n",
      "[runner.py:96 -              process() ] skipping doc 63ac1fa9862ea92bf713c50a postprocessing because it is corrected by user\n",
      "[runner.py:106 -              process() ] analysis saved, doc._id=63ac1fa9862ea92bf713c50a\n",
      "[703404606.py:22 -  re_analyze_contract() ] ......pre-processing 63ac1fac862ea92bf713c536\n"
     ]
    },
    {
     "name": "stdout",
     "output_type": "stream",
     "text": [
      "5 ================================================================================\n",
      "6 ================================================================================\n",
      "7 ================================================================================\n"
     ]
    },
    {
     "name": "stderr",
     "output_type": "stream",
     "text": [
      "[runner.py:108 -              process() ] excluding doc 63ac1fac862ea92bf713c536\n",
      "[703404606.py:22 -  re_analyze_contract() ] ......pre-processing 63ac1fab862ea92bf713c522\n"
     ]
    },
    {
     "name": "stdout",
     "output_type": "stream",
     "text": [
      "8 ================================================================================\n"
     ]
    },
    {
     "name": "stderr",
     "output_type": "stream",
     "text": [
      "[runner.py:108 -              process() ] excluding doc 63ac1fab862ea92bf713c522\n",
      "[703404606.py:22 -  re_analyze_contract() ] ......pre-processing 63ac1fad862ea92bf713c53f\n"
     ]
    },
    {
     "name": "stdout",
     "output_type": "stream",
     "text": [
      "9 ================================================================================\n"
     ]
    },
    {
     "name": "stderr",
     "output_type": "stream",
     "text": [
      "[contract_parser.py:426 - nn_find_contract_value() ] vat is None\n",
      "[runner.py:106 -              process() ] analysis saved, doc._id=63ac1fad862ea92bf713c53f\n",
      "[703404606.py:22 -  re_analyze_contract() ] ......pre-processing 6391a7481864c6df4d29f30b\n"
     ]
    },
    {
     "name": "stdout",
     "output_type": "stream",
     "text": [
      "10 ================================================================================\n"
     ]
    },
    {
     "name": "stderr",
     "output_type": "stream",
     "text": [
      "[contract_parser.py:426 - nn_find_contract_value() ] vat is None\n",
      "[runner.py:106 -              process() ] analysis saved, doc._id=6391a7481864c6df4d29f30b\n",
      "[703404606.py:22 -  re_analyze_contract() ] ......pre-processing 63a43056beaa9eeec65ecafb\n",
      "[runner.py:63 -           preprocess() ] skipping doc 63a43056beaa9eeec65ecafb because it is corrected by user\n",
      "[runner.py:96 -              process() ] skipping doc 63a43056beaa9eeec65ecafb postprocessing because it is corrected by user\n",
      "[runner.py:106 -              process() ] analysis saved, doc._id=63a43056beaa9eeec65ecafb\n",
      "[703404606.py:22 -  re_analyze_contract() ] ......pre-processing 63a430a6beaa9eeec65ecb0b\n"
     ]
    },
    {
     "name": "stdout",
     "output_type": "stream",
     "text": [
      "11 ================================================================================\n",
      "12 ================================================================================\n"
     ]
    },
    {
     "name": "stderr",
     "output_type": "stream",
     "text": [
      "[contract_parser.py:426 - nn_find_contract_value() ] vat is None\n",
      "[runner.py:106 -              process() ] analysis saved, doc._id=63a430a6beaa9eeec65ecb0b\n",
      "[703404606.py:22 -  re_analyze_contract() ] ......pre-processing 63a43092beaa9eeec65ecb09\n"
     ]
    },
    {
     "name": "stdout",
     "output_type": "stream",
     "text": [
      "13 ================================================================================\n"
     ]
    },
    {
     "name": "stderr",
     "output_type": "stream",
     "text": [
      "[contract_parser.py:426 - nn_find_contract_value() ] vat is None\n",
      "[runner.py:106 -              process() ] analysis saved, doc._id=63a43092beaa9eeec65ecb09\n",
      "[703404606.py:22 -  re_analyze_contract() ] ......pre-processing 63a4306dbeaa9eeec65ecafe\n"
     ]
    },
    {
     "name": "stdout",
     "output_type": "stream",
     "text": [
      "14 ================================================================================\n"
     ]
    },
    {
     "name": "stderr",
     "output_type": "stream",
     "text": [
      "[contract_parser.py:426 - nn_find_contract_value() ] vat is None\n",
      "[runner.py:106 -              process() ] analysis saved, doc._id=63a4306dbeaa9eeec65ecafe\n",
      "[703404606.py:22 -  re_analyze_contract() ] ......pre-processing 63a430dbbeaa9eeec65ecb12\n"
     ]
    },
    {
     "name": "stdout",
     "output_type": "stream",
     "text": [
      "15 ================================================================================\n"
     ]
    },
    {
     "name": "stderr",
     "output_type": "stream",
     "text": [
      "[runner.py:106 -              process() ] analysis saved, doc._id=63a430dbbeaa9eeec65ecb12\n",
      "[703404606.py:22 -  re_analyze_contract() ] ......pre-processing 63a430e6beaa9eeec65ecb18\n",
      "[contract_parser.py:426 - nn_find_contract_value() ] vat is None\n"
     ]
    },
    {
     "name": "stdout",
     "output_type": "stream",
     "text": [
      "16 ================================================================================\n"
     ]
    },
    {
     "name": "stderr",
     "output_type": "stream",
     "text": [
      "[runner.py:106 -              process() ] analysis saved, doc._id=63a430e6beaa9eeec65ecb18\n",
      "[703404606.py:22 -  re_analyze_contract() ] ......pre-processing 63a430b4beaa9eeec65ecb0d\n",
      "[contract_parser.py:426 - nn_find_contract_value() ] vat is None\n",
      "[runner.py:106 -              process() ] analysis saved, doc._id=63a430b4beaa9eeec65ecb0d\n",
      "[703404606.py:22 -  re_analyze_contract() ] ......pre-processing 63c506ede2456d59975e15bf\n"
     ]
    },
    {
     "name": "stdout",
     "output_type": "stream",
     "text": [
      "17 ================================================================================\n",
      "18 ================================================================================\n"
     ]
    },
    {
     "name": "stderr",
     "output_type": "stream",
     "text": [
      "[runner.py:106 -              process() ] analysis saved, doc._id=63c506ede2456d59975e15bf\n",
      "[703404606.py:22 -  re_analyze_contract() ] ......pre-processing 63c506ede2456d59975e15c6\n"
     ]
    },
    {
     "name": "stdout",
     "output_type": "stream",
     "text": [
      "19 ================================================================================\n"
     ]
    },
    {
     "name": "stderr",
     "output_type": "stream",
     "text": [
      "[runner.py:106 -              process() ] analysis saved, doc._id=63c506ede2456d59975e15c6\n",
      "[703404606.py:22 -  re_analyze_contract() ] ......pre-processing 63c506bde2456d59975e110a\n"
     ]
    },
    {
     "name": "stdout",
     "output_type": "stream",
     "text": [
      "20 ================================================================================\n"
     ]
    },
    {
     "name": "stderr",
     "output_type": "stream",
     "text": [
      "[contract_parser.py:426 - nn_find_contract_value() ] vat is None\n",
      "[runner.py:106 -              process() ] analysis saved, doc._id=63c506bde2456d59975e110a\n",
      "[703404606.py:22 -  re_analyze_contract() ] ......pre-processing 63c506cbe2456d59975e12ae\n"
     ]
    },
    {
     "name": "stdout",
     "output_type": "stream",
     "text": [
      "21 ================================================================================\n"
     ]
    },
    {
     "name": "stderr",
     "output_type": "stream",
     "text": [
      "[runner.py:106 -              process() ] analysis saved, doc._id=63c506cbe2456d59975e12ae\n",
      "[703404606.py:22 -  re_analyze_contract() ] ......pre-processing 63c506bde2456d59975e1107\n"
     ]
    },
    {
     "name": "stdout",
     "output_type": "stream",
     "text": [
      "22 ================================================================================\n"
     ]
    },
    {
     "name": "stderr",
     "output_type": "stream",
     "text": [
      "[contract_parser.py:426 - nn_find_contract_value() ] vat is None\n",
      "[runner.py:106 -              process() ] analysis saved, doc._id=63c506bde2456d59975e1107\n",
      "[703404606.py:22 -  re_analyze_contract() ] ......pre-processing 63c506cbe2456d59975e12aa\n",
      "[contract_parser.py:426 - nn_find_contract_value() ] vat is None\n",
      "[runner.py:106 -              process() ] analysis saved, doc._id=63c506cbe2456d59975e12aa\n",
      "[703404606.py:22 -  re_analyze_contract() ] ......pre-processing 63c506cbe2456d59975e12a6\n"
     ]
    },
    {
     "name": "stdout",
     "output_type": "stream",
     "text": [
      "23 ================================================================================\n",
      "24 ================================================================================\n"
     ]
    },
    {
     "name": "stderr",
     "output_type": "stream",
     "text": [
      "[runner.py:106 -              process() ] analysis saved, doc._id=63c506cbe2456d59975e12a6\n",
      "[703404606.py:22 -  re_analyze_contract() ] ......pre-processing 63c506bce2456d59975e10f9\n"
     ]
    },
    {
     "name": "stdout",
     "output_type": "stream",
     "text": [
      "25 ================================================================================\n"
     ]
    },
    {
     "name": "stderr",
     "output_type": "stream",
     "text": [
      "[contract_parser.py:426 - nn_find_contract_value() ] vat is None\n",
      "[runner.py:106 -              process() ] analysis saved, doc._id=63c506bce2456d59975e10f9\n",
      "[703404606.py:22 -  re_analyze_contract() ] ......pre-processing 63c506cbe2456d59975e12a6\n"
     ]
    },
    {
     "name": "stdout",
     "output_type": "stream",
     "text": [
      "26 ================================================================================\n"
     ]
    },
    {
     "name": "stderr",
     "output_type": "stream",
     "text": [
      "[runner.py:106 -              process() ] analysis saved, doc._id=63c506cbe2456d59975e12a6\n",
      "[703404606.py:22 -  re_analyze_contract() ] ......pre-processing 63c506bce2456d59975e10f9\n"
     ]
    },
    {
     "name": "stdout",
     "output_type": "stream",
     "text": [
      "27 ================================================================================\n"
     ]
    },
    {
     "name": "stderr",
     "output_type": "stream",
     "text": [
      "[contract_parser.py:426 - nn_find_contract_value() ] vat is None\n",
      "[runner.py:106 -              process() ] analysis saved, doc._id=63c506bce2456d59975e10f9\n",
      "[703404606.py:22 -  re_analyze_contract() ] ......pre-processing 63c506cae2456d59975e129a\n"
     ]
    },
    {
     "name": "stdout",
     "output_type": "stream",
     "text": [
      "28 ================================================================================\n"
     ]
    },
    {
     "name": "stderr",
     "output_type": "stream",
     "text": [
      "[runner.py:106 -              process() ] analysis saved, doc._id=63c506cae2456d59975e129a\n",
      "[703404606.py:22 -  re_analyze_contract() ] ......pre-processing 63c506bce2456d59975e10ef\n"
     ]
    },
    {
     "name": "stdout",
     "output_type": "stream",
     "text": [
      "29 ================================================================================\n"
     ]
    },
    {
     "name": "stderr",
     "output_type": "stream",
     "text": [
      "[contract_parser.py:426 - nn_find_contract_value() ] vat is None\n",
      "[runner.py:106 -              process() ] analysis saved, doc._id=63c506bce2456d59975e10ef\n",
      "[703404606.py:22 -  re_analyze_contract() ] ......pre-processing 63c506b4e2456d59975e103d\n"
     ]
    },
    {
     "name": "stdout",
     "output_type": "stream",
     "text": [
      "30 ================================================================================\n"
     ]
    },
    {
     "name": "stderr",
     "output_type": "stream",
     "text": [
      "[runner.py:106 -              process() ] analysis saved, doc._id=63c506b4e2456d59975e103d\n",
      "[703404606.py:22 -  re_analyze_contract() ] ......pre-processing 63c506ace2456d59975e0f9b\n"
     ]
    },
    {
     "name": "stdout",
     "output_type": "stream",
     "text": [
      "31 ================================================================================\n"
     ]
    },
    {
     "name": "stderr",
     "output_type": "stream",
     "text": [
      "[legal_docs.py:116 -         warn_trimmed() ] 63c506ace2456d59975e0f9b, 1.doc,  Для анализа документ обрезан из соображений производительности, допустимая длинна -- 15000 слов ✂️\n",
      "[runner.py:106 -              process() ] analysis saved, doc._id=63c506ace2456d59975e0f9b\n",
      "[703404606.py:22 -  re_analyze_contract() ] ......pre-processing 63c506c9e2456d59975e127d\n"
     ]
    },
    {
     "name": "stdout",
     "output_type": "stream",
     "text": [
      "32 ================================================================================\n"
     ]
    },
    {
     "name": "stderr",
     "output_type": "stream",
     "text": [
      "[legal_docs.py:116 -         warn_trimmed() ] 63c506c9e2456d59975e127d, 13.docx,  Для анализа документ обрезан из соображений производительности, допустимая длинна -- 15000 слов ✂️\n",
      "[contract_parser.py:426 - nn_find_contract_value() ] vat is None\n",
      "[runner.py:106 -              process() ] analysis saved, doc._id=63c506c9e2456d59975e127d\n",
      "[703404606.py:22 -  re_analyze_contract() ] ......pre-processing 63c506bce2456d59975e10ef\n"
     ]
    },
    {
     "name": "stdout",
     "output_type": "stream",
     "text": [
      "33 ================================================================================\n"
     ]
    },
    {
     "name": "stderr",
     "output_type": "stream",
     "text": [
      "[contract_parser.py:426 - nn_find_contract_value() ] vat is None\n",
      "[runner.py:106 -              process() ] analysis saved, doc._id=63c506bce2456d59975e10ef\n",
      "[703404606.py:22 -  re_analyze_contract() ] ......pre-processing 63c506ace2456d59975e0f9b\n"
     ]
    },
    {
     "name": "stdout",
     "output_type": "stream",
     "text": [
      "34 ================================================================================\n"
     ]
    },
    {
     "name": "stderr",
     "output_type": "stream",
     "text": [
      "[legal_docs.py:116 -         warn_trimmed() ] 63c506ace2456d59975e0f9b, 1.doc,  Для анализа документ обрезан из соображений производительности, допустимая длинна -- 15000 слов ✂️\n",
      "[runner.py:106 -              process() ] analysis saved, doc._id=63c506ace2456d59975e0f9b\n",
      "[703404606.py:22 -  re_analyze_contract() ] ......pre-processing 63c506c9e2456d59975e127d\n"
     ]
    },
    {
     "name": "stdout",
     "output_type": "stream",
     "text": [
      "35 ================================================================================\n"
     ]
    },
    {
     "name": "stderr",
     "output_type": "stream",
     "text": [
      "[legal_docs.py:116 -         warn_trimmed() ] 63c506c9e2456d59975e127d, 13.docx,  Для анализа документ обрезан из соображений производительности, допустимая длинна -- 15000 слов ✂️\n",
      "[contract_parser.py:426 - nn_find_contract_value() ] vat is None\n",
      "[runner.py:106 -              process() ] analysis saved, doc._id=63c506c9e2456d59975e127d\n",
      "[703404606.py:22 -  re_analyze_contract() ] ......pre-processing 63c506c8e2456d59975e123e\n"
     ]
    },
    {
     "name": "stdout",
     "output_type": "stream",
     "text": [
      "36 ================================================================================\n"
     ]
    },
    {
     "name": "stderr",
     "output_type": "stream",
     "text": [
      "[contract_parser.py:426 - nn_find_contract_value() ] vat is None\n",
      "[runner.py:106 -              process() ] analysis saved, doc._id=63c506c8e2456d59975e123e\n",
      "[703404606.py:22 -  re_analyze_contract() ] ......pre-processing 63c506c9e2456d59975e1276\n"
     ]
    },
    {
     "name": "stdout",
     "output_type": "stream",
     "text": [
      "37 ================================================================================\n"
     ]
    },
    {
     "name": "stderr",
     "output_type": "stream",
     "text": [
      "[runner.py:106 -              process() ] analysis saved, doc._id=63c506c9e2456d59975e1276\n",
      "[703404606.py:22 -  re_analyze_contract() ] ......pre-processing 63c506bbe2456d59975e10d9\n"
     ]
    },
    {
     "name": "stdout",
     "output_type": "stream",
     "text": [
      "38 ================================================================================\n"
     ]
    },
    {
     "name": "stderr",
     "output_type": "stream",
     "text": [
      "[runner.py:106 -              process() ] analysis saved, doc._id=63c506bbe2456d59975e10d9\n",
      "[703404606.py:22 -  re_analyze_contract() ] ......pre-processing 63c506afe2456d59975e0fca\n"
     ]
    },
    {
     "name": "stdout",
     "output_type": "stream",
     "text": [
      "39 ================================================================================\n"
     ]
    },
    {
     "name": "stderr",
     "output_type": "stream",
     "text": [
      "[contract_parser.py:426 - nn_find_contract_value() ] vat is None\n",
      "[runner.py:106 -              process() ] analysis saved, doc._id=63c506afe2456d59975e0fca\n",
      "[703404606.py:22 -  re_analyze_contract() ] ......pre-processing 63c506bbe2456d59975e10dd\n"
     ]
    },
    {
     "name": "stdout",
     "output_type": "stream",
     "text": [
      "40 ================================================================================\n"
     ]
    },
    {
     "name": "stderr",
     "output_type": "stream",
     "text": [
      "[runner.py:106 -              process() ] analysis saved, doc._id=63c506bbe2456d59975e10dd\n",
      "[703404606.py:22 -  re_analyze_contract() ] ......pre-processing 63c506c9e2456d59975e1276\n"
     ]
    },
    {
     "name": "stdout",
     "output_type": "stream",
     "text": [
      "41 ================================================================================\n"
     ]
    },
    {
     "name": "stderr",
     "output_type": "stream",
     "text": [
      "[runner.py:106 -              process() ] analysis saved, doc._id=63c506c9e2456d59975e1276\n",
      "[703404606.py:22 -  re_analyze_contract() ] ......pre-processing 63c506bbe2456d59975e10d9\n"
     ]
    },
    {
     "name": "stdout",
     "output_type": "stream",
     "text": [
      "42 ================================================================================\n"
     ]
    },
    {
     "name": "stderr",
     "output_type": "stream",
     "text": [
      "[runner.py:106 -              process() ] analysis saved, doc._id=63c506bbe2456d59975e10d9\n",
      "[703404606.py:22 -  re_analyze_contract() ] ......pre-processing 63c506bae2456d59975e10c1\n"
     ]
    },
    {
     "name": "stdout",
     "output_type": "stream",
     "text": [
      "43 ================================================================================\n"
     ]
    },
    {
     "name": "stderr",
     "output_type": "stream",
     "text": [
      "[legal_docs.py:116 -         warn_trimmed() ] 63c506bae2456d59975e10c1, Дог. АЗС_105.docx,  Для анализа документ обрезан из соображений производительности, допустимая длинна -- 15000 слов ✂️\n",
      "[contract_parser.py:426 - nn_find_contract_value() ] vat is None\n",
      "[runner.py:106 -              process() ] analysis saved, doc._id=63c506bae2456d59975e10c1\n",
      "[703404606.py:22 -  re_analyze_contract() ] ......pre-processing 63c506e5e2456d59975e1570\n"
     ]
    },
    {
     "name": "stdout",
     "output_type": "stream",
     "text": [
      "44 ================================================================================\n"
     ]
    },
    {
     "name": "stderr",
     "output_type": "stream",
     "text": [
      "[contract_parser.py:426 - nn_find_contract_value() ] vat is None\n",
      "[runner.py:106 -              process() ] analysis saved, doc._id=63c506e5e2456d59975e1570\n",
      "[703404606.py:22 -  re_analyze_contract() ] ......pre-processing 63c506b0e2456d59975e0fea\n"
     ]
    },
    {
     "name": "stdout",
     "output_type": "stream",
     "text": [
      "45 ================================================================================\n"
     ]
    },
    {
     "name": "stderr",
     "output_type": "stream",
     "text": [
      "[runner.py:106 -              process() ] analysis saved, doc._id=63c506b0e2456d59975e0fea\n",
      "[703404606.py:22 -  re_analyze_contract() ] ......pre-processing 63c506c7e2456d59975e1232\n"
     ]
    },
    {
     "name": "stdout",
     "output_type": "stream",
     "text": [
      "46 ================================================================================\n"
     ]
    },
    {
     "name": "stderr",
     "output_type": "stream",
     "text": [
      "[runner.py:106 -              process() ] analysis saved, doc._id=63c506c7e2456d59975e1232\n",
      "[703404606.py:22 -  re_analyze_contract() ] ......pre-processing 63c506c1e2456d59975e1187\n"
     ]
    },
    {
     "name": "stdout",
     "output_type": "stream",
     "text": [
      "47 ================================================================================\n"
     ]
    },
    {
     "name": "stderr",
     "output_type": "stream",
     "text": [
      "[contract_parser.py:412 - nn_find_contract_value() ] cannot unpack non-iterable NoneType object\n",
      "[contract_parser.py:426 - nn_find_contract_value() ] vat is None\n",
      "[runner.py:106 -              process() ] analysis saved, doc._id=63c506c1e2456d59975e1187\n",
      "[703404606.py:22 -  re_analyze_contract() ] ......pre-processing 63c506c0e2456d59975e116a\n"
     ]
    },
    {
     "name": "stdout",
     "output_type": "stream",
     "text": [
      "48 ================================================================================\n"
     ]
    },
    {
     "name": "stderr",
     "output_type": "stream",
     "text": [
      "[contract_parser.py:426 - nn_find_contract_value() ] vat is None\n",
      "[runner.py:106 -              process() ] analysis saved, doc._id=63c506c0e2456d59975e116a\n",
      "[703404606.py:22 -  re_analyze_contract() ] ......pre-processing 63c506c1e2456d59975e118c\n"
     ]
    },
    {
     "name": "stdout",
     "output_type": "stream",
     "text": [
      "49 ================================================================================\n"
     ]
    },
    {
     "name": "stderr",
     "output_type": "stream",
     "text": [
      "[runner.py:106 -              process() ] analysis saved, doc._id=63c506c1e2456d59975e118c\n",
      "[703404606.py:22 -  re_analyze_contract() ] ......pre-processing 63c506dbe2456d59975e143d\n"
     ]
    },
    {
     "name": "stdout",
     "output_type": "stream",
     "text": [
      "50 ================================================================================\n"
     ]
    },
    {
     "name": "stderr",
     "output_type": "stream",
     "text": [
      "[contract_parser.py:426 - nn_find_contract_value() ] vat is None\n",
      "[runner.py:106 -              process() ] analysis saved, doc._id=63c506dbe2456d59975e143d\n",
      "[703404606.py:22 -  re_analyze_contract() ] ......pre-processing 63c506c0e2456d59975e1170\n"
     ]
    },
    {
     "name": "stdout",
     "output_type": "stream",
     "text": [
      "51 ================================================================================\n"
     ]
    },
    {
     "name": "stderr",
     "output_type": "stream",
     "text": [
      "[runner.py:106 -              process() ] analysis saved, doc._id=63c506c0e2456d59975e1170\n",
      "[703404606.py:22 -  re_analyze_contract() ] ......pre-processing 63c506c5e2456d59975e1201\n"
     ]
    },
    {
     "name": "stdout",
     "output_type": "stream",
     "text": [
      "52 ================================================================================\n"
     ]
    },
    {
     "name": "stderr",
     "output_type": "stream",
     "text": [
      "[contract_parser.py:412 - nn_find_contract_value() ] cannot unpack non-iterable NoneType object\n",
      "[contract_parser.py:426 - nn_find_contract_value() ] vat is None\n",
      "[runner.py:106 -              process() ] analysis saved, doc._id=63c506c5e2456d59975e1201\n",
      "[703404606.py:22 -  re_analyze_contract() ] ......pre-processing 63c506bee2456d59975e1139\n"
     ]
    },
    {
     "name": "stdout",
     "output_type": "stream",
     "text": [
      "53 ================================================================================\n"
     ]
    },
    {
     "name": "stderr",
     "output_type": "stream",
     "text": [
      "[contract_parser.py:426 - nn_find_contract_value() ] vat is None\n",
      "[runner.py:106 -              process() ] analysis saved, doc._id=63c506bee2456d59975e1139\n",
      "[703404606.py:22 -  re_analyze_contract() ] ......pre-processing 63c506b9e2456d59975e10ae\n"
     ]
    },
    {
     "name": "stdout",
     "output_type": "stream",
     "text": [
      "54 ================================================================================\n"
     ]
    },
    {
     "name": "stderr",
     "output_type": "stream",
     "text": [
      "[runner.py:106 -              process() ] analysis saved, doc._id=63c506b9e2456d59975e10ae\n",
      "[703404606.py:22 -  re_analyze_contract() ] ......pre-processing 63c506e4e2456d59975e1550\n"
     ]
    },
    {
     "name": "stdout",
     "output_type": "stream",
     "text": [
      "55 ================================================================================\n"
     ]
    },
    {
     "name": "stderr",
     "output_type": "stream",
     "text": [
      "[runner.py:106 -              process() ] analysis saved, doc._id=63c506e4e2456d59975e1550\n",
      "[703404606.py:22 -  re_analyze_contract() ] ......pre-processing 63c506e4e2456d59975e1550\n"
     ]
    },
    {
     "name": "stdout",
     "output_type": "stream",
     "text": [
      "56 ================================================================================\n"
     ]
    },
    {
     "name": "stderr",
     "output_type": "stream",
     "text": [
      "[runner.py:106 -              process() ] analysis saved, doc._id=63c506e4e2456d59975e1550\n",
      "[703404606.py:22 -  re_analyze_contract() ] ......pre-processing 63c506c6e2456d59975e121e\n"
     ]
    },
    {
     "name": "stdout",
     "output_type": "stream",
     "text": [
      "57 ================================================================================\n"
     ]
    },
    {
     "name": "stderr",
     "output_type": "stream",
     "text": [
      "[runner.py:106 -              process() ] analysis saved, doc._id=63c506c6e2456d59975e121e\n",
      "[703404606.py:22 -  re_analyze_contract() ] ......pre-processing 63c506dbe2456d59975e143c\n"
     ]
    },
    {
     "name": "stdout",
     "output_type": "stream",
     "text": [
      "58 ================================================================================\n"
     ]
    },
    {
     "name": "stderr",
     "output_type": "stream",
     "text": [
      "[runner.py:106 -              process() ] analysis saved, doc._id=63c506dbe2456d59975e143c\n",
      "[703404606.py:22 -  re_analyze_contract() ] ......pre-processing 63c506ece2456d59975e15b6\n"
     ]
    },
    {
     "name": "stdout",
     "output_type": "stream",
     "text": [
      "59 ================================================================================\n"
     ]
    },
    {
     "name": "stderr",
     "output_type": "stream",
     "text": [
      "[runner.py:106 -              process() ] analysis saved, doc._id=63c506ece2456d59975e15b6\n",
      "[703404606.py:22 -  re_analyze_contract() ] ......pre-processing 63c506c9e2456d59975e1266\n"
     ]
    },
    {
     "name": "stdout",
     "output_type": "stream",
     "text": [
      "60 ================================================================================\n"
     ]
    },
    {
     "name": "stderr",
     "output_type": "stream",
     "text": [
      "[runner.py:106 -              process() ] analysis saved, doc._id=63c506c9e2456d59975e1266\n",
      "[703404606.py:22 -  re_analyze_contract() ] ......pre-processing 63c506e5e2456d59975e155d\n"
     ]
    },
    {
     "name": "stdout",
     "output_type": "stream",
     "text": [
      "61 ================================================================================\n"
     ]
    },
    {
     "name": "stderr",
     "output_type": "stream",
     "text": [
      "[contract_parser.py:426 - nn_find_contract_value() ] vat is None\n",
      "[runner.py:106 -              process() ] analysis saved, doc._id=63c506e5e2456d59975e155d\n",
      "[703404606.py:22 -  re_analyze_contract() ] ......pre-processing 63c506dfe2456d59975e14ac\n"
     ]
    },
    {
     "name": "stdout",
     "output_type": "stream",
     "text": [
      "62 ================================================================================\n"
     ]
    },
    {
     "name": "stderr",
     "output_type": "stream",
     "text": [
      "[contract_parser.py:426 - nn_find_contract_value() ] vat is None\n",
      "[runner.py:106 -              process() ] analysis saved, doc._id=63c506dfe2456d59975e14ac\n",
      "[703404606.py:22 -  re_analyze_contract() ] ......pre-processing 63c506b4e2456d59975e1041\n"
     ]
    },
    {
     "name": "stdout",
     "output_type": "stream",
     "text": [
      "63 ================================================================================\n"
     ]
    },
    {
     "name": "stderr",
     "output_type": "stream",
     "text": [
      "[contract_parser.py:426 - nn_find_contract_value() ] vat is None\n",
      "[runner.py:106 -              process() ] analysis saved, doc._id=63c506b4e2456d59975e1041\n",
      "[703404606.py:22 -  re_analyze_contract() ] ......pre-processing 63c506b0e2456d59975e0fe6\n",
      "[contract_parser.py:426 - nn_find_contract_value() ] vat is None\n"
     ]
    },
    {
     "name": "stdout",
     "output_type": "stream",
     "text": [
      "64 ================================================================================\n"
     ]
    },
    {
     "name": "stderr",
     "output_type": "stream",
     "text": [
      "[runner.py:106 -              process() ] analysis saved, doc._id=63c506b0e2456d59975e0fe6\n",
      "[703404606.py:22 -  re_analyze_contract() ] ......pre-processing 63c506b5e2456d59975e1042\n"
     ]
    },
    {
     "name": "stdout",
     "output_type": "stream",
     "text": [
      "65 ================================================================================\n"
     ]
    },
    {
     "name": "stderr",
     "output_type": "stream",
     "text": [
      "[runner.py:106 -              process() ] analysis saved, doc._id=63c506b5e2456d59975e1042\n",
      "[703404606.py:22 -  re_analyze_contract() ] ......pre-processing 63c506ebe2456d59975e1596\n"
     ]
    },
    {
     "name": "stdout",
     "output_type": "stream",
     "text": [
      "66 ================================================================================\n"
     ]
    },
    {
     "name": "stderr",
     "output_type": "stream",
     "text": [
      "[runner.py:106 -              process() ] analysis saved, doc._id=63c506ebe2456d59975e1596\n",
      "[703404606.py:22 -  re_analyze_contract() ] ......pre-processing 63c506dce2456d59975e1456\n"
     ]
    },
    {
     "name": "stdout",
     "output_type": "stream",
     "text": [
      "67 ================================================================================\n"
     ]
    },
    {
     "name": "stderr",
     "output_type": "stream",
     "text": [
      "[runner.py:106 -              process() ] analysis saved, doc._id=63c506dce2456d59975e1456\n",
      "[703404606.py:22 -  re_analyze_contract() ] ......pre-processing 63c506c0e2456d59975e116d\n"
     ]
    },
    {
     "name": "stdout",
     "output_type": "stream",
     "text": [
      "68 ================================================================================\n"
     ]
    },
    {
     "name": "stderr",
     "output_type": "stream",
     "text": [
      "[contract_parser.py:426 - nn_find_contract_value() ] vat is None\n",
      "[runner.py:106 -              process() ] analysis saved, doc._id=63c506c0e2456d59975e116d\n",
      "[703404606.py:22 -  re_analyze_contract() ] ......pre-processing 63c506d6e2456d59975e13a2\n"
     ]
    },
    {
     "name": "stdout",
     "output_type": "stream",
     "text": [
      "69 ================================================================================\n"
     ]
    },
    {
     "name": "stderr",
     "output_type": "stream",
     "text": [
      "[runner.py:106 -              process() ] analysis saved, doc._id=63c506d6e2456d59975e13a2\n",
      "[703404606.py:22 -  re_analyze_contract() ] ......pre-processing 63c506ebe2456d59975e15a2\n"
     ]
    },
    {
     "name": "stdout",
     "output_type": "stream",
     "text": [
      "70 ================================================================================\n"
     ]
    },
    {
     "name": "stderr",
     "output_type": "stream",
     "text": [
      "[contract_parser.py:426 - nn_find_contract_value() ] vat is None\n",
      "[runner.py:106 -              process() ] analysis saved, doc._id=63c506ebe2456d59975e15a2\n",
      "[703404606.py:22 -  re_analyze_contract() ] ......pre-processing 63c506d1e2456d59975e1337\n"
     ]
    },
    {
     "name": "stdout",
     "output_type": "stream",
     "text": [
      "71 ================================================================================\n"
     ]
    },
    {
     "name": "stderr",
     "output_type": "stream",
     "text": [
      "[runner.py:106 -              process() ] analysis saved, doc._id=63c506d1e2456d59975e1337\n",
      "[703404606.py:22 -  re_analyze_contract() ] ......pre-processing 63c506d2e2456d59975e1346\n"
     ]
    },
    {
     "name": "stdout",
     "output_type": "stream",
     "text": [
      "72 ================================================================================\n"
     ]
    },
    {
     "name": "stderr",
     "output_type": "stream",
     "text": [
      "[contract_parser.py:412 - nn_find_contract_value() ] cannot unpack non-iterable NoneType object\n",
      "[runner.py:106 -              process() ] analysis saved, doc._id=63c506d2e2456d59975e1346\n",
      "[703404606.py:22 -  re_analyze_contract() ] ......pre-processing 63c506c7e2456d59975e1231\n"
     ]
    },
    {
     "name": "stdout",
     "output_type": "stream",
     "text": [
      "73 ================================================================================\n"
     ]
    },
    {
     "name": "stderr",
     "output_type": "stream",
     "text": [
      "[runner.py:106 -              process() ] analysis saved, doc._id=63c506c7e2456d59975e1231\n",
      "[703404606.py:22 -  re_analyze_contract() ] ......pre-processing 63c506c6e2456d59975e1222\n",
      "[contract_parser.py:426 - nn_find_contract_value() ] vat is None\n"
     ]
    },
    {
     "name": "stdout",
     "output_type": "stream",
     "text": [
      "74 ================================================================================\n"
     ]
    },
    {
     "name": "stderr",
     "output_type": "stream",
     "text": [
      "[runner.py:106 -              process() ] analysis saved, doc._id=63c506c6e2456d59975e1222\n",
      "[703404606.py:22 -  re_analyze_contract() ] ......pre-processing 63c506cae2456d59975e1284\n"
     ]
    },
    {
     "name": "stdout",
     "output_type": "stream",
     "text": [
      "75 ================================================================================\n"
     ]
    },
    {
     "name": "stderr",
     "output_type": "stream",
     "text": [
      "[contract_parser.py:426 - nn_find_contract_value() ] vat is None\n",
      "[runner.py:106 -              process() ] analysis saved, doc._id=63c506cae2456d59975e1284\n",
      "[703404606.py:22 -  re_analyze_contract() ] ......pre-processing 63c506b7e2456d59975e107e\n"
     ]
    },
    {
     "name": "stdout",
     "output_type": "stream",
     "text": [
      "76 ================================================================================\n"
     ]
    },
    {
     "name": "stderr",
     "output_type": "stream",
     "text": [
      "[runner.py:106 -              process() ] analysis saved, doc._id=63c506b7e2456d59975e107e\n",
      "[703404606.py:22 -  re_analyze_contract() ] ......pre-processing 63c506aae2456d59975e0f82\n"
     ]
    },
    {
     "name": "stdout",
     "output_type": "stream",
     "text": [
      "77 ================================================================================\n"
     ]
    },
    {
     "name": "stderr",
     "output_type": "stream",
     "text": [
      "[legal_docs.py:116 -         warn_trimmed() ] 63c506aae2456d59975e0f82, 24.DOCX,  Для анализа документ обрезан из соображений производительности, допустимая длинна -- 15000 слов ✂️\n",
      "[runner.py:106 -              process() ] analysis saved, doc._id=63c506aae2456d59975e0f82\n",
      "[703404606.py:22 -  re_analyze_contract() ] ......pre-processing 63c506aee2456d59975e0fc8\n"
     ]
    },
    {
     "name": "stdout",
     "output_type": "stream",
     "text": [
      "78 ================================================================================\n"
     ]
    },
    {
     "name": "stderr",
     "output_type": "stream",
     "text": [
      "[contract_parser.py:426 - nn_find_contract_value() ] vat is None\n",
      "[runner.py:106 -              process() ] analysis saved, doc._id=63c506aee2456d59975e0fc8\n",
      "[703404606.py:22 -  re_analyze_contract() ] ......pre-processing 63c506b1e2456d59975e0fed\n"
     ]
    },
    {
     "name": "stdout",
     "output_type": "stream",
     "text": [
      "79 ================================================================================\n"
     ]
    },
    {
     "name": "stderr",
     "output_type": "stream",
     "text": [
      "[contract_parser.py:426 - nn_find_contract_value() ] vat is None\n",
      "[runner.py:106 -              process() ] analysis saved, doc._id=63c506b1e2456d59975e0fed\n",
      "[703404606.py:22 -  re_analyze_contract() ] ......pre-processing 63c506c5e2456d59975e11fe\n"
     ]
    },
    {
     "name": "stdout",
     "output_type": "stream",
     "text": [
      "80 ================================================================================\n"
     ]
    },
    {
     "name": "stderr",
     "output_type": "stream",
     "text": [
      "[runner.py:106 -              process() ] analysis saved, doc._id=63c506c5e2456d59975e11fe\n",
      "[703404606.py:22 -  re_analyze_contract() ] ......pre-processing 63c506c0e2456d59975e1185\n"
     ]
    },
    {
     "name": "stdout",
     "output_type": "stream",
     "text": [
      "81 ================================================================================\n"
     ]
    },
    {
     "name": "stderr",
     "output_type": "stream",
     "text": [
      "[contract_parser.py:426 - nn_find_contract_value() ] vat is None\n",
      "[runner.py:106 -              process() ] analysis saved, doc._id=63c506c0e2456d59975e1185\n",
      "[703404606.py:22 -  re_analyze_contract() ] ......pre-processing 63c506d8e2456d59975e13f2\n"
     ]
    },
    {
     "name": "stdout",
     "output_type": "stream",
     "text": [
      "82 ================================================================================\n"
     ]
    },
    {
     "name": "stderr",
     "output_type": "stream",
     "text": [
      "[legal_docs.py:116 -         warn_trimmed() ] 63c506d8e2456d59975e13f2, 21.docx,  Для анализа документ обрезан из соображений производительности, допустимая длинна -- 15000 слов ✂️\n",
      "[contract_parser.py:426 - nn_find_contract_value() ] vat is None\n",
      "[runner.py:106 -              process() ] analysis saved, doc._id=63c506d8e2456d59975e13f2\n",
      "[703404606.py:22 -  re_analyze_contract() ] ......pre-processing 63c506d4e2456d59975e1386\n"
     ]
    },
    {
     "name": "stdout",
     "output_type": "stream",
     "text": [
      "83 ================================================================================\n"
     ]
    },
    {
     "name": "stderr",
     "output_type": "stream",
     "text": [
      "[legal_docs.py:116 -         warn_trimmed() ] 63c506d4e2456d59975e1386, 22.docx,  Для анализа документ обрезан из соображений производительности, допустимая длинна -- 15000 слов ✂️\n",
      "[contract_parser.py:426 - nn_find_contract_value() ] vat is None\n",
      "[runner.py:106 -              process() ] analysis saved, doc._id=63c506d4e2456d59975e1386\n",
      "[703404606.py:22 -  re_analyze_contract() ] ......pre-processing 63c506d9e2456d59975e13ff\n"
     ]
    },
    {
     "name": "stdout",
     "output_type": "stream",
     "text": [
      "84 ================================================================================\n"
     ]
    },
    {
     "name": "stderr",
     "output_type": "stream",
     "text": [
      "[runner.py:106 -              process() ] analysis saved, doc._id=63c506d9e2456d59975e13ff\n",
      "[703404606.py:22 -  re_analyze_contract() ] ......pre-processing 63c506bbe2456d59975e10e2\n"
     ]
    },
    {
     "name": "stdout",
     "output_type": "stream",
     "text": [
      "85 ================================================================================\n"
     ]
    },
    {
     "name": "stderr",
     "output_type": "stream",
     "text": [
      "[contract_parser.py:426 - nn_find_contract_value() ] vat is None\n",
      "[runner.py:106 -              process() ] analysis saved, doc._id=63c506bbe2456d59975e10e2\n",
      "[703404606.py:22 -  re_analyze_contract() ] ......pre-processing 63c506dee2456d59975e148b\n"
     ]
    },
    {
     "name": "stdout",
     "output_type": "stream",
     "text": [
      "86 ================================================================================\n"
     ]
    },
    {
     "name": "stderr",
     "output_type": "stream",
     "text": [
      "[legal_docs.py:116 -         warn_trimmed() ] 63c506dee2456d59975e148b, Договор 3 (2).docx,  Для анализа документ обрезан из соображений производительности, допустимая длинна -- 15000 слов ✂️\n",
      "[runner.py:106 -              process() ] analysis saved, doc._id=63c506dee2456d59975e148b\n",
      "[703404606.py:22 -  re_analyze_contract() ] ......pre-processing 63c506e0e2456d59975e14e2\n"
     ]
    },
    {
     "name": "stdout",
     "output_type": "stream",
     "text": [
      "87 ================================================================================\n"
     ]
    },
    {
     "name": "stderr",
     "output_type": "stream",
     "text": [
      "[contract_parser.py:426 - nn_find_contract_value() ] vat is None\n",
      "[runner.py:106 -              process() ] analysis saved, doc._id=63c506e0e2456d59975e14e2\n",
      "[703404606.py:22 -  re_analyze_contract() ] ......pre-processing 63c506e1e2456d59975e14e4\n"
     ]
    },
    {
     "name": "stdout",
     "output_type": "stream",
     "text": [
      "88 ================================================================================\n"
     ]
    },
    {
     "name": "stderr",
     "output_type": "stream",
     "text": [
      "[contract_parser.py:426 - nn_find_contract_value() ] vat is None\n",
      "[runner.py:106 -              process() ] analysis saved, doc._id=63c506e1e2456d59975e14e4\n",
      "[703404606.py:22 -  re_analyze_contract() ] ......pre-processing 63c506b3e2456d59975e102b\n"
     ]
    },
    {
     "name": "stdout",
     "output_type": "stream",
     "text": [
      "89 ================================================================================\n"
     ]
    },
    {
     "name": "stderr",
     "output_type": "stream",
     "text": [
      "[contract_parser.py:426 - nn_find_contract_value() ] vat is None\n",
      "[runner.py:106 -              process() ] analysis saved, doc._id=63c506b3e2456d59975e102b\n",
      "[703404606.py:22 -  re_analyze_contract() ] ......pre-processing 63c506e5e2456d59975e156b\n",
      "[runner.py:106 -              process() ] analysis saved, doc._id=63c506e5e2456d59975e156b\n",
      "[703404606.py:22 -  re_analyze_contract() ] ......pre-processing 63c506c4e2456d59975e11e3\n"
     ]
    },
    {
     "name": "stdout",
     "output_type": "stream",
     "text": [
      "90 ================================================================================\n",
      "91 ================================================================================\n"
     ]
    },
    {
     "name": "stderr",
     "output_type": "stream",
     "text": [
      "[contract_parser.py:426 - nn_find_contract_value() ] vat is None\n",
      "[runner.py:106 -              process() ] analysis saved, doc._id=63c506c4e2456d59975e11e3\n",
      "[703404606.py:22 -  re_analyze_contract() ] ......pre-processing 63c506c2e2456d59975e11a8\n"
     ]
    },
    {
     "name": "stdout",
     "output_type": "stream",
     "text": [
      "92 ================================================================================\n"
     ]
    },
    {
     "name": "stderr",
     "output_type": "stream",
     "text": [
      "[contract_parser.py:426 - nn_find_contract_value() ] vat is None\n",
      "[runner.py:106 -              process() ] analysis saved, doc._id=63c506c2e2456d59975e11a8\n",
      "[703404606.py:22 -  re_analyze_contract() ] ......pre-processing 63c506c9e2456d59975e127f\n"
     ]
    },
    {
     "name": "stdout",
     "output_type": "stream",
     "text": [
      "93 ================================================================================\n"
     ]
    },
    {
     "name": "stderr",
     "output_type": "stream",
     "text": [
      "[runner.py:106 -              process() ] analysis saved, doc._id=63c506c9e2456d59975e127f\n",
      "[703404606.py:22 -  re_analyze_contract() ] ......pre-processing 63c506cfe2456d59975e12fa\n"
     ]
    },
    {
     "name": "stdout",
     "output_type": "stream",
     "text": [
      "94 ================================================================================\n"
     ]
    },
    {
     "name": "stderr",
     "output_type": "stream",
     "text": [
      "[contract_parser.py:426 - nn_find_contract_value() ] vat is None\n",
      "[runner.py:106 -              process() ] analysis saved, doc._id=63c506cfe2456d59975e12fa\n",
      "[703404606.py:22 -  re_analyze_contract() ] ......pre-processing 63c506e3e2456d59975e1519\n"
     ]
    },
    {
     "name": "stdout",
     "output_type": "stream",
     "text": [
      "95 ================================================================================\n"
     ]
    },
    {
     "name": "stderr",
     "output_type": "stream",
     "text": [
      "[runner.py:106 -              process() ] analysis saved, doc._id=63c506e3e2456d59975e1519\n",
      "[703404606.py:22 -  re_analyze_contract() ] ......pre-processing 63c506c0e2456d59975e1182\n"
     ]
    },
    {
     "name": "stdout",
     "output_type": "stream",
     "text": [
      "96 ================================================================================\n"
     ]
    },
    {
     "name": "stderr",
     "output_type": "stream",
     "text": [
      "[contract_parser.py:426 - nn_find_contract_value() ] vat is None\n",
      "[runner.py:106 -              process() ] analysis saved, doc._id=63c506c0e2456d59975e1182\n",
      "[703404606.py:22 -  re_analyze_contract() ] ......pre-processing 63c506d0e2456d59975e1319\n"
     ]
    },
    {
     "name": "stdout",
     "output_type": "stream",
     "text": [
      "97 ================================================================================\n"
     ]
    },
    {
     "name": "stderr",
     "output_type": "stream",
     "text": [
      "[runner.py:106 -              process() ] analysis saved, doc._id=63c506d0e2456d59975e1319\n",
      "[703404606.py:22 -  re_analyze_contract() ] ......pre-processing 63c506d1e2456d59975e1341\n"
     ]
    },
    {
     "name": "stdout",
     "output_type": "stream",
     "text": [
      "98 ================================================================================\n"
     ]
    },
    {
     "name": "stderr",
     "output_type": "stream",
     "text": [
      "[runner.py:106 -              process() ] analysis saved, doc._id=63c506d1e2456d59975e1341\n",
      "[703404606.py:22 -  re_analyze_contract() ] ......pre-processing 63c506c8e2456d59975e1259\n"
     ]
    },
    {
     "name": "stdout",
     "output_type": "stream",
     "text": [
      "99 ================================================================================\n"
     ]
    },
    {
     "name": "stderr",
     "output_type": "stream",
     "text": [
      "[contract_parser.py:412 - nn_find_contract_value() ] cannot unpack non-iterable NoneType object\n",
      "[contract_parser.py:426 - nn_find_contract_value() ] vat is None\n",
      "[runner.py:106 -              process() ] analysis saved, doc._id=63c506c8e2456d59975e1259\n",
      "[703404606.py:22 -  re_analyze_contract() ] ......pre-processing 63c506c1e2456d59975e1194\n"
     ]
    },
    {
     "name": "stdout",
     "output_type": "stream",
     "text": [
      "100 ================================================================================\n"
     ]
    },
    {
     "name": "stderr",
     "output_type": "stream",
     "text": [
      "[contract_parser.py:426 - nn_find_contract_value() ] vat is None\n",
      "[runner.py:106 -              process() ] analysis saved, doc._id=63c506c1e2456d59975e1194\n",
      "[703404606.py:22 -  re_analyze_contract() ] ......pre-processing 63c506dde2456d59975e146a\n"
     ]
    },
    {
     "name": "stdout",
     "output_type": "stream",
     "text": [
      "101 ================================================================================\n"
     ]
    },
    {
     "name": "stderr",
     "output_type": "stream",
     "text": [
      "[runner.py:106 -              process() ] analysis saved, doc._id=63c506dde2456d59975e146a\n",
      "[703404606.py:22 -  re_analyze_contract() ] ......pre-processing 63c506cde2456d59975e12e6\n",
      "[contract_parser.py:426 - nn_find_contract_value() ] vat is None\n",
      "[runner.py:106 -              process() ] analysis saved, doc._id=63c506cde2456d59975e12e6\n",
      "[703404606.py:22 -  re_analyze_contract() ] ......pre-processing 63c506cfe2456d59975e1301\n"
     ]
    },
    {
     "name": "stdout",
     "output_type": "stream",
     "text": [
      "102 ================================================================================\n",
      "103 ================================================================================\n"
     ]
    },
    {
     "name": "stderr",
     "output_type": "stream",
     "text": [
      "[runner.py:106 -              process() ] analysis saved, doc._id=63c506cfe2456d59975e1301\n",
      "[703404606.py:22 -  re_analyze_contract() ] ......pre-processing 63c506abe2456d59975e0f95\n"
     ]
    },
    {
     "name": "stdout",
     "output_type": "stream",
     "text": [
      "104 ================================================================================\n"
     ]
    },
    {
     "name": "stderr",
     "output_type": "stream",
     "text": [
      "[contract_parser.py:426 - nn_find_contract_value() ] vat is None\n",
      "[runner.py:106 -              process() ] analysis saved, doc._id=63c506abe2456d59975e0f95\n",
      "[703404606.py:22 -  re_analyze_contract() ] ......pre-processing 63c506b8e2456d59975e108b\n"
     ]
    },
    {
     "name": "stdout",
     "output_type": "stream",
     "text": [
      "105 ================================================================================\n"
     ]
    },
    {
     "name": "stderr",
     "output_type": "stream",
     "text": [
      "[runner.py:106 -              process() ] analysis saved, doc._id=63c506b8e2456d59975e108b\n",
      "[703404606.py:22 -  re_analyze_contract() ] ......pre-processing 63c506dde2456d59975e1469\n"
     ]
    },
    {
     "name": "stdout",
     "output_type": "stream",
     "text": [
      "106 ================================================================================\n"
     ]
    },
    {
     "name": "stderr",
     "output_type": "stream",
     "text": [
      "[contract_parser.py:426 - nn_find_contract_value() ] vat is None\n",
      "[runner.py:106 -              process() ] analysis saved, doc._id=63c506dde2456d59975e1469\n",
      "[703404606.py:22 -  re_analyze_contract() ] ......pre-processing 63c506bbe2456d59975e10d7\n",
      "[contract_parser.py:426 - nn_find_contract_value() ] vat is None\n",
      "[runner.py:106 -              process() ] analysis saved, doc._id=63c506bbe2456d59975e10d7\n",
      "[703404606.py:22 -  re_analyze_contract() ] ......pre-processing 63c506dde2456d59975e1469\n"
     ]
    },
    {
     "name": "stdout",
     "output_type": "stream",
     "text": [
      "107 ================================================================================\n",
      "108 ================================================================================\n"
     ]
    },
    {
     "name": "stderr",
     "output_type": "stream",
     "text": [
      "[contract_parser.py:426 - nn_find_contract_value() ] vat is None\n",
      "[runner.py:106 -              process() ] analysis saved, doc._id=63c506dde2456d59975e1469\n",
      "[703404606.py:22 -  re_analyze_contract() ] ......pre-processing 63c506ebe2456d59975e1599\n",
      "[contract_parser.py:426 - nn_find_contract_value() ] vat is None\n",
      "[runner.py:106 -              process() ] analysis saved, doc._id=63c506ebe2456d59975e1599\n"
     ]
    },
    {
     "name": "stdout",
     "output_type": "stream",
     "text": [
      "109 ================================================================================\n",
      "110 ================================================================================\n"
     ]
    },
    {
     "name": "stderr",
     "output_type": "stream",
     "text": [
      "[703404606.py:22 -  re_analyze_contract() ] ......pre-processing 63c506b9e2456d59975e10aa\n",
      "[contract_parser.py:426 - nn_find_contract_value() ] vat is None\n",
      "[runner.py:106 -              process() ] analysis saved, doc._id=63c506b9e2456d59975e10aa\n",
      "[703404606.py:22 -  re_analyze_contract() ] ......pre-processing 63c506bde2456d59975e1118\n"
     ]
    },
    {
     "name": "stdout",
     "output_type": "stream",
     "text": [
      "111 ================================================================================\n"
     ]
    },
    {
     "name": "stderr",
     "output_type": "stream",
     "text": [
      "[runner.py:106 -              process() ] analysis saved, doc._id=63c506bde2456d59975e1118\n",
      "[703404606.py:22 -  re_analyze_contract() ] ......pre-processing 63c506b9e2456d59975e10b5\n"
     ]
    },
    {
     "name": "stdout",
     "output_type": "stream",
     "text": [
      "112 ================================================================================\n"
     ]
    },
    {
     "name": "stderr",
     "output_type": "stream",
     "text": [
      "[contract_parser.py:426 - nn_find_contract_value() ] vat is None\n",
      "[runner.py:106 -              process() ] analysis saved, doc._id=63c506b9e2456d59975e10b5\n",
      "[703404606.py:22 -  re_analyze_contract() ] ......pre-processing 63c506cce2456d59975e12c3\n"
     ]
    },
    {
     "name": "stdout",
     "output_type": "stream",
     "text": [
      "113 ================================================================================\n"
     ]
    },
    {
     "name": "stderr",
     "output_type": "stream",
     "text": [
      "[contract_parser.py:426 - nn_find_contract_value() ] vat is None\n",
      "[runner.py:106 -              process() ] analysis saved, doc._id=63c506cce2456d59975e12c3\n",
      "[703404606.py:22 -  re_analyze_contract() ] ......pre-processing 63c506b0e2456d59975e0fe7\n"
     ]
    },
    {
     "name": "stdout",
     "output_type": "stream",
     "text": [
      "114 ================================================================================\n"
     ]
    },
    {
     "name": "stderr",
     "output_type": "stream",
     "text": [
      "[contract_parser.py:426 - nn_find_contract_value() ] vat is None\n",
      "[runner.py:106 -              process() ] analysis saved, doc._id=63c506b0e2456d59975e0fe7\n",
      "[703404606.py:22 -  re_analyze_contract() ] ......pre-processing 63c506bde2456d59975e111f\n"
     ]
    },
    {
     "name": "stdout",
     "output_type": "stream",
     "text": [
      "115 ================================================================================\n"
     ]
    },
    {
     "name": "stderr",
     "output_type": "stream",
     "text": [
      "[runner.py:106 -              process() ] analysis saved, doc._id=63c506bde2456d59975e111f\n",
      "[703404606.py:22 -  re_analyze_contract() ] ......pre-processing 63c506bde2456d59975e1120\n"
     ]
    },
    {
     "name": "stdout",
     "output_type": "stream",
     "text": [
      "116 ================================================================================\n"
     ]
    },
    {
     "name": "stderr",
     "output_type": "stream",
     "text": [
      "[runner.py:106 -              process() ] analysis saved, doc._id=63c506bde2456d59975e1120\n",
      "[703404606.py:22 -  re_analyze_contract() ] ......pre-processing 63c506ace2456d59975e0f9e\n",
      "[contract_parser.py:426 - nn_find_contract_value() ] vat is None\n"
     ]
    },
    {
     "name": "stdout",
     "output_type": "stream",
     "text": [
      "117 ================================================================================\n"
     ]
    },
    {
     "name": "stderr",
     "output_type": "stream",
     "text": [
      "[runner.py:106 -              process() ] analysis saved, doc._id=63c506ace2456d59975e0f9e\n",
      "[703404606.py:22 -  re_analyze_contract() ] ......pre-processing 63c506bde2456d59975e1122\n"
     ]
    },
    {
     "name": "stdout",
     "output_type": "stream",
     "text": [
      "118 ================================================================================\n"
     ]
    },
    {
     "name": "stderr",
     "output_type": "stream",
     "text": [
      "[runner.py:106 -              process() ] analysis saved, doc._id=63c506bde2456d59975e1122\n",
      "[703404606.py:22 -  re_analyze_contract() ] ......pre-processing 63c506b5e2456d59975e1059\n"
     ]
    },
    {
     "name": "stdout",
     "output_type": "stream",
     "text": [
      "119 ================================================================================\n"
     ]
    },
    {
     "name": "stderr",
     "output_type": "stream",
     "text": [
      "[runner.py:106 -              process() ] analysis saved, doc._id=63c506b5e2456d59975e1059\n",
      "[703404606.py:22 -  re_analyze_contract() ] ......pre-processing 63c506bde2456d59975e1123\n",
      "[runner.py:106 -              process() ] analysis saved, doc._id=63c506bde2456d59975e1123\n",
      "[703404606.py:22 -  re_analyze_contract() ] ......pre-processing 63c506bee2456d59975e112a\n"
     ]
    },
    {
     "name": "stdout",
     "output_type": "stream",
     "text": [
      "120 ================================================================================\n",
      "121 ================================================================================\n"
     ]
    },
    {
     "name": "stderr",
     "output_type": "stream",
     "text": [
      "[legal_docs.py:116 -         warn_trimmed() ] 63c506bee2456d59975e112a, Договор подряда эксплуатация.docx,  Для анализа документ обрезан из соображений производительности, допустимая длинна -- 15000 слов ✂️\n",
      "[runner.py:106 -              process() ] analysis saved, doc._id=63c506bee2456d59975e112a\n",
      "[703404606.py:22 -  re_analyze_contract() ] ......pre-processing 63c506abe2456d59975e0f8f\n"
     ]
    },
    {
     "name": "stdout",
     "output_type": "stream",
     "text": [
      "122 ================================================================================\n"
     ]
    },
    {
     "name": "stderr",
     "output_type": "stream",
     "text": [
      "[contract_parser.py:426 - nn_find_contract_value() ] vat is None\n",
      "[runner.py:106 -              process() ] analysis saved, doc._id=63c506abe2456d59975e0f8f\n",
      "[703404606.py:22 -  re_analyze_contract() ] ......pre-processing 63c506b6e2456d59975e105d\n"
     ]
    },
    {
     "name": "stdout",
     "output_type": "stream",
     "text": [
      "123 ================================================================================\n"
     ]
    },
    {
     "name": "stderr",
     "output_type": "stream",
     "text": [
      "[contract_parser.py:426 - nn_find_contract_value() ] vat is None\n",
      "[runner.py:106 -              process() ] analysis saved, doc._id=63c506b6e2456d59975e105d\n",
      "[703404606.py:22 -  re_analyze_contract() ] ......pre-processing 63c506bfe2456d59975e1144\n"
     ]
    },
    {
     "name": "stdout",
     "output_type": "stream",
     "text": [
      "124 ================================================================================\n"
     ]
    },
    {
     "name": "stderr",
     "output_type": "stream",
     "text": [
      "[runner.py:106 -              process() ] analysis saved, doc._id=63c506bfe2456d59975e1144\n",
      "[703404606.py:22 -  re_analyze_contract() ] ......pre-processing 63c506bfe2456d59975e1147\n"
     ]
    },
    {
     "name": "stdout",
     "output_type": "stream",
     "text": [
      "125 ================================================================================\n"
     ]
    },
    {
     "name": "stderr",
     "output_type": "stream",
     "text": [
      "[contract_parser.py:426 - nn_find_contract_value() ] vat is None\n",
      "[runner.py:106 -              process() ] analysis saved, doc._id=63c506bfe2456d59975e1147\n",
      "[703404606.py:22 -  re_analyze_contract() ] ......pre-processing 63c506bfe2456d59975e114c\n"
     ]
    },
    {
     "name": "stdout",
     "output_type": "stream",
     "text": [
      "126 ================================================================================\n"
     ]
    },
    {
     "name": "stderr",
     "output_type": "stream",
     "text": [
      "[contract_parser.py:426 - nn_find_contract_value() ] vat is None\n",
      "[runner.py:106 -              process() ] analysis saved, doc._id=63c506bfe2456d59975e114c\n",
      "[703404606.py:22 -  re_analyze_contract() ] ......pre-processing 63c506b6e2456d59975e1070\n"
     ]
    },
    {
     "name": "stdout",
     "output_type": "stream",
     "text": [
      "127 ================================================================================\n"
     ]
    },
    {
     "name": "stderr",
     "output_type": "stream",
     "text": [
      "[runner.py:106 -              process() ] analysis saved, doc._id=63c506b6e2456d59975e1070\n",
      "[703404606.py:22 -  re_analyze_contract() ] ......pre-processing 63c506abe2456d59975e0f92\n"
     ]
    },
    {
     "name": "stdout",
     "output_type": "stream",
     "text": [
      "128 ================================================================================\n"
     ]
    },
    {
     "name": "stderr",
     "output_type": "stream",
     "text": [
      "[runner.py:106 -              process() ] analysis saved, doc._id=63c506abe2456d59975e0f92\n",
      "[703404606.py:22 -  re_analyze_contract() ] ......pre-processing 63c506b1e2456d59975e1005\n"
     ]
    },
    {
     "name": "stdout",
     "output_type": "stream",
     "text": [
      "129 ================================================================================\n"
     ]
    },
    {
     "name": "stderr",
     "output_type": "stream",
     "text": [
      "[runner.py:106 -              process() ] analysis saved, doc._id=63c506b1e2456d59975e1005\n",
      "[703404606.py:22 -  re_analyze_contract() ] ......pre-processing 63c506b7e2456d59975e107a\n"
     ]
    },
    {
     "name": "stdout",
     "output_type": "stream",
     "text": [
      "130 ================================================================================\n"
     ]
    },
    {
     "name": "stderr",
     "output_type": "stream",
     "text": [
      "[contract_parser.py:426 - nn_find_contract_value() ] vat is None\n",
      "[runner.py:106 -              process() ] analysis saved, doc._id=63c506b7e2456d59975e107a\n",
      "[703404606.py:22 -  re_analyze_contract() ] ......pre-processing 63c506b7e2456d59975e107b\n"
     ]
    },
    {
     "name": "stdout",
     "output_type": "stream",
     "text": [
      "131 ================================================================================\n"
     ]
    },
    {
     "name": "stderr",
     "output_type": "stream",
     "text": [
      "[contract_parser.py:426 - nn_find_contract_value() ] vat is None\n",
      "[runner.py:106 -              process() ] analysis saved, doc._id=63c506b7e2456d59975e107b\n",
      "[703404606.py:22 -  re_analyze_contract() ] ......pre-processing 63c506c0e2456d59975e117b\n"
     ]
    },
    {
     "name": "stdout",
     "output_type": "stream",
     "text": [
      "132 ================================================================================\n"
     ]
    },
    {
     "name": "stderr",
     "output_type": "stream",
     "text": [
      "[contract_parser.py:426 - nn_find_contract_value() ] vat is None\n",
      "[runner.py:106 -              process() ] analysis saved, doc._id=63c506c0e2456d59975e117b\n",
      "[703404606.py:22 -  re_analyze_contract() ] ......pre-processing 63c506c1e2456d59975e1186\n"
     ]
    },
    {
     "name": "stdout",
     "output_type": "stream",
     "text": [
      "133 ================================================================================\n"
     ]
    },
    {
     "name": "stderr",
     "output_type": "stream",
     "text": [
      "[contract_parser.py:426 - nn_find_contract_value() ] vat is None\n",
      "[runner.py:106 -              process() ] analysis saved, doc._id=63c506c1e2456d59975e1186\n",
      "[703404606.py:22 -  re_analyze_contract() ] ......pre-processing 63c506b2e2456d59975e1007\n"
     ]
    },
    {
     "name": "stdout",
     "output_type": "stream",
     "text": [
      "134 ================================================================================\n"
     ]
    },
    {
     "name": "stderr",
     "output_type": "stream",
     "text": [
      "[legal_docs.py:116 -         warn_trimmed() ] 63c506b2e2456d59975e1007, 29.docx,  Для анализа документ обрезан из соображений производительности, допустимая длинна -- 15000 слов ✂️\n",
      "[runner.py:106 -              process() ] analysis saved, doc._id=63c506b2e2456d59975e1007\n",
      "[703404606.py:22 -  re_analyze_contract() ] ......pre-processing 63c506c1e2456d59975e1188\n"
     ]
    },
    {
     "name": "stdout",
     "output_type": "stream",
     "text": [
      "135 ================================================================================\n"
     ]
    },
    {
     "name": "stderr",
     "output_type": "stream",
     "text": [
      "[contract_parser.py:426 - nn_find_contract_value() ] vat is None\n",
      "[runner.py:106 -              process() ] analysis saved, doc._id=63c506c1e2456d59975e1188\n",
      "[703404606.py:22 -  re_analyze_contract() ] ......pre-processing 63c506b2e2456d59975e1009\n"
     ]
    },
    {
     "name": "stdout",
     "output_type": "stream",
     "text": [
      "136 ================================================================================\n"
     ]
    },
    {
     "name": "stderr",
     "output_type": "stream",
     "text": [
      "[runner.py:106 -              process() ] analysis saved, doc._id=63c506b2e2456d59975e1009\n",
      "[703404606.py:22 -  re_analyze_contract() ] ......pre-processing 63c506c1e2456d59975e119b\n"
     ]
    },
    {
     "name": "stdout",
     "output_type": "stream",
     "text": [
      "137 ================================================================================\n"
     ]
    },
    {
     "name": "stderr",
     "output_type": "stream",
     "text": [
      "[contract_parser.py:426 - nn_find_contract_value() ] vat is None\n",
      "[runner.py:106 -              process() ] analysis saved, doc._id=63c506c1e2456d59975e119b\n",
      "[703404606.py:22 -  re_analyze_contract() ] ......pre-processing 63c506c1e2456d59975e119f\n"
     ]
    },
    {
     "name": "stdout",
     "output_type": "stream",
     "text": [
      "138 ================================================================================\n"
     ]
    },
    {
     "name": "stderr",
     "output_type": "stream",
     "text": [
      "[contract_parser.py:426 - nn_find_contract_value() ] vat is None\n",
      "[runner.py:106 -              process() ] analysis saved, doc._id=63c506c1e2456d59975e119f\n",
      "[703404606.py:22 -  re_analyze_contract() ] ......pre-processing 63c506c2e2456d59975e11a3\n"
     ]
    },
    {
     "name": "stdout",
     "output_type": "stream",
     "text": [
      "139 ================================================================================\n"
     ]
    },
    {
     "name": "stderr",
     "output_type": "stream",
     "text": [
      "[runner.py:106 -              process() ] analysis saved, doc._id=63c506c2e2456d59975e11a3\n",
      "[703404606.py:22 -  re_analyze_contract() ] ......pre-processing 63c506b8e2456d59975e109e\n"
     ]
    },
    {
     "name": "stdout",
     "output_type": "stream",
     "text": [
      "140 ================================================================================\n"
     ]
    },
    {
     "name": "stderr",
     "output_type": "stream",
     "text": [
      "[contract_parser.py:426 - nn_find_contract_value() ] vat is None\n",
      "[runner.py:106 -              process() ] analysis saved, doc._id=63c506b8e2456d59975e109e\n",
      "[703404606.py:22 -  re_analyze_contract() ] ......pre-processing 63c506c2e2456d59975e11ae\n"
     ]
    },
    {
     "name": "stdout",
     "output_type": "stream",
     "text": [
      "141 ================================================================================\n"
     ]
    },
    {
     "name": "stderr",
     "output_type": "stream",
     "text": [
      "[contract_parser.py:426 - nn_find_contract_value() ] vat is None\n",
      "[runner.py:106 -              process() ] analysis saved, doc._id=63c506c2e2456d59975e11ae\n",
      "[703404606.py:22 -  re_analyze_contract() ] ......pre-processing 63c506aee2456d59975e0fc1\n"
     ]
    },
    {
     "name": "stdout",
     "output_type": "stream",
     "text": [
      "142 ================================================================================\n"
     ]
    },
    {
     "name": "stderr",
     "output_type": "stream",
     "text": [
      "[contract_parser.py:426 - nn_find_contract_value() ] vat is None\n",
      "[runner.py:106 -              process() ] analysis saved, doc._id=63c506aee2456d59975e0fc1\n",
      "[703404606.py:22 -  re_analyze_contract() ] ......pre-processing 63c506b3e2456d59975e1019\n"
     ]
    },
    {
     "name": "stdout",
     "output_type": "stream",
     "text": [
      "143 ================================================================================\n"
     ]
    },
    {
     "name": "stderr",
     "output_type": "stream",
     "text": [
      "[contract_parser.py:426 - nn_find_contract_value() ] vat is None\n",
      "[runner.py:106 -              process() ] analysis saved, doc._id=63c506b3e2456d59975e1019\n",
      "[703404606.py:22 -  re_analyze_contract() ] ......pre-processing 63c506c3e2456d59975e11c3\n"
     ]
    },
    {
     "name": "stdout",
     "output_type": "stream",
     "text": [
      "144 ================================================================================\n"
     ]
    },
    {
     "name": "stderr",
     "output_type": "stream",
     "text": [
      "[runner.py:106 -              process() ] analysis saved, doc._id=63c506c3e2456d59975e11c3\n",
      "[703404606.py:22 -  re_analyze_contract() ] ......pre-processing 63c506b9e2456d59975e10a8\n"
     ]
    },
    {
     "name": "stdout",
     "output_type": "stream",
     "text": [
      "145 ================================================================================\n"
     ]
    },
    {
     "name": "stderr",
     "output_type": "stream",
     "text": [
      "[runner.py:106 -              process() ] analysis saved, doc._id=63c506b9e2456d59975e10a8\n",
      "[703404606.py:22 -  re_analyze_contract() ] ......pre-processing 63c506c3e2456d59975e11d2\n"
     ]
    },
    {
     "name": "stdout",
     "output_type": "stream",
     "text": [
      "146 ================================================================================\n"
     ]
    },
    {
     "name": "stderr",
     "output_type": "stream",
     "text": [
      "[contract_parser.py:426 - nn_find_contract_value() ] vat is None\n",
      "[runner.py:106 -              process() ] analysis saved, doc._id=63c506c3e2456d59975e11d2\n",
      "[703404606.py:22 -  re_analyze_contract() ] ......pre-processing 63c506c3e2456d59975e11d6\n"
     ]
    },
    {
     "name": "stdout",
     "output_type": "stream",
     "text": [
      "147 ================================================================================\n"
     ]
    },
    {
     "name": "stderr",
     "output_type": "stream",
     "text": [
      "[runner.py:106 -              process() ] analysis saved, doc._id=63c506c3e2456d59975e11d6\n",
      "[703404606.py:22 -  re_analyze_contract() ] ......pre-processing 63c506c4e2456d59975e11da\n"
     ]
    },
    {
     "name": "stdout",
     "output_type": "stream",
     "text": [
      "148 ================================================================================\n"
     ]
    },
    {
     "name": "stderr",
     "output_type": "stream",
     "text": [
      "[contract_parser.py:426 - nn_find_contract_value() ] vat is None\n",
      "[runner.py:106 -              process() ] analysis saved, doc._id=63c506c4e2456d59975e11da\n",
      "[703404606.py:22 -  re_analyze_contract() ] ......pre-processing 63c506c4e2456d59975e11dd\n"
     ]
    },
    {
     "name": "stdout",
     "output_type": "stream",
     "text": [
      "149 ================================================================================\n"
     ]
    },
    {
     "name": "stderr",
     "output_type": "stream",
     "text": [
      "[runner.py:106 -              process() ] analysis saved, doc._id=63c506c4e2456d59975e11dd\n",
      "[703404606.py:22 -  re_analyze_contract() ] ......pre-processing 63c506c9e2456d59975e1271\n",
      "[contract_parser.py:426 - nn_find_contract_value() ] vat is None\n"
     ]
    },
    {
     "name": "stdout",
     "output_type": "stream",
     "text": [
      "150 ================================================================================\n"
     ]
    },
    {
     "name": "stderr",
     "output_type": "stream",
     "text": [
      "[runner.py:106 -              process() ] analysis saved, doc._id=63c506c9e2456d59975e1271\n",
      "[703404606.py:22 -  re_analyze_contract() ] ......pre-processing 63c506bbe2456d59975e10d4\n"
     ]
    },
    {
     "name": "stdout",
     "output_type": "stream",
     "text": [
      "151 ================================================================================\n"
     ]
    },
    {
     "name": "stderr",
     "output_type": "stream",
     "text": [
      "[runner.py:106 -              process() ] analysis saved, doc._id=63c506bbe2456d59975e10d4\n",
      "[703404606.py:22 -  re_analyze_contract() ] ......pre-processing 63c506b4e2456d59975e103d\n"
     ]
    },
    {
     "name": "stdout",
     "output_type": "stream",
     "text": [
      "152 ================================================================================\n"
     ]
    },
    {
     "name": "stderr",
     "output_type": "stream",
     "text": [
      "[runner.py:106 -              process() ] analysis saved, doc._id=63c506b4e2456d59975e103d\n",
      "[703404606.py:22 -  re_analyze_contract() ] ......pre-processing 63c506c8e2456d59975e1261\n"
     ]
    },
    {
     "name": "stdout",
     "output_type": "stream",
     "text": [
      "153 ================================================================================\n"
     ]
    },
    {
     "name": "stderr",
     "output_type": "stream",
     "text": [
      "[runner.py:106 -              process() ] analysis saved, doc._id=63c506c8e2456d59975e1261\n",
      "[703404606.py:22 -  re_analyze_contract() ] ......pre-processing 63c506c7e2456d59975e1223\n"
     ]
    },
    {
     "name": "stdout",
     "output_type": "stream",
     "text": [
      "154 ================================================================================\n"
     ]
    },
    {
     "name": "stderr",
     "output_type": "stream",
     "text": [
      "[legal_docs.py:116 -         warn_trimmed() ] 63c506c7e2456d59975e1223, 12.docx,  Для анализа документ обрезан из соображений производительности, допустимая длинна -- 15000 слов ✂️\n",
      "[runner.py:106 -              process() ] analysis saved, doc._id=63c506c7e2456d59975e1223\n",
      "[703404606.py:22 -  re_analyze_contract() ] ......pre-processing 63c506bae2456d59975e10bf\n"
     ]
    },
    {
     "name": "stdout",
     "output_type": "stream",
     "text": [
      "155 ================================================================================\n"
     ]
    },
    {
     "name": "stderr",
     "output_type": "stream",
     "text": [
      "[contract_parser.py:426 - nn_find_contract_value() ] vat is None\n",
      "[runner.py:106 -              process() ] analysis saved, doc._id=63c506bae2456d59975e10bf\n",
      "[703404606.py:22 -  re_analyze_contract() ] ......pre-processing 63c506c8e2456d59975e125c\n",
      "[contract_parser.py:426 - nn_find_contract_value() ] vat is None\n"
     ]
    },
    {
     "name": "stdout",
     "output_type": "stream",
     "text": [
      "156 ================================================================================\n"
     ]
    },
    {
     "name": "stderr",
     "output_type": "stream",
     "text": [
      "[runner.py:106 -              process() ] analysis saved, doc._id=63c506c8e2456d59975e125c\n",
      "[703404606.py:22 -  re_analyze_contract() ] ......pre-processing 63c506c8e2456d59975e1256\n",
      "[contract_parser.py:426 - nn_find_contract_value() ] vat is None\n"
     ]
    },
    {
     "name": "stdout",
     "output_type": "stream",
     "text": [
      "157 ================================================================================\n"
     ]
    },
    {
     "name": "stderr",
     "output_type": "stream",
     "text": [
      "[runner.py:106 -              process() ] analysis saved, doc._id=63c506c8e2456d59975e1256\n",
      "[703404606.py:22 -  re_analyze_contract() ] ......pre-processing 63c506c9e2456d59975e1271\n",
      "[contract_parser.py:426 - nn_find_contract_value() ] vat is None\n"
     ]
    },
    {
     "name": "stdout",
     "output_type": "stream",
     "text": [
      "158 ================================================================================\n"
     ]
    },
    {
     "name": "stderr",
     "output_type": "stream",
     "text": [
      "[runner.py:106 -              process() ] analysis saved, doc._id=63c506c9e2456d59975e1271\n",
      "[703404606.py:22 -  re_analyze_contract() ] ......pre-processing 63c506bbe2456d59975e10d4\n"
     ]
    },
    {
     "name": "stdout",
     "output_type": "stream",
     "text": [
      "159 ================================================================================\n"
     ]
    },
    {
     "name": "stderr",
     "output_type": "stream",
     "text": [
      "[runner.py:106 -              process() ] analysis saved, doc._id=63c506bbe2456d59975e10d4\n",
      "[703404606.py:22 -  re_analyze_contract() ] ......pre-processing 63c506b4e2456d59975e103d\n"
     ]
    },
    {
     "name": "stdout",
     "output_type": "stream",
     "text": [
      "160 ================================================================================\n"
     ]
    },
    {
     "name": "stderr",
     "output_type": "stream",
     "text": [
      "[runner.py:106 -              process() ] analysis saved, doc._id=63c506b4e2456d59975e103d\n",
      "[703404606.py:22 -  re_analyze_contract() ] ......pre-processing 63c506c8e2456d59975e1261\n"
     ]
    },
    {
     "name": "stdout",
     "output_type": "stream",
     "text": [
      "161 ================================================================================\n"
     ]
    },
    {
     "name": "stderr",
     "output_type": "stream",
     "text": [
      "[runner.py:106 -              process() ] analysis saved, doc._id=63c506c8e2456d59975e1261\n",
      "[703404606.py:22 -  re_analyze_contract() ] ......pre-processing 63c506aee2456d59975e0fc5\n"
     ]
    },
    {
     "name": "stdout",
     "output_type": "stream",
     "text": [
      "162 ================================================================================\n"
     ]
    },
    {
     "name": "stderr",
     "output_type": "stream",
     "text": [
      "[runner.py:106 -              process() ] analysis saved, doc._id=63c506aee2456d59975e0fc5\n",
      "[703404606.py:22 -  re_analyze_contract() ] ......pre-processing 63c506c8e2456d59975e125c\n",
      "[contract_parser.py:426 - nn_find_contract_value() ] vat is None\n"
     ]
    },
    {
     "name": "stdout",
     "output_type": "stream",
     "text": [
      "163 ================================================================================\n"
     ]
    },
    {
     "name": "stderr",
     "output_type": "stream",
     "text": [
      "[runner.py:106 -              process() ] analysis saved, doc._id=63c506c8e2456d59975e125c\n",
      "[703404606.py:22 -  re_analyze_contract() ] ......pre-processing 63c506c8e2456d59975e1256\n"
     ]
    },
    {
     "name": "stdout",
     "output_type": "stream",
     "text": [
      "164 ================================================================================\n"
     ]
    },
    {
     "name": "stderr",
     "output_type": "stream",
     "text": [
      "[contract_parser.py:426 - nn_find_contract_value() ] vat is None\n",
      "[runner.py:106 -              process() ] analysis saved, doc._id=63c506c8e2456d59975e1256\n",
      "[703404606.py:22 -  re_analyze_contract() ] ......pre-processing 63c506afe2456d59975e0fcd\n",
      "[runner.py:63 -           preprocess() ] skipping doc 63c506afe2456d59975e0fcd because it is corrected by user\n",
      "[runner.py:96 -              process() ] skipping doc 63c506afe2456d59975e0fcd postprocessing because it is corrected by user\n",
      "[runner.py:106 -              process() ] analysis saved, doc._id=63c506afe2456d59975e0fcd\n",
      "[703404606.py:22 -  re_analyze_contract() ] ......pre-processing 63c506c8e2456d59975e1251\n"
     ]
    },
    {
     "name": "stdout",
     "output_type": "stream",
     "text": [
      "165 ================================================================================\n",
      "166 ================================================================================\n"
     ]
    },
    {
     "name": "stderr",
     "output_type": "stream",
     "text": [
      "[runner.py:106 -              process() ] analysis saved, doc._id=63c506c8e2456d59975e1251\n",
      "[703404606.py:22 -  re_analyze_contract() ] ......pre-processing 63c506abe2456d59975e0f8b\n"
     ]
    },
    {
     "name": "stdout",
     "output_type": "stream",
     "text": [
      "167 ================================================================================\n"
     ]
    },
    {
     "name": "stderr",
     "output_type": "stream",
     "text": [
      "[runner.py:106 -              process() ] analysis saved, doc._id=63c506abe2456d59975e0f8b\n",
      "[703404606.py:22 -  re_analyze_contract() ] ......pre-processing 63c506dee2456d59975e1488\n"
     ]
    },
    {
     "name": "stdout",
     "output_type": "stream",
     "text": [
      "168 ================================================================================\n"
     ]
    },
    {
     "name": "stderr",
     "output_type": "stream",
     "text": [
      "[contract_parser.py:426 - nn_find_contract_value() ] vat is None\n",
      "[runner.py:106 -              process() ] analysis saved, doc._id=63c506dee2456d59975e1488\n",
      "[703404606.py:22 -  re_analyze_contract() ] ......pre-processing 63c506c8e2456d59975e123e\n"
     ]
    },
    {
     "name": "stdout",
     "output_type": "stream",
     "text": [
      "169 ================================================================================\n"
     ]
    },
    {
     "name": "stderr",
     "output_type": "stream",
     "text": [
      "[contract_parser.py:426 - nn_find_contract_value() ] vat is None\n",
      "[runner.py:106 -              process() ] analysis saved, doc._id=63c506c8e2456d59975e123e\n",
      "[703404606.py:22 -  re_analyze_contract() ] ......pre-processing 63c506b9e2456d59975e10af\n"
     ]
    },
    {
     "name": "stdout",
     "output_type": "stream",
     "text": [
      "170 ================================================================================\n"
     ]
    },
    {
     "name": "stderr",
     "output_type": "stream",
     "text": [
      "[runner.py:106 -              process() ] analysis saved, doc._id=63c506b9e2456d59975e10af\n",
      "[703404606.py:22 -  re_analyze_contract() ] ......pre-processing 63c506c8e2456d59975e1256\n",
      "[contract_parser.py:426 - nn_find_contract_value() ] vat is None\n"
     ]
    },
    {
     "name": "stdout",
     "output_type": "stream",
     "text": [
      "171 ================================================================================\n"
     ]
    },
    {
     "name": "stderr",
     "output_type": "stream",
     "text": [
      "[runner.py:106 -              process() ] analysis saved, doc._id=63c506c8e2456d59975e1256\n",
      "[703404606.py:22 -  re_analyze_contract() ] ......pre-processing 63c506afe2456d59975e0fcd\n",
      "[runner.py:63 -           preprocess() ] skipping doc 63c506afe2456d59975e0fcd because it is corrected by user\n",
      "[runner.py:96 -              process() ] skipping doc 63c506afe2456d59975e0fcd postprocessing because it is corrected by user\n",
      "[runner.py:106 -              process() ] analysis saved, doc._id=63c506afe2456d59975e0fcd\n",
      "[703404606.py:22 -  re_analyze_contract() ] ......pre-processing 63c506c8e2456d59975e1251\n"
     ]
    },
    {
     "name": "stdout",
     "output_type": "stream",
     "text": [
      "172 ================================================================================\n",
      "173 ================================================================================\n"
     ]
    },
    {
     "name": "stderr",
     "output_type": "stream",
     "text": [
      "[runner.py:106 -              process() ] analysis saved, doc._id=63c506c8e2456d59975e1251\n",
      "[703404606.py:22 -  re_analyze_contract() ] ......pre-processing 63c506abe2456d59975e0f8b\n"
     ]
    },
    {
     "name": "stdout",
     "output_type": "stream",
     "text": [
      "174 ================================================================================\n"
     ]
    },
    {
     "name": "stderr",
     "output_type": "stream",
     "text": [
      "[runner.py:106 -              process() ] analysis saved, doc._id=63c506abe2456d59975e0f8b\n",
      "[703404606.py:22 -  re_analyze_contract() ] ......pre-processing 63c506c8e2456d59975e123e\n"
     ]
    },
    {
     "name": "stdout",
     "output_type": "stream",
     "text": [
      "175 ================================================================================\n"
     ]
    },
    {
     "name": "stderr",
     "output_type": "stream",
     "text": [
      "[contract_parser.py:426 - nn_find_contract_value() ] vat is None\n",
      "[runner.py:106 -              process() ] analysis saved, doc._id=63c506c8e2456d59975e123e\n",
      "[703404606.py:22 -  re_analyze_contract() ] ......pre-processing 63c506c4e2456d59975e11da\n"
     ]
    },
    {
     "name": "stdout",
     "output_type": "stream",
     "text": [
      "176 ================================================================================\n"
     ]
    },
    {
     "name": "stderr",
     "output_type": "stream",
     "text": [
      "[contract_parser.py:426 - nn_find_contract_value() ] vat is None\n",
      "[runner.py:106 -              process() ] analysis saved, doc._id=63c506c4e2456d59975e11da\n",
      "[703404606.py:22 -  re_analyze_contract() ] ......pre-processing 63c506dce2456d59975e1459\n"
     ]
    },
    {
     "name": "stdout",
     "output_type": "stream",
     "text": [
      "177 ================================================================================\n"
     ]
    },
    {
     "name": "stderr",
     "output_type": "stream",
     "text": [
      "[legal_docs.py:116 -         warn_trimmed() ] 63c506dce2456d59975e1459, Договор оказание услуг строительного контроля.docx,  Для анализа документ обрезан из соображений производительности, допустимая длинна -- 15000 слов ✂️\n",
      "[runner.py:106 -              process() ] analysis saved, doc._id=63c506dce2456d59975e1459\n",
      "[703404606.py:22 -  re_analyze_contract() ] ......pre-processing 63c506afe2456d59975e0fca\n"
     ]
    },
    {
     "name": "stdout",
     "output_type": "stream",
     "text": [
      "178 ================================================================================\n"
     ]
    },
    {
     "name": "stderr",
     "output_type": "stream",
     "text": [
      "[contract_parser.py:426 - nn_find_contract_value() ] vat is None\n",
      "[runner.py:106 -              process() ] analysis saved, doc._id=63c506afe2456d59975e0fca\n",
      "[703404606.py:22 -  re_analyze_contract() ] ......pre-processing 63c506c3e2456d59975e11d2\n"
     ]
    },
    {
     "name": "stdout",
     "output_type": "stream",
     "text": [
      "179 ================================================================================\n"
     ]
    },
    {
     "name": "stderr",
     "output_type": "stream",
     "text": [
      "[contract_parser.py:426 - nn_find_contract_value() ] vat is None\n",
      "[runner.py:106 -              process() ] analysis saved, doc._id=63c506c3e2456d59975e11d2\n",
      "[703404606.py:22 -  re_analyze_contract() ] ......pre-processing 63c506b9e2456d59975e10a8\n"
     ]
    },
    {
     "name": "stdout",
     "output_type": "stream",
     "text": [
      "180 ================================================================================\n"
     ]
    },
    {
     "name": "stderr",
     "output_type": "stream",
     "text": [
      "[runner.py:106 -              process() ] analysis saved, doc._id=63c506b9e2456d59975e10a8\n",
      "[703404606.py:22 -  re_analyze_contract() ] ......pre-processing 63c506c7e2456d59975e123a\n"
     ]
    },
    {
     "name": "stdout",
     "output_type": "stream",
     "text": [
      "181 ================================================================================\n"
     ]
    },
    {
     "name": "stderr",
     "output_type": "stream",
     "text": [
      "[runner.py:106 -              process() ] analysis saved, doc._id=63c506c7e2456d59975e123a\n",
      "[703404606.py:22 -  re_analyze_contract() ] ......pre-processing 63c506afe2456d59975e0fca\n"
     ]
    },
    {
     "name": "stdout",
     "output_type": "stream",
     "text": [
      "182 ================================================================================\n"
     ]
    },
    {
     "name": "stderr",
     "output_type": "stream",
     "text": [
      "[contract_parser.py:426 - nn_find_contract_value() ] vat is None\n",
      "[runner.py:106 -              process() ] analysis saved, doc._id=63c506afe2456d59975e0fca\n",
      "[703404606.py:22 -  re_analyze_contract() ] ......pre-processing 63c506dae2456d59975e1415\n",
      "[contract_parser.py:412 - nn_find_contract_value() ] cannot unpack non-iterable NoneType object\n",
      "[contract_parser.py:426 - nn_find_contract_value() ] vat is None\n",
      "[runner.py:106 -              process() ] analysis saved, doc._id=63c506dae2456d59975e1415\n"
     ]
    },
    {
     "name": "stdout",
     "output_type": "stream",
     "text": [
      "183 ================================================================================\n",
      "184 ================================================================================\n"
     ]
    },
    {
     "name": "stderr",
     "output_type": "stream",
     "text": [
      "[703404606.py:22 -  re_analyze_contract() ] ......pre-processing 63c506b8e2456d59975e109e\n",
      "[contract_parser.py:426 - nn_find_contract_value() ] vat is None\n",
      "[runner.py:106 -              process() ] analysis saved, doc._id=63c506b8e2456d59975e109e\n",
      "[703404606.py:22 -  re_analyze_contract() ] ......pre-processing 63c506c7e2456d59975e122d\n"
     ]
    },
    {
     "name": "stdout",
     "output_type": "stream",
     "text": [
      "185 ================================================================================\n"
     ]
    },
    {
     "name": "stderr",
     "output_type": "stream",
     "text": [
      "[runner.py:106 -              process() ] analysis saved, doc._id=63c506c7e2456d59975e122d\n",
      "[703404606.py:22 -  re_analyze_contract() ] ......pre-processing 63c506c2e2456d59975e11a3\n"
     ]
    },
    {
     "name": "stdout",
     "output_type": "stream",
     "text": [
      "186 ================================================================================\n"
     ]
    },
    {
     "name": "stderr",
     "output_type": "stream",
     "text": [
      "[runner.py:106 -              process() ] analysis saved, doc._id=63c506c2e2456d59975e11a3\n",
      "[703404606.py:22 -  re_analyze_contract() ] ......pre-processing 63c506b8e2456d59975e109c\n",
      "[contract_parser.py:426 - nn_find_contract_value() ] vat is None\n",
      "[runner.py:106 -              process() ] analysis saved, doc._id=63c506b8e2456d59975e109c\n",
      "[703404606.py:22 -  re_analyze_contract() ] ......pre-processing 63c506c1e2456d59975e1186\n"
     ]
    },
    {
     "name": "stdout",
     "output_type": "stream",
     "text": [
      "187 ================================================================================\n",
      "188 ================================================================================\n"
     ]
    },
    {
     "name": "stderr",
     "output_type": "stream",
     "text": [
      "[contract_parser.py:426 - nn_find_contract_value() ] vat is None\n",
      "[runner.py:106 -              process() ] analysis saved, doc._id=63c506c1e2456d59975e1186\n",
      "[703404606.py:22 -  re_analyze_contract() ] ......pre-processing 63c506bae2456d59975e10bc\n"
     ]
    },
    {
     "name": "stdout",
     "output_type": "stream",
     "text": [
      "189 ================================================================================\n"
     ]
    },
    {
     "name": "stderr",
     "output_type": "stream",
     "text": [
      "[contract_parser.py:426 - nn_find_contract_value() ] vat is None\n",
      "[runner.py:106 -              process() ] analysis saved, doc._id=63c506bae2456d59975e10bc\n",
      "[703404606.py:22 -  re_analyze_contract() ] ......pre-processing 63c506d7e2456d59975e13d6\n"
     ]
    },
    {
     "name": "stdout",
     "output_type": "stream",
     "text": [
      "190 ================================================================================\n"
     ]
    },
    {
     "name": "stderr",
     "output_type": "stream",
     "text": [
      "[contract_parser.py:426 - nn_find_contract_value() ] vat is None\n",
      "[runner.py:106 -              process() ] analysis saved, doc._id=63c506d7e2456d59975e13d6\n",
      "[703404606.py:22 -  re_analyze_contract() ] ......pre-processing 63c506c1e2456d59975e1188\n"
     ]
    },
    {
     "name": "stdout",
     "output_type": "stream",
     "text": [
      "191 ================================================================================\n"
     ]
    },
    {
     "name": "stderr",
     "output_type": "stream",
     "text": [
      "[contract_parser.py:426 - nn_find_contract_value() ] vat is None\n",
      "[runner.py:106 -              process() ] analysis saved, doc._id=63c506c1e2456d59975e1188\n",
      "[703404606.py:22 -  re_analyze_contract() ] ......pre-processing 63c506b4e2456d59975e102f\n"
     ]
    },
    {
     "name": "stdout",
     "output_type": "stream",
     "text": [
      "192 ================================================================================\n"
     ]
    },
    {
     "name": "stderr",
     "output_type": "stream",
     "text": [
      "[contract_parser.py:426 - nn_find_contract_value() ] vat is None\n",
      "[runner.py:106 -              process() ] analysis saved, doc._id=63c506b4e2456d59975e102f\n",
      "[703404606.py:22 -  re_analyze_contract() ] ......pre-processing 63c506c7e2456d59975e1223\n"
     ]
    },
    {
     "name": "stdout",
     "output_type": "stream",
     "text": [
      "193 ================================================================================\n"
     ]
    },
    {
     "name": "stderr",
     "output_type": "stream",
     "text": [
      "[legal_docs.py:116 -         warn_trimmed() ] 63c506c7e2456d59975e1223, 12.docx,  Для анализа документ обрезан из соображений производительности, допустимая длинна -- 15000 слов ✂️\n",
      "[runner.py:106 -              process() ] analysis saved, doc._id=63c506c7e2456d59975e1223\n",
      "[703404606.py:22 -  re_analyze_contract() ] ......pre-processing 63c506bae2456d59975e10c1\n"
     ]
    },
    {
     "name": "stdout",
     "output_type": "stream",
     "text": [
      "194 ================================================================================\n"
     ]
    },
    {
     "name": "stderr",
     "output_type": "stream",
     "text": [
      "[legal_docs.py:116 -         warn_trimmed() ] 63c506bae2456d59975e10c1, Дог. АЗС_105.docx,  Для анализа документ обрезан из соображений производительности, допустимая длинна -- 15000 слов ✂️\n",
      "[contract_parser.py:426 - nn_find_contract_value() ] vat is None\n",
      "[runner.py:106 -              process() ] analysis saved, doc._id=63c506bae2456d59975e10c1\n",
      "[703404606.py:22 -  re_analyze_contract() ] ......pre-processing 63c506bae2456d59975e10c2\n"
     ]
    },
    {
     "name": "stdout",
     "output_type": "stream",
     "text": [
      "195 ================================================================================\n"
     ]
    },
    {
     "name": "stderr",
     "output_type": "stream",
     "text": [
      "[legal_docs.py:116 -         warn_trimmed() ] 63c506bae2456d59975e10c2, 30.docx,  Для анализа документ обрезан из соображений производительности, допустимая длинна -- 15000 слов ✂️\n",
      "[runner.py:106 -              process() ] analysis saved, doc._id=63c506bae2456d59975e10c2\n",
      "[703404606.py:22 -  re_analyze_contract() ] ......pre-processing 63c506bae2456d59975e10bf\n"
     ]
    },
    {
     "name": "stdout",
     "output_type": "stream",
     "text": [
      "196 ================================================================================\n"
     ]
    },
    {
     "name": "stderr",
     "output_type": "stream",
     "text": [
      "[contract_parser.py:426 - nn_find_contract_value() ] vat is None\n",
      "[runner.py:106 -              process() ] analysis saved, doc._id=63c506bae2456d59975e10bf\n",
      "[703404606.py:22 -  re_analyze_contract() ] ......pre-processing 63c506bae2456d59975e10bc\n"
     ]
    },
    {
     "name": "stdout",
     "output_type": "stream",
     "text": [
      "197 ================================================================================\n"
     ]
    },
    {
     "name": "stderr",
     "output_type": "stream",
     "text": [
      "[contract_parser.py:426 - nn_find_contract_value() ] vat is None\n",
      "[runner.py:106 -              process() ] analysis saved, doc._id=63c506bae2456d59975e10bc\n",
      "[703404606.py:22 -  re_analyze_contract() ] ......pre-processing 63c506c5e2456d59975e1202\n"
     ]
    },
    {
     "name": "stdout",
     "output_type": "stream",
     "text": [
      "198 ================================================================================\n"
     ]
    },
    {
     "name": "stderr",
     "output_type": "stream",
     "text": [
      "[runner.py:106 -              process() ] analysis saved, doc._id=63c506c5e2456d59975e1202\n",
      "[703404606.py:22 -  re_analyze_contract() ] ......pre-processing 63c506d5e2456d59975e1394\n",
      "[contract_parser.py:426 - nn_find_contract_value() ] vat is None\n"
     ]
    },
    {
     "name": "stdout",
     "output_type": "stream",
     "text": [
      "199 ================================================================================\n"
     ]
    },
    {
     "name": "stderr",
     "output_type": "stream",
     "text": [
      "[runner.py:106 -              process() ] analysis saved, doc._id=63c506d5e2456d59975e1394\n",
      "[703404606.py:22 -  re_analyze_contract() ] ......pre-processing 63c506b9e2456d59975e10b3\n"
     ]
    },
    {
     "name": "stdout",
     "output_type": "stream",
     "text": [
      "200 ================================================================================\n"
     ]
    },
    {
     "name": "stderr",
     "output_type": "stream",
     "text": [
      "[runner.py:106 -              process() ] analysis saved, doc._id=63c506b9e2456d59975e10b3\n",
      "[703404606.py:22 -  re_analyze_contract() ] ......pre-processing 63c506c4e2456d59975e11ee\n"
     ]
    },
    {
     "name": "stdout",
     "output_type": "stream",
     "text": [
      "201 ================================================================================\n"
     ]
    },
    {
     "name": "stderr",
     "output_type": "stream",
     "text": [
      "[runner.py:106 -              process() ] analysis saved, doc._id=63c506c4e2456d59975e11ee\n",
      "[703404606.py:22 -  re_analyze_contract() ] ......pre-processing 63c506b9e2456d59975e10af\n"
     ]
    },
    {
     "name": "stdout",
     "output_type": "stream",
     "text": [
      "202 ================================================================================\n"
     ]
    },
    {
     "name": "stderr",
     "output_type": "stream",
     "text": [
      "[runner.py:106 -              process() ] analysis saved, doc._id=63c506b9e2456d59975e10af\n",
      "[703404606.py:22 -  re_analyze_contract() ] ......pre-processing 63c506c4e2456d59975e11ea\n",
      "[contract_parser.py:426 - nn_find_contract_value() ] vat is None\n"
     ]
    },
    {
     "name": "stdout",
     "output_type": "stream",
     "text": [
      "203 ================================================================================\n"
     ]
    },
    {
     "name": "stderr",
     "output_type": "stream",
     "text": [
      "[runner.py:106 -              process() ] analysis saved, doc._id=63c506c4e2456d59975e11ea\n",
      "[703404606.py:22 -  re_analyze_contract() ] ......pre-processing 63c506b1e2456d59975e1004\n"
     ]
    },
    {
     "name": "stdout",
     "output_type": "stream",
     "text": [
      "204 ================================================================================\n"
     ]
    },
    {
     "name": "stderr",
     "output_type": "stream",
     "text": [
      "[contract_parser.py:426 - nn_find_contract_value() ] vat is None\n",
      "[runner.py:106 -              process() ] analysis saved, doc._id=63c506b1e2456d59975e1004\n",
      "[703404606.py:22 -  re_analyze_contract() ] ......pre-processing 63c506c5e2456d59975e1202\n"
     ]
    },
    {
     "name": "stdout",
     "output_type": "stream",
     "text": [
      "205 ================================================================================\n"
     ]
    },
    {
     "name": "stderr",
     "output_type": "stream",
     "text": [
      "[runner.py:106 -              process() ] analysis saved, doc._id=63c506c5e2456d59975e1202\n",
      "[703404606.py:22 -  re_analyze_contract() ] ......pre-processing 63c506bfe2456d59975e1147\n"
     ]
    },
    {
     "name": "stdout",
     "output_type": "stream",
     "text": [
      "206 ================================================================================\n"
     ]
    },
    {
     "name": "stderr",
     "output_type": "stream",
     "text": [
      "[contract_parser.py:426 - nn_find_contract_value() ] vat is None\n",
      "[runner.py:106 -              process() ] analysis saved, doc._id=63c506bfe2456d59975e1147\n",
      "[703404606.py:22 -  re_analyze_contract() ] ......pre-processing 63c506c3e2456d59975e11d2\n"
     ]
    },
    {
     "name": "stdout",
     "output_type": "stream",
     "text": [
      "207 ================================================================================\n"
     ]
    },
    {
     "name": "stderr",
     "output_type": "stream",
     "text": [
      "[contract_parser.py:426 - nn_find_contract_value() ] vat is None\n",
      "[runner.py:106 -              process() ] analysis saved, doc._id=63c506c3e2456d59975e11d2\n",
      "[703404606.py:22 -  re_analyze_contract() ] ......pre-processing 63c506ace2456d59975e0f9e\n",
      "[contract_parser.py:426 - nn_find_contract_value() ] vat is None\n",
      "[runner.py:106 -              process() ] analysis saved, doc._id=63c506ace2456d59975e0f9e\n"
     ]
    },
    {
     "name": "stdout",
     "output_type": "stream",
     "text": [
      "208 ================================================================================\n",
      "209 ================================================================================\n"
     ]
    },
    {
     "name": "stderr",
     "output_type": "stream",
     "text": [
      "[703404606.py:22 -  re_analyze_contract() ] ......pre-processing 63c506c3e2456d59975e11d6\n",
      "[runner.py:106 -              process() ] analysis saved, doc._id=63c506c3e2456d59975e11d6\n",
      "[703404606.py:22 -  re_analyze_contract() ] ......pre-processing 63c506cfe2456d59975e1311\n",
      "[runner.py:63 -           preprocess() ] skipping doc 63c506cfe2456d59975e1311 because it is corrected by user\n",
      "[runner.py:96 -              process() ] skipping doc 63c506cfe2456d59975e1311 postprocessing because it is corrected by user\n",
      "[runner.py:106 -              process() ] analysis saved, doc._id=63c506cfe2456d59975e1311\n",
      "[703404606.py:22 -  re_analyze_contract() ] ......pre-processing 63c506c4e2456d59975e11ea\n"
     ]
    },
    {
     "name": "stdout",
     "output_type": "stream",
     "text": [
      "210 ================================================================================\n",
      "211 ================================================================================\n"
     ]
    },
    {
     "name": "stderr",
     "output_type": "stream",
     "text": [
      "[contract_parser.py:426 - nn_find_contract_value() ] vat is None\n",
      "[runner.py:106 -              process() ] analysis saved, doc._id=63c506c4e2456d59975e11ea\n",
      "[703404606.py:22 -  re_analyze_contract() ] ......pre-processing 63c506c4e2456d59975e11ee\n"
     ]
    },
    {
     "name": "stdout",
     "output_type": "stream",
     "text": [
      "212 ================================================================================\n"
     ]
    },
    {
     "name": "stderr",
     "output_type": "stream",
     "text": [
      "[runner.py:106 -              process() ] analysis saved, doc._id=63c506c4e2456d59975e11ee\n",
      "[703404606.py:22 -  re_analyze_contract() ] ......pre-processing 63c506b3e2456d59975e102a\n"
     ]
    },
    {
     "name": "stdout",
     "output_type": "stream",
     "text": [
      "213 ================================================================================\n"
     ]
    },
    {
     "name": "stderr",
     "output_type": "stream",
     "text": [
      "[contract_parser.py:426 - nn_find_contract_value() ] vat is None\n",
      "[runner.py:106 -              process() ] analysis saved, doc._id=63c506b3e2456d59975e102a\n",
      "[703404606.py:22 -  re_analyze_contract() ] ......pre-processing 63c506b9e2456d59975e10b3\n"
     ]
    },
    {
     "name": "stdout",
     "output_type": "stream",
     "text": [
      "214 ================================================================================\n"
     ]
    },
    {
     "name": "stderr",
     "output_type": "stream",
     "text": [
      "[runner.py:106 -              process() ] analysis saved, doc._id=63c506b9e2456d59975e10b3\n",
      "[703404606.py:22 -  re_analyze_contract() ] ......pre-processing 63c506c5e2456d59975e1202\n"
     ]
    },
    {
     "name": "stdout",
     "output_type": "stream",
     "text": [
      "215 ================================================================================\n"
     ]
    },
    {
     "name": "stderr",
     "output_type": "stream",
     "text": [
      "[runner.py:106 -              process() ] analysis saved, doc._id=63c506c5e2456d59975e1202\n",
      "[703404606.py:22 -  re_analyze_contract() ] ......pre-processing 63c506bfe2456d59975e1147\n"
     ]
    },
    {
     "name": "stdout",
     "output_type": "stream",
     "text": [
      "216 ================================================================================\n"
     ]
    },
    {
     "name": "stderr",
     "output_type": "stream",
     "text": [
      "[contract_parser.py:426 - nn_find_contract_value() ] vat is None\n",
      "[runner.py:106 -              process() ] analysis saved, doc._id=63c506bfe2456d59975e1147\n",
      "[703404606.py:22 -  re_analyze_contract() ] ......pre-processing 63c506b9e2456d59975e10af\n"
     ]
    },
    {
     "name": "stdout",
     "output_type": "stream",
     "text": [
      "217 ================================================================================\n"
     ]
    },
    {
     "name": "stderr",
     "output_type": "stream",
     "text": [
      "[runner.py:106 -              process() ] analysis saved, doc._id=63c506b9e2456d59975e10af\n",
      "[703404606.py:22 -  re_analyze_contract() ] ......pre-processing 63c506b9e2456d59975e10b3\n"
     ]
    },
    {
     "name": "stdout",
     "output_type": "stream",
     "text": [
      "218 ================================================================================\n"
     ]
    },
    {
     "name": "stderr",
     "output_type": "stream",
     "text": [
      "[runner.py:106 -              process() ] analysis saved, doc._id=63c506b9e2456d59975e10b3\n",
      "[703404606.py:22 -  re_analyze_contract() ] ......pre-processing 63c506c5e2456d59975e1202\n"
     ]
    },
    {
     "name": "stdout",
     "output_type": "stream",
     "text": [
      "219 ================================================================================\n"
     ]
    },
    {
     "name": "stderr",
     "output_type": "stream",
     "text": [
      "[runner.py:106 -              process() ] analysis saved, doc._id=63c506c5e2456d59975e1202\n",
      "[703404606.py:22 -  re_analyze_contract() ] ......pre-processing 63c506aee2456d59975e0fc5\n"
     ]
    },
    {
     "name": "stdout",
     "output_type": "stream",
     "text": [
      "220 ================================================================================\n"
     ]
    },
    {
     "name": "stderr",
     "output_type": "stream",
     "text": [
      "[runner.py:106 -              process() ] analysis saved, doc._id=63c506aee2456d59975e0fc5\n",
      "[703404606.py:22 -  re_analyze_contract() ] ......pre-processing 63c506bae2456d59975e10bc\n"
     ]
    },
    {
     "name": "stdout",
     "output_type": "stream",
     "text": [
      "221 ================================================================================\n"
     ]
    },
    {
     "name": "stderr",
     "output_type": "stream",
     "text": [
      "[contract_parser.py:426 - nn_find_contract_value() ] vat is None\n",
      "[runner.py:106 -              process() ] analysis saved, doc._id=63c506bae2456d59975e10bc\n"
     ]
    },
    {
     "name": "stdout",
     "output_type": "stream",
     "text": [
      "222 ================================================================================\n"
     ]
    }
   ],
   "source": [
    "# re_analyze_contract()\n",
    "\n",
    "n=0\n",
    "for _id in ids:\n",
    "    doc = re_analyze_contract(ObjectId(_id))\n",
    "    n+=1\n",
    "    print(n, '='*80)\n"
   ]
  },
  {
   "cell_type": "code",
   "execution_count": 9,
   "id": "f1c6ee59",
   "metadata": {},
   "outputs": [
    {
     "name": "stdout",
     "output_type": "stream",
     "text": [
      "/root/artem/env/bin/python\n"
     ]
    }
   ],
   "source": [
    "!which python"
   ]
  },
  {
   "cell_type": "code",
   "execution_count": 10,
   "id": "207e0568",
   "metadata": {},
   "outputs": [
    {
     "name": "stdout",
     "output_type": "stream",
     "text": [
      "Requirement already satisfied: python-Levenshtein==0.20.8 in /root/artem/env/lib/python3.8/site-packages (0.20.8)\n",
      "Requirement already satisfied: Levenshtein==0.20.8 in /root/artem/env/lib/python3.8/site-packages (from python-Levenshtein==0.20.8) (0.20.8)\n",
      "Requirement already satisfied: rapidfuzz<3.0.0,>=2.3.0 in /root/artem/env/lib/python3.8/site-packages (from Levenshtein==0.20.8->python-Levenshtein==0.20.8) (2.13.7)\n"
     ]
    }
   ],
   "source": [
    "!pip install python-Levenshtein==0.20.8"
   ]
  },
  {
   "cell_type": "code",
   "execution_count": 11,
   "id": "3bf3bd54",
   "metadata": {},
   "outputs": [],
   "source": [
    "# from overrides import overrides"
   ]
  },
  {
   "cell_type": "code",
   "execution_count": 12,
   "id": "47310deb",
   "metadata": {},
   "outputs": [],
   "source": [
    "load_docs_data(ids, df, ' _new')\n",
    "df['Предмет изменился'] = df['subject _old']!=df['subject _new']\n",
    "df = df.sort_values(['subject _old', 'subject quote _old', 'analyze_timestamp _new'])\n"
   ]
  },
  {
   "cell_type": "code",
   "execution_count": 13,
   "id": "2c359d71",
   "metadata": {},
   "outputs": [
    {
     "data": {
      "text/html": [
       "<div>\n",
       "<style scoped>\n",
       "    .dataframe tbody tr th:only-of-type {\n",
       "        vertical-align: middle;\n",
       "    }\n",
       "\n",
       "    .dataframe tbody tr th {\n",
       "        vertical-align: top;\n",
       "    }\n",
       "\n",
       "    .dataframe thead th {\n",
       "        text-align: right;\n",
       "    }\n",
       "</style>\n",
       "<table border=\"1\" class=\"dataframe\">\n",
       "  <thead>\n",
       "    <tr style=\"text-align: right;\">\n",
       "      <th></th>\n",
       "      <th>analyze_timestamp _old</th>\n",
       "      <th>number _old</th>\n",
       "      <th>subject _old</th>\n",
       "      <th>amount_netto _old</th>\n",
       "      <th>amount_brutto _old</th>\n",
       "      <th>amount _old</th>\n",
       "      <th>vat _old</th>\n",
       "      <th>currency _old</th>\n",
       "      <th>analysis.version _old</th>\n",
       "      <th>subject quote _old</th>\n",
       "      <th>...</th>\n",
       "      <th>number _new</th>\n",
       "      <th>subject _new</th>\n",
       "      <th>amount_netto _new</th>\n",
       "      <th>amount_brutto _new</th>\n",
       "      <th>amount _new</th>\n",
       "      <th>vat _new</th>\n",
       "      <th>currency _new</th>\n",
       "      <th>analysis.version _new</th>\n",
       "      <th>subject quote _new</th>\n",
       "      <th>Предмет изменился</th>\n",
       "    </tr>\n",
       "  </thead>\n",
       "  <tbody>\n",
       "    <tr>\n",
       "      <th>63c506c4e2456d59975e11ea</th>\n",
       "      <td>2023-01-16 13:16:27.750</td>\n",
       "      <td>NaN</td>\n",
       "      <td>AgencyContract</td>\n",
       "      <td>4.100000e+02</td>\n",
       "      <td>NaN</td>\n",
       "      <td>4.100000e+02</td>\n",
       "      <td>NaN</td>\n",
       "      <td>RUB</td>\n",
       "      <td>23.01.04</td>\n",
       "      <td></td>\n",
       "      <td>...</td>\n",
       "      <td>None</td>\n",
       "      <td>AgencyContract</td>\n",
       "      <td>4.100000e+02</td>\n",
       "      <td>NaN</td>\n",
       "      <td>NaN</td>\n",
       "      <td>NaN</td>\n",
       "      <td>RUB</td>\n",
       "      <td>23.2.7</td>\n",
       "      <td>1.1. По настоящему Договору Агент обязуется за...</td>\n",
       "      <td>False</td>\n",
       "    </tr>\n",
       "    <tr>\n",
       "      <th>63a430e6beaa9eeec65ecb18</th>\n",
       "      <td>2023-02-07 17:39:00.433</td>\n",
       "      <td>NaN</td>\n",
       "      <td>BankGuarantees</td>\n",
       "      <td>NaN</td>\n",
       "      <td>NaN</td>\n",
       "      <td>1.000000e+11</td>\n",
       "      <td>NaN</td>\n",
       "      <td>RUB</td>\n",
       "      <td>23.2.7</td>\n",
       "      <td></td>\n",
       "      <td>...</td>\n",
       "      <td>None</td>\n",
       "      <td>BankGuarantees</td>\n",
       "      <td>1.000000e+11</td>\n",
       "      <td>NaN</td>\n",
       "      <td>NaN</td>\n",
       "      <td>NaN</td>\n",
       "      <td>RUB</td>\n",
       "      <td>23.2.7</td>\n",
       "      <td>недействительностью Договора (в том числе выте...</td>\n",
       "      <td>False</td>\n",
       "    </tr>\n",
       "    <tr>\n",
       "      <th>63ac1faa862ea92bf713c50d</th>\n",
       "      <td>2023-02-01 22:18:34.762</td>\n",
       "      <td>1598-8745-963</td>\n",
       "      <td>Deal</td>\n",
       "      <td>NaN</td>\n",
       "      <td>NaN</td>\n",
       "      <td>7.000000e+06</td>\n",
       "      <td>8400000.0</td>\n",
       "      <td>RUB</td>\n",
       "      <td>23.2.1</td>\n",
       "      <td></td>\n",
       "      <td>...</td>\n",
       "      <td>1598-8745-963</td>\n",
       "      <td>Deal</td>\n",
       "      <td>7.000000e+06</td>\n",
       "      <td>NaN</td>\n",
       "      <td>NaN</td>\n",
       "      <td>20.0</td>\n",
       "      <td>RUB</td>\n",
       "      <td>23.2.7</td>\n",
       "      <td>1.1. По настоящему договору Продавец обязуется...</td>\n",
       "      <td>False</td>\n",
       "    </tr>\n",
       "    <tr>\n",
       "      <th>63a43092beaa9eeec65ecb09</th>\n",
       "      <td>2022-12-22 13:55:50.258</td>\n",
       "      <td>110801/20</td>\n",
       "      <td>Deal</td>\n",
       "      <td>1.550000e+10</td>\n",
       "      <td>NaN</td>\n",
       "      <td>1.550000e+10</td>\n",
       "      <td>NaN</td>\n",
       "      <td>RUB</td>\n",
       "      <td>22.12.15.1</td>\n",
       "      <td></td>\n",
       "      <td>...</td>\n",
       "      <td>110801/20</td>\n",
       "      <td>BankGuarantees</td>\n",
       "      <td>1.550000e+10</td>\n",
       "      <td>NaN</td>\n",
       "      <td>NaN</td>\n",
       "      <td>NaN</td>\n",
       "      <td>RUB</td>\n",
       "      <td>23.2.7</td>\n",
       "      <td>обязуется отвечать перед БАНКОМ за исполнение ...</td>\n",
       "      <td>True</td>\n",
       "    </tr>\n",
       "    <tr>\n",
       "      <th>63c506c0e2456d59975e1170</th>\n",
       "      <td>2023-01-16 13:03:32.741</td>\n",
       "      <td>ГНЭ-21/29/00761/Д</td>\n",
       "      <td>Deal</td>\n",
       "      <td>NaN</td>\n",
       "      <td>NaN</td>\n",
       "      <td>NaN</td>\n",
       "      <td>NaN</td>\n",
       "      <td>NaN</td>\n",
       "      <td>23.01.04</td>\n",
       "      <td></td>\n",
       "      <td>...</td>\n",
       "      <td>ГНЭ-21/29/00761/Д</td>\n",
       "      <td>Service</td>\n",
       "      <td>NaN</td>\n",
       "      <td>NaN</td>\n",
       "      <td>NaN</td>\n",
       "      <td>NaN</td>\n",
       "      <td>None</td>\n",
       "      <td>23.2.7</td>\n",
       "      <td>1.1. Поставщик обязуется в течение срока дейст...</td>\n",
       "      <td>True</td>\n",
       "    </tr>\n",
       "    <tr>\n",
       "      <th>...</th>\n",
       "      <td>...</td>\n",
       "      <td>...</td>\n",
       "      <td>...</td>\n",
       "      <td>...</td>\n",
       "      <td>...</td>\n",
       "      <td>...</td>\n",
       "      <td>...</td>\n",
       "      <td>...</td>\n",
       "      <td>...</td>\n",
       "      <td>...</td>\n",
       "      <td>...</td>\n",
       "      <td>...</td>\n",
       "      <td>...</td>\n",
       "      <td>...</td>\n",
       "      <td>...</td>\n",
       "      <td>...</td>\n",
       "      <td>...</td>\n",
       "      <td>...</td>\n",
       "      <td>...</td>\n",
       "      <td>...</td>\n",
       "      <td>...</td>\n",
       "    </tr>\n",
       "    <tr>\n",
       "      <th>63c506ebe2456d59975e1599</th>\n",
       "      <td>2023-01-16 11:19:15.838</td>\n",
       "      <td>__</td>\n",
       "      <td>NaN</td>\n",
       "      <td>NaN</td>\n",
       "      <td>NaN</td>\n",
       "      <td>NaN</td>\n",
       "      <td>NaN</td>\n",
       "      <td>NaN</td>\n",
       "      <td>23.01.04</td>\n",
       "      <td></td>\n",
       "      <td>...</td>\n",
       "      <td>__</td>\n",
       "      <td>Service</td>\n",
       "      <td>5.200000e+02</td>\n",
       "      <td>NaN</td>\n",
       "      <td>NaN</td>\n",
       "      <td>NaN</td>\n",
       "      <td>RUB</td>\n",
       "      <td>23.2.7</td>\n",
       "      <td>. Заказчик поручает и обязуется оплатить, а Ис...</td>\n",
       "      <td>True</td>\n",
       "    </tr>\n",
       "    <tr>\n",
       "      <th>63c506b9e2456d59975e10aa</th>\n",
       "      <td>2023-01-16 11:17:00.976</td>\n",
       "      <td>NaN</td>\n",
       "      <td>NaN</td>\n",
       "      <td>NaN</td>\n",
       "      <td>NaN</td>\n",
       "      <td>NaN</td>\n",
       "      <td>NaN</td>\n",
       "      <td>NaN</td>\n",
       "      <td>23.01.04</td>\n",
       "      <td></td>\n",
       "      <td>...</td>\n",
       "      <td>None</td>\n",
       "      <td>Service</td>\n",
       "      <td>1.000000e+01</td>\n",
       "      <td>NaN</td>\n",
       "      <td>NaN</td>\n",
       "      <td>NaN</td>\n",
       "      <td>RUB</td>\n",
       "      <td>23.2.7</td>\n",
       "      <td>1.1. Исполнитель по поручению Заказчика обязуе...</td>\n",
       "      <td>True</td>\n",
       "    </tr>\n",
       "    <tr>\n",
       "      <th>63c506bde2456d59975e1118</th>\n",
       "      <td>2023-01-16 11:17:13.396</td>\n",
       "      <td>У-2018</td>\n",
       "      <td>NaN</td>\n",
       "      <td>NaN</td>\n",
       "      <td>NaN</td>\n",
       "      <td>NaN</td>\n",
       "      <td>NaN</td>\n",
       "      <td>NaN</td>\n",
       "      <td>23.01.04</td>\n",
       "      <td></td>\n",
       "      <td>...</td>\n",
       "      <td>У-2018</td>\n",
       "      <td>Service</td>\n",
       "      <td>NaN</td>\n",
       "      <td>NaN</td>\n",
       "      <td>NaN</td>\n",
       "      <td>NaN</td>\n",
       "      <td>None</td>\n",
       "      <td>23.2.7</td>\n",
       "      <td>По настоящему Договору Исполнитель обязуется о...</td>\n",
       "      <td>True</td>\n",
       "    </tr>\n",
       "    <tr>\n",
       "      <th>63c506b9e2456d59975e10b5</th>\n",
       "      <td>2023-01-16 11:17:02.645</td>\n",
       "      <td>NaN</td>\n",
       "      <td>NaN</td>\n",
       "      <td>NaN</td>\n",
       "      <td>NaN</td>\n",
       "      <td>NaN</td>\n",
       "      <td>NaN</td>\n",
       "      <td>NaN</td>\n",
       "      <td>23.01.04</td>\n",
       "      <td></td>\n",
       "      <td>...</td>\n",
       "      <td>None</td>\n",
       "      <td>Deal</td>\n",
       "      <td>1.000000e+05</td>\n",
       "      <td>NaN</td>\n",
       "      <td>NaN</td>\n",
       "      <td>NaN</td>\n",
       "      <td>RUB</td>\n",
       "      <td>23.2.7</td>\n",
       "      <td>2.1. Поставщик обязуется поставить информацион...</td>\n",
       "      <td>True</td>\n",
       "    </tr>\n",
       "    <tr>\n",
       "      <th>63c506cce2456d59975e12c3</th>\n",
       "      <td>2023-01-16 11:17:55.753</td>\n",
       "      <td>____</td>\n",
       "      <td>NaN</td>\n",
       "      <td>NaN</td>\n",
       "      <td>NaN</td>\n",
       "      <td>NaN</td>\n",
       "      <td>NaN</td>\n",
       "      <td>NaN</td>\n",
       "      <td>23.01.04</td>\n",
       "      <td></td>\n",
       "      <td>...</td>\n",
       "      <td>None</td>\n",
       "      <td>Deal</td>\n",
       "      <td>1.000000e+01</td>\n",
       "      <td>NaN</td>\n",
       "      <td>NaN</td>\n",
       "      <td>NaN</td>\n",
       "      <td>RUB</td>\n",
       "      <td>23.2.7</td>\n",
       "      <td>2.1. Поставщик принимает на себя обязательства...</td>\n",
       "      <td>True</td>\n",
       "    </tr>\n",
       "  </tbody>\n",
       "</table>\n",
       "<p>171 rows × 21 columns</p>\n",
       "</div>"
      ],
      "text/plain": [
       "                           analyze_timestamp _old        number _old  \\\n",
       "63c506c4e2456d59975e11ea  2023-01-16 13:16:27.750                NaN   \n",
       "63a430e6beaa9eeec65ecb18  2023-02-07 17:39:00.433                NaN   \n",
       "63ac1faa862ea92bf713c50d  2023-02-01 22:18:34.762      1598-8745-963   \n",
       "63a43092beaa9eeec65ecb09  2022-12-22 13:55:50.258          110801/20   \n",
       "63c506c0e2456d59975e1170  2023-01-16 13:03:32.741  ГНЭ-21/29/00761/Д   \n",
       "...                                           ...                ...   \n",
       "63c506ebe2456d59975e1599  2023-01-16 11:19:15.838                 __   \n",
       "63c506b9e2456d59975e10aa  2023-01-16 11:17:00.976                NaN   \n",
       "63c506bde2456d59975e1118  2023-01-16 11:17:13.396             У-2018   \n",
       "63c506b9e2456d59975e10b5  2023-01-16 11:17:02.645                NaN   \n",
       "63c506cce2456d59975e12c3  2023-01-16 11:17:55.753               ____   \n",
       "\n",
       "                            subject _old  amount_netto _old  \\\n",
       "63c506c4e2456d59975e11ea  AgencyContract       4.100000e+02   \n",
       "63a430e6beaa9eeec65ecb18  BankGuarantees                NaN   \n",
       "63ac1faa862ea92bf713c50d            Deal                NaN   \n",
       "63a43092beaa9eeec65ecb09            Deal       1.550000e+10   \n",
       "63c506c0e2456d59975e1170            Deal                NaN   \n",
       "...                                  ...                ...   \n",
       "63c506ebe2456d59975e1599             NaN                NaN   \n",
       "63c506b9e2456d59975e10aa             NaN                NaN   \n",
       "63c506bde2456d59975e1118             NaN                NaN   \n",
       "63c506b9e2456d59975e10b5             NaN                NaN   \n",
       "63c506cce2456d59975e12c3             NaN                NaN   \n",
       "\n",
       "                          amount_brutto _old   amount _old   vat _old  \\\n",
       "63c506c4e2456d59975e11ea                 NaN  4.100000e+02        NaN   \n",
       "63a430e6beaa9eeec65ecb18                 NaN  1.000000e+11        NaN   \n",
       "63ac1faa862ea92bf713c50d                 NaN  7.000000e+06  8400000.0   \n",
       "63a43092beaa9eeec65ecb09                 NaN  1.550000e+10        NaN   \n",
       "63c506c0e2456d59975e1170                 NaN           NaN        NaN   \n",
       "...                                      ...           ...        ...   \n",
       "63c506ebe2456d59975e1599                 NaN           NaN        NaN   \n",
       "63c506b9e2456d59975e10aa                 NaN           NaN        NaN   \n",
       "63c506bde2456d59975e1118                 NaN           NaN        NaN   \n",
       "63c506b9e2456d59975e10b5                 NaN           NaN        NaN   \n",
       "63c506cce2456d59975e12c3                 NaN           NaN        NaN   \n",
       "\n",
       "                         currency _old analysis.version _old  \\\n",
       "63c506c4e2456d59975e11ea           RUB              23.01.04   \n",
       "63a430e6beaa9eeec65ecb18           RUB                23.2.7   \n",
       "63ac1faa862ea92bf713c50d           RUB                23.2.1   \n",
       "63a43092beaa9eeec65ecb09           RUB            22.12.15.1   \n",
       "63c506c0e2456d59975e1170           NaN              23.01.04   \n",
       "...                                ...                   ...   \n",
       "63c506ebe2456d59975e1599           NaN              23.01.04   \n",
       "63c506b9e2456d59975e10aa           NaN              23.01.04   \n",
       "63c506bde2456d59975e1118           NaN              23.01.04   \n",
       "63c506b9e2456d59975e10b5           NaN              23.01.04   \n",
       "63c506cce2456d59975e12c3           NaN              23.01.04   \n",
       "\n",
       "                         subject quote _old  ...        number _new  \\\n",
       "63c506c4e2456d59975e11ea                     ...               None   \n",
       "63a430e6beaa9eeec65ecb18                     ...               None   \n",
       "63ac1faa862ea92bf713c50d                     ...      1598-8745-963   \n",
       "63a43092beaa9eeec65ecb09                     ...          110801/20   \n",
       "63c506c0e2456d59975e1170                     ...  ГНЭ-21/29/00761/Д   \n",
       "...                                     ...  ...                ...   \n",
       "63c506ebe2456d59975e1599                     ...                 __   \n",
       "63c506b9e2456d59975e10aa                     ...               None   \n",
       "63c506bde2456d59975e1118                     ...             У-2018   \n",
       "63c506b9e2456d59975e10b5                     ...               None   \n",
       "63c506cce2456d59975e12c3                     ...               None   \n",
       "\n",
       "                            subject _new amount_netto _new  \\\n",
       "63c506c4e2456d59975e11ea  AgencyContract      4.100000e+02   \n",
       "63a430e6beaa9eeec65ecb18  BankGuarantees      1.000000e+11   \n",
       "63ac1faa862ea92bf713c50d            Deal      7.000000e+06   \n",
       "63a43092beaa9eeec65ecb09  BankGuarantees      1.550000e+10   \n",
       "63c506c0e2456d59975e1170         Service               NaN   \n",
       "...                                  ...               ...   \n",
       "63c506ebe2456d59975e1599         Service      5.200000e+02   \n",
       "63c506b9e2456d59975e10aa         Service      1.000000e+01   \n",
       "63c506bde2456d59975e1118         Service               NaN   \n",
       "63c506b9e2456d59975e10b5            Deal      1.000000e+05   \n",
       "63c506cce2456d59975e12c3            Deal      1.000000e+01   \n",
       "\n",
       "                          amount_brutto _new  amount _new  vat _new  \\\n",
       "63c506c4e2456d59975e11ea                 NaN          NaN       NaN   \n",
       "63a430e6beaa9eeec65ecb18                 NaN          NaN       NaN   \n",
       "63ac1faa862ea92bf713c50d                 NaN          NaN      20.0   \n",
       "63a43092beaa9eeec65ecb09                 NaN          NaN       NaN   \n",
       "63c506c0e2456d59975e1170                 NaN          NaN       NaN   \n",
       "...                                      ...          ...       ...   \n",
       "63c506ebe2456d59975e1599                 NaN          NaN       NaN   \n",
       "63c506b9e2456d59975e10aa                 NaN          NaN       NaN   \n",
       "63c506bde2456d59975e1118                 NaN          NaN       NaN   \n",
       "63c506b9e2456d59975e10b5                 NaN          NaN       NaN   \n",
       "63c506cce2456d59975e12c3                 NaN          NaN       NaN   \n",
       "\n",
       "                          currency _new analysis.version _new  \\\n",
       "63c506c4e2456d59975e11ea            RUB                23.2.7   \n",
       "63a430e6beaa9eeec65ecb18            RUB                23.2.7   \n",
       "63ac1faa862ea92bf713c50d            RUB                23.2.7   \n",
       "63a43092beaa9eeec65ecb09            RUB                23.2.7   \n",
       "63c506c0e2456d59975e1170           None                23.2.7   \n",
       "...                                 ...                   ...   \n",
       "63c506ebe2456d59975e1599            RUB                23.2.7   \n",
       "63c506b9e2456d59975e10aa            RUB                23.2.7   \n",
       "63c506bde2456d59975e1118           None                23.2.7   \n",
       "63c506b9e2456d59975e10b5            RUB                23.2.7   \n",
       "63c506cce2456d59975e12c3            RUB                23.2.7   \n",
       "\n",
       "                                                         subject quote _new  \\\n",
       "63c506c4e2456d59975e11ea  1.1. По настоящему Договору Агент обязуется за...   \n",
       "63a430e6beaa9eeec65ecb18  недействительностью Договора (в том числе выте...   \n",
       "63ac1faa862ea92bf713c50d  1.1. По настоящему договору Продавец обязуется...   \n",
       "63a43092beaa9eeec65ecb09  обязуется отвечать перед БАНКОМ за исполнение ...   \n",
       "63c506c0e2456d59975e1170  1.1. Поставщик обязуется в течение срока дейст...   \n",
       "...                                                                     ...   \n",
       "63c506ebe2456d59975e1599  . Заказчик поручает и обязуется оплатить, а Ис...   \n",
       "63c506b9e2456d59975e10aa  1.1. Исполнитель по поручению Заказчика обязуе...   \n",
       "63c506bde2456d59975e1118  По настоящему Договору Исполнитель обязуется о...   \n",
       "63c506b9e2456d59975e10b5  2.1. Поставщик обязуется поставить информацион...   \n",
       "63c506cce2456d59975e12c3  2.1. Поставщик принимает на себя обязательства...   \n",
       "\n",
       "                         Предмет изменился  \n",
       "63c506c4e2456d59975e11ea             False  \n",
       "63a430e6beaa9eeec65ecb18             False  \n",
       "63ac1faa862ea92bf713c50d             False  \n",
       "63a43092beaa9eeec65ecb09              True  \n",
       "63c506c0e2456d59975e1170              True  \n",
       "...                                    ...  \n",
       "63c506ebe2456d59975e1599              True  \n",
       "63c506b9e2456d59975e10aa              True  \n",
       "63c506bde2456d59975e1118              True  \n",
       "63c506b9e2456d59975e10b5              True  \n",
       "63c506cce2456d59975e12c3              True  \n",
       "\n",
       "[171 rows x 21 columns]"
      ]
     },
     "execution_count": 13,
     "metadata": {},
     "output_type": "execute_result"
    }
   ],
   "source": [
    "df"
   ]
  },
  {
   "cell_type": "code",
   "execution_count": 14,
   "id": "d305f151",
   "metadata": {},
   "outputs": [],
   "source": [
    "df.to_csv('495-contracts-re-analyze-subj.csv')"
   ]
  },
  {
   "cell_type": "code",
   "execution_count": null,
   "id": "6b081be5",
   "metadata": {},
   "outputs": [],
   "source": []
  }
 ],
 "metadata": {
  "kernelspec": {
   "display_name": "env",
   "language": "python",
   "name": "env"
  },
  "language_info": {
   "codemirror_mode": {
    "name": "ipython",
    "version": 3
   },
   "file_extension": ".py",
   "mimetype": "text/x-python",
   "name": "python",
   "nbconvert_exporter": "python",
   "pygments_lexer": "ipython3",
   "version": "3.8.10"
  }
 },
 "nbformat": 4,
 "nbformat_minor": 5
}
