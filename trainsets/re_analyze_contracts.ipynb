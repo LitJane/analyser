{
 "cells": [
  {
   "cell_type": "code",
   "execution_count": 1,
   "id": "281e9804",
   "metadata": {},
   "outputs": [
    {
     "name": "stderr",
     "output_type": "stream",
     "text": [
      "2023-02-11 09:31:20.899506: I tensorflow/stream_executor/platform/default/dso_loader.cc:53] Successfully opened dynamic library libcudart.so.11.0\n",
      "DEBUG - 2023-02-11 09:31:23,784 - retrain_ipynb - --=logging started=--\n"
     ]
    }
   ],
   "source": [
    "import logging\n",
    "import platform\n",
    "import sys\n",
    "import os\n",
    "import seaborn as sns\n",
    "import matplotlib.pyplot as plt\n",
    "from IPython.display import display, Markdown\n",
    "from datetime import datetime\n",
    "import tensorflow as tf\n",
    "\n",
    "logger = logging.getLogger('retrain_ipynb')\n",
    "logger.setLevel(logging.DEBUG)\n",
    "\n",
    "\n",
    "ch = logging.StreamHandler()\n",
    "ch.setLevel(logging.DEBUG)\n",
    "formatter = logging.Formatter('%(levelname)s - %(asctime)s - %(name)s - %(message)s')\n",
    "ch.setFormatter(formatter)\n",
    "logger.addHandler(ch)\n",
    "logger.debug('--=logging started=--')\n",
    " "
   ]
  },
  {
   "cell_type": "code",
   "execution_count": 2,
   "id": "46c74d81",
   "metadata": {},
   "outputs": [
    {
     "name": "stdout",
     "output_type": "stream",
     "text": [
      "Nemoware Analyser v23.2.7\n",
      "USING WORKDIR: [/root/artem/work]\n",
      " set ENV GPN_WORK_DIR to override\n",
      "datasets_dir: [/root/artem/work/datasets]\n",
      "reports_dir: [/root/artem/work/reports]\n"
     ]
    },
    {
     "name": "stderr",
     "output_type": "stream",
     "text": [
      "/root/artem/analyser/analyser/hyperparams.py:15: UserWarning: please set GPN_WORK_DIR environment variable\n",
      "  warnings.warn('please set GPN_WORK_DIR environment variable')\n"
     ]
    }
   ],
   "source": [
    "\n",
    "nb_dir = os.path.split(os.getcwd())[0]\n",
    "if nb_dir not in sys.path:\n",
    "    sys.path.append(nb_dir)\n",
    "    \n",
    "import analyser.hyperparams "
   ]
  },
  {
   "cell_type": "code",
   "execution_count": 3,
   "id": "469da6de",
   "metadata": {
    "tags": []
   },
   "outputs": [],
   "source": [
    "ids_all='''\n",
    "\n",
    "\n",
    "63ac1fab862ea92bf713c51e\n",
    "63ac1faa862ea92bf713c50d\n",
    "63ac1fa9862ea92bf713c509\n",
    "63ac1faa862ea92bf713c515 \n",
    "63ac1faa862ea92bf713c51d\n",
    "63ac1fac862ea92bf713c534\n",
    "63ac1fa9862ea92bf713c50a\n",
    "63ac1fac862ea92bf713c536\n",
    "63ac1fab862ea92bf713c522\n",
    "63ac1fad862ea92bf713c53f\n",
    "\n",
    "6391a7481864c6df4d29f30b\n",
    "63a43056beaa9eeec65ecafb\n",
    "63a430a6beaa9eeec65ecb0b \n",
    "63a43092beaa9eeec65ecb09\n",
    "63a4306dbeaa9eeec65ecafe\n",
    "63a430dbbeaa9eeec65ecb12 \n",
    "63a430e6beaa9eeec65ecb18\n",
    "63a430b4beaa9eeec65ecb0d \n",
    "\n",
    "\n",
    "63c506ede2456d59975e15bf\n",
    "63c506ede2456d59975e15c6\n",
    "63c506bde2456d59975e110a\n",
    "63c506cbe2456d59975e12ae\n",
    "63c506bde2456d59975e1107\n",
    "63c506cbe2456d59975e12aa\n",
    "63c506cbe2456d59975e12a6\n",
    "63c506bce2456d59975e10f9  \n",
    "63c506cbe2456d59975e12a6\n",
    "63c506bce2456d59975e10f9 \n",
    "63c506cae2456d59975e129a \n",
    "63c506bce2456d59975e10ef\n",
    "63c506b4e2456d59975e103d\n",
    "63c506ace2456d59975e0f9b\n",
    "63c506c9e2456d59975e127d\n",
    "63c506bce2456d59975e10ef\n",
    "63c506ace2456d59975e0f9b\n",
    "63c506c9e2456d59975e127d\n",
    "63c506c8e2456d59975e123e\n",
    "63c506c9e2456d59975e1276\n",
    "63c506bbe2456d59975e10d9\n",
    "63c506afe2456d59975e0fca\n",
    "63c506bbe2456d59975e10dd  \n",
    "63c506c9e2456d59975e1276\n",
    "63c506bbe2456d59975e10d9\n",
    "63c506bae2456d59975e10c1  \n",
    "\n",
    "\n",
    "63c506e5e2456d59975e1570  \n",
    "63c506b0e2456d59975e0fea   \n",
    "63c506c7e2456d59975e1232  \n",
    "63c506c1e2456d59975e1187  \n",
    "63c506c0e2456d59975e116a  \n",
    "63c506c1e2456d59975e118c  \n",
    "63c506dbe2456d59975e143d  \n",
    "63c506c0e2456d59975e1170  \n",
    "63c506c5e2456d59975e1201  \n",
    "63c506bee2456d59975e1139  \n",
    "63c506b9e2456d59975e10ae  \n",
    "63c506e4e2456d59975e1550  \n",
    "63c506e4e2456d59975e1550  \n",
    "63c506c6e2456d59975e121e  \n",
    "63c506dbe2456d59975e143c  \n",
    "63c506ece2456d59975e15b6  \n",
    "63c506c9e2456d59975e1266  \n",
    "63c506e5e2456d59975e155d  \n",
    "63c506dfe2456d59975e14ac  \n",
    "63c506b4e2456d59975e1041   \n",
    "63c506b0e2456d59975e0fe6  \n",
    "63c506b5e2456d59975e1042  \n",
    "63c506ebe2456d59975e1596  \n",
    "63c506dce2456d59975e1456  \n",
    "63c506c0e2456d59975e116d   \n",
    "63c506d6e2456d59975e13a2   \n",
    "63c506ebe2456d59975e15a2  \n",
    "63c506d1e2456d59975e1337  \n",
    "63c506d2e2456d59975e1346  \n",
    "63c506c7e2456d59975e1231   \n",
    "63c506c6e2456d59975e1222  \n",
    "63c506cae2456d59975e1284   \n",
    "63c506b7e2456d59975e107e  \n",
    "63c506aae2456d59975e0f82  \n",
    "63c506aee2456d59975e0fc8   \n",
    "63c506b1e2456d59975e0fed  \n",
    "63c506c5e2456d59975e11fe  \n",
    "63c506c0e2456d59975e1185  \n",
    "63c506d8e2456d59975e13f2   \n",
    "\n",
    "\n",
    "63c506d4e2456d59975e1386 \n",
    "63c506d9e2456d59975e13ff \n",
    "63c506bbe2456d59975e10e2 \n",
    "63c506dee2456d59975e148b \n",
    "63c506e0e2456d59975e14e2 \n",
    "63c506e1e2456d59975e14e4 \n",
    "63c506b3e2456d59975e102b \n",
    "63c506e5e2456d59975e156b \n",
    "63c506c4e2456d59975e11e3 \n",
    "63c506c2e2456d59975e11a8 \n",
    "63c506c9e2456d59975e127f \n",
    "63c506cfe2456d59975e12fa \n",
    "63c506e3e2456d59975e1519 \n",
    "63c506c0e2456d59975e1182 \n",
    "63c506d0e2456d59975e1319 \n",
    "63c506d1e2456d59975e1341 \n",
    "63c506c8e2456d59975e1259 \n",
    "63c506c1e2456d59975e1194 \n",
    "63c506dde2456d59975e146a \n",
    "63c506cde2456d59975e12e6 \n",
    "63c506cfe2456d59975e1301 \n",
    "63c506abe2456d59975e0f95 \n",
    "63c506b8e2456d59975e108b \n",
    "63c506dde2456d59975e1469 \n",
    "63c506bbe2456d59975e10d7 \n",
    "63c506dde2456d59975e1469 \n",
    "\n",
    "\n",
    "63c506ebe2456d59975e1599\n",
    "63c506b9e2456d59975e10aa\n",
    "63c506bde2456d59975e1118\n",
    "63c506b9e2456d59975e10b5\n",
    "63c506cce2456d59975e12c3\n",
    "63c506b0e2456d59975e0fe7\n",
    "63c506bde2456d59975e111f\n",
    "63c506bde2456d59975e1120\n",
    "63c506ace2456d59975e0f9e\n",
    "63c506bde2456d59975e1122\n",
    "63c506b5e2456d59975e1059\n",
    "63c506bde2456d59975e1123\n",
    "63c506bee2456d59975e112a\n",
    "63c506abe2456d59975e0f8f\n",
    "63c506b6e2456d59975e105d\n",
    "63c506bfe2456d59975e1144\n",
    "63c506bfe2456d59975e1147\n",
    "63c506bfe2456d59975e114c\n",
    "63c506b6e2456d59975e1070\n",
    "63c506abe2456d59975e0f92\n",
    "63c506b1e2456d59975e1005\n",
    "63c506b7e2456d59975e107a\n",
    "63c506b7e2456d59975e107b\n",
    "63c506c0e2456d59975e117b\n",
    "63c506c1e2456d59975e1186\n",
    "63c506b2e2456d59975e1007\n",
    "63c506c1e2456d59975e1188\n",
    "63c506b2e2456d59975e1009\n",
    "63c506c1e2456d59975e119b\n",
    "63c506c1e2456d59975e119f\n",
    "63c506c2e2456d59975e11a3\n",
    "63c506b8e2456d59975e109e\n",
    "63c506c2e2456d59975e11ae\n",
    "63c506aee2456d59975e0fc1\n",
    "63c506b3e2456d59975e1019\n",
    "63c506c3e2456d59975e11c3\n",
    "63c506b9e2456d59975e10a8\n",
    "63c506c3e2456d59975e11d2\n",
    "63c506c3e2456d59975e11d6\n",
    "63c506c4e2456d59975e11da\n",
    "63c506c4e2456d59975e11dd\n",
    "\n",
    "\n",
    "63c506c9e2456d59975e1271\n",
    "63c506bbe2456d59975e10d4\n",
    "63c506b4e2456d59975e103d\n",
    "63c506c8e2456d59975e1261\n",
    "63c506c7e2456d59975e1223\n",
    "63c506bae2456d59975e10bf\n",
    "63c506c8e2456d59975e125c\n",
    "63c506c8e2456d59975e1256\n",
    "63c506c9e2456d59975e1271\n",
    "63c506bbe2456d59975e10d4\n",
    "63c506b4e2456d59975e103d\n",
    "63c506c8e2456d59975e1261\n",
    "63c506aee2456d59975e0fc5\n",
    "63c506c8e2456d59975e125c\n",
    "63c506c8e2456d59975e1256\n",
    "63c506afe2456d59975e0fcd\n",
    "63c506c8e2456d59975e1251\n",
    "63c506abe2456d59975e0f8b\n",
    "63c506dee2456d59975e1488\n",
    "63c506c8e2456d59975e123e\n",
    "63c506b9e2456d59975e10af\n",
    "63c506c8e2456d59975e1256\n",
    "63c506afe2456d59975e0fcd\n",
    "63c506c8e2456d59975e1251\n",
    "63c506abe2456d59975e0f8b\n",
    "63c506c8e2456d59975e123e\n",
    "63c506c4e2456d59975e11da\n",
    "63c506dce2456d59975e1459\n",
    "63c506afe2456d59975e0fca\n",
    "63c506c3e2456d59975e11d2\n",
    "63c506b9e2456d59975e10a8\n",
    "63c506c7e2456d59975e123a\n",
    "63c506afe2456d59975e0fca\n",
    "63c506dae2456d59975e1415\n",
    "63c506b8e2456d59975e109e\n",
    "63c506c7e2456d59975e122d\n",
    "63c506c2e2456d59975e11a3\n",
    "63c506b8e2456d59975e109c\n",
    "63c506c1e2456d59975e1186\n",
    "63c506bae2456d59975e10bc\n",
    "63c506d7e2456d59975e13d6\n",
    "63c506c1e2456d59975e1188\n",
    "63c506b4e2456d59975e102f\n",
    "63c506c7e2456d59975e1223\n",
    "63c506bae2456d59975e10c1\n",
    "63c506bae2456d59975e10c2\n",
    "63c506bae2456d59975e10bf\n",
    "63c506bae2456d59975e10bc\n",
    "63c506c5e2456d59975e1202\n",
    "63c506d5e2456d59975e1394\n",
    "63c506b9e2456d59975e10b3\n",
    "63c506c4e2456d59975e11ee\n",
    "63c506b9e2456d59975e10af\n",
    "63c506c4e2456d59975e11ea\n",
    "63c506b1e2456d59975e1004\n",
    "63c506c5e2456d59975e1202\n",
    "63c506bfe2456d59975e1147\n",
    "\n",
    "63c506c3e2456d59975e11d2\n",
    "63c506ace2456d59975e0f9e\n",
    "63c506c3e2456d59975e11d6\n",
    "63c506cfe2456d59975e1311\n",
    "63c506c4e2456d59975e11ea\n",
    "63c506c4e2456d59975e11ee\n",
    "63c506b3e2456d59975e102a\n",
    "63c506b9e2456d59975e10b3\n",
    "63c506c5e2456d59975e1202\n",
    "63c506bfe2456d59975e1147\n",
    "63c506b9e2456d59975e10af\n",
    "63c506b9e2456d59975e10b3\n",
    "63c506c5e2456d59975e1202\n",
    "63c506aee2456d59975e0fc5\n",
    "63c506bae2456d59975e10bc \n",
    "'''\n",
    "ids = ids_all.split()\n",
    "# ids\n",
    "\n",
    "import pandas as pd\n",
    "\n",
    "\n",
    "def load_docs_data(ids, df, col_suffix):\n",
    "  for _id in ids:\n",
    "    doc = get_doc_by_id(ObjectId(_id))\n",
    "    jd = DbJsonDoc(doc)\n",
    "#     print(jd.get_attribute_value('number'))\n",
    "    \n",
    "    df.at[ _id, f'analyze_timestamp{col_suffix}']=jd.analysis['analyze_timestamp']\n",
    "    df.at[ _id, f'number{col_suffix}']=jd.get_attribute_value('number')\n",
    "    df.at[ _id, f'subject{col_suffix}']=jd.get_attribute_value('subject')\n",
    "    df.at[ _id, f'amount_netto{col_suffix}'] = jd.get_attributes_tree().get('price', {}).get('amount_netto', {}).get('value', None)\n",
    "    df.at[ _id, f'amount_brutto{col_suffix}'] = jd.get_attributes_tree().get('price', {}).get('amount_brutto', {}).get('value', None)\n",
    "    df.at[ _id, f'amount{col_suffix}'] = jd.get_attributes_tree().get('price', {}).get('amount', {}).get('value', None)\n",
    "    df.at[ _id, f'vat{col_suffix}'] = jd.get_attributes_tree().get('price', {}).get('vat', {}).get('value', None)\n",
    "    df.at[ _id, f'currency{col_suffix}'] = jd.get_attributes_tree().get('price', {}).get('currency', {}).get('value', None)\n",
    "    df.at[ _id, f'analysis.version{col_suffix}'] = jd.analysis['version']\n",
    "    \n",
    "     \n",
    "    span = jd.get_attributes_tree().get('subject', {}).get('span', None)\n",
    "    \n",
    "    if span:\n",
    "        tm = jd.get_tokens_map_unchaged()\n",
    "\n",
    "        quote = tm.text_range(span)\n",
    "    \n",
    "        df.at[_id,f'subject quote{col_suffix}'] = quote[:200]\n",
    "\n"
   ]
  },
  {
   "cell_type": "code",
   "execution_count": 4,
   "id": "8b9733b2",
   "metadata": {},
   "outputs": [],
   "source": [
    "df=None\n",
    "fn = '495-contracts-re-analyze-subj.csv'\n",
    "df = pd.read_csv(fn, index_col=0)\n",
    "df['subject quote _old']=''"
   ]
  },
  {
   "cell_type": "code",
   "execution_count": 5,
   "id": "e785f031",
   "metadata": {},
   "outputs": [
    {
     "data": {
      "text/html": [
       "<div>\n",
       "<style scoped>\n",
       "    .dataframe tbody tr th:only-of-type {\n",
       "        vertical-align: middle;\n",
       "    }\n",
       "\n",
       "    .dataframe tbody tr th {\n",
       "        vertical-align: top;\n",
       "    }\n",
       "\n",
       "    .dataframe thead th {\n",
       "        text-align: right;\n",
       "    }\n",
       "</style>\n",
       "<table border=\"1\" class=\"dataframe\">\n",
       "  <thead>\n",
       "    <tr style=\"text-align: right;\">\n",
       "      <th></th>\n",
       "      <th>analyze_timestamp _old</th>\n",
       "      <th>number _old</th>\n",
       "      <th>subject _old</th>\n",
       "      <th>amount_netto _old</th>\n",
       "      <th>amount_brutto _old</th>\n",
       "      <th>amount _old</th>\n",
       "      <th>vat _old</th>\n",
       "      <th>currency _old</th>\n",
       "      <th>analysis.version _old</th>\n",
       "      <th>subject quote _old</th>\n",
       "      <th>...</th>\n",
       "      <th>number _new</th>\n",
       "      <th>subject _new</th>\n",
       "      <th>amount_netto _new</th>\n",
       "      <th>amount_brutto _new</th>\n",
       "      <th>amount _new</th>\n",
       "      <th>vat _new</th>\n",
       "      <th>currency _new</th>\n",
       "      <th>analysis.version _new</th>\n",
       "      <th>subject quote _new</th>\n",
       "      <th>Предмет изменился</th>\n",
       "    </tr>\n",
       "  </thead>\n",
       "  <tbody>\n",
       "    <tr>\n",
       "      <th>63c506c4e2456d59975e11ea</th>\n",
       "      <td>2023-01-16 13:16:27.750</td>\n",
       "      <td>NaN</td>\n",
       "      <td>AgencyContract</td>\n",
       "      <td>4.100000e+02</td>\n",
       "      <td>NaN</td>\n",
       "      <td>4.100000e+02</td>\n",
       "      <td>NaN</td>\n",
       "      <td>RUB</td>\n",
       "      <td>23.01.04</td>\n",
       "      <td></td>\n",
       "      <td>...</td>\n",
       "      <td>NaN</td>\n",
       "      <td>AgencyContract</td>\n",
       "      <td>4.100000e+02</td>\n",
       "      <td>NaN</td>\n",
       "      <td>NaN</td>\n",
       "      <td>NaN</td>\n",
       "      <td>RUB</td>\n",
       "      <td>23.2.7</td>\n",
       "      <td>1.1. По настоящему Договору Агент обязуется за...</td>\n",
       "      <td>False</td>\n",
       "    </tr>\n",
       "    <tr>\n",
       "      <th>63a430e6beaa9eeec65ecb18</th>\n",
       "      <td>2023-02-07 17:39:00.433</td>\n",
       "      <td>NaN</td>\n",
       "      <td>BankGuarantees</td>\n",
       "      <td>NaN</td>\n",
       "      <td>NaN</td>\n",
       "      <td>1.000000e+11</td>\n",
       "      <td>NaN</td>\n",
       "      <td>RUB</td>\n",
       "      <td>23.2.7</td>\n",
       "      <td></td>\n",
       "      <td>...</td>\n",
       "      <td>NaN</td>\n",
       "      <td>BankGuarantees</td>\n",
       "      <td>1.000000e+11</td>\n",
       "      <td>NaN</td>\n",
       "      <td>NaN</td>\n",
       "      <td>NaN</td>\n",
       "      <td>RUB</td>\n",
       "      <td>23.2.7</td>\n",
       "      <td>недействительностью Договора (в том числе выте...</td>\n",
       "      <td>False</td>\n",
       "    </tr>\n",
       "    <tr>\n",
       "      <th>63ac1faa862ea92bf713c50d</th>\n",
       "      <td>2023-02-01 22:18:34.762</td>\n",
       "      <td>1598-8745-963</td>\n",
       "      <td>Deal</td>\n",
       "      <td>NaN</td>\n",
       "      <td>NaN</td>\n",
       "      <td>7.000000e+06</td>\n",
       "      <td>8400000.0</td>\n",
       "      <td>RUB</td>\n",
       "      <td>23.2.1</td>\n",
       "      <td></td>\n",
       "      <td>...</td>\n",
       "      <td>1598-8745-963</td>\n",
       "      <td>Deal</td>\n",
       "      <td>7.000000e+06</td>\n",
       "      <td>NaN</td>\n",
       "      <td>NaN</td>\n",
       "      <td>20.0</td>\n",
       "      <td>RUB</td>\n",
       "      <td>23.2.7</td>\n",
       "      <td>1.1. По настоящему договору Продавец обязуется...</td>\n",
       "      <td>False</td>\n",
       "    </tr>\n",
       "    <tr>\n",
       "      <th>63a43092beaa9eeec65ecb09</th>\n",
       "      <td>2022-12-22 13:55:50.258</td>\n",
       "      <td>110801/20</td>\n",
       "      <td>Deal</td>\n",
       "      <td>1.550000e+10</td>\n",
       "      <td>NaN</td>\n",
       "      <td>1.550000e+10</td>\n",
       "      <td>NaN</td>\n",
       "      <td>RUB</td>\n",
       "      <td>22.12.15.1</td>\n",
       "      <td></td>\n",
       "      <td>...</td>\n",
       "      <td>110801/20</td>\n",
       "      <td>BankGuarantees</td>\n",
       "      <td>1.550000e+10</td>\n",
       "      <td>NaN</td>\n",
       "      <td>NaN</td>\n",
       "      <td>NaN</td>\n",
       "      <td>RUB</td>\n",
       "      <td>23.2.7</td>\n",
       "      <td>обязуется отвечать перед БАНКОМ за исполнение ...</td>\n",
       "      <td>True</td>\n",
       "    </tr>\n",
       "    <tr>\n",
       "      <th>63c506c0e2456d59975e1170</th>\n",
       "      <td>2023-01-16 13:03:32.741</td>\n",
       "      <td>ГНЭ-21/29/00761/Д</td>\n",
       "      <td>Deal</td>\n",
       "      <td>NaN</td>\n",
       "      <td>NaN</td>\n",
       "      <td>NaN</td>\n",
       "      <td>NaN</td>\n",
       "      <td>NaN</td>\n",
       "      <td>23.01.04</td>\n",
       "      <td></td>\n",
       "      <td>...</td>\n",
       "      <td>ГНЭ-21/29/00761/Д</td>\n",
       "      <td>Service</td>\n",
       "      <td>NaN</td>\n",
       "      <td>NaN</td>\n",
       "      <td>NaN</td>\n",
       "      <td>NaN</td>\n",
       "      <td>NaN</td>\n",
       "      <td>23.2.7</td>\n",
       "      <td>1.1. Поставщик обязуется в течение срока дейст...</td>\n",
       "      <td>True</td>\n",
       "    </tr>\n",
       "    <tr>\n",
       "      <th>...</th>\n",
       "      <td>...</td>\n",
       "      <td>...</td>\n",
       "      <td>...</td>\n",
       "      <td>...</td>\n",
       "      <td>...</td>\n",
       "      <td>...</td>\n",
       "      <td>...</td>\n",
       "      <td>...</td>\n",
       "      <td>...</td>\n",
       "      <td>...</td>\n",
       "      <td>...</td>\n",
       "      <td>...</td>\n",
       "      <td>...</td>\n",
       "      <td>...</td>\n",
       "      <td>...</td>\n",
       "      <td>...</td>\n",
       "      <td>...</td>\n",
       "      <td>...</td>\n",
       "      <td>...</td>\n",
       "      <td>...</td>\n",
       "      <td>...</td>\n",
       "    </tr>\n",
       "    <tr>\n",
       "      <th>63c506ebe2456d59975e1599</th>\n",
       "      <td>2023-01-16 11:19:15.838</td>\n",
       "      <td>__</td>\n",
       "      <td>NaN</td>\n",
       "      <td>NaN</td>\n",
       "      <td>NaN</td>\n",
       "      <td>NaN</td>\n",
       "      <td>NaN</td>\n",
       "      <td>NaN</td>\n",
       "      <td>23.01.04</td>\n",
       "      <td></td>\n",
       "      <td>...</td>\n",
       "      <td>__</td>\n",
       "      <td>Service</td>\n",
       "      <td>5.200000e+02</td>\n",
       "      <td>NaN</td>\n",
       "      <td>NaN</td>\n",
       "      <td>NaN</td>\n",
       "      <td>RUB</td>\n",
       "      <td>23.2.7</td>\n",
       "      <td>. Заказчик поручает и обязуется оплатить, а Ис...</td>\n",
       "      <td>True</td>\n",
       "    </tr>\n",
       "    <tr>\n",
       "      <th>63c506b9e2456d59975e10aa</th>\n",
       "      <td>2023-01-16 11:17:00.976</td>\n",
       "      <td>NaN</td>\n",
       "      <td>NaN</td>\n",
       "      <td>NaN</td>\n",
       "      <td>NaN</td>\n",
       "      <td>NaN</td>\n",
       "      <td>NaN</td>\n",
       "      <td>NaN</td>\n",
       "      <td>23.01.04</td>\n",
       "      <td></td>\n",
       "      <td>...</td>\n",
       "      <td>NaN</td>\n",
       "      <td>Service</td>\n",
       "      <td>1.000000e+01</td>\n",
       "      <td>NaN</td>\n",
       "      <td>NaN</td>\n",
       "      <td>NaN</td>\n",
       "      <td>RUB</td>\n",
       "      <td>23.2.7</td>\n",
       "      <td>1.1. Исполнитель по поручению Заказчика обязуе...</td>\n",
       "      <td>True</td>\n",
       "    </tr>\n",
       "    <tr>\n",
       "      <th>63c506bde2456d59975e1118</th>\n",
       "      <td>2023-01-16 11:17:13.396</td>\n",
       "      <td>У-2018</td>\n",
       "      <td>NaN</td>\n",
       "      <td>NaN</td>\n",
       "      <td>NaN</td>\n",
       "      <td>NaN</td>\n",
       "      <td>NaN</td>\n",
       "      <td>NaN</td>\n",
       "      <td>23.01.04</td>\n",
       "      <td></td>\n",
       "      <td>...</td>\n",
       "      <td>У-2018</td>\n",
       "      <td>Service</td>\n",
       "      <td>NaN</td>\n",
       "      <td>NaN</td>\n",
       "      <td>NaN</td>\n",
       "      <td>NaN</td>\n",
       "      <td>NaN</td>\n",
       "      <td>23.2.7</td>\n",
       "      <td>По настоящему Договору Исполнитель обязуется о...</td>\n",
       "      <td>True</td>\n",
       "    </tr>\n",
       "    <tr>\n",
       "      <th>63c506b9e2456d59975e10b5</th>\n",
       "      <td>2023-01-16 11:17:02.645</td>\n",
       "      <td>NaN</td>\n",
       "      <td>NaN</td>\n",
       "      <td>NaN</td>\n",
       "      <td>NaN</td>\n",
       "      <td>NaN</td>\n",
       "      <td>NaN</td>\n",
       "      <td>NaN</td>\n",
       "      <td>23.01.04</td>\n",
       "      <td></td>\n",
       "      <td>...</td>\n",
       "      <td>NaN</td>\n",
       "      <td>Deal</td>\n",
       "      <td>1.000000e+05</td>\n",
       "      <td>NaN</td>\n",
       "      <td>NaN</td>\n",
       "      <td>NaN</td>\n",
       "      <td>RUB</td>\n",
       "      <td>23.2.7</td>\n",
       "      <td>2.1. Поставщик обязуется поставить информацион...</td>\n",
       "      <td>True</td>\n",
       "    </tr>\n",
       "    <tr>\n",
       "      <th>63c506cce2456d59975e12c3</th>\n",
       "      <td>2023-01-16 11:17:55.753</td>\n",
       "      <td>____</td>\n",
       "      <td>NaN</td>\n",
       "      <td>NaN</td>\n",
       "      <td>NaN</td>\n",
       "      <td>NaN</td>\n",
       "      <td>NaN</td>\n",
       "      <td>NaN</td>\n",
       "      <td>23.01.04</td>\n",
       "      <td></td>\n",
       "      <td>...</td>\n",
       "      <td>NaN</td>\n",
       "      <td>Deal</td>\n",
       "      <td>1.000000e+01</td>\n",
       "      <td>NaN</td>\n",
       "      <td>NaN</td>\n",
       "      <td>NaN</td>\n",
       "      <td>RUB</td>\n",
       "      <td>23.2.7</td>\n",
       "      <td>2.1. Поставщик принимает на себя обязательства...</td>\n",
       "      <td>True</td>\n",
       "    </tr>\n",
       "  </tbody>\n",
       "</table>\n",
       "<p>171 rows × 21 columns</p>\n",
       "</div>"
      ],
      "text/plain": [
       "                           analyze_timestamp _old        number _old  \\\n",
       "63c506c4e2456d59975e11ea  2023-01-16 13:16:27.750                NaN   \n",
       "63a430e6beaa9eeec65ecb18  2023-02-07 17:39:00.433                NaN   \n",
       "63ac1faa862ea92bf713c50d  2023-02-01 22:18:34.762      1598-8745-963   \n",
       "63a43092beaa9eeec65ecb09  2022-12-22 13:55:50.258          110801/20   \n",
       "63c506c0e2456d59975e1170  2023-01-16 13:03:32.741  ГНЭ-21/29/00761/Д   \n",
       "...                                           ...                ...   \n",
       "63c506ebe2456d59975e1599  2023-01-16 11:19:15.838                 __   \n",
       "63c506b9e2456d59975e10aa  2023-01-16 11:17:00.976                NaN   \n",
       "63c506bde2456d59975e1118  2023-01-16 11:17:13.396             У-2018   \n",
       "63c506b9e2456d59975e10b5  2023-01-16 11:17:02.645                NaN   \n",
       "63c506cce2456d59975e12c3  2023-01-16 11:17:55.753               ____   \n",
       "\n",
       "                            subject _old  amount_netto _old  \\\n",
       "63c506c4e2456d59975e11ea  AgencyContract       4.100000e+02   \n",
       "63a430e6beaa9eeec65ecb18  BankGuarantees                NaN   \n",
       "63ac1faa862ea92bf713c50d            Deal                NaN   \n",
       "63a43092beaa9eeec65ecb09            Deal       1.550000e+10   \n",
       "63c506c0e2456d59975e1170            Deal                NaN   \n",
       "...                                  ...                ...   \n",
       "63c506ebe2456d59975e1599             NaN                NaN   \n",
       "63c506b9e2456d59975e10aa             NaN                NaN   \n",
       "63c506bde2456d59975e1118             NaN                NaN   \n",
       "63c506b9e2456d59975e10b5             NaN                NaN   \n",
       "63c506cce2456d59975e12c3             NaN                NaN   \n",
       "\n",
       "                          amount_brutto _old   amount _old   vat _old  \\\n",
       "63c506c4e2456d59975e11ea                 NaN  4.100000e+02        NaN   \n",
       "63a430e6beaa9eeec65ecb18                 NaN  1.000000e+11        NaN   \n",
       "63ac1faa862ea92bf713c50d                 NaN  7.000000e+06  8400000.0   \n",
       "63a43092beaa9eeec65ecb09                 NaN  1.550000e+10        NaN   \n",
       "63c506c0e2456d59975e1170                 NaN           NaN        NaN   \n",
       "...                                      ...           ...        ...   \n",
       "63c506ebe2456d59975e1599                 NaN           NaN        NaN   \n",
       "63c506b9e2456d59975e10aa                 NaN           NaN        NaN   \n",
       "63c506bde2456d59975e1118                 NaN           NaN        NaN   \n",
       "63c506b9e2456d59975e10b5                 NaN           NaN        NaN   \n",
       "63c506cce2456d59975e12c3                 NaN           NaN        NaN   \n",
       "\n",
       "                         currency _old analysis.version _old  \\\n",
       "63c506c4e2456d59975e11ea           RUB              23.01.04   \n",
       "63a430e6beaa9eeec65ecb18           RUB                23.2.7   \n",
       "63ac1faa862ea92bf713c50d           RUB                23.2.1   \n",
       "63a43092beaa9eeec65ecb09           RUB            22.12.15.1   \n",
       "63c506c0e2456d59975e1170           NaN              23.01.04   \n",
       "...                                ...                   ...   \n",
       "63c506ebe2456d59975e1599           NaN              23.01.04   \n",
       "63c506b9e2456d59975e10aa           NaN              23.01.04   \n",
       "63c506bde2456d59975e1118           NaN              23.01.04   \n",
       "63c506b9e2456d59975e10b5           NaN              23.01.04   \n",
       "63c506cce2456d59975e12c3           NaN              23.01.04   \n",
       "\n",
       "                         subject quote _old  ...        number _new  \\\n",
       "63c506c4e2456d59975e11ea                     ...                NaN   \n",
       "63a430e6beaa9eeec65ecb18                     ...                NaN   \n",
       "63ac1faa862ea92bf713c50d                     ...      1598-8745-963   \n",
       "63a43092beaa9eeec65ecb09                     ...          110801/20   \n",
       "63c506c0e2456d59975e1170                     ...  ГНЭ-21/29/00761/Д   \n",
       "...                                     ...  ...                ...   \n",
       "63c506ebe2456d59975e1599                     ...                 __   \n",
       "63c506b9e2456d59975e10aa                     ...                NaN   \n",
       "63c506bde2456d59975e1118                     ...             У-2018   \n",
       "63c506b9e2456d59975e10b5                     ...                NaN   \n",
       "63c506cce2456d59975e12c3                     ...                NaN   \n",
       "\n",
       "                            subject _new amount_netto _new  \\\n",
       "63c506c4e2456d59975e11ea  AgencyContract      4.100000e+02   \n",
       "63a430e6beaa9eeec65ecb18  BankGuarantees      1.000000e+11   \n",
       "63ac1faa862ea92bf713c50d            Deal      7.000000e+06   \n",
       "63a43092beaa9eeec65ecb09  BankGuarantees      1.550000e+10   \n",
       "63c506c0e2456d59975e1170         Service               NaN   \n",
       "...                                  ...               ...   \n",
       "63c506ebe2456d59975e1599         Service      5.200000e+02   \n",
       "63c506b9e2456d59975e10aa         Service      1.000000e+01   \n",
       "63c506bde2456d59975e1118         Service               NaN   \n",
       "63c506b9e2456d59975e10b5            Deal      1.000000e+05   \n",
       "63c506cce2456d59975e12c3            Deal      1.000000e+01   \n",
       "\n",
       "                          amount_brutto _new  amount _new  vat _new  \\\n",
       "63c506c4e2456d59975e11ea                 NaN          NaN       NaN   \n",
       "63a430e6beaa9eeec65ecb18                 NaN          NaN       NaN   \n",
       "63ac1faa862ea92bf713c50d                 NaN          NaN      20.0   \n",
       "63a43092beaa9eeec65ecb09                 NaN          NaN       NaN   \n",
       "63c506c0e2456d59975e1170                 NaN          NaN       NaN   \n",
       "...                                      ...          ...       ...   \n",
       "63c506ebe2456d59975e1599                 NaN          NaN       NaN   \n",
       "63c506b9e2456d59975e10aa                 NaN          NaN       NaN   \n",
       "63c506bde2456d59975e1118                 NaN          NaN       NaN   \n",
       "63c506b9e2456d59975e10b5                 NaN          NaN       NaN   \n",
       "63c506cce2456d59975e12c3                 NaN          NaN       NaN   \n",
       "\n",
       "                          currency _new analysis.version _new  \\\n",
       "63c506c4e2456d59975e11ea            RUB                23.2.7   \n",
       "63a430e6beaa9eeec65ecb18            RUB                23.2.7   \n",
       "63ac1faa862ea92bf713c50d            RUB                23.2.7   \n",
       "63a43092beaa9eeec65ecb09            RUB                23.2.7   \n",
       "63c506c0e2456d59975e1170            NaN                23.2.7   \n",
       "...                                 ...                   ...   \n",
       "63c506ebe2456d59975e1599            RUB                23.2.7   \n",
       "63c506b9e2456d59975e10aa            RUB                23.2.7   \n",
       "63c506bde2456d59975e1118            NaN                23.2.7   \n",
       "63c506b9e2456d59975e10b5            RUB                23.2.7   \n",
       "63c506cce2456d59975e12c3            RUB                23.2.7   \n",
       "\n",
       "                                                         subject quote _new  \\\n",
       "63c506c4e2456d59975e11ea  1.1. По настоящему Договору Агент обязуется за...   \n",
       "63a430e6beaa9eeec65ecb18  недействительностью Договора (в том числе выте...   \n",
       "63ac1faa862ea92bf713c50d  1.1. По настоящему договору Продавец обязуется...   \n",
       "63a43092beaa9eeec65ecb09  обязуется отвечать перед БАНКОМ за исполнение ...   \n",
       "63c506c0e2456d59975e1170  1.1. Поставщик обязуется в течение срока дейст...   \n",
       "...                                                                     ...   \n",
       "63c506ebe2456d59975e1599  . Заказчик поручает и обязуется оплатить, а Ис...   \n",
       "63c506b9e2456d59975e10aa  1.1. Исполнитель по поручению Заказчика обязуе...   \n",
       "63c506bde2456d59975e1118  По настоящему Договору Исполнитель обязуется о...   \n",
       "63c506b9e2456d59975e10b5  2.1. Поставщик обязуется поставить информацион...   \n",
       "63c506cce2456d59975e12c3  2.1. Поставщик принимает на себя обязательства...   \n",
       "\n",
       "                         Предмет изменился  \n",
       "63c506c4e2456d59975e11ea             False  \n",
       "63a430e6beaa9eeec65ecb18             False  \n",
       "63ac1faa862ea92bf713c50d             False  \n",
       "63a43092beaa9eeec65ecb09              True  \n",
       "63c506c0e2456d59975e1170              True  \n",
       "...                                    ...  \n",
       "63c506ebe2456d59975e1599              True  \n",
       "63c506b9e2456d59975e10aa              True  \n",
       "63c506bde2456d59975e1118              True  \n",
       "63c506b9e2456d59975e10b5              True  \n",
       "63c506cce2456d59975e12c3              True  \n",
       "\n",
       "[171 rows x 21 columns]"
      ]
     },
     "execution_count": 5,
     "metadata": {},
     "output_type": "execute_result"
    }
   ],
   "source": [
    "df"
   ]
  },
  {
   "cell_type": "code",
   "execution_count": 6,
   "id": "4e5c58b6",
   "metadata": {},
   "outputs": [],
   "source": [
    "if df is None:\n",
    "    df=pd.DataFrame()\n",
    "    load_docs_data(ids, df, ' _old')\n",
    "    df = df.sort_values(['subject _old', 'subject quote _old'])\n",
    "    df.to_csv('495-contracts-re-analyze-subj.csv')"
   ]
  },
  {
   "cell_type": "code",
   "execution_count": 8,
   "id": "d9cfd5c2",
   "metadata": {},
   "outputs": [
    {
     "name": "stdout",
     "output_type": "stream",
     "text": [
      "HyperParameters.subsidiary_name_match_min_jaro_similarity 0.9649122807017544\n"
     ]
    },
    {
     "name": "stderr",
     "output_type": "stream",
     "text": [
      "[documents.py:270 -             __init__() ] loading word cases stats model from: /root/artem/analyser/analyser/vocab/word_cases_stats.pickle\n",
      "[currencies.py:17 -             _env_var() ] Currency-service : define GPN_CURRENCY_USER environment variable! defaulting to None\n",
      "[currencies.py:17 -             _env_var() ] Currency-service : define GPN_CURRENCY_PASSWORD environment variable! defaulting to None\n",
      "[currencies.py:17 -             _env_var() ] Currency-service : define GPN_CURRENCY_URL environment variable! defaulting to None\n",
      "[tools.py:29 -             __init__() ] model_checkpoint_path: /root/artem/analyser/analyser/vocab\n",
      "[tools.py:29 -             __init__() ] model_checkpoint_path: /root/artem/analyser/analyser/vocab\n",
      "2023-02-11 09:33:10.781914: I tensorflow/stream_executor/platform/default/dso_loader.cc:53] Successfully opened dynamic library libcuda.so.1\n",
      "2023-02-11 09:33:10.855484: I tensorflow/stream_executor/cuda/cuda_gpu_executor.cc:937] successful NUMA node read from SysFS had negative value (-1), but there must be at least one NUMA node, so returning NUMA node zero\n",
      "2023-02-11 09:33:10.855656: I tensorflow/core/common_runtime/gpu/gpu_device.cc:1733] Found device 0 with properties: \n",
      "pciBusID: 0000:01:00.0 name: A100-PCIE-40GB computeCapability: 8.0\n",
      "coreClock: 1.41GHz coreCount: 108 deviceMemorySize: 39.59GiB deviceMemoryBandwidth: 1.41TiB/s\n",
      "2023-02-11 09:33:10.855689: I tensorflow/stream_executor/platform/default/dso_loader.cc:53] Successfully opened dynamic library libcudart.so.11.0\n",
      "2023-02-11 09:33:10.855729: I tensorflow/stream_executor/platform/default/dso_loader.cc:53] Successfully opened dynamic library libcublas.so.11\n",
      "2023-02-11 09:33:10.855750: I tensorflow/stream_executor/platform/default/dso_loader.cc:53] Successfully opened dynamic library libcublasLt.so.11\n",
      "2023-02-11 09:33:10.879160: I tensorflow/stream_executor/platform/default/dso_loader.cc:53] Successfully opened dynamic library libcufft.so.10\n",
      "2023-02-11 09:33:10.897514: I tensorflow/stream_executor/platform/default/dso_loader.cc:53] Successfully opened dynamic library libcurand.so.10\n",
      "2023-02-11 09:33:10.937440: I tensorflow/stream_executor/platform/default/dso_loader.cc:53] Successfully opened dynamic library libcusolver.so.11\n",
      "2023-02-11 09:33:10.982118: I tensorflow/stream_executor/platform/default/dso_loader.cc:53] Successfully opened dynamic library libcusparse.so.11\n",
      "2023-02-11 09:33:10.982225: I tensorflow/stream_executor/platform/default/dso_loader.cc:53] Successfully opened dynamic library libcudnn.so.8\n",
      "2023-02-11 09:33:10.982316: I tensorflow/stream_executor/cuda/cuda_gpu_executor.cc:937] successful NUMA node read from SysFS had negative value (-1), but there must be at least one NUMA node, so returning NUMA node zero\n",
      "2023-02-11 09:33:10.982508: I tensorflow/stream_executor/cuda/cuda_gpu_executor.cc:937] successful NUMA node read from SysFS had negative value (-1), but there must be at least one NUMA node, so returning NUMA node zero\n",
      "2023-02-11 09:33:10.984963: I tensorflow/core/common_runtime/gpu/gpu_device.cc:1871] Adding visible gpu devices: 0\n",
      "2023-02-11 09:33:10.985369: I tensorflow/core/platform/cpu_feature_guard.cc:142] This TensorFlow binary is optimized with oneAPI Deep Neural Network Library (oneDNN) to use the following CPU instructions in performance-critical operations:  AVX2 FMA\n",
      "To enable them in other operations, rebuild TensorFlow with the appropriate compiler flags.\n",
      "2023-02-11 09:33:10.986095: I tensorflow/stream_executor/cuda/cuda_gpu_executor.cc:937] successful NUMA node read from SysFS had negative value (-1), but there must be at least one NUMA node, so returning NUMA node zero\n",
      "2023-02-11 09:33:10.986438: I tensorflow/core/common_runtime/gpu/gpu_device.cc:1733] Found device 0 with properties: \n",
      "pciBusID: 0000:01:00.0 name: A100-PCIE-40GB computeCapability: 8.0\n",
      "coreClock: 1.41GHz coreCount: 108 deviceMemorySize: 39.59GiB deviceMemoryBandwidth: 1.41TiB/s\n",
      "2023-02-11 09:33:10.986492: I tensorflow/stream_executor/cuda/cuda_gpu_executor.cc:937] successful NUMA node read from SysFS had negative value (-1), but there must be at least one NUMA node, so returning NUMA node zero\n",
      "2023-02-11 09:33:10.986649: I tensorflow/stream_executor/cuda/cuda_gpu_executor.cc:937] successful NUMA node read from SysFS had negative value (-1), but there must be at least one NUMA node, so returning NUMA node zero\n",
      "2023-02-11 09:33:10.986772: I tensorflow/core/common_runtime/gpu/gpu_device.cc:1871] Adding visible gpu devices: 0\n",
      "2023-02-11 09:33:10.986801: I tensorflow/stream_executor/platform/default/dso_loader.cc:53] Successfully opened dynamic library libcudart.so.11.0\n"
     ]
    },
    {
     "ename": "InternalError",
     "evalue": "CUDA runtime implicit initialization on GPU:0 failed. Status: out of memory",
     "output_type": "error",
     "traceback": [
      "\u001b[0;31m---------------------------------------------------------------------------\u001b[0m",
      "\u001b[0;31mInternalError\u001b[0m                             Traceback (most recent call last)",
      "Cell \u001b[0;32mIn[8], line 7\u001b[0m\n\u001b[1;32m      5\u001b[0m \u001b[38;5;28;01mfrom\u001b[39;00m \u001b[38;5;21;01manalyser\u001b[39;00m\u001b[38;5;21;01m.\u001b[39;00m\u001b[38;5;21;01mparsing\u001b[39;00m \u001b[38;5;28;01mimport\u001b[39;00m AuditContext\n\u001b[1;32m      6\u001b[0m \u001b[38;5;28;01mfrom\u001b[39;00m \u001b[38;5;21;01manalyser\u001b[39;00m\u001b[38;5;21;01m.\u001b[39;00m\u001b[38;5;21;01mpersistence\u001b[39;00m \u001b[38;5;28;01mimport\u001b[39;00m DbJsonDoc\n\u001b[0;32m----> 7\u001b[0m \u001b[38;5;28;01mfrom\u001b[39;00m \u001b[38;5;21;01manalyser\u001b[39;00m\u001b[38;5;21;01m.\u001b[39;00m\u001b[38;5;21;01mrunner\u001b[39;00m \u001b[38;5;28;01mimport\u001b[39;00m BaseProcessor, document_processors, CONTRACT\n\u001b[1;32m     10\u001b[0m \u001b[38;5;28;01mdef\u001b[39;00m \u001b[38;5;21mre_analyze_contract\u001b[39m(_id):\n\u001b[1;32m     11\u001b[0m   processor: BaseProcessor \u001b[38;5;241m=\u001b[39m document_processors[CONTRACT]\n",
      "File \u001b[0;32m~/artem/analyser/analyser/runner.py:55\u001b[0m\n\u001b[1;32m     51\u001b[0m       Runner\u001b[38;5;241m.\u001b[39mdefault_instance \u001b[38;5;241m=\u001b[39m Runner(init_embedder\u001b[38;5;241m=\u001b[39minit_embedder)\n\u001b[1;32m     52\u001b[0m     \u001b[38;5;28;01mreturn\u001b[39;00m Runner\u001b[38;5;241m.\u001b[39mdefault_instance\n\u001b[0;32m---> 55\u001b[0m \u001b[38;5;28;01mclass\u001b[39;00m \u001b[38;5;21;01mBaseProcessor\u001b[39;00m:\n\u001b[1;32m     56\u001b[0m   parser \u001b[38;5;241m=\u001b[39m \u001b[38;5;28;01mNone\u001b[39;00m\n\u001b[1;32m     57\u001b[0m   generic_parser \u001b[38;5;241m=\u001b[39m Runner\u001b[38;5;241m.\u001b[39mget_instance()\u001b[38;5;241m.\u001b[39mgeneric_parser\n",
      "File \u001b[0;32m~/artem/analyser/analyser/runner.py:57\u001b[0m, in \u001b[0;36mBaseProcessor\u001b[0;34m()\u001b[0m\n\u001b[1;32m     55\u001b[0m \u001b[38;5;28;01mclass\u001b[39;00m \u001b[38;5;21;01mBaseProcessor\u001b[39;00m:\n\u001b[1;32m     56\u001b[0m   parser \u001b[38;5;241m=\u001b[39m \u001b[38;5;28;01mNone\u001b[39;00m\n\u001b[0;32m---> 57\u001b[0m   generic_parser \u001b[38;5;241m=\u001b[39m \u001b[43mRunner\u001b[49m\u001b[38;5;241;43m.\u001b[39;49m\u001b[43mget_instance\u001b[49m\u001b[43m(\u001b[49m\u001b[43m)\u001b[49m\u001b[38;5;241m.\u001b[39mgeneric_parser\n\u001b[1;32m     59\u001b[0m   \u001b[38;5;28;01mdef\u001b[39;00m \u001b[38;5;21mpreprocess\u001b[39m(\u001b[38;5;28mself\u001b[39m, jdoc: DbJsonDoc, context: AuditContext) \u001b[38;5;241m-\u001b[39m\u001b[38;5;241m>\u001b[39m DbJsonDoc:\n\u001b[1;32m     60\u001b[0m     \u001b[38;5;66;03m# phase I\u001b[39;00m\n\u001b[1;32m     61\u001b[0m     \u001b[38;5;66;03m# TODO: include phase I into phase II, remove phase I\u001b[39;00m\n\u001b[1;32m     62\u001b[0m     \u001b[38;5;28;01mif\u001b[39;00m jdoc\u001b[38;5;241m.\u001b[39mis_user_corrected():\n",
      "File \u001b[0;32m~/artem/analyser/analyser/runner.py:51\u001b[0m, in \u001b[0;36mRunner.get_instance\u001b[0;34m(init_embedder)\u001b[0m\n\u001b[1;32m     48\u001b[0m \u001b[38;5;129m@staticmethod\u001b[39m\n\u001b[1;32m     49\u001b[0m \u001b[38;5;28;01mdef\u001b[39;00m \u001b[38;5;21mget_instance\u001b[39m(init_embedder\u001b[38;5;241m=\u001b[39m\u001b[38;5;28;01mFalse\u001b[39;00m) \u001b[38;5;241m-\u001b[39m\u001b[38;5;241m>\u001b[39m \u001b[38;5;124m'\u001b[39m\u001b[38;5;124mRunner\u001b[39m\u001b[38;5;124m'\u001b[39m:\n\u001b[1;32m     50\u001b[0m   \u001b[38;5;28;01mif\u001b[39;00m Runner\u001b[38;5;241m.\u001b[39mdefault_instance \u001b[38;5;129;01mis\u001b[39;00m \u001b[38;5;28;01mNone\u001b[39;00m:\n\u001b[0;32m---> 51\u001b[0m     Runner\u001b[38;5;241m.\u001b[39mdefault_instance \u001b[38;5;241m=\u001b[39m \u001b[43mRunner\u001b[49m\u001b[43m(\u001b[49m\u001b[43minit_embedder\u001b[49m\u001b[38;5;241;43m=\u001b[39;49m\u001b[43minit_embedder\u001b[49m\u001b[43m)\u001b[49m\n\u001b[1;32m     52\u001b[0m   \u001b[38;5;28;01mreturn\u001b[39;00m Runner\u001b[38;5;241m.\u001b[39mdefault_instance\n",
      "File \u001b[0;32m~/artem/analyser/analyser/runner.py:41\u001b[0m, in \u001b[0;36mRunner.__init__\u001b[0;34m(self, init_embedder)\u001b[0m\n\u001b[1;32m     39\u001b[0m \u001b[38;5;28;01mdef\u001b[39;00m \u001b[38;5;21m__init__\u001b[39m(\u001b[38;5;28mself\u001b[39m, init_embedder\u001b[38;5;241m=\u001b[39m\u001b[38;5;28;01mTrue\u001b[39;00m):\n\u001b[1;32m     40\u001b[0m   \u001b[38;5;28mself\u001b[39m\u001b[38;5;241m.\u001b[39mprotocol_parser \u001b[38;5;241m=\u001b[39m ProtocolParser()\n\u001b[0;32m---> 41\u001b[0m   \u001b[38;5;28mself\u001b[39m\u001b[38;5;241m.\u001b[39mcontract_parser \u001b[38;5;241m=\u001b[39m \u001b[43mContractParser\u001b[49m\u001b[43m(\u001b[49m\u001b[43m)\u001b[49m\n\u001b[1;32m     42\u001b[0m   \u001b[38;5;28mself\u001b[39m\u001b[38;5;241m.\u001b[39mcharter_parser \u001b[38;5;241m=\u001b[39m CharterParser()\n\u001b[1;32m     43\u001b[0m   \u001b[38;5;28mself\u001b[39m\u001b[38;5;241m.\u001b[39mgeneric_parser \u001b[38;5;241m=\u001b[39m GenericParser()\n",
      "File \u001b[0;32m~/artem/analyser/analyser/contract_parser.py:84\u001b[0m, in \u001b[0;36mContractParser.__init__\u001b[0;34m(self, embedder, sentence_embedder)\u001b[0m\n\u001b[1;32m     82\u001b[0m \u001b[38;5;28;01mdef\u001b[39;00m \u001b[38;5;21m__init__\u001b[39m(\u001b[38;5;28mself\u001b[39m, embedder\u001b[38;5;241m=\u001b[39m\u001b[38;5;28;01mNone\u001b[39;00m, sentence_embedder\u001b[38;5;241m=\u001b[39m\u001b[38;5;28;01mNone\u001b[39;00m):\n\u001b[1;32m     83\u001b[0m   ParsingContext\u001b[38;5;241m.\u001b[39m\u001b[38;5;21m__init__\u001b[39m(\u001b[38;5;28mself\u001b[39m, embedder, sentence_embedder)\n\u001b[0;32m---> 84\u001b[0m   \u001b[38;5;28mself\u001b[39m\u001b[38;5;241m.\u001b[39msubject_prediction_model \u001b[38;5;241m=\u001b[39m \u001b[43mload_subject_detection_trained_model\u001b[49m\u001b[43m(\u001b[49m\u001b[43m)\u001b[49m\n\u001b[1;32m     85\u001b[0m   \u001b[38;5;28mself\u001b[39m\u001b[38;5;241m.\u001b[39minsides_finder \u001b[38;5;241m=\u001b[39m InsidesFinder()\n",
      "File \u001b[0;32m~/artem/analyser/tf_support/tf_subject_model.py:116\u001b[0m, in \u001b[0;36mload_subject_detection_trained_model\u001b[0;34m()\u001b[0m\n\u001b[1;32m    113\u001b[0m \u001b[38;5;28;01mdef\u001b[39;00m \u001b[38;5;21mload_subject_detection_trained_model\u001b[39m() \u001b[38;5;241m-\u001b[39m\u001b[38;5;241m>\u001b[39m Model:\n\u001b[1;32m    114\u001b[0m   ctx \u001b[38;5;241m=\u001b[39m KerasTrainingContext(models_path)\n\u001b[0;32m--> 116\u001b[0m   final_model \u001b[38;5;241m=\u001b[39m \u001b[43mctx\u001b[49m\u001b[38;5;241;43m.\u001b[39;49m\u001b[43minit_model\u001b[49m\u001b[43m(\u001b[49m\u001b[43mmake_att_model\u001b[49m\u001b[43m,\u001b[49m\u001b[43m \u001b[49m\u001b[43mtrained\u001b[49m\u001b[38;5;241;43m=\u001b[39;49m\u001b[38;5;28;43;01mTrue\u001b[39;49;00m\u001b[43m,\u001b[49m\u001b[43m \u001b[49m\u001b[43mtrainable\u001b[49m\u001b[38;5;241;43m=\u001b[39;49m\u001b[38;5;28;43;01mFalse\u001b[39;49;00m\u001b[43m,\u001b[49m\u001b[43m \u001b[49m\u001b[43mverbose\u001b[49m\u001b[38;5;241;43m=\u001b[39;49m\u001b[38;5;241;43m10\u001b[39;49m\u001b[43m)\u001b[49m\n\u001b[1;32m    118\u001b[0m   \u001b[38;5;66;03m# print(final_model.name)\u001b[39;00m\n\u001b[1;32m    119\u001b[0m   \u001b[38;5;66;03m# final_model.summary()\u001b[39;00m\n\u001b[1;32m    121\u001b[0m   \u001b[38;5;28;01mreturn\u001b[39;00m final_model\n",
      "File \u001b[0;32m~/artem/analyser/tf_support/tools.py:106\u001b[0m, in \u001b[0;36mKerasTrainingContext.init_model\u001b[0;34m(self, model_factory_fn, model_name_override, weights_file_override, verbose, trainable, trained, load_weights, weights)\u001b[0m\n\u001b[1;32m    103\u001b[0m \u001b[38;5;28;01mif\u001b[39;00m model_name_override \u001b[38;5;129;01mis\u001b[39;00m \u001b[38;5;129;01mnot\u001b[39;00m \u001b[38;5;28;01mNone\u001b[39;00m:\n\u001b[1;32m    104\u001b[0m   model_name \u001b[38;5;241m=\u001b[39m model_name_override\n\u001b[0;32m--> 106\u001b[0m model \u001b[38;5;241m=\u001b[39m \u001b[43mmodel_factory_fn\u001b[49m\u001b[43m(\u001b[49m\u001b[43mname\u001b[49m\u001b[38;5;241;43m=\u001b[39;49m\u001b[43mmodel_name\u001b[49m\u001b[43m,\u001b[49m\u001b[43m \u001b[49m\u001b[43mctx\u001b[49m\u001b[38;5;241;43m=\u001b[39;49m\u001b[38;5;28;43mself\u001b[39;49m\u001b[43m,\u001b[49m\u001b[43m \u001b[49m\u001b[43mtrained\u001b[49m\u001b[38;5;241;43m=\u001b[39;49m\u001b[43mtrained\u001b[49m\u001b[43m)\u001b[49m\n\u001b[1;32m    107\u001b[0m \u001b[38;5;66;03m# model.name = model_name\u001b[39;00m\n\u001b[1;32m    108\u001b[0m \u001b[38;5;28;01mif\u001b[39;00m verbose \u001b[38;5;241m>\u001b[39m \u001b[38;5;241m1\u001b[39m:\n",
      "File \u001b[0;32m~/artem/analyser/tf_support/super_contract_model.py:373\u001b[0m, in \u001b[0;36mmake_att_model\u001b[0;34m(name, ctx, trained)\u001b[0m\n\u001b[1;32m    371\u001b[0m \u001b[38;5;28;01mdef\u001b[39;00m \u001b[38;5;21mmake_att_model\u001b[39m(name\u001b[38;5;241m=\u001b[39m\u001b[38;5;124m'\u001b[39m\u001b[38;5;124mmake_att_model\u001b[39m\u001b[38;5;124m'\u001b[39m, ctx: KerasTrainingContext \u001b[38;5;241m=\u001b[39m DEFAULT_TRAIN_CTX, trained\u001b[38;5;241m=\u001b[39m\u001b[38;5;28;01mFalse\u001b[39;00m):\n\u001b[1;32m    372\u001b[0m   input_text_emb \u001b[38;5;241m=\u001b[39m layers\u001b[38;5;241m.\u001b[39mInput(shape\u001b[38;5;241m=\u001b[39m[\u001b[38;5;28;01mNone\u001b[39;00m, config\u001b[38;5;241m.\u001b[39mEMBED_DIM], dtype\u001b[38;5;241m=\u001b[39m\u001b[38;5;124m'\u001b[39m\u001b[38;5;124mfloat32\u001b[39m\u001b[38;5;124m'\u001b[39m, name\u001b[38;5;241m=\u001b[39m\u001b[38;5;124m\"\u001b[39m\u001b[38;5;124minput_text_emb\u001b[39m\u001b[38;5;124m\"\u001b[39m)\n\u001b[0;32m--> 373\u001b[0m   _out \u001b[38;5;241m=\u001b[39m \u001b[43mlayers\u001b[49m\u001b[38;5;241;43m.\u001b[39;49m\u001b[43mBatchNormalization\u001b[49m\u001b[43m(\u001b[49m\u001b[43mname\u001b[49m\u001b[38;5;241;43m=\u001b[39;49m\u001b[38;5;124;43m\"\u001b[39;49m\u001b[38;5;124;43mbn1\u001b[39;49m\u001b[38;5;124;43m\"\u001b[39;49m\u001b[43m)\u001b[49m\u001b[43m(\u001b[49m\u001b[43minput_text_emb\u001b[49m\u001b[43m)\u001b[49m\n\u001b[1;32m    374\u001b[0m   _out \u001b[38;5;241m=\u001b[39m layers\u001b[38;5;241m.\u001b[39mDropout(\u001b[38;5;241m0.2\u001b[39m, name\u001b[38;5;241m=\u001b[39m\u001b[38;5;124m\"\u001b[39m\u001b[38;5;124mdrops\u001b[39m\u001b[38;5;124m\"\u001b[39m)(_out)  \u001b[38;5;66;03m# small_drops_of_poison\u001b[39;00m\n\u001b[1;32m    376\u001b[0m   token_features \u001b[38;5;241m=\u001b[39m layers\u001b[38;5;241m.\u001b[39mInput(shape\u001b[38;5;241m=\u001b[39m[\u001b[38;5;28;01mNone\u001b[39;00m, TOKEN_FEATURES], dtype\u001b[38;5;241m=\u001b[39m\u001b[38;5;124m'\u001b[39m\u001b[38;5;124mfloat32\u001b[39m\u001b[38;5;124m'\u001b[39m, name\u001b[38;5;241m=\u001b[39m\u001b[38;5;124m\"\u001b[39m\u001b[38;5;124mtoken_features\u001b[39m\u001b[38;5;124m\"\u001b[39m)\n",
      "File \u001b[0;32m~/artem/env/lib/python3.8/site-packages/tensorflow/python/keras/engine/base_layer.py:969\u001b[0m, in \u001b[0;36mLayer.__call__\u001b[0;34m(self, *args, **kwargs)\u001b[0m\n\u001b[1;32m    963\u001b[0m \u001b[38;5;66;03m# Functional Model construction mode is invoked when `Layer`s are called on\u001b[39;00m\n\u001b[1;32m    964\u001b[0m \u001b[38;5;66;03m# symbolic `KerasTensor`s, i.e.:\u001b[39;00m\n\u001b[1;32m    965\u001b[0m \u001b[38;5;66;03m# >> inputs = tf.keras.Input(10)\u001b[39;00m\n\u001b[1;32m    966\u001b[0m \u001b[38;5;66;03m# >> outputs = MyLayer()(inputs)  # Functional construction mode.\u001b[39;00m\n\u001b[1;32m    967\u001b[0m \u001b[38;5;66;03m# >> model = tf.keras.Model(inputs, outputs)\u001b[39;00m\n\u001b[1;32m    968\u001b[0m \u001b[38;5;28;01mif\u001b[39;00m _in_functional_construction_mode(\u001b[38;5;28mself\u001b[39m, inputs, args, kwargs, input_list):\n\u001b[0;32m--> 969\u001b[0m   \u001b[38;5;28;01mreturn\u001b[39;00m \u001b[38;5;28;43mself\u001b[39;49m\u001b[38;5;241;43m.\u001b[39;49m\u001b[43m_functional_construction_call\u001b[49m\u001b[43m(\u001b[49m\u001b[43minputs\u001b[49m\u001b[43m,\u001b[49m\u001b[43m \u001b[49m\u001b[43margs\u001b[49m\u001b[43m,\u001b[49m\u001b[43m \u001b[49m\u001b[43mkwargs\u001b[49m\u001b[43m,\u001b[49m\n\u001b[1;32m    970\u001b[0m \u001b[43m                                            \u001b[49m\u001b[43minput_list\u001b[49m\u001b[43m)\u001b[49m\n\u001b[1;32m    972\u001b[0m \u001b[38;5;66;03m# Maintains info about the `Layer.call` stack.\u001b[39;00m\n\u001b[1;32m    973\u001b[0m call_context \u001b[38;5;241m=\u001b[39m base_layer_utils\u001b[38;5;241m.\u001b[39mcall_context()\n",
      "File \u001b[0;32m~/artem/env/lib/python3.8/site-packages/tensorflow/python/keras/engine/base_layer.py:1107\u001b[0m, in \u001b[0;36mLayer._functional_construction_call\u001b[0;34m(self, inputs, args, kwargs, input_list)\u001b[0m\n\u001b[1;32m   1102\u001b[0m     training_arg_passed_by_framework \u001b[38;5;241m=\u001b[39m \u001b[38;5;28;01mTrue\u001b[39;00m\n\u001b[1;32m   1104\u001b[0m \u001b[38;5;28;01mwith\u001b[39;00m call_context\u001b[38;5;241m.\u001b[39menter(\n\u001b[1;32m   1105\u001b[0m     layer\u001b[38;5;241m=\u001b[39m\u001b[38;5;28mself\u001b[39m, inputs\u001b[38;5;241m=\u001b[39minputs, build_graph\u001b[38;5;241m=\u001b[39m\u001b[38;5;28;01mTrue\u001b[39;00m, training\u001b[38;5;241m=\u001b[39mtraining_value):\n\u001b[1;32m   1106\u001b[0m   \u001b[38;5;66;03m# Check input assumptions set after layer building, e.g. input shape.\u001b[39;00m\n\u001b[0;32m-> 1107\u001b[0m   outputs \u001b[38;5;241m=\u001b[39m \u001b[38;5;28;43mself\u001b[39;49m\u001b[38;5;241;43m.\u001b[39;49m\u001b[43m_keras_tensor_symbolic_call\u001b[49m\u001b[43m(\u001b[49m\n\u001b[1;32m   1108\u001b[0m \u001b[43m      \u001b[49m\u001b[43minputs\u001b[49m\u001b[43m,\u001b[49m\u001b[43m \u001b[49m\u001b[43minput_masks\u001b[49m\u001b[43m,\u001b[49m\u001b[43m \u001b[49m\u001b[43margs\u001b[49m\u001b[43m,\u001b[49m\u001b[43m \u001b[49m\u001b[43mkwargs\u001b[49m\u001b[43m)\u001b[49m\n\u001b[1;32m   1110\u001b[0m   \u001b[38;5;28;01mif\u001b[39;00m outputs \u001b[38;5;129;01mis\u001b[39;00m \u001b[38;5;28;01mNone\u001b[39;00m:\n\u001b[1;32m   1111\u001b[0m     \u001b[38;5;28;01mraise\u001b[39;00m \u001b[38;5;167;01mValueError\u001b[39;00m(\u001b[38;5;124m'\u001b[39m\u001b[38;5;124mA layer\u001b[39m\u001b[38;5;130;01m\\'\u001b[39;00m\u001b[38;5;124ms `call` method should return a \u001b[39m\u001b[38;5;124m'\u001b[39m\n\u001b[1;32m   1112\u001b[0m                      \u001b[38;5;124m'\u001b[39m\u001b[38;5;124mTensor or a list of Tensors, not None \u001b[39m\u001b[38;5;124m'\u001b[39m\n\u001b[1;32m   1113\u001b[0m                      \u001b[38;5;124m'\u001b[39m\u001b[38;5;124m(layer: \u001b[39m\u001b[38;5;124m'\u001b[39m \u001b[38;5;241m+\u001b[39m \u001b[38;5;28mself\u001b[39m\u001b[38;5;241m.\u001b[39mname \u001b[38;5;241m+\u001b[39m \u001b[38;5;124m'\u001b[39m\u001b[38;5;124m).\u001b[39m\u001b[38;5;124m'\u001b[39m)\n",
      "File \u001b[0;32m~/artem/env/lib/python3.8/site-packages/tensorflow/python/keras/engine/base_layer.py:840\u001b[0m, in \u001b[0;36mLayer._keras_tensor_symbolic_call\u001b[0;34m(self, inputs, input_masks, args, kwargs)\u001b[0m\n\u001b[1;32m    838\u001b[0m   \u001b[38;5;28;01mreturn\u001b[39;00m nest\u001b[38;5;241m.\u001b[39mmap_structure(keras_tensor\u001b[38;5;241m.\u001b[39mKerasTensor, output_signature)\n\u001b[1;32m    839\u001b[0m \u001b[38;5;28;01melse\u001b[39;00m:\n\u001b[0;32m--> 840\u001b[0m   \u001b[38;5;28;01mreturn\u001b[39;00m \u001b[38;5;28;43mself\u001b[39;49m\u001b[38;5;241;43m.\u001b[39;49m\u001b[43m_infer_output_signature\u001b[49m\u001b[43m(\u001b[49m\u001b[43minputs\u001b[49m\u001b[43m,\u001b[49m\u001b[43m \u001b[49m\u001b[43margs\u001b[49m\u001b[43m,\u001b[49m\u001b[43m \u001b[49m\u001b[43mkwargs\u001b[49m\u001b[43m,\u001b[49m\u001b[43m \u001b[49m\u001b[43minput_masks\u001b[49m\u001b[43m)\u001b[49m\n",
      "File \u001b[0;32m~/artem/env/lib/python3.8/site-packages/tensorflow/python/keras/engine/base_layer.py:878\u001b[0m, in \u001b[0;36mLayer._infer_output_signature\u001b[0;34m(self, inputs, args, kwargs, input_masks)\u001b[0m\n\u001b[1;32m    872\u001b[0m \u001b[38;5;28;01mwith\u001b[39;00m backend\u001b[38;5;241m.\u001b[39mname_scope(\u001b[38;5;28mself\u001b[39m\u001b[38;5;241m.\u001b[39m_name_scope()):\n\u001b[1;32m    873\u001b[0m   \u001b[38;5;28;01mwith\u001b[39;00m autocast_variable\u001b[38;5;241m.\u001b[39menable_auto_cast_variables(\n\u001b[1;32m    874\u001b[0m       \u001b[38;5;28mself\u001b[39m\u001b[38;5;241m.\u001b[39m_compute_dtype_object):\n\u001b[1;32m    875\u001b[0m     \u001b[38;5;66;03m# Build layer if applicable (if the `build` method has been\u001b[39;00m\n\u001b[1;32m    876\u001b[0m     \u001b[38;5;66;03m# overridden).\u001b[39;00m\n\u001b[1;32m    877\u001b[0m     \u001b[38;5;66;03m# TODO(kaftan): do we maybe_build here, or have we already done it?\u001b[39;00m\n\u001b[0;32m--> 878\u001b[0m     \u001b[38;5;28;43mself\u001b[39;49m\u001b[38;5;241;43m.\u001b[39;49m\u001b[43m_maybe_build\u001b[49m\u001b[43m(\u001b[49m\u001b[43minputs\u001b[49m\u001b[43m)\u001b[49m\n\u001b[1;32m    879\u001b[0m     inputs \u001b[38;5;241m=\u001b[39m \u001b[38;5;28mself\u001b[39m\u001b[38;5;241m.\u001b[39m_maybe_cast_inputs(inputs)\n\u001b[1;32m    880\u001b[0m     outputs \u001b[38;5;241m=\u001b[39m call_fn(inputs, \u001b[38;5;241m*\u001b[39margs, \u001b[38;5;241m*\u001b[39m\u001b[38;5;241m*\u001b[39mkwargs)\n",
      "File \u001b[0;32m~/artem/env/lib/python3.8/site-packages/tensorflow/python/keras/engine/base_layer.py:2625\u001b[0m, in \u001b[0;36mLayer._maybe_build\u001b[0;34m(self, inputs)\u001b[0m\n\u001b[1;32m   2620\u001b[0m \u001b[38;5;28;01mif\u001b[39;00m \u001b[38;5;129;01mnot\u001b[39;00m \u001b[38;5;28mhasattr\u001b[39m(\u001b[38;5;28mself\u001b[39m\u001b[38;5;241m.\u001b[39mbuild, \u001b[38;5;124m'\u001b[39m\u001b[38;5;124m_is_default\u001b[39m\u001b[38;5;124m'\u001b[39m):\n\u001b[1;32m   2621\u001b[0m   \u001b[38;5;66;03m# Any setup work performed only once should happen in an `init_scope`\u001b[39;00m\n\u001b[1;32m   2622\u001b[0m   \u001b[38;5;66;03m# to avoid creating symbolic Tensors that will later pollute any eager\u001b[39;00m\n\u001b[1;32m   2623\u001b[0m   \u001b[38;5;66;03m# operations.\u001b[39;00m\n\u001b[1;32m   2624\u001b[0m   \u001b[38;5;28;01mwith\u001b[39;00m tf_utils\u001b[38;5;241m.\u001b[39mmaybe_init_scope(\u001b[38;5;28mself\u001b[39m):\n\u001b[0;32m-> 2625\u001b[0m     \u001b[38;5;28;43mself\u001b[39;49m\u001b[38;5;241;43m.\u001b[39;49m\u001b[43mbuild\u001b[49m\u001b[43m(\u001b[49m\u001b[43minput_shapes\u001b[49m\u001b[43m)\u001b[49m  \u001b[38;5;66;03m# pylint:disable=not-callable\u001b[39;00m\n\u001b[1;32m   2626\u001b[0m \u001b[38;5;66;03m# We must set also ensure that the layer is marked as built, and the build\u001b[39;00m\n\u001b[1;32m   2627\u001b[0m \u001b[38;5;66;03m# shape is stored since user defined build functions may not be calling\u001b[39;00m\n\u001b[1;32m   2628\u001b[0m \u001b[38;5;66;03m# `super.build()`\u001b[39;00m\n\u001b[1;32m   2629\u001b[0m Layer\u001b[38;5;241m.\u001b[39mbuild(\u001b[38;5;28mself\u001b[39m, input_shapes)\n",
      "File \u001b[0;32m~/artem/env/lib/python3.8/site-packages/tensorflow/python/keras/layers/normalization.py:405\u001b[0m, in \u001b[0;36mBatchNormalizationBase.build\u001b[0;34m(self, input_shape)\u001b[0m\n\u001b[1;32m    402\u001b[0m       \u001b[38;5;28mself\u001b[39m\u001b[38;5;241m.\u001b[39maxis[idx] \u001b[38;5;241m=\u001b[39m x \u001b[38;5;241m+\u001b[39m \u001b[38;5;241m1\u001b[39m  \u001b[38;5;66;03m# Account for added dimension\u001b[39;00m\n\u001b[1;32m    404\u001b[0m \u001b[38;5;28;01mif\u001b[39;00m \u001b[38;5;28mself\u001b[39m\u001b[38;5;241m.\u001b[39mscale:\n\u001b[0;32m--> 405\u001b[0m   \u001b[38;5;28mself\u001b[39m\u001b[38;5;241m.\u001b[39mgamma \u001b[38;5;241m=\u001b[39m \u001b[38;5;28;43mself\u001b[39;49m\u001b[38;5;241;43m.\u001b[39;49m\u001b[43madd_weight\u001b[49m\u001b[43m(\u001b[49m\n\u001b[1;32m    406\u001b[0m \u001b[43m      \u001b[49m\u001b[43mname\u001b[49m\u001b[38;5;241;43m=\u001b[39;49m\u001b[38;5;124;43m'\u001b[39;49m\u001b[38;5;124;43mgamma\u001b[39;49m\u001b[38;5;124;43m'\u001b[39;49m\u001b[43m,\u001b[49m\n\u001b[1;32m    407\u001b[0m \u001b[43m      \u001b[49m\u001b[43mshape\u001b[49m\u001b[38;5;241;43m=\u001b[39;49m\u001b[43mparam_shape\u001b[49m\u001b[43m,\u001b[49m\n\u001b[1;32m    408\u001b[0m \u001b[43m      \u001b[49m\u001b[43mdtype\u001b[49m\u001b[38;5;241;43m=\u001b[39;49m\u001b[38;5;28;43mself\u001b[39;49m\u001b[38;5;241;43m.\u001b[39;49m\u001b[43m_param_dtype\u001b[49m\u001b[43m,\u001b[49m\n\u001b[1;32m    409\u001b[0m \u001b[43m      \u001b[49m\u001b[43minitializer\u001b[49m\u001b[38;5;241;43m=\u001b[39;49m\u001b[38;5;28;43mself\u001b[39;49m\u001b[38;5;241;43m.\u001b[39;49m\u001b[43mgamma_initializer\u001b[49m\u001b[43m,\u001b[49m\n\u001b[1;32m    410\u001b[0m \u001b[43m      \u001b[49m\u001b[43mregularizer\u001b[49m\u001b[38;5;241;43m=\u001b[39;49m\u001b[38;5;28;43mself\u001b[39;49m\u001b[38;5;241;43m.\u001b[39;49m\u001b[43mgamma_regularizer\u001b[49m\u001b[43m,\u001b[49m\n\u001b[1;32m    411\u001b[0m \u001b[43m      \u001b[49m\u001b[43mconstraint\u001b[49m\u001b[38;5;241;43m=\u001b[39;49m\u001b[38;5;28;43mself\u001b[39;49m\u001b[38;5;241;43m.\u001b[39;49m\u001b[43mgamma_constraint\u001b[49m\u001b[43m,\u001b[49m\n\u001b[1;32m    412\u001b[0m \u001b[43m      \u001b[49m\u001b[43mtrainable\u001b[49m\u001b[38;5;241;43m=\u001b[39;49m\u001b[38;5;28;43;01mTrue\u001b[39;49;00m\u001b[43m,\u001b[49m\n\u001b[1;32m    413\u001b[0m \u001b[43m      \u001b[49m\u001b[43mexperimental_autocast\u001b[49m\u001b[38;5;241;43m=\u001b[39;49m\u001b[38;5;28;43;01mFalse\u001b[39;49;00m\u001b[43m)\u001b[49m\n\u001b[1;32m    414\u001b[0m \u001b[38;5;28;01melse\u001b[39;00m:\n\u001b[1;32m    415\u001b[0m   \u001b[38;5;28mself\u001b[39m\u001b[38;5;241m.\u001b[39mgamma \u001b[38;5;241m=\u001b[39m \u001b[38;5;28;01mNone\u001b[39;00m\n",
      "File \u001b[0;32m~/artem/env/lib/python3.8/site-packages/tensorflow/python/keras/engine/base_layer.py:639\u001b[0m, in \u001b[0;36mLayer.add_weight\u001b[0;34m(self, name, shape, dtype, initializer, regularizer, trainable, constraint, use_resource, synchronization, aggregation, **kwargs)\u001b[0m\n\u001b[1;32m    635\u001b[0m     tf_logging\u001b[38;5;241m.\u001b[39mwarn(\u001b[38;5;124m'\u001b[39m\u001b[38;5;124m`caching_device` does not work with mixed precision \u001b[39m\u001b[38;5;124m'\u001b[39m\n\u001b[1;32m    636\u001b[0m                     \u001b[38;5;124m'\u001b[39m\u001b[38;5;124mAPI. Ignoring user specified `caching_device`.\u001b[39m\u001b[38;5;124m'\u001b[39m)\n\u001b[1;32m    637\u001b[0m     caching_device \u001b[38;5;241m=\u001b[39m \u001b[38;5;28;01mNone\u001b[39;00m\n\u001b[0;32m--> 639\u001b[0m variable \u001b[38;5;241m=\u001b[39m \u001b[38;5;28;43mself\u001b[39;49m\u001b[38;5;241;43m.\u001b[39;49m\u001b[43m_add_variable_with_custom_getter\u001b[49m\u001b[43m(\u001b[49m\n\u001b[1;32m    640\u001b[0m \u001b[43m    \u001b[49m\u001b[43mname\u001b[49m\u001b[38;5;241;43m=\u001b[39;49m\u001b[43mname\u001b[49m\u001b[43m,\u001b[49m\n\u001b[1;32m    641\u001b[0m \u001b[43m    \u001b[49m\u001b[43mshape\u001b[49m\u001b[38;5;241;43m=\u001b[39;49m\u001b[43mshape\u001b[49m\u001b[43m,\u001b[49m\n\u001b[1;32m    642\u001b[0m \u001b[43m    \u001b[49m\u001b[38;5;66;43;03m# TODO(allenl): a `make_variable` equivalent should be added as a\u001b[39;49;00m\n\u001b[1;32m    643\u001b[0m \u001b[43m    \u001b[49m\u001b[38;5;66;43;03m# `Trackable` method.\u001b[39;49;00m\n\u001b[1;32m    644\u001b[0m \u001b[43m    \u001b[49m\u001b[43mgetter\u001b[49m\u001b[38;5;241;43m=\u001b[39;49m\u001b[43mgetter\u001b[49m\u001b[43m,\u001b[49m\n\u001b[1;32m    645\u001b[0m \u001b[43m    \u001b[49m\u001b[38;5;66;43;03m# Manage errors in Layer rather than Trackable.\u001b[39;49;00m\n\u001b[1;32m    646\u001b[0m \u001b[43m    \u001b[49m\u001b[43moverwrite\u001b[49m\u001b[38;5;241;43m=\u001b[39;49m\u001b[38;5;28;43;01mTrue\u001b[39;49;00m\u001b[43m,\u001b[49m\n\u001b[1;32m    647\u001b[0m \u001b[43m    \u001b[49m\u001b[43minitializer\u001b[49m\u001b[38;5;241;43m=\u001b[39;49m\u001b[43minitializer\u001b[49m\u001b[43m,\u001b[49m\n\u001b[1;32m    648\u001b[0m \u001b[43m    \u001b[49m\u001b[43mdtype\u001b[49m\u001b[38;5;241;43m=\u001b[39;49m\u001b[43mdtype\u001b[49m\u001b[43m,\u001b[49m\n\u001b[1;32m    649\u001b[0m \u001b[43m    \u001b[49m\u001b[43mconstraint\u001b[49m\u001b[38;5;241;43m=\u001b[39;49m\u001b[43mconstraint\u001b[49m\u001b[43m,\u001b[49m\n\u001b[1;32m    650\u001b[0m \u001b[43m    \u001b[49m\u001b[43mtrainable\u001b[49m\u001b[38;5;241;43m=\u001b[39;49m\u001b[43mtrainable\u001b[49m\u001b[43m,\u001b[49m\n\u001b[1;32m    651\u001b[0m \u001b[43m    \u001b[49m\u001b[43muse_resource\u001b[49m\u001b[38;5;241;43m=\u001b[39;49m\u001b[43muse_resource\u001b[49m\u001b[43m,\u001b[49m\n\u001b[1;32m    652\u001b[0m \u001b[43m    \u001b[49m\u001b[43mcollections\u001b[49m\u001b[38;5;241;43m=\u001b[39;49m\u001b[43mcollections_arg\u001b[49m\u001b[43m,\u001b[49m\n\u001b[1;32m    653\u001b[0m \u001b[43m    \u001b[49m\u001b[43msynchronization\u001b[49m\u001b[38;5;241;43m=\u001b[39;49m\u001b[43msynchronization\u001b[49m\u001b[43m,\u001b[49m\n\u001b[1;32m    654\u001b[0m \u001b[43m    \u001b[49m\u001b[43maggregation\u001b[49m\u001b[38;5;241;43m=\u001b[39;49m\u001b[43maggregation\u001b[49m\u001b[43m,\u001b[49m\n\u001b[1;32m    655\u001b[0m \u001b[43m    \u001b[49m\u001b[43mcaching_device\u001b[49m\u001b[38;5;241;43m=\u001b[39;49m\u001b[43mcaching_device\u001b[49m\u001b[43m)\u001b[49m\n\u001b[1;32m    656\u001b[0m \u001b[38;5;28;01mif\u001b[39;00m regularizer \u001b[38;5;129;01mis\u001b[39;00m \u001b[38;5;129;01mnot\u001b[39;00m \u001b[38;5;28;01mNone\u001b[39;00m:\n\u001b[1;32m    657\u001b[0m   \u001b[38;5;66;03m# TODO(fchollet): in the future, this should be handled at the\u001b[39;00m\n\u001b[1;32m    658\u001b[0m   \u001b[38;5;66;03m# level of variable creation, and weight regularization losses\u001b[39;00m\n\u001b[1;32m    659\u001b[0m   \u001b[38;5;66;03m# should be variable attributes.\u001b[39;00m\n\u001b[1;32m    660\u001b[0m   name_in_scope \u001b[38;5;241m=\u001b[39m variable\u001b[38;5;241m.\u001b[39mname[:variable\u001b[38;5;241m.\u001b[39mname\u001b[38;5;241m.\u001b[39mfind(\u001b[38;5;124m'\u001b[39m\u001b[38;5;124m:\u001b[39m\u001b[38;5;124m'\u001b[39m)]\n",
      "File \u001b[0;32m~/artem/env/lib/python3.8/site-packages/tensorflow/python/training/tracking/base.py:810\u001b[0m, in \u001b[0;36mTrackable._add_variable_with_custom_getter\u001b[0;34m(self, name, shape, dtype, initializer, getter, overwrite, **kwargs_for_getter)\u001b[0m\n\u001b[1;32m    800\u001b[0m   \u001b[38;5;28;01mif\u001b[39;00m (checkpoint_initializer \u001b[38;5;129;01mis\u001b[39;00m \u001b[38;5;129;01mnot\u001b[39;00m \u001b[38;5;28;01mNone\u001b[39;00m \u001b[38;5;129;01mand\u001b[39;00m\n\u001b[1;32m    801\u001b[0m       \u001b[38;5;129;01mnot\u001b[39;00m (\u001b[38;5;28misinstance\u001b[39m(initializer, CheckpointInitialValueCallable) \u001b[38;5;129;01mand\u001b[39;00m\n\u001b[1;32m    802\u001b[0m            (initializer\u001b[38;5;241m.\u001b[39mrestore_uid \u001b[38;5;241m>\u001b[39m checkpoint_initializer\u001b[38;5;241m.\u001b[39mrestore_uid))):\n\u001b[0;32m   (...)\u001b[0m\n\u001b[1;32m    807\u001b[0m     \u001b[38;5;66;03m# then we'll catch that when we call _track_trackable. So this is\u001b[39;00m\n\u001b[1;32m    808\u001b[0m     \u001b[38;5;66;03m# \"best effort\" to set the initializer with the highest restore UID.\u001b[39;00m\n\u001b[1;32m    809\u001b[0m     initializer \u001b[38;5;241m=\u001b[39m checkpoint_initializer\n\u001b[0;32m--> 810\u001b[0m new_variable \u001b[38;5;241m=\u001b[39m \u001b[43mgetter\u001b[49m\u001b[43m(\u001b[49m\n\u001b[1;32m    811\u001b[0m \u001b[43m    \u001b[49m\u001b[43mname\u001b[49m\u001b[38;5;241;43m=\u001b[39;49m\u001b[43mname\u001b[49m\u001b[43m,\u001b[49m\n\u001b[1;32m    812\u001b[0m \u001b[43m    \u001b[49m\u001b[43mshape\u001b[49m\u001b[38;5;241;43m=\u001b[39;49m\u001b[43mshape\u001b[49m\u001b[43m,\u001b[49m\n\u001b[1;32m    813\u001b[0m \u001b[43m    \u001b[49m\u001b[43mdtype\u001b[49m\u001b[38;5;241;43m=\u001b[39;49m\u001b[43mdtype\u001b[49m\u001b[43m,\u001b[49m\n\u001b[1;32m    814\u001b[0m \u001b[43m    \u001b[49m\u001b[43minitializer\u001b[49m\u001b[38;5;241;43m=\u001b[39;49m\u001b[43minitializer\u001b[49m\u001b[43m,\u001b[49m\n\u001b[1;32m    815\u001b[0m \u001b[43m    \u001b[49m\u001b[38;5;241;43m*\u001b[39;49m\u001b[38;5;241;43m*\u001b[39;49m\u001b[43mkwargs_for_getter\u001b[49m\u001b[43m)\u001b[49m\n\u001b[1;32m    817\u001b[0m \u001b[38;5;66;03m# If we set an initializer and the variable processed it, tracking will not\u001b[39;00m\n\u001b[1;32m    818\u001b[0m \u001b[38;5;66;03m# assign again. It will add this variable to our dependencies, and if there\u001b[39;00m\n\u001b[1;32m    819\u001b[0m \u001b[38;5;66;03m# is a non-trivial restoration queued, it will handle that. This also\u001b[39;00m\n\u001b[1;32m    820\u001b[0m \u001b[38;5;66;03m# handles slot variables.\u001b[39;00m\n\u001b[1;32m    821\u001b[0m \u001b[38;5;28;01mif\u001b[39;00m \u001b[38;5;129;01mnot\u001b[39;00m overwrite \u001b[38;5;129;01mor\u001b[39;00m \u001b[38;5;28misinstance\u001b[39m(new_variable, Trackable):\n",
      "File \u001b[0;32m~/artem/env/lib/python3.8/site-packages/tensorflow/python/keras/engine/base_layer_utils.py:127\u001b[0m, in \u001b[0;36mmake_variable\u001b[0;34m(name, shape, dtype, initializer, trainable, caching_device, validate_shape, constraint, use_resource, collections, synchronization, aggregation, partitioner)\u001b[0m\n\u001b[1;32m    124\u001b[0m \u001b[38;5;66;03m# TODO(apassos,rohanj) figure out how to remove collections from here so we\u001b[39;00m\n\u001b[1;32m    125\u001b[0m \u001b[38;5;66;03m# can remove the V1.\u001b[39;00m\n\u001b[1;32m    126\u001b[0m variable_shape \u001b[38;5;241m=\u001b[39m tensor_shape\u001b[38;5;241m.\u001b[39mTensorShape(shape)\n\u001b[0;32m--> 127\u001b[0m \u001b[38;5;28;01mreturn\u001b[39;00m \u001b[43mtf_variables\u001b[49m\u001b[38;5;241;43m.\u001b[39;49m\u001b[43mVariableV1\u001b[49m\u001b[43m(\u001b[49m\n\u001b[1;32m    128\u001b[0m \u001b[43m    \u001b[49m\u001b[43minitial_value\u001b[49m\u001b[38;5;241;43m=\u001b[39;49m\u001b[43minit_val\u001b[49m\u001b[43m,\u001b[49m\n\u001b[1;32m    129\u001b[0m \u001b[43m    \u001b[49m\u001b[43mname\u001b[49m\u001b[38;5;241;43m=\u001b[39;49m\u001b[43mname\u001b[49m\u001b[43m,\u001b[49m\n\u001b[1;32m    130\u001b[0m \u001b[43m    \u001b[49m\u001b[43mtrainable\u001b[49m\u001b[38;5;241;43m=\u001b[39;49m\u001b[43mtrainable\u001b[49m\u001b[43m,\u001b[49m\n\u001b[1;32m    131\u001b[0m \u001b[43m    \u001b[49m\u001b[43mcaching_device\u001b[49m\u001b[38;5;241;43m=\u001b[39;49m\u001b[43mcaching_device\u001b[49m\u001b[43m,\u001b[49m\n\u001b[1;32m    132\u001b[0m \u001b[43m    \u001b[49m\u001b[43mdtype\u001b[49m\u001b[38;5;241;43m=\u001b[39;49m\u001b[43mvariable_dtype\u001b[49m\u001b[43m,\u001b[49m\n\u001b[1;32m    133\u001b[0m \u001b[43m    \u001b[49m\u001b[43mvalidate_shape\u001b[49m\u001b[38;5;241;43m=\u001b[39;49m\u001b[43mvalidate_shape\u001b[49m\u001b[43m,\u001b[49m\n\u001b[1;32m    134\u001b[0m \u001b[43m    \u001b[49m\u001b[43mconstraint\u001b[49m\u001b[38;5;241;43m=\u001b[39;49m\u001b[43mconstraint\u001b[49m\u001b[43m,\u001b[49m\n\u001b[1;32m    135\u001b[0m \u001b[43m    \u001b[49m\u001b[43muse_resource\u001b[49m\u001b[38;5;241;43m=\u001b[39;49m\u001b[43muse_resource\u001b[49m\u001b[43m,\u001b[49m\n\u001b[1;32m    136\u001b[0m \u001b[43m    \u001b[49m\u001b[43mcollections\u001b[49m\u001b[38;5;241;43m=\u001b[39;49m\u001b[43mcollections\u001b[49m\u001b[43m,\u001b[49m\n\u001b[1;32m    137\u001b[0m \u001b[43m    \u001b[49m\u001b[43msynchronization\u001b[49m\u001b[38;5;241;43m=\u001b[39;49m\u001b[43msynchronization\u001b[49m\u001b[43m,\u001b[49m\n\u001b[1;32m    138\u001b[0m \u001b[43m    \u001b[49m\u001b[43maggregation\u001b[49m\u001b[38;5;241;43m=\u001b[39;49m\u001b[43maggregation\u001b[49m\u001b[43m,\u001b[49m\n\u001b[1;32m    139\u001b[0m \u001b[43m    \u001b[49m\u001b[43mshape\u001b[49m\u001b[38;5;241;43m=\u001b[39;49m\u001b[43mvariable_shape\u001b[49m\u001b[43m \u001b[49m\u001b[38;5;28;43;01mif\u001b[39;49;00m\u001b[43m \u001b[49m\u001b[43mvariable_shape\u001b[49m\u001b[43m \u001b[49m\u001b[38;5;28;43;01melse\u001b[39;49;00m\u001b[43m \u001b[49m\u001b[38;5;28;43;01mNone\u001b[39;49;00m\u001b[43m)\u001b[49m\n",
      "File \u001b[0;32m~/artem/env/lib/python3.8/site-packages/tensorflow/python/ops/variables.py:260\u001b[0m, in \u001b[0;36mVariableMetaclass.__call__\u001b[0;34m(cls, *args, **kwargs)\u001b[0m\n\u001b[1;32m    258\u001b[0m \u001b[38;5;28;01mdef\u001b[39;00m \u001b[38;5;21m__call__\u001b[39m(\u001b[38;5;28mcls\u001b[39m, \u001b[38;5;241m*\u001b[39margs, \u001b[38;5;241m*\u001b[39m\u001b[38;5;241m*\u001b[39mkwargs):\n\u001b[1;32m    259\u001b[0m   \u001b[38;5;28;01mif\u001b[39;00m \u001b[38;5;28mcls\u001b[39m \u001b[38;5;129;01mis\u001b[39;00m VariableV1:\n\u001b[0;32m--> 260\u001b[0m     \u001b[38;5;28;01mreturn\u001b[39;00m \u001b[38;5;28;43mcls\u001b[39;49m\u001b[38;5;241;43m.\u001b[39;49m\u001b[43m_variable_v1_call\u001b[49m\u001b[43m(\u001b[49m\u001b[38;5;241;43m*\u001b[39;49m\u001b[43margs\u001b[49m\u001b[43m,\u001b[49m\u001b[43m \u001b[49m\u001b[38;5;241;43m*\u001b[39;49m\u001b[38;5;241;43m*\u001b[39;49m\u001b[43mkwargs\u001b[49m\u001b[43m)\u001b[49m\n\u001b[1;32m    261\u001b[0m   \u001b[38;5;28;01melif\u001b[39;00m \u001b[38;5;28mcls\u001b[39m \u001b[38;5;129;01mis\u001b[39;00m Variable:\n\u001b[1;32m    262\u001b[0m     \u001b[38;5;28;01mreturn\u001b[39;00m \u001b[38;5;28mcls\u001b[39m\u001b[38;5;241m.\u001b[39m_variable_v2_call(\u001b[38;5;241m*\u001b[39margs, \u001b[38;5;241m*\u001b[39m\u001b[38;5;241m*\u001b[39mkwargs)\n",
      "File \u001b[0;32m~/artem/env/lib/python3.8/site-packages/tensorflow/python/ops/variables.py:206\u001b[0m, in \u001b[0;36mVariableMetaclass._variable_v1_call\u001b[0;34m(cls, initial_value, trainable, collections, validate_shape, caching_device, name, variable_def, dtype, expected_shape, import_scope, constraint, use_resource, synchronization, aggregation, shape)\u001b[0m\n\u001b[1;32m    204\u001b[0m \u001b[38;5;28;01mif\u001b[39;00m aggregation \u001b[38;5;129;01mis\u001b[39;00m \u001b[38;5;28;01mNone\u001b[39;00m:\n\u001b[1;32m    205\u001b[0m   aggregation \u001b[38;5;241m=\u001b[39m VariableAggregation\u001b[38;5;241m.\u001b[39mNONE\n\u001b[0;32m--> 206\u001b[0m \u001b[38;5;28;01mreturn\u001b[39;00m \u001b[43mprevious_getter\u001b[49m\u001b[43m(\u001b[49m\n\u001b[1;32m    207\u001b[0m \u001b[43m    \u001b[49m\u001b[43minitial_value\u001b[49m\u001b[38;5;241;43m=\u001b[39;49m\u001b[43minitial_value\u001b[49m\u001b[43m,\u001b[49m\n\u001b[1;32m    208\u001b[0m \u001b[43m    \u001b[49m\u001b[43mtrainable\u001b[49m\u001b[38;5;241;43m=\u001b[39;49m\u001b[43mtrainable\u001b[49m\u001b[43m,\u001b[49m\n\u001b[1;32m    209\u001b[0m \u001b[43m    \u001b[49m\u001b[43mcollections\u001b[49m\u001b[38;5;241;43m=\u001b[39;49m\u001b[43mcollections\u001b[49m\u001b[43m,\u001b[49m\n\u001b[1;32m    210\u001b[0m \u001b[43m    \u001b[49m\u001b[43mvalidate_shape\u001b[49m\u001b[38;5;241;43m=\u001b[39;49m\u001b[43mvalidate_shape\u001b[49m\u001b[43m,\u001b[49m\n\u001b[1;32m    211\u001b[0m \u001b[43m    \u001b[49m\u001b[43mcaching_device\u001b[49m\u001b[38;5;241;43m=\u001b[39;49m\u001b[43mcaching_device\u001b[49m\u001b[43m,\u001b[49m\n\u001b[1;32m    212\u001b[0m \u001b[43m    \u001b[49m\u001b[43mname\u001b[49m\u001b[38;5;241;43m=\u001b[39;49m\u001b[43mname\u001b[49m\u001b[43m,\u001b[49m\n\u001b[1;32m    213\u001b[0m \u001b[43m    \u001b[49m\u001b[43mvariable_def\u001b[49m\u001b[38;5;241;43m=\u001b[39;49m\u001b[43mvariable_def\u001b[49m\u001b[43m,\u001b[49m\n\u001b[1;32m    214\u001b[0m \u001b[43m    \u001b[49m\u001b[43mdtype\u001b[49m\u001b[38;5;241;43m=\u001b[39;49m\u001b[43mdtype\u001b[49m\u001b[43m,\u001b[49m\n\u001b[1;32m    215\u001b[0m \u001b[43m    \u001b[49m\u001b[43mexpected_shape\u001b[49m\u001b[38;5;241;43m=\u001b[39;49m\u001b[43mexpected_shape\u001b[49m\u001b[43m,\u001b[49m\n\u001b[1;32m    216\u001b[0m \u001b[43m    \u001b[49m\u001b[43mimport_scope\u001b[49m\u001b[38;5;241;43m=\u001b[39;49m\u001b[43mimport_scope\u001b[49m\u001b[43m,\u001b[49m\n\u001b[1;32m    217\u001b[0m \u001b[43m    \u001b[49m\u001b[43mconstraint\u001b[49m\u001b[38;5;241;43m=\u001b[39;49m\u001b[43mconstraint\u001b[49m\u001b[43m,\u001b[49m\n\u001b[1;32m    218\u001b[0m \u001b[43m    \u001b[49m\u001b[43muse_resource\u001b[49m\u001b[38;5;241;43m=\u001b[39;49m\u001b[43muse_resource\u001b[49m\u001b[43m,\u001b[49m\n\u001b[1;32m    219\u001b[0m \u001b[43m    \u001b[49m\u001b[43msynchronization\u001b[49m\u001b[38;5;241;43m=\u001b[39;49m\u001b[43msynchronization\u001b[49m\u001b[43m,\u001b[49m\n\u001b[1;32m    220\u001b[0m \u001b[43m    \u001b[49m\u001b[43maggregation\u001b[49m\u001b[38;5;241;43m=\u001b[39;49m\u001b[43maggregation\u001b[49m\u001b[43m,\u001b[49m\n\u001b[1;32m    221\u001b[0m \u001b[43m    \u001b[49m\u001b[43mshape\u001b[49m\u001b[38;5;241;43m=\u001b[39;49m\u001b[43mshape\u001b[49m\u001b[43m)\u001b[49m\n",
      "File \u001b[0;32m~/artem/env/lib/python3.8/site-packages/tensorflow/python/ops/variables.py:199\u001b[0m, in \u001b[0;36mVariableMetaclass._variable_v1_call.<locals>.<lambda>\u001b[0;34m(**kwargs)\u001b[0m\n\u001b[1;32m    182\u001b[0m \u001b[38;5;28;01mdef\u001b[39;00m \u001b[38;5;21m_variable_v1_call\u001b[39m(\u001b[38;5;28mcls\u001b[39m,\n\u001b[1;32m    183\u001b[0m                       initial_value\u001b[38;5;241m=\u001b[39m\u001b[38;5;28;01mNone\u001b[39;00m,\n\u001b[1;32m    184\u001b[0m                       trainable\u001b[38;5;241m=\u001b[39m\u001b[38;5;28;01mNone\u001b[39;00m,\n\u001b[0;32m   (...)\u001b[0m\n\u001b[1;32m    196\u001b[0m                       aggregation\u001b[38;5;241m=\u001b[39mVariableAggregation\u001b[38;5;241m.\u001b[39mNONE,\n\u001b[1;32m    197\u001b[0m                       shape\u001b[38;5;241m=\u001b[39m\u001b[38;5;28;01mNone\u001b[39;00m):\n\u001b[1;32m    198\u001b[0m   \u001b[38;5;124;03m\"\"\"Call on Variable class. Useful to force the signature.\"\"\"\u001b[39;00m\n\u001b[0;32m--> 199\u001b[0m   previous_getter \u001b[38;5;241m=\u001b[39m \u001b[38;5;28;01mlambda\u001b[39;00m \u001b[38;5;241m*\u001b[39m\u001b[38;5;241m*\u001b[39mkwargs: \u001b[43mdefault_variable_creator\u001b[49m\u001b[43m(\u001b[49m\u001b[38;5;28;43;01mNone\u001b[39;49;00m\u001b[43m,\u001b[49m\u001b[43m \u001b[49m\u001b[38;5;241;43m*\u001b[39;49m\u001b[38;5;241;43m*\u001b[39;49m\u001b[43mkwargs\u001b[49m\u001b[43m)\u001b[49m\n\u001b[1;32m    200\u001b[0m   \u001b[38;5;28;01mfor\u001b[39;00m _, getter \u001b[38;5;129;01min\u001b[39;00m ops\u001b[38;5;241m.\u001b[39mget_default_graph()\u001b[38;5;241m.\u001b[39m_variable_creator_stack:  \u001b[38;5;66;03m# pylint: disable=protected-access\u001b[39;00m\n\u001b[1;32m    201\u001b[0m     previous_getter \u001b[38;5;241m=\u001b[39m _make_getter(getter, previous_getter)\n",
      "File \u001b[0;32m~/artem/env/lib/python3.8/site-packages/tensorflow/python/ops/variable_scope.py:2612\u001b[0m, in \u001b[0;36mdefault_variable_creator\u001b[0;34m(next_creator, **kwargs)\u001b[0m\n\u001b[1;32m   2610\u001b[0m \u001b[38;5;28;01mif\u001b[39;00m use_resource:\n\u001b[1;32m   2611\u001b[0m   distribute_strategy \u001b[38;5;241m=\u001b[39m kwargs\u001b[38;5;241m.\u001b[39mget(\u001b[38;5;124m\"\u001b[39m\u001b[38;5;124mdistribute_strategy\u001b[39m\u001b[38;5;124m\"\u001b[39m, \u001b[38;5;28;01mNone\u001b[39;00m)\n\u001b[0;32m-> 2612\u001b[0m   \u001b[38;5;28;01mreturn\u001b[39;00m \u001b[43mresource_variable_ops\u001b[49m\u001b[38;5;241;43m.\u001b[39;49m\u001b[43mResourceVariable\u001b[49m\u001b[43m(\u001b[49m\n\u001b[1;32m   2613\u001b[0m \u001b[43m      \u001b[49m\u001b[43minitial_value\u001b[49m\u001b[38;5;241;43m=\u001b[39;49m\u001b[43minitial_value\u001b[49m\u001b[43m,\u001b[49m\n\u001b[1;32m   2614\u001b[0m \u001b[43m      \u001b[49m\u001b[43mtrainable\u001b[49m\u001b[38;5;241;43m=\u001b[39;49m\u001b[43mtrainable\u001b[49m\u001b[43m,\u001b[49m\n\u001b[1;32m   2615\u001b[0m \u001b[43m      \u001b[49m\u001b[43mcollections\u001b[49m\u001b[38;5;241;43m=\u001b[39;49m\u001b[43mcollections\u001b[49m\u001b[43m,\u001b[49m\n\u001b[1;32m   2616\u001b[0m \u001b[43m      \u001b[49m\u001b[43mvalidate_shape\u001b[49m\u001b[38;5;241;43m=\u001b[39;49m\u001b[43mvalidate_shape\u001b[49m\u001b[43m,\u001b[49m\n\u001b[1;32m   2617\u001b[0m \u001b[43m      \u001b[49m\u001b[43mcaching_device\u001b[49m\u001b[38;5;241;43m=\u001b[39;49m\u001b[43mcaching_device\u001b[49m\u001b[43m,\u001b[49m\n\u001b[1;32m   2618\u001b[0m \u001b[43m      \u001b[49m\u001b[43mname\u001b[49m\u001b[38;5;241;43m=\u001b[39;49m\u001b[43mname\u001b[49m\u001b[43m,\u001b[49m\n\u001b[1;32m   2619\u001b[0m \u001b[43m      \u001b[49m\u001b[43mdtype\u001b[49m\u001b[38;5;241;43m=\u001b[39;49m\u001b[43mdtype\u001b[49m\u001b[43m,\u001b[49m\n\u001b[1;32m   2620\u001b[0m \u001b[43m      \u001b[49m\u001b[43mconstraint\u001b[49m\u001b[38;5;241;43m=\u001b[39;49m\u001b[43mconstraint\u001b[49m\u001b[43m,\u001b[49m\n\u001b[1;32m   2621\u001b[0m \u001b[43m      \u001b[49m\u001b[43mvariable_def\u001b[49m\u001b[38;5;241;43m=\u001b[39;49m\u001b[43mvariable_def\u001b[49m\u001b[43m,\u001b[49m\n\u001b[1;32m   2622\u001b[0m \u001b[43m      \u001b[49m\u001b[43mimport_scope\u001b[49m\u001b[38;5;241;43m=\u001b[39;49m\u001b[43mimport_scope\u001b[49m\u001b[43m,\u001b[49m\n\u001b[1;32m   2623\u001b[0m \u001b[43m      \u001b[49m\u001b[43mdistribute_strategy\u001b[49m\u001b[38;5;241;43m=\u001b[39;49m\u001b[43mdistribute_strategy\u001b[49m\u001b[43m,\u001b[49m\n\u001b[1;32m   2624\u001b[0m \u001b[43m      \u001b[49m\u001b[43msynchronization\u001b[49m\u001b[38;5;241;43m=\u001b[39;49m\u001b[43msynchronization\u001b[49m\u001b[43m,\u001b[49m\n\u001b[1;32m   2625\u001b[0m \u001b[43m      \u001b[49m\u001b[43maggregation\u001b[49m\u001b[38;5;241;43m=\u001b[39;49m\u001b[43maggregation\u001b[49m\u001b[43m,\u001b[49m\n\u001b[1;32m   2626\u001b[0m \u001b[43m      \u001b[49m\u001b[43mshape\u001b[49m\u001b[38;5;241;43m=\u001b[39;49m\u001b[43mshape\u001b[49m\u001b[43m)\u001b[49m\n\u001b[1;32m   2627\u001b[0m \u001b[38;5;28;01melse\u001b[39;00m:\n\u001b[1;32m   2628\u001b[0m   \u001b[38;5;28;01mreturn\u001b[39;00m variables\u001b[38;5;241m.\u001b[39mRefVariable(\n\u001b[1;32m   2629\u001b[0m       initial_value\u001b[38;5;241m=\u001b[39minitial_value,\n\u001b[1;32m   2630\u001b[0m       trainable\u001b[38;5;241m=\u001b[39mtrainable,\n\u001b[0;32m   (...)\u001b[0m\n\u001b[1;32m   2641\u001b[0m       aggregation\u001b[38;5;241m=\u001b[39maggregation,\n\u001b[1;32m   2642\u001b[0m       shape\u001b[38;5;241m=\u001b[39mshape)\n",
      "File \u001b[0;32m~/artem/env/lib/python3.8/site-packages/tensorflow/python/ops/variables.py:264\u001b[0m, in \u001b[0;36mVariableMetaclass.__call__\u001b[0;34m(cls, *args, **kwargs)\u001b[0m\n\u001b[1;32m    262\u001b[0m   \u001b[38;5;28;01mreturn\u001b[39;00m \u001b[38;5;28mcls\u001b[39m\u001b[38;5;241m.\u001b[39m_variable_v2_call(\u001b[38;5;241m*\u001b[39margs, \u001b[38;5;241m*\u001b[39m\u001b[38;5;241m*\u001b[39mkwargs)\n\u001b[1;32m    263\u001b[0m \u001b[38;5;28;01melse\u001b[39;00m:\n\u001b[0;32m--> 264\u001b[0m   \u001b[38;5;28;01mreturn\u001b[39;00m \u001b[38;5;28;43msuper\u001b[39;49m\u001b[43m(\u001b[49m\u001b[43mVariableMetaclass\u001b[49m\u001b[43m,\u001b[49m\u001b[43m \u001b[49m\u001b[38;5;28;43mcls\u001b[39;49m\u001b[43m)\u001b[49m\u001b[38;5;241;43m.\u001b[39;49m\u001b[38;5;21;43m__call__\u001b[39;49m\u001b[43m(\u001b[49m\u001b[38;5;241;43m*\u001b[39;49m\u001b[43margs\u001b[49m\u001b[43m,\u001b[49m\u001b[43m \u001b[49m\u001b[38;5;241;43m*\u001b[39;49m\u001b[38;5;241;43m*\u001b[39;49m\u001b[43mkwargs\u001b[49m\u001b[43m)\u001b[49m\n",
      "File \u001b[0;32m~/artem/env/lib/python3.8/site-packages/tensorflow/python/ops/resource_variable_ops.py:1584\u001b[0m, in \u001b[0;36mResourceVariable.__init__\u001b[0;34m(self, initial_value, trainable, collections, validate_shape, caching_device, name, dtype, variable_def, import_scope, constraint, distribute_strategy, synchronization, aggregation, shape)\u001b[0m\n\u001b[1;32m   1582\u001b[0m   \u001b[38;5;28mself\u001b[39m\u001b[38;5;241m.\u001b[39m_init_from_proto(variable_def, import_scope\u001b[38;5;241m=\u001b[39mimport_scope)\n\u001b[1;32m   1583\u001b[0m \u001b[38;5;28;01melse\u001b[39;00m:\n\u001b[0;32m-> 1584\u001b[0m   \u001b[38;5;28;43mself\u001b[39;49m\u001b[38;5;241;43m.\u001b[39;49m\u001b[43m_init_from_args\u001b[49m\u001b[43m(\u001b[49m\n\u001b[1;32m   1585\u001b[0m \u001b[43m      \u001b[49m\u001b[43minitial_value\u001b[49m\u001b[38;5;241;43m=\u001b[39;49m\u001b[43minitial_value\u001b[49m\u001b[43m,\u001b[49m\n\u001b[1;32m   1586\u001b[0m \u001b[43m      \u001b[49m\u001b[43mtrainable\u001b[49m\u001b[38;5;241;43m=\u001b[39;49m\u001b[43mtrainable\u001b[49m\u001b[43m,\u001b[49m\n\u001b[1;32m   1587\u001b[0m \u001b[43m      \u001b[49m\u001b[43mcollections\u001b[49m\u001b[38;5;241;43m=\u001b[39;49m\u001b[43mcollections\u001b[49m\u001b[43m,\u001b[49m\n\u001b[1;32m   1588\u001b[0m \u001b[43m      \u001b[49m\u001b[43mcaching_device\u001b[49m\u001b[38;5;241;43m=\u001b[39;49m\u001b[43mcaching_device\u001b[49m\u001b[43m,\u001b[49m\n\u001b[1;32m   1589\u001b[0m \u001b[43m      \u001b[49m\u001b[43mname\u001b[49m\u001b[38;5;241;43m=\u001b[39;49m\u001b[43mname\u001b[49m\u001b[43m,\u001b[49m\n\u001b[1;32m   1590\u001b[0m \u001b[43m      \u001b[49m\u001b[43mdtype\u001b[49m\u001b[38;5;241;43m=\u001b[39;49m\u001b[43mdtype\u001b[49m\u001b[43m,\u001b[49m\n\u001b[1;32m   1591\u001b[0m \u001b[43m      \u001b[49m\u001b[43mconstraint\u001b[49m\u001b[38;5;241;43m=\u001b[39;49m\u001b[43mconstraint\u001b[49m\u001b[43m,\u001b[49m\n\u001b[1;32m   1592\u001b[0m \u001b[43m      \u001b[49m\u001b[43msynchronization\u001b[49m\u001b[38;5;241;43m=\u001b[39;49m\u001b[43msynchronization\u001b[49m\u001b[43m,\u001b[49m\n\u001b[1;32m   1593\u001b[0m \u001b[43m      \u001b[49m\u001b[43maggregation\u001b[49m\u001b[38;5;241;43m=\u001b[39;49m\u001b[43maggregation\u001b[49m\u001b[43m,\u001b[49m\n\u001b[1;32m   1594\u001b[0m \u001b[43m      \u001b[49m\u001b[43mshape\u001b[49m\u001b[38;5;241;43m=\u001b[39;49m\u001b[43mshape\u001b[49m\u001b[43m,\u001b[49m\n\u001b[1;32m   1595\u001b[0m \u001b[43m      \u001b[49m\u001b[43mdistribute_strategy\u001b[49m\u001b[38;5;241;43m=\u001b[39;49m\u001b[43mdistribute_strategy\u001b[49m\u001b[43m)\u001b[49m\n",
      "File \u001b[0;32m~/artem/env/lib/python3.8/site-packages/tensorflow/python/ops/resource_variable_ops.py:1722\u001b[0m, in \u001b[0;36mResourceVariable._init_from_args\u001b[0;34m(self, initial_value, trainable, collections, caching_device, name, dtype, constraint, synchronization, aggregation, distribute_strategy, shape)\u001b[0m\n\u001b[1;32m   1720\u001b[0m \u001b[38;5;28;01mwith\u001b[39;00m ops\u001b[38;5;241m.\u001b[39mname_scope(\u001b[38;5;124m\"\u001b[39m\u001b[38;5;124mInitializer\u001b[39m\u001b[38;5;124m\"\u001b[39m), device_context_manager(\u001b[38;5;28;01mNone\u001b[39;00m):\n\u001b[1;32m   1721\u001b[0m   \u001b[38;5;28;01mif\u001b[39;00m init_from_fn:\n\u001b[0;32m-> 1722\u001b[0m     initial_value \u001b[38;5;241m=\u001b[39m \u001b[43minitial_value\u001b[49m\u001b[43m(\u001b[49m\u001b[43m)\u001b[49m\n\u001b[1;32m   1723\u001b[0m   \u001b[38;5;28;01mif\u001b[39;00m \u001b[38;5;28misinstance\u001b[39m(initial_value, trackable\u001b[38;5;241m.\u001b[39mCheckpointInitialValue):\n\u001b[1;32m   1724\u001b[0m     \u001b[38;5;28mself\u001b[39m\u001b[38;5;241m.\u001b[39m_maybe_initialize_trackable()\n",
      "File \u001b[0;32m~/artem/env/lib/python3.8/site-packages/tensorflow/python/keras/initializers/initializers_v2.py:188\u001b[0m, in \u001b[0;36mOnes.__call__\u001b[0;34m(self, shape, dtype, **kwargs)\u001b[0m\n\u001b[1;32m    186\u001b[0m \u001b[38;5;28;01mif\u001b[39;00m _PARTITION_SHAPE \u001b[38;5;129;01min\u001b[39;00m kwargs:\n\u001b[1;32m    187\u001b[0m   shape \u001b[38;5;241m=\u001b[39m kwargs[_PARTITION_SHAPE]\n\u001b[0;32m--> 188\u001b[0m \u001b[38;5;28;01mreturn\u001b[39;00m \u001b[43marray_ops\u001b[49m\u001b[38;5;241;43m.\u001b[39;49m\u001b[43mones\u001b[49m\u001b[43m(\u001b[49m\u001b[43mshape\u001b[49m\u001b[43m,\u001b[49m\u001b[43m \u001b[49m\u001b[43mdtype\u001b[49m\u001b[43m)\u001b[49m\n",
      "File \u001b[0;32m~/artem/env/lib/python3.8/site-packages/tensorflow/python/util/dispatch.py:206\u001b[0m, in \u001b[0;36madd_dispatch_support.<locals>.wrapper\u001b[0;34m(*args, **kwargs)\u001b[0m\n\u001b[1;32m    204\u001b[0m \u001b[38;5;124;03m\"\"\"Call target, and fall back on dispatchers if there is a TypeError.\"\"\"\u001b[39;00m\n\u001b[1;32m    205\u001b[0m \u001b[38;5;28;01mtry\u001b[39;00m:\n\u001b[0;32m--> 206\u001b[0m   \u001b[38;5;28;01mreturn\u001b[39;00m \u001b[43mtarget\u001b[49m\u001b[43m(\u001b[49m\u001b[38;5;241;43m*\u001b[39;49m\u001b[43margs\u001b[49m\u001b[43m,\u001b[49m\u001b[43m \u001b[49m\u001b[38;5;241;43m*\u001b[39;49m\u001b[38;5;241;43m*\u001b[39;49m\u001b[43mkwargs\u001b[49m\u001b[43m)\u001b[49m\n\u001b[1;32m    207\u001b[0m \u001b[38;5;28;01mexcept\u001b[39;00m (\u001b[38;5;167;01mTypeError\u001b[39;00m, \u001b[38;5;167;01mValueError\u001b[39;00m):\n\u001b[1;32m    208\u001b[0m   \u001b[38;5;66;03m# Note: convert_to_eager_tensor currently raises a ValueError, not a\u001b[39;00m\n\u001b[1;32m    209\u001b[0m   \u001b[38;5;66;03m# TypeError, when given unexpected types.  So we need to catch both.\u001b[39;00m\n\u001b[1;32m    210\u001b[0m   result \u001b[38;5;241m=\u001b[39m dispatch(wrapper, args, kwargs)\n",
      "File \u001b[0;32m~/artem/env/lib/python3.8/site-packages/tensorflow/python/ops/array_ops.py:3217\u001b[0m, in \u001b[0;36mones\u001b[0;34m(shape, dtype, name)\u001b[0m\n\u001b[1;32m   3214\u001b[0m       \u001b[38;5;28;01mreturn\u001b[39;00m output\n\u001b[1;32m   3216\u001b[0m   \u001b[38;5;66;03m# Go through tensor shapes to get int64-if-needed semantics\u001b[39;00m\n\u001b[0;32m-> 3217\u001b[0m   shape \u001b[38;5;241m=\u001b[39m \u001b[43mconstant_op\u001b[49m\u001b[38;5;241;43m.\u001b[39;49m\u001b[43m_tensor_shape_tensor_conversion_function\u001b[49m\u001b[43m(\u001b[49m\n\u001b[1;32m   3218\u001b[0m \u001b[43m      \u001b[49m\u001b[43mtensor_shape\u001b[49m\u001b[38;5;241;43m.\u001b[39;49m\u001b[43mTensorShape\u001b[49m\u001b[43m(\u001b[49m\u001b[43mshape\u001b[49m\u001b[43m)\u001b[49m\u001b[43m)\u001b[49m\n\u001b[1;32m   3219\u001b[0m \u001b[38;5;28;01mexcept\u001b[39;00m (\u001b[38;5;167;01mTypeError\u001b[39;00m, \u001b[38;5;167;01mValueError\u001b[39;00m):\n\u001b[1;32m   3220\u001b[0m   \u001b[38;5;66;03m# Happens when shape is a list with tensor elements\u001b[39;00m\n\u001b[1;32m   3221\u001b[0m   shape \u001b[38;5;241m=\u001b[39m ops\u001b[38;5;241m.\u001b[39mconvert_to_tensor(shape, dtype\u001b[38;5;241m=\u001b[39mdtypes\u001b[38;5;241m.\u001b[39mint32)\n",
      "File \u001b[0;32m~/artem/env/lib/python3.8/site-packages/tensorflow/python/framework/constant_op.py:374\u001b[0m, in \u001b[0;36m_tensor_shape_tensor_conversion_function\u001b[0;34m(s, dtype, name, as_ref)\u001b[0m\n\u001b[1;32m    372\u001b[0m \u001b[38;5;28;01mif\u001b[39;00m name \u001b[38;5;129;01mis\u001b[39;00m \u001b[38;5;28;01mNone\u001b[39;00m:\n\u001b[1;32m    373\u001b[0m   name \u001b[38;5;241m=\u001b[39m \u001b[38;5;124m\"\u001b[39m\u001b[38;5;124mshape_as_tensor\u001b[39m\u001b[38;5;124m\"\u001b[39m\n\u001b[0;32m--> 374\u001b[0m \u001b[38;5;28;01mreturn\u001b[39;00m \u001b[43mconstant\u001b[49m\u001b[43m(\u001b[49m\u001b[43ms_list\u001b[49m\u001b[43m,\u001b[49m\u001b[43m \u001b[49m\u001b[43mdtype\u001b[49m\u001b[38;5;241;43m=\u001b[39;49m\u001b[43mdtype\u001b[49m\u001b[43m,\u001b[49m\u001b[43m \u001b[49m\u001b[43mname\u001b[49m\u001b[38;5;241;43m=\u001b[39;49m\u001b[43mname\u001b[49m\u001b[43m)\u001b[49m\n",
      "File \u001b[0;32m~/artem/env/lib/python3.8/site-packages/tensorflow/python/framework/constant_op.py:264\u001b[0m, in \u001b[0;36mconstant\u001b[0;34m(value, dtype, shape, name)\u001b[0m\n\u001b[1;32m    166\u001b[0m \u001b[38;5;129m@tf_export\u001b[39m(\u001b[38;5;124m\"\u001b[39m\u001b[38;5;124mconstant\u001b[39m\u001b[38;5;124m\"\u001b[39m, v1\u001b[38;5;241m=\u001b[39m[])\n\u001b[1;32m    167\u001b[0m \u001b[38;5;28;01mdef\u001b[39;00m \u001b[38;5;21mconstant\u001b[39m(value, dtype\u001b[38;5;241m=\u001b[39m\u001b[38;5;28;01mNone\u001b[39;00m, shape\u001b[38;5;241m=\u001b[39m\u001b[38;5;28;01mNone\u001b[39;00m, name\u001b[38;5;241m=\u001b[39m\u001b[38;5;124m\"\u001b[39m\u001b[38;5;124mConst\u001b[39m\u001b[38;5;124m\"\u001b[39m):\n\u001b[1;32m    168\u001b[0m   \u001b[38;5;124;03m\"\"\"Creates a constant tensor from a tensor-like object.\u001b[39;00m\n\u001b[1;32m    169\u001b[0m \n\u001b[1;32m    170\u001b[0m \u001b[38;5;124;03m  Note: All eager `tf.Tensor` values are immutable (in contrast to\u001b[39;00m\n\u001b[0;32m   (...)\u001b[0m\n\u001b[1;32m    262\u001b[0m \u001b[38;5;124;03m    ValueError: if called on a symbolic tensor.\u001b[39;00m\n\u001b[1;32m    263\u001b[0m \u001b[38;5;124;03m  \"\"\"\u001b[39;00m\n\u001b[0;32m--> 264\u001b[0m   \u001b[38;5;28;01mreturn\u001b[39;00m \u001b[43m_constant_impl\u001b[49m\u001b[43m(\u001b[49m\u001b[43mvalue\u001b[49m\u001b[43m,\u001b[49m\u001b[43m \u001b[49m\u001b[43mdtype\u001b[49m\u001b[43m,\u001b[49m\u001b[43m \u001b[49m\u001b[43mshape\u001b[49m\u001b[43m,\u001b[49m\u001b[43m \u001b[49m\u001b[43mname\u001b[49m\u001b[43m,\u001b[49m\u001b[43m \u001b[49m\u001b[43mverify_shape\u001b[49m\u001b[38;5;241;43m=\u001b[39;49m\u001b[38;5;28;43;01mFalse\u001b[39;49;00m\u001b[43m,\u001b[49m\n\u001b[1;32m    265\u001b[0m \u001b[43m                        \u001b[49m\u001b[43mallow_broadcast\u001b[49m\u001b[38;5;241;43m=\u001b[39;49m\u001b[38;5;28;43;01mTrue\u001b[39;49;00m\u001b[43m)\u001b[49m\n",
      "File \u001b[0;32m~/artem/env/lib/python3.8/site-packages/tensorflow/python/framework/constant_op.py:276\u001b[0m, in \u001b[0;36m_constant_impl\u001b[0;34m(value, dtype, shape, name, verify_shape, allow_broadcast)\u001b[0m\n\u001b[1;32m    274\u001b[0m     \u001b[38;5;28;01mwith\u001b[39;00m trace\u001b[38;5;241m.\u001b[39mTrace(\u001b[38;5;124m\"\u001b[39m\u001b[38;5;124mtf.constant\u001b[39m\u001b[38;5;124m\"\u001b[39m):\n\u001b[1;32m    275\u001b[0m       \u001b[38;5;28;01mreturn\u001b[39;00m _constant_eager_impl(ctx, value, dtype, shape, verify_shape)\n\u001b[0;32m--> 276\u001b[0m   \u001b[38;5;28;01mreturn\u001b[39;00m \u001b[43m_constant_eager_impl\u001b[49m\u001b[43m(\u001b[49m\u001b[43mctx\u001b[49m\u001b[43m,\u001b[49m\u001b[43m \u001b[49m\u001b[43mvalue\u001b[49m\u001b[43m,\u001b[49m\u001b[43m \u001b[49m\u001b[43mdtype\u001b[49m\u001b[43m,\u001b[49m\u001b[43m \u001b[49m\u001b[43mshape\u001b[49m\u001b[43m,\u001b[49m\u001b[43m \u001b[49m\u001b[43mverify_shape\u001b[49m\u001b[43m)\u001b[49m\n\u001b[1;32m    278\u001b[0m g \u001b[38;5;241m=\u001b[39m ops\u001b[38;5;241m.\u001b[39mget_default_graph()\n\u001b[1;32m    279\u001b[0m tensor_value \u001b[38;5;241m=\u001b[39m attr_value_pb2\u001b[38;5;241m.\u001b[39mAttrValue()\n",
      "File \u001b[0;32m~/artem/env/lib/python3.8/site-packages/tensorflow/python/framework/constant_op.py:301\u001b[0m, in \u001b[0;36m_constant_eager_impl\u001b[0;34m(ctx, value, dtype, shape, verify_shape)\u001b[0m\n\u001b[1;32m    299\u001b[0m \u001b[38;5;28;01mdef\u001b[39;00m \u001b[38;5;21m_constant_eager_impl\u001b[39m(ctx, value, dtype, shape, verify_shape):\n\u001b[1;32m    300\u001b[0m   \u001b[38;5;124;03m\"\"\"Implementation of eager constant.\"\"\"\u001b[39;00m\n\u001b[0;32m--> 301\u001b[0m   t \u001b[38;5;241m=\u001b[39m \u001b[43mconvert_to_eager_tensor\u001b[49m\u001b[43m(\u001b[49m\u001b[43mvalue\u001b[49m\u001b[43m,\u001b[49m\u001b[43m \u001b[49m\u001b[43mctx\u001b[49m\u001b[43m,\u001b[49m\u001b[43m \u001b[49m\u001b[43mdtype\u001b[49m\u001b[43m)\u001b[49m\n\u001b[1;32m    302\u001b[0m   \u001b[38;5;28;01mif\u001b[39;00m shape \u001b[38;5;129;01mis\u001b[39;00m \u001b[38;5;28;01mNone\u001b[39;00m:\n\u001b[1;32m    303\u001b[0m     \u001b[38;5;28;01mreturn\u001b[39;00m t\n",
      "File \u001b[0;32m~/artem/env/lib/python3.8/site-packages/tensorflow/python/framework/constant_op.py:97\u001b[0m, in \u001b[0;36mconvert_to_eager_tensor\u001b[0;34m(value, ctx, dtype)\u001b[0m\n\u001b[1;32m     95\u001b[0m   \u001b[38;5;28;01mexcept\u001b[39;00m \u001b[38;5;167;01mAttributeError\u001b[39;00m:\n\u001b[1;32m     96\u001b[0m     dtype \u001b[38;5;241m=\u001b[39m dtypes\u001b[38;5;241m.\u001b[39mas_dtype(dtype)\u001b[38;5;241m.\u001b[39mas_datatype_enum\n\u001b[0;32m---> 97\u001b[0m \u001b[43mctx\u001b[49m\u001b[38;5;241;43m.\u001b[39;49m\u001b[43mensure_initialized\u001b[49m\u001b[43m(\u001b[49m\u001b[43m)\u001b[49m\n\u001b[1;32m     98\u001b[0m \u001b[38;5;28;01mreturn\u001b[39;00m ops\u001b[38;5;241m.\u001b[39mEagerTensor(value, ctx\u001b[38;5;241m.\u001b[39mdevice_name, dtype)\n",
      "File \u001b[0;32m~/artem/env/lib/python3.8/site-packages/tensorflow/python/eager/context.py:525\u001b[0m, in \u001b[0;36mContext.ensure_initialized\u001b[0;34m(self)\u001b[0m\n\u001b[1;32m    523\u001b[0m   \u001b[38;5;28;01mif\u001b[39;00m \u001b[38;5;28mself\u001b[39m\u001b[38;5;241m.\u001b[39m_use_tfrt \u001b[38;5;129;01mis\u001b[39;00m \u001b[38;5;129;01mnot\u001b[39;00m \u001b[38;5;28;01mNone\u001b[39;00m:\n\u001b[1;32m    524\u001b[0m     pywrap_tfe\u001b[38;5;241m.\u001b[39mTFE_ContextOptionsSetTfrt(opts, \u001b[38;5;28mself\u001b[39m\u001b[38;5;241m.\u001b[39m_use_tfrt)\n\u001b[0;32m--> 525\u001b[0m   context_handle \u001b[38;5;241m=\u001b[39m \u001b[43mpywrap_tfe\u001b[49m\u001b[38;5;241;43m.\u001b[39;49m\u001b[43mTFE_NewContext\u001b[49m\u001b[43m(\u001b[49m\u001b[43mopts\u001b[49m\u001b[43m)\u001b[49m\n\u001b[1;32m    526\u001b[0m \u001b[38;5;28;01mfinally\u001b[39;00m:\n\u001b[1;32m    527\u001b[0m   pywrap_tfe\u001b[38;5;241m.\u001b[39mTFE_DeleteContextOptions(opts)\n",
      "\u001b[0;31mInternalError\u001b[0m: CUDA runtime implicit initialization on GPU:0 failed. Status: out of memory"
     ]
    }
   ],
   "source": [
    "from bson import ObjectId\n",
    "\n",
    "from analyser.finalizer import get_doc_by_id, get_audit_by_id\n",
    "from analyser.log import logger\n",
    "from analyser.parsing import AuditContext\n",
    "from analyser.persistence import DbJsonDoc\n",
    "from analyser.runner import BaseProcessor, document_processors, CONTRACT\n",
    "\n",
    "\n",
    "def re_analyze_contract(_id):\n",
    "  processor: BaseProcessor = document_processors[CONTRACT]\n",
    "  # doc = get_doc_by_id(ObjectId('638f0a81b1363747e929f304'))\n",
    "  doc = get_doc_by_id(ObjectId(_id))\n",
    "  #\n",
    "  if doc is None:\n",
    "    raise RuntimeError(f\"doc with UID {_id} is not in the DB\")\n",
    "\n",
    "  audit = get_audit_by_id(doc['auditId'])\n",
    "  # print(audit)\n",
    "\n",
    "  jdoc = DbJsonDoc(doc)\n",
    "  logger.info(f'......pre-processing {jdoc._id}')\n",
    "  ctx = AuditContext()\n",
    "  ctx.audit_subsidiary_name = audit.get('subsidiary', {}).get('name')\n",
    "  processor.preprocess(jdoc, context=ctx)\n",
    "  processor.process(jdoc, audit, ctx)"
   ]
  },
  {
   "cell_type": "code",
   "execution_count": 7,
   "id": "d32d5d82",
   "metadata": {},
   "outputs": [
    {
     "data": {
      "text/plain": [
       "analyze_timestamp _old     2023-02-01 22:16:53.711\n",
       "number _old                         -85-985-856-95\n",
       "subject _old              DealIntellectualProperty\n",
       "amount_netto _old                      4.40001e+07\n",
       "amount_brutto _old                             NaN\n",
       "amount _old                                    NaN\n",
       "vat _old                                       NaN\n",
       "currency _old                                  RUB\n",
       "analysis.version _old                       23.2.1\n",
       "subject quote _old                                \n",
       "Name: 63ac1fab862ea92bf713c51e, dtype: object"
      ]
     },
     "execution_count": 7,
     "metadata": {},
     "output_type": "execute_result"
    }
   ],
   "source": [
    "df.loc[ids[0]]"
   ]
  },
  {
   "cell_type": "code",
   "execution_count": 8,
   "id": "70b9502d",
   "metadata": {
    "collapsed": true,
    "jupyter": {
     "outputs_hidden": true
    },
    "tags": []
   },
   "outputs": [
    {
     "name": "stderr",
     "output_type": "stream",
     "text": [
      "/root/artem/analyser/integration/db.py:14: UserWarning: MongoDB : define GPN_DB_NAME environment variable! defaulting to gpn\n",
      "  warnings.warn(msg)\n",
      "/root/artem/analyser/integration/db.py:14: UserWarning: MongoDB : define GPN_DB_PORT environment variable! defaulting to 27017\n",
      "  warnings.warn(msg)\n",
      "/root/artem/analyser/integration/db.py:14: UserWarning: MongoDB : define GPN_DB_USER environment variable! defaulting to None\n",
      "  warnings.warn(msg)\n",
      "/root/artem/analyser/integration/db.py:14: UserWarning: MongoDB : define GPN_DB_PASSWORD environment variable! defaulting to None\n",
      "  warnings.warn(msg)\n",
      "/root/artem/analyser/integration/db.py:14: UserWarning: MongoDB : define GPN_USE_MONGO_TLS environment variable! defaulting to False\n",
      "  warnings.warn(msg)\n",
      "/root/artem/analyser/integration/db.py:14: UserWarning: MongoDB : define GPN_DB_TLS_CA environment variable! defaulting to None\n",
      "  warnings.warn(msg)\n",
      "/root/artem/analyser/integration/db.py:14: UserWarning: MongoDB : define GPN_DB_TLS_KEY environment variable! defaulting to None\n",
      "  warnings.warn(msg)\n",
      "[703404606.py:22 -  re_analyze_contract() ] ......pre-processing 63ac1fab862ea92bf713c51e\n",
      "[runner.py:63 -           preprocess() ] skipping doc 63ac1fab862ea92bf713c51e because it is corrected by user\n",
      "[runner.py:96 -              process() ] skipping doc 63ac1fab862ea92bf713c51e postprocessing because it is corrected by user\n",
      "[runner.py:106 -              process() ] analysis saved, doc._id=63ac1fab862ea92bf713c51e\n",
      "[703404606.py:22 -  re_analyze_contract() ] ......pre-processing 63ac1faa862ea92bf713c50d\n"
     ]
    },
    {
     "name": "stdout",
     "output_type": "stream",
     "text": [
      "DB HOST IS: 192.168.10.36\n",
      "1 ================================================================================\n"
     ]
    },
    {
     "name": "stderr",
     "output_type": "stream",
     "text": [
      "2023-02-07 17:27:17.506677: I tensorflow/compiler/mlir/mlir_graph_optimization_pass.cc:176] None of the MLIR Optimization Passes are enabled (registered 2)\n",
      "2023-02-07 17:27:17.507457: I tensorflow/core/platform/profile_utils/cpu_utils.cc:114] CPU Frequency: 3699850000 Hz\n",
      "2023-02-07 17:27:17.987169: I tensorflow/stream_executor/platform/default/dso_loader.cc:53] Successfully opened dynamic library libcublas.so.11\n",
      "2023-02-07 17:27:18.518152: I tensorflow/stream_executor/platform/default/dso_loader.cc:53] Successfully opened dynamic library libcublasLt.so.11\n",
      "2023-02-07 17:27:18.518198: I tensorflow/stream_executor/cuda/cuda_blas.cc:1838] TensorFloat-32 will be used for the matrix multiplication. This will only be logged once.\n",
      "2023-02-07 17:27:18.528009: I tensorflow/stream_executor/platform/default/dso_loader.cc:53] Successfully opened dynamic library libcudnn.so.8\n",
      "2023-02-07 17:27:18.624404: I tensorflow/stream_executor/cuda/cuda_dnn.cc:359] Loaded cuDNN version 8500\n",
      "[runner.py:106 -              process() ] analysis saved, doc._id=63ac1faa862ea92bf713c50d\n",
      "[703404606.py:22 -  re_analyze_contract() ] ......pre-processing 63ac1fa9862ea92bf713c509\n"
     ]
    },
    {
     "name": "stdout",
     "output_type": "stream",
     "text": [
      "2 ================================================================================\n"
     ]
    },
    {
     "name": "stderr",
     "output_type": "stream",
     "text": [
      "[runner.py:106 -              process() ] analysis saved, doc._id=63ac1fa9862ea92bf713c509\n",
      "[703404606.py:22 -  re_analyze_contract() ] ......pre-processing 63ac1faa862ea92bf713c515\n"
     ]
    },
    {
     "name": "stdout",
     "output_type": "stream",
     "text": [
      "3 ================================================================================\n"
     ]
    },
    {
     "name": "stderr",
     "output_type": "stream",
     "text": [
      "[runner.py:106 -              process() ] analysis saved, doc._id=63ac1faa862ea92bf713c515\n",
      "[703404606.py:22 -  re_analyze_contract() ] ......pre-processing 63ac1faa862ea92bf713c51d\n"
     ]
    },
    {
     "name": "stdout",
     "output_type": "stream",
     "text": [
      "4 ================================================================================\n"
     ]
    },
    {
     "name": "stderr",
     "output_type": "stream",
     "text": [
      "[contract_parser.py:426 - nn_find_contract_value() ] vat is None\n",
      "[runner.py:106 -              process() ] analysis saved, doc._id=63ac1faa862ea92bf713c51d\n",
      "[703404606.py:22 -  re_analyze_contract() ] ......pre-processing 63ac1fac862ea92bf713c534\n",
      "[runner.py:63 -           preprocess() ] skipping doc 63ac1fac862ea92bf713c534 because it is corrected by user\n",
      "[runner.py:96 -              process() ] skipping doc 63ac1fac862ea92bf713c534 postprocessing because it is corrected by user\n",
      "[runner.py:106 -              process() ] analysis saved, doc._id=63ac1fac862ea92bf713c534\n",
      "[703404606.py:22 -  re_analyze_contract() ] ......pre-processing 63ac1fa9862ea92bf713c50a\n",
      "[runner.py:63 -           preprocess() ] skipping doc 63ac1fa9862ea92bf713c50a because it is corrected by user\n",
      "[runner.py:96 -              process() ] skipping doc 63ac1fa9862ea92bf713c50a postprocessing because it is corrected by user\n",
      "[runner.py:106 -              process() ] analysis saved, doc._id=63ac1fa9862ea92bf713c50a\n",
      "[703404606.py:22 -  re_analyze_contract() ] ......pre-processing 63ac1fac862ea92bf713c536\n"
     ]
    },
    {
     "name": "stdout",
     "output_type": "stream",
     "text": [
      "5 ================================================================================\n",
      "6 ================================================================================\n",
      "7 ================================================================================\n"
     ]
    },
    {
     "name": "stderr",
     "output_type": "stream",
     "text": [
      "[runner.py:108 -              process() ] excluding doc 63ac1fac862ea92bf713c536\n",
      "[703404606.py:22 -  re_analyze_contract() ] ......pre-processing 63ac1fab862ea92bf713c522\n"
     ]
    },
    {
     "name": "stdout",
     "output_type": "stream",
     "text": [
      "8 ================================================================================\n"
     ]
    },
    {
     "name": "stderr",
     "output_type": "stream",
     "text": [
      "[runner.py:108 -              process() ] excluding doc 63ac1fab862ea92bf713c522\n",
      "[703404606.py:22 -  re_analyze_contract() ] ......pre-processing 63ac1fad862ea92bf713c53f\n"
     ]
    },
    {
     "name": "stdout",
     "output_type": "stream",
     "text": [
      "9 ================================================================================\n"
     ]
    },
    {
     "name": "stderr",
     "output_type": "stream",
     "text": [
      "[contract_parser.py:426 - nn_find_contract_value() ] vat is None\n",
      "[runner.py:106 -              process() ] analysis saved, doc._id=63ac1fad862ea92bf713c53f\n",
      "[703404606.py:22 -  re_analyze_contract() ] ......pre-processing 6391a7481864c6df4d29f30b\n"
     ]
    },
    {
     "name": "stdout",
     "output_type": "stream",
     "text": [
      "10 ================================================================================\n"
     ]
    },
    {
     "name": "stderr",
     "output_type": "stream",
     "text": [
      "[contract_parser.py:426 - nn_find_contract_value() ] vat is None\n",
      "[runner.py:106 -              process() ] analysis saved, doc._id=6391a7481864c6df4d29f30b\n",
      "[703404606.py:22 -  re_analyze_contract() ] ......pre-processing 63a43056beaa9eeec65ecafb\n",
      "[runner.py:63 -           preprocess() ] skipping doc 63a43056beaa9eeec65ecafb because it is corrected by user\n",
      "[runner.py:96 -              process() ] skipping doc 63a43056beaa9eeec65ecafb postprocessing because it is corrected by user\n",
      "[runner.py:106 -              process() ] analysis saved, doc._id=63a43056beaa9eeec65ecafb\n",
      "[703404606.py:22 -  re_analyze_contract() ] ......pre-processing 63a430a6beaa9eeec65ecb0b\n"
     ]
    },
    {
     "name": "stdout",
     "output_type": "stream",
     "text": [
      "11 ================================================================================\n",
      "12 ================================================================================\n"
     ]
    },
    {
     "name": "stderr",
     "output_type": "stream",
     "text": [
      "[contract_parser.py:426 - nn_find_contract_value() ] vat is None\n",
      "[runner.py:106 -              process() ] analysis saved, doc._id=63a430a6beaa9eeec65ecb0b\n",
      "[703404606.py:22 -  re_analyze_contract() ] ......pre-processing 63a43092beaa9eeec65ecb09\n"
     ]
    },
    {
     "name": "stdout",
     "output_type": "stream",
     "text": [
      "13 ================================================================================\n"
     ]
    },
    {
     "name": "stderr",
     "output_type": "stream",
     "text": [
      "[contract_parser.py:426 - nn_find_contract_value() ] vat is None\n",
      "[runner.py:106 -              process() ] analysis saved, doc._id=63a43092beaa9eeec65ecb09\n",
      "[703404606.py:22 -  re_analyze_contract() ] ......pre-processing 63a4306dbeaa9eeec65ecafe\n"
     ]
    },
    {
     "name": "stdout",
     "output_type": "stream",
     "text": [
      "14 ================================================================================\n"
     ]
    },
    {
     "name": "stderr",
     "output_type": "stream",
     "text": [
      "[contract_parser.py:426 - nn_find_contract_value() ] vat is None\n",
      "[runner.py:106 -              process() ] analysis saved, doc._id=63a4306dbeaa9eeec65ecafe\n",
      "[703404606.py:22 -  re_analyze_contract() ] ......pre-processing 63a430dbbeaa9eeec65ecb12\n"
     ]
    },
    {
     "name": "stdout",
     "output_type": "stream",
     "text": [
      "15 ================================================================================\n"
     ]
    },
    {
     "name": "stderr",
     "output_type": "stream",
     "text": [
      "[runner.py:106 -              process() ] analysis saved, doc._id=63a430dbbeaa9eeec65ecb12\n",
      "[703404606.py:22 -  re_analyze_contract() ] ......pre-processing 63a430e6beaa9eeec65ecb18\n",
      "[contract_parser.py:426 - nn_find_contract_value() ] vat is None\n"
     ]
    },
    {
     "name": "stdout",
     "output_type": "stream",
     "text": [
      "16 ================================================================================\n"
     ]
    },
    {
     "name": "stderr",
     "output_type": "stream",
     "text": [
      "[runner.py:106 -              process() ] analysis saved, doc._id=63a430e6beaa9eeec65ecb18\n",
      "[703404606.py:22 -  re_analyze_contract() ] ......pre-processing 63a430b4beaa9eeec65ecb0d\n",
      "[contract_parser.py:426 - nn_find_contract_value() ] vat is None\n",
      "[runner.py:106 -              process() ] analysis saved, doc._id=63a430b4beaa9eeec65ecb0d\n",
      "[703404606.py:22 -  re_analyze_contract() ] ......pre-processing 63c506ede2456d59975e15bf\n"
     ]
    },
    {
     "name": "stdout",
     "output_type": "stream",
     "text": [
      "17 ================================================================================\n",
      "18 ================================================================================\n"
     ]
    },
    {
     "name": "stderr",
     "output_type": "stream",
     "text": [
      "[runner.py:106 -              process() ] analysis saved, doc._id=63c506ede2456d59975e15bf\n",
      "[703404606.py:22 -  re_analyze_contract() ] ......pre-processing 63c506ede2456d59975e15c6\n"
     ]
    },
    {
     "name": "stdout",
     "output_type": "stream",
     "text": [
      "19 ================================================================================\n"
     ]
    },
    {
     "name": "stderr",
     "output_type": "stream",
     "text": [
      "[runner.py:106 -              process() ] analysis saved, doc._id=63c506ede2456d59975e15c6\n",
      "[703404606.py:22 -  re_analyze_contract() ] ......pre-processing 63c506bde2456d59975e110a\n"
     ]
    },
    {
     "name": "stdout",
     "output_type": "stream",
     "text": [
      "20 ================================================================================\n"
     ]
    },
    {
     "name": "stderr",
     "output_type": "stream",
     "text": [
      "[contract_parser.py:426 - nn_find_contract_value() ] vat is None\n",
      "[runner.py:106 -              process() ] analysis saved, doc._id=63c506bde2456d59975e110a\n",
      "[703404606.py:22 -  re_analyze_contract() ] ......pre-processing 63c506cbe2456d59975e12ae\n"
     ]
    },
    {
     "name": "stdout",
     "output_type": "stream",
     "text": [
      "21 ================================================================================\n"
     ]
    },
    {
     "name": "stderr",
     "output_type": "stream",
     "text": [
      "[runner.py:106 -              process() ] analysis saved, doc._id=63c506cbe2456d59975e12ae\n",
      "[703404606.py:22 -  re_analyze_contract() ] ......pre-processing 63c506bde2456d59975e1107\n"
     ]
    },
    {
     "name": "stdout",
     "output_type": "stream",
     "text": [
      "22 ================================================================================\n"
     ]
    },
    {
     "name": "stderr",
     "output_type": "stream",
     "text": [
      "[contract_parser.py:426 - nn_find_contract_value() ] vat is None\n",
      "[runner.py:106 -              process() ] analysis saved, doc._id=63c506bde2456d59975e1107\n",
      "[703404606.py:22 -  re_analyze_contract() ] ......pre-processing 63c506cbe2456d59975e12aa\n",
      "[contract_parser.py:426 - nn_find_contract_value() ] vat is None\n",
      "[runner.py:106 -              process() ] analysis saved, doc._id=63c506cbe2456d59975e12aa\n",
      "[703404606.py:22 -  re_analyze_contract() ] ......pre-processing 63c506cbe2456d59975e12a6\n"
     ]
    },
    {
     "name": "stdout",
     "output_type": "stream",
     "text": [
      "23 ================================================================================\n",
      "24 ================================================================================\n"
     ]
    },
    {
     "name": "stderr",
     "output_type": "stream",
     "text": [
      "[runner.py:106 -              process() ] analysis saved, doc._id=63c506cbe2456d59975e12a6\n",
      "[703404606.py:22 -  re_analyze_contract() ] ......pre-processing 63c506bce2456d59975e10f9\n"
     ]
    },
    {
     "name": "stdout",
     "output_type": "stream",
     "text": [
      "25 ================================================================================\n"
     ]
    },
    {
     "name": "stderr",
     "output_type": "stream",
     "text": [
      "[contract_parser.py:426 - nn_find_contract_value() ] vat is None\n",
      "[runner.py:106 -              process() ] analysis saved, doc._id=63c506bce2456d59975e10f9\n",
      "[703404606.py:22 -  re_analyze_contract() ] ......pre-processing 63c506cbe2456d59975e12a6\n"
     ]
    },
    {
     "name": "stdout",
     "output_type": "stream",
     "text": [
      "26 ================================================================================\n"
     ]
    },
    {
     "name": "stderr",
     "output_type": "stream",
     "text": [
      "[runner.py:106 -              process() ] analysis saved, doc._id=63c506cbe2456d59975e12a6\n",
      "[703404606.py:22 -  re_analyze_contract() ] ......pre-processing 63c506bce2456d59975e10f9\n"
     ]
    },
    {
     "name": "stdout",
     "output_type": "stream",
     "text": [
      "27 ================================================================================\n"
     ]
    },
    {
     "name": "stderr",
     "output_type": "stream",
     "text": [
      "[contract_parser.py:426 - nn_find_contract_value() ] vat is None\n",
      "[runner.py:106 -              process() ] analysis saved, doc._id=63c506bce2456d59975e10f9\n",
      "[703404606.py:22 -  re_analyze_contract() ] ......pre-processing 63c506cae2456d59975e129a\n"
     ]
    },
    {
     "name": "stdout",
     "output_type": "stream",
     "text": [
      "28 ================================================================================\n"
     ]
    },
    {
     "name": "stderr",
     "output_type": "stream",
     "text": [
      "[runner.py:106 -              process() ] analysis saved, doc._id=63c506cae2456d59975e129a\n",
      "[703404606.py:22 -  re_analyze_contract() ] ......pre-processing 63c506bce2456d59975e10ef\n"
     ]
    },
    {
     "name": "stdout",
     "output_type": "stream",
     "text": [
      "29 ================================================================================\n"
     ]
    },
    {
     "name": "stderr",
     "output_type": "stream",
     "text": [
      "[contract_parser.py:426 - nn_find_contract_value() ] vat is None\n",
      "[runner.py:106 -              process() ] analysis saved, doc._id=63c506bce2456d59975e10ef\n",
      "[703404606.py:22 -  re_analyze_contract() ] ......pre-processing 63c506b4e2456d59975e103d\n"
     ]
    },
    {
     "name": "stdout",
     "output_type": "stream",
     "text": [
      "30 ================================================================================\n"
     ]
    },
    {
     "name": "stderr",
     "output_type": "stream",
     "text": [
      "[runner.py:106 -              process() ] analysis saved, doc._id=63c506b4e2456d59975e103d\n",
      "[703404606.py:22 -  re_analyze_contract() ] ......pre-processing 63c506ace2456d59975e0f9b\n"
     ]
    },
    {
     "name": "stdout",
     "output_type": "stream",
     "text": [
      "31 ================================================================================\n"
     ]
    },
    {
     "name": "stderr",
     "output_type": "stream",
     "text": [
      "[legal_docs.py:116 -         warn_trimmed() ] 63c506ace2456d59975e0f9b, 1.doc,  Для анализа документ обрезан из соображений производительности, допустимая длинна -- 15000 слов ✂️\n",
      "[runner.py:106 -              process() ] analysis saved, doc._id=63c506ace2456d59975e0f9b\n",
      "[703404606.py:22 -  re_analyze_contract() ] ......pre-processing 63c506c9e2456d59975e127d\n"
     ]
    },
    {
     "name": "stdout",
     "output_type": "stream",
     "text": [
      "32 ================================================================================\n"
     ]
    },
    {
     "name": "stderr",
     "output_type": "stream",
     "text": [
      "[legal_docs.py:116 -         warn_trimmed() ] 63c506c9e2456d59975e127d, 13.docx,  Для анализа документ обрезан из соображений производительности, допустимая длинна -- 15000 слов ✂️\n",
      "[contract_parser.py:426 - nn_find_contract_value() ] vat is None\n",
      "[runner.py:106 -              process() ] analysis saved, doc._id=63c506c9e2456d59975e127d\n",
      "[703404606.py:22 -  re_analyze_contract() ] ......pre-processing 63c506bce2456d59975e10ef\n"
     ]
    },
    {
     "name": "stdout",
     "output_type": "stream",
     "text": [
      "33 ================================================================================\n"
     ]
    },
    {
     "name": "stderr",
     "output_type": "stream",
     "text": [
      "[contract_parser.py:426 - nn_find_contract_value() ] vat is None\n",
      "[runner.py:106 -              process() ] analysis saved, doc._id=63c506bce2456d59975e10ef\n",
      "[703404606.py:22 -  re_analyze_contract() ] ......pre-processing 63c506ace2456d59975e0f9b\n"
     ]
    },
    {
     "name": "stdout",
     "output_type": "stream",
     "text": [
      "34 ================================================================================\n"
     ]
    },
    {
     "name": "stderr",
     "output_type": "stream",
     "text": [
      "[legal_docs.py:116 -         warn_trimmed() ] 63c506ace2456d59975e0f9b, 1.doc,  Для анализа документ обрезан из соображений производительности, допустимая длинна -- 15000 слов ✂️\n",
      "[runner.py:106 -              process() ] analysis saved, doc._id=63c506ace2456d59975e0f9b\n",
      "[703404606.py:22 -  re_analyze_contract() ] ......pre-processing 63c506c9e2456d59975e127d\n"
     ]
    },
    {
     "name": "stdout",
     "output_type": "stream",
     "text": [
      "35 ================================================================================\n"
     ]
    },
    {
     "name": "stderr",
     "output_type": "stream",
     "text": [
      "[legal_docs.py:116 -         warn_trimmed() ] 63c506c9e2456d59975e127d, 13.docx,  Для анализа документ обрезан из соображений производительности, допустимая длинна -- 15000 слов ✂️\n",
      "[contract_parser.py:426 - nn_find_contract_value() ] vat is None\n",
      "[runner.py:106 -              process() ] analysis saved, doc._id=63c506c9e2456d59975e127d\n",
      "[703404606.py:22 -  re_analyze_contract() ] ......pre-processing 63c506c8e2456d59975e123e\n"
     ]
    },
    {
     "name": "stdout",
     "output_type": "stream",
     "text": [
      "36 ================================================================================\n"
     ]
    },
    {
     "name": "stderr",
     "output_type": "stream",
     "text": [
      "[contract_parser.py:426 - nn_find_contract_value() ] vat is None\n",
      "[runner.py:106 -              process() ] analysis saved, doc._id=63c506c8e2456d59975e123e\n",
      "[703404606.py:22 -  re_analyze_contract() ] ......pre-processing 63c506c9e2456d59975e1276\n"
     ]
    },
    {
     "name": "stdout",
     "output_type": "stream",
     "text": [
      "37 ================================================================================\n"
     ]
    },
    {
     "name": "stderr",
     "output_type": "stream",
     "text": [
      "[runner.py:106 -              process() ] analysis saved, doc._id=63c506c9e2456d59975e1276\n",
      "[703404606.py:22 -  re_analyze_contract() ] ......pre-processing 63c506bbe2456d59975e10d9\n"
     ]
    },
    {
     "name": "stdout",
     "output_type": "stream",
     "text": [
      "38 ================================================================================\n"
     ]
    },
    {
     "name": "stderr",
     "output_type": "stream",
     "text": [
      "[runner.py:106 -              process() ] analysis saved, doc._id=63c506bbe2456d59975e10d9\n",
      "[703404606.py:22 -  re_analyze_contract() ] ......pre-processing 63c506afe2456d59975e0fca\n"
     ]
    },
    {
     "name": "stdout",
     "output_type": "stream",
     "text": [
      "39 ================================================================================\n"
     ]
    },
    {
     "name": "stderr",
     "output_type": "stream",
     "text": [
      "[contract_parser.py:426 - nn_find_contract_value() ] vat is None\n",
      "[runner.py:106 -              process() ] analysis saved, doc._id=63c506afe2456d59975e0fca\n",
      "[703404606.py:22 -  re_analyze_contract() ] ......pre-processing 63c506bbe2456d59975e10dd\n"
     ]
    },
    {
     "name": "stdout",
     "output_type": "stream",
     "text": [
      "40 ================================================================================\n"
     ]
    },
    {
     "name": "stderr",
     "output_type": "stream",
     "text": [
      "[runner.py:106 -              process() ] analysis saved, doc._id=63c506bbe2456d59975e10dd\n",
      "[703404606.py:22 -  re_analyze_contract() ] ......pre-processing 63c506c9e2456d59975e1276\n"
     ]
    },
    {
     "name": "stdout",
     "output_type": "stream",
     "text": [
      "41 ================================================================================\n"
     ]
    },
    {
     "name": "stderr",
     "output_type": "stream",
     "text": [
      "[runner.py:106 -              process() ] analysis saved, doc._id=63c506c9e2456d59975e1276\n",
      "[703404606.py:22 -  re_analyze_contract() ] ......pre-processing 63c506bbe2456d59975e10d9\n"
     ]
    },
    {
     "name": "stdout",
     "output_type": "stream",
     "text": [
      "42 ================================================================================\n"
     ]
    },
    {
     "name": "stderr",
     "output_type": "stream",
     "text": [
      "[runner.py:106 -              process() ] analysis saved, doc._id=63c506bbe2456d59975e10d9\n",
      "[703404606.py:22 -  re_analyze_contract() ] ......pre-processing 63c506bae2456d59975e10c1\n"
     ]
    },
    {
     "name": "stdout",
     "output_type": "stream",
     "text": [
      "43 ================================================================================\n"
     ]
    },
    {
     "name": "stderr",
     "output_type": "stream",
     "text": [
      "[legal_docs.py:116 -         warn_trimmed() ] 63c506bae2456d59975e10c1, Дог. АЗС_105.docx,  Для анализа документ обрезан из соображений производительности, допустимая длинна -- 15000 слов ✂️\n",
      "[contract_parser.py:426 - nn_find_contract_value() ] vat is None\n",
      "[runner.py:106 -              process() ] analysis saved, doc._id=63c506bae2456d59975e10c1\n",
      "[703404606.py:22 -  re_analyze_contract() ] ......pre-processing 63c506e5e2456d59975e1570\n"
     ]
    },
    {
     "name": "stdout",
     "output_type": "stream",
     "text": [
      "44 ================================================================================\n"
     ]
    },
    {
     "name": "stderr",
     "output_type": "stream",
     "text": [
      "[contract_parser.py:426 - nn_find_contract_value() ] vat is None\n",
      "[runner.py:106 -              process() ] analysis saved, doc._id=63c506e5e2456d59975e1570\n",
      "[703404606.py:22 -  re_analyze_contract() ] ......pre-processing 63c506b0e2456d59975e0fea\n"
     ]
    },
    {
     "name": "stdout",
     "output_type": "stream",
     "text": [
      "45 ================================================================================\n"
     ]
    },
    {
     "name": "stderr",
     "output_type": "stream",
     "text": [
      "[runner.py:106 -              process() ] analysis saved, doc._id=63c506b0e2456d59975e0fea\n",
      "[703404606.py:22 -  re_analyze_contract() ] ......pre-processing 63c506c7e2456d59975e1232\n"
     ]
    },
    {
     "name": "stdout",
     "output_type": "stream",
     "text": [
      "46 ================================================================================\n"
     ]
    },
    {
     "name": "stderr",
     "output_type": "stream",
     "text": [
      "[runner.py:106 -              process() ] analysis saved, doc._id=63c506c7e2456d59975e1232\n",
      "[703404606.py:22 -  re_analyze_contract() ] ......pre-processing 63c506c1e2456d59975e1187\n"
     ]
    },
    {
     "name": "stdout",
     "output_type": "stream",
     "text": [
      "47 ================================================================================\n"
     ]
    },
    {
     "name": "stderr",
     "output_type": "stream",
     "text": [
      "[contract_parser.py:412 - nn_find_contract_value() ] cannot unpack non-iterable NoneType object\n",
      "[contract_parser.py:426 - nn_find_contract_value() ] vat is None\n",
      "[runner.py:106 -              process() ] analysis saved, doc._id=63c506c1e2456d59975e1187\n",
      "[703404606.py:22 -  re_analyze_contract() ] ......pre-processing 63c506c0e2456d59975e116a\n"
     ]
    },
    {
     "name": "stdout",
     "output_type": "stream",
     "text": [
      "48 ================================================================================\n"
     ]
    },
    {
     "name": "stderr",
     "output_type": "stream",
     "text": [
      "[contract_parser.py:426 - nn_find_contract_value() ] vat is None\n",
      "[runner.py:106 -              process() ] analysis saved, doc._id=63c506c0e2456d59975e116a\n",
      "[703404606.py:22 -  re_analyze_contract() ] ......pre-processing 63c506c1e2456d59975e118c\n"
     ]
    },
    {
     "name": "stdout",
     "output_type": "stream",
     "text": [
      "49 ================================================================================\n"
     ]
    },
    {
     "name": "stderr",
     "output_type": "stream",
     "text": [
      "[runner.py:106 -              process() ] analysis saved, doc._id=63c506c1e2456d59975e118c\n",
      "[703404606.py:22 -  re_analyze_contract() ] ......pre-processing 63c506dbe2456d59975e143d\n"
     ]
    },
    {
     "name": "stdout",
     "output_type": "stream",
     "text": [
      "50 ================================================================================\n"
     ]
    },
    {
     "name": "stderr",
     "output_type": "stream",
     "text": [
      "[contract_parser.py:426 - nn_find_contract_value() ] vat is None\n",
      "[runner.py:106 -              process() ] analysis saved, doc._id=63c506dbe2456d59975e143d\n",
      "[703404606.py:22 -  re_analyze_contract() ] ......pre-processing 63c506c0e2456d59975e1170\n"
     ]
    },
    {
     "name": "stdout",
     "output_type": "stream",
     "text": [
      "51 ================================================================================\n"
     ]
    },
    {
     "name": "stderr",
     "output_type": "stream",
     "text": [
      "[runner.py:106 -              process() ] analysis saved, doc._id=63c506c0e2456d59975e1170\n",
      "[703404606.py:22 -  re_analyze_contract() ] ......pre-processing 63c506c5e2456d59975e1201\n"
     ]
    },
    {
     "name": "stdout",
     "output_type": "stream",
     "text": [
      "52 ================================================================================\n"
     ]
    },
    {
     "name": "stderr",
     "output_type": "stream",
     "text": [
      "[contract_parser.py:412 - nn_find_contract_value() ] cannot unpack non-iterable NoneType object\n",
      "[contract_parser.py:426 - nn_find_contract_value() ] vat is None\n",
      "[runner.py:106 -              process() ] analysis saved, doc._id=63c506c5e2456d59975e1201\n",
      "[703404606.py:22 -  re_analyze_contract() ] ......pre-processing 63c506bee2456d59975e1139\n"
     ]
    },
    {
     "name": "stdout",
     "output_type": "stream",
     "text": [
      "53 ================================================================================\n"
     ]
    },
    {
     "name": "stderr",
     "output_type": "stream",
     "text": [
      "[contract_parser.py:426 - nn_find_contract_value() ] vat is None\n",
      "[runner.py:106 -              process() ] analysis saved, doc._id=63c506bee2456d59975e1139\n",
      "[703404606.py:22 -  re_analyze_contract() ] ......pre-processing 63c506b9e2456d59975e10ae\n"
     ]
    },
    {
     "name": "stdout",
     "output_type": "stream",
     "text": [
      "54 ================================================================================\n"
     ]
    },
    {
     "name": "stderr",
     "output_type": "stream",
     "text": [
      "[runner.py:106 -              process() ] analysis saved, doc._id=63c506b9e2456d59975e10ae\n",
      "[703404606.py:22 -  re_analyze_contract() ] ......pre-processing 63c506e4e2456d59975e1550\n"
     ]
    },
    {
     "name": "stdout",
     "output_type": "stream",
     "text": [
      "55 ================================================================================\n"
     ]
    },
    {
     "name": "stderr",
     "output_type": "stream",
     "text": [
      "[runner.py:106 -              process() ] analysis saved, doc._id=63c506e4e2456d59975e1550\n",
      "[703404606.py:22 -  re_analyze_contract() ] ......pre-processing 63c506e4e2456d59975e1550\n"
     ]
    },
    {
     "name": "stdout",
     "output_type": "stream",
     "text": [
      "56 ================================================================================\n"
     ]
    },
    {
     "name": "stderr",
     "output_type": "stream",
     "text": [
      "[runner.py:106 -              process() ] analysis saved, doc._id=63c506e4e2456d59975e1550\n",
      "[703404606.py:22 -  re_analyze_contract() ] ......pre-processing 63c506c6e2456d59975e121e\n"
     ]
    },
    {
     "name": "stdout",
     "output_type": "stream",
     "text": [
      "57 ================================================================================\n"
     ]
    },
    {
     "name": "stderr",
     "output_type": "stream",
     "text": [
      "[runner.py:106 -              process() ] analysis saved, doc._id=63c506c6e2456d59975e121e\n",
      "[703404606.py:22 -  re_analyze_contract() ] ......pre-processing 63c506dbe2456d59975e143c\n"
     ]
    },
    {
     "name": "stdout",
     "output_type": "stream",
     "text": [
      "58 ================================================================================\n"
     ]
    },
    {
     "name": "stderr",
     "output_type": "stream",
     "text": [
      "[runner.py:106 -              process() ] analysis saved, doc._id=63c506dbe2456d59975e143c\n",
      "[703404606.py:22 -  re_analyze_contract() ] ......pre-processing 63c506ece2456d59975e15b6\n"
     ]
    },
    {
     "name": "stdout",
     "output_type": "stream",
     "text": [
      "59 ================================================================================\n"
     ]
    },
    {
     "name": "stderr",
     "output_type": "stream",
     "text": [
      "[runner.py:106 -              process() ] analysis saved, doc._id=63c506ece2456d59975e15b6\n",
      "[703404606.py:22 -  re_analyze_contract() ] ......pre-processing 63c506c9e2456d59975e1266\n"
     ]
    },
    {
     "name": "stdout",
     "output_type": "stream",
     "text": [
      "60 ================================================================================\n"
     ]
    },
    {
     "name": "stderr",
     "output_type": "stream",
     "text": [
      "[runner.py:106 -              process() ] analysis saved, doc._id=63c506c9e2456d59975e1266\n",
      "[703404606.py:22 -  re_analyze_contract() ] ......pre-processing 63c506e5e2456d59975e155d\n"
     ]
    },
    {
     "name": "stdout",
     "output_type": "stream",
     "text": [
      "61 ================================================================================\n"
     ]
    },
    {
     "name": "stderr",
     "output_type": "stream",
     "text": [
      "[contract_parser.py:426 - nn_find_contract_value() ] vat is None\n",
      "[runner.py:106 -              process() ] analysis saved, doc._id=63c506e5e2456d59975e155d\n",
      "[703404606.py:22 -  re_analyze_contract() ] ......pre-processing 63c506dfe2456d59975e14ac\n"
     ]
    },
    {
     "name": "stdout",
     "output_type": "stream",
     "text": [
      "62 ================================================================================\n"
     ]
    },
    {
     "name": "stderr",
     "output_type": "stream",
     "text": [
      "[contract_parser.py:426 - nn_find_contract_value() ] vat is None\n",
      "[runner.py:106 -              process() ] analysis saved, doc._id=63c506dfe2456d59975e14ac\n",
      "[703404606.py:22 -  re_analyze_contract() ] ......pre-processing 63c506b4e2456d59975e1041\n"
     ]
    },
    {
     "name": "stdout",
     "output_type": "stream",
     "text": [
      "63 ================================================================================\n"
     ]
    },
    {
     "name": "stderr",
     "output_type": "stream",
     "text": [
      "[contract_parser.py:426 - nn_find_contract_value() ] vat is None\n",
      "[runner.py:106 -              process() ] analysis saved, doc._id=63c506b4e2456d59975e1041\n",
      "[703404606.py:22 -  re_analyze_contract() ] ......pre-processing 63c506b0e2456d59975e0fe6\n",
      "[contract_parser.py:426 - nn_find_contract_value() ] vat is None\n"
     ]
    },
    {
     "name": "stdout",
     "output_type": "stream",
     "text": [
      "64 ================================================================================\n"
     ]
    },
    {
     "name": "stderr",
     "output_type": "stream",
     "text": [
      "[runner.py:106 -              process() ] analysis saved, doc._id=63c506b0e2456d59975e0fe6\n",
      "[703404606.py:22 -  re_analyze_contract() ] ......pre-processing 63c506b5e2456d59975e1042\n"
     ]
    },
    {
     "name": "stdout",
     "output_type": "stream",
     "text": [
      "65 ================================================================================\n"
     ]
    },
    {
     "name": "stderr",
     "output_type": "stream",
     "text": [
      "[runner.py:106 -              process() ] analysis saved, doc._id=63c506b5e2456d59975e1042\n",
      "[703404606.py:22 -  re_analyze_contract() ] ......pre-processing 63c506ebe2456d59975e1596\n"
     ]
    },
    {
     "name": "stdout",
     "output_type": "stream",
     "text": [
      "66 ================================================================================\n"
     ]
    },
    {
     "name": "stderr",
     "output_type": "stream",
     "text": [
      "[runner.py:106 -              process() ] analysis saved, doc._id=63c506ebe2456d59975e1596\n",
      "[703404606.py:22 -  re_analyze_contract() ] ......pre-processing 63c506dce2456d59975e1456\n"
     ]
    },
    {
     "name": "stdout",
     "output_type": "stream",
     "text": [
      "67 ================================================================================\n"
     ]
    },
    {
     "name": "stderr",
     "output_type": "stream",
     "text": [
      "[runner.py:106 -              process() ] analysis saved, doc._id=63c506dce2456d59975e1456\n",
      "[703404606.py:22 -  re_analyze_contract() ] ......pre-processing 63c506c0e2456d59975e116d\n"
     ]
    },
    {
     "name": "stdout",
     "output_type": "stream",
     "text": [
      "68 ================================================================================\n"
     ]
    },
    {
     "name": "stderr",
     "output_type": "stream",
     "text": [
      "[contract_parser.py:426 - nn_find_contract_value() ] vat is None\n",
      "[runner.py:106 -              process() ] analysis saved, doc._id=63c506c0e2456d59975e116d\n",
      "[703404606.py:22 -  re_analyze_contract() ] ......pre-processing 63c506d6e2456d59975e13a2\n"
     ]
    },
    {
     "name": "stdout",
     "output_type": "stream",
     "text": [
      "69 ================================================================================\n"
     ]
    },
    {
     "name": "stderr",
     "output_type": "stream",
     "text": [
      "[runner.py:106 -              process() ] analysis saved, doc._id=63c506d6e2456d59975e13a2\n",
      "[703404606.py:22 -  re_analyze_contract() ] ......pre-processing 63c506ebe2456d59975e15a2\n"
     ]
    },
    {
     "name": "stdout",
     "output_type": "stream",
     "text": [
      "70 ================================================================================\n"
     ]
    },
    {
     "name": "stderr",
     "output_type": "stream",
     "text": [
      "[contract_parser.py:426 - nn_find_contract_value() ] vat is None\n",
      "[runner.py:106 -              process() ] analysis saved, doc._id=63c506ebe2456d59975e15a2\n",
      "[703404606.py:22 -  re_analyze_contract() ] ......pre-processing 63c506d1e2456d59975e1337\n"
     ]
    },
    {
     "name": "stdout",
     "output_type": "stream",
     "text": [
      "71 ================================================================================\n"
     ]
    },
    {
     "name": "stderr",
     "output_type": "stream",
     "text": [
      "[runner.py:106 -              process() ] analysis saved, doc._id=63c506d1e2456d59975e1337\n",
      "[703404606.py:22 -  re_analyze_contract() ] ......pre-processing 63c506d2e2456d59975e1346\n"
     ]
    },
    {
     "name": "stdout",
     "output_type": "stream",
     "text": [
      "72 ================================================================================\n"
     ]
    },
    {
     "name": "stderr",
     "output_type": "stream",
     "text": [
      "[contract_parser.py:412 - nn_find_contract_value() ] cannot unpack non-iterable NoneType object\n",
      "[runner.py:106 -              process() ] analysis saved, doc._id=63c506d2e2456d59975e1346\n",
      "[703404606.py:22 -  re_analyze_contract() ] ......pre-processing 63c506c7e2456d59975e1231\n"
     ]
    },
    {
     "name": "stdout",
     "output_type": "stream",
     "text": [
      "73 ================================================================================\n"
     ]
    },
    {
     "name": "stderr",
     "output_type": "stream",
     "text": [
      "[runner.py:106 -              process() ] analysis saved, doc._id=63c506c7e2456d59975e1231\n",
      "[703404606.py:22 -  re_analyze_contract() ] ......pre-processing 63c506c6e2456d59975e1222\n",
      "[contract_parser.py:426 - nn_find_contract_value() ] vat is None\n"
     ]
    },
    {
     "name": "stdout",
     "output_type": "stream",
     "text": [
      "74 ================================================================================\n"
     ]
    },
    {
     "name": "stderr",
     "output_type": "stream",
     "text": [
      "[runner.py:106 -              process() ] analysis saved, doc._id=63c506c6e2456d59975e1222\n",
      "[703404606.py:22 -  re_analyze_contract() ] ......pre-processing 63c506cae2456d59975e1284\n"
     ]
    },
    {
     "name": "stdout",
     "output_type": "stream",
     "text": [
      "75 ================================================================================\n"
     ]
    },
    {
     "name": "stderr",
     "output_type": "stream",
     "text": [
      "[contract_parser.py:426 - nn_find_contract_value() ] vat is None\n",
      "[runner.py:106 -              process() ] analysis saved, doc._id=63c506cae2456d59975e1284\n",
      "[703404606.py:22 -  re_analyze_contract() ] ......pre-processing 63c506b7e2456d59975e107e\n"
     ]
    },
    {
     "name": "stdout",
     "output_type": "stream",
     "text": [
      "76 ================================================================================\n"
     ]
    },
    {
     "name": "stderr",
     "output_type": "stream",
     "text": [
      "[runner.py:106 -              process() ] analysis saved, doc._id=63c506b7e2456d59975e107e\n",
      "[703404606.py:22 -  re_analyze_contract() ] ......pre-processing 63c506aae2456d59975e0f82\n"
     ]
    },
    {
     "name": "stdout",
     "output_type": "stream",
     "text": [
      "77 ================================================================================\n"
     ]
    },
    {
     "name": "stderr",
     "output_type": "stream",
     "text": [
      "[legal_docs.py:116 -         warn_trimmed() ] 63c506aae2456d59975e0f82, 24.DOCX,  Для анализа документ обрезан из соображений производительности, допустимая длинна -- 15000 слов ✂️\n",
      "[runner.py:106 -              process() ] analysis saved, doc._id=63c506aae2456d59975e0f82\n",
      "[703404606.py:22 -  re_analyze_contract() ] ......pre-processing 63c506aee2456d59975e0fc8\n"
     ]
    },
    {
     "name": "stdout",
     "output_type": "stream",
     "text": [
      "78 ================================================================================\n"
     ]
    },
    {
     "name": "stderr",
     "output_type": "stream",
     "text": [
      "[contract_parser.py:426 - nn_find_contract_value() ] vat is None\n",
      "[runner.py:106 -              process() ] analysis saved, doc._id=63c506aee2456d59975e0fc8\n",
      "[703404606.py:22 -  re_analyze_contract() ] ......pre-processing 63c506b1e2456d59975e0fed\n"
     ]
    },
    {
     "name": "stdout",
     "output_type": "stream",
     "text": [
      "79 ================================================================================\n"
     ]
    },
    {
     "name": "stderr",
     "output_type": "stream",
     "text": [
      "[contract_parser.py:426 - nn_find_contract_value() ] vat is None\n",
      "[runner.py:106 -              process() ] analysis saved, doc._id=63c506b1e2456d59975e0fed\n",
      "[703404606.py:22 -  re_analyze_contract() ] ......pre-processing 63c506c5e2456d59975e11fe\n"
     ]
    },
    {
     "name": "stdout",
     "output_type": "stream",
     "text": [
      "80 ================================================================================\n"
     ]
    },
    {
     "name": "stderr",
     "output_type": "stream",
     "text": [
      "[runner.py:106 -              process() ] analysis saved, doc._id=63c506c5e2456d59975e11fe\n",
      "[703404606.py:22 -  re_analyze_contract() ] ......pre-processing 63c506c0e2456d59975e1185\n"
     ]
    },
    {
     "name": "stdout",
     "output_type": "stream",
     "text": [
      "81 ================================================================================\n"
     ]
    },
    {
     "name": "stderr",
     "output_type": "stream",
     "text": [
      "[contract_parser.py:426 - nn_find_contract_value() ] vat is None\n",
      "[runner.py:106 -              process() ] analysis saved, doc._id=63c506c0e2456d59975e1185\n",
      "[703404606.py:22 -  re_analyze_contract() ] ......pre-processing 63c506d8e2456d59975e13f2\n"
     ]
    },
    {
     "name": "stdout",
     "output_type": "stream",
     "text": [
      "82 ================================================================================\n"
     ]
    },
    {
     "name": "stderr",
     "output_type": "stream",
     "text": [
      "[legal_docs.py:116 -         warn_trimmed() ] 63c506d8e2456d59975e13f2, 21.docx,  Для анализа документ обрезан из соображений производительности, допустимая длинна -- 15000 слов ✂️\n",
      "[contract_parser.py:426 - nn_find_contract_value() ] vat is None\n",
      "[runner.py:106 -              process() ] analysis saved, doc._id=63c506d8e2456d59975e13f2\n",
      "[703404606.py:22 -  re_analyze_contract() ] ......pre-processing 63c506d4e2456d59975e1386\n"
     ]
    },
    {
     "name": "stdout",
     "output_type": "stream",
     "text": [
      "83 ================================================================================\n"
     ]
    },
    {
     "name": "stderr",
     "output_type": "stream",
     "text": [
      "[legal_docs.py:116 -         warn_trimmed() ] 63c506d4e2456d59975e1386, 22.docx,  Для анализа документ обрезан из соображений производительности, допустимая длинна -- 15000 слов ✂️\n",
      "[contract_parser.py:426 - nn_find_contract_value() ] vat is None\n",
      "[runner.py:106 -              process() ] analysis saved, doc._id=63c506d4e2456d59975e1386\n",
      "[703404606.py:22 -  re_analyze_contract() ] ......pre-processing 63c506d9e2456d59975e13ff\n"
     ]
    },
    {
     "name": "stdout",
     "output_type": "stream",
     "text": [
      "84 ================================================================================\n"
     ]
    },
    {
     "name": "stderr",
     "output_type": "stream",
     "text": [
      "[runner.py:106 -              process() ] analysis saved, doc._id=63c506d9e2456d59975e13ff\n",
      "[703404606.py:22 -  re_analyze_contract() ] ......pre-processing 63c506bbe2456d59975e10e2\n"
     ]
    },
    {
     "name": "stdout",
     "output_type": "stream",
     "text": [
      "85 ================================================================================\n"
     ]
    },
    {
     "name": "stderr",
     "output_type": "stream",
     "text": [
      "[contract_parser.py:426 - nn_find_contract_value() ] vat is None\n",
      "[runner.py:106 -              process() ] analysis saved, doc._id=63c506bbe2456d59975e10e2\n",
      "[703404606.py:22 -  re_analyze_contract() ] ......pre-processing 63c506dee2456d59975e148b\n"
     ]
    },
    {
     "name": "stdout",
     "output_type": "stream",
     "text": [
      "86 ================================================================================\n"
     ]
    },
    {
     "name": "stderr",
     "output_type": "stream",
     "text": [
      "[legal_docs.py:116 -         warn_trimmed() ] 63c506dee2456d59975e148b, Договор 3 (2).docx,  Для анализа документ обрезан из соображений производительности, допустимая длинна -- 15000 слов ✂️\n",
      "[runner.py:106 -              process() ] analysis saved, doc._id=63c506dee2456d59975e148b\n",
      "[703404606.py:22 -  re_analyze_contract() ] ......pre-processing 63c506e0e2456d59975e14e2\n"
     ]
    },
    {
     "name": "stdout",
     "output_type": "stream",
     "text": [
      "87 ================================================================================\n"
     ]
    },
    {
     "name": "stderr",
     "output_type": "stream",
     "text": [
      "[contract_parser.py:426 - nn_find_contract_value() ] vat is None\n",
      "[runner.py:106 -              process() ] analysis saved, doc._id=63c506e0e2456d59975e14e2\n",
      "[703404606.py:22 -  re_analyze_contract() ] ......pre-processing 63c506e1e2456d59975e14e4\n"
     ]
    },
    {
     "name": "stdout",
     "output_type": "stream",
     "text": [
      "88 ================================================================================\n"
     ]
    },
    {
     "name": "stderr",
     "output_type": "stream",
     "text": [
      "[contract_parser.py:426 - nn_find_contract_value() ] vat is None\n",
      "[runner.py:106 -              process() ] analysis saved, doc._id=63c506e1e2456d59975e14e4\n",
      "[703404606.py:22 -  re_analyze_contract() ] ......pre-processing 63c506b3e2456d59975e102b\n"
     ]
    },
    {
     "name": "stdout",
     "output_type": "stream",
     "text": [
      "89 ================================================================================\n"
     ]
    },
    {
     "name": "stderr",
     "output_type": "stream",
     "text": [
      "[contract_parser.py:426 - nn_find_contract_value() ] vat is None\n",
      "[runner.py:106 -              process() ] analysis saved, doc._id=63c506b3e2456d59975e102b\n",
      "[703404606.py:22 -  re_analyze_contract() ] ......pre-processing 63c506e5e2456d59975e156b\n",
      "[runner.py:106 -              process() ] analysis saved, doc._id=63c506e5e2456d59975e156b\n",
      "[703404606.py:22 -  re_analyze_contract() ] ......pre-processing 63c506c4e2456d59975e11e3\n"
     ]
    },
    {
     "name": "stdout",
     "output_type": "stream",
     "text": [
      "90 ================================================================================\n",
      "91 ================================================================================\n"
     ]
    },
    {
     "name": "stderr",
     "output_type": "stream",
     "text": [
      "[contract_parser.py:426 - nn_find_contract_value() ] vat is None\n",
      "[runner.py:106 -              process() ] analysis saved, doc._id=63c506c4e2456d59975e11e3\n",
      "[703404606.py:22 -  re_analyze_contract() ] ......pre-processing 63c506c2e2456d59975e11a8\n"
     ]
    },
    {
     "name": "stdout",
     "output_type": "stream",
     "text": [
      "92 ================================================================================\n"
     ]
    },
    {
     "name": "stderr",
     "output_type": "stream",
     "text": [
      "[contract_parser.py:426 - nn_find_contract_value() ] vat is None\n",
      "[runner.py:106 -              process() ] analysis saved, doc._id=63c506c2e2456d59975e11a8\n",
      "[703404606.py:22 -  re_analyze_contract() ] ......pre-processing 63c506c9e2456d59975e127f\n"
     ]
    },
    {
     "name": "stdout",
     "output_type": "stream",
     "text": [
      "93 ================================================================================\n"
     ]
    },
    {
     "name": "stderr",
     "output_type": "stream",
     "text": [
      "[runner.py:106 -              process() ] analysis saved, doc._id=63c506c9e2456d59975e127f\n",
      "[703404606.py:22 -  re_analyze_contract() ] ......pre-processing 63c506cfe2456d59975e12fa\n"
     ]
    },
    {
     "name": "stdout",
     "output_type": "stream",
     "text": [
      "94 ================================================================================\n"
     ]
    },
    {
     "name": "stderr",
     "output_type": "stream",
     "text": [
      "[contract_parser.py:426 - nn_find_contract_value() ] vat is None\n",
      "[runner.py:106 -              process() ] analysis saved, doc._id=63c506cfe2456d59975e12fa\n",
      "[703404606.py:22 -  re_analyze_contract() ] ......pre-processing 63c506e3e2456d59975e1519\n"
     ]
    },
    {
     "name": "stdout",
     "output_type": "stream",
     "text": [
      "95 ================================================================================\n"
     ]
    },
    {
     "name": "stderr",
     "output_type": "stream",
     "text": [
      "[runner.py:106 -              process() ] analysis saved, doc._id=63c506e3e2456d59975e1519\n",
      "[703404606.py:22 -  re_analyze_contract() ] ......pre-processing 63c506c0e2456d59975e1182\n"
     ]
    },
    {
     "name": "stdout",
     "output_type": "stream",
     "text": [
      "96 ================================================================================\n"
     ]
    },
    {
     "name": "stderr",
     "output_type": "stream",
     "text": [
      "[contract_parser.py:426 - nn_find_contract_value() ] vat is None\n",
      "[runner.py:106 -              process() ] analysis saved, doc._id=63c506c0e2456d59975e1182\n",
      "[703404606.py:22 -  re_analyze_contract() ] ......pre-processing 63c506d0e2456d59975e1319\n"
     ]
    },
    {
     "name": "stdout",
     "output_type": "stream",
     "text": [
      "97 ================================================================================\n"
     ]
    },
    {
     "name": "stderr",
     "output_type": "stream",
     "text": [
      "[runner.py:106 -              process() ] analysis saved, doc._id=63c506d0e2456d59975e1319\n",
      "[703404606.py:22 -  re_analyze_contract() ] ......pre-processing 63c506d1e2456d59975e1341\n"
     ]
    },
    {
     "name": "stdout",
     "output_type": "stream",
     "text": [
      "98 ================================================================================\n"
     ]
    },
    {
     "name": "stderr",
     "output_type": "stream",
     "text": [
      "[runner.py:106 -              process() ] analysis saved, doc._id=63c506d1e2456d59975e1341\n",
      "[703404606.py:22 -  re_analyze_contract() ] ......pre-processing 63c506c8e2456d59975e1259\n"
     ]
    },
    {
     "name": "stdout",
     "output_type": "stream",
     "text": [
      "99 ================================================================================\n"
     ]
    },
    {
     "name": "stderr",
     "output_type": "stream",
     "text": [
      "[contract_parser.py:412 - nn_find_contract_value() ] cannot unpack non-iterable NoneType object\n",
      "[contract_parser.py:426 - nn_find_contract_value() ] vat is None\n",
      "[runner.py:106 -              process() ] analysis saved, doc._id=63c506c8e2456d59975e1259\n",
      "[703404606.py:22 -  re_analyze_contract() ] ......pre-processing 63c506c1e2456d59975e1194\n"
     ]
    },
    {
     "name": "stdout",
     "output_type": "stream",
     "text": [
      "100 ================================================================================\n"
     ]
    },
    {
     "name": "stderr",
     "output_type": "stream",
     "text": [
      "[contract_parser.py:426 - nn_find_contract_value() ] vat is None\n",
      "[runner.py:106 -              process() ] analysis saved, doc._id=63c506c1e2456d59975e1194\n",
      "[703404606.py:22 -  re_analyze_contract() ] ......pre-processing 63c506dde2456d59975e146a\n"
     ]
    },
    {
     "name": "stdout",
     "output_type": "stream",
     "text": [
      "101 ================================================================================\n"
     ]
    },
    {
     "name": "stderr",
     "output_type": "stream",
     "text": [
      "[runner.py:106 -              process() ] analysis saved, doc._id=63c506dde2456d59975e146a\n",
      "[703404606.py:22 -  re_analyze_contract() ] ......pre-processing 63c506cde2456d59975e12e6\n",
      "[contract_parser.py:426 - nn_find_contract_value() ] vat is None\n",
      "[runner.py:106 -              process() ] analysis saved, doc._id=63c506cde2456d59975e12e6\n",
      "[703404606.py:22 -  re_analyze_contract() ] ......pre-processing 63c506cfe2456d59975e1301\n"
     ]
    },
    {
     "name": "stdout",
     "output_type": "stream",
     "text": [
      "102 ================================================================================\n",
      "103 ================================================================================\n"
     ]
    },
    {
     "name": "stderr",
     "output_type": "stream",
     "text": [
      "[runner.py:106 -              process() ] analysis saved, doc._id=63c506cfe2456d59975e1301\n",
      "[703404606.py:22 -  re_analyze_contract() ] ......pre-processing 63c506abe2456d59975e0f95\n"
     ]
    },
    {
     "name": "stdout",
     "output_type": "stream",
     "text": [
      "104 ================================================================================\n"
     ]
    },
    {
     "name": "stderr",
     "output_type": "stream",
     "text": [
      "[contract_parser.py:426 - nn_find_contract_value() ] vat is None\n",
      "[runner.py:106 -              process() ] analysis saved, doc._id=63c506abe2456d59975e0f95\n",
      "[703404606.py:22 -  re_analyze_contract() ] ......pre-processing 63c506b8e2456d59975e108b\n"
     ]
    },
    {
     "name": "stdout",
     "output_type": "stream",
     "text": [
      "105 ================================================================================\n"
     ]
    },
    {
     "name": "stderr",
     "output_type": "stream",
     "text": [
      "[runner.py:106 -              process() ] analysis saved, doc._id=63c506b8e2456d59975e108b\n",
      "[703404606.py:22 -  re_analyze_contract() ] ......pre-processing 63c506dde2456d59975e1469\n"
     ]
    },
    {
     "name": "stdout",
     "output_type": "stream",
     "text": [
      "106 ================================================================================\n"
     ]
    },
    {
     "name": "stderr",
     "output_type": "stream",
     "text": [
      "[contract_parser.py:426 - nn_find_contract_value() ] vat is None\n",
      "[runner.py:106 -              process() ] analysis saved, doc._id=63c506dde2456d59975e1469\n",
      "[703404606.py:22 -  re_analyze_contract() ] ......pre-processing 63c506bbe2456d59975e10d7\n",
      "[contract_parser.py:426 - nn_find_contract_value() ] vat is None\n",
      "[runner.py:106 -              process() ] analysis saved, doc._id=63c506bbe2456d59975e10d7\n",
      "[703404606.py:22 -  re_analyze_contract() ] ......pre-processing 63c506dde2456d59975e1469\n"
     ]
    },
    {
     "name": "stdout",
     "output_type": "stream",
     "text": [
      "107 ================================================================================\n",
      "108 ================================================================================\n"
     ]
    },
    {
     "name": "stderr",
     "output_type": "stream",
     "text": [
      "[contract_parser.py:426 - nn_find_contract_value() ] vat is None\n",
      "[runner.py:106 -              process() ] analysis saved, doc._id=63c506dde2456d59975e1469\n",
      "[703404606.py:22 -  re_analyze_contract() ] ......pre-processing 63c506ebe2456d59975e1599\n",
      "[contract_parser.py:426 - nn_find_contract_value() ] vat is None\n",
      "[runner.py:106 -              process() ] analysis saved, doc._id=63c506ebe2456d59975e1599\n"
     ]
    },
    {
     "name": "stdout",
     "output_type": "stream",
     "text": [
      "109 ================================================================================\n",
      "110 ================================================================================\n"
     ]
    },
    {
     "name": "stderr",
     "output_type": "stream",
     "text": [
      "[703404606.py:22 -  re_analyze_contract() ] ......pre-processing 63c506b9e2456d59975e10aa\n",
      "[contract_parser.py:426 - nn_find_contract_value() ] vat is None\n",
      "[runner.py:106 -              process() ] analysis saved, doc._id=63c506b9e2456d59975e10aa\n",
      "[703404606.py:22 -  re_analyze_contract() ] ......pre-processing 63c506bde2456d59975e1118\n"
     ]
    },
    {
     "name": "stdout",
     "output_type": "stream",
     "text": [
      "111 ================================================================================\n"
     ]
    },
    {
     "name": "stderr",
     "output_type": "stream",
     "text": [
      "[runner.py:106 -              process() ] analysis saved, doc._id=63c506bde2456d59975e1118\n",
      "[703404606.py:22 -  re_analyze_contract() ] ......pre-processing 63c506b9e2456d59975e10b5\n"
     ]
    },
    {
     "name": "stdout",
     "output_type": "stream",
     "text": [
      "112 ================================================================================\n"
     ]
    },
    {
     "name": "stderr",
     "output_type": "stream",
     "text": [
      "[contract_parser.py:426 - nn_find_contract_value() ] vat is None\n",
      "[runner.py:106 -              process() ] analysis saved, doc._id=63c506b9e2456d59975e10b5\n",
      "[703404606.py:22 -  re_analyze_contract() ] ......pre-processing 63c506cce2456d59975e12c3\n"
     ]
    },
    {
     "name": "stdout",
     "output_type": "stream",
     "text": [
      "113 ================================================================================\n"
     ]
    },
    {
     "name": "stderr",
     "output_type": "stream",
     "text": [
      "[contract_parser.py:426 - nn_find_contract_value() ] vat is None\n",
      "[runner.py:106 -              process() ] analysis saved, doc._id=63c506cce2456d59975e12c3\n",
      "[703404606.py:22 -  re_analyze_contract() ] ......pre-processing 63c506b0e2456d59975e0fe7\n"
     ]
    },
    {
     "name": "stdout",
     "output_type": "stream",
     "text": [
      "114 ================================================================================\n"
     ]
    },
    {
     "name": "stderr",
     "output_type": "stream",
     "text": [
      "[contract_parser.py:426 - nn_find_contract_value() ] vat is None\n",
      "[runner.py:106 -              process() ] analysis saved, doc._id=63c506b0e2456d59975e0fe7\n",
      "[703404606.py:22 -  re_analyze_contract() ] ......pre-processing 63c506bde2456d59975e111f\n"
     ]
    },
    {
     "name": "stdout",
     "output_type": "stream",
     "text": [
      "115 ================================================================================\n"
     ]
    },
    {
     "name": "stderr",
     "output_type": "stream",
     "text": [
      "[runner.py:106 -              process() ] analysis saved, doc._id=63c506bde2456d59975e111f\n",
      "[703404606.py:22 -  re_analyze_contract() ] ......pre-processing 63c506bde2456d59975e1120\n"
     ]
    },
    {
     "name": "stdout",
     "output_type": "stream",
     "text": [
      "116 ================================================================================\n"
     ]
    },
    {
     "name": "stderr",
     "output_type": "stream",
     "text": [
      "[runner.py:106 -              process() ] analysis saved, doc._id=63c506bde2456d59975e1120\n",
      "[703404606.py:22 -  re_analyze_contract() ] ......pre-processing 63c506ace2456d59975e0f9e\n",
      "[contract_parser.py:426 - nn_find_contract_value() ] vat is None\n"
     ]
    },
    {
     "name": "stdout",
     "output_type": "stream",
     "text": [
      "117 ================================================================================\n"
     ]
    },
    {
     "name": "stderr",
     "output_type": "stream",
     "text": [
      "[runner.py:106 -              process() ] analysis saved, doc._id=63c506ace2456d59975e0f9e\n",
      "[703404606.py:22 -  re_analyze_contract() ] ......pre-processing 63c506bde2456d59975e1122\n"
     ]
    },
    {
     "name": "stdout",
     "output_type": "stream",
     "text": [
      "118 ================================================================================\n"
     ]
    },
    {
     "name": "stderr",
     "output_type": "stream",
     "text": [
      "[runner.py:106 -              process() ] analysis saved, doc._id=63c506bde2456d59975e1122\n",
      "[703404606.py:22 -  re_analyze_contract() ] ......pre-processing 63c506b5e2456d59975e1059\n"
     ]
    },
    {
     "name": "stdout",
     "output_type": "stream",
     "text": [
      "119 ================================================================================\n"
     ]
    },
    {
     "name": "stderr",
     "output_type": "stream",
     "text": [
      "[runner.py:106 -              process() ] analysis saved, doc._id=63c506b5e2456d59975e1059\n",
      "[703404606.py:22 -  re_analyze_contract() ] ......pre-processing 63c506bde2456d59975e1123\n",
      "[runner.py:106 -              process() ] analysis saved, doc._id=63c506bde2456d59975e1123\n",
      "[703404606.py:22 -  re_analyze_contract() ] ......pre-processing 63c506bee2456d59975e112a\n"
     ]
    },
    {
     "name": "stdout",
     "output_type": "stream",
     "text": [
      "120 ================================================================================\n",
      "121 ================================================================================\n"
     ]
    },
    {
     "name": "stderr",
     "output_type": "stream",
     "text": [
      "[legal_docs.py:116 -         warn_trimmed() ] 63c506bee2456d59975e112a, Договор подряда эксплуатация.docx,  Для анализа документ обрезан из соображений производительности, допустимая длинна -- 15000 слов ✂️\n",
      "[runner.py:106 -              process() ] analysis saved, doc._id=63c506bee2456d59975e112a\n",
      "[703404606.py:22 -  re_analyze_contract() ] ......pre-processing 63c506abe2456d59975e0f8f\n"
     ]
    },
    {
     "name": "stdout",
     "output_type": "stream",
     "text": [
      "122 ================================================================================\n"
     ]
    },
    {
     "name": "stderr",
     "output_type": "stream",
     "text": [
      "[contract_parser.py:426 - nn_find_contract_value() ] vat is None\n",
      "[runner.py:106 -              process() ] analysis saved, doc._id=63c506abe2456d59975e0f8f\n",
      "[703404606.py:22 -  re_analyze_contract() ] ......pre-processing 63c506b6e2456d59975e105d\n"
     ]
    },
    {
     "name": "stdout",
     "output_type": "stream",
     "text": [
      "123 ================================================================================\n"
     ]
    },
    {
     "name": "stderr",
     "output_type": "stream",
     "text": [
      "[contract_parser.py:426 - nn_find_contract_value() ] vat is None\n",
      "[runner.py:106 -              process() ] analysis saved, doc._id=63c506b6e2456d59975e105d\n",
      "[703404606.py:22 -  re_analyze_contract() ] ......pre-processing 63c506bfe2456d59975e1144\n"
     ]
    },
    {
     "name": "stdout",
     "output_type": "stream",
     "text": [
      "124 ================================================================================\n"
     ]
    },
    {
     "name": "stderr",
     "output_type": "stream",
     "text": [
      "[runner.py:106 -              process() ] analysis saved, doc._id=63c506bfe2456d59975e1144\n",
      "[703404606.py:22 -  re_analyze_contract() ] ......pre-processing 63c506bfe2456d59975e1147\n"
     ]
    },
    {
     "name": "stdout",
     "output_type": "stream",
     "text": [
      "125 ================================================================================\n"
     ]
    },
    {
     "name": "stderr",
     "output_type": "stream",
     "text": [
      "[contract_parser.py:426 - nn_find_contract_value() ] vat is None\n",
      "[runner.py:106 -              process() ] analysis saved, doc._id=63c506bfe2456d59975e1147\n",
      "[703404606.py:22 -  re_analyze_contract() ] ......pre-processing 63c506bfe2456d59975e114c\n"
     ]
    },
    {
     "name": "stdout",
     "output_type": "stream",
     "text": [
      "126 ================================================================================\n"
     ]
    },
    {
     "name": "stderr",
     "output_type": "stream",
     "text": [
      "[contract_parser.py:426 - nn_find_contract_value() ] vat is None\n",
      "[runner.py:106 -              process() ] analysis saved, doc._id=63c506bfe2456d59975e114c\n",
      "[703404606.py:22 -  re_analyze_contract() ] ......pre-processing 63c506b6e2456d59975e1070\n"
     ]
    },
    {
     "name": "stdout",
     "output_type": "stream",
     "text": [
      "127 ================================================================================\n"
     ]
    },
    {
     "name": "stderr",
     "output_type": "stream",
     "text": [
      "[runner.py:106 -              process() ] analysis saved, doc._id=63c506b6e2456d59975e1070\n",
      "[703404606.py:22 -  re_analyze_contract() ] ......pre-processing 63c506abe2456d59975e0f92\n"
     ]
    },
    {
     "name": "stdout",
     "output_type": "stream",
     "text": [
      "128 ================================================================================\n"
     ]
    },
    {
     "name": "stderr",
     "output_type": "stream",
     "text": [
      "[runner.py:106 -              process() ] analysis saved, doc._id=63c506abe2456d59975e0f92\n",
      "[703404606.py:22 -  re_analyze_contract() ] ......pre-processing 63c506b1e2456d59975e1005\n"
     ]
    },
    {
     "name": "stdout",
     "output_type": "stream",
     "text": [
      "129 ================================================================================\n"
     ]
    },
    {
     "name": "stderr",
     "output_type": "stream",
     "text": [
      "[runner.py:106 -              process() ] analysis saved, doc._id=63c506b1e2456d59975e1005\n",
      "[703404606.py:22 -  re_analyze_contract() ] ......pre-processing 63c506b7e2456d59975e107a\n"
     ]
    },
    {
     "name": "stdout",
     "output_type": "stream",
     "text": [
      "130 ================================================================================\n"
     ]
    },
    {
     "name": "stderr",
     "output_type": "stream",
     "text": [
      "[contract_parser.py:426 - nn_find_contract_value() ] vat is None\n",
      "[runner.py:106 -              process() ] analysis saved, doc._id=63c506b7e2456d59975e107a\n",
      "[703404606.py:22 -  re_analyze_contract() ] ......pre-processing 63c506b7e2456d59975e107b\n"
     ]
    },
    {
     "name": "stdout",
     "output_type": "stream",
     "text": [
      "131 ================================================================================\n"
     ]
    },
    {
     "name": "stderr",
     "output_type": "stream",
     "text": [
      "[contract_parser.py:426 - nn_find_contract_value() ] vat is None\n",
      "[runner.py:106 -              process() ] analysis saved, doc._id=63c506b7e2456d59975e107b\n",
      "[703404606.py:22 -  re_analyze_contract() ] ......pre-processing 63c506c0e2456d59975e117b\n"
     ]
    },
    {
     "name": "stdout",
     "output_type": "stream",
     "text": [
      "132 ================================================================================\n"
     ]
    },
    {
     "name": "stderr",
     "output_type": "stream",
     "text": [
      "[contract_parser.py:426 - nn_find_contract_value() ] vat is None\n",
      "[runner.py:106 -              process() ] analysis saved, doc._id=63c506c0e2456d59975e117b\n",
      "[703404606.py:22 -  re_analyze_contract() ] ......pre-processing 63c506c1e2456d59975e1186\n"
     ]
    },
    {
     "name": "stdout",
     "output_type": "stream",
     "text": [
      "133 ================================================================================\n"
     ]
    },
    {
     "name": "stderr",
     "output_type": "stream",
     "text": [
      "[contract_parser.py:426 - nn_find_contract_value() ] vat is None\n",
      "[runner.py:106 -              process() ] analysis saved, doc._id=63c506c1e2456d59975e1186\n",
      "[703404606.py:22 -  re_analyze_contract() ] ......pre-processing 63c506b2e2456d59975e1007\n"
     ]
    },
    {
     "name": "stdout",
     "output_type": "stream",
     "text": [
      "134 ================================================================================\n"
     ]
    },
    {
     "name": "stderr",
     "output_type": "stream",
     "text": [
      "[legal_docs.py:116 -         warn_trimmed() ] 63c506b2e2456d59975e1007, 29.docx,  Для анализа документ обрезан из соображений производительности, допустимая длинна -- 15000 слов ✂️\n",
      "[runner.py:106 -              process() ] analysis saved, doc._id=63c506b2e2456d59975e1007\n",
      "[703404606.py:22 -  re_analyze_contract() ] ......pre-processing 63c506c1e2456d59975e1188\n"
     ]
    },
    {
     "name": "stdout",
     "output_type": "stream",
     "text": [
      "135 ================================================================================\n"
     ]
    },
    {
     "name": "stderr",
     "output_type": "stream",
     "text": [
      "[contract_parser.py:426 - nn_find_contract_value() ] vat is None\n",
      "[runner.py:106 -              process() ] analysis saved, doc._id=63c506c1e2456d59975e1188\n",
      "[703404606.py:22 -  re_analyze_contract() ] ......pre-processing 63c506b2e2456d59975e1009\n"
     ]
    },
    {
     "name": "stdout",
     "output_type": "stream",
     "text": [
      "136 ================================================================================\n"
     ]
    },
    {
     "name": "stderr",
     "output_type": "stream",
     "text": [
      "[runner.py:106 -              process() ] analysis saved, doc._id=63c506b2e2456d59975e1009\n",
      "[703404606.py:22 -  re_analyze_contract() ] ......pre-processing 63c506c1e2456d59975e119b\n"
     ]
    },
    {
     "name": "stdout",
     "output_type": "stream",
     "text": [
      "137 ================================================================================\n"
     ]
    },
    {
     "name": "stderr",
     "output_type": "stream",
     "text": [
      "[contract_parser.py:426 - nn_find_contract_value() ] vat is None\n",
      "[runner.py:106 -              process() ] analysis saved, doc._id=63c506c1e2456d59975e119b\n",
      "[703404606.py:22 -  re_analyze_contract() ] ......pre-processing 63c506c1e2456d59975e119f\n"
     ]
    },
    {
     "name": "stdout",
     "output_type": "stream",
     "text": [
      "138 ================================================================================\n"
     ]
    },
    {
     "name": "stderr",
     "output_type": "stream",
     "text": [
      "[contract_parser.py:426 - nn_find_contract_value() ] vat is None\n",
      "[runner.py:106 -              process() ] analysis saved, doc._id=63c506c1e2456d59975e119f\n",
      "[703404606.py:22 -  re_analyze_contract() ] ......pre-processing 63c506c2e2456d59975e11a3\n"
     ]
    },
    {
     "name": "stdout",
     "output_type": "stream",
     "text": [
      "139 ================================================================================\n"
     ]
    },
    {
     "name": "stderr",
     "output_type": "stream",
     "text": [
      "[runner.py:106 -              process() ] analysis saved, doc._id=63c506c2e2456d59975e11a3\n",
      "[703404606.py:22 -  re_analyze_contract() ] ......pre-processing 63c506b8e2456d59975e109e\n"
     ]
    },
    {
     "name": "stdout",
     "output_type": "stream",
     "text": [
      "140 ================================================================================\n"
     ]
    },
    {
     "name": "stderr",
     "output_type": "stream",
     "text": [
      "[contract_parser.py:426 - nn_find_contract_value() ] vat is None\n",
      "[runner.py:106 -              process() ] analysis saved, doc._id=63c506b8e2456d59975e109e\n",
      "[703404606.py:22 -  re_analyze_contract() ] ......pre-processing 63c506c2e2456d59975e11ae\n"
     ]
    },
    {
     "name": "stdout",
     "output_type": "stream",
     "text": [
      "141 ================================================================================\n"
     ]
    },
    {
     "name": "stderr",
     "output_type": "stream",
     "text": [
      "[contract_parser.py:426 - nn_find_contract_value() ] vat is None\n",
      "[runner.py:106 -              process() ] analysis saved, doc._id=63c506c2e2456d59975e11ae\n",
      "[703404606.py:22 -  re_analyze_contract() ] ......pre-processing 63c506aee2456d59975e0fc1\n"
     ]
    },
    {
     "name": "stdout",
     "output_type": "stream",
     "text": [
      "142 ================================================================================\n"
     ]
    },
    {
     "name": "stderr",
     "output_type": "stream",
     "text": [
      "[contract_parser.py:426 - nn_find_contract_value() ] vat is None\n",
      "[runner.py:106 -              process() ] analysis saved, doc._id=63c506aee2456d59975e0fc1\n",
      "[703404606.py:22 -  re_analyze_contract() ] ......pre-processing 63c506b3e2456d59975e1019\n"
     ]
    },
    {
     "name": "stdout",
     "output_type": "stream",
     "text": [
      "143 ================================================================================\n"
     ]
    },
    {
     "name": "stderr",
     "output_type": "stream",
     "text": [
      "[contract_parser.py:426 - nn_find_contract_value() ] vat is None\n",
      "[runner.py:106 -              process() ] analysis saved, doc._id=63c506b3e2456d59975e1019\n",
      "[703404606.py:22 -  re_analyze_contract() ] ......pre-processing 63c506c3e2456d59975e11c3\n"
     ]
    },
    {
     "name": "stdout",
     "output_type": "stream",
     "text": [
      "144 ================================================================================\n"
     ]
    },
    {
     "name": "stderr",
     "output_type": "stream",
     "text": [
      "[runner.py:106 -              process() ] analysis saved, doc._id=63c506c3e2456d59975e11c3\n",
      "[703404606.py:22 -  re_analyze_contract() ] ......pre-processing 63c506b9e2456d59975e10a8\n"
     ]
    },
    {
     "name": "stdout",
     "output_type": "stream",
     "text": [
      "145 ================================================================================\n"
     ]
    },
    {
     "name": "stderr",
     "output_type": "stream",
     "text": [
      "[runner.py:106 -              process() ] analysis saved, doc._id=63c506b9e2456d59975e10a8\n",
      "[703404606.py:22 -  re_analyze_contract() ] ......pre-processing 63c506c3e2456d59975e11d2\n"
     ]
    },
    {
     "name": "stdout",
     "output_type": "stream",
     "text": [
      "146 ================================================================================\n"
     ]
    },
    {
     "name": "stderr",
     "output_type": "stream",
     "text": [
      "[contract_parser.py:426 - nn_find_contract_value() ] vat is None\n",
      "[runner.py:106 -              process() ] analysis saved, doc._id=63c506c3e2456d59975e11d2\n",
      "[703404606.py:22 -  re_analyze_contract() ] ......pre-processing 63c506c3e2456d59975e11d6\n"
     ]
    },
    {
     "name": "stdout",
     "output_type": "stream",
     "text": [
      "147 ================================================================================\n"
     ]
    },
    {
     "name": "stderr",
     "output_type": "stream",
     "text": [
      "[runner.py:106 -              process() ] analysis saved, doc._id=63c506c3e2456d59975e11d6\n",
      "[703404606.py:22 -  re_analyze_contract() ] ......pre-processing 63c506c4e2456d59975e11da\n"
     ]
    },
    {
     "name": "stdout",
     "output_type": "stream",
     "text": [
      "148 ================================================================================\n"
     ]
    },
    {
     "name": "stderr",
     "output_type": "stream",
     "text": [
      "[contract_parser.py:426 - nn_find_contract_value() ] vat is None\n",
      "[runner.py:106 -              process() ] analysis saved, doc._id=63c506c4e2456d59975e11da\n",
      "[703404606.py:22 -  re_analyze_contract() ] ......pre-processing 63c506c4e2456d59975e11dd\n"
     ]
    },
    {
     "name": "stdout",
     "output_type": "stream",
     "text": [
      "149 ================================================================================\n"
     ]
    },
    {
     "name": "stderr",
     "output_type": "stream",
     "text": [
      "[runner.py:106 -              process() ] analysis saved, doc._id=63c506c4e2456d59975e11dd\n",
      "[703404606.py:22 -  re_analyze_contract() ] ......pre-processing 63c506c9e2456d59975e1271\n",
      "[contract_parser.py:426 - nn_find_contract_value() ] vat is None\n"
     ]
    },
    {
     "name": "stdout",
     "output_type": "stream",
     "text": [
      "150 ================================================================================\n"
     ]
    },
    {
     "name": "stderr",
     "output_type": "stream",
     "text": [
      "[runner.py:106 -              process() ] analysis saved, doc._id=63c506c9e2456d59975e1271\n",
      "[703404606.py:22 -  re_analyze_contract() ] ......pre-processing 63c506bbe2456d59975e10d4\n"
     ]
    },
    {
     "name": "stdout",
     "output_type": "stream",
     "text": [
      "151 ================================================================================\n"
     ]
    },
    {
     "name": "stderr",
     "output_type": "stream",
     "text": [
      "[runner.py:106 -              process() ] analysis saved, doc._id=63c506bbe2456d59975e10d4\n",
      "[703404606.py:22 -  re_analyze_contract() ] ......pre-processing 63c506b4e2456d59975e103d\n"
     ]
    },
    {
     "name": "stdout",
     "output_type": "stream",
     "text": [
      "152 ================================================================================\n"
     ]
    },
    {
     "name": "stderr",
     "output_type": "stream",
     "text": [
      "[runner.py:106 -              process() ] analysis saved, doc._id=63c506b4e2456d59975e103d\n",
      "[703404606.py:22 -  re_analyze_contract() ] ......pre-processing 63c506c8e2456d59975e1261\n"
     ]
    },
    {
     "name": "stdout",
     "output_type": "stream",
     "text": [
      "153 ================================================================================\n"
     ]
    },
    {
     "name": "stderr",
     "output_type": "stream",
     "text": [
      "[runner.py:106 -              process() ] analysis saved, doc._id=63c506c8e2456d59975e1261\n",
      "[703404606.py:22 -  re_analyze_contract() ] ......pre-processing 63c506c7e2456d59975e1223\n"
     ]
    },
    {
     "name": "stdout",
     "output_type": "stream",
     "text": [
      "154 ================================================================================\n"
     ]
    },
    {
     "name": "stderr",
     "output_type": "stream",
     "text": [
      "[legal_docs.py:116 -         warn_trimmed() ] 63c506c7e2456d59975e1223, 12.docx,  Для анализа документ обрезан из соображений производительности, допустимая длинна -- 15000 слов ✂️\n",
      "[runner.py:106 -              process() ] analysis saved, doc._id=63c506c7e2456d59975e1223\n",
      "[703404606.py:22 -  re_analyze_contract() ] ......pre-processing 63c506bae2456d59975e10bf\n"
     ]
    },
    {
     "name": "stdout",
     "output_type": "stream",
     "text": [
      "155 ================================================================================\n"
     ]
    },
    {
     "name": "stderr",
     "output_type": "stream",
     "text": [
      "[contract_parser.py:426 - nn_find_contract_value() ] vat is None\n",
      "[runner.py:106 -              process() ] analysis saved, doc._id=63c506bae2456d59975e10bf\n",
      "[703404606.py:22 -  re_analyze_contract() ] ......pre-processing 63c506c8e2456d59975e125c\n",
      "[contract_parser.py:426 - nn_find_contract_value() ] vat is None\n"
     ]
    },
    {
     "name": "stdout",
     "output_type": "stream",
     "text": [
      "156 ================================================================================\n"
     ]
    },
    {
     "name": "stderr",
     "output_type": "stream",
     "text": [
      "[runner.py:106 -              process() ] analysis saved, doc._id=63c506c8e2456d59975e125c\n",
      "[703404606.py:22 -  re_analyze_contract() ] ......pre-processing 63c506c8e2456d59975e1256\n",
      "[contract_parser.py:426 - nn_find_contract_value() ] vat is None\n"
     ]
    },
    {
     "name": "stdout",
     "output_type": "stream",
     "text": [
      "157 ================================================================================\n"
     ]
    },
    {
     "name": "stderr",
     "output_type": "stream",
     "text": [
      "[runner.py:106 -              process() ] analysis saved, doc._id=63c506c8e2456d59975e1256\n",
      "[703404606.py:22 -  re_analyze_contract() ] ......pre-processing 63c506c9e2456d59975e1271\n",
      "[contract_parser.py:426 - nn_find_contract_value() ] vat is None\n"
     ]
    },
    {
     "name": "stdout",
     "output_type": "stream",
     "text": [
      "158 ================================================================================\n"
     ]
    },
    {
     "name": "stderr",
     "output_type": "stream",
     "text": [
      "[runner.py:106 -              process() ] analysis saved, doc._id=63c506c9e2456d59975e1271\n",
      "[703404606.py:22 -  re_analyze_contract() ] ......pre-processing 63c506bbe2456d59975e10d4\n"
     ]
    },
    {
     "name": "stdout",
     "output_type": "stream",
     "text": [
      "159 ================================================================================\n"
     ]
    },
    {
     "name": "stderr",
     "output_type": "stream",
     "text": [
      "[runner.py:106 -              process() ] analysis saved, doc._id=63c506bbe2456d59975e10d4\n",
      "[703404606.py:22 -  re_analyze_contract() ] ......pre-processing 63c506b4e2456d59975e103d\n"
     ]
    },
    {
     "name": "stdout",
     "output_type": "stream",
     "text": [
      "160 ================================================================================\n"
     ]
    },
    {
     "name": "stderr",
     "output_type": "stream",
     "text": [
      "[runner.py:106 -              process() ] analysis saved, doc._id=63c506b4e2456d59975e103d\n",
      "[703404606.py:22 -  re_analyze_contract() ] ......pre-processing 63c506c8e2456d59975e1261\n"
     ]
    },
    {
     "name": "stdout",
     "output_type": "stream",
     "text": [
      "161 ================================================================================\n"
     ]
    },
    {
     "name": "stderr",
     "output_type": "stream",
     "text": [
      "[runner.py:106 -              process() ] analysis saved, doc._id=63c506c8e2456d59975e1261\n",
      "[703404606.py:22 -  re_analyze_contract() ] ......pre-processing 63c506aee2456d59975e0fc5\n"
     ]
    },
    {
     "name": "stdout",
     "output_type": "stream",
     "text": [
      "162 ================================================================================\n"
     ]
    },
    {
     "name": "stderr",
     "output_type": "stream",
     "text": [
      "[runner.py:106 -              process() ] analysis saved, doc._id=63c506aee2456d59975e0fc5\n",
      "[703404606.py:22 -  re_analyze_contract() ] ......pre-processing 63c506c8e2456d59975e125c\n",
      "[contract_parser.py:426 - nn_find_contract_value() ] vat is None\n"
     ]
    },
    {
     "name": "stdout",
     "output_type": "stream",
     "text": [
      "163 ================================================================================\n"
     ]
    },
    {
     "name": "stderr",
     "output_type": "stream",
     "text": [
      "[runner.py:106 -              process() ] analysis saved, doc._id=63c506c8e2456d59975e125c\n",
      "[703404606.py:22 -  re_analyze_contract() ] ......pre-processing 63c506c8e2456d59975e1256\n"
     ]
    },
    {
     "name": "stdout",
     "output_type": "stream",
     "text": [
      "164 ================================================================================\n"
     ]
    },
    {
     "name": "stderr",
     "output_type": "stream",
     "text": [
      "[contract_parser.py:426 - nn_find_contract_value() ] vat is None\n",
      "[runner.py:106 -              process() ] analysis saved, doc._id=63c506c8e2456d59975e1256\n",
      "[703404606.py:22 -  re_analyze_contract() ] ......pre-processing 63c506afe2456d59975e0fcd\n",
      "[runner.py:63 -           preprocess() ] skipping doc 63c506afe2456d59975e0fcd because it is corrected by user\n",
      "[runner.py:96 -              process() ] skipping doc 63c506afe2456d59975e0fcd postprocessing because it is corrected by user\n",
      "[runner.py:106 -              process() ] analysis saved, doc._id=63c506afe2456d59975e0fcd\n",
      "[703404606.py:22 -  re_analyze_contract() ] ......pre-processing 63c506c8e2456d59975e1251\n"
     ]
    },
    {
     "name": "stdout",
     "output_type": "stream",
     "text": [
      "165 ================================================================================\n",
      "166 ================================================================================\n"
     ]
    },
    {
     "name": "stderr",
     "output_type": "stream",
     "text": [
      "[runner.py:106 -              process() ] analysis saved, doc._id=63c506c8e2456d59975e1251\n",
      "[703404606.py:22 -  re_analyze_contract() ] ......pre-processing 63c506abe2456d59975e0f8b\n"
     ]
    },
    {
     "name": "stdout",
     "output_type": "stream",
     "text": [
      "167 ================================================================================\n"
     ]
    },
    {
     "name": "stderr",
     "output_type": "stream",
     "text": [
      "[runner.py:106 -              process() ] analysis saved, doc._id=63c506abe2456d59975e0f8b\n",
      "[703404606.py:22 -  re_analyze_contract() ] ......pre-processing 63c506dee2456d59975e1488\n"
     ]
    },
    {
     "name": "stdout",
     "output_type": "stream",
     "text": [
      "168 ================================================================================\n"
     ]
    },
    {
     "name": "stderr",
     "output_type": "stream",
     "text": [
      "[contract_parser.py:426 - nn_find_contract_value() ] vat is None\n",
      "[runner.py:106 -              process() ] analysis saved, doc._id=63c506dee2456d59975e1488\n",
      "[703404606.py:22 -  re_analyze_contract() ] ......pre-processing 63c506c8e2456d59975e123e\n"
     ]
    },
    {
     "name": "stdout",
     "output_type": "stream",
     "text": [
      "169 ================================================================================\n"
     ]
    },
    {
     "name": "stderr",
     "output_type": "stream",
     "text": [
      "[contract_parser.py:426 - nn_find_contract_value() ] vat is None\n",
      "[runner.py:106 -              process() ] analysis saved, doc._id=63c506c8e2456d59975e123e\n",
      "[703404606.py:22 -  re_analyze_contract() ] ......pre-processing 63c506b9e2456d59975e10af\n"
     ]
    },
    {
     "name": "stdout",
     "output_type": "stream",
     "text": [
      "170 ================================================================================\n"
     ]
    },
    {
     "name": "stderr",
     "output_type": "stream",
     "text": [
      "[runner.py:106 -              process() ] analysis saved, doc._id=63c506b9e2456d59975e10af\n",
      "[703404606.py:22 -  re_analyze_contract() ] ......pre-processing 63c506c8e2456d59975e1256\n",
      "[contract_parser.py:426 - nn_find_contract_value() ] vat is None\n"
     ]
    },
    {
     "name": "stdout",
     "output_type": "stream",
     "text": [
      "171 ================================================================================\n"
     ]
    },
    {
     "name": "stderr",
     "output_type": "stream",
     "text": [
      "[runner.py:106 -              process() ] analysis saved, doc._id=63c506c8e2456d59975e1256\n",
      "[703404606.py:22 -  re_analyze_contract() ] ......pre-processing 63c506afe2456d59975e0fcd\n",
      "[runner.py:63 -           preprocess() ] skipping doc 63c506afe2456d59975e0fcd because it is corrected by user\n",
      "[runner.py:96 -              process() ] skipping doc 63c506afe2456d59975e0fcd postprocessing because it is corrected by user\n",
      "[runner.py:106 -              process() ] analysis saved, doc._id=63c506afe2456d59975e0fcd\n",
      "[703404606.py:22 -  re_analyze_contract() ] ......pre-processing 63c506c8e2456d59975e1251\n"
     ]
    },
    {
     "name": "stdout",
     "output_type": "stream",
     "text": [
      "172 ================================================================================\n",
      "173 ================================================================================\n"
     ]
    },
    {
     "name": "stderr",
     "output_type": "stream",
     "text": [
      "[runner.py:106 -              process() ] analysis saved, doc._id=63c506c8e2456d59975e1251\n",
      "[703404606.py:22 -  re_analyze_contract() ] ......pre-processing 63c506abe2456d59975e0f8b\n"
     ]
    },
    {
     "name": "stdout",
     "output_type": "stream",
     "text": [
      "174 ================================================================================\n"
     ]
    },
    {
     "name": "stderr",
     "output_type": "stream",
     "text": [
      "[runner.py:106 -              process() ] analysis saved, doc._id=63c506abe2456d59975e0f8b\n",
      "[703404606.py:22 -  re_analyze_contract() ] ......pre-processing 63c506c8e2456d59975e123e\n"
     ]
    },
    {
     "name": "stdout",
     "output_type": "stream",
     "text": [
      "175 ================================================================================\n"
     ]
    },
    {
     "name": "stderr",
     "output_type": "stream",
     "text": [
      "[contract_parser.py:426 - nn_find_contract_value() ] vat is None\n",
      "[runner.py:106 -              process() ] analysis saved, doc._id=63c506c8e2456d59975e123e\n",
      "[703404606.py:22 -  re_analyze_contract() ] ......pre-processing 63c506c4e2456d59975e11da\n"
     ]
    },
    {
     "name": "stdout",
     "output_type": "stream",
     "text": [
      "176 ================================================================================\n"
     ]
    },
    {
     "name": "stderr",
     "output_type": "stream",
     "text": [
      "[contract_parser.py:426 - nn_find_contract_value() ] vat is None\n",
      "[runner.py:106 -              process() ] analysis saved, doc._id=63c506c4e2456d59975e11da\n",
      "[703404606.py:22 -  re_analyze_contract() ] ......pre-processing 63c506dce2456d59975e1459\n"
     ]
    },
    {
     "name": "stdout",
     "output_type": "stream",
     "text": [
      "177 ================================================================================\n"
     ]
    },
    {
     "name": "stderr",
     "output_type": "stream",
     "text": [
      "[legal_docs.py:116 -         warn_trimmed() ] 63c506dce2456d59975e1459, Договор оказание услуг строительного контроля.docx,  Для анализа документ обрезан из соображений производительности, допустимая длинна -- 15000 слов ✂️\n",
      "[runner.py:106 -              process() ] analysis saved, doc._id=63c506dce2456d59975e1459\n",
      "[703404606.py:22 -  re_analyze_contract() ] ......pre-processing 63c506afe2456d59975e0fca\n"
     ]
    },
    {
     "name": "stdout",
     "output_type": "stream",
     "text": [
      "178 ================================================================================\n"
     ]
    },
    {
     "name": "stderr",
     "output_type": "stream",
     "text": [
      "[contract_parser.py:426 - nn_find_contract_value() ] vat is None\n",
      "[runner.py:106 -              process() ] analysis saved, doc._id=63c506afe2456d59975e0fca\n",
      "[703404606.py:22 -  re_analyze_contract() ] ......pre-processing 63c506c3e2456d59975e11d2\n"
     ]
    },
    {
     "name": "stdout",
     "output_type": "stream",
     "text": [
      "179 ================================================================================\n"
     ]
    },
    {
     "name": "stderr",
     "output_type": "stream",
     "text": [
      "[contract_parser.py:426 - nn_find_contract_value() ] vat is None\n",
      "[runner.py:106 -              process() ] analysis saved, doc._id=63c506c3e2456d59975e11d2\n",
      "[703404606.py:22 -  re_analyze_contract() ] ......pre-processing 63c506b9e2456d59975e10a8\n"
     ]
    },
    {
     "name": "stdout",
     "output_type": "stream",
     "text": [
      "180 ================================================================================\n"
     ]
    },
    {
     "name": "stderr",
     "output_type": "stream",
     "text": [
      "[runner.py:106 -              process() ] analysis saved, doc._id=63c506b9e2456d59975e10a8\n",
      "[703404606.py:22 -  re_analyze_contract() ] ......pre-processing 63c506c7e2456d59975e123a\n"
     ]
    },
    {
     "name": "stdout",
     "output_type": "stream",
     "text": [
      "181 ================================================================================\n"
     ]
    },
    {
     "name": "stderr",
     "output_type": "stream",
     "text": [
      "[runner.py:106 -              process() ] analysis saved, doc._id=63c506c7e2456d59975e123a\n",
      "[703404606.py:22 -  re_analyze_contract() ] ......pre-processing 63c506afe2456d59975e0fca\n"
     ]
    },
    {
     "name": "stdout",
     "output_type": "stream",
     "text": [
      "182 ================================================================================\n"
     ]
    },
    {
     "name": "stderr",
     "output_type": "stream",
     "text": [
      "[contract_parser.py:426 - nn_find_contract_value() ] vat is None\n",
      "[runner.py:106 -              process() ] analysis saved, doc._id=63c506afe2456d59975e0fca\n",
      "[703404606.py:22 -  re_analyze_contract() ] ......pre-processing 63c506dae2456d59975e1415\n",
      "[contract_parser.py:412 - nn_find_contract_value() ] cannot unpack non-iterable NoneType object\n",
      "[contract_parser.py:426 - nn_find_contract_value() ] vat is None\n",
      "[runner.py:106 -              process() ] analysis saved, doc._id=63c506dae2456d59975e1415\n"
     ]
    },
    {
     "name": "stdout",
     "output_type": "stream",
     "text": [
      "183 ================================================================================\n",
      "184 ================================================================================\n"
     ]
    },
    {
     "name": "stderr",
     "output_type": "stream",
     "text": [
      "[703404606.py:22 -  re_analyze_contract() ] ......pre-processing 63c506b8e2456d59975e109e\n",
      "[contract_parser.py:426 - nn_find_contract_value() ] vat is None\n",
      "[runner.py:106 -              process() ] analysis saved, doc._id=63c506b8e2456d59975e109e\n",
      "[703404606.py:22 -  re_analyze_contract() ] ......pre-processing 63c506c7e2456d59975e122d\n"
     ]
    },
    {
     "name": "stdout",
     "output_type": "stream",
     "text": [
      "185 ================================================================================\n"
     ]
    },
    {
     "name": "stderr",
     "output_type": "stream",
     "text": [
      "[runner.py:106 -              process() ] analysis saved, doc._id=63c506c7e2456d59975e122d\n",
      "[703404606.py:22 -  re_analyze_contract() ] ......pre-processing 63c506c2e2456d59975e11a3\n"
     ]
    },
    {
     "name": "stdout",
     "output_type": "stream",
     "text": [
      "186 ================================================================================\n"
     ]
    },
    {
     "name": "stderr",
     "output_type": "stream",
     "text": [
      "[runner.py:106 -              process() ] analysis saved, doc._id=63c506c2e2456d59975e11a3\n",
      "[703404606.py:22 -  re_analyze_contract() ] ......pre-processing 63c506b8e2456d59975e109c\n",
      "[contract_parser.py:426 - nn_find_contract_value() ] vat is None\n",
      "[runner.py:106 -              process() ] analysis saved, doc._id=63c506b8e2456d59975e109c\n",
      "[703404606.py:22 -  re_analyze_contract() ] ......pre-processing 63c506c1e2456d59975e1186\n"
     ]
    },
    {
     "name": "stdout",
     "output_type": "stream",
     "text": [
      "187 ================================================================================\n",
      "188 ================================================================================\n"
     ]
    },
    {
     "name": "stderr",
     "output_type": "stream",
     "text": [
      "[contract_parser.py:426 - nn_find_contract_value() ] vat is None\n",
      "[runner.py:106 -              process() ] analysis saved, doc._id=63c506c1e2456d59975e1186\n",
      "[703404606.py:22 -  re_analyze_contract() ] ......pre-processing 63c506bae2456d59975e10bc\n"
     ]
    },
    {
     "name": "stdout",
     "output_type": "stream",
     "text": [
      "189 ================================================================================\n"
     ]
    },
    {
     "name": "stderr",
     "output_type": "stream",
     "text": [
      "[contract_parser.py:426 - nn_find_contract_value() ] vat is None\n",
      "[runner.py:106 -              process() ] analysis saved, doc._id=63c506bae2456d59975e10bc\n",
      "[703404606.py:22 -  re_analyze_contract() ] ......pre-processing 63c506d7e2456d59975e13d6\n"
     ]
    },
    {
     "name": "stdout",
     "output_type": "stream",
     "text": [
      "190 ================================================================================\n"
     ]
    },
    {
     "name": "stderr",
     "output_type": "stream",
     "text": [
      "[contract_parser.py:426 - nn_find_contract_value() ] vat is None\n",
      "[runner.py:106 -              process() ] analysis saved, doc._id=63c506d7e2456d59975e13d6\n",
      "[703404606.py:22 -  re_analyze_contract() ] ......pre-processing 63c506c1e2456d59975e1188\n"
     ]
    },
    {
     "name": "stdout",
     "output_type": "stream",
     "text": [
      "191 ================================================================================\n"
     ]
    },
    {
     "name": "stderr",
     "output_type": "stream",
     "text": [
      "[contract_parser.py:426 - nn_find_contract_value() ] vat is None\n",
      "[runner.py:106 -              process() ] analysis saved, doc._id=63c506c1e2456d59975e1188\n",
      "[703404606.py:22 -  re_analyze_contract() ] ......pre-processing 63c506b4e2456d59975e102f\n"
     ]
    },
    {
     "name": "stdout",
     "output_type": "stream",
     "text": [
      "192 ================================================================================\n"
     ]
    },
    {
     "name": "stderr",
     "output_type": "stream",
     "text": [
      "[contract_parser.py:426 - nn_find_contract_value() ] vat is None\n",
      "[runner.py:106 -              process() ] analysis saved, doc._id=63c506b4e2456d59975e102f\n",
      "[703404606.py:22 -  re_analyze_contract() ] ......pre-processing 63c506c7e2456d59975e1223\n"
     ]
    },
    {
     "name": "stdout",
     "output_type": "stream",
     "text": [
      "193 ================================================================================\n"
     ]
    },
    {
     "name": "stderr",
     "output_type": "stream",
     "text": [
      "[legal_docs.py:116 -         warn_trimmed() ] 63c506c7e2456d59975e1223, 12.docx,  Для анализа документ обрезан из соображений производительности, допустимая длинна -- 15000 слов ✂️\n",
      "[runner.py:106 -              process() ] analysis saved, doc._id=63c506c7e2456d59975e1223\n",
      "[703404606.py:22 -  re_analyze_contract() ] ......pre-processing 63c506bae2456d59975e10c1\n"
     ]
    },
    {
     "name": "stdout",
     "output_type": "stream",
     "text": [
      "194 ================================================================================\n"
     ]
    },
    {
     "name": "stderr",
     "output_type": "stream",
     "text": [
      "[legal_docs.py:116 -         warn_trimmed() ] 63c506bae2456d59975e10c1, Дог. АЗС_105.docx,  Для анализа документ обрезан из соображений производительности, допустимая длинна -- 15000 слов ✂️\n",
      "[contract_parser.py:426 - nn_find_contract_value() ] vat is None\n",
      "[runner.py:106 -              process() ] analysis saved, doc._id=63c506bae2456d59975e10c1\n",
      "[703404606.py:22 -  re_analyze_contract() ] ......pre-processing 63c506bae2456d59975e10c2\n"
     ]
    },
    {
     "name": "stdout",
     "output_type": "stream",
     "text": [
      "195 ================================================================================\n"
     ]
    },
    {
     "name": "stderr",
     "output_type": "stream",
     "text": [
      "[legal_docs.py:116 -         warn_trimmed() ] 63c506bae2456d59975e10c2, 30.docx,  Для анализа документ обрезан из соображений производительности, допустимая длинна -- 15000 слов ✂️\n",
      "[runner.py:106 -              process() ] analysis saved, doc._id=63c506bae2456d59975e10c2\n",
      "[703404606.py:22 -  re_analyze_contract() ] ......pre-processing 63c506bae2456d59975e10bf\n"
     ]
    },
    {
     "name": "stdout",
     "output_type": "stream",
     "text": [
      "196 ================================================================================\n"
     ]
    },
    {
     "name": "stderr",
     "output_type": "stream",
     "text": [
      "[contract_parser.py:426 - nn_find_contract_value() ] vat is None\n",
      "[runner.py:106 -              process() ] analysis saved, doc._id=63c506bae2456d59975e10bf\n",
      "[703404606.py:22 -  re_analyze_contract() ] ......pre-processing 63c506bae2456d59975e10bc\n"
     ]
    },
    {
     "name": "stdout",
     "output_type": "stream",
     "text": [
      "197 ================================================================================\n"
     ]
    },
    {
     "name": "stderr",
     "output_type": "stream",
     "text": [
      "[contract_parser.py:426 - nn_find_contract_value() ] vat is None\n",
      "[runner.py:106 -              process() ] analysis saved, doc._id=63c506bae2456d59975e10bc\n",
      "[703404606.py:22 -  re_analyze_contract() ] ......pre-processing 63c506c5e2456d59975e1202\n"
     ]
    },
    {
     "name": "stdout",
     "output_type": "stream",
     "text": [
      "198 ================================================================================\n"
     ]
    },
    {
     "name": "stderr",
     "output_type": "stream",
     "text": [
      "[runner.py:106 -              process() ] analysis saved, doc._id=63c506c5e2456d59975e1202\n",
      "[703404606.py:22 -  re_analyze_contract() ] ......pre-processing 63c506d5e2456d59975e1394\n",
      "[contract_parser.py:426 - nn_find_contract_value() ] vat is None\n"
     ]
    },
    {
     "name": "stdout",
     "output_type": "stream",
     "text": [
      "199 ================================================================================\n"
     ]
    },
    {
     "name": "stderr",
     "output_type": "stream",
     "text": [
      "[runner.py:106 -              process() ] analysis saved, doc._id=63c506d5e2456d59975e1394\n",
      "[703404606.py:22 -  re_analyze_contract() ] ......pre-processing 63c506b9e2456d59975e10b3\n"
     ]
    },
    {
     "name": "stdout",
     "output_type": "stream",
     "text": [
      "200 ================================================================================\n"
     ]
    },
    {
     "name": "stderr",
     "output_type": "stream",
     "text": [
      "[runner.py:106 -              process() ] analysis saved, doc._id=63c506b9e2456d59975e10b3\n",
      "[703404606.py:22 -  re_analyze_contract() ] ......pre-processing 63c506c4e2456d59975e11ee\n"
     ]
    },
    {
     "name": "stdout",
     "output_type": "stream",
     "text": [
      "201 ================================================================================\n"
     ]
    },
    {
     "name": "stderr",
     "output_type": "stream",
     "text": [
      "[runner.py:106 -              process() ] analysis saved, doc._id=63c506c4e2456d59975e11ee\n",
      "[703404606.py:22 -  re_analyze_contract() ] ......pre-processing 63c506b9e2456d59975e10af\n"
     ]
    },
    {
     "name": "stdout",
     "output_type": "stream",
     "text": [
      "202 ================================================================================\n"
     ]
    },
    {
     "name": "stderr",
     "output_type": "stream",
     "text": [
      "[runner.py:106 -              process() ] analysis saved, doc._id=63c506b9e2456d59975e10af\n",
      "[703404606.py:22 -  re_analyze_contract() ] ......pre-processing 63c506c4e2456d59975e11ea\n",
      "[contract_parser.py:426 - nn_find_contract_value() ] vat is None\n"
     ]
    },
    {
     "name": "stdout",
     "output_type": "stream",
     "text": [
      "203 ================================================================================\n"
     ]
    },
    {
     "name": "stderr",
     "output_type": "stream",
     "text": [
      "[runner.py:106 -              process() ] analysis saved, doc._id=63c506c4e2456d59975e11ea\n",
      "[703404606.py:22 -  re_analyze_contract() ] ......pre-processing 63c506b1e2456d59975e1004\n"
     ]
    },
    {
     "name": "stdout",
     "output_type": "stream",
     "text": [
      "204 ================================================================================\n"
     ]
    },
    {
     "name": "stderr",
     "output_type": "stream",
     "text": [
      "[contract_parser.py:426 - nn_find_contract_value() ] vat is None\n",
      "[runner.py:106 -              process() ] analysis saved, doc._id=63c506b1e2456d59975e1004\n",
      "[703404606.py:22 -  re_analyze_contract() ] ......pre-processing 63c506c5e2456d59975e1202\n"
     ]
    },
    {
     "name": "stdout",
     "output_type": "stream",
     "text": [
      "205 ================================================================================\n"
     ]
    },
    {
     "name": "stderr",
     "output_type": "stream",
     "text": [
      "[runner.py:106 -              process() ] analysis saved, doc._id=63c506c5e2456d59975e1202\n",
      "[703404606.py:22 -  re_analyze_contract() ] ......pre-processing 63c506bfe2456d59975e1147\n"
     ]
    },
    {
     "name": "stdout",
     "output_type": "stream",
     "text": [
      "206 ================================================================================\n"
     ]
    },
    {
     "name": "stderr",
     "output_type": "stream",
     "text": [
      "[contract_parser.py:426 - nn_find_contract_value() ] vat is None\n",
      "[runner.py:106 -              process() ] analysis saved, doc._id=63c506bfe2456d59975e1147\n",
      "[703404606.py:22 -  re_analyze_contract() ] ......pre-processing 63c506c3e2456d59975e11d2\n"
     ]
    },
    {
     "name": "stdout",
     "output_type": "stream",
     "text": [
      "207 ================================================================================\n"
     ]
    },
    {
     "name": "stderr",
     "output_type": "stream",
     "text": [
      "[contract_parser.py:426 - nn_find_contract_value() ] vat is None\n",
      "[runner.py:106 -              process() ] analysis saved, doc._id=63c506c3e2456d59975e11d2\n",
      "[703404606.py:22 -  re_analyze_contract() ] ......pre-processing 63c506ace2456d59975e0f9e\n",
      "[contract_parser.py:426 - nn_find_contract_value() ] vat is None\n",
      "[runner.py:106 -              process() ] analysis saved, doc._id=63c506ace2456d59975e0f9e\n"
     ]
    },
    {
     "name": "stdout",
     "output_type": "stream",
     "text": [
      "208 ================================================================================\n",
      "209 ================================================================================\n"
     ]
    },
    {
     "name": "stderr",
     "output_type": "stream",
     "text": [
      "[703404606.py:22 -  re_analyze_contract() ] ......pre-processing 63c506c3e2456d59975e11d6\n",
      "[runner.py:106 -              process() ] analysis saved, doc._id=63c506c3e2456d59975e11d6\n",
      "[703404606.py:22 -  re_analyze_contract() ] ......pre-processing 63c506cfe2456d59975e1311\n",
      "[runner.py:63 -           preprocess() ] skipping doc 63c506cfe2456d59975e1311 because it is corrected by user\n",
      "[runner.py:96 -              process() ] skipping doc 63c506cfe2456d59975e1311 postprocessing because it is corrected by user\n",
      "[runner.py:106 -              process() ] analysis saved, doc._id=63c506cfe2456d59975e1311\n",
      "[703404606.py:22 -  re_analyze_contract() ] ......pre-processing 63c506c4e2456d59975e11ea\n"
     ]
    },
    {
     "name": "stdout",
     "output_type": "stream",
     "text": [
      "210 ================================================================================\n",
      "211 ================================================================================\n"
     ]
    },
    {
     "name": "stderr",
     "output_type": "stream",
     "text": [
      "[contract_parser.py:426 - nn_find_contract_value() ] vat is None\n",
      "[runner.py:106 -              process() ] analysis saved, doc._id=63c506c4e2456d59975e11ea\n",
      "[703404606.py:22 -  re_analyze_contract() ] ......pre-processing 63c506c4e2456d59975e11ee\n"
     ]
    },
    {
     "name": "stdout",
     "output_type": "stream",
     "text": [
      "212 ================================================================================\n"
     ]
    },
    {
     "name": "stderr",
     "output_type": "stream",
     "text": [
      "[runner.py:106 -              process() ] analysis saved, doc._id=63c506c4e2456d59975e11ee\n",
      "[703404606.py:22 -  re_analyze_contract() ] ......pre-processing 63c506b3e2456d59975e102a\n"
     ]
    },
    {
     "name": "stdout",
     "output_type": "stream",
     "text": [
      "213 ================================================================================\n"
     ]
    },
    {
     "name": "stderr",
     "output_type": "stream",
     "text": [
      "[contract_parser.py:426 - nn_find_contract_value() ] vat is None\n",
      "[runner.py:106 -              process() ] analysis saved, doc._id=63c506b3e2456d59975e102a\n",
      "[703404606.py:22 -  re_analyze_contract() ] ......pre-processing 63c506b9e2456d59975e10b3\n"
     ]
    },
    {
     "name": "stdout",
     "output_type": "stream",
     "text": [
      "214 ================================================================================\n"
     ]
    },
    {
     "name": "stderr",
     "output_type": "stream",
     "text": [
      "[runner.py:106 -              process() ] analysis saved, doc._id=63c506b9e2456d59975e10b3\n",
      "[703404606.py:22 -  re_analyze_contract() ] ......pre-processing 63c506c5e2456d59975e1202\n"
     ]
    },
    {
     "name": "stdout",
     "output_type": "stream",
     "text": [
      "215 ================================================================================\n"
     ]
    },
    {
     "name": "stderr",
     "output_type": "stream",
     "text": [
      "[runner.py:106 -              process() ] analysis saved, doc._id=63c506c5e2456d59975e1202\n",
      "[703404606.py:22 -  re_analyze_contract() ] ......pre-processing 63c506bfe2456d59975e1147\n"
     ]
    },
    {
     "name": "stdout",
     "output_type": "stream",
     "text": [
      "216 ================================================================================\n"
     ]
    },
    {
     "name": "stderr",
     "output_type": "stream",
     "text": [
      "[contract_parser.py:426 - nn_find_contract_value() ] vat is None\n",
      "[runner.py:106 -              process() ] analysis saved, doc._id=63c506bfe2456d59975e1147\n",
      "[703404606.py:22 -  re_analyze_contract() ] ......pre-processing 63c506b9e2456d59975e10af\n"
     ]
    },
    {
     "name": "stdout",
     "output_type": "stream",
     "text": [
      "217 ================================================================================\n"
     ]
    },
    {
     "name": "stderr",
     "output_type": "stream",
     "text": [
      "[runner.py:106 -              process() ] analysis saved, doc._id=63c506b9e2456d59975e10af\n",
      "[703404606.py:22 -  re_analyze_contract() ] ......pre-processing 63c506b9e2456d59975e10b3\n"
     ]
    },
    {
     "name": "stdout",
     "output_type": "stream",
     "text": [
      "218 ================================================================================\n"
     ]
    },
    {
     "name": "stderr",
     "output_type": "stream",
     "text": [
      "[runner.py:106 -              process() ] analysis saved, doc._id=63c506b9e2456d59975e10b3\n",
      "[703404606.py:22 -  re_analyze_contract() ] ......pre-processing 63c506c5e2456d59975e1202\n"
     ]
    },
    {
     "name": "stdout",
     "output_type": "stream",
     "text": [
      "219 ================================================================================\n"
     ]
    },
    {
     "name": "stderr",
     "output_type": "stream",
     "text": [
      "[runner.py:106 -              process() ] analysis saved, doc._id=63c506c5e2456d59975e1202\n",
      "[703404606.py:22 -  re_analyze_contract() ] ......pre-processing 63c506aee2456d59975e0fc5\n"
     ]
    },
    {
     "name": "stdout",
     "output_type": "stream",
     "text": [
      "220 ================================================================================\n"
     ]
    },
    {
     "name": "stderr",
     "output_type": "stream",
     "text": [
      "[runner.py:106 -              process() ] analysis saved, doc._id=63c506aee2456d59975e0fc5\n",
      "[703404606.py:22 -  re_analyze_contract() ] ......pre-processing 63c506bae2456d59975e10bc\n"
     ]
    },
    {
     "name": "stdout",
     "output_type": "stream",
     "text": [
      "221 ================================================================================\n"
     ]
    },
    {
     "name": "stderr",
     "output_type": "stream",
     "text": [
      "[contract_parser.py:426 - nn_find_contract_value() ] vat is None\n",
      "[runner.py:106 -              process() ] analysis saved, doc._id=63c506bae2456d59975e10bc\n"
     ]
    },
    {
     "name": "stdout",
     "output_type": "stream",
     "text": [
      "222 ================================================================================\n"
     ]
    }
   ],
   "source": [
    "# re_analyze_contract()\n",
    "\n",
    "n=0\n",
    "for _id in ids:\n",
    "    doc = re_analyze_contract(ObjectId(_id))\n",
    "    n+=1\n",
    "    print(n, '='*80)\n"
   ]
  },
  {
   "cell_type": "code",
   "execution_count": 9,
   "id": "1a1833e9",
   "metadata": {},
   "outputs": [
    {
     "name": "stdout",
     "output_type": "stream",
     "text": [
      "/root/artem/env/bin/python\n"
     ]
    }
   ],
   "source": [
    "!which python"
   ]
  },
  {
   "cell_type": "code",
   "execution_count": 10,
   "id": "550debd9",
   "metadata": {},
   "outputs": [
    {
     "name": "stdout",
     "output_type": "stream",
     "text": [
      "Requirement already satisfied: python-Levenshtein==0.20.8 in /root/artem/env/lib/python3.8/site-packages (0.20.8)\n",
      "Requirement already satisfied: Levenshtein==0.20.8 in /root/artem/env/lib/python3.8/site-packages (from python-Levenshtein==0.20.8) (0.20.8)\n",
      "Requirement already satisfied: rapidfuzz<3.0.0,>=2.3.0 in /root/artem/env/lib/python3.8/site-packages (from Levenshtein==0.20.8->python-Levenshtein==0.20.8) (2.13.7)\n"
     ]
    }
   ],
   "source": [
    "!pip install python-Levenshtein==0.20.8"
   ]
  },
  {
   "cell_type": "code",
   "execution_count": 11,
   "id": "ed87ce31",
   "metadata": {},
   "outputs": [],
   "source": [
    "# from overrides import overrides"
   ]
  },
  {
   "cell_type": "code",
   "execution_count": 12,
   "id": "1790fef3",
   "metadata": {},
   "outputs": [],
   "source": [
    "load_docs_data(ids, df, ' _new')\n",
    "df['Предмет изменился'] = df['subject _old']!=df['subject _new']\n",
    "df = df.sort_values(['subject _old', 'subject quote _old', 'analyze_timestamp _new'])\n"
   ]
  },
  {
   "cell_type": "code",
   "execution_count": 13,
   "id": "2dcc464d",
   "metadata": {},
   "outputs": [
    {
     "data": {
      "text/html": [
       "<div>\n",
       "<style scoped>\n",
       "    .dataframe tbody tr th:only-of-type {\n",
       "        vertical-align: middle;\n",
       "    }\n",
       "\n",
       "    .dataframe tbody tr th {\n",
       "        vertical-align: top;\n",
       "    }\n",
       "\n",
       "    .dataframe thead th {\n",
       "        text-align: right;\n",
       "    }\n",
       "</style>\n",
       "<table border=\"1\" class=\"dataframe\">\n",
       "  <thead>\n",
       "    <tr style=\"text-align: right;\">\n",
       "      <th></th>\n",
       "      <th>analyze_timestamp _old</th>\n",
       "      <th>number _old</th>\n",
       "      <th>subject _old</th>\n",
       "      <th>amount_netto _old</th>\n",
       "      <th>amount_brutto _old</th>\n",
       "      <th>amount _old</th>\n",
       "      <th>vat _old</th>\n",
       "      <th>currency _old</th>\n",
       "      <th>analysis.version _old</th>\n",
       "      <th>subject quote _old</th>\n",
       "      <th>...</th>\n",
       "      <th>number _new</th>\n",
       "      <th>subject _new</th>\n",
       "      <th>amount_netto _new</th>\n",
       "      <th>amount_brutto _new</th>\n",
       "      <th>amount _new</th>\n",
       "      <th>vat _new</th>\n",
       "      <th>currency _new</th>\n",
       "      <th>analysis.version _new</th>\n",
       "      <th>subject quote _new</th>\n",
       "      <th>Предмет изменился</th>\n",
       "    </tr>\n",
       "  </thead>\n",
       "  <tbody>\n",
       "    <tr>\n",
       "      <th>63c506c4e2456d59975e11ea</th>\n",
       "      <td>2023-01-16 13:16:27.750</td>\n",
       "      <td>NaN</td>\n",
       "      <td>AgencyContract</td>\n",
       "      <td>4.100000e+02</td>\n",
       "      <td>NaN</td>\n",
       "      <td>4.100000e+02</td>\n",
       "      <td>NaN</td>\n",
       "      <td>RUB</td>\n",
       "      <td>23.01.04</td>\n",
       "      <td></td>\n",
       "      <td>...</td>\n",
       "      <td>None</td>\n",
       "      <td>AgencyContract</td>\n",
       "      <td>4.100000e+02</td>\n",
       "      <td>NaN</td>\n",
       "      <td>NaN</td>\n",
       "      <td>NaN</td>\n",
       "      <td>RUB</td>\n",
       "      <td>23.2.7</td>\n",
       "      <td>1.1. По настоящему Договору Агент обязуется за...</td>\n",
       "      <td>False</td>\n",
       "    </tr>\n",
       "    <tr>\n",
       "      <th>63a430e6beaa9eeec65ecb18</th>\n",
       "      <td>2023-02-07 17:39:00.433</td>\n",
       "      <td>NaN</td>\n",
       "      <td>BankGuarantees</td>\n",
       "      <td>NaN</td>\n",
       "      <td>NaN</td>\n",
       "      <td>1.000000e+11</td>\n",
       "      <td>NaN</td>\n",
       "      <td>RUB</td>\n",
       "      <td>23.2.7</td>\n",
       "      <td></td>\n",
       "      <td>...</td>\n",
       "      <td>None</td>\n",
       "      <td>BankGuarantees</td>\n",
       "      <td>1.000000e+11</td>\n",
       "      <td>NaN</td>\n",
       "      <td>NaN</td>\n",
       "      <td>NaN</td>\n",
       "      <td>RUB</td>\n",
       "      <td>23.2.7</td>\n",
       "      <td>недействительностью Договора (в том числе выте...</td>\n",
       "      <td>False</td>\n",
       "    </tr>\n",
       "    <tr>\n",
       "      <th>63ac1faa862ea92bf713c50d</th>\n",
       "      <td>2023-02-01 22:18:34.762</td>\n",
       "      <td>1598-8745-963</td>\n",
       "      <td>Deal</td>\n",
       "      <td>NaN</td>\n",
       "      <td>NaN</td>\n",
       "      <td>7.000000e+06</td>\n",
       "      <td>8400000.0</td>\n",
       "      <td>RUB</td>\n",
       "      <td>23.2.1</td>\n",
       "      <td></td>\n",
       "      <td>...</td>\n",
       "      <td>1598-8745-963</td>\n",
       "      <td>Deal</td>\n",
       "      <td>7.000000e+06</td>\n",
       "      <td>NaN</td>\n",
       "      <td>NaN</td>\n",
       "      <td>20.0</td>\n",
       "      <td>RUB</td>\n",
       "      <td>23.2.7</td>\n",
       "      <td>1.1. По настоящему договору Продавец обязуется...</td>\n",
       "      <td>False</td>\n",
       "    </tr>\n",
       "    <tr>\n",
       "      <th>63a43092beaa9eeec65ecb09</th>\n",
       "      <td>2022-12-22 13:55:50.258</td>\n",
       "      <td>110801/20</td>\n",
       "      <td>Deal</td>\n",
       "      <td>1.550000e+10</td>\n",
       "      <td>NaN</td>\n",
       "      <td>1.550000e+10</td>\n",
       "      <td>NaN</td>\n",
       "      <td>RUB</td>\n",
       "      <td>22.12.15.1</td>\n",
       "      <td></td>\n",
       "      <td>...</td>\n",
       "      <td>110801/20</td>\n",
       "      <td>BankGuarantees</td>\n",
       "      <td>1.550000e+10</td>\n",
       "      <td>NaN</td>\n",
       "      <td>NaN</td>\n",
       "      <td>NaN</td>\n",
       "      <td>RUB</td>\n",
       "      <td>23.2.7</td>\n",
       "      <td>обязуется отвечать перед БАНКОМ за исполнение ...</td>\n",
       "      <td>True</td>\n",
       "    </tr>\n",
       "    <tr>\n",
       "      <th>63c506c0e2456d59975e1170</th>\n",
       "      <td>2023-01-16 13:03:32.741</td>\n",
       "      <td>ГНЭ-21/29/00761/Д</td>\n",
       "      <td>Deal</td>\n",
       "      <td>NaN</td>\n",
       "      <td>NaN</td>\n",
       "      <td>NaN</td>\n",
       "      <td>NaN</td>\n",
       "      <td>NaN</td>\n",
       "      <td>23.01.04</td>\n",
       "      <td></td>\n",
       "      <td>...</td>\n",
       "      <td>ГНЭ-21/29/00761/Д</td>\n",
       "      <td>Service</td>\n",
       "      <td>NaN</td>\n",
       "      <td>NaN</td>\n",
       "      <td>NaN</td>\n",
       "      <td>NaN</td>\n",
       "      <td>None</td>\n",
       "      <td>23.2.7</td>\n",
       "      <td>1.1. Поставщик обязуется в течение срока дейст...</td>\n",
       "      <td>True</td>\n",
       "    </tr>\n",
       "    <tr>\n",
       "      <th>...</th>\n",
       "      <td>...</td>\n",
       "      <td>...</td>\n",
       "      <td>...</td>\n",
       "      <td>...</td>\n",
       "      <td>...</td>\n",
       "      <td>...</td>\n",
       "      <td>...</td>\n",
       "      <td>...</td>\n",
       "      <td>...</td>\n",
       "      <td>...</td>\n",
       "      <td>...</td>\n",
       "      <td>...</td>\n",
       "      <td>...</td>\n",
       "      <td>...</td>\n",
       "      <td>...</td>\n",
       "      <td>...</td>\n",
       "      <td>...</td>\n",
       "      <td>...</td>\n",
       "      <td>...</td>\n",
       "      <td>...</td>\n",
       "      <td>...</td>\n",
       "    </tr>\n",
       "    <tr>\n",
       "      <th>63c506ebe2456d59975e1599</th>\n",
       "      <td>2023-01-16 11:19:15.838</td>\n",
       "      <td>__</td>\n",
       "      <td>NaN</td>\n",
       "      <td>NaN</td>\n",
       "      <td>NaN</td>\n",
       "      <td>NaN</td>\n",
       "      <td>NaN</td>\n",
       "      <td>NaN</td>\n",
       "      <td>23.01.04</td>\n",
       "      <td></td>\n",
       "      <td>...</td>\n",
       "      <td>__</td>\n",
       "      <td>Service</td>\n",
       "      <td>5.200000e+02</td>\n",
       "      <td>NaN</td>\n",
       "      <td>NaN</td>\n",
       "      <td>NaN</td>\n",
       "      <td>RUB</td>\n",
       "      <td>23.2.7</td>\n",
       "      <td>. Заказчик поручает и обязуется оплатить, а Ис...</td>\n",
       "      <td>True</td>\n",
       "    </tr>\n",
       "    <tr>\n",
       "      <th>63c506b9e2456d59975e10aa</th>\n",
       "      <td>2023-01-16 11:17:00.976</td>\n",
       "      <td>NaN</td>\n",
       "      <td>NaN</td>\n",
       "      <td>NaN</td>\n",
       "      <td>NaN</td>\n",
       "      <td>NaN</td>\n",
       "      <td>NaN</td>\n",
       "      <td>NaN</td>\n",
       "      <td>23.01.04</td>\n",
       "      <td></td>\n",
       "      <td>...</td>\n",
       "      <td>None</td>\n",
       "      <td>Service</td>\n",
       "      <td>1.000000e+01</td>\n",
       "      <td>NaN</td>\n",
       "      <td>NaN</td>\n",
       "      <td>NaN</td>\n",
       "      <td>RUB</td>\n",
       "      <td>23.2.7</td>\n",
       "      <td>1.1. Исполнитель по поручению Заказчика обязуе...</td>\n",
       "      <td>True</td>\n",
       "    </tr>\n",
       "    <tr>\n",
       "      <th>63c506bde2456d59975e1118</th>\n",
       "      <td>2023-01-16 11:17:13.396</td>\n",
       "      <td>У-2018</td>\n",
       "      <td>NaN</td>\n",
       "      <td>NaN</td>\n",
       "      <td>NaN</td>\n",
       "      <td>NaN</td>\n",
       "      <td>NaN</td>\n",
       "      <td>NaN</td>\n",
       "      <td>23.01.04</td>\n",
       "      <td></td>\n",
       "      <td>...</td>\n",
       "      <td>У-2018</td>\n",
       "      <td>Service</td>\n",
       "      <td>NaN</td>\n",
       "      <td>NaN</td>\n",
       "      <td>NaN</td>\n",
       "      <td>NaN</td>\n",
       "      <td>None</td>\n",
       "      <td>23.2.7</td>\n",
       "      <td>По настоящему Договору Исполнитель обязуется о...</td>\n",
       "      <td>True</td>\n",
       "    </tr>\n",
       "    <tr>\n",
       "      <th>63c506b9e2456d59975e10b5</th>\n",
       "      <td>2023-01-16 11:17:02.645</td>\n",
       "      <td>NaN</td>\n",
       "      <td>NaN</td>\n",
       "      <td>NaN</td>\n",
       "      <td>NaN</td>\n",
       "      <td>NaN</td>\n",
       "      <td>NaN</td>\n",
       "      <td>NaN</td>\n",
       "      <td>23.01.04</td>\n",
       "      <td></td>\n",
       "      <td>...</td>\n",
       "      <td>None</td>\n",
       "      <td>Deal</td>\n",
       "      <td>1.000000e+05</td>\n",
       "      <td>NaN</td>\n",
       "      <td>NaN</td>\n",
       "      <td>NaN</td>\n",
       "      <td>RUB</td>\n",
       "      <td>23.2.7</td>\n",
       "      <td>2.1. Поставщик обязуется поставить информацион...</td>\n",
       "      <td>True</td>\n",
       "    </tr>\n",
       "    <tr>\n",
       "      <th>63c506cce2456d59975e12c3</th>\n",
       "      <td>2023-01-16 11:17:55.753</td>\n",
       "      <td>____</td>\n",
       "      <td>NaN</td>\n",
       "      <td>NaN</td>\n",
       "      <td>NaN</td>\n",
       "      <td>NaN</td>\n",
       "      <td>NaN</td>\n",
       "      <td>NaN</td>\n",
       "      <td>23.01.04</td>\n",
       "      <td></td>\n",
       "      <td>...</td>\n",
       "      <td>None</td>\n",
       "      <td>Deal</td>\n",
       "      <td>1.000000e+01</td>\n",
       "      <td>NaN</td>\n",
       "      <td>NaN</td>\n",
       "      <td>NaN</td>\n",
       "      <td>RUB</td>\n",
       "      <td>23.2.7</td>\n",
       "      <td>2.1. Поставщик принимает на себя обязательства...</td>\n",
       "      <td>True</td>\n",
       "    </tr>\n",
       "  </tbody>\n",
       "</table>\n",
       "<p>171 rows × 21 columns</p>\n",
       "</div>"
      ],
      "text/plain": [
       "                           analyze_timestamp _old        number _old  \\\n",
       "63c506c4e2456d59975e11ea  2023-01-16 13:16:27.750                NaN   \n",
       "63a430e6beaa9eeec65ecb18  2023-02-07 17:39:00.433                NaN   \n",
       "63ac1faa862ea92bf713c50d  2023-02-01 22:18:34.762      1598-8745-963   \n",
       "63a43092beaa9eeec65ecb09  2022-12-22 13:55:50.258          110801/20   \n",
       "63c506c0e2456d59975e1170  2023-01-16 13:03:32.741  ГНЭ-21/29/00761/Д   \n",
       "...                                           ...                ...   \n",
       "63c506ebe2456d59975e1599  2023-01-16 11:19:15.838                 __   \n",
       "63c506b9e2456d59975e10aa  2023-01-16 11:17:00.976                NaN   \n",
       "63c506bde2456d59975e1118  2023-01-16 11:17:13.396             У-2018   \n",
       "63c506b9e2456d59975e10b5  2023-01-16 11:17:02.645                NaN   \n",
       "63c506cce2456d59975e12c3  2023-01-16 11:17:55.753               ____   \n",
       "\n",
       "                            subject _old  amount_netto _old  \\\n",
       "63c506c4e2456d59975e11ea  AgencyContract       4.100000e+02   \n",
       "63a430e6beaa9eeec65ecb18  BankGuarantees                NaN   \n",
       "63ac1faa862ea92bf713c50d            Deal                NaN   \n",
       "63a43092beaa9eeec65ecb09            Deal       1.550000e+10   \n",
       "63c506c0e2456d59975e1170            Deal                NaN   \n",
       "...                                  ...                ...   \n",
       "63c506ebe2456d59975e1599             NaN                NaN   \n",
       "63c506b9e2456d59975e10aa             NaN                NaN   \n",
       "63c506bde2456d59975e1118             NaN                NaN   \n",
       "63c506b9e2456d59975e10b5             NaN                NaN   \n",
       "63c506cce2456d59975e12c3             NaN                NaN   \n",
       "\n",
       "                          amount_brutto _old   amount _old   vat _old  \\\n",
       "63c506c4e2456d59975e11ea                 NaN  4.100000e+02        NaN   \n",
       "63a430e6beaa9eeec65ecb18                 NaN  1.000000e+11        NaN   \n",
       "63ac1faa862ea92bf713c50d                 NaN  7.000000e+06  8400000.0   \n",
       "63a43092beaa9eeec65ecb09                 NaN  1.550000e+10        NaN   \n",
       "63c506c0e2456d59975e1170                 NaN           NaN        NaN   \n",
       "...                                      ...           ...        ...   \n",
       "63c506ebe2456d59975e1599                 NaN           NaN        NaN   \n",
       "63c506b9e2456d59975e10aa                 NaN           NaN        NaN   \n",
       "63c506bde2456d59975e1118                 NaN           NaN        NaN   \n",
       "63c506b9e2456d59975e10b5                 NaN           NaN        NaN   \n",
       "63c506cce2456d59975e12c3                 NaN           NaN        NaN   \n",
       "\n",
       "                         currency _old analysis.version _old  \\\n",
       "63c506c4e2456d59975e11ea           RUB              23.01.04   \n",
       "63a430e6beaa9eeec65ecb18           RUB                23.2.7   \n",
       "63ac1faa862ea92bf713c50d           RUB                23.2.1   \n",
       "63a43092beaa9eeec65ecb09           RUB            22.12.15.1   \n",
       "63c506c0e2456d59975e1170           NaN              23.01.04   \n",
       "...                                ...                   ...   \n",
       "63c506ebe2456d59975e1599           NaN              23.01.04   \n",
       "63c506b9e2456d59975e10aa           NaN              23.01.04   \n",
       "63c506bde2456d59975e1118           NaN              23.01.04   \n",
       "63c506b9e2456d59975e10b5           NaN              23.01.04   \n",
       "63c506cce2456d59975e12c3           NaN              23.01.04   \n",
       "\n",
       "                         subject quote _old  ...        number _new  \\\n",
       "63c506c4e2456d59975e11ea                     ...               None   \n",
       "63a430e6beaa9eeec65ecb18                     ...               None   \n",
       "63ac1faa862ea92bf713c50d                     ...      1598-8745-963   \n",
       "63a43092beaa9eeec65ecb09                     ...          110801/20   \n",
       "63c506c0e2456d59975e1170                     ...  ГНЭ-21/29/00761/Д   \n",
       "...                                     ...  ...                ...   \n",
       "63c506ebe2456d59975e1599                     ...                 __   \n",
       "63c506b9e2456d59975e10aa                     ...               None   \n",
       "63c506bde2456d59975e1118                     ...             У-2018   \n",
       "63c506b9e2456d59975e10b5                     ...               None   \n",
       "63c506cce2456d59975e12c3                     ...               None   \n",
       "\n",
       "                            subject _new amount_netto _new  \\\n",
       "63c506c4e2456d59975e11ea  AgencyContract      4.100000e+02   \n",
       "63a430e6beaa9eeec65ecb18  BankGuarantees      1.000000e+11   \n",
       "63ac1faa862ea92bf713c50d            Deal      7.000000e+06   \n",
       "63a43092beaa9eeec65ecb09  BankGuarantees      1.550000e+10   \n",
       "63c506c0e2456d59975e1170         Service               NaN   \n",
       "...                                  ...               ...   \n",
       "63c506ebe2456d59975e1599         Service      5.200000e+02   \n",
       "63c506b9e2456d59975e10aa         Service      1.000000e+01   \n",
       "63c506bde2456d59975e1118         Service               NaN   \n",
       "63c506b9e2456d59975e10b5            Deal      1.000000e+05   \n",
       "63c506cce2456d59975e12c3            Deal      1.000000e+01   \n",
       "\n",
       "                          amount_brutto _new  amount _new  vat _new  \\\n",
       "63c506c4e2456d59975e11ea                 NaN          NaN       NaN   \n",
       "63a430e6beaa9eeec65ecb18                 NaN          NaN       NaN   \n",
       "63ac1faa862ea92bf713c50d                 NaN          NaN      20.0   \n",
       "63a43092beaa9eeec65ecb09                 NaN          NaN       NaN   \n",
       "63c506c0e2456d59975e1170                 NaN          NaN       NaN   \n",
       "...                                      ...          ...       ...   \n",
       "63c506ebe2456d59975e1599                 NaN          NaN       NaN   \n",
       "63c506b9e2456d59975e10aa                 NaN          NaN       NaN   \n",
       "63c506bde2456d59975e1118                 NaN          NaN       NaN   \n",
       "63c506b9e2456d59975e10b5                 NaN          NaN       NaN   \n",
       "63c506cce2456d59975e12c3                 NaN          NaN       NaN   \n",
       "\n",
       "                          currency _new analysis.version _new  \\\n",
       "63c506c4e2456d59975e11ea            RUB                23.2.7   \n",
       "63a430e6beaa9eeec65ecb18            RUB                23.2.7   \n",
       "63ac1faa862ea92bf713c50d            RUB                23.2.7   \n",
       "63a43092beaa9eeec65ecb09            RUB                23.2.7   \n",
       "63c506c0e2456d59975e1170           None                23.2.7   \n",
       "...                                 ...                   ...   \n",
       "63c506ebe2456d59975e1599            RUB                23.2.7   \n",
       "63c506b9e2456d59975e10aa            RUB                23.2.7   \n",
       "63c506bde2456d59975e1118           None                23.2.7   \n",
       "63c506b9e2456d59975e10b5            RUB                23.2.7   \n",
       "63c506cce2456d59975e12c3            RUB                23.2.7   \n",
       "\n",
       "                                                         subject quote _new  \\\n",
       "63c506c4e2456d59975e11ea  1.1. По настоящему Договору Агент обязуется за...   \n",
       "63a430e6beaa9eeec65ecb18  недействительностью Договора (в том числе выте...   \n",
       "63ac1faa862ea92bf713c50d  1.1. По настоящему договору Продавец обязуется...   \n",
       "63a43092beaa9eeec65ecb09  обязуется отвечать перед БАНКОМ за исполнение ...   \n",
       "63c506c0e2456d59975e1170  1.1. Поставщик обязуется в течение срока дейст...   \n",
       "...                                                                     ...   \n",
       "63c506ebe2456d59975e1599  . Заказчик поручает и обязуется оплатить, а Ис...   \n",
       "63c506b9e2456d59975e10aa  1.1. Исполнитель по поручению Заказчика обязуе...   \n",
       "63c506bde2456d59975e1118  По настоящему Договору Исполнитель обязуется о...   \n",
       "63c506b9e2456d59975e10b5  2.1. Поставщик обязуется поставить информацион...   \n",
       "63c506cce2456d59975e12c3  2.1. Поставщик принимает на себя обязательства...   \n",
       "\n",
       "                         Предмет изменился  \n",
       "63c506c4e2456d59975e11ea             False  \n",
       "63a430e6beaa9eeec65ecb18             False  \n",
       "63ac1faa862ea92bf713c50d             False  \n",
       "63a43092beaa9eeec65ecb09              True  \n",
       "63c506c0e2456d59975e1170              True  \n",
       "...                                    ...  \n",
       "63c506ebe2456d59975e1599              True  \n",
       "63c506b9e2456d59975e10aa              True  \n",
       "63c506bde2456d59975e1118              True  \n",
       "63c506b9e2456d59975e10b5              True  \n",
       "63c506cce2456d59975e12c3              True  \n",
       "\n",
       "[171 rows x 21 columns]"
      ]
     },
     "execution_count": 13,
     "metadata": {},
     "output_type": "execute_result"
    }
   ],
   "source": [
    "df"
   ]
  },
  {
   "cell_type": "code",
   "execution_count": 14,
   "id": "9b8254b9",
   "metadata": {},
   "outputs": [],
   "source": [
    "df.to_csv('495-contracts-re-analyze-subj.csv')"
   ]
  },
  {
   "cell_type": "code",
   "execution_count": null,
   "id": "4fe24b5e",
   "metadata": {},
   "outputs": [],
   "source": []
  }
 ],
 "metadata": {
  "kernelspec": {
   "display_name": "env",
   "language": "python",
   "name": "env"
  },
  "language_info": {
   "codemirror_mode": {
    "name": "ipython",
    "version": 3
   },
   "file_extension": ".py",
   "mimetype": "text/x-python",
   "name": "python",
   "nbconvert_exporter": "python",
   "pygments_lexer": "ipython3",
   "version": "3.8.10"
  }
 },
 "nbformat": 4,
 "nbformat_minor": 5
}
