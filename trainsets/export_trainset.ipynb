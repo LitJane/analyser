{
 "cells": [
  {
   "cell_type": "markdown",
   "id": "84416aa0",
   "metadata": {
    "colab_type": "text",
    "id": "JbsxFAqC6pjQ",
    "papermill": {
     "duration": 0.02715,
     "end_time": "2021-08-03T13:00:10.959150",
     "exception": false,
     "start_time": "2021-08-03T13:00:10.932000",
     "status": "completed"
    },
    "tags": []
   },
   "source": [
    "# Imports"
   ]
  },
  {
   "cell_type": "code",
   "execution_count": null,
   "id": "a63d3c58-2d3a-4f27-a017-c9acd65e4806",
   "metadata": {
    "papermill": {
     "duration": 0.021947,
     "end_time": "2021-08-03T13:00:10.998129",
     "exception": false,
     "start_time": "2021-08-03T13:00:10.976182",
     "status": "completed"
    },
    "tags": []
   },
   "outputs": [],
   "source": [
    "IMPORT_FRESH_ONLY = True # re-import all if False"
   ]
  },
  {
   "cell_type": "code",
   "execution_count": null,
   "id": "28d79173",
   "metadata": {
    "colab": {},
    "colab_type": "code",
    "id": "JoHJkn9yQIgg",
    "papermill": {
     "duration": 1.861673,
     "end_time": "2021-08-03T13:00:12.870686",
     "exception": false,
     "start_time": "2021-08-03T13:00:11.009013",
     "status": "completed"
    },
    "tags": []
   },
   "outputs": [],
   "source": [
    "import logging\n",
    "import platform\n",
    "import sys\n",
    "import os\n",
    "import seaborn as sns\n",
    "import matplotlib.pyplot as plt\n",
    "from IPython.display import display, Markdown\n",
    "from datetime import datetime\n",
    "import tensorflow as tf\n",
    "\n",
    "logger = logging.getLogger('retrain_ipynb')\n",
    "logger.setLevel(logging.DEBUG)\n",
    "\n",
    "\n",
    "ch = logging.StreamHandler()\n",
    "ch.setLevel(logging.DEBUG)\n",
    "formatter = logging.Formatter('%(levelname)s - %(asctime)s - %(name)s - %(message)s')\n",
    "ch.setFormatter(formatter)\n",
    "logger.addHandler(ch)\n",
    "logger.debug('--=logging started=--')\n",
    "\n",
    "print(tf.__version__)\n",
    "CPU = platform.processor()\n",
    "print (f'Running on CPU:{CPU}')"
   ]
  },
  {
   "cell_type": "code",
   "execution_count": null,
   "id": "2e198c1d",
   "metadata": {
    "colab": {},
    "colab_type": "code",
    "id": "ZiBqnGnQfKWF",
    "papermill": {
     "duration": 0.016512,
     "end_time": "2021-08-03T13:00:12.895142",
     "exception": false,
     "start_time": "2021-08-03T13:00:12.878630",
     "status": "completed"
    },
    "tags": []
   },
   "outputs": [],
   "source": [
    "nb_dir = os.path.split(os.getcwd())[0]\n",
    "if nb_dir not in sys.path:\n",
    "    sys.path.append(nb_dir)\n",
    "\n",
    "import analyser.hyperparams \n",
    "analyser.hyperparams.__file__"
   ]
  },
  {
   "cell_type": "markdown",
   "id": "ae495501",
   "metadata": {
    "papermill": {
     "duration": 0.007981,
     "end_time": "2021-08-03T13:00:12.911919",
     "exception": false,
     "start_time": "2021-08-03T13:00:12.903938",
     "status": "completed"
    },
    "tags": []
   },
   "source": [
    "### Prepare workdir"
   ]
  },
  {
   "cell_type": "code",
   "execution_count": null,
   "id": "c1029623",
   "metadata": {
    "colab": {},
    "colab_type": "code",
    "id": "jT7451NXspdw",
    "papermill": {
     "duration": 0.011883,
     "end_time": "2021-08-03T13:00:12.931780",
     "exception": false,
     "start_time": "2021-08-03T13:00:12.919897",
     "status": "completed"
    },
    "tags": []
   },
   "outputs": [],
   "source": [
    "from pathlib import Path\n",
    "_work_dir_default = Path(analyser.hyperparams.__file__).parent.parent.parent / 'work'\n",
    "work_dir = os.environ.get('GPN_WORK_DIR', _work_dir_default)\n",
    "\n",
    "if not os.path.isdir(work_dir):\n",
    "    os.mkdir(work_dir)\n",
    "\n",
    "analyser.hyperparams.work_dir = work_dir\n",
    " \n",
    "\n",
    "print('work_dir=', analyser.hyperparams.work_dir)\n",
    "assert os.path.isdir(analyser.hyperparams.work_dir)"
   ]
  },
  {
   "cell_type": "markdown",
   "id": "8c55a33b",
   "metadata": {
    "papermill": {
     "duration": 0.008023,
     "end_time": "2021-08-03T13:00:12.947888",
     "exception": false,
     "start_time": "2021-08-03T13:00:12.939865",
     "status": "completed"
    },
    "tags": []
   },
   "source": [
    "### Imports..."
   ]
  },
  {
   "cell_type": "code",
   "execution_count": null,
   "id": "34cde660",
   "metadata": {
    "colab": {
     "base_uri": "https://localhost:8080/",
     "height": 87
    },
    "colab_type": "code",
    "id": "pexvDJbAtZM0",
    "outputId": "4f7e6e34-d675-423d-d102-1020d49d854f",
    "papermill": {
     "duration": 1.475714,
     "end_time": "2021-08-03T13:00:14.431563",
     "exception": false,
     "start_time": "2021-08-03T13:00:12.955849",
     "status": "completed"
    },
    "tags": []
   },
   "outputs": [],
   "source": [
    "%matplotlib inline\n",
    "\n",
    "import pandas as pd\n",
    "from pandas import DataFrame\n",
    "\n",
    "from analyser.finalizer import get_doc_by_id\n",
    "from analyser.persistence import DbJsonDoc\n",
    "from integration.db import get_mongodb_connection"
   ]
  },
  {
   "cell_type": "markdown",
   "id": "16ed5139",
   "metadata": {
    "papermill": {
     "duration": 0.008357,
     "end_time": "2021-08-03T13:00:14.449100",
     "exception": false,
     "start_time": "2021-08-03T13:00:14.440743",
     "status": "completed"
    },
    "tags": []
   },
   "source": [
    "### Query DB for contact IDs"
   ]
  },
  {
   "cell_type": "markdown",
   "id": "589992da-6190-42a9-a056-ef015966620c",
   "metadata": {
    "papermill": {
     "duration": 0.00879,
     "end_time": "2021-08-03T13:00:14.466682",
     "exception": false,
     "start_time": "2021-08-03T13:00:14.457892",
     "status": "completed"
    },
    "tags": []
   },
   "source": [
    "#### Load meta data CSV"
   ]
  },
  {
   "cell_type": "code",
   "execution_count": null,
   "id": "b5e1f699",
   "metadata": {
    "papermill": {
     "duration": 0.036079,
     "end_time": "2021-08-03T13:00:14.510860",
     "exception": false,
     "start_time": "2021-08-03T13:00:14.474781",
     "status": "completed"
    },
    "tags": []
   },
   "outputs": [],
   "source": [
    "export_fn = str(Path(work_dir) / 'contract_trainset_meta.temp.csv')\n",
    "# stats = pd.read_csv(export_fn, index_col=0)\n",
    "\n",
    "try:\n",
    "    stats = pd.read_csv(export_fn, index_col=0)\n",
    "    if not 'analyze_date' in stats:\n",
    "        stats['analyze_date'] = None\n",
    "    stats['analyze_date'] = pd.to_datetime(stats['analyze_date'])\n",
    "    stats['user_correction_date'] = pd.to_datetime(stats['user_correction_date'])\n",
    "\n",
    "    lastdate = stats[[\"user_correction_date\", 'analyze_date']].max().max()\n",
    "    \n",
    "except Exception as ex:\n",
    "    logger.exception(ex)\n",
    "    logger.error(f'cannot load {export_fn}')\n",
    "\n",
    "    lastdate = datetime(1900, 1, 1)\n",
    "    stats = DataFrame()\n",
    "    \n",
    "if not IMPORT_FRESH_ONLY:\n",
    "    lastdate = datetime(1900, 1, 1)\n",
    "    \n",
    "print(lastdate, export_fn)\n",
    "stats"
   ]
  },
  {
   "cell_type": "markdown",
   "id": "f2f1db37-2acc-4ead-bdf0-49e115e3c066",
   "metadata": {
    "papermill": {
     "duration": 0.008442,
     "end_time": "2021-08-03T13:00:14.527916",
     "exception": false,
     "start_time": "2021-08-03T13:00:14.519474",
     "status": "completed"
    },
    "tags": []
   },
   "source": [
    "## Fetch fresh docs from Mongo DB"
   ]
  },
  {
   "cell_type": "code",
   "execution_count": null,
   "id": "3be1f82a-a1b6-4d34-abe3-5264f4e5e9d8",
   "metadata": {},
   "outputs": [],
   "source": [
    "from datetime import date\n",
    "from dateutil.relativedelta import relativedelta\n",
    "\n",
    "# lastdate = date.today() + relativedelta(months=-2)\n",
    "# lastdate = datetime.combine(lastdate, datetime.min.time())\n",
    "\n",
    "# lastdate"
   ]
  },
  {
   "cell_type": "code",
   "execution_count": null,
   "id": "034c3cda",
   "metadata": {
    "papermill": {
     "duration": 0.153979,
     "end_time": "2021-08-03T13:00:14.690371",
     "exception": false,
     "start_time": "2021-08-03T13:00:14.536392",
     "status": "completed"
    },
    "tags": []
   },
   "outputs": [],
   "source": [
    "from pymongo import ASCENDING\n",
    "\n",
    "query = {\n",
    "  '$and': [\n",
    "    {\"parse.documentType\": \"CONTRACT\"},\n",
    "      \n",
    "    {\"state\": 15},\n",
    "    {'$or': [\n",
    "          {\"analysis.attributes_tree\": {\"$ne\": None}},\n",
    "          {\"user.attributes_tree\": {\"$ne\": None}}\n",
    "        ]},\n",
    "#       {'$and': [\n",
    "#           {\"user.updateDate\": {\"$ne\": None}},\n",
    "#           {'user.updateDate': {'$gt': lastdate}}\n",
    "#       ]}\n",
    "#     {\"user.attributes_tree.contract.people\": {\"$ne\": None}}\n",
    "\n",
    "    #     {'$or': [\n",
    "    #         {\"user.attributes_tree.contract.price.amount_netto\": {\"$ne\": None}},\n",
    "    #         {\"user.attributes_tree.contract.price.amount_brutto\": {\"$ne\": None}}\n",
    "    #     ]}\n",
    "    {'$or': [\n",
    "      {'analysis.analyze_timestamp': {'$gt': lastdate}},\n",
    "      {'user.updateDate': {'$gt': lastdate}}\n",
    "    ]}\n",
    "  ]\n",
    "}\n",
    "\n",
    "db = get_mongodb_connection()\n",
    "documents_collection = db['documents']\n",
    "sorting = [('analysis.analyze_timestamp', ASCENDING), ('user.updateDate', ASCENDING)]\n",
    "res = documents_collection.find(filter=query, \n",
    "                                sort=sorting,\n",
    "                                projection={'_id': True, 'user.updateDate':True}\n",
    "#                                             'analysis.attributes_tree.version': True,\n",
    "#                                             'analysis.attributes_tree.contract.subject': True}\n",
    "                               ).limit(1000)\n",
    "\n",
    "res = list([i for i in res])\n",
    "\n",
    "_s = f\"#### Всего новых документов после {lastdate} : {len(res)}\"\n",
    "display(Markdown(_s))\n",
    "\n",
    "res[:4]"
   ]
  },
  {
   "cell_type": "markdown",
   "id": "4f5e5226-9de4-46c2-a4d1-725904358ec3",
   "metadata": {},
   "source": [
    "# Prepare training set"
   ]
  },
  {
   "cell_type": "code",
   "execution_count": 92,
   "id": "6fe3e9cd-e51a-4541-a219-73e584847f6e",
   "metadata": {},
   "outputs": [
    {
     "data": {
      "text/plain": [
       "['headline_h1',\n",
       " 'subject',\n",
       " '_reserved',\n",
       " 'date',\n",
       " 'number',\n",
       " 'org-1-name',\n",
       " 'org-1-type',\n",
       " 'org-1-alias',\n",
       " 'org-2-name',\n",
       " 'org-2-type',\n",
       " 'org-2-alias',\n",
       " 'sign_value_currency/value',\n",
       " 'sign_value_currency/currency',\n",
       " 'sign_value_currency/sign']"
      ]
     },
     "execution_count": 92,
     "metadata": {},
     "output_type": "execute_result"
    }
   ],
   "source": [
    "from tf_support.super_contract_model import seq_labels_contract\n",
    "seq_labels_contract"
   ]
  },
  {
   "cell_type": "code",
   "execution_count": null,
   "id": "8e9c61cd",
   "metadata": {
    "papermill": {
     "duration": 0.029006,
     "end_time": "2021-08-03T13:00:14.737884",
     "exception": false,
     "start_time": "2021-08-03T13:00:14.708878",
     "status": "completed"
    },
    "tags": []
   },
   "outputs": [],
   "source": []
  },
  {
   "cell_type": "code",
   "execution_count": 126,
   "id": "ec573ccb-97cb-477f-9379-52403a186899",
   "metadata": {},
   "outputs": [
    {
     "data": {
      "text/plain": [
       "ObjectId('5fca2aae9083b679224c7614')"
      ]
     },
     "execution_count": 126,
     "metadata": {},
     "output_type": "execute_result"
    }
   ],
   "source": [
    "docs_ids = [i[\"_id\"] for i in res]\n",
    "sample_id = docs_ids[0]\n",
    "sample_id"
   ]
  },
  {
   "cell_type": "code",
   "execution_count": 127,
   "id": "ef128113-6be4-456c-9918-0859a339da37",
   "metadata": {},
   "outputs": [
    {
     "name": "stderr",
     "output_type": "stream",
     "text": [
      "/Users/artem/work/nemo/analyser/integration/db.py:12: UserWarning: MongoDB : define GPN_DB_NAME environment variable! defaulting to gpn\n",
      "  warnings.warn(msg)\n"
     ]
    },
    {
     "data": {
      "text/plain": [
       "<analyser.persistence.DbJsonDoc at 0x16d0b5640>"
      ]
     },
     "execution_count": 127,
     "metadata": {},
     "output_type": "execute_result"
    }
   ],
   "source": [
    "from bson import ObjectId\n",
    "# sample_id = ObjectId('60002adfb08473039387bcd6')\n",
    "d = get_doc_by_id(sample_id)\n",
    "\n",
    "jd = DbJsonDoc(d)\n",
    "jd"
   ]
  },
  {
   "cell_type": "code",
   "execution_count": 128,
   "id": "786c9b05-f240-46b4-8a20-5fa07b9d4bc9",
   "metadata": {},
   "outputs": [],
   "source": [
    "# jd.get_attributes_tree()"
   ]
  },
  {
   "cell_type": "code",
   "execution_count": 129,
   "id": "619a5017-0015-458b-bf62-8d5a39816dfe",
   "metadata": {},
   "outputs": [
    {
     "name": "stdout",
     "output_type": "stream",
     "text": [
      "2.0.5\n"
     ]
    },
    {
     "data": {
      "image/png": "[encoded data removed]",
      "text/plain": [
       "<Figure size 1800x432 with 2 Axes>"
      ]
     },
     "metadata": {},
     "output_type": "display_data"
    }
   ],
   "source": [
    "from datetime import datetime\n",
    "from math import log1p\n",
    "from pandas import DataFrame\n",
    "from analyser.persistence import DbJsonDoc\n",
    "from colab_support.renderer import plot_embedding\n",
    "import numpy as np\n",
    "\n",
    "\n",
    "# from trainsets.retrain_contract_uber_model import flatten_attributes_tree\n",
    "\n",
    "\n",
    "#XXX: replace with DbJsonDoc.get_version_string\n",
    "def get_version(d: DbJsonDoc):\n",
    "  attr_tree = d.get_attributes_tree()\n",
    "  if 'version' in attr_tree:\n",
    "    return '.'.join([str(x) for x in attr_tree['version']])\n",
    "  else:\n",
    "    return d.analysis['version']\n",
    "\n",
    "\n",
    "def get_amount(attr_tree):\n",
    "  _value_tag = attr_tree.get('price')\n",
    "\n",
    "  if _value_tag is not None:\n",
    "    amount = _value_tag.get('amount_netto')\n",
    "    if amount is None:\n",
    "      amount = _value_tag.get('amount_brutto')\n",
    "    if amount is None:\n",
    "      amount = _value_tag.get('amount')\n",
    "  return amount\n",
    "\n",
    "        \n",
    "    \n",
    "def add_stats_record(d: DbJsonDoc, stats: DataFrame):\n",
    "  _id = str(d.get_id())\n",
    "    \n",
    "  attr_tree = d.get_attributes_tree()\n",
    " \n",
    "\n",
    "  stats.at[_id, 'checksum'] = d.get_tokens_for_embedding().get_checksum()\n",
    "  stats.at[_id, 'version'] = get_version(d)\n",
    "    \n",
    " \n",
    "  stats.at[_id, 'export_date'] = datetime.now()\n",
    "  stats.at[_id, 'len'] = len(d)\n",
    "  stats.at[_id, 'analyze_date'] = d.analysis['analyze_timestamp']\n",
    "\n",
    "\n",
    "  _value_tag = attr_tree.get('price')\n",
    "  \n",
    "  if _value_tag is not None:\n",
    "    amount = get_amount(attr_tree) \n",
    "    if amount:\n",
    "        \n",
    "        stats.at[_id, 'value'] = amount.get('value') \n",
    "        stats.at[_id, 'value_log1p'] = log1p(amount.get('value') )\n",
    "        stats.at[_id, 'value_span'] = amount.get('span', [0,0]) [0]\n",
    "#         print( stats.at[_id, 'value'])\n",
    "    \n",
    "    stats.at[_id, 'currency'] = _value_tag.get('currency', {}).get('value')\n",
    "  \n",
    "  _orgs = attr_tree.get('orgs', [{},{}]) \n",
    "  if len(_orgs)>0:\n",
    "      stats.at[_id, 'org-1-name'] = _orgs[0].get('name', {}).get('value')\n",
    "      stats.at[_id, 'org-1-alias'] = _orgs[0].get('alias', {}).get('value')\n",
    "\n",
    "      if len(_orgs)>1:\n",
    "        stats.at[_id, 'org-2-name'] = _orgs[1].get('name', {}).get('value')\n",
    "        stats.at[_id, 'org-2-alias'] = _orgs[1].get('alias', {}).get('value')\n",
    "    \n",
    "  stats.at[_id, 'subject'] = attr_tree.get('subject', {}).get('value')\n",
    "  stats.at[_id, 'subject confidence'] = attr_tree.get('subject', {}).get('confidence')\n",
    "    \n",
    "\n",
    "\n",
    "  if d.user is not None:\n",
    "    # if 'attributes_tree' in d.user and 'creation_date' in d.user['attributes_tree']:\n",
    "    # stats.at[_id, 'user_correction_date'] = d.user['attributes_tree']['creation_date']\n",
    "    stats.at[_id, 'user_correction_date'] = d.user[\n",
    "      'updateDate']  # find_in_dict('attributes_tree.creation_date', d.user)\n",
    "\n",
    "    \n",
    "    \n",
    "#==========================\n",
    "    \n",
    "print(get_version(jd))\n",
    "# print(jd.get_attributes_tree().get('price', {}).get('amount_netto', {}).get('value')   )\n",
    "# print(jd.get_attributes_tree().get('orgs', [{},{}])[0].get('name', {}).get('value'))\n",
    "add_stats_record(jd, stats)\n",
    "# stats.tail()\n",
    "# jd.get_attributes_tree()\n",
    "\n"
   ]
  },
  {
   "cell_type": "code",
   "execution_count": 152,
   "id": "710e3aa4-4fcb-4b66-8ed8-a0fd632adb9d",
   "metadata": {},
   "outputs": [
    {
     "data": {
      "image/png": "[encoded data removed]",
      "text/plain": [
       "<Figure size 1800x432 with 2 Axes>"
      ]
     },
     "metadata": {},
     "output_type": "display_data"
    }
   ],
   "source": [
    "\n",
    "def get_semantic_map(doc: DbJsonDoc):\n",
    "    attr_tree = doc.get_attributes_tree()\n",
    "    _len = len(doc)\n",
    "    df = DataFrame()\n",
    "    for sl in seq_labels_contract:    \n",
    "        df[sl] = np.zeros(_len)\n",
    "        \n",
    "    av = np.zeros(_len)\n",
    "    headers = doc.analysis['headers']\n",
    "    for h in headers:\n",
    "        av[h['span'][0]:h['span'][1]] = 1.0\n",
    "    \n",
    "    df['headline_h1'] = av\n",
    "    \n",
    "    def add_av(name, span, av=None):\n",
    "        if av is None:            \n",
    "            av = np.zeros(_len)\n",
    "        if span:\n",
    "            av[span[0]:span[1]] = 1.0\n",
    "        df[name] = av\n",
    " \n",
    "    \n",
    "    for n in ['subject', 'date', 'number']:\n",
    "        add_av(n, attr_tree.get(n, {}).get('span'))\n",
    "        \n",
    "    for i in [1, 2]:\n",
    "        for n in ['name', 'alias', 'type']:\n",
    "            try:\n",
    "                add_av(f'org-{i}-{n}', attr_tree['orgs'][i-1][n]['span'])\n",
    "            except Exception as e:\n",
    "                print('ERROR', i, n, doc.get_id(), e, attr_tree.get('orgs'))\n",
    "\n",
    "            \n",
    " \n",
    "    _value_tag = attr_tree.get('price')\n",
    "  \n",
    "    if _value_tag is not None:\n",
    "        amount = get_amount(attr_tree) \n",
    "        if amount:\n",
    "            add_av('sign_value_currency/value', amount.get('span'))\n",
    "        add_av('sign_value_currency/currency', _value_tag.get('currency',{}).get('span'))\n",
    "        add_av('sign_value_currency/currency', _value_tag.get('sign',{}).get('span'))\n",
    "            \n",
    "    return df\n",
    "\n",
    " \n",
    "    \n",
    "plot_embedding(get_semantic_map(jd)[:500], 'semantic map')"
   ]
  },
  {
   "cell_type": "code",
   "execution_count": 153,
   "id": "a08fc45b-4bb0-4264-936a-021d4e2ca288",
   "metadata": {},
   "outputs": [
    {
     "name": "stdout",
     "output_type": "stream",
     "text": [
      "2\n"
     ]
    }
   ],
   "source": [
    "print(len(docs_ids))"
   ]
  },
  {
   "cell_type": "code",
   "execution_count": 154,
   "id": "b08dd23d",
   "metadata": {
    "papermill": {
     "duration": 0.38132,
     "end_time": "2021-08-03T13:00:15.130505",
     "exception": false,
     "start_time": "2021-08-03T13:00:14.749185",
     "status": "completed"
    },
    "tags": []
   },
   "outputs": [
    {
     "name": "stdout",
     "output_type": "stream",
     "text": [
      "0 of 2\n"
     ]
    },
    {
     "data": {
      "text/html": [
       "<div>\n",
       "<style scoped>\n",
       "    .dataframe tbody tr th:only-of-type {\n",
       "        vertical-align: middle;\n",
       "    }\n",
       "\n",
       "    .dataframe tbody tr th {\n",
       "        vertical-align: top;\n",
       "    }\n",
       "\n",
       "    .dataframe thead th {\n",
       "        text-align: right;\n",
       "    }\n",
       "</style>\n",
       "<table border=\"1\" class=\"dataframe\">\n",
       "  <thead>\n",
       "    <tr style=\"text-align: right;\">\n",
       "      <th></th>\n",
       "      <th>url</th>\n",
       "      <th>version</th>\n",
       "      <th>org-1-name</th>\n",
       "      <th>org-2-name</th>\n",
       "      <th>org-1-alias</th>\n",
       "      <th>org-2-alias</th>\n",
       "      <th>subject</th>\n",
       "      <th>value</th>\n",
       "      <th>user_correction_date</th>\n",
       "      <th>analyze_date</th>\n",
       "      <th>checksum</th>\n",
       "      <th>export_date</th>\n",
       "      <th>subject confidence</th>\n",
       "      <th>value_log1p</th>\n",
       "      <th>value_span</th>\n",
       "      <th>valid</th>\n",
       "      <th>currency</th>\n",
       "      <th>len</th>\n",
       "    </tr>\n",
       "  </thead>\n",
       "  <tbody>\n",
       "    <tr>\n",
       "      <th>60b7a55b061c76d77545505a</th>\n",
       "      <td>http://gpn-audit.nemosoft.ru/#/audit/edit/60b7...</td>\n",
       "      <td>2.3.14</td>\n",
       "      <td>NaN</td>\n",
       "      <td>NaN</td>\n",
       "      <td>NaN</td>\n",
       "      <td>NaN</td>\n",
       "      <td>Service</td>\n",
       "      <td>7.000000e+08</td>\n",
       "      <td>2021-07-29 08:56:09.177</td>\n",
       "      <td>2021-06-04 21:39:30.461</td>\n",
       "      <td>51064791f578e6b4ba62f717a09832db</td>\n",
       "      <td>2021-07-29 14:20:27.093368</td>\n",
       "      <td>NaN</td>\n",
       "      <td>20.366591</td>\n",
       "      <td>1218.0</td>\n",
       "      <td>False</td>\n",
       "      <td>RUB</td>\n",
       "      <td>4088.0</td>\n",
       "    </tr>\n",
       "    <tr>\n",
       "      <th>60b7a4cc061c76d7754546b0</th>\n",
       "      <td>http://gpn-audit.nemosoft.ru/#/audit/edit/60b7...</td>\n",
       "      <td>2.3.14</td>\n",
       "      <td>NaN</td>\n",
       "      <td>NaN</td>\n",
       "      <td>NaN</td>\n",
       "      <td>NaN</td>\n",
       "      <td>Deal</td>\n",
       "      <td>4.285374e+08</td>\n",
       "      <td>2021-07-29 09:05:58.705</td>\n",
       "      <td>2021-06-03 06:10:15.320</td>\n",
       "      <td>1775ac8122d39314d9d8c7e8c0c03437</td>\n",
       "      <td>2021-07-29 14:20:25.189336</td>\n",
       "      <td>NaN</td>\n",
       "      <td>19.875888</td>\n",
       "      <td>563.0</td>\n",
       "      <td>NaN</td>\n",
       "      <td>RUB</td>\n",
       "      <td>774.0</td>\n",
       "    </tr>\n",
       "    <tr>\n",
       "      <th>60b7a5b1061c76d775455517</th>\n",
       "      <td>http://gpn-audit.nemosoft.ru/#/audit/edit/60b7...</td>\n",
       "      <td>2.3.14</td>\n",
       "      <td>NaN</td>\n",
       "      <td>NaN</td>\n",
       "      <td>NaN</td>\n",
       "      <td>NaN</td>\n",
       "      <td>Service</td>\n",
       "      <td>1.846700e+08</td>\n",
       "      <td>NaT</td>\n",
       "      <td>2021-06-05 16:36:09.054</td>\n",
       "      <td>50f010a37f21887b6d0242450c310cdb</td>\n",
       "      <td>2021-07-29 14:40:00.388647</td>\n",
       "      <td>NaN</td>\n",
       "      <td>19.034081</td>\n",
       "      <td>75.0</td>\n",
       "      <td>NaN</td>\n",
       "      <td>RUB</td>\n",
       "      <td>1062.0</td>\n",
       "    </tr>\n",
       "    <tr>\n",
       "      <th>60b7a5b1061c76d77545551e</th>\n",
       "      <td>http://gpn-audit.nemosoft.ru/#/audit/edit/60b7...</td>\n",
       "      <td>2.3.14</td>\n",
       "      <td>NaN</td>\n",
       "      <td>NaN</td>\n",
       "      <td>NaN</td>\n",
       "      <td>NaN</td>\n",
       "      <td>NaN</td>\n",
       "      <td>2.969460e+07</td>\n",
       "      <td>2021-08-25 14:15:51.680</td>\n",
       "      <td>2021-06-05 16:41:37.040</td>\n",
       "      <td>b14d88a9f8c9c698e7119e3c722267e2</td>\n",
       "      <td>2021-10-20 13:21:38.682880</td>\n",
       "      <td>NaN</td>\n",
       "      <td>17.206476</td>\n",
       "      <td>108.0</td>\n",
       "      <td>NaN</td>\n",
       "      <td>RUB</td>\n",
       "      <td>311.0</td>\n",
       "    </tr>\n",
       "    <tr>\n",
       "      <th>60b7a59a061c76d775455383</th>\n",
       "      <td>http://gpn-audit.nemosoft.ru/#/audit/edit/60b7...</td>\n",
       "      <td>2.3.14</td>\n",
       "      <td>NaN</td>\n",
       "      <td>NaN</td>\n",
       "      <td>NaN</td>\n",
       "      <td>NaN</td>\n",
       "      <td>Service</td>\n",
       "      <td>5.000000e+05</td>\n",
       "      <td>NaT</td>\n",
       "      <td>2021-06-05 10:03:03.705</td>\n",
       "      <td>2d78ec018ce5f8e710f0399e15a0f25f</td>\n",
       "      <td>2021-07-29 14:39:13.808920</td>\n",
       "      <td>NaN</td>\n",
       "      <td>13.122365</td>\n",
       "      <td>345.0</td>\n",
       "      <td>NaN</td>\n",
       "      <td>RUB</td>\n",
       "      <td>374.0</td>\n",
       "    </tr>\n",
       "    <tr>\n",
       "      <th>...</th>\n",
       "      <td>...</td>\n",
       "      <td>...</td>\n",
       "      <td>...</td>\n",
       "      <td>...</td>\n",
       "      <td>...</td>\n",
       "      <td>...</td>\n",
       "      <td>...</td>\n",
       "      <td>...</td>\n",
       "      <td>...</td>\n",
       "      <td>...</td>\n",
       "      <td>...</td>\n",
       "      <td>...</td>\n",
       "      <td>...</td>\n",
       "      <td>...</td>\n",
       "      <td>...</td>\n",
       "      <td>...</td>\n",
       "      <td>...</td>\n",
       "      <td>...</td>\n",
       "    </tr>\n",
       "    <tr>\n",
       "      <th>6167d79187f1d9065bb8b94b</th>\n",
       "      <td>NaN</td>\n",
       "      <td>2.5.0</td>\n",
       "      <td>Газпром нефть</td>\n",
       "      <td>Тюльпан</td>\n",
       "      <td>Заказчик</td>\n",
       "      <td>Исполнитель</td>\n",
       "      <td>Service</td>\n",
       "      <td>NaN</td>\n",
       "      <td>2021-10-14 07:21:37.988</td>\n",
       "      <td>2021-10-14 10:12:40.413</td>\n",
       "      <td>88fc45d9053c41b2ab7dc5d8c65f1bb3</td>\n",
       "      <td>2021-10-20 13:23:54.968399</td>\n",
       "      <td>1.000000</td>\n",
       "      <td>NaN</td>\n",
       "      <td>NaN</td>\n",
       "      <td>NaN</td>\n",
       "      <td>NaN</td>\n",
       "      <td>7226.0</td>\n",
       "    </tr>\n",
       "    <tr>\n",
       "      <th>6167d81a87f1d9065bb8b950</th>\n",
       "      <td>NaN</td>\n",
       "      <td>2.5.0</td>\n",
       "      <td>Газпром нефть</td>\n",
       "      <td>Гладиолус</td>\n",
       "      <td>Заказчик</td>\n",
       "      <td>Исполнитель</td>\n",
       "      <td>Service</td>\n",
       "      <td>1.200000e+04</td>\n",
       "      <td>NaT</td>\n",
       "      <td>2021-10-14 10:15:24.709</td>\n",
       "      <td>0e12ea6bd5faf366fce0c9e0a24d4565</td>\n",
       "      <td>2021-10-20 13:23:55.441982</td>\n",
       "      <td>0.945099</td>\n",
       "      <td>9.392745</td>\n",
       "      <td>3595.0</td>\n",
       "      <td>NaN</td>\n",
       "      <td>RUB</td>\n",
       "      <td>4238.0</td>\n",
       "    </tr>\n",
       "    <tr>\n",
       "      <th>6167e45b87f1d9065bb8b953</th>\n",
       "      <td>NaN</td>\n",
       "      <td>2.5.0</td>\n",
       "      <td>Газпром нефть</td>\n",
       "      <td>Хризантема</td>\n",
       "      <td>ЭМИТЕНТ</td>\n",
       "      <td>РЕГИСТРАТОР</td>\n",
       "      <td>Service</td>\n",
       "      <td>NaN</td>\n",
       "      <td>NaT</td>\n",
       "      <td>2021-10-14 11:06:06.967</td>\n",
       "      <td>12a420134f2a47ac5a61e6fa83b64969</td>\n",
       "      <td>2021-10-20 13:23:55.924223</td>\n",
       "      <td>0.996957</td>\n",
       "      <td>NaN</td>\n",
       "      <td>NaN</td>\n",
       "      <td>NaN</td>\n",
       "      <td>NaN</td>\n",
       "      <td>3937.0</td>\n",
       "    </tr>\n",
       "    <tr>\n",
       "      <th>6167e8ea87f1d9065bb8b956</th>\n",
       "      <td>NaN</td>\n",
       "      <td>2.5.0</td>\n",
       "      <td>Сибирская нефтяная компания</td>\n",
       "      <td>Специализированный регистратор - Держатель рее...</td>\n",
       "      <td>Эмитент</td>\n",
       "      <td>Регистратор</td>\n",
       "      <td>Service</td>\n",
       "      <td>NaN</td>\n",
       "      <td>2021-10-14 09:39:52.493</td>\n",
       "      <td>2021-10-14 11:26:01.673</td>\n",
       "      <td>23594ee3e50c4ae3f31ba2972de6b915</td>\n",
       "      <td>2021-10-20 13:23:56.851262</td>\n",
       "      <td>1.000000</td>\n",
       "      <td>NaN</td>\n",
       "      <td>NaN</td>\n",
       "      <td>NaN</td>\n",
       "      <td>NaN</td>\n",
       "      <td>5956.0</td>\n",
       "    </tr>\n",
       "    <tr>\n",
       "      <th>6167fd1a87f1d9065bb8b95e</th>\n",
       "      <td>NaN</td>\n",
       "      <td>2.5.0</td>\n",
       "      <td>Сибирская нефтяная компания</td>\n",
       "      <td>Специализированный регистратор - Держатель рее...</td>\n",
       "      <td>Эмитент</td>\n",
       "      <td>Регистратор</td>\n",
       "      <td>Service</td>\n",
       "      <td>NaN</td>\n",
       "      <td>2021-10-14 09:52:10.084</td>\n",
       "      <td>2021-10-14 12:49:55.973</td>\n",
       "      <td>23594ee3e50c4ae3f31ba2972de6b915</td>\n",
       "      <td>2021-10-20 13:23:57.701963</td>\n",
       "      <td>1.000000</td>\n",
       "      <td>NaN</td>\n",
       "      <td>NaN</td>\n",
       "      <td>NaN</td>\n",
       "      <td>NaN</td>\n",
       "      <td>5956.0</td>\n",
       "    </tr>\n",
       "  </tbody>\n",
       "</table>\n",
       "<p>2843 rows × 18 columns</p>\n",
       "</div>"
      ],
      "text/plain": [
       "                                                                        url  \\\n",
       "60b7a55b061c76d77545505a  http://gpn-audit.nemosoft.ru/#/audit/edit/60b7...   \n",
       "60b7a4cc061c76d7754546b0  http://gpn-audit.nemosoft.ru/#/audit/edit/60b7...   \n",
       "60b7a5b1061c76d775455517  http://gpn-audit.nemosoft.ru/#/audit/edit/60b7...   \n",
       "60b7a5b1061c76d77545551e  http://gpn-audit.nemosoft.ru/#/audit/edit/60b7...   \n",
       "60b7a59a061c76d775455383  http://gpn-audit.nemosoft.ru/#/audit/edit/60b7...   \n",
       "...                                                                     ...   \n",
       "6167d79187f1d9065bb8b94b                                                NaN   \n",
       "6167d81a87f1d9065bb8b950                                                NaN   \n",
       "6167e45b87f1d9065bb8b953                                                NaN   \n",
       "6167e8ea87f1d9065bb8b956                                                NaN   \n",
       "6167fd1a87f1d9065bb8b95e                                                NaN   \n",
       "\n",
       "                         version                   org-1-name  \\\n",
       "60b7a55b061c76d77545505a  2.3.14                          NaN   \n",
       "60b7a4cc061c76d7754546b0  2.3.14                          NaN   \n",
       "60b7a5b1061c76d775455517  2.3.14                          NaN   \n",
       "60b7a5b1061c76d77545551e  2.3.14                          NaN   \n",
       "60b7a59a061c76d775455383  2.3.14                          NaN   \n",
       "...                          ...                          ...   \n",
       "6167d79187f1d9065bb8b94b   2.5.0                Газпром нефть   \n",
       "6167d81a87f1d9065bb8b950   2.5.0                Газпром нефть   \n",
       "6167e45b87f1d9065bb8b953   2.5.0                Газпром нефть   \n",
       "6167e8ea87f1d9065bb8b956   2.5.0  Сибирская нефтяная компания   \n",
       "6167fd1a87f1d9065bb8b95e   2.5.0  Сибирская нефтяная компания   \n",
       "\n",
       "                                                                 org-2-name  \\\n",
       "60b7a55b061c76d77545505a                                                NaN   \n",
       "60b7a4cc061c76d7754546b0                                                NaN   \n",
       "60b7a5b1061c76d775455517                                                NaN   \n",
       "60b7a5b1061c76d77545551e                                                NaN   \n",
       "60b7a59a061c76d775455383                                                NaN   \n",
       "...                                                                     ...   \n",
       "6167d79187f1d9065bb8b94b                                            Тюльпан   \n",
       "6167d81a87f1d9065bb8b950                                          Гладиолус   \n",
       "6167e45b87f1d9065bb8b953                                         Хризантема   \n",
       "6167e8ea87f1d9065bb8b956  Специализированный регистратор - Держатель рее...   \n",
       "6167fd1a87f1d9065bb8b95e  Специализированный регистратор - Держатель рее...   \n",
       "\n",
       "                         org-1-alias  org-2-alias  subject         value  \\\n",
       "60b7a55b061c76d77545505a         NaN          NaN  Service  7.000000e+08   \n",
       "60b7a4cc061c76d7754546b0         NaN          NaN     Deal  4.285374e+08   \n",
       "60b7a5b1061c76d775455517         NaN          NaN  Service  1.846700e+08   \n",
       "60b7a5b1061c76d77545551e         NaN          NaN      NaN  2.969460e+07   \n",
       "60b7a59a061c76d775455383         NaN          NaN  Service  5.000000e+05   \n",
       "...                              ...          ...      ...           ...   \n",
       "6167d79187f1d9065bb8b94b    Заказчик  Исполнитель  Service           NaN   \n",
       "6167d81a87f1d9065bb8b950    Заказчик  Исполнитель  Service  1.200000e+04   \n",
       "6167e45b87f1d9065bb8b953     ЭМИТЕНТ  РЕГИСТРАТОР  Service           NaN   \n",
       "6167e8ea87f1d9065bb8b956     Эмитент  Регистратор  Service           NaN   \n",
       "6167fd1a87f1d9065bb8b95e     Эмитент  Регистратор  Service           NaN   \n",
       "\n",
       "                            user_correction_date            analyze_date  \\\n",
       "60b7a55b061c76d77545505a 2021-07-29 08:56:09.177 2021-06-04 21:39:30.461   \n",
       "60b7a4cc061c76d7754546b0 2021-07-29 09:05:58.705 2021-06-03 06:10:15.320   \n",
       "60b7a5b1061c76d775455517                     NaT 2021-06-05 16:36:09.054   \n",
       "60b7a5b1061c76d77545551e 2021-08-25 14:15:51.680 2021-06-05 16:41:37.040   \n",
       "60b7a59a061c76d775455383                     NaT 2021-06-05 10:03:03.705   \n",
       "...                                          ...                     ...   \n",
       "6167d79187f1d9065bb8b94b 2021-10-14 07:21:37.988 2021-10-14 10:12:40.413   \n",
       "6167d81a87f1d9065bb8b950                     NaT 2021-10-14 10:15:24.709   \n",
       "6167e45b87f1d9065bb8b953                     NaT 2021-10-14 11:06:06.967   \n",
       "6167e8ea87f1d9065bb8b956 2021-10-14 09:39:52.493 2021-10-14 11:26:01.673   \n",
       "6167fd1a87f1d9065bb8b95e 2021-10-14 09:52:10.084 2021-10-14 12:49:55.973   \n",
       "\n",
       "                                                  checksum  \\\n",
       "60b7a55b061c76d77545505a  51064791f578e6b4ba62f717a09832db   \n",
       "60b7a4cc061c76d7754546b0  1775ac8122d39314d9d8c7e8c0c03437   \n",
       "60b7a5b1061c76d775455517  50f010a37f21887b6d0242450c310cdb   \n",
       "60b7a5b1061c76d77545551e  b14d88a9f8c9c698e7119e3c722267e2   \n",
       "60b7a59a061c76d775455383  2d78ec018ce5f8e710f0399e15a0f25f   \n",
       "...                                                    ...   \n",
       "6167d79187f1d9065bb8b94b  88fc45d9053c41b2ab7dc5d8c65f1bb3   \n",
       "6167d81a87f1d9065bb8b950  0e12ea6bd5faf366fce0c9e0a24d4565   \n",
       "6167e45b87f1d9065bb8b953  12a420134f2a47ac5a61e6fa83b64969   \n",
       "6167e8ea87f1d9065bb8b956  23594ee3e50c4ae3f31ba2972de6b915   \n",
       "6167fd1a87f1d9065bb8b95e  23594ee3e50c4ae3f31ba2972de6b915   \n",
       "\n",
       "                                         export_date  subject confidence  \\\n",
       "60b7a55b061c76d77545505a  2021-07-29 14:20:27.093368                 NaN   \n",
       "60b7a4cc061c76d7754546b0  2021-07-29 14:20:25.189336                 NaN   \n",
       "60b7a5b1061c76d775455517  2021-07-29 14:40:00.388647                 NaN   \n",
       "60b7a5b1061c76d77545551e  2021-10-20 13:21:38.682880                 NaN   \n",
       "60b7a59a061c76d775455383  2021-07-29 14:39:13.808920                 NaN   \n",
       "...                                              ...                 ...   \n",
       "6167d79187f1d9065bb8b94b  2021-10-20 13:23:54.968399            1.000000   \n",
       "6167d81a87f1d9065bb8b950  2021-10-20 13:23:55.441982            0.945099   \n",
       "6167e45b87f1d9065bb8b953  2021-10-20 13:23:55.924223            0.996957   \n",
       "6167e8ea87f1d9065bb8b956  2021-10-20 13:23:56.851262            1.000000   \n",
       "6167fd1a87f1d9065bb8b95e  2021-10-20 13:23:57.701963            1.000000   \n",
       "\n",
       "                          value_log1p  value_span  valid currency     len  \n",
       "60b7a55b061c76d77545505a    20.366591      1218.0  False      RUB  4088.0  \n",
       "60b7a4cc061c76d7754546b0    19.875888       563.0    NaN      RUB   774.0  \n",
       "60b7a5b1061c76d775455517    19.034081        75.0    NaN      RUB  1062.0  \n",
       "60b7a5b1061c76d77545551e    17.206476       108.0    NaN      RUB   311.0  \n",
       "60b7a59a061c76d775455383    13.122365       345.0    NaN      RUB   374.0  \n",
       "...                               ...         ...    ...      ...     ...  \n",
       "6167d79187f1d9065bb8b94b          NaN         NaN    NaN      NaN  7226.0  \n",
       "6167d81a87f1d9065bb8b950     9.392745      3595.0    NaN      RUB  4238.0  \n",
       "6167e45b87f1d9065bb8b953          NaN         NaN    NaN      NaN  3937.0  \n",
       "6167e8ea87f1d9065bb8b956          NaN         NaN    NaN      NaN  5956.0  \n",
       "6167fd1a87f1d9065bb8b95e          NaN         NaN    NaN      NaN  5956.0  \n",
       "\n",
       "[2843 rows x 18 columns]"
      ]
     },
     "execution_count": 154,
     "metadata": {},
     "output_type": "execute_result"
    }
   ],
   "source": [
    "for k, oid in enumerate(docs_ids):\n",
    "    d = get_doc_by_id(oid)\n",
    "    jd = DbJsonDoc(d)\n",
    "    \n",
    "    try:\n",
    "        add_stats_record(jd, stats)\n",
    "    except Exception as e:\n",
    "        print(jd.get_id())\n",
    "        raise (e)\n",
    "    \n",
    "    if k % 20 == 0:\n",
    "        print(f'{k} of {len(docs_ids)}')\n",
    "        stats.to_csv(export_fn, index=True)\n",
    "    \n",
    "stats.to_csv(export_fn, index=True)\n",
    "stats"
   ]
  },
  {
   "cell_type": "code",
   "execution_count": 155,
   "id": "2b60b51d",
   "metadata": {
    "papermill": {
     "duration": 0.025526,
     "end_time": "2021-08-03T13:00:15.166217",
     "exception": false,
     "start_time": "2021-08-03T13:00:15.140691",
     "status": "completed"
    },
    "tags": []
   },
   "outputs": [
    {
     "data": {
      "text/html": [
       "<div>\n",
       "<style scoped>\n",
       "    .dataframe tbody tr th:only-of-type {\n",
       "        vertical-align: middle;\n",
       "    }\n",
       "\n",
       "    .dataframe tbody tr th {\n",
       "        vertical-align: top;\n",
       "    }\n",
       "\n",
       "    .dataframe thead th {\n",
       "        text-align: right;\n",
       "    }\n",
       "</style>\n",
       "<table border=\"1\" class=\"dataframe\">\n",
       "  <thead>\n",
       "    <tr style=\"text-align: right;\">\n",
       "      <th></th>\n",
       "      <th>url</th>\n",
       "      <th>version</th>\n",
       "      <th>org-1-name</th>\n",
       "      <th>org-2-name</th>\n",
       "      <th>org-1-alias</th>\n",
       "      <th>org-2-alias</th>\n",
       "      <th>subject</th>\n",
       "      <th>value</th>\n",
       "      <th>user_correction_date</th>\n",
       "      <th>analyze_date</th>\n",
       "      <th>checksum</th>\n",
       "      <th>export_date</th>\n",
       "      <th>subject confidence</th>\n",
       "      <th>value_log1p</th>\n",
       "      <th>value_span</th>\n",
       "      <th>valid</th>\n",
       "      <th>currency</th>\n",
       "      <th>len</th>\n",
       "    </tr>\n",
       "  </thead>\n",
       "  <tbody>\n",
       "    <tr>\n",
       "      <th>60b7a55b061c76d77545505a</th>\n",
       "      <td>http://gpn-audit.nemosoft.ru/#/audit/edit/60b7...</td>\n",
       "      <td>2.3.14</td>\n",
       "      <td>NaN</td>\n",
       "      <td>NaN</td>\n",
       "      <td>NaN</td>\n",
       "      <td>NaN</td>\n",
       "      <td>Service</td>\n",
       "      <td>7.000000e+08</td>\n",
       "      <td>2021-07-29 08:56:09.177</td>\n",
       "      <td>2021-06-04 21:39:30.461</td>\n",
       "      <td>51064791f578e6b4ba62f717a09832db</td>\n",
       "      <td>2021-07-29 14:20:27.093368</td>\n",
       "      <td>NaN</td>\n",
       "      <td>20.366591</td>\n",
       "      <td>1218.0</td>\n",
       "      <td>False</td>\n",
       "      <td>RUB</td>\n",
       "      <td>4088.0</td>\n",
       "    </tr>\n",
       "    <tr>\n",
       "      <th>60b7a4cc061c76d7754546b0</th>\n",
       "      <td>http://gpn-audit.nemosoft.ru/#/audit/edit/60b7...</td>\n",
       "      <td>2.3.14</td>\n",
       "      <td>NaN</td>\n",
       "      <td>NaN</td>\n",
       "      <td>NaN</td>\n",
       "      <td>NaN</td>\n",
       "      <td>Deal</td>\n",
       "      <td>4.285374e+08</td>\n",
       "      <td>2021-07-29 09:05:58.705</td>\n",
       "      <td>2021-06-03 06:10:15.320</td>\n",
       "      <td>1775ac8122d39314d9d8c7e8c0c03437</td>\n",
       "      <td>2021-07-29 14:20:25.189336</td>\n",
       "      <td>NaN</td>\n",
       "      <td>19.875888</td>\n",
       "      <td>563.0</td>\n",
       "      <td>NaN</td>\n",
       "      <td>RUB</td>\n",
       "      <td>774.0</td>\n",
       "    </tr>\n",
       "    <tr>\n",
       "      <th>60b7a5b1061c76d775455517</th>\n",
       "      <td>http://gpn-audit.nemosoft.ru/#/audit/edit/60b7...</td>\n",
       "      <td>2.3.14</td>\n",
       "      <td>NaN</td>\n",
       "      <td>NaN</td>\n",
       "      <td>NaN</td>\n",
       "      <td>NaN</td>\n",
       "      <td>Service</td>\n",
       "      <td>1.846700e+08</td>\n",
       "      <td>NaT</td>\n",
       "      <td>2021-06-05 16:36:09.054</td>\n",
       "      <td>50f010a37f21887b6d0242450c310cdb</td>\n",
       "      <td>2021-07-29 14:40:00.388647</td>\n",
       "      <td>NaN</td>\n",
       "      <td>19.034081</td>\n",
       "      <td>75.0</td>\n",
       "      <td>NaN</td>\n",
       "      <td>RUB</td>\n",
       "      <td>1062.0</td>\n",
       "    </tr>\n",
       "    <tr>\n",
       "      <th>60b7a5b1061c76d77545551e</th>\n",
       "      <td>http://gpn-audit.nemosoft.ru/#/audit/edit/60b7...</td>\n",
       "      <td>2.3.14</td>\n",
       "      <td>NaN</td>\n",
       "      <td>NaN</td>\n",
       "      <td>NaN</td>\n",
       "      <td>NaN</td>\n",
       "      <td>NaN</td>\n",
       "      <td>2.969460e+07</td>\n",
       "      <td>2021-08-25 14:15:51.680</td>\n",
       "      <td>2021-06-05 16:41:37.040</td>\n",
       "      <td>b14d88a9f8c9c698e7119e3c722267e2</td>\n",
       "      <td>2021-10-20 13:21:38.682880</td>\n",
       "      <td>NaN</td>\n",
       "      <td>17.206476</td>\n",
       "      <td>108.0</td>\n",
       "      <td>NaN</td>\n",
       "      <td>RUB</td>\n",
       "      <td>311.0</td>\n",
       "    </tr>\n",
       "    <tr>\n",
       "      <th>60b7a59a061c76d775455383</th>\n",
       "      <td>http://gpn-audit.nemosoft.ru/#/audit/edit/60b7...</td>\n",
       "      <td>2.3.14</td>\n",
       "      <td>NaN</td>\n",
       "      <td>NaN</td>\n",
       "      <td>NaN</td>\n",
       "      <td>NaN</td>\n",
       "      <td>Service</td>\n",
       "      <td>5.000000e+05</td>\n",
       "      <td>NaT</td>\n",
       "      <td>2021-06-05 10:03:03.705</td>\n",
       "      <td>2d78ec018ce5f8e710f0399e15a0f25f</td>\n",
       "      <td>2021-07-29 14:39:13.808920</td>\n",
       "      <td>NaN</td>\n",
       "      <td>13.122365</td>\n",
       "      <td>345.0</td>\n",
       "      <td>NaN</td>\n",
       "      <td>RUB</td>\n",
       "      <td>374.0</td>\n",
       "    </tr>\n",
       "    <tr>\n",
       "      <th>...</th>\n",
       "      <td>...</td>\n",
       "      <td>...</td>\n",
       "      <td>...</td>\n",
       "      <td>...</td>\n",
       "      <td>...</td>\n",
       "      <td>...</td>\n",
       "      <td>...</td>\n",
       "      <td>...</td>\n",
       "      <td>...</td>\n",
       "      <td>...</td>\n",
       "      <td>...</td>\n",
       "      <td>...</td>\n",
       "      <td>...</td>\n",
       "      <td>...</td>\n",
       "      <td>...</td>\n",
       "      <td>...</td>\n",
       "      <td>...</td>\n",
       "      <td>...</td>\n",
       "    </tr>\n",
       "    <tr>\n",
       "      <th>6167d79187f1d9065bb8b94b</th>\n",
       "      <td>NaN</td>\n",
       "      <td>2.5.0</td>\n",
       "      <td>газпром нефть</td>\n",
       "      <td>тюльпан</td>\n",
       "      <td>заказчик</td>\n",
       "      <td>исполнитель</td>\n",
       "      <td>Service</td>\n",
       "      <td>NaN</td>\n",
       "      <td>2021-10-14 07:21:37.988</td>\n",
       "      <td>2021-10-14 10:12:40.413</td>\n",
       "      <td>88fc45d9053c41b2ab7dc5d8c65f1bb3</td>\n",
       "      <td>2021-10-20 13:23:54.968399</td>\n",
       "      <td>1.000000</td>\n",
       "      <td>NaN</td>\n",
       "      <td>NaN</td>\n",
       "      <td>NaN</td>\n",
       "      <td>NaN</td>\n",
       "      <td>7226.0</td>\n",
       "    </tr>\n",
       "    <tr>\n",
       "      <th>6167d81a87f1d9065bb8b950</th>\n",
       "      <td>NaN</td>\n",
       "      <td>2.5.0</td>\n",
       "      <td>газпром нефть</td>\n",
       "      <td>гладиолус</td>\n",
       "      <td>заказчик</td>\n",
       "      <td>исполнитель</td>\n",
       "      <td>Service</td>\n",
       "      <td>1.200000e+04</td>\n",
       "      <td>NaT</td>\n",
       "      <td>2021-10-14 10:15:24.709</td>\n",
       "      <td>0e12ea6bd5faf366fce0c9e0a24d4565</td>\n",
       "      <td>2021-10-20 13:23:55.441982</td>\n",
       "      <td>0.945099</td>\n",
       "      <td>9.392745</td>\n",
       "      <td>3595.0</td>\n",
       "      <td>NaN</td>\n",
       "      <td>RUB</td>\n",
       "      <td>4238.0</td>\n",
       "    </tr>\n",
       "    <tr>\n",
       "      <th>6167e45b87f1d9065bb8b953</th>\n",
       "      <td>NaN</td>\n",
       "      <td>2.5.0</td>\n",
       "      <td>газпром нефть</td>\n",
       "      <td>хризантема</td>\n",
       "      <td>эмитент</td>\n",
       "      <td>регистратор</td>\n",
       "      <td>Service</td>\n",
       "      <td>NaN</td>\n",
       "      <td>NaT</td>\n",
       "      <td>2021-10-14 11:06:06.967</td>\n",
       "      <td>12a420134f2a47ac5a61e6fa83b64969</td>\n",
       "      <td>2021-10-20 13:23:55.924223</td>\n",
       "      <td>0.996957</td>\n",
       "      <td>NaN</td>\n",
       "      <td>NaN</td>\n",
       "      <td>NaN</td>\n",
       "      <td>NaN</td>\n",
       "      <td>3937.0</td>\n",
       "    </tr>\n",
       "    <tr>\n",
       "      <th>6167e8ea87f1d9065bb8b956</th>\n",
       "      <td>NaN</td>\n",
       "      <td>2.5.0</td>\n",
       "      <td>сибирская нефтяная компания</td>\n",
       "      <td>специализированный регистратор - держатель рее...</td>\n",
       "      <td>эмитент</td>\n",
       "      <td>регистратор</td>\n",
       "      <td>Service</td>\n",
       "      <td>NaN</td>\n",
       "      <td>2021-10-14 09:39:52.493</td>\n",
       "      <td>2021-10-14 11:26:01.673</td>\n",
       "      <td>23594ee3e50c4ae3f31ba2972de6b915</td>\n",
       "      <td>2021-10-20 13:23:56.851262</td>\n",
       "      <td>1.000000</td>\n",
       "      <td>NaN</td>\n",
       "      <td>NaN</td>\n",
       "      <td>NaN</td>\n",
       "      <td>NaN</td>\n",
       "      <td>5956.0</td>\n",
       "    </tr>\n",
       "    <tr>\n",
       "      <th>6167fd1a87f1d9065bb8b95e</th>\n",
       "      <td>NaN</td>\n",
       "      <td>2.5.0</td>\n",
       "      <td>сибирская нефтяная компания</td>\n",
       "      <td>специализированный регистратор - держатель рее...</td>\n",
       "      <td>эмитент</td>\n",
       "      <td>регистратор</td>\n",
       "      <td>Service</td>\n",
       "      <td>NaN</td>\n",
       "      <td>2021-10-14 09:52:10.084</td>\n",
       "      <td>2021-10-14 12:49:55.973</td>\n",
       "      <td>23594ee3e50c4ae3f31ba2972de6b915</td>\n",
       "      <td>2021-10-20 13:23:57.701963</td>\n",
       "      <td>1.000000</td>\n",
       "      <td>NaN</td>\n",
       "      <td>NaN</td>\n",
       "      <td>NaN</td>\n",
       "      <td>NaN</td>\n",
       "      <td>5956.0</td>\n",
       "    </tr>\n",
       "  </tbody>\n",
       "</table>\n",
       "<p>2843 rows × 18 columns</p>\n",
       "</div>"
      ],
      "text/plain": [
       "                                                                        url  \\\n",
       "60b7a55b061c76d77545505a  http://gpn-audit.nemosoft.ru/#/audit/edit/60b7...   \n",
       "60b7a4cc061c76d7754546b0  http://gpn-audit.nemosoft.ru/#/audit/edit/60b7...   \n",
       "60b7a5b1061c76d775455517  http://gpn-audit.nemosoft.ru/#/audit/edit/60b7...   \n",
       "60b7a5b1061c76d77545551e  http://gpn-audit.nemosoft.ru/#/audit/edit/60b7...   \n",
       "60b7a59a061c76d775455383  http://gpn-audit.nemosoft.ru/#/audit/edit/60b7...   \n",
       "...                                                                     ...   \n",
       "6167d79187f1d9065bb8b94b                                                NaN   \n",
       "6167d81a87f1d9065bb8b950                                                NaN   \n",
       "6167e45b87f1d9065bb8b953                                                NaN   \n",
       "6167e8ea87f1d9065bb8b956                                                NaN   \n",
       "6167fd1a87f1d9065bb8b95e                                                NaN   \n",
       "\n",
       "                         version                   org-1-name  \\\n",
       "60b7a55b061c76d77545505a  2.3.14                          NaN   \n",
       "60b7a4cc061c76d7754546b0  2.3.14                          NaN   \n",
       "60b7a5b1061c76d775455517  2.3.14                          NaN   \n",
       "60b7a5b1061c76d77545551e  2.3.14                          NaN   \n",
       "60b7a59a061c76d775455383  2.3.14                          NaN   \n",
       "...                          ...                          ...   \n",
       "6167d79187f1d9065bb8b94b   2.5.0                газпром нефть   \n",
       "6167d81a87f1d9065bb8b950   2.5.0                газпром нефть   \n",
       "6167e45b87f1d9065bb8b953   2.5.0                газпром нефть   \n",
       "6167e8ea87f1d9065bb8b956   2.5.0  сибирская нефтяная компания   \n",
       "6167fd1a87f1d9065bb8b95e   2.5.0  сибирская нефтяная компания   \n",
       "\n",
       "                                                                 org-2-name  \\\n",
       "60b7a55b061c76d77545505a                                                NaN   \n",
       "60b7a4cc061c76d7754546b0                                                NaN   \n",
       "60b7a5b1061c76d775455517                                                NaN   \n",
       "60b7a5b1061c76d77545551e                                                NaN   \n",
       "60b7a59a061c76d775455383                                                NaN   \n",
       "...                                                                     ...   \n",
       "6167d79187f1d9065bb8b94b                                            тюльпан   \n",
       "6167d81a87f1d9065bb8b950                                          гладиолус   \n",
       "6167e45b87f1d9065bb8b953                                         хризантема   \n",
       "6167e8ea87f1d9065bb8b956  специализированный регистратор - держатель рее...   \n",
       "6167fd1a87f1d9065bb8b95e  специализированный регистратор - держатель рее...   \n",
       "\n",
       "                         org-1-alias  org-2-alias  subject         value  \\\n",
       "60b7a55b061c76d77545505a         NaN          NaN  Service  7.000000e+08   \n",
       "60b7a4cc061c76d7754546b0         NaN          NaN     Deal  4.285374e+08   \n",
       "60b7a5b1061c76d775455517         NaN          NaN  Service  1.846700e+08   \n",
       "60b7a5b1061c76d77545551e         NaN          NaN      NaN  2.969460e+07   \n",
       "60b7a59a061c76d775455383         NaN          NaN  Service  5.000000e+05   \n",
       "...                              ...          ...      ...           ...   \n",
       "6167d79187f1d9065bb8b94b    заказчик  исполнитель  Service           NaN   \n",
       "6167d81a87f1d9065bb8b950    заказчик  исполнитель  Service  1.200000e+04   \n",
       "6167e45b87f1d9065bb8b953     эмитент  регистратор  Service           NaN   \n",
       "6167e8ea87f1d9065bb8b956     эмитент  регистратор  Service           NaN   \n",
       "6167fd1a87f1d9065bb8b95e     эмитент  регистратор  Service           NaN   \n",
       "\n",
       "                            user_correction_date            analyze_date  \\\n",
       "60b7a55b061c76d77545505a 2021-07-29 08:56:09.177 2021-06-04 21:39:30.461   \n",
       "60b7a4cc061c76d7754546b0 2021-07-29 09:05:58.705 2021-06-03 06:10:15.320   \n",
       "60b7a5b1061c76d775455517                     NaT 2021-06-05 16:36:09.054   \n",
       "60b7a5b1061c76d77545551e 2021-08-25 14:15:51.680 2021-06-05 16:41:37.040   \n",
       "60b7a59a061c76d775455383                     NaT 2021-06-05 10:03:03.705   \n",
       "...                                          ...                     ...   \n",
       "6167d79187f1d9065bb8b94b 2021-10-14 07:21:37.988 2021-10-14 10:12:40.413   \n",
       "6167d81a87f1d9065bb8b950                     NaT 2021-10-14 10:15:24.709   \n",
       "6167e45b87f1d9065bb8b953                     NaT 2021-10-14 11:06:06.967   \n",
       "6167e8ea87f1d9065bb8b956 2021-10-14 09:39:52.493 2021-10-14 11:26:01.673   \n",
       "6167fd1a87f1d9065bb8b95e 2021-10-14 09:52:10.084 2021-10-14 12:49:55.973   \n",
       "\n",
       "                                                  checksum  \\\n",
       "60b7a55b061c76d77545505a  51064791f578e6b4ba62f717a09832db   \n",
       "60b7a4cc061c76d7754546b0  1775ac8122d39314d9d8c7e8c0c03437   \n",
       "60b7a5b1061c76d775455517  50f010a37f21887b6d0242450c310cdb   \n",
       "60b7a5b1061c76d77545551e  b14d88a9f8c9c698e7119e3c722267e2   \n",
       "60b7a59a061c76d775455383  2d78ec018ce5f8e710f0399e15a0f25f   \n",
       "...                                                    ...   \n",
       "6167d79187f1d9065bb8b94b  88fc45d9053c41b2ab7dc5d8c65f1bb3   \n",
       "6167d81a87f1d9065bb8b950  0e12ea6bd5faf366fce0c9e0a24d4565   \n",
       "6167e45b87f1d9065bb8b953  12a420134f2a47ac5a61e6fa83b64969   \n",
       "6167e8ea87f1d9065bb8b956  23594ee3e50c4ae3f31ba2972de6b915   \n",
       "6167fd1a87f1d9065bb8b95e  23594ee3e50c4ae3f31ba2972de6b915   \n",
       "\n",
       "                                         export_date  subject confidence  \\\n",
       "60b7a55b061c76d77545505a  2021-07-29 14:20:27.093368                 NaN   \n",
       "60b7a4cc061c76d7754546b0  2021-07-29 14:20:25.189336                 NaN   \n",
       "60b7a5b1061c76d775455517  2021-07-29 14:40:00.388647                 NaN   \n",
       "60b7a5b1061c76d77545551e  2021-10-20 13:21:38.682880                 NaN   \n",
       "60b7a59a061c76d775455383  2021-07-29 14:39:13.808920                 NaN   \n",
       "...                                              ...                 ...   \n",
       "6167d79187f1d9065bb8b94b  2021-10-20 13:23:54.968399            1.000000   \n",
       "6167d81a87f1d9065bb8b950  2021-10-20 13:23:55.441982            0.945099   \n",
       "6167e45b87f1d9065bb8b953  2021-10-20 13:23:55.924223            0.996957   \n",
       "6167e8ea87f1d9065bb8b956  2021-10-20 13:23:56.851262            1.000000   \n",
       "6167fd1a87f1d9065bb8b95e  2021-10-20 13:23:57.701963            1.000000   \n",
       "\n",
       "                          value_log1p  value_span  valid currency     len  \n",
       "60b7a55b061c76d77545505a    20.366591      1218.0  False      RUB  4088.0  \n",
       "60b7a4cc061c76d7754546b0    19.875888       563.0    NaN      RUB   774.0  \n",
       "60b7a5b1061c76d775455517    19.034081        75.0    NaN      RUB  1062.0  \n",
       "60b7a5b1061c76d77545551e    17.206476       108.0    NaN      RUB   311.0  \n",
       "60b7a59a061c76d775455383    13.122365       345.0    NaN      RUB   374.0  \n",
       "...                               ...         ...    ...      ...     ...  \n",
       "6167d79187f1d9065bb8b94b          NaN         NaN    NaN      NaN  7226.0  \n",
       "6167d81a87f1d9065bb8b950     9.392745      3595.0    NaN      RUB  4238.0  \n",
       "6167e45b87f1d9065bb8b953          NaN         NaN    NaN      NaN  3937.0  \n",
       "6167e8ea87f1d9065bb8b956          NaN         NaN    NaN      NaN  5956.0  \n",
       "6167fd1a87f1d9065bb8b95e          NaN         NaN    NaN      NaN  5956.0  \n",
       "\n",
       "[2843 rows x 18 columns]"
      ]
     },
     "execution_count": 155,
     "metadata": {},
     "output_type": "execute_result"
    }
   ],
   "source": [
    "stats2 = stats.copy()\n",
    "stats2['org-2-alias'] = stats2['org-2-alias'].str.lower()\n",
    "stats2['org-1-alias'] = stats2['org-1-alias'].str.lower()\n",
    "stats2['org-1-name'] = stats2['org-1-name'].str.lower()\n",
    "stats2['org-2-name'] = stats2['org-2-name'].str.lower()\n",
    "stats2"
   ]
  },
  {
   "cell_type": "code",
   "execution_count": 156,
   "id": "05733268-ba37-4545-aa59-e45c7f11ff6c",
   "metadata": {
    "papermill": {
     "duration": 0.01442,
     "end_time": "2021-08-03T13:00:15.190797",
     "exception": false,
     "start_time": "2021-08-03T13:00:15.176377",
     "status": "completed"
    },
    "tags": []
   },
   "outputs": [
    {
     "data": {
      "text/plain": [
       "Service                              1272\n",
       "Deal                                  483\n",
       "GeneralContract                       127\n",
       "Renting                               119\n",
       "Loans                                  95\n",
       "AgencyContract                         65\n",
       "Insurance                              47\n",
       "DealIntellectualProperty               39\n",
       "RealEstate                             38\n",
       "Charity                                36\n",
       "RealEstateTransactions                 25\n",
       "PledgeEncumbrance                       6\n",
       "BigDeal                                 6\n",
       "BankGuarantees                          6\n",
       "ParticipationInOtherOrganizations       5\n",
       "Other                                   3\n",
       "AssetTransactions                       1\n",
       "DecisionsForSubsidiary                  1\n",
       "Name: subject, dtype: int64"
      ]
     },
     "execution_count": 156,
     "metadata": {},
     "output_type": "execute_result"
    }
   ],
   "source": [
    "stats2['subject'].value_counts()"
   ]
  },
  {
   "cell_type": "code",
   "execution_count": 157,
   "id": "0891e080",
   "metadata": {
    "papermill": {
     "duration": 0.013939,
     "end_time": "2021-08-03T13:00:15.214522",
     "exception": false,
     "start_time": "2021-08-03T13:00:15.200583",
     "status": "completed"
    },
    "tags": []
   },
   "outputs": [
    {
     "data": {
      "text/plain": [
       "заказчик                 821\n",
       "исполнитель              472\n",
       "покупатель               337\n",
       "продавец                  90\n",
       "поставщик                 85\n",
       "                        ... \n",
       "газпромнефть-терминал      1\n",
       "лицензии                   1\n",
       "заказии                    1\n",
       "владелец свх               1\n",
       "гпн                        1\n",
       "Name: org-1-alias, Length: 75, dtype: int64"
      ]
     },
     "execution_count": 157,
     "metadata": {},
     "output_type": "execute_result"
    }
   ],
   "source": [
    "stats2['org-1-alias'].value_counts()"
   ]
  },
  {
   "cell_type": "code",
   "execution_count": 158,
   "id": "26686529",
   "metadata": {
    "papermill": {
     "duration": 0.0139,
     "end_time": "2021-08-03T13:00:15.238324",
     "exception": false,
     "start_time": "2021-08-03T13:00:15.224424",
     "status": "completed"
    },
    "tags": []
   },
   "outputs": [
    {
     "data": {
      "text/plain": [
       "исполнитель      682\n",
       "заказчик         507\n",
       "поставщик        288\n",
       "покупатель       174\n",
       "подрядчик        136\n",
       "                ... \n",
       "газпром нефть      1\n",
       "субподрядчик       1\n",
       "весна              1\n",
       "компания           1\n",
       "жертвователь       1\n",
       "Name: org-2-alias, Length: 70, dtype: int64"
      ]
     },
     "execution_count": 158,
     "metadata": {},
     "output_type": "execute_result"
    }
   ],
   "source": [
    "stats2['org-2-alias'].value_counts()"
   ]
  },
  {
   "cell_type": "code",
   "execution_count": 159,
   "id": "a08ae79a",
   "metadata": {
    "papermill": {
     "duration": 0.724846,
     "end_time": "2021-08-03T13:00:15.973278",
     "exception": false,
     "start_time": "2021-08-03T13:00:15.248432",
     "status": "completed"
    },
    "tags": []
   },
   "outputs": [
    {
     "data": {
      "text/html": [
       "<div>\n",
       "<style scoped>\n",
       "    .dataframe tbody tr th:only-of-type {\n",
       "        vertical-align: middle;\n",
       "    }\n",
       "\n",
       "    .dataframe tbody tr th {\n",
       "        vertical-align: top;\n",
       "    }\n",
       "\n",
       "    .dataframe thead th {\n",
       "        text-align: right;\n",
       "    }\n",
       "</style>\n",
       "<table border=\"1\" class=\"dataframe\">\n",
       "  <thead>\n",
       "    <tr style=\"text-align: right;\">\n",
       "      <th></th>\n",
       "      <th>url</th>\n",
       "      <th>version</th>\n",
       "      <th>org-1-name</th>\n",
       "      <th>org-2-name</th>\n",
       "      <th>org-1-alias</th>\n",
       "      <th>org-2-alias</th>\n",
       "      <th>subject</th>\n",
       "      <th>value</th>\n",
       "      <th>user_correction_date</th>\n",
       "      <th>analyze_date</th>\n",
       "      <th>checksum</th>\n",
       "      <th>export_date</th>\n",
       "      <th>subject confidence</th>\n",
       "      <th>value_log1p</th>\n",
       "      <th>value_span</th>\n",
       "      <th>valid</th>\n",
       "      <th>currency</th>\n",
       "      <th>len</th>\n",
       "      <th>unseen</th>\n",
       "      <th>score</th>\n",
       "    </tr>\n",
       "  </thead>\n",
       "  <tbody>\n",
       "    <tr>\n",
       "      <th>5fe34f63b770574a005553db</th>\n",
       "      <td>http://gpn-audit.nemosoft.ru/#/audit/edit/5fe3...</td>\n",
       "      <td>2.3.13</td>\n",
       "      <td>газпромнефть-снабжение</td>\n",
       "      <td>эта</td>\n",
       "      <td>залогодатель</td>\n",
       "      <td>залогодержатель</td>\n",
       "      <td>PledgeEncumbrance</td>\n",
       "      <td>6.000000e+07</td>\n",
       "      <td>2021-07-22 09:19:27.348</td>\n",
       "      <td>2020-12-23 17:14:31.820</td>\n",
       "      <td>b42ed28b9a72f51612db24cbd7b7a4f0</td>\n",
       "      <td>2021-07-29 14:20:42.942401</td>\n",
       "      <td>NaN</td>\n",
       "      <td>17.909855</td>\n",
       "      <td>160.0</td>\n",
       "      <td>NaN</td>\n",
       "      <td>NaN</td>\n",
       "      <td>2386.0</td>\n",
       "      <td>False</td>\n",
       "      <td>0.576329</td>\n",
       "    </tr>\n",
       "    <tr>\n",
       "      <th>5ec2b8d9665f7603e03b1238</th>\n",
       "      <td>http://gpn-audit.nemosoft.ru/#/audit/edit/5ec2...</td>\n",
       "      <td>2.3.14</td>\n",
       "      <td>газпромнефть-региональные продажи</td>\n",
       "      <td>нептун</td>\n",
       "      <td>залогодатель</td>\n",
       "      <td>залогодержатель</td>\n",
       "      <td>PledgeEncumbrance</td>\n",
       "      <td>6.000000e+07</td>\n",
       "      <td>2020-05-21 15:27:48.922</td>\n",
       "      <td>2020-05-21 15:29:00.410</td>\n",
       "      <td>7e9e0a5f729f876a5b3055de5076db9d</td>\n",
       "      <td>2021-07-29 14:23:59.738433</td>\n",
       "      <td>NaN</td>\n",
       "      <td>17.909855</td>\n",
       "      <td>169.0</td>\n",
       "      <td>NaN</td>\n",
       "      <td>RUB</td>\n",
       "      <td>2395.0</td>\n",
       "      <td>False</td>\n",
       "      <td>0.576329</td>\n",
       "    </tr>\n",
       "    <tr>\n",
       "      <th>5ec2b8da665f7603e03b127d</th>\n",
       "      <td>http://gpn-audit.nemosoft.ru/#/audit/edit/5ec2...</td>\n",
       "      <td>2.3.14</td>\n",
       "      <td>сбербанк россии</td>\n",
       "      <td>оск</td>\n",
       "      <td>кредитор</td>\n",
       "      <td>проект</td>\n",
       "      <td>Renting</td>\n",
       "      <td>1.394400e+10</td>\n",
       "      <td>2020-09-10 11:10:15.402</td>\n",
       "      <td>2020-09-10 11:10:43.308</td>\n",
       "      <td>6d075df102717d0a1291facdb16ae21e</td>\n",
       "      <td>2021-07-29 14:23:55.661347</td>\n",
       "      <td>NaN</td>\n",
       "      <td>23.358315</td>\n",
       "      <td>313.0</td>\n",
       "      <td>NaN</td>\n",
       "      <td>RUB</td>\n",
       "      <td>12174.0</td>\n",
       "      <td>False</td>\n",
       "      <td>0.685942</td>\n",
       "    </tr>\n",
       "    <tr>\n",
       "      <th>60b7a58e061c76d77545526f</th>\n",
       "      <td>http://gpn-audit.nemosoft.ru/#/audit/edit/60b7...</td>\n",
       "      <td>2.3.14</td>\n",
       "      <td>газпромнефть-каталитические системы</td>\n",
       "      <td>газпромбанк</td>\n",
       "      <td>приказодатель</td>\n",
       "      <td>банк</td>\n",
       "      <td>Loans</td>\n",
       "      <td>3.130200e+06</td>\n",
       "      <td>2021-07-31 15:43:37.710</td>\n",
       "      <td>2021-06-05 06:22:34.302</td>\n",
       "      <td>12a28c1f993034480f13fd437253452c</td>\n",
       "      <td>2021-07-31 18:47:45.790842</td>\n",
       "      <td>NaN</td>\n",
       "      <td>14.956608</td>\n",
       "      <td>186.0</td>\n",
       "      <td>NaN</td>\n",
       "      <td>EURO</td>\n",
       "      <td>5573.0</td>\n",
       "      <td>False</td>\n",
       "      <td>1.394334</td>\n",
       "    </tr>\n",
       "    <tr>\n",
       "      <th>60b7a4c3061c76d7754545e3</th>\n",
       "      <td>http://gpn-audit.nemosoft.ru/#/audit/edit/60b7...</td>\n",
       "      <td>2.3.14</td>\n",
       "      <td>газпромнефть-аэро брянск</td>\n",
       "      <td>газпромнефть-аэро</td>\n",
       "      <td>субсубарендатор</td>\n",
       "      <td>субарендатор</td>\n",
       "      <td>Renting</td>\n",
       "      <td>1.080000e+04</td>\n",
       "      <td>2021-07-23 12:29:19.231</td>\n",
       "      <td>2021-06-03 03:28:32.872</td>\n",
       "      <td>94f0763cb517ebf7bcf1bcb4ba009e08</td>\n",
       "      <td>2021-07-29 14:20:31.404607</td>\n",
       "      <td>NaN</td>\n",
       "      <td>9.287394</td>\n",
       "      <td>406.0</td>\n",
       "      <td>NaN</td>\n",
       "      <td>NaN</td>\n",
       "      <td>2276.0</td>\n",
       "      <td>False</td>\n",
       "      <td>1.725183</td>\n",
       "    </tr>\n",
       "    <tr>\n",
       "      <th>60b7a4c3061c76d7754545da</th>\n",
       "      <td>http://gpn-audit.nemosoft.ru/#/audit/edit/60b7...</td>\n",
       "      <td>2.3.14</td>\n",
       "      <td>газпромнефть-аэро брянск</td>\n",
       "      <td>газпромнефть-ангара</td>\n",
       "      <td>управляемая организация</td>\n",
       "      <td>управляющая организация</td>\n",
       "      <td>Service</td>\n",
       "      <td>5.000000e+04</td>\n",
       "      <td>2021-06-22 13:40:54.455</td>\n",
       "      <td>2021-06-03 03:18:14.469</td>\n",
       "      <td>407261fdff9a7a1156a2e909c57311dd</td>\n",
       "      <td>2021-07-29 14:21:22.701427</td>\n",
       "      <td>NaN</td>\n",
       "      <td>10.819798</td>\n",
       "      <td>1240.0</td>\n",
       "      <td>NaN</td>\n",
       "      <td>NaN</td>\n",
       "      <td>2107.0</td>\n",
       "      <td>False</td>\n",
       "      <td>1.904743</td>\n",
       "    </tr>\n",
       "    <tr>\n",
       "      <th>60002adfb08473039387bcae</th>\n",
       "      <td>http://gpn-audit.nemosoft.ru/#/audit/edit/6000...</td>\n",
       "      <td>2.3.14</td>\n",
       "      <td>газпромнефть-снабжение</td>\n",
       "      <td>газпром нефть</td>\n",
       "      <td>правообладатель</td>\n",
       "      <td>приобретатель</td>\n",
       "      <td>Deal</td>\n",
       "      <td>4.400005e+07</td>\n",
       "      <td>2021-07-20 07:47:49.711</td>\n",
       "      <td>2021-01-14 14:29:31.907</td>\n",
       "      <td>772ba956e0729d7fee4509c818ae33f5</td>\n",
       "      <td>2021-07-29 14:21:13.540871</td>\n",
       "      <td>NaN</td>\n",
       "      <td>17.599701</td>\n",
       "      <td>430.0</td>\n",
       "      <td>NaN</td>\n",
       "      <td>NaN</td>\n",
       "      <td>1511.0</td>\n",
       "      <td>False</td>\n",
       "      <td>2.074317</td>\n",
       "    </tr>\n",
       "    <tr>\n",
       "      <th>612cdb20ea1085618e02ff0f</th>\n",
       "      <td>http://gpn-audit.nemosoft.ru/#/audit/edit/612c...</td>\n",
       "      <td>2.4.4</td>\n",
       "      <td>газпром нефть</td>\n",
       "      <td>новатэк</td>\n",
       "      <td>продавец</td>\n",
       "      <td>покупатель</td>\n",
       "      <td>DecisionsForSubsidiary</td>\n",
       "      <td>1.593133e+09</td>\n",
       "      <td>2021-10-20 10:33:35.109</td>\n",
       "      <td>2021-08-31 11:41:52.908</td>\n",
       "      <td>964e297a3b12fcb1ab0a05fc8a7a2ed1</td>\n",
       "      <td>2021-10-20 19:02:51.328300</td>\n",
       "      <td>1.0</td>\n",
       "      <td>21.188968</td>\n",
       "      <td>2751.0</td>\n",
       "      <td>NaN</td>\n",
       "      <td>RUB</td>\n",
       "      <td>11862.0</td>\n",
       "      <td>False</td>\n",
       "      <td>2.286381</td>\n",
       "    </tr>\n",
       "    <tr>\n",
       "      <th>60b7a4c4061c76d7754545fd</th>\n",
       "      <td>http://gpn-audit.nemosoft.ru/#/audit/edit/60b7...</td>\n",
       "      <td>2.3.14</td>\n",
       "      <td>газпромбанк</td>\n",
       "      <td>газпромнефть-каталитические системы</td>\n",
       "      <td>банк</td>\n",
       "      <td>приказодатель</td>\n",
       "      <td>Loans</td>\n",
       "      <td>3.000000e+09</td>\n",
       "      <td>2021-06-22 12:58:36.232</td>\n",
       "      <td>2021-06-03 03:43:10.319</td>\n",
       "      <td>25d924fc09b7291d964f464f9c3ec8c3</td>\n",
       "      <td>2021-07-29 14:21:24.874757</td>\n",
       "      <td>NaN</td>\n",
       "      <td>21.821878</td>\n",
       "      <td>337.0</td>\n",
       "      <td>NaN</td>\n",
       "      <td>RUB</td>\n",
       "      <td>8535.0</td>\n",
       "      <td>False</td>\n",
       "      <td>2.355700</td>\n",
       "    </tr>\n",
       "    <tr>\n",
       "      <th>5fc7a031c54bc33809e2617d</th>\n",
       "      <td>http://gpn-audit.nemosoft.ru/#/audit/edit/5fc7...</td>\n",
       "      <td>2.3.14</td>\n",
       "      <td>газпромнефть-оренбург</td>\n",
       "      <td>газпром нефть</td>\n",
       "      <td>продавец</td>\n",
       "      <td>покупатель</td>\n",
       "      <td>AssetTransactions</td>\n",
       "      <td>6.900000e+08</td>\n",
       "      <td>2020-12-19 14:37:04.140</td>\n",
       "      <td>2020-12-19 17:37:19.860</td>\n",
       "      <td>78cdeaf637236f64e5ed7f97d78c2a27</td>\n",
       "      <td>2021-07-29 14:21:48.496845</td>\n",
       "      <td>NaN</td>\n",
       "      <td>20.352202</td>\n",
       "      <td>638.0</td>\n",
       "      <td>NaN</td>\n",
       "      <td>RUB</td>\n",
       "      <td>3267.0</td>\n",
       "      <td>False</td>\n",
       "      <td>2.380384</td>\n",
       "    </tr>\n",
       "    <tr>\n",
       "      <th>5fbf75af5d05d73d0295fa99</th>\n",
       "      <td>http://gpn-audit.nemosoft.ru/#/audit/edit/5fbf...</td>\n",
       "      <td>2.3.14</td>\n",
       "      <td>газпромнефть-заполярье</td>\n",
       "      <td>газпром добыча оренбург</td>\n",
       "      <td>субарендатор</td>\n",
       "      <td>субарендодатель</td>\n",
       "      <td>Deal</td>\n",
       "      <td>8.696370e+05</td>\n",
       "      <td>2020-11-26 12:59:58.596</td>\n",
       "      <td>2020-11-26 13:00:29.583</td>\n",
       "      <td>9f0be084f7a24f3b408dd5baf95195c3</td>\n",
       "      <td>2021-07-29 14:23:17.174366</td>\n",
       "      <td>NaN</td>\n",
       "      <td>13.675832</td>\n",
       "      <td>549.0</td>\n",
       "      <td>NaN</td>\n",
       "      <td>RUB</td>\n",
       "      <td>3265.0</td>\n",
       "      <td>False</td>\n",
       "      <td>2.397845</td>\n",
       "    </tr>\n",
       "    <tr>\n",
       "      <th>5fc7a034c54bc33809e261a8</th>\n",
       "      <td>http://gpn-audit.nemosoft.ru/#/audit/edit/5fc7...</td>\n",
       "      <td>2.3.14</td>\n",
       "      <td>газпромнефть-оренбург</td>\n",
       "      <td>ноябрьскнефтегазсвязь</td>\n",
       "      <td>сторона 2</td>\n",
       "      <td>сторона 1</td>\n",
       "      <td>DealIntellectualProperty</td>\n",
       "      <td>5.551650e+03</td>\n",
       "      <td>2021-07-30 09:56:40.050</td>\n",
       "      <td>2020-12-02 14:26:35.267</td>\n",
       "      <td>a8480e06e4cb16d8a2069b11b64b68f6</td>\n",
       "      <td>2021-07-30 13:13:23.948618</td>\n",
       "      <td>NaN</td>\n",
       "      <td>8.622031</td>\n",
       "      <td>507.0</td>\n",
       "      <td>NaN</td>\n",
       "      <td>RUB</td>\n",
       "      <td>4812.0</td>\n",
       "      <td>False</td>\n",
       "      <td>2.466704</td>\n",
       "    </tr>\n",
       "    <tr>\n",
       "      <th>5fca2aae9083b679224c7614</th>\n",
       "      <td>http://gpn-audit.nemosoft.ru/#/audit/edit/5fca...</td>\n",
       "      <td>2.0.5</td>\n",
       "      <td>газпромнефть-оренбург</td>\n",
       "      <td>ноябрьскнефтегазсвязь</td>\n",
       "      <td>сторона 2</td>\n",
       "      <td>сторона 1</td>\n",
       "      <td>DealIntellectualProperty</td>\n",
       "      <td>5.551000e+03</td>\n",
       "      <td>2021-10-20 10:31:33.400</td>\n",
       "      <td>2020-12-10 09:16:59.672</td>\n",
       "      <td>d72b4a8533d4f1badede50d142e6a207</td>\n",
       "      <td>2021-10-20 19:02:48.878597</td>\n",
       "      <td>1.0</td>\n",
       "      <td>8.621914</td>\n",
       "      <td>310.0</td>\n",
       "      <td>NaN</td>\n",
       "      <td>RUB</td>\n",
       "      <td>4615.0</td>\n",
       "      <td>False</td>\n",
       "      <td>2.466738</td>\n",
       "    </tr>\n",
       "    <tr>\n",
       "      <th>5fca2aac9083b679224c75fc</th>\n",
       "      <td>http://gpn-audit.nemosoft.ru/#/audit/edit/5fca...</td>\n",
       "      <td>2.3.14</td>\n",
       "      <td>газпромнефть-оренбург</td>\n",
       "      <td>газпром нефть  (пао  газпром нефть</td>\n",
       "      <td>заемщик»</td>\n",
       "      <td>займодавец</td>\n",
       "      <td>Loans</td>\n",
       "      <td>1.000000e+09</td>\n",
       "      <td>2020-12-10 08:15:21.375</td>\n",
       "      <td>2020-12-10 08:15:42.402</td>\n",
       "      <td>0ceaba285ca6af7afe9ed714e812f3f8</td>\n",
       "      <td>2021-07-29 14:22:50.035256</td>\n",
       "      <td>NaN</td>\n",
       "      <td>20.723266</td>\n",
       "      <td>179.0</td>\n",
       "      <td>NaN</td>\n",
       "      <td>RUB</td>\n",
       "      <td>1343.0</td>\n",
       "      <td>False</td>\n",
       "      <td>2.659437</td>\n",
       "    </tr>\n",
       "    <tr>\n",
       "      <th>5fca2aad9083b679224c7609</th>\n",
       "      <td>http://gpn-audit.nemosoft.ru/#/audit/edit/5fca...</td>\n",
       "      <td>2.3.14</td>\n",
       "      <td>газпромнефть-оренбург</td>\n",
       "      <td>южуралнефтегаз</td>\n",
       "      <td>субарендодатель</td>\n",
       "      <td>субарендатор</td>\n",
       "      <td>Renting</td>\n",
       "      <td>4.384060e+05</td>\n",
       "      <td>2020-12-10 08:38:05.675</td>\n",
       "      <td>2020-12-10 08:38:21.303</td>\n",
       "      <td>2f52c6b1adf2792a1798cad68856832b</td>\n",
       "      <td>2021-07-29 14:22:49.750033</td>\n",
       "      <td>NaN</td>\n",
       "      <td>12.990903</td>\n",
       "      <td>864.0</td>\n",
       "      <td>NaN</td>\n",
       "      <td>RUB</td>\n",
       "      <td>2672.0</td>\n",
       "      <td>False</td>\n",
       "      <td>2.863772</td>\n",
       "    </tr>\n",
       "    <tr>\n",
       "      <th>5fe34f64b770574a005553f2</th>\n",
       "      <td>http://gpn-audit.nemosoft.ru/#/audit/edit/5fe3...</td>\n",
       "      <td>2.3.13</td>\n",
       "      <td>газпромнефть-снабжение</td>\n",
       "      <td>дельта</td>\n",
       "      <td>принципал</td>\n",
       "      <td>агентство</td>\n",
       "      <td>AgencyContract</td>\n",
       "      <td>7.398466e+07</td>\n",
       "      <td>2021-07-20 11:14:44.056</td>\n",
       "      <td>2020-12-23 17:19:38.827</td>\n",
       "      <td>79309d55935a90a2e5a66e50da1fc5dc</td>\n",
       "      <td>2021-07-29 14:21:10.978472</td>\n",
       "      <td>NaN</td>\n",
       "      <td>18.119368</td>\n",
       "      <td>2358.0</td>\n",
       "      <td>NaN</td>\n",
       "      <td>NaN</td>\n",
       "      <td>7631.0</td>\n",
       "      <td>False</td>\n",
       "      <td>3.226892</td>\n",
       "    </tr>\n",
       "    <tr>\n",
       "      <th>60b7a4c4061c76d775454600</th>\n",
       "      <td>http://gpn-audit.nemosoft.ru/#/audit/edit/60b7...</td>\n",
       "      <td>2.3.14</td>\n",
       "      <td>«газпромбанк»</td>\n",
       "      <td>газпромнефть-каталитические системы</td>\n",
       "      <td>банк</td>\n",
       "      <td>приказодатель</td>\n",
       "      <td>Loans</td>\n",
       "      <td>3.130200e+06</td>\n",
       "      <td>2021-06-22 13:32:49.001</td>\n",
       "      <td>2021-06-03 03:47:16.230</td>\n",
       "      <td>d38bd5f66bfa8082a80bdeb79643d3fe</td>\n",
       "      <td>2021-07-29 14:21:23.505961</td>\n",
       "      <td>NaN</td>\n",
       "      <td>14.956608</td>\n",
       "      <td>187.0</td>\n",
       "      <td>NaN</td>\n",
       "      <td>EURO</td>\n",
       "      <td>5574.0</td>\n",
       "      <td>False</td>\n",
       "      <td>3.436996</td>\n",
       "    </tr>\n",
       "    <tr>\n",
       "      <th>5fbbe46da2b4551c06107c68</th>\n",
       "      <td>http://gpn-audit.nemosoft.ru/#/audit/edit/5fbb...</td>\n",
       "      <td>2.3.14</td>\n",
       "      <td>арктика медиа</td>\n",
       "      <td>энерго-газ-ноябрьск</td>\n",
       "      <td>потребитель</td>\n",
       "      <td>теплоснабжающая организация</td>\n",
       "      <td>Deal</td>\n",
       "      <td>8.187220e+05</td>\n",
       "      <td>2020-11-24 07:25:33.712</td>\n",
       "      <td>2020-11-24 07:25:48.560</td>\n",
       "      <td>aa30ec2cdaf8d4c6b48384c86f1b21c9</td>\n",
       "      <td>2021-07-29 14:23:46.973512</td>\n",
       "      <td>NaN</td>\n",
       "      <td>13.615501</td>\n",
       "      <td>426.0</td>\n",
       "      <td>NaN</td>\n",
       "      <td>RUB</td>\n",
       "      <td>3912.0</td>\n",
       "      <td>False</td>\n",
       "      <td>3.928046</td>\n",
       "    </tr>\n",
       "    <tr>\n",
       "      <th>5fe34f63b770574a005553c9</th>\n",
       "      <td>http://gpn-audit.nemosoft.ru/#/audit/edit/5fe3...</td>\n",
       "      <td>2.3.14</td>\n",
       "      <td>газпромнефть-снабжение</td>\n",
       "      <td>омикрон</td>\n",
       "      <td>сторона 2</td>\n",
       "      <td>сторона 1</td>\n",
       "      <td>Deal</td>\n",
       "      <td>5.551000e+03</td>\n",
       "      <td>2021-07-20 11:25:49.214</td>\n",
       "      <td>2020-12-23 17:14:30.038</td>\n",
       "      <td>acda94fac9594455c03f6019e41704f6</td>\n",
       "      <td>2021-07-29 14:21:07.660276</td>\n",
       "      <td>NaN</td>\n",
       "      <td>8.621914</td>\n",
       "      <td>295.0</td>\n",
       "      <td>NaN</td>\n",
       "      <td>NaN</td>\n",
       "      <td>3696.0</td>\n",
       "      <td>False</td>\n",
       "      <td>4.133933</td>\n",
       "    </tr>\n",
       "    <tr>\n",
       "      <th>5fca2ab09083b679224c7638</th>\n",
       "      <td>http://gpn-audit.nemosoft.ru/#/audit/edit/5fca...</td>\n",
       "      <td>2.3.14</td>\n",
       "      <td>газпромнефть-оренбург</td>\n",
       "      <td>газпромнефть научно-технический центр</td>\n",
       "      <td>заказии</td>\n",
       "      <td>исполнитель</td>\n",
       "      <td>Service</td>\n",
       "      <td>6.318933e+08</td>\n",
       "      <td>2020-12-09 15:03:55.411</td>\n",
       "      <td>2020-12-09 15:04:07.254</td>\n",
       "      <td>3ef75e9ad5d843b708ad810c412b5579</td>\n",
       "      <td>2021-07-29 14:23:04.460581</td>\n",
       "      <td>NaN</td>\n",
       "      <td>20.264231</td>\n",
       "      <td>892.0</td>\n",
       "      <td>NaN</td>\n",
       "      <td>RUB</td>\n",
       "      <td>6600.0</td>\n",
       "      <td>False</td>\n",
       "      <td>4.787953</td>\n",
       "    </tr>\n",
       "    <tr>\n",
       "      <th>5fbf75af5d05d73d0295faa0</th>\n",
       "      <td>http://gpn-audit.nemosoft.ru/#/audit/edit/5fbf...</td>\n",
       "      <td>2.3.14</td>\n",
       "      <td>газпромнефть-заполярье</td>\n",
       "      <td>газпромнефть-ямал</td>\n",
       "      <td>субарендатор</td>\n",
       "      <td>арендатор</td>\n",
       "      <td>Renting</td>\n",
       "      <td>3.179746e+07</td>\n",
       "      <td>2020-11-26 13:41:11.891</td>\n",
       "      <td>2020-11-26 13:41:43.251</td>\n",
       "      <td>e0f11addff200d47590aae799c6cba51</td>\n",
       "      <td>2021-07-29 14:23:15.123056</td>\n",
       "      <td>NaN</td>\n",
       "      <td>17.274897</td>\n",
       "      <td>720.0</td>\n",
       "      <td>NaN</td>\n",
       "      <td>RUB</td>\n",
       "      <td>5407.0</td>\n",
       "      <td>False</td>\n",
       "      <td>5.362206</td>\n",
       "    </tr>\n",
       "    <tr>\n",
       "      <th>60b7a4c1061c76d775454590</th>\n",
       "      <td>http://gpn-audit.nemosoft.ru/#/audit/edit/60b7...</td>\n",
       "      <td>2.3.14</td>\n",
       "      <td>мобильные телесистемы</td>\n",
       "      <td>газпромнефть-каталитические системы</td>\n",
       "      <td>оператор</td>\n",
       "      <td>абонент</td>\n",
       "      <td>Service</td>\n",
       "      <td>2.008360e+05</td>\n",
       "      <td>2021-06-22 08:58:56.570</td>\n",
       "      <td>2021-06-03 02:14:54.007</td>\n",
       "      <td>5175baff992915571d292e276f925dbf</td>\n",
       "      <td>2021-07-29 14:21:25.277590</td>\n",
       "      <td>NaN</td>\n",
       "      <td>12.210249</td>\n",
       "      <td>240.0</td>\n",
       "      <td>NaN</td>\n",
       "      <td>RUB</td>\n",
       "      <td>1691.0</td>\n",
       "      <td>False</td>\n",
       "      <td>5.501068</td>\n",
       "    </tr>\n",
       "    <tr>\n",
       "      <th>60b7a4c1061c76d775454596</th>\n",
       "      <td>http://gpn-audit.nemosoft.ru/#/audit/edit/60b7...</td>\n",
       "      <td>2.3.14</td>\n",
       "      <td>мобильные телесистемы</td>\n",
       "      <td>газпромнефть-каталитические системы</td>\n",
       "      <td>оператор</td>\n",
       "      <td>абонент</td>\n",
       "      <td>Service</td>\n",
       "      <td>2.008360e+05</td>\n",
       "      <td>2021-06-22 13:19:08.646</td>\n",
       "      <td>2021-06-03 02:26:27.934</td>\n",
       "      <td>5175baff992915571d292e276f925dbf</td>\n",
       "      <td>2021-07-29 14:21:23.652895</td>\n",
       "      <td>NaN</td>\n",
       "      <td>12.210249</td>\n",
       "      <td>240.0</td>\n",
       "      <td>NaN</td>\n",
       "      <td>RUB</td>\n",
       "      <td>1691.0</td>\n",
       "      <td>False</td>\n",
       "      <td>5.501068</td>\n",
       "    </tr>\n",
       "    <tr>\n",
       "      <th>60002ae0b08473039387bcf4</th>\n",
       "      <td>http://gpn-audit.nemosoft.ru/#/audit/edit/6000...</td>\n",
       "      <td>2.3.14</td>\n",
       "      <td>газпромнефть-снабжение</td>\n",
       "      <td>дельта</td>\n",
       "      <td>принципал</td>\n",
       "      <td>агентство</td>\n",
       "      <td>Service</td>\n",
       "      <td>7.300066e+07</td>\n",
       "      <td>2021-08-25 10:58:49.983</td>\n",
       "      <td>2021-01-14 14:29:47.056</td>\n",
       "      <td>5b4cb8bd63a9fdc04e41a8bed71992ee</td>\n",
       "      <td>2021-10-20 13:21:37.803358</td>\n",
       "      <td>1.0</td>\n",
       "      <td>18.105979</td>\n",
       "      <td>2360.0</td>\n",
       "      <td>NaN</td>\n",
       "      <td>RUB</td>\n",
       "      <td>7485.0</td>\n",
       "      <td>False</td>\n",
       "      <td>5.510366</td>\n",
       "    </tr>\n",
       "    <tr>\n",
       "      <th>5fca2ab39083b679224c7655</th>\n",
       "      <td>http://gpn-audit.nemosoft.ru/#/audit/edit/5fca...</td>\n",
       "      <td>2.3.14</td>\n",
       "      <td>газпромнефть-оренбург</td>\n",
       "      <td>газпромнефть-гео</td>\n",
       "      <td>принципал</td>\n",
       "      <td>агент</td>\n",
       "      <td>AgencyContract</td>\n",
       "      <td>3.556883e+07</td>\n",
       "      <td>2020-12-10 09:34:22.788</td>\n",
       "      <td>2020-12-10 09:34:45.817</td>\n",
       "      <td>0443af2e43de44dccdcb31a5958e7fd9</td>\n",
       "      <td>2021-07-29 14:22:37.529252</td>\n",
       "      <td>NaN</td>\n",
       "      <td>17.386980</td>\n",
       "      <td>410.0</td>\n",
       "      <td>NaN</td>\n",
       "      <td>RUB</td>\n",
       "      <td>3016.0</td>\n",
       "      <td>False</td>\n",
       "      <td>5.514141</td>\n",
       "    </tr>\n",
       "    <tr>\n",
       "      <th>5fc7a036c54bc33809e261f7</th>\n",
       "      <td>http://gpn-audit.nemosoft.ru/#/audit/edit/5fc7...</td>\n",
       "      <td>2.3.14</td>\n",
       "      <td>газпромнефть-оренбург</td>\n",
       "      <td>газпромнефть-гео</td>\n",
       "      <td>принципал</td>\n",
       "      <td>агент</td>\n",
       "      <td>AgencyContract</td>\n",
       "      <td>2.964069e+07</td>\n",
       "      <td>2020-12-18 08:47:09.484</td>\n",
       "      <td>2020-12-18 11:47:31.522</td>\n",
       "      <td>40dd73abd89a9f2b26e464cf1959d587</td>\n",
       "      <td>2021-07-29 14:22:06.270996</td>\n",
       "      <td>NaN</td>\n",
       "      <td>17.204659</td>\n",
       "      <td>607.0</td>\n",
       "      <td>NaN</td>\n",
       "      <td>RUB</td>\n",
       "      <td>3256.0</td>\n",
       "      <td>False</td>\n",
       "      <td>5.572575</td>\n",
       "    </tr>\n",
       "    <tr>\n",
       "      <th>5fbbe467a2b4551c06107b06</th>\n",
       "      <td>http://gpn-audit.nemosoft.ru/#/audit/edit/5fbb...</td>\n",
       "      <td>2.3.14</td>\n",
       "      <td>арктика медиа</td>\n",
       "      <td>страховое общество газовой промышленности</td>\n",
       "      <td>страхователь</td>\n",
       "      <td>страховщик</td>\n",
       "      <td>BigDeal</td>\n",
       "      <td>4.783000e+05</td>\n",
       "      <td>2020-11-23 18:02:38.300</td>\n",
       "      <td>2020-11-23 18:02:52.673</td>\n",
       "      <td>e2a337e8312b91c03b48930fa2f8ba8c</td>\n",
       "      <td>2021-07-29 14:23:49.414941</td>\n",
       "      <td>NaN</td>\n",
       "      <td>13.077996</td>\n",
       "      <td>1030.0</td>\n",
       "      <td>NaN</td>\n",
       "      <td>RUB</td>\n",
       "      <td>4568.0</td>\n",
       "      <td>False</td>\n",
       "      <td>5.845497</td>\n",
       "    </tr>\n",
       "    <tr>\n",
       "      <th>60dec1f556214d9842813fca</th>\n",
       "      <td>http://gpn-audit.nemosoft.ru/#/audit/edit/60de...</td>\n",
       "      <td>2.4.2</td>\n",
       "      <td>газпромнефть-транспорт</td>\n",
       "      <td>детский дом</td>\n",
       "      <td>жертвователь</td>\n",
       "      <td>благополучатель</td>\n",
       "      <td>Charity</td>\n",
       "      <td>4.900000e+05</td>\n",
       "      <td>2021-08-24 14:04:16.972</td>\n",
       "      <td>2021-07-02 10:38:01.765</td>\n",
       "      <td>be44d9d73ca72437ea689ecd7ebb104c</td>\n",
       "      <td>2021-10-20 13:21:38.995292</td>\n",
       "      <td>1.0</td>\n",
       "      <td>13.102163</td>\n",
       "      <td>119.0</td>\n",
       "      <td>NaN</td>\n",
       "      <td>RUB</td>\n",
       "      <td>564.0</td>\n",
       "      <td>False</td>\n",
       "      <td>5.847557</td>\n",
       "    </tr>\n",
       "    <tr>\n",
       "      <th>5ebaa582665f7603e03b11ab</th>\n",
       "      <td>http://gpn-audit.nemosoft.ru/#/audit/edit/5eba...</td>\n",
       "      <td>2.3.14</td>\n",
       "      <td>газпромнефть-транспорт</td>\n",
       "      <td>детский дом</td>\n",
       "      <td>жертвователь</td>\n",
       "      <td>благополучатель</td>\n",
       "      <td>Charity</td>\n",
       "      <td>4.900000e+05</td>\n",
       "      <td>2020-09-10 10:15:39.914</td>\n",
       "      <td>2020-09-10 10:15:55.237</td>\n",
       "      <td>b01ed3512b1af1dda863f166b22245b2</td>\n",
       "      <td>2021-07-29 14:23:55.945466</td>\n",
       "      <td>NaN</td>\n",
       "      <td>13.102163</td>\n",
       "      <td>120.0</td>\n",
       "      <td>NaN</td>\n",
       "      <td>RUB</td>\n",
       "      <td>562.0</td>\n",
       "      <td>False</td>\n",
       "      <td>5.847557</td>\n",
       "    </tr>\n",
       "    <tr>\n",
       "      <th>60d1bbfdc07bc76a2196cb3f</th>\n",
       "      <td>http://gpn-audit.nemosoft.ru/#/audit/edit/60d1...</td>\n",
       "      <td>2.4.2</td>\n",
       "      <td>газпромнефть-региональные продажи</td>\n",
       "      <td>детский дом</td>\n",
       "      <td>жертвователь</td>\n",
       "      <td>благополучатель</td>\n",
       "      <td>Charity</td>\n",
       "      <td>4.900000e+05</td>\n",
       "      <td>2021-09-29 11:01:21.354</td>\n",
       "      <td>2021-06-22 13:33:34.454</td>\n",
       "      <td>f024ae28f467afc1b298a013f52980a2</td>\n",
       "      <td>2021-10-20 13:21:38.831156</td>\n",
       "      <td>1.0</td>\n",
       "      <td>13.102163</td>\n",
       "      <td>113.0</td>\n",
       "      <td>NaN</td>\n",
       "      <td>RUB</td>\n",
       "      <td>558.0</td>\n",
       "      <td>False</td>\n",
       "      <td>5.847557</td>\n",
       "    </tr>\n",
       "    <tr>\n",
       "      <th>5e257bb473698e191112be7b</th>\n",
       "      <td>http://gpn-audit.nemosoft.ru/#/audit/edit/5e25...</td>\n",
       "      <td>2.3.14</td>\n",
       "      <td>газпромнефть-региональные продажи</td>\n",
       "      <td>детский дом</td>\n",
       "      <td>жертвователь</td>\n",
       "      <td>благополучатель</td>\n",
       "      <td>Charity</td>\n",
       "      <td>4.900000e+05</td>\n",
       "      <td>2020-01-20 12:17:49.138</td>\n",
       "      <td>2020-06-16 08:35:11.009</td>\n",
       "      <td>7d811ff935432b80274dceac4e557100</td>\n",
       "      <td>2021-07-29 14:24:18.605810</td>\n",
       "      <td>NaN</td>\n",
       "      <td>13.102163</td>\n",
       "      <td>114.0</td>\n",
       "      <td>NaN</td>\n",
       "      <td>RUB</td>\n",
       "      <td>556.0</td>\n",
       "      <td>False</td>\n",
       "      <td>5.847557</td>\n",
       "    </tr>\n",
       "    <tr>\n",
       "      <th>5fe34f63b770574a005553c7</th>\n",
       "      <td>http://gpn-audit.nemosoft.ru/#/audit/edit/5fe3...</td>\n",
       "      <td>2.3.14</td>\n",
       "      <td>газпромнефть-снабжение</td>\n",
       "      <td>йота</td>\n",
       "      <td>продавец</td>\n",
       "      <td>покупатель</td>\n",
       "      <td>ParticipationInOtherOrganizations</td>\n",
       "      <td>6.900000e+08</td>\n",
       "      <td>2021-07-20 11:30:15.291</td>\n",
       "      <td>2020-12-23 17:14:18.470</td>\n",
       "      <td>4d659e53668a4962c2392944322185e1</td>\n",
       "      <td>2021-07-29 14:21:06.833546</td>\n",
       "      <td>NaN</td>\n",
       "      <td>20.352202</td>\n",
       "      <td>615.0</td>\n",
       "      <td>NaN</td>\n",
       "      <td>NaN</td>\n",
       "      <td>3174.0</td>\n",
       "      <td>False</td>\n",
       "      <td>6.153202</td>\n",
       "    </tr>\n",
       "    <tr>\n",
       "      <th>5fc635251d0a1603c7a0c93c</th>\n",
       "      <td>http://gpn-audit.nemosoft.ru/#/audit/edit/5fc6...</td>\n",
       "      <td>2.3.14</td>\n",
       "      <td>газпромнефть-оренбург</td>\n",
       "      <td>газпром нефть</td>\n",
       "      <td>продавец</td>\n",
       "      <td>покупатель</td>\n",
       "      <td>ParticipationInOtherOrganizations</td>\n",
       "      <td>6.900000e+08</td>\n",
       "      <td>2020-12-01 12:52:31.412</td>\n",
       "      <td>2020-12-01 12:21:22.715</td>\n",
       "      <td>78cdeaf637236f64e5ed7f97d78c2a27</td>\n",
       "      <td>2021-07-29 14:23:14.005467</td>\n",
       "      <td>NaN</td>\n",
       "      <td>20.352202</td>\n",
       "      <td>638.0</td>\n",
       "      <td>NaN</td>\n",
       "      <td>RUB</td>\n",
       "      <td>3267.0</td>\n",
       "      <td>False</td>\n",
       "      <td>6.153202</td>\n",
       "    </tr>\n",
       "    <tr>\n",
       "      <th>5fca2aac9083b679224c7605</th>\n",
       "      <td>http://gpn-audit.nemosoft.ru/#/audit/edit/5fca...</td>\n",
       "      <td>2.3.14</td>\n",
       "      <td>газпромнефть-оренбург</td>\n",
       "      <td>газпром нефть</td>\n",
       "      <td>продавец</td>\n",
       "      <td>покупатель</td>\n",
       "      <td>ParticipationInOtherOrganizations</td>\n",
       "      <td>6.900000e+08</td>\n",
       "      <td>2020-12-10 09:02:08.201</td>\n",
       "      <td>2020-12-10 09:02:18.325</td>\n",
       "      <td>78cdeaf637236f64e5ed7f97d78c2a27</td>\n",
       "      <td>2021-07-29 14:22:44.150552</td>\n",
       "      <td>NaN</td>\n",
       "      <td>20.352202</td>\n",
       "      <td>672.0</td>\n",
       "      <td>NaN</td>\n",
       "      <td>RUB</td>\n",
       "      <td>3267.0</td>\n",
       "      <td>False</td>\n",
       "      <td>6.153202</td>\n",
       "    </tr>\n",
       "    <tr>\n",
       "      <th>5fca2aac9083b679224c75f6</th>\n",
       "      <td>http://gpn-audit.nemosoft.ru/#/audit/edit/5fca...</td>\n",
       "      <td>2.3.14</td>\n",
       "      <td>газпромнефть-оренбург</td>\n",
       "      <td>газпром нефть</td>\n",
       "      <td>принципал</td>\n",
       "      <td>агент</td>\n",
       "      <td>AgencyContract</td>\n",
       "      <td>3.661821e+06</td>\n",
       "      <td>2020-12-10 09:25:07.518</td>\n",
       "      <td>2020-12-10 09:25:35.020</td>\n",
       "      <td>920dea62956aaf460f989f73eb963955</td>\n",
       "      <td>2021-07-29 14:22:38.435786</td>\n",
       "      <td>NaN</td>\n",
       "      <td>15.113471</td>\n",
       "      <td>289.0</td>\n",
       "      <td>NaN</td>\n",
       "      <td>RUB</td>\n",
       "      <td>1745.0</td>\n",
       "      <td>False</td>\n",
       "      <td>6.343629</td>\n",
       "    </tr>\n",
       "    <tr>\n",
       "      <th>5feb3e50bd24992aa31040e6</th>\n",
       "      <td>http://gpn-audit.nemosoft.ru/#/audit/edit/5feb...</td>\n",
       "      <td>2.3.14</td>\n",
       "      <td>газпромнефть-снабжение</td>\n",
       "      <td>йода</td>\n",
       "      <td>продавец</td>\n",
       "      <td>покупатель</td>\n",
       "      <td>ParticipationInOtherOrganizations</td>\n",
       "      <td>1.900000e+08</td>\n",
       "      <td>2020-12-29 14:52:27.382</td>\n",
       "      <td>2020-12-29 17:35:02.721</td>\n",
       "      <td>28c1365dd99c3e2afe1f2880101270a5</td>\n",
       "      <td>2021-07-29 14:21:34.388111</td>\n",
       "      <td>NaN</td>\n",
       "      <td>19.062535</td>\n",
       "      <td>419.0</td>\n",
       "      <td>NaN</td>\n",
       "      <td>RUB</td>\n",
       "      <td>2675.0</td>\n",
       "      <td>False</td>\n",
       "      <td>6.569494</td>\n",
       "    </tr>\n",
       "    <tr>\n",
       "      <th>5fc7a03cc54bc33809e26251</th>\n",
       "      <td>http://gpn-audit.nemosoft.ru/#/audit/edit/5fc7...</td>\n",
       "      <td>2.3.14</td>\n",
       "      <td>газпромнефть-оренбург</td>\n",
       "      <td>ноябрьскнефтегазсвязь</td>\n",
       "      <td>принципал</td>\n",
       "      <td>агент</td>\n",
       "      <td>AgencyContract</td>\n",
       "      <td>2.076000e+06</td>\n",
       "      <td>2020-12-18 08:37:35.653</td>\n",
       "      <td>2020-12-18 11:37:54.951</td>\n",
       "      <td>7c13a14a758f1f4baa49caf61a53357f</td>\n",
       "      <td>2021-07-29 14:22:07.442675</td>\n",
       "      <td>NaN</td>\n",
       "      <td>14.545954</td>\n",
       "      <td>716.0</td>\n",
       "      <td>NaN</td>\n",
       "      <td>RUB</td>\n",
       "      <td>5734.0</td>\n",
       "      <td>False</td>\n",
       "      <td>6.591129</td>\n",
       "    </tr>\n",
       "    <tr>\n",
       "      <th>5fca2ab29083b679224c764c</th>\n",
       "      <td>http://gpn-audit.nemosoft.ru/#/audit/edit/5fca...</td>\n",
       "      <td>2.3.14</td>\n",
       "      <td>газпромнефть-оренбург</td>\n",
       "      <td>газпромнефть-оренбург</td>\n",
       "      <td>агент</td>\n",
       "      <td>принципал</td>\n",
       "      <td>AgencyContract</td>\n",
       "      <td>6.000000e+08</td>\n",
       "      <td>2020-12-10 06:23:28.719</td>\n",
       "      <td>2020-12-10 06:23:56.459</td>\n",
       "      <td>4505136238be1001722ec11eeda69c94</td>\n",
       "      <td>2021-07-29 14:22:58.725753</td>\n",
       "      <td>NaN</td>\n",
       "      <td>20.212440</td>\n",
       "      <td>502.0</td>\n",
       "      <td>NaN</td>\n",
       "      <td>RUB</td>\n",
       "      <td>8894.0</td>\n",
       "      <td>False</td>\n",
       "      <td>7.330069</td>\n",
       "    </tr>\n",
       "    <tr>\n",
       "      <th>5fc7a035c54bc33809e261dd</th>\n",
       "      <td>http://gpn-audit.nemosoft.ru/#/audit/edit/5fc7...</td>\n",
       "      <td>2.3.14</td>\n",
       "      <td>газпромнефть-оренбург</td>\n",
       "      <td>газпромнефть-заполярье</td>\n",
       "      <td>агент</td>\n",
       "      <td>принципал</td>\n",
       "      <td>AgencyContract</td>\n",
       "      <td>5.000000e+08</td>\n",
       "      <td>2020-12-19 07:36:27.712</td>\n",
       "      <td>2020-12-19 10:36:50.139</td>\n",
       "      <td>ee76435de29c15cf8f3c06f648b8ab15</td>\n",
       "      <td>2021-07-29 14:21:57.658565</td>\n",
       "      <td>NaN</td>\n",
       "      <td>20.030119</td>\n",
       "      <td>722.0</td>\n",
       "      <td>NaN</td>\n",
       "      <td>RUB</td>\n",
       "      <td>9149.0</td>\n",
       "      <td>False</td>\n",
       "      <td>7.396790</td>\n",
       "    </tr>\n",
       "    <tr>\n",
       "      <th>5ec2b8d8665f7603e03b122b</th>\n",
       "      <td>http://gpn-audit.nemosoft.ru/#/audit/edit/5ec2...</td>\n",
       "      <td>2.3.14</td>\n",
       "      <td>газпромнефть марин бункер</td>\n",
       "      <td>газпром нефть</td>\n",
       "      <td>займодавец</td>\n",
       "      <td>заемщик</td>\n",
       "      <td>Loans</td>\n",
       "      <td>1.500000e+10</td>\n",
       "      <td>2020-05-21 14:56:54.072</td>\n",
       "      <td>2020-05-21 14:57:47.894</td>\n",
       "      <td>cc4b2aafacbb7b78598e7f9432950afa</td>\n",
       "      <td>2021-07-29 14:24:00.556759</td>\n",
       "      <td>NaN</td>\n",
       "      <td>23.431316</td>\n",
       "      <td>146.0</td>\n",
       "      <td>NaN</td>\n",
       "      <td>RUB</td>\n",
       "      <td>1196.0</td>\n",
       "      <td>False</td>\n",
       "      <td>7.500719</td>\n",
       "    </tr>\n",
       "  </tbody>\n",
       "</table>\n",
       "</div>"
      ],
      "text/plain": [
       "                                                                        url  \\\n",
       "5fe34f63b770574a005553db  http://gpn-audit.nemosoft.ru/#/audit/edit/5fe3...   \n",
       "5ec2b8d9665f7603e03b1238  http://gpn-audit.nemosoft.ru/#/audit/edit/5ec2...   \n",
       "5ec2b8da665f7603e03b127d  http://gpn-audit.nemosoft.ru/#/audit/edit/5ec2...   \n",
       "60b7a58e061c76d77545526f  http://gpn-audit.nemosoft.ru/#/audit/edit/60b7...   \n",
       "60b7a4c3061c76d7754545e3  http://gpn-audit.nemosoft.ru/#/audit/edit/60b7...   \n",
       "60b7a4c3061c76d7754545da  http://gpn-audit.nemosoft.ru/#/audit/edit/60b7...   \n",
       "60002adfb08473039387bcae  http://gpn-audit.nemosoft.ru/#/audit/edit/6000...   \n",
       "612cdb20ea1085618e02ff0f  http://gpn-audit.nemosoft.ru/#/audit/edit/612c...   \n",
       "60b7a4c4061c76d7754545fd  http://gpn-audit.nemosoft.ru/#/audit/edit/60b7...   \n",
       "5fc7a031c54bc33809e2617d  http://gpn-audit.nemosoft.ru/#/audit/edit/5fc7...   \n",
       "5fbf75af5d05d73d0295fa99  http://gpn-audit.nemosoft.ru/#/audit/edit/5fbf...   \n",
       "5fc7a034c54bc33809e261a8  http://gpn-audit.nemosoft.ru/#/audit/edit/5fc7...   \n",
       "5fca2aae9083b679224c7614  http://gpn-audit.nemosoft.ru/#/audit/edit/5fca...   \n",
       "5fca2aac9083b679224c75fc  http://gpn-audit.nemosoft.ru/#/audit/edit/5fca...   \n",
       "5fca2aad9083b679224c7609  http://gpn-audit.nemosoft.ru/#/audit/edit/5fca...   \n",
       "5fe34f64b770574a005553f2  http://gpn-audit.nemosoft.ru/#/audit/edit/5fe3...   \n",
       "60b7a4c4061c76d775454600  http://gpn-audit.nemosoft.ru/#/audit/edit/60b7...   \n",
       "5fbbe46da2b4551c06107c68  http://gpn-audit.nemosoft.ru/#/audit/edit/5fbb...   \n",
       "5fe34f63b770574a005553c9  http://gpn-audit.nemosoft.ru/#/audit/edit/5fe3...   \n",
       "5fca2ab09083b679224c7638  http://gpn-audit.nemosoft.ru/#/audit/edit/5fca...   \n",
       "5fbf75af5d05d73d0295faa0  http://gpn-audit.nemosoft.ru/#/audit/edit/5fbf...   \n",
       "60b7a4c1061c76d775454590  http://gpn-audit.nemosoft.ru/#/audit/edit/60b7...   \n",
       "60b7a4c1061c76d775454596  http://gpn-audit.nemosoft.ru/#/audit/edit/60b7...   \n",
       "60002ae0b08473039387bcf4  http://gpn-audit.nemosoft.ru/#/audit/edit/6000...   \n",
       "5fca2ab39083b679224c7655  http://gpn-audit.nemosoft.ru/#/audit/edit/5fca...   \n",
       "5fc7a036c54bc33809e261f7  http://gpn-audit.nemosoft.ru/#/audit/edit/5fc7...   \n",
       "5fbbe467a2b4551c06107b06  http://gpn-audit.nemosoft.ru/#/audit/edit/5fbb...   \n",
       "60dec1f556214d9842813fca  http://gpn-audit.nemosoft.ru/#/audit/edit/60de...   \n",
       "5ebaa582665f7603e03b11ab  http://gpn-audit.nemosoft.ru/#/audit/edit/5eba...   \n",
       "60d1bbfdc07bc76a2196cb3f  http://gpn-audit.nemosoft.ru/#/audit/edit/60d1...   \n",
       "5e257bb473698e191112be7b  http://gpn-audit.nemosoft.ru/#/audit/edit/5e25...   \n",
       "5fe34f63b770574a005553c7  http://gpn-audit.nemosoft.ru/#/audit/edit/5fe3...   \n",
       "5fc635251d0a1603c7a0c93c  http://gpn-audit.nemosoft.ru/#/audit/edit/5fc6...   \n",
       "5fca2aac9083b679224c7605  http://gpn-audit.nemosoft.ru/#/audit/edit/5fca...   \n",
       "5fca2aac9083b679224c75f6  http://gpn-audit.nemosoft.ru/#/audit/edit/5fca...   \n",
       "5feb3e50bd24992aa31040e6  http://gpn-audit.nemosoft.ru/#/audit/edit/5feb...   \n",
       "5fc7a03cc54bc33809e26251  http://gpn-audit.nemosoft.ru/#/audit/edit/5fc7...   \n",
       "5fca2ab29083b679224c764c  http://gpn-audit.nemosoft.ru/#/audit/edit/5fca...   \n",
       "5fc7a035c54bc33809e261dd  http://gpn-audit.nemosoft.ru/#/audit/edit/5fc7...   \n",
       "5ec2b8d8665f7603e03b122b  http://gpn-audit.nemosoft.ru/#/audit/edit/5ec2...   \n",
       "\n",
       "                         version                           org-1-name  \\\n",
       "5fe34f63b770574a005553db  2.3.13               газпромнефть-снабжение   \n",
       "5ec2b8d9665f7603e03b1238  2.3.14    газпромнефть-региональные продажи   \n",
       "5ec2b8da665f7603e03b127d  2.3.14                      сбербанк россии   \n",
       "60b7a58e061c76d77545526f  2.3.14  газпромнефть-каталитические системы   \n",
       "60b7a4c3061c76d7754545e3  2.3.14             газпромнефть-аэро брянск   \n",
       "60b7a4c3061c76d7754545da  2.3.14             газпромнефть-аэро брянск   \n",
       "60002adfb08473039387bcae  2.3.14               газпромнефть-снабжение   \n",
       "612cdb20ea1085618e02ff0f   2.4.4                        газпром нефть   \n",
       "60b7a4c4061c76d7754545fd  2.3.14                          газпромбанк   \n",
       "5fc7a031c54bc33809e2617d  2.3.14                газпромнефть-оренбург   \n",
       "5fbf75af5d05d73d0295fa99  2.3.14               газпромнефть-заполярье   \n",
       "5fc7a034c54bc33809e261a8  2.3.14                газпромнефть-оренбург   \n",
       "5fca2aae9083b679224c7614   2.0.5                газпромнефть-оренбург   \n",
       "5fca2aac9083b679224c75fc  2.3.14                газпромнефть-оренбург   \n",
       "5fca2aad9083b679224c7609  2.3.14                газпромнефть-оренбург   \n",
       "5fe34f64b770574a005553f2  2.3.13               газпромнефть-снабжение   \n",
       "60b7a4c4061c76d775454600  2.3.14                        «газпромбанк»   \n",
       "5fbbe46da2b4551c06107c68  2.3.14                        арктика медиа   \n",
       "5fe34f63b770574a005553c9  2.3.14               газпромнефть-снабжение   \n",
       "5fca2ab09083b679224c7638  2.3.14                газпромнефть-оренбург   \n",
       "5fbf75af5d05d73d0295faa0  2.3.14               газпромнефть-заполярье   \n",
       "60b7a4c1061c76d775454590  2.3.14                мобильные телесистемы   \n",
       "60b7a4c1061c76d775454596  2.3.14                мобильные телесистемы   \n",
       "60002ae0b08473039387bcf4  2.3.14               газпромнефть-снабжение   \n",
       "5fca2ab39083b679224c7655  2.3.14                газпромнефть-оренбург   \n",
       "5fc7a036c54bc33809e261f7  2.3.14                газпромнефть-оренбург   \n",
       "5fbbe467a2b4551c06107b06  2.3.14                        арктика медиа   \n",
       "60dec1f556214d9842813fca   2.4.2               газпромнефть-транспорт   \n",
       "5ebaa582665f7603e03b11ab  2.3.14               газпромнефть-транспорт   \n",
       "60d1bbfdc07bc76a2196cb3f   2.4.2    газпромнефть-региональные продажи   \n",
       "5e257bb473698e191112be7b  2.3.14    газпромнефть-региональные продажи   \n",
       "5fe34f63b770574a005553c7  2.3.14               газпромнефть-снабжение   \n",
       "5fc635251d0a1603c7a0c93c  2.3.14                газпромнефть-оренбург   \n",
       "5fca2aac9083b679224c7605  2.3.14                газпромнефть-оренбург   \n",
       "5fca2aac9083b679224c75f6  2.3.14                газпромнефть-оренбург   \n",
       "5feb3e50bd24992aa31040e6  2.3.14               газпромнефть-снабжение   \n",
       "5fc7a03cc54bc33809e26251  2.3.14                газпромнефть-оренбург   \n",
       "5fca2ab29083b679224c764c  2.3.14                газпромнефть-оренбург   \n",
       "5fc7a035c54bc33809e261dd  2.3.14                газпромнефть-оренбург   \n",
       "5ec2b8d8665f7603e03b122b  2.3.14            газпромнефть марин бункер   \n",
       "\n",
       "                                                         org-2-name  \\\n",
       "5fe34f63b770574a005553db                                        эта   \n",
       "5ec2b8d9665f7603e03b1238                                     нептун   \n",
       "5ec2b8da665f7603e03b127d                                        оск   \n",
       "60b7a58e061c76d77545526f                                газпромбанк   \n",
       "60b7a4c3061c76d7754545e3                          газпромнефть-аэро   \n",
       "60b7a4c3061c76d7754545da                        газпромнефть-ангара   \n",
       "60002adfb08473039387bcae                              газпром нефть   \n",
       "612cdb20ea1085618e02ff0f                                    новатэк   \n",
       "60b7a4c4061c76d7754545fd        газпромнефть-каталитические системы   \n",
       "5fc7a031c54bc33809e2617d                              газпром нефть   \n",
       "5fbf75af5d05d73d0295fa99                    газпром добыча оренбург   \n",
       "5fc7a034c54bc33809e261a8                      ноябрьскнефтегазсвязь   \n",
       "5fca2aae9083b679224c7614                      ноябрьскнефтегазсвязь   \n",
       "5fca2aac9083b679224c75fc         газпром нефть  (пао  газпром нефть   \n",
       "5fca2aad9083b679224c7609                             южуралнефтегаз   \n",
       "5fe34f64b770574a005553f2                                     дельта   \n",
       "60b7a4c4061c76d775454600        газпромнефть-каталитические системы   \n",
       "5fbbe46da2b4551c06107c68                        энерго-газ-ноябрьск   \n",
       "5fe34f63b770574a005553c9                                    омикрон   \n",
       "5fca2ab09083b679224c7638      газпромнефть научно-технический центр   \n",
       "5fbf75af5d05d73d0295faa0                          газпромнефть-ямал   \n",
       "60b7a4c1061c76d775454590        газпромнефть-каталитические системы   \n",
       "60b7a4c1061c76d775454596        газпромнефть-каталитические системы   \n",
       "60002ae0b08473039387bcf4                                     дельта   \n",
       "5fca2ab39083b679224c7655                           газпромнефть-гео   \n",
       "5fc7a036c54bc33809e261f7                           газпромнефть-гео   \n",
       "5fbbe467a2b4551c06107b06  страховое общество газовой промышленности   \n",
       "60dec1f556214d9842813fca                                детский дом   \n",
       "5ebaa582665f7603e03b11ab                                детский дом   \n",
       "60d1bbfdc07bc76a2196cb3f                                детский дом   \n",
       "5e257bb473698e191112be7b                                детский дом   \n",
       "5fe34f63b770574a005553c7                                       йота   \n",
       "5fc635251d0a1603c7a0c93c                              газпром нефть   \n",
       "5fca2aac9083b679224c7605                              газпром нефть   \n",
       "5fca2aac9083b679224c75f6                              газпром нефть   \n",
       "5feb3e50bd24992aa31040e6                                       йода   \n",
       "5fc7a03cc54bc33809e26251                      ноябрьскнефтегазсвязь   \n",
       "5fca2ab29083b679224c764c                      газпромнефть-оренбург   \n",
       "5fc7a035c54bc33809e261dd                     газпромнефть-заполярье   \n",
       "5ec2b8d8665f7603e03b122b                              газпром нефть   \n",
       "\n",
       "                                      org-1-alias  \\\n",
       "5fe34f63b770574a005553db             залогодатель   \n",
       "5ec2b8d9665f7603e03b1238             залогодатель   \n",
       "5ec2b8da665f7603e03b127d                 кредитор   \n",
       "60b7a58e061c76d77545526f            приказодатель   \n",
       "60b7a4c3061c76d7754545e3          субсубарендатор   \n",
       "60b7a4c3061c76d7754545da  управляемая организация   \n",
       "60002adfb08473039387bcae          правообладатель   \n",
       "612cdb20ea1085618e02ff0f                 продавец   \n",
       "60b7a4c4061c76d7754545fd                     банк   \n",
       "5fc7a031c54bc33809e2617d                 продавец   \n",
       "5fbf75af5d05d73d0295fa99             субарендатор   \n",
       "5fc7a034c54bc33809e261a8                сторона 2   \n",
       "5fca2aae9083b679224c7614                сторона 2   \n",
       "5fca2aac9083b679224c75fc                 заемщик»   \n",
       "5fca2aad9083b679224c7609          субарендодатель   \n",
       "5fe34f64b770574a005553f2                принципал   \n",
       "60b7a4c4061c76d775454600                     банк   \n",
       "5fbbe46da2b4551c06107c68              потребитель   \n",
       "5fe34f63b770574a005553c9                сторона 2   \n",
       "5fca2ab09083b679224c7638                  заказии   \n",
       "5fbf75af5d05d73d0295faa0             субарендатор   \n",
       "60b7a4c1061c76d775454590                 оператор   \n",
       "60b7a4c1061c76d775454596                 оператор   \n",
       "60002ae0b08473039387bcf4                принципал   \n",
       "5fca2ab39083b679224c7655                принципал   \n",
       "5fc7a036c54bc33809e261f7                принципал   \n",
       "5fbbe467a2b4551c06107b06             страхователь   \n",
       "60dec1f556214d9842813fca             жертвователь   \n",
       "5ebaa582665f7603e03b11ab             жертвователь   \n",
       "60d1bbfdc07bc76a2196cb3f             жертвователь   \n",
       "5e257bb473698e191112be7b             жертвователь   \n",
       "5fe34f63b770574a005553c7                 продавец   \n",
       "5fc635251d0a1603c7a0c93c                 продавец   \n",
       "5fca2aac9083b679224c7605                 продавец   \n",
       "5fca2aac9083b679224c75f6                принципал   \n",
       "5feb3e50bd24992aa31040e6                 продавец   \n",
       "5fc7a03cc54bc33809e26251                принципал   \n",
       "5fca2ab29083b679224c764c                    агент   \n",
       "5fc7a035c54bc33809e261dd                    агент   \n",
       "5ec2b8d8665f7603e03b122b               займодавец   \n",
       "\n",
       "                                          org-2-alias  \\\n",
       "5fe34f63b770574a005553db              залогодержатель   \n",
       "5ec2b8d9665f7603e03b1238              залогодержатель   \n",
       "5ec2b8da665f7603e03b127d                       проект   \n",
       "60b7a58e061c76d77545526f                         банк   \n",
       "60b7a4c3061c76d7754545e3                 субарендатор   \n",
       "60b7a4c3061c76d7754545da      управляющая организация   \n",
       "60002adfb08473039387bcae                приобретатель   \n",
       "612cdb20ea1085618e02ff0f                   покупатель   \n",
       "60b7a4c4061c76d7754545fd                приказодатель   \n",
       "5fc7a031c54bc33809e2617d                   покупатель   \n",
       "5fbf75af5d05d73d0295fa99              субарендодатель   \n",
       "5fc7a034c54bc33809e261a8                    сторона 1   \n",
       "5fca2aae9083b679224c7614                    сторона 1   \n",
       "5fca2aac9083b679224c75fc                   займодавец   \n",
       "5fca2aad9083b679224c7609                 субарендатор   \n",
       "5fe34f64b770574a005553f2                    агентство   \n",
       "60b7a4c4061c76d775454600                приказодатель   \n",
       "5fbbe46da2b4551c06107c68  теплоснабжающая организация   \n",
       "5fe34f63b770574a005553c9                    сторона 1   \n",
       "5fca2ab09083b679224c7638                  исполнитель   \n",
       "5fbf75af5d05d73d0295faa0                    арендатор   \n",
       "60b7a4c1061c76d775454590                      абонент   \n",
       "60b7a4c1061c76d775454596                      абонент   \n",
       "60002ae0b08473039387bcf4                    агентство   \n",
       "5fca2ab39083b679224c7655                        агент   \n",
       "5fc7a036c54bc33809e261f7                        агент   \n",
       "5fbbe467a2b4551c06107b06                   страховщик   \n",
       "60dec1f556214d9842813fca              благополучатель   \n",
       "5ebaa582665f7603e03b11ab              благополучатель   \n",
       "60d1bbfdc07bc76a2196cb3f              благополучатель   \n",
       "5e257bb473698e191112be7b              благополучатель   \n",
       "5fe34f63b770574a005553c7                   покупатель   \n",
       "5fc635251d0a1603c7a0c93c                   покупатель   \n",
       "5fca2aac9083b679224c7605                   покупатель   \n",
       "5fca2aac9083b679224c75f6                        агент   \n",
       "5feb3e50bd24992aa31040e6                   покупатель   \n",
       "5fc7a03cc54bc33809e26251                        агент   \n",
       "5fca2ab29083b679224c764c                    принципал   \n",
       "5fc7a035c54bc33809e261dd                    принципал   \n",
       "5ec2b8d8665f7603e03b122b                      заемщик   \n",
       "\n",
       "                                                    subject         value  \\\n",
       "5fe34f63b770574a005553db                  PledgeEncumbrance  6.000000e+07   \n",
       "5ec2b8d9665f7603e03b1238                  PledgeEncumbrance  6.000000e+07   \n",
       "5ec2b8da665f7603e03b127d                            Renting  1.394400e+10   \n",
       "60b7a58e061c76d77545526f                              Loans  3.130200e+06   \n",
       "60b7a4c3061c76d7754545e3                            Renting  1.080000e+04   \n",
       "60b7a4c3061c76d7754545da                            Service  5.000000e+04   \n",
       "60002adfb08473039387bcae                               Deal  4.400005e+07   \n",
       "612cdb20ea1085618e02ff0f             DecisionsForSubsidiary  1.593133e+09   \n",
       "60b7a4c4061c76d7754545fd                              Loans  3.000000e+09   \n",
       "5fc7a031c54bc33809e2617d                  AssetTransactions  6.900000e+08   \n",
       "5fbf75af5d05d73d0295fa99                               Deal  8.696370e+05   \n",
       "5fc7a034c54bc33809e261a8           DealIntellectualProperty  5.551650e+03   \n",
       "5fca2aae9083b679224c7614           DealIntellectualProperty  5.551000e+03   \n",
       "5fca2aac9083b679224c75fc                              Loans  1.000000e+09   \n",
       "5fca2aad9083b679224c7609                            Renting  4.384060e+05   \n",
       "5fe34f64b770574a005553f2                     AgencyContract  7.398466e+07   \n",
       "60b7a4c4061c76d775454600                              Loans  3.130200e+06   \n",
       "5fbbe46da2b4551c06107c68                               Deal  8.187220e+05   \n",
       "5fe34f63b770574a005553c9                               Deal  5.551000e+03   \n",
       "5fca2ab09083b679224c7638                            Service  6.318933e+08   \n",
       "5fbf75af5d05d73d0295faa0                            Renting  3.179746e+07   \n",
       "60b7a4c1061c76d775454590                            Service  2.008360e+05   \n",
       "60b7a4c1061c76d775454596                            Service  2.008360e+05   \n",
       "60002ae0b08473039387bcf4                            Service  7.300066e+07   \n",
       "5fca2ab39083b679224c7655                     AgencyContract  3.556883e+07   \n",
       "5fc7a036c54bc33809e261f7                     AgencyContract  2.964069e+07   \n",
       "5fbbe467a2b4551c06107b06                            BigDeal  4.783000e+05   \n",
       "60dec1f556214d9842813fca                            Charity  4.900000e+05   \n",
       "5ebaa582665f7603e03b11ab                            Charity  4.900000e+05   \n",
       "60d1bbfdc07bc76a2196cb3f                            Charity  4.900000e+05   \n",
       "5e257bb473698e191112be7b                            Charity  4.900000e+05   \n",
       "5fe34f63b770574a005553c7  ParticipationInOtherOrganizations  6.900000e+08   \n",
       "5fc635251d0a1603c7a0c93c  ParticipationInOtherOrganizations  6.900000e+08   \n",
       "5fca2aac9083b679224c7605  ParticipationInOtherOrganizations  6.900000e+08   \n",
       "5fca2aac9083b679224c75f6                     AgencyContract  3.661821e+06   \n",
       "5feb3e50bd24992aa31040e6  ParticipationInOtherOrganizations  1.900000e+08   \n",
       "5fc7a03cc54bc33809e26251                     AgencyContract  2.076000e+06   \n",
       "5fca2ab29083b679224c764c                     AgencyContract  6.000000e+08   \n",
       "5fc7a035c54bc33809e261dd                     AgencyContract  5.000000e+08   \n",
       "5ec2b8d8665f7603e03b122b                              Loans  1.500000e+10   \n",
       "\n",
       "                            user_correction_date            analyze_date  \\\n",
       "5fe34f63b770574a005553db 2021-07-22 09:19:27.348 2020-12-23 17:14:31.820   \n",
       "5ec2b8d9665f7603e03b1238 2020-05-21 15:27:48.922 2020-05-21 15:29:00.410   \n",
       "5ec2b8da665f7603e03b127d 2020-09-10 11:10:15.402 2020-09-10 11:10:43.308   \n",
       "60b7a58e061c76d77545526f 2021-07-31 15:43:37.710 2021-06-05 06:22:34.302   \n",
       "60b7a4c3061c76d7754545e3 2021-07-23 12:29:19.231 2021-06-03 03:28:32.872   \n",
       "60b7a4c3061c76d7754545da 2021-06-22 13:40:54.455 2021-06-03 03:18:14.469   \n",
       "60002adfb08473039387bcae 2021-07-20 07:47:49.711 2021-01-14 14:29:31.907   \n",
       "612cdb20ea1085618e02ff0f 2021-10-20 10:33:35.109 2021-08-31 11:41:52.908   \n",
       "60b7a4c4061c76d7754545fd 2021-06-22 12:58:36.232 2021-06-03 03:43:10.319   \n",
       "5fc7a031c54bc33809e2617d 2020-12-19 14:37:04.140 2020-12-19 17:37:19.860   \n",
       "5fbf75af5d05d73d0295fa99 2020-11-26 12:59:58.596 2020-11-26 13:00:29.583   \n",
       "5fc7a034c54bc33809e261a8 2021-07-30 09:56:40.050 2020-12-02 14:26:35.267   \n",
       "5fca2aae9083b679224c7614 2021-10-20 10:31:33.400 2020-12-10 09:16:59.672   \n",
       "5fca2aac9083b679224c75fc 2020-12-10 08:15:21.375 2020-12-10 08:15:42.402   \n",
       "5fca2aad9083b679224c7609 2020-12-10 08:38:05.675 2020-12-10 08:38:21.303   \n",
       "5fe34f64b770574a005553f2 2021-07-20 11:14:44.056 2020-12-23 17:19:38.827   \n",
       "60b7a4c4061c76d775454600 2021-06-22 13:32:49.001 2021-06-03 03:47:16.230   \n",
       "5fbbe46da2b4551c06107c68 2020-11-24 07:25:33.712 2020-11-24 07:25:48.560   \n",
       "5fe34f63b770574a005553c9 2021-07-20 11:25:49.214 2020-12-23 17:14:30.038   \n",
       "5fca2ab09083b679224c7638 2020-12-09 15:03:55.411 2020-12-09 15:04:07.254   \n",
       "5fbf75af5d05d73d0295faa0 2020-11-26 13:41:11.891 2020-11-26 13:41:43.251   \n",
       "60b7a4c1061c76d775454590 2021-06-22 08:58:56.570 2021-06-03 02:14:54.007   \n",
       "60b7a4c1061c76d775454596 2021-06-22 13:19:08.646 2021-06-03 02:26:27.934   \n",
       "60002ae0b08473039387bcf4 2021-08-25 10:58:49.983 2021-01-14 14:29:47.056   \n",
       "5fca2ab39083b679224c7655 2020-12-10 09:34:22.788 2020-12-10 09:34:45.817   \n",
       "5fc7a036c54bc33809e261f7 2020-12-18 08:47:09.484 2020-12-18 11:47:31.522   \n",
       "5fbbe467a2b4551c06107b06 2020-11-23 18:02:38.300 2020-11-23 18:02:52.673   \n",
       "60dec1f556214d9842813fca 2021-08-24 14:04:16.972 2021-07-02 10:38:01.765   \n",
       "5ebaa582665f7603e03b11ab 2020-09-10 10:15:39.914 2020-09-10 10:15:55.237   \n",
       "60d1bbfdc07bc76a2196cb3f 2021-09-29 11:01:21.354 2021-06-22 13:33:34.454   \n",
       "5e257bb473698e191112be7b 2020-01-20 12:17:49.138 2020-06-16 08:35:11.009   \n",
       "5fe34f63b770574a005553c7 2021-07-20 11:30:15.291 2020-12-23 17:14:18.470   \n",
       "5fc635251d0a1603c7a0c93c 2020-12-01 12:52:31.412 2020-12-01 12:21:22.715   \n",
       "5fca2aac9083b679224c7605 2020-12-10 09:02:08.201 2020-12-10 09:02:18.325   \n",
       "5fca2aac9083b679224c75f6 2020-12-10 09:25:07.518 2020-12-10 09:25:35.020   \n",
       "5feb3e50bd24992aa31040e6 2020-12-29 14:52:27.382 2020-12-29 17:35:02.721   \n",
       "5fc7a03cc54bc33809e26251 2020-12-18 08:37:35.653 2020-12-18 11:37:54.951   \n",
       "5fca2ab29083b679224c764c 2020-12-10 06:23:28.719 2020-12-10 06:23:56.459   \n",
       "5fc7a035c54bc33809e261dd 2020-12-19 07:36:27.712 2020-12-19 10:36:50.139   \n",
       "5ec2b8d8665f7603e03b122b 2020-05-21 14:56:54.072 2020-05-21 14:57:47.894   \n",
       "\n",
       "                                                  checksum  \\\n",
       "5fe34f63b770574a005553db  b42ed28b9a72f51612db24cbd7b7a4f0   \n",
       "5ec2b8d9665f7603e03b1238  7e9e0a5f729f876a5b3055de5076db9d   \n",
       "5ec2b8da665f7603e03b127d  6d075df102717d0a1291facdb16ae21e   \n",
       "60b7a58e061c76d77545526f  12a28c1f993034480f13fd437253452c   \n",
       "60b7a4c3061c76d7754545e3  94f0763cb517ebf7bcf1bcb4ba009e08   \n",
       "60b7a4c3061c76d7754545da  407261fdff9a7a1156a2e909c57311dd   \n",
       "60002adfb08473039387bcae  772ba956e0729d7fee4509c818ae33f5   \n",
       "612cdb20ea1085618e02ff0f  964e297a3b12fcb1ab0a05fc8a7a2ed1   \n",
       "60b7a4c4061c76d7754545fd  25d924fc09b7291d964f464f9c3ec8c3   \n",
       "5fc7a031c54bc33809e2617d  78cdeaf637236f64e5ed7f97d78c2a27   \n",
       "5fbf75af5d05d73d0295fa99  9f0be084f7a24f3b408dd5baf95195c3   \n",
       "5fc7a034c54bc33809e261a8  a8480e06e4cb16d8a2069b11b64b68f6   \n",
       "5fca2aae9083b679224c7614  d72b4a8533d4f1badede50d142e6a207   \n",
       "5fca2aac9083b679224c75fc  0ceaba285ca6af7afe9ed714e812f3f8   \n",
       "5fca2aad9083b679224c7609  2f52c6b1adf2792a1798cad68856832b   \n",
       "5fe34f64b770574a005553f2  79309d55935a90a2e5a66e50da1fc5dc   \n",
       "60b7a4c4061c76d775454600  d38bd5f66bfa8082a80bdeb79643d3fe   \n",
       "5fbbe46da2b4551c06107c68  aa30ec2cdaf8d4c6b48384c86f1b21c9   \n",
       "5fe34f63b770574a005553c9  acda94fac9594455c03f6019e41704f6   \n",
       "5fca2ab09083b679224c7638  3ef75e9ad5d843b708ad810c412b5579   \n",
       "5fbf75af5d05d73d0295faa0  e0f11addff200d47590aae799c6cba51   \n",
       "60b7a4c1061c76d775454590  5175baff992915571d292e276f925dbf   \n",
       "60b7a4c1061c76d775454596  5175baff992915571d292e276f925dbf   \n",
       "60002ae0b08473039387bcf4  5b4cb8bd63a9fdc04e41a8bed71992ee   \n",
       "5fca2ab39083b679224c7655  0443af2e43de44dccdcb31a5958e7fd9   \n",
       "5fc7a036c54bc33809e261f7  40dd73abd89a9f2b26e464cf1959d587   \n",
       "5fbbe467a2b4551c06107b06  e2a337e8312b91c03b48930fa2f8ba8c   \n",
       "60dec1f556214d9842813fca  be44d9d73ca72437ea689ecd7ebb104c   \n",
       "5ebaa582665f7603e03b11ab  b01ed3512b1af1dda863f166b22245b2   \n",
       "60d1bbfdc07bc76a2196cb3f  f024ae28f467afc1b298a013f52980a2   \n",
       "5e257bb473698e191112be7b  7d811ff935432b80274dceac4e557100   \n",
       "5fe34f63b770574a005553c7  4d659e53668a4962c2392944322185e1   \n",
       "5fc635251d0a1603c7a0c93c  78cdeaf637236f64e5ed7f97d78c2a27   \n",
       "5fca2aac9083b679224c7605  78cdeaf637236f64e5ed7f97d78c2a27   \n",
       "5fca2aac9083b679224c75f6  920dea62956aaf460f989f73eb963955   \n",
       "5feb3e50bd24992aa31040e6  28c1365dd99c3e2afe1f2880101270a5   \n",
       "5fc7a03cc54bc33809e26251  7c13a14a758f1f4baa49caf61a53357f   \n",
       "5fca2ab29083b679224c764c  4505136238be1001722ec11eeda69c94   \n",
       "5fc7a035c54bc33809e261dd  ee76435de29c15cf8f3c06f648b8ab15   \n",
       "5ec2b8d8665f7603e03b122b  cc4b2aafacbb7b78598e7f9432950afa   \n",
       "\n",
       "                                         export_date  subject confidence  \\\n",
       "5fe34f63b770574a005553db  2021-07-29 14:20:42.942401                 NaN   \n",
       "5ec2b8d9665f7603e03b1238  2021-07-29 14:23:59.738433                 NaN   \n",
       "5ec2b8da665f7603e03b127d  2021-07-29 14:23:55.661347                 NaN   \n",
       "60b7a58e061c76d77545526f  2021-07-31 18:47:45.790842                 NaN   \n",
       "60b7a4c3061c76d7754545e3  2021-07-29 14:20:31.404607                 NaN   \n",
       "60b7a4c3061c76d7754545da  2021-07-29 14:21:22.701427                 NaN   \n",
       "60002adfb08473039387bcae  2021-07-29 14:21:13.540871                 NaN   \n",
       "612cdb20ea1085618e02ff0f  2021-10-20 19:02:51.328300                 1.0   \n",
       "60b7a4c4061c76d7754545fd  2021-07-29 14:21:24.874757                 NaN   \n",
       "5fc7a031c54bc33809e2617d  2021-07-29 14:21:48.496845                 NaN   \n",
       "5fbf75af5d05d73d0295fa99  2021-07-29 14:23:17.174366                 NaN   \n",
       "5fc7a034c54bc33809e261a8  2021-07-30 13:13:23.948618                 NaN   \n",
       "5fca2aae9083b679224c7614  2021-10-20 19:02:48.878597                 1.0   \n",
       "5fca2aac9083b679224c75fc  2021-07-29 14:22:50.035256                 NaN   \n",
       "5fca2aad9083b679224c7609  2021-07-29 14:22:49.750033                 NaN   \n",
       "5fe34f64b770574a005553f2  2021-07-29 14:21:10.978472                 NaN   \n",
       "60b7a4c4061c76d775454600  2021-07-29 14:21:23.505961                 NaN   \n",
       "5fbbe46da2b4551c06107c68  2021-07-29 14:23:46.973512                 NaN   \n",
       "5fe34f63b770574a005553c9  2021-07-29 14:21:07.660276                 NaN   \n",
       "5fca2ab09083b679224c7638  2021-07-29 14:23:04.460581                 NaN   \n",
       "5fbf75af5d05d73d0295faa0  2021-07-29 14:23:15.123056                 NaN   \n",
       "60b7a4c1061c76d775454590  2021-07-29 14:21:25.277590                 NaN   \n",
       "60b7a4c1061c76d775454596  2021-07-29 14:21:23.652895                 NaN   \n",
       "60002ae0b08473039387bcf4  2021-10-20 13:21:37.803358                 1.0   \n",
       "5fca2ab39083b679224c7655  2021-07-29 14:22:37.529252                 NaN   \n",
       "5fc7a036c54bc33809e261f7  2021-07-29 14:22:06.270996                 NaN   \n",
       "5fbbe467a2b4551c06107b06  2021-07-29 14:23:49.414941                 NaN   \n",
       "60dec1f556214d9842813fca  2021-10-20 13:21:38.995292                 1.0   \n",
       "5ebaa582665f7603e03b11ab  2021-07-29 14:23:55.945466                 NaN   \n",
       "60d1bbfdc07bc76a2196cb3f  2021-10-20 13:21:38.831156                 1.0   \n",
       "5e257bb473698e191112be7b  2021-07-29 14:24:18.605810                 NaN   \n",
       "5fe34f63b770574a005553c7  2021-07-29 14:21:06.833546                 NaN   \n",
       "5fc635251d0a1603c7a0c93c  2021-07-29 14:23:14.005467                 NaN   \n",
       "5fca2aac9083b679224c7605  2021-07-29 14:22:44.150552                 NaN   \n",
       "5fca2aac9083b679224c75f6  2021-07-29 14:22:38.435786                 NaN   \n",
       "5feb3e50bd24992aa31040e6  2021-07-29 14:21:34.388111                 NaN   \n",
       "5fc7a03cc54bc33809e26251  2021-07-29 14:22:07.442675                 NaN   \n",
       "5fca2ab29083b679224c764c  2021-07-29 14:22:58.725753                 NaN   \n",
       "5fc7a035c54bc33809e261dd  2021-07-29 14:21:57.658565                 NaN   \n",
       "5ec2b8d8665f7603e03b122b  2021-07-29 14:24:00.556759                 NaN   \n",
       "\n",
       "                          value_log1p  value_span valid currency      len  \\\n",
       "5fe34f63b770574a005553db    17.909855       160.0   NaN      NaN   2386.0   \n",
       "5ec2b8d9665f7603e03b1238    17.909855       169.0   NaN      RUB   2395.0   \n",
       "5ec2b8da665f7603e03b127d    23.358315       313.0   NaN      RUB  12174.0   \n",
       "60b7a58e061c76d77545526f    14.956608       186.0   NaN     EURO   5573.0   \n",
       "60b7a4c3061c76d7754545e3     9.287394       406.0   NaN      NaN   2276.0   \n",
       "60b7a4c3061c76d7754545da    10.819798      1240.0   NaN      NaN   2107.0   \n",
       "60002adfb08473039387bcae    17.599701       430.0   NaN      NaN   1511.0   \n",
       "612cdb20ea1085618e02ff0f    21.188968      2751.0   NaN      RUB  11862.0   \n",
       "60b7a4c4061c76d7754545fd    21.821878       337.0   NaN      RUB   8535.0   \n",
       "5fc7a031c54bc33809e2617d    20.352202       638.0   NaN      RUB   3267.0   \n",
       "5fbf75af5d05d73d0295fa99    13.675832       549.0   NaN      RUB   3265.0   \n",
       "5fc7a034c54bc33809e261a8     8.622031       507.0   NaN      RUB   4812.0   \n",
       "5fca2aae9083b679224c7614     8.621914       310.0   NaN      RUB   4615.0   \n",
       "5fca2aac9083b679224c75fc    20.723266       179.0   NaN      RUB   1343.0   \n",
       "5fca2aad9083b679224c7609    12.990903       864.0   NaN      RUB   2672.0   \n",
       "5fe34f64b770574a005553f2    18.119368      2358.0   NaN      NaN   7631.0   \n",
       "60b7a4c4061c76d775454600    14.956608       187.0   NaN     EURO   5574.0   \n",
       "5fbbe46da2b4551c06107c68    13.615501       426.0   NaN      RUB   3912.0   \n",
       "5fe34f63b770574a005553c9     8.621914       295.0   NaN      NaN   3696.0   \n",
       "5fca2ab09083b679224c7638    20.264231       892.0   NaN      RUB   6600.0   \n",
       "5fbf75af5d05d73d0295faa0    17.274897       720.0   NaN      RUB   5407.0   \n",
       "60b7a4c1061c76d775454590    12.210249       240.0   NaN      RUB   1691.0   \n",
       "60b7a4c1061c76d775454596    12.210249       240.0   NaN      RUB   1691.0   \n",
       "60002ae0b08473039387bcf4    18.105979      2360.0   NaN      RUB   7485.0   \n",
       "5fca2ab39083b679224c7655    17.386980       410.0   NaN      RUB   3016.0   \n",
       "5fc7a036c54bc33809e261f7    17.204659       607.0   NaN      RUB   3256.0   \n",
       "5fbbe467a2b4551c06107b06    13.077996      1030.0   NaN      RUB   4568.0   \n",
       "60dec1f556214d9842813fca    13.102163       119.0   NaN      RUB    564.0   \n",
       "5ebaa582665f7603e03b11ab    13.102163       120.0   NaN      RUB    562.0   \n",
       "60d1bbfdc07bc76a2196cb3f    13.102163       113.0   NaN      RUB    558.0   \n",
       "5e257bb473698e191112be7b    13.102163       114.0   NaN      RUB    556.0   \n",
       "5fe34f63b770574a005553c7    20.352202       615.0   NaN      NaN   3174.0   \n",
       "5fc635251d0a1603c7a0c93c    20.352202       638.0   NaN      RUB   3267.0   \n",
       "5fca2aac9083b679224c7605    20.352202       672.0   NaN      RUB   3267.0   \n",
       "5fca2aac9083b679224c75f6    15.113471       289.0   NaN      RUB   1745.0   \n",
       "5feb3e50bd24992aa31040e6    19.062535       419.0   NaN      RUB   2675.0   \n",
       "5fc7a03cc54bc33809e26251    14.545954       716.0   NaN      RUB   5734.0   \n",
       "5fca2ab29083b679224c764c    20.212440       502.0   NaN      RUB   8894.0   \n",
       "5fc7a035c54bc33809e261dd    20.030119       722.0   NaN      RUB   9149.0   \n",
       "5ec2b8d8665f7603e03b122b    23.431316       146.0   NaN      RUB   1196.0   \n",
       "\n",
       "                          unseen     score  \n",
       "5fe34f63b770574a005553db   False  0.576329  \n",
       "5ec2b8d9665f7603e03b1238   False  0.576329  \n",
       "5ec2b8da665f7603e03b127d   False  0.685942  \n",
       "60b7a58e061c76d77545526f   False  1.394334  \n",
       "60b7a4c3061c76d7754545e3   False  1.725183  \n",
       "60b7a4c3061c76d7754545da   False  1.904743  \n",
       "60002adfb08473039387bcae   False  2.074317  \n",
       "612cdb20ea1085618e02ff0f   False  2.286381  \n",
       "60b7a4c4061c76d7754545fd   False  2.355700  \n",
       "5fc7a031c54bc33809e2617d   False  2.380384  \n",
       "5fbf75af5d05d73d0295fa99   False  2.397845  \n",
       "5fc7a034c54bc33809e261a8   False  2.466704  \n",
       "5fca2aae9083b679224c7614   False  2.466738  \n",
       "5fca2aac9083b679224c75fc   False  2.659437  \n",
       "5fca2aad9083b679224c7609   False  2.863772  \n",
       "5fe34f64b770574a005553f2   False  3.226892  \n",
       "60b7a4c4061c76d775454600   False  3.436996  \n",
       "5fbbe46da2b4551c06107c68   False  3.928046  \n",
       "5fe34f63b770574a005553c9   False  4.133933  \n",
       "5fca2ab09083b679224c7638   False  4.787953  \n",
       "5fbf75af5d05d73d0295faa0   False  5.362206  \n",
       "60b7a4c1061c76d775454590   False  5.501068  \n",
       "60b7a4c1061c76d775454596   False  5.501068  \n",
       "60002ae0b08473039387bcf4   False  5.510366  \n",
       "5fca2ab39083b679224c7655   False  5.514141  \n",
       "5fc7a036c54bc33809e261f7   False  5.572575  \n",
       "5fbbe467a2b4551c06107b06   False  5.845497  \n",
       "60dec1f556214d9842813fca   False  5.847557  \n",
       "5ebaa582665f7603e03b11ab   False  5.847557  \n",
       "60d1bbfdc07bc76a2196cb3f   False  5.847557  \n",
       "5e257bb473698e191112be7b   False  5.847557  \n",
       "5fe34f63b770574a005553c7   False  6.153202  \n",
       "5fc635251d0a1603c7a0c93c   False  6.153202  \n",
       "5fca2aac9083b679224c7605   False  6.153202  \n",
       "5fca2aac9083b679224c75f6   False  6.343629  \n",
       "5feb3e50bd24992aa31040e6   False  6.569494  \n",
       "5fc7a03cc54bc33809e26251   False  6.591129  \n",
       "5fca2ab29083b679224c764c   False  7.330069  \n",
       "5fc7a035c54bc33809e261dd   False  7.396790  \n",
       "5ec2b8d8665f7603e03b122b   False  7.500719  "
      ]
     },
     "execution_count": 159,
     "metadata": {},
     "output_type": "execute_result"
    }
   ],
   "source": [
    "score_column_name = \"score\"\n",
    "\n",
    "def calc_no_value_importance(stats2, column_name, score_k=2.):\n",
    "        \n",
    "    for i, row in stats2.iterrows():\n",
    "        if pd.isna(row[column_name]):\n",
    "            stats2.at[i, score_column_name] *= score_k\n",
    "                \n",
    "def calc_user_importance(stats2):\n",
    "        \n",
    "    for i, row in stats2.iterrows():\n",
    "        if not pd.isna(row['unseen']):\n",
    "\n",
    "            if row['unseen'] == True:\n",
    "                stats2.at[i, score_column_name] *= 2\n",
    "                \n",
    "def calc_val_importance(stats2):\n",
    " \n",
    "    for i, row in stats2.iterrows():\n",
    "        if not pd.isna(row['value']):\n",
    "            val = row['value']\n",
    "            if val >= 2000:\n",
    "                stats2.at[i, score_column_name] *= 1./log1p(val)\n",
    "            if val < 2000:\n",
    "                stats2.at[i, score_column_name] *= 4.\n",
    "        else:\n",
    "            stats2.at[i, score_column_name] *= 10.0 #error\n",
    "            \n",
    "def calc_column_val_importance(stats2, column_name, k=1):\n",
    "    counts = stats2[column_name].value_counts()\n",
    " \n",
    "        \n",
    "    for i, row in stats2.iterrows():\n",
    "        val = row[column_name]\n",
    "        if val in counts:\n",
    "            count = counts[val]\n",
    "            stats2.at[i, score_column_name] *= k * log1p(count)\n",
    "#             print(count, log1p(count),  1./log1p(count))\n",
    "        else:\n",
    "            stats2.at[i, score_column_name] *= 10.0 #error\n",
    "\n",
    "            \n",
    "for i, row in stats2.iterrows():        \n",
    "  stats2.at[i, 'url'] = f'http://gpn-audit.nemosoft.ru/#/audit/edit/{i}'\n",
    "\n",
    "    \n",
    "stats2 ['unseen'] = pd.isna( stats2['user_correction_date'])\n",
    "\n",
    "stats2[score_column_name] = 1.\n",
    " \n",
    "\n",
    "calc_no_value_importance(stats2, 'org-1-alias', 2.)\n",
    "calc_no_value_importance(stats2, 'org-2-alias', 2.)\n",
    "calc_no_value_importance(stats2, 'org-1-name', 3.)\n",
    "calc_no_value_importance(stats2, 'org-2-name', 3.)\n",
    "calc_no_value_importance(stats2, 'user_correction_date', 10.)\n",
    "calc_no_value_importance(stats2, 'subject', 4.)\n",
    "calc_no_value_importance(stats2, 'value', 5.)\n",
    "\n",
    "## calc_column_val_importance(stats2, 'org-1-name')\n",
    "## calc_column_val_importance(stats2, 'org-2-name')\n",
    "\n",
    "calc_column_val_importance(stats2, 'org-1-alias')\n",
    "calc_column_val_importance(stats2, 'org-2-alias')\n",
    "calc_column_val_importance(stats2, 'subject', k = 3.)\n",
    "\n",
    "calc_user_importance(stats2)\n",
    "calc_val_importance(stats2)\n",
    "\n",
    "# drop_duplicates(subset=['checksum']).\n",
    "stats2 = stats2.sort_values([score_column_name], ascending=True)\n",
    "stats2.head(40)"
   ]
  },
  {
   "cell_type": "code",
   "execution_count": 160,
   "id": "247ec184-15b0-4808-abc6-b3d7e729adc0",
   "metadata": {
    "papermill": {
     "duration": 0.013603,
     "end_time": "2021-08-03T13:00:15.997961",
     "exception": false,
     "start_time": "2021-08-03T13:00:15.984358",
     "status": "completed"
    },
    "tags": []
   },
   "outputs": [],
   "source": [
    "# sub = stats2.sort_values(['score'], ascending=True).copy()\n",
    "# sub"
   ]
  },
  {
   "cell_type": "markdown",
   "id": "a8d8cc3c-1899-4eb0-beab-967ed8148316",
   "metadata": {
    "papermill": {
     "duration": 0.011337,
     "end_time": "2021-08-03T13:00:16.020379",
     "exception": false,
     "start_time": "2021-08-03T13:00:16.009042",
     "status": "completed"
    },
    "tags": []
   },
   "source": [
    "## Find and remove duplicates"
   ]
  },
  {
   "cell_type": "code",
   "execution_count": 161,
   "id": "f8ec7282-caa4-4eee-8289-6961e0e24eb1",
   "metadata": {
    "papermill": {
     "duration": 0.0276,
     "end_time": "2021-08-03T13:00:16.059913",
     "exception": false,
     "start_time": "2021-08-03T13:00:16.032313",
     "status": "completed"
    },
    "tags": []
   },
   "outputs": [
    {
     "data": {
      "text/html": [
       "<div>\n",
       "<style scoped>\n",
       "    .dataframe tbody tr th:only-of-type {\n",
       "        vertical-align: middle;\n",
       "    }\n",
       "\n",
       "    .dataframe tbody tr th {\n",
       "        vertical-align: top;\n",
       "    }\n",
       "\n",
       "    .dataframe thead th {\n",
       "        text-align: right;\n",
       "    }\n",
       "</style>\n",
       "<table border=\"1\" class=\"dataframe\">\n",
       "  <thead>\n",
       "    <tr style=\"text-align: right;\">\n",
       "      <th></th>\n",
       "      <th>url</th>\n",
       "      <th>version</th>\n",
       "      <th>org-1-name</th>\n",
       "      <th>org-2-name</th>\n",
       "      <th>org-1-alias</th>\n",
       "      <th>org-2-alias</th>\n",
       "      <th>subject</th>\n",
       "      <th>value</th>\n",
       "      <th>user_correction_date</th>\n",
       "      <th>analyze_date</th>\n",
       "      <th>checksum</th>\n",
       "      <th>export_date</th>\n",
       "      <th>subject confidence</th>\n",
       "      <th>value_log1p</th>\n",
       "      <th>value_span</th>\n",
       "      <th>valid</th>\n",
       "      <th>currency</th>\n",
       "      <th>len</th>\n",
       "      <th>unseen</th>\n",
       "      <th>score</th>\n",
       "    </tr>\n",
       "  </thead>\n",
       "  <tbody>\n",
       "    <tr>\n",
       "      <th>5fb3b9b000881c332b56746c</th>\n",
       "      <td>http://gpn-audit.nemosoft.ru/#/audit/edit/5fb3...</td>\n",
       "      <td>2.3.14</td>\n",
       "      <td>NaN</td>\n",
       "      <td>NaN</td>\n",
       "      <td>NaN</td>\n",
       "      <td>NaN</td>\n",
       "      <td>NaN</td>\n",
       "      <td>NaN</td>\n",
       "      <td>NaT</td>\n",
       "      <td>2020-11-17 11:55:01.865</td>\n",
       "      <td>52a9649ba88d76e1f943d31db634dff4</td>\n",
       "      <td>2021-07-29 14:27:33.322139</td>\n",
       "      <td>NaN</td>\n",
       "      <td>NaN</td>\n",
       "      <td>NaN</td>\n",
       "      <td>NaN</td>\n",
       "      <td>NaN</td>\n",
       "      <td>49345.0</td>\n",
       "      <td>True</td>\n",
       "      <td>1.440000e+08</td>\n",
       "    </tr>\n",
       "    <tr>\n",
       "      <th>5fc7a047c54bc33809e26372</th>\n",
       "      <td>http://gpn-audit.nemosoft.ru/#/audit/edit/5fc7...</td>\n",
       "      <td>2.3.14</td>\n",
       "      <td>газпромнефть-оренбург</td>\n",
       "      <td>ноябрьскнефтегазсвязь</td>\n",
       "      <td>заказчик</td>\n",
       "      <td>NaN</td>\n",
       "      <td>Service</td>\n",
       "      <td>90619807.0</td>\n",
       "      <td>NaT</td>\n",
       "      <td>2020-12-03 08:07:48.699</td>\n",
       "      <td>82137d4b0ded9b81b1d12f4d9e98c383</td>\n",
       "      <td>2021-07-29 14:32:11.482145</td>\n",
       "      <td>NaN</td>\n",
       "      <td>18.322183</td>\n",
       "      <td>4503.0</td>\n",
       "      <td>NaN</td>\n",
       "      <td>RUB</td>\n",
       "      <td>49340.0</td>\n",
       "      <td>True</td>\n",
       "      <td>3.142624e+03</td>\n",
       "    </tr>\n",
       "    <tr>\n",
       "      <th>5fca2acd9083b679224c77da</th>\n",
       "      <td>http://gpn-audit.nemosoft.ru/#/audit/edit/5fca...</td>\n",
       "      <td>2.3.14</td>\n",
       "      <td>газпромнефть-оренбург</td>\n",
       "      <td>ноябрьскнефтегазсвязь</td>\n",
       "      <td>заказчик</td>\n",
       "      <td>подрядчик</td>\n",
       "      <td>GeneralContract</td>\n",
       "      <td>90619807.0</td>\n",
       "      <td>2021-07-30 21:59:37.858</td>\n",
       "      <td>2020-12-10 10:40:36.652</td>\n",
       "      <td>6b64d52e5ecb4941696164ed4950e735</td>\n",
       "      <td>2021-07-31 18:18:15.645746</td>\n",
       "      <td>NaN</td>\n",
       "      <td>18.322183</td>\n",
       "      <td>4207.0</td>\n",
       "      <td>NaN</td>\n",
       "      <td>RUB</td>\n",
       "      <td>49045.0</td>\n",
       "      <td>False</td>\n",
       "      <td>2.623410e+01</td>\n",
       "    </tr>\n",
       "    <tr>\n",
       "      <th>5fc7a044c54bc33809e2634d</th>\n",
       "      <td>http://gpn-audit.nemosoft.ru/#/audit/edit/5fc7...</td>\n",
       "      <td>2.3.14</td>\n",
       "      <td>NaN</td>\n",
       "      <td>NaN</td>\n",
       "      <td>NaN</td>\n",
       "      <td>NaN</td>\n",
       "      <td>NaN</td>\n",
       "      <td>NaN</td>\n",
       "      <td>NaT</td>\n",
       "      <td>2020-12-02 14:13:46.114</td>\n",
       "      <td>2be147450a483219b8d7139324d23b03</td>\n",
       "      <td>2021-07-29 14:32:01.545688</td>\n",
       "      <td>NaN</td>\n",
       "      <td>NaN</td>\n",
       "      <td>NaN</td>\n",
       "      <td>NaN</td>\n",
       "      <td>NaN</td>\n",
       "      <td>44185.0</td>\n",
       "      <td>True</td>\n",
       "      <td>1.440000e+08</td>\n",
       "    </tr>\n",
       "    <tr>\n",
       "      <th>5fb3b9a800881c332b567433</th>\n",
       "      <td>http://gpn-audit.nemosoft.ru/#/audit/edit/5fb3...</td>\n",
       "      <td>2.3.14</td>\n",
       "      <td>NaN</td>\n",
       "      <td>NaN</td>\n",
       "      <td>NaN</td>\n",
       "      <td>NaN</td>\n",
       "      <td>NaN</td>\n",
       "      <td>NaN</td>\n",
       "      <td>NaT</td>\n",
       "      <td>2020-11-17 11:54:59.086</td>\n",
       "      <td>287d93101b752b5f041d476d7196864e</td>\n",
       "      <td>2021-07-29 14:27:25.900821</td>\n",
       "      <td>NaN</td>\n",
       "      <td>NaN</td>\n",
       "      <td>NaN</td>\n",
       "      <td>NaN</td>\n",
       "      <td>NaN</td>\n",
       "      <td>44185.0</td>\n",
       "      <td>True</td>\n",
       "      <td>1.440000e+08</td>\n",
       "    </tr>\n",
       "    <tr>\n",
       "      <th>...</th>\n",
       "      <td>...</td>\n",
       "      <td>...</td>\n",
       "      <td>...</td>\n",
       "      <td>...</td>\n",
       "      <td>...</td>\n",
       "      <td>...</td>\n",
       "      <td>...</td>\n",
       "      <td>...</td>\n",
       "      <td>...</td>\n",
       "      <td>...</td>\n",
       "      <td>...</td>\n",
       "      <td>...</td>\n",
       "      <td>...</td>\n",
       "      <td>...</td>\n",
       "      <td>...</td>\n",
       "      <td>...</td>\n",
       "      <td>...</td>\n",
       "      <td>...</td>\n",
       "      <td>...</td>\n",
       "      <td>...</td>\n",
       "    </tr>\n",
       "    <tr>\n",
       "      <th>60b7a502061c76d775454acf</th>\n",
       "      <td>http://gpn-audit.nemosoft.ru/#/audit/edit/60b7...</td>\n",
       "      <td>2.3.14</td>\n",
       "      <td>NaN</td>\n",
       "      <td>NaN</td>\n",
       "      <td>NaN</td>\n",
       "      <td>NaN</td>\n",
       "      <td>Service</td>\n",
       "      <td>NaN</td>\n",
       "      <td>NaT</td>\n",
       "      <td>2021-06-04 02:16:34.669</td>\n",
       "      <td>0e4c83130e2fa3bda54cdec67dd53694</td>\n",
       "      <td>2021-07-29 14:35:31.486684</td>\n",
       "      <td>NaN</td>\n",
       "      <td>NaN</td>\n",
       "      <td>NaN</td>\n",
       "      <td>NaN</td>\n",
       "      <td>NaN</td>\n",
       "      <td>80.0</td>\n",
       "      <td>True</td>\n",
       "      <td>7.721062e+07</td>\n",
       "    </tr>\n",
       "    <tr>\n",
       "      <th>615e9e978f3b0514f3f42412</th>\n",
       "      <td>http://gpn-audit.nemosoft.ru/#/audit/edit/615e...</td>\n",
       "      <td>2.4.6</td>\n",
       "      <td>газпром нефть</td>\n",
       "      <td>NaN</td>\n",
       "      <td>NaN</td>\n",
       "      <td>NaN</td>\n",
       "      <td>BankGuarantees</td>\n",
       "      <td>NaN</td>\n",
       "      <td>NaT</td>\n",
       "      <td>2021-10-07 10:15:41.812</td>\n",
       "      <td>9bc5730f6ae0574a483caa5c2ab99222</td>\n",
       "      <td>2021-10-20 13:23:37.208434</td>\n",
       "      <td>0.623219</td>\n",
       "      <td>NaN</td>\n",
       "      <td>NaN</td>\n",
       "      <td>NaN</td>\n",
       "      <td>NaN</td>\n",
       "      <td>65.0</td>\n",
       "      <td>True</td>\n",
       "      <td>7.005277e+06</td>\n",
       "    </tr>\n",
       "    <tr>\n",
       "      <th>612cdb23ea1085618e02ff48</th>\n",
       "      <td>http://gpn-audit.nemosoft.ru/#/audit/edit/612c...</td>\n",
       "      <td>2.4.4</td>\n",
       "      <td>газпром нефть</td>\n",
       "      <td>NaN</td>\n",
       "      <td>NaN</td>\n",
       "      <td>NaN</td>\n",
       "      <td>BankGuarantees</td>\n",
       "      <td>NaN</td>\n",
       "      <td>NaT</td>\n",
       "      <td>2021-08-31 11:44:01.295</td>\n",
       "      <td>e8d3ae2a2195510471d2bd48146dbfe3</td>\n",
       "      <td>2021-10-20 13:22:13.111976</td>\n",
       "      <td>0.707877</td>\n",
       "      <td>NaN</td>\n",
       "      <td>NaN</td>\n",
       "      <td>NaN</td>\n",
       "      <td>NaN</td>\n",
       "      <td>65.0</td>\n",
       "      <td>True</td>\n",
       "      <td>7.005277e+06</td>\n",
       "    </tr>\n",
       "    <tr>\n",
       "      <th>60b7a58e061c76d77545525d</th>\n",
       "      <td>http://gpn-audit.nemosoft.ru/#/audit/edit/60b7...</td>\n",
       "      <td>2.3.14</td>\n",
       "      <td>NaN</td>\n",
       "      <td>NaN</td>\n",
       "      <td>NaN</td>\n",
       "      <td>NaN</td>\n",
       "      <td>Deal</td>\n",
       "      <td>NaN</td>\n",
       "      <td>NaT</td>\n",
       "      <td>2021-06-05 06:12:14.896</td>\n",
       "      <td>16919b50a8bbeca754edbb08c5636bb5</td>\n",
       "      <td>2021-07-29 14:38:30.637880</td>\n",
       "      <td>NaN</td>\n",
       "      <td>NaN</td>\n",
       "      <td>NaN</td>\n",
       "      <td>NaN</td>\n",
       "      <td>NaN</td>\n",
       "      <td>25.0</td>\n",
       "      <td>True</td>\n",
       "      <td>6.676652e+07</td>\n",
       "    </tr>\n",
       "    <tr>\n",
       "      <th>60b7a599061c76d775455372</th>\n",
       "      <td>http://gpn-audit.nemosoft.ru/#/audit/edit/60b7...</td>\n",
       "      <td>2.3.14</td>\n",
       "      <td>NaN</td>\n",
       "      <td>NaN</td>\n",
       "      <td>NaN</td>\n",
       "      <td>NaN</td>\n",
       "      <td>Service</td>\n",
       "      <td>NaN</td>\n",
       "      <td>NaT</td>\n",
       "      <td>2021-06-05 09:48:33.057</td>\n",
       "      <td>2f8424c3316297153507eee5946b2e14</td>\n",
       "      <td>2021-07-29 14:39:11.000682</td>\n",
       "      <td>NaN</td>\n",
       "      <td>NaN</td>\n",
       "      <td>NaN</td>\n",
       "      <td>NaN</td>\n",
       "      <td>NaN</td>\n",
       "      <td>10.0</td>\n",
       "      <td>True</td>\n",
       "      <td>7.721062e+07</td>\n",
       "    </tr>\n",
       "  </tbody>\n",
       "</table>\n",
       "<p>2843 rows × 20 columns</p>\n",
       "</div>"
      ],
      "text/plain": [
       "                                                                        url  \\\n",
       "5fb3b9b000881c332b56746c  http://gpn-audit.nemosoft.ru/#/audit/edit/5fb3...   \n",
       "5fc7a047c54bc33809e26372  http://gpn-audit.nemosoft.ru/#/audit/edit/5fc7...   \n",
       "5fca2acd9083b679224c77da  http://gpn-audit.nemosoft.ru/#/audit/edit/5fca...   \n",
       "5fc7a044c54bc33809e2634d  http://gpn-audit.nemosoft.ru/#/audit/edit/5fc7...   \n",
       "5fb3b9a800881c332b567433  http://gpn-audit.nemosoft.ru/#/audit/edit/5fb3...   \n",
       "...                                                                     ...   \n",
       "60b7a502061c76d775454acf  http://gpn-audit.nemosoft.ru/#/audit/edit/60b7...   \n",
       "615e9e978f3b0514f3f42412  http://gpn-audit.nemosoft.ru/#/audit/edit/615e...   \n",
       "612cdb23ea1085618e02ff48  http://gpn-audit.nemosoft.ru/#/audit/edit/612c...   \n",
       "60b7a58e061c76d77545525d  http://gpn-audit.nemosoft.ru/#/audit/edit/60b7...   \n",
       "60b7a599061c76d775455372  http://gpn-audit.nemosoft.ru/#/audit/edit/60b7...   \n",
       "\n",
       "                         version             org-1-name  \\\n",
       "5fb3b9b000881c332b56746c  2.3.14                    NaN   \n",
       "5fc7a047c54bc33809e26372  2.3.14  газпромнефть-оренбург   \n",
       "5fca2acd9083b679224c77da  2.3.14  газпромнефть-оренбург   \n",
       "5fc7a044c54bc33809e2634d  2.3.14                    NaN   \n",
       "5fb3b9a800881c332b567433  2.3.14                    NaN   \n",
       "...                          ...                    ...   \n",
       "60b7a502061c76d775454acf  2.3.14                    NaN   \n",
       "615e9e978f3b0514f3f42412   2.4.6          газпром нефть   \n",
       "612cdb23ea1085618e02ff48   2.4.4          газпром нефть   \n",
       "60b7a58e061c76d77545525d  2.3.14                    NaN   \n",
       "60b7a599061c76d775455372  2.3.14                    NaN   \n",
       "\n",
       "                                     org-2-name org-1-alias org-2-alias  \\\n",
       "5fb3b9b000881c332b56746c                    NaN         NaN         NaN   \n",
       "5fc7a047c54bc33809e26372  ноябрьскнефтегазсвязь    заказчик         NaN   \n",
       "5fca2acd9083b679224c77da  ноябрьскнефтегазсвязь    заказчик   подрядчик   \n",
       "5fc7a044c54bc33809e2634d                    NaN         NaN         NaN   \n",
       "5fb3b9a800881c332b567433                    NaN         NaN         NaN   \n",
       "...                                         ...         ...         ...   \n",
       "60b7a502061c76d775454acf                    NaN         NaN         NaN   \n",
       "615e9e978f3b0514f3f42412                    NaN         NaN         NaN   \n",
       "612cdb23ea1085618e02ff48                    NaN         NaN         NaN   \n",
       "60b7a58e061c76d77545525d                    NaN         NaN         NaN   \n",
       "60b7a599061c76d775455372                    NaN         NaN         NaN   \n",
       "\n",
       "                                  subject       value    user_correction_date  \\\n",
       "5fb3b9b000881c332b56746c              NaN         NaN                     NaT   \n",
       "5fc7a047c54bc33809e26372          Service  90619807.0                     NaT   \n",
       "5fca2acd9083b679224c77da  GeneralContract  90619807.0 2021-07-30 21:59:37.858   \n",
       "5fc7a044c54bc33809e2634d              NaN         NaN                     NaT   \n",
       "5fb3b9a800881c332b567433              NaN         NaN                     NaT   \n",
       "...                                   ...         ...                     ...   \n",
       "60b7a502061c76d775454acf          Service         NaN                     NaT   \n",
       "615e9e978f3b0514f3f42412   BankGuarantees         NaN                     NaT   \n",
       "612cdb23ea1085618e02ff48   BankGuarantees         NaN                     NaT   \n",
       "60b7a58e061c76d77545525d             Deal         NaN                     NaT   \n",
       "60b7a599061c76d775455372          Service         NaN                     NaT   \n",
       "\n",
       "                                    analyze_date  \\\n",
       "5fb3b9b000881c332b56746c 2020-11-17 11:55:01.865   \n",
       "5fc7a047c54bc33809e26372 2020-12-03 08:07:48.699   \n",
       "5fca2acd9083b679224c77da 2020-12-10 10:40:36.652   \n",
       "5fc7a044c54bc33809e2634d 2020-12-02 14:13:46.114   \n",
       "5fb3b9a800881c332b567433 2020-11-17 11:54:59.086   \n",
       "...                                          ...   \n",
       "60b7a502061c76d775454acf 2021-06-04 02:16:34.669   \n",
       "615e9e978f3b0514f3f42412 2021-10-07 10:15:41.812   \n",
       "612cdb23ea1085618e02ff48 2021-08-31 11:44:01.295   \n",
       "60b7a58e061c76d77545525d 2021-06-05 06:12:14.896   \n",
       "60b7a599061c76d775455372 2021-06-05 09:48:33.057   \n",
       "\n",
       "                                                  checksum  \\\n",
       "5fb3b9b000881c332b56746c  52a9649ba88d76e1f943d31db634dff4   \n",
       "5fc7a047c54bc33809e26372  82137d4b0ded9b81b1d12f4d9e98c383   \n",
       "5fca2acd9083b679224c77da  6b64d52e5ecb4941696164ed4950e735   \n",
       "5fc7a044c54bc33809e2634d  2be147450a483219b8d7139324d23b03   \n",
       "5fb3b9a800881c332b567433  287d93101b752b5f041d476d7196864e   \n",
       "...                                                    ...   \n",
       "60b7a502061c76d775454acf  0e4c83130e2fa3bda54cdec67dd53694   \n",
       "615e9e978f3b0514f3f42412  9bc5730f6ae0574a483caa5c2ab99222   \n",
       "612cdb23ea1085618e02ff48  e8d3ae2a2195510471d2bd48146dbfe3   \n",
       "60b7a58e061c76d77545525d  16919b50a8bbeca754edbb08c5636bb5   \n",
       "60b7a599061c76d775455372  2f8424c3316297153507eee5946b2e14   \n",
       "\n",
       "                                         export_date  subject confidence  \\\n",
       "5fb3b9b000881c332b56746c  2021-07-29 14:27:33.322139                 NaN   \n",
       "5fc7a047c54bc33809e26372  2021-07-29 14:32:11.482145                 NaN   \n",
       "5fca2acd9083b679224c77da  2021-07-31 18:18:15.645746                 NaN   \n",
       "5fc7a044c54bc33809e2634d  2021-07-29 14:32:01.545688                 NaN   \n",
       "5fb3b9a800881c332b567433  2021-07-29 14:27:25.900821                 NaN   \n",
       "...                                              ...                 ...   \n",
       "60b7a502061c76d775454acf  2021-07-29 14:35:31.486684                 NaN   \n",
       "615e9e978f3b0514f3f42412  2021-10-20 13:23:37.208434            0.623219   \n",
       "612cdb23ea1085618e02ff48  2021-10-20 13:22:13.111976            0.707877   \n",
       "60b7a58e061c76d77545525d  2021-07-29 14:38:30.637880                 NaN   \n",
       "60b7a599061c76d775455372  2021-07-29 14:39:11.000682                 NaN   \n",
       "\n",
       "                          value_log1p  value_span valid currency      len  \\\n",
       "5fb3b9b000881c332b56746c          NaN         NaN   NaN      NaN  49345.0   \n",
       "5fc7a047c54bc33809e26372    18.322183      4503.0   NaN      RUB  49340.0   \n",
       "5fca2acd9083b679224c77da    18.322183      4207.0   NaN      RUB  49045.0   \n",
       "5fc7a044c54bc33809e2634d          NaN         NaN   NaN      NaN  44185.0   \n",
       "5fb3b9a800881c332b567433          NaN         NaN   NaN      NaN  44185.0   \n",
       "...                               ...         ...   ...      ...      ...   \n",
       "60b7a502061c76d775454acf          NaN         NaN   NaN      NaN     80.0   \n",
       "615e9e978f3b0514f3f42412          NaN         NaN   NaN      NaN     65.0   \n",
       "612cdb23ea1085618e02ff48          NaN         NaN   NaN      NaN     65.0   \n",
       "60b7a58e061c76d77545525d          NaN         NaN   NaN      NaN     25.0   \n",
       "60b7a599061c76d775455372          NaN         NaN   NaN      NaN     10.0   \n",
       "\n",
       "                          unseen         score  \n",
       "5fb3b9b000881c332b56746c    True  1.440000e+08  \n",
       "5fc7a047c54bc33809e26372    True  3.142624e+03  \n",
       "5fca2acd9083b679224c77da   False  2.623410e+01  \n",
       "5fc7a044c54bc33809e2634d    True  1.440000e+08  \n",
       "5fb3b9a800881c332b567433    True  1.440000e+08  \n",
       "...                          ...           ...  \n",
       "60b7a502061c76d775454acf    True  7.721062e+07  \n",
       "615e9e978f3b0514f3f42412    True  7.005277e+06  \n",
       "612cdb23ea1085618e02ff48    True  7.005277e+06  \n",
       "60b7a58e061c76d77545525d    True  6.676652e+07  \n",
       "60b7a599061c76d775455372    True  7.721062e+07  \n",
       "\n",
       "[2843 rows x 20 columns]"
      ]
     },
     "execution_count": 161,
     "metadata": {},
     "output_type": "execute_result"
    }
   ],
   "source": [
    "stats2['len'] //= 5 #similar lens\n",
    "stats2['len'] *= 5 #similar lens\n",
    "stats2.sort_values(['len', 'org-1-name', 'org-2-name', 'org-1-alias','org-2-alias', 'value', 'subject'], ascending=False)"
   ]
  },
  {
   "cell_type": "code",
   "execution_count": 162,
   "id": "e5701fce-1bf6-4b15-86dc-8aee903e160d",
   "metadata": {
    "papermill": {
     "duration": 0.093955,
     "end_time": "2021-08-03T13:00:16.165294",
     "exception": false,
     "start_time": "2021-08-03T13:00:16.071339",
     "status": "completed"
    },
    "tags": []
   },
   "outputs": [],
   "source": [
    "for i, row in stats2.iterrows():\n",
    "  _str = ':'.join(sorted([str(x) for x in\n",
    "                          [row['len'], row['org-1-alias'], row['org-2-alias'], row['org-1-name'], row['org-2-name'],\n",
    "                           row['value'], row['subject']]]))\n",
    "  stats2.at[i, 'hash'] = hash(_str)\n",
    "\n",
    "stats2 = stats2.sort_values(['hash'])\n"
   ]
  },
  {
   "cell_type": "code",
   "execution_count": 163,
   "id": "23073dff-1fbc-4bef-aeae-cdd9fb3dfe0d",
   "metadata": {
    "papermill": {
     "duration": 0.076868,
     "end_time": "2021-08-03T13:00:16.253656",
     "exception": false,
     "start_time": "2021-08-03T13:00:16.176788",
     "status": "completed"
    },
    "tags": []
   },
   "outputs": [
    {
     "data": {
      "text/plain": [
       "2843"
      ]
     },
     "execution_count": 163,
     "metadata": {},
     "output_type": "execute_result"
    }
   ],
   "source": [
    "unks = stats2['hash'].value_counts()\n",
    "\n",
    "for i, row in stats2.iterrows():   \n",
    "    stats2.at[i, 'dups'] = unks[row['hash']]\n",
    "    \n",
    "dups = stats2.sort_values(['dups', 'hash'], ascending=False)\n",
    "# dups.to_csv(Path(work_dir) / 'contract_trainset_meta.duplicates.csv', index=True)\n",
    "\n",
    "# dups[40:].head(40)\n",
    "len(dups)"
   ]
  },
  {
   "cell_type": "code",
   "execution_count": 164,
   "id": "dcf72526-1ad7-4699-91ac-abaeff5c23f7",
   "metadata": {
    "papermill": {
     "duration": 0.015314,
     "end_time": "2021-08-03T13:00:16.280531",
     "exception": false,
     "start_time": "2021-08-03T13:00:16.265217",
     "status": "completed"
    },
    "tags": []
   },
   "outputs": [
    {
     "data": {
      "text/plain": [
       "-1.567261e+17    7\n",
       "-8.405981e+18    7\n",
       " 1.557165e+18    7\n",
       " 5.014261e+18    6\n",
       "-1.539973e+18    6\n",
       "                ..\n",
       "-2.442806e+18    1\n",
       "-2.444567e+18    1\n",
       "-2.446435e+18    1\n",
       "-2.456971e+18    1\n",
       " 9.219870e+18    1\n",
       "Name: hash, Length: 2180, dtype: int64"
      ]
     },
     "execution_count": 164,
     "metadata": {},
     "output_type": "execute_result"
    }
   ],
   "source": [
    "unks"
   ]
  },
  {
   "cell_type": "markdown",
   "id": "b02726c5-9781-43a6-8b5d-5c18f108be97",
   "metadata": {
    "papermill": {
     "duration": 0.011486,
     "end_time": "2021-08-03T13:00:16.303604",
     "exception": false,
     "start_time": "2021-08-03T13:00:16.292118",
     "status": "completed"
    },
    "tags": []
   },
   "source": [
    "### Drop duplicates"
   ]
  },
  {
   "cell_type": "code",
   "execution_count": 165,
   "id": "966b8c5e-1123-4bdb-a493-e4687e28a7ac",
   "metadata": {
    "papermill": {
     "duration": 0.019318,
     "end_time": "2021-08-03T13:00:16.335109",
     "exception": false,
     "start_time": "2021-08-03T13:00:16.315791",
     "status": "completed"
    },
    "tags": []
   },
   "outputs": [],
   "source": [
    "dups_s = dups.sort_values([score_column_name], ascending=True).copy()\n",
    "\n",
    "dups_s = dups_s.drop_duplicates(subset=['hash'])\n",
    "dups_s = dups_s.sort_values([score_column_name], ascending=True)\n",
    "\n",
    "\n",
    "dups_s = dups_s.sort_values([score_column_name], ascending=True)\n",
    "dups_s = dups_s[dups_s[score_column_name] < 5000]\n",
    "\n",
    "# dups_s [dups_s['len'] > 30000].head(40)"
   ]
  },
  {
   "cell_type": "markdown",
   "id": "291fcb98-2de6-4518-8746-fd436042a6fa",
   "metadata": {
    "papermill": {
     "duration": 0.011468,
     "end_time": "2021-08-03T13:00:16.358146",
     "exception": false,
     "start_time": "2021-08-03T13:00:16.346678",
     "status": "completed"
    },
    "tags": []
   },
   "source": [
    "## Remove rare subjects and very long docs"
   ]
  },
  {
   "cell_type": "code",
   "execution_count": 166,
   "id": "556a1a76-b672-46e9-abf9-319b52f77c46",
   "metadata": {
    "papermill": {
     "duration": 0.060113,
     "end_time": "2021-08-03T13:00:16.429594",
     "exception": false,
     "start_time": "2021-08-03T13:00:16.369481",
     "status": "completed"
    },
    "tags": []
   },
   "outputs": [
    {
     "data": {
      "image/png": "[encoded data removed]",
      "text/plain": [
       "<Figure size 864x576 with 1 Axes>"
      ]
     },
     "metadata": {
      "needs_background": "light"
     },
     "output_type": "display_data"
    }
   ],
   "source": [
    "plt.figure(figsize=(12, 8))\n",
    "ax = dups_s[dups_s['len'] < 30000] ['len'].plot.hist(bins=40, alpha=0.8)"
   ]
  },
  {
   "cell_type": "code",
   "execution_count": 167,
   "id": "6294dfac-cdc5-4167-a64d-9216f2ead251",
   "metadata": {
    "papermill": {
     "duration": 0.038499,
     "end_time": "2021-08-03T13:00:16.479798",
     "exception": false,
     "start_time": "2021-08-03T13:00:16.441299",
     "status": "completed"
    },
    "tags": []
   },
   "outputs": [
    {
     "data": {
      "image/png": "[encoded data removed]",
      "text/plain": [
       "<Figure size 864x576 with 1 Axes>"
      ]
     },
     "metadata": {
      "needs_background": "light"
     },
     "output_type": "display_data"
    }
   ],
   "source": [
    "plt.figure(figsize=(12, 8))\n",
    "ax = dups_s[score_column_name].plot.hist(bins=5, alpha=0.8)"
   ]
  },
  {
   "cell_type": "code",
   "execution_count": 168,
   "id": "0087ee9d-297f-4d28-8fe2-c460bed597ed",
   "metadata": {
    "papermill": {
     "duration": 0.050659,
     "end_time": "2021-08-03T13:00:16.542195",
     "exception": false,
     "start_time": "2021-08-03T13:00:16.491536",
     "status": "completed"
    },
    "tags": []
   },
   "outputs": [
    {
     "name": "stdout",
     "output_type": "stream",
     "text": [
      "excluding too long docs\n",
      "excluding http://gpn-audit.nemosoft.ru/#/audit/edit/5fbf75c75d05d73d0295fac0 GeneralContract 38360.0\n",
      "excluding http://gpn-audit.nemosoft.ru/#/audit/edit/5fca2acd9083b679224c77da GeneralContract 49045.0\n",
      "excluding http://gpn-audit.nemosoft.ru/#/audit/edit/5fca2ac79083b679224c7750 GeneralContract 41250.0\n",
      "excluding http://gpn-audit.nemosoft.ru/#/audit/edit/5fca2ac79083b679224c774f GeneralContract 39315.0\n",
      "excluding http://gpn-audit.nemosoft.ru/#/audit/edit/5fca2ac99083b679224c77b0 GeneralContract 39000.0\n",
      "excluding http://gpn-audit.nemosoft.ru/#/audit/edit/5fca2ac89083b679224c7786 GeneralContract 43935.0\n",
      "excluding http://gpn-audit.nemosoft.ru/#/audit/edit/5f9672f182451803b5001df7 GeneralContract 31175.0\n",
      "excluding http://gpn-audit.nemosoft.ru/#/audit/edit/60b7a589061c76d77545523c GeneralContract 32720.0\n",
      "excluding http://gpn-audit.nemosoft.ru/#/audit/edit/5ec2b8da665f7603e03b127c GeneralContract 31095.0\n",
      "excluding http://gpn-audit.nemosoft.ru/#/audit/edit/5fc7a047c54bc33809e26372 Service 49340.0\n",
      "excluding http://gpn-audit.nemosoft.ru/#/audit/edit/60b7a52f061c76d775454dc8 Service 38905.0\n",
      "excluding docs with rare subj\n",
      "excluding http://gpn-audit.nemosoft.ru/#/audit/edit/5ec2b8d9665f7603e03b1238 PledgeEncumbrance\n",
      "excluding http://gpn-audit.nemosoft.ru/#/audit/edit/5fe34f63b770574a005553db PledgeEncumbrance\n",
      "excluding http://gpn-audit.nemosoft.ru/#/audit/edit/612cdb20ea1085618e02ff0f DecisionsForSubsidiary\n",
      "excluding http://gpn-audit.nemosoft.ru/#/audit/edit/5fc7a031c54bc33809e2617d AssetTransactions\n",
      "excluding http://gpn-audit.nemosoft.ru/#/audit/edit/5fbbe467a2b4551c06107b06 BigDeal\n",
      "excluding http://gpn-audit.nemosoft.ru/#/audit/edit/5fe34f63b770574a005553c7 ParticipationInOtherOrganizations\n",
      "excluding http://gpn-audit.nemosoft.ru/#/audit/edit/5fc635251d0a1603c7a0c93c ParticipationInOtherOrganizations\n",
      "excluding http://gpn-audit.nemosoft.ru/#/audit/edit/5feb3e50bd24992aa31040e6 ParticipationInOtherOrganizations\n",
      "excluding http://gpn-audit.nemosoft.ru/#/audit/edit/5fbf75af5d05d73d0295fa96 BigDeal\n",
      "excluding http://gpn-audit.nemosoft.ru/#/audit/edit/60002adfb08473039387bcc5 PledgeEncumbrance\n",
      "excluding http://gpn-audit.nemosoft.ru/#/audit/edit/5fbbe46aa2b4551c06107ba5 BigDeal\n",
      "excluding http://gpn-audit.nemosoft.ru/#/audit/edit/5fbbbd17a2b4551c0610794a BigDeal\n",
      "excluding http://gpn-audit.nemosoft.ru/#/audit/edit/60b7a4c4061c76d775454601 BankGuarantees\n",
      "excluding http://gpn-audit.nemosoft.ru/#/audit/edit/5ec2b8d9665f7603e03b1246 PledgeEncumbrance\n",
      "excluding http://gpn-audit.nemosoft.ru/#/audit/edit/5ec2b8da665f7603e03b1259 PledgeEncumbrance\n"
     ]
    }
   ],
   "source": [
    "\n",
    "dups_s['valid'] = True\n",
    "\n",
    "print(\"excluding too long docs\")\n",
    "for i, row in dups_s.iterrows():   \n",
    "    if row['len']>30000:\n",
    "        print ('excluding', row[0], row['subject'], row['len'])\n",
    "        dups_s.at[i, 'valid'] = False  \n",
    "        \n",
    "dups_s = dups_s[dups_s['valid'] == True]\n",
    "\n",
    "print(\"excluding docs with rare subj\")\n",
    "cnts = dups_s ['subject'].value_counts()\n",
    "for i, row in dups_s.iterrows():   \n",
    "    if not pd.isna(row['subject']):\n",
    "        if cnts[row['subject']] < 8:\n",
    "            print ('excluding', row[0], row['subject'])\n",
    "            dups_s.at[i, 'valid'] = False\n",
    "\n",
    "dups_s = dups_s[dups_s['valid'] == True]  "
   ]
  },
  {
   "cell_type": "code",
   "execution_count": 169,
   "id": "550f3f82-a6bc-4644-9623-d74e84ae94b3",
   "metadata": {
    "papermill": {
     "duration": 0.087943,
     "end_time": "2021-08-03T13:00:16.642370",
     "exception": false,
     "start_time": "2021-08-03T13:00:16.554427",
     "status": "completed"
    },
    "tags": []
   },
   "outputs": [
    {
     "data": {
      "image/png": "[encoded data removed]",
      "text/plain": [
       "<Figure size 864x576 with 1 Axes>"
      ]
     },
     "metadata": {
      "needs_background": "light"
     },
     "output_type": "display_data"
    },
    {
     "name": "stdout",
     "output_type": "stream",
     "text": [
      "Service                     457\n",
      "Deal                        133\n",
      "GeneralContract              70\n",
      "Loans                        53\n",
      "Renting                      52\n",
      "AgencyContract               35\n",
      "Insurance                    30\n",
      "RealEstate                   21\n",
      "DealIntellectualProperty     14\n",
      "Charity                      14\n",
      "RealEstateTransactions       10\n",
      "Name: subject, dtype: int64\n"
     ]
    }
   ],
   "source": [
    "%matplotlib inline\n",
    "\n",
    "cnt = dups_s['subject'].value_counts()\n",
    "\n",
    "plt.figure(figsize=(12, 8))\n",
    "sns.barplot(x=cnt.values, y=cnt.index)\n",
    "\n",
    "plt.title('Frequency Distribution of subjects')\n",
    "plt.xlabel('Number of Occurrences')\n",
    "plt.show()\n",
    "print(cnt)"
   ]
  },
  {
   "cell_type": "code",
   "execution_count": 170,
   "id": "3dedaa50-a9aa-4eb6-b238-be22cb52718b",
   "metadata": {
    "papermill": {
     "duration": 0.033856,
     "end_time": "2021-08-03T13:00:16.688321",
     "exception": false,
     "start_time": "2021-08-03T13:00:16.654465",
     "status": "completed"
    },
    "tags": []
   },
   "outputs": [
    {
     "data": {
      "text/markdown": [
       "### 902 - Всего новых документов в обучающем наборе на 2021-10-20 10:13:07.154000"
      ],
      "text/plain": [
       "<IPython.core.display.Markdown object>"
      ]
     },
     "metadata": {},
     "output_type": "display_data"
    },
    {
     "data": {
      "text/html": [
       "<div>\n",
       "<style scoped>\n",
       "    .dataframe tbody tr th:only-of-type {\n",
       "        vertical-align: middle;\n",
       "    }\n",
       "\n",
       "    .dataframe tbody tr th {\n",
       "        vertical-align: top;\n",
       "    }\n",
       "\n",
       "    .dataframe thead th {\n",
       "        text-align: right;\n",
       "    }\n",
       "</style>\n",
       "<table border=\"1\" class=\"dataframe\">\n",
       "  <thead>\n",
       "    <tr style=\"text-align: right;\">\n",
       "      <th></th>\n",
       "      <th>url</th>\n",
       "      <th>version</th>\n",
       "      <th>org-1-name</th>\n",
       "      <th>org-2-name</th>\n",
       "      <th>org-1-alias</th>\n",
       "      <th>org-2-alias</th>\n",
       "      <th>subject</th>\n",
       "      <th>value</th>\n",
       "      <th>user_correction_date</th>\n",
       "      <th>analyze_date</th>\n",
       "      <th>...</th>\n",
       "      <th>subject confidence</th>\n",
       "      <th>value_log1p</th>\n",
       "      <th>value_span</th>\n",
       "      <th>valid</th>\n",
       "      <th>currency</th>\n",
       "      <th>len</th>\n",
       "      <th>unseen</th>\n",
       "      <th>score</th>\n",
       "      <th>hash</th>\n",
       "      <th>dups</th>\n",
       "    </tr>\n",
       "    <tr>\n",
       "      <th>_id</th>\n",
       "      <th></th>\n",
       "      <th></th>\n",
       "      <th></th>\n",
       "      <th></th>\n",
       "      <th></th>\n",
       "      <th></th>\n",
       "      <th></th>\n",
       "      <th></th>\n",
       "      <th></th>\n",
       "      <th></th>\n",
       "      <th></th>\n",
       "      <th></th>\n",
       "      <th></th>\n",
       "      <th></th>\n",
       "      <th></th>\n",
       "      <th></th>\n",
       "      <th></th>\n",
       "      <th></th>\n",
       "      <th></th>\n",
       "      <th></th>\n",
       "      <th></th>\n",
       "    </tr>\n",
       "  </thead>\n",
       "  <tbody>\n",
       "    <tr>\n",
       "      <th>5ec2b8da665f7603e03b127d</th>\n",
       "      <td>http://gpn-audit.nemosoft.ru/#/audit/edit/5ec2...</td>\n",
       "      <td>2.3.14</td>\n",
       "      <td>сбербанк россии</td>\n",
       "      <td>оск</td>\n",
       "      <td>кредитор</td>\n",
       "      <td>проект</td>\n",
       "      <td>Renting</td>\n",
       "      <td>1.394400e+10</td>\n",
       "      <td>2020-09-10 11:10:15.402</td>\n",
       "      <td>2020-09-10 11:10:43.308</td>\n",
       "      <td>...</td>\n",
       "      <td>NaN</td>\n",
       "      <td>23.358315</td>\n",
       "      <td>313.0</td>\n",
       "      <td>True</td>\n",
       "      <td>RUB</td>\n",
       "      <td>12170.0</td>\n",
       "      <td>False</td>\n",
       "      <td>0.685942</td>\n",
       "      <td>-5.607497e+16</td>\n",
       "      <td>1.0</td>\n",
       "    </tr>\n",
       "    <tr>\n",
       "      <th>60b7a58e061c76d77545526f</th>\n",
       "      <td>http://gpn-audit.nemosoft.ru/#/audit/edit/60b7...</td>\n",
       "      <td>2.3.14</td>\n",
       "      <td>газпромнефть-каталитические системы</td>\n",
       "      <td>газпромбанк</td>\n",
       "      <td>приказодатель</td>\n",
       "      <td>банк</td>\n",
       "      <td>Loans</td>\n",
       "      <td>3.130200e+06</td>\n",
       "      <td>2021-07-31 15:43:37.710</td>\n",
       "      <td>2021-06-05 06:22:34.302</td>\n",
       "      <td>...</td>\n",
       "      <td>NaN</td>\n",
       "      <td>14.956608</td>\n",
       "      <td>186.0</td>\n",
       "      <td>True</td>\n",
       "      <td>EURO</td>\n",
       "      <td>5570.0</td>\n",
       "      <td>False</td>\n",
       "      <td>1.394334</td>\n",
       "      <td>-4.610953e+18</td>\n",
       "      <td>1.0</td>\n",
       "    </tr>\n",
       "    <tr>\n",
       "      <th>60b7a4c3061c76d7754545e3</th>\n",
       "      <td>http://gpn-audit.nemosoft.ru/#/audit/edit/60b7...</td>\n",
       "      <td>2.3.14</td>\n",
       "      <td>газпромнефть-аэро брянск</td>\n",
       "      <td>газпромнефть-аэро</td>\n",
       "      <td>субсубарендатор</td>\n",
       "      <td>субарендатор</td>\n",
       "      <td>Renting</td>\n",
       "      <td>1.080000e+04</td>\n",
       "      <td>2021-07-23 12:29:19.231</td>\n",
       "      <td>2021-06-03 03:28:32.872</td>\n",
       "      <td>...</td>\n",
       "      <td>NaN</td>\n",
       "      <td>9.287394</td>\n",
       "      <td>406.0</td>\n",
       "      <td>True</td>\n",
       "      <td>NaN</td>\n",
       "      <td>2275.0</td>\n",
       "      <td>False</td>\n",
       "      <td>1.725183</td>\n",
       "      <td>3.540390e+18</td>\n",
       "      <td>1.0</td>\n",
       "    </tr>\n",
       "    <tr>\n",
       "      <th>60b7a4c3061c76d7754545da</th>\n",
       "      <td>http://gpn-audit.nemosoft.ru/#/audit/edit/60b7...</td>\n",
       "      <td>2.3.14</td>\n",
       "      <td>газпромнефть-аэро брянск</td>\n",
       "      <td>газпромнефть-ангара</td>\n",
       "      <td>управляемая организация</td>\n",
       "      <td>управляющая организация</td>\n",
       "      <td>Service</td>\n",
       "      <td>5.000000e+04</td>\n",
       "      <td>2021-06-22 13:40:54.455</td>\n",
       "      <td>2021-06-03 03:18:14.469</td>\n",
       "      <td>...</td>\n",
       "      <td>NaN</td>\n",
       "      <td>10.819798</td>\n",
       "      <td>1240.0</td>\n",
       "      <td>True</td>\n",
       "      <td>NaN</td>\n",
       "      <td>2105.0</td>\n",
       "      <td>False</td>\n",
       "      <td>1.904743</td>\n",
       "      <td>7.104948e+17</td>\n",
       "      <td>1.0</td>\n",
       "    </tr>\n",
       "    <tr>\n",
       "      <th>60002adfb08473039387bcae</th>\n",
       "      <td>http://gpn-audit.nemosoft.ru/#/audit/edit/6000...</td>\n",
       "      <td>2.3.14</td>\n",
       "      <td>газпромнефть-снабжение</td>\n",
       "      <td>газпром нефть</td>\n",
       "      <td>правообладатель</td>\n",
       "      <td>приобретатель</td>\n",
       "      <td>Deal</td>\n",
       "      <td>4.400005e+07</td>\n",
       "      <td>2021-07-20 07:47:49.711</td>\n",
       "      <td>2021-01-14 14:29:31.907</td>\n",
       "      <td>...</td>\n",
       "      <td>NaN</td>\n",
       "      <td>17.599701</td>\n",
       "      <td>430.0</td>\n",
       "      <td>True</td>\n",
       "      <td>NaN</td>\n",
       "      <td>1510.0</td>\n",
       "      <td>False</td>\n",
       "      <td>2.074317</td>\n",
       "      <td>-5.464112e+18</td>\n",
       "      <td>2.0</td>\n",
       "    </tr>\n",
       "    <tr>\n",
       "      <th>...</th>\n",
       "      <td>...</td>\n",
       "      <td>...</td>\n",
       "      <td>...</td>\n",
       "      <td>...</td>\n",
       "      <td>...</td>\n",
       "      <td>...</td>\n",
       "      <td>...</td>\n",
       "      <td>...</td>\n",
       "      <td>...</td>\n",
       "      <td>...</td>\n",
       "      <td>...</td>\n",
       "      <td>...</td>\n",
       "      <td>...</td>\n",
       "      <td>...</td>\n",
       "      <td>...</td>\n",
       "      <td>...</td>\n",
       "      <td>...</td>\n",
       "      <td>...</td>\n",
       "      <td>...</td>\n",
       "      <td>...</td>\n",
       "      <td>...</td>\n",
       "    </tr>\n",
       "    <tr>\n",
       "      <th>5fdb2141542ce403c92b456c</th>\n",
       "      <td>http://gpn-audit.nemosoft.ru/#/audit/edit/5fdb...</td>\n",
       "      <td>2.3.14</td>\n",
       "      <td>рекламно-информационное агентство «город»</td>\n",
       "      <td>шевцова анна викторовна</td>\n",
       "      <td>спонсируемый</td>\n",
       "      <td>спонсор</td>\n",
       "      <td>Deal</td>\n",
       "      <td>NaN</td>\n",
       "      <td>2020-12-18 09:27:20.264</td>\n",
       "      <td>2020-12-18 12:27:26.400</td>\n",
       "      <td>...</td>\n",
       "      <td>NaN</td>\n",
       "      <td>NaN</td>\n",
       "      <td>NaN</td>\n",
       "      <td>True</td>\n",
       "      <td>NaN</td>\n",
       "      <td>2380.0</td>\n",
       "      <td>False</td>\n",
       "      <td>4691.550133</td>\n",
       "      <td>6.463001e+18</td>\n",
       "      <td>1.0</td>\n",
       "    </tr>\n",
       "    <tr>\n",
       "      <th>60b7a522061c76d775454d42</th>\n",
       "      <td>http://gpn-audit.nemosoft.ru/#/audit/edit/60b7...</td>\n",
       "      <td>2.3.14</td>\n",
       "      <td>газпромнефть-каталитические системы</td>\n",
       "      <td>паршин сергей владимирович</td>\n",
       "      <td>заказчик</td>\n",
       "      <td>NaN</td>\n",
       "      <td>Service</td>\n",
       "      <td>1.800000e+05</td>\n",
       "      <td>NaT</td>\n",
       "      <td>2021-06-04 12:15:50.881</td>\n",
       "      <td>...</td>\n",
       "      <td>NaN</td>\n",
       "      <td>12.100718</td>\n",
       "      <td>1446.0</td>\n",
       "      <td>True</td>\n",
       "      <td>RUB</td>\n",
       "      <td>3790.0</td>\n",
       "      <td>True</td>\n",
       "      <td>4758.373834</td>\n",
       "      <td>5.356647e+17</td>\n",
       "      <td>1.0</td>\n",
       "    </tr>\n",
       "    <tr>\n",
       "      <th>5fc7a034c54bc33809e261ce</th>\n",
       "      <td>http://gpn-audit.nemosoft.ru/#/audit/edit/5fc7...</td>\n",
       "      <td>2.3.14</td>\n",
       "      <td>газпромнефть-оренбург</td>\n",
       "      <td>газпромнефть-снабжение</td>\n",
       "      <td>принципал</td>\n",
       "      <td>агент</td>\n",
       "      <td>AgencyContract</td>\n",
       "      <td>NaN</td>\n",
       "      <td>2020-12-19 14:27:41.953</td>\n",
       "      <td>2020-12-19 17:28:11.494</td>\n",
       "      <td>...</td>\n",
       "      <td>NaN</td>\n",
       "      <td>NaN</td>\n",
       "      <td>NaN</td>\n",
       "      <td>True</td>\n",
       "      <td>NaN</td>\n",
       "      <td>2255.0</td>\n",
       "      <td>False</td>\n",
       "      <td>4793.712945</td>\n",
       "      <td>-6.659146e+18</td>\n",
       "      <td>1.0</td>\n",
       "    </tr>\n",
       "    <tr>\n",
       "      <th>5fca2aad9083b679224c7606</th>\n",
       "      <td>http://gpn-audit.nemosoft.ru/#/audit/edit/5fca...</td>\n",
       "      <td>2.3.14</td>\n",
       "      <td>газпромнефть-оренбург</td>\n",
       "      <td>газпромнефть-снабжение</td>\n",
       "      <td>принципал</td>\n",
       "      <td>агент</td>\n",
       "      <td>AgencyContract</td>\n",
       "      <td>NaN</td>\n",
       "      <td>2020-12-09 15:05:30.896</td>\n",
       "      <td>2020-12-09 15:05:39.397</td>\n",
       "      <td>...</td>\n",
       "      <td>NaN</td>\n",
       "      <td>NaN</td>\n",
       "      <td>NaN</td>\n",
       "      <td>True</td>\n",
       "      <td>NaN</td>\n",
       "      <td>2010.0</td>\n",
       "      <td>False</td>\n",
       "      <td>4793.712945</td>\n",
       "      <td>3.859994e+18</td>\n",
       "      <td>1.0</td>\n",
       "    </tr>\n",
       "    <tr>\n",
       "      <th>5fbbe468a2b4551c06107b4e</th>\n",
       "      <td>http://gpn-audit.nemosoft.ru/#/audit/edit/5fbb...</td>\n",
       "      <td>2.3.14</td>\n",
       "      <td>арктика медиа</td>\n",
       "      <td>редакция парламентского телевидения государств...</td>\n",
       "      <td>лицензиат</td>\n",
       "      <td>лицензиар</td>\n",
       "      <td>DealIntellectualProperty</td>\n",
       "      <td>NaN</td>\n",
       "      <td>2020-11-24 08:45:37.264</td>\n",
       "      <td>2020-11-24 08:45:38.906</td>\n",
       "      <td>...</td>\n",
       "      <td>NaN</td>\n",
       "      <td>NaN</td>\n",
       "      <td>NaN</td>\n",
       "      <td>True</td>\n",
       "      <td>NaN</td>\n",
       "      <td>2330.0</td>\n",
       "      <td>False</td>\n",
       "      <td>4882.096752</td>\n",
       "      <td>8.113144e+18</td>\n",
       "      <td>1.0</td>\n",
       "    </tr>\n",
       "  </tbody>\n",
       "</table>\n",
       "<p>902 rows × 22 columns</p>\n",
       "</div>"
      ],
      "text/plain": [
       "                                                                        url  \\\n",
       "_id                                                                           \n",
       "5ec2b8da665f7603e03b127d  http://gpn-audit.nemosoft.ru/#/audit/edit/5ec2...   \n",
       "60b7a58e061c76d77545526f  http://gpn-audit.nemosoft.ru/#/audit/edit/60b7...   \n",
       "60b7a4c3061c76d7754545e3  http://gpn-audit.nemosoft.ru/#/audit/edit/60b7...   \n",
       "60b7a4c3061c76d7754545da  http://gpn-audit.nemosoft.ru/#/audit/edit/60b7...   \n",
       "60002adfb08473039387bcae  http://gpn-audit.nemosoft.ru/#/audit/edit/6000...   \n",
       "...                                                                     ...   \n",
       "5fdb2141542ce403c92b456c  http://gpn-audit.nemosoft.ru/#/audit/edit/5fdb...   \n",
       "60b7a522061c76d775454d42  http://gpn-audit.nemosoft.ru/#/audit/edit/60b7...   \n",
       "5fc7a034c54bc33809e261ce  http://gpn-audit.nemosoft.ru/#/audit/edit/5fc7...   \n",
       "5fca2aad9083b679224c7606  http://gpn-audit.nemosoft.ru/#/audit/edit/5fca...   \n",
       "5fbbe468a2b4551c06107b4e  http://gpn-audit.nemosoft.ru/#/audit/edit/5fbb...   \n",
       "\n",
       "                         version                                 org-1-name  \\\n",
       "_id                                                                           \n",
       "5ec2b8da665f7603e03b127d  2.3.14                            сбербанк россии   \n",
       "60b7a58e061c76d77545526f  2.3.14        газпромнефть-каталитические системы   \n",
       "60b7a4c3061c76d7754545e3  2.3.14                   газпромнефть-аэро брянск   \n",
       "60b7a4c3061c76d7754545da  2.3.14                   газпромнефть-аэро брянск   \n",
       "60002adfb08473039387bcae  2.3.14                     газпромнефть-снабжение   \n",
       "...                          ...                                        ...   \n",
       "5fdb2141542ce403c92b456c  2.3.14  рекламно-информационное агентство «город»   \n",
       "60b7a522061c76d775454d42  2.3.14        газпромнефть-каталитические системы   \n",
       "5fc7a034c54bc33809e261ce  2.3.14                      газпромнефть-оренбург   \n",
       "5fca2aad9083b679224c7606  2.3.14                      газпромнефть-оренбург   \n",
       "5fbbe468a2b4551c06107b4e  2.3.14                              арктика медиа   \n",
       "\n",
       "                                                                 org-2-name  \\\n",
       "_id                                                                           \n",
       "5ec2b8da665f7603e03b127d                                                оск   \n",
       "60b7a58e061c76d77545526f                                        газпромбанк   \n",
       "60b7a4c3061c76d7754545e3                                  газпромнефть-аэро   \n",
       "60b7a4c3061c76d7754545da                                газпромнефть-ангара   \n",
       "60002adfb08473039387bcae                                      газпром нефть   \n",
       "...                                                                     ...   \n",
       "5fdb2141542ce403c92b456c                            шевцова анна викторовна   \n",
       "60b7a522061c76d775454d42                         паршин сергей владимирович   \n",
       "5fc7a034c54bc33809e261ce                             газпромнефть-снабжение   \n",
       "5fca2aad9083b679224c7606                             газпромнефть-снабжение   \n",
       "5fbbe468a2b4551c06107b4e  редакция парламентского телевидения государств...   \n",
       "\n",
       "                                      org-1-alias              org-2-alias  \\\n",
       "_id                                                                          \n",
       "5ec2b8da665f7603e03b127d                 кредитор                   проект   \n",
       "60b7a58e061c76d77545526f            приказодатель                     банк   \n",
       "60b7a4c3061c76d7754545e3          субсубарендатор             субарендатор   \n",
       "60b7a4c3061c76d7754545da  управляемая организация  управляющая организация   \n",
       "60002adfb08473039387bcae          правообладатель            приобретатель   \n",
       "...                                           ...                      ...   \n",
       "5fdb2141542ce403c92b456c             спонсируемый                  спонсор   \n",
       "60b7a522061c76d775454d42                 заказчик                      NaN   \n",
       "5fc7a034c54bc33809e261ce                принципал                    агент   \n",
       "5fca2aad9083b679224c7606                принципал                    агент   \n",
       "5fbbe468a2b4551c06107b4e                лицензиат                лицензиар   \n",
       "\n",
       "                                           subject         value  \\\n",
       "_id                                                                \n",
       "5ec2b8da665f7603e03b127d                   Renting  1.394400e+10   \n",
       "60b7a58e061c76d77545526f                     Loans  3.130200e+06   \n",
       "60b7a4c3061c76d7754545e3                   Renting  1.080000e+04   \n",
       "60b7a4c3061c76d7754545da                   Service  5.000000e+04   \n",
       "60002adfb08473039387bcae                      Deal  4.400005e+07   \n",
       "...                                            ...           ...   \n",
       "5fdb2141542ce403c92b456c                      Deal           NaN   \n",
       "60b7a522061c76d775454d42                   Service  1.800000e+05   \n",
       "5fc7a034c54bc33809e261ce            AgencyContract           NaN   \n",
       "5fca2aad9083b679224c7606            AgencyContract           NaN   \n",
       "5fbbe468a2b4551c06107b4e  DealIntellectualProperty           NaN   \n",
       "\n",
       "                            user_correction_date            analyze_date  ...  \\\n",
       "_id                                                                       ...   \n",
       "5ec2b8da665f7603e03b127d 2020-09-10 11:10:15.402 2020-09-10 11:10:43.308  ...   \n",
       "60b7a58e061c76d77545526f 2021-07-31 15:43:37.710 2021-06-05 06:22:34.302  ...   \n",
       "60b7a4c3061c76d7754545e3 2021-07-23 12:29:19.231 2021-06-03 03:28:32.872  ...   \n",
       "60b7a4c3061c76d7754545da 2021-06-22 13:40:54.455 2021-06-03 03:18:14.469  ...   \n",
       "60002adfb08473039387bcae 2021-07-20 07:47:49.711 2021-01-14 14:29:31.907  ...   \n",
       "...                                          ...                     ...  ...   \n",
       "5fdb2141542ce403c92b456c 2020-12-18 09:27:20.264 2020-12-18 12:27:26.400  ...   \n",
       "60b7a522061c76d775454d42                     NaT 2021-06-04 12:15:50.881  ...   \n",
       "5fc7a034c54bc33809e261ce 2020-12-19 14:27:41.953 2020-12-19 17:28:11.494  ...   \n",
       "5fca2aad9083b679224c7606 2020-12-09 15:05:30.896 2020-12-09 15:05:39.397  ...   \n",
       "5fbbe468a2b4551c06107b4e 2020-11-24 08:45:37.264 2020-11-24 08:45:38.906  ...   \n",
       "\n",
       "                         subject confidence value_log1p  value_span  valid  \\\n",
       "_id                                                                          \n",
       "5ec2b8da665f7603e03b127d                NaN   23.358315       313.0   True   \n",
       "60b7a58e061c76d77545526f                NaN   14.956608       186.0   True   \n",
       "60b7a4c3061c76d7754545e3                NaN    9.287394       406.0   True   \n",
       "60b7a4c3061c76d7754545da                NaN   10.819798      1240.0   True   \n",
       "60002adfb08473039387bcae                NaN   17.599701       430.0   True   \n",
       "...                                     ...         ...         ...    ...   \n",
       "5fdb2141542ce403c92b456c                NaN         NaN         NaN   True   \n",
       "60b7a522061c76d775454d42                NaN   12.100718      1446.0   True   \n",
       "5fc7a034c54bc33809e261ce                NaN         NaN         NaN   True   \n",
       "5fca2aad9083b679224c7606                NaN         NaN         NaN   True   \n",
       "5fbbe468a2b4551c06107b4e                NaN         NaN         NaN   True   \n",
       "\n",
       "                          currency      len unseen        score          hash  \\\n",
       "_id                                                                             \n",
       "5ec2b8da665f7603e03b127d       RUB  12170.0  False     0.685942 -5.607497e+16   \n",
       "60b7a58e061c76d77545526f      EURO   5570.0  False     1.394334 -4.610953e+18   \n",
       "60b7a4c3061c76d7754545e3       NaN   2275.0  False     1.725183  3.540390e+18   \n",
       "60b7a4c3061c76d7754545da       NaN   2105.0  False     1.904743  7.104948e+17   \n",
       "60002adfb08473039387bcae       NaN   1510.0  False     2.074317 -5.464112e+18   \n",
       "...                            ...      ...    ...          ...           ...   \n",
       "5fdb2141542ce403c92b456c       NaN   2380.0  False  4691.550133  6.463001e+18   \n",
       "60b7a522061c76d775454d42       RUB   3790.0   True  4758.373834  5.356647e+17   \n",
       "5fc7a034c54bc33809e261ce       NaN   2255.0  False  4793.712945 -6.659146e+18   \n",
       "5fca2aad9083b679224c7606       NaN   2010.0  False  4793.712945  3.859994e+18   \n",
       "5fbbe468a2b4551c06107b4e       NaN   2330.0  False  4882.096752  8.113144e+18   \n",
       "\n",
       "                          dups  \n",
       "_id                             \n",
       "5ec2b8da665f7603e03b127d   1.0  \n",
       "60b7a58e061c76d77545526f   1.0  \n",
       "60b7a4c3061c76d7754545e3   1.0  \n",
       "60b7a4c3061c76d7754545da   1.0  \n",
       "60002adfb08473039387bcae   2.0  \n",
       "...                        ...  \n",
       "5fdb2141542ce403c92b456c   1.0  \n",
       "60b7a522061c76d775454d42   1.0  \n",
       "5fc7a034c54bc33809e261ce   1.0  \n",
       "5fca2aad9083b679224c7606   1.0  \n",
       "5fbbe468a2b4551c06107b4e   1.0  \n",
       "\n",
       "[902 rows x 22 columns]"
      ]
     },
     "execution_count": 170,
     "metadata": {},
     "output_type": "execute_result"
    }
   ],
   "source": [
    "dups_s.index.name = '_id'\n",
    "dups_s.to_csv(Path(work_dir) / 'contract_trainset_meta.csv', index=True)\n",
    "\n",
    "\n",
    "_s = f\"### {len(dups_s)} - Всего новых документов в обучающем наборе на {lastdate}\"\n",
    "display(Markdown(_s))\n",
    "\n",
    "\n",
    "dups_s"
   ]
  },
  {
   "cell_type": "code",
   "execution_count": 171,
   "id": "85be4347-cc76-4885-9691-e5edf14f1c55",
   "metadata": {
    "papermill": {
     "duration": 0.021286,
     "end_time": "2021-08-03T13:00:16.722326",
     "exception": false,
     "start_time": "2021-08-03T13:00:16.701040",
     "status": "completed"
    },
    "tags": []
   },
   "outputs": [],
   "source": [
    "dups_s[dups_s['unseen']].to_csv(Path(work_dir) / 'contract_trainset_meta.to_markup.csv', index=True)"
   ]
  },
  {
   "cell_type": "code",
   "execution_count": 172,
   "id": "f1d76c06-1f5b-4626-95b8-216a550c8989",
   "metadata": {
    "papermill": {
     "duration": 0.025695,
     "end_time": "2021-08-03T13:00:16.761300",
     "exception": false,
     "start_time": "2021-08-03T13:00:16.735605",
     "status": "completed"
    },
    "tags": []
   },
   "outputs": [
    {
     "data": {
      "text/html": [
       "<div>\n",
       "<style scoped>\n",
       "    .dataframe tbody tr th:only-of-type {\n",
       "        vertical-align: middle;\n",
       "    }\n",
       "\n",
       "    .dataframe tbody tr th {\n",
       "        vertical-align: top;\n",
       "    }\n",
       "\n",
       "    .dataframe thead th {\n",
       "        text-align: right;\n",
       "    }\n",
       "</style>\n",
       "<table border=\"1\" class=\"dataframe\">\n",
       "  <thead>\n",
       "    <tr style=\"text-align: right;\">\n",
       "      <th></th>\n",
       "      <th>url</th>\n",
       "      <th>version</th>\n",
       "      <th>org-1-name</th>\n",
       "      <th>org-2-name</th>\n",
       "      <th>org-1-alias</th>\n",
       "      <th>org-2-alias</th>\n",
       "      <th>subject</th>\n",
       "      <th>value</th>\n",
       "      <th>user_correction_date</th>\n",
       "      <th>analyze_date</th>\n",
       "      <th>...</th>\n",
       "      <th>subject confidence</th>\n",
       "      <th>value_log1p</th>\n",
       "      <th>value_span</th>\n",
       "      <th>valid</th>\n",
       "      <th>currency</th>\n",
       "      <th>len</th>\n",
       "      <th>unseen</th>\n",
       "      <th>score</th>\n",
       "      <th>hash</th>\n",
       "      <th>dups</th>\n",
       "    </tr>\n",
       "    <tr>\n",
       "      <th>_id</th>\n",
       "      <th></th>\n",
       "      <th></th>\n",
       "      <th></th>\n",
       "      <th></th>\n",
       "      <th></th>\n",
       "      <th></th>\n",
       "      <th></th>\n",
       "      <th></th>\n",
       "      <th></th>\n",
       "      <th></th>\n",
       "      <th></th>\n",
       "      <th></th>\n",
       "      <th></th>\n",
       "      <th></th>\n",
       "      <th></th>\n",
       "      <th></th>\n",
       "      <th></th>\n",
       "      <th></th>\n",
       "      <th></th>\n",
       "      <th></th>\n",
       "      <th></th>\n",
       "    </tr>\n",
       "  </thead>\n",
       "  <tbody>\n",
       "    <tr>\n",
       "      <th>60b7a4c2061c76d7754545ba</th>\n",
       "      <td>http://gpn-audit.nemosoft.ru/#/audit/edit/60b7...</td>\n",
       "      <td>2.3.14</td>\n",
       "      <td>газпромнефть-снабжение</td>\n",
       "      <td>газпромнефть-каталитические системы</td>\n",
       "      <td>поверенный</td>\n",
       "      <td>доверитель</td>\n",
       "      <td>Service</td>\n",
       "      <td>1.000000e+04</td>\n",
       "      <td>NaT</td>\n",
       "      <td>2021-06-03 03:00:53.937</td>\n",
       "      <td>...</td>\n",
       "      <td>NaN</td>\n",
       "      <td>9.210440</td>\n",
       "      <td>1361.0</td>\n",
       "      <td>True</td>\n",
       "      <td>RUB</td>\n",
       "      <td>1995.0</td>\n",
       "      <td>True</td>\n",
       "      <td>35.464518</td>\n",
       "      <td>6.302576e+18</td>\n",
       "      <td>1.0</td>\n",
       "    </tr>\n",
       "    <tr>\n",
       "      <th>60b7a4c1061c76d775454594</th>\n",
       "      <td>http://gpn-audit.nemosoft.ru/#/audit/edit/60b7...</td>\n",
       "      <td>2.3.14</td>\n",
       "      <td>мобильные телесистемы</td>\n",
       "      <td>газпромнефть-каталитические системы</td>\n",
       "      <td>мтс</td>\n",
       "      <td>абонент</td>\n",
       "      <td>Service</td>\n",
       "      <td>5.601250e+04</td>\n",
       "      <td>NaT</td>\n",
       "      <td>2021-06-03 02:26:09.061</td>\n",
       "      <td>...</td>\n",
       "      <td>NaN</td>\n",
       "      <td>10.933348</td>\n",
       "      <td>2742.0</td>\n",
       "      <td>True</td>\n",
       "      <td>RUB</td>\n",
       "      <td>13430.0</td>\n",
       "      <td>True</td>\n",
       "      <td>52.917536</td>\n",
       "      <td>5.808940e+18</td>\n",
       "      <td>1.0</td>\n",
       "    </tr>\n",
       "    <tr>\n",
       "      <th>5fca2aab9083b679224c75e1</th>\n",
       "      <td>http://gpn-audit.nemosoft.ru/#/audit/edit/5fca...</td>\n",
       "      <td>2.3.14</td>\n",
       "      <td>газпромнефть-оренбург</td>\n",
       "      <td>газпром нефть  (пао  газпром нефть</td>\n",
       "      <td>заемщик»</td>\n",
       "      <td>займодавец</td>\n",
       "      <td>Loans</td>\n",
       "      <td>1.000000e+09</td>\n",
       "      <td>NaT</td>\n",
       "      <td>2020-12-04 12:38:38.017</td>\n",
       "      <td>...</td>\n",
       "      <td>NaN</td>\n",
       "      <td>20.723266</td>\n",
       "      <td>182.0</td>\n",
       "      <td>True</td>\n",
       "      <td>RUB</td>\n",
       "      <td>1345.0</td>\n",
       "      <td>True</td>\n",
       "      <td>53.188749</td>\n",
       "      <td>-6.160472e+18</td>\n",
       "      <td>1.0</td>\n",
       "    </tr>\n",
       "    <tr>\n",
       "      <th>5fb399dd39d5e82e9081847d</th>\n",
       "      <td>http://gpn-audit.nemosoft.ru/#/audit/edit/5fb3...</td>\n",
       "      <td>2.3.14</td>\n",
       "      <td>газпромнефть-заполярье</td>\n",
       "      <td>газпром добыча оренбург</td>\n",
       "      <td>субарендатор</td>\n",
       "      <td>субарендодатель</td>\n",
       "      <td>Deal</td>\n",
       "      <td>1.859225e+05</td>\n",
       "      <td>NaT</td>\n",
       "      <td>2020-11-17 10:06:27.310</td>\n",
       "      <td>...</td>\n",
       "      <td>NaN</td>\n",
       "      <td>12.133091</td>\n",
       "      <td>472.0</td>\n",
       "      <td>True</td>\n",
       "      <td>RUB</td>\n",
       "      <td>3295.0</td>\n",
       "      <td>True</td>\n",
       "      <td>54.054699</td>\n",
       "      <td>2.970355e+18</td>\n",
       "      <td>1.0</td>\n",
       "    </tr>\n",
       "    <tr>\n",
       "      <th>60b7a4f4061c76d7754549bd</th>\n",
       "      <td>http://gpn-audit.nemosoft.ru/#/audit/edit/60b7...</td>\n",
       "      <td>2.3.14</td>\n",
       "      <td>страховое общество газовой промышленности</td>\n",
       "      <td>газпромнефть-каталитические системы</td>\n",
       "      <td>страховщик</td>\n",
       "      <td>страхователь</td>\n",
       "      <td>Insurance</td>\n",
       "      <td>2.809844e+10</td>\n",
       "      <td>NaT</td>\n",
       "      <td>2021-06-03 22:30:38.761</td>\n",
       "      <td>...</td>\n",
       "      <td>NaN</td>\n",
       "      <td>24.058980</td>\n",
       "      <td>1247.0</td>\n",
       "      <td>True</td>\n",
       "      <td>RUB</td>\n",
       "      <td>13690.0</td>\n",
       "      <td>True</td>\n",
       "      <td>55.238964</td>\n",
       "      <td>7.001681e+18</td>\n",
       "      <td>1.0</td>\n",
       "    </tr>\n",
       "    <tr>\n",
       "      <th>...</th>\n",
       "      <td>...</td>\n",
       "      <td>...</td>\n",
       "      <td>...</td>\n",
       "      <td>...</td>\n",
       "      <td>...</td>\n",
       "      <td>...</td>\n",
       "      <td>...</td>\n",
       "      <td>...</td>\n",
       "      <td>...</td>\n",
       "      <td>...</td>\n",
       "      <td>...</td>\n",
       "      <td>...</td>\n",
       "      <td>...</td>\n",
       "      <td>...</td>\n",
       "      <td>...</td>\n",
       "      <td>...</td>\n",
       "      <td>...</td>\n",
       "      <td>...</td>\n",
       "      <td>...</td>\n",
       "      <td>...</td>\n",
       "      <td>...</td>\n",
       "    </tr>\n",
       "    <tr>\n",
       "      <th>5fb3d4a078df3635f5441c63</th>\n",
       "      <td>http://gpn-audit.nemosoft.ru/#/audit/edit/5fb3...</td>\n",
       "      <td>2.3.14</td>\n",
       "      <td>рекламно-информационное агентство «город»</td>\n",
       "      <td>NaN</td>\n",
       "      <td>исполнитель</td>\n",
       "      <td>заказчик</td>\n",
       "      <td>Service</td>\n",
       "      <td>8.350000e+04</td>\n",
       "      <td>NaT</td>\n",
       "      <td>2020-11-17 14:56:24.561</td>\n",
       "      <td>...</td>\n",
       "      <td>NaN</td>\n",
       "      <td>11.332614</td>\n",
       "      <td>362.0</td>\n",
       "      <td>True</td>\n",
       "      <td>RUB</td>\n",
       "      <td>4425.0</td>\n",
       "      <td>True</td>\n",
       "      <td>4357.468355</td>\n",
       "      <td>1.578973e+18</td>\n",
       "      <td>1.0</td>\n",
       "    </tr>\n",
       "    <tr>\n",
       "      <th>5fb3d4a078df3635f5441c49</th>\n",
       "      <td>http://gpn-audit.nemosoft.ru/#/audit/edit/5fb3...</td>\n",
       "      <td>2.3.14</td>\n",
       "      <td>рекламно-информационное агентство «город»</td>\n",
       "      <td>NaN</td>\n",
       "      <td>исполнитель</td>\n",
       "      <td>исполнитель</td>\n",
       "      <td>Service</td>\n",
       "      <td>1.290000e+05</td>\n",
       "      <td>NaT</td>\n",
       "      <td>2020-11-17 14:41:20.587</td>\n",
       "      <td>...</td>\n",
       "      <td>NaN</td>\n",
       "      <td>11.767575</td>\n",
       "      <td>1204.0</td>\n",
       "      <td>True</td>\n",
       "      <td>RUB</td>\n",
       "      <td>3045.0</td>\n",
       "      <td>True</td>\n",
       "      <td>4395.777848</td>\n",
       "      <td>4.015816e+18</td>\n",
       "      <td>1.0</td>\n",
       "    </tr>\n",
       "    <tr>\n",
       "      <th>5fb27c60d8c9df1ed1236ec3</th>\n",
       "      <td>http://gpn-audit.nemosoft.ru/#/audit/edit/5fb2...</td>\n",
       "      <td>2.3.14</td>\n",
       "      <td>арктика медиа</td>\n",
       "      <td>NaN</td>\n",
       "      <td>исполнитель</td>\n",
       "      <td>заказчик</td>\n",
       "      <td>Service</td>\n",
       "      <td>5.833333e+04</td>\n",
       "      <td>NaT</td>\n",
       "      <td>2020-11-16 16:50:35.997</td>\n",
       "      <td>...</td>\n",
       "      <td>NaN</td>\n",
       "      <td>10.973946</td>\n",
       "      <td>363.0</td>\n",
       "      <td>True</td>\n",
       "      <td>RUB</td>\n",
       "      <td>4195.0</td>\n",
       "      <td>True</td>\n",
       "      <td>4499.886018</td>\n",
       "      <td>-1.600708e+18</td>\n",
       "      <td>2.0</td>\n",
       "    </tr>\n",
       "    <tr>\n",
       "      <th>60b7a590061c76d775455293</th>\n",
       "      <td>http://gpn-audit.nemosoft.ru/#/audit/edit/60b7...</td>\n",
       "      <td>2.3.14</td>\n",
       "      <td>газпромнефть-каталитические системы</td>\n",
       "      <td>NaN</td>\n",
       "      <td>заказчик</td>\n",
       "      <td>исполнитель</td>\n",
       "      <td>Service</td>\n",
       "      <td>2.000100e+05</td>\n",
       "      <td>NaT</td>\n",
       "      <td>2021-06-05 07:03:46.540</td>\n",
       "      <td>...</td>\n",
       "      <td>NaN</td>\n",
       "      <td>12.206128</td>\n",
       "      <td>684.0</td>\n",
       "      <td>True</td>\n",
       "      <td>RUB</td>\n",
       "      <td>3735.0</td>\n",
       "      <td>True</td>\n",
       "      <td>4618.096882</td>\n",
       "      <td>-6.104082e+18</td>\n",
       "      <td>1.0</td>\n",
       "    </tr>\n",
       "    <tr>\n",
       "      <th>60b7a522061c76d775454d42</th>\n",
       "      <td>http://gpn-audit.nemosoft.ru/#/audit/edit/60b7...</td>\n",
       "      <td>2.3.14</td>\n",
       "      <td>газпромнефть-каталитические системы</td>\n",
       "      <td>паршин сергей владимирович</td>\n",
       "      <td>заказчик</td>\n",
       "      <td>NaN</td>\n",
       "      <td>Service</td>\n",
       "      <td>1.800000e+05</td>\n",
       "      <td>NaT</td>\n",
       "      <td>2021-06-04 12:15:50.881</td>\n",
       "      <td>...</td>\n",
       "      <td>NaN</td>\n",
       "      <td>12.100718</td>\n",
       "      <td>1446.0</td>\n",
       "      <td>True</td>\n",
       "      <td>RUB</td>\n",
       "      <td>3790.0</td>\n",
       "      <td>True</td>\n",
       "      <td>4758.373834</td>\n",
       "      <td>5.356647e+17</td>\n",
       "      <td>1.0</td>\n",
       "    </tr>\n",
       "  </tbody>\n",
       "</table>\n",
       "<p>491 rows × 22 columns</p>\n",
       "</div>"
      ],
      "text/plain": [
       "                                                                        url  \\\n",
       "_id                                                                           \n",
       "60b7a4c2061c76d7754545ba  http://gpn-audit.nemosoft.ru/#/audit/edit/60b7...   \n",
       "60b7a4c1061c76d775454594  http://gpn-audit.nemosoft.ru/#/audit/edit/60b7...   \n",
       "5fca2aab9083b679224c75e1  http://gpn-audit.nemosoft.ru/#/audit/edit/5fca...   \n",
       "5fb399dd39d5e82e9081847d  http://gpn-audit.nemosoft.ru/#/audit/edit/5fb3...   \n",
       "60b7a4f4061c76d7754549bd  http://gpn-audit.nemosoft.ru/#/audit/edit/60b7...   \n",
       "...                                                                     ...   \n",
       "5fb3d4a078df3635f5441c63  http://gpn-audit.nemosoft.ru/#/audit/edit/5fb3...   \n",
       "5fb3d4a078df3635f5441c49  http://gpn-audit.nemosoft.ru/#/audit/edit/5fb3...   \n",
       "5fb27c60d8c9df1ed1236ec3  http://gpn-audit.nemosoft.ru/#/audit/edit/5fb2...   \n",
       "60b7a590061c76d775455293  http://gpn-audit.nemosoft.ru/#/audit/edit/60b7...   \n",
       "60b7a522061c76d775454d42  http://gpn-audit.nemosoft.ru/#/audit/edit/60b7...   \n",
       "\n",
       "                         version                                 org-1-name  \\\n",
       "_id                                                                           \n",
       "60b7a4c2061c76d7754545ba  2.3.14                     газпромнефть-снабжение   \n",
       "60b7a4c1061c76d775454594  2.3.14                      мобильные телесистемы   \n",
       "5fca2aab9083b679224c75e1  2.3.14                      газпромнефть-оренбург   \n",
       "5fb399dd39d5e82e9081847d  2.3.14                     газпромнефть-заполярье   \n",
       "60b7a4f4061c76d7754549bd  2.3.14  страховое общество газовой промышленности   \n",
       "...                          ...                                        ...   \n",
       "5fb3d4a078df3635f5441c63  2.3.14  рекламно-информационное агентство «город»   \n",
       "5fb3d4a078df3635f5441c49  2.3.14  рекламно-информационное агентство «город»   \n",
       "5fb27c60d8c9df1ed1236ec3  2.3.14                              арктика медиа   \n",
       "60b7a590061c76d775455293  2.3.14        газпромнефть-каталитические системы   \n",
       "60b7a522061c76d775454d42  2.3.14        газпромнефть-каталитические системы   \n",
       "\n",
       "                                                   org-2-name   org-1-alias  \\\n",
       "_id                                                                           \n",
       "60b7a4c2061c76d7754545ba  газпромнефть-каталитические системы    поверенный   \n",
       "60b7a4c1061c76d775454594  газпромнефть-каталитические системы           мтс   \n",
       "5fca2aab9083b679224c75e1   газпром нефть  (пао  газпром нефть      заемщик»   \n",
       "5fb399dd39d5e82e9081847d              газпром добыча оренбург  субарендатор   \n",
       "60b7a4f4061c76d7754549bd  газпромнефть-каталитические системы    страховщик   \n",
       "...                                                       ...           ...   \n",
       "5fb3d4a078df3635f5441c63                                  NaN   исполнитель   \n",
       "5fb3d4a078df3635f5441c49                                  NaN   исполнитель   \n",
       "5fb27c60d8c9df1ed1236ec3                                  NaN   исполнитель   \n",
       "60b7a590061c76d775455293                                  NaN      заказчик   \n",
       "60b7a522061c76d775454d42           паршин сергей владимирович      заказчик   \n",
       "\n",
       "                              org-2-alias    subject         value  \\\n",
       "_id                                                                  \n",
       "60b7a4c2061c76d7754545ba       доверитель    Service  1.000000e+04   \n",
       "60b7a4c1061c76d775454594          абонент    Service  5.601250e+04   \n",
       "5fca2aab9083b679224c75e1       займодавец      Loans  1.000000e+09   \n",
       "5fb399dd39d5e82e9081847d  субарендодатель       Deal  1.859225e+05   \n",
       "60b7a4f4061c76d7754549bd     страхователь  Insurance  2.809844e+10   \n",
       "...                                   ...        ...           ...   \n",
       "5fb3d4a078df3635f5441c63         заказчик    Service  8.350000e+04   \n",
       "5fb3d4a078df3635f5441c49      исполнитель    Service  1.290000e+05   \n",
       "5fb27c60d8c9df1ed1236ec3         заказчик    Service  5.833333e+04   \n",
       "60b7a590061c76d775455293      исполнитель    Service  2.000100e+05   \n",
       "60b7a522061c76d775454d42              NaN    Service  1.800000e+05   \n",
       "\n",
       "                         user_correction_date            analyze_date  ...  \\\n",
       "_id                                                                    ...   \n",
       "60b7a4c2061c76d7754545ba                  NaT 2021-06-03 03:00:53.937  ...   \n",
       "60b7a4c1061c76d775454594                  NaT 2021-06-03 02:26:09.061  ...   \n",
       "5fca2aab9083b679224c75e1                  NaT 2020-12-04 12:38:38.017  ...   \n",
       "5fb399dd39d5e82e9081847d                  NaT 2020-11-17 10:06:27.310  ...   \n",
       "60b7a4f4061c76d7754549bd                  NaT 2021-06-03 22:30:38.761  ...   \n",
       "...                                       ...                     ...  ...   \n",
       "5fb3d4a078df3635f5441c63                  NaT 2020-11-17 14:56:24.561  ...   \n",
       "5fb3d4a078df3635f5441c49                  NaT 2020-11-17 14:41:20.587  ...   \n",
       "5fb27c60d8c9df1ed1236ec3                  NaT 2020-11-16 16:50:35.997  ...   \n",
       "60b7a590061c76d775455293                  NaT 2021-06-05 07:03:46.540  ...   \n",
       "60b7a522061c76d775454d42                  NaT 2021-06-04 12:15:50.881  ...   \n",
       "\n",
       "                         subject confidence value_log1p  value_span  valid  \\\n",
       "_id                                                                          \n",
       "60b7a4c2061c76d7754545ba                NaN    9.210440      1361.0   True   \n",
       "60b7a4c1061c76d775454594                NaN   10.933348      2742.0   True   \n",
       "5fca2aab9083b679224c75e1                NaN   20.723266       182.0   True   \n",
       "5fb399dd39d5e82e9081847d                NaN   12.133091       472.0   True   \n",
       "60b7a4f4061c76d7754549bd                NaN   24.058980      1247.0   True   \n",
       "...                                     ...         ...         ...    ...   \n",
       "5fb3d4a078df3635f5441c63                NaN   11.332614       362.0   True   \n",
       "5fb3d4a078df3635f5441c49                NaN   11.767575      1204.0   True   \n",
       "5fb27c60d8c9df1ed1236ec3                NaN   10.973946       363.0   True   \n",
       "60b7a590061c76d775455293                NaN   12.206128       684.0   True   \n",
       "60b7a522061c76d775454d42                NaN   12.100718      1446.0   True   \n",
       "\n",
       "                          currency      len unseen        score          hash  \\\n",
       "_id                                                                             \n",
       "60b7a4c2061c76d7754545ba       RUB   1995.0   True    35.464518  6.302576e+18   \n",
       "60b7a4c1061c76d775454594       RUB  13430.0   True    52.917536  5.808940e+18   \n",
       "5fca2aab9083b679224c75e1       RUB   1345.0   True    53.188749 -6.160472e+18   \n",
       "5fb399dd39d5e82e9081847d       RUB   3295.0   True    54.054699  2.970355e+18   \n",
       "60b7a4f4061c76d7754549bd       RUB  13690.0   True    55.238964  7.001681e+18   \n",
       "...                            ...      ...    ...          ...           ...   \n",
       "5fb3d4a078df3635f5441c63       RUB   4425.0   True  4357.468355  1.578973e+18   \n",
       "5fb3d4a078df3635f5441c49       RUB   3045.0   True  4395.777848  4.015816e+18   \n",
       "5fb27c60d8c9df1ed1236ec3       RUB   4195.0   True  4499.886018 -1.600708e+18   \n",
       "60b7a590061c76d775455293       RUB   3735.0   True  4618.096882 -6.104082e+18   \n",
       "60b7a522061c76d775454d42       RUB   3790.0   True  4758.373834  5.356647e+17   \n",
       "\n",
       "                          dups  \n",
       "_id                             \n",
       "60b7a4c2061c76d7754545ba   1.0  \n",
       "60b7a4c1061c76d775454594   1.0  \n",
       "5fca2aab9083b679224c75e1   1.0  \n",
       "5fb399dd39d5e82e9081847d   1.0  \n",
       "60b7a4f4061c76d7754549bd   1.0  \n",
       "...                        ...  \n",
       "5fb3d4a078df3635f5441c63   1.0  \n",
       "5fb3d4a078df3635f5441c49   1.0  \n",
       "5fb27c60d8c9df1ed1236ec3   2.0  \n",
       "60b7a590061c76d775455293   1.0  \n",
       "60b7a522061c76d775454d42   1.0  \n",
       "\n",
       "[491 rows x 22 columns]"
      ]
     },
     "execution_count": 172,
     "metadata": {},
     "output_type": "execute_result"
    }
   ],
   "source": [
    "dups_s[dups_s['unseen']]"
   ]
  },
  {
   "cell_type": "markdown",
   "id": "8e0857d1-e99a-4ac3-acce-2325f9c99608",
   "metadata": {
    "papermill": {
     "duration": 0.012798,
     "end_time": "2021-08-03T13:00:16.787093",
     "exception": false,
     "start_time": "2021-08-03T13:00:16.774295",
     "status": "completed"
    },
    "tags": []
   },
   "source": [
    "# Make datapoints"
   ]
  },
  {
   "cell_type": "code",
   "execution_count": 173,
   "id": "23f51800-6a9c-42a1-9811-85a12005b299",
   "metadata": {},
   "outputs": [],
   "source": [
    "from analyser.headers_detector import get_tokens_features\n",
    "from tf_support.embedder_elmo import ElmoEmbedder\n",
    "from analyser.legal_docs import embedd_tokens\n",
    "import os\n",
    "\n",
    "embedder = ElmoEmbedder.get_instance('elmo')  # lazy init\n",
    "\n",
    "def _dp_fn(doc_id, suffix):\n",
    "    return os.path.join(work_dir, 'datasets', f'{doc_id}-datapoint-{suffix}.npy')\n",
    "\n",
    "\n",
    "def save_contract_data_arrays(db_json_doc: DbJsonDoc):\n",
    "    # TODO: trim long documens according to contract parser\n",
    "\n",
    "    id_ = db_json_doc.get_id()\n",
    "\n",
    "    tokens_map: TextMap = db_json_doc.get_tokens_for_embedding()\n",
    "\n",
    "    # 1) EMBEDDINGS\n",
    "    embeddings = embedd_tokens(tokens_map,\n",
    "                               embedder,\n",
    "                               log_key=f'id={id_} chs={tokens_map.get_checksum()}')\n",
    "\n",
    "    # 2) TOKEN FEATURES\n",
    "    token_features: DataFrame = get_tokens_features(db_json_doc.get_tokens_map_unchaged().tokens)\n",
    "\n",
    "    # 3) SEMANTIC MAP\n",
    "    semantic_map: DataFrame = get_semantic_map(db_json_doc)\n",
    "    #####\n",
    " \n",
    "    np.save(_dp_fn(id_, 'token_features'), token_features)\n",
    "    np.save(_dp_fn(id_, 'semantic_map'), semantic_map)\n",
    "    np.save(_dp_fn(id_, 'embeddings'), embeddings)"
   ]
  },
  {
   "cell_type": "code",
   "execution_count": 179,
   "id": "038a98e4-4b79-4472-b370-065118afc684",
   "metadata": {},
   "outputs": [
    {
     "name": "stdout",
     "output_type": "stream",
     "text": [
      "0 5fe48219b770574a0055560a\n"
     ]
    },
    {
     "name": "stderr",
     "output_type": "stream",
     "text": [
      "DEBUG:gpn:skipping embedding doc c2eff4876966476ba28916eb49d6f184 ...., /Users/artem/work/nemo/work/datasets/cache-c2eff4876966476ba28916eb49d6f184-embeddings-ElmoEmbedder.npy exists, loading\n",
      "DEBUG:gpn:loaded embedding shape is: (1665, 1024)\n",
      "DEBUG:gpn:getting embedding from cache id=5fe48219b770574a0055560a chs=c2eff4876966476ba28916eb49d6f184\n",
      "DEBUG:gpn:skipping embedding doc 23a30eb9fbcb89d822b131a4417a34f2 ...., /Users/artem/work/nemo/work/datasets/cache-23a30eb9fbcb89d822b131a4417a34f2-embeddings-ElmoEmbedder.npy exists, loading\n",
      "DEBUG:gpn:loaded embedding shape is: (1655, 1024)\n",
      "DEBUG:gpn:getting embedding from cache id=5fb3d7a778df3635f5441e58 chs=23a30eb9fbcb89d822b131a4417a34f2\n"
     ]
    },
    {
     "name": "stdout",
     "output_type": "stream",
     "text": [
      "1 5fb3d7a778df3635f5441e58\n",
      "2 5fb6750a33c72547b75500f9\n"
     ]
    },
    {
     "name": "stderr",
     "output_type": "stream",
     "text": [
      "DEBUG:gpn:skipping embedding doc 3afd6a595217fd4b81586854c464d0b1 ...., /Users/artem/work/nemo/work/datasets/cache-3afd6a595217fd4b81586854c464d0b1-embeddings-ElmoEmbedder.npy exists, loading\n",
      "DEBUG:gpn:loaded embedding shape is: (3005, 1024)\n",
      "DEBUG:gpn:getting embedding from cache id=5fb6750a33c72547b75500f9 chs=3afd6a595217fd4b81586854c464d0b1\n"
     ]
    },
    {
     "name": "stdout",
     "output_type": "stream",
     "text": [
      "3 60b7a548061c76d775454f49\n"
     ]
    },
    {
     "name": "stderr",
     "output_type": "stream",
     "text": [
      "DEBUG:gpn:skipping embedding doc 73d6efbfa9258b64b3b1e42da68af3b8 ...., /Users/artem/work/nemo/work/datasets/cache-73d6efbfa9258b64b3b1e42da68af3b8-embeddings-ElmoEmbedder.npy exists, loading\n",
      "DEBUG:gpn:loaded embedding shape is: (10328, 1024)\n",
      "DEBUG:gpn:getting embedding from cache id=60b7a548061c76d775454f49 chs=73d6efbfa9258b64b3b1e42da68af3b8\n"
     ]
    },
    {
     "name": "stdout",
     "output_type": "stream",
     "text": [
      "4 60b7a539061c76d775454e56\n"
     ]
    },
    {
     "name": "stderr",
     "output_type": "stream",
     "text": [
      "DEBUG:gpn:skipping embedding doc 9d5e5b6bec5925fcb8ae175e05b7e9eb ...., /Users/artem/work/nemo/work/datasets/cache-9d5e5b6bec5925fcb8ae175e05b7e9eb-embeddings-ElmoEmbedder.npy exists, loading\n",
      "DEBUG:gpn:loaded embedding shape is: (10468, 1024)\n",
      "DEBUG:gpn:getting embedding from cache id=60b7a539061c76d775454e56 chs=9d5e5b6bec5925fcb8ae175e05b7e9eb\n"
     ]
    },
    {
     "name": "stdout",
     "output_type": "stream",
     "text": [
      "5 60b7a501061c76d775454ab4\n"
     ]
    },
    {
     "name": "stderr",
     "output_type": "stream",
     "text": [
      "DEBUG:gpn:skipping embedding doc 7b1b58171d4abbc368c1ffa2233b3eab ...., /Users/artem/work/nemo/work/datasets/cache-7b1b58171d4abbc368c1ffa2233b3eab-embeddings-ElmoEmbedder.npy exists, loading\n",
      "DEBUG:gpn:loaded embedding shape is: (10461, 1024)\n",
      "DEBUG:gpn:getting embedding from cache id=60b7a501061c76d775454ab4 chs=7b1b58171d4abbc368c1ffa2233b3eab\n"
     ]
    },
    {
     "name": "stdout",
     "output_type": "stream",
     "text": [
      "6 60b7a4dc061c76d775454815\n"
     ]
    },
    {
     "name": "stderr",
     "output_type": "stream",
     "text": [
      "DEBUG:gpn:skipping embedding doc 830698c870ac9139edcbaf61d9e1482b ...., /Users/artem/work/nemo/work/datasets/cache-830698c870ac9139edcbaf61d9e1482b-embeddings-ElmoEmbedder.npy exists, loading\n",
      "DEBUG:gpn:loaded embedding shape is: (9592, 1024)\n",
      "DEBUG:gpn:getting embedding from cache id=60b7a4dc061c76d775454815 chs=830698c870ac9139edcbaf61d9e1482b\n"
     ]
    },
    {
     "name": "stdout",
     "output_type": "stream",
     "text": [
      "7 60b7a532061c76d775454e2f\n"
     ]
    },
    {
     "name": "stderr",
     "output_type": "stream",
     "text": [
      "DEBUG:gpn:skipping embedding doc 91c656f1121e92faf39434d1cd4dd24f ...., /Users/artem/work/nemo/work/datasets/cache-91c656f1121e92faf39434d1cd4dd24f-embeddings-ElmoEmbedder.npy exists, loading\n",
      "DEBUG:gpn:loaded embedding shape is: (10320, 1024)\n",
      "DEBUG:gpn:getting embedding from cache id=60b7a532061c76d775454e2f chs=91c656f1121e92faf39434d1cd4dd24f\n"
     ]
    },
    {
     "name": "stdout",
     "output_type": "stream",
     "text": [
      "8 60b7a546061c76d775454f29\n"
     ]
    },
    {
     "name": "stderr",
     "output_type": "stream",
     "text": [
      "DEBUG:gpn:skipping embedding doc 6e0e210401d1c67017264f33b9f82e7f ...., /Users/artem/work/nemo/work/datasets/cache-6e0e210401d1c67017264f33b9f82e7f-embeddings-ElmoEmbedder.npy exists, loading\n",
      "DEBUG:gpn:loaded embedding shape is: (14930, 1024)\n",
      "DEBUG:gpn:getting embedding from cache id=60b7a546061c76d775454f29 chs=6e0e210401d1c67017264f33b9f82e7f\n"
     ]
    },
    {
     "name": "stdout",
     "output_type": "stream",
     "text": [
      "9 60b7a4f6061c76d7754549e0\n"
     ]
    },
    {
     "name": "stderr",
     "output_type": "stream",
     "text": [
      "DEBUG:gpn:skipping embedding doc 5076122740aaf15dea19b50b5c5385a7 ...., /Users/artem/work/nemo/work/datasets/cache-5076122740aaf15dea19b50b5c5385a7-embeddings-ElmoEmbedder.npy exists, loading\n",
      "DEBUG:gpn:loaded embedding shape is: (7652, 1024)\n",
      "DEBUG:gpn:getting embedding from cache id=60b7a4f6061c76d7754549e0 chs=5076122740aaf15dea19b50b5c5385a7\n"
     ]
    },
    {
     "name": "stdout",
     "output_type": "stream",
     "text": [
      "10 60b7a503061c76d775454ad4\n"
     ]
    },
    {
     "name": "stderr",
     "output_type": "stream",
     "text": [
      "DEBUG:gpn:skipping embedding doc 3d20bc7f3567f4532d45ab9a1fd3a6d3 ...., /Users/artem/work/nemo/work/datasets/cache-3d20bc7f3567f4532d45ab9a1fd3a6d3-embeddings-ElmoEmbedder.npy exists, loading\n",
      "DEBUG:gpn:loaded embedding shape is: (9301, 1024)\n",
      "DEBUG:gpn:getting embedding from cache id=60b7a503061c76d775454ad4 chs=3d20bc7f3567f4532d45ab9a1fd3a6d3\n"
     ]
    },
    {
     "name": "stdout",
     "output_type": "stream",
     "text": [
      "11 60b7a597061c76d775455340\n"
     ]
    },
    {
     "name": "stderr",
     "output_type": "stream",
     "text": [
      "DEBUG:gpn:skipping embedding doc a4790340f19a324410d4dd635fc47bb5 ...., /Users/artem/work/nemo/work/datasets/cache-a4790340f19a324410d4dd635fc47bb5-embeddings-ElmoEmbedder.npy exists, loading\n",
      "DEBUG:gpn:loaded embedding shape is: (14829, 1024)\n",
      "DEBUG:gpn:getting embedding from cache id=60b7a597061c76d775455340 chs=a4790340f19a324410d4dd635fc47bb5\n"
     ]
    },
    {
     "name": "stdout",
     "output_type": "stream",
     "text": [
      "12 60b7a53c061c76d775454eb5\n"
     ]
    },
    {
     "name": "stderr",
     "output_type": "stream",
     "text": [
      "DEBUG:gpn:skipping embedding doc 34c267d68308a75788f6e2223c6297c2 ...., /Users/artem/work/nemo/work/datasets/cache-34c267d68308a75788f6e2223c6297c2-embeddings-ElmoEmbedder.npy exists, loading\n",
      "DEBUG:gpn:loaded embedding shape is: (4833, 1024)\n",
      "DEBUG:gpn:getting embedding from cache id=60b7a53c061c76d775454eb5 chs=34c267d68308a75788f6e2223c6297c2\n"
     ]
    },
    {
     "name": "stdout",
     "output_type": "stream",
     "text": [
      "13 5fb3d49f78df3635f5441c08\n"
     ]
    },
    {
     "name": "stderr",
     "output_type": "stream",
     "text": [
      "DEBUG:gpn:skipping embedding doc 98aea12f164b11d78cbe23beec80c4b3 ...., /Users/artem/work/nemo/work/datasets/cache-98aea12f164b11d78cbe23beec80c4b3-embeddings-ElmoEmbedder.npy exists, loading\n",
      "DEBUG:gpn:loaded embedding shape is: (3511, 1024)\n",
      "DEBUG:gpn:getting embedding from cache id=5fb3d49f78df3635f5441c08 chs=98aea12f164b11d78cbe23beec80c4b3\n"
     ]
    },
    {
     "name": "stdout",
     "output_type": "stream",
     "text": [
      "14 5fb3d7a978df3635f5441ec8\n"
     ]
    },
    {
     "name": "stderr",
     "output_type": "stream",
     "text": [
      "DEBUG:gpn:skipping embedding doc 37ebb766529efa24082d3c28941ef27c ...., /Users/artem/work/nemo/work/datasets/cache-37ebb766529efa24082d3c28941ef27c-embeddings-ElmoEmbedder.npy exists, loading\n",
      "DEBUG:gpn:loaded embedding shape is: (4313, 1024)\n",
      "DEBUG:gpn:getting embedding from cache id=5fb3d7a978df3635f5441ec8 chs=37ebb766529efa24082d3c28941ef27c\n"
     ]
    },
    {
     "name": "stdout",
     "output_type": "stream",
     "text": [
      "15 5fe4821bb770574a0055567b\n"
     ]
    },
    {
     "name": "stderr",
     "output_type": "stream",
     "text": [
      "DEBUG:gpn:skipping embedding doc cef4bfd28c32c081063ab70b938b6530 ...., /Users/artem/work/nemo/work/datasets/cache-cef4bfd28c32c081063ab70b938b6530-embeddings-ElmoEmbedder.npy exists, loading\n",
      "DEBUG:gpn:loaded embedding shape is: (1892, 1024)\n",
      "DEBUG:gpn:getting embedding from cache id=5fe4821bb770574a0055567b chs=cef4bfd28c32c081063ab70b938b6530\n",
      "DEBUG:gpn:skipping embedding doc 0a401072c6b11ee66f95777493a9e48b ...., /Users/artem/work/nemo/work/datasets/cache-0a401072c6b11ee66f95777493a9e48b-embeddings-ElmoEmbedder.npy exists, loading\n",
      "DEBUG:gpn:loaded embedding shape is: (1898, 1024)\n",
      "DEBUG:gpn:getting embedding from cache id=5fb3d7a778df3635f5441e59 chs=0a401072c6b11ee66f95777493a9e48b\n"
     ]
    },
    {
     "name": "stdout",
     "output_type": "stream",
     "text": [
      "16 5fb3d7a778df3635f5441e59\n",
      "17 60b7a526061c76d775454d98\n"
     ]
    },
    {
     "name": "stderr",
     "output_type": "stream",
     "text": [
      "DEBUG:gpn:skipping embedding doc b5fa009d506d29502ab3ae8e0ec9a508 ...., /Users/artem/work/nemo/work/datasets/cache-b5fa009d506d29502ab3ae8e0ec9a508-embeddings-ElmoEmbedder.npy exists, loading\n",
      "DEBUG:gpn:loaded embedding shape is: (3751, 1024)\n",
      "DEBUG:gpn:getting embedding from cache id=60b7a526061c76d775454d98 chs=b5fa009d506d29502ab3ae8e0ec9a508\n",
      "DEBUG:gpn:skipping embedding doc 04236b1d6ed57924b85d0ebb75f26a77 ...., /Users/artem/work/nemo/work/datasets/cache-04236b1d6ed57924b85d0ebb75f26a77-embeddings-ElmoEmbedder.npy exists, loading\n",
      "DEBUG:gpn:loaded embedding shape is: (2155, 1024)\n",
      "DEBUG:gpn:getting embedding from cache id=60b7a527061c76d775454db8 chs=04236b1d6ed57924b85d0ebb75f26a77\n"
     ]
    },
    {
     "name": "stdout",
     "output_type": "stream",
     "text": [
      "18 60b7a527061c76d775454db8\n",
      "19 60b7a4d4061c76d775454756\n"
     ]
    },
    {
     "name": "stderr",
     "output_type": "stream",
     "text": [
      "DEBUG:gpn:skipping embedding doc d10d8f566e44fc9aefce88dab5ac0574 ...., /Users/artem/work/nemo/work/datasets/cache-d10d8f566e44fc9aefce88dab5ac0574-embeddings-ElmoEmbedder.npy exists, loading\n",
      "DEBUG:gpn:loaded embedding shape is: (2843, 1024)\n",
      "DEBUG:gpn:getting embedding from cache id=60b7a4d4061c76d775454756 chs=d10d8f566e44fc9aefce88dab5ac0574\n",
      "DEBUG:gpn:skipping embedding doc 79f1f84ea6e21c3db5ab7e62003c5875 ...., /Users/artem/work/nemo/work/datasets/cache-79f1f84ea6e21c3db5ab7e62003c5875-embeddings-ElmoEmbedder.npy exists, loading\n",
      "DEBUG:gpn:loaded embedding shape is: (2145, 1024)\n",
      "DEBUG:gpn:getting embedding from cache id=5fe4821ab770574a00555631 chs=79f1f84ea6e21c3db5ab7e62003c5875\n"
     ]
    },
    {
     "name": "stdout",
     "output_type": "stream",
     "text": [
      "20 5fe4821ab770574a00555631\n",
      "21 5fb3d7a478df3635f5441dbd\n"
     ]
    },
    {
     "name": "stderr",
     "output_type": "stream",
     "text": [
      "DEBUG:gpn:skipping embedding doc ddde6f2c776db87e7a274e707eeb565b ...., /Users/artem/work/nemo/work/datasets/cache-ddde6f2c776db87e7a274e707eeb565b-embeddings-ElmoEmbedder.npy exists, loading\n",
      "DEBUG:gpn:loaded embedding shape is: (1977, 1024)\n",
      "DEBUG:gpn:getting embedding from cache id=5fb3d7a478df3635f5441dbd chs=ddde6f2c776db87e7a274e707eeb565b\n",
      "DEBUG:gpn:skipping embedding doc 462ea9feba5a8913dc8a2456a6c45480 ...., /Users/artem/work/nemo/work/datasets/cache-462ea9feba5a8913dc8a2456a6c45480-embeddings-ElmoEmbedder.npy exists, loading\n",
      "DEBUG:gpn:loaded embedding shape is: (2445, 1024)\n",
      "DEBUG:gpn:getting embedding from cache id=60b7a517061c76d775454c6a chs=462ea9feba5a8913dc8a2456a6c45480\n"
     ]
    },
    {
     "name": "stdout",
     "output_type": "stream",
     "text": [
      "22 60b7a517061c76d775454c6a\n",
      "23 5fb3d7a978df3635f5441ed4\n"
     ]
    },
    {
     "name": "stderr",
     "output_type": "stream",
     "text": [
      "DEBUG:gpn:skipping embedding doc 48c6bd6fc118f07f9d4cdf7938f25549 ...., /Users/artem/work/nemo/work/datasets/cache-48c6bd6fc118f07f9d4cdf7938f25549-embeddings-ElmoEmbedder.npy exists, loading\n",
      "DEBUG:gpn:loaded embedding shape is: (4753, 1024)\n",
      "DEBUG:gpn:getting embedding from cache id=5fb3d7a978df3635f5441ed4 chs=48c6bd6fc118f07f9d4cdf7938f25549\n"
     ]
    },
    {
     "name": "stdout",
     "output_type": "stream",
     "text": [
      "24 5fb27c24d8c9df1ed1236e43\n"
     ]
    },
    {
     "name": "stderr",
     "output_type": "stream",
     "text": [
      "DEBUG:gpn:skipping embedding doc 4f4ada710c1d1b6e9772767d31305278 ...., /Users/artem/work/nemo/work/datasets/cache-4f4ada710c1d1b6e9772767d31305278-embeddings-ElmoEmbedder.npy exists, loading\n",
      "DEBUG:gpn:loaded embedding shape is: (9706, 1024)\n",
      "DEBUG:gpn:getting embedding from cache id=5fb27c24d8c9df1ed1236e43 chs=4f4ada710c1d1b6e9772767d31305278\n"
     ]
    },
    {
     "name": "stdout",
     "output_type": "stream",
     "text": [
      "ERROR 2 alias 5fb27c24d8c9df1ed1236e43 'alias' [{'type': {'confidence': 0.7665975689888, 'span': [74, 76], 'span_map': 'words', 'value': 'Акционерное общество'}, 'name': {'confidence': 0.6839861869812012, 'span': [76, 80], 'span_map': 'words', 'value': 'Арктика Медиа'}, 'alias': {'confidence': 0.48851001262664795, 'span': [92, 93], 'span_map': 'words', 'value': 'Страхователь'}}, {'type': {'confidence': 0.9998112916946411, 'span': [22, 24], 'span_map': 'words', 'value': 'Акционерное общество'}, 'name': {'confidence': 0.782522976398468, 'span': [25, 35], 'span_map': 'words', 'value': 'Страховое общество газовой промышленности\" (АО \"СОГАЗ\"'}}]\n",
      "25 5fbbbd1ba2b4551c06107a46\n"
     ]
    },
    {
     "name": "stderr",
     "output_type": "stream",
     "text": [
      "DEBUG:gpn:skipping embedding doc 9d68b2a4362ef34420b26b44161c725c ...., /Users/artem/work/nemo/work/datasets/cache-9d68b2a4362ef34420b26b44161c725c-embeddings-ElmoEmbedder.npy exists, loading\n",
      "DEBUG:gpn:loaded embedding shape is: (9704, 1024)\n",
      "DEBUG:gpn:getting embedding from cache id=5fbbbd1ba2b4551c06107a46 chs=9d68b2a4362ef34420b26b44161c725c\n"
     ]
    },
    {
     "name": "stdout",
     "output_type": "stream",
     "text": [
      "ERROR 2 alias 5fbbbd1ba2b4551c06107a46 'alias' [{'type': {'confidence': 0.7601575255393982, 'span': [72, 74], 'span_map': 'words', 'value': 'Акционерное общество'}, 'name': {'confidence': 0.6905164122581482, 'span': [74, 78], 'span_map': 'words', 'value': 'Арктика Медиа'}, 'alias': {'confidence': 0.4918660819530487, 'span': [90, 91], 'span_map': 'words', 'value': 'Страхователь'}}, {'type': {'confidence': 0.9992380738258362, 'span': [20, 22], 'span_map': 'words', 'value': 'Акционерное общество'}, 'name': {'confidence': 0.7911956310272217, 'span': [23, 33], 'span_map': 'words', 'value': 'Страховое общество газовой промышленности\" (АО \"СОГАЗ\"'}}]\n",
      "26 5fe4821fb770574a0055575f\n"
     ]
    },
    {
     "name": "stderr",
     "output_type": "stream",
     "text": [
      "DEBUG:gpn:skipping embedding doc 7f93621eb1b84cf94b1a9044a05b2062 ...., /Users/artem/work/nemo/work/datasets/cache-7f93621eb1b84cf94b1a9044a05b2062-embeddings-ElmoEmbedder.npy exists, loading\n",
      "DEBUG:gpn:loaded embedding shape is: (2724, 1024)\n",
      "DEBUG:gpn:getting embedding from cache id=5fe4821fb770574a0055575f chs=7f93621eb1b84cf94b1a9044a05b2062\n"
     ]
    },
    {
     "name": "stdout",
     "output_type": "stream",
     "text": [
      "27 60b7a4d4061c76d775454762\n"
     ]
    },
    {
     "name": "stderr",
     "output_type": "stream",
     "text": [
      "DEBUG:gpn:skipping embedding doc 4580cd80fac3f2741a9559df1814ff49 ...., /Users/artem/work/nemo/work/datasets/cache-4580cd80fac3f2741a9559df1814ff49-embeddings-ElmoEmbedder.npy exists, loading\n",
      "DEBUG:gpn:loaded embedding shape is: (4411, 1024)\n",
      "DEBUG:gpn:getting embedding from cache id=60b7a4d4061c76d775454762 chs=4580cd80fac3f2741a9559df1814ff49\n"
     ]
    },
    {
     "name": "stdout",
     "output_type": "stream",
     "text": [
      "28 60b7a4ea061c76d7754548bd\n"
     ]
    },
    {
     "name": "stderr",
     "output_type": "stream",
     "text": [
      "DEBUG:gpn:skipping embedding doc 5aaa1d74afae0061beb0c0acfe4bdc36 ...., /Users/artem/work/nemo/work/datasets/cache-5aaa1d74afae0061beb0c0acfe4bdc36-embeddings-ElmoEmbedder.npy exists, loading\n",
      "DEBUG:gpn:loaded embedding shape is: (6355, 1024)\n",
      "DEBUG:gpn:getting embedding from cache id=60b7a4ea061c76d7754548bd chs=5aaa1d74afae0061beb0c0acfe4bdc36\n"
     ]
    },
    {
     "name": "stdout",
     "output_type": "stream",
     "text": [
      "29 60b7a518061c76d775454c78\n"
     ]
    },
    {
     "name": "stderr",
     "output_type": "stream",
     "text": [
      "DEBUG:gpn:skipping embedding doc 3e7227816c312b6c985d00cdef19477b ...., /Users/artem/work/nemo/work/datasets/cache-3e7227816c312b6c985d00cdef19477b-embeddings-ElmoEmbedder.npy exists, loading\n",
      "DEBUG:gpn:loaded embedding shape is: (8291, 1024)\n",
      "DEBUG:gpn:getting embedding from cache id=60b7a518061c76d775454c78 chs=3e7227816c312b6c985d00cdef19477b\n"
     ]
    },
    {
     "name": "stdout",
     "output_type": "stream",
     "text": [
      "30 60b7a4ce061c76d7754546bc\n"
     ]
    },
    {
     "name": "stderr",
     "output_type": "stream",
     "text": [
      "DEBUG:gpn:skipping embedding doc 4dad6b33e174d5c11674ee08ab9dd5a8 ...., /Users/artem/work/nemo/work/datasets/cache-4dad6b33e174d5c11674ee08ab9dd5a8-embeddings-ElmoEmbedder.npy exists, loading\n",
      "DEBUG:gpn:loaded embedding shape is: (5265, 1024)\n",
      "DEBUG:gpn:getting embedding from cache id=60b7a4ce061c76d7754546bc chs=4dad6b33e174d5c11674ee08ab9dd5a8\n"
     ]
    },
    {
     "name": "stdout",
     "output_type": "stream",
     "text": [
      "31 5fb27c62d8c9df1ed1236ef7\n"
     ]
    },
    {
     "name": "stderr",
     "output_type": "stream",
     "text": [
      "DEBUG:gpn:skipping embedding doc 02f29b5355ca0f17397148d43942835d ...., /Users/artem/work/nemo/work/datasets/cache-02f29b5355ca0f17397148d43942835d-embeddings-ElmoEmbedder.npy exists, loading\n",
      "DEBUG:gpn:loaded embedding shape is: (3722, 1024)\n",
      "DEBUG:gpn:getting embedding from cache id=5fb27c62d8c9df1ed1236ef7 chs=02f29b5355ca0f17397148d43942835d\n",
      "DEBUG:gpn:skipping embedding doc 47961bc218d1a75aae309af262181acb ...., /Users/artem/work/nemo/work/datasets/cache-47961bc218d1a75aae309af262181acb-embeddings-ElmoEmbedder.npy exists, loading\n",
      "DEBUG:gpn:loaded embedding shape is: (1394, 1024)\n",
      "DEBUG:gpn:getting embedding from cache id=5fb674ff33c72547b7550012 chs=47961bc218d1a75aae309af262181acb\n"
     ]
    },
    {
     "name": "stdout",
     "output_type": "stream",
     "text": [
      "32 5fb674ff33c72547b7550012\n",
      "33 5fbbbd1aa2b4551c061079e1\n"
     ]
    },
    {
     "name": "stderr",
     "output_type": "stream",
     "text": [
      "DEBUG:gpn:skipping embedding doc d65b2e27c214f72bcddf8272334032cf ...., /Users/artem/work/nemo/work/datasets/cache-d65b2e27c214f72bcddf8272334032cf-embeddings-ElmoEmbedder.npy exists, loading\n",
      "DEBUG:gpn:loaded embedding shape is: (1395, 1024)\n",
      "DEBUG:gpn:getting embedding from cache id=5fbbbd1aa2b4551c061079e1 chs=d65b2e27c214f72bcddf8272334032cf\n"
     ]
    },
    {
     "name": "stdout",
     "output_type": "stream",
     "text": [
      "34 5fbbe46da2b4551c06107c6c\n"
     ]
    },
    {
     "name": "stderr",
     "output_type": "stream",
     "text": [
      "DEBUG:gpn:skipping embedding doc 90c40a71d75cab34e65cb07b57b4e065 ...., /Users/artem/work/nemo/work/datasets/cache-90c40a71d75cab34e65cb07b57b4e065-embeddings-ElmoEmbedder.npy exists, loading\n",
      "DEBUG:gpn:loaded embedding shape is: (4520, 1024)\n",
      "DEBUG:gpn:getting embedding from cache id=5fbbe46da2b4551c06107c6c chs=90c40a71d75cab34e65cb07b57b4e065\n"
     ]
    },
    {
     "name": "stdout",
     "output_type": "stream",
     "text": [
      "35 60b7a516061c76d775454c3f\n"
     ]
    },
    {
     "name": "stderr",
     "output_type": "stream",
     "text": [
      "DEBUG:gpn:skipping embedding doc 73345a53e9cbae572664877a3d7a2cfc ...., /Users/artem/work/nemo/work/datasets/cache-73345a53e9cbae572664877a3d7a2cfc-embeddings-ElmoEmbedder.npy exists, loading\n",
      "DEBUG:gpn:loaded embedding shape is: (4206, 1024)\n",
      "DEBUG:gpn:getting embedding from cache id=60b7a516061c76d775454c3f chs=73345a53e9cbae572664877a3d7a2cfc\n"
     ]
    },
    {
     "name": "stdout",
     "output_type": "stream",
     "text": [
      "36 60b7a593061c76d7754552d7\n"
     ]
    },
    {
     "name": "stderr",
     "output_type": "stream",
     "text": [
      "DEBUG:gpn:skipping embedding doc 8663646c02c12f023b4e931f68b29a7a ...., /Users/artem/work/nemo/work/datasets/cache-8663646c02c12f023b4e931f68b29a7a-embeddings-ElmoEmbedder.npy exists, loading\n",
      "DEBUG:gpn:loaded embedding shape is: (5263, 1024)\n",
      "DEBUG:gpn:getting embedding from cache id=60b7a593061c76d7754552d7 chs=8663646c02c12f023b4e931f68b29a7a\n"
     ]
    },
    {
     "name": "stdout",
     "output_type": "stream",
     "text": [
      "37 60b7a531061c76d775454e18\n"
     ]
    },
    {
     "name": "stderr",
     "output_type": "stream",
     "text": [
      "DEBUG:gpn:skipping embedding doc fc284a21e4e0498275288c2106e7a8bc ...., /Users/artem/work/nemo/work/datasets/cache-fc284a21e4e0498275288c2106e7a8bc-embeddings-ElmoEmbedder.npy exists, loading\n",
      "DEBUG:gpn:loaded embedding shape is: (3791, 1024)\n",
      "DEBUG:gpn:getting embedding from cache id=60b7a531061c76d775454e18 chs=fc284a21e4e0498275288c2106e7a8bc\n"
     ]
    },
    {
     "name": "stdout",
     "output_type": "stream",
     "text": [
      "38 60b7a4ce061c76d7754546c9\n"
     ]
    },
    {
     "name": "stderr",
     "output_type": "stream",
     "text": [
      "DEBUG:gpn:skipping embedding doc d14370f84e0adaecea88ff35f3948558 ...., /Users/artem/work/nemo/work/datasets/cache-d14370f84e0adaecea88ff35f3948558-embeddings-ElmoEmbedder.npy exists, loading\n",
      "DEBUG:gpn:loaded embedding shape is: (5957, 1024)\n",
      "DEBUG:gpn:getting embedding from cache id=60b7a4ce061c76d7754546c9 chs=d14370f84e0adaecea88ff35f3948558\n"
     ]
    },
    {
     "name": "stdout",
     "output_type": "stream",
     "text": [
      "39 60b7a4c6061c76d77545462f\n"
     ]
    },
    {
     "name": "stderr",
     "output_type": "stream",
     "text": [
      "DEBUG:gpn:skipping embedding doc 82549bc536376cd1b04958e2de47e2f2 ...., /Users/artem/work/nemo/work/datasets/cache-82549bc536376cd1b04958e2de47e2f2-embeddings-ElmoEmbedder.npy exists, loading\n",
      "DEBUG:gpn:loaded embedding shape is: (2539, 1024)\n",
      "DEBUG:gpn:getting embedding from cache id=60b7a4c6061c76d77545462f chs=82549bc536376cd1b04958e2de47e2f2\n"
     ]
    },
    {
     "name": "stdout",
     "output_type": "stream",
     "text": [
      "40 5fe48221b770574a005557bf\n"
     ]
    },
    {
     "name": "stderr",
     "output_type": "stream",
     "text": [
      "DEBUG:gpn:skipping embedding doc 5e143fda26b6b0309e2a6f4309fe9843 ...., /Users/artem/work/nemo/work/datasets/cache-5e143fda26b6b0309e2a6f4309fe9843-embeddings-ElmoEmbedder.npy exists, loading\n",
      "DEBUG:gpn:loaded embedding shape is: (2701, 1024)\n",
      "DEBUG:gpn:getting embedding from cache id=5fe48221b770574a005557bf chs=5e143fda26b6b0309e2a6f4309fe9843\n"
     ]
    },
    {
     "name": "stdout",
     "output_type": "stream",
     "text": [
      "41 60b7a4d0061c76d7754546e8\n"
     ]
    },
    {
     "name": "stderr",
     "output_type": "stream",
     "text": [
      "DEBUG:gpn:skipping embedding doc 9bf415352e6efd920c8e9d6701d0cee6 ...., /Users/artem/work/nemo/work/datasets/cache-9bf415352e6efd920c8e9d6701d0cee6-embeddings-ElmoEmbedder.npy exists, loading\n",
      "DEBUG:gpn:loaded embedding shape is: (4870, 1024)\n",
      "DEBUG:gpn:getting embedding from cache id=60b7a4d0061c76d7754546e8 chs=9bf415352e6efd920c8e9d6701d0cee6\n"
     ]
    },
    {
     "name": "stdout",
     "output_type": "stream",
     "text": [
      "42 60b7a594061c76d7754552ee\n"
     ]
    },
    {
     "name": "stderr",
     "output_type": "stream",
     "text": [
      "DEBUG:gpn:skipping embedding doc fa0a0723be0a896033f0532421ef6be9 ...., /Users/artem/work/nemo/work/datasets/cache-fa0a0723be0a896033f0532421ef6be9-embeddings-ElmoEmbedder.npy exists, loading\n",
      "DEBUG:gpn:loaded embedding shape is: (4869, 1024)\n",
      "DEBUG:gpn:getting embedding from cache id=60b7a594061c76d7754552ee chs=fa0a0723be0a896033f0532421ef6be9\n",
      "DEBUG:gpn:skipping embedding doc 36ab8651aa90c538d061d0ef5673fa3f ...., /Users/artem/work/nemo/work/datasets/cache-36ab8651aa90c538d061d0ef5673fa3f-embeddings-ElmoEmbedder.npy exists, loading\n",
      "DEBUG:gpn:loaded embedding shape is: (763, 1024)\n",
      "DEBUG:gpn:getting embedding from cache id=5fb376e2d8c9df1ed123726a chs=36ab8651aa90c538d061d0ef5673fa3f\n"
     ]
    },
    {
     "name": "stdout",
     "output_type": "stream",
     "text": [
      "43 5fb376e2d8c9df1ed123726a\n",
      "44 60b7a50b061c76d775454b79\n"
     ]
    },
    {
     "name": "stderr",
     "output_type": "stream",
     "text": [
      "DEBUG:gpn:skipping embedding doc 62fb2665cca2c3abc34a301cdc8d0d9b ...., /Users/artem/work/nemo/work/datasets/cache-62fb2665cca2c3abc34a301cdc8d0d9b-embeddings-ElmoEmbedder.npy exists, loading\n",
      "DEBUG:gpn:loaded embedding shape is: (5977, 1024)\n",
      "DEBUG:gpn:getting embedding from cache id=60b7a50b061c76d775454b79 chs=62fb2665cca2c3abc34a301cdc8d0d9b\n"
     ]
    },
    {
     "name": "stdout",
     "output_type": "stream",
     "text": [
      "45 60b7a599061c76d775455357\n"
     ]
    },
    {
     "name": "stderr",
     "output_type": "stream",
     "text": [
      "DEBUG:gpn:skipping embedding doc 8748ef9ca5f723dfa62d8284fcaa68d8 ...., /Users/artem/work/nemo/work/datasets/cache-8748ef9ca5f723dfa62d8284fcaa68d8-embeddings-ElmoEmbedder.npy exists, loading\n",
      "DEBUG:gpn:loaded embedding shape is: (3375, 1024)\n",
      "DEBUG:gpn:getting embedding from cache id=60b7a599061c76d775455357 chs=8748ef9ca5f723dfa62d8284fcaa68d8\n"
     ]
    },
    {
     "name": "stdout",
     "output_type": "stream",
     "text": [
      "46 60b7a4ec061c76d775454904\n"
     ]
    },
    {
     "name": "stderr",
     "output_type": "stream",
     "text": [
      "DEBUG:gpn:skipping embedding doc b9dccc341cdc841e32e9828719555edd ...., /Users/artem/work/nemo/work/datasets/cache-b9dccc341cdc841e32e9828719555edd-embeddings-ElmoEmbedder.npy exists, loading\n",
      "DEBUG:gpn:loaded embedding shape is: (5995, 1024)\n",
      "DEBUG:gpn:getting embedding from cache id=60b7a4ec061c76d775454904 chs=b9dccc341cdc841e32e9828719555edd\n",
      "DEBUG:gpn:skipping embedding doc d46d30184fb16f56b8a64d7fba3505ea ...., /Users/artem/work/nemo/work/datasets/cache-d46d30184fb16f56b8a64d7fba3505ea-embeddings-ElmoEmbedder.npy exists, loading\n",
      "DEBUG:gpn:loaded embedding shape is: (2097, 1024)\n",
      "DEBUG:gpn:getting embedding from cache id=5fbbe467a2b4551c06107b03 chs=d46d30184fb16f56b8a64d7fba3505ea\n"
     ]
    },
    {
     "name": "stdout",
     "output_type": "stream",
     "text": [
      "47 5fbbe467a2b4551c06107b03\n",
      "48 60b7a4d2061c76d775454715\n"
     ]
    },
    {
     "name": "stderr",
     "output_type": "stream",
     "text": [
      "DEBUG:gpn:skipping embedding doc 6fac88af3cc8300c8326cc7435d25941 ...., /Users/artem/work/nemo/work/datasets/cache-6fac88af3cc8300c8326cc7435d25941-embeddings-ElmoEmbedder.npy exists, loading\n",
      "DEBUG:gpn:loaded embedding shape is: (5713, 1024)\n",
      "DEBUG:gpn:getting embedding from cache id=60b7a4d2061c76d775454715 chs=6fac88af3cc8300c8326cc7435d25941\n"
     ]
    },
    {
     "name": "stdout",
     "output_type": "stream",
     "text": [
      "49 60b7a598061c76d775455353\n"
     ]
    },
    {
     "name": "stderr",
     "output_type": "stream",
     "text": [
      "DEBUG:gpn:skipping embedding doc 2d2d614c4cb183d3e163efdf8024c257 ...., /Users/artem/work/nemo/work/datasets/cache-2d2d614c4cb183d3e163efdf8024c257-embeddings-ElmoEmbedder.npy exists, loading\n",
      "DEBUG:gpn:loaded embedding shape is: (2985, 1024)\n",
      "DEBUG:gpn:getting embedding from cache id=60b7a598061c76d775455353 chs=2d2d614c4cb183d3e163efdf8024c257\n"
     ]
    },
    {
     "name": "stdout",
     "output_type": "stream",
     "text": [
      "50 5fe48220b770574a00555772\n"
     ]
    },
    {
     "name": "stderr",
     "output_type": "stream",
     "text": [
      "DEBUG:gpn:skipping embedding doc 7d45bf580e672f2faef3973f161a2cdc ...., /Users/artem/work/nemo/work/datasets/cache-7d45bf580e672f2faef3973f161a2cdc-embeddings-ElmoEmbedder.npy exists, loading\n",
      "DEBUG:gpn:loaded embedding shape is: (2124, 1024)\n",
      "DEBUG:gpn:getting embedding from cache id=5fe48220b770574a00555772 chs=7d45bf580e672f2faef3973f161a2cdc\n"
     ]
    },
    {
     "name": "stdout",
     "output_type": "stream",
     "text": [
      "51 60b7a53b061c76d775454e92\n"
     ]
    },
    {
     "name": "stderr",
     "output_type": "stream",
     "text": [
      "DEBUG:gpn:skipping embedding doc c0af0920d5f588f3f0c2d65b4f880ea6 ...., /Users/artem/work/nemo/work/datasets/cache-c0af0920d5f588f3f0c2d65b4f880ea6-embeddings-ElmoEmbedder.npy exists, loading\n",
      "DEBUG:gpn:loaded embedding shape is: (7793, 1024)\n",
      "DEBUG:gpn:getting embedding from cache id=60b7a53b061c76d775454e92 chs=c0af0920d5f588f3f0c2d65b4f880ea6\n",
      "DEBUG:gpn:skipping embedding doc a935fe307c9b3084200ac421608f6907 ...., /Users/artem/work/nemo/work/datasets/cache-a935fe307c9b3084200ac421608f6907-embeddings-ElmoEmbedder.npy exists, loading\n",
      "DEBUG:gpn:loaded embedding shape is: (2097, 1024)\n",
      "DEBUG:gpn:getting embedding from cache id=5fb3d49e78df3635f5441bc6 chs=a935fe307c9b3084200ac421608f6907\n"
     ]
    },
    {
     "name": "stdout",
     "output_type": "stream",
     "text": [
      "52 5fb3d49e78df3635f5441bc6\n",
      "53 5fdb2142542ce403c92b4582\n"
     ]
    },
    {
     "name": "stderr",
     "output_type": "stream",
     "text": [
      "DEBUG:gpn:skipping embedding doc 51d062f187fff9b3b9880944e41bcd1c ...., /Users/artem/work/nemo/work/datasets/cache-51d062f187fff9b3b9880944e41bcd1c-embeddings-ElmoEmbedder.npy exists, loading\n",
      "DEBUG:gpn:loaded embedding shape is: (2952, 1024)\n",
      "DEBUG:gpn:getting embedding from cache id=5fdb2142542ce403c92b4582 chs=51d062f187fff9b3b9880944e41bcd1c\n"
     ]
    },
    {
     "name": "stdout",
     "output_type": "stream",
     "text": [
      "54 60b7a591061c76d7754552a1\n"
     ]
    },
    {
     "name": "stderr",
     "output_type": "stream",
     "text": [
      "DEBUG:gpn:skipping embedding doc 0194c68ec91cce8afcc82e649acec834 ...., /Users/artem/work/nemo/work/datasets/cache-0194c68ec91cce8afcc82e649acec834-embeddings-ElmoEmbedder.npy exists, loading\n",
      "DEBUG:gpn:loaded embedding shape is: (7092, 1024)\n",
      "DEBUG:gpn:getting embedding from cache id=60b7a591061c76d7754552a1 chs=0194c68ec91cce8afcc82e649acec834\n"
     ]
    },
    {
     "name": "stdout",
     "output_type": "stream",
     "text": [
      "55 60b7a53b061c76d775454e97\n"
     ]
    },
    {
     "name": "stderr",
     "output_type": "stream",
     "text": [
      "DEBUG:gpn:skipping embedding doc 32b88a4ee313362787d7288cfe65f858 ...., /Users/artem/work/nemo/work/datasets/cache-32b88a4ee313362787d7288cfe65f858-embeddings-ElmoEmbedder.npy exists, loading\n",
      "DEBUG:gpn:loaded embedding shape is: (3640, 1024)\n",
      "DEBUG:gpn:getting embedding from cache id=60b7a53b061c76d775454e97 chs=32b88a4ee313362787d7288cfe65f858\n"
     ]
    },
    {
     "name": "stdout",
     "output_type": "stream",
     "text": [
      "56 60b7a5b2061c76d77545552e\n"
     ]
    },
    {
     "name": "stderr",
     "output_type": "stream",
     "text": [
      "DEBUG:gpn:skipping embedding doc 4fb8cd77c9c115ac1d7ec93d8f46e909 ...., /Users/artem/work/nemo/work/datasets/cache-4fb8cd77c9c115ac1d7ec93d8f46e909-embeddings-ElmoEmbedder.npy exists, loading\n",
      "DEBUG:gpn:loaded embedding shape is: (5915, 1024)\n",
      "DEBUG:gpn:getting embedding from cache id=60b7a5b2061c76d77545552e chs=4fb8cd77c9c115ac1d7ec93d8f46e909\n"
     ]
    },
    {
     "name": "stdout",
     "output_type": "stream",
     "text": [
      "57 5fbbe46ca2b4551c06107bff\n"
     ]
    },
    {
     "name": "stderr",
     "output_type": "stream",
     "text": [
      "DEBUG:gpn:skipping embedding doc 06ad5b1de5a9b5426f7e0b9ce1d15511 ...., /Users/artem/work/nemo/work/datasets/cache-06ad5b1de5a9b5426f7e0b9ce1d15511-embeddings-ElmoEmbedder.npy exists, loading\n",
      "DEBUG:gpn:loaded embedding shape is: (3006, 1024)\n",
      "DEBUG:gpn:getting embedding from cache id=5fbbe46ca2b4551c06107bff chs=06ad5b1de5a9b5426f7e0b9ce1d15511\n",
      "DEBUG:gpn:skipping embedding doc 79535ba7131cedaaf679e077ef1f1ea0 ...., /Users/artem/work/nemo/work/datasets/cache-79535ba7131cedaaf679e077ef1f1ea0-embeddings-ElmoEmbedder.npy exists, loading\n",
      "DEBUG:gpn:loaded embedding shape is: (1655, 1024)\n",
      "DEBUG:gpn:getting embedding from cache id=5fb3d7a478df3635f5441db8 chs=79535ba7131cedaaf679e077ef1f1ea0\n"
     ]
    },
    {
     "name": "stdout",
     "output_type": "stream",
     "text": [
      "58 5fb3d7a478df3635f5441db8\n",
      "59 60b7a4d0061c76d7754546f6\n"
     ]
    },
    {
     "name": "stderr",
     "output_type": "stream",
     "text": [
      "DEBUG:gpn:skipping embedding doc e474bdff80ce381698f71e6a9ebe8844 ...., /Users/artem/work/nemo/work/datasets/cache-e474bdff80ce381698f71e6a9ebe8844-embeddings-ElmoEmbedder.npy exists, loading\n",
      "DEBUG:gpn:loaded embedding shape is: (5131, 1024)\n",
      "DEBUG:gpn:getting embedding from cache id=60b7a4d0061c76d7754546f6 chs=e474bdff80ce381698f71e6a9ebe8844\n"
     ]
    },
    {
     "name": "stdout",
     "output_type": "stream",
     "text": [
      "60 5fb3d7a678df3635f5441e13\n"
     ]
    },
    {
     "name": "stderr",
     "output_type": "stream",
     "text": [
      "DEBUG:gpn:skipping embedding doc ece72a9fe5126951a7e418bff2fdc153 ...., /Users/artem/work/nemo/work/datasets/cache-ece72a9fe5126951a7e418bff2fdc153-embeddings-ElmoEmbedder.npy exists, loading\n",
      "DEBUG:gpn:loaded embedding shape is: (3794, 1024)\n",
      "DEBUG:gpn:getting embedding from cache id=5fb3d7a678df3635f5441e13 chs=ece72a9fe5126951a7e418bff2fdc153\n",
      "DEBUG:gpn:skipping embedding doc 55664b9c5394415db83459eca5508a26 ...., /Users/artem/work/nemo/work/datasets/cache-55664b9c5394415db83459eca5508a26-embeddings-ElmoEmbedder.npy exists, loading\n",
      "DEBUG:gpn:loaded embedding shape is: (2468, 1024)\n",
      "DEBUG:gpn:getting embedding from cache id=5fdb2144542ce403c92b45d8 chs=55664b9c5394415db83459eca5508a26\n"
     ]
    },
    {
     "name": "stdout",
     "output_type": "stream",
     "text": [
      "61 5fdb2144542ce403c92b45d8\n",
      "62 60b7a59a061c76d775455379\n"
     ]
    },
    {
     "name": "stderr",
     "output_type": "stream",
     "text": [
      "DEBUG:gpn:skipping embedding doc d226b2955fe3888bbecf5008843bc002 ...., /Users/artem/work/nemo/work/datasets/cache-d226b2955fe3888bbecf5008843bc002-embeddings-ElmoEmbedder.npy exists, loading\n",
      "DEBUG:gpn:loaded embedding shape is: (4551, 1024)\n",
      "DEBUG:gpn:getting embedding from cache id=60b7a59a061c76d775455379 chs=d226b2955fe3888bbecf5008843bc002\n"
     ]
    },
    {
     "name": "stdout",
     "output_type": "stream",
     "text": [
      "ERROR 2 type 60b7a59a061c76d775455379 'type' [{'type': {'confidence': 0.9717519879341125, 'kind': 'org-1-type', 'value': 'Общество с ограниченной ответственностью', 'span': [36, 40], 'span_map': 'words'}, 'name': {'confidence': 0.8076357245445251, 'kind': 'org-1-name', 'value': 'Информационно-правовая компания «ПРОМЭКС-Инфо»', 'span': [41, 47], 'span_map': 'words'}, 'alias': {'confidence': 0.8284409046173096, 'kind': 'org-1-alias', 'value': 'Исполнитель', 'span': [63, 64], 'span_map': 'words'}}, {'name': {'confidence': 0.5462570786476135, 'kind': 'org-2-name', 'value': 'Газпромнефть-КС', 'span': [85, 86], 'span_map': 'words'}, 'alias': {'confidence': 0.8093724250793457, 'kind': 'org-2-alias', 'value': 'Заказчик', 'span': [92, 93], 'span_map': 'words'}}]\n",
      "63 5fb3d79c78df3635f5441cfa\n"
     ]
    },
    {
     "name": "stderr",
     "output_type": "stream",
     "text": [
      "DEBUG:gpn:skipping embedding doc 150f6fe3160afb797d087f782434bc09 ...., /Users/artem/work/nemo/work/datasets/cache-150f6fe3160afb797d087f782434bc09-embeddings-ElmoEmbedder.npy exists, loading\n",
      "DEBUG:gpn:loaded embedding shape is: (3192, 1024)\n",
      "DEBUG:gpn:getting embedding from cache id=5fb3d79c78df3635f5441cfa chs=150f6fe3160afb797d087f782434bc09\n",
      "DEBUG:gpn:skipping embedding doc be0a80622be86f8abe31be19f478b2f4 ...., /Users/artem/work/nemo/work/datasets/cache-be0a80622be86f8abe31be19f478b2f4-embeddings-ElmoEmbedder.npy exists, loading\n",
      "DEBUG:gpn:loaded embedding shape is: (1726, 1024)\n",
      "DEBUG:gpn:getting embedding from cache id=60b7a4c4061c76d7754545f4 chs=be0a80622be86f8abe31be19f478b2f4\n"
     ]
    },
    {
     "name": "stdout",
     "output_type": "stream",
     "text": [
      "64 60b7a4c4061c76d7754545f4\n",
      "65 60b7a546061c76d775454f1d\n"
     ]
    },
    {
     "name": "stderr",
     "output_type": "stream",
     "text": [
      "DEBUG:gpn:skipping embedding doc 3aa9ad0ec9f239e3c6374656cbca3ef3 ...., /Users/artem/work/nemo/work/datasets/cache-3aa9ad0ec9f239e3c6374656cbca3ef3-embeddings-ElmoEmbedder.npy exists, loading\n",
      "DEBUG:gpn:loaded embedding shape is: (7232, 1024)\n",
      "DEBUG:gpn:getting embedding from cache id=60b7a546061c76d775454f1d chs=3aa9ad0ec9f239e3c6374656cbca3ef3\n"
     ]
    },
    {
     "name": "stdout",
     "output_type": "stream",
     "text": [
      "66 5fb3d4a178df3635f5441c6f\n"
     ]
    },
    {
     "name": "stderr",
     "output_type": "stream",
     "text": [
      "DEBUG:gpn:skipping embedding doc 18c7fcb9354f9f8696aa96aadd89d7a3 ...., /Users/artem/work/nemo/work/datasets/cache-18c7fcb9354f9f8696aa96aadd89d7a3-embeddings-ElmoEmbedder.npy exists, loading\n",
      "DEBUG:gpn:loaded embedding shape is: (2456, 1024)\n",
      "DEBUG:gpn:getting embedding from cache id=5fb3d4a178df3635f5441c6f chs=18c7fcb9354f9f8696aa96aadd89d7a3\n"
     ]
    },
    {
     "name": "stdout",
     "output_type": "stream",
     "text": [
      "67 60b7a592061c76d7754552b8\n"
     ]
    },
    {
     "name": "stderr",
     "output_type": "stream",
     "text": [
      "DEBUG:gpn:skipping embedding doc e4b49842af569ac12560bdbf887f305a ...., /Users/artem/work/nemo/work/datasets/cache-e4b49842af569ac12560bdbf887f305a-embeddings-ElmoEmbedder.npy exists, loading\n",
      "DEBUG:gpn:loaded embedding shape is: (5265, 1024)\n",
      "DEBUG:gpn:getting embedding from cache id=60b7a592061c76d7754552b8 chs=e4b49842af569ac12560bdbf887f305a\n"
     ]
    },
    {
     "name": "stdout",
     "output_type": "stream",
     "text": [
      "68 5fb6750733c72547b75500a2\n"
     ]
    },
    {
     "name": "stderr",
     "output_type": "stream",
     "text": [
      "DEBUG:gpn:skipping embedding doc 4e4e26ac79445748e93ce314326b868d ...., /Users/artem/work/nemo/work/datasets/cache-4e4e26ac79445748e93ce314326b868d-embeddings-ElmoEmbedder.npy exists, loading\n",
      "DEBUG:gpn:loaded embedding shape is: (3018, 1024)\n",
      "DEBUG:gpn:getting embedding from cache id=5fb6750733c72547b75500a2 chs=4e4e26ac79445748e93ce314326b868d\n"
     ]
    },
    {
     "name": "stdout",
     "output_type": "stream",
     "text": [
      "69 60b7a59a061c76d77545537e\n"
     ]
    },
    {
     "name": "stderr",
     "output_type": "stream",
     "text": [
      "DEBUG:gpn:skipping embedding doc d69cacab4a9915587540647d6601a949 ...., /Users/artem/work/nemo/work/datasets/cache-d69cacab4a9915587540647d6601a949-embeddings-ElmoEmbedder.npy exists, loading\n",
      "DEBUG:gpn:loaded embedding shape is: (4017, 1024)\n",
      "DEBUG:gpn:getting embedding from cache id=60b7a59a061c76d77545537e chs=d69cacab4a9915587540647d6601a949\n"
     ]
    },
    {
     "name": "stdout",
     "output_type": "stream",
     "text": [
      "ERROR 2 type 60b7a59a061c76d77545537e 'type' [{'type': {'confidence': 0.9744340777397156, 'kind': 'org-1-type', 'value': 'Общество с ограниченной ответственностью', 'span': [191, 195], 'span_map': 'words'}, 'name': {'confidence': 0.9827978610992432, 'kind': 'org-1-name', 'value': 'Информационно-правовая компания «ПРОМЭКС-Инфо»', 'span': [196, 202], 'span_map': 'words'}, 'alias': {'confidence': 0.7351111769676208, 'kind': 'org-1-alias', 'value': 'Исполнитель', 'span': [223, 224], 'span_map': 'words'}}, {'name': {'confidence': 0.4415057301521301, 'kind': 'org-2-name', 'value': 'Газпромнефть-КС', 'span': [245, 247], 'span_map': 'words'}, 'alias': {'confidence': 0.8652775883674622, 'kind': 'org-2-alias', 'value': 'Заказчик', 'span': [253, 254], 'span_map': 'words'}}]\n",
      "70 5fb674f633c72547b754ff54\n"
     ]
    },
    {
     "name": "stderr",
     "output_type": "stream",
     "text": [
      "DEBUG:gpn:skipping embedding doc 69f2b73f66e8e71f9f773c11c3e8efa9 ...., /Users/artem/work/nemo/work/datasets/cache-69f2b73f66e8e71f9f773c11c3e8efa9-embeddings-ElmoEmbedder.npy exists, loading\n",
      "DEBUG:gpn:loaded embedding shape is: (1806, 1024)\n",
      "DEBUG:gpn:getting embedding from cache id=5fb674f633c72547b754ff54 chs=69f2b73f66e8e71f9f773c11c3e8efa9\n"
     ]
    },
    {
     "name": "stdout",
     "output_type": "stream",
     "text": [
      "71 60b7a531061c76d775454e12\n"
     ]
    },
    {
     "name": "stderr",
     "output_type": "stream",
     "text": [
      "DEBUG:gpn:skipping embedding doc cd5b5f760d695dc86b693476270755be ...., /Users/artem/work/nemo/work/datasets/cache-cd5b5f760d695dc86b693476270755be-embeddings-ElmoEmbedder.npy exists, loading\n",
      "DEBUG:gpn:loaded embedding shape is: (3854, 1024)\n",
      "DEBUG:gpn:getting embedding from cache id=60b7a531061c76d775454e12 chs=cd5b5f760d695dc86b693476270755be\n"
     ]
    },
    {
     "name": "stdout",
     "output_type": "stream",
     "text": [
      "72 60b7a592061c76d7754552c9\n"
     ]
    },
    {
     "name": "stderr",
     "output_type": "stream",
     "text": [
      "DEBUG:gpn:skipping embedding doc de148f9ac6538a563b24872d5b40ab98 ...., /Users/artem/work/nemo/work/datasets/cache-de148f9ac6538a563b24872d5b40ab98-embeddings-ElmoEmbedder.npy exists, loading\n",
      "DEBUG:gpn:loaded embedding shape is: (5201, 1024)\n",
      "DEBUG:gpn:getting embedding from cache id=60b7a592061c76d7754552c9 chs=de148f9ac6538a563b24872d5b40ab98\n"
     ]
    },
    {
     "name": "stdout",
     "output_type": "stream",
     "text": [
      "73 60b7a532061c76d775454e35\n"
     ]
    },
    {
     "name": "stderr",
     "output_type": "stream",
     "text": [
      "DEBUG:gpn:skipping embedding doc 66d8012822297e75561a57fb062e1a0a ...., /Users/artem/work/nemo/work/datasets/cache-66d8012822297e75561a57fb062e1a0a-embeddings-ElmoEmbedder.npy exists, loading\n",
      "DEBUG:gpn:loaded embedding shape is: (5002, 1024)\n",
      "DEBUG:gpn:getting embedding from cache id=60b7a532061c76d775454e35 chs=66d8012822297e75561a57fb062e1a0a\n"
     ]
    },
    {
     "name": "stdout",
     "output_type": "stream",
     "text": [
      "74 60b7a594061c76d7754552e8\n"
     ]
    },
    {
     "name": "stderr",
     "output_type": "stream",
     "text": [
      "DEBUG:gpn:skipping embedding doc c90c436d34f0df3a043ec69deb749e56 ...., /Users/artem/work/nemo/work/datasets/cache-c90c436d34f0df3a043ec69deb749e56-embeddings-ElmoEmbedder.npy exists, loading\n",
      "DEBUG:gpn:loaded embedding shape is: (5136, 1024)\n",
      "DEBUG:gpn:getting embedding from cache id=60b7a594061c76d7754552e8 chs=c90c436d34f0df3a043ec69deb749e56\n",
      "DEBUG:gpn:skipping embedding doc 55095b0c3aeec93b193d3a4b75f12524 ...., /Users/artem/work/nemo/work/datasets/cache-55095b0c3aeec93b193d3a4b75f12524-embeddings-ElmoEmbedder.npy exists, loading\n",
      "DEBUG:gpn:loaded embedding shape is: (1332, 1024)\n",
      "DEBUG:gpn:getting embedding from cache id=5fdb213d542ce403c92b4519 chs=55095b0c3aeec93b193d3a4b75f12524\n"
     ]
    },
    {
     "name": "stdout",
     "output_type": "stream",
     "text": [
      "75 5fdb213d542ce403c92b4519\n",
      "76 5fb3d7a978df3635f5441ebb\n"
     ]
    },
    {
     "name": "stderr",
     "output_type": "stream",
     "text": [
      "DEBUG:gpn:skipping embedding doc 1c00f134b946705b7460db3fa154b24f ...., /Users/artem/work/nemo/work/datasets/cache-1c00f134b946705b7460db3fa154b24f-embeddings-ElmoEmbedder.npy exists, loading\n",
      "DEBUG:gpn:loaded embedding shape is: (4910, 1024)\n",
      "DEBUG:gpn:getting embedding from cache id=5fb3d7a978df3635f5441ebb chs=1c00f134b946705b7460db3fa154b24f\n"
     ]
    },
    {
     "name": "stdout",
     "output_type": "stream",
     "text": [
      "77 5fb3d7a978df3635f5441eb5\n"
     ]
    },
    {
     "name": "stderr",
     "output_type": "stream",
     "text": [
      "DEBUG:gpn:skipping embedding doc 1cb5b9253b29c2ec8e49f0a675547e82 ...., /Users/artem/work/nemo/work/datasets/cache-1cb5b9253b29c2ec8e49f0a675547e82-embeddings-ElmoEmbedder.npy exists, loading\n",
      "DEBUG:gpn:loaded embedding shape is: (5747, 1024)\n",
      "DEBUG:gpn:getting embedding from cache id=5fb3d7a978df3635f5441eb5 chs=1cb5b9253b29c2ec8e49f0a675547e82\n"
     ]
    },
    {
     "name": "stdout",
     "output_type": "stream",
     "text": [
      "78 60b7a522061c76d775454d2d\n"
     ]
    },
    {
     "name": "stderr",
     "output_type": "stream",
     "text": [
      "DEBUG:gpn:skipping embedding doc c18c6c9dedc02f12ea5a7f782cf725d7 ...., /Users/artem/work/nemo/work/datasets/cache-c18c6c9dedc02f12ea5a7f782cf725d7-embeddings-ElmoEmbedder.npy exists, loading\n",
      "DEBUG:gpn:loaded embedding shape is: (3021, 1024)\n",
      "DEBUG:gpn:getting embedding from cache id=60b7a522061c76d775454d2d chs=c18c6c9dedc02f12ea5a7f782cf725d7\n"
     ]
    },
    {
     "name": "stdout",
     "output_type": "stream",
     "text": [
      "79 60b7a501061c76d775454ab7\n"
     ]
    },
    {
     "name": "stderr",
     "output_type": "stream",
     "text": [
      "DEBUG:gpn:skipping embedding doc 2dd0b34adc19fba5522e1a14f4f0abc3 ...., /Users/artem/work/nemo/work/datasets/cache-2dd0b34adc19fba5522e1a14f4f0abc3-embeddings-ElmoEmbedder.npy exists, loading\n",
      "DEBUG:gpn:loaded embedding shape is: (6069, 1024)\n",
      "DEBUG:gpn:getting embedding from cache id=60b7a501061c76d775454ab7 chs=2dd0b34adc19fba5522e1a14f4f0abc3\n"
     ]
    },
    {
     "name": "stdout",
     "output_type": "stream",
     "text": [
      "80 60b7a4ff061c76d775454a19\n"
     ]
    },
    {
     "name": "stderr",
     "output_type": "stream",
     "text": [
      "DEBUG:gpn:skipping embedding doc d4ac6716b18d15f9d528fb625f3c08fc ...., /Users/artem/work/nemo/work/datasets/cache-d4ac6716b18d15f9d528fb625f3c08fc-embeddings-ElmoEmbedder.npy exists, loading\n",
      "DEBUG:gpn:loaded embedding shape is: (13383, 1024)\n",
      "DEBUG:gpn:getting embedding from cache id=60b7a4ff061c76d775454a19 chs=d4ac6716b18d15f9d528fb625f3c08fc\n"
     ]
    },
    {
     "name": "stdout",
     "output_type": "stream",
     "text": [
      "81 60b7a595061c76d7754552fc\n"
     ]
    },
    {
     "name": "stderr",
     "output_type": "stream",
     "text": [
      "DEBUG:gpn:skipping embedding doc 335bd4be82ecbc0f8891c9ff3a66ad56 ...., /Users/artem/work/nemo/work/datasets/cache-335bd4be82ecbc0f8891c9ff3a66ad56-embeddings-ElmoEmbedder.npy exists, loading\n",
      "DEBUG:gpn:loaded embedding shape is: (5023, 1024)\n",
      "DEBUG:gpn:getting embedding from cache id=60b7a595061c76d7754552fc chs=335bd4be82ecbc0f8891c9ff3a66ad56\n"
     ]
    },
    {
     "name": "stdout",
     "output_type": "stream",
     "text": [
      "82 60b7a4d1061c76d7754546fe\n"
     ]
    },
    {
     "name": "stderr",
     "output_type": "stream",
     "text": [
      "DEBUG:gpn:skipping embedding doc ecaec4d20a6dfe79d2e850472d4205f2 ...., /Users/artem/work/nemo/work/datasets/cache-ecaec4d20a6dfe79d2e850472d4205f2-embeddings-ElmoEmbedder.npy exists, loading\n",
      "DEBUG:gpn:loaded embedding shape is: (6046, 1024)\n",
      "DEBUG:gpn:getting embedding from cache id=60b7a4d1061c76d7754546fe chs=ecaec4d20a6dfe79d2e850472d4205f2\n"
     ]
    },
    {
     "name": "stdout",
     "output_type": "stream",
     "text": [
      "83 60b7a507061c76d775454b04\n"
     ]
    },
    {
     "name": "stderr",
     "output_type": "stream",
     "text": [
      "DEBUG:gpn:skipping embedding doc 6a52ef0808c497f4b89309a851290975 ...., /Users/artem/work/nemo/work/datasets/cache-6a52ef0808c497f4b89309a851290975-embeddings-ElmoEmbedder.npy exists, loading\n",
      "DEBUG:gpn:loaded embedding shape is: (2825, 1024)\n",
      "DEBUG:gpn:getting embedding from cache id=60b7a507061c76d775454b04 chs=6a52ef0808c497f4b89309a851290975\n",
      "DEBUG:gpn:skipping embedding doc 6c42fa60e3cb7087f5ffc4dfb5f6f592 ...., /Users/artem/work/nemo/work/datasets/cache-6c42fa60e3cb7087f5ffc4dfb5f6f592-embeddings-ElmoEmbedder.npy exists, loading\n",
      "DEBUG:gpn:loaded embedding shape is: (1732, 1024)\n",
      "DEBUG:gpn:getting embedding from cache id=60b7a506061c76d775454afb chs=6c42fa60e3cb7087f5ffc4dfb5f6f592\n"
     ]
    },
    {
     "name": "stdout",
     "output_type": "stream",
     "text": [
      "84 60b7a506061c76d775454afb\n",
      "85 5fb3d4a178df3635f5441c7e\n"
     ]
    },
    {
     "name": "stderr",
     "output_type": "stream",
     "text": [
      "DEBUG:gpn:skipping embedding doc 39cf5df1e67eceae3cadfefd42a8fd5a ...., /Users/artem/work/nemo/work/datasets/cache-39cf5df1e67eceae3cadfefd42a8fd5a-embeddings-ElmoEmbedder.npy exists, loading\n",
      "DEBUG:gpn:loaded embedding shape is: (3016, 1024)\n",
      "DEBUG:gpn:getting embedding from cache id=5fb3d4a178df3635f5441c7e chs=39cf5df1e67eceae3cadfefd42a8fd5a\n"
     ]
    },
    {
     "name": "stdout",
     "output_type": "stream",
     "text": [
      "86 5fbbe46ea2b4551c06107c9e\n"
     ]
    },
    {
     "name": "stderr",
     "output_type": "stream",
     "text": [
      "DEBUG:gpn:skipping embedding doc e5c4477bb27fdffef9ab3b13fa94f8e5 ...., /Users/artem/work/nemo/work/datasets/cache-e5c4477bb27fdffef9ab3b13fa94f8e5-embeddings-ElmoEmbedder.npy exists, loading\n",
      "DEBUG:gpn:loaded embedding shape is: (11732, 1024)\n",
      "DEBUG:gpn:getting embedding from cache id=5fbbe46ea2b4551c06107c9e chs=e5c4477bb27fdffef9ab3b13fa94f8e5\n",
      "DEBUG:gpn:skipping embedding doc e8a64a887a33710c7584c10b5f9d0593 ...., /Users/artem/work/nemo/work/datasets/cache-e8a64a887a33710c7584c10b5f9d0593-embeddings-ElmoEmbedder.npy exists, loading\n",
      "DEBUG:gpn:loaded embedding shape is: (1362, 1024)\n",
      "DEBUG:gpn:getting embedding from cache id=5fb3d49f78df3635f5441bfc chs=e8a64a887a33710c7584c10b5f9d0593\n"
     ]
    },
    {
     "name": "stdout",
     "output_type": "stream",
     "text": [
      "ERROR 2 alias 5fbbe46ea2b4551c06107c9e 'alias' [{'type': {'confidence': 1, 'kind': 'org-1-type', 'key': 'org-1-type', 'span': [56, 58], 'span_map': 'words', 'value': 'Акционерное общество'}, 'name': {'confidence': 1, 'kind': 'org-1-name', 'key': 'org-1-name', 'span': [59, 61], 'span_map': 'words', 'value': 'Арктика Медиа'}, 'alias': {'confidence': 1, 'kind': 'org-1-alias', 'key': 'org-1-alias', 'span': [74, 75], 'span_map': 'words', 'value': 'Страхователь'}}, {'name': {'confidence': 1, 'kind': 'org-2-name', 'key': 'org-2-name', 'span': [25, 28], 'span_map': 'words', 'value': 'СОГАЗ'}, 'type': {'confidence': 1, 'kind': 'org-2-type', 'key': 'org-2-type', 'span': [21, 23], 'span_map': 'words', 'value': 'Акционерное общество', 'changed': True, 'parent': ''}}]\n",
      "87 5fb3d49f78df3635f5441bfc\n",
      "88 60b7a4eb061c76d7754548de\n"
     ]
    },
    {
     "name": "stderr",
     "output_type": "stream",
     "text": [
      "DEBUG:gpn:skipping embedding doc c4dfcbdee0d61102d61abe622f58b4c8 ...., /Users/artem/work/nemo/work/datasets/cache-c4dfcbdee0d61102d61abe622f58b4c8-embeddings-ElmoEmbedder.npy exists, loading\n",
      "DEBUG:gpn:loaded embedding shape is: (1081, 1024)\n",
      "DEBUG:gpn:getting embedding from cache id=60b7a4eb061c76d7754548de chs=c4dfcbdee0d61102d61abe622f58b4c8\n"
     ]
    },
    {
     "name": "stdout",
     "output_type": "stream",
     "text": [
      "89 60b7a53b061c76d775454e9f\n"
     ]
    },
    {
     "name": "stderr",
     "output_type": "stream",
     "text": [
      "DEBUG:gpn:skipping embedding doc c834083be96180beadf05c46bcf94d74 ...., /Users/artem/work/nemo/work/datasets/cache-c834083be96180beadf05c46bcf94d74-embeddings-ElmoEmbedder.npy exists, loading\n",
      "DEBUG:gpn:loaded embedding shape is: (7794, 1024)\n",
      "DEBUG:gpn:getting embedding from cache id=60b7a53b061c76d775454e9f chs=c834083be96180beadf05c46bcf94d74\n"
     ]
    },
    {
     "name": "stdout",
     "output_type": "stream",
     "text": [
      "90 5fe48221b770574a005557c7\n"
     ]
    },
    {
     "name": "stderr",
     "output_type": "stream",
     "text": [
      "DEBUG:gpn:skipping embedding doc 6b9c54c0807d200748c99700da444d6f ...., /Users/artem/work/nemo/work/datasets/cache-6b9c54c0807d200748c99700da444d6f-embeddings-ElmoEmbedder.npy exists, loading\n",
      "DEBUG:gpn:loaded embedding shape is: (3125, 1024)\n",
      "DEBUG:gpn:getting embedding from cache id=5fe48221b770574a005557c7 chs=6b9c54c0807d200748c99700da444d6f\n",
      "DEBUG:gpn:skipping embedding doc 658f4094aaa227795674fdabda7ae4d8 ...., /Users/artem/work/nemo/work/datasets/cache-658f4094aaa227795674fdabda7ae4d8-embeddings-ElmoEmbedder.npy exists, loading\n",
      "DEBUG:gpn:loaded embedding shape is: (1171, 1024)\n",
      "DEBUG:gpn:getting embedding from cache id=60b7a4e9061c76d7754548ba chs=658f4094aaa227795674fdabda7ae4d8\n"
     ]
    },
    {
     "name": "stdout",
     "output_type": "stream",
     "text": [
      "91 60b7a4e9061c76d7754548ba\n",
      "92 60b7a4eb061c76d7754548e4\n"
     ]
    },
    {
     "name": "stderr",
     "output_type": "stream",
     "text": [
      "DEBUG:gpn:skipping embedding doc e67f164cca745daf0cee4d778e1f0a1d ...., /Users/artem/work/nemo/work/datasets/cache-e67f164cca745daf0cee4d778e1f0a1d-embeddings-ElmoEmbedder.npy exists, loading\n",
      "DEBUG:gpn:loaded embedding shape is: (953, 1024)\n",
      "DEBUG:gpn:getting embedding from cache id=60b7a4eb061c76d7754548e4 chs=e67f164cca745daf0cee4d778e1f0a1d\n"
     ]
    },
    {
     "name": "stdout",
     "output_type": "stream",
     "text": [
      "93 5fb376e4d8c9df1ed12372a1\n"
     ]
    },
    {
     "name": "stderr",
     "output_type": "stream",
     "text": [
      "DEBUG:gpn:skipping embedding doc ca824fd3d355b36ab07699921cf1f18b ...., /Users/artem/work/nemo/work/datasets/cache-ca824fd3d355b36ab07699921cf1f18b-embeddings-ElmoEmbedder.npy exists, loading\n",
      "DEBUG:gpn:loaded embedding shape is: (2507, 1024)\n",
      "DEBUG:gpn:getting embedding from cache id=5fb376e4d8c9df1ed12372a1 chs=ca824fd3d355b36ab07699921cf1f18b\n"
     ]
    },
    {
     "name": "stdout",
     "output_type": "stream",
     "text": [
      "94 60b7a4c1061c76d7754545a7\n"
     ]
    },
    {
     "name": "stderr",
     "output_type": "stream",
     "text": [
      "DEBUG:gpn:skipping embedding doc 183a1ece2b62cce9e4bca4b673c0abad ...., /Users/artem/work/nemo/work/datasets/cache-183a1ece2b62cce9e4bca4b673c0abad-embeddings-ElmoEmbedder.npy exists, loading\n",
      "DEBUG:gpn:loaded embedding shape is: (2639, 1024)\n",
      "DEBUG:gpn:getting embedding from cache id=60b7a4c1061c76d7754545a7 chs=183a1ece2b62cce9e4bca4b673c0abad\n",
      "DEBUG:gpn:skipping embedding doc 86bb34bd9312c87429efcc87ef17a7b6 ...., /Users/artem/work/nemo/work/datasets/cache-86bb34bd9312c87429efcc87ef17a7b6-embeddings-ElmoEmbedder.npy exists, loading\n",
      "DEBUG:gpn:loaded embedding shape is: (1835, 1024)\n",
      "DEBUG:gpn:getting embedding from cache id=5fb3d7a378df3635f5441d94 chs=86bb34bd9312c87429efcc87ef17a7b6\n"
     ]
    },
    {
     "name": "stdout",
     "output_type": "stream",
     "text": [
      "95 5fb3d7a378df3635f5441d94\n",
      "96 5ec2b8da665f7603e03b1255\n"
     ]
    },
    {
     "name": "stderr",
     "output_type": "stream",
     "text": [
      "DEBUG:gpn:skipping embedding doc 3187bfac60ea578221c5d9357756c6c1 ...., /Users/artem/work/nemo/work/datasets/cache-3187bfac60ea578221c5d9357756c6c1-embeddings-ElmoEmbedder.npy exists, loading\n",
      "DEBUG:gpn:loaded embedding shape is: (5847, 1024)\n",
      "DEBUG:gpn:getting embedding from cache id=5ec2b8da665f7603e03b1255 chs=3187bfac60ea578221c5d9357756c6c1\n"
     ]
    },
    {
     "name": "stdout",
     "output_type": "stream",
     "text": [
      "ERROR 2 name 5ec2b8da665f7603e03b1255 list index out of range [{'type': {'confidence': 0.9935, 'span': [13, 17], 'span_map': 'words', 'value': 'Общество с ограниченной ответственностью'}, 'name': {'confidence': 0.991, 'span': [18, 21], 'span_map': 'words', 'value': 'Газпромнефть научно-технический центр'}, 'alias': {'confidence': 0.984, 'span': [32, 33], 'span_map': 'words', 'value': 'ГПН'}, 'alt_name': {'confidence': 0.989, 'span': [22, 28], 'span_map': 'words', 'value': '(ООО «ЦТН»)'}}]\n",
      "ERROR 2 alias 5ec2b8da665f7603e03b1255 list index out of range [{'type': {'confidence': 0.9935, 'span': [13, 17], 'span_map': 'words', 'value': 'Общество с ограниченной ответственностью'}, 'name': {'confidence': 0.991, 'span': [18, 21], 'span_map': 'words', 'value': 'Газпромнефть научно-технический центр'}, 'alias': {'confidence': 0.984, 'span': [32, 33], 'span_map': 'words', 'value': 'ГПН'}, 'alt_name': {'confidence': 0.989, 'span': [22, 28], 'span_map': 'words', 'value': '(ООО «ЦТН»)'}}]\n",
      "ERROR 2 type 5ec2b8da665f7603e03b1255 list index out of range [{'type': {'confidence': 0.9935, 'span': [13, 17], 'span_map': 'words', 'value': 'Общество с ограниченной ответственностью'}, 'name': {'confidence': 0.991, 'span': [18, 21], 'span_map': 'words', 'value': 'Газпромнефть научно-технический центр'}, 'alias': {'confidence': 0.984, 'span': [32, 33], 'span_map': 'words', 'value': 'ГПН'}, 'alt_name': {'confidence': 0.989, 'span': [22, 28], 'span_map': 'words', 'value': '(ООО «ЦТН»)'}}]\n",
      "97 5fb3d4a178df3635f5441c70\n"
     ]
    },
    {
     "name": "stderr",
     "output_type": "stream",
     "text": [
      "DEBUG:gpn:skipping embedding doc 6138c12f003b7815cfc2a326b22cecd0 ...., /Users/artem/work/nemo/work/datasets/cache-6138c12f003b7815cfc2a326b22cecd0-embeddings-ElmoEmbedder.npy exists, loading\n",
      "DEBUG:gpn:loaded embedding shape is: (3953, 1024)\n",
      "DEBUG:gpn:getting embedding from cache id=5fb3d4a178df3635f5441c70 chs=6138c12f003b7815cfc2a326b22cecd0\n",
      "DEBUG:gpn:skipping embedding doc 972ab4861fc3e1c40a66eee20653df5b ...., /Users/artem/work/nemo/work/datasets/cache-972ab4861fc3e1c40a66eee20653df5b-embeddings-ElmoEmbedder.npy exists, loading\n",
      "DEBUG:gpn:loaded embedding shape is: (2228, 1024)\n",
      "DEBUG:gpn:getting embedding from cache id=5fdb2145542ce403c92b45f3 chs=972ab4861fc3e1c40a66eee20653df5b\n"
     ]
    },
    {
     "name": "stdout",
     "output_type": "stream",
     "text": [
      "98 5fdb2145542ce403c92b45f3\n",
      "99 5fe4821fb770574a00555741\n"
     ]
    },
    {
     "name": "stderr",
     "output_type": "stream",
     "text": [
      "DEBUG:gpn:skipping embedding doc 8dceb00aaefe9c38b75de9d170b212f5 ...., /Users/artem/work/nemo/work/datasets/cache-8dceb00aaefe9c38b75de9d170b212f5-embeddings-ElmoEmbedder.npy exists, loading\n",
      "DEBUG:gpn:loaded embedding shape is: (2036, 1024)\n",
      "DEBUG:gpn:getting embedding from cache id=5fe4821fb770574a00555741 chs=8dceb00aaefe9c38b75de9d170b212f5\n",
      "DEBUG:gpn:skipping embedding doc 0513de2899138a9c444fa9f6be9825a0 ...., /Users/artem/work/nemo/work/datasets/cache-0513de2899138a9c444fa9f6be9825a0-embeddings-ElmoEmbedder.npy exists, loading\n",
      "DEBUG:gpn:loaded embedding shape is: (874, 1024)\n",
      "DEBUG:gpn:getting embedding from cache id=60b7a4ea061c76d7754548d8 chs=0513de2899138a9c444fa9f6be9825a0\n"
     ]
    },
    {
     "name": "stdout",
     "output_type": "stream",
     "text": [
      "100 60b7a4ea061c76d7754548d8\n",
      "101 60b7a53b061c76d775454ea4\n"
     ]
    },
    {
     "name": "stderr",
     "output_type": "stream",
     "text": [
      "DEBUG:gpn:skipping embedding doc ea6e2e9b55b515456e218e4d7d3e8268 ...., /Users/artem/work/nemo/work/datasets/cache-ea6e2e9b55b515456e218e4d7d3e8268-embeddings-ElmoEmbedder.npy exists, loading\n",
      "DEBUG:gpn:loaded embedding shape is: (3739, 1024)\n",
      "DEBUG:gpn:getting embedding from cache id=60b7a53b061c76d775454ea4 chs=ea6e2e9b55b515456e218e4d7d3e8268\n",
      "DEBUG:gpn:skipping embedding doc 6ed8a780dd6892162223c4db466e9345 ...., /Users/artem/work/nemo/work/datasets/cache-6ed8a780dd6892162223c4db466e9345-embeddings-ElmoEmbedder.npy exists, loading\n",
      "DEBUG:gpn:loaded embedding shape is: (1894, 1024)\n",
      "DEBUG:gpn:getting embedding from cache id=5fb3d7a878df3635f5441e83 chs=6ed8a780dd6892162223c4db466e9345\n"
     ]
    },
    {
     "name": "stdout",
     "output_type": "stream",
     "text": [
      "102 5fb3d7a878df3635f5441e83\n",
      "103 60b7a4eb061c76d7754548dd\n"
     ]
    },
    {
     "name": "stderr",
     "output_type": "stream",
     "text": [
      "DEBUG:gpn:skipping embedding doc 54398b05dcc19c9d3c61dff9dce14856 ...., /Users/artem/work/nemo/work/datasets/cache-54398b05dcc19c9d3c61dff9dce14856-embeddings-ElmoEmbedder.npy exists, loading\n",
      "DEBUG:gpn:loaded embedding shape is: (4859, 1024)\n",
      "DEBUG:gpn:getting embedding from cache id=60b7a4eb061c76d7754548dd chs=54398b05dcc19c9d3c61dff9dce14856\n",
      "DEBUG:gpn:skipping embedding doc e91883d22724485a0f74c9961350acfa ...., /Users/artem/work/nemo/work/datasets/cache-e91883d22724485a0f74c9961350acfa-embeddings-ElmoEmbedder.npy exists, loading\n",
      "DEBUG:gpn:loaded embedding shape is: (1370, 1024)\n",
      "DEBUG:gpn:getting embedding from cache id=60b7a599061c76d775455366 chs=e91883d22724485a0f74c9961350acfa\n",
      "DEBUG:gpn:skipping embedding doc 3456bf3182f29442428e50e621d330d3 ...., /Users/artem/work/nemo/work/datasets/cache-3456bf3182f29442428e50e621d330d3-embeddings-ElmoEmbedder.npy exists, loading\n",
      "DEBUG:gpn:loaded embedding shape is: (1275, 1024)\n",
      "DEBUG:gpn:getting embedding from cache id=60b7a505061c76d775454af2 chs=3456bf3182f29442428e50e621d330d3\n"
     ]
    },
    {
     "name": "stdout",
     "output_type": "stream",
     "text": [
      "104 60b7a599061c76d775455366\n",
      "105 60b7a505061c76d775454af2\n",
      "106 5fdb213f542ce403c92b452f\n"
     ]
    },
    {
     "name": "stderr",
     "output_type": "stream",
     "text": [
      "DEBUG:gpn:skipping embedding doc 0d342279406a5d3197f9e640a5f6f0a1 ...., /Users/artem/work/nemo/work/datasets/cache-0d342279406a5d3197f9e640a5f6f0a1-embeddings-ElmoEmbedder.npy exists, loading\n",
      "DEBUG:gpn:loaded embedding shape is: (3230, 1024)\n",
      "DEBUG:gpn:getting embedding from cache id=5fdb213f542ce403c92b452f chs=0d342279406a5d3197f9e640a5f6f0a1\n",
      "DEBUG:gpn:skipping embedding doc 7ace356f9bab2687410eeb507c5ade86 ...., /Users/artem/work/nemo/work/datasets/cache-7ace356f9bab2687410eeb507c5ade86-embeddings-ElmoEmbedder.npy exists, loading\n",
      "DEBUG:gpn:loaded embedding shape is: (1583, 1024)\n",
      "DEBUG:gpn:getting embedding from cache id=60b7a501061c76d775454aa2 chs=7ace356f9bab2687410eeb507c5ade86\n"
     ]
    },
    {
     "name": "stdout",
     "output_type": "stream",
     "text": [
      "107 60b7a501061c76d775454aa2\n",
      "108 60b7a595061c76d7754552fb\n"
     ]
    },
    {
     "name": "stderr",
     "output_type": "stream",
     "text": [
      "DEBUG:gpn:skipping embedding doc 31fbb2d4e64dad6f820d915fed70989f ...., /Users/artem/work/nemo/work/datasets/cache-31fbb2d4e64dad6f820d915fed70989f-embeddings-ElmoEmbedder.npy exists, loading\n",
      "DEBUG:gpn:loaded embedding shape is: (19986, 1024)\n",
      "DEBUG:gpn:getting embedding from cache id=60b7a595061c76d7754552fb chs=31fbb2d4e64dad6f820d915fed70989f\n"
     ]
    },
    {
     "name": "stdout",
     "output_type": "stream",
     "text": [
      "109 5fbbbd1aa2b4551c061079f9\n"
     ]
    },
    {
     "name": "stderr",
     "output_type": "stream",
     "text": [
      "DEBUG:gpn:skipping embedding doc 1c2955bc10f0e3098369a4f03e50d889 ...., /Users/artem/work/nemo/work/datasets/cache-1c2955bc10f0e3098369a4f03e50d889-embeddings-ElmoEmbedder.npy exists, loading\n",
      "DEBUG:gpn:loaded embedding shape is: (3595, 1024)\n",
      "DEBUG:gpn:getting embedding from cache id=5fbbbd1aa2b4551c061079f9 chs=1c2955bc10f0e3098369a4f03e50d889\n"
     ]
    },
    {
     "name": "stdout",
     "output_type": "stream",
     "text": [
      "110 5fe4821eb770574a00555705\n"
     ]
    },
    {
     "name": "stderr",
     "output_type": "stream",
     "text": [
      "DEBUG:gpn:skipping embedding doc b0b236e2e91868b04946e44dac872f21 ...., /Users/artem/work/nemo/work/datasets/cache-b0b236e2e91868b04946e44dac872f21-embeddings-ElmoEmbedder.npy exists, loading\n",
      "DEBUG:gpn:loaded embedding shape is: (2947, 1024)\n",
      "DEBUG:gpn:getting embedding from cache id=5fe4821eb770574a00555705 chs=b0b236e2e91868b04946e44dac872f21\n"
     ]
    },
    {
     "name": "stdout",
     "output_type": "stream",
     "text": [
      "111 60b7a4d1061c76d77545470b\n"
     ]
    },
    {
     "name": "stderr",
     "output_type": "stream",
     "text": [
      "DEBUG:gpn:skipping embedding doc 17f8d3b084d09d457eb15389fcdb0c36 ...., /Users/artem/work/nemo/work/datasets/cache-17f8d3b084d09d457eb15389fcdb0c36-embeddings-ElmoEmbedder.npy exists, loading\n",
      "DEBUG:gpn:loaded embedding shape is: (5065, 1024)\n",
      "DEBUG:gpn:getting embedding from cache id=60b7a4d1061c76d77545470b chs=17f8d3b084d09d457eb15389fcdb0c36\n"
     ]
    },
    {
     "name": "stdout",
     "output_type": "stream",
     "text": [
      "112 60b7a4d5061c76d775454770\n"
     ]
    },
    {
     "name": "stderr",
     "output_type": "stream",
     "text": [
      "DEBUG:gpn:skipping embedding doc b12619f1430cb5e2c429d592e3be8e48 ...., /Users/artem/work/nemo/work/datasets/cache-b12619f1430cb5e2c429d592e3be8e48-embeddings-ElmoEmbedder.npy exists, loading\n",
      "DEBUG:gpn:loaded embedding shape is: (5652, 1024)\n",
      "DEBUG:gpn:getting embedding from cache id=60b7a4d5061c76d775454770 chs=b12619f1430cb5e2c429d592e3be8e48\n"
     ]
    },
    {
     "name": "stdout",
     "output_type": "stream",
     "text": [
      "113 60b7a56f061c76d77545517a\n"
     ]
    },
    {
     "name": "stderr",
     "output_type": "stream",
     "text": [
      "DEBUG:gpn:skipping embedding doc 5881829ed3b74906557fa0bde7e2a5a0 ...., /Users/artem/work/nemo/work/datasets/cache-5881829ed3b74906557fa0bde7e2a5a0-embeddings-ElmoEmbedder.npy exists, loading\n",
      "DEBUG:gpn:loaded embedding shape is: (5661, 1024)\n",
      "DEBUG:gpn:getting embedding from cache id=60b7a56f061c76d77545517a chs=5881829ed3b74906557fa0bde7e2a5a0\n"
     ]
    },
    {
     "name": "stdout",
     "output_type": "stream",
     "text": [
      "114 60b7a5b3061c76d77545555c\n"
     ]
    },
    {
     "name": "stderr",
     "output_type": "stream",
     "text": [
      "DEBUG:gpn:skipping embedding doc 2be47912794ad837975d719ea46e90a3 ...., /Users/artem/work/nemo/work/datasets/cache-2be47912794ad837975d719ea46e90a3-embeddings-ElmoEmbedder.npy exists, loading\n",
      "DEBUG:gpn:loaded embedding shape is: (2830, 1024)\n",
      "DEBUG:gpn:getting embedding from cache id=60b7a5b3061c76d77545555c chs=2be47912794ad837975d719ea46e90a3\n"
     ]
    },
    {
     "name": "stdout",
     "output_type": "stream",
     "text": [
      "115 60b7a4ea061c76d7754548da\n"
     ]
    },
    {
     "name": "stderr",
     "output_type": "stream",
     "text": [
      "DEBUG:gpn:skipping embedding doc 2c4daebb6cb19c020cd4de84813b1c9f ...., /Users/artem/work/nemo/work/datasets/cache-2c4daebb6cb19c020cd4de84813b1c9f-embeddings-ElmoEmbedder.npy exists, loading\n",
      "DEBUG:gpn:loaded embedding shape is: (3083, 1024)\n",
      "DEBUG:gpn:getting embedding from cache id=60b7a4ea061c76d7754548da chs=2c4daebb6cb19c020cd4de84813b1c9f\n"
     ]
    },
    {
     "name": "stdout",
     "output_type": "stream",
     "text": [
      "116 60b7a5a7061c76d775455472\n"
     ]
    },
    {
     "name": "stderr",
     "output_type": "stream",
     "text": [
      "DEBUG:gpn:skipping embedding doc 858e2f5491307a45e9c4a6c281e8a34f ...., /Users/artem/work/nemo/work/datasets/cache-858e2f5491307a45e9c4a6c281e8a34f-embeddings-ElmoEmbedder.npy exists, loading\n",
      "DEBUG:gpn:loaded embedding shape is: (4804, 1024)\n",
      "DEBUG:gpn:getting embedding from cache id=60b7a5a7061c76d775455472 chs=858e2f5491307a45e9c4a6c281e8a34f\n"
     ]
    },
    {
     "name": "stdout",
     "output_type": "stream",
     "text": [
      "117 60b7a599061c76d77545536b\n"
     ]
    },
    {
     "name": "stderr",
     "output_type": "stream",
     "text": [
      "DEBUG:gpn:skipping embedding doc 9cd1774378c876958e191e114dd5d194 ...., /Users/artem/work/nemo/work/datasets/cache-9cd1774378c876958e191e114dd5d194-embeddings-ElmoEmbedder.npy exists, loading\n",
      "DEBUG:gpn:loaded embedding shape is: (4072, 1024)\n",
      "DEBUG:gpn:getting embedding from cache id=60b7a599061c76d77545536b chs=9cd1774378c876958e191e114dd5d194\n",
      "DEBUG:gpn:skipping embedding doc 57b42a2b1f9e288e4a10863b00f7a112 ...., /Users/artem/work/nemo/work/datasets/cache-57b42a2b1f9e288e4a10863b00f7a112-embeddings-ElmoEmbedder.npy exists, loading\n",
      "DEBUG:gpn:loaded embedding shape is: (1093, 1024)\n",
      "DEBUG:gpn:getting embedding from cache id=60b7a4ea061c76d7754548d2 chs=57b42a2b1f9e288e4a10863b00f7a112\n"
     ]
    },
    {
     "name": "stdout",
     "output_type": "stream",
     "text": [
      "118 60b7a4ea061c76d7754548d2\n",
      "119 60b7a50a061c76d775454b6d\n"
     ]
    },
    {
     "name": "stderr",
     "output_type": "stream",
     "text": [
      "DEBUG:gpn:skipping embedding doc dd3c778ed1d8e4d014d847cacbe0ba40 ...., /Users/artem/work/nemo/work/datasets/cache-dd3c778ed1d8e4d014d847cacbe0ba40-embeddings-ElmoEmbedder.npy exists, loading\n",
      "DEBUG:gpn:loaded embedding shape is: (5355, 1024)\n",
      "DEBUG:gpn:getting embedding from cache id=60b7a50a061c76d775454b6d chs=dd3c778ed1d8e4d014d847cacbe0ba40\n",
      "DEBUG:gpn:skipping embedding doc 060666485ab1983107cdaa51aea29aa8 ...., /Users/artem/work/nemo/work/datasets/cache-060666485ab1983107cdaa51aea29aa8-embeddings-ElmoEmbedder.npy exists, loading\n",
      "DEBUG:gpn:loaded embedding shape is: (1800, 1024)\n",
      "DEBUG:gpn:getting embedding from cache id=5fb3d79a78df3635f5441cc2 chs=060666485ab1983107cdaa51aea29aa8\n"
     ]
    },
    {
     "name": "stdout",
     "output_type": "stream",
     "text": [
      "120 5fb3d79a78df3635f5441cc2\n",
      "121 5fe48217b770574a00555581\n"
     ]
    },
    {
     "name": "stderr",
     "output_type": "stream",
     "text": [
      "DEBUG:gpn:skipping embedding doc 2fd69445af511a22793206fbba16b598 ...., /Users/artem/work/nemo/work/datasets/cache-2fd69445af511a22793206fbba16b598-embeddings-ElmoEmbedder.npy exists, loading\n",
      "DEBUG:gpn:loaded embedding shape is: (1797, 1024)\n",
      "DEBUG:gpn:getting embedding from cache id=5fe48217b770574a00555581 chs=2fd69445af511a22793206fbba16b598\n",
      "DEBUG:gpn:skipping embedding doc 07ce2e4f9d0f2acfd6f5412b78548893 ...., /Users/artem/work/nemo/work/datasets/cache-07ce2e4f9d0f2acfd6f5412b78548893-embeddings-ElmoEmbedder.npy exists, loading\n",
      "DEBUG:gpn:loaded embedding shape is: (1637, 1024)\n",
      "DEBUG:gpn:getting embedding from cache id=60b7a5a1061c76d775455401 chs=07ce2e4f9d0f2acfd6f5412b78548893\n"
     ]
    },
    {
     "name": "stdout",
     "output_type": "stream",
     "text": [
      "122 60b7a5a1061c76d775455401\n",
      "123 60b7a5b3061c76d77545555d\n"
     ]
    },
    {
     "name": "stderr",
     "output_type": "stream",
     "text": [
      "DEBUG:gpn:skipping embedding doc 58fd5021e4bbafe1486e660834c3c853 ...., /Users/artem/work/nemo/work/datasets/cache-58fd5021e4bbafe1486e660834c3c853-embeddings-ElmoEmbedder.npy exists, loading\n",
      "DEBUG:gpn:loaded embedding shape is: (5713, 1024)\n",
      "DEBUG:gpn:getting embedding from cache id=60b7a5b3061c76d77545555d chs=58fd5021e4bbafe1486e660834c3c853\n",
      "DEBUG:gpn:skipping embedding doc 4a1705c349ef304bc5511d7f24c4425f ...., /Users/artem/work/nemo/work/datasets/cache-4a1705c349ef304bc5511d7f24c4425f-embeddings-ElmoEmbedder.npy exists, loading\n",
      "DEBUG:gpn:loaded embedding shape is: (1617, 1024)\n",
      "DEBUG:gpn:getting embedding from cache id=5fbbbd16a2b4551c06107932 chs=4a1705c349ef304bc5511d7f24c4425f\n"
     ]
    },
    {
     "name": "stdout",
     "output_type": "stream",
     "text": [
      "124 5fbbbd16a2b4551c06107932\n",
      "125 5fe4821eb770574a005556e8\n"
     ]
    },
    {
     "name": "stderr",
     "output_type": "stream",
     "text": [
      "DEBUG:gpn:skipping embedding doc 6c369a3a9daadb5581283ba1c2f17391 ...., /Users/artem/work/nemo/work/datasets/cache-6c369a3a9daadb5581283ba1c2f17391-embeddings-ElmoEmbedder.npy exists, loading\n",
      "DEBUG:gpn:loaded embedding shape is: (2229, 1024)\n",
      "DEBUG:gpn:getting embedding from cache id=5fe4821eb770574a005556e8 chs=6c369a3a9daadb5581283ba1c2f17391\n"
     ]
    },
    {
     "name": "stdout",
     "output_type": "stream",
     "text": [
      "126 60b7a4eb061c76d7754548e2\n"
     ]
    },
    {
     "name": "stderr",
     "output_type": "stream",
     "text": [
      "DEBUG:gpn:skipping embedding doc df37ca8221dc438eae52cd7d9dddbe51 ...., /Users/artem/work/nemo/work/datasets/cache-df37ca8221dc438eae52cd7d9dddbe51-embeddings-ElmoEmbedder.npy exists, loading\n",
      "DEBUG:gpn:loaded embedding shape is: (3321, 1024)\n",
      "DEBUG:gpn:getting embedding from cache id=60b7a4eb061c76d7754548e2 chs=df37ca8221dc438eae52cd7d9dddbe51\n",
      "DEBUG:gpn:skipping embedding doc d3fb57be904cb466f3df97a631b33337 ...., /Users/artem/work/nemo/work/datasets/cache-d3fb57be904cb466f3df97a631b33337-embeddings-ElmoEmbedder.npy exists, loading\n",
      "DEBUG:gpn:loaded embedding shape is: (1169, 1024)\n",
      "DEBUG:gpn:getting embedding from cache id=60b7a4ea061c76d7754548cf chs=d3fb57be904cb466f3df97a631b33337\n"
     ]
    },
    {
     "name": "stdout",
     "output_type": "stream",
     "text": [
      "127 60b7a4ea061c76d7754548cf\n",
      "128 60b7a50e061c76d775454bb8\n"
     ]
    },
    {
     "name": "stderr",
     "output_type": "stream",
     "text": [
      "DEBUG:gpn:skipping embedding doc 12962fa26495094f8261cf08659a8a2c ...., /Users/artem/work/nemo/work/datasets/cache-12962fa26495094f8261cf08659a8a2c-embeddings-ElmoEmbedder.npy exists, loading\n",
      "DEBUG:gpn:loaded embedding shape is: (2333, 1024)\n",
      "DEBUG:gpn:getting embedding from cache id=60b7a50e061c76d775454bb8 chs=12962fa26495094f8261cf08659a8a2c\n",
      "DEBUG:gpn:skipping embedding doc 084192d3017300bc9ceea08022785327 ...., /Users/artem/work/nemo/work/datasets/cache-084192d3017300bc9ceea08022785327-embeddings-ElmoEmbedder.npy exists, loading\n",
      "DEBUG:gpn:loaded embedding shape is: (1021, 1024)\n",
      "DEBUG:gpn:getting embedding from cache id=60b7a4e9061c76d7754548b7 chs=084192d3017300bc9ceea08022785327\n"
     ]
    },
    {
     "name": "stdout",
     "output_type": "stream",
     "text": [
      "129 60b7a4e9061c76d7754548b7\n",
      "130 5fe4821db770574a005556cc\n"
     ]
    },
    {
     "name": "stderr",
     "output_type": "stream",
     "text": [
      "DEBUG:gpn:skipping embedding doc 7596976055bbd0ad29e4b5d6cb0d5bf2 ...., /Users/artem/work/nemo/work/datasets/cache-7596976055bbd0ad29e4b5d6cb0d5bf2-embeddings-ElmoEmbedder.npy exists, loading\n",
      "DEBUG:gpn:loaded embedding shape is: (2426, 1024)\n",
      "DEBUG:gpn:getting embedding from cache id=5fe4821db770574a005556cc chs=7596976055bbd0ad29e4b5d6cb0d5bf2\n",
      "DEBUG:gpn:skipping embedding doc 70d0f43f283f5aed0a53c33cf299c609 ...., /Users/artem/work/nemo/work/datasets/cache-70d0f43f283f5aed0a53c33cf299c609-embeddings-ElmoEmbedder.npy exists, loading\n",
      "DEBUG:gpn:loaded embedding shape is: (1579, 1024)\n",
      "DEBUG:gpn:getting embedding from cache id=60b7a4c5061c76d775454617 chs=70d0f43f283f5aed0a53c33cf299c609\n"
     ]
    },
    {
     "name": "stdout",
     "output_type": "stream",
     "text": [
      "131 60b7a4c5061c76d775454617\n",
      "132 60b7a4ea061c76d7754548d6\n"
     ]
    },
    {
     "name": "stderr",
     "output_type": "stream",
     "text": [
      "DEBUG:gpn:skipping embedding doc b74bd8986f194eb22e471db7f2088c9c ...., /Users/artem/work/nemo/work/datasets/cache-b74bd8986f194eb22e471db7f2088c9c-embeddings-ElmoEmbedder.npy exists, loading\n",
      "DEBUG:gpn:loaded embedding shape is: (3100, 1024)\n",
      "DEBUG:gpn:getting embedding from cache id=60b7a4ea061c76d7754548d6 chs=b74bd8986f194eb22e471db7f2088c9c\n",
      "DEBUG:gpn:skipping embedding doc d93be05a9694bf8282f8477ede7e0dd6 ...., /Users/artem/work/nemo/work/datasets/cache-d93be05a9694bf8282f8477ede7e0dd6-embeddings-ElmoEmbedder.npy exists, loading\n",
      "DEBUG:gpn:loaded embedding shape is: (937, 1024)\n",
      "DEBUG:gpn:getting embedding from cache id=60b7a515061c76d775454c2b chs=d93be05a9694bf8282f8477ede7e0dd6\n"
     ]
    },
    {
     "name": "stdout",
     "output_type": "stream",
     "text": [
      "133 60b7a515061c76d775454c2b\n",
      "134 5fb3d49f78df3635f5441bea\n"
     ]
    },
    {
     "name": "stderr",
     "output_type": "stream",
     "text": [
      "DEBUG:gpn:skipping embedding doc 1d559b74454873c126049b3a556e7f0c ...., /Users/artem/work/nemo/work/datasets/cache-1d559b74454873c126049b3a556e7f0c-embeddings-ElmoEmbedder.npy exists, loading\n",
      "DEBUG:gpn:loaded embedding shape is: (1340, 1024)\n",
      "DEBUG:gpn:getting embedding from cache id=5fb3d49f78df3635f5441bea chs=1d559b74454873c126049b3a556e7f0c\n"
     ]
    },
    {
     "name": "stdout",
     "output_type": "stream",
     "text": [
      "135 60b7a502061c76d775454ac1\n"
     ]
    },
    {
     "name": "stderr",
     "output_type": "stream",
     "text": [
      "DEBUG:gpn:skipping embedding doc 319d64604260f7111ac9a0c06f1bffd3 ...., /Users/artem/work/nemo/work/datasets/cache-319d64604260f7111ac9a0c06f1bffd3-embeddings-ElmoEmbedder.npy exists, loading\n",
      "DEBUG:gpn:loaded embedding shape is: (6451, 1024)\n",
      "DEBUG:gpn:getting embedding from cache id=60b7a502061c76d775454ac1 chs=319d64604260f7111ac9a0c06f1bffd3\n",
      "DEBUG:gpn:skipping embedding doc d79d8f5e3a4a3e5b87e15b43fd5d1076 ...., /Users/artem/work/nemo/work/datasets/cache-d79d8f5e3a4a3e5b87e15b43fd5d1076-embeddings-ElmoEmbedder.npy exists, loading\n",
      "DEBUG:gpn:loaded embedding shape is: (1139, 1024)\n",
      "DEBUG:gpn:getting embedding from cache id=60b7a523061c76d775454d4b chs=d79d8f5e3a4a3e5b87e15b43fd5d1076\n"
     ]
    },
    {
     "name": "stdout",
     "output_type": "stream",
     "text": [
      "136 60b7a523061c76d775454d4b\n",
      "137 5fb3d7a378df3635f5441d8e\n"
     ]
    },
    {
     "name": "stderr",
     "output_type": "stream",
     "text": [
      "DEBUG:gpn:skipping embedding doc 6870fe5f049c526db28e0034fcb32917 ...., /Users/artem/work/nemo/work/datasets/cache-6870fe5f049c526db28e0034fcb32917-embeddings-ElmoEmbedder.npy exists, loading\n",
      "DEBUG:gpn:loaded embedding shape is: (2694, 1024)\n",
      "DEBUG:gpn:getting embedding from cache id=5fb3d7a378df3635f5441d8e chs=6870fe5f049c526db28e0034fcb32917\n"
     ]
    },
    {
     "name": "stdout",
     "output_type": "stream",
     "text": [
      "138 5fb3d7a478df3635f5441dd1\n"
     ]
    },
    {
     "name": "stderr",
     "output_type": "stream",
     "text": [
      "DEBUG:gpn:skipping embedding doc 2e08c67850980ccc79f7322463d2a9f4 ...., /Users/artem/work/nemo/work/datasets/cache-2e08c67850980ccc79f7322463d2a9f4-embeddings-ElmoEmbedder.npy exists, loading\n",
      "DEBUG:gpn:loaded embedding shape is: (5572, 1024)\n",
      "DEBUG:gpn:getting embedding from cache id=5fb3d7a478df3635f5441dd1 chs=2e08c67850980ccc79f7322463d2a9f4\n"
     ]
    },
    {
     "name": "stdout",
     "output_type": "stream",
     "text": [
      "139 5fb399dd39d5e82e90818477\n"
     ]
    },
    {
     "name": "stderr",
     "output_type": "stream",
     "text": [
      "DEBUG:gpn:skipping embedding doc 44d1c22fb92ce75663dc046c184df359 ...., /Users/artem/work/nemo/work/datasets/cache-44d1c22fb92ce75663dc046c184df359-embeddings-ElmoEmbedder.npy exists, loading\n",
      "DEBUG:gpn:loaded embedding shape is: (5211, 1024)\n",
      "DEBUG:gpn:getting embedding from cache id=5fb399dd39d5e82e90818477 chs=44d1c22fb92ce75663dc046c184df359\n"
     ]
    },
    {
     "name": "stdout",
     "output_type": "stream",
     "text": [
      "ERROR 2 name 5fb399dd39d5e82e90818477 'name' [{'type': {'confidence': 0.9994325041770935, 'span': [59, 63], 'span_map': 'words', 'value': 'Общество с ограниченной ответственностью'}, 'name': {'confidence': 0.7984113097190857, 'span': [64, 67], 'span_map': 'words', 'value': 'Газпромнефть-Заполярье'}, 'alias': {'confidence': 0.378257691860199, 'span': [81, 82], 'span_map': 'words', 'value': 'Арендатор'}}, {'alias': {'confidence': 0.9858579635620117, 'span': [32, 33], 'span_map': 'words', 'value': 'Арендодатель'}}]\n",
      "ERROR 2 type 5fb399dd39d5e82e90818477 'type' [{'type': {'confidence': 0.9994325041770935, 'span': [59, 63], 'span_map': 'words', 'value': 'Общество с ограниченной ответственностью'}, 'name': {'confidence': 0.7984113097190857, 'span': [64, 67], 'span_map': 'words', 'value': 'Газпромнефть-Заполярье'}, 'alias': {'confidence': 0.378257691860199, 'span': [81, 82], 'span_map': 'words', 'value': 'Арендатор'}}, {'alias': {'confidence': 0.9858579635620117, 'span': [32, 33], 'span_map': 'words', 'value': 'Арендодатель'}}]\n",
      "140 60b7a592061c76d7754552be\n"
     ]
    },
    {
     "name": "stderr",
     "output_type": "stream",
     "text": [
      "DEBUG:gpn:skipping embedding doc 21b3cefccb16f68f46eab84875555ad9 ...., /Users/artem/work/nemo/work/datasets/cache-21b3cefccb16f68f46eab84875555ad9-embeddings-ElmoEmbedder.npy exists, loading\n",
      "DEBUG:gpn:loaded embedding shape is: (4970, 1024)\n",
      "DEBUG:gpn:getting embedding from cache id=60b7a592061c76d7754552be chs=21b3cefccb16f68f46eab84875555ad9\n",
      "DEBUG:gpn:skipping embedding doc 058678d59042a661d92decc33562e1ce ...., /Users/artem/work/nemo/work/datasets/cache-058678d59042a661d92decc33562e1ce-embeddings-ElmoEmbedder.npy exists, loading\n",
      "DEBUG:gpn:loaded embedding shape is: (2362, 1024)\n",
      "DEBUG:gpn:getting embedding from cache id=60b7a4f2061c76d7754549a3 chs=058678d59042a661d92decc33562e1ce\n"
     ]
    },
    {
     "name": "stdout",
     "output_type": "stream",
     "text": [
      "141 60b7a4f2061c76d7754549a3\n",
      "142 5fb3d7a678df3635f5441e35\n"
     ]
    },
    {
     "name": "stderr",
     "output_type": "stream",
     "text": [
      "DEBUG:gpn:skipping embedding doc 9e8536c0ae0b635b5cce4c0ef1cf357c ...., /Users/artem/work/nemo/work/datasets/cache-9e8536c0ae0b635b5cce4c0ef1cf357c-embeddings-ElmoEmbedder.npy exists, loading\n",
      "DEBUG:gpn:loaded embedding shape is: (3736, 1024)\n",
      "DEBUG:gpn:getting embedding from cache id=5fb3d7a678df3635f5441e35 chs=9e8536c0ae0b635b5cce4c0ef1cf357c\n",
      "DEBUG:gpn:skipping embedding doc 06e21e20c6b22528113aa5f1bec93a98 ...., /Users/artem/work/nemo/work/datasets/cache-06e21e20c6b22528113aa5f1bec93a98-embeddings-ElmoEmbedder.npy exists, loading\n",
      "DEBUG:gpn:loaded embedding shape is: (1014, 1024)\n",
      "DEBUG:gpn:getting embedding from cache id=60b7a515061c76d775454c29 chs=06e21e20c6b22528113aa5f1bec93a98\n"
     ]
    },
    {
     "name": "stdout",
     "output_type": "stream",
     "text": [
      "ERROR 2 name 5fb3d7a678df3635f5441e35 'name' [{'type': {'confidence': 0.9850339889526367, 'span': [62, 66], 'span_map': 'words', 'value': 'Общество с ограниченной ответственностью'}, 'name': {'confidence': 0.9744337797164917, 'span': [67, 72], 'span_map': 'words', 'value': 'Издательско-полиграфическое предприятие «Мастерская печати»'}, 'alias': {'confidence': 0.7293875217437744, 'span': [78, 79], 'span_map': 'words', 'value': 'Поставщик'}}, {'alias': {'confidence': 0.9601885080337524, 'span': [41, 42], 'span_map': 'words', 'value': 'Покупатель'}}]\n",
      "ERROR 2 type 5fb3d7a678df3635f5441e35 'type' [{'type': {'confidence': 0.9850339889526367, 'span': [62, 66], 'span_map': 'words', 'value': 'Общество с ограниченной ответственностью'}, 'name': {'confidence': 0.9744337797164917, 'span': [67, 72], 'span_map': 'words', 'value': 'Издательско-полиграфическое предприятие «Мастерская печати»'}, 'alias': {'confidence': 0.7293875217437744, 'span': [78, 79], 'span_map': 'words', 'value': 'Поставщик'}}, {'alias': {'confidence': 0.9601885080337524, 'span': [41, 42], 'span_map': 'words', 'value': 'Покупатель'}}]\n",
      "143 60b7a515061c76d775454c29\n",
      "144 60b7a5b2061c76d775455542\n"
     ]
    },
    {
     "name": "stderr",
     "output_type": "stream",
     "text": [
      "DEBUG:gpn:skipping embedding doc c563cbe4088d986091791a5786742f87 ...., /Users/artem/work/nemo/work/datasets/cache-c563cbe4088d986091791a5786742f87-embeddings-ElmoEmbedder.npy exists, loading\n",
      "DEBUG:gpn:loaded embedding shape is: (1245, 1024)\n",
      "DEBUG:gpn:getting embedding from cache id=60b7a5b2061c76d775455542 chs=c563cbe4088d986091791a5786742f87\n",
      "DEBUG:gpn:skipping embedding doc ffaa7962c2104945049e28414886d7ac ...., /Users/artem/work/nemo/work/datasets/cache-ffaa7962c2104945049e28414886d7ac-embeddings-ElmoEmbedder.npy exists, loading\n",
      "DEBUG:gpn:loaded embedding shape is: (1367, 1024)\n",
      "DEBUG:gpn:getting embedding from cache id=5fbbe46ba2b4551c06107bd1 chs=ffaa7962c2104945049e28414886d7ac\n"
     ]
    },
    {
     "name": "stdout",
     "output_type": "stream",
     "text": [
      "145 5fbbe46ba2b4551c06107bd1\n",
      "146 60b7a515061c76d775454c2d\n"
     ]
    },
    {
     "name": "stderr",
     "output_type": "stream",
     "text": [
      "DEBUG:gpn:skipping embedding doc 73d3e4cb041ca718ff64cbba34b7f955 ...., /Users/artem/work/nemo/work/datasets/cache-73d3e4cb041ca718ff64cbba34b7f955-embeddings-ElmoEmbedder.npy exists, loading\n",
      "DEBUG:gpn:loaded embedding shape is: (1024, 1024)\n",
      "DEBUG:gpn:getting embedding from cache id=60b7a515061c76d775454c2d chs=73d3e4cb041ca718ff64cbba34b7f955\n",
      "DEBUG:gpn:skipping embedding doc 59e68c03e4d1088b3c3be4d124198f08 ...., /Users/artem/work/nemo/work/datasets/cache-59e68c03e4d1088b3c3be4d124198f08-embeddings-ElmoEmbedder.npy exists, loading\n",
      "DEBUG:gpn:loaded embedding shape is: (807, 1024)\n",
      "DEBUG:gpn:getting embedding from cache id=60b7a4be061c76d77545454b chs=59e68c03e4d1088b3c3be4d124198f08\n"
     ]
    },
    {
     "name": "stdout",
     "output_type": "stream",
     "text": [
      "147 60b7a4be061c76d77545454b\n",
      "148 60b7a4e3061c76d77545487b\n"
     ]
    },
    {
     "name": "stderr",
     "output_type": "stream",
     "text": [
      "DEBUG:gpn:skipping embedding doc 492a537c31b8b2bfc3aa36678a6bbba9 ...., /Users/artem/work/nemo/work/datasets/cache-492a537c31b8b2bfc3aa36678a6bbba9-embeddings-ElmoEmbedder.npy exists, loading\n",
      "DEBUG:gpn:loaded embedding shape is: (3392, 1024)\n",
      "DEBUG:gpn:getting embedding from cache id=60b7a4e3061c76d77545487b chs=492a537c31b8b2bfc3aa36678a6bbba9\n"
     ]
    },
    {
     "name": "stdout",
     "output_type": "stream",
     "text": [
      "149 5fdb2143542ce403c92b45af\n"
     ]
    },
    {
     "name": "stderr",
     "output_type": "stream",
     "text": [
      "DEBUG:gpn:skipping embedding doc 31e8e778496b42dff57ed8a4080a8229 ...., /Users/artem/work/nemo/work/datasets/cache-31e8e778496b42dff57ed8a4080a8229-embeddings-ElmoEmbedder.npy exists, loading\n",
      "DEBUG:gpn:loaded embedding shape is: (3686, 1024)\n",
      "DEBUG:gpn:getting embedding from cache id=5fdb2143542ce403c92b45af chs=31e8e778496b42dff57ed8a4080a8229\n"
     ]
    },
    {
     "name": "stdout",
     "output_type": "stream",
     "text": [
      "150 5fbbbd18a2b4551c0610798d\n"
     ]
    },
    {
     "name": "stderr",
     "output_type": "stream",
     "text": [
      "DEBUG:gpn:skipping embedding doc 9174f3dab9ffc653995770d8728851a2 ...., /Users/artem/work/nemo/work/datasets/cache-9174f3dab9ffc653995770d8728851a2-embeddings-ElmoEmbedder.npy exists, loading\n",
      "DEBUG:gpn:loaded embedding shape is: (3847, 1024)\n",
      "DEBUG:gpn:getting embedding from cache id=5fbbbd18a2b4551c0610798d chs=9174f3dab9ffc653995770d8728851a2\n"
     ]
    },
    {
     "name": "stdout",
     "output_type": "stream",
     "text": [
      "151 5fbbe46aa2b4551c06107bc5\n"
     ]
    },
    {
     "name": "stderr",
     "output_type": "stream",
     "text": [
      "DEBUG:gpn:skipping embedding doc 27be8981a48b6380be1d01a0294095d9 ...., /Users/artem/work/nemo/work/datasets/cache-27be8981a48b6380be1d01a0294095d9-embeddings-ElmoEmbedder.npy exists, loading\n",
      "DEBUG:gpn:loaded embedding shape is: (3851, 1024)\n",
      "DEBUG:gpn:getting embedding from cache id=5fbbe46aa2b4551c06107bc5 chs=27be8981a48b6380be1d01a0294095d9\n",
      "DEBUG:gpn:skipping embedding doc 0f0d72d4f3916014d4a4c8c7968f70e3 ...., /Users/artem/work/nemo/work/datasets/cache-0f0d72d4f3916014d4a4c8c7968f70e3-embeddings-ElmoEmbedder.npy exists, loading\n",
      "DEBUG:gpn:loaded embedding shape is: (1538, 1024)\n",
      "DEBUG:gpn:getting embedding from cache id=5fb376e0d8c9df1ed123724d chs=0f0d72d4f3916014d4a4c8c7968f70e3\n"
     ]
    },
    {
     "name": "stdout",
     "output_type": "stream",
     "text": [
      "152 5fb376e0d8c9df1ed123724d\n",
      "153 60b7a515061c76d775454c28\n"
     ]
    },
    {
     "name": "stderr",
     "output_type": "stream",
     "text": [
      "DEBUG:gpn:skipping embedding doc 60d135a34e0e574e6a007e3d92c7cea8 ...., /Users/artem/work/nemo/work/datasets/cache-60d135a34e0e574e6a007e3d92c7cea8-embeddings-ElmoEmbedder.npy exists, loading\n",
      "DEBUG:gpn:loaded embedding shape is: (1919, 1024)\n",
      "DEBUG:gpn:getting embedding from cache id=60b7a515061c76d775454c28 chs=60d135a34e0e574e6a007e3d92c7cea8\n",
      "DEBUG:gpn:skipping embedding doc ab1d49b0ec83bab332f98979f32d8dba ...., /Users/artem/work/nemo/work/datasets/cache-ab1d49b0ec83bab332f98979f32d8dba-embeddings-ElmoEmbedder.npy exists, loading\n",
      "DEBUG:gpn:loaded embedding shape is: (2331, 1024)\n",
      "DEBUG:gpn:getting embedding from cache id=60b7a5b2061c76d77545554b chs=ab1d49b0ec83bab332f98979f32d8dba\n"
     ]
    },
    {
     "name": "stdout",
     "output_type": "stream",
     "text": [
      "154 60b7a5b2061c76d77545554b\n",
      "155 60b7a5b5061c76d77545557a\n"
     ]
    },
    {
     "name": "stderr",
     "output_type": "stream",
     "text": [
      "DEBUG:gpn:skipping embedding doc d10b504216611046cb75a7b314568fcb ...., /Users/artem/work/nemo/work/datasets/cache-d10b504216611046cb75a7b314568fcb-embeddings-ElmoEmbedder.npy exists, loading\n",
      "DEBUG:gpn:loaded embedding shape is: (3527, 1024)\n",
      "DEBUG:gpn:getting embedding from cache id=60b7a5b5061c76d77545557a chs=d10b504216611046cb75a7b314568fcb\n"
     ]
    },
    {
     "name": "stdout",
     "output_type": "stream",
     "text": [
      "156 5fb279b4d8c9df1ed1236dcf\n"
     ]
    },
    {
     "name": "stderr",
     "output_type": "stream",
     "text": [
      "DEBUG:gpn:skipping embedding doc ea04a8c1ea11e3264703e21b2ba0dca1 ...., /Users/artem/work/nemo/work/datasets/cache-ea04a8c1ea11e3264703e21b2ba0dca1-embeddings-ElmoEmbedder.npy exists, loading\n",
      "DEBUG:gpn:loaded embedding shape is: (4161, 1024)\n",
      "DEBUG:gpn:getting embedding from cache id=5fb279b4d8c9df1ed1236dcf chs=ea04a8c1ea11e3264703e21b2ba0dca1\n",
      "DEBUG:gpn:skipping embedding doc c43938a632b2911a6d0ea81f4bcd3990 ...., /Users/artem/work/nemo/work/datasets/cache-c43938a632b2911a6d0ea81f4bcd3990-embeddings-ElmoEmbedder.npy exists, loading\n",
      "DEBUG:gpn:loaded embedding shape is: (792, 1024)\n",
      "DEBUG:gpn:getting embedding from cache id=60b7a4be061c76d775454549 chs=c43938a632b2911a6d0ea81f4bcd3990\n"
     ]
    },
    {
     "name": "stdout",
     "output_type": "stream",
     "text": [
      "157 60b7a4be061c76d775454549\n",
      "158 5fb3d7a478df3635f5441db0\n"
     ]
    },
    {
     "name": "stderr",
     "output_type": "stream",
     "text": [
      "DEBUG:gpn:skipping embedding doc db7ab004d0b2ed0503add8b14bd77b61 ...., /Users/artem/work/nemo/work/datasets/cache-db7ab004d0b2ed0503add8b14bd77b61-embeddings-ElmoEmbedder.npy exists, loading\n",
      "DEBUG:gpn:loaded embedding shape is: (1390, 1024)\n",
      "DEBUG:gpn:getting embedding from cache id=5fb3d7a478df3635f5441db0 chs=db7ab004d0b2ed0503add8b14bd77b61\n",
      "DEBUG:gpn:skipping embedding doc 2ed1802c26714360f38b0d7e93387b33 ...., /Users/artem/work/nemo/work/datasets/cache-2ed1802c26714360f38b0d7e93387b33-embeddings-ElmoEmbedder.npy exists, loading\n",
      "DEBUG:gpn:loaded embedding shape is: (1447, 1024)\n",
      "DEBUG:gpn:getting embedding from cache id=5fe4821db770574a005556af chs=2ed1802c26714360f38b0d7e93387b33\n"
     ]
    },
    {
     "name": "stdout",
     "output_type": "stream",
     "text": [
      "159 5fe4821db770574a005556af\n",
      "160 5fb3d7a578df3635f5441df7\n"
     ]
    },
    {
     "name": "stderr",
     "output_type": "stream",
     "text": [
      "DEBUG:gpn:skipping embedding doc 458b8d06cacab7f0dec825361d1502cd ...., /Users/artem/work/nemo/work/datasets/cache-458b8d06cacab7f0dec825361d1502cd-embeddings-ElmoEmbedder.npy exists, loading\n",
      "DEBUG:gpn:loaded embedding shape is: (1825, 1024)\n",
      "DEBUG:gpn:getting embedding from cache id=5fb3d7a578df3635f5441df7 chs=458b8d06cacab7f0dec825361d1502cd\n"
     ]
    },
    {
     "name": "stdout",
     "output_type": "stream",
     "text": [
      "161 60b7a5a1061c76d7754553fd\n"
     ]
    },
    {
     "name": "stderr",
     "output_type": "stream",
     "text": [
      "DEBUG:gpn:skipping embedding doc 25aabfe3ddc6c894bfc238961ac0f86d ...., /Users/artem/work/nemo/work/datasets/cache-25aabfe3ddc6c894bfc238961ac0f86d-embeddings-ElmoEmbedder.npy exists, loading\n",
      "DEBUG:gpn:loaded embedding shape is: (4258, 1024)\n",
      "DEBUG:gpn:getting embedding from cache id=60b7a5a1061c76d7754553fd chs=25aabfe3ddc6c894bfc238961ac0f86d\n"
     ]
    },
    {
     "name": "stdout",
     "output_type": "stream",
     "text": [
      "162 614090b90773863adc4f60be\n"
     ]
    },
    {
     "name": "stderr",
     "output_type": "stream",
     "text": [
      "DEBUG:gpn:skipping embedding doc 0302971565c8f9d3aa8b0672f634fdad ...., /Users/artem/work/nemo/work/datasets/cache-0302971565c8f9d3aa8b0672f634fdad-embeddings-ElmoEmbedder.npy exists, loading\n",
      "DEBUG:gpn:loaded embedding shape is: (5985, 1024)\n",
      "DEBUG:gpn:getting embedding from cache id=614090b90773863adc4f60be chs=0302971565c8f9d3aa8b0672f634fdad\n"
     ]
    },
    {
     "name": "stdout",
     "output_type": "stream",
     "text": [
      "ERROR 1 name 614090b90773863adc4f60be 'name' [{'type': {'confidence': 1, 'kind': 'org-1-type', 'key': 'org-1-type', 'span': [13, 16], 'span_map': 'words', 'value': 'Публичное акционерное общество'}, 'alias': {'confidence': 1, 'kind': 'org-1-alias', 'key': 'org-1-alias', 'span': [43, 44], 'span_map': 'words', 'value': 'Заказчик'}}, {'type': {'confidence': 1, 'kind': 'org-2-type', 'key': 'org-2-type', 'span': [53, 57], 'span_map': 'words', 'value': 'Общество с ограниченной ответственностью'}}]\n",
      "ERROR 2 name 614090b90773863adc4f60be 'name' [{'type': {'confidence': 1, 'kind': 'org-1-type', 'key': 'org-1-type', 'span': [13, 16], 'span_map': 'words', 'value': 'Публичное акционерное общество'}, 'alias': {'confidence': 1, 'kind': 'org-1-alias', 'key': 'org-1-alias', 'span': [43, 44], 'span_map': 'words', 'value': 'Заказчик'}}, {'type': {'confidence': 1, 'kind': 'org-2-type', 'key': 'org-2-type', 'span': [53, 57], 'span_map': 'words', 'value': 'Общество с ограниченной ответственностью'}}]\n",
      "ERROR 2 alias 614090b90773863adc4f60be 'alias' [{'type': {'confidence': 1, 'kind': 'org-1-type', 'key': 'org-1-type', 'span': [13, 16], 'span_map': 'words', 'value': 'Публичное акционерное общество'}, 'alias': {'confidence': 1, 'kind': 'org-1-alias', 'key': 'org-1-alias', 'span': [43, 44], 'span_map': 'words', 'value': 'Заказчик'}}, {'type': {'confidence': 1, 'kind': 'org-2-type', 'key': 'org-2-type', 'span': [53, 57], 'span_map': 'words', 'value': 'Общество с ограниченной ответственностью'}}]\n",
      "163 60b7a4e2061c76d77545484f\n"
     ]
    },
    {
     "name": "stderr",
     "output_type": "stream",
     "text": [
      "DEBUG:gpn:skipping embedding doc 5b1d0aa20fe4fef7e98de53bd1f1572b ...., /Users/artem/work/nemo/work/datasets/cache-5b1d0aa20fe4fef7e98de53bd1f1572b-embeddings-ElmoEmbedder.npy exists, loading\n",
      "DEBUG:gpn:loaded embedding shape is: (2561, 1024)\n",
      "DEBUG:gpn:getting embedding from cache id=60b7a4e2061c76d77545484f chs=5b1d0aa20fe4fef7e98de53bd1f1572b\n",
      "DEBUG:gpn:skipping embedding doc 96f97857da559fd8ba6503d2f466dc5a ...., /Users/artem/work/nemo/work/datasets/cache-96f97857da559fd8ba6503d2f466dc5a-embeddings-ElmoEmbedder.npy exists, loading\n",
      "DEBUG:gpn:loaded embedding shape is: (2701, 1024)\n",
      "DEBUG:gpn:getting embedding from cache id=5fb674fd33c72547b754ffc5 chs=96f97857da559fd8ba6503d2f466dc5a\n"
     ]
    },
    {
     "name": "stdout",
     "output_type": "stream",
     "text": [
      "164 5fb674fd33c72547b754ffc5\n",
      "165 5fb27c62d8c9df1ed1236f17\n"
     ]
    },
    {
     "name": "stderr",
     "output_type": "stream",
     "text": [
      "DEBUG:gpn:skipping embedding doc 5fef6748f2441932b5ea3ae5f25c3087 ...., /Users/artem/work/nemo/work/datasets/cache-5fef6748f2441932b5ea3ae5f25c3087-embeddings-ElmoEmbedder.npy exists, loading\n",
      "DEBUG:gpn:loaded embedding shape is: (3474, 1024)\n",
      "DEBUG:gpn:getting embedding from cache id=5fb27c62d8c9df1ed1236f17 chs=5fef6748f2441932b5ea3ae5f25c3087\n"
     ]
    },
    {
     "name": "stdout",
     "output_type": "stream",
     "text": [
      "166 60b7a4f2061c76d7754549a2\n"
     ]
    },
    {
     "name": "stderr",
     "output_type": "stream",
     "text": [
      "DEBUG:gpn:skipping embedding doc 33e21e087dfe505b122d33e7f86eb48f ...., /Users/artem/work/nemo/work/datasets/cache-33e21e087dfe505b122d33e7f86eb48f-embeddings-ElmoEmbedder.npy exists, loading\n",
      "DEBUG:gpn:loaded embedding shape is: (2598, 1024)\n",
      "DEBUG:gpn:getting embedding from cache id=60b7a4f2061c76d7754549a2 chs=33e21e087dfe505b122d33e7f86eb48f\n",
      "DEBUG:gpn:skipping embedding doc a4f2ea497b15472c229c667b5c9390e1 ...., /Users/artem/work/nemo/work/datasets/cache-a4f2ea497b15472c229c667b5c9390e1-embeddings-ElmoEmbedder.npy exists, loading\n",
      "DEBUG:gpn:loaded embedding shape is: (1584, 1024)\n",
      "DEBUG:gpn:getting embedding from cache id=60b7a5ad061c76d7754554d7 chs=a4f2ea497b15472c229c667b5c9390e1\n"
     ]
    },
    {
     "name": "stdout",
     "output_type": "stream",
     "text": [
      "167 60b7a5ad061c76d7754554d7\n",
      "168 5fbbbd17a2b4551c0610795c\n"
     ]
    },
    {
     "name": "stderr",
     "output_type": "stream",
     "text": [
      "DEBUG:gpn:skipping embedding doc aa72344bc8c7d146d1dc86cc61470110 ...., /Users/artem/work/nemo/work/datasets/cache-aa72344bc8c7d146d1dc86cc61470110-embeddings-ElmoEmbedder.npy exists, loading\n",
      "DEBUG:gpn:loaded embedding shape is: (2214, 1024)\n",
      "DEBUG:gpn:getting embedding from cache id=5fbbbd17a2b4551c0610795c chs=aa72344bc8c7d146d1dc86cc61470110\n",
      "DEBUG:gpn:skipping embedding doc 04c66f6291236e8eed5a31a6fbc1e77a ...., /Users/artem/work/nemo/work/datasets/cache-04c66f6291236e8eed5a31a6fbc1e77a-embeddings-ElmoEmbedder.npy exists, loading\n",
      "DEBUG:gpn:loaded embedding shape is: (1271, 1024)\n",
      "DEBUG:gpn:getting embedding from cache id=5fb3d49d78df3635f5441b85 chs=04c66f6291236e8eed5a31a6fbc1e77a\n"
     ]
    },
    {
     "name": "stdout",
     "output_type": "stream",
     "text": [
      "169 5fb3d49d78df3635f5441b85\n",
      "170 60b7a599061c76d775455358\n"
     ]
    },
    {
     "name": "stderr",
     "output_type": "stream",
     "text": [
      "DEBUG:gpn:skipping embedding doc aba4c500d5734d33ddc3c51a207cdc21 ...., /Users/artem/work/nemo/work/datasets/cache-aba4c500d5734d33ddc3c51a207cdc21-embeddings-ElmoEmbedder.npy exists, loading\n",
      "DEBUG:gpn:loaded embedding shape is: (1578, 1024)\n",
      "DEBUG:gpn:getting embedding from cache id=60b7a599061c76d775455358 chs=aba4c500d5734d33ddc3c51a207cdc21\n",
      "DEBUG:gpn:skipping embedding doc c96f66ee1c9fb4663a0efaf3909a2e08 ...., /Users/artem/work/nemo/work/datasets/cache-c96f66ee1c9fb4663a0efaf3909a2e08-embeddings-ElmoEmbedder.npy exists, loading\n",
      "DEBUG:gpn:loaded embedding shape is: (2102, 1024)\n",
      "DEBUG:gpn:getting embedding from cache id=5fb3d49e78df3635f5441bd9 chs=c96f66ee1c9fb4663a0efaf3909a2e08\n"
     ]
    },
    {
     "name": "stdout",
     "output_type": "stream",
     "text": [
      "ERROR 2 type 60b7a599061c76d775455358 'type' [{'type': {'confidence': 0.4335392260551453, 'kind': 'org-1-type', 'value': 'Общество с ограниченной ответственностью', 'span': [24, 25], 'span_map': 'words'}, 'name': {'confidence': 0.8887319564819336, 'kind': 'org-1-name', 'value': 'ГАЗПРОМНЕФТЬ-КС', 'span': [26, 29], 'span_map': 'words'}, 'alias': {'confidence': 0.597419023513794, 'kind': 'org-1-alias', 'value': 'Заказчик', 'span': [35, 36], 'span_map': 'words'}}, {'name': {'confidence': 0.6668771505355835, 'kind': 'org-2-name', 'value': 'Росконгрссс', 'span': [56, 58], 'span_map': 'words'}, 'alias': {'confidence': 0.8622569441795349, 'kind': 'org-2-alias', 'value': 'Исполнитель', 'span': [64, 65], 'span_map': 'words'}}]\n",
      "171 5fb3d49e78df3635f5441bd9\n"
     ]
    },
    {
     "name": "stderr",
     "output_type": "stream",
     "text": [
      "DEBUG:gpn:skipping embedding doc 0f561c4fc47eafb94cab0f49ee6ffaf9 ...., /Users/artem/work/nemo/work/datasets/cache-0f561c4fc47eafb94cab0f49ee6ffaf9-embeddings-ElmoEmbedder.npy exists, loading\n",
      "DEBUG:gpn:loaded embedding shape is: (2107, 1024)\n",
      "DEBUG:gpn:getting embedding from cache id=5fdb2141542ce403c92b4562 chs=0f561c4fc47eafb94cab0f49ee6ffaf9\n"
     ]
    },
    {
     "name": "stdout",
     "output_type": "stream",
     "text": [
      "172 5fdb2141542ce403c92b4562\n",
      "173 5fdb2142542ce403c92b458c\n"
     ]
    },
    {
     "name": "stderr",
     "output_type": "stream",
     "text": [
      "DEBUG:gpn:skipping embedding doc d60d11bf92e0a4d54c682de1b7acdc58 ...., /Users/artem/work/nemo/work/datasets/cache-d60d11bf92e0a4d54c682de1b7acdc58-embeddings-ElmoEmbedder.npy exists, loading\n",
      "DEBUG:gpn:loaded embedding shape is: (3980, 1024)\n",
      "DEBUG:gpn:getting embedding from cache id=5fdb2142542ce403c92b458c chs=d60d11bf92e0a4d54c682de1b7acdc58\n"
     ]
    },
    {
     "name": "stdout",
     "output_type": "stream",
     "text": [
      "174 5fdb2141542ce403c92b4580\n"
     ]
    },
    {
     "name": "stderr",
     "output_type": "stream",
     "text": [
      "DEBUG:gpn:skipping embedding doc c4d2054929f3f7314492a7ef7871713d ...., /Users/artem/work/nemo/work/datasets/cache-c4d2054929f3f7314492a7ef7871713d-embeddings-ElmoEmbedder.npy exists, loading\n",
      "DEBUG:gpn:loaded embedding shape is: (3972, 1024)\n",
      "DEBUG:gpn:getting embedding from cache id=5fdb2141542ce403c92b4580 chs=c4d2054929f3f7314492a7ef7871713d\n"
     ]
    },
    {
     "name": "stdout",
     "output_type": "stream",
     "text": [
      "175 5fb3d4a078df3635f5441c5b\n"
     ]
    },
    {
     "name": "stderr",
     "output_type": "stream",
     "text": [
      "DEBUG:gpn:skipping embedding doc c0402cb85b8068a766df0ec921d7a22f ...., /Users/artem/work/nemo/work/datasets/cache-c0402cb85b8068a766df0ec921d7a22f-embeddings-ElmoEmbedder.npy exists, loading\n",
      "DEBUG:gpn:loaded embedding shape is: (4015, 1024)\n",
      "DEBUG:gpn:getting embedding from cache id=5fb3d4a078df3635f5441c5b chs=c0402cb85b8068a766df0ec921d7a22f\n",
      "DEBUG:gpn:skipping embedding doc e3ad3d376e9150ccaa30b61177415e6b ...., /Users/artem/work/nemo/work/datasets/cache-e3ad3d376e9150ccaa30b61177415e6b-embeddings-ElmoEmbedder.npy exists, loading\n",
      "DEBUG:gpn:loaded embedding shape is: (1391, 1024)\n",
      "DEBUG:gpn:getting embedding from cache id=60b7a4e9061c76d7754548b6 chs=e3ad3d376e9150ccaa30b61177415e6b\n"
     ]
    },
    {
     "name": "stdout",
     "output_type": "stream",
     "text": [
      "176 60b7a4e9061c76d7754548b6\n",
      "177 60b7a599061c76d77545535b\n"
     ]
    },
    {
     "name": "stderr",
     "output_type": "stream",
     "text": [
      "DEBUG:gpn:skipping embedding doc db8bbc8750771cbb3fea2c6e96e71ef1 ...., /Users/artem/work/nemo/work/datasets/cache-db8bbc8750771cbb3fea2c6e96e71ef1-embeddings-ElmoEmbedder.npy exists, loading\n",
      "DEBUG:gpn:loaded embedding shape is: (1578, 1024)\n",
      "DEBUG:gpn:getting embedding from cache id=60b7a599061c76d77545535b chs=db8bbc8750771cbb3fea2c6e96e71ef1\n"
     ]
    },
    {
     "name": "stdout",
     "output_type": "stream",
     "text": [
      "ERROR 2 type 60b7a599061c76d77545535b 'type' [{'type': {'confidence': 0.4311592161655426, 'kind': 'org-1-type', 'value': 'Общество с ограниченной ответственностью', 'span': [24, 25], 'span_map': 'words'}, 'name': {'confidence': 0.87783282995224, 'kind': 'org-1-name', 'value': 'ГАЗПРОМНЕФТЬ-КС', 'span': [26, 29], 'span_map': 'words'}, 'alias': {'confidence': 0.6000135540962219, 'kind': 'org-1-alias', 'value': 'Заказчик', 'span': [35, 36], 'span_map': 'words'}}, {'name': {'confidence': 0.6679162979125977, 'kind': 'org-2-name', 'value': 'Росконгрссс', 'span': [56, 58], 'span_map': 'words'}, 'alias': {'confidence': 0.8636624217033386, 'kind': 'org-2-alias', 'value': 'Исполнитель', 'span': [64, 65], 'span_map': 'words'}}]\n",
      "178 5fdb2146542ce403c92b4612\n"
     ]
    },
    {
     "name": "stderr",
     "output_type": "stream",
     "text": [
      "DEBUG:gpn:skipping embedding doc ab5a820a0b0e641ea4cacdcfdefc135c ...., /Users/artem/work/nemo/work/datasets/cache-ab5a820a0b0e641ea4cacdcfdefc135c-embeddings-ElmoEmbedder.npy exists, loading\n",
      "DEBUG:gpn:loaded embedding shape is: (4626, 1024)\n",
      "DEBUG:gpn:getting embedding from cache id=5fdb2146542ce403c92b4612 chs=ab5a820a0b0e641ea4cacdcfdefc135c\n",
      "DEBUG:gpn:skipping embedding doc b0f64a8fea2aede18d7ea98f0191ed33 ...., /Users/artem/work/nemo/work/datasets/cache-b0f64a8fea2aede18d7ea98f0191ed33-embeddings-ElmoEmbedder.npy exists, loading\n",
      "DEBUG:gpn:loaded embedding shape is: (988, 1024)\n",
      "DEBUG:gpn:getting embedding from cache id=5fe4821ab770574a00555652 chs=b0f64a8fea2aede18d7ea98f0191ed33\n"
     ]
    },
    {
     "name": "stdout",
     "output_type": "stream",
     "text": [
      "179 5fe4821ab770574a00555652\n",
      "ERROR 2 type 5fe4821ab770574a00555652 'type' [{'type': {'confidence': 0.4673430025577545, 'kind': 'org-1-type', 'value': 'Общество с ограниченной ответственностью', 'span': [22, 23], 'span_map': 'words'}, 'name': {'confidence': 0.9279544871786366, 'kind': 'org-1-name', 'value': 'Издательско-полиграфическое предприятие «Мастерская печати»', 'span': [24, 28], 'span_map': 'words'}, 'alias': {'confidence': 0.7634426951408386, 'kind': 'org-1-alias', 'value': 'Заказчик', 'span': [34, 35], 'span_map': 'words'}}, {'name': {'confidence': 0.7012170553207397, 'kind': 'org-2-name', 'value': '1 «Инитпресс Диджитэл»', 'span': [77, 82], 'span_map': 'words'}, 'alias': {'confidence': 0.9011393189430237, 'kind': 'org-2-alias', 'value': 'Исполнитель', 'span': [88, 89], 'span_map': 'words'}}]\n",
      "180 60b7a515061c76d775454c30\n"
     ]
    },
    {
     "name": "stderr",
     "output_type": "stream",
     "text": [
      "DEBUG:gpn:skipping embedding doc 9801949f184397cc7a56c96c61833f52 ...., /Users/artem/work/nemo/work/datasets/cache-9801949f184397cc7a56c96c61833f52-embeddings-ElmoEmbedder.npy exists, loading\n",
      "DEBUG:gpn:loaded embedding shape is: (1597, 1024)\n",
      "DEBUG:gpn:getting embedding from cache id=60b7a515061c76d775454c30 chs=9801949f184397cc7a56c96c61833f52\n"
     ]
    },
    {
     "name": "stdout",
     "output_type": "stream",
     "text": [
      "181 5fdb2144542ce403c92b45d7\n"
     ]
    },
    {
     "name": "stderr",
     "output_type": "stream",
     "text": [
      "DEBUG:gpn:skipping embedding doc 653e36fec46b16ad21a2b2dd4743c7b7 ...., /Users/artem/work/nemo/work/datasets/cache-653e36fec46b16ad21a2b2dd4743c7b7-embeddings-ElmoEmbedder.npy exists, loading\n",
      "DEBUG:gpn:loaded embedding shape is: (4135, 1024)\n",
      "DEBUG:gpn:getting embedding from cache id=5fdb2144542ce403c92b45d7 chs=653e36fec46b16ad21a2b2dd4743c7b7\n",
      "DEBUG:gpn:skipping embedding doc 5d5d578f24b2c17a0ef13442b5ff330e ...., /Users/artem/work/nemo/work/datasets/cache-5d5d578f24b2c17a0ef13442b5ff330e-embeddings-ElmoEmbedder.npy exists, loading\n",
      "DEBUG:gpn:loaded embedding shape is: (1565, 1024)\n",
      "DEBUG:gpn:getting embedding from cache id=5fdb213c542ce403c92b4510 chs=5d5d578f24b2c17a0ef13442b5ff330e\n"
     ]
    },
    {
     "name": "stdout",
     "output_type": "stream",
     "text": [
      "182 5fdb213c542ce403c92b4510\n",
      "183 60b7a4d4061c76d77545476e\n"
     ]
    },
    {
     "name": "stderr",
     "output_type": "stream",
     "text": [
      "DEBUG:gpn:skipping embedding doc 1453c78c92088d2e79f2433c42baa30e ...., /Users/artem/work/nemo/work/datasets/cache-1453c78c92088d2e79f2433c42baa30e-embeddings-ElmoEmbedder.npy exists, loading\n",
      "DEBUG:gpn:loaded embedding shape is: (694, 1024)\n",
      "DEBUG:gpn:getting embedding from cache id=60b7a4d4061c76d77545476e chs=1453c78c92088d2e79f2433c42baa30e\n",
      "DEBUG:gpn:skipping embedding doc 0bc0195614888329037d5893e39f07c6 ...., /Users/artem/work/nemo/work/datasets/cache-0bc0195614888329037d5893e39f07c6-embeddings-ElmoEmbedder.npy exists, loading\n",
      "DEBUG:gpn:loaded embedding shape is: (1931, 1024)\n",
      "DEBUG:gpn:getting embedding from cache id=60b7a4dd061c76d77545483a chs=0bc0195614888329037d5893e39f07c6\n"
     ]
    },
    {
     "name": "stdout",
     "output_type": "stream",
     "text": [
      "184 60b7a4dd061c76d77545483a\n"
     ]
    },
    {
     "name": "stderr",
     "output_type": "stream",
     "text": [
      "DEBUG:gpn:skipping embedding doc 79cb1bf51e81f7a68b1b3d7cb1328fda ...., /Users/artem/work/nemo/work/datasets/cache-79cb1bf51e81f7a68b1b3d7cb1328fda-embeddings-ElmoEmbedder.npy exists, loading\n",
      "DEBUG:gpn:loaded embedding shape is: (1087, 1024)\n",
      "DEBUG:gpn:getting embedding from cache id=5fb674f833c72547b754ff6c chs=79cb1bf51e81f7a68b1b3d7cb1328fda\n"
     ]
    },
    {
     "name": "stdout",
     "output_type": "stream",
     "text": [
      "185 5fb674f833c72547b754ff6c\n",
      "ERROR 2 name 5fb674f833c72547b754ff6c 'name' [{'type': {'confidence': 0.9999988079071045, 'span': [119, 121], 'span_map': 'words', 'value': 'Акционерное общество'}, 'name': {'confidence': 0.9535868167877197, 'span': [122, 124], 'span_map': 'words', 'value': 'Арктика Медиа'}, 'alias': {'confidence': 0.9376706480979919, 'span': [130, 131], 'span_map': 'words', 'value': 'Арендодатель'}}, {'alias': {'confidence': 0.9147409200668335, 'span': [45, 46], 'span_map': 'words', 'value': 'Арендатор'}}]\n",
      "ERROR 2 type 5fb674f833c72547b754ff6c 'type' [{'type': {'confidence': 0.9999988079071045, 'span': [119, 121], 'span_map': 'words', 'value': 'Акционерное общество'}, 'name': {'confidence': 0.9535868167877197, 'span': [122, 124], 'span_map': 'words', 'value': 'Арктика Медиа'}, 'alias': {'confidence': 0.9376706480979919, 'span': [130, 131], 'span_map': 'words', 'value': 'Арендодатель'}}, {'alias': {'confidence': 0.9147409200668335, 'span': [45, 46], 'span_map': 'words', 'value': 'Арендатор'}}]\n",
      "186 5fbbe467a2b4551c06107b02\n"
     ]
    },
    {
     "name": "stderr",
     "output_type": "stream",
     "text": [
      "DEBUG:gpn:skipping embedding doc fd751ee2eff97fe5316e179e9ed9505c ...., /Users/artem/work/nemo/work/datasets/cache-fd751ee2eff97fe5316e179e9ed9505c-embeddings-ElmoEmbedder.npy exists, loading\n",
      "DEBUG:gpn:loaded embedding shape is: (1994, 1024)\n",
      "DEBUG:gpn:getting embedding from cache id=5fbbe467a2b4551c06107b02 chs=fd751ee2eff97fe5316e179e9ed9505c\n"
     ]
    },
    {
     "name": "stdout",
     "output_type": "stream",
     "text": [
      "187 5fbbbd1ca2b4551c06107a5f\n"
     ]
    },
    {
     "name": "stderr",
     "output_type": "stream",
     "text": [
      "DEBUG:gpn:skipping embedding doc 4c6124d0661a45e03c7dec4eba94bb0a ...., /Users/artem/work/nemo/work/datasets/cache-4c6124d0661a45e03c7dec4eba94bb0a-embeddings-ElmoEmbedder.npy exists, loading\n",
      "DEBUG:gpn:loaded embedding shape is: (3105, 1024)\n",
      "DEBUG:gpn:getting embedding from cache id=5fbbbd1ca2b4551c06107a5f chs=4c6124d0661a45e03c7dec4eba94bb0a\n"
     ]
    },
    {
     "name": "stdout",
     "output_type": "stream",
     "text": [
      "ERROR 2 name 5fbbbd1ca2b4551c06107a5f list index out of range [{'type': {'confidence': 0.941648542881012, 'span': [133, 135], 'span_map': 'words', 'value': 'Акционерное общество'}, 'name': {'confidence': 0.8952658176422119, 'span': [136, 138], 'span_map': 'words', 'value': 'Арктика Медиа'}, 'alias': {'confidence': 0.7413976788520813, 'span': [144, 145], 'span_map': 'words', 'value': 'Получатель'}}]\n",
      "ERROR 2 alias 5fbbbd1ca2b4551c06107a5f list index out of range [{'type': {'confidence': 0.941648542881012, 'span': [133, 135], 'span_map': 'words', 'value': 'Акционерное общество'}, 'name': {'confidence': 0.8952658176422119, 'span': [136, 138], 'span_map': 'words', 'value': 'Арктика Медиа'}, 'alias': {'confidence': 0.7413976788520813, 'span': [144, 145], 'span_map': 'words', 'value': 'Получатель'}}]\n",
      "ERROR 2 type 5fbbbd1ca2b4551c06107a5f list index out of range [{'type': {'confidence': 0.941648542881012, 'span': [133, 135], 'span_map': 'words', 'value': 'Акционерное общество'}, 'name': {'confidence': 0.8952658176422119, 'span': [136, 138], 'span_map': 'words', 'value': 'Арктика Медиа'}, 'alias': {'confidence': 0.7413976788520813, 'span': [144, 145], 'span_map': 'words', 'value': 'Получатель'}}]\n",
      "188 60b7a4e7061c76d7754548a2\n"
     ]
    },
    {
     "name": "stderr",
     "output_type": "stream",
     "text": [
      "DEBUG:gpn:skipping embedding doc 5c703e739e094c055d04847cbcec392f ...., /Users/artem/work/nemo/work/datasets/cache-5c703e739e094c055d04847cbcec392f-embeddings-ElmoEmbedder.npy exists, loading\n",
      "DEBUG:gpn:loaded embedding shape is: (3457, 1024)\n",
      "DEBUG:gpn:getting embedding from cache id=60b7a4e7061c76d7754548a2 chs=5c703e739e094c055d04847cbcec392f\n"
     ]
    },
    {
     "name": "stdout",
     "output_type": "stream",
     "text": [
      "189 60b7a506061c76d775454af4\n"
     ]
    },
    {
     "name": "stderr",
     "output_type": "stream",
     "text": [
      "DEBUG:gpn:skipping embedding doc 2e94b82dd61516b2e0b69697dd8cea6d ...., /Users/artem/work/nemo/work/datasets/cache-2e94b82dd61516b2e0b69697dd8cea6d-embeddings-ElmoEmbedder.npy exists, loading\n",
      "DEBUG:gpn:loaded embedding shape is: (1663, 1024)\n",
      "DEBUG:gpn:getting embedding from cache id=60b7a506061c76d775454af4 chs=2e94b82dd61516b2e0b69697dd8cea6d\n"
     ]
    },
    {
     "name": "stdout",
     "output_type": "stream",
     "text": [
      "190 60b7a5b2061c76d77545553e\n"
     ]
    },
    {
     "name": "stderr",
     "output_type": "stream",
     "text": [
      "DEBUG:gpn:skipping embedding doc 3df64b9779c882cb68f692f6a539b75a ...., /Users/artem/work/nemo/work/datasets/cache-3df64b9779c882cb68f692f6a539b75a-embeddings-ElmoEmbedder.npy exists, loading\n",
      "DEBUG:gpn:loaded embedding shape is: (1561, 1024)\n",
      "DEBUG:gpn:getting embedding from cache id=60b7a5b2061c76d77545553e chs=3df64b9779c882cb68f692f6a539b75a\n",
      "DEBUG:gpn:skipping embedding doc 273fdc9914cbe34f1aa59f21e114ec4d ...., /Users/artem/work/nemo/work/datasets/cache-273fdc9914cbe34f1aa59f21e114ec4d-embeddings-ElmoEmbedder.npy exists, loading\n",
      "DEBUG:gpn:loaded embedding shape is: (1617, 1024)\n",
      "DEBUG:gpn:getting embedding from cache id=60b7a5b2061c76d77545553a chs=273fdc9914cbe34f1aa59f21e114ec4d\n"
     ]
    },
    {
     "name": "stdout",
     "output_type": "stream",
     "text": [
      "191 60b7a5b2061c76d77545553a\n",
      "192 60b7a4c1061c76d7754545a5\n"
     ]
    },
    {
     "name": "stderr",
     "output_type": "stream",
     "text": [
      "DEBUG:gpn:skipping embedding doc 1bfed2f8811f485434a0a5597e5db95a ...., /Users/artem/work/nemo/work/datasets/cache-1bfed2f8811f485434a0a5597e5db95a-embeddings-ElmoEmbedder.npy exists, loading\n",
      "DEBUG:gpn:loaded embedding shape is: (2637, 1024)\n",
      "DEBUG:gpn:getting embedding from cache id=60b7a4c1061c76d7754545a5 chs=1bfed2f8811f485434a0a5597e5db95a\n",
      "DEBUG:gpn:skipping embedding doc cf3417172ae695878cf1d100416dc01b ...., /Users/artem/work/nemo/work/datasets/cache-cf3417172ae695878cf1d100416dc01b-embeddings-ElmoEmbedder.npy exists, loading\n",
      "DEBUG:gpn:loaded embedding shape is: (1075, 1024)\n",
      "DEBUG:gpn:getting embedding from cache id=5fbbbd13a2b4551c061078d7 chs=cf3417172ae695878cf1d100416dc01b\n"
     ]
    },
    {
     "name": "stdout",
     "output_type": "stream",
     "text": [
      "ERROR 1 type 60b7a4c1061c76d7754545a5 'type' [{'name': {'confidence': 0.7888938784599304, 'kind': 'org-1-name', 'value': 'Российской газеты', 'span': [17, 19], 'span_map': 'words'}, 'alias': {'confidence': 0.6128143668174744, 'kind': 'org-1-alias', 'value': 'Исполнитель', 'span': [25, 26], 'span_map': 'words'}}, {'type': {'confidence': 0.2240853300690651, 'kind': 'org-2-type', 'value': 'Общество с ограниченной ответственностью', 'span': [55, 56], 'span_map': 'words'}, 'name': {'confidence': 0.6059998869895935, 'kind': 'org-2-name', 'value': 'Газпромнефть-КС', 'span': [57, 60], 'span_map': 'words'}, 'alias': {'confidence': 0.9037044048309326, 'kind': 'org-2-alias', 'value': 'Заказчик', 'span': [66, 67], 'span_map': 'words'}}]\n",
      "193 5fbbbd13a2b4551c061078d7\n",
      "ERROR 2 name 5fbbbd13a2b4551c061078d7 'name' [{'type': {'confidence': 0.9655500054359436, 'span': [119, 121], 'span_map': 'words', 'value': 'Акционерное общество'}, 'name': {'confidence': 0.9358875751495361, 'span': [122, 124], 'span_map': 'words', 'value': 'Арктика Медиа'}, 'alias': {'confidence': 0.8632296323776245, 'span': [130, 131], 'span_map': 'words', 'value': 'Арендодатель'}}, {'alias': {'confidence': 0.46456173062324524, 'span': [45, 46], 'span_map': 'words', 'value': 'Арендатор'}}]\n",
      "ERROR 2 type 5fbbbd13a2b4551c061078d7 'type' [{'type': {'confidence': 0.9655500054359436, 'span': [119, 121], 'span_map': 'words', 'value': 'Акционерное общество'}, 'name': {'confidence': 0.9358875751495361, 'span': [122, 124], 'span_map': 'words', 'value': 'Арктика Медиа'}, 'alias': {'confidence': 0.8632296323776245, 'span': [130, 131], 'span_map': 'words', 'value': 'Арендодатель'}}, {'alias': {'confidence': 0.46456173062324524, 'span': [45, 46], 'span_map': 'words', 'value': 'Арендатор'}}]\n",
      "194 5fb376e3d8c9df1ed12372a0\n"
     ]
    },
    {
     "name": "stderr",
     "output_type": "stream",
     "text": [
      "DEBUG:gpn:skipping embedding doc 0a4a99cf35329ffd57d88001655f6ed7 ...., /Users/artem/work/nemo/work/datasets/cache-0a4a99cf35329ffd57d88001655f6ed7-embeddings-ElmoEmbedder.npy exists, loading\n",
      "DEBUG:gpn:loaded embedding shape is: (2330, 1024)\n",
      "DEBUG:gpn:getting embedding from cache id=5fb376e3d8c9df1ed12372a0 chs=0a4a99cf35329ffd57d88001655f6ed7\n",
      "DEBUG:gpn:skipping embedding doc be831b3dcb4d1029bd1750cb28b4728a ...., /Users/artem/work/nemo/work/datasets/cache-be831b3dcb4d1029bd1750cb28b4728a-embeddings-ElmoEmbedder.npy exists, loading\n",
      "DEBUG:gpn:loaded embedding shape is: (2006, 1024)\n",
      "DEBUG:gpn:getting embedding from cache id=5fdb2140542ce403c92b4556 chs=be831b3dcb4d1029bd1750cb28b4728a\n"
     ]
    },
    {
     "name": "stdout",
     "output_type": "stream",
     "text": [
      "195 5fdb2140542ce403c92b4556\n",
      "196 5fb3d49f78df3635f5441c11\n"
     ]
    },
    {
     "name": "stderr",
     "output_type": "stream",
     "text": [
      "DEBUG:gpn:skipping embedding doc 98cb3aaff4561295d66b14211e341ebc ...., /Users/artem/work/nemo/work/datasets/cache-98cb3aaff4561295d66b14211e341ebc-embeddings-ElmoEmbedder.npy exists, loading\n",
      "DEBUG:gpn:loaded embedding shape is: (1994, 1024)\n",
      "DEBUG:gpn:getting embedding from cache id=5fb3d49f78df3635f5441c11 chs=98cb3aaff4561295d66b14211e341ebc\n"
     ]
    },
    {
     "name": "stdout",
     "output_type": "stream",
     "text": [
      "197 60b7a5a0061c76d7754553e6\n"
     ]
    },
    {
     "name": "stderr",
     "output_type": "stream",
     "text": [
      "DEBUG:gpn:skipping embedding doc e03ebac8f6a0bb88a5931ed52ce08004 ...., /Users/artem/work/nemo/work/datasets/cache-e03ebac8f6a0bb88a5931ed52ce08004-embeddings-ElmoEmbedder.npy exists, loading\n",
      "DEBUG:gpn:loaded embedding shape is: (2797, 1024)\n",
      "DEBUG:gpn:getting embedding from cache id=60b7a5a0061c76d7754553e6 chs=e03ebac8f6a0bb88a5931ed52ce08004\n",
      "DEBUG:gpn:skipping embedding doc 863cb921339d474da7fa52012d09c160 ...., /Users/artem/work/nemo/work/datasets/cache-863cb921339d474da7fa52012d09c160-embeddings-ElmoEmbedder.npy exists, loading\n",
      "DEBUG:gpn:loaded embedding shape is: (1700, 1024)\n",
      "DEBUG:gpn:getting embedding from cache id=60b7a5ac061c76d7754554bb chs=863cb921339d474da7fa52012d09c160\n"
     ]
    },
    {
     "name": "stdout",
     "output_type": "stream",
     "text": [
      "198 60b7a5ac061c76d7754554bb\n",
      "199 5fb3d4a078df3635f5441c6e\n"
     ]
    },
    {
     "name": "stderr",
     "output_type": "stream",
     "text": [
      "DEBUG:gpn:skipping embedding doc c24eb972b69a60b66e8070d89440e78f ...., /Users/artem/work/nemo/work/datasets/cache-c24eb972b69a60b66e8070d89440e78f-embeddings-ElmoEmbedder.npy exists, loading\n",
      "DEBUG:gpn:loaded embedding shape is: (3539, 1024)\n",
      "DEBUG:gpn:getting embedding from cache id=5fb3d4a078df3635f5441c6e chs=c24eb972b69a60b66e8070d89440e78f\n",
      "DEBUG:gpn:skipping embedding doc 3db8ae41b77eeaf2df83b81b0b56617c ...., /Users/artem/work/nemo/work/datasets/cache-3db8ae41b77eeaf2df83b81b0b56617c-embeddings-ElmoEmbedder.npy exists, loading\n",
      "DEBUG:gpn:loaded embedding shape is: (2241, 1024)\n",
      "DEBUG:gpn:getting embedding from cache id=5fb3d79b78df3635f5441cdd chs=3db8ae41b77eeaf2df83b81b0b56617c\n"
     ]
    },
    {
     "name": "stdout",
     "output_type": "stream",
     "text": [
      "200 5fb3d79b78df3635f5441cdd\n",
      "201 60b7a515061c76d775454c31\n"
     ]
    },
    {
     "name": "stderr",
     "output_type": "stream",
     "text": [
      "DEBUG:gpn:skipping embedding doc 43885a66b95688d6ae0ac478fb28175e ...., /Users/artem/work/nemo/work/datasets/cache-43885a66b95688d6ae0ac478fb28175e-embeddings-ElmoEmbedder.npy exists, loading\n",
      "DEBUG:gpn:loaded embedding shape is: (2360, 1024)\n",
      "DEBUG:gpn:getting embedding from cache id=60b7a515061c76d775454c31 chs=43885a66b95688d6ae0ac478fb28175e\n",
      "DEBUG:gpn:skipping embedding doc 68c8401b00724a2652c200471ba4b4a1 ...., /Users/artem/work/nemo/work/datasets/cache-68c8401b00724a2652c200471ba4b4a1-embeddings-ElmoEmbedder.npy exists, loading\n",
      "DEBUG:gpn:loaded embedding shape is: (1882, 1024)\n",
      "DEBUG:gpn:getting embedding from cache id=5fb2798fd8c9df1ed1236dc3 chs=68c8401b00724a2652c200471ba4b4a1\n"
     ]
    },
    {
     "name": "stdout",
     "output_type": "stream",
     "text": [
      "202 5fb2798fd8c9df1ed1236dc3\n"
     ]
    },
    {
     "name": "stderr",
     "output_type": "stream",
     "text": [
      "DEBUG:gpn:skipping embedding doc cce13f54ff40b57f78f1cdff81cd47b5 ...., /Users/artem/work/nemo/work/datasets/cache-cce13f54ff40b57f78f1cdff81cd47b5-embeddings-ElmoEmbedder.npy exists, loading\n",
      "DEBUG:gpn:loaded embedding shape is: (1869, 1024)\n",
      "DEBUG:gpn:getting embedding from cache id=5fbbe467a2b4551c06107af0 chs=cce13f54ff40b57f78f1cdff81cd47b5\n"
     ]
    },
    {
     "name": "stdout",
     "output_type": "stream",
     "text": [
      "203 5fbbe467a2b4551c06107af0\n",
      "204 5fe48217b770574a0055557a\n"
     ]
    },
    {
     "name": "stderr",
     "output_type": "stream",
     "text": [
      "DEBUG:gpn:skipping embedding doc a0d60b3d0ba6870db0d2cecbf3370894 ...., /Users/artem/work/nemo/work/datasets/cache-a0d60b3d0ba6870db0d2cecbf3370894-embeddings-ElmoEmbedder.npy exists, loading\n",
      "DEBUG:gpn:loaded embedding shape is: (2334, 1024)\n",
      "DEBUG:gpn:getting embedding from cache id=5fe48217b770574a0055557a chs=a0d60b3d0ba6870db0d2cecbf3370894\n"
     ]
    },
    {
     "name": "stdout",
     "output_type": "stream",
     "text": [
      "205 5fb3d79f78df3635f5441d30\n"
     ]
    },
    {
     "name": "stderr",
     "output_type": "stream",
     "text": [
      "DEBUG:gpn:skipping embedding doc 2249a86dcd3406d26702a3d6038a846a ...., /Users/artem/work/nemo/work/datasets/cache-2249a86dcd3406d26702a3d6038a846a-embeddings-ElmoEmbedder.npy exists, loading\n",
      "DEBUG:gpn:loaded embedding shape is: (2328, 1024)\n",
      "DEBUG:gpn:getting embedding from cache id=5fb3d79f78df3635f5441d30 chs=2249a86dcd3406d26702a3d6038a846a\n"
     ]
    },
    {
     "name": "stdout",
     "output_type": "stream",
     "text": [
      "206 60b7a4ce061c76d7754546c2\n"
     ]
    },
    {
     "name": "stderr",
     "output_type": "stream",
     "text": [
      "DEBUG:gpn:skipping embedding doc 135efd1b652dbcbc16719a285b37627c ...., /Users/artem/work/nemo/work/datasets/cache-135efd1b652dbcbc16719a285b37627c-embeddings-ElmoEmbedder.npy exists, loading\n",
      "DEBUG:gpn:loaded embedding shape is: (4970, 1024)\n",
      "DEBUG:gpn:getting embedding from cache id=60b7a4ce061c76d7754546c2 chs=135efd1b652dbcbc16719a285b37627c\n"
     ]
    },
    {
     "name": "stdout",
     "output_type": "stream",
     "text": [
      "207 5fb3d49f78df3635f5441c0f\n"
     ]
    },
    {
     "name": "stderr",
     "output_type": "stream",
     "text": [
      "DEBUG:gpn:skipping embedding doc 60a43a6b7264f1fd7453de4ff40a2805 ...., /Users/artem/work/nemo/work/datasets/cache-60a43a6b7264f1fd7453de4ff40a2805-embeddings-ElmoEmbedder.npy exists, loading\n",
      "DEBUG:gpn:loaded embedding shape is: (3460, 1024)\n",
      "DEBUG:gpn:getting embedding from cache id=5fb3d49f78df3635f5441c0f chs=60a43a6b7264f1fd7453de4ff40a2805\n"
     ]
    },
    {
     "name": "stdout",
     "output_type": "stream",
     "text": [
      "208 5fdb2141542ce403c92b457a\n"
     ]
    },
    {
     "name": "stderr",
     "output_type": "stream",
     "text": [
      "DEBUG:gpn:skipping embedding doc f78c41ba7e7d5dc2ad39f4c945a3e358 ...., /Users/artem/work/nemo/work/datasets/cache-f78c41ba7e7d5dc2ad39f4c945a3e358-embeddings-ElmoEmbedder.npy exists, loading\n",
      "DEBUG:gpn:loaded embedding shape is: (3429, 1024)\n",
      "DEBUG:gpn:getting embedding from cache id=5fdb2141542ce403c92b457a chs=f78c41ba7e7d5dc2ad39f4c945a3e358\n",
      "DEBUG:gpn:skipping embedding doc c9cf0b438c66ae08143d82d69d27c2d5 ...., /Users/artem/work/nemo/work/datasets/cache-c9cf0b438c66ae08143d82d69d27c2d5-embeddings-ElmoEmbedder.npy exists, loading\n",
      "DEBUG:gpn:loaded embedding shape is: (1345, 1024)\n",
      "DEBUG:gpn:getting embedding from cache id=60b7a4ea061c76d7754548d5 chs=c9cf0b438c66ae08143d82d69d27c2d5\n"
     ]
    },
    {
     "name": "stdout",
     "output_type": "stream",
     "text": [
      "209 60b7a4ea061c76d7754548d5\n",
      "210 5fb3d4a078df3635f5441c41\n"
     ]
    },
    {
     "name": "stderr",
     "output_type": "stream",
     "text": [
      "DEBUG:gpn:skipping embedding doc 628d44aa0ce1ae8f2d746560cd431b0b ...., /Users/artem/work/nemo/work/datasets/cache-628d44aa0ce1ae8f2d746560cd431b0b-embeddings-ElmoEmbedder.npy exists, loading\n",
      "DEBUG:gpn:loaded embedding shape is: (3448, 1024)\n",
      "DEBUG:gpn:getting embedding from cache id=5fb3d4a078df3635f5441c41 chs=628d44aa0ce1ae8f2d746560cd431b0b\n"
     ]
    },
    {
     "name": "stdout",
     "output_type": "stream",
     "text": [
      "211 5fdb2141542ce403c92b4572\n"
     ]
    },
    {
     "name": "stderr",
     "output_type": "stream",
     "text": [
      "DEBUG:gpn:skipping embedding doc cd1881f0b2ae0fef9dfce246f80a1243 ...., /Users/artem/work/nemo/work/datasets/cache-cd1881f0b2ae0fef9dfce246f80a1243-embeddings-ElmoEmbedder.npy exists, loading\n",
      "DEBUG:gpn:loaded embedding shape is: (3450, 1024)\n",
      "DEBUG:gpn:getting embedding from cache id=5fdb2141542ce403c92b4572 chs=cd1881f0b2ae0fef9dfce246f80a1243\n"
     ]
    },
    {
     "name": "stdout",
     "output_type": "stream",
     "text": [
      "212 60b7a4d2061c76d77545471f\n"
     ]
    },
    {
     "name": "stderr",
     "output_type": "stream",
     "text": [
      "DEBUG:gpn:skipping embedding doc 47f785a1fb5462ce3cabf89194bc3971 ...., /Users/artem/work/nemo/work/datasets/cache-47f785a1fb5462ce3cabf89194bc3971-embeddings-ElmoEmbedder.npy exists, loading\n",
      "DEBUG:gpn:loaded embedding shape is: (6921, 1024)\n",
      "DEBUG:gpn:getting embedding from cache id=60b7a4d2061c76d77545471f chs=47f785a1fb5462ce3cabf89194bc3971\n"
     ]
    },
    {
     "name": "stdout",
     "output_type": "stream",
     "text": [
      "213 60b7a53b061c76d775454e9c\n"
     ]
    },
    {
     "name": "stderr",
     "output_type": "stream",
     "text": [
      "DEBUG:gpn:skipping embedding doc 6b939f535eb7e07dad81577e2c24dc73 ...., /Users/artem/work/nemo/work/datasets/cache-6b939f535eb7e07dad81577e2c24dc73-embeddings-ElmoEmbedder.npy exists, loading\n",
      "DEBUG:gpn:loaded embedding shape is: (12657, 1024)\n",
      "DEBUG:gpn:getting embedding from cache id=60b7a53b061c76d775454e9c chs=6b939f535eb7e07dad81577e2c24dc73\n"
     ]
    },
    {
     "name": "stdout",
     "output_type": "stream",
     "text": [
      "214 60b7a4dd061c76d77545482f\n"
     ]
    },
    {
     "name": "stderr",
     "output_type": "stream",
     "text": [
      "DEBUG:gpn:skipping embedding doc d2ac4ae2065b38626390f7a056ed9a03 ...., /Users/artem/work/nemo/work/datasets/cache-d2ac4ae2065b38626390f7a056ed9a03-embeddings-ElmoEmbedder.npy exists, loading\n",
      "DEBUG:gpn:loaded embedding shape is: (7758, 1024)\n",
      "DEBUG:gpn:getting embedding from cache id=60b7a4dd061c76d77545482f chs=d2ac4ae2065b38626390f7a056ed9a03\n"
     ]
    },
    {
     "name": "stdout",
     "output_type": "stream",
     "text": [
      "215 60b7a5b3061c76d77545554f\n"
     ]
    },
    {
     "name": "stderr",
     "output_type": "stream",
     "text": [
      "DEBUG:gpn:skipping embedding doc 1f4e05d97bc108a95955168dddcadaec ...., /Users/artem/work/nemo/work/datasets/cache-1f4e05d97bc108a95955168dddcadaec-embeddings-ElmoEmbedder.npy exists, loading\n",
      "DEBUG:gpn:loaded embedding shape is: (1375, 1024)\n",
      "DEBUG:gpn:getting embedding from cache id=60b7a5b3061c76d77545554f chs=1f4e05d97bc108a95955168dddcadaec\n"
     ]
    },
    {
     "name": "stdout",
     "output_type": "stream",
     "text": [
      "216 60b7a5aa061c76d77545548c\n"
     ]
    },
    {
     "name": "stderr",
     "output_type": "stream",
     "text": [
      "DEBUG:gpn:skipping embedding doc b70ac1e35a70fae4737f8eb1cb940baa ...., /Users/artem/work/nemo/work/datasets/cache-b70ac1e35a70fae4737f8eb1cb940baa-embeddings-ElmoEmbedder.npy exists, loading\n",
      "DEBUG:gpn:loaded embedding shape is: (1188, 1024)\n",
      "DEBUG:gpn:getting embedding from cache id=60b7a5aa061c76d77545548c chs=b70ac1e35a70fae4737f8eb1cb940baa\n",
      "DEBUG:gpn:skipping embedding doc ecdd59ef15de1bd10048956fbc7c2d57 ...., /Users/artem/work/nemo/work/datasets/cache-ecdd59ef15de1bd10048956fbc7c2d57-embeddings-ElmoEmbedder.npy exists, loading\n",
      "DEBUG:gpn:loaded embedding shape is: (2250, 1024)\n",
      "DEBUG:gpn:getting embedding from cache id=5fb3d49f78df3635f5441c1d chs=ecdd59ef15de1bd10048956fbc7c2d57\n"
     ]
    },
    {
     "name": "stdout",
     "output_type": "stream",
     "text": [
      "217 5fb3d49f78df3635f5441c1d\n",
      "218 5fb3d49f78df3635f5441bfa\n"
     ]
    },
    {
     "name": "stderr",
     "output_type": "stream",
     "text": [
      "DEBUG:gpn:skipping embedding doc ba749878daf3a3c5a87edfb47bf88523 ...., /Users/artem/work/nemo/work/datasets/cache-ba749878daf3a3c5a87edfb47bf88523-embeddings-ElmoEmbedder.npy exists, loading\n",
      "DEBUG:gpn:loaded embedding shape is: (3786, 1024)\n",
      "DEBUG:gpn:getting embedding from cache id=5fb3d49f78df3635f5441bfa chs=ba749878daf3a3c5a87edfb47bf88523\n"
     ]
    },
    {
     "name": "stdout",
     "output_type": "stream",
     "text": [
      "219 5fdb213f542ce403c92b4533\n"
     ]
    },
    {
     "name": "stderr",
     "output_type": "stream",
     "text": [
      "DEBUG:gpn:skipping embedding doc bc770f839a4042fcb9589d184bc79209 ...., /Users/artem/work/nemo/work/datasets/cache-bc770f839a4042fcb9589d184bc79209-embeddings-ElmoEmbedder.npy exists, loading\n",
      "DEBUG:gpn:loaded embedding shape is: (3216, 1024)\n",
      "DEBUG:gpn:getting embedding from cache id=5fdb213f542ce403c92b4533 chs=bc770f839a4042fcb9589d184bc79209\n",
      "DEBUG:gpn:skipping embedding doc 701c01a26e1ffc3c40b1caea5a42c97f ...., /Users/artem/work/nemo/work/datasets/cache-701c01a26e1ffc3c40b1caea5a42c97f-embeddings-ElmoEmbedder.npy exists, loading\n",
      "DEBUG:gpn:loaded embedding shape is: (2510, 1024)\n",
      "DEBUG:gpn:getting embedding from cache id=5fb3d49d78df3635f5441b90 chs=701c01a26e1ffc3c40b1caea5a42c97f\n"
     ]
    },
    {
     "name": "stdout",
     "output_type": "stream",
     "text": [
      "220 5fb3d49d78df3635f5441b90\n",
      "221 5fdb2140542ce403c92b454e\n"
     ]
    },
    {
     "name": "stderr",
     "output_type": "stream",
     "text": [
      "DEBUG:gpn:skipping embedding doc 7b0b7f6811cbfb69558537b6cf9ee4ff ...., /Users/artem/work/nemo/work/datasets/cache-7b0b7f6811cbfb69558537b6cf9ee4ff-embeddings-ElmoEmbedder.npy exists, loading\n",
      "DEBUG:gpn:loaded embedding shape is: (2277, 1024)\n",
      "DEBUG:gpn:getting embedding from cache id=5fdb2140542ce403c92b454e chs=7b0b7f6811cbfb69558537b6cf9ee4ff\n"
     ]
    },
    {
     "name": "stdout",
     "output_type": "stream",
     "text": [
      "222 5fdb2143542ce403c92b45a8\n"
     ]
    },
    {
     "name": "stderr",
     "output_type": "stream",
     "text": [
      "DEBUG:gpn:skipping embedding doc af28904ffed11db8cd39a1fbc870431d ...., /Users/artem/work/nemo/work/datasets/cache-af28904ffed11db8cd39a1fbc870431d-embeddings-ElmoEmbedder.npy exists, loading\n",
      "DEBUG:gpn:loaded embedding shape is: (3778, 1024)\n",
      "DEBUG:gpn:getting embedding from cache id=5fdb2143542ce403c92b45a8 chs=af28904ffed11db8cd39a1fbc870431d\n"
     ]
    },
    {
     "name": "stdout",
     "output_type": "stream",
     "text": [
      "223 5fdb2140542ce403c92b453b\n"
     ]
    },
    {
     "name": "stderr",
     "output_type": "stream",
     "text": [
      "DEBUG:gpn:skipping embedding doc 604a9975d7f4c77eb1af29521140be3d ...., /Users/artem/work/nemo/work/datasets/cache-604a9975d7f4c77eb1af29521140be3d-embeddings-ElmoEmbedder.npy exists, loading\n",
      "DEBUG:gpn:loaded embedding shape is: (2051, 1024)\n",
      "DEBUG:gpn:getting embedding from cache id=5fdb2140542ce403c92b453b chs=604a9975d7f4c77eb1af29521140be3d\n"
     ]
    },
    {
     "name": "stdout",
     "output_type": "stream",
     "text": [
      "224 5fb3d4a078df3635f5441c61\n"
     ]
    },
    {
     "name": "stderr",
     "output_type": "stream",
     "text": [
      "DEBUG:gpn:skipping embedding doc 77a73e07b5d6954199e544a8e1758d0e ...., /Users/artem/work/nemo/work/datasets/cache-77a73e07b5d6954199e544a8e1758d0e-embeddings-ElmoEmbedder.npy exists, loading\n",
      "DEBUG:gpn:loaded embedding shape is: (3231, 1024)\n",
      "DEBUG:gpn:getting embedding from cache id=5fb3d4a078df3635f5441c61 chs=77a73e07b5d6954199e544a8e1758d0e\n",
      "DEBUG:gpn:skipping embedding doc 24bc385b8dbefa6765f50c7bdd2f8061 ...., /Users/artem/work/nemo/work/datasets/cache-24bc385b8dbefa6765f50c7bdd2f8061-embeddings-ElmoEmbedder.npy exists, loading\n"
     ]
    },
    {
     "name": "stdout",
     "output_type": "stream",
     "text": [
      "225 5fb3d79c78df3635f5441cee\n"
     ]
    },
    {
     "name": "stderr",
     "output_type": "stream",
     "text": [
      "DEBUG:gpn:loaded embedding shape is: (1582, 1024)\n",
      "DEBUG:gpn:getting embedding from cache id=5fb3d79c78df3635f5441cee chs=24bc385b8dbefa6765f50c7bdd2f8061\n",
      "DEBUG:gpn:skipping embedding doc 5bfc208a206ae9b6e29bcaaf8697622c ...., /Users/artem/work/nemo/work/datasets/cache-5bfc208a206ae9b6e29bcaaf8697622c-embeddings-ElmoEmbedder.npy exists, loading\n",
      "DEBUG:gpn:loaded embedding shape is: (1581, 1024)\n",
      "DEBUG:gpn:getting embedding from cache id=5fe4821eb770574a005556ef chs=5bfc208a206ae9b6e29bcaaf8697622c\n"
     ]
    },
    {
     "name": "stdout",
     "output_type": "stream",
     "text": [
      "226 5fe4821eb770574a005556ef\n",
      "227 5fbbe467a2b4551c06107b13\n"
     ]
    },
    {
     "name": "stderr",
     "output_type": "stream",
     "text": [
      "DEBUG:gpn:skipping embedding doc 7317c700a2f88ae0603612acc1560fc3 ...., /Users/artem/work/nemo/work/datasets/cache-7317c700a2f88ae0603612acc1560fc3-embeddings-ElmoEmbedder.npy exists, loading\n",
      "DEBUG:gpn:loaded embedding shape is: (3890, 1024)\n",
      "DEBUG:gpn:getting embedding from cache id=5fbbe467a2b4551c06107b13 chs=7317c700a2f88ae0603612acc1560fc3\n"
     ]
    },
    {
     "name": "stdout",
     "output_type": "stream",
     "text": [
      "228 60b7a526061c76d775454d8d\n"
     ]
    },
    {
     "name": "stderr",
     "output_type": "stream",
     "text": [
      "DEBUG:gpn:skipping embedding doc b17fed42371b198b1a8e7211374388fd ...., /Users/artem/work/nemo/work/datasets/cache-b17fed42371b198b1a8e7211374388fd-embeddings-ElmoEmbedder.npy exists, loading\n",
      "DEBUG:gpn:loaded embedding shape is: (3435, 1024)\n",
      "DEBUG:gpn:getting embedding from cache id=60b7a526061c76d775454d8d chs=b17fed42371b198b1a8e7211374388fd\n",
      "DEBUG:gpn:skipping embedding doc d0c9adf8b15850fc85ef969e207a86e9 ...., /Users/artem/work/nemo/work/datasets/cache-d0c9adf8b15850fc85ef969e207a86e9-embeddings-ElmoEmbedder.npy exists, loading\n",
      "DEBUG:gpn:loaded embedding shape is: (1167, 1024)\n",
      "DEBUG:gpn:getting embedding from cache id=60b7a4dd061c76d775454837 chs=d0c9adf8b15850fc85ef969e207a86e9\n"
     ]
    },
    {
     "name": "stdout",
     "output_type": "stream",
     "text": [
      "229 60b7a4dd061c76d775454837\n",
      "230 60b7a5a1061c76d7754553f7\n"
     ]
    },
    {
     "name": "stderr",
     "output_type": "stream",
     "text": [
      "DEBUG:gpn:skipping embedding doc 38fea56b26e1919ee9b91adc25459bc7 ...., /Users/artem/work/nemo/work/datasets/cache-38fea56b26e1919ee9b91adc25459bc7-embeddings-ElmoEmbedder.npy exists, loading\n",
      "DEBUG:gpn:loaded embedding shape is: (3707, 1024)\n",
      "DEBUG:gpn:getting embedding from cache id=60b7a5a1061c76d7754553f7 chs=38fea56b26e1919ee9b91adc25459bc7\n",
      "DEBUG:gpn:skipping embedding doc 236f391fe99e43a547b38ba02a8d6cf4 ...., /Users/artem/work/nemo/work/datasets/cache-236f391fe99e43a547b38ba02a8d6cf4-embeddings-ElmoEmbedder.npy exists, loading\n",
      "DEBUG:gpn:loaded embedding shape is: (1367, 1024)\n",
      "DEBUG:gpn:getting embedding from cache id=60b7a50b061c76d775454b86 chs=236f391fe99e43a547b38ba02a8d6cf4\n"
     ]
    },
    {
     "name": "stdout",
     "output_type": "stream",
     "text": [
      "231 60b7a50b061c76d775454b86\n",
      "232 60b7a50b061c76d775454b92\n"
     ]
    },
    {
     "name": "stderr",
     "output_type": "stream",
     "text": [
      "DEBUG:gpn:skipping embedding doc 8c5948206dd52725a203e987c94104db ...., /Users/artem/work/nemo/work/datasets/cache-8c5948206dd52725a203e987c94104db-embeddings-ElmoEmbedder.npy exists, loading\n",
      "DEBUG:gpn:loaded embedding shape is: (2736, 1024)\n",
      "DEBUG:gpn:getting embedding from cache id=60b7a50b061c76d775454b92 chs=8c5948206dd52725a203e987c94104db\n",
      "DEBUG:gpn:skipping embedding doc 1e35532d32bcdb9d23e503fa1c9e436f ...., /Users/artem/work/nemo/work/datasets/cache-1e35532d32bcdb9d23e503fa1c9e436f-embeddings-ElmoEmbedder.npy exists, loading\n",
      "DEBUG:gpn:loaded embedding shape is: (1085, 1024)\n",
      "DEBUG:gpn:getting embedding from cache id=60b7a524061c76d775454d7b chs=1e35532d32bcdb9d23e503fa1c9e436f\n"
     ]
    },
    {
     "name": "stdout",
     "output_type": "stream",
     "text": [
      "233 60b7a524061c76d775454d7b\n",
      "234 5fdb213e542ce403c92b4524\n"
     ]
    },
    {
     "name": "stderr",
     "output_type": "stream",
     "text": [
      "DEBUG:gpn:skipping embedding doc c6d0bcd5cc1511ae1c783a22b0f209e2 ...., /Users/artem/work/nemo/work/datasets/cache-c6d0bcd5cc1511ae1c783a22b0f209e2-embeddings-ElmoEmbedder.npy exists, loading\n",
      "DEBUG:gpn:loaded embedding shape is: (2022, 1024)\n",
      "DEBUG:gpn:getting embedding from cache id=5fdb213e542ce403c92b4524 chs=c6d0bcd5cc1511ae1c783a22b0f209e2\n"
     ]
    },
    {
     "name": "stdout",
     "output_type": "stream",
     "text": [
      "235 60b7a5a1061c76d7754553f2\n"
     ]
    },
    {
     "name": "stderr",
     "output_type": "stream",
     "text": [
      "DEBUG:gpn:skipping embedding doc 95ce66081409b65f756e5abd819cbb74 ...., /Users/artem/work/nemo/work/datasets/cache-95ce66081409b65f756e5abd819cbb74-embeddings-ElmoEmbedder.npy exists, loading\n",
      "DEBUG:gpn:loaded embedding shape is: (4415, 1024)\n",
      "DEBUG:gpn:getting embedding from cache id=60b7a5a1061c76d7754553f2 chs=95ce66081409b65f756e5abd819cbb74\n",
      "DEBUG:gpn:skipping embedding doc 858c2ea5fbb690901ef2957ed8a55ff9 ...., /Users/artem/work/nemo/work/datasets/cache-858c2ea5fbb690901ef2957ed8a55ff9-embeddings-ElmoEmbedder.npy exists, loading\n",
      "DEBUG:gpn:loaded embedding shape is: (623, 1024)\n",
      "DEBUG:gpn:getting embedding from cache id=5fbbe468a2b4551c06107b34 chs=858c2ea5fbb690901ef2957ed8a55ff9\n"
     ]
    },
    {
     "name": "stdout",
     "output_type": "stream",
     "text": [
      "236 5fbbe468a2b4551c06107b34\n",
      "237 60b7a50c061c76d775454b93\n"
     ]
    },
    {
     "name": "stderr",
     "output_type": "stream",
     "text": [
      "DEBUG:gpn:skipping embedding doc e449ba3a9d8ea3e66d93027b366c24e3 ...., /Users/artem/work/nemo/work/datasets/cache-e449ba3a9d8ea3e66d93027b366c24e3-embeddings-ElmoEmbedder.npy exists, loading\n",
      "DEBUG:gpn:loaded embedding shape is: (1851, 1024)\n",
      "DEBUG:gpn:getting embedding from cache id=60b7a50c061c76d775454b93 chs=e449ba3a9d8ea3e66d93027b366c24e3\n",
      "DEBUG:gpn:skipping embedding doc 8b7a12c114711af2ee492cfc2deb75e6 ...., /Users/artem/work/nemo/work/datasets/cache-8b7a12c114711af2ee492cfc2deb75e6-embeddings-ElmoEmbedder.npy exists, loading\n",
      "DEBUG:gpn:loaded embedding shape is: (1560, 1024)\n",
      "DEBUG:gpn:getting embedding from cache id=60b7a5ac061c76d7754554d3 chs=8b7a12c114711af2ee492cfc2deb75e6\n"
     ]
    },
    {
     "name": "stdout",
     "output_type": "stream",
     "text": [
      "238 60b7a5ac061c76d7754554d3\n",
      "239 60b7a4e3061c76d775454875\n"
     ]
    },
    {
     "name": "stderr",
     "output_type": "stream",
     "text": [
      "DEBUG:gpn:skipping embedding doc 6438cc2bf43c320a649681a39c853a26 ...., /Users/artem/work/nemo/work/datasets/cache-6438cc2bf43c320a649681a39c853a26-embeddings-ElmoEmbedder.npy exists, loading\n",
      "DEBUG:gpn:loaded embedding shape is: (1089, 1024)\n",
      "DEBUG:gpn:getting embedding from cache id=60b7a4e3061c76d775454875 chs=6438cc2bf43c320a649681a39c853a26\n"
     ]
    },
    {
     "name": "stdout",
     "output_type": "stream",
     "text": [
      "240 60b7a5a1061c76d7754553ec\n"
     ]
    },
    {
     "name": "stderr",
     "output_type": "stream",
     "text": [
      "DEBUG:gpn:skipping embedding doc ad9f11e2910b1aab3ef337defd0ee178 ...., /Users/artem/work/nemo/work/datasets/cache-ad9f11e2910b1aab3ef337defd0ee178-embeddings-ElmoEmbedder.npy exists, loading\n",
      "DEBUG:gpn:loaded embedding shape is: (3362, 1024)\n",
      "DEBUG:gpn:getting embedding from cache id=60b7a5a1061c76d7754553ec chs=ad9f11e2910b1aab3ef337defd0ee178\n",
      "DEBUG:gpn:skipping embedding doc 88acab014b1dfb27ff0fdfa2eaea4ebb ...., /Users/artem/work/nemo/work/datasets/cache-88acab014b1dfb27ff0fdfa2eaea4ebb-embeddings-ElmoEmbedder.npy exists, loading\n",
      "DEBUG:gpn:loaded embedding shape is: (2218, 1024)\n",
      "DEBUG:gpn:getting embedding from cache id=5fbbbd17a2b4551c06107961 chs=88acab014b1dfb27ff0fdfa2eaea4ebb\n"
     ]
    },
    {
     "name": "stdout",
     "output_type": "stream",
     "text": [
      "241 5fbbbd17a2b4551c06107961\n"
     ]
    },
    {
     "name": "stderr",
     "output_type": "stream",
     "text": [
      "DEBUG:gpn:skipping embedding doc 1344f1e26ca85c7a438233c45c5ce740 ...., /Users/artem/work/nemo/work/datasets/cache-1344f1e26ca85c7a438233c45c5ce740-embeddings-ElmoEmbedder.npy exists, loading\n",
      "DEBUG:gpn:loaded embedding shape is: (1284, 1024)\n",
      "DEBUG:gpn:getting embedding from cache id=5fbbe46aa2b4551c06107b9c chs=1344f1e26ca85c7a438233c45c5ce740\n"
     ]
    },
    {
     "name": "stdout",
     "output_type": "stream",
     "text": [
      "242 5fbbe46aa2b4551c06107b9c\n",
      "243 60b7a53e061c76d775454ef1\n"
     ]
    },
    {
     "name": "stderr",
     "output_type": "stream",
     "text": [
      "DEBUG:gpn:skipping embedding doc e55ceb2f0002aba9b9cf0dac3829727a ...., /Users/artem/work/nemo/work/datasets/cache-e55ceb2f0002aba9b9cf0dac3829727a-embeddings-ElmoEmbedder.npy exists, loading\n",
      "DEBUG:gpn:loaded embedding shape is: (1585, 1024)\n",
      "DEBUG:gpn:getting embedding from cache id=60b7a53e061c76d775454ef1 chs=e55ceb2f0002aba9b9cf0dac3829727a\n"
     ]
    },
    {
     "name": "stdout",
     "output_type": "stream",
     "text": [
      "244 5fbbe468a2b4551c06107b4b\n"
     ]
    },
    {
     "name": "stderr",
     "output_type": "stream",
     "text": [
      "DEBUG:gpn:skipping embedding doc 6a1c41b5b2bb3e8e0789f27ff6a8c90e ...., /Users/artem/work/nemo/work/datasets/cache-6a1c41b5b2bb3e8e0789f27ff6a8c90e-embeddings-ElmoEmbedder.npy exists, loading\n",
      "DEBUG:gpn:loaded embedding shape is: (2746, 1024)\n",
      "DEBUG:gpn:getting embedding from cache id=5fbbe468a2b4551c06107b4b chs=6a1c41b5b2bb3e8e0789f27ff6a8c90e\n"
     ]
    },
    {
     "name": "stdout",
     "output_type": "stream",
     "text": [
      "245 5fc7a034c54bc33809e261ac\n"
     ]
    },
    {
     "name": "stderr",
     "output_type": "stream",
     "text": [
      "DEBUG:gpn:skipping embedding doc 62ba3b8c87a8746297182524605efaaf ...., /Users/artem/work/nemo/work/datasets/cache-62ba3b8c87a8746297182524605efaaf-embeddings-ElmoEmbedder.npy exists, loading\n",
      "DEBUG:gpn:loaded embedding shape is: (2898, 1024)\n",
      "DEBUG:gpn:getting embedding from cache id=5fc7a034c54bc33809e261ac chs=62ba3b8c87a8746297182524605efaaf\n",
      "DEBUG:gpn:skipping embedding doc 6ca3f809785016f578e9f4e6262f9528 ...., /Users/artem/work/nemo/work/datasets/cache-6ca3f809785016f578e9f4e6262f9528-embeddings-ElmoEmbedder.npy exists, loading\n",
      "DEBUG:gpn:loaded embedding shape is: (2673, 1024)\n",
      "DEBUG:gpn:getting embedding from cache id=5fe34f63b770574a005553d2 chs=6ca3f809785016f578e9f4e6262f9528\n"
     ]
    },
    {
     "name": "stdout",
     "output_type": "stream",
     "text": [
      "246 5fe34f63b770574a005553d2\n",
      "247 5fb2796fd8c9df1ed1236db3\n"
     ]
    },
    {
     "name": "stderr",
     "output_type": "stream",
     "text": [
      "DEBUG:gpn:skipping embedding doc 28ae21d64033436689ce28dd615ee50a ...., /Users/artem/work/nemo/work/datasets/cache-28ae21d64033436689ce28dd615ee50a-embeddings-ElmoEmbedder.npy exists, loading\n",
      "DEBUG:gpn:loaded embedding shape is: (3182, 1024)\n",
      "DEBUG:gpn:getting embedding from cache id=5fb2796fd8c9df1ed1236db3 chs=28ae21d64033436689ce28dd615ee50a\n",
      "DEBUG:gpn:skipping embedding doc b1159d45c758d556363d5af878df2a56 ...., /Users/artem/work/nemo/work/datasets/cache-b1159d45c758d556363d5af878df2a56-embeddings-ElmoEmbedder.npy exists, loading\n",
      "DEBUG:gpn:loaded embedding shape is: (1117, 1024)\n",
      "DEBUG:gpn:getting embedding from cache id=5fbbad2ba2b4551c0610782a chs=b1159d45c758d556363d5af878df2a56\n"
     ]
    },
    {
     "name": "stdout",
     "output_type": "stream",
     "text": [
      "248 5fbbad2ba2b4551c0610782a\n",
      "249 60b7a505061c76d775454ae0\n"
     ]
    },
    {
     "name": "stderr",
     "output_type": "stream",
     "text": [
      "DEBUG:gpn:skipping embedding doc 05c9a3c6b4ecda5d10781dd7be001ce5 ...., /Users/artem/work/nemo/work/datasets/cache-05c9a3c6b4ecda5d10781dd7be001ce5-embeddings-ElmoEmbedder.npy exists, loading\n",
      "DEBUG:gpn:loaded embedding shape is: (6547, 1024)\n",
      "DEBUG:gpn:getting embedding from cache id=60b7a505061c76d775454ae0 chs=05c9a3c6b4ecda5d10781dd7be001ce5\n",
      "DEBUG:gpn:skipping embedding doc 573e11227871823e80745adf09bc7a0e ...., /Users/artem/work/nemo/work/datasets/cache-573e11227871823e80745adf09bc7a0e-embeddings-ElmoEmbedder.npy exists, loading\n",
      "DEBUG:gpn:loaded embedding shape is: (2313, 1024)\n",
      "DEBUG:gpn:getting embedding from cache id=60b7a505061c76d775454ae1 chs=573e11227871823e80745adf09bc7a0e\n"
     ]
    },
    {
     "name": "stdout",
     "output_type": "stream",
     "text": [
      "250 60b7a505061c76d775454ae1\n"
     ]
    },
    {
     "name": "stderr",
     "output_type": "stream",
     "text": [
      "DEBUG:gpn:skipping embedding doc 2a4babdd7d37cf3fa48c005b084b337b ...., /Users/artem/work/nemo/work/datasets/cache-2a4babdd7d37cf3fa48c005b084b337b-embeddings-ElmoEmbedder.npy exists, loading\n",
      "DEBUG:gpn:loaded embedding shape is: (2449, 1024)\n",
      "DEBUG:gpn:getting embedding from cache id=5fdb2145542ce403c92b4606 chs=2a4babdd7d37cf3fa48c005b084b337b\n"
     ]
    },
    {
     "name": "stdout",
     "output_type": "stream",
     "text": [
      "251 5fdb2145542ce403c92b4606\n"
     ]
    },
    {
     "name": "stderr",
     "output_type": "stream",
     "text": [
      "DEBUG:gpn:skipping embedding doc c885a87646566f788039a35be45a50ec ...., /Users/artem/work/nemo/work/datasets/cache-c885a87646566f788039a35be45a50ec-embeddings-ElmoEmbedder.npy exists, loading\n",
      "DEBUG:gpn:loaded embedding shape is: (2453, 1024)\n",
      "DEBUG:gpn:getting embedding from cache id=5fb3d49f78df3635f5441bf4 chs=c885a87646566f788039a35be45a50ec\n"
     ]
    },
    {
     "name": "stdout",
     "output_type": "stream",
     "text": [
      "252 5fb3d49f78df3635f5441bf4\n",
      "253 60b7a591061c76d7754552b6\n"
     ]
    },
    {
     "name": "stderr",
     "output_type": "stream",
     "text": [
      "DEBUG:gpn:skipping embedding doc 8f50862075e6f251bb43e54d7f0eaef4 ...., /Users/artem/work/nemo/work/datasets/cache-8f50862075e6f251bb43e54d7f0eaef4-embeddings-ElmoEmbedder.npy exists, loading\n",
      "DEBUG:gpn:loaded embedding shape is: (2706, 1024)\n",
      "DEBUG:gpn:getting embedding from cache id=60b7a591061c76d7754552b6 chs=8f50862075e6f251bb43e54d7f0eaef4\n"
     ]
    },
    {
     "name": "stdout",
     "output_type": "stream",
     "text": [
      "254 5fb6750a33c72547b755011b\n"
     ]
    },
    {
     "name": "stderr",
     "output_type": "stream",
     "text": [
      "DEBUG:gpn:skipping embedding doc e9ce362ea4896bc1fca93d4f517329ea ...., /Users/artem/work/nemo/work/datasets/cache-e9ce362ea4896bc1fca93d4f517329ea-embeddings-ElmoEmbedder.npy exists, loading\n",
      "DEBUG:gpn:loaded embedding shape is: (5168, 1024)\n",
      "DEBUG:gpn:getting embedding from cache id=5fb6750a33c72547b755011b chs=e9ce362ea4896bc1fca93d4f517329ea\n"
     ]
    },
    {
     "name": "stdout",
     "output_type": "stream",
     "text": [
      "ERROR 2 name 5fb6750a33c72547b755011b 'name' [{'type': {'confidence': 0.9566683769226074, 'span': [72, 74], 'span_map': 'words', 'value': 'Акционерное общество'}, 'name': {'confidence': 0.7499592304229736, 'span': [75, 77], 'span_map': 'words', 'value': 'Арктика Медиа'}, 'alias': {'confidence': 0.36834916472435, 'span': [83, 84], 'span_map': 'words', 'value': 'Исполнитель'}}, {'alias': {'confidence': 0.6649777889251709, 'span': [42, 43], 'span_map': 'words', 'value': 'Заказчик'}}]\n",
      "ERROR 2 type 5fb6750a33c72547b755011b 'type' [{'type': {'confidence': 0.9566683769226074, 'span': [72, 74], 'span_map': 'words', 'value': 'Акционерное общество'}, 'name': {'confidence': 0.7499592304229736, 'span': [75, 77], 'span_map': 'words', 'value': 'Арктика Медиа'}, 'alias': {'confidence': 0.36834916472435, 'span': [83, 84], 'span_map': 'words', 'value': 'Исполнитель'}}, {'alias': {'confidence': 0.6649777889251709, 'span': [42, 43], 'span_map': 'words', 'value': 'Заказчик'}}]\n",
      "255 5fbbad2ba2b4551c06107837\n"
     ]
    },
    {
     "name": "stderr",
     "output_type": "stream",
     "text": [
      "DEBUG:gpn:skipping embedding doc 80d91bcb8a18817afc16bd402af73a27 ...., /Users/artem/work/nemo/work/datasets/cache-80d91bcb8a18817afc16bd402af73a27-embeddings-ElmoEmbedder.npy exists, loading\n",
      "DEBUG:gpn:loaded embedding shape is: (1866, 1024)\n",
      "DEBUG:gpn:getting embedding from cache id=5fbbad2ba2b4551c06107837 chs=80d91bcb8a18817afc16bd402af73a27\n"
     ]
    },
    {
     "name": "stdout",
     "output_type": "stream",
     "text": [
      "256 5fb27c61d8c9df1ed1236ee2\n"
     ]
    },
    {
     "name": "stderr",
     "output_type": "stream",
     "text": [
      "DEBUG:gpn:skipping embedding doc ac723b444d86f7869ed57c2aa73ac1c1 ...., /Users/artem/work/nemo/work/datasets/cache-ac723b444d86f7869ed57c2aa73ac1c1-embeddings-ElmoEmbedder.npy exists, loading\n",
      "DEBUG:gpn:loaded embedding shape is: (1864, 1024)\n",
      "DEBUG:gpn:getting embedding from cache id=5fb27c61d8c9df1ed1236ee2 chs=ac723b444d86f7869ed57c2aa73ac1c1\n"
     ]
    },
    {
     "name": "stdout",
     "output_type": "stream",
     "text": [
      "257 6167d81a87f1d9065bb8b950\n"
     ]
    },
    {
     "name": "stderr",
     "output_type": "stream",
     "text": [
      "DEBUG:gpn:skipping embedding doc 0e12ea6bd5faf366fce0c9e0a24d4565 ...., /Users/artem/work/nemo/work/datasets/cache-0e12ea6bd5faf366fce0c9e0a24d4565-embeddings-ElmoEmbedder.npy exists, loading\n",
      "DEBUG:gpn:loaded embedding shape is: (4238, 1024)\n",
      "DEBUG:gpn:getting embedding from cache id=6167d81a87f1d9065bb8b950 chs=0e12ea6bd5faf366fce0c9e0a24d4565\n"
     ]
    },
    {
     "name": "stdout",
     "output_type": "stream",
     "text": [
      "258 5fdb2144542ce403c92b45e4\n"
     ]
    },
    {
     "name": "stderr",
     "output_type": "stream",
     "text": [
      "DEBUG:gpn:skipping embedding doc 1c3fad4ea2a4f98948251668cac676a4 ...., /Users/artem/work/nemo/work/datasets/cache-1c3fad4ea2a4f98948251668cac676a4-embeddings-ElmoEmbedder.npy exists, loading\n",
      "DEBUG:gpn:loaded embedding shape is: (3207, 1024)\n",
      "DEBUG:gpn:getting embedding from cache id=5fdb2144542ce403c92b45e4 chs=1c3fad4ea2a4f98948251668cac676a4\n"
     ]
    },
    {
     "name": "stdout",
     "output_type": "stream",
     "text": [
      "259 5fbbbd13a2b4551c061078c3\n"
     ]
    },
    {
     "name": "stderr",
     "output_type": "stream",
     "text": [
      "DEBUG:gpn:skipping embedding doc 988c3f464f32cb5e4b9fc69b39e62c04 ...., /Users/artem/work/nemo/work/datasets/cache-988c3f464f32cb5e4b9fc69b39e62c04-embeddings-ElmoEmbedder.npy exists, loading\n",
      "DEBUG:gpn:loaded embedding shape is: (3911, 1024)\n",
      "DEBUG:gpn:getting embedding from cache id=5fbbbd13a2b4551c061078c3 chs=988c3f464f32cb5e4b9fc69b39e62c04\n"
     ]
    },
    {
     "name": "stdout",
     "output_type": "stream",
     "text": [
      "260 60b7a4c4061c76d7754545ff\n"
     ]
    },
    {
     "name": "stderr",
     "output_type": "stream",
     "text": [
      "DEBUG:gpn:skipping embedding doc 25cf05abd1eee0adeefc4928daf1dcb8 ...., /Users/artem/work/nemo/work/datasets/cache-25cf05abd1eee0adeefc4928daf1dcb8-embeddings-ElmoEmbedder.npy exists, loading\n",
      "DEBUG:gpn:loaded embedding shape is: (3232, 1024)\n",
      "DEBUG:gpn:getting embedding from cache id=60b7a4c4061c76d7754545ff chs=25cf05abd1eee0adeefc4928daf1dcb8\n"
     ]
    },
    {
     "name": "stdout",
     "output_type": "stream",
     "text": [
      "261 60b7a591061c76d7754552b5\n"
     ]
    },
    {
     "name": "stderr",
     "output_type": "stream",
     "text": [
      "DEBUG:gpn:skipping embedding doc b92df005c1d9d8aa0c86c4f0ac809430 ...., /Users/artem/work/nemo/work/datasets/cache-b92df005c1d9d8aa0c86c4f0ac809430-embeddings-ElmoEmbedder.npy exists, loading\n",
      "DEBUG:gpn:loaded embedding shape is: (2308, 1024)\n",
      "DEBUG:gpn:getting embedding from cache id=60b7a591061c76d7754552b5 chs=b92df005c1d9d8aa0c86c4f0ac809430\n",
      "DEBUG:gpn:skipping embedding doc b4c76f93d9c3f786cc1677397f16d7c4 ...., /Users/artem/work/nemo/work/datasets/cache-b4c76f93d9c3f786cc1677397f16d7c4-embeddings-ElmoEmbedder.npy exists, loading\n",
      "DEBUG:gpn:loaded embedding shape is: (1150, 1024)\n",
      "DEBUG:gpn:getting embedding from cache id=5fb3d7a078df3635f5441d42 chs=b4c76f93d9c3f786cc1677397f16d7c4\n"
     ]
    },
    {
     "name": "stdout",
     "output_type": "stream",
     "text": [
      "262 5fb3d7a078df3635f5441d42\n",
      "263 5fdb2140542ce403c92b455c\n"
     ]
    },
    {
     "name": "stderr",
     "output_type": "stream",
     "text": [
      "DEBUG:gpn:skipping embedding doc 34520494b1271ca963ce5e9b524bc6f9 ...., /Users/artem/work/nemo/work/datasets/cache-34520494b1271ca963ce5e9b524bc6f9-embeddings-ElmoEmbedder.npy exists, loading\n",
      "DEBUG:gpn:loaded embedding shape is: (2015, 1024)\n",
      "DEBUG:gpn:getting embedding from cache id=5fdb2140542ce403c92b455c chs=34520494b1271ca963ce5e9b524bc6f9\n"
     ]
    },
    {
     "name": "stdout",
     "output_type": "stream",
     "text": [
      "264 60b7a591061c76d7754552b2\n"
     ]
    },
    {
     "name": "stderr",
     "output_type": "stream",
     "text": [
      "DEBUG:gpn:skipping embedding doc 979432b76715b7440129977c74c85b03 ...., /Users/artem/work/nemo/work/datasets/cache-979432b76715b7440129977c74c85b03-embeddings-ElmoEmbedder.npy exists, loading\n",
      "DEBUG:gpn:loaded embedding shape is: (1482, 1024)\n",
      "DEBUG:gpn:getting embedding from cache id=60b7a591061c76d7754552b2 chs=979432b76715b7440129977c74c85b03\n"
     ]
    },
    {
     "name": "stdout",
     "output_type": "stream",
     "text": [
      "265 60b7a53b061c76d775454e8f\n"
     ]
    },
    {
     "name": "stderr",
     "output_type": "stream",
     "text": [
      "DEBUG:gpn:skipping embedding doc 8c2cb158f027482bc9715709d8369b91 ...., /Users/artem/work/nemo/work/datasets/cache-8c2cb158f027482bc9715709d8369b91-embeddings-ElmoEmbedder.npy exists, loading\n",
      "DEBUG:gpn:loaded embedding shape is: (2718, 1024)\n",
      "DEBUG:gpn:getting embedding from cache id=60b7a53b061c76d775454e8f chs=8c2cb158f027482bc9715709d8369b91\n",
      "DEBUG:gpn:skipping embedding doc ef2796ab0c6db21911fc56bf9e951097 ...., /Users/artem/work/nemo/work/datasets/cache-ef2796ab0c6db21911fc56bf9e951097-embeddings-ElmoEmbedder.npy exists, loading\n"
     ]
    },
    {
     "name": "stdout",
     "output_type": "stream",
     "text": [
      "266 5fbbe46ba2b4551c06107bf4\n"
     ]
    },
    {
     "name": "stderr",
     "output_type": "stream",
     "text": [
      "DEBUG:gpn:loaded embedding shape is: (1503, 1024)\n",
      "DEBUG:gpn:getting embedding from cache id=5fbbe46ba2b4551c06107bf4 chs=ef2796ab0c6db21911fc56bf9e951097\n"
     ]
    },
    {
     "name": "stdout",
     "output_type": "stream",
     "text": [
      "267 5fdb213f542ce403c92b452a\n"
     ]
    },
    {
     "name": "stderr",
     "output_type": "stream",
     "text": [
      "DEBUG:gpn:skipping embedding doc 794fd8e698eb817ae67e4975e5d916e4 ...., /Users/artem/work/nemo/work/datasets/cache-794fd8e698eb817ae67e4975e5d916e4-embeddings-ElmoEmbedder.npy exists, loading\n",
      "DEBUG:gpn:loaded embedding shape is: (2377, 1024)\n",
      "DEBUG:gpn:getting embedding from cache id=5fdb213f542ce403c92b452a chs=794fd8e698eb817ae67e4975e5d916e4\n"
     ]
    },
    {
     "name": "stdout",
     "output_type": "stream",
     "text": [
      "268 5fe4821ab770574a00555637\n"
     ]
    },
    {
     "name": "stderr",
     "output_type": "stream",
     "text": [
      "DEBUG:gpn:skipping embedding doc 580363d2c3bebdcd38d4166515daf850 ...., /Users/artem/work/nemo/work/datasets/cache-580363d2c3bebdcd38d4166515daf850-embeddings-ElmoEmbedder.npy exists, loading\n",
      "DEBUG:gpn:loaded embedding shape is: (2618, 1024)\n",
      "DEBUG:gpn:getting embedding from cache id=5fe4821ab770574a00555637 chs=580363d2c3bebdcd38d4166515daf850\n",
      "DEBUG:gpn:skipping embedding doc 46c1bff76a702dad2aed0a2226fd5200 ...., /Users/artem/work/nemo/work/datasets/cache-46c1bff76a702dad2aed0a2226fd5200-embeddings-ElmoEmbedder.npy exists, loading\n",
      "DEBUG:gpn:loaded embedding shape is: (2249, 1024)\n",
      "DEBUG:gpn:getting embedding from cache id=5fb3d7a178df3635f5441d67 chs=46c1bff76a702dad2aed0a2226fd5200\n"
     ]
    },
    {
     "name": "stdout",
     "output_type": "stream",
     "text": [
      "ERROR 2 type 5fe4821ab770574a00555637 'type' [{'type': {'confidence': 1, 'span': [45, 49], 'span_map': 'words', 'value': 'Общество с ограниченной ответственностью'}, 'name': {'confidence': 1, 'span': [50, 56], 'span_map': 'words', 'value': 'Издательско-полиграфическое предприятие «Мастерская печати»'}, 'alias': {'confidence': 1, 'span': [61, 62], 'span_map': 'words', 'value': 'Подрядчик'}}, {'name': {'confidence': 1, 'span': [15, 20], 'span_map': 'words', 'value': 'Нотариальная палата Ямало-Ненецкого автономного округа'}, 'alias': {'confidence': 1, 'span': [25, 26], 'span_map': 'words', 'value': 'Заказчик'}}]\n",
      "269 5fb3d7a178df3635f5441d67\n"
     ]
    },
    {
     "name": "stderr",
     "output_type": "stream",
     "text": [
      "DEBUG:gpn:skipping embedding doc 537220ef4725c0cf07ae2729e3b455ff ...., /Users/artem/work/nemo/work/datasets/cache-537220ef4725c0cf07ae2729e3b455ff-embeddings-ElmoEmbedder.npy exists, loading\n",
      "DEBUG:gpn:loaded embedding shape is: (970, 1024)\n",
      "DEBUG:gpn:getting embedding from cache id=5fbbe46ca2b4551c06107c36 chs=537220ef4725c0cf07ae2729e3b455ff\n"
     ]
    },
    {
     "name": "stdout",
     "output_type": "stream",
     "text": [
      "270 5fbbe46ca2b4551c06107c36\n",
      "271 612cdb22ea1085618e02ff42\n"
     ]
    },
    {
     "name": "stderr",
     "output_type": "stream",
     "text": [
      "DEBUG:gpn:skipping embedding doc 3ded02b7c2bce3cdfcac96d5455ea691 ...., /Users/artem/work/nemo/work/datasets/cache-3ded02b7c2bce3cdfcac96d5455ea691-embeddings-ElmoEmbedder.npy exists, loading\n",
      "DEBUG:gpn:loaded embedding shape is: (8288, 1024)\n",
      "DEBUG:gpn:getting embedding from cache id=612cdb22ea1085618e02ff42 chs=3ded02b7c2bce3cdfcac96d5455ea691\n"
     ]
    },
    {
     "name": "stdout",
     "output_type": "stream",
     "text": [
      "ERROR 2 type 612cdb22ea1085618e02ff42 'type' [{'type': {'confidence': 1, 'kind': 'org-1-type', 'key': 'org-1-type', 'span': [318, 319], 'span_map': 'words', 'value': 'ОАО', 'changed': True, 'parent': ''}, 'name': {'confidence': 1, 'kind': 'org-1-name', 'key': 'org-1-name', 'span': [320, 322], 'span_map': 'words', 'value': 'Газпром нефть', 'changed': True, 'parent': ''}, 'alias': {'confidence': 1, 'kind': 'org-1-alias', 'key': 'org-1-alias', 'span': [386, 387], 'span_map': 'words', 'value': 'Клиент', 'changed': True, 'parent': ''}}, {'name': {'confidence': 1, 'kind': 'org-2-name', 'key': 'org-2-name', 'span': [395, 399], 'span_map': 'words', 'value': 'Клиффорд Чанс СНГ Лимитед', 'changed': True, 'parent': ''}, 'alias': {'confidence': 1, 'kind': 'org-2-alias', 'key': 'org-2-alias', 'span': [470, 471], 'span_map': 'words', 'value': 'Консультант', 'changed': True, 'parent': ''}}]\n",
      "272 5fdb213d542ce403c92b451d\n"
     ]
    },
    {
     "name": "stderr",
     "output_type": "stream",
     "text": [
      "DEBUG:gpn:skipping embedding doc 741c5390a497c14b25afe79b7f551488 ...., /Users/artem/work/nemo/work/datasets/cache-741c5390a497c14b25afe79b7f551488-embeddings-ElmoEmbedder.npy exists, loading\n",
      "DEBUG:gpn:loaded embedding shape is: (1528, 1024)\n",
      "DEBUG:gpn:getting embedding from cache id=5fdb213d542ce403c92b451d chs=741c5390a497c14b25afe79b7f551488\n",
      "DEBUG:gpn:skipping embedding doc c40002dc97141d63974e813facbcc1f2 ...., /Users/artem/work/nemo/work/datasets/cache-c40002dc97141d63974e813facbcc1f2-embeddings-ElmoEmbedder.npy exists, loading\n",
      "DEBUG:gpn:loaded embedding shape is: (1065, 1024)\n",
      "DEBUG:gpn:getting embedding from cache id=60b7a524061c76d775454d7c chs=c40002dc97141d63974e813facbcc1f2\n"
     ]
    },
    {
     "name": "stdout",
     "output_type": "stream",
     "text": [
      "273 60b7a524061c76d775454d7c\n",
      "ERROR 1 alias 60b7a524061c76d775454d7c 'alias' [{'type': {'confidence': 0.9664795398712158, 'kind': 'org-1-type', 'value': 'Общество с ограниченной ответственностью', 'span': [227, 231], 'span_map': 'words'}, 'name': {'confidence': 0.8399270176887512, 'kind': 'org-1-name', 'value': 'ТД «Шкуренко»', 'span': [232, 235], 'span_map': 'words'}}, {'type': {'confidence': 0.9521815776824951, 'kind': 'org-2-type', 'value': 'Общество с ограниченной ответственностью', 'span': [255, 259], 'span_map': 'words'}, 'name': {'confidence': 0.9402269124984741, 'kind': 'org-2-name', 'value': 'Газпромнефть-Каталитические системы', 'span': [260, 264], 'span_map': 'words'}, 'alias': {'confidence': 0.8715888857841492, 'kind': 'org-2-alias', 'value': 'Покупатель', 'span': [283, 284], 'span_map': 'words'}}]\n",
      "274 60b7a5a2061c76d77545540f\n"
     ]
    },
    {
     "name": "stderr",
     "output_type": "stream",
     "text": [
      "DEBUG:gpn:skipping embedding doc d45d5dc840691a6c86317198801793f2 ...., /Users/artem/work/nemo/work/datasets/cache-d45d5dc840691a6c86317198801793f2-embeddings-ElmoEmbedder.npy exists, loading\n",
      "DEBUG:gpn:loaded embedding shape is: (9000, 1024)\n",
      "DEBUG:gpn:getting embedding from cache id=60b7a5a2061c76d77545540f chs=d45d5dc840691a6c86317198801793f2\n"
     ]
    },
    {
     "name": "stdout",
     "output_type": "stream",
     "text": [
      "275 5ec2b8da665f7603e03b127e\n"
     ]
    },
    {
     "name": "stderr",
     "output_type": "stream",
     "text": [
      "DEBUG:gpn:skipping embedding doc 71d364cbfd07a7a940a8d7de159e1229 ...., /Users/artem/work/nemo/work/datasets/cache-71d364cbfd07a7a940a8d7de159e1229-embeddings-ElmoEmbedder.npy exists, loading\n",
      "DEBUG:gpn:loaded embedding shape is: (4766, 1024)\n",
      "DEBUG:gpn:getting embedding from cache id=5ec2b8da665f7603e03b127e chs=71d364cbfd07a7a940a8d7de159e1229\n",
      "DEBUG:gpn:skipping embedding doc 70ebce5d7585f9f2c69bdaef09fb5848 ...., /Users/artem/work/nemo/work/datasets/cache-70ebce5d7585f9f2c69bdaef09fb5848-embeddings-ElmoEmbedder.npy exists, loading\n",
      "DEBUG:gpn:loaded embedding shape is: (1146, 1024)\n",
      "DEBUG:gpn:getting embedding from cache id=60b7a5a6061c76d77545545b chs=70ebce5d7585f9f2c69bdaef09fb5848\n"
     ]
    },
    {
     "name": "stdout",
     "output_type": "stream",
     "text": [
      "ERROR 2 alias 5ec2b8da665f7603e03b127e 'alias' [{'type': {'confidence': 0.966, 'span': [68, 72], 'span_map': 'words', 'value': 'Общество с ограниченной ответственностью'}, 'name': {'confidence': 0.9635, 'span': [73, 76], 'span_map': 'words', 'value': 'Газпромнефть Марин Бункер'}, 'alias': {'confidence': 0.959, 'span': [82, 83], 'span_map': 'words', 'value': 'Принципал'}}, {'type': {'confidence': 0.220575, 'span': [1135, 1136], 'span_map': 'words', 'value': 'Публичное акционерное общество'}, 'name': {'confidence': 0.4315, 'span': [1137, 1139], 'span_map': 'words', 'value': 'Газпром нефть'}}]\n",
      "276 60b7a5a6061c76d77545545b\n",
      "277 6166dbc387f1d9065bb8b937\n"
     ]
    },
    {
     "name": "stderr",
     "output_type": "stream",
     "text": [
      "DEBUG:gpn:skipping embedding doc c819bddd407d4a4be2e96a7f923f1f42 ...., /Users/artem/work/nemo/work/datasets/cache-c819bddd407d4a4be2e96a7f923f1f42-embeddings-ElmoEmbedder.npy exists, loading\n",
      "DEBUG:gpn:loaded embedding shape is: (932, 1024)\n",
      "DEBUG:gpn:getting embedding from cache id=6166dbc387f1d9065bb8b937 chs=c819bddd407d4a4be2e96a7f923f1f42\n"
     ]
    },
    {
     "name": "stdout",
     "output_type": "stream",
     "text": [
      "278 60b7a598061c76d775455348\n"
     ]
    },
    {
     "name": "stderr",
     "output_type": "stream",
     "text": [
      "DEBUG:gpn:skipping embedding doc ed09729c8e9dc549ccde773636c59558 ...., /Users/artem/work/nemo/work/datasets/cache-ed09729c8e9dc549ccde773636c59558-embeddings-ElmoEmbedder.npy exists, loading\n",
      "DEBUG:gpn:loaded embedding shape is: (3277, 1024)\n",
      "DEBUG:gpn:getting embedding from cache id=60b7a598061c76d775455348 chs=ed09729c8e9dc549ccde773636c59558\n"
     ]
    },
    {
     "name": "stdout",
     "output_type": "stream",
     "text": [
      "ERROR 2 alias 60b7a598061c76d775455348 'alias' [{'type': {'confidence': 0.9775573015213013, 'kind': 'org-1-type', 'value': 'Общество с ограниченной ответственностью', 'span': [35, 39], 'span_map': 'words'}, 'name': {'confidence': 0.9547948241233826, 'kind': 'org-1-name', 'value': 'Энерком', 'span': [40, 41], 'span_map': 'words'}, 'alias': {'confidence': 0.9400012493133545, 'kind': 'org-1-alias', 'value': 'Заказчик', 'span': [53, 54], 'span_map': 'words'}}, {'type': {'confidence': 0.9612089991569519, 'kind': 'org-2-type', 'value': 'Общество с ограниченной ответственностью', 'span': [74, 78], 'span_map': 'words'}, 'name': {'confidence': 0.9062222838401794, 'kind': 'org-2-name', 'value': 'ВНИГНИ-2', 'span': [79, 80], 'span_map': 'words'}}]\n",
      "279 60b7a518061c76d775454c82\n"
     ]
    },
    {
     "name": "stderr",
     "output_type": "stream",
     "text": [
      "DEBUG:gpn:skipping embedding doc 7b94fcf3ed5383d4492cdc028ebfc51d ...., /Users/artem/work/nemo/work/datasets/cache-7b94fcf3ed5383d4492cdc028ebfc51d-embeddings-ElmoEmbedder.npy exists, loading\n",
      "DEBUG:gpn:loaded embedding shape is: (3498, 1024)\n",
      "DEBUG:gpn:getting embedding from cache id=60b7a518061c76d775454c82 chs=7b94fcf3ed5383d4492cdc028ebfc51d\n"
     ]
    },
    {
     "name": "stdout",
     "output_type": "stream",
     "text": [
      "280 5ec2b8d9665f7603e03b1234\n"
     ]
    },
    {
     "name": "stderr",
     "output_type": "stream",
     "text": [
      "DEBUG:gpn:skipping embedding doc 0f126b1af44e28ef7bf6088782e7aae9 ...., /Users/artem/work/nemo/work/datasets/cache-0f126b1af44e28ef7bf6088782e7aae9-embeddings-ElmoEmbedder.npy exists, loading\n",
      "DEBUG:gpn:loaded embedding shape is: (1578, 1024)\n",
      "DEBUG:gpn:getting embedding from cache id=5ec2b8d9665f7603e03b1234 chs=0f126b1af44e28ef7bf6088782e7aae9\n"
     ]
    },
    {
     "name": "stdout",
     "output_type": "stream",
     "text": [
      "ERROR 2 name 5ec2b8d9665f7603e03b1234 list index out of range [{'type': {'confidence': 0.5054752851711026, 'span': [14, 15], 'span_map': 'words', 'value': 'Общество с ограниченной ответственностью'}, 'name': {'confidence': 0.9898605830164765, 'span': [16, 19], 'span_map': 'words', 'value': 'Газпромнефть Марин Бункер'}, 'alias': {'confidence': 0.9759188846641318, 'span': [38, 39], 'span_map': 'words', 'value': 'Спонсор'}}]\n",
      "ERROR 2 alias 5ec2b8d9665f7603e03b1234 list index out of range [{'type': {'confidence': 0.5054752851711026, 'span': [14, 15], 'span_map': 'words', 'value': 'Общество с ограниченной ответственностью'}, 'name': {'confidence': 0.9898605830164765, 'span': [16, 19], 'span_map': 'words', 'value': 'Газпромнефть Марин Бункер'}, 'alias': {'confidence': 0.9759188846641318, 'span': [38, 39], 'span_map': 'words', 'value': 'Спонсор'}}]\n",
      "ERROR 2 type 5ec2b8d9665f7603e03b1234 list index out of range [{'type': {'confidence': 0.5054752851711026, 'span': [14, 15], 'span_map': 'words', 'value': 'Общество с ограниченной ответственностью'}, 'name': {'confidence': 0.9898605830164765, 'span': [16, 19], 'span_map': 'words', 'value': 'Газпромнефть Марин Бункер'}, 'alias': {'confidence': 0.9759188846641318, 'span': [38, 39], 'span_map': 'words', 'value': 'Спонсор'}}]\n",
      "281 5fe48217b770574a00555577\n"
     ]
    },
    {
     "name": "stderr",
     "output_type": "stream",
     "text": [
      "DEBUG:gpn:skipping embedding doc 290f753765741ce3e9c5c4066ff6b822 ...., /Users/artem/work/nemo/work/datasets/cache-290f753765741ce3e9c5c4066ff6b822-embeddings-ElmoEmbedder.npy exists, loading\n",
      "DEBUG:gpn:loaded embedding shape is: (1719, 1024)\n",
      "DEBUG:gpn:getting embedding from cache id=5fe48217b770574a00555577 chs=290f753765741ce3e9c5c4066ff6b822\n"
     ]
    },
    {
     "name": "stdout",
     "output_type": "stream",
     "text": [
      "282 5fb3d7a478df3635f5441db5\n"
     ]
    },
    {
     "name": "stderr",
     "output_type": "stream",
     "text": [
      "DEBUG:gpn:skipping embedding doc 9f6453a0d248e33f9295ac54de910eaa ...., /Users/artem/work/nemo/work/datasets/cache-9f6453a0d248e33f9295ac54de910eaa-embeddings-ElmoEmbedder.npy exists, loading\n",
      "DEBUG:gpn:loaded embedding shape is: (1712, 1024)\n",
      "DEBUG:gpn:getting embedding from cache id=5fb3d7a478df3635f5441db5 chs=9f6453a0d248e33f9295ac54de910eaa\n"
     ]
    },
    {
     "name": "stdout",
     "output_type": "stream",
     "text": [
      "283 5fbbbd1ca2b4551c06107a58\n"
     ]
    },
    {
     "name": "stderr",
     "output_type": "stream",
     "text": [
      "DEBUG:gpn:skipping embedding doc 360fb6dded1df799053cee90d55c579c ...., /Users/artem/work/nemo/work/datasets/cache-360fb6dded1df799053cee90d55c579c-embeddings-ElmoEmbedder.npy exists, loading\n",
      "DEBUG:gpn:loaded embedding shape is: (4198, 1024)\n",
      "DEBUG:gpn:getting embedding from cache id=5fbbbd1ca2b4551c06107a58 chs=360fb6dded1df799053cee90d55c579c\n"
     ]
    },
    {
     "name": "stdout",
     "output_type": "stream",
     "text": [
      "ERROR 2 name 5fbbbd1ca2b4551c06107a58 'name' [{'type': {'confidence': 0.9768145084381104, 'span': [57, 59], 'span_map': 'words', 'value': 'Акционерное общество'}, 'name': {'confidence': 0.7928369045257568, 'span': [60, 62], 'span_map': 'words', 'value': 'Арктика Медиа'}, 'alias': {'confidence': 0.43129095435142517, 'span': [68, 69], 'span_map': 'words', 'value': 'Исполнитель'}}, {'alias': {'confidence': 0.6709421277046204, 'span': [27, 28], 'span_map': 'words', 'value': 'Заказчик'}}]\n",
      "ERROR 2 type 5fbbbd1ca2b4551c06107a58 'type' [{'type': {'confidence': 0.9768145084381104, 'span': [57, 59], 'span_map': 'words', 'value': 'Акционерное общество'}, 'name': {'confidence': 0.7928369045257568, 'span': [60, 62], 'span_map': 'words', 'value': 'Арктика Медиа'}, 'alias': {'confidence': 0.43129095435142517, 'span': [68, 69], 'span_map': 'words', 'value': 'Исполнитель'}}, {'alias': {'confidence': 0.6709421277046204, 'span': [27, 28], 'span_map': 'words', 'value': 'Заказчик'}}]\n",
      "284 60b7a509061c76d775454b51\n"
     ]
    },
    {
     "name": "stderr",
     "output_type": "stream",
     "text": [
      "DEBUG:gpn:skipping embedding doc 1c005f6707e2165baca6f507f752e40e ...., /Users/artem/work/nemo/work/datasets/cache-1c005f6707e2165baca6f507f752e40e-embeddings-ElmoEmbedder.npy exists, loading\n",
      "DEBUG:gpn:loaded embedding shape is: (21837, 1024)\n",
      "DEBUG:gpn:getting embedding from cache id=60b7a509061c76d775454b51 chs=1c005f6707e2165baca6f507f752e40e\n"
     ]
    },
    {
     "name": "stdout",
     "output_type": "stream",
     "text": [
      "ERROR 2 name 60b7a509061c76d775454b51 'name' [{'type': {'confidence': 0.5377114415168762, 'kind': 'org-1-type', 'value': 'Общество с ограниченной ответственностью', 'span': [21, 25], 'span_map': 'words'}, 'name': {'confidence': 0.783967912197113, 'kind': 'org-1-name', 'value': 'СИБУР Тольятти', 'span': [26, 28], 'span_map': 'words'}, 'alias': {'confidence': 0.5723224878311157, 'kind': 'org-1-alias', 'value': 'Покупатель', 'span': [41, 42], 'span_map': 'words'}}, {'type': {'confidence': 0.15527281165122986, 'kind': 'org-2-type', 'value': 'ответственностью', 'span': [9636, 9637], 'span_map': 'words'}, 'alias': {'confidence': 0.33988234400749207, 'kind': 'org-2-alias', 'value': 'Покупатель', 'span': [9652, 9653], 'span_map': 'words'}}]\n",
      "285 612cdb1dea1085618e02fede\n"
     ]
    },
    {
     "name": "stderr",
     "output_type": "stream",
     "text": [
      "DEBUG:gpn:skipping embedding doc 9cd4b1020719eec68bf7b6efb7acdb82 ...., /Users/artem/work/nemo/work/datasets/cache-9cd4b1020719eec68bf7b6efb7acdb82-embeddings-ElmoEmbedder.npy exists, loading\n",
      "DEBUG:gpn:loaded embedding shape is: (4587, 1024)\n",
      "DEBUG:gpn:getting embedding from cache id=612cdb1dea1085618e02fede chs=9cd4b1020719eec68bf7b6efb7acdb82\n"
     ]
    },
    {
     "name": "stdout",
     "output_type": "stream",
     "text": [
      "ERROR 2 name 612cdb1dea1085618e02fede 'name' [{'type': {'confidence': 1, 'kind': 'org-1-type', 'key': 'org-1-type', 'span': [42, 45], 'span_map': 'words', 'value': 'Публичное акционерное общество', 'changed': True, 'parent': ''}, 'name': {'confidence': 1, 'kind': 'org-1-name', 'key': 'org-1-name', 'span': [46, 48], 'span_map': 'words', 'value': 'Газпром нефть', 'changed': True, 'parent': ''}, 'alias': {'confidence': 1, 'kind': 'org-1-alias', 'key': 'org-1-alias', 'span': [54, 55], 'span_map': 'words', 'value': 'Заказчик', 'changed': True, 'parent': ''}}, {'type': {'confidence': 1, 'kind': 'org-2-type', 'key': 'org-2-type', 'span': [18, 20], 'span_map': 'words', 'value': 'Акционерное общество', 'changed': True, 'parent': ''}, 'alias': {'confidence': 1, 'kind': 'org-2-alias', 'key': 'org-2-alias', 'span': [26, 27], 'span_map': 'words', 'value': 'Агентство', 'changed': True, 'parent': ''}}]\n",
      "286 60b7a5b2061c76d77545552d\n"
     ]
    },
    {
     "name": "stderr",
     "output_type": "stream",
     "text": [
      "DEBUG:gpn:skipping embedding doc 9f3c6d045b3ad008b49cac7d03a6a78c ...., /Users/artem/work/nemo/work/datasets/cache-9f3c6d045b3ad008b49cac7d03a6a78c-embeddings-ElmoEmbedder.npy exists, loading\n",
      "DEBUG:gpn:loaded embedding shape is: (2328, 1024)\n",
      "DEBUG:gpn:getting embedding from cache id=60b7a5b2061c76d77545552d chs=9f3c6d045b3ad008b49cac7d03a6a78c\n",
      "DEBUG:gpn:skipping embedding doc dbbb7c8b67277b6fc8d13b481484307e ...., /Users/artem/work/nemo/work/datasets/cache-dbbb7c8b67277b6fc8d13b481484307e-embeddings-ElmoEmbedder.npy exists, loading\n"
     ]
    },
    {
     "name": "stdout",
     "output_type": "stream",
     "text": [
      "287 60b7a591061c76d77545529b\n"
     ]
    },
    {
     "name": "stderr",
     "output_type": "stream",
     "text": [
      "DEBUG:gpn:loaded embedding shape is: (2332, 1024)\n",
      "DEBUG:gpn:getting embedding from cache id=60b7a591061c76d77545529b chs=dbbb7c8b67277b6fc8d13b481484307e\n"
     ]
    },
    {
     "name": "stdout",
     "output_type": "stream",
     "text": [
      "288 612cdb2bea1085618e02ffd2\n"
     ]
    },
    {
     "name": "stderr",
     "output_type": "stream",
     "text": [
      "DEBUG:gpn:skipping embedding doc ff661d4dd0ac0eda0163cab2de660193 ...., /Users/artem/work/nemo/work/datasets/cache-ff661d4dd0ac0eda0163cab2de660193-embeddings-ElmoEmbedder.npy exists, loading\n",
      "DEBUG:gpn:loaded embedding shape is: (2526, 1024)\n",
      "DEBUG:gpn:getting embedding from cache id=612cdb2bea1085618e02ffd2 chs=ff661d4dd0ac0eda0163cab2de660193\n",
      "DEBUG:gpn:skipping embedding doc 99ed114baaaba64b7ec7e7b3958d60fe ...., /Users/artem/work/nemo/work/datasets/cache-99ed114baaaba64b7ec7e7b3958d60fe-embeddings-ElmoEmbedder.npy exists, loading\n",
      "DEBUG:gpn:loaded embedding shape is: (810, 1024)\n",
      "DEBUG:gpn:getting embedding from cache id=5ec2b8d8665f7603e03b121c chs=99ed114baaaba64b7ec7e7b3958d60fe\n"
     ]
    },
    {
     "name": "stdout",
     "output_type": "stream",
     "text": [
      "289 5ec2b8d8665f7603e03b121c\n",
      "ERROR 2 name 5ec2b8d8665f7603e03b121c list index out of range [{'type': {'confidence': 0.49803703703703706, 'span': [19, 20], 'span_map': 'words', 'value': 'Общество с ограниченной ответственностью'}, 'name': {'confidence': 0.9740740740740741, 'span': [21, 23], 'span_map': 'words', 'value': 'Газпромнефть-Региональные продажи'}, 'alias': {'confidence': 0.9641975308641976, 'span': [29, 30], 'span_map': 'words', 'value': 'Благотворитель'}}]\n",
      "ERROR 2 alias 5ec2b8d8665f7603e03b121c list index out of range [{'type': {'confidence': 0.49803703703703706, 'span': [19, 20], 'span_map': 'words', 'value': 'Общество с ограниченной ответственностью'}, 'name': {'confidence': 0.9740740740740741, 'span': [21, 23], 'span_map': 'words', 'value': 'Газпромнефть-Региональные продажи'}, 'alias': {'confidence': 0.9641975308641976, 'span': [29, 30], 'span_map': 'words', 'value': 'Благотворитель'}}]\n",
      "ERROR 2 type 5ec2b8d8665f7603e03b121c list index out of range [{'type': {'confidence': 0.49803703703703706, 'span': [19, 20], 'span_map': 'words', 'value': 'Общество с ограниченной ответственностью'}, 'name': {'confidence': 0.9740740740740741, 'span': [21, 23], 'span_map': 'words', 'value': 'Газпромнефть-Региональные продажи'}, 'alias': {'confidence': 0.9641975308641976, 'span': [29, 30], 'span_map': 'words', 'value': 'Благотворитель'}}]\n",
      "290 5fb3b9b900881c332b5674a3\n"
     ]
    },
    {
     "name": "stderr",
     "output_type": "stream",
     "text": [
      "DEBUG:gpn:skipping embedding doc 9b867cdc3672f7e0ee240ab5b7b12b7c ...., /Users/artem/work/nemo/work/datasets/cache-9b867cdc3672f7e0ee240ab5b7b12b7c-embeddings-ElmoEmbedder.npy exists, loading\n",
      "DEBUG:gpn:loaded embedding shape is: (4727, 1024)\n",
      "DEBUG:gpn:getting embedding from cache id=5fb3b9b900881c332b5674a3 chs=9b867cdc3672f7e0ee240ab5b7b12b7c\n"
     ]
    },
    {
     "name": "stdout",
     "output_type": "stream",
     "text": [
      "ERROR 1 alias 5fb3b9b900881c332b5674a3 'alias' [{'type': {'confidence': 0.9999998807907104, 'span': [281, 285], 'span_map': 'words', 'value': 'Общество с ограниченной ответственностью'}, 'name': {'confidence': 0.9577944278717041, 'span': [286, 287], 'span_map': 'words', 'value': 'Газпромнефть-Оренбург'}}, {'type': {'confidence': 0.9993597269058228, 'span': [322, 326], 'span_map': 'words', 'value': 'Общество с ограниченной ответственностью'}, 'name': {'confidence': 0.9405326247215271, 'span': [327, 330], 'span_map': 'words', 'value': 'Информационнотехнологическая сервисная компания'}, 'alias': {'confidence': 0.33110615611076355, 'span': [342, 343], 'span_map': 'words', 'value': 'Исполнитель'}}]\n",
      "291 5fbbe46ca2b4551c06107c24\n"
     ]
    },
    {
     "name": "stderr",
     "output_type": "stream",
     "text": [
      "DEBUG:gpn:skipping embedding doc fd266efc5518619b7fb7fef85c007659 ...., /Users/artem/work/nemo/work/datasets/cache-fd266efc5518619b7fb7fef85c007659-embeddings-ElmoEmbedder.npy exists, loading\n",
      "DEBUG:gpn:loaded embedding shape is: (5238, 1024)\n",
      "DEBUG:gpn:getting embedding from cache id=5fbbe46ca2b4551c06107c24 chs=fd266efc5518619b7fb7fef85c007659\n"
     ]
    },
    {
     "name": "stdout",
     "output_type": "stream",
     "text": [
      "292 612cdb20ea1085618e02ff13\n"
     ]
    },
    {
     "name": "stderr",
     "output_type": "stream",
     "text": [
      "DEBUG:gpn:skipping embedding doc afb76f663e9e94ad8ac0ca391eb43490 ...., /Users/artem/work/nemo/work/datasets/cache-afb76f663e9e94ad8ac0ca391eb43490-embeddings-ElmoEmbedder.npy exists, loading\n",
      "DEBUG:gpn:loaded embedding shape is: (4511, 1024)\n",
      "DEBUG:gpn:getting embedding from cache id=612cdb20ea1085618e02ff13 chs=afb76f663e9e94ad8ac0ca391eb43490\n"
     ]
    },
    {
     "name": "stdout",
     "output_type": "stream",
     "text": [
      "ERROR 2 name 612cdb20ea1085618e02ff13 'name' [{'type': {'confidence': 1, 'kind': 'org-1-type', 'key': 'org-1-type', 'span': [38, 41], 'span_map': 'words', 'value': 'Публичное акционерное общество', 'changed': True, 'parent': ''}, 'name': {'confidence': 1, 'kind': 'org-1-name', 'key': 'org-1-name', 'span': [42, 44], 'span_map': 'words', 'value': 'Газпром нефть', 'changed': True, 'parent': ''}, 'alias': {'confidence': 1, 'kind': 'org-1-alias', 'key': 'org-1-alias', 'span': [50, 51], 'span_map': 'words', 'value': 'Поручитель', 'changed': True, 'parent': ''}}, {'alias': {'confidence': 1, 'kind': 'org-2-alias', 'key': 'org-2-alias', 'span': [27, 28], 'span_map': 'words', 'value': 'Банк', 'changed': True, 'parent': ''}}]\n",
      "ERROR 2 type 612cdb20ea1085618e02ff13 'type' [{'type': {'confidence': 1, 'kind': 'org-1-type', 'key': 'org-1-type', 'span': [38, 41], 'span_map': 'words', 'value': 'Публичное акционерное общество', 'changed': True, 'parent': ''}, 'name': {'confidence': 1, 'kind': 'org-1-name', 'key': 'org-1-name', 'span': [42, 44], 'span_map': 'words', 'value': 'Газпром нефть', 'changed': True, 'parent': ''}, 'alias': {'confidence': 1, 'kind': 'org-1-alias', 'key': 'org-1-alias', 'span': [50, 51], 'span_map': 'words', 'value': 'Поручитель', 'changed': True, 'parent': ''}}, {'alias': {'confidence': 1, 'kind': 'org-2-alias', 'key': 'org-2-alias', 'span': [27, 28], 'span_map': 'words', 'value': 'Банк', 'changed': True, 'parent': ''}}]\n",
      "293 5fb3d7a878df3635f5441e9d\n"
     ]
    },
    {
     "name": "stderr",
     "output_type": "stream",
     "text": [
      "DEBUG:gpn:skipping embedding doc c81c9d448fd1757555faaacfb9d1958a ...., /Users/artem/work/nemo/work/datasets/cache-c81c9d448fd1757555faaacfb9d1958a-embeddings-ElmoEmbedder.npy exists, loading\n",
      "DEBUG:gpn:loaded embedding shape is: (5429, 1024)\n",
      "DEBUG:gpn:getting embedding from cache id=5fb3d7a878df3635f5441e9d chs=c81c9d448fd1757555faaacfb9d1958a\n"
     ]
    },
    {
     "name": "stdout",
     "output_type": "stream",
     "text": [
      "ERROR 2 name 5fb3d7a878df3635f5441e9d 'name' [{'type': {'confidence': 0.6552774906158447, 'span': [58, 62], 'span_map': 'words', 'value': 'Общество с ограниченной ответственностью'}, 'name': {'confidence': 0.4621010422706604, 'span': [63, 68], 'span_map': 'words', 'value': 'Издательско-полиграфическое предприятие «Мастерская печати»'}, 'alias': {'confidence': 0.8453474640846252, 'span': [74, 75], 'span_map': 'words', 'value': 'Подрядчик'}}, {'alias': {'confidence': 0.6158354878425598, 'span': [14, 15], 'span_map': 'words', 'value': 'Заказчик'}}]\n",
      "ERROR 2 type 5fb3d7a878df3635f5441e9d 'type' [{'type': {'confidence': 0.6552774906158447, 'span': [58, 62], 'span_map': 'words', 'value': 'Общество с ограниченной ответственностью'}, 'name': {'confidence': 0.4621010422706604, 'span': [63, 68], 'span_map': 'words', 'value': 'Издательско-полиграфическое предприятие «Мастерская печати»'}, 'alias': {'confidence': 0.8453474640846252, 'span': [74, 75], 'span_map': 'words', 'value': 'Подрядчик'}}, {'alias': {'confidence': 0.6158354878425598, 'span': [14, 15], 'span_map': 'words', 'value': 'Заказчик'}}]\n",
      "294 5fb6750833c72547b75500dc\n"
     ]
    },
    {
     "name": "stderr",
     "output_type": "stream",
     "text": [
      "DEBUG:gpn:skipping embedding doc a0e4bc3237407a737b3acef07db462d2 ...., /Users/artem/work/nemo/work/datasets/cache-a0e4bc3237407a737b3acef07db462d2-embeddings-ElmoEmbedder.npy exists, loading\n",
      "DEBUG:gpn:loaded embedding shape is: (3137, 1024)\n",
      "DEBUG:gpn:getting embedding from cache id=5fb6750833c72547b75500dc chs=a0e4bc3237407a737b3acef07db462d2\n"
     ]
    },
    {
     "name": "stdout",
     "output_type": "stream",
     "text": [
      "295 5fdb2140542ce403c92b4549\n"
     ]
    },
    {
     "name": "stderr",
     "output_type": "stream",
     "text": [
      "DEBUG:gpn:skipping embedding doc 12dea1dbfd86b16dd8501c13fcb7ef88 ...., /Users/artem/work/nemo/work/datasets/cache-12dea1dbfd86b16dd8501c13fcb7ef88-embeddings-ElmoEmbedder.npy exists, loading\n",
      "DEBUG:gpn:loaded embedding shape is: (4025, 1024)\n",
      "DEBUG:gpn:getting embedding from cache id=5fdb2140542ce403c92b4549 chs=12dea1dbfd86b16dd8501c13fcb7ef88\n",
      "DEBUG:gpn:skipping embedding doc 1775ac8122d39314d9d8c7e8c0c03437 ...., /Users/artem/work/nemo/work/datasets/cache-1775ac8122d39314d9d8c7e8c0c03437-embeddings-ElmoEmbedder.npy exists, loading\n",
      "DEBUG:gpn:loaded embedding shape is: (774, 1024)\n",
      "DEBUG:gpn:getting embedding from cache id=60b7a4cc061c76d7754546b0 chs=1775ac8122d39314d9d8c7e8c0c03437\n"
     ]
    },
    {
     "name": "stdout",
     "output_type": "stream",
     "text": [
      "296 60b7a4cc061c76d7754546b0\n",
      "ERROR 1 name 60b7a4cc061c76d7754546b0 list index out of range []\n",
      "ERROR 1 alias 60b7a4cc061c76d7754546b0 list index out of range []\n",
      "ERROR 1 type 60b7a4cc061c76d7754546b0 list index out of range []\n",
      "ERROR 2 name 60b7a4cc061c76d7754546b0 list index out of range []\n",
      "ERROR 2 alias 60b7a4cc061c76d7754546b0 list index out of range []\n",
      "ERROR 2 type 60b7a4cc061c76d7754546b0 list index out of range []\n",
      "297 5fb3d7a578df3635f5441de1\n"
     ]
    },
    {
     "name": "stderr",
     "output_type": "stream",
     "text": [
      "DEBUG:gpn:skipping embedding doc 556589817852b271cf879c77192d3b7d ...., /Users/artem/work/nemo/work/datasets/cache-556589817852b271cf879c77192d3b7d-embeddings-ElmoEmbedder.npy exists, loading\n",
      "DEBUG:gpn:loaded embedding shape is: (4339, 1024)\n",
      "DEBUG:gpn:getting embedding from cache id=5fb3d7a578df3635f5441de1 chs=556589817852b271cf879c77192d3b7d\n",
      "DEBUG:gpn:skipping embedding doc 727b654f69407882d2309085abd54377 ...., /Users/artem/work/nemo/work/datasets/cache-727b654f69407882d2309085abd54377-embeddings-ElmoEmbedder.npy exists, loading\n",
      "DEBUG:gpn:loaded embedding shape is: (1850, 1024)\n",
      "DEBUG:gpn:getting embedding from cache id=60b7a4d4061c76d775454751 chs=727b654f69407882d2309085abd54377\n"
     ]
    },
    {
     "name": "stdout",
     "output_type": "stream",
     "text": [
      "ERROR 2 name 5fb3d7a578df3635f5441de1 'name' [{'type': {'confidence': 0.9880913496017456, 'span': [104, 108], 'span_map': 'words', 'value': 'Общество с ограниченной ответственностью'}, 'name': {'confidence': 0.9379163980484009, 'span': [109, 114], 'span_map': 'words', 'value': 'Издательско-полиграфическое предприятие «Мастерская печати»'}, 'alias': {'confidence': 0.8349499702453613, 'span': [120, 121], 'span_map': 'words', 'value': 'Исполнитель'}}, {'type': {'confidence': 0.42946237325668335, 'span': [39, 40], 'span_map': 'words', 'value': 'Территориальная'}, 'alias': {'confidence': 0.6784231662750244, 'span': [49, 50], 'span_map': 'words', 'value': 'Заказчик'}}]\n",
      "298 60b7a4d4061c76d775454751\n",
      "ERROR 1 alias 60b7a4d4061c76d775454751 'alias' [{'type': {'confidence': 0.9554255604743958, 'kind': 'org-1-type', 'value': 'Акционерное общество', 'span': [20, 22], 'span_map': 'words'}, 'name': {'confidence': 0.9746905565261841, 'kind': 'org-1-name', 'value': 'ФРЕЙТ ЛИНК', 'span': [23, 25], 'span_map': 'words'}}, {'name': {'confidence': 0.5076016783714294, 'kind': 'org-2-name', 'value': 'Газпромнефть-Каталитические системы', 'span': [68, 70], 'span_map': 'words'}, 'alias': {'confidence': 0.3007272779941559, 'kind': 'org-2-alias', 'value': 'Заказчик', 'span': [75, 76], 'span_map': 'words'}}]\n",
      "ERROR 2 type 60b7a4d4061c76d775454751 'type' [{'type': {'confidence': 0.9554255604743958, 'kind': 'org-1-type', 'value': 'Акционерное общество', 'span': [20, 22], 'span_map': 'words'}, 'name': {'confidence': 0.9746905565261841, 'kind': 'org-1-name', 'value': 'ФРЕЙТ ЛИНК', 'span': [23, 25], 'span_map': 'words'}}, {'name': {'confidence': 0.5076016783714294, 'kind': 'org-2-name', 'value': 'Газпромнефть-Каталитические системы', 'span': [68, 70], 'span_map': 'words'}, 'alias': {'confidence': 0.3007272779941559, 'kind': 'org-2-alias', 'value': 'Заказчик', 'span': [75, 76], 'span_map': 'words'}}]\n",
      "299 5fbbe469a2b4551c06107b70\n"
     ]
    },
    {
     "name": "stderr",
     "output_type": "stream",
     "text": [
      "DEBUG:gpn:skipping embedding doc 7bddf92ef3fc8ded54c40d37c023b2a6 ...., /Users/artem/work/nemo/work/datasets/cache-7bddf92ef3fc8ded54c40d37c023b2a6-embeddings-ElmoEmbedder.npy exists, loading\n",
      "DEBUG:gpn:loaded embedding shape is: (1878, 1024)\n",
      "DEBUG:gpn:getting embedding from cache id=5fbbe469a2b4551c06107b70 chs=7bddf92ef3fc8ded54c40d37c023b2a6\n"
     ]
    },
    {
     "name": "stdout",
     "output_type": "stream",
     "text": [
      "300 60b7a4c1061c76d7754545aa\n"
     ]
    },
    {
     "name": "stderr",
     "output_type": "stream",
     "text": [
      "DEBUG:gpn:skipping embedding doc 61669d3b4d96dcc4a2c8b73549eaaa78 ...., /Users/artem/work/nemo/work/datasets/cache-61669d3b4d96dcc4a2c8b73549eaaa78-embeddings-ElmoEmbedder.npy exists, loading\n",
      "DEBUG:gpn:loaded embedding shape is: (9313, 1024)\n",
      "DEBUG:gpn:getting embedding from cache id=60b7a4c1061c76d7754545aa chs=61669d3b4d96dcc4a2c8b73549eaaa78\n"
     ]
    },
    {
     "name": "stdout",
     "output_type": "stream",
     "text": [
      "ERROR 1 alias 60b7a4c1061c76d7754545aa 'alias' [{'type': {'confidence': 0.9517181515693665, 'kind': 'org-1-type', 'value': 'Общество с ограниченной ответственностью', 'span': [20, 24], 'span_map': 'words'}, 'name': {'confidence': 0.9915412068367004, 'kind': 'org-1-name', 'value': 'Газпромнефть Каталитические системы', 'span': [25, 28], 'span_map': 'words'}}, {'type': {'confidence': 0.9513978958129883, 'kind': 'org-2-type', 'value': 'Общество с ограниченной ответственностью', 'span': [60, 64], 'span_map': 'words'}, 'name': {'confidence': 0.9407818913459778, 'kind': 'org-2-name', 'value': 'Завод редких металлов', 'span': [65, 68], 'span_map': 'words'}, 'alias': {'confidence': 0.8163365125656128, 'kind': 'org-2-alias', 'value': 'Поставщик', 'span': [82, 83], 'span_map': 'words'}}]\n",
      "301 60b7a521061c76d775454d28\n"
     ]
    },
    {
     "name": "stderr",
     "output_type": "stream",
     "text": [
      "DEBUG:gpn:skipping embedding doc a12d711787ca458fb81d78be7922d79e ...., /Users/artem/work/nemo/work/datasets/cache-a12d711787ca458fb81d78be7922d79e-embeddings-ElmoEmbedder.npy exists, loading\n",
      "DEBUG:gpn:loaded embedding shape is: (14802, 1024)\n",
      "DEBUG:gpn:getting embedding from cache id=60b7a521061c76d775454d28 chs=a12d711787ca458fb81d78be7922d79e\n"
     ]
    },
    {
     "name": "stdout",
     "output_type": "stream",
     "text": [
      "ERROR 2 alias 60b7a521061c76d775454d28 'alias' [{'type': {'confidence': 0.9654793739318848, 'kind': 'org-1-type', 'value': 'Общество с ограниченной ответственностью', 'span': [12, 16], 'span_map': 'words'}, 'name': {'confidence': 0.9836194515228271, 'kind': 'org-1-name', 'value': 'Газпромнефть-Каталитические системы', 'span': [17, 21], 'span_map': 'words'}, 'alias': {'confidence': 0.461784303188324, 'kind': 'org-1-alias', 'value': 'Покупатель', 'span': [35, 36], 'span_map': 'words'}}, {'type': {'confidence': 0.8851723074913025, 'kind': 'org-2-type', 'value': 'Закрытое акционерное общество', 'span': [13273, 13276], 'span_map': 'words'}, 'name': {'confidence': 0.8084352612495422, 'kind': 'org-2-name', 'value': 'Измерительная техника', 'span': [68, 70], 'span_map': 'words'}}]\n",
      "302 60b7a502061c76d775454acb\n"
     ]
    },
    {
     "name": "stderr",
     "output_type": "stream",
     "text": [
      "DEBUG:gpn:skipping embedding doc aac7fac61129c27d27d7c180529c569e ...., /Users/artem/work/nemo/work/datasets/cache-aac7fac61129c27d27d7c180529c569e-embeddings-ElmoEmbedder.npy exists, loading\n",
      "DEBUG:gpn:loaded embedding shape is: (1937, 1024)\n",
      "DEBUG:gpn:getting embedding from cache id=60b7a502061c76d775454acb chs=aac7fac61129c27d27d7c180529c569e\n"
     ]
    },
    {
     "name": "stdout",
     "output_type": "stream",
     "text": [
      "303 5fbbe46da2b4551c06107c75\n"
     ]
    },
    {
     "name": "stderr",
     "output_type": "stream",
     "text": [
      "DEBUG:gpn:skipping embedding doc 7c4d482b481592ffe759d53be7b1e777 ...., /Users/artem/work/nemo/work/datasets/cache-7c4d482b481592ffe759d53be7b1e777-embeddings-ElmoEmbedder.npy exists, loading\n",
      "DEBUG:gpn:loaded embedding shape is: (2968, 1024)\n",
      "DEBUG:gpn:getting embedding from cache id=5fbbe46da2b4551c06107c75 chs=7c4d482b481592ffe759d53be7b1e777\n"
     ]
    },
    {
     "name": "stdout",
     "output_type": "stream",
     "text": [
      "304 5fbbbd19a2b4551c061079cc\n"
     ]
    },
    {
     "name": "stderr",
     "output_type": "stream",
     "text": [
      "DEBUG:gpn:skipping embedding doc ea90f51aca035518002bd3606c56defe ...., /Users/artem/work/nemo/work/datasets/cache-ea90f51aca035518002bd3606c56defe-embeddings-ElmoEmbedder.npy exists, loading\n",
      "DEBUG:gpn:loaded embedding shape is: (3058, 1024)\n",
      "DEBUG:gpn:getting embedding from cache id=5fbbbd19a2b4551c061079cc chs=ea90f51aca035518002bd3606c56defe\n"
     ]
    },
    {
     "name": "stdout",
     "output_type": "stream",
     "text": [
      "ERROR 2 name 5fbbbd19a2b4551c061079cc 'name' [{'type': {'confidence': 0.9985290765762329, 'span': [140, 142], 'span_map': 'words', 'value': 'Акционерное общество'}, 'name': {'confidence': 0.8581199645996094, 'span': [143, 145], 'span_map': 'words', 'value': 'Арктика Медиа'}, 'alias': {'confidence': 0.9333077073097229, 'span': [151, 152], 'span_map': 'words', 'value': 'Исполнитель'}}, {'alias': {'confidence': 0.6699386239051819, 'span': [63, 64], 'span_map': 'words', 'value': 'Заказчик'}}]\n",
      "ERROR 2 type 5fbbbd19a2b4551c061079cc 'type' [{'type': {'confidence': 0.9985290765762329, 'span': [140, 142], 'span_map': 'words', 'value': 'Акционерное общество'}, 'name': {'confidence': 0.8581199645996094, 'span': [143, 145], 'span_map': 'words', 'value': 'Арктика Медиа'}, 'alias': {'confidence': 0.9333077073097229, 'span': [151, 152], 'span_map': 'words', 'value': 'Исполнитель'}}, {'alias': {'confidence': 0.6699386239051819, 'span': [63, 64], 'span_map': 'words', 'value': 'Заказчик'}}]\n",
      "305 612cdb23ea1085618e02ff5b\n"
     ]
    },
    {
     "name": "stderr",
     "output_type": "stream",
     "text": [
      "DEBUG:gpn:skipping embedding doc 8290263cd652b19dda3889fad8194bd3 ...., /Users/artem/work/nemo/work/datasets/cache-8290263cd652b19dda3889fad8194bd3-embeddings-ElmoEmbedder.npy exists, loading\n",
      "DEBUG:gpn:loaded embedding shape is: (5453, 1024)\n",
      "DEBUG:gpn:getting embedding from cache id=612cdb23ea1085618e02ff5b chs=8290263cd652b19dda3889fad8194bd3\n"
     ]
    },
    {
     "name": "stdout",
     "output_type": "stream",
     "text": [
      "306 60b7a55b061c76d77545505a\n"
     ]
    },
    {
     "name": "stderr",
     "output_type": "stream",
     "text": [
      "DEBUG:gpn:skipping embedding doc 51064791f578e6b4ba62f717a09832db ...., /Users/artem/work/nemo/work/datasets/cache-51064791f578e6b4ba62f717a09832db-embeddings-ElmoEmbedder.npy exists, loading\n",
      "DEBUG:gpn:loaded embedding shape is: (4088, 1024)\n",
      "DEBUG:gpn:getting embedding from cache id=60b7a55b061c76d77545505a chs=51064791f578e6b4ba62f717a09832db\n",
      "DEBUG:gpn:skipping embedding doc bb4c6bcc3ff5ada2621e3f895f550d0f ...., /Users/artem/work/nemo/work/datasets/cache-bb4c6bcc3ff5ada2621e3f895f550d0f-embeddings-ElmoEmbedder.npy exists, loading\n",
      "DEBUG:gpn:loaded embedding shape is: (2062, 1024)\n",
      "DEBUG:gpn:getting embedding from cache id=5fbbad2ba2b4551c06107835 chs=bb4c6bcc3ff5ada2621e3f895f550d0f\n"
     ]
    },
    {
     "name": "stdout",
     "output_type": "stream",
     "text": [
      "ERROR 1 name 60b7a55b061c76d77545505a 'name' [{'type': {'confidence': 0.23554135859012604, 'value': 'с ограниченной ответственностью', 'kind': 'org-1-type', 'span': [23, 26], 'span_map': 'words'}}]\n",
      "ERROR 1 alias 60b7a55b061c76d77545505a 'alias' [{'type': {'confidence': 0.23554135859012604, 'value': 'с ограниченной ответственностью', 'kind': 'org-1-type', 'span': [23, 26], 'span_map': 'words'}}]\n",
      "ERROR 2 name 60b7a55b061c76d77545505a list index out of range [{'type': {'confidence': 0.23554135859012604, 'value': 'с ограниченной ответственностью', 'kind': 'org-1-type', 'span': [23, 26], 'span_map': 'words'}}]\n",
      "ERROR 2 alias 60b7a55b061c76d77545505a list index out of range [{'type': {'confidence': 0.23554135859012604, 'value': 'с ограниченной ответственностью', 'kind': 'org-1-type', 'span': [23, 26], 'span_map': 'words'}}]\n",
      "ERROR 2 type 60b7a55b061c76d77545505a list index out of range [{'type': {'confidence': 0.23554135859012604, 'value': 'с ограниченной ответственностью', 'kind': 'org-1-type', 'span': [23, 26], 'span_map': 'words'}}]\n",
      "307 5fbbad2ba2b4551c06107835\n"
     ]
    },
    {
     "name": "stderr",
     "output_type": "stream",
     "text": [
      "DEBUG:gpn:skipping embedding doc 8634a08990f76a89f93379cc1fa57616 ...., /Users/artem/work/nemo/work/datasets/cache-8634a08990f76a89f93379cc1fa57616-embeddings-ElmoEmbedder.npy exists, loading\n",
      "DEBUG:gpn:loaded embedding shape is: (347, 1024)\n",
      "DEBUG:gpn:getting embedding from cache id=5fe4821ab770574a0055564d chs=8634a08990f76a89f93379cc1fa57616\n"
     ]
    },
    {
     "name": "stdout",
     "output_type": "stream",
     "text": [
      "ERROR 2 alias 5fbbad2ba2b4551c06107835 'alias' [{'type': {'confidence': 0.9867638349533081, 'span': [55, 57], 'span_map': 'words', 'value': 'Акционерное общество'}, 'name': {'confidence': 0.7971933484077454, 'span': [57, 60], 'span_map': 'words', 'value': 'Арктика Медиа'}, 'alias': {'confidence': 0.9145430326461792, 'span': [66, 67], 'span_map': 'words', 'value': 'Покупатель'}}, {'type': {'confidence': 0.9696469902992249, 'span': [12, 14], 'span_map': 'words', 'value': 'Индивидуальный предприниматель'}, 'name': {'confidence': 0.9867836833000183, 'span': [15, 18], 'span_map': 'words', 'value': 'Щербаков Сергей Вячеславович'}}]\n",
      "308 5fe4821ab770574a0055564d\n",
      "309 60b7a4c4061c76d775454605\n"
     ]
    },
    {
     "name": "stderr",
     "output_type": "stream",
     "text": [
      "DEBUG:gpn:skipping embedding doc 163a6598570788f239ce1e5ccb12d3fd ...., /Users/artem/work/nemo/work/datasets/cache-163a6598570788f239ce1e5ccb12d3fd-embeddings-ElmoEmbedder.npy exists, loading\n",
      "DEBUG:gpn:loaded embedding shape is: (1190, 1024)\n",
      "DEBUG:gpn:getting embedding from cache id=60b7a4c4061c76d775454605 chs=163a6598570788f239ce1e5ccb12d3fd\n"
     ]
    },
    {
     "name": "stdout",
     "output_type": "stream",
     "text": [
      "310 60b7a4c4061c76d7754545fe\n"
     ]
    },
    {
     "name": "stderr",
     "output_type": "stream",
     "text": [
      "DEBUG:gpn:skipping embedding doc c5a4fa0cac8a99248318594142243d6c ...., /Users/artem/work/nemo/work/datasets/cache-c5a4fa0cac8a99248318594142243d6c-embeddings-ElmoEmbedder.npy exists, loading\n",
      "DEBUG:gpn:loaded embedding shape is: (2498, 1024)\n",
      "DEBUG:gpn:getting embedding from cache id=60b7a4c4061c76d7754545fe chs=c5a4fa0cac8a99248318594142243d6c\n"
     ]
    },
    {
     "name": "stdout",
     "output_type": "stream",
     "text": [
      "311 5fdb2144542ce403c92b45d2\n"
     ]
    },
    {
     "name": "stderr",
     "output_type": "stream",
     "text": [
      "DEBUG:gpn:skipping embedding doc daa23a9b398e3d6bfeee8f9762a59e99 ...., /Users/artem/work/nemo/work/datasets/cache-daa23a9b398e3d6bfeee8f9762a59e99-embeddings-ElmoEmbedder.npy exists, loading\n",
      "DEBUG:gpn:loaded embedding shape is: (2964, 1024)\n",
      "DEBUG:gpn:getting embedding from cache id=5fdb2144542ce403c92b45d2 chs=daa23a9b398e3d6bfeee8f9762a59e99\n"
     ]
    },
    {
     "name": "stdout",
     "output_type": "stream",
     "text": [
      "ERROR 2 name 5fdb2144542ce403c92b45d2 'name' [{'type': {'confidence': 0.9523019790649414, 'span': [134, 138], 'span_map': 'words', 'value': 'Общество с ограниченной ответственностью'}, 'name': {'confidence': 0.9419603943824768, 'span': [139, 143], 'span_map': 'words', 'value': 'Рекламно-Информационное агентство «Город»'}, 'alias': {'confidence': 0.9196537733078003, 'span': [149, 150], 'span_map': 'words', 'value': 'Исполнитель'}}, {'alias': {'confidence': 0.36998265981674194, 'span': [57, 58], 'span_map': 'words', 'value': 'Заказчик'}}]\n",
      "ERROR 2 type 5fdb2144542ce403c92b45d2 'type' [{'type': {'confidence': 0.9523019790649414, 'span': [134, 138], 'span_map': 'words', 'value': 'Общество с ограниченной ответственностью'}, 'name': {'confidence': 0.9419603943824768, 'span': [139, 143], 'span_map': 'words', 'value': 'Рекламно-Информационное агентство «Город»'}, 'alias': {'confidence': 0.9196537733078003, 'span': [149, 150], 'span_map': 'words', 'value': 'Исполнитель'}}, {'alias': {'confidence': 0.36998265981674194, 'span': [57, 58], 'span_map': 'words', 'value': 'Заказчик'}}]\n",
      "312 5fb3b98100881c332b5672fb\n"
     ]
    },
    {
     "name": "stderr",
     "output_type": "stream",
     "text": [
      "DEBUG:gpn:skipping embedding doc fb05b004c38ce0a0daa76193917396af ...., /Users/artem/work/nemo/work/datasets/cache-fb05b004c38ce0a0daa76193917396af-embeddings-ElmoEmbedder.npy exists, loading\n",
      "DEBUG:gpn:loaded embedding shape is: (4000, 1024)\n",
      "DEBUG:gpn:getting embedding from cache id=5fb3b98100881c332b5672fb chs=fb05b004c38ce0a0daa76193917396af\n"
     ]
    },
    {
     "name": "stdout",
     "output_type": "stream",
     "text": [
      "ERROR 1 alias 5fb3b98100881c332b5672fb 'alias' [{'type': {'confidence': 0.9999973773956299, 'span': [267, 271], 'span_map': 'words', 'value': 'Общество с ограниченной ответственностью'}, 'name': {'confidence': 0.9999990463256836, 'span': [272, 273], 'span_map': 'words', 'value': 'Газпромнефть-Оренбург'}}, {'type': {'confidence': 0.988057017326355, 'span': [315, 319], 'span_map': 'words', 'value': 'Общество с ограниченной ответственностью'}, 'name': {'confidence': 0.9322702288627625, 'span': [320, 323], 'span_map': 'words', 'value': 'Информационно-технологическая сервисная компания'}, 'alias': {'confidence': 0.3840370178222656, 'span': [335, 336], 'span_map': 'words', 'value': 'Исполнитель'}}]\n",
      "313 5fb3b97f00881c332b5672d6\n"
     ]
    },
    {
     "name": "stderr",
     "output_type": "stream",
     "text": [
      "DEBUG:gpn:skipping embedding doc 23c972ca23954a814266e17b5d732ecd ...., /Users/artem/work/nemo/work/datasets/cache-23c972ca23954a814266e17b5d732ecd-embeddings-ElmoEmbedder.npy exists, loading\n",
      "DEBUG:gpn:loaded embedding shape is: (4279, 1024)\n",
      "DEBUG:gpn:getting embedding from cache id=5fb3b97f00881c332b5672d6 chs=23c972ca23954a814266e17b5d732ecd\n"
     ]
    },
    {
     "name": "stdout",
     "output_type": "stream",
     "text": [
      "ERROR 1 alias 5fb3b97f00881c332b5672d6 'alias' [{'type': {'confidence': 0.9998769760131836, 'span': [280, 284], 'span_map': 'words', 'value': 'Общество с ограниченной ответственностью'}, 'name': {'confidence': 0.9947963953018188, 'span': [285, 286], 'span_map': 'words', 'value': 'Газпромнефть-Оренбург'}}, {'type': {'confidence': 0.9645112752914429, 'span': [322, 324], 'span_map': 'words', 'value': 'Акционерное общество'}, 'name': {'confidence': 0.6904815435409546, 'span': [324, 326], 'span_map': 'words', 'value': 'Южуралнефтегаз'}}]\n",
      "ERROR 2 alias 5fb3b97f00881c332b5672d6 'alias' [{'type': {'confidence': 0.9998769760131836, 'span': [280, 284], 'span_map': 'words', 'value': 'Общество с ограниченной ответственностью'}, 'name': {'confidence': 0.9947963953018188, 'span': [285, 286], 'span_map': 'words', 'value': 'Газпромнефть-Оренбург'}}, {'type': {'confidence': 0.9645112752914429, 'span': [322, 324], 'span_map': 'words', 'value': 'Акционерное общество'}, 'name': {'confidence': 0.6904815435409546, 'span': [324, 326], 'span_map': 'words', 'value': 'Южуралнефтегаз'}}]\n",
      "314 614090b80773863adc4f60a1\n"
     ]
    },
    {
     "name": "stderr",
     "output_type": "stream",
     "text": [
      "DEBUG:gpn:skipping embedding doc 0646a3c74de739c738bcd2f38776e666 ...., /Users/artem/work/nemo/work/datasets/cache-0646a3c74de739c738bcd2f38776e666-embeddings-ElmoEmbedder.npy exists, loading\n",
      "DEBUG:gpn:loaded embedding shape is: (5958, 1024)\n",
      "DEBUG:gpn:getting embedding from cache id=614090b80773863adc4f60a1 chs=0646a3c74de739c738bcd2f38776e666\n",
      "DEBUG:gpn:skipping embedding doc 6dc12d1472e896e5031587100a7c919c ...., /Users/artem/work/nemo/work/datasets/cache-6dc12d1472e896e5031587100a7c919c-embeddings-ElmoEmbedder.npy exists, loading\n",
      "DEBUG:gpn:loaded embedding shape is: (1752, 1024)\n",
      "DEBUG:gpn:getting embedding from cache id=5fb3d7a478df3635f5441da6 chs=6dc12d1472e896e5031587100a7c919c\n"
     ]
    },
    {
     "name": "stdout",
     "output_type": "stream",
     "text": [
      "315 5fb3d7a478df3635f5441da6\n",
      "ERROR 2 name 5fb3d7a478df3635f5441da6 'name' [{'type': {'confidence': 0.9864755272865295, 'span': [75, 79], 'span_map': 'words', 'value': 'Общество с ограниченной ответственностью'}, 'name': {'confidence': 0.8742712140083313, 'span': [80, 85], 'span_map': 'words', 'value': 'Издательско-полиграфическое предприятие «Мастерская печати»'}, 'alias': {'confidence': 0.7720715999603271, 'span': [91, 92], 'span_map': 'words', 'value': 'Исполнитель'}}, {'alias': {'confidence': 0.6129705905914307, 'span': [31, 32], 'span_map': 'words', 'value': 'Заказчик'}}]\n",
      "ERROR 2 type 5fb3d7a478df3635f5441da6 'type' [{'type': {'confidence': 0.9864755272865295, 'span': [75, 79], 'span_map': 'words', 'value': 'Общество с ограниченной ответственностью'}, 'name': {'confidence': 0.8742712140083313, 'span': [80, 85], 'span_map': 'words', 'value': 'Издательско-полиграфическое предприятие «Мастерская печати»'}, 'alias': {'confidence': 0.7720715999603271, 'span': [91, 92], 'span_map': 'words', 'value': 'Исполнитель'}}, {'alias': {'confidence': 0.6129705905914307, 'span': [31, 32], 'span_map': 'words', 'value': 'Заказчик'}}]\n",
      "316 5fb3d4a078df3635f5441c2e\n"
     ]
    },
    {
     "name": "stderr",
     "output_type": "stream",
     "text": [
      "DEBUG:gpn:skipping embedding doc 85951fb3fe17f73020a6c6e07f7e82eb ...., /Users/artem/work/nemo/work/datasets/cache-85951fb3fe17f73020a6c6e07f7e82eb-embeddings-ElmoEmbedder.npy exists, loading\n",
      "DEBUG:gpn:loaded embedding shape is: (4361, 1024)\n",
      "DEBUG:gpn:getting embedding from cache id=5fb3d4a078df3635f5441c2e chs=85951fb3fe17f73020a6c6e07f7e82eb\n"
     ]
    },
    {
     "name": "stdout",
     "output_type": "stream",
     "text": [
      "ERROR 2 name 5fb3d4a078df3635f5441c2e 'name' [{'type': {'confidence': 0.9912716150283813, 'span': [109, 113], 'span_map': 'words', 'value': 'Общество с ограниченной ответственностью'}, 'name': {'confidence': 0.9515964388847351, 'span': [114, 118], 'span_map': 'words', 'value': 'Рекламно-Информационное агентство «Город»'}, 'alias': {'confidence': 0.888180136680603, 'span': [124, 125], 'span_map': 'words', 'value': 'Исполнитель'}}, {'type': {'confidence': 0.4408826231956482, 'span': [44, 45], 'span_map': 'words', 'value': 'Территориальная'}, 'alias': {'confidence': 0.7417474389076233, 'span': [54, 55], 'span_map': 'words', 'value': 'Заказчик'}}]\n",
      "317 5fb3d4a078df3635f5441c63\n"
     ]
    },
    {
     "name": "stderr",
     "output_type": "stream",
     "text": [
      "DEBUG:gpn:skipping embedding doc 485ab5c01d2a54fd2a5b96d599cc94ee ...., /Users/artem/work/nemo/work/datasets/cache-485ab5c01d2a54fd2a5b96d599cc94ee-embeddings-ElmoEmbedder.npy exists, loading\n",
      "DEBUG:gpn:loaded embedding shape is: (4429, 1024)\n",
      "DEBUG:gpn:getting embedding from cache id=5fb3d4a078df3635f5441c63 chs=485ab5c01d2a54fd2a5b96d599cc94ee\n"
     ]
    },
    {
     "name": "stdout",
     "output_type": "stream",
     "text": [
      "ERROR 2 name 5fb3d4a078df3635f5441c63 'name' [{'type': {'confidence': 0.9930281639099121, 'span': [149, 153], 'span_map': 'words', 'value': 'Общество с ограниченной ответственностью'}, 'name': {'confidence': 0.9454182982444763, 'span': [154, 158], 'span_map': 'words', 'value': 'Рекламно-Информационное агентство «Город»'}, 'alias': {'confidence': 0.8897870779037476, 'span': [164, 165], 'span_map': 'words', 'value': 'Исполнитель'}}, {'type': {'confidence': 0.48762571811676025, 'span': [46, 47], 'span_map': 'words', 'value': 'Территориальная'}, 'alias': {'confidence': 0.7427695989608765, 'span': [56, 57], 'span_map': 'words', 'value': 'Заказчик'}}]\n",
      "318 5fb3d4a078df3635f5441c49\n"
     ]
    },
    {
     "name": "stderr",
     "output_type": "stream",
     "text": [
      "DEBUG:gpn:skipping embedding doc bbe8943ef9bb22e7e15c92fb3abe1699 ...., /Users/artem/work/nemo/work/datasets/cache-bbe8943ef9bb22e7e15c92fb3abe1699-embeddings-ElmoEmbedder.npy exists, loading\n",
      "DEBUG:gpn:loaded embedding shape is: (3049, 1024)\n",
      "DEBUG:gpn:getting embedding from cache id=5fb3d4a078df3635f5441c49 chs=bbe8943ef9bb22e7e15c92fb3abe1699\n"
     ]
    },
    {
     "name": "stdout",
     "output_type": "stream",
     "text": [
      "ERROR 2 name 5fb3d4a078df3635f5441c49 'name' [{'type': {'confidence': 0.7211889028549194, 'span': [28, 32], 'span_map': 'words', 'value': 'Общество с ограниченной ответственностью'}, 'name': {'confidence': 0.77070152759552, 'span': [33, 37], 'span_map': 'words', 'value': 'Рекламно-Информационное агентство «Город»'}, 'alias': {'confidence': 0.47549858689308167, 'span': [43, 44], 'span_map': 'words', 'value': 'Исполнитель'}}, {'alias': {'confidence': 0.36383700370788574, 'span': [43, 44], 'span_map': 'words', 'value': 'Исполнитель'}}]\n",
      "ERROR 2 type 5fb3d4a078df3635f5441c49 'type' [{'type': {'confidence': 0.7211889028549194, 'span': [28, 32], 'span_map': 'words', 'value': 'Общество с ограниченной ответственностью'}, 'name': {'confidence': 0.77070152759552, 'span': [33, 37], 'span_map': 'words', 'value': 'Рекламно-Информационное агентство «Город»'}, 'alias': {'confidence': 0.47549858689308167, 'span': [43, 44], 'span_map': 'words', 'value': 'Исполнитель'}}, {'alias': {'confidence': 0.36383700370788574, 'span': [43, 44], 'span_map': 'words', 'value': 'Исполнитель'}}]\n",
      "319 5fb27c60d8c9df1ed1236ec3\n"
     ]
    },
    {
     "name": "stderr",
     "output_type": "stream",
     "text": [
      "DEBUG:gpn:skipping embedding doc 6ea74240873373d09e5d9aaf5010c6d3 ...., /Users/artem/work/nemo/work/datasets/cache-6ea74240873373d09e5d9aaf5010c6d3-embeddings-ElmoEmbedder.npy exists, loading\n",
      "DEBUG:gpn:loaded embedding shape is: (4195, 1024)\n",
      "DEBUG:gpn:getting embedding from cache id=5fb27c60d8c9df1ed1236ec3 chs=6ea74240873373d09e5d9aaf5010c6d3\n"
     ]
    },
    {
     "name": "stdout",
     "output_type": "stream",
     "text": [
      "ERROR 2 name 5fb27c60d8c9df1ed1236ec3 'name' [{'type': {'confidence': 0.9776319861412048, 'span': [54, 56], 'span_map': 'words', 'value': 'Акционерное общество'}, 'name': {'confidence': 0.8065301179885864, 'span': [57, 59], 'span_map': 'words', 'value': 'Арктика Медиа'}, 'alias': {'confidence': 0.43990635871887207, 'span': [65, 66], 'span_map': 'words', 'value': 'Исполнитель'}}, {'alias': {'confidence': 0.8010286092758179, 'span': [24, 25], 'span_map': 'words', 'value': 'Заказчик'}}]\n",
      "ERROR 2 type 5fb27c60d8c9df1ed1236ec3 'type' [{'type': {'confidence': 0.9776319861412048, 'span': [54, 56], 'span_map': 'words', 'value': 'Акционерное общество'}, 'name': {'confidence': 0.8065301179885864, 'span': [57, 59], 'span_map': 'words', 'value': 'Арктика Медиа'}, 'alias': {'confidence': 0.43990635871887207, 'span': [65, 66], 'span_map': 'words', 'value': 'Исполнитель'}}, {'alias': {'confidence': 0.8010286092758179, 'span': [24, 25], 'span_map': 'words', 'value': 'Заказчик'}}]\n",
      "320 5fe4821ab770574a00555625\n"
     ]
    },
    {
     "name": "stderr",
     "output_type": "stream",
     "text": [
      "DEBUG:gpn:skipping embedding doc 86476d48830084063ff362469bc04075 ...., /Users/artem/work/nemo/work/datasets/cache-86476d48830084063ff362469bc04075-embeddings-ElmoEmbedder.npy exists, loading\n",
      "DEBUG:gpn:loaded embedding shape is: (1961, 1024)\n",
      "DEBUG:gpn:getting embedding from cache id=5fe4821ab770574a00555625 chs=86476d48830084063ff362469bc04075\n"
     ]
    },
    {
     "name": "stdout",
     "output_type": "stream",
     "text": [
      "321 60b7a590061c76d775455293\n"
     ]
    },
    {
     "name": "stderr",
     "output_type": "stream",
     "text": [
      "DEBUG:gpn:skipping embedding doc 4349657f510693fa1a2279c9fa026343 ...., /Users/artem/work/nemo/work/datasets/cache-4349657f510693fa1a2279c9fa026343-embeddings-ElmoEmbedder.npy exists, loading\n",
      "DEBUG:gpn:loaded embedding shape is: (3739, 1024)\n",
      "DEBUG:gpn:getting embedding from cache id=60b7a590061c76d775455293 chs=4349657f510693fa1a2279c9fa026343\n",
      "DEBUG:gpn:skipping embedding doc 5fa84f65c67e5e81b8e621991428b375 ...., /Users/artem/work/nemo/work/datasets/cache-5fa84f65c67e5e81b8e621991428b375-embeddings-ElmoEmbedder.npy exists, loading\n",
      "DEBUG:gpn:loaded embedding shape is: (2119, 1024)\n",
      "DEBUG:gpn:getting embedding from cache id=5fdb213e542ce403c92b4522 chs=5fa84f65c67e5e81b8e621991428b375\n"
     ]
    },
    {
     "name": "stdout",
     "output_type": "stream",
     "text": [
      "ERROR 2 name 60b7a590061c76d775455293 'name' [{'type': {'confidence': 0.9770832061767578, 'kind': 'org-1-type', 'value': 'Общество с ограниченной ответственностью', 'span': [20, 24], 'span_map': 'words'}, 'name': {'confidence': 0.9791407585144043, 'kind': 'org-1-name', 'value': 'Газпромнефть-Каталитические системы', 'span': [25, 27], 'span_map': 'words'}, 'alias': {'confidence': 0.8099628686904907, 'kind': 'org-1-alias', 'value': 'Заказчик', 'span': [33, 34], 'span_map': 'words'}}, {'alias': {'confidence': 0.8035765290260315, 'kind': 'org-2-alias', 'value': 'Исполнитель', 'span': [65, 66], 'span_map': 'words'}}]\n",
      "ERROR 2 type 60b7a590061c76d775455293 'type' [{'type': {'confidence': 0.9770832061767578, 'kind': 'org-1-type', 'value': 'Общество с ограниченной ответственностью', 'span': [20, 24], 'span_map': 'words'}, 'name': {'confidence': 0.9791407585144043, 'kind': 'org-1-name', 'value': 'Газпромнефть-Каталитические системы', 'span': [25, 27], 'span_map': 'words'}, 'alias': {'confidence': 0.8099628686904907, 'kind': 'org-1-alias', 'value': 'Заказчик', 'span': [33, 34], 'span_map': 'words'}}, {'alias': {'confidence': 0.8035765290260315, 'kind': 'org-2-alias', 'value': 'Исполнитель', 'span': [65, 66], 'span_map': 'words'}}]\n",
      "322 5fdb213e542ce403c92b4522\n"
     ]
    },
    {
     "name": "stderr",
     "output_type": "stream",
     "text": [
      "DEBUG:gpn:skipping embedding doc 48e5d2a2d997eba552509a605d610468 ...., /Users/artem/work/nemo/work/datasets/cache-48e5d2a2d997eba552509a605d610468-embeddings-ElmoEmbedder.npy exists, loading\n",
      "DEBUG:gpn:loaded embedding shape is: (2018, 1024)\n",
      "DEBUG:gpn:getting embedding from cache id=5fdb213e542ce403c92b4521 chs=48e5d2a2d997eba552509a605d610468\n"
     ]
    },
    {
     "name": "stdout",
     "output_type": "stream",
     "text": [
      "323 5fdb213e542ce403c92b4521\n",
      "324 5fdb213e542ce403c92b4523\n"
     ]
    },
    {
     "name": "stderr",
     "output_type": "stream",
     "text": [
      "DEBUG:gpn:skipping embedding doc 03d89350c2efef3df90eed11fd0a3098 ...., /Users/artem/work/nemo/work/datasets/cache-03d89350c2efef3df90eed11fd0a3098-embeddings-ElmoEmbedder.npy exists, loading\n",
      "DEBUG:gpn:loaded embedding shape is: (1986, 1024)\n",
      "DEBUG:gpn:getting embedding from cache id=5fdb213e542ce403c92b4523 chs=03d89350c2efef3df90eed11fd0a3098\n",
      "DEBUG:gpn:skipping embedding doc 95e95257579cdb227e4633e95332315f ...., /Users/artem/work/nemo/work/datasets/cache-95e95257579cdb227e4633e95332315f-embeddings-ElmoEmbedder.npy exists, loading\n",
      "DEBUG:gpn:loaded embedding shape is: (1990, 1024)\n",
      "DEBUG:gpn:getting embedding from cache id=5fdb213d542ce403c92b451c chs=95e95257579cdb227e4633e95332315f\n"
     ]
    },
    {
     "name": "stdout",
     "output_type": "stream",
     "text": [
      "325 5fdb213d542ce403c92b451c\n",
      "326 5fdb2140542ce403c92b454c\n"
     ]
    },
    {
     "name": "stderr",
     "output_type": "stream",
     "text": [
      "DEBUG:gpn:skipping embedding doc 5cb2ac363d1205936da1eb159be7d197 ...., /Users/artem/work/nemo/work/datasets/cache-5cb2ac363d1205936da1eb159be7d197-embeddings-ElmoEmbedder.npy exists, loading\n",
      "DEBUG:gpn:loaded embedding shape is: (2472, 1024)\n",
      "DEBUG:gpn:getting embedding from cache id=5fdb2140542ce403c92b454c chs=5cb2ac363d1205936da1eb159be7d197\n"
     ]
    },
    {
     "name": "stdout",
     "output_type": "stream",
     "text": [
      "327 5fdb2141542ce403c92b456c\n"
     ]
    },
    {
     "name": "stderr",
     "output_type": "stream",
     "text": [
      "DEBUG:gpn:skipping embedding doc 813d9a0f259f71f716228ba16b42f6e3 ...., /Users/artem/work/nemo/work/datasets/cache-813d9a0f259f71f716228ba16b42f6e3-embeddings-ElmoEmbedder.npy exists, loading\n",
      "DEBUG:gpn:loaded embedding shape is: (2382, 1024)\n",
      "DEBUG:gpn:getting embedding from cache id=5fdb2141542ce403c92b456c chs=813d9a0f259f71f716228ba16b42f6e3\n"
     ]
    },
    {
     "name": "stdout",
     "output_type": "stream",
     "text": [
      "328 60b7a522061c76d775454d42\n"
     ]
    },
    {
     "name": "stderr",
     "output_type": "stream",
     "text": [
      "DEBUG:gpn:skipping embedding doc 7df774eef6a55e42529eb19efd5ce35b ...., /Users/artem/work/nemo/work/datasets/cache-7df774eef6a55e42529eb19efd5ce35b-embeddings-ElmoEmbedder.npy exists, loading\n",
      "DEBUG:gpn:loaded embedding shape is: (3790, 1024)\n",
      "DEBUG:gpn:getting embedding from cache id=60b7a522061c76d775454d42 chs=7df774eef6a55e42529eb19efd5ce35b\n",
      "DEBUG:gpn:skipping embedding doc 6d749636597031917f8f0ac91bcb096a ...., /Users/artem/work/nemo/work/datasets/cache-6d749636597031917f8f0ac91bcb096a-embeddings-ElmoEmbedder.npy exists, loading\n",
      "DEBUG:gpn:loaded embedding shape is: (2257, 1024)\n",
      "DEBUG:gpn:getting embedding from cache id=5fc7a034c54bc33809e261ce chs=6d749636597031917f8f0ac91bcb096a\n"
     ]
    },
    {
     "name": "stdout",
     "output_type": "stream",
     "text": [
      "ERROR 2 alias 60b7a522061c76d775454d42 'alias' [{'type': {'confidence': 0.955041766166687, 'kind': 'org-1-type', 'value': 'Общество с ограниченной ответственностью', 'span': [468, 472], 'span_map': 'words'}, 'name': {'confidence': 0.9809547066688538, 'kind': 'org-1-name', 'value': 'Газпромнефть-Каталитические системы', 'span': [473, 477], 'span_map': 'words'}, 'alias': {'confidence': 0.92589271068573, 'kind': 'org-1-alias', 'value': 'Заказчик', 'span': [492, 493], 'span_map': 'words'}}, {'type': {'confidence': 0.5583295822143555, 'kind': 'org-2-type', 'value': 'Индивидуальный предприниматель', 'span': [513, 515], 'span_map': 'words'}, 'name': {'confidence': 0.5402869582176208, 'kind': 'org-2-name', 'value': 'Паршин Сергей Владимирович', 'span': [516, 519], 'span_map': 'words'}}]\n",
      "329 5fc7a034c54bc33809e261ce\n"
     ]
    },
    {
     "name": "stderr",
     "output_type": "stream",
     "text": [
      "DEBUG:gpn:skipping embedding doc 544f2532c7fdad32106570baf40418ff ...., /Users/artem/work/nemo/work/datasets/cache-544f2532c7fdad32106570baf40418ff-embeddings-ElmoEmbedder.npy exists, loading\n",
      "DEBUG:gpn:loaded embedding shape is: (2011, 1024)\n",
      "DEBUG:gpn:getting embedding from cache id=5fca2aad9083b679224c7606 chs=544f2532c7fdad32106570baf40418ff\n"
     ]
    },
    {
     "name": "stdout",
     "output_type": "stream",
     "text": [
      "330 5fca2aad9083b679224c7606\n",
      "331 5fbbe468a2b4551c06107b4e\n"
     ]
    },
    {
     "name": "stderr",
     "output_type": "stream",
     "text": [
      "DEBUG:gpn:skipping embedding doc 01f06d8669c80e433e73951029696f05 ...., /Users/artem/work/nemo/work/datasets/cache-01f06d8669c80e433e73951029696f05-embeddings-ElmoEmbedder.npy exists, loading\n",
      "DEBUG:gpn:loaded embedding shape is: (2334, 1024)\n",
      "DEBUG:gpn:getting embedding from cache id=5fbbe468a2b4551c06107b4e chs=01f06d8669c80e433e73951029696f05\n"
     ]
    }
   ],
   "source": [
    "for k, oid in enumerate(dups_s.index[570:]):\n",
    "    print(k, oid)\n",
    "    d = get_doc_by_id( ObjectId(oid))\n",
    "    jd = DbJsonDoc(d)\n",
    "    save_contract_data_arrays(jd)\n"
   ]
  },
  {
   "cell_type": "code",
   "execution_count": 180,
   "id": "7ba97f59-b646-4b80-89ec-5ca6ae7024da",
   "metadata": {},
   "outputs": [
    {
     "data": {
      "text/plain": [
       "25"
      ]
     },
     "execution_count": 180,
     "metadata": {},
     "output_type": "execute_result"
    }
   ],
   "source": [
    "25"
   ]
  },
  {
   "cell_type": "code",
   "execution_count": null,
   "id": "64aefe53-1876-4d8b-b239-230133e634a4",
   "metadata": {},
   "outputs": [],
   "source": []
  }
 ],
 "metadata": {
  "colab": {
   "collapsed_sections": [
    "9eF-UGHyh-C9",
    "7X_zYCYEdlPM",
    "lyI4hbTRFjyM"
   ],
   "name": "Local: structure keras uber model - clean train, evaluate, test.ipynb",
   "provenance": [],
   "toc_visible": true
  },
  "kernelspec": {
   "display_name": "Python 3 (ipykernel)",
   "language": "python",
   "name": "python3"
  },
  "language_info": {
   "codemirror_mode": {
    "name": "ipython",
    "version": 3
   },
   "file_extension": ".py",
   "mimetype": "text/x-python",
   "name": "python",
   "nbconvert_exporter": "python",
   "pygments_lexer": "ipython3",
   "version": "3.9.6"
  },
  "papermill": {
   "default_parameters": {},
   "duration": 10.184245,
   "end_time": "2021-08-03T13:00:20.283835",
   "environment_variables": {},
   "exception": null,
   "input_path": "trainsets/export_trainset.ipynb",
   "output_path": "trainsets/export_trainset.ipynb",
   "parameters": {},
   "start_time": "2021-08-03T13:00:10.099590",
   "version": "2.3.3"
  }
 },
 "nbformat": 4,
 "nbformat_minor": 5
}
