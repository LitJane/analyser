{
 "cells": [
  {
   "cell_type": "markdown",
   "id": "84416aa0",
   "metadata": {
    "colab_type": "text",
    "id": "JbsxFAqC6pjQ",
    "papermill": {
     "duration": 0.02715,
     "end_time": "2021-08-03T13:00:10.959150",
     "exception": false,
     "start_time": "2021-08-03T13:00:10.932000",
     "status": "completed"
    },
    "tags": []
   },
   "source": [
    "# Imports"
   ]
  },
  {
   "cell_type": "code",
   "execution_count": null,
   "id": "a63d3c58-2d3a-4f27-a017-c9acd65e4806",
   "metadata": {
    "papermill": {
     "duration": 0.021947,
     "end_time": "2021-08-03T13:00:10.998129",
     "exception": false,
     "start_time": "2021-08-03T13:00:10.976182",
     "status": "completed"
    },
    "tags": []
   },
   "outputs": [],
   "source": [
    "IMPORT_FRESH_ONLY = True # re-import all if False"
   ]
  },
  {
   "cell_type": "code",
   "execution_count": null,
   "id": "28d79173",
   "metadata": {
    "colab": {},
    "colab_type": "code",
    "id": "JoHJkn9yQIgg",
    "papermill": {
     "duration": 1.861673,
     "end_time": "2021-08-03T13:00:12.870686",
     "exception": false,
     "start_time": "2021-08-03T13:00:11.009013",
     "status": "completed"
    },
    "tags": []
   },
   "outputs": [],
   "source": [
    "import logging\n",
    "import platform\n",
    "import sys\n",
    "import os\n",
    "import seaborn as sns\n",
    "import matplotlib.pyplot as plt\n",
    "from IPython.display import display, Markdown\n",
    "from datetime import datetime\n",
    "import tensorflow as tf\n",
    "\n",
    "logger = logging.getLogger('retrain_ipynb')\n",
    "logger.setLevel(logging.DEBUG)\n",
    "\n",
    "\n",
    "ch = logging.StreamHandler()\n",
    "ch.setLevel(logging.DEBUG)\n",
    "formatter = logging.Formatter('%(levelname)s - %(asctime)s - %(name)s - %(message)s')\n",
    "ch.setFormatter(formatter)\n",
    "logger.addHandler(ch)\n",
    "logger.debug('--=logging started=--')\n",
    "\n",
    "print(tf.__version__)\n",
    "CPU = platform.processor()\n",
    "print (f'Running on CPU:{CPU}')"
   ]
  },
  {
   "cell_type": "code",
   "execution_count": null,
   "id": "2e198c1d",
   "metadata": {
    "colab": {},
    "colab_type": "code",
    "id": "ZiBqnGnQfKWF",
    "papermill": {
     "duration": 0.016512,
     "end_time": "2021-08-03T13:00:12.895142",
     "exception": false,
     "start_time": "2021-08-03T13:00:12.878630",
     "status": "completed"
    },
    "tags": []
   },
   "outputs": [],
   "source": [
    "nb_dir = os.path.split(os.getcwd())[0]\n",
    "if nb_dir not in sys.path:\n",
    "    sys.path.append(nb_dir)\n",
    "\n",
    "import analyser.hyperparams \n",
    "analyser.hyperparams.__file__"
   ]
  },
  {
   "cell_type": "markdown",
   "id": "ae495501",
   "metadata": {
    "papermill": {
     "duration": 0.007981,
     "end_time": "2021-08-03T13:00:12.911919",
     "exception": false,
     "start_time": "2021-08-03T13:00:12.903938",
     "status": "completed"
    },
    "tags": []
   },
   "source": [
    "### Prepare workdir"
   ]
  },
  {
   "cell_type": "code",
   "execution_count": null,
   "id": "c1029623",
   "metadata": {
    "colab": {},
    "colab_type": "code",
    "id": "jT7451NXspdw",
    "papermill": {
     "duration": 0.011883,
     "end_time": "2021-08-03T13:00:12.931780",
     "exception": false,
     "start_time": "2021-08-03T13:00:12.919897",
     "status": "completed"
    },
    "tags": []
   },
   "outputs": [],
   "source": [
    "from pathlib import Path\n",
    "_work_dir_default = Path(analyser.hyperparams.__file__).parent.parent.parent / 'work'\n",
    "work_dir = os.environ.get('GPN_WORK_DIR', _work_dir_default)\n",
    "\n",
    "if not os.path.isdir(work_dir):\n",
    "    os.mkdir(work_dir)\n",
    "\n",
    "analyser.hyperparams.work_dir = work_dir\n",
    " \n",
    "\n",
    "print('work_dir=', analyser.hyperparams.work_dir)\n",
    "assert os.path.isdir(analyser.hyperparams.work_dir)"
   ]
  },
  {
   "cell_type": "markdown",
   "id": "8c55a33b",
   "metadata": {
    "papermill": {
     "duration": 0.008023,
     "end_time": "2021-08-03T13:00:12.947888",
     "exception": false,
     "start_time": "2021-08-03T13:00:12.939865",
     "status": "completed"
    },
    "tags": []
   },
   "source": [
    "### Imports..."
   ]
  },
  {
   "cell_type": "code",
   "execution_count": null,
   "id": "34cde660",
   "metadata": {
    "colab": {
     "base_uri": "https://localhost:8080/",
     "height": 87
    },
    "colab_type": "code",
    "id": "pexvDJbAtZM0",
    "outputId": "4f7e6e34-d675-423d-d102-1020d49d854f",
    "papermill": {
     "duration": 1.475714,
     "end_time": "2021-08-03T13:00:14.431563",
     "exception": false,
     "start_time": "2021-08-03T13:00:12.955849",
     "status": "completed"
    },
    "tags": []
   },
   "outputs": [],
   "source": [
    "%matplotlib inline\n",
    "\n",
    "import pandas as pd\n",
    "from pandas import DataFrame\n",
    "\n",
    "from analyser.finalizer import get_doc_by_id\n",
    "from analyser.persistence import DbJsonDoc\n",
    "from integration.db import get_mongodb_connection"
   ]
  },
  {
   "cell_type": "markdown",
   "id": "16ed5139",
   "metadata": {
    "papermill": {
     "duration": 0.008357,
     "end_time": "2021-08-03T13:00:14.449100",
     "exception": false,
     "start_time": "2021-08-03T13:00:14.440743",
     "status": "completed"
    },
    "tags": []
   },
   "source": [
    "### Query DB for contact IDs"
   ]
  },
  {
   "cell_type": "markdown",
   "id": "589992da-6190-42a9-a056-ef015966620c",
   "metadata": {
    "papermill": {
     "duration": 0.00879,
     "end_time": "2021-08-03T13:00:14.466682",
     "exception": false,
     "start_time": "2021-08-03T13:00:14.457892",
     "status": "completed"
    },
    "tags": []
   },
   "source": [
    "#### Load meta data CSV"
   ]
  },
  {
   "cell_type": "code",
   "execution_count": null,
   "id": "b5e1f699",
   "metadata": {
    "papermill": {
     "duration": 0.036079,
     "end_time": "2021-08-03T13:00:14.510860",
     "exception": false,
     "start_time": "2021-08-03T13:00:14.474781",
     "status": "completed"
    },
    "tags": []
   },
   "outputs": [],
   "source": [
    "export_fn = str(Path(work_dir) / 'contract_trainset_meta.temp.csv')\n",
    "# stats = pd.read_csv(export_fn, index_col=0)\n",
    "\n",
    "try:\n",
    "    stats = pd.read_csv(export_fn, index_col=0)\n",
    "    if not 'analyze_date' in stats:\n",
    "        stats['analyze_date'] = None\n",
    "    stats['analyze_date'] = pd.to_datetime(stats['analyze_date'])\n",
    "    stats['user_correction_date'] = pd.to_datetime(stats['user_correction_date'])\n",
    "\n",
    "    lastdate = stats[[\"user_correction_date\", 'analyze_date']].max().max()\n",
    "    \n",
    "except Exception as ex:\n",
    "    logger.exception(ex)\n",
    "    logger.error(f'cannot load {export_fn}')\n",
    "\n",
    "    lastdate = datetime(1900, 1, 1)\n",
    "    stats = DataFrame()\n",
    "    \n",
    "if not IMPORT_FRESH_ONLY:\n",
    "    lastdate = datetime(1900, 1, 1)\n",
    "    \n",
    "print(lastdate, export_fn)\n",
    "stats"
   ]
  },
  {
   "cell_type": "markdown",
   "id": "f2f1db37-2acc-4ead-bdf0-49e115e3c066",
   "metadata": {
    "papermill": {
     "duration": 0.008442,
     "end_time": "2021-08-03T13:00:14.527916",
     "exception": false,
     "start_time": "2021-08-03T13:00:14.519474",
     "status": "completed"
    },
    "tags": []
   },
   "source": [
    "## Fetch fresh docs from Mongo DB"
   ]
  },
  {
   "cell_type": "code",
   "execution_count": null,
   "id": "3be1f82a-a1b6-4d34-abe3-5264f4e5e9d8",
   "metadata": {},
   "outputs": [],
   "source": [
    "from datetime import date\n",
    "from dateutil.relativedelta import relativedelta\n",
    "\n",
    "# lastdate = date.today() + relativedelta(months=-2)\n",
    "# lastdate = datetime.combine(lastdate, datetime.min.time())\n",
    "\n",
    "# lastdate"
   ]
  },
  {
   "cell_type": "code",
   "execution_count": null,
   "id": "034c3cda",
   "metadata": {
    "papermill": {
     "duration": 0.153979,
     "end_time": "2021-08-03T13:00:14.690371",
     "exception": false,
     "start_time": "2021-08-03T13:00:14.536392",
     "status": "completed"
    },
    "tags": []
   },
   "outputs": [],
   "source": [
    "from pymongo import ASCENDING\n",
    "\n",
    "query = {\n",
    "  '$and': [\n",
    "    {\"parse.documentType\": \"CONTRACT\"},\n",
    "      \n",
    "    {\"state\": 15},\n",
    "    {'$or': [\n",
    "          {\"analysis.attributes_tree\": {\"$ne\": None}},\n",
    "          {\"user.attributes_tree\": {\"$ne\": None}}\n",
    "        ]},\n",
    "#       {'$and': [\n",
    "#           {\"user.updateDate\": {\"$ne\": None}},\n",
    "#           {'user.updateDate': {'$gt': lastdate}}\n",
    "#       ]}\n",
    "#     {\"user.attributes_tree.contract.people\": {\"$ne\": None}}\n",
    "\n",
    "    #     {'$or': [\n",
    "    #         {\"user.attributes_tree.contract.price.amount_netto\": {\"$ne\": None}},\n",
    "    #         {\"user.attributes_tree.contract.price.amount_brutto\": {\"$ne\": None}}\n",
    "    #     ]}\n",
    "    {'$or': [\n",
    "      {'analysis.analyze_timestamp': {'$gt': lastdate}},\n",
    "      {'user.updateDate': {'$gt': lastdate}}\n",
    "    ]}\n",
    "  ]\n",
    "}\n",
    "\n",
    "db = get_mongodb_connection()\n",
    "documents_collection = db['documents']\n",
    "sorting = [('analysis.analyze_timestamp', ASCENDING), ('user.updateDate', ASCENDING)]\n",
    "res = documents_collection.find(filter=query, \n",
    "                                sort=sorting,\n",
    "                                projection={'_id': True, 'user.updateDate':True}\n",
    "#                                             'analysis.attributes_tree.version': True,\n",
    "#                                             'analysis.attributes_tree.contract.subject': True}\n",
    "                               ).limit(1000)\n",
    "\n",
    "res = list([i for i in res])\n",
    "\n",
    "_s = f\"#### Всего новых документов после {lastdate} : {len(res)}\"\n",
    "display(Markdown(_s))\n",
    "\n",
    "res[:4]"
   ]
  },
  {
   "cell_type": "markdown",
   "id": "4f5e5226-9de4-46c2-a4d1-725904358ec3",
   "metadata": {},
   "source": [
    "# Prepare training set"
   ]
  },
  {
   "cell_type": "code",
   "execution_count": null,
   "id": "6fe3e9cd-e51a-4541-a219-73e584847f6e",
   "metadata": {},
   "outputs": [],
   "source": [
    "from tf_support.super_contract_model import seq_labels_contract\n",
    "seq_labels_contract"
   ]
  },
  {
   "cell_type": "code",
   "execution_count": null,
   "id": "8e9c61cd",
   "metadata": {
    "papermill": {
     "duration": 0.029006,
     "end_time": "2021-08-03T13:00:14.737884",
     "exception": false,
     "start_time": "2021-08-03T13:00:14.708878",
     "status": "completed"
    },
    "tags": []
   },
   "outputs": [],
   "source": []
  },
  {
   "cell_type": "code",
   "execution_count": null,
   "id": "ec573ccb-97cb-477f-9379-52403a186899",
   "metadata": {},
   "outputs": [],
   "source": [
    "docs_ids = [i[\"_id\"] for i in res]\n",
    "sample_id = docs_ids[0]\n",
    "sample_id"
   ]
  },
  {
   "cell_type": "code",
   "execution_count": null,
   "id": "ef128113-6be4-456c-9918-0859a339da37",
   "metadata": {},
   "outputs": [],
   "source": [
    "from bson import ObjectId\n",
    "sample_id = ObjectId('60002adfb08473039387bcd6')\n",
    "d = get_doc_by_id(sample_id)\n",
    "\n",
    "jd = DbJsonDoc(d)\n",
    "jd"
   ]
  },
  {
   "cell_type": "code",
   "execution_count": null,
   "id": "619a5017-0015-458b-bf62-8d5a39816dfe",
   "metadata": {},
   "outputs": [],
   "source": [
    "from datetime import datetime\n",
    "from math import log1p\n",
    "\n",
    "from pandas import DataFrame\n",
    "\n",
    "from analyser.persistence import DbJsonDoc\n",
    "# from trainsets.retrain_contract_uber_model import flatten_attributes_tree\n",
    "\n",
    "\n",
    "#XXX: replace with DbJsonDoc.get_version_string\n",
    "def get_version(d: DbJsonDoc):\n",
    "    attr_tree = d.get_attributes_tree()\n",
    "    if 'version' in attr_tree:\n",
    "        return '.'.join([str(x) for x in attr_tree['version']])\n",
    "    else:\n",
    "        return  d.analysis['version']\n",
    "    \n",
    "    \n",
    "def add_stats_record(d: DbJsonDoc, stats: DataFrame):\n",
    "  _id = str(d.get_id())\n",
    "    \n",
    "  attr_tree = d.get_attributes_tree()\n",
    " \n",
    "\n",
    "  stats.at[_id, 'checksum'] = d.get_tokens_for_embedding().get_checksum()\n",
    "\n",
    "  stats.at[_id, 'version'] = get_version(d)\n",
    "    \n",
    " \n",
    "  stats.at[_id, 'export_date'] = datetime.now()\n",
    "  stats.at[_id, 'len'] = len(d)\n",
    "  stats.at[_id, 'analyze_date'] = d.analysis['analyze_timestamp']\n",
    "\n",
    "\n",
    "  _value_tag = attr_tree.get('price')\n",
    "  \n",
    "  if _value_tag is not None:\n",
    "    amount = _value_tag.get('amount_netto')\n",
    "    if amount is None:\n",
    "        amount = _value_tag.get('amount_brutto')\n",
    "    if amount is None:\n",
    "        amount = _value_tag.get('amount')\n",
    "    \n",
    "#     print('amount',amount)\n",
    "    if amount:\n",
    "        \n",
    "        stats.at[_id, 'value'] = amount.get('value') \n",
    "        stats.at[_id, 'value_log1p'] = log1p(amount.get('value') )\n",
    "        stats.at[_id, 'value_span'] = amount.get('span', [0,0]) [0]\n",
    "#         print( stats.at[_id, 'value'])\n",
    "    \n",
    "    stats.at[_id, 'currency'] = _value_tag.get('currency', {}).get('value')\n",
    "  \n",
    "  _orgs = attr_tree.get('orgs', [{},{}]) \n",
    "  if len(_orgs)>0:\n",
    "      stats.at[_id, 'org-1-name'] = _orgs[0].get('name', {}).get('value')\n",
    "      stats.at[_id, 'org-1-alias'] = _orgs[0].get('alias', {}).get('value')\n",
    "\n",
    "      if len(_orgs)>1:\n",
    "        stats.at[_id, 'org-2-name'] = _orgs[1].get('name', {}).get('value')\n",
    "        stats.at[_id, 'org-2-alias'] = _orgs[1].get('alias', {}).get('value')\n",
    "    \n",
    "  stats.at[_id, 'subject'] = attr_tree.get('subject', {}).get('value')\n",
    "  stats.at[_id, 'subject confidence'] = attr_tree.get('subject', {}).get('confidence')\n",
    "    \n",
    "#   def _map_val(src, dest):\n",
    "#     if attr_map[src]:\n",
    "#         stats.at[_id, dest] = attr_map[src]['value']\n",
    "        \n",
    "#   _map_val('sign_value_currency/currency', 'currency')\n",
    "#   _map_val('org-1-alias', 'org-1-alias')\n",
    "#   _map_val('org-2-alias', 'org-2-alias')\n",
    "#   _map_val('org-1-name', 'org-1-name')\n",
    "#   _map_val('org-2-name', 'org-2-name')\n",
    "#   _map_val('subject', 'subject')\n",
    " \n",
    "\n",
    "\n",
    "  if d.user is not None:\n",
    "    # if 'attributes_tree' in d.user and 'creation_date' in d.user['attributes_tree']:\n",
    "    # stats.at[_id, 'user_correction_date'] = d.user['attributes_tree']['creation_date']\n",
    "    stats.at[_id, 'user_correction_date'] = d.user[\n",
    "      'updateDate']  # find_in_dict('attributes_tree.creation_date', d.user)\n",
    "\n",
    "    \n",
    "print(get_version(jd))\n",
    "# print(jd.get_attributes_tree().get('price', {}).get('amount_netto', {}).get('value')   )\n",
    "# print(jd.get_attributes_tree().get('orgs', [{},{}])[0].get('name', {}).get('value'))\n",
    "# add_stats_record(jd, stats)\n",
    "stats.tail()\n",
    "# jd.get_attributes_tree()"
   ]
  },
  {
   "cell_type": "code",
   "execution_count": null,
   "id": "a08fc45b-4bb0-4264-936a-021d4e2ca288",
   "metadata": {},
   "outputs": [],
   "source": [
    "print(len(docs_ids))"
   ]
  },
  {
   "cell_type": "code",
   "execution_count": null,
   "id": "b08dd23d",
   "metadata": {
    "papermill": {
     "duration": 0.38132,
     "end_time": "2021-08-03T13:00:15.130505",
     "exception": false,
     "start_time": "2021-08-03T13:00:14.749185",
     "status": "completed"
    },
    "tags": []
   },
   "outputs": [],
   "source": [
    "for k, oid in enumerate(docs_ids):\n",
    "    d = get_doc_by_id(oid)\n",
    "    jd = DbJsonDoc(d)\n",
    "    \n",
    "    try:\n",
    "        add_stats_record(jd, stats)\n",
    "    except Exception as e:\n",
    "        print(jd.get_id())\n",
    "        raise (e)\n",
    "    \n",
    "    if k % 20 == 0:\n",
    "        print(f'{k} of {len(docs_ids)}')\n",
    "        stats.to_csv(export_fn, index=True)\n",
    "    \n",
    "stats.to_csv(export_fn, index=True)\n",
    "stats"
   ]
  },
  {
   "cell_type": "code",
   "execution_count": null,
   "id": "2b60b51d",
   "metadata": {
    "papermill": {
     "duration": 0.025526,
     "end_time": "2021-08-03T13:00:15.166217",
     "exception": false,
     "start_time": "2021-08-03T13:00:15.140691",
     "status": "completed"
    },
    "tags": []
   },
   "outputs": [],
   "source": [
    "stats2 = stats.copy()\n",
    "stats2['org-2-alias'] = stats2['org-2-alias'].str.lower()\n",
    "stats2['org-1-alias'] = stats2['org-1-alias'].str.lower()\n",
    "stats2['org-1-name'] = stats2['org-1-name'].str.lower()\n",
    "stats2['org-2-name'] = stats2['org-2-name'].str.lower()\n",
    "stats2"
   ]
  },
  {
   "cell_type": "code",
   "execution_count": null,
   "id": "05733268-ba37-4545-aa59-e45c7f11ff6c",
   "metadata": {
    "papermill": {
     "duration": 0.01442,
     "end_time": "2021-08-03T13:00:15.190797",
     "exception": false,
     "start_time": "2021-08-03T13:00:15.176377",
     "status": "completed"
    },
    "tags": []
   },
   "outputs": [],
   "source": [
    "stats2['subject'].value_counts()"
   ]
  },
  {
   "cell_type": "code",
   "execution_count": null,
   "id": "0891e080",
   "metadata": {
    "papermill": {
     "duration": 0.013939,
     "end_time": "2021-08-03T13:00:15.214522",
     "exception": false,
     "start_time": "2021-08-03T13:00:15.200583",
     "status": "completed"
    },
    "tags": []
   },
   "outputs": [],
   "source": [
    "stats2['org-1-alias'].value_counts()"
   ]
  },
  {
   "cell_type": "code",
   "execution_count": null,
   "id": "26686529",
   "metadata": {
    "papermill": {
     "duration": 0.0139,
     "end_time": "2021-08-03T13:00:15.238324",
     "exception": false,
     "start_time": "2021-08-03T13:00:15.224424",
     "status": "completed"
    },
    "tags": []
   },
   "outputs": [],
   "source": [
    "stats2['org-2-alias'].value_counts()"
   ]
  },
  {
   "cell_type": "code",
   "execution_count": null,
   "id": "a08ae79a",
   "metadata": {
    "papermill": {
     "duration": 0.724846,
     "end_time": "2021-08-03T13:00:15.973278",
     "exception": false,
     "start_time": "2021-08-03T13:00:15.248432",
     "status": "completed"
    },
    "tags": []
   },
   "outputs": [],
   "source": [
    "score_column_name = \"score\"\n",
    "\n",
    "def calc_no_value_importance(stats2, column_name, score_k=2.):\n",
    "        \n",
    "    for i, row in stats2.iterrows():\n",
    "        if pd.isna(row[column_name]):\n",
    "            stats2.at[i, score_column_name] *= score_k\n",
    "                \n",
    "def calc_user_importance(stats2):\n",
    "        \n",
    "    for i, row in stats2.iterrows():\n",
    "        if not pd.isna(row['unseen']):\n",
    "\n",
    "            if row['unseen'] == True:\n",
    "                stats2.at[i, score_column_name] *= 2\n",
    "                \n",
    "def calc_val_importance(stats2):\n",
    " \n",
    "    for i, row in stats2.iterrows():\n",
    "        if not pd.isna(row['value']):\n",
    "            val = row['value']\n",
    "            if val >= 2000:\n",
    "                stats2.at[i, score_column_name] *= 1./log1p(val)\n",
    "            if val < 2000:\n",
    "                stats2.at[i, score_column_name] *= 4.\n",
    "        else:\n",
    "            stats2.at[i, score_column_name] *= 10.0 #error\n",
    "            \n",
    "def calc_column_val_importance(stats2, column_name, k=1):\n",
    "    counts = stats2[column_name].value_counts()\n",
    " \n",
    "        \n",
    "    for i, row in stats2.iterrows():\n",
    "        val = row[column_name]\n",
    "        if val in counts:\n",
    "            count = counts[val]\n",
    "            stats2.at[i, score_column_name] *= k * log1p(count)\n",
    "#             print(count, log1p(count),  1./log1p(count))\n",
    "        else:\n",
    "            stats2.at[i, score_column_name] *= 10.0 #error\n",
    "\n",
    "            \n",
    "for i, row in stats2.iterrows():        \n",
    "  stats2.at[i, 'url'] = f'http://gpn-audit.nemosoft.ru/#/audit/edit/{i}'\n",
    "\n",
    "    \n",
    "stats2 ['unseen'] = pd.isna( stats2['user_correction_date'])\n",
    "\n",
    "stats2[score_column_name] = 1.\n",
    " \n",
    "\n",
    "calc_no_value_importance(stats2, 'org-1-alias', 2.)\n",
    "calc_no_value_importance(stats2, 'org-2-alias', 2.)\n",
    "calc_no_value_importance(stats2, 'org-1-name', 3.)\n",
    "calc_no_value_importance(stats2, 'org-2-name', 3.)\n",
    "calc_no_value_importance(stats2, 'user_correction_date', 10.)\n",
    "calc_no_value_importance(stats2, 'subject', 4.)\n",
    "calc_no_value_importance(stats2, 'value', 5.)\n",
    "\n",
    "## calc_column_val_importance(stats2, 'org-1-name')\n",
    "## calc_column_val_importance(stats2, 'org-2-name')\n",
    "\n",
    "calc_column_val_importance(stats2, 'org-1-alias')\n",
    "calc_column_val_importance(stats2, 'org-2-alias')\n",
    "calc_column_val_importance(stats2, 'subject', k = 3.)\n",
    "\n",
    "calc_user_importance(stats2)\n",
    "calc_val_importance(stats2)\n",
    "\n",
    "# drop_duplicates(subset=['checksum']).\n",
    "stats2 = stats2.sort_values([score_column_name], ascending=True)\n",
    "stats2.head(40)"
   ]
  },
  {
   "cell_type": "code",
   "execution_count": null,
   "id": "247ec184-15b0-4808-abc6-b3d7e729adc0",
   "metadata": {
    "papermill": {
     "duration": 0.013603,
     "end_time": "2021-08-03T13:00:15.997961",
     "exception": false,
     "start_time": "2021-08-03T13:00:15.984358",
     "status": "completed"
    },
    "tags": []
   },
   "outputs": [],
   "source": [
    "# sub = stats2.sort_values(['score'], ascending=True).copy()\n",
    "# sub"
   ]
  },
  {
   "cell_type": "markdown",
   "id": "a8d8cc3c-1899-4eb0-beab-967ed8148316",
   "metadata": {
    "papermill": {
     "duration": 0.011337,
     "end_time": "2021-08-03T13:00:16.020379",
     "exception": false,
     "start_time": "2021-08-03T13:00:16.009042",
     "status": "completed"
    },
    "tags": []
   },
   "source": [
    "## Find and remove duplicates"
   ]
  },
  {
   "cell_type": "code",
   "execution_count": null,
   "id": "f8ec7282-caa4-4eee-8289-6961e0e24eb1",
   "metadata": {
    "papermill": {
     "duration": 0.0276,
     "end_time": "2021-08-03T13:00:16.059913",
     "exception": false,
     "start_time": "2021-08-03T13:00:16.032313",
     "status": "completed"
    },
    "tags": []
   },
   "outputs": [],
   "source": [
    "stats2['len'] //= 5 #similar lens\n",
    "stats2['len'] *= 5 #similar lens\n",
    "stats2.sort_values(['len', 'org-1-name', 'org-2-name', 'org-1-alias','org-2-alias', 'value', 'subject'], ascending=False)"
   ]
  },
  {
   "cell_type": "code",
   "execution_count": null,
   "id": "e5701fce-1bf6-4b15-86dc-8aee903e160d",
   "metadata": {
    "papermill": {
     "duration": 0.093955,
     "end_time": "2021-08-03T13:00:16.165294",
     "exception": false,
     "start_time": "2021-08-03T13:00:16.071339",
     "status": "completed"
    },
    "tags": []
   },
   "outputs": [],
   "source": [
    "for i, row in stats2.iterrows():\n",
    "  _str = ':'.join(sorted([str(x) for x in\n",
    "                          [row['len'], row['org-1-alias'], row['org-2-alias'], row['org-1-name'], row['org-2-name'],\n",
    "                           row['value'], row['subject']]]))\n",
    "  stats2.at[i, 'hash'] = hash(_str)\n",
    "\n",
    "stats2 = stats2.sort_values(['hash'])\n"
   ]
  },
  {
   "cell_type": "code",
   "execution_count": null,
   "id": "23073dff-1fbc-4bef-aeae-cdd9fb3dfe0d",
   "metadata": {
    "papermill": {
     "duration": 0.076868,
     "end_time": "2021-08-03T13:00:16.253656",
     "exception": false,
     "start_time": "2021-08-03T13:00:16.176788",
     "status": "completed"
    },
    "tags": []
   },
   "outputs": [],
   "source": [
    "unks = stats2['hash'].value_counts()\n",
    "\n",
    "for i, row in stats2.iterrows():   \n",
    "    stats2.at[i, 'dups'] = unks[row['hash']]\n",
    "    \n",
    "dups = stats2.sort_values(['dups', 'hash'], ascending=False)\n",
    "# dups.to_csv(Path(work_dir) / 'contract_trainset_meta.duplicates.csv', index=True)\n",
    "\n",
    "# dups[40:].head(40)\n",
    "len(dups)"
   ]
  },
  {
   "cell_type": "code",
   "execution_count": null,
   "id": "dcf72526-1ad7-4699-91ac-abaeff5c23f7",
   "metadata": {
    "papermill": {
     "duration": 0.015314,
     "end_time": "2021-08-03T13:00:16.280531",
     "exception": false,
     "start_time": "2021-08-03T13:00:16.265217",
     "status": "completed"
    },
    "tags": []
   },
   "outputs": [],
   "source": [
    "unks"
   ]
  },
  {
   "cell_type": "markdown",
   "id": "b02726c5-9781-43a6-8b5d-5c18f108be97",
   "metadata": {
    "papermill": {
     "duration": 0.011486,
     "end_time": "2021-08-03T13:00:16.303604",
     "exception": false,
     "start_time": "2021-08-03T13:00:16.292118",
     "status": "completed"
    },
    "tags": []
   },
   "source": [
    "### Drop duplicates"
   ]
  },
  {
   "cell_type": "code",
   "execution_count": null,
   "id": "966b8c5e-1123-4bdb-a493-e4687e28a7ac",
   "metadata": {
    "papermill": {
     "duration": 0.019318,
     "end_time": "2021-08-03T13:00:16.335109",
     "exception": false,
     "start_time": "2021-08-03T13:00:16.315791",
     "status": "completed"
    },
    "tags": []
   },
   "outputs": [],
   "source": [
    "dups_s = dups.sort_values([score_column_name], ascending=True).copy()\n",
    "\n",
    "dups_s = dups_s.drop_duplicates(subset=['hash'])\n",
    "dups_s = dups_s.sort_values([score_column_name], ascending=True)\n",
    "\n",
    "\n",
    "dups_s = dups_s.sort_values([score_column_name], ascending=True)\n",
    "dups_s = dups_s[dups_s[score_column_name] < 5000]\n",
    "\n",
    "# dups_s [dups_s['len'] > 30000].head(40)"
   ]
  },
  {
   "cell_type": "markdown",
   "id": "291fcb98-2de6-4518-8746-fd436042a6fa",
   "metadata": {
    "papermill": {
     "duration": 0.011468,
     "end_time": "2021-08-03T13:00:16.358146",
     "exception": false,
     "start_time": "2021-08-03T13:00:16.346678",
     "status": "completed"
    },
    "tags": []
   },
   "source": [
    "## Remove rare subjects and very long docs"
   ]
  },
  {
   "cell_type": "code",
   "execution_count": null,
   "id": "556a1a76-b672-46e9-abf9-319b52f77c46",
   "metadata": {
    "papermill": {
     "duration": 0.060113,
     "end_time": "2021-08-03T13:00:16.429594",
     "exception": false,
     "start_time": "2021-08-03T13:00:16.369481",
     "status": "completed"
    },
    "tags": []
   },
   "outputs": [],
   "source": [
    "plt.figure(figsize=(12, 8))\n",
    "ax = dups_s[dups_s['len'] < 30000] ['len'].plot.hist(bins=40, alpha=0.8)"
   ]
  },
  {
   "cell_type": "code",
   "execution_count": null,
   "id": "6294dfac-cdc5-4167-a64d-9216f2ead251",
   "metadata": {
    "papermill": {
     "duration": 0.038499,
     "end_time": "2021-08-03T13:00:16.479798",
     "exception": false,
     "start_time": "2021-08-03T13:00:16.441299",
     "status": "completed"
    },
    "tags": []
   },
   "outputs": [],
   "source": [
    "plt.figure(figsize=(12, 8))\n",
    "ax = dups_s[score_column_name].plot.hist(bins=5, alpha=0.8)"
   ]
  },
  {
   "cell_type": "code",
   "execution_count": null,
   "id": "0087ee9d-297f-4d28-8fe2-c460bed597ed",
   "metadata": {
    "papermill": {
     "duration": 0.050659,
     "end_time": "2021-08-03T13:00:16.542195",
     "exception": false,
     "start_time": "2021-08-03T13:00:16.491536",
     "status": "completed"
    },
    "tags": []
   },
   "outputs": [],
   "source": [
    "\n",
    "dups_s['valid'] = True\n",
    "\n",
    "print(\"excluding too long docs\")\n",
    "for i, row in dups_s.iterrows():   \n",
    "    if row['len']>30000:\n",
    "        print ('excluding', row[0], row['subject'], row['len'])\n",
    "        dups_s.at[i, 'valid'] = False  \n",
    "        \n",
    "dups_s = dups_s[dups_s['valid'] == True]\n",
    "\n",
    "print(\"excluding docs with rare subj\")\n",
    "cnts = dups_s ['subject'].value_counts()\n",
    "for i, row in dups_s.iterrows():   \n",
    "    if not pd.isna(row['subject']):\n",
    "        if cnts[row['subject']] < 8:\n",
    "            print ('excluding', row[0], row['subject'])\n",
    "            dups_s.at[i, 'valid'] = False\n",
    "\n",
    "dups_s = dups_s[dups_s['valid'] == True]  "
   ]
  },
  {
   "cell_type": "code",
   "execution_count": null,
   "id": "550f3f82-a6bc-4644-9623-d74e84ae94b3",
   "metadata": {
    "papermill": {
     "duration": 0.087943,
     "end_time": "2021-08-03T13:00:16.642370",
     "exception": false,
     "start_time": "2021-08-03T13:00:16.554427",
     "status": "completed"
    },
    "tags": []
   },
   "outputs": [],
   "source": [
    "%matplotlib inline\n",
    "\n",
    "cnt = dups_s['subject'].value_counts()\n",
    "\n",
    "plt.figure(figsize=(12, 8))\n",
    "sns.barplot(x=cnt.values, y=cnt.index)\n",
    "\n",
    "plt.title('Frequency Distribution of subjects')\n",
    "plt.xlabel('Number of Occurrences')\n",
    "plt.show()\n",
    "print(cnt)"
   ]
  },
  {
   "cell_type": "code",
   "execution_count": null,
   "id": "3dedaa50-a9aa-4eb6-b238-be22cb52718b",
   "metadata": {
    "papermill": {
     "duration": 0.033856,
     "end_time": "2021-08-03T13:00:16.688321",
     "exception": false,
     "start_time": "2021-08-03T13:00:16.654465",
     "status": "completed"
    },
    "tags": []
   },
   "outputs": [],
   "source": [
    "dups_s.to_csv(Path(work_dir) / 'contract_trainset_meta.good.csv', index=True)\n",
    "\n",
    "\n",
    "_s = f\"### {len(dups_s)} - Всего новых документов в обучающем наборе на {lastdate}\"\n",
    "display(Markdown(_s))\n",
    "\n",
    "\n",
    "dups_s"
   ]
  },
  {
   "cell_type": "code",
   "execution_count": null,
   "id": "85be4347-cc76-4885-9691-e5edf14f1c55",
   "metadata": {
    "papermill": {
     "duration": 0.021286,
     "end_time": "2021-08-03T13:00:16.722326",
     "exception": false,
     "start_time": "2021-08-03T13:00:16.701040",
     "status": "completed"
    },
    "tags": []
   },
   "outputs": [],
   "source": [
    "dups_s[dups_s['unseen']].to_csv(Path(work_dir) / 'contract_trainset_meta.to_markup.csv', index=True)"
   ]
  },
  {
   "cell_type": "code",
   "execution_count": null,
   "id": "f1d76c06-1f5b-4626-95b8-216a550c8989",
   "metadata": {
    "papermill": {
     "duration": 0.025695,
     "end_time": "2021-08-03T13:00:16.761300",
     "exception": false,
     "start_time": "2021-08-03T13:00:16.735605",
     "status": "completed"
    },
    "tags": []
   },
   "outputs": [],
   "source": [
    "dups_s[dups_s['unseen']]"
   ]
  },
  {
   "cell_type": "code",
   "execution_count": null,
   "id": "fc0541d9-6b04-4ce8-a9cf-e3e4bc224ee1",
   "metadata": {
    "papermill": {
     "duration": 0.012798,
     "end_time": "2021-08-03T13:00:16.787093",
     "exception": false,
     "start_time": "2021-08-03T13:00:16.774295",
     "status": "completed"
    },
    "tags": []
   },
   "outputs": [],
   "source": []
  }
 ],
 "metadata": {
  "colab": {
   "collapsed_sections": [
    "9eF-UGHyh-C9",
    "7X_zYCYEdlPM",
    "lyI4hbTRFjyM"
   ],
   "name": "Local: structure keras uber model - clean train, evaluate, test.ipynb",
   "provenance": [],
   "toc_visible": true
  },
  "kernelspec": {
   "display_name": "Python 3 (ipykernel)",
   "language": "python",
   "name": "python3"
  },
  "language_info": {
   "codemirror_mode": {
    "name": "ipython",
    "version": 3
   },
   "file_extension": ".py",
   "mimetype": "text/x-python",
   "name": "python",
   "nbconvert_exporter": "python",
   "pygments_lexer": "ipython3",
   "version": "3.9.6"
  },
  "papermill": {
   "default_parameters": {},
   "duration": 10.184245,
   "end_time": "2021-08-03T13:00:20.283835",
   "environment_variables": {},
   "exception": null,
   "input_path": "trainsets/export_trainset.ipynb",
   "output_path": "trainsets/export_trainset.ipynb",
   "parameters": {},
   "start_time": "2021-08-03T13:00:10.099590",
   "version": "2.3.3"
  }
 },
 "nbformat": 4,
 "nbformat_minor": 5
}
