{
 "cells": [
  {
   "cell_type": "markdown",
   "id": "bdad2968",
   "metadata": {
    "colab_type": "text",
    "id": "JbsxFAqC6pjQ",
    "papermill": {
     "duration": 0.009014,
     "end_time": "2023-01-27T06:24:52.535392",
     "exception": false,
     "start_time": "2023-01-27T06:24:52.526378",
     "status": "completed"
    },
    "tags": []
   },
   "source": [
    "# Imports\\\n",
    "\n",
    "\n",
    "TODO:\n",
    "1) check value/vat/no vat\n",
    "2) check headlines, fix it\n"
   ]
  },
  {
   "cell_type": "code",
   "execution_count": 1,
   "id": "f4a2904d",
   "metadata": {
    "papermill": {
     "duration": 0.008724,
     "end_time": "2023-01-27T06:24:52.548646",
     "exception": false,
     "start_time": "2023-01-27T06:24:52.539922",
     "status": "completed"
    },
    "tags": []
   },
   "outputs": [],
   "source": [
    "# !export GPN_DB_HOST=192.168.10.36\n"
   ]
  },
  {
   "cell_type": "code",
   "execution_count": 2,
   "id": "e2e697f4",
   "metadata": {
    "papermill": {
     "duration": 0.008091,
     "end_time": "2023-01-27T06:24:52.561670",
     "exception": false,
     "start_time": "2023-01-27T06:24:52.553579",
     "status": "completed"
    },
    "tags": []
   },
   "outputs": [],
   "source": [
    "#!ls -la ../../work\n",
    "# #!mv ../../../documents.json.zip ../../work\n",
    "# # !unzip '../../work/documents.json.zip' '../../work/documents.json'\n",
    "# !mv documents.json ../../work"
   ]
  },
  {
   "cell_type": "code",
   "execution_count": 3,
   "id": "144422e3",
   "metadata": {
    "papermill": {
     "duration": 0.010537,
     "end_time": "2023-01-27T06:24:52.576917",
     "exception": false,
     "start_time": "2023-01-27T06:24:52.566380",
     "status": "completed"
    },
    "tags": []
   },
   "outputs": [],
   "source": [
    "IMPORT_FRESH_ONLY = True # re-import all if False"
   ]
  },
  {
   "cell_type": "code",
   "execution_count": 4,
   "id": "34048728",
   "metadata": {
    "colab": {},
    "colab_type": "code",
    "id": "JoHJkn9yQIgg",
    "papermill": {
     "duration": 1.174238,
     "end_time": "2023-01-27T06:24:53.755874",
     "exception": false,
     "start_time": "2023-01-27T06:24:52.581636",
     "status": "completed"
    },
    "tags": []
   },
   "outputs": [
    {
     "name": "stderr",
     "output_type": "stream",
     "text": [
      "2023-02-04 12:41:58.150494: I tensorflow/stream_executor/platform/default/dso_loader.cc:53] Successfully opened dynamic library libcudart.so.11.0\n",
      "DEBUG - 2023-02-04 12:42:00,690 - retrain_ipynb - --=logging started=--\n"
     ]
    },
    {
     "name": "stdout",
     "output_type": "stream",
     "text": [
      "tf 2.5.0\n",
      "Running on CPU:x86_64\n"
     ]
    }
   ],
   "source": [
    "import logging\n",
    "import platform\n",
    "import sys\n",
    "import os\n",
    "import seaborn as sns\n",
    "import matplotlib.pyplot as plt\n",
    "from IPython.display import display, Markdown\n",
    "from datetime import datetime\n",
    "import tensorflow as tf\n",
    "\n",
    "logger = logging.getLogger('retrain_ipynb')\n",
    "logger.setLevel(logging.DEBUG)\n",
    "\n",
    "\n",
    "ch = logging.StreamHandler()\n",
    "ch.setLevel(logging.DEBUG)\n",
    "formatter = logging.Formatter('%(levelname)s - %(asctime)s - %(name)s - %(message)s')\n",
    "ch.setFormatter(formatter)\n",
    "logger.addHandler(ch)\n",
    "logger.debug('--=logging started=--')\n",
    "\n",
    "print(\"tf\",tf.__version__)\n",
    "CPU = platform.processor()\n",
    "print (f'Running on CPU:{CPU}')\n",
    "\n"
   ]
  },
  {
   "cell_type": "code",
   "execution_count": 5,
   "id": "df479095",
   "metadata": {
    "colab": {},
    "colab_type": "code",
    "id": "ZiBqnGnQfKWF",
    "papermill": {
     "duration": 0.010097,
     "end_time": "2023-01-27T06:24:53.770893",
     "exception": false,
     "start_time": "2023-01-27T06:24:53.760796",
     "status": "completed"
    },
    "tags": []
   },
   "outputs": [
    {
     "name": "stdout",
     "output_type": "stream",
     "text": [
      "Nemoware Analyser v23.1.27.1\n",
      "USING WORKDIR: [/root/artem/work]\n",
      " set ENV GPN_WORK_DIR to override\n",
      "datasets_dir: [/root/artem/work/datasets]\n",
      "reports_dir: [/root/artem/work/reports]\n"
     ]
    },
    {
     "name": "stderr",
     "output_type": "stream",
     "text": [
      "/root/artem/analyser/analyser/hyperparams.py:15: UserWarning: please set GPN_WORK_DIR environment variable\n",
      "  warnings.warn('please set GPN_WORK_DIR environment variable')\n"
     ]
    }
   ],
   "source": [
    "nb_dir = os.path.split(os.getcwd())[0]\n",
    "if nb_dir not in sys.path:\n",
    "    sys.path.append(nb_dir)\n",
    "    \n",
    "import analyser.hyperparams "
   ]
  },
  {
   "cell_type": "markdown",
   "id": "62f2fed0",
   "metadata": {
    "papermill": {
     "duration": 0.004731,
     "end_time": "2023-01-27T06:24:53.780533",
     "exception": false,
     "start_time": "2023-01-27T06:24:53.775802",
     "status": "completed"
    },
    "tags": []
   },
   "source": [
    "\n",
    "### Imports..."
   ]
  },
  {
   "cell_type": "code",
   "execution_count": 6,
   "id": "a016391d",
   "metadata": {
    "colab": {},
    "colab_type": "code",
    "id": "jT7451NXspdw",
    "papermill": {
     "duration": 1.917095,
     "end_time": "2023-01-27T06:24:55.702410",
     "exception": false,
     "start_time": "2023-01-27T06:24:53.785315",
     "status": "completed"
    },
    "tags": []
   },
   "outputs": [
    {
     "name": "stdout",
     "output_type": "stream",
     "text": [
      "HyperParameters.subsidiary_name_match_min_jaro_similarity 0.9649122807017544\n"
     ]
    },
    {
     "name": "stderr",
     "output_type": "stream",
     "text": [
      "[currencies.py:17 -             _env_var() ] Currency-service : define GPN_CURRENCY_USER environment variable! defaulting to None\n",
      "[currencies.py:17 -             _env_var() ] Currency-service : define GPN_CURRENCY_PASSWORD environment variable! defaulting to None\n",
      "[currencies.py:17 -             _env_var() ] Currency-service : define GPN_CURRENCY_URL environment variable! defaulting to None\n",
      "[documents.py:270 -             __init__() ] loading word cases stats model from: /root/artem/analyser/analyser/vocab/word_cases_stats.pickle\n",
      "[tools.py:29 -             __init__() ] model_checkpoint_path: /root/artem/analyser/analyser/vocab\n"
     ]
    }
   ],
   "source": [
    "%matplotlib inline\n",
    "\n",
    "import pandas as pd\n",
    "import numpy as np\n",
    "from pandas import DataFrame\n",
    "\n",
    "from analyser.finalizer import get_doc_by_id\n",
    "from analyser.persistence import DbJsonDoc\n",
    "from integration.db import get_mongodb_connection\n",
    "\n",
    "from datetime import datetime\n",
    "from math import log1p\n",
    "from pandas import DataFrame\n",
    "from analyser.persistence import DbJsonDoc\n",
    "from colab_support.renderer import plot_embedding\n",
    "\n",
    "from analyser.structures import DocumentState\n",
    "\n",
    "from pathlib import Path\n",
    "from bson import ObjectId\n",
    "\n",
    "from datetime import date\n",
    "from dateutil.relativedelta import relativedelta\n",
    "\n",
    "# from tf_support.super_contract_model import seq_labels_contract, seq_labels_contract_swap_orgs\n",
    "# \n"
   ]
  },
  {
   "cell_type": "markdown",
   "id": "3a93f937",
   "metadata": {
    "papermill": {
     "duration": 0.008546,
     "end_time": "2023-01-27T06:24:55.730011",
     "exception": false,
     "start_time": "2023-01-27T06:24:55.721465",
     "status": "completed"
    },
    "tags": []
   },
   "source": [
    "### Prepare workdir"
   ]
  },
  {
   "cell_type": "code",
   "execution_count": 7,
   "id": "01c10845",
   "metadata": {
    "colab": {
     "base_uri": "https://localhost:8080/",
     "height": 87
    },
    "colab_type": "code",
    "id": "pexvDJbAtZM0",
    "outputId": "4f7e6e34-d675-423d-d102-1020d49d854f",
    "papermill": {
     "duration": 0.009415,
     "end_time": "2023-01-27T06:24:55.744596",
     "exception": false,
     "start_time": "2023-01-27T06:24:55.735181",
     "status": "completed"
    },
    "tags": []
   },
   "outputs": [
    {
     "name": "stdout",
     "output_type": "stream",
     "text": [
      "work_dir= /root/artem/work\n"
     ]
    }
   ],
   "source": [
    "_work_dir_default = Path(analyser.hyperparams.__file__).parent.parent.parent / 'work'\n",
    "work_dir = os.environ.get('GPN_WORK_DIR', _work_dir_default)\n",
    "\n",
    "if not os.path.isdir(work_dir):\n",
    "    os.mkdir(work_dir)\n",
    "\n",
    "analyser.hyperparams.work_dir = work_dir\n",
    " \n",
    "\n",
    "print('work_dir=', analyser.hyperparams.work_dir)\n",
    "assert os.path.isdir(analyser.hyperparams.work_dir)"
   ]
  },
  {
   "cell_type": "markdown",
   "id": "5919d82d",
   "metadata": {
    "papermill": {
     "duration": 0.004965,
     "end_time": "2023-01-27T06:24:55.754721",
     "exception": false,
     "start_time": "2023-01-27T06:24:55.749756",
     "status": "completed"
    },
    "tags": []
   },
   "source": [
    "### Query DB for contact IDs"
   ]
  },
  {
   "cell_type": "markdown",
   "id": "30c90350",
   "metadata": {
    "papermill": {
     "duration": 0.004863,
     "end_time": "2023-01-27T06:24:55.764548",
     "exception": false,
     "start_time": "2023-01-27T06:24:55.759685",
     "status": "completed"
    },
    "tags": []
   },
   "source": [
    "#### Load meta data CSV"
   ]
  },
  {
   "cell_type": "code",
   "execution_count": null,
   "id": "feb3e7f0",
   "metadata": {
    "papermill": {
     "duration": 0.134271,
     "end_time": "2023-01-27T06:24:55.903789",
     "exception": false,
     "start_time": "2023-01-27T06:24:55.769518",
     "status": "completed"
    },
    "tags": []
   },
   "outputs": [],
   "source": [
    "!touch /root/artem/work/contract_trainset_meta.temp.csv"
   ]
  },
  {
   "cell_type": "code",
   "execution_count": null,
   "id": "7d9ef6fb",
   "metadata": {
    "papermill": {
     "duration": 0.015141,
     "end_time": "2023-01-27T06:24:55.950017",
     "exception": false,
     "start_time": "2023-01-27T06:24:55.934876",
     "status": "completed"
    },
    "tags": []
   },
   "outputs": [],
   "source": [
    "\n"
   ]
  },
  {
   "cell_type": "code",
   "execution_count": null,
   "id": "72dfe325",
   "metadata": {
    "papermill": {
     "duration": 0.012031,
     "end_time": "2023-01-27T06:24:55.971601",
     "exception": false,
     "start_time": "2023-01-27T06:24:55.959570",
     "status": "completed"
    },
    "tags": []
   },
   "outputs": [],
   "source": [
    "# stats[[\"user_correction_date\", 'analyze_date']].max().max()"
   ]
  },
  {
   "cell_type": "code",
   "execution_count": 11,
   "id": "da7a294c",
   "metadata": {
    "papermill": {
     "duration": 0.074671,
     "end_time": "2023-01-27T06:24:56.051866",
     "exception": false,
     "start_time": "2023-01-27T06:24:55.977195",
     "status": "completed"
    },
    "tags": []
   },
   "outputs": [
    {
     "name": "stdout",
     "output_type": "stream",
     "text": [
      "lastdate=2023-02-04 11:02:49.897000+00:00 ; export_fn=/root/artem/work/contract_trainset_meta.temp.csv\n"
     ]
    },
    {
     "data": {
      "text/html": [
       "<div>\n",
       "<style scoped>\n",
       "    .dataframe tbody tr th:only-of-type {\n",
       "        vertical-align: middle;\n",
       "    }\n",
       "\n",
       "    .dataframe tbody tr th {\n",
       "        vertical-align: top;\n",
       "    }\n",
       "\n",
       "    .dataframe thead th {\n",
       "        text-align: right;\n",
       "    }\n",
       "</style>\n",
       "<table border=\"1\" class=\"dataframe\">\n",
       "  <thead>\n",
       "    <tr style=\"text-align: right;\">\n",
       "      <th></th>\n",
       "      <th>source</th>\n",
       "      <th>checksum</th>\n",
       "      <th>version</th>\n",
       "      <th>export_date</th>\n",
       "      <th>len</th>\n",
       "      <th>analyze_date</th>\n",
       "      <th>value</th>\n",
       "      <th>value_log1p</th>\n",
       "      <th>value_span</th>\n",
       "      <th>currency</th>\n",
       "      <th>...</th>\n",
       "      <th>org-1-alias</th>\n",
       "      <th>org-2-name</th>\n",
       "      <th>org-2-alias</th>\n",
       "      <th>subject</th>\n",
       "      <th>subject confidence</th>\n",
       "      <th>user_correction_date</th>\n",
       "      <th>valid</th>\n",
       "      <th>documentType</th>\n",
       "      <th>subj_len</th>\n",
       "      <th>headers</th>\n",
       "    </tr>\n",
       "  </thead>\n",
       "  <tbody>\n",
       "    <tr>\n",
       "      <th>5ec2b8da665f7603e03b1255</th>\n",
       "      <td>db</td>\n",
       "      <td>3187bfac60ea578221c5d9357756c6c1</td>\n",
       "      <td>1.6.5</td>\n",
       "      <td>2023-02-01 17:26:52.044394</td>\n",
       "      <td>5847.0</td>\n",
       "      <td>2020-05-18 17:16:38.114000+00:00</td>\n",
       "      <td>25236322.0</td>\n",
       "      <td>17.043795</td>\n",
       "      <td>5674.0</td>\n",
       "      <td>BRL</td>\n",
       "      <td>...</td>\n",
       "      <td>ГПН</td>\n",
       "      <td>SUN</td>\n",
       "      <td>SUN</td>\n",
       "      <td>Service</td>\n",
       "      <td>1.000000</td>\n",
       "      <td>2023-01-27 10:27:22.086000+00:00</td>\n",
       "      <td>True</td>\n",
       "      <td>CONTRACT</td>\n",
       "      <td>79.0</td>\n",
       "      <td>4.0</td>\n",
       "    </tr>\n",
       "    <tr>\n",
       "      <th>5fb376e2d8c9df1ed123726c</th>\n",
       "      <td>db</td>\n",
       "      <td>f7c027bb799a50d6fda9d32443bb9cdd</td>\n",
       "      <td>2.0.5</td>\n",
       "      <td>2023-01-31 18:32:26.281114</td>\n",
       "      <td>2794.0</td>\n",
       "      <td>2020-11-17 07:11:23.321000+00:00</td>\n",
       "      <td>2970.0</td>\n",
       "      <td>7.996654</td>\n",
       "      <td>1364.0</td>\n",
       "      <td>RUB</td>\n",
       "      <td>...</td>\n",
       "      <td>Покупатель</td>\n",
       "      <td>Иідате. тьско-ііо. тиі рафнческое предприятие ...</td>\n",
       "      <td>Поставщик</td>\n",
       "      <td>Deal</td>\n",
       "      <td>1.000000</td>\n",
       "      <td>2022-12-08 12:28:06.617000+00:00</td>\n",
       "      <td>True</td>\n",
       "      <td>CONTRACT</td>\n",
       "      <td>82.0</td>\n",
       "      <td>17.0</td>\n",
       "    </tr>\n",
       "    <tr>\n",
       "      <th>5fb399dc39d5e82e90818474</th>\n",
       "      <td>db</td>\n",
       "      <td>375f811ae7c0edcc737d7342373710cb</td>\n",
       "      <td>2.0.5</td>\n",
       "      <td>2023-01-31 18:32:26.380129</td>\n",
       "      <td>3742.0</td>\n",
       "      <td>2020-11-17 09:56:11.605000+00:00</td>\n",
       "      <td>90000.0</td>\n",
       "      <td>11.407576</td>\n",
       "      <td>1834.0</td>\n",
       "      <td>RUB</td>\n",
       "      <td>...</td>\n",
       "      <td>Арендатор</td>\n",
       "      <td>Фонд исследований, инноваций, инвестиций Тюмен...</td>\n",
       "      <td>Арендодатель</td>\n",
       "      <td>Renting</td>\n",
       "      <td>1.000000</td>\n",
       "      <td>2022-12-07 08:14:03.960000+00:00</td>\n",
       "      <td>True</td>\n",
       "      <td>CONTRACT</td>\n",
       "      <td>97.0</td>\n",
       "      <td>13.0</td>\n",
       "    </tr>\n",
       "    <tr>\n",
       "      <th>5fb3b97d00881c332b567292</th>\n",
       "      <td>db</td>\n",
       "      <td>5f4482e55f27e0fcb20b1ffd819d0260</td>\n",
       "      <td>2.0.5</td>\n",
       "      <td>2023-01-31 18:35:58.018598</td>\n",
       "      <td>2248.0</td>\n",
       "      <td>2020-11-17 12:01:39.924000+00:00</td>\n",
       "      <td>NaN</td>\n",
       "      <td>NaN</td>\n",
       "      <td>NaN</td>\n",
       "      <td>NaN</td>\n",
       "      <td>...</td>\n",
       "      <td>Принципал</td>\n",
       "      <td>Газпромнефть-Снабжение</td>\n",
       "      <td>Агент</td>\n",
       "      <td>AgencyContract</td>\n",
       "      <td>1.000000</td>\n",
       "      <td>2022-12-08 11:25:15.676000+00:00</td>\n",
       "      <td>True</td>\n",
       "      <td>CONTRACT</td>\n",
       "      <td>86.0</td>\n",
       "      <td>15.0</td>\n",
       "    </tr>\n",
       "    <tr>\n",
       "      <th>5fb3b97e00881c332b5672bd</th>\n",
       "      <td>db</td>\n",
       "      <td>eb69b91855f471b6db8deb924eb34aa5</td>\n",
       "      <td>2.0.5</td>\n",
       "      <td>2023-01-31 18:32:26.391339</td>\n",
       "      <td>3546.0</td>\n",
       "      <td>2020-11-17 12:12:00.629000+00:00</td>\n",
       "      <td>15482412.0</td>\n",
       "      <td>16.555215</td>\n",
       "      <td>699.0</td>\n",
       "      <td>RUB</td>\n",
       "      <td>...</td>\n",
       "      <td>Агент</td>\n",
       "      <td>ГазРромнефть-ГЕО</td>\n",
       "      <td>Принципал</td>\n",
       "      <td>AgencyContract</td>\n",
       "      <td>1.000000</td>\n",
       "      <td>2022-12-08 19:01:33.745000+00:00</td>\n",
       "      <td>True</td>\n",
       "      <td>CONTRACT</td>\n",
       "      <td>55.0</td>\n",
       "      <td>19.0</td>\n",
       "    </tr>\n",
       "    <tr>\n",
       "      <th>...</th>\n",
       "      <td>...</td>\n",
       "      <td>...</td>\n",
       "      <td>...</td>\n",
       "      <td>...</td>\n",
       "      <td>...</td>\n",
       "      <td>...</td>\n",
       "      <td>...</td>\n",
       "      <td>...</td>\n",
       "      <td>...</td>\n",
       "      <td>...</td>\n",
       "      <td>...</td>\n",
       "      <td>...</td>\n",
       "      <td>...</td>\n",
       "      <td>...</td>\n",
       "      <td>...</td>\n",
       "      <td>...</td>\n",
       "      <td>...</td>\n",
       "      <td>...</td>\n",
       "      <td>...</td>\n",
       "      <td>...</td>\n",
       "      <td>...</td>\n",
       "    </tr>\n",
       "    <tr>\n",
       "      <th>63dccb422c90db0b7a62aaa0</th>\n",
       "      <td>db</td>\n",
       "      <td>0fd8c821da37f3fa8e44c53767fb7842</td>\n",
       "      <td>23.01.23</td>\n",
       "      <td>2023-02-04 11:26:26.620470</td>\n",
       "      <td>1398.0</td>\n",
       "      <td>2023-02-03 12:45:55.389000+00:00</td>\n",
       "      <td>NaN</td>\n",
       "      <td>NaN</td>\n",
       "      <td>NaN</td>\n",
       "      <td>рублей</td>\n",
       "      <td>...</td>\n",
       "      <td>Займодавец</td>\n",
       "      <td>ИТО</td>\n",
       "      <td>Заемщик</td>\n",
       "      <td>Loans</td>\n",
       "      <td>0.811065</td>\n",
       "      <td>NaT</td>\n",
       "      <td>True</td>\n",
       "      <td>CONTRACT</td>\n",
       "      <td>84.0</td>\n",
       "      <td>12.0</td>\n",
       "    </tr>\n",
       "    <tr>\n",
       "      <th>63dccb3f2c90db0b7a62aa4f</th>\n",
       "      <td>db</td>\n",
       "      <td>63eb26415678c8e225543264d981d460</td>\n",
       "      <td>23.01.23</td>\n",
       "      <td>2023-02-04 11:26:26.670686</td>\n",
       "      <td>422.0</td>\n",
       "      <td>2023-02-03 12:46:57.294000+00:00</td>\n",
       "      <td>NaN</td>\n",
       "      <td>NaN</td>\n",
       "      <td>NaN</td>\n",
       "      <td>NaN</td>\n",
       "      <td>...</td>\n",
       "      <td>Займодавец</td>\n",
       "      <td>Канарейка</td>\n",
       "      <td>NaN</td>\n",
       "      <td>Other</td>\n",
       "      <td>0.961689</td>\n",
       "      <td>NaT</td>\n",
       "      <td>False</td>\n",
       "      <td>SUPPLEMENTARY_AGREEMENT</td>\n",
       "      <td>1.0</td>\n",
       "      <td>2.0</td>\n",
       "    </tr>\n",
       "    <tr>\n",
       "      <th>63dccb3f2c90db0b7a62aa5d</th>\n",
       "      <td>db</td>\n",
       "      <td>5b8260ef4f47dfb261a3ee74193fc576</td>\n",
       "      <td>23.01.23</td>\n",
       "      <td>2023-02-04 11:26:26.675975</td>\n",
       "      <td>432.0</td>\n",
       "      <td>2023-02-03 12:47:14.155000+00:00</td>\n",
       "      <td>NaN</td>\n",
       "      <td>NaN</td>\n",
       "      <td>NaN</td>\n",
       "      <td>NaN</td>\n",
       "      <td>...</td>\n",
       "      <td>Займодавец</td>\n",
       "      <td>Канарейка</td>\n",
       "      <td>NaN</td>\n",
       "      <td>Other</td>\n",
       "      <td>0.961693</td>\n",
       "      <td>NaT</td>\n",
       "      <td>False</td>\n",
       "      <td>SUPPLEMENTARY_AGREEMENT</td>\n",
       "      <td>1.0</td>\n",
       "      <td>3.0</td>\n",
       "    </tr>\n",
       "    <tr>\n",
       "      <th>63dccb402c90db0b7a62aa77</th>\n",
       "      <td>db</td>\n",
       "      <td>94bb8a85bfb0d2168a144ec23aa7e99b</td>\n",
       "      <td>23.01.23</td>\n",
       "      <td>2023-02-04 11:26:26.684980</td>\n",
       "      <td>360.0</td>\n",
       "      <td>2023-02-03 12:47:53.920000+00:00</td>\n",
       "      <td>NaN</td>\n",
       "      <td>NaN</td>\n",
       "      <td>NaN</td>\n",
       "      <td>NaN</td>\n",
       "      <td>...</td>\n",
       "      <td>Займодавец</td>\n",
       "      <td>Союз</td>\n",
       "      <td>Заемщик</td>\n",
       "      <td>Other</td>\n",
       "      <td>0.857242</td>\n",
       "      <td>NaT</td>\n",
       "      <td>False</td>\n",
       "      <td>SUPPLEMENTARY_AGREEMENT</td>\n",
       "      <td>1.0</td>\n",
       "      <td>1.0</td>\n",
       "    </tr>\n",
       "    <tr>\n",
       "      <th>63dccb412c90db0b7a62aa98</th>\n",
       "      <td>db</td>\n",
       "      <td>5b8260ef4f47dfb261a3ee74193fc576</td>\n",
       "      <td>23.01.23</td>\n",
       "      <td>2023-02-04 11:26:26.692035</td>\n",
       "      <td>432.0</td>\n",
       "      <td>2023-02-03 12:48:01.599000+00:00</td>\n",
       "      <td>NaN</td>\n",
       "      <td>NaN</td>\n",
       "      <td>NaN</td>\n",
       "      <td>NaN</td>\n",
       "      <td>...</td>\n",
       "      <td>Займодавец</td>\n",
       "      <td>Канарейка</td>\n",
       "      <td>NaN</td>\n",
       "      <td>Other</td>\n",
       "      <td>0.961693</td>\n",
       "      <td>NaT</td>\n",
       "      <td>True</td>\n",
       "      <td>SUPPLEMENTARY_AGREEMENT</td>\n",
       "      <td>1.0</td>\n",
       "      <td>3.0</td>\n",
       "    </tr>\n",
       "  </tbody>\n",
       "</table>\n",
       "<p>6780 rows × 21 columns</p>\n",
       "</div>"
      ],
      "text/plain": [
       "                         source                          checksum   version  \\\n",
       "5ec2b8da665f7603e03b1255     db  3187bfac60ea578221c5d9357756c6c1     1.6.5   \n",
       "5fb376e2d8c9df1ed123726c     db  f7c027bb799a50d6fda9d32443bb9cdd     2.0.5   \n",
       "5fb399dc39d5e82e90818474     db  375f811ae7c0edcc737d7342373710cb     2.0.5   \n",
       "5fb3b97d00881c332b567292     db  5f4482e55f27e0fcb20b1ffd819d0260     2.0.5   \n",
       "5fb3b97e00881c332b5672bd     db  eb69b91855f471b6db8deb924eb34aa5     2.0.5   \n",
       "...                         ...                               ...       ...   \n",
       "63dccb422c90db0b7a62aaa0     db  0fd8c821da37f3fa8e44c53767fb7842  23.01.23   \n",
       "63dccb3f2c90db0b7a62aa4f     db  63eb26415678c8e225543264d981d460  23.01.23   \n",
       "63dccb3f2c90db0b7a62aa5d     db  5b8260ef4f47dfb261a3ee74193fc576  23.01.23   \n",
       "63dccb402c90db0b7a62aa77     db  94bb8a85bfb0d2168a144ec23aa7e99b  23.01.23   \n",
       "63dccb412c90db0b7a62aa98     db  5b8260ef4f47dfb261a3ee74193fc576  23.01.23   \n",
       "\n",
       "                                         export_date     len  \\\n",
       "5ec2b8da665f7603e03b1255  2023-02-01 17:26:52.044394  5847.0   \n",
       "5fb376e2d8c9df1ed123726c  2023-01-31 18:32:26.281114  2794.0   \n",
       "5fb399dc39d5e82e90818474  2023-01-31 18:32:26.380129  3742.0   \n",
       "5fb3b97d00881c332b567292  2023-01-31 18:35:58.018598  2248.0   \n",
       "5fb3b97e00881c332b5672bd  2023-01-31 18:32:26.391339  3546.0   \n",
       "...                                              ...     ...   \n",
       "63dccb422c90db0b7a62aaa0  2023-02-04 11:26:26.620470  1398.0   \n",
       "63dccb3f2c90db0b7a62aa4f  2023-02-04 11:26:26.670686   422.0   \n",
       "63dccb3f2c90db0b7a62aa5d  2023-02-04 11:26:26.675975   432.0   \n",
       "63dccb402c90db0b7a62aa77  2023-02-04 11:26:26.684980   360.0   \n",
       "63dccb412c90db0b7a62aa98  2023-02-04 11:26:26.692035   432.0   \n",
       "\n",
       "                                             analyze_date       value  \\\n",
       "5ec2b8da665f7603e03b1255 2020-05-18 17:16:38.114000+00:00  25236322.0   \n",
       "5fb376e2d8c9df1ed123726c 2020-11-17 07:11:23.321000+00:00      2970.0   \n",
       "5fb399dc39d5e82e90818474 2020-11-17 09:56:11.605000+00:00     90000.0   \n",
       "5fb3b97d00881c332b567292 2020-11-17 12:01:39.924000+00:00         NaN   \n",
       "5fb3b97e00881c332b5672bd 2020-11-17 12:12:00.629000+00:00  15482412.0   \n",
       "...                                                   ...         ...   \n",
       "63dccb422c90db0b7a62aaa0 2023-02-03 12:45:55.389000+00:00         NaN   \n",
       "63dccb3f2c90db0b7a62aa4f 2023-02-03 12:46:57.294000+00:00         NaN   \n",
       "63dccb3f2c90db0b7a62aa5d 2023-02-03 12:47:14.155000+00:00         NaN   \n",
       "63dccb402c90db0b7a62aa77 2023-02-03 12:47:53.920000+00:00         NaN   \n",
       "63dccb412c90db0b7a62aa98 2023-02-03 12:48:01.599000+00:00         NaN   \n",
       "\n",
       "                          value_log1p  value_span currency  ... org-1-alias  \\\n",
       "5ec2b8da665f7603e03b1255    17.043795      5674.0      BRL  ...         ГПН   \n",
       "5fb376e2d8c9df1ed123726c     7.996654      1364.0      RUB  ...  Покупатель   \n",
       "5fb399dc39d5e82e90818474    11.407576      1834.0      RUB  ...   Арендатор   \n",
       "5fb3b97d00881c332b567292          NaN         NaN      NaN  ...   Принципал   \n",
       "5fb3b97e00881c332b5672bd    16.555215       699.0      RUB  ...       Агент   \n",
       "...                               ...         ...      ...  ...         ...   \n",
       "63dccb422c90db0b7a62aaa0          NaN         NaN   рублей  ...  Займодавец   \n",
       "63dccb3f2c90db0b7a62aa4f          NaN         NaN      NaN  ...  Займодавец   \n",
       "63dccb3f2c90db0b7a62aa5d          NaN         NaN      NaN  ...  Займодавец   \n",
       "63dccb402c90db0b7a62aa77          NaN         NaN      NaN  ...  Займодавец   \n",
       "63dccb412c90db0b7a62aa98          NaN         NaN      NaN  ...  Займодавец   \n",
       "\n",
       "                                                                 org-2-name  \\\n",
       "5ec2b8da665f7603e03b1255                                                SUN   \n",
       "5fb376e2d8c9df1ed123726c  Иідате. тьско-ііо. тиі рафнческое предприятие ...   \n",
       "5fb399dc39d5e82e90818474  Фонд исследований, инноваций, инвестиций Тюмен...   \n",
       "5fb3b97d00881c332b567292                             Газпромнефть-Снабжение   \n",
       "5fb3b97e00881c332b5672bd                                   ГазРромнефть-ГЕО   \n",
       "...                                                                     ...   \n",
       "63dccb422c90db0b7a62aaa0                                                ИТО   \n",
       "63dccb3f2c90db0b7a62aa4f                                          Канарейка   \n",
       "63dccb3f2c90db0b7a62aa5d                                          Канарейка   \n",
       "63dccb402c90db0b7a62aa77                                               Союз   \n",
       "63dccb412c90db0b7a62aa98                                          Канарейка   \n",
       "\n",
       "                           org-2-alias         subject subject confidence  \\\n",
       "5ec2b8da665f7603e03b1255           SUN         Service           1.000000   \n",
       "5fb376e2d8c9df1ed123726c     Поставщик            Deal           1.000000   \n",
       "5fb399dc39d5e82e90818474  Арендодатель         Renting           1.000000   \n",
       "5fb3b97d00881c332b567292         Агент  AgencyContract           1.000000   \n",
       "5fb3b97e00881c332b5672bd     Принципал  AgencyContract           1.000000   \n",
       "...                                ...             ...                ...   \n",
       "63dccb422c90db0b7a62aaa0       Заемщик           Loans           0.811065   \n",
       "63dccb3f2c90db0b7a62aa4f           NaN           Other           0.961689   \n",
       "63dccb3f2c90db0b7a62aa5d           NaN           Other           0.961693   \n",
       "63dccb402c90db0b7a62aa77       Заемщик           Other           0.857242   \n",
       "63dccb412c90db0b7a62aa98           NaN           Other           0.961693   \n",
       "\n",
       "                                     user_correction_date  valid  \\\n",
       "5ec2b8da665f7603e03b1255 2023-01-27 10:27:22.086000+00:00   True   \n",
       "5fb376e2d8c9df1ed123726c 2022-12-08 12:28:06.617000+00:00   True   \n",
       "5fb399dc39d5e82e90818474 2022-12-07 08:14:03.960000+00:00   True   \n",
       "5fb3b97d00881c332b567292 2022-12-08 11:25:15.676000+00:00   True   \n",
       "5fb3b97e00881c332b5672bd 2022-12-08 19:01:33.745000+00:00   True   \n",
       "...                                                   ...    ...   \n",
       "63dccb422c90db0b7a62aaa0                              NaT   True   \n",
       "63dccb3f2c90db0b7a62aa4f                              NaT  False   \n",
       "63dccb3f2c90db0b7a62aa5d                              NaT  False   \n",
       "63dccb402c90db0b7a62aa77                              NaT  False   \n",
       "63dccb412c90db0b7a62aa98                              NaT   True   \n",
       "\n",
       "                                     documentType subj_len  headers  \n",
       "5ec2b8da665f7603e03b1255                 CONTRACT     79.0      4.0  \n",
       "5fb376e2d8c9df1ed123726c                 CONTRACT     82.0     17.0  \n",
       "5fb399dc39d5e82e90818474                 CONTRACT     97.0     13.0  \n",
       "5fb3b97d00881c332b567292                 CONTRACT     86.0     15.0  \n",
       "5fb3b97e00881c332b5672bd                 CONTRACT     55.0     19.0  \n",
       "...                                           ...      ...      ...  \n",
       "63dccb422c90db0b7a62aaa0                 CONTRACT     84.0     12.0  \n",
       "63dccb3f2c90db0b7a62aa4f  SUPPLEMENTARY_AGREEMENT      1.0      2.0  \n",
       "63dccb3f2c90db0b7a62aa5d  SUPPLEMENTARY_AGREEMENT      1.0      3.0  \n",
       "63dccb402c90db0b7a62aa77  SUPPLEMENTARY_AGREEMENT      1.0      1.0  \n",
       "63dccb412c90db0b7a62aa98  SUPPLEMENTARY_AGREEMENT      1.0      3.0  \n",
       "\n",
       "[6780 rows x 21 columns]"
      ]
     },
     "execution_count": 11,
     "metadata": {},
     "output_type": "execute_result"
    }
   ],
   "source": [
    "export_fn = str(Path(work_dir) / 'contract_trainset_meta.temp.csv')\n",
    "# stats = pd.read_csv(export_fn, index_col=0)\n",
    "\n",
    "try:\n",
    "    stats = pd.read_csv(export_fn, index_col=0)\n",
    "    if not 'analyze_date' in stats:\n",
    "        stats['analyze_date'] = None\n",
    "        \n",
    "    if not 'documentType' in stats:\n",
    "        stats['documentType'] = 'Unknown'\n",
    "    \n",
    "    stats['user_correction_date'] = pd.to_datetime(stats['user_correction_date'], utc=True)\n",
    "    stats['analyze_date'] = pd.to_datetime(stats['analyze_date'], utc=True)\n",
    "\n",
    "    lastdate = stats[[\"user_correction_date\", 'analyze_date']].max().max()\n",
    "    \n",
    "except Exception as ex:\n",
    "    print(f'ERROR: cannot load {export_fn}')\n",
    "    logger.exception(ex)\n",
    "    logger.error(f'cannot load {export_fn}')\n",
    "\n",
    "    lastdate = datetime(1900, 1, 1)\n",
    "    stats = DataFrame()\n",
    "    \n",
    "    \n",
    "if not IMPORT_FRESH_ONLY:\n",
    "    lastdate = datetime(1900, 1, 1)\n",
    "    \n",
    "print(f'lastdate={lastdate} ; export_fn={export_fn}')\n",
    "stats['source'] = 'db'\n",
    "stats"
   ]
  },
  {
   "cell_type": "markdown",
   "id": "acbd85c1",
   "metadata": {
    "papermill": {
     "duration": 0.005487,
     "end_time": "2023-01-27T06:24:59.001630",
     "exception": false,
     "start_time": "2023-01-27T06:24:58.996143",
     "status": "completed"
    },
    "tags": []
   },
   "source": [
    "# functions"
   ]
  },
  {
   "cell_type": "code",
   "execution_count": 12,
   "id": "3732e204",
   "metadata": {
    "papermill": {
     "duration": 0.013761,
     "end_time": "2023-01-27T06:24:59.020888",
     "exception": false,
     "start_time": "2023-01-27T06:24:59.007127",
     "status": "completed"
    },
    "tags": []
   },
   "outputs": [
    {
     "name": "stdout",
     "output_type": "stream",
     "text": [
      "DB HOST IS: 192.168.10.36\n"
     ]
    },
    {
     "name": "stderr",
     "output_type": "stream",
     "text": [
      "/root/artem/analyser/integration/db.py:13: UserWarning: MongoDB : define GPN_DB_NAME environment variable! defaulting to gpn\n",
      "  warnings.warn(msg)\n",
      "/root/artem/analyser/integration/db.py:13: UserWarning: MongoDB : define GPN_DB_PORT environment variable! defaulting to 27017\n",
      "  warnings.warn(msg)\n",
      "/root/artem/analyser/integration/db.py:13: UserWarning: MongoDB : define GPN_DB_USER environment variable! defaulting to None\n",
      "  warnings.warn(msg)\n",
      "/root/artem/analyser/integration/db.py:13: UserWarning: MongoDB : define GPN_DB_PASSWORD environment variable! defaulting to None\n",
      "  warnings.warn(msg)\n",
      "/root/artem/analyser/integration/db.py:13: UserWarning: MongoDB : define GPN_USE_MONGO_TLS environment variable! defaulting to False\n",
      "  warnings.warn(msg)\n",
      "/root/artem/analyser/integration/db.py:13: UserWarning: MongoDB : define GPN_DB_TLS_CA environment variable! defaulting to None\n",
      "  warnings.warn(msg)\n",
      "/root/artem/analyser/integration/db.py:13: UserWarning: MongoDB : define GPN_DB_TLS_KEY environment variable! defaulting to None\n",
      "  warnings.warn(msg)\n"
     ]
    },
    {
     "data": {
      "text/plain": [
       "source                                                db\n",
       "checksum                da2dd54cdcc5b4480207c9def7741d14\n",
       "version                                           2.3.13\n",
       "export_date                   2023-02-04 12:47:16.776299\n",
       "len                                                  759\n",
       "analyze_date            2020-12-23 17:14:16.727000+00:00\n",
       "value                                           1.64e+06\n",
       "value_log1p                                      14.3102\n",
       "value_span                                           128\n",
       "currency                                             RUB\n",
       "org-1-name                        Газпромнефть-Снабжение\n",
       "org-1-alias                               Благотворитель\n",
       "org-2-name                           инициатив «Эпсилон»\n",
       "org-2-alias                              Благополучатель\n",
       "subject                                          Charity\n",
       "subject confidence                                     1\n",
       "user_correction_date    2022-12-08 19:07:01.522000+00:00\n",
       "valid                                               True\n",
       "documentType                                    CONTRACT\n",
       "subj_len                                              12\n",
       "headers                                                7\n",
       "Name: 5fe34f62b770574a005553be, dtype: object"
      ]
     },
     "execution_count": 12,
     "metadata": {},
     "output_type": "execute_result"
    }
   ],
   "source": [
    "\n",
    "def get_amount(attr_tree):\n",
    "  _value_tag = attr_tree.get('price')\n",
    "  amount = None\n",
    "  if _value_tag is not None:\n",
    "    amount = _value_tag.get('amount_netto')\n",
    "    if amount is None:\n",
    "      amount = _value_tag.get('amount_brutto')\n",
    "    if amount is None:\n",
    "      amount = _value_tag.get('amount')\n",
    "  return amount\n",
    "\n",
    "        \n",
    "    \n",
    "def add_stats_record(d: DbJsonDoc, stats: DataFrame, source='db'):\n",
    "  _id = str(d.get_id())\n",
    "    \n",
    "  attr_tree = d.get_attributes_tree()\n",
    " \n",
    "\n",
    "  stats.at[_id, 'checksum'] = d.get_tokens_for_embedding().get_checksum()\n",
    "  stats.at[_id, 'version'] = d.get_version_string()\n",
    "  stats.at[_id, 'documentType'] = d.documentType\n",
    "    \n",
    " \n",
    "  stats.at[_id, 'source'] = source\n",
    "  stats.at[_id, 'export_date'] = datetime.now()\n",
    "  stats.at[_id, 'len'] = len(d)\n",
    "  stats.at[_id, 'analyze_date'] = pd.to_datetime( d.analysis['analyze_timestamp'] , utc=True)\n",
    "\n",
    "\n",
    "  n_headers = len(d.analysis.get('headers', []))\n",
    "  stats.at[_id, 'headers'] = n_headers\n",
    "    \n",
    "  _value_tag = attr_tree.get('price')\n",
    "  \n",
    "  if _value_tag is not None:\n",
    "    amount = get_amount(attr_tree) \n",
    "    if amount:\n",
    "        \n",
    "        stats.at[_id, 'value'] = amount.get('value') \n",
    "        stats.at[_id, 'value_log1p'] = log1p(amount.get('value') )\n",
    "        stats.at[_id, 'value_span'] = amount.get('span', [0,0]) [0]\n",
    "#         print( stats.at[_id, 'value'])\n",
    "    \n",
    "    stats.at[_id, 'currency'] = _value_tag.get('currency', {}).get('value')\n",
    "  \n",
    "  _orgs = attr_tree.get('orgs', [{},{}]) \n",
    "  if len(_orgs)>0:\n",
    "      stats.at[_id, 'org-1-name'] = _orgs[0].get('name', {}).get('value')\n",
    "      stats.at[_id, 'org-1-alias'] = _orgs[0].get('alias', {}).get('value')\n",
    "\n",
    "      if len(_orgs)>1:\n",
    "        stats.at[_id, 'org-2-name'] = _orgs[1].get('name', {}).get('value')\n",
    "        stats.at[_id, 'org-2-alias'] = _orgs[1].get('alias', {}).get('value')\n",
    "\n",
    "  stats.at[_id, 'subject'] = attr_tree.get('subject', {}).get('value')\n",
    "  stats.at[_id, 'subject confidence'] = attr_tree.get('subject', {}).get('confidence')\n",
    "    \n",
    "\n",
    "  span = attr_tree.get('subject', {}).get('span',[0,0])\n",
    "  subject_len = span[1] - span[0]\n",
    "  stats.at[_id, 'subj_len'] = subject_len  \n",
    "\n",
    "  if d.user is not None:\n",
    "    # if 'attributes_tree' in d.user and 'creation_date' in d.user['attributes_tree']:\n",
    "    # stats.at[_id, 'user_correction_date'] = d.user['attributes_tree']['creation_date']\n",
    "    stats.at[_id, 'user_correction_date'] = pd.to_datetime(d.user[ 'updateDate'], utc=True)\n",
    "    \n",
    "\n",
    "    # find_in_dict('attributes_tree.creation_date', d.user)\n",
    "\n",
    "  valid_state = (DocumentState.Excluded.value==d.state or DocumentState.Done.value==d.state)\n",
    "  if not valid_state:\n",
    "    print(_id, 'invalid state: ', d.state)\n",
    "  valid_struct = ('contract' in jd.analysis['attributes_tree'])\n",
    "  if not valid_struct:\n",
    "    print(_id, 'invalid structure: ', d.state)\n",
    "  stats.at[_id, 'valid'] = valid_state and valid_struct and subject_len>0 and subject_len<=300 and n_headers>0\n",
    "\n",
    "\n",
    "  \n",
    "\n",
    "\n",
    "d = get_doc_by_id(ObjectId('5fe34f62b770574a005553be'))\n",
    "jd = DbJsonDoc(d)\n",
    "add_stats_record(jd, stats)\n",
    "stats.loc['5fe34f62b770574a005553be']"
   ]
  },
  {
   "cell_type": "markdown",
   "id": "03fe1bfe",
   "metadata": {
    "papermill": {
     "duration": 0.005445,
     "end_time": "2023-01-27T06:24:56.078257",
     "exception": false,
     "start_time": "2023-01-27T06:24:56.072812",
     "status": "completed"
    },
    "tags": []
   },
   "source": [
    "# load old json"
   ]
  },
  {
   "cell_type": "code",
   "execution_count": 13,
   "id": "fe585d26",
   "metadata": {
    "papermill": {
     "duration": 2.906678,
     "end_time": "2023-01-27T06:24:58.990346",
     "exception": false,
     "start_time": "2023-01-27T06:24:56.083668",
     "status": "completed"
    },
    "tags": []
   },
   "outputs": [
    {
     "name": "stdout",
     "output_type": "stream",
     "text": [
      "total docs in /root/artem/work/documents.json is 622\n",
      "{'orgs': [{'type': {'span': [47, 48], 'span_map': 'words', 'confidence': 0.49801500000000004, 'value': 'Общество с ограниченной ответственностью'}, 'name': {'span': [49, 50], 'span_map': 'words', 'confidence': 0.9755, 'value': 'Газпромнефть-Сахалин'}, 'alias': {'span': [56, 57], 'span_map': 'words', 'confidence': 0.972, 'value': 'Арендатор'}}, {'type': {'span': [17, 18], 'span_map': 'words', 'confidence': 0.505665, 'value': 'Общество с ограниченной ответственностью'}, 'name': {'span': [19, 20], 'span_map': 'words', 'confidence': 0.9905, 'value': 'ЭКРУСС'}, 'alias': {'span': [26, 27], 'span_map': 'words', 'confidence': 0.987, 'value': 'Арендодатель'}}], 'date': {'span': [9, 14], 'span_map': 'words', 'confidence': 1, 'value': datetime.datetime(2016, 5, 10, 0, 0, tzinfo=<bson.tz_util.FixedOffset object at 0x7f4f95dffeb0>)}, 'number': {'span': [1, 4], 'span_map': 'words', 'confidence': 1, 'value': 'RP 16-06'}, 'subject': {'span': [100, 144], 'span_map': 'words', 'confidence': 0.33353692293167114, 'value': 'Renting'}, 'price': {'amount': {'span': [1322, 1323], 'span_map': 'words', 'confidence': 0.3247519522230699, 'value': 183600}, 'currency': {'span': [1330, 1331], 'span_map': 'words', 'confidence': 0.11262696999381605, 'value': 'RUB'}, 'span': [1317, 1330], 'span_map': 'words', 'confidence': 0.18947470340536965, 'value': None}}\n",
      "1.22.1\n"
     ]
    }
   ],
   "source": [
    "import json\n",
    "import re\n",
    "from bson import json_util\n",
    "\n",
    "_DEBUG = False\n",
    "file_data=None\n",
    "\n",
    "try:\n",
    "    fn = work_dir / 'documents.json'\n",
    "    with open(fn) as file:\n",
    "        file_data = json.load(file, object_hook=json_util.object_hook)\n",
    "\n",
    "        print(f'total docs in {fn} is {len(file_data)}')    \n",
    "        _DEBUG = True\n",
    "except Exception as ex:\n",
    "    logger.exception(ex)    \n",
    "\n",
    "\n",
    "\n",
    "\n",
    "if _DEBUG:\n",
    "    a_doc_from_json=DbJsonDoc(file_data[3])\n",
    "\n",
    "    print(a_doc_from_json.get_attributes_tree())\n",
    "    print(a_doc_from_json.get_version_string())"
   ]
  },
  {
   "cell_type": "code",
   "execution_count": 15,
   "id": "5ee071d5",
   "metadata": {
    "papermill": {
     "duration": 1.598081,
     "end_time": "2023-01-27T06:25:00.624795",
     "exception": false,
     "start_time": "2023-01-27T06:24:59.026714",
     "status": "completed"
    },
    "tags": []
   },
   "outputs": [
    {
     "name": "stdout",
     "output_type": "stream",
     "text": [
      "semantic_map_keys ['amount_brutto', 'amount_netto', 'vat', 'sign', 'currency', 'vat_unit']\n",
      "semantic_map_keys ['org-name', 'org-alias', 'org-type']\n",
      "semantic_map_keys all ['headline', 'subject', 'date', 'number', 'org-name', 'org-alias', 'org-type', 'amount', 'amount_brutto', 'amount_netto', 'vat', 'sign', 'currency', 'vat_unit', 'value']\n",
      "semantic_map_keys_contract ['headline-begin', 'headline-end', 'subject-begin', 'subject-end', 'date-begin', 'date-end', 'number-begin', 'number-end', 'org-name-begin', 'org-name-end', 'org-alias-begin', 'org-alias-end', 'org-type-begin', 'org-type-end', 'amount-begin', 'amount-end', 'amount_brutto-begin', 'amount_brutto-end', 'amount_netto-begin', 'amount_netto-end', 'vat-begin', 'vat-end', 'sign-begin', 'sign-end', 'currency-begin', 'currency-end', 'vat_unit-begin', 'vat_unit-end', 'value-begin', 'value-end']\n"
     ]
    },
    {
     "data": {
      "image/png": "[encoded data removed]",
      "text/plain": [
       "<Figure size 2500x600 with 2 Axes>"
      ]
     },
     "metadata": {},
     "output_type": "display_data"
    },
    {
     "name": "stdout",
     "output_type": "stream",
     "text": [
      "1.0\n",
      "0       0.0\n",
      "1       0.0\n",
      "2       0.0\n",
      "3       0.0\n",
      "4       0.0\n",
      "       ... \n",
      "3148    0.0\n",
      "3149    0.0\n",
      "3150    0.0\n",
      "3151    0.0\n",
      "3152    0.0\n",
      "Name: date-begin, Length: 3153, dtype: float64\n"
     ]
    }
   ],
   "source": [
    "\n",
    "\n",
    "semantic_map_keys = [\n",
    "    'headline',\n",
    "    'subject', \n",
    "    'date', \n",
    "    'number',\n",
    "    'org-name', \n",
    "    'org-alias', \n",
    "    'org-type'\n",
    "]\n",
    "\n",
    "semantic_map_keys += ['amount', 'amount_brutto', 'amount_netto', 'vat', 'sign', 'currency', 'vat_unit', 'value']\n",
    "\n",
    "semantic_map_keys_contract = []\n",
    "for _name in semantic_map_keys:\n",
    "    semantic_map_keys_contract.append(_name + \"-begin\")\n",
    "    semantic_map_keys_contract.append(_name + \"-end\")\n",
    "\n",
    "print(\"semantic_map_keys\", semantic_map_keys[8:14])\n",
    "print(\"semantic_map_keys\", semantic_map_keys[4:7])\n",
    "print(\"semantic_map_keys all\", semantic_map_keys)\n",
    "print(\"semantic_map_keys_contract\", semantic_map_keys_contract)\n",
    "\n",
    "def get_semantic_map_new(doc: DbJsonDoc):\n",
    "    \n",
    "    _len = len(doc)\n",
    "    df = DataFrame()\n",
    "    \n",
    "    for sl in semantic_map_keys_contract:    \n",
    "        df[sl] = np.zeros(_len)\n",
    "    \n",
    "    attr_tree = doc.get_attributes_tree()\n",
    "    \n",
    "    def get_av(name):\n",
    "        if name in df:\n",
    "            return df[name]\n",
    "        else:\n",
    "            av = np.zeros(_len, np.float)\n",
    "            df[name] = av\n",
    "            return av\n",
    "\n",
    "            \n",
    "    def add_span_vectors(_name, span):\n",
    "#         print('add_span_vectors',span)\n",
    "        bn = _name + \"-begin\"\n",
    "        en = _name + \"-end\"\n",
    "        b = get_av(bn)\n",
    "        e = get_av(en)\n",
    "        if not span is None:\n",
    "            df[bn][ span[0]:span[1] ]=1.\n",
    "            df[en][ span[1] ]=1.\n",
    " \n",
    "        \n",
    "\n",
    "    # Headers\n",
    "    headers = doc.analysis['headers']\n",
    "    for h in headers:\n",
    "        add_span_vectors('headline', h['span'])\n",
    " \n",
    " \n",
    "    for n in semantic_map_keys[1:4]:\n",
    "        span = attr_tree.get(n, {}).get('span')\n",
    "        add_span_vectors(n, span)\n",
    "\n",
    " \n",
    "    for i in [1, 2]:\n",
    "        for n in semantic_map_keys[4:7]:\n",
    "            try:                \n",
    "                _nm = n.replace('org-', f'')\n",
    "                span = attr_tree['orgs'][i-1][_nm]['span']\n",
    "                add_span_vectors(n, span)\n",
    "            except Exception as e:\n",
    "                logger.exception(e)\n",
    "                print('ERROR (sp)', e, i, n,  _nm)\n",
    "                if _DEBUG:\n",
    "                    try:  \n",
    "                        print(json.dumps( attr_tree['orgs'][i-1], sort_keys=True, indent=4))\n",
    "                    except:\n",
    "                        pass\n",
    "                    print('ERROR', i, n, doc.get_id(), e, attr_tree.get('orgs', None))\n",
    " \n",
    "\n",
    "    _value_tag = attr_tree.get('price', {})\n",
    "    add_span_vectors(\"value\", _value_tag.get('span'))\n",
    " \n",
    "    if _value_tag is not None:\n",
    "        amount = get_amount(attr_tree) \n",
    "        if amount:\n",
    "            add_span_vectors('amount', amount.get('span'))\n",
    "        for n in semantic_map_keys[8:14]:\n",
    "            add_span_vectors(n, _value_tag.get(n,{}).get('span'))\n",
    "           \n",
    "    return df[semantic_map_keys_contract]\n",
    "\n",
    "\n",
    "\n",
    "if _DEBUG:\n",
    "    sm_test = get_semantic_map_new(a_doc_from_json)\n",
    "    plot_embedding(sm_test[0:400], f'get_semantic_map_new: semantic map')\n",
    "    print(sm_test['date-begin'].max())\n",
    "    print(sm_test['date-begin'])"
   ]
  },
  {
   "cell_type": "code",
   "execution_count": 17,
   "id": "929d3e8a",
   "metadata": {
    "papermill": {
     "duration": 1.837228,
     "end_time": "2023-01-27T06:25:02.468539",
     "exception": false,
     "start_time": "2023-01-27T06:25:00.631311",
     "status": "completed"
    },
    "tags": []
   },
   "outputs": [
    {
     "data": {
      "image/png": "[encoded data removed]",
      "text/plain": [
       "<Figure size 2500x600 with 2 Axes>"
      ]
     },
     "metadata": {},
     "output_type": "display_data"
    }
   ],
   "source": [
    "#test one\n",
    "\n",
    "d = get_doc_by_id(ObjectId('5fe34f62b770574a005553be'))\n",
    "if d is not None:\n",
    "    jd = DbJsonDoc(d)\n",
    "    semantic_map: DataFrame = get_semantic_map_new(jd)\n",
    "\n",
    "\n",
    "    plot_embedding(semantic_map[0:400], f'get_semantic_map_new: semantic map')"
   ]
  },
  {
   "cell_type": "markdown",
   "id": "20259145",
   "metadata": {},
   "source": [
    "### Adding data from old json file to the stats table"
   ]
  },
  {
   "cell_type": "code",
   "execution_count": null,
   "id": "1b2c4a45",
   "metadata": {
    "papermill": {
     "duration": 21.195799,
     "end_time": "2023-01-27T06:25:23.697544",
     "exception": false,
     "start_time": "2023-01-27T06:25:02.501745",
     "status": "completed"
    },
    "tags": []
   },
   "outputs": [],
   "source": [
    "# fff\n",
    "files_dict = {}\n",
    "\n",
    "if file_data:\n",
    "    k=0\n",
    "    for d in file_data:\n",
    "        k+=1 \n",
    "        jd = DbJsonDoc(d)\n",
    "    #     print( jd.analysis['analyze_timestamp'])\n",
    "        files_dict[jd.get_id()] = jd\n",
    "        try:            \n",
    "            add_stats_record(jd, stats, source = 'file')\n",
    "        except Exception as e:\n",
    "            print(e)\n",
    "            print(jd.get_id())\n",
    "#             raise (e)\n",
    "\n",
    "        if k % 100 == 0:\n",
    "#             stats['user_correction_date'] = pd.to_datetime(stats['user_correction_date'], utc=False)\n",
    "#             stats['analyze_date'] = pd.to_datetime(stats['analyze_date'], utc=False)\n",
    "#             stats['export_date'] = pd.to_datetime(stats['export_date'], utc=False)\n",
    "            \n",
    "    \n",
    "            print(f'{k} of {len(file_data)}')\n",
    "            stats.to_csv(export_fn, index=True)\n",
    "            print(f'stats saved to {export_fn}')\n",
    "\n",
    "            \n",
    "            \n",
    "stats.to_csv(export_fn, index=True)\n",
    "stats.to_csv('tmp.csv', index=True)\n",
    "\n",
    "print(f'stats saved to {export_fn}')\n",
    "\n",
    "# del file_data\n",
    "stats\n",
    "\n",
    "\n"
   ]
  },
  {
   "cell_type": "code",
   "execution_count": 18,
   "id": "af5c084c",
   "metadata": {},
   "outputs": [
    {
     "data": {
      "text/html": [
       "<div>\n",
       "<style scoped>\n",
       "    .dataframe tbody tr th:only-of-type {\n",
       "        vertical-align: middle;\n",
       "    }\n",
       "\n",
       "    .dataframe tbody tr th {\n",
       "        vertical-align: top;\n",
       "    }\n",
       "\n",
       "    .dataframe thead th {\n",
       "        text-align: right;\n",
       "    }\n",
       "</style>\n",
       "<table border=\"1\" class=\"dataframe\">\n",
       "  <thead>\n",
       "    <tr style=\"text-align: right;\">\n",
       "      <th></th>\n",
       "      <th>source</th>\n",
       "      <th>checksum</th>\n",
       "      <th>version</th>\n",
       "      <th>export_date</th>\n",
       "      <th>len</th>\n",
       "      <th>analyze_date</th>\n",
       "      <th>value</th>\n",
       "      <th>value_log1p</th>\n",
       "      <th>value_span</th>\n",
       "      <th>currency</th>\n",
       "      <th>...</th>\n",
       "      <th>org-1-alias</th>\n",
       "      <th>org-2-name</th>\n",
       "      <th>org-2-alias</th>\n",
       "      <th>subject</th>\n",
       "      <th>subject confidence</th>\n",
       "      <th>user_correction_date</th>\n",
       "      <th>valid</th>\n",
       "      <th>documentType</th>\n",
       "      <th>subj_len</th>\n",
       "      <th>headers</th>\n",
       "    </tr>\n",
       "  </thead>\n",
       "  <tbody>\n",
       "  </tbody>\n",
       "</table>\n",
       "<p>0 rows × 21 columns</p>\n",
       "</div>"
      ],
      "text/plain": [
       "Empty DataFrame\n",
       "Columns: [source, checksum, version, export_date, len, analyze_date, value, value_log1p, value_span, currency, org-1-name, org-1-alias, org-2-name, org-2-alias, subject, subject confidence, user_correction_date, valid, documentType, subj_len, headers]\n",
       "Index: []\n",
       "\n",
       "[0 rows x 21 columns]"
      ]
     },
     "execution_count": 18,
     "metadata": {},
     "output_type": "execute_result"
    }
   ],
   "source": [
    "# stats = stats.drop('63c506afe2456d59975e0fcd')\n",
    "stats[stats.index.duplicated()]\n",
    "\n"
   ]
  },
  {
   "cell_type": "code",
   "execution_count": 21,
   "id": "abe3a30d",
   "metadata": {
    "papermill": {
     "duration": 0.007382,
     "end_time": "2023-01-27T06:25:23.712748",
     "exception": false,
     "start_time": "2023-01-27T06:25:23.705366",
     "status": "completed"
    },
    "tags": []
   },
   "outputs": [
    {
     "name": "stdout",
     "output_type": "stream",
     "text": [
      "128: number of invalid records\n"
     ]
    },
    {
     "data": {
      "text/html": [
       "<div>\n",
       "<style scoped>\n",
       "    .dataframe tbody tr th:only-of-type {\n",
       "        vertical-align: middle;\n",
       "    }\n",
       "\n",
       "    .dataframe tbody tr th {\n",
       "        vertical-align: top;\n",
       "    }\n",
       "\n",
       "    .dataframe thead th {\n",
       "        text-align: right;\n",
       "    }\n",
       "</style>\n",
       "<table border=\"1\" class=\"dataframe\">\n",
       "  <thead>\n",
       "    <tr style=\"text-align: right;\">\n",
       "      <th></th>\n",
       "      <th>source</th>\n",
       "      <th>checksum</th>\n",
       "      <th>version</th>\n",
       "      <th>export_date</th>\n",
       "      <th>len</th>\n",
       "      <th>analyze_date</th>\n",
       "      <th>value</th>\n",
       "      <th>value_log1p</th>\n",
       "      <th>value_span</th>\n",
       "      <th>currency</th>\n",
       "      <th>...</th>\n",
       "      <th>org-1-alias</th>\n",
       "      <th>org-2-name</th>\n",
       "      <th>org-2-alias</th>\n",
       "      <th>subject</th>\n",
       "      <th>subject confidence</th>\n",
       "      <th>user_correction_date</th>\n",
       "      <th>valid</th>\n",
       "      <th>documentType</th>\n",
       "      <th>subj_len</th>\n",
       "      <th>headers</th>\n",
       "    </tr>\n",
       "  </thead>\n",
       "  <tbody>\n",
       "    <tr>\n",
       "      <th>62948f30df54d406a99b15d0</th>\n",
       "      <td>db</td>\n",
       "      <td>af69993eeb005bd8ab04bea1c3276414</td>\n",
       "      <td>3.0.0</td>\n",
       "      <td>2023-01-31 18:20:55.979096</td>\n",
       "      <td>166.0</td>\n",
       "      <td>2022-05-30 12:34:19.887000+00:00</td>\n",
       "      <td>NaN</td>\n",
       "      <td>NaN</td>\n",
       "      <td>NaN</td>\n",
       "      <td>NaN</td>\n",
       "      <td>...</td>\n",
       "      <td>NaN</td>\n",
       "      <td>NaN</td>\n",
       "      <td>NaN</td>\n",
       "      <td>Other</td>\n",
       "      <td>0.967818</td>\n",
       "      <td>NaT</td>\n",
       "      <td>False</td>\n",
       "      <td>ANNEX</td>\n",
       "      <td>0.0</td>\n",
       "      <td>1.0</td>\n",
       "    </tr>\n",
       "    <tr>\n",
       "      <th>62948f30df54d406a99b15d5</th>\n",
       "      <td>db</td>\n",
       "      <td>f8cee249163dc6c5af541fcb60af5669</td>\n",
       "      <td>3.0.0</td>\n",
       "      <td>2023-01-31 18:20:55.981151</td>\n",
       "      <td>49.0</td>\n",
       "      <td>2022-05-30 12:35:01.402000+00:00</td>\n",
       "      <td>NaN</td>\n",
       "      <td>NaN</td>\n",
       "      <td>NaN</td>\n",
       "      <td>NaN</td>\n",
       "      <td>...</td>\n",
       "      <td>NaN</td>\n",
       "      <td>NaN</td>\n",
       "      <td>NaN</td>\n",
       "      <td>Other</td>\n",
       "      <td>0.970085</td>\n",
       "      <td>NaT</td>\n",
       "      <td>False</td>\n",
       "      <td>ANNEX</td>\n",
       "      <td>0.0</td>\n",
       "      <td>2.0</td>\n",
       "    </tr>\n",
       "    <tr>\n",
       "      <th>6294af5cdf54d406a99b1660</th>\n",
       "      <td>db</td>\n",
       "      <td>09aac2654c80f563629278fdce4debe0</td>\n",
       "      <td>3.0.0</td>\n",
       "      <td>2023-01-31 18:20:56.170209</td>\n",
       "      <td>245.0</td>\n",
       "      <td>2022-05-30 15:04:30.397000+00:00</td>\n",
       "      <td>NaN</td>\n",
       "      <td>NaN</td>\n",
       "      <td>NaN</td>\n",
       "      <td>NaN</td>\n",
       "      <td>...</td>\n",
       "      <td>NaN</td>\n",
       "      <td>NaN</td>\n",
       "      <td>NaN</td>\n",
       "      <td>Other</td>\n",
       "      <td>0.982594</td>\n",
       "      <td>NaT</td>\n",
       "      <td>False</td>\n",
       "      <td>ANNEX</td>\n",
       "      <td>0.0</td>\n",
       "      <td>4.0</td>\n",
       "    </tr>\n",
       "    <tr>\n",
       "      <th>629f4aea41f3e78db0acc5e6</th>\n",
       "      <td>db</td>\n",
       "      <td>81106ff724f43fea798a10db6f7c9685</td>\n",
       "      <td>3.0.0</td>\n",
       "      <td>2023-01-31 18:20:56.396483</td>\n",
       "      <td>1177.0</td>\n",
       "      <td>2022-06-07 15:57:40.277000+00:00</td>\n",
       "      <td>NaN</td>\n",
       "      <td>NaN</td>\n",
       "      <td>NaN</td>\n",
       "      <td>NaN</td>\n",
       "      <td>...</td>\n",
       "      <td>NaN</td>\n",
       "      <td>NaN</td>\n",
       "      <td>NaN</td>\n",
       "      <td>Other</td>\n",
       "      <td>0.970695</td>\n",
       "      <td>NaT</td>\n",
       "      <td>False</td>\n",
       "      <td>ANNEX</td>\n",
       "      <td>0.0</td>\n",
       "      <td>5.0</td>\n",
       "    </tr>\n",
       "    <tr>\n",
       "      <th>62a995e1326a4191e5f1735c</th>\n",
       "      <td>db</td>\n",
       "      <td>983185e0336f56e6a27552c6f5707c33</td>\n",
       "      <td>3.0.0</td>\n",
       "      <td>2023-01-31 18:20:56.645657</td>\n",
       "      <td>312.0</td>\n",
       "      <td>2022-06-15 11:40:41.760000+00:00</td>\n",
       "      <td>NaN</td>\n",
       "      <td>NaN</td>\n",
       "      <td>NaN</td>\n",
       "      <td>NaN</td>\n",
       "      <td>...</td>\n",
       "      <td>NaN</td>\n",
       "      <td>NaN</td>\n",
       "      <td>NaN</td>\n",
       "      <td>Other</td>\n",
       "      <td>0.983218</td>\n",
       "      <td>NaT</td>\n",
       "      <td>False</td>\n",
       "      <td>ANNEX</td>\n",
       "      <td>0.0</td>\n",
       "      <td>3.0</td>\n",
       "    </tr>\n",
       "    <tr>\n",
       "      <th>...</th>\n",
       "      <td>...</td>\n",
       "      <td>...</td>\n",
       "      <td>...</td>\n",
       "      <td>...</td>\n",
       "      <td>...</td>\n",
       "      <td>...</td>\n",
       "      <td>...</td>\n",
       "      <td>...</td>\n",
       "      <td>...</td>\n",
       "      <td>...</td>\n",
       "      <td>...</td>\n",
       "      <td>...</td>\n",
       "      <td>...</td>\n",
       "      <td>...</td>\n",
       "      <td>...</td>\n",
       "      <td>...</td>\n",
       "      <td>...</td>\n",
       "      <td>...</td>\n",
       "      <td>...</td>\n",
       "      <td>...</td>\n",
       "      <td>...</td>\n",
       "    </tr>\n",
       "    <tr>\n",
       "      <th>63ce4ac2e83d1ee490f3fcf8</th>\n",
       "      <td>db</td>\n",
       "      <td>00185425928a233d7693cfc77fc68ca8</td>\n",
       "      <td>23.01.23</td>\n",
       "      <td>2023-01-31 18:38:31.247063</td>\n",
       "      <td>554.0</td>\n",
       "      <td>2023-01-24 00:00:22.682000+00:00</td>\n",
       "      <td>NaN</td>\n",
       "      <td>NaN</td>\n",
       "      <td>NaN</td>\n",
       "      <td>NaN</td>\n",
       "      <td>...</td>\n",
       "      <td>NaN</td>\n",
       "      <td>NaN</td>\n",
       "      <td>NaN</td>\n",
       "      <td>Other</td>\n",
       "      <td>0.972044</td>\n",
       "      <td>NaT</td>\n",
       "      <td>False</td>\n",
       "      <td>ANNEX</td>\n",
       "      <td>0.0</td>\n",
       "      <td>1.0</td>\n",
       "    </tr>\n",
       "    <tr>\n",
       "      <th>63ce4a63e83d1ee490f3f82b</th>\n",
       "      <td>db</td>\n",
       "      <td>3e1c03f902e26aa4a70dedb27f0eb046</td>\n",
       "      <td>23.01.23</td>\n",
       "      <td>2023-01-31 21:43:15.767569</td>\n",
       "      <td>381.0</td>\n",
       "      <td>2023-01-25 04:52:53.845000+00:00</td>\n",
       "      <td>NaN</td>\n",
       "      <td>NaN</td>\n",
       "      <td>NaN</td>\n",
       "      <td>NaN</td>\n",
       "      <td>...</td>\n",
       "      <td>NaN</td>\n",
       "      <td>NaN</td>\n",
       "      <td>NaN</td>\n",
       "      <td>Other</td>\n",
       "      <td>0.839530</td>\n",
       "      <td>NaT</td>\n",
       "      <td>False</td>\n",
       "      <td>CONTRACT</td>\n",
       "      <td>200.0</td>\n",
       "      <td>5.0</td>\n",
       "    </tr>\n",
       "    <tr>\n",
       "      <th>63dccb3f2c90db0b7a62aa4f</th>\n",
       "      <td>db</td>\n",
       "      <td>63eb26415678c8e225543264d981d460</td>\n",
       "      <td>23.01.23</td>\n",
       "      <td>2023-02-04 11:26:26.670686</td>\n",
       "      <td>422.0</td>\n",
       "      <td>2023-02-03 12:46:57.294000+00:00</td>\n",
       "      <td>NaN</td>\n",
       "      <td>NaN</td>\n",
       "      <td>NaN</td>\n",
       "      <td>NaN</td>\n",
       "      <td>...</td>\n",
       "      <td>Займодавец</td>\n",
       "      <td>Канарейка</td>\n",
       "      <td>NaN</td>\n",
       "      <td>Other</td>\n",
       "      <td>0.961689</td>\n",
       "      <td>NaT</td>\n",
       "      <td>False</td>\n",
       "      <td>SUPPLEMENTARY_AGREEMENT</td>\n",
       "      <td>1.0</td>\n",
       "      <td>2.0</td>\n",
       "    </tr>\n",
       "    <tr>\n",
       "      <th>63dccb3f2c90db0b7a62aa5d</th>\n",
       "      <td>db</td>\n",
       "      <td>5b8260ef4f47dfb261a3ee74193fc576</td>\n",
       "      <td>23.01.23</td>\n",
       "      <td>2023-02-04 11:26:26.675975</td>\n",
       "      <td>432.0</td>\n",
       "      <td>2023-02-03 12:47:14.155000+00:00</td>\n",
       "      <td>NaN</td>\n",
       "      <td>NaN</td>\n",
       "      <td>NaN</td>\n",
       "      <td>NaN</td>\n",
       "      <td>...</td>\n",
       "      <td>Займодавец</td>\n",
       "      <td>Канарейка</td>\n",
       "      <td>NaN</td>\n",
       "      <td>Other</td>\n",
       "      <td>0.961693</td>\n",
       "      <td>NaT</td>\n",
       "      <td>False</td>\n",
       "      <td>SUPPLEMENTARY_AGREEMENT</td>\n",
       "      <td>1.0</td>\n",
       "      <td>3.0</td>\n",
       "    </tr>\n",
       "    <tr>\n",
       "      <th>63dccb402c90db0b7a62aa77</th>\n",
       "      <td>db</td>\n",
       "      <td>94bb8a85bfb0d2168a144ec23aa7e99b</td>\n",
       "      <td>23.01.23</td>\n",
       "      <td>2023-02-04 11:26:26.684980</td>\n",
       "      <td>360.0</td>\n",
       "      <td>2023-02-03 12:47:53.920000+00:00</td>\n",
       "      <td>NaN</td>\n",
       "      <td>NaN</td>\n",
       "      <td>NaN</td>\n",
       "      <td>NaN</td>\n",
       "      <td>...</td>\n",
       "      <td>Займодавец</td>\n",
       "      <td>Союз</td>\n",
       "      <td>Заемщик</td>\n",
       "      <td>Other</td>\n",
       "      <td>0.857242</td>\n",
       "      <td>NaT</td>\n",
       "      <td>False</td>\n",
       "      <td>SUPPLEMENTARY_AGREEMENT</td>\n",
       "      <td>1.0</td>\n",
       "      <td>1.0</td>\n",
       "    </tr>\n",
       "  </tbody>\n",
       "</table>\n",
       "<p>128 rows × 21 columns</p>\n",
       "</div>"
      ],
      "text/plain": [
       "                         source                          checksum   version  \\\n",
       "62948f30df54d406a99b15d0     db  af69993eeb005bd8ab04bea1c3276414     3.0.0   \n",
       "62948f30df54d406a99b15d5     db  f8cee249163dc6c5af541fcb60af5669     3.0.0   \n",
       "6294af5cdf54d406a99b1660     db  09aac2654c80f563629278fdce4debe0     3.0.0   \n",
       "629f4aea41f3e78db0acc5e6     db  81106ff724f43fea798a10db6f7c9685     3.0.0   \n",
       "62a995e1326a4191e5f1735c     db  983185e0336f56e6a27552c6f5707c33     3.0.0   \n",
       "...                         ...                               ...       ...   \n",
       "63ce4ac2e83d1ee490f3fcf8     db  00185425928a233d7693cfc77fc68ca8  23.01.23   \n",
       "63ce4a63e83d1ee490f3f82b     db  3e1c03f902e26aa4a70dedb27f0eb046  23.01.23   \n",
       "63dccb3f2c90db0b7a62aa4f     db  63eb26415678c8e225543264d981d460  23.01.23   \n",
       "63dccb3f2c90db0b7a62aa5d     db  5b8260ef4f47dfb261a3ee74193fc576  23.01.23   \n",
       "63dccb402c90db0b7a62aa77     db  94bb8a85bfb0d2168a144ec23aa7e99b  23.01.23   \n",
       "\n",
       "                                         export_date     len  \\\n",
       "62948f30df54d406a99b15d0  2023-01-31 18:20:55.979096   166.0   \n",
       "62948f30df54d406a99b15d5  2023-01-31 18:20:55.981151    49.0   \n",
       "6294af5cdf54d406a99b1660  2023-01-31 18:20:56.170209   245.0   \n",
       "629f4aea41f3e78db0acc5e6  2023-01-31 18:20:56.396483  1177.0   \n",
       "62a995e1326a4191e5f1735c  2023-01-31 18:20:56.645657   312.0   \n",
       "...                                              ...     ...   \n",
       "63ce4ac2e83d1ee490f3fcf8  2023-01-31 18:38:31.247063   554.0   \n",
       "63ce4a63e83d1ee490f3f82b  2023-01-31 21:43:15.767569   381.0   \n",
       "63dccb3f2c90db0b7a62aa4f  2023-02-04 11:26:26.670686   422.0   \n",
       "63dccb3f2c90db0b7a62aa5d  2023-02-04 11:26:26.675975   432.0   \n",
       "63dccb402c90db0b7a62aa77  2023-02-04 11:26:26.684980   360.0   \n",
       "\n",
       "                                             analyze_date  value  value_log1p  \\\n",
       "62948f30df54d406a99b15d0 2022-05-30 12:34:19.887000+00:00    NaN          NaN   \n",
       "62948f30df54d406a99b15d5 2022-05-30 12:35:01.402000+00:00    NaN          NaN   \n",
       "6294af5cdf54d406a99b1660 2022-05-30 15:04:30.397000+00:00    NaN          NaN   \n",
       "629f4aea41f3e78db0acc5e6 2022-06-07 15:57:40.277000+00:00    NaN          NaN   \n",
       "62a995e1326a4191e5f1735c 2022-06-15 11:40:41.760000+00:00    NaN          NaN   \n",
       "...                                                   ...    ...          ...   \n",
       "63ce4ac2e83d1ee490f3fcf8 2023-01-24 00:00:22.682000+00:00    NaN          NaN   \n",
       "63ce4a63e83d1ee490f3f82b 2023-01-25 04:52:53.845000+00:00    NaN          NaN   \n",
       "63dccb3f2c90db0b7a62aa4f 2023-02-03 12:46:57.294000+00:00    NaN          NaN   \n",
       "63dccb3f2c90db0b7a62aa5d 2023-02-03 12:47:14.155000+00:00    NaN          NaN   \n",
       "63dccb402c90db0b7a62aa77 2023-02-03 12:47:53.920000+00:00    NaN          NaN   \n",
       "\n",
       "                          value_span currency  ... org-1-alias org-2-name  \\\n",
       "62948f30df54d406a99b15d0         NaN      NaN  ...         NaN        NaN   \n",
       "62948f30df54d406a99b15d5         NaN      NaN  ...         NaN        NaN   \n",
       "6294af5cdf54d406a99b1660         NaN      NaN  ...         NaN        NaN   \n",
       "629f4aea41f3e78db0acc5e6         NaN      NaN  ...         NaN        NaN   \n",
       "62a995e1326a4191e5f1735c         NaN      NaN  ...         NaN        NaN   \n",
       "...                              ...      ...  ...         ...        ...   \n",
       "63ce4ac2e83d1ee490f3fcf8         NaN      NaN  ...         NaN        NaN   \n",
       "63ce4a63e83d1ee490f3f82b         NaN      NaN  ...         NaN        NaN   \n",
       "63dccb3f2c90db0b7a62aa4f         NaN      NaN  ...  Займодавец  Канарейка   \n",
       "63dccb3f2c90db0b7a62aa5d         NaN      NaN  ...  Займодавец  Канарейка   \n",
       "63dccb402c90db0b7a62aa77         NaN      NaN  ...  Займодавец       Союз   \n",
       "\n",
       "                         org-2-alias subject subject confidence  \\\n",
       "62948f30df54d406a99b15d0         NaN   Other           0.967818   \n",
       "62948f30df54d406a99b15d5         NaN   Other           0.970085   \n",
       "6294af5cdf54d406a99b1660         NaN   Other           0.982594   \n",
       "629f4aea41f3e78db0acc5e6         NaN   Other           0.970695   \n",
       "62a995e1326a4191e5f1735c         NaN   Other           0.983218   \n",
       "...                              ...     ...                ...   \n",
       "63ce4ac2e83d1ee490f3fcf8         NaN   Other           0.972044   \n",
       "63ce4a63e83d1ee490f3f82b         NaN   Other           0.839530   \n",
       "63dccb3f2c90db0b7a62aa4f         NaN   Other           0.961689   \n",
       "63dccb3f2c90db0b7a62aa5d         NaN   Other           0.961693   \n",
       "63dccb402c90db0b7a62aa77     Заемщик   Other           0.857242   \n",
       "\n",
       "                          user_correction_date  valid  \\\n",
       "62948f30df54d406a99b15d0                   NaT  False   \n",
       "62948f30df54d406a99b15d5                   NaT  False   \n",
       "6294af5cdf54d406a99b1660                   NaT  False   \n",
       "629f4aea41f3e78db0acc5e6                   NaT  False   \n",
       "62a995e1326a4191e5f1735c                   NaT  False   \n",
       "...                                        ...    ...   \n",
       "63ce4ac2e83d1ee490f3fcf8                   NaT  False   \n",
       "63ce4a63e83d1ee490f3f82b                   NaT  False   \n",
       "63dccb3f2c90db0b7a62aa4f                   NaT  False   \n",
       "63dccb3f2c90db0b7a62aa5d                   NaT  False   \n",
       "63dccb402c90db0b7a62aa77                   NaT  False   \n",
       "\n",
       "                                     documentType subj_len  headers  \n",
       "62948f30df54d406a99b15d0                    ANNEX      0.0      1.0  \n",
       "62948f30df54d406a99b15d5                    ANNEX      0.0      2.0  \n",
       "6294af5cdf54d406a99b1660                    ANNEX      0.0      4.0  \n",
       "629f4aea41f3e78db0acc5e6                    ANNEX      0.0      5.0  \n",
       "62a995e1326a4191e5f1735c                    ANNEX      0.0      3.0  \n",
       "...                                           ...      ...      ...  \n",
       "63ce4ac2e83d1ee490f3fcf8                    ANNEX      0.0      1.0  \n",
       "63ce4a63e83d1ee490f3f82b                 CONTRACT    200.0      5.0  \n",
       "63dccb3f2c90db0b7a62aa4f  SUPPLEMENTARY_AGREEMENT      1.0      2.0  \n",
       "63dccb3f2c90db0b7a62aa5d  SUPPLEMENTARY_AGREEMENT      1.0      3.0  \n",
       "63dccb402c90db0b7a62aa77  SUPPLEMENTARY_AGREEMENT      1.0      1.0  \n",
       "\n",
       "[128 rows x 21 columns]"
      ]
     },
     "execution_count": 21,
     "metadata": {},
     "output_type": "execute_result"
    }
   ],
   "source": [
    "invalid = stats[stats['valid']==False]\n",
    "print(f'{len(invalid)}: number of invalid records')\n",
    "invalid"
   ]
  },
  {
   "cell_type": "code",
   "execution_count": null,
   "id": "d28a6e78",
   "metadata": {
    "papermill": {
     "duration": 0.010884,
     "end_time": "2023-01-27T06:25:23.731246",
     "exception": false,
     "start_time": "2023-01-27T06:25:23.720362",
     "status": "completed"
    },
    "tags": []
   },
   "outputs": [],
   "source": [
    "# !tail /root/artem/work/contract_trainset_meta.temp.csv"
   ]
  },
  {
   "cell_type": "markdown",
   "id": "f6612586",
   "metadata": {
    "papermill": {
     "duration": 0.007444,
     "end_time": "2023-01-27T06:25:23.746476",
     "exception": false,
     "start_time": "2023-01-27T06:25:23.739032",
     "status": "completed"
    },
    "tags": []
   },
   "source": [
    "# Fetch fresh docs from Mongo DB"
   ]
  },
  {
   "cell_type": "code",
   "execution_count": null,
   "id": "feb8085b",
   "metadata": {
    "papermill": {
     "duration": 0.011901,
     "end_time": "2023-01-27T06:25:23.765673",
     "exception": false,
     "start_time": "2023-01-27T06:25:23.753772",
     "status": "completed"
    },
    "tags": []
   },
   "outputs": [],
   "source": [
    "\n",
    "\n",
    "# if True:\n",
    "lastdate = lastdate + relativedelta(days=-5)\n",
    "#     lastdate = datetime.combine(lastdate, datetime.min.time())\n",
    "\n",
    "lastdate = pd.to_datetime( lastdate , utc=True)\n",
    "lastdate"
   ]
  },
  {
   "cell_type": "code",
   "execution_count": 22,
   "id": "50bff510",
   "metadata": {
    "papermill": {
     "duration": 0.01798,
     "end_time": "2023-01-27T06:25:23.791502",
     "exception": false,
     "start_time": "2023-01-27T06:25:23.773522",
     "status": "completed"
    },
    "tags": []
   },
   "outputs": [
    {
     "name": "stderr",
     "output_type": "stream",
     "text": [
      "/root/artem/analyser/integration/db.py:13: UserWarning: MongoDB : define GPN_DB_NAME environment variable! defaulting to gpn\n",
      "  warnings.warn(msg)\n"
     ]
    },
    {
     "data": {
      "text/markdown": [
       "#### Всего новых документов после 2023-02-04 11:02:49.897000+00:00 : 2"
      ],
      "text/plain": [
       "<IPython.core.display.Markdown object>"
      ]
     },
     "metadata": {},
     "output_type": "display_data"
    },
    {
     "data": {
      "text/plain": [
       "[{'_id': ObjectId('62862adb4d1bfe5e5b297dee'),\n",
       "  'state': 15,\n",
       "  'parse': {'documentType': 'SUPPLEMENTARY_AGREEMENT'}},\n",
       " {'_id': ObjectId('6392ff311002115a6029f3b0'),\n",
       "  'state': 15,\n",
       "  'parse': {'documentType': 'CONTRACT'}}]"
      ]
     },
     "execution_count": 22,
     "metadata": {},
     "output_type": "execute_result"
    }
   ],
   "source": [
    "from pymongo import ASCENDING\n",
    "\n",
    "query = {\n",
    "  '$and': [\n",
    "    {\"parse.documentType\":{ '$in': [\"AGREEMENT\", \"CONTRACT\", \"SUPPLEMENTARY_AGREEMENT\"] }  },\n",
    "      \n",
    "#     {\"state\": 15},\n",
    "    {'$or': [\n",
    "          {\"analysis.attributes_tree\": {\"$ne\": None}},\n",
    "          {\"user.attributes_tree\": {\"$ne\": None}}\n",
    "        ]},\n",
    "#       {'$and': [\n",
    "#           {\"user.updateDate\": {\"$ne\": None}},\n",
    "#           {'user.updateDate': {'$gt': lastdate}}\n",
    "#       ]}\n",
    "#     {\"user.attributes_tree.contract.people\": {\"$ne\": None}}\n",
    "\n",
    "    #     {'$or': [\n",
    "    #         {\"user.attributes_tree.contract.price.amount_netto\": {\"$ne\": None}},\n",
    "    #         {\"user.attributes_tree.contract.price.amount_brutto\": {\"$ne\": None}}\n",
    "    #     ]}\n",
    "    {'$or': [\n",
    "      {'analysis.analyze_timestamp': {'$gt': lastdate}},\n",
    "      {'user.updateDate': {'$gt': lastdate}}\n",
    "    ]}\n",
    "  ]\n",
    "}\n",
    "\n",
    "db = get_mongodb_connection()\n",
    "documents_collection = db['documents']\n",
    "sorting = [('analysis.analyze_timestamp', ASCENDING), ('user.updateDate', ASCENDING)]\n",
    "res = documents_collection.find(filter=query, \n",
    "                                sort=sorting,\n",
    "                                projection={'_id': True, 'user.updateDate':True, 'state':True, 'parse.documentType':True}\n",
    "#                                             'analysis.attributes_tree.version': True,\n",
    "#                                             'analysis.attributes_tree.contract.subject': True}\n",
    "                               ).limit(5000)\n",
    "\n",
    "res = list([i for i in res])\n",
    "# print(res[0])\n",
    "_s = f\"#### Всего новых документов после {lastdate} : {len(res)}\"\n",
    "display(Markdown(_s))\n",
    "\n",
    "res[:4]"
   ]
  },
  {
   "cell_type": "markdown",
   "id": "795ac27a",
   "metadata": {
    "papermill": {
     "duration": 0.007579,
     "end_time": "2023-01-27T06:25:23.806807",
     "exception": false,
     "start_time": "2023-01-27T06:25:23.799228",
     "status": "completed"
    },
    "tags": []
   },
   "source": [
    "# Prepare training set"
   ]
  },
  {
   "cell_type": "code",
   "execution_count": 23,
   "id": "0505117c",
   "metadata": {
    "papermill": {
     "duration": 0.011115,
     "end_time": "2023-01-27T06:25:23.825577",
     "exception": false,
     "start_time": "2023-01-27T06:25:23.814462",
     "status": "completed"
    },
    "tags": []
   },
   "outputs": [],
   "source": [
    "# del seq_labels_contract"
   ]
  },
  {
   "cell_type": "code",
   "execution_count": null,
   "id": "45d41c12",
   "metadata": {
    "papermill": {
     "duration": 0.0076,
     "end_time": "2023-01-27T06:25:23.840964",
     "exception": false,
     "start_time": "2023-01-27T06:25:23.833364",
     "status": "completed"
    },
    "tags": []
   },
   "outputs": [],
   "source": []
  },
  {
   "cell_type": "code",
   "execution_count": 24,
   "id": "c15d780a",
   "metadata": {
    "papermill": {
     "duration": 0.011715,
     "end_time": "2023-01-27T06:25:23.860299",
     "exception": false,
     "start_time": "2023-01-27T06:25:23.848584",
     "status": "completed"
    },
    "tags": []
   },
   "outputs": [
    {
     "name": "stdout",
     "output_type": "stream",
     "text": [
      "2\n"
     ]
    }
   ],
   "source": [
    "new_docs_ids = docs_ids = [i[\"_id\"] for i in res]\n",
    "print(len(new_docs_ids))\n",
    "# sample_id = ObjectId('637f7bf0e712cc2ff2e943d3')\n",
    "\n",
    "# sample_id = docs_ids[1]\n",
    "# sample_id\n",
    "# d = get_doc_by_id(sample_id)\n",
    "\n",
    "# jd = DbJsonDoc(d)\n",
    "# jd.get_id()\n",
    "# print(d['_id'])\n",
    "\n",
    "\n",
    "#==========================Test 1 doc\n",
    "    \n",
    "# print(jd.get_version_string())\n",
    " \n",
    "# add_stats_record(jd, stats)\n",
    "# stats.loc[str(jd._id)]\n",
    " "
   ]
  },
  {
   "cell_type": "code",
   "execution_count": 25,
   "id": "bd5a09e2",
   "metadata": {
    "papermill": {
     "duration": 0.007733,
     "end_time": "2023-01-27T06:25:23.875891",
     "exception": false,
     "start_time": "2023-01-27T06:25:23.868158",
     "status": "completed"
    },
    "tags": []
   },
   "outputs": [
    {
     "data": {
      "text/plain": [
       "[ObjectId('62862adb4d1bfe5e5b297dee'), ObjectId('6392ff311002115a6029f3b0')]"
      ]
     },
     "execution_count": 25,
     "metadata": {},
     "output_type": "execute_result"
    }
   ],
   "source": [
    "new_docs_ids"
   ]
  },
  {
   "cell_type": "code",
   "execution_count": 26,
   "id": "87fdb09e",
   "metadata": {
    "papermill": {
     "duration": 0.011138,
     "end_time": "2023-01-27T06:25:23.894702",
     "exception": false,
     "start_time": "2023-01-27T06:25:23.883564",
     "status": "completed"
    },
    "tags": []
   },
   "outputs": [],
   "source": [
    "# plot_embedding(get_semantic_map_new(jd)[:300], f'semantic map')\n",
    "# print(len(docs_ids))"
   ]
  },
  {
   "cell_type": "code",
   "execution_count": null,
   "id": "1c76308f",
   "metadata": {
    "papermill": {
     "duration": 0.011787,
     "end_time": "2023-01-27T06:25:23.914422",
     "exception": false,
     "start_time": "2023-01-27T06:25:23.902635",
     "status": "completed"
    },
    "tags": []
   },
   "outputs": [],
   "source": []
  },
  {
   "cell_type": "code",
   "execution_count": 27,
   "id": "2b53fbde",
   "metadata": {
    "papermill": {
     "duration": 0.30268,
     "end_time": "2023-01-27T06:25:24.225089",
     "exception": false,
     "start_time": "2023-01-27T06:25:23.922409",
     "status": "completed"
    },
    "tags": []
   },
   "outputs": [
    {
     "name": "stdout",
     "output_type": "stream",
     "text": [
      "0 of 2\n",
      "stats saved to /root/artem/work/contract_trainset_meta.temp.csv\n",
      "stats saved to /root/artem/work/contract_trainset_meta.temp.csv\n"
     ]
    },
    {
     "data": {
      "text/html": [
       "<div>\n",
       "<style scoped>\n",
       "    .dataframe tbody tr th:only-of-type {\n",
       "        vertical-align: middle;\n",
       "    }\n",
       "\n",
       "    .dataframe tbody tr th {\n",
       "        vertical-align: top;\n",
       "    }\n",
       "\n",
       "    .dataframe thead th {\n",
       "        text-align: right;\n",
       "    }\n",
       "</style>\n",
       "<table border=\"1\" class=\"dataframe\">\n",
       "  <thead>\n",
       "    <tr style=\"text-align: right;\">\n",
       "      <th></th>\n",
       "      <th>source</th>\n",
       "      <th>checksum</th>\n",
       "      <th>version</th>\n",
       "      <th>export_date</th>\n",
       "      <th>len</th>\n",
       "      <th>analyze_date</th>\n",
       "      <th>value</th>\n",
       "      <th>value_log1p</th>\n",
       "      <th>value_span</th>\n",
       "      <th>currency</th>\n",
       "      <th>...</th>\n",
       "      <th>org-1-alias</th>\n",
       "      <th>org-2-name</th>\n",
       "      <th>org-2-alias</th>\n",
       "      <th>subject</th>\n",
       "      <th>subject confidence</th>\n",
       "      <th>user_correction_date</th>\n",
       "      <th>valid</th>\n",
       "      <th>documentType</th>\n",
       "      <th>subj_len</th>\n",
       "      <th>headers</th>\n",
       "    </tr>\n",
       "  </thead>\n",
       "  <tbody>\n",
       "    <tr>\n",
       "      <th>5ec2b8da665f7603e03b1255</th>\n",
       "      <td>db</td>\n",
       "      <td>3187bfac60ea578221c5d9357756c6c1</td>\n",
       "      <td>1.6.5</td>\n",
       "      <td>2023-02-01 17:26:52.044394</td>\n",
       "      <td>5847.0</td>\n",
       "      <td>2020-05-18 17:16:38.114000+00:00</td>\n",
       "      <td>2.523632e+07</td>\n",
       "      <td>17.043795</td>\n",
       "      <td>5674.0</td>\n",
       "      <td>BRL</td>\n",
       "      <td>...</td>\n",
       "      <td>ГПН</td>\n",
       "      <td>SUN</td>\n",
       "      <td>SUN</td>\n",
       "      <td>Service</td>\n",
       "      <td>1.000000</td>\n",
       "      <td>2023-01-27 10:27:22.086000+00:00</td>\n",
       "      <td>True</td>\n",
       "      <td>CONTRACT</td>\n",
       "      <td>79.0</td>\n",
       "      <td>4.0</td>\n",
       "    </tr>\n",
       "    <tr>\n",
       "      <th>5fb376e2d8c9df1ed123726c</th>\n",
       "      <td>db</td>\n",
       "      <td>f7c027bb799a50d6fda9d32443bb9cdd</td>\n",
       "      <td>2.0.5</td>\n",
       "      <td>2023-01-31 18:32:26.281114</td>\n",
       "      <td>2794.0</td>\n",
       "      <td>2020-11-17 07:11:23.321000+00:00</td>\n",
       "      <td>2.970000e+03</td>\n",
       "      <td>7.996654</td>\n",
       "      <td>1364.0</td>\n",
       "      <td>RUB</td>\n",
       "      <td>...</td>\n",
       "      <td>Покупатель</td>\n",
       "      <td>Иідате. тьско-ііо. тиі рафнческое предприятие ...</td>\n",
       "      <td>Поставщик</td>\n",
       "      <td>Deal</td>\n",
       "      <td>1.000000</td>\n",
       "      <td>2022-12-08 12:28:06.617000+00:00</td>\n",
       "      <td>True</td>\n",
       "      <td>CONTRACT</td>\n",
       "      <td>82.0</td>\n",
       "      <td>17.0</td>\n",
       "    </tr>\n",
       "    <tr>\n",
       "      <th>5fb399dc39d5e82e90818474</th>\n",
       "      <td>db</td>\n",
       "      <td>375f811ae7c0edcc737d7342373710cb</td>\n",
       "      <td>2.0.5</td>\n",
       "      <td>2023-01-31 18:32:26.380129</td>\n",
       "      <td>3742.0</td>\n",
       "      <td>2020-11-17 09:56:11.605000+00:00</td>\n",
       "      <td>9.000000e+04</td>\n",
       "      <td>11.407576</td>\n",
       "      <td>1834.0</td>\n",
       "      <td>RUB</td>\n",
       "      <td>...</td>\n",
       "      <td>Арендатор</td>\n",
       "      <td>Фонд исследований, инноваций, инвестиций Тюмен...</td>\n",
       "      <td>Арендодатель</td>\n",
       "      <td>Renting</td>\n",
       "      <td>1.000000</td>\n",
       "      <td>2022-12-07 08:14:03.960000+00:00</td>\n",
       "      <td>True</td>\n",
       "      <td>CONTRACT</td>\n",
       "      <td>97.0</td>\n",
       "      <td>13.0</td>\n",
       "    </tr>\n",
       "    <tr>\n",
       "      <th>5fb3b97d00881c332b567292</th>\n",
       "      <td>db</td>\n",
       "      <td>5f4482e55f27e0fcb20b1ffd819d0260</td>\n",
       "      <td>2.0.5</td>\n",
       "      <td>2023-01-31 18:35:58.018598</td>\n",
       "      <td>2248.0</td>\n",
       "      <td>2020-11-17 12:01:39.924000+00:00</td>\n",
       "      <td>NaN</td>\n",
       "      <td>NaN</td>\n",
       "      <td>NaN</td>\n",
       "      <td>NaN</td>\n",
       "      <td>...</td>\n",
       "      <td>Принципал</td>\n",
       "      <td>Газпромнефть-Снабжение</td>\n",
       "      <td>Агент</td>\n",
       "      <td>AgencyContract</td>\n",
       "      <td>1.000000</td>\n",
       "      <td>2022-12-08 11:25:15.676000+00:00</td>\n",
       "      <td>True</td>\n",
       "      <td>CONTRACT</td>\n",
       "      <td>86.0</td>\n",
       "      <td>15.0</td>\n",
       "    </tr>\n",
       "    <tr>\n",
       "      <th>5fb3b97e00881c332b5672bd</th>\n",
       "      <td>db</td>\n",
       "      <td>eb69b91855f471b6db8deb924eb34aa5</td>\n",
       "      <td>2.0.5</td>\n",
       "      <td>2023-01-31 18:32:26.391339</td>\n",
       "      <td>3546.0</td>\n",
       "      <td>2020-11-17 12:12:00.629000+00:00</td>\n",
       "      <td>1.548241e+07</td>\n",
       "      <td>16.555215</td>\n",
       "      <td>699.0</td>\n",
       "      <td>RUB</td>\n",
       "      <td>...</td>\n",
       "      <td>Агент</td>\n",
       "      <td>ГазРромнефть-ГЕО</td>\n",
       "      <td>Принципал</td>\n",
       "      <td>AgencyContract</td>\n",
       "      <td>1.000000</td>\n",
       "      <td>2022-12-08 19:01:33.745000+00:00</td>\n",
       "      <td>True</td>\n",
       "      <td>CONTRACT</td>\n",
       "      <td>55.0</td>\n",
       "      <td>19.0</td>\n",
       "    </tr>\n",
       "    <tr>\n",
       "      <th>...</th>\n",
       "      <td>...</td>\n",
       "      <td>...</td>\n",
       "      <td>...</td>\n",
       "      <td>...</td>\n",
       "      <td>...</td>\n",
       "      <td>...</td>\n",
       "      <td>...</td>\n",
       "      <td>...</td>\n",
       "      <td>...</td>\n",
       "      <td>...</td>\n",
       "      <td>...</td>\n",
       "      <td>...</td>\n",
       "      <td>...</td>\n",
       "      <td>...</td>\n",
       "      <td>...</td>\n",
       "      <td>...</td>\n",
       "      <td>...</td>\n",
       "      <td>...</td>\n",
       "      <td>...</td>\n",
       "      <td>...</td>\n",
       "      <td>...</td>\n",
       "    </tr>\n",
       "    <tr>\n",
       "      <th>63dccb3f2c90db0b7a62aa5d</th>\n",
       "      <td>db</td>\n",
       "      <td>5b8260ef4f47dfb261a3ee74193fc576</td>\n",
       "      <td>23.01.23</td>\n",
       "      <td>2023-02-04 11:26:26.675975</td>\n",
       "      <td>432.0</td>\n",
       "      <td>2023-02-03 12:47:14.155000+00:00</td>\n",
       "      <td>NaN</td>\n",
       "      <td>NaN</td>\n",
       "      <td>NaN</td>\n",
       "      <td>NaN</td>\n",
       "      <td>...</td>\n",
       "      <td>Займодавец</td>\n",
       "      <td>Канарейка</td>\n",
       "      <td>NaN</td>\n",
       "      <td>Other</td>\n",
       "      <td>0.961693</td>\n",
       "      <td>NaT</td>\n",
       "      <td>False</td>\n",
       "      <td>SUPPLEMENTARY_AGREEMENT</td>\n",
       "      <td>1.0</td>\n",
       "      <td>3.0</td>\n",
       "    </tr>\n",
       "    <tr>\n",
       "      <th>63dccb402c90db0b7a62aa77</th>\n",
       "      <td>db</td>\n",
       "      <td>94bb8a85bfb0d2168a144ec23aa7e99b</td>\n",
       "      <td>23.01.23</td>\n",
       "      <td>2023-02-04 11:26:26.684980</td>\n",
       "      <td>360.0</td>\n",
       "      <td>2023-02-03 12:47:53.920000+00:00</td>\n",
       "      <td>NaN</td>\n",
       "      <td>NaN</td>\n",
       "      <td>NaN</td>\n",
       "      <td>NaN</td>\n",
       "      <td>...</td>\n",
       "      <td>Займодавец</td>\n",
       "      <td>Союз</td>\n",
       "      <td>Заемщик</td>\n",
       "      <td>Other</td>\n",
       "      <td>0.857242</td>\n",
       "      <td>NaT</td>\n",
       "      <td>False</td>\n",
       "      <td>SUPPLEMENTARY_AGREEMENT</td>\n",
       "      <td>1.0</td>\n",
       "      <td>1.0</td>\n",
       "    </tr>\n",
       "    <tr>\n",
       "      <th>63dccb412c90db0b7a62aa98</th>\n",
       "      <td>db</td>\n",
       "      <td>5b8260ef4f47dfb261a3ee74193fc576</td>\n",
       "      <td>23.01.23</td>\n",
       "      <td>2023-02-04 11:26:26.692035</td>\n",
       "      <td>432.0</td>\n",
       "      <td>2023-02-03 12:48:01.599000+00:00</td>\n",
       "      <td>NaN</td>\n",
       "      <td>NaN</td>\n",
       "      <td>NaN</td>\n",
       "      <td>NaN</td>\n",
       "      <td>...</td>\n",
       "      <td>Займодавец</td>\n",
       "      <td>Канарейка</td>\n",
       "      <td>NaN</td>\n",
       "      <td>Other</td>\n",
       "      <td>0.961693</td>\n",
       "      <td>NaT</td>\n",
       "      <td>True</td>\n",
       "      <td>SUPPLEMENTARY_AGREEMENT</td>\n",
       "      <td>1.0</td>\n",
       "      <td>3.0</td>\n",
       "    </tr>\n",
       "    <tr>\n",
       "      <th>62862adb4d1bfe5e5b297dee</th>\n",
       "      <td>db</td>\n",
       "      <td>c81664bbc202b2a143fe57dfcb950348</td>\n",
       "      <td>23.01.23</td>\n",
       "      <td>2023-02-04 12:57:31.211996</td>\n",
       "      <td>25014.0</td>\n",
       "      <td>2023-02-04 11:20:30.480000+00:00</td>\n",
       "      <td>3.050000e+09</td>\n",
       "      <td>21.838407</td>\n",
       "      <td>14195.0</td>\n",
       "      <td>RUB</td>\n",
       "      <td>...</td>\n",
       "      <td>Заказчик</td>\n",
       "      <td>Астра</td>\n",
       "      <td>Подрядчик</td>\n",
       "      <td>Service</td>\n",
       "      <td>0.514836</td>\n",
       "      <td>NaT</td>\n",
       "      <td>False</td>\n",
       "      <td>SUPPLEMENTARY_AGREEMENT</td>\n",
       "      <td>0.0</td>\n",
       "      <td>22.0</td>\n",
       "    </tr>\n",
       "    <tr>\n",
       "      <th>6392ff311002115a6029f3b0</th>\n",
       "      <td>db</td>\n",
       "      <td>33e3b53056dfc2b36756b96634a31ee3</td>\n",
       "      <td>23.01.23</td>\n",
       "      <td>2023-02-04 12:57:31.337726</td>\n",
       "      <td>2676.0</td>\n",
       "      <td>2023-02-04 11:21:07.266000+00:00</td>\n",
       "      <td>NaN</td>\n",
       "      <td>NaN</td>\n",
       "      <td>NaN</td>\n",
       "      <td>RUB</td>\n",
       "      <td>...</td>\n",
       "      <td>Продавец</td>\n",
       "      <td>Йода</td>\n",
       "      <td>Покупатель</td>\n",
       "      <td>ParticipationInOtherOrganizations</td>\n",
       "      <td>0.340609</td>\n",
       "      <td>NaT</td>\n",
       "      <td>False</td>\n",
       "      <td>CONTRACT</td>\n",
       "      <td>0.0</td>\n",
       "      <td>7.0</td>\n",
       "    </tr>\n",
       "  </tbody>\n",
       "</table>\n",
       "<p>6782 rows × 21 columns</p>\n",
       "</div>"
      ],
      "text/plain": [
       "                         source                          checksum   version  \\\n",
       "5ec2b8da665f7603e03b1255     db  3187bfac60ea578221c5d9357756c6c1     1.6.5   \n",
       "5fb376e2d8c9df1ed123726c     db  f7c027bb799a50d6fda9d32443bb9cdd     2.0.5   \n",
       "5fb399dc39d5e82e90818474     db  375f811ae7c0edcc737d7342373710cb     2.0.5   \n",
       "5fb3b97d00881c332b567292     db  5f4482e55f27e0fcb20b1ffd819d0260     2.0.5   \n",
       "5fb3b97e00881c332b5672bd     db  eb69b91855f471b6db8deb924eb34aa5     2.0.5   \n",
       "...                         ...                               ...       ...   \n",
       "63dccb3f2c90db0b7a62aa5d     db  5b8260ef4f47dfb261a3ee74193fc576  23.01.23   \n",
       "63dccb402c90db0b7a62aa77     db  94bb8a85bfb0d2168a144ec23aa7e99b  23.01.23   \n",
       "63dccb412c90db0b7a62aa98     db  5b8260ef4f47dfb261a3ee74193fc576  23.01.23   \n",
       "62862adb4d1bfe5e5b297dee     db  c81664bbc202b2a143fe57dfcb950348  23.01.23   \n",
       "6392ff311002115a6029f3b0     db  33e3b53056dfc2b36756b96634a31ee3  23.01.23   \n",
       "\n",
       "                                         export_date      len  \\\n",
       "5ec2b8da665f7603e03b1255  2023-02-01 17:26:52.044394   5847.0   \n",
       "5fb376e2d8c9df1ed123726c  2023-01-31 18:32:26.281114   2794.0   \n",
       "5fb399dc39d5e82e90818474  2023-01-31 18:32:26.380129   3742.0   \n",
       "5fb3b97d00881c332b567292  2023-01-31 18:35:58.018598   2248.0   \n",
       "5fb3b97e00881c332b5672bd  2023-01-31 18:32:26.391339   3546.0   \n",
       "...                                              ...      ...   \n",
       "63dccb3f2c90db0b7a62aa5d  2023-02-04 11:26:26.675975    432.0   \n",
       "63dccb402c90db0b7a62aa77  2023-02-04 11:26:26.684980    360.0   \n",
       "63dccb412c90db0b7a62aa98  2023-02-04 11:26:26.692035    432.0   \n",
       "62862adb4d1bfe5e5b297dee  2023-02-04 12:57:31.211996  25014.0   \n",
       "6392ff311002115a6029f3b0  2023-02-04 12:57:31.337726   2676.0   \n",
       "\n",
       "                                             analyze_date         value  \\\n",
       "5ec2b8da665f7603e03b1255 2020-05-18 17:16:38.114000+00:00  2.523632e+07   \n",
       "5fb376e2d8c9df1ed123726c 2020-11-17 07:11:23.321000+00:00  2.970000e+03   \n",
       "5fb399dc39d5e82e90818474 2020-11-17 09:56:11.605000+00:00  9.000000e+04   \n",
       "5fb3b97d00881c332b567292 2020-11-17 12:01:39.924000+00:00           NaN   \n",
       "5fb3b97e00881c332b5672bd 2020-11-17 12:12:00.629000+00:00  1.548241e+07   \n",
       "...                                                   ...           ...   \n",
       "63dccb3f2c90db0b7a62aa5d 2023-02-03 12:47:14.155000+00:00           NaN   \n",
       "63dccb402c90db0b7a62aa77 2023-02-03 12:47:53.920000+00:00           NaN   \n",
       "63dccb412c90db0b7a62aa98 2023-02-03 12:48:01.599000+00:00           NaN   \n",
       "62862adb4d1bfe5e5b297dee 2023-02-04 11:20:30.480000+00:00  3.050000e+09   \n",
       "6392ff311002115a6029f3b0 2023-02-04 11:21:07.266000+00:00           NaN   \n",
       "\n",
       "                          value_log1p  value_span currency  ... org-1-alias  \\\n",
       "5ec2b8da665f7603e03b1255    17.043795      5674.0      BRL  ...         ГПН   \n",
       "5fb376e2d8c9df1ed123726c     7.996654      1364.0      RUB  ...  Покупатель   \n",
       "5fb399dc39d5e82e90818474    11.407576      1834.0      RUB  ...   Арендатор   \n",
       "5fb3b97d00881c332b567292          NaN         NaN      NaN  ...   Принципал   \n",
       "5fb3b97e00881c332b5672bd    16.555215       699.0      RUB  ...       Агент   \n",
       "...                               ...         ...      ...  ...         ...   \n",
       "63dccb3f2c90db0b7a62aa5d          NaN         NaN      NaN  ...  Займодавец   \n",
       "63dccb402c90db0b7a62aa77          NaN         NaN      NaN  ...  Займодавец   \n",
       "63dccb412c90db0b7a62aa98          NaN         NaN      NaN  ...  Займодавец   \n",
       "62862adb4d1bfe5e5b297dee    21.838407     14195.0      RUB  ...    Заказчик   \n",
       "6392ff311002115a6029f3b0          NaN         NaN      RUB  ...    Продавец   \n",
       "\n",
       "                                                                 org-2-name  \\\n",
       "5ec2b8da665f7603e03b1255                                                SUN   \n",
       "5fb376e2d8c9df1ed123726c  Иідате. тьско-ііо. тиі рафнческое предприятие ...   \n",
       "5fb399dc39d5e82e90818474  Фонд исследований, инноваций, инвестиций Тюмен...   \n",
       "5fb3b97d00881c332b567292                             Газпромнефть-Снабжение   \n",
       "5fb3b97e00881c332b5672bd                                   ГазРромнефть-ГЕО   \n",
       "...                                                                     ...   \n",
       "63dccb3f2c90db0b7a62aa5d                                          Канарейка   \n",
       "63dccb402c90db0b7a62aa77                                               Союз   \n",
       "63dccb412c90db0b7a62aa98                                          Канарейка   \n",
       "62862adb4d1bfe5e5b297dee                                              Астра   \n",
       "6392ff311002115a6029f3b0                                               Йода   \n",
       "\n",
       "                           org-2-alias                            subject  \\\n",
       "5ec2b8da665f7603e03b1255           SUN                            Service   \n",
       "5fb376e2d8c9df1ed123726c     Поставщик                               Deal   \n",
       "5fb399dc39d5e82e90818474  Арендодатель                            Renting   \n",
       "5fb3b97d00881c332b567292         Агент                     AgencyContract   \n",
       "5fb3b97e00881c332b5672bd     Принципал                     AgencyContract   \n",
       "...                                ...                                ...   \n",
       "63dccb3f2c90db0b7a62aa5d           NaN                              Other   \n",
       "63dccb402c90db0b7a62aa77       Заемщик                              Other   \n",
       "63dccb412c90db0b7a62aa98           NaN                              Other   \n",
       "62862adb4d1bfe5e5b297dee     Подрядчик                            Service   \n",
       "6392ff311002115a6029f3b0    Покупатель  ParticipationInOtherOrganizations   \n",
       "\n",
       "                         subject confidence             user_correction_date  \\\n",
       "5ec2b8da665f7603e03b1255           1.000000 2023-01-27 10:27:22.086000+00:00   \n",
       "5fb376e2d8c9df1ed123726c           1.000000 2022-12-08 12:28:06.617000+00:00   \n",
       "5fb399dc39d5e82e90818474           1.000000 2022-12-07 08:14:03.960000+00:00   \n",
       "5fb3b97d00881c332b567292           1.000000 2022-12-08 11:25:15.676000+00:00   \n",
       "5fb3b97e00881c332b5672bd           1.000000 2022-12-08 19:01:33.745000+00:00   \n",
       "...                                     ...                              ...   \n",
       "63dccb3f2c90db0b7a62aa5d           0.961693                              NaT   \n",
       "63dccb402c90db0b7a62aa77           0.857242                              NaT   \n",
       "63dccb412c90db0b7a62aa98           0.961693                              NaT   \n",
       "62862adb4d1bfe5e5b297dee           0.514836                              NaT   \n",
       "6392ff311002115a6029f3b0           0.340609                              NaT   \n",
       "\n",
       "                          valid             documentType subj_len  headers  \n",
       "5ec2b8da665f7603e03b1255   True                 CONTRACT     79.0      4.0  \n",
       "5fb376e2d8c9df1ed123726c   True                 CONTRACT     82.0     17.0  \n",
       "5fb399dc39d5e82e90818474   True                 CONTRACT     97.0     13.0  \n",
       "5fb3b97d00881c332b567292   True                 CONTRACT     86.0     15.0  \n",
       "5fb3b97e00881c332b5672bd   True                 CONTRACT     55.0     19.0  \n",
       "...                         ...                      ...      ...      ...  \n",
       "63dccb3f2c90db0b7a62aa5d  False  SUPPLEMENTARY_AGREEMENT      1.0      3.0  \n",
       "63dccb402c90db0b7a62aa77  False  SUPPLEMENTARY_AGREEMENT      1.0      1.0  \n",
       "63dccb412c90db0b7a62aa98   True  SUPPLEMENTARY_AGREEMENT      1.0      3.0  \n",
       "62862adb4d1bfe5e5b297dee  False  SUPPLEMENTARY_AGREEMENT      0.0     22.0  \n",
       "6392ff311002115a6029f3b0  False                 CONTRACT      0.0      7.0  \n",
       "\n",
       "[6782 rows x 21 columns]"
      ]
     },
     "execution_count": 27,
     "metadata": {},
     "output_type": "execute_result"
    }
   ],
   "source": [
    "def add_to_stats_list(docs_ids):\n",
    "    for k, oid in enumerate(docs_ids):\n",
    "        d = get_doc_by_id(ObjectId(str(oid)))\n",
    "        try:\n",
    "            jd = DbJsonDoc(d)\n",
    "            add_stats_record(jd, stats)\n",
    "        except Exception as e:\n",
    "            print(oid)\n",
    "            print (e)\n",
    "\n",
    "        if k % 100 == 0:\n",
    "            print(f'{k} of {len(docs_ids)}')\n",
    "            stats.to_csv(export_fn, index=True)\n",
    "            print(f'stats saved to {export_fn}')\n",
    "        \n",
    "add_to_stats_list(docs_ids)        \n",
    "stats.to_csv(export_fn, index=True)\n",
    "print(f'stats saved to {export_fn}')\n",
    "stats"
   ]
  },
  {
   "cell_type": "code",
   "execution_count": 28,
   "id": "2f531e27",
   "metadata": {},
   "outputs": [
    {
     "data": {
      "text/plain": [
       "'/root/artem/work/contract_trainset_meta.temp.csv'"
      ]
     },
     "execution_count": 28,
     "metadata": {},
     "output_type": "execute_result"
    }
   ],
   "source": []
  },
  {
   "cell_type": "code",
   "execution_count": 29,
   "id": "02106e73",
   "metadata": {},
   "outputs": [
    {
     "name": "stdout",
     "output_type": "stream",
     "text": [
      "13\n",
      "637397e2a8eb8dc64b37543b\n",
      "'NoneType' object is not iterable\n",
      "0 of 13\n",
      "stats saved to /root/artem/work/contract_trainset_meta.temp.csv\n",
      "637397e2a8eb8dc64b37543c\n",
      "'NoneType' object is not iterable\n",
      "637397e2a8eb8dc64b37543d\n",
      "'NoneType' object is not iterable\n",
      "637397e2a8eb8dc64b37543f\n",
      "'NoneType' object is not iterable\n",
      "637397e2a8eb8dc64b375440\n",
      "'NoneType' object is not iterable\n",
      "637397e2a8eb8dc64b375441\n",
      "'NoneType' object is not iterable\n",
      "637397e2a8eb8dc64b37543a\n",
      "'NoneType' object is not iterable\n",
      "637397e2a8eb8dc64b37543e\n",
      "'NoneType' object is not iterable\n",
      "637e11d66a07f3e980b2bfbf\n",
      "'NoneType' object is not iterable\n",
      "637e11d76a07f3e980b2bfc0\n",
      "'NoneType' object is not iterable\n",
      "637f2826fe09513dc6b2bfbf\n",
      "'NoneType' object is not iterable\n",
      "637f2826fe09513dc6b2bfc0\n",
      "'NoneType' object is not iterable\n",
      "637f725ec15a83c52bb2bfc1\n",
      "'NoneType' object is not iterable\n",
      "saving to /root/artem/work/contract_trainset_meta.temp.csv; 6782 records\n"
     ]
    },
    {
     "name": "stderr",
     "output_type": "stream",
     "text": [
      "/root/artem/analyser/integration/db.py:13: UserWarning: MongoDB : define GPN_DB_NAME environment variable! defaulting to gpn\n",
      "  warnings.warn(msg)\n"
     ]
    }
   ],
   "source": [
    "# _ids = list(\n",
    "#     stats[stats['source']=='db']\n",
    "#     [stats['documentType']=='undefined'][ stats['user_correction_date'].notna()].index)\n",
    "\n",
    "\n",
    "# add_to_stats_list(_ids)        \n",
    "# stats.to_csv(export_fn, index=True)\n",
    "\n",
    "s = stats[ stats['source']=='db'] \n",
    "# s = s[s['documentType']=='CONTRACT']\n",
    "# s = s[s['subj_len'].isna()]\n",
    "# s = s[s['user_correction_date'].notna()]\n",
    "# s = s[s['value']>0]\n",
    "_ids = list(s[s['headers'].isna()].index)\n",
    "print(len(_ids))\n",
    "add_to_stats_list(_ids)     \n",
    "print(f'saving to {export_fn}; {len(stats)} records')\n",
    "stats.to_csv(export_fn, index=True)"
   ]
  },
  {
   "cell_type": "code",
   "execution_count": 30,
   "id": "78849918",
   "metadata": {
    "papermill": {
     "duration": 0.0148,
     "end_time": "2023-01-27T06:25:24.248320",
     "exception": false,
     "start_time": "2023-01-27T06:25:24.233520",
     "status": "completed"
    },
    "tags": []
   },
   "outputs": [
    {
     "data": {
      "text/plain": [
       "6652"
      ]
     },
     "execution_count": 30,
     "metadata": {},
     "output_type": "execute_result"
    }
   ],
   "source": [
    "stats = stats[stats.valid!=False]\n",
    "len(stats)"
   ]
  },
  {
   "cell_type": "code",
   "execution_count": null,
   "id": "c54d19cf",
   "metadata": {
    "papermill": {
     "duration": 0.035991,
     "end_time": "2023-01-27T06:25:24.293122",
     "exception": false,
     "start_time": "2023-01-27T06:25:24.257131",
     "status": "completed"
    },
    "tags": []
   },
   "outputs": [],
   "source": [
    "stats2 = stats.copy()\n",
    "stats2['org-2-alias'] = stats2['org-2-alias'].str.lower()\n",
    "stats2['org-1-alias'] = stats2['org-1-alias'].str.lower()\n",
    "stats2['org-1-name'] = stats2['org-1-name'].str.lower()\n",
    "stats2['org-2-name'] = stats2['org-2-name'].str.lower()\n",
    "stats2"
   ]
  },
  {
   "cell_type": "code",
   "execution_count": null,
   "id": "396a0878",
   "metadata": {
    "papermill": {
     "duration": 0.014158,
     "end_time": "2023-01-27T06:25:24.316132",
     "exception": false,
     "start_time": "2023-01-27T06:25:24.301974",
     "status": "completed"
    },
    "tags": []
   },
   "outputs": [],
   "source": [
    "stats2['subject'].value_counts()"
   ]
  },
  {
   "cell_type": "code",
   "execution_count": null,
   "id": "bd661e06",
   "metadata": {
    "papermill": {
     "duration": 0.014652,
     "end_time": "2023-01-27T06:25:24.339512",
     "exception": false,
     "start_time": "2023-01-27T06:25:24.324860",
     "status": "completed"
    },
    "tags": []
   },
   "outputs": [],
   "source": [
    "stats2['org-1-alias'].value_counts()"
   ]
  },
  {
   "cell_type": "code",
   "execution_count": null,
   "id": "c953d211",
   "metadata": {
    "papermill": {
     "duration": 0.01456,
     "end_time": "2023-01-27T06:25:24.362839",
     "exception": false,
     "start_time": "2023-01-27T06:25:24.348279",
     "status": "completed"
    },
    "tags": []
   },
   "outputs": [],
   "source": [
    "stats2['org-2-alias'].value_counts()"
   ]
  },
  {
   "cell_type": "code",
   "execution_count": null,
   "id": "2d0209e3",
   "metadata": {},
   "outputs": [],
   "source": []
  },
  {
   "cell_type": "code",
   "execution_count": null,
   "id": "d9688de6",
   "metadata": {
    "papermill": {
     "duration": 7.638486,
     "end_time": "2023-01-27T06:25:32.010191",
     "exception": false,
     "start_time": "2023-01-27T06:25:24.371705",
     "status": "completed"
    },
    "tags": []
   },
   "outputs": [],
   "source": [
    "score_column_name = \"score\"\n",
    "\n",
    "def calc_no_value_importance(stats2, column_name, score_k=2.):\n",
    "        \n",
    "    for i, row in stats2.iterrows():\n",
    "        if pd.isna(row[column_name]):\n",
    "            stats2.at[i, score_column_name] *= score_k\n",
    "                \n",
    "def calc_user_importance(stats2):\n",
    "        \n",
    "    for i, row in stats2.iterrows():\n",
    "        if not pd.isna(row['unseen']):\n",
    "\n",
    "            if row['unseen'] == True:\n",
    "                stats2.at[i, score_column_name] *= 2\n",
    "                \n",
    "def calc_val_importance(stats2):\n",
    " \n",
    "    for i, row in stats2.iterrows():\n",
    "        if not pd.isna(row['value']):\n",
    "            val = row['value']\n",
    "            if val >= 2000:\n",
    "                stats2.at[i, score_column_name] *= 1./log1p(val)\n",
    "            if val < 2000:\n",
    "                stats2.at[i, score_column_name] *= 4.\n",
    "        else:\n",
    "            stats2.at[i, score_column_name] *= 10.0 #error\n",
    "            \n",
    "def calc_column_val_importance(stats2, column_name, k=1.):\n",
    "    counts = stats2[column_name].value_counts()\n",
    " \n",
    "        \n",
    "    for i, row in stats2.iterrows():\n",
    "        val = row[column_name]\n",
    "        if val in counts:\n",
    "            count = counts[val]\n",
    "            stats2.at[i, score_column_name] *= k * log1p(count)\n",
    "#             print(count, log1p(count),  1./log1p(count))\n",
    "        else:\n",
    "            stats2.at[i, score_column_name] *= 10.0 #error\n",
    "\n",
    "            \n",
    "for i, row in stats2.iterrows():        \n",
    "  stats2.at[i, 'url'] = f'http://gpn-audit.nemosoft.ru/#/audit/edit/{i}'\n",
    "\n",
    "    \n",
    "stats2 ['unseen'] = pd.isna( stats2['user_correction_date'])\n",
    "\n",
    "stats2[score_column_name] = 1.\n",
    " \n",
    "\n",
    "calc_no_value_importance(stats2, 'org-1-alias', 2.)\n",
    "calc_no_value_importance(stats2, 'org-2-alias', 2.)\n",
    "calc_no_value_importance(stats2, 'org-1-name', 3.)\n",
    "calc_no_value_importance(stats2, 'org-2-name', 3.)\n",
    "calc_no_value_importance(stats2, 'user_correction_date', 10.)\n",
    "calc_no_value_importance(stats2, 'subject', 4.)\n",
    "calc_no_value_importance(stats2, 'value', 5.)\n",
    "\n",
    "## calc_column_val_importance(stats2, 'org-1-name')\n",
    "## calc_column_val_importance(stats2, 'org-2-name')\n",
    "\n",
    "calc_column_val_importance(stats2, 'org-1-alias')\n",
    "calc_column_val_importance(stats2, 'org-2-alias')\n",
    "calc_column_val_importance(stats2, 'subject', k = 3.)\n",
    "\n",
    "calc_user_importance(stats2)\n",
    "calc_val_importance(stats2)\n",
    "\n",
    "# drop_duplicates(subset=['checksum']).\n",
    "stats2 = stats2.sort_values([score_column_name], ascending=True)\n",
    "print(len(stats2))\n",
    "stats2.head(40)"
   ]
  },
  {
   "cell_type": "code",
   "execution_count": null,
   "id": "c5c2b764",
   "metadata": {
    "papermill": {
     "duration": 0.013174,
     "end_time": "2023-01-27T06:25:32.033325",
     "exception": false,
     "start_time": "2023-01-27T06:25:32.020151",
     "status": "completed"
    },
    "tags": []
   },
   "outputs": [],
   "source": [
    "# sub = stats2.sort_values(['score'], ascending=True).copy()\n",
    "# sub"
   ]
  },
  {
   "cell_type": "markdown",
   "id": "c0df8c77",
   "metadata": {
    "papermill": {
     "duration": 0.009373,
     "end_time": "2023-01-27T06:25:32.052236",
     "exception": false,
     "start_time": "2023-01-27T06:25:32.042863",
     "status": "completed"
    },
    "tags": []
   },
   "source": [
    "## Find and remove duplicates"
   ]
  },
  {
   "cell_type": "code",
   "execution_count": null,
   "id": "7a6e5a4c",
   "metadata": {
    "papermill": {
     "duration": 0.045557,
     "end_time": "2023-01-27T06:25:32.107600",
     "exception": false,
     "start_time": "2023-01-27T06:25:32.062043",
     "status": "completed"
    },
    "tags": []
   },
   "outputs": [],
   "source": [
    "stats2['len'] //= 10 #similar lens\n",
    "stats2['len'] *= 10 #similar lens\n",
    "stats2.sort_values(['len', 'org-1-name', 'org-2-name', 'org-1-alias','org-2-alias', 'value', 'subject'], ascending=False)"
   ]
  },
  {
   "cell_type": "code",
   "execution_count": null,
   "id": "0ed775d0",
   "metadata": {
    "papermill": {
     "duration": 0.777279,
     "end_time": "2023-01-27T06:25:32.895028",
     "exception": false,
     "start_time": "2023-01-27T06:25:32.117749",
     "status": "completed"
    },
    "tags": []
   },
   "outputs": [],
   "source": [
    "for i, row in stats2.iterrows():\n",
    "  _str = ':'.join(sorted([str(x) for x in\n",
    "                          [row['len'], row['org-1-alias'], row['org-2-alias'], row['org-1-name'], row['org-2-name'],\n",
    "                           row['value'], row['subject']]]))\n",
    "  stats2.at[i, 'hash'] = hash(_str)\n",
    "\n",
    "stats2 = stats2.sort_values(['hash'])\n",
    "print(len(stats2))\n",
    "stats2"
   ]
  },
  {
   "cell_type": "code",
   "execution_count": null,
   "id": "8c9873c3",
   "metadata": {
    "papermill": {
     "duration": 0.685095,
     "end_time": "2023-01-27T06:25:33.590699",
     "exception": false,
     "start_time": "2023-01-27T06:25:32.905604",
     "status": "completed"
    },
    "tags": []
   },
   "outputs": [],
   "source": [
    "unks = stats2['hash'].value_counts()\n",
    "\n",
    "for i, row in stats2.iterrows():   \n",
    "    stats2.at[i, 'dups'] = unks[row['hash']]\n",
    "    \n",
    "dups = stats2.sort_values(['dups', 'hash'], ascending=False)\n",
    "# dups.to_csv(Path(work_dir) / 'contract_trainset_meta.duplicates.csv', index=True)\n",
    "\n",
    "# dups[40:].head(40)\n",
    "len(dups)"
   ]
  },
  {
   "cell_type": "code",
   "execution_count": null,
   "id": "7388197f",
   "metadata": {
    "papermill": {
     "duration": 0.010017,
     "end_time": "2023-01-27T06:25:33.611276",
     "exception": false,
     "start_time": "2023-01-27T06:25:33.601259",
     "status": "completed"
    },
    "tags": []
   },
   "outputs": [],
   "source": []
  },
  {
   "cell_type": "markdown",
   "id": "f425695b",
   "metadata": {
    "papermill": {
     "duration": 0.01003,
     "end_time": "2023-01-27T06:25:33.631361",
     "exception": false,
     "start_time": "2023-01-27T06:25:33.621331",
     "status": "completed"
    },
    "tags": []
   },
   "source": [
    "### Drop duplicates"
   ]
  },
  {
   "cell_type": "code",
   "execution_count": null,
   "id": "7b76e2ba",
   "metadata": {
    "papermill": {
     "duration": 0.022505,
     "end_time": "2023-01-27T06:25:33.663779",
     "exception": false,
     "start_time": "2023-01-27T06:25:33.641274",
     "status": "completed"
    },
    "tags": []
   },
   "outputs": [],
   "source": [
    "dups_s = dups.sort_values([score_column_name], ascending=True).copy()\n",
    "\n",
    "dups_s = dups_s.drop_duplicates(subset=['hash'])\n",
    "dups_s = dups_s.sort_values([score_column_name], ascending=True)\n",
    "\n",
    "\n",
    "dups_s = dups_s.sort_values([score_column_name], ascending=True)\n",
    "# dups_s = dups_s[dups_s[score_column_name] < 5000]\n",
    "print(len(dups_s))\n",
    "\n",
    "# dups_s [dups_s['len'] > 30000].head(40)"
   ]
  },
  {
   "cell_type": "markdown",
   "id": "177abb08",
   "metadata": {
    "papermill": {
     "duration": 0.010055,
     "end_time": "2023-01-27T06:25:33.684339",
     "exception": false,
     "start_time": "2023-01-27T06:25:33.674284",
     "status": "completed"
    },
    "tags": []
   },
   "source": [
    "## Remove rare subjects and very long docs"
   ]
  },
  {
   "cell_type": "code",
   "execution_count": null,
   "id": "84d0a95d",
   "metadata": {
    "papermill": {
     "duration": 0.124581,
     "end_time": "2023-01-27T06:25:33.819081",
     "exception": false,
     "start_time": "2023-01-27T06:25:33.694500",
     "status": "completed"
    },
    "tags": []
   },
   "outputs": [],
   "source": [
    "plt.figure(figsize=(12, 8))\n",
    "ax = dups_s[dups_s['len'] < 30000] ['len'].plot.hist(bins=20, alpha=0.8)\n",
    "ax.set_title('Text Length')\n",
    "plt.show()"
   ]
  },
  {
   "cell_type": "code",
   "execution_count": null,
   "id": "aa7f2e89",
   "metadata": {
    "papermill": {
     "duration": 0.124476,
     "end_time": "2023-01-27T06:25:33.954310",
     "exception": false,
     "start_time": "2023-01-27T06:25:33.829834",
     "status": "completed"
    },
    "tags": []
   },
   "outputs": [],
   "source": [
    "print(dups_s[score_column_name].min())\n",
    "plt.figure(figsize=(12, 8))\n",
    "ax = dups_s[score_column_name].plot.hist(bins=28, alpha=0.8)\n",
    "ax.set_title('Distibution by score')\n",
    "plt.show()"
   ]
  },
  {
   "cell_type": "code",
   "execution_count": null,
   "id": "e38fcfcc",
   "metadata": {
    "papermill": {
     "duration": 0.417471,
     "end_time": "2023-01-27T06:25:34.382676",
     "exception": false,
     "start_time": "2023-01-27T06:25:33.965205",
     "status": "completed"
    },
    "tags": []
   },
   "outputs": [],
   "source": [
    "\n",
    "dups_s['valid'] = True\n",
    "\n",
    "print(\"excluding too long docs\")\n",
    "for i, row in dups_s.iterrows():   \n",
    "    if row['len'] > 30000:\n",
    "        print ('excluding', i, row[0], row['subject'], row['len'])\n",
    "        dups_s.at[i, 'valid'] = False  \n",
    "        \n",
    "dups_s = dups_s[dups_s['valid'] == True]\n",
    "\n",
    "print(\"excluding docs with rare subj\")\n",
    "cnts = dups_s ['subject'].value_counts()\n",
    "for i, row in dups_s.iterrows():   \n",
    "    if not pd.isna(row['subject']):\n",
    "        if cnts[row['subject']] < 3:\n",
    "            print ('excluding', i, row[0], row['subject'])\n",
    "            dups_s.at[i, 'valid'] = False\n",
    "\n",
    "dups_s = dups_s[dups_s['valid'] == True]  "
   ]
  },
  {
   "cell_type": "code",
   "execution_count": null,
   "id": "8f1e9125",
   "metadata": {
    "papermill": {
     "duration": 0.15943,
     "end_time": "2023-01-27T06:25:34.553400",
     "exception": false,
     "start_time": "2023-01-27T06:25:34.393970",
     "status": "completed"
    },
    "tags": []
   },
   "outputs": [],
   "source": [
    "%matplotlib inline\n",
    "\n",
    "cnt = dups_s['subject'].value_counts()\n",
    "\n",
    "plt.figure(figsize=(12, 6 ))\n",
    "sns.barplot(x=cnt.values, y=cnt.index)\n",
    "\n",
    "print(  cnt )\n",
    "\n",
    "plt.title('Frequency Distribution of subjects')\n",
    "plt.xlabel('Number of Occurrences')\n",
    "plt.show()\n"
   ]
  },
  {
   "cell_type": "code",
   "execution_count": null,
   "id": "2bd38ac6",
   "metadata": {
    "papermill": {
     "duration": 0.092832,
     "end_time": "2023-01-27T06:25:34.657792",
     "exception": false,
     "start_time": "2023-01-27T06:25:34.564960",
     "status": "completed"
    },
    "tags": []
   },
   "outputs": [],
   "source": [
    "dups_s.index.name = '_id'\n",
    "dups_s.to_csv(Path(work_dir) / 'contract_trainset_meta.csv', index=True)\n",
    "\n",
    "\n",
    "_s = f\"### {len(dups_s)} - Всего новых документов в обучающем наборе на {lastdate}\"\n",
    "display(Markdown(_s))\n",
    "\n",
    "\n",
    "dups_s"
   ]
  },
  {
   "cell_type": "code",
   "execution_count": null,
   "id": "85f32d8d",
   "metadata": {
    "papermill": {
     "duration": 0.050796,
     "end_time": "2023-01-27T06:25:34.720462",
     "exception": false,
     "start_time": "2023-01-27T06:25:34.669666",
     "status": "completed"
    },
    "tags": []
   },
   "outputs": [],
   "source": [
    "dups_s[dups_s['unseen']].to_csv(Path(work_dir) / 'contract_trainset_meta.to_markup.csv', index=True)"
   ]
  },
  {
   "cell_type": "code",
   "execution_count": null,
   "id": "7ab1f954",
   "metadata": {
    "papermill": {
     "duration": 0.037327,
     "end_time": "2023-01-27T06:25:34.769709",
     "exception": false,
     "start_time": "2023-01-27T06:25:34.732382",
     "status": "completed"
    },
    "tags": []
   },
   "outputs": [],
   "source": [
    "dups_s[dups_s['unseen']]"
   ]
  },
  {
   "cell_type": "markdown",
   "id": "014233e8",
   "metadata": {
    "papermill": {
     "duration": 0.011648,
     "end_time": "2023-01-27T06:25:34.793158",
     "exception": false,
     "start_time": "2023-01-27T06:25:34.781510",
     "status": "completed"
    },
    "tags": []
   },
   "source": [
    "# Make datapoints"
   ]
  },
  {
   "cell_type": "code",
   "execution_count": null,
   "id": "24a31cc8",
   "metadata": {
    "papermill": {
     "duration": 0.015985,
     "end_time": "2023-01-27T06:25:34.820833",
     "exception": false,
     "start_time": "2023-01-27T06:25:34.804848",
     "status": "completed"
    },
    "tags": []
   },
   "outputs": [],
   "source": [
    "work_dir"
   ]
  },
  {
   "cell_type": "code",
   "execution_count": null,
   "id": "8294df11",
   "metadata": {
    "papermill": {
     "duration": 0.017036,
     "end_time": "2023-01-27T06:25:34.849754",
     "exception": false,
     "start_time": "2023-01-27T06:25:34.832718",
     "status": "completed"
    },
    "tags": []
   },
   "outputs": [],
   "source": [
    "from analyser.headers_detector import get_tokens_features\n",
    "from tf_support.embedder_elmo import ElmoEmbedder\n",
    "from analyser.legal_docs import embedd_tokens\n",
    "import os\n",
    "\n",
    "embedder = ElmoEmbedder.get_instance('elmo')  # lazy init\n",
    "\n",
    "def _dp_fn(doc_id, suffix):\n",
    "    return os.path.join(work_dir, 'datasets', f'{doc_id}-datapoint-{suffix}.npy')\n",
    "\n",
    "\n",
    "def save_contract_data_arrays(db_json_doc: DbJsonDoc):\n",
    "    # TODO: trim long documens according to contract parser\n",
    "\n",
    "    id_ = db_json_doc.get_id()\n",
    "\n",
    "    tokens_map: TextMap = db_json_doc.get_tokens_for_embedding()\n",
    "\n",
    "    # 1) EMBEDDINGS\n",
    "    print(len(tokens_map))\n",
    "    embeddings = embedd_tokens(tokens_map,\n",
    "                               embedder,\n",
    "                               log_key=f'id={id_} chs={tokens_map.get_checksum()}')\n",
    "\n",
    "    # 2) TOKEN FEATURES\n",
    "    token_features: DataFrame = get_tokens_features(db_json_doc.get_tokens_map_unchaged().tokens)\n",
    "\n",
    "    # 3) SEMANTIC MAP\n",
    "    semantic_map: DataFrame = get_semantic_map_new(db_json_doc)\n",
    "    #####\n",
    " \n",
    "    np.save(_dp_fn(id_, 'token_features'), token_features)\n",
    "    np.save(_dp_fn(id_, 'semantic_map'), semantic_map)\n",
    "    _embeddings_file = _dp_fn(id_, 'embeddings')\n",
    "    np.save(_embeddings_file, embeddings)\n",
    "    print(f'embeddings saved to {_embeddings_file} {embeddings.shape}')"
   ]
  },
  {
   "cell_type": "code",
   "execution_count": null,
   "id": "c43da6a0",
   "metadata": {
    "papermill": {
     "duration": 0.016668,
     "end_time": "2023-01-27T06:25:34.878280",
     "exception": false,
     "start_time": "2023-01-27T06:25:34.861612",
     "status": "completed"
    },
    "tags": []
   },
   "outputs": [],
   "source": [
    "_docs_ids = [str(i) for i in new_docs_ids]\n",
    "intersection_set = set.intersection(set(list(dups_s.index)), set(_docs_ids)) \n",
    "len(intersection_set)\n",
    "# intersection_set"
   ]
  },
  {
   "cell_type": "markdown",
   "id": "d50c48ce",
   "metadata": {
    "papermill": {
     "duration": 0.011815,
     "end_time": "2023-01-27T06:25:34.902223",
     "exception": false,
     "start_time": "2023-01-27T06:25:34.890408",
     "status": "completed"
    },
    "tags": []
   },
   "source": [
    "### Trainset fixtures\n",
    "#### Invalidate long subjects"
   ]
  },
  {
   "cell_type": "code",
   "execution_count": null,
   "id": "184b037f",
   "metadata": {
    "papermill": {
     "duration": 12.542763,
     "end_time": "2023-01-27T06:25:47.456825",
     "exception": false,
     "start_time": "2023-01-27T06:25:34.914062",
     "status": "completed"
    },
    "tags": []
   },
   "outputs": [],
   "source": [
    "ids = list(dups_s.index)\n",
    "\n",
    "\n",
    "ids_of_long_subject_docs=[]\n",
    "\n",
    "for k, oid in enumerate(ids):\n",
    "\n",
    "    _id = str(oid)\n",
    "    iiid= ObjectId(_id)\n",
    "    \n",
    "    src = dups_s.loc[_id]['source']\n",
    "    jd = None\n",
    "    if src == 'db':\n",
    "#       if False:\n",
    "        d = get_doc_by_id(iiid)\n",
    "        if d is not None:\n",
    "            jd = DbJsonDoc(d)\n",
    "            \n",
    "            if jd.state not in [15,12]:\n",
    "                print(jd.state, iiid)\n",
    "            \n",
    "            stats.at[_id, 'documentType'] = jd.documentType\n",
    "            dups_s.at[_id, 'documentType'] = jd.documentType\n",
    "            \n",
    "            attr_tree = jd.get_attributes_tree()  \n",
    "            span = attr_tree.get('subject', {}).get('span',[0,0])\n",
    "            subject_len = span[1]-span[0]\n",
    "            stats.at[_id, 'subj_len'] = subject_len\n",
    "            dups_s.at[_id, 'subj_len'] = subject_len            \n",
    "                \n",
    "            if span[0]==0:\n",
    "                stats.at[_id, 'valid'] = False\n",
    "                dups_s.at[_id, 'valid'] = False\n",
    "                \n",
    "            if subject_len >= 200:\n",
    "                \n",
    "                stats.at[_id, 'valid'] = False\n",
    "                dups_s.at[_id, 'valid'] = False\n",
    "                \n",
    "                \n",
    "                \n",
    "                ids_of_long_subject_docs.append(oid)\n",
    "                \n",
    "                tm = jd.get_tokens_map_unchaged()\n",
    "                quote = tm.text_range(span)\n",
    "                print(k, iiid, span, span[1]-span[0])\n",
    "#                 print('-'*100)\n",
    "                sentence_span = tm.sentence_at_index(span[0])\n",
    "                quote2 = tm.text_range(sentence_span)\n",
    "                print(quote2[:50])\n",
    "                print('='*100)\n",
    "stats[stats['documentType']=='CONTRACT']\n",
    "\n",
    "dups_s.to_csv(Path(work_dir) / 'contract_trainset_meta.csv', index=True)"
   ]
  },
  {
   "cell_type": "markdown",
   "id": "e3904dc7",
   "metadata": {},
   "source": [
    "#### Fix missing headers"
   ]
  },
  {
   "cell_type": "code",
   "execution_count": null,
   "id": "ca1c28f0",
   "metadata": {},
   "outputs": [],
   "source": []
  },
  {
   "cell_type": "code",
   "execution_count": null,
   "id": "cad11389",
   "metadata": {},
   "outputs": [],
   "source": [
    "from analyser.legal_docs import LegalDocument, PARAGRAPH_DELIMITER, GenericDocument, Paragraph\n",
    "from analyser.ml_tools import SemanticTag\n",
    "from integration.word_document_parser import join_paragraphs\n",
    "\n",
    "\n",
    "def save_analysis(db_document: DbJsonDoc, doc_dummie: LegalDocument) -> DbJsonDoc:\n",
    "  documents_collection = get_mongodb_connection()['documents']\n",
    "  \n",
    "  _analyse_json_obj: dict = doc_dummie.to_json_obj()\n",
    "  print(\"--analyse_json_obj['headers'] len=\", len(_analyse_json_obj['headers']))\n",
    "\n",
    "#   to_save = db_document.as_dict()\n",
    "#   to_save['headers'] = _analyse_json_obj['headers']\n",
    "\n",
    "  documents_collection.update_one({'_id': doc_dummie.get_id()}, {'$set': {'analysis.headers': _analyse_json_obj['headers']}})\n",
    " \n",
    "    \n",
    "  print(\"updated\", doc_dummie.get_id())\n",
    "\n",
    "\n",
    "def restore_headers (response, oid) :\n",
    "  doc = join_paragraphs(response, oid)\n",
    "  return doc\n",
    "   \n",
    "\n",
    "\n",
    "def restore_headlines(k,oid):    \n",
    "\n",
    "    iiid= ObjectId(oid)\n",
    "    src = dups_s.loc[oid]['source']\n",
    "    jd = None\n",
    "    if src == 'db':\n",
    "#       if False:\n",
    "        d = get_doc_by_id(iiid)\n",
    "        if d is not None:\n",
    "            jd = DbJsonDoc(d)\n",
    "            \n",
    "            if jd.state in [15,12]:\n",
    "                if len(jd.analysis.get('headers', [])) > 0:\n",
    "                    #  all is ok\n",
    "#                     print(oid)\n",
    "                    pass\n",
    "                else:\n",
    "                     doc_with_paragraphs = restore_headers(jd.parse, iiid)\n",
    "                     save_analysis(jd,  doc_with_paragraphs)\n",
    "                     print ('--', k, oid, len(doc_with_paragraphs.paragraphs))\n",
    "\n",
    "                    \n",
    "for k, oid in enumerate(ids):\n",
    "    restore_headlines(k,oid)\n"
   ]
  },
  {
   "cell_type": "code",
   "execution_count": null,
   "id": "e7aa27c0",
   "metadata": {},
   "outputs": [],
   "source": [
    "# restore_headlines(1,'62d149474ae369b4976e31fc'): "
   ]
  },
  {
   "cell_type": "code",
   "execution_count": null,
   "id": "0092415b",
   "metadata": {
    "papermill": {
     "duration": 0.016802,
     "end_time": "2023-01-27T06:25:47.486145",
     "exception": false,
     "start_time": "2023-01-27T06:25:47.469343",
     "status": "completed"
    },
    "tags": []
   },
   "outputs": [],
   "source": [
    "len(ids_of_long_subject_docs)"
   ]
  },
  {
   "cell_type": "code",
   "execution_count": null,
   "id": "c00d942c",
   "metadata": {
    "papermill": {
     "duration": 0.038847,
     "end_time": "2023-01-27T06:25:47.537145",
     "exception": false,
     "start_time": "2023-01-27T06:25:47.498298",
     "status": "completed"
    },
    "tags": []
   },
   "outputs": [],
   "source": [
    "dups_s"
   ]
  },
  {
   "cell_type": "code",
   "execution_count": null,
   "id": "66a9a206",
   "metadata": {
    "papermill": {
     "duration": 0.112493,
     "end_time": "2023-01-27T06:25:47.662379",
     "exception": false,
     "start_time": "2023-01-27T06:25:47.549886",
     "status": "completed"
    },
    "tags": []
   },
   "outputs": [],
   "source": [
    "stats.to_csv(export_fn, index=True)"
   ]
  },
  {
   "cell_type": "code",
   "execution_count": null,
   "id": "d8a3421b",
   "metadata": {
    "papermill": {
     "duration": 711.334283,
     "end_time": "2023-01-27T06:37:39.009670",
     "exception": false,
     "start_time": "2023-01-27T06:25:47.675387",
     "status": "completed"
    },
    "tags": []
   },
   "outputs": [],
   "source": [
    "\n",
    "\n",
    "for k, oid in enumerate(ids):\n",
    "    iiid= ObjectId(oid)\n",
    "    src = dups_s.loc[oid]['source']\n",
    "    jd = None\n",
    "    if src == 'db':\n",
    "#       if False:\n",
    "        d = get_doc_by_id(iiid)\n",
    "        if d is not None:\n",
    "          jd = DbJsonDoc(d)\n",
    "    else:\n",
    "#         if False:\n",
    "        print(oid, k, 'of', len(ids), src)\n",
    "        jd = files_dict[iiid]\n",
    "        \n",
    "    print(oid, k, 'of', len(ids), src)\n",
    "\n",
    "    if jd is not None:\n",
    "        if jd.state in [15,12]:                \n",
    "            save_contract_data_arrays(jd)\n"
   ]
  },
  {
   "cell_type": "code",
   "execution_count": null,
   "id": "3e38c503",
   "metadata": {
    "papermill": {
     "duration": 0.841925,
     "end_time": "2023-01-27T06:37:40.516097",
     "exception": false,
     "start_time": "2023-01-27T06:37:39.674172",
     "status": "completed"
    },
    "tags": []
   },
   "outputs": [],
   "source": [
    "25"
   ]
  },
  {
   "cell_type": "code",
   "execution_count": null,
   "id": "2b18c08e",
   "metadata": {
    "papermill": {
     "duration": 0.708403,
     "end_time": "2023-01-27T06:37:42.181096",
     "exception": false,
     "start_time": "2023-01-27T06:37:41.472693",
     "status": "completed"
    },
    "tags": []
   },
   "outputs": [],
   "source": []
  },
  {
   "cell_type": "code",
   "execution_count": null,
   "id": "7fca9158",
   "metadata": {},
   "outputs": [],
   "source": []
  }
 ],
 "metadata": {
  "colab": {
   "collapsed_sections": [
    "9eF-UGHyh-C9",
    "7X_zYCYEdlPM",
    "lyI4hbTRFjyM"
   ],
   "name": "Local: structure keras uber model - clean train, evaluate, test.ipynb",
   "provenance": [],
   "toc_visible": true
  },
  "kernelspec": {
   "display_name": "env",
   "language": "python",
   "name": "env"
  },
  "language_info": {
   "codemirror_mode": {
    "name": "ipython",
    "version": 3
   },
   "file_extension": ".py",
   "mimetype": "text/x-python",
   "name": "python",
   "nbconvert_exporter": "python",
   "pygments_lexer": "ipython3",
   "version": "3.8.10"
  },
  "papermill": {
   "default_parameters": {},
   "duration": 776.413935,
   "end_time": "2023-01-27T06:37:48.026538",
   "environment_variables": {},
   "exception": null,
   "input_path": "trainsets/export_trainset.ipynb",
   "output_path": "trainsets/export_trainset.ipynb",
   "parameters": {},
   "start_time": "2023-01-27T06:24:51.612603",
   "version": "2.3.3"
  },
  "toc-showmarkdowntxt": false,
  "widgets": {
   "application/vnd.jupyter.widget-state+json": {
    "state": {},
    "version_major": 2,
    "version_minor": 0
   }
  }
 },
 "nbformat": 4,
 "nbformat_minor": 5
}
