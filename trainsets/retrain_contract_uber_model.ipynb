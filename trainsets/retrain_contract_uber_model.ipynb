{
 "cells": [
  {
   "cell_type": "code",
   "execution_count": null,
   "metadata": {
    "colab": {},
    "colab_type": "code",
    "id": "JoHJkn9yQIgg"
   },
   "outputs": [],
   "source": [
    "import logging\n",
    "logger = logging.getLogger('retrain_ipynb')\n",
    "logger.setLevel(logging.DEBUG)\n",
    "\n",
    "\n",
    "ch = logging.StreamHandler()\n",
    "ch.setLevel(logging.INFO)\n",
    "formatter = logging.Formatter('%(levelname)s - %(asctime)s - %(name)s - %(message)s')\n",
    "ch.setFormatter(formatter)\n",
    "logger.addHandler(ch)\n",
    "logger.debug('--=logging started=--')"
   ]
  },
  {
   "cell_type": "code",
   "execution_count": null,
   "metadata": {
    "colab": {
     "base_uri": "https://localhost:8080/",
     "height": 34
    },
    "colab_type": "code",
    "id": "Dehw0fnKfSBF",
    "outputId": "3bcb61cd-401a-43d7-dccf-9a6022b2a576"
   },
   "outputs": [],
   "source": [
    "import sys\n",
    "TRAIN = True\n",
    "IN_COLAB = 'google.colab' in sys.modules\n",
    "print ('Running in colab:', IN_COLAB)"
   ]
  },
  {
   "cell_type": "code",
   "execution_count": null,
   "metadata": {
    "colab": {},
    "colab_type": "code",
    "id": "ZiBqnGnQfKWF"
   },
   "outputs": [],
   "source": [
    "import os\n",
    "\n",
    "if not IN_COLAB:\n",
    "  nb_dir = os.path.split(os.getcwd())[0]\n",
    "  if nb_dir not in sys.path:\n",
    "      sys.path.append(nb_dir)\n",
    "else:\n",
    "  %tensorflow_version 1.x\n",
    "  import tensorflow as tf\n",
    "  print(tf.__version__)"
   ]
  },
  {
   "cell_type": "code",
   "execution_count": null,
   "metadata": {
    "colab": {},
    "colab_type": "code",
    "id": "H5cLtueagMru"
   },
   "outputs": [],
   "source": [
    "if IN_COLAB:\n",
    "  !pip install --upgrade pip\n",
    "  !pip --version\n",
    "  !pip install --no-deps --upgrade git+https://www.github.com/nemoware/analyser.git@uber-models\n",
    "  !pip install -q pyjarowinkler overrides\n",
    "  "
   ]
  },
  {
   "cell_type": "code",
   "execution_count": null,
   "metadata": {
    "colab": {},
    "colab_type": "code",
    "id": "jT7451NXspdw"
   },
   "outputs": [],
   "source": [
    "\n",
    "if not IN_COLAB:\n",
    "  import analyser.hyperparams  \n",
    "  _work_dir_default = os.path.realpath(os.path.join(  analyser.hyperparams.__file__, '..', '..', '..', 'work'))\n",
    "  work_dir = os.environ.get('GPN_WORK_DIR', _work_dir_default)\n",
    "  \n",
    "  if not os.path.isdir(work_dir):\n",
    "    os.mkdir(work_dir)\n",
    "\n",
    "  analyser.hyperparams.work_dir = work_dir\n",
    "else:\n",
    "  import analyser.hyperparams\n",
    "  from google.colab import drive\n",
    "  drive.mount('/content/drive')\n",
    "  os.environ['GPN_WORK_DIR']='/content/drive/My Drive/GazpromOil/trainsets/uber_2'\n",
    "  analyser.hyperparams.work_dir = os.environ['GPN_WORK_DIR']\n",
    "\n",
    "print('work_dir=', analyser.hyperparams.work_dir)\n",
    "assert os.path.isdir(analyser.hyperparams.work_dir)"
   ]
  },
  {
   "cell_type": "markdown",
   "metadata": {
    "colab_type": "text",
    "id": "JbsxFAqC6pjQ"
   },
   "source": [
    "# Imports"
   ]
  },
  {
   "cell_type": "code",
   "execution_count": null,
   "metadata": {
    "colab": {
     "base_uri": "https://localhost:8080/",
     "height": 87
    },
    "colab_type": "code",
    "id": "pexvDJbAtZM0",
    "outputId": "4f7e6e34-d675-423d-d102-1020d49d854f"
   },
   "outputs": [],
   "source": [
    "%matplotlib inline\n",
    "import tensorflow as tf\n",
    "print(tf.__version__)\n",
    "\n",
    " \n",
    "import os\n",
    "import random\n",
    "import math\n",
    "import json\n",
    "import warnings\n",
    "\n",
    "from os import path\n",
    "\n",
    "import seaborn as sns\n",
    "import matplotlib.pyplot as plt\n",
    "from IPython.core.display import display, HTML\n",
    "\n",
    "from colab_support.renderer import *\n",
    "\n",
    "import pickle\n",
    "import numpy as np\n",
    "import pandas as pd\n",
    "\n",
    "from bson import json_util\n",
    "\n",
    "from analyser.legal_docs import LegalDocument, make_headline_attention_vector\n",
    "from analyser.headers_detector import make_predicted_headline_attention_vector, get_tokens_features\n",
    "from analyser.hyperparams import models_path\n",
    "from analyser.text_tools import find_top_spans\n",
    "from analyser.persistence import DbJsonDoc\n",
    "\n",
    "from trainsets.trainset_tools import TrainsetBalancer, SubjectTrainsetManager\n",
    "from trainsets.retrain_contract_uber_model import UberModelTrainsetManager\n",
    "\n",
    "from tf_support import super_contract_model\n",
    "from tf_support.super_contract_model import get_base_model, seq_labels_contract\n",
    "from tf_support.super_contract_model import uber_detection_model_005_1_1\n",
    "from tf_support.tf_subject_model import decode_subj_prediction\n",
    "from tf_support.tools import KerasTrainingContext\n",
    "from tf_support.embedder_elmo import ElmoEmbedder\n",
    "\n",
    "\n",
    "from keras.utils.vis_utils import model_to_dot\n",
    "from sklearn.metrics import classification_report\n",
    "from sklearn.model_selection import train_test_split\n",
    " \n",
    "from keras.models import load_model\n",
    "\n",
    "\n",
    "from tensorflow import keras\n",
    "import keras.backend as K\n",
    "from keras.layers import Conv1D, LSTM, GRU, BatchNormalization, TimeDistributed, Dense, Bidirectional, Input, Dropout, Lambda\n",
    "from keras.layers import concatenate, SpatialDropout1D, ActivityRegularization\n",
    "from keras.layers import MaxPooling1D, Activation, ThresholdedReLU, GaussianNoise\n",
    "\n",
    "from keras.callbacks import ModelCheckpoint, ReduceLROnPlateau, CSVLogger\n",
    "from keras.models import Sequential, Model\n",
    "\n",
    "from keras.utils import plot_model\n",
    "from keras.preprocessing.sequence import pad_sequences\n"
   ]
  },
  {
   "cell_type": "markdown",
   "metadata": {
    "colab_type": "text",
    "id": "HRQOy7o0uyTv"
   },
   "source": [
    "# Prepare trainset\n"
   ]
  },
  {
   "cell_type": "code",
   "execution_count": null,
   "metadata": {},
   "outputs": [],
   "source": [
    "if not IN_COLAB:\n",
    "  from integration.db import get_mongodb_connection\n",
    "  from bson.objectid import ObjectId\n",
    "\n",
    "  def get_doc(objid):\n",
    "    db = get_mongodb_connection()\n",
    "    documents_collection = db['documents']\n",
    "    jdata = documents_collection.find_one({'_id': ObjectId(objid)})\n",
    "    return DbJsonDoc(jdata)"
   ]
  },
  {
   "cell_type": "code",
   "execution_count": null,
   "metadata": {
    "colab": {},
    "colab_type": "code",
    "id": "gIWUsIvPv2ia"
   },
   "outputs": [],
   "source": [
    "umtm = UberModelTrainsetManager ( analyser.hyperparams.work_dir)\n",
    "\n",
    "if not IN_COLAB:\n",
    "#   umtm.export_docs_to_json()\n",
    "  umtm.import_recent_contracts()\n",
    "  umtm.calculate_samples_weights()\n",
    "  umtm.validate_trainset()"
   ]
  },
  {
   "cell_type": "code",
   "execution_count": null,
   "metadata": {
    "colab": {
     "base_uri": "https://localhost:8080/",
     "height": 675
    },
    "colab_type": "code",
    "id": "8pe_gZIK3JFh",
    "outputId": "7b923b06-f592-4b11-bb35-d215566e017d"
   },
   "outputs": [],
   "source": [
    "umtm.stats = umtm.stats[  pd.isna(umtm.stats.value_span) + (umtm.stats.value_span < 10000) ] #remove big docs from TS"
   ]
  },
  {
   "cell_type": "code",
   "execution_count": null,
   "metadata": {
    "colab": {
     "base_uri": "https://localhost:8080/",
     "height": 365
    },
    "colab_type": "code",
    "id": "ouUjO_T7xf8A",
    "outputId": "17f85a9a-b0c1-4395-886f-af66e6e5fb12"
   },
   "outputs": [],
   "source": [
    "%matplotlib inline\n",
    "\n",
    "subj_count = umtm.stats['subject'].value_counts()\n",
    "\n",
    "#plot distribution---------------------\n",
    "sns.barplot(subj_count.values, subj_count.index)\n",
    "plt.title('Frequency Distribution of subjects')\n",
    "plt.xlabel('Number of Occurrences')\n",
    "plt.show()\n",
    "\n",
    "\n",
    "print ('\\nmin', min (subj_count.values))\n",
    "print ('max', max (subj_count.values))\n",
    "print ('total', sum (subj_count.values))"
   ]
  },
  {
   "cell_type": "code",
   "execution_count": null,
   "metadata": {
    "colab": {
     "base_uri": "https://localhost:8080/",
     "height": 338
    },
    "colab_type": "code",
    "id": "Ld_KZaHwqf_G",
    "outputId": "c974398a-62a1-44e8-b73c-6589766b05c7"
   },
   "outputs": [],
   "source": [
    "from sklearn.utils import class_weight\n",
    "from trainsets.trainset_tools import get_feature_log_weights\n",
    "\n",
    "_classes = umtm.stats['subject'].unique().tolist()\n",
    "\n",
    "print(f'classes: {_classes}')\n",
    "\n",
    "# class_weights = class_weight.compute_class_weight('balanced', _classes, umtm.stats['subject'])\n",
    "# class_weights = dict(zip(_classes, class_weights))\n",
    "\n",
    "\n",
    "class_weights = get_feature_log_weights(umtm.stats, 'subject')\n",
    "class_weights"
   ]
  },
  {
   "cell_type": "code",
   "execution_count": null,
   "metadata": {
    "colab": {
     "base_uri": "https://localhost:8080/",
     "height": 481
    },
    "colab_type": "code",
    "id": "Cs6cZtPy6Je1",
    "outputId": "f0a39fff-f3c5-4418-b087-0eef915b7a81"
   },
   "outputs": [],
   "source": [
    "from trainsets.trainset_tools import get_feature_log_weights\n",
    "\n",
    "def calculate_samples_weights(self):\n",
    "  # TODO: sync with github!\n",
    "  self.stats: DataFrame = self.load_contract_trainset_meta()\n",
    "  if 'errors' in self.stats:\n",
    "      self.stats['errors'] = umtm.stats['errors'].fillna(0)\n",
    "  else:\n",
    "      self.stats['errors'] = 0\n",
    "  subject_weights = get_feature_log_weights(self.stats, 'subject')\n",
    "  \n",
    "  value_median = self.stats.value_log1p.median()\n",
    "\n",
    "  for i, row in self.stats.iterrows():\n",
    "    subj_name = row['subject']\n",
    "\n",
    "    tagging_weight = 1.0\n",
    "    if not pd.isna(row['user_correction_date']):  # MORE weight for user-corrected datapoints\n",
    "      tagging_weight = 10.0  # TODO: must be estimated anyhow smartly\n",
    "\n",
    "    value_weight = value_median\n",
    "    if not pd.isna(row['value_log1p']):\n",
    "      # вес пропорционален логорифму цены контракта,\n",
    "      # чтобы было меньше ошибок в контрактах на большие суммы)\n",
    "      value_weight = row['value_log1p']\n",
    "\n",
    "    tagging_weight *= value_weight\n",
    "    subject_weight = tagging_weight * class_weights[subj_name]\n",
    "\n",
    "    if 'errors' in row:\n",
    "      a = float( row['errors'] + 1.0)\n",
    "\n",
    "#       ## giving more weight to incorrectly analyzed docs\n",
    "#       subject_weight = subject_weight *(1.0 + row['errors'])\n",
    "      tagging_weight *= a\n",
    "\n",
    "    self.stats.at[i, 'subject_weight'] = subject_weight\n",
    "    self.stats.at[i, 'sample_weight']  = tagging_weight\n",
    "\n",
    "  # NORMALIZE weights, so the sum == Number of samples\n",
    "  self.stats.sample_weight /= self.stats.sample_weight.mean()\n",
    "  self.stats.subject_weight /= self.stats.subject_weight.mean()\n",
    "\n",
    "  self._save_stats()\n",
    "\n",
    "calculate_samples_weights(umtm)\n",
    "\n",
    "plt.figure(figsize=(13, 6))\n",
    "\n",
    "umtm.stats['subject_weight'].hist(bins=20, alpha=0.5)\n",
    "umtm.stats['sample_weight'].hist(bins=20, alpha=0.5)\n",
    "\n",
    "plt.xscale('linear') # log?\n",
    "plt.show()"
   ]
  },
  {
   "cell_type": "code",
   "execution_count": null,
   "metadata": {
    "colab": {
     "base_uri": "https://localhost:8080/",
     "height": 441
    },
    "colab_type": "code",
    "id": "_DjNv8UQ956S",
    "outputId": "6ded6bae-e1f0-4a77-9024-64da80c6e47f"
   },
   "outputs": [],
   "source": [
    "sns.jointplot(x=\"subject_weight\", y=\"sample_weight\", data=umtm.stats )\n",
    "plt.show()\n"
   ]
  },
  {
   "cell_type": "markdown",
   "metadata": {
    "colab_type": "text",
    "id": "IxEdSGOuq62R"
   },
   "source": [
    "### look into trainset"
   ]
  },
  {
   "cell_type": "code",
   "execution_count": null,
   "metadata": {
    "colab": {
     "base_uri": "https://localhost:8080/",
     "height": 34
    },
    "colab_type": "code",
    "id": "CRb_AJUliUft",
    "outputId": "0369b8f3-7423-45f3-a0ed-3459408ccec0"
   },
   "outputs": [],
   "source": [
    "# umtm.calculate_samples_weights()\n",
    "SAMPLE_DOC_ID = umtm.stats.index[0]\n",
    "print('SAMPLE_DOC_ID', SAMPLE_DOC_ID)\n",
    "dp = umtm.make_xyw(SAMPLE_DOC_ID)\n",
    "(emb, tok_f), (sm, subj), (sample_weight, subject_weight) = dp\n",
    " "
   ]
  },
  {
   "cell_type": "code",
   "execution_count": null,
   "metadata": {
    "colab": {
     "base_uri": "https://localhost:8080/",
     "height": 1000
    },
    "colab_type": "code",
    "id": "_kJ0L2RnrHl3",
    "outputId": "4863cd27-1459-458a-951d-b054235ffaea"
   },
   "outputs": [],
   "source": [
    "%matplotlib inline\n",
    "\n",
    "plot_embedding(tok_f[:500], title=f'Tokens features {SAMPLE_DOC_ID}') \n",
    "plot_embedding(emb[:500], title=f'Embedding {SAMPLE_DOC_ID}') \n",
    "plot_embedding(sm[:500], title=f'Semantic map {SAMPLE_DOC_ID}')"
   ]
  },
  {
   "cell_type": "markdown",
   "metadata": {
    "colab_type": "text",
    "id": "niaa4g6g2Q7g"
   },
   "source": [
    "## Batch generator & TODOs 🙏\n",
    "\n",
    "\n",
    "- [X] TODO: add outliers to the trainset ?\n",
    "- [ ] TODO: try sparse_categorical_entropy instead of one-hot encodings\n",
    "- [ ] TODO: model 5.2, 5.1: bipolar concat layer is wrong because we concatenate thongs of different magnitudes. Add a Sigmoid activation layer\n",
    "- [ ] TODO: chechk what is better: to pad with zeros or to pad with means\n",
    "- [X] TODO: add weights to samples\n",
    "- [ ] TODO: sum semantic map alongside vertical axis, and mutiply it (as a mask) by the subject detection seq\n",
    "- [ ] TODO: introduce individual per tag threshosholds, also, the current 0.3 threshold is strange."
   ]
  },
  {
   "cell_type": "code",
   "execution_count": null,
   "metadata": {
    "colab": {},
    "colab_type": "code",
    "id": "1CFzuOP4w9mB"
   },
   "outputs": [],
   "source": [
    "def make_generator(self, indices: [int], batch_size: int, augment_samples=False):\n",
    "\n",
    "  np.random.seed(42)\n",
    "\n",
    "  while True:\n",
    "    # next batch\n",
    "    batch_indices = np.random.choice(a=indices, size=batch_size)\n",
    "\n",
    "    max_len = 128 * 12\n",
    "    start_from = 0\n",
    "\n",
    "    if augment_samples:\n",
    "      max_len =  random.randint(300, 1400)\n",
    "\n",
    "    batch_input_emb = []\n",
    "    batch_input_token_f = []\n",
    "    batch_output_sm = []\n",
    "    batch_output_subj = []\n",
    "\n",
    "    weights = []\n",
    "    weights_subj = []\n",
    "\n",
    "    # Read in each input, perform preprocessing and get labels\n",
    "    for doc_id in batch_indices:\n",
    "\n",
    "      dp = self.make_xyw(doc_id)\n",
    "      (emb, tok_f), (sm, subj), (sample_weight, subject_weight) = dp\n",
    "\n",
    "      subject_weight_K=1.0\n",
    "      if augment_samples:\n",
    "        start_from = 0\n",
    "        \n",
    "        row = self.stats.loc[doc_id]\n",
    "        if random.randint(1, 2) == 1:  # 50% of samples\n",
    "          segment_center = random.randint(0, len(emb)-1) ##select random token as a center\n",
    "          if not pd.isna(row['value_span']) and random.random()<0.7:        \n",
    "            segment_center = int(row['value_span'])\n",
    "\n",
    "          _off = random.randint(max_len // 4, max_len // 2)\n",
    "          start_from = segment_center - _off\n",
    "          if start_from < 0:\n",
    "            start_from = 0\n",
    "          subject_weight_K = 0.1 #lower subject weight because there mighе be no information about subject around doc. value\n",
    "\n",
    "      dp = self.trim_maxlen(dp, start_from, max_len)\n",
    "      # TODO: find samples maxlen\n",
    "\n",
    "      (emb, tok_f), (sm, subj), (sample_weight, subject_weight) = dp\n",
    "      subject_weight *= subject_weight_K\n",
    "\n",
    "      batch_input_emb.append(emb)\n",
    "      batch_input_token_f.append(tok_f)\n",
    "\n",
    "      batch_output_sm.append(sm)\n",
    "      batch_output_subj.append(subj)\n",
    "\n",
    "      weights.append(sample_weight)\n",
    "      weights_subj.append(subject_weight)\n",
    "      # end if emb\n",
    "    # end for loop\n",
    "\n",
    "    # Return a tuple of (input, output, weights) to feed the network\n",
    "    yield ([np.array(batch_input_emb), np.array(batch_input_token_f)],\n",
    "            [np.array(batch_output_sm), np.array(batch_output_subj)],\n",
    "            [np.array(weights), np.array(weights_subj)])"
   ]
  },
  {
   "cell_type": "code",
   "execution_count": null,
   "metadata": {
    "colab": {
     "base_uri": "https://localhost:8080/",
     "height": 0
    },
    "colab_type": "code",
    "id": "zrKMJ2bsn6yx",
    "outputId": "f39d06b8-8af2-4570-fa72-481633dfe61c"
   },
   "outputs": [],
   "source": [
    "EPOCHS = 50\n",
    "BATCH_SIZE = 24\n",
    "EMB =  1024\n",
    " \n",
    "_SELFTEST = True\n",
    "\n",
    "\n",
    "_train, _test = train_test_split(umtm.stats, test_size=0.2, stratify=umtm.stats[['subject']])\n",
    "train_indices = list(_train.index)\n",
    "test_indices = list(_test.index)\n",
    "\n",
    "\n",
    "print('train_indices[0]:', train_indices[0])\n",
    "print('test_indices[0]:', test_indices[0])\n",
    "\n",
    "\n",
    "def plot_subject_distr(df, title):  \n",
    "  target='subject'\n",
    "  plt.figure(figsize=(16,4))   \n",
    "  sns.set(style=\"whitegrid\")\n",
    "  chart = sns.countplot(data=df, y=target)\n",
    "  plt.title(f'Frequency Distribution of subjects :{title}')\n",
    "\n",
    " \n",
    "plot_subject_distr(umtm.stats, 'ALL')\n",
    "plot_subject_distr(umtm.stats[umtm.stats.index.isin(train_indices)], 'train')\n",
    "plot_subject_distr(umtm.stats[umtm.stats.index.isin(test_indices)], 'test')\n",
    "\n",
    "\n",
    "if _SELFTEST:\n",
    "  # test_gen = make_generator(umtm, test_indices, BATCH_SIZE)\n",
    "  train_gen = make_generator(umtm, train_indices, BATCH_SIZE, augment_samples=True)\n",
    "  \n",
    "  x, y, w = next(train_gen)\n",
    "  \n",
    "  print('X:', len(x), 'X[0]=', x[0].shape, 'X[1]=', x[1].shape)\n",
    "  print('Y:', len(y), 'Y[0]=', y[0].shape, 'Y[1]=', y[1].shape)\n",
    "  \n",
    "\n",
    "  plot_embedding(x[0][0], 'X2: Token Embeddings')\n",
    "  plot_embedding(x[1][0], 'X1: Token Features')\n",
    "  plot_embedding(y[0][0], 'Y: Semantic Map')\n",
    "  \n",
    "  print(y[0][1])\n",
    "\n",
    "  del x\n",
    "  del w\n",
    "  del y\n",
    "  del train_gen"
   ]
  },
  {
   "cell_type": "code",
   "execution_count": null,
   "metadata": {
    "colab": {
     "base_uri": "https://localhost:8080/",
     "height": 0
    },
    "colab_type": "code",
    "id": "RIRaSgxCP3Jt",
    "outputId": "4f253294-c07c-481f-ca0f-5cbea0d31d97"
   },
   "outputs": [],
   "source": [
    "\n",
    "ctx = KerasTrainingContext(umtm.work_dir, session_index=21)\n",
    "\n",
    "ctx.set_batch_size_and_trainset_size(BATCH_SIZE, \n",
    "                                     len(test_indices), \n",
    "                                     4 * len(train_indices))\n",
    "\n",
    "DEFAULT_TRAIN_CTX = ctx\n",
    "CLASSES = 43\n",
    "FEATURES = 14\n",
    "\n",
    "metrics = ['kullback_leibler_divergence', 'mse', 'binary_crossentropy']\n",
    "\n",
    "\n",
    "def train(umodel):\n",
    "  test_gen = make_generator(umtm, test_indices, BATCH_SIZE)\n",
    "  train_gen = make_generator(umtm, train_indices, BATCH_SIZE, augment_samples=True) \n",
    "  ctx.train_and_evaluate_model(umodel, generator=train_gen, test_generator=test_gen)\n",
    "\n",
    "def overtrain(umodel):\n",
    "  test_gen = make_generator(umtm, list(train_indices) + list(test_indices), BATCH_SIZE)\n",
    "  train_gen = make_generator(umtm, list(train_indices) + list(test_indices), BATCH_SIZE, augment_samples=True) \n",
    "  ctx.train_and_evaluate_model(umodel, generator=train_gen, test_generator=test_gen)\n"
   ]
  },
  {
   "cell_type": "code",
   "execution_count": null,
   "metadata": {
    "colab": {},
    "colab_type": "code",
    "id": "6gXvyjKr509e"
   },
   "outputs": [],
   "source": [
    "def init_model(model_fn) -> (Model, KerasTrainingContext):\n",
    "  model_name = model_fn.__name__\n",
    "  model = model_fn(name=model_name, ctx=ctx, trained=True)\n",
    "  model.name = model_name\n",
    "\n",
    "  weights_file_old = os.path.join(models_path, model_name + \".weights\")\n",
    "  weights_file_new = os.path.join(umtm.work_dir, model_name + \".weights\")\n",
    "\n",
    "  try:\n",
    "    model.load_weights(weights_file_new, by_name=True )\n",
    "    logger.info(f'weights loaded: {weights_file_new}')\n",
    "\n",
    "  except:\n",
    "    msg = f'cannot load  {model_name} from  {weights_file_new}'\n",
    "    warnings.warn(msg)\n",
    "    logger.warning(msg)\n",
    "    model.load_weights(weights_file_old, by_name=True )\n",
    "    logger.info(f'weights loaded: {weights_file_old}')\n",
    "\n",
    "  # freeze bottom 6 layers, including 'embedding_reduced' #TODO: this must be model-specific parameter\n",
    "  for l in model.layers[0:6]:\n",
    "    l.trainable = False\n",
    "\n",
    "  model.compile(loss=super_contract_model.losses, optimizer='Nadam', metrics=super_contract_model.metrics)\n",
    "  model.summary()\n",
    "\n",
    "  return model\n",
    "\n",
    "\n"
   ]
  },
  {
   "cell_type": "markdown",
   "metadata": {
    "colab_type": "text",
    "id": "gAFmo0sG4H9k"
   },
   "source": [
    "# Models 🦖"
   ]
  },
  {
   "cell_type": "markdown",
   "metadata": {
    "colab_type": "text",
    "id": "eF7Ktdfo9aa7"
   },
   "source": [
    "### 5.1.1 💕💕 uber_detection_model_005_1_1"
   ]
  },
  {
   "cell_type": "code",
   "execution_count": null,
   "metadata": {
    "colab": {},
    "colab_type": "code",
    "id": "8T-v6SSEs3gX"
   },
   "outputs": [],
   "source": [
    "umodel = init_model(uber_detection_model_005_1_1)"
   ]
  },
  {
   "cell_type": "code",
   "execution_count": null,
   "metadata": {
    "colab": {},
    "colab_type": "code",
    "id": "OpgUW39m9abE",
    "outputId": "6febaa3a-bf87-4af6-d415-7db086f454a2"
   },
   "outputs": [],
   "source": [
    "######################\n",
    "# Phase I retraining\n",
    "# ❄️ frozen bottom layers\n",
    "######################\n",
    "\n",
    "if TRAIN:\n",
    "  test_gen = make_generator(umtm, test_indices, BATCH_SIZE)\n",
    "  train_gen = make_generator(umtm, train_indices, BATCH_SIZE, augment_samples=True) \n",
    "\n",
    "  ctx.EPOCHS = 25\n",
    "  ctx.EVALUATE_ONLY = False\n",
    "  ctx.train_and_evaluate_model(umodel, generator=train_gen, test_generator=test_gen, retrain=True)"
   ]
  },
  {
   "cell_type": "code",
   "execution_count": null,
   "metadata": {
    "colab": {},
    "colab_type": "code",
    "id": "LJAH6Fjn9abL"
   },
   "outputs": [],
   "source": [
    "######################\n",
    "## Phase II finetuning\n",
    "#  all unfrozen, entire trainset, low LR\n",
    "######################\n",
    "if TRAIN:\n",
    "  ctx.unfreezeModel(umodel)\n",
    "  umodel.compile(loss=super_contract_model.losses, optimizer='Nadam', metrics=super_contract_model.metrics)\n",
    "  umodel.summary()\n",
    "\n",
    "  ctx.EPOCHS *= 2\n",
    "\n",
    "  test_gen = make_generator(umtm, train_indices + test_indices, BATCH_SIZE)\n",
    "  train_gen = make_generator(umtm, train_indices + test_indices, BATCH_SIZE, augment_samples=True) \n",
    "  \n",
    "  ctx.train_and_evaluate_model(umodel, train_gen, test_generator=test_gen, retrain=False, lr=2e-5)"
   ]
  },
  {
   "cell_type": "markdown",
   "metadata": {
    "colab_type": "text",
    "id": "JUum89Tdhg-9"
   },
   "source": [
    "# Evaluate models"
   ]
  },
  {
   "cell_type": "code",
   "execution_count": null,
   "metadata": {
    "colab": {},
    "colab_type": "code",
    "id": "3NJ9uhDBaJlO"
   },
   "outputs": [],
   "source": [
    "umodel = ctx.init_model(uber_detection_model_005_1_1, trained=True)"
   ]
  },
  {
   "cell_type": "markdown",
   "metadata": {
    "colab_type": "text",
    "id": "NLRR4qmKImgQ"
   },
   "source": [
    "### training history"
   ]
  },
  {
   "cell_type": "code",
   "execution_count": null,
   "metadata": {
    "colab": {},
    "colab_type": "code",
    "id": "me1LdIP5Ik9z",
    "outputId": "1bf81b8f-1f09-4760-a0f3-868a523652d9"
   },
   "outputs": [],
   "source": [
    "def plot_compare_models(\n",
    "    models: [str],\n",
    "    metrics, \n",
    "    title=\"metric/epoch\",\n",
    "    image_save_path = umtm.work_dir):\n",
    "    \n",
    "  _metrics = [m for m in metrics if not m.startswith('val_')]\n",
    "\n",
    "  for i, m in enumerate(models):\n",
    "\n",
    "    data: pd.DataFrame = ctx.get_log(m)\n",
    "\n",
    "    if data is not None:\n",
    "      data.set_index('epoch')\n",
    "\n",
    "      for metric in _metrics:\n",
    "        plt.figure(figsize=(16, 6))\n",
    "        plt.grid()\n",
    "        plt.title(f'{metric}')\n",
    "        for metric_variant in ['', 'val_']:\n",
    "          key = metric_variant + metric\n",
    "          if key in data:\n",
    "\n",
    "            x = data['epoch'][-100:]\n",
    "            y = data[key][-100:]\n",
    "\n",
    "\n",
    "            c = 'red'  # plt.cm.jet_r(i * colorstep)\n",
    "            if metric_variant == '':\n",
    "              c = 'blue'\n",
    "            plt.plot(x, y, label=f'{key}', alpha=0.2, color=c)\n",
    "\n",
    "            y = y.rolling(4, win_type='gaussian').mean(std=4)\n",
    "            plt.plot(x, y, label=f'{key} SMOOTH', color=c)\n",
    "\n",
    "            plt.legend(loc='upper right')\n",
    "\n",
    "        \n",
    "        plt.title(f'{m} {title}')\n",
    "        plt.grid()\n",
    "        img_path = os.path.join(image_save_path, f'{m}-{metric}.png')\n",
    "        plt.savefig(img_path, bbox_inches='tight')\n",
    "        plt.grid()\n",
    "        plt.show()\n",
    "    else:\n",
    "      logger.error('cannot plot')\n",
    "    \n",
    "\n",
    "models = list(ctx.trained_models.keys())\n",
    "\n",
    "\n",
    "plot_compare_models(models, ['loss'], 'Loss')\n",
    "\n",
    "plot_compare_models(models, ['O1_tagging_kullback_leibler_divergence'], 'TAGS: Kullback Leibler divergence')\n",
    "plot_compare_models(models, ['O1_tagging_mse'], 'TAGS: MSE')\n",
    "plot_compare_models(models, ['O2_subject_kullback_leibler_divergence'], 'Subj: Kullback Leibler divergence')\n",
    "plot_compare_models(models, ['O2_subject_mse'],  'Subjects: MSE')\n",
    "\n",
    "plot_compare_models(models, ['O1_tagging_loss', 'O2_subject_loss'], 'Loss')"
   ]
  },
  {
   "cell_type": "markdown",
   "metadata": {
    "colab_type": "text",
    "id": "v1p8Mqpi32Bf"
   },
   "source": [
    "## Contract subj Confusion matrices"
   ]
  },
  {
   "cell_type": "code",
   "execution_count": null,
   "metadata": {
    "colab": {},
    "colab_type": "code",
    "id": "YJLgtkpo-NUY"
   },
   "outputs": [],
   "source": [
    "from pandas import DataFrame\n",
    "\n",
    "from analyser.contract_agents import ContractAgent, normalize_contract_agent\n",
    "from analyser.documents import TextMap\n",
    "from analyser.ml_tools import SemanticTag\n",
    "from analyser.persistence import DbJsonDoc\n",
    "from analyser.text_tools import find_top_spans\n",
    "from tf_support.super_contract_model import seq_labels_contract\n",
    "from tf_support.tf_subject_model import decode_subj_prediction\n",
    "\n",
    "\n",
    "\n",
    "\n",
    "def fetch_tag_value(tagname: str, textmap: TextMap, tagging: DataFrame, threshold=0.3) -> SemanticTag or None:\n",
    "  att = tagging[tagname].values\n",
    "  slices = find_top_spans(att, threshold=threshold, limit=1) #TODO: estimate per-tag thresholds\n",
    "  \n",
    "  if len(slices) > 0:\n",
    "    span = slices[0].start, slices[0].stop\n",
    "    value = textmap.text_range(span)\n",
    "    tag = SemanticTag(tagname, value, span)\n",
    "    tag.confidence = att[slices[0]].mean()\n",
    "    return tag\n",
    "  return None\n",
    "\n",
    "\n",
    "agent_tags = ['org-1-name',\n",
    "              'org-1-type',\n",
    "              'org-1-alias',\n",
    "              'org-2-name',\n",
    "              'org-2-type',\n",
    "              'org-2-alias']\n",
    "solo_tags = [\n",
    "  'date',\n",
    "  'number',\n",
    "  'sign_value_currency/value',\n",
    "  'sign_value_currency/currency',\n",
    "  'sign_value_currency/sign'\n",
    "]\n",
    "tagnames = solo_tags + agent_tags\n",
    "\n",
    "\n",
    "def fetch_tags_from_predicted_semantic_map(_id: str, tagsmap: DataFrame):\n",
    "  jdoc = get_doc(_id)\n",
    "  _map = jdoc.get_tokens_map_unchaged()\n",
    "\n",
    "  results = {}\n",
    "  for key in tagnames:\n",
    "    t = fetch_tag_value(key, _map, tagsmap)\n",
    "    results[key] = t\n",
    "    # print(t)\n",
    "\n",
    "  ca = ContractAgent()\n",
    "  ca.name =  results['org-1-name'] #TODO: check for NONE\n",
    "  ca.type =  results['org-1-type']\n",
    "  ca.alias = results['org-1-alias']\n",
    "  normalize_contract_agent(ca)\n",
    "\n",
    "  ca = ContractAgent()\n",
    "  ca.name =  results['org-2-name'] #TODO: check for NONE\n",
    "  ca.type =  results['org-2-type']\n",
    "  ca.alias = results['org-2-alias']\n",
    "  normalize_contract_agent(ca)\n",
    "\n",
    "  if results['number'] is not None:\n",
    "    results['number'].value = results['number'].value.strip().lstrip('№').lstrip('N ').lstrip()\n",
    "\n",
    "  return results, jdoc\n",
    "\n",
    "\n",
    "def put_results_into_df(id_, results, df, jdoc: DbJsonDoc):\n",
    "  org_atribs = ['name', 'alias', 'type']\n",
    "\n",
    "  def v(x):\n",
    "    if results[x] is not None:\n",
    "      return results[x].value\n",
    "\n",
    "  def swap(a, b):\n",
    "    ab = [a, b]\n",
    "    try:\n",
    "      ab = sorted(ab)\n",
    "    except:\n",
    "      pass\n",
    "    return ab\n",
    "\n",
    "  def s(a, b):\n",
    "    ab = swap(v(a), v(b))\n",
    "    df.at[id_, f'p-{a}'] = ab[0]\n",
    "    df.at[id_, f'p-{b}'] = ab[1]\n",
    "    return ab\n",
    "\n",
    "  for key in org_atribs:\n",
    "    arr = s(f'org-1-{key}', f'org-2-{key}')\n",
    "\n",
    "  def p(key):\n",
    "    df.at[id_, f'p-{key}'] = v(key)\n",
    "\n",
    "  p('sign_value_currency/value')\n",
    "  p('sign_value_currency/currency')\n",
    "  p('sign_value_currency/sign')\n",
    "\n",
    "  p('date')\n",
    "  p('number')\n",
    "\n",
    "  # get_expected values\n",
    "  for key in solo_tags:\n",
    "    t = jdoc.get_attribute_value(key)\n",
    "    df.at[id_, f'{key}'] = t\n",
    "\n",
    "  for key in org_atribs:\n",
    "    orgs = swap(jdoc.get_attribute_value(f'org-1-{key}'), jdoc.get_attribute_value(f'org-2-{key}'))\n",
    "    df.at[id_, f'org-1-{key}'] = orgs[0]\n",
    "    df.at[id_, f'org-2-{key}'] = orgs[1]\n",
    "\n",
    "\n",
    "def make_subj_predictions(umodel, indices):\n",
    "  ev = umtm.stats.copy()\n",
    "  tags = pd.DataFrame()\n",
    "  for t in tagnames:\n",
    "    tags['p-' + t] = ''\n",
    "    tags[t] = ''\n",
    "\n",
    "  errors_report = pd.DataFrame()\n",
    "  errors_report['expected'] = ''\n",
    "  errors_report['predicted'] = ''\n",
    "\n",
    "  for i, _id in enumerate(indices):\n",
    "    logger.debug(f'validating {_id} {i} of {len(indices)}')\n",
    "    x, y, _ = umtm.make_xyw(_id)\n",
    "\n",
    "    prediction = umodel.predict(x=[np.expand_dims(x[0], axis=0), np.expand_dims(x[1], axis=0)], batch_size=1)\n",
    "\n",
    "    tagsmap = pd.DataFrame(prediction[0][0], columns=seq_labels_contract)\n",
    "    try:\n",
    "        r, jdoc = fetch_tags_from_predicted_semantic_map(_id, tagsmap)\n",
    "        put_results_into_df(_id, r, tags, jdoc)\n",
    "    except:\n",
    "        # TODO:\n",
    "        logger.error(f'{_id}')\n",
    "        pass\n",
    "\n",
    "    subj_1hot = prediction[1][0]\n",
    "\n",
    "    expected = decode_subj_prediction(y[1])[0]\n",
    "    predicted = decode_subj_prediction(subj_1hot)[0]\n",
    "\n",
    "    ev.at[_id, 'expected_subj'] = expected.name\n",
    "    ev.at[_id, 'predicted_subj'] = predicted.name\n",
    "\n",
    "    ev.at[_id, 'wrong'] = False\n",
    "    if expected != predicted:\n",
    "      ev.at[_id, 'wrong'] = True\n",
    "\n",
    "  return ev, tags\n",
    "\n",
    "\n",
    "subset = umtm.stats[~pd.isna(umtm.stats['user_correction_date'])].sort_values('analyze_date')\n",
    "ev, tags = make_subj_predictions(umodel, subset.index)\n",
    "tags.to_csv('all_contracts_predicstions.csv')"
   ]
  },
  {
   "cell_type": "code",
   "execution_count": null,
   "metadata": {
    "colab": {},
    "colab_type": "code",
    "id": "Jh1WFsjprUr1"
   },
   "outputs": [],
   "source": [
    "errors_report = ev [ ev.wrong == True].sort_values('expected_subj')\n",
    "print(len(errors_report), 'wrong subjects of', len(tags))\n",
    "errors_report[ ['predicted_subj', 'subject', 'org-1-alias','org-2-alias'] ]"
   ]
  },
  {
   "cell_type": "code",
   "execution_count": 93,
   "metadata": {
    "colab": {},
    "colab_type": "code",
    "id": "MFh8SxP9J081"
   },
   "outputs": [
    {
     "name": "stderr",
     "output_type": "stream",
     "text": [
      "/Users/artem/work/nemo/goil/nlp_tools/venv/lib/python3.7/site-packages/sklearn/metrics/_classification.py:1221: UndefinedMetricWarning: Precision and F-score are ill-defined and being set to 0.0 in labels with no predicted samples. Use `zero_division` parameter to control this behavior.\n",
      "  _warn_prf(average, modifier, msg_start, len(result))\n"
     ]
    },
    {
     "name": "stdout",
     "output_type": "stream",
     "text": [
      "uber_detection_model_005_1_1\n",
      "                          precision    recall  f1-score   support\n",
      "\n",
      "          AgencyContract      0.722     0.929     0.813        14\n",
      "          BankGuarantees      1.000     1.000     1.000         4\n",
      "                 Charity      1.000     1.000     1.000        17\n",
      "                    Deal      0.957     1.000     0.978        45\n",
      "DealIntellectualProperty      1.000     0.800     0.889        15\n",
      "       EmployeeContracts      0.000     0.000     0.000         2\n",
      "         GeneralContract      0.938     0.909     0.923        33\n",
      "               Insurance      1.000     1.000     1.000         8\n",
      "                   Loans      0.846     1.000     0.917        11\n",
      "                   Other      1.000     0.833     0.909        12\n",
      "       PledgeEncumbrance      1.000     1.000     1.000         2\n",
      "              RealEstate      0.800     0.667     0.727         6\n",
      "  RealEstateTransactions      1.000     1.000     1.000         6\n",
      "                 Renting      0.923     1.000     0.960        12\n",
      "                 Service      0.987     0.987     0.987       235\n",
      "\n",
      "                accuracy                          0.962       422\n",
      "               macro avg      0.878     0.875     0.874       422\n",
      "            weighted avg      0.960     0.962     0.960       422\n",
      "\n"
     ]
    },
    {
     "data": {
      "image/png": "[encoded data removed]",
      "text/plain": [
       "<Figure size 864x864 with 2 Axes>"
      ]
     },
     "metadata": {},
     "output_type": "display_data"
    }
   ],
   "source": [
    "def make_report(umodel, ev):\n",
    "  plot_cm(ev['expected_subj'], ev['predicted_subj'])\n",
    "  \n",
    "  img_path = os.path.join(umtm.work_dir, f'subjects-confusion-matrix-{umodel.name}.png')\n",
    "  plt.savefig(img_path, bbox_inches='tight')\n",
    "\n",
    "  report = classification_report(ev['expected_subj'], ev['predicted_subj'], digits=3)\n",
    "  print(umodel.name)\n",
    "  print(report)\n",
    "  \n",
    "  with open(os.path.join(umtm.work_dir, f'subjects-classification_report-{umodel.name}.txt'), \"w\") as text_file:\n",
    "    text_file.write(report)\n",
    "\n",
    "\n",
    "make_report(umodel, ev[~pd.isna(ev['predicted_subj'])])"
   ]
  },
  {
   "cell_type": "markdown",
   "metadata": {
    "colab_type": "text",
    "id": "mX5RUserhy0m"
   },
   "source": [
    "# Evaluate tags detection"
   ]
  },
  {
   "cell_type": "code",
   "execution_count": null,
   "metadata": {},
   "outputs": [],
   "source": [
    "tags.fillna('-', inplace=True)"
   ]
  },
  {
   "cell_type": "code",
   "execution_count": null,
   "metadata": {},
   "outputs": [],
   "source": [
    "def save_csv(d, f):\n",
    "    fn=os.path.join(umtm.work_dir, f)\n",
    "    d.to_csv(fn)"
   ]
  },
  {
   "cell_type": "markdown",
   "metadata": {
    "colab_type": "text",
    "id": "_SUQNtsxVBp9"
   },
   "source": [
    "### Contract number validation"
   ]
  },
  {
   "cell_type": "code",
   "execution_count": 96,
   "metadata": {
    "colab": {
     "base_uri": "https://localhost:8080/",
     "height": 403
    },
    "colab_type": "code",
    "id": "fGnSN-Bp87VW",
    "outputId": "0a23b5c6-91a3-44f7-dd1c-60f567a8f326"
   },
   "outputs": [
    {
     "name": "stdout",
     "output_type": "stream",
     "text": [
      "Contract numbers: 70 of 422  (16.6%) were detected wronggly\n"
     ]
    }
   ],
   "source": [
    "wrong_numbers = tags [ tags['number'] != tags['p-number']].sort_values('number')\n",
    "print( f'Contract numbers: {len(wrong_numbers)} of {len(tags)}  ({100. * len(wrong_numbers) / len(tags) :0.1f}%) were detected wronggly')\n",
    "\n",
    "save_csv( wrong_numbers[['p-number', 'number']], 'wrong_numbers.csv')\n",
    "\n",
    "# wrong_numbers[['p-number', 'number']].tail(10)"
   ]
  },
  {
   "cell_type": "markdown",
   "metadata": {
    "colab_type": "text",
    "id": "U8qtdCl3Zdt7"
   },
   "source": [
    "### Contract Org-1 validation"
   ]
  },
  {
   "cell_type": "code",
   "execution_count": null,
   "metadata": {
    "colab": {},
    "colab_type": "code",
    "id": "oCUtMUEZZduA"
   },
   "outputs": [],
   "source": [
    "\n",
    "\n",
    "wrong_orgs1 = tags [ (tags['org-1-name'] != tags['p-org-1-name']) | (tags['org-2-name'] != tags['p-org-2-name']) ]\n",
    "print( f'Org-1 name: {len(wrong_orgs1)} of {len(tags)}  ({100. * len(wrong_orgs1) / len(tags):0.1f}%) were detected incorrectly')\n",
    "\n",
    "cols=['p-org-1-name', 'org-1-name', 'p-org-2-name', 'org-2-name']\n",
    "save_csv( wrong_orgs1[cols], 'wrong_orgs1.csv')\n",
    "\n",
    "wrong_orgs1[cols].head(20)"
   ]
  },
  {
   "cell_type": "code",
   "execution_count": 94,
   "metadata": {
    "colab": {
     "base_uri": "https://localhost:8080/",
     "height": 418
    },
    "colab_type": "code",
    "id": "HZrAdEP0iwjK",
    "outputId": "73b4e39b-6313-47a8-854e-7f4af1c76ee6"
   },
   "outputs": [
    {
     "name": "stdout",
     "output_type": "stream",
     "text": [
      "Aliases: 54 of 422  ( 12.8%) were detected incorrectly\n"
     ]
    }
   ],
   "source": [
    "wrong_aliases = tags [ (tags['org-1-alias'] != tags['p-org-1-alias']) | (tags['org-2-alias'] != tags['p-org-2-alias']) ]\n",
    "print( f'Aliases: {len(wrong_aliases)} of {len(tags)}  ({100. * len(wrong_aliases) / len(tags) : 0.1f}%) were detected incorrectly')\n",
    "\n",
    "cols=['p-org-1-alias', 'org-1-alias', 'p-org-2-alias', 'org-2-alias']\n",
    "save_csv( wrong_aliases[cols], 'wrong_aliases.csv')\n",
    "# wrong_aliases[cols].head(10)"
   ]
  },
  {
   "cell_type": "code",
   "execution_count": 95,
   "metadata": {
    "colab": {},
    "colab_type": "code",
    "id": "6j8omO8Sk2Nv"
   },
   "outputs": [
    {
     "name": "stdout",
     "output_type": "stream",
     "text": [
      "Types: 75 of 422  ( 17.8%) were detected incorrectly\n"
     ]
    },
    {
     "data": {
      "text/html": [
       "<div>\n",
       "<style scoped>\n",
       "    .dataframe tbody tr th:only-of-type {\n",
       "        vertical-align: middle;\n",
       "    }\n",
       "\n",
       "    .dataframe tbody tr th {\n",
       "        vertical-align: top;\n",
       "    }\n",
       "\n",
       "    .dataframe thead th {\n",
       "        text-align: right;\n",
       "    }\n",
       "</style>\n",
       "<table border=\"1\" class=\"dataframe\">\n",
       "  <thead>\n",
       "    <tr style=\"text-align: right;\">\n",
       "      <th></th>\n",
       "      <th>p-org-1-type</th>\n",
       "      <th>p-org-2-type</th>\n",
       "      <th>org-1-type</th>\n",
       "      <th>org-2-type</th>\n",
       "    </tr>\n",
       "  </thead>\n",
       "  <tbody>\n",
       "    <tr>\n",
       "      <th>5dfa6a938d25a1ac83160bee</th>\n",
       "      <td>Акционерное общество</td>\n",
       "      <td>-</td>\n",
       "      <td>Акционерное общество</td>\n",
       "      <td>Общество с ограниченной ответственностью</td>\n",
       "    </tr>\n",
       "    <tr>\n",
       "      <th>5ee188952281f29204c522de</th>\n",
       "      <td>Компания</td>\n",
       "      <td>Общество с ограниченной ответственностью</td>\n",
       "      <td>Общество с ограниченной ответственностью</td>\n",
       "      <td>-</td>\n",
       "    </tr>\n",
       "    <tr>\n",
       "      <th>5ee191e12281f29204c52306</th>\n",
       "      <td>Акционерное общество</td>\n",
       "      <td>-</td>\n",
       "      <td>Акционерное общество</td>\n",
       "      <td>Акционерное общество</td>\n",
       "    </tr>\n",
       "    <tr>\n",
       "      <th>5ded004e4ddc27bcf92dd478</th>\n",
       "      <td>Общество с ограниченной ответственностью</td>\n",
       "      <td>Федеральное государственное бюджетное учреждение</td>\n",
       "      <td>Общество с ограниченной ответственностью</td>\n",
       "      <td>Федеральное государственное бюджетное учрежден...</td>\n",
       "    </tr>\n",
       "    <tr>\n",
       "      <th>5e587dce99b345c81a70340d</th>\n",
       "      <td>Акционерное общество</td>\n",
       "      <td>Общество с ограниченной ответственностью</td>\n",
       "      <td>Общество с ограниченной ответственностью</td>\n",
       "      <td>публичное акционерное общество</td>\n",
       "    </tr>\n",
       "    <tr>\n",
       "      <th>5ded07184ddc27bcf92dd563</th>\n",
       "      <td>Общество с ограниченной ответственностью</td>\n",
       "      <td>-</td>\n",
       "      <td>Общество с ограниченной ответственностью</td>\n",
       "      <td>гражданином Российской Федерации</td>\n",
       "    </tr>\n",
       "    <tr>\n",
       "      <th>5ef8a144035e9a6d6a886046</th>\n",
       "      <td>Общество с ограниченной ответственностью</td>\n",
       "      <td>и Автономная некоммерческая организация дополн...</td>\n",
       "      <td>Автономная некоммерческая организация</td>\n",
       "      <td>Общество с ограниченной ответственностью</td>\n",
       "    </tr>\n",
       "    <tr>\n",
       "      <th>5ef8a149035e9a6d6a886082</th>\n",
       "      <td>Общество с ограниченной ответственностью</td>\n",
       "      <td>-</td>\n",
       "      <td>Общество с ограниченной ответственностью</td>\n",
       "      <td>Общество с ограниченной ответственностью</td>\n",
       "    </tr>\n",
       "    <tr>\n",
       "      <th>5edbadc1da3678279fbcaa21</th>\n",
       "      <td>Общество с ограниченной ответственностью</td>\n",
       "      <td>Общество с ограниченной ответственностью</td>\n",
       "      <td>ООО</td>\n",
       "      <td>Общество с ограниченной ответственностью</td>\n",
       "    </tr>\n",
       "    <tr>\n",
       "      <th>5edbadccda3678279fbcaa27</th>\n",
       "      <td>Общество с ограниченной ответственностью</td>\n",
       "      <td>Общество с органичной ответственностью</td>\n",
       "      <td>Общество с органичной ответственностью</td>\n",
       "      <td>общество с ограниченной ответственностью</td>\n",
       "    </tr>\n",
       "  </tbody>\n",
       "</table>\n",
       "</div>"
      ],
      "text/plain": [
       "                                                      p-org-1-type  \\\n",
       "5dfa6a938d25a1ac83160bee                      Акционерное общество   \n",
       "5ee188952281f29204c522de                                  Компания   \n",
       "5ee191e12281f29204c52306                      Акционерное общество   \n",
       "5ded004e4ddc27bcf92dd478  Общество с ограниченной ответственностью   \n",
       "5e587dce99b345c81a70340d                      Акционерное общество   \n",
       "5ded07184ddc27bcf92dd563  Общество с ограниченной ответственностью   \n",
       "5ef8a144035e9a6d6a886046  Общество с ограниченной ответственностью   \n",
       "5ef8a149035e9a6d6a886082  Общество с ограниченной ответственностью   \n",
       "5edbadc1da3678279fbcaa21  Общество с ограниченной ответственностью   \n",
       "5edbadccda3678279fbcaa27  Общество с ограниченной ответственностью   \n",
       "\n",
       "                                                               p-org-2-type  \\\n",
       "5dfa6a938d25a1ac83160bee                                                  -   \n",
       "5ee188952281f29204c522de           Общество с ограниченной ответственностью   \n",
       "5ee191e12281f29204c52306                                                  -   \n",
       "5ded004e4ddc27bcf92dd478   Федеральное государственное бюджетное учреждение   \n",
       "5e587dce99b345c81a70340d           Общество с ограниченной ответственностью   \n",
       "5ded07184ddc27bcf92dd563                                                  -   \n",
       "5ef8a144035e9a6d6a886046  и Автономная некоммерческая организация дополн...   \n",
       "5ef8a149035e9a6d6a886082                                                  -   \n",
       "5edbadc1da3678279fbcaa21           Общество с ограниченной ответственностью   \n",
       "5edbadccda3678279fbcaa27             Общество с органичной ответственностью   \n",
       "\n",
       "                                                        org-1-type  \\\n",
       "5dfa6a938d25a1ac83160bee                      Акционерное общество   \n",
       "5ee188952281f29204c522de  Общество с ограниченной ответственностью   \n",
       "5ee191e12281f29204c52306                      Акционерное общество   \n",
       "5ded004e4ddc27bcf92dd478  Общество с ограниченной ответственностью   \n",
       "5e587dce99b345c81a70340d  Общество с ограниченной ответственностью   \n",
       "5ded07184ddc27bcf92dd563  Общество с ограниченной ответственностью   \n",
       "5ef8a144035e9a6d6a886046     Автономная некоммерческая организация   \n",
       "5ef8a149035e9a6d6a886082  Общество с ограниченной ответственностью   \n",
       "5edbadc1da3678279fbcaa21                                       ООО   \n",
       "5edbadccda3678279fbcaa27    Общество с органичной ответственностью   \n",
       "\n",
       "                                                                 org-2-type  \n",
       "5dfa6a938d25a1ac83160bee           Общество с ограниченной ответственностью  \n",
       "5ee188952281f29204c522de                                                  -  \n",
       "5ee191e12281f29204c52306                               Акционерное общество  \n",
       "5ded004e4ddc27bcf92dd478  Федеральное государственное бюджетное учрежден...  \n",
       "5e587dce99b345c81a70340d                     публичное акционерное общество  \n",
       "5ded07184ddc27bcf92dd563                   гражданином Российской Федерации  \n",
       "5ef8a144035e9a6d6a886046           Общество с ограниченной ответственностью  \n",
       "5ef8a149035e9a6d6a886082           Общество с ограниченной ответственностью  \n",
       "5edbadc1da3678279fbcaa21           Общество с ограниченной ответственностью  \n",
       "5edbadccda3678279fbcaa27           общество с ограниченной ответственностью  "
      ]
     },
     "execution_count": 95,
     "metadata": {},
     "output_type": "execute_result"
    }
   ],
   "source": [
    "wrong_types = tags [ (tags['org-1-type'] != tags['p-org-1-type']) | (tags['org-2-type'] != tags['p-org-2-type'])]\n",
    "print( f'Types: {len(wrong_types)} of {len(tags)}  ({100. * len(wrong_types) / len(tags) : 0.1f}%) were detected incorrectly')\n",
    "cols=['p-org-1-type', 'p-org-2-type', 'org-1-type', 'org-2-type']\n",
    "save_csv( wrong_types[cols], 'wrong_types.csv')\n",
    "wrong_types[cols].head(10)"
   ]
  },
  {
   "cell_type": "code",
   "execution_count": 91,
   "metadata": {
    "colab": {},
    "colab_type": "code",
    "id": "TLXWndqih-oE"
   },
   "outputs": [
    {
     "name": "stdout",
     "output_type": "stream",
     "text": [
      "Самый сложный документ:  5edbadc1da3678279fbcaa21\n",
      "Всего недочетов: 196\n"
     ]
    }
   ],
   "source": [
    "from collections import Counter\n",
    "arrays = [ wrong_orgs1, wrong_types, wrong_numbers, wrong_aliases, errors_report]\n",
    "counter = Counter()\n",
    "for a in arrays:\n",
    "  for i in a.index:\n",
    "   counter[i]+=1\n",
    " \n",
    "\n",
    "print('Самый сложный документ: ', counter.most_common()[0][0])\n",
    "print(\"Всего недочетов:\", len(counter))"
   ]
  },
  {
   "cell_type": "code",
   "execution_count": null,
   "metadata": {
    "colab": {
     "base_uri": "https://localhost:8080/",
     "height": 851
    },
    "colab_type": "code",
    "id": "uvG2pH1rt6G_",
    "outputId": "5b9173d2-c781-49bf-cccb-be2b481edee4"
   },
   "outputs": [],
   "source": [
    "umtm.stats['errors'] = 0\n",
    "for c in counter:\n",
    "  umtm.stats.at[c, 'errors'] = counter[c]\n",
    "\n",
    "\n",
    "calculate_samples_weights(umtm)\n",
    "umtm._save_stats()\n",
    "umtm.stats"
   ]
  },
  {
   "cell_type": "markdown",
   "metadata": {
    "colab_type": "text",
    "id": "_CR9W8NDH8B-"
   },
   "source": [
    "## Single doc eval"
   ]
  },
  {
   "cell_type": "code",
   "execution_count": null,
   "metadata": {
    "colab": {},
    "colab_type": "code",
    "id": "tFzr4k-cpOzX"
   },
   "outputs": [],
   "source": [
    "if IN_COLAB:\n",
    "  !wget https://raw.githubusercontent.com/nemoware/analyser/uber-models/tests/contract_db_1.json\n",
    "\n",
    "  with open('contract_db_1.json', 'rb') as handle:    \n",
    "    jdata = json.load(handle, object_hook=json_util.object_hook)\n",
    "\n",
    "  jdoc = DbJsonDoc(jdata)\n",
    "\n",
    "else:\n",
    "  from integration.db import get_mongodb_connection\n",
    "  from bson.objectid import ObjectId\n",
    "\n",
    "  def get_doc(objid):\n",
    "    logger.debug(f'fetching {objid}')\n",
    "    db = get_mongodb_connection()\n",
    "    documents_collection = db['documents']\n",
    "    jdata =  documents_collection.find_one({'_id': ObjectId(objid)})\n",
    "    return DbJsonDoc(jdata)\n",
    "\n",
    "  SAMPLE_DOC_ID = counter.most_common()[0][0] #umtm.stats.index[10]\n",
    "  print('SAMPLE_DOC_ID:', SAMPLE_DOC_ID)\n",
    "  dp = umtm.make_xyw(SAMPLE_DOC_ID)\n",
    "  (emb, tok_f), (sm, subj), (sample_weight, subject_weight) = dp\n",
    "\n",
    "  jdoc = get_doc(SAMPLE_DOC_ID)"
   ]
  },
  {
   "cell_type": "code",
   "execution_count": null,
   "metadata": {
    "colab": {},
    "colab_type": "code",
    "id": "TfHQOFhw3yuO"
   },
   "outputs": [],
   "source": [
    "from analyser.legal_docs import embedd_tokens\n",
    "\n",
    "if IN_COLAB:\n",
    "  embedder = ElmoEmbedder.get_instance('elmo')  # lazy init\n",
    "  emb = embedd_tokens(jdoc.get_tokens_for_embedding(),\n",
    "                             embedder,\n",
    "                             verbosity=2,\n",
    "                             log_key='tmp')\n",
    "\n",
    "  tok_f = get_tokens_features(jdoc.get_tokens_map_unchaged().tokens)"
   ]
  },
  {
   "cell_type": "code",
   "execution_count": null,
   "metadata": {
    "colab": {},
    "colab_type": "code",
    "id": "-yF9kgac_hZr"
   },
   "outputs": [],
   "source": [
    "###############\n",
    "prediction = umodel.predict(   x=[  np.expand_dims(emb, axis=0), np.expand_dims(tok_f, axis=0)] , batch_size=1)\n",
    "##############\n",
    "print(len(prediction), umodel.name)\n",
    "subj_1hot = prediction[1][0]\n",
    "print('Subject:', decode_subj_prediction(subj_1hot))\n",
    "\n",
    "\n",
    "tagging = pd.DataFrame( prediction[0][0], columns=seq_labels_contract)\n",
    "plot_embedding(tagging, title = f'Predictions of {umodel.name}')"
   ]
  },
  {
   "cell_type": "code",
   "execution_count": null,
   "metadata": {
    "colab": {},
    "colab_type": "code",
    "id": "qBRtwOj5QvNf"
   },
   "outputs": [],
   "source": [
    "def render_slices(slices, tokens, attention_v, ht='') -> str:\n",
    "  ht += '<ol>'\n",
    "  for _s in slices:\n",
    "    ht += '<li>'\n",
    "    t = tokens[_s]\n",
    "    l = attention_v[_s]\n",
    "    ht += to_color_text(t, l, _range=(0, 1.2))\n",
    "    ht += '<br><hr>'\n",
    "    ht += '</li>'\n",
    "  ht += '</ol>'\n",
    "\n",
    "  return ht\n",
    "\n",
    "for t in seq_labels_contract:\n",
    "  spans = list( find_top_spans( tagging[t].values, threshold=0.3))  \n",
    "  print(t.upper(), spans)\n",
    "  display(HTML(render_slices(spans, jdoc.get_tokens_map_unchaged().tokens, tagging[t].values)))\n"
   ]
  }
 ],
 "metadata": {
  "colab": {
   "collapsed_sections": [
    "9eF-UGHyh-C9",
    "7X_zYCYEdlPM",
    "lyI4hbTRFjyM"
   ],
   "name": "Local: structure keras uber model - clean train, evaluate, test.ipynb",
   "provenance": [],
   "toc_visible": true
  },
  "kernelspec": {
   "display_name": "Python 3",
   "language": "python",
   "name": "python3"
  },
  "language_info": {
   "codemirror_mode": {
    "name": "ipython",
    "version": 3
   },
   "file_extension": ".py",
   "mimetype": "text/x-python",
   "name": "python",
   "nbconvert_exporter": "python",
   "pygments_lexer": "ipython3",
   "version": "3.7.2"
  }
 },
 "nbformat": 4,
 "nbformat_minor": 1
}
