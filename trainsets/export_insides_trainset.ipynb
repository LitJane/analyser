{
 "cells": [
  {
   "cell_type": "markdown",
   "id": "84416aa0",
   "metadata": {
    "colab_type": "text",
    "id": "JbsxFAqC6pjQ",
    "papermill": {
     "duration": 0.02715,
     "end_time": "2021-08-03T13:00:10.959150",
     "exception": false,
     "start_time": "2021-08-03T13:00:10.932000",
     "status": "completed"
    },
    "tags": []
   },
   "source": [
    "# Imports"
   ]
  },
  {
   "cell_type": "code",
   "execution_count": null,
   "id": "a63d3c58-2d3a-4f27-a017-c9acd65e4806",
   "metadata": {
    "papermill": {
     "duration": 0.021947,
     "end_time": "2021-08-03T13:00:10.998129",
     "exception": false,
     "start_time": "2021-08-03T13:00:10.976182",
     "status": "completed"
    },
    "tags": []
   },
   "outputs": [],
   "source": [
    "IMPORT_FRESH_ONLY = True # re-import all if False\n",
    "\n",
    "SELF_TEST = True"
   ]
  },
  {
   "cell_type": "code",
   "execution_count": null,
   "id": "898796d8-d0f8-4efb-83e3-cf776f15c83f",
   "metadata": {
    "tags": []
   },
   "outputs": [],
   "source": [
    "# !conda install sentence-transformers -y"
   ]
  },
  {
   "cell_type": "code",
   "execution_count": null,
   "id": "07cfead7-678d-4e4f-afde-88baec0153eb",
   "metadata": {
    "tags": []
   },
   "outputs": [],
   "source": [
    "# jupyter nbextension enable --py widgetsnbextension\n",
    "# !conda install ipywidgets widgetsnbextension -y\n"
   ]
  },
  {
   "cell_type": "code",
   "execution_count": null,
   "id": "28d79173",
   "metadata": {
    "colab": {},
    "colab_type": "code",
    "id": "JoHJkn9yQIgg",
    "papermill": {
     "duration": 1.861673,
     "end_time": "2021-08-03T13:00:12.870686",
     "exception": false,
     "start_time": "2021-08-03T13:00:11.009013",
     "status": "completed"
    },
    "tags": []
   },
   "outputs": [],
   "source": [
    "import logging\n",
    "import platform\n",
    "import sys\n",
    "import os\n",
    "import seaborn as sns\n",
    "import matplotlib.pyplot as plt\n",
    "from IPython.display import display, Markdown\n",
    "from datetime import datetime\n",
    "import tensorflow as tf\n",
    "\n",
    "logger = logging.getLogger('retrain_ipynb')\n",
    "logger.setLevel(logging.DEBUG)\n",
    "\n",
    "\n",
    "ch = logging.StreamHandler()\n",
    "ch.setLevel(logging.DEBUG)\n",
    "formatter = logging.Formatter('%(levelname)s - %(asctime)s - %(name)s - %(message)s')\n",
    "ch.setFormatter(formatter)\n",
    "logger.addHandler(ch)\n",
    "logger.debug('--=logging started=--')\n",
    "\n",
    "print(tf.__version__)\n",
    "CPU = platform.processor()\n",
    "print (f'Running on CPU:{CPU}')"
   ]
  },
  {
   "cell_type": "code",
   "execution_count": null,
   "id": "2e198c1d",
   "metadata": {
    "colab": {},
    "colab_type": "code",
    "id": "ZiBqnGnQfKWF",
    "papermill": {
     "duration": 0.016512,
     "end_time": "2021-08-03T13:00:12.895142",
     "exception": false,
     "start_time": "2021-08-03T13:00:12.878630",
     "status": "completed"
    },
    "tags": []
   },
   "outputs": [],
   "source": [
    "nb_dir = os.path.split(os.getcwd())[0]\n",
    "\n",
    "if nb_dir not in sys.path:\n",
    "    sys.path.append(nb_dir)\n",
    "\n",
    "import analyser.hyperparams \n",
    "analyser.hyperparams.__file__"
   ]
  },
  {
   "cell_type": "code",
   "execution_count": null,
   "id": "8eefbec2-9a60-40f0-bb54-4bcb68165d05",
   "metadata": {},
   "outputs": [],
   "source": [
    "from sentence_transformers import SentenceTransformer\n",
    " \n",
    "sentence_model = SentenceTransformer('distiluse-base-multilingual-cased-v1')\n",
    "sentence_model.max_seq_length = 512\n",
    " "
   ]
  },
  {
   "cell_type": "markdown",
   "id": "ae495501",
   "metadata": {
    "papermill": {
     "duration": 0.007981,
     "end_time": "2021-08-03T13:00:12.911919",
     "exception": false,
     "start_time": "2021-08-03T13:00:12.903938",
     "status": "completed"
    },
    "tags": []
   },
   "source": [
    "### Prepare workdir"
   ]
  },
  {
   "cell_type": "code",
   "execution_count": null,
   "id": "c1029623",
   "metadata": {
    "colab": {},
    "colab_type": "code",
    "id": "jT7451NXspdw",
    "papermill": {
     "duration": 0.011883,
     "end_time": "2021-08-03T13:00:12.931780",
     "exception": false,
     "start_time": "2021-08-03T13:00:12.919897",
     "status": "completed"
    },
    "tags": []
   },
   "outputs": [],
   "source": [
    "from pathlib import Path\n",
    "\n",
    "from analyser.hyperparams import work_dir, models_path  \n",
    "\n",
    " \n",
    "  "
   ]
  },
  {
   "cell_type": "markdown",
   "id": "8c55a33b",
   "metadata": {
    "papermill": {
     "duration": 0.008023,
     "end_time": "2021-08-03T13:00:12.947888",
     "exception": false,
     "start_time": "2021-08-03T13:00:12.939865",
     "status": "completed"
    },
    "tags": []
   },
   "source": [
    "### Imports..."
   ]
  },
  {
   "cell_type": "code",
   "execution_count": null,
   "id": "34cde660",
   "metadata": {
    "colab": {
     "base_uri": "https://localhost:8080/",
     "height": 87
    },
    "colab_type": "code",
    "id": "pexvDJbAtZM0",
    "outputId": "4f7e6e34-d675-423d-d102-1020d49d854f",
    "papermill": {
     "duration": 1.475714,
     "end_time": "2021-08-03T13:00:14.431563",
     "exception": false,
     "start_time": "2021-08-03T13:00:12.955849",
     "status": "completed"
    },
    "tags": []
   },
   "outputs": [],
   "source": [
    "%matplotlib inline\n",
    "\n",
    "import pandas as pd\n",
    "from pandas import DataFrame\n",
    "\n",
    "from integration.db import get_doc_by_id\n",
    "from analyser.persistence import DbJsonDoc\n",
    "from integration.db import get_mongodb_connection\n",
    "from pymongo import ASCENDING, DESCENDING\n",
    "\n",
    " "
   ]
  },
  {
   "cell_type": "markdown",
   "id": "167eb81a-e672-4967-b130-91c4c56751d4",
   "metadata": {},
   "source": [
    "# Init ML Flow logging"
   ]
  },
  {
   "cell_type": "code",
   "execution_count": null,
   "id": "705a8509-0d37-4ca8-ba7c-4c75b20c23d2",
   "metadata": {
    "tags": []
   },
   "outputs": [],
   "source": [
    "import mlflow\n",
    "import gpn_config\n",
    "\n",
    "ml_flow_url = gpn_config.configured ('MLFLOW_URL)\n",
    "mlflow.set_tracking_uri(ml_flow_url)\n",
    "print(f'{ml_flow_url=}', 'set MLFLOW_URL env var to re-define')\n",
    "\n",
    "mlflow.set_experiment(\"Обучение детектора инсайдерской информации\")\n",
    "\n",
    "\n",
    "active_mlflow_run = mlflow.start_run(nested=False)"
   ]
  },
  {
   "cell_type": "markdown",
   "id": "b33af192-dcf6-48db-9bdb-b5330f990096",
   "metadata": {},
   "source": [
    "# Read patterns CSV"
   ]
  },
  {
   "cell_type": "code",
   "execution_count": null,
   "id": "c620a719-200e-46b3-85ce-bfb6109fa296",
   "metadata": {
    "tags": []
   },
   "outputs": [],
   "source": [
    "# models_path"
   ]
  },
  {
   "cell_type": "code",
   "execution_count": null,
   "id": "e996c27f-88d9-46fd-8f45-00f52e1fefcd",
   "metadata": {
    "tags": []
   },
   "outputs": [],
   "source": [
    "csv_path = Path(models_path)/'insides_keyphrases.csv'\n",
    "csv_path.is_file()"
   ]
  },
  {
   "cell_type": "code",
   "execution_count": null,
   "id": "975d325b-f423-4fb1-8220-49172944b26e",
   "metadata": {
    "tags": []
   },
   "outputs": [],
   "source": [
    "insides_keyphrases_df = pd.read_csv(csv_path,  sep=';')\n",
    "insides_keyphrases_df"
   ]
  },
  {
   "cell_type": "code",
   "execution_count": null,
   "id": "fdd99596-7866-4789-84f8-78ce36976d6d",
   "metadata": {
    "tags": []
   },
   "outputs": [],
   "source": [
    "insides_keyphrases_df = insides_keyphrases_df.iloc[:, 0:2]\n",
    "insides_keyphrases_df\n",
    "\n",
    "keyphrases = [ str(r[1]).strip() for i,r in insides_keyphrases_df.iterrows() if pd.notnull(r[1]) ]\n",
    "keyphrases += [ str(r[0]).strip() for i,r in insides_keyphrases_df.iterrows() if pd.notnull(r[0]) ]\n"
   ]
  },
  {
   "cell_type": "code",
   "execution_count": null,
   "id": "f9af7ae6-3754-43a3-9893-fdde8fa27700",
   "metadata": {
    "tags": []
   },
   "outputs": [],
   "source": [
    "keyphrases[:20]\n",
    "\n",
    "mlflow.log_param('n_samples_file', len(keyphrases))"
   ]
  },
  {
   "cell_type": "markdown",
   "id": "c80bc438-04c3-4b77-9718-233d3da546e0",
   "metadata": {},
   "source": [
    "### Import docs having insideInformation from DB"
   ]
  },
  {
   "cell_type": "code",
   "execution_count": null,
   "id": "26545c63-b9e7-4d0c-9f87-24f165faec89",
   "metadata": {
    "tags": []
   },
   "outputs": [],
   "source": [
    "\n",
    "db = get_mongodb_connection()\n",
    "documents_collection = db['documents']\n",
    "sorting = [('user.updateDate', DESCENDING), ('analysis.analyze_timestamp', DESCENDING)]\n",
    "\n",
    "query = {\n",
    "  '$and': [\n",
    "#     {\"parse.documentType\": \"CONTRACT\"},      \n",
    "#     {\"state\": 15},\n",
    "    {'$or': [\n",
    "        {\"user.attributes_tree.contract.subject.insideInformation\": {\"$ne\": None}},\n",
    "        {\"user.attributes_tree.contract.insideInformation\": {\"$ne\": None}}\n",
    "    ]}\n",
    "  ]\n",
    "}\n",
    "\n",
    "res = documents_collection.find(filter=query, \n",
    "                                sort=sorting,\n",
    "                                projection={'_id': True, 'user.updateDate':True}\n",
    "\n",
    "                               ).limit(5000)\n",
    "\n",
    "res_inside = list([i for i in res])\n",
    "\n",
    "_s = f\"#### Всего документов с инсайдом  {len(res_inside)}\"\n",
    "display(Markdown(_s))\n",
    "\n",
    "if SELF_TEST:\n",
    "    res_inside[:5]"
   ]
  },
  {
   "cell_type": "markdown",
   "id": "590b7158-d5fd-42d4-abd2-d63df84e592a",
   "metadata": {},
   "source": [
    "### Вынимаем размеченные людьми инсайды из базы"
   ]
  },
  {
   "cell_type": "code",
   "execution_count": null,
   "id": "53177099-abca-4b64-921c-32e90a9a8a24",
   "metadata": {
    "tags": []
   },
   "outputs": [],
   "source": [
    "lines=[]\n",
    "for k, oid in enumerate([i[\"_id\"] for i in res_inside]  ):\n",
    "    d = get_doc_by_id(oid)\n",
    "    jd = DbJsonDoc(d)\n",
    "    tree=jd.user['attributes_tree']\n",
    "    c = tree.get('contract', {})\n",
    "    ins = c.get('insideInformation') or  c.get('subject', {}).get('insideInformation', {}) \n",
    "    # print('-'*100)\n",
    "    # print(oid, k, ins)\n",
    "#     doc=jd.asLegalDoc()\n",
    "#     quote = doc[ins['span']]\n",
    "    doc = jd.asLegalDoc()\n",
    "    s = ins['span']\n",
    "    quote = doc[s[0]: s[1]].get_normal_text()\n",
    "    # print(k, quote)\n",
    "    lines.append( [oid, s[0], s[1], quote, ins['value']]  )\n",
    "    \n",
    "insides = DataFrame(lines, columns=['uid', 'from','to', 'text', 'value'])\n",
    "insides"
   ]
  },
  {
   "cell_type": "code",
   "execution_count": null,
   "id": "62ecec15-9202-4b3b-bd99-b7f56d82eae4",
   "metadata": {
    "tags": []
   },
   "outputs": [],
   "source": [
    "mlflow.log_param('n_samples_db', len(insides))"
   ]
  },
  {
   "cell_type": "markdown",
   "id": "10590c8a-e6e3-4d3a-b0d5-deab36123c76",
   "metadata": {},
   "source": [
    "## List TOO long samples"
   ]
  },
  {
   "cell_type": "code",
   "execution_count": null,
   "id": "35f18e1e-5bcf-4f2d-a8b3-1ad687164e1a",
   "metadata": {
    "tags": []
   },
   "outputs": [],
   "source": [
    "print()\n",
    "for i,r in  insides.iterrows():\n",
    "    if len(r.text) > 500:\n",
    "        print(  f'http://gpn-audit.nemosoft.ru/#/pre-audit/edit/{r.uid}', '\\n\\t' ,r.text)\n",
    "        print()"
   ]
  },
  {
   "cell_type": "code",
   "execution_count": null,
   "id": "f6985f51-d3c9-47df-baf5-965a320ad54b",
   "metadata": {
    "tags": []
   },
   "outputs": [],
   "source": [
    "# !git checkout {models_path}/\n",
    "# !which python\n",
    "\n",
    "# !pip install spacy==3.1.2\n"
   ]
  },
  {
   "cell_type": "markdown",
   "id": "08237d53-550f-42bd-83a5-f183ad725412",
   "metadata": {},
   "source": [
    "## Split samples into pieces"
   ]
  },
  {
   "cell_type": "code",
   "execution_count": null,
   "id": "7a5d5c3b-cd07-47c9-858f-75b98595abb1",
   "metadata": {
    "tags": []
   },
   "outputs": [],
   "source": [
    "from __future__ import unicode_literals, print_function\n",
    "\n",
    "if True:\n",
    "    from spacy.lang.ru import Russian # updated\n",
    "\n",
    "    # raw_text = 'Hello, world. Here are two sentences.'\n",
    "    nlp = Russian()\n",
    "    # nlp.add_pipe(nlp.create_pipe('sentencizer')) # updated\n",
    "\n",
    "    nlp.add_pipe('sentencizer')\n",
    "    # doc = nlp(raw_text)\n",
    "    # sentences = [sent  for sent in doc.sents]\n",
    "    # sentences\n",
    "\n",
    "    # sentences = [sent.string.strip() for sent in doc.sents]\n"
   ]
  },
  {
   "cell_type": "markdown",
   "id": "a55ccca8-7f98-46de-b59e-4b3b597ad569",
   "metadata": {},
   "source": [
    "### Очистка, сортировка, удаление дупликатов"
   ]
  },
  {
   "cell_type": "code",
   "execution_count": null,
   "id": "a6136504-b3f5-4f83-a357-5de0d67c144c",
   "metadata": {
    "tags": []
   },
   "outputs": [],
   "source": [
    "from analyser.hyperparams import HyperParameters\n",
    "\n",
    "mean_len = HyperParameters.mean_sentense_pattern_len\n",
    "print(mean_len)\n",
    "\n",
    "insides = insides.drop_duplicates(subset=['text'], keep='last')\n",
    "insides.sort_values(['value']).to_csv(Path(models_path)/'insides.csv', index=True)\n",
    "print(f'{len(insides)=}')\n"
   ]
  },
  {
   "cell_type": "markdown",
   "id": "7d6b20a0-894f-4366-a9ed-2741d78a318a",
   "metadata": {},
   "source": [
    "### Удаление слишком коротких"
   ]
  },
  {
   "cell_type": "code",
   "execution_count": null,
   "id": "ab0f3738-59ab-4cf5-ae81-16486f70a25f",
   "metadata": {
    "tags": []
   },
   "outputs": [],
   "source": [
    "from analyser.legal_docs import tokenize_doc_into_sentences_map\n",
    "\n",
    "strings = [ r.text for i,r in  insides.iterrows() ]\n",
    "\n",
    "\n",
    "strings_ =[]\n",
    "nonsense = []\n",
    "for j, s in enumerate(strings):\n",
    "    doc = nlp(s)\n",
    "#     m = tokenize_doc_into_sentences_map(s, max_len_chars = HyperParameters.mean_sentense_pattern_len)\n",
    "#     print('='*100)\n",
    "#     print(m.tokens)\n",
    "    for i in doc.sents:     \n",
    "        sent = str(i).strip()\n",
    "        if len(sent) > 400:    \n",
    "            print('*'*100)\n",
    "            print(f'{len(sent)}\\t {insides.iloc[j].uid}\\t {sent}')\n",
    "        if len(sent) > 12:            \n",
    "            strings_.append(sent)\n",
    "        else:\n",
    "            nonsense.append(sent)\n",
    "#             print ('- excl:', sent)\n",
    "        \n",
    "strings = strings_\n",
    "\n",
    "\n",
    "\n",
    "strings+=[ 'Заказчик передает Исполнителю данные аккаунтов (логин и пароль) в социальных сетях',\n",
    "         'если особенностями процесса оказания услуг обусловлена необходимость доступа персонала Исполнителя к \\\n",
    "         электронным информационным системам, программам и базам данных, Заказчик гарантирует предоставление Исполнителю \\\n",
    "         такого доступа в соответствии с локальными нормативными актами Заказчика и при прохождении процедур инструктажа, \\\n",
    "         установленных Заказчиком, не противоречащих действующему законодательству, в течение первых двух дней выездной аудиторской проверки',\n",
    "         'Заказчик обязуется предоставить Исполнителю окончательный вариант годового отчета и/или отчета эмитента (или иной информации), включая совокупность документов, \\\n",
    "         совместно составляющих годовой отчет, чтобы Исполнитель мог завершить процедуры, необходимые в соответствии с требованиями MCA']\n",
    "\n",
    "\n",
    "nonsense.append('Губкина, дом 1')\n",
    "nonsense.append('без всякого смысла')\n",
    "nonsense.append(' ')\n",
    "nonsense.append('non abra kadabra plus')\n",
    "nonsense.append('gazprom-neft.')\n",
    "\n",
    "nonsense += ['за заданный исторический период.',\n",
    "             'Губкина, дом 1 (далее - «Объект»)', \n",
    "             'Строительство производства катализаторов 2 этап», находящихся по адресу: 644040, г.',\n",
    "             'поставку Покупателю экземпляров программного обеспечения jFrog Artifactory Pro X Edition',\n",
    "             'Строительство производства катализаторов'\n",
    "            ]\n",
    "\n",
    "\n",
    "\n",
    "strings+=keyphrases"
   ]
  },
  {
   "cell_type": "code",
   "execution_count": null,
   "id": "c97a0c9c-010e-483a-9923-26836b01082b",
   "metadata": {
    "tags": []
   },
   "outputs": [],
   "source": [
    "print(nonsense)"
   ]
  },
  {
   "cell_type": "markdown",
   "id": "91655b0f-55dd-4c58-88fd-4623fe2dada4",
   "metadata": {},
   "source": [
    "## Vectorisation des modèles"
   ]
  },
  {
   "cell_type": "code",
   "execution_count": null,
   "id": "e2ad79cd-e1cf-459b-812d-6aba572807c9",
   "metadata": {
    "tags": []
   },
   "outputs": [],
   "source": [
    " \n",
    "\n",
    "embedd_strings = sentence_model.encode\n",
    "\n"
   ]
  },
  {
   "cell_type": "markdown",
   "id": "51d63f4c-cb6b-44c9-bec5-614cea9ff35c",
   "metadata": {},
   "source": [
    "### Trouver le centre d'absurdité (фр. поиск центра абсурда)"
   ]
  },
  {
   "cell_type": "code",
   "execution_count": null,
   "id": "d760f706-1633-4d71-a906-4351c7964c22",
   "metadata": {
    "tags": []
   },
   "outputs": [],
   "source": [
    "%%time\n",
    "nonsense_embeddings = embedd_strings(nonsense)\n",
    "center_of_nonsense = nonsense_embeddings.mean(axis=0)\n",
    "center_of_nonsense.shape"
   ]
  },
  {
   "cell_type": "code",
   "execution_count": null,
   "id": "f60bdbc7-68f1-4515-8439-52d678a91005",
   "metadata": {
    "tags": []
   },
   "outputs": [],
   "source": [
    "%%time\n",
    "# embeddings = embedder.embedd_strings(strings) #WARNing! these are context-scpecific\n",
    "\n",
    "embeddings_l = []\n",
    "for s in strings:\n",
    "    e = embedd_strings([s])\n",
    "    embeddings_l.append(e[0])\n",
    "    "
   ]
  },
  {
   "cell_type": "code",
   "execution_count": null,
   "id": "f0b561a0-0d32-46b4-a7e4-834e203aef7c",
   "metadata": {
    "tags": []
   },
   "outputs": [],
   "source": [
    "%%time\n",
    "import numpy as np\n",
    "embeddings = np.array(embeddings_l)\n",
    "print(embeddings.shape, embeddings.max(), embeddings.min())\n",
    "\n",
    "plt.figure(figsize=(20,10))\n",
    "plt.imshow(embeddings)\n"
   ]
  },
  {
   "cell_type": "markdown",
   "id": "d789c3f7-de6e-40c8-8774-b4d1b4490d2b",
   "metadata": {},
   "source": [
    "## pair-wise distances of Embeddings, removing duplicates"
   ]
  },
  {
   "cell_type": "code",
   "execution_count": null,
   "id": "6e8d39db-9676-47fb-af33-54215851f0f1",
   "metadata": {
    "tags": []
   },
   "outputs": [],
   "source": [
    "from sklearn.metrics import pairwise_distances\n",
    "from sklearn.preprocessing import normalize\n",
    "\n",
    "distance_matrix = pairwise_distances(embeddings, embeddings, metric='cosine', n_jobs=1)\n",
    "print(distance_matrix.shape)\n",
    "# distance_matrix\n",
    "\n",
    "plt.figure(figsize=(10,10))\n",
    "plt.imshow(distance_matrix)\n",
    "print('distance_matrix mean', distance_matrix.mean())\n",
    "print('distance_matrix max', distance_matrix.max())\n",
    "print('distance_matrix std', distance_matrix.std())"
   ]
  },
  {
   "cell_type": "code",
   "execution_count": null,
   "id": "0e9b79d6-fb69-4385-9622-9fbf06253dbf",
   "metadata": {
    "tags": []
   },
   "outputs": [],
   "source": [
    "nonsense_distance_matrix = pairwise_distances(embeddings, [center_of_nonsense], metric='cosine', n_jobs=1)\n",
    "plt.figure(figsize=(20,20))\n",
    "plt.imshow(nonsense_distance_matrix.T)"
   ]
  },
  {
   "cell_type": "code",
   "execution_count": null,
   "id": "bee2362e-5ead-4830-932f-49ebad0fd0b8",
   "metadata": {
    "tags": []
   },
   "outputs": [],
   "source": [
    "# len(X)"
   ]
  },
  {
   "cell_type": "code",
   "execution_count": null,
   "id": "715cc7db-4e12-477a-963d-7ac112eac1e1",
   "metadata": {
    "tags": []
   },
   "outputs": [],
   "source": [
    "_excluded = set()\n",
    "_kept = set()\n",
    "\n",
    "_b=0.7\n",
    "nonsense_thr = nonsense_distance_matrix.mean() * _b + nonsense_distance_matrix.min() * (1-_b)\n",
    "print('nonsense_thr', nonsense_thr)\n",
    "\n",
    "display(Markdown(f'### Бессмысленные паттерны или почти:: \\\n",
    "        distance < {nonsense_thr:.2} (min={nonsense_distance_matrix.min():.2}; mean={nonsense_distance_matrix.mean():.2})'))\n",
    "for i, nd in enumerate(nonsense_distance_matrix):\n",
    "    d = nd[0]\n",
    "    if d < nonsense_thr:\n",
    "        ## trop proche de l'absurde\n",
    "        print('---')\n",
    "        _excluded.add(i)\n",
    "        print(i, d, '\\t',strings[i])"
   ]
  },
  {
   "cell_type": "code",
   "execution_count": null,
   "id": "ed1782b0-63df-4c2f-8206-e37ecf85bb14",
   "metadata": {
    "tags": []
   },
   "outputs": [],
   "source": [
    "np.percentile(distance_matrix, 0.5)"
   ]
  },
  {
   "cell_type": "code",
   "execution_count": null,
   "id": "767a344a-e677-4b77-bcf9-59fe14c265b9",
   "metadata": {
    "tags": []
   },
   "outputs": [],
   "source": [
    "simlarity_threshold = np.percentile(distance_matrix, 0.5)\n",
    "display(Markdown(f'### Одинаковые: расстояние < {simlarity_threshold:.2}'))\n",
    "for i in range(distance_matrix.shape[0]):\n",
    "    for j in range(i+1, distance_matrix.shape[0]):\n",
    "        \n",
    "        d = distance_matrix[i,j]\n",
    "        \n",
    "        if d < simlarity_threshold:\n",
    "            print(i,'vs', j, ', cosine distance =', d)\n",
    "            _kept.add(i)\n",
    "            _excluded.add(j)\n",
    "            \n",
    "\n",
    "            print(i, strings[i])\n",
    "            print('='*10)\n",
    "            print(j, strings[j])\n",
    "            print('-'*100)\n",
    "       \n",
    "# _excluded\n",
    "display(Markdown(f'#### {len(_excluded)} одинаковых пар'))\n",
    "print(_kept - _excluded)\n",
    "print(_excluded)"
   ]
  },
  {
   "cell_type": "code",
   "execution_count": null,
   "id": "cad54499-e1ad-420d-949e-6e170205e43d",
   "metadata": {},
   "outputs": [],
   "source": [
    "# for i in range(distance_matrix.shape[0]):\n",
    "#     if len(strings[i]) < 15:\n",
    "#         print(strings[i])\n",
    "#     if len(strings[i]) > 400 :\n",
    "#         print('-'*100)\n",
    "#         print(strings[i])\n",
    "        \n",
    "#         _excluded.add(i)"
   ]
  },
  {
   "cell_type": "code",
   "execution_count": null,
   "id": "7560de82-216d-476e-8d9d-d3eb8c0986f6",
   "metadata": {
    "tags": []
   },
   "outputs": [],
   "source": [
    "import numpy as np\n",
    "embeddings_filtered = np.delete(embeddings, list(_excluded), axis=0)\n",
    "strings_filtered = np.delete(strings, list(_excluded), axis=0)\n",
    "print(embeddings_filtered.shape)\n",
    "\n",
    "display(Markdown(f'### {embeddings_filtered.shape[0]} -- Количество паттернов после удаления одинаковых'))\n",
    "\n",
    "\n",
    "del embeddings\n",
    "del strings\n",
    "\n",
    "strings = strings_filtered\n",
    "embeddings = embeddings_filtered\n",
    "\n",
    "mlflow.log_param('n_samples', embeddings_filtered.shape[0])"
   ]
  },
  {
   "cell_type": "code",
   "execution_count": null,
   "id": "9b0f87e4-b8a8-4c74-990e-00b418617abb",
   "metadata": {
    "tags": []
   },
   "outputs": [],
   "source": [
    "# import pandas as pd\n",
    " \n",
    "# for\n",
    "# df_describe = pd.DataFrame(distance_matrix)\n",
    "# print(\"distance_matrix mean=\", distance_matrix.mean())\n",
    "# print(\"distance_matrix std=\", distance_matrix.std())\n",
    "# df_describe.describe()\n",
    "\n",
    "\n",
    "#collect all elements except diagonal zeros\n",
    "#XXX: mighe be done with smatr sliceing, but im too lazy\n",
    "\n",
    "\n",
    "def estimate_distance_threshold(patterns_embeddings):\n",
    "    distance_matrix = pairwise_distances(patterns_embeddings, patterns_embeddings, metric='cosine', n_jobs=1)\n",
    "    \n",
    "    dshape = distance_matrix.shape\n",
    "    distance_matrix_meaningful=[]\n",
    "    for i in range(dshape[0]):\n",
    "        for j in range(i):\n",
    "            distance_matrix_meaningful.append(distance_matrix[i][j])\n",
    "    distance_matrix_meaningful=np.array(distance_matrix_meaningful)\n",
    "    len(distance_matrix_meaningful)            \n",
    "\n",
    "    print(\"distance_matrix mean=\", distance_matrix_meaningful.mean())\n",
    "    print(\"distance_matrix max=\", distance_matrix_meaningful.max())\n",
    "    print(\"distance_matrix std=\", distance_matrix_meaningful.std())\n",
    "\n",
    "    #mean distance plus/minus tandart deviation .. estimating the max distance from clusters...\n",
    "    threshold = distance_matrix_meaningful.mean() - distance_matrix_meaningful.std() \n",
    "    return threshold\n",
    "    \n",
    "estimate_distance_threshold(embeddings_filtered)"
   ]
  },
  {
   "cell_type": "code",
   "execution_count": null,
   "id": "7a7a11fd-143d-4356-abdc-2cd71fd6d40a",
   "metadata": {
    "tags": []
   },
   "outputs": [],
   "source": []
  },
  {
   "cell_type": "markdown",
   "id": "c0d0b1ca-15ec-469d-8303-dc7a2d448e02",
   "metadata": {},
   "source": [
    "## Clustering, t-SNE  3D"
   ]
  },
  {
   "cell_type": "code",
   "execution_count": null,
   "id": "8fa569fb-aa80-478e-a5ab-994466f13a35",
   "metadata": {
    "tags": []
   },
   "outputs": [],
   "source": [
    "\n",
    "distance_matrix = pairwise_distances(embeddings_filtered, embeddings_filtered, metric='cosine', n_jobs=1)\n",
    "\n",
    "            \n",
    "plt.figure(figsize=(7,7))\n",
    "plt.imshow(distance_matrix)"
   ]
  },
  {
   "cell_type": "code",
   "execution_count": null,
   "id": "ce03d7f6-954b-40c7-b5cf-ff53c384ffcf",
   "metadata": {
    "tags": []
   },
   "outputs": [],
   "source": [
    "# print(insides.value.unique())????\n",
    "n_clusters = embeddings_filtered.shape[0] // 10 #len(insides.value.unique())\n",
    "print('n_clusters', n_clusters)"
   ]
  },
  {
   "cell_type": "markdown",
   "id": "22730f0f-00cc-45e3-8245-763f6d156a41",
   "metadata": {},
   "source": [
    "## Clustering, t-SNE  2D"
   ]
  },
  {
   "cell_type": "code",
   "execution_count": null,
   "id": "a50ad3d9-5cfd-4db0-87bb-a95cfc61a43a",
   "metadata": {
    "tags": []
   },
   "outputs": [],
   "source": [
    "from sklearn.manifold import TSNE\n",
    "from sklearn.cluster import KMeans, DBSCAN\n",
    "tsne = TSNE(n_components=2, verbose=1, perplexity=40, n_iter=6000, metric=\"precomputed\")\n",
    "tsne_results = tsne.fit_transform(distance_matrix)"
   ]
  },
  {
   "cell_type": "code",
   "execution_count": null,
   "id": "6757c98a-b96b-4306-be75-0a0e3b7ca4be",
   "metadata": {
    "tags": []
   },
   "outputs": [],
   "source": [
    "# from sklearn.cluster import SpectralClustering\n",
    "\n",
    "# kmeans = KMeans(n_clusters = n_clusters, random_state=0).fit(np.array(tsne_results))\n",
    "kmeans = DBSCAN(eps=1.1, min_samples=3 ).fit(tsne_results)\n",
    "# kmeans = SpectralClustering(n_clusters=n_clusters, assign_labels='discretize', random_state=0).fit(tsne_results)\n",
    "\n",
    "df_subset={}\n",
    "df_subset['tsne-2d-one'] = tsne_results[:,0]\n",
    "df_subset['tsne-2d-two'] = tsne_results[:,1]\n",
    "df_subset['label'] = kmeans.labels_\n",
    "\n",
    "\n",
    "fig=plt.figure(figsize=(12,8) )\n",
    "# ax = fig.add_subplot(111, projection = '3d')\n",
    "\n",
    "\n",
    "# ax.scatter(df_subset['tsne-2d-one'], df_subset['tsne-2d-two'], df_subset['tsne-2d-3'])\n",
    "\n",
    "# plt.show()\n",
    "\n",
    "sns.scatterplot(\n",
    "    x=\"tsne-2d-one\", y=\"tsne-2d-two\",\n",
    "    hue=\"label\", palette=\"tab10\",\n",
    "    data=df_subset,\n",
    "    alpha=0.8\n",
    ")\n",
    "\n"
   ]
  },
  {
   "cell_type": "code",
   "execution_count": null,
   "id": "b04d8fc3-c051-4515-8609-5014b115ffcd",
   "metadata": {
    "tags": []
   },
   "outputs": [],
   "source": [
    "kmeans.__dict__"
   ]
  },
  {
   "cell_type": "code",
   "execution_count": null,
   "id": "4118ca63-863d-46eb-98f6-1238e44f540e",
   "metadata": {
    "tags": []
   },
   "outputs": [],
   "source": [
    "# set(kmeans.labels_)"
   ]
  },
  {
   "cell_type": "code",
   "execution_count": null,
   "id": "8548cc5b-15a1-47dc-b3a1-52a38e1a60f8",
   "metadata": {
    "tags": []
   },
   "outputs": [],
   "source": [
    "# !conda list"
   ]
  },
  {
   "cell_type": "code",
   "execution_count": null,
   "id": "799b8a6a-4a6d-4661-bc2b-6ce64fbea9c5",
   "metadata": {},
   "outputs": [],
   "source": [
    "\n"
   ]
  },
  {
   "cell_type": "code",
   "execution_count": null,
   "id": "083e7892-36cd-4465-8cdb-922bb40fb63b",
   "metadata": {
    "tags": []
   },
   "outputs": [],
   "source": [
    "import umap\n",
    "umap_embeddings = (umap.UMAP(n_neighbors=6, \n",
    "                                n_components=3, \n",
    "                                metric='cosine', \n",
    "                                random_state=42)\n",
    "                            .fit_transform(embeddings_filtered))\n",
    "\n",
    "\n",
    "fig=plt.figure(figsize=(10,10) )\n",
    "ax = fig.add_subplot(111, projection = '3d')\n",
    "\n",
    "ax.scatter(umap_embeddings[:,0], umap_embeddings[:,1], umap_embeddings[:,2], s=40, c=df_subset['label'] )\n",
    " \n",
    "plt.show()"
   ]
  },
  {
   "cell_type": "code",
   "execution_count": null,
   "id": "6ea4ea38-7bfa-491c-a06c-1120b712a1e7",
   "metadata": {
    "tags": []
   },
   "outputs": [],
   "source": [
    "from matplotlib.colors import ListedColormap\n",
    " \n",
    "cmap = ListedColormap(sns.color_palette(\"husl\", 256).as_hex())\n",
    "\n",
    "\n",
    "# from sklearn.cluster import Birch\n",
    "\n",
    "from sklearn.manifold import TSNE\n",
    "tsne = TSNE(n_components=3, verbose=1, perplexity=30, n_iter=5000, metric=\"precomputed\")\n",
    "tsne_results3 = tsne.fit_transform(distance_matrix)\n",
    "\n",
    "\n",
    "\n",
    "\n",
    "tsne_results3 = umap_embeddings #XXXXXX\n",
    "\n",
    "\n",
    "\n",
    "# clusters3d = KMeans(n_clusters = n_clusters, random_state=0).fit(np.array(tsne_results))\n",
    "clusters3d = DBSCAN(eps=1.2, min_samples=3).fit(tsne_results)\n",
    "\n",
    "print('clusters3d.labels_',set(clusters3d.labels_))\n",
    "df_subset={}\n",
    "df_subset['tsne-2d-one'] = tsne_results3[:,0]\n",
    "df_subset['tsne-2d-two'] = tsne_results3[:,1]\n",
    "df_subset['tsne-2d-3'] = tsne_results3[:,2]\n",
    "df_subset['label'] = clusters3d.labels_\n",
    "\n",
    "\n",
    "fig = plt.figure(figsize=(10,10) )\n",
    "ax = fig.add_subplot(111, projection = '3d')\n",
    "\n",
    "ax.scatter(df_subset['tsne-2d-one'], df_subset['tsne-2d-two'], df_subset['tsne-2d-3'], s=40, c=df_subset['label'] )\n",
    " \n",
    "plt.show()\n",
    "\n",
    "mlflow.log_figure(fig, 'clusters_of_samples_(TSNE_DBSCAN).png')"
   ]
  },
  {
   "cell_type": "code",
   "execution_count": null,
   "id": "ec5e0eec-5c4d-412f-8e53-9bb09e545a17",
   "metadata": {
    "tags": []
   },
   "outputs": [],
   "source": [
    "insides.to_csv('insides.csv', index=True)"
   ]
  },
  {
   "cell_type": "code",
   "execution_count": null,
   "id": "ad28463e-a267-48b3-9db9-10c3275ec551",
   "metadata": {
    "tags": []
   },
   "outputs": [],
   "source": [
    "# print(len(pca_result))"
   ]
  },
  {
   "cell_type": "code",
   "execution_count": null,
   "id": "0fcfd5cf-6670-4c1a-a058-b916dee7c2ba",
   "metadata": {
    "tags": []
   },
   "outputs": [],
   "source": [
    "from colab_support.renderer import HtmlRenderer\n",
    "import matplotlib as matplotlib\n",
    "from IPython.core.display import display, HTML\n",
    "\n",
    "class DemoRenderer(HtmlRenderer):\n",
    "  def render_color_text(self, tokens, weights, colormap='coolwarm', print_debug=False, _range=None, separator=' '):\n",
    "    html = self.to_color_text(tokens, weights, colormap, print_debug, _range, separator=separator)\n",
    "    display(HTML(html))\n",
    "\n",
    "  def to_color_text(self, tokens, weights, colormap='coolwarm', print_debug=False, _range=None, separator=' '):\n",
    "    return super()._to_color_text(tokens, weights, matplotlib, colormap=colormap, _range=_range, separator=separator)\n",
    "\n",
    "renderer_ = DemoRenderer()\n",
    "\n",
    "# if SELF_TEST:\n",
    "#     renderer_.render_color_text([\"слово 1\", \"слово 2\"], np.array( [1, 0]), _range=(0,1))"
   ]
  },
  {
   "cell_type": "markdown",
   "id": "0fff33e1-847b-4fc1-9f48-b180dc1b456c",
   "metadata": {},
   "source": [
    "## Finding cluster centers (in embedding space)"
   ]
  },
  {
   "cell_type": "code",
   "execution_count": null,
   "id": "70d8cbbf-fc89-45b8-bff4-9c437a94add2",
   "metadata": {
    "tags": []
   },
   "outputs": [],
   "source": [
    "lens = [ len (s) for s in strings]\n",
    "print(lens)\n",
    "\n",
    "__mean_len = int(np.mean(lens) * 1.75)\n",
    "print(__mean_len)"
   ]
  },
  {
   "cell_type": "code",
   "execution_count": null,
   "id": "fc862f54-6dcc-48ac-a42d-3d7cc40db240",
   "metadata": {},
   "outputs": [],
   "source": [
    "# kmeans.__dict__"
   ]
  },
  {
   "cell_type": "code",
   "execution_count": null,
   "id": "de6ff520-2044-4b8e-9374-6b7cb72bd76a",
   "metadata": {
    "tags": []
   },
   "outputs": [],
   "source": [
    "# centroid = np.mean(embeddings_filtered, axis=0)\n",
    "# del centroid\n",
    "centroids = []\n",
    "# print(centroid)\n",
    "\n",
    "\n",
    "kmeans = clusters3d\n",
    "# for g in set(kmeans.labels_):\n",
    "#     group=[]\n",
    "#     for i in range(len(embeddings_filtered)):\n",
    "#         if g == kmeans.labels_[i]:\n",
    "#             if g==-1:\n",
    "#                 print(k, strings[i],'\\n')\n",
    "#             group.append(embeddings_filtered[i])\n",
    "# #             print(k, strings[i])\n",
    "# #             print('-'*100)\n",
    "#     print(len(group), g)\n",
    "#     print('='*100)\n",
    "#     c = np.mean(group, axis=0)\n",
    "#     centroids.append(c)\n",
    "#     print( c )"
   ]
  },
  {
   "cell_type": "code",
   "execution_count": null,
   "id": "7ee7e1d3-9ac9-4728-9ede-0a5f2bb59d75",
   "metadata": {
    "tags": []
   },
   "outputs": [],
   "source": [
    "centroids = []\n",
    "for k in range(n_clusters):\n",
    "    group=[]\n",
    "    for i in range(len(embeddings_filtered)):\n",
    "        if k == kmeans.labels_[i]:\n",
    "#             print (k)\n",
    "            group.append(embeddings_filtered[i])\n",
    "            print(f'label={k}({i}) \\t [{strings[i]}]')\n",
    "            print('-'*20)\n",
    "            \n",
    "    print(f'\\n {k} len={len(group)}' )\n",
    "    print('='*100)\n",
    "    print(f'\\n\\n ' )\n",
    "    \n",
    "    if len(group)>0:\n",
    "        centroid = np.mean(group, axis=0)\n",
    "#         print(centroid)\n",
    "        centroids.append(centroid)\n",
    "    else:\n",
    "        print(f'ACHTUNG group {k} is empty')\n"
   ]
  },
  {
   "cell_type": "code",
   "execution_count": null,
   "id": "b68c5dea-982b-46cd-9a7d-22a1827cfd5b",
   "metadata": {
    "tags": []
   },
   "outputs": [],
   "source": [
    "# centroids\n",
    "n_clusters = len(centroids)\n",
    "n_clusters\n",
    "mlflow.log_param('n_clusters', n_clusters)"
   ]
  },
  {
   "cell_type": "markdown",
   "id": "e81b995c-446a-401a-9527-b485666575f2",
   "metadata": {},
   "source": [
    "# Save patterns  (embeddings binary array)"
   ]
  },
  {
   "cell_type": "code",
   "execution_count": null,
   "id": "50424f55-e737-4c2b-a28d-a24836df8393",
   "metadata": {
    "tags": []
   },
   "outputs": [],
   "source": [
    "# # define a custom model\n",
    "# class MyModel(mlflow.pyfunc.PythonModel):\n",
    "#     def predict(self, context, model_input):\n",
    "#         return self.my_custom_function(model_input)\n",
    "\n",
    "#     def my_custom_function(self, model_input):\n",
    "#         # do something with the model input\n",
    "#         return 0\n",
    "    \n",
    "    \n",
    "\n",
    "\n",
    "_fn = Path(models_path) / \"insides_patterns.npy\"\n",
    "np.save(_fn, centroids)\n",
    "\n",
    "\n",
    "\n",
    "# model_info = mlflow.pyfunc.log_model(artifact_path=\"model\", python_model=centroids)\n",
    "\n",
    "mlflow.log_artifact(_fn)\n",
    "# mlflow.register_model()\n",
    "\n"
   ]
  },
  {
   "cell_type": "markdown",
   "id": "230cd10b-c8bc-4ca9-becd-b62fd596b897",
   "metadata": {},
   "source": [
    "# Analysing sample doc"
   ]
  },
  {
   "cell_type": "code",
   "execution_count": null,
   "id": "d7377e6b-d9d8-461e-8447-e3948b62886f",
   "metadata": {
    "tags": []
   },
   "outputs": [],
   "source": [
    "if SELF_TEST:    \n",
    "    centroids = np.load(Path(models_path) / \"insides_patterns.npy\")\n",
    "    print(centroids.shape)\n",
    "    \n",
    "distance_threshold = estimate_distance_threshold(centroids)\n",
    "print('distance_threshold', distance_threshold)"
   ]
  },
  {
   "cell_type": "code",
   "execution_count": null,
   "id": "63470eda-a8c5-4eee-8d0a-03a6d6270a23",
   "metadata": {},
   "outputs": [],
   "source": []
  },
  {
   "cell_type": "code",
   "execution_count": null,
   "id": "33f1086a-6e64-40d5-b0a8-110bd6d97bb4",
   "metadata": {
    "tags": []
   },
   "outputs": [],
   "source": [
    "%%time\n",
    "from bson import ObjectId\n",
    "if SELF_TEST:\n",
    "    from analyser.legal_docs import tokenize_doc_into_sentences_map\n",
    "\n",
    "    sample_id     = ObjectId('617146dd8fd5658689eb2bb4')  #res_inside[0][\"_id\"] #ObjectId('6166989787f1d9065bb8b914') #\n",
    "    sample_db_doc = get_doc_by_id(sample_id)\n",
    "    print('doc has been fetched from mongo')\n",
    "    sample_j_doc  = DbJsonDoc(sample_db_doc)\n",
    "    sample_doc    = sample_j_doc.asLegalDoc()\n",
    "    \n",
    "    print(sample_id)\n",
    "\n",
    "\n",
    "\n",
    "    sample_doc.sentence_map = tokenize_doc_into_sentences_map(sample_doc.tokens_map.get_full_text(), \n",
    "                                                              HyperParameters.mean_sentense_pattern_len)\n",
    "    #TODO: might be employ 3rd party lib\n",
    "    print(sample_doc)\n",
    "\n",
    "    doc_embeddings = embedd_strings(sample_doc.sentence_map.tokens)"
   ]
  },
  {
   "cell_type": "code",
   "execution_count": null,
   "id": "09a564e2-73ec-4c73-996b-27e553e1b18b",
   "metadata": {
    "tags": []
   },
   "outputs": [],
   "source": [
    "len(sample_doc)"
   ]
  },
  {
   "cell_type": "code",
   "execution_count": null,
   "id": "eb9d5f7a-ee44-4362-b8f6-b1e0e42b32c1",
   "metadata": {
    "tags": []
   },
   "outputs": [],
   "source": [
    "mean_len"
   ]
  },
  {
   "cell_type": "code",
   "execution_count": null,
   "id": "0672b351-d739-46a8-bf55-8f8bd1807225",
   "metadata": {
    "tags": []
   },
   "outputs": [],
   "source": [
    "plt.figure(figsize=(15,15))\n",
    "plt.imshow(doc_embeddings)"
   ]
  },
  {
   "cell_type": "code",
   "execution_count": null,
   "id": "36b3bc92-4c99-4b2d-852e-a7f173ed516f",
   "metadata": {
    "tags": []
   },
   "outputs": [],
   "source": [
    "distance_matrix = pairwise_distances(centroids, doc_embeddings , metric='cosine', n_jobs=1)\n",
    "distance_matrix = (distance_matrix * -1) + 1.0\n",
    " \n",
    "plt.figure(figsize=(30,4))\n",
    "plt.imshow( distance_matrix )\n",
    "# plt.plot(np.array(distance_matrix.T[0]))\n",
    "print(len(distance_matrix[0]))\n",
    " \n",
    "print( distance_matrix.min())\n",
    "print( distance_matrix.shape)\n",
    "print( distance_matrix.argmax())"
   ]
  },
  {
   "cell_type": "code",
   "execution_count": null,
   "id": "a2bc020a-63c5-49db-892a-fe2448c913e1",
   "metadata": {
    "tags": []
   },
   "outputs": [],
   "source": [
    "def relu(x: np.ndarray, relu_th: float = 0.0) -> np.ndarray:\n",
    "  _relu = x * (x > relu_th)\n",
    "  return _relu\n"
   ]
  },
  {
   "cell_type": "code",
   "execution_count": null,
   "id": "eda5d57f-deb5-4ebb-ae07-9d9209cbc99f",
   "metadata": {
    "tags": []
   },
   "outputs": [],
   "source": [
    "eps = 0.01\n",
    "# del threshold # = 0.7 #0.9 *  distance_matrix.max()\n",
    "print('distance_threshold', distance_threshold)\n",
    "print()\n",
    "sim_max = 0\n",
    "# i_max = 0\n",
    "\n",
    "plt.figure(figsize=(30,6))\n",
    "plt.plot([distance_threshold]*len(sample_doc.sentence_map), alpha=0.4 )\n",
    "i_max = 0\n",
    "for k in range(n_clusters):    \n",
    "    print('-'*20)\n",
    "    av = distance_matrix[k] \n",
    "    \n",
    "    ii = av.argmax()\n",
    "    sim = av[ii]\n",
    "    if (sim > distance_threshold):\n",
    "        plt.plot(av)\n",
    "        print( f\"{k}=cluster \\t {av[ii]}=similarity, \\n {sample_doc.sentence_map.tokens[ii]} \")\n",
    "        _span = sample_doc.sentence_map.remap_span((ii, ii + 1), sample_doc.tokens_map)\n",
    "        print(_span)\n",
    "    \n",
    "    if sim > sim_max:\n",
    "        i_max = k\n",
    "        sim_max = sim\n",
    "        \n",
    "print(sim_max, i_max)"
   ]
  },
  {
   "cell_type": "code",
   "execution_count": null,
   "id": "87c53943-f670-4a2b-88f1-1f200ffdf60b",
   "metadata": {
    "tags": []
   },
   "outputs": [],
   "source": [
    "relu_threshold =  0.85 *  distance_matrix.max()\n",
    "renderer_.render_color_text(sample_doc.sentence_map.tokens, relu(distance_matrix[i_max], relu_threshold), _range=(0,1), separator='<br>')"
   ]
  },
  {
   "cell_type": "markdown",
   "id": "b7ba5db4-866d-410a-8f6a-c7c88ae8463d",
   "metadata": {},
   "source": [
    "## Test no-insides DOC"
   ]
  },
  {
   "cell_type": "code",
   "execution_count": null,
   "id": "2879eac8-1693-43b9-ab15-6c9178d0f057",
   "metadata": {
    "tags": []
   },
   "outputs": [],
   "source": [
    "%%time\n",
    "from bson import ObjectId\n",
    "\n",
    "# doc =\n",
    "\n",
    "if SELF_TEST and False:\n",
    "    sample_db_doc    =  get_doc_by_id(ObjectId('60dec1f556214d9842813fcb'))    \n",
    "    sample_j_doc  = DbJsonDoc(sample_db_doc)\n",
    "    sample_doc    = sample_j_doc.asLegalDoc()\n",
    "    \n",
    "    \n",
    "    print(sample_doc)\n",
    "    sample_doc.sentence_map = tokenize_doc_into_sentences_map(sample_doc.tokens_map.get_full_text(), mean_len)\n",
    "\n",
    "#     print(sample_doc)\n",
    "\n",
    "    doc_embeddings = embedd_strings(sample_doc.sentence_map.tokens)"
   ]
  },
  {
   "cell_type": "code",
   "execution_count": null,
   "id": "0243a7ba-4331-4e76-ab5e-e6252236f01f",
   "metadata": {},
   "outputs": [],
   "source": [
    "if SELF_TEST and False:\n",
    "    X = doc_embeddings\n",
    "    distance_matrix = pairwise_distances(X, centroids, metric='cosine', n_jobs=1)\n",
    "    # distance_matrix = relu ( ((distance_matrix * -1)+1) , _mx-0.01)\n",
    "\n",
    "    distance_matrix = (distance_matrix * -1)+1.0\n",
    "    distance_matrix = distance_matrix.T\n",
    "    plt.figure(figsize=(30,4))\n",
    "    plt.imshow( distance_matrix )\n",
    "    # plt.plot(np.array(distance_matrix.T[0]))\n",
    "    print(len(distance_matrix[0]))"
   ]
  },
  {
   "cell_type": "code",
   "execution_count": null,
   "id": "310c5922-0620-4385-a19e-ae258b26d765",
   "metadata": {},
   "outputs": [],
   "source": [
    "if SELF_TEST and False:\n",
    "    eps = 0.01\n",
    "    threshold = 0.85 #0.9 *  distance_matrix.max()\n",
    "    print('threshold', threshold)\n",
    "    print()\n",
    "    sim_max=0\n",
    "    i_max=0\n",
    "    plt.figure(figsize=(30,6))\n",
    "    plt.plot([threshold]*len(sample_doc.sentence_map), alpha=0.4 )\n",
    "    for k in range(n_clusters):    \n",
    "        print('-'*20)\n",
    "        v = distance_matrix[k] \n",
    "        av = v #relu(v, threshold) ## attention vector\n",
    "\n",
    "        ii = av.argmax()\n",
    "        sim = av[ii]\n",
    "        if (sim > threshold):\n",
    "            plt.plot(av)\n",
    "            print( f\"{k}=cluster \\t {av[ii]}=similarity, \\n {sample_doc.sentence_map.tokens[ii]} \")\n",
    "\n",
    "        if sim>sim_max:\n",
    "            i_max = k\n",
    "            sim_max = sim\n",
    "    print(sim_max, i_max)"
   ]
  },
  {
   "cell_type": "code",
   "execution_count": null,
   "id": "97d970a1-44ed-4936-9dda-19de61a6937b",
   "metadata": {},
   "outputs": [],
   "source": [
    "if SELF_TEST and False:\n",
    "    relu_threshold =  0.99 *  distance_matrix.max()\n",
    "    renderer_.render_color_text(sample_doc.sentence_map.tokens, distance_matrix[i_max])"
   ]
  },
  {
   "cell_type": "markdown",
   "id": "5e722f43-f67c-4d81-ab8c-43a04d929e69",
   "metadata": {},
   "source": [
    "# End mlflow run"
   ]
  },
  {
   "cell_type": "code",
   "execution_count": null,
   "id": "6656c836-7a15-4ea6-9835-079606836751",
   "metadata": {
    "tags": []
   },
   "outputs": [],
   "source": [
    "print(active_mlflow_run.info)\n",
    "\n",
    "print('see results at')\n",
    "print(f'{mlflow.get_registry_uri()}/#/experiments/{active_mlflow_run.info.experiment_id}/runs/{active_mlflow_run.info.run_id}')\n",
    "\n",
    "\n",
    "mlflow.end_run()"
   ]
  },
  {
   "cell_type": "code",
   "execution_count": null,
   "id": "8793bca4-0f80-4dff-b110-c52a13364337",
   "metadata": {},
   "outputs": [],
   "source": []
  }
 ],
 "metadata": {
  "colab": {
   "collapsed_sections": [
    "9eF-UGHyh-C9",
    "7X_zYCYEdlPM",
    "lyI4hbTRFjyM"
   ],
   "name": "Local: structure keras uber model - clean train, evaluate, test.ipynb",
   "provenance": [],
   "toc_visible": true
  },
  "kernelspec": {
   "display_name": "Python 3 (ipykernel)",
   "language": "python",
   "name": "python3"
  },
  "language_info": {
   "codemirror_mode": {
    "name": "ipython",
    "version": 3
   },
   "file_extension": ".py",
   "mimetype": "text/x-python",
   "name": "python",
   "nbconvert_exporter": "python",
   "pygments_lexer": "ipython3",
   "version": "3.9.6"
  },
  "papermill": {
   "default_parameters": {},
   "duration": 10.184245,
   "end_time": "2021-08-03T13:00:20.283835",
   "environment_variables": {},
   "exception": null,
   "input_path": "trainsets/export_trainset.ipynb",
   "output_path": "trainsets/export_trainset.ipynb",
   "parameters": {},
   "start_time": "2021-08-03T13:00:10.099590",
   "version": "2.3.3"
  },
  "toc-autonumbering": true,
  "toc-showcode": false,
  "toc-showmarkdowntxt": true,
  "widgets": {
   "application/vnd.jupyter.widget-state+json": {
    "state": {},
    "version_major": 2,
    "version_minor": 0
   }
  }
 },
 "nbformat": 4,
 "nbformat_minor": 5
}
