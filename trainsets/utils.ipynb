{
 "cells": [
  {
   "cell_type": "markdown",
   "id": "41f758cf-c025-43d2-bbf2-ea4ca9f36846",
   "metadata": {
    "tags": []
   },
   "source": [
    "## (util) Restore model from MLFLOW\n"
   ]
  },
  {
   "cell_type": "code",
   "execution_count": 2,
   "id": "4e190ac9-529e-4929-b388-1b07f7b64551",
   "metadata": {
    "tags": []
   },
   "outputs": [],
   "source": [
    "import mlflow\n",
    "from pathlib import Path\n",
    "\n",
    "# from mlflow.models import Model\n",
    "# umodel = mlflow.tensorflow.load_model(\"runs:/d31c40c014364832a9895b5fb30428ae/model\")\n",
    "# umodel.summary()\n",
    "\n",
    "# umodel.save_weights(Path(analyser.hyperparams.models_path) / (umodel.name + \".h5\"))\n"
   ]
  },
  {
   "cell_type": "markdown",
   "id": "0eab435c-130d-4a38-afcf-d68211d8ae4d",
   "metadata": {
    "tags": []
   },
   "source": [
    "## (util) Blend 2 models -- create averaged weights"
   ]
  },
  {
   "cell_type": "code",
   "execution_count": null,
   "id": "e7f7945f-f98c-4675-95da-ba53c3dee3d1",
   "metadata": {},
   "outputs": [],
   "source": [
    " \n",
    "resources =  ['runs:/42802c6790a1431c838bbceb891445f6/model', 'runs:/7f26cfaa557c4cbba727cca3b8fb5e1c/model']\n",
    "\n",
    "weights = [mlflow.tensorflow.load_model(r).get_weights() for r in resources]\n",
    "\n",
    "new_weights = list()\n",
    "for weights_list_tuple in zip(*weights): \n",
    "    new_weights.append(\n",
    "        np.array([np.array(w).mean(axis=0) for w in zip(*weights_list_tuple)])\n",
    "    )\n",
    "\n",
    "\n",
    "# for weights_list_tuple in zip(*weights):\n",
    "#     new_weights.append(\n",
    "#         [np.array(weights_).mean(axis=0)\\\n",
    "#             for weights_ in zip(*weights_list_tuple)])\n",
    "\n",
    "# And what is left is to set these weights in a new model:\n",
    "\n",
    "# new_model.set_weights(new_weights)\n",
    "\n",
    "umodel.set_weights(np.array(new_weights))\n",
    "\n",
    "mlflow.end_run()\n",
    "mlflow.start_run(nested=False, run_name='blend of 2 weights')\n",
    "\n",
    "# mlflow.log_artifact(umodel)\n",
    "mlflow.tensorflow.log_model(model = umodel, artifact_path='tf-model-blend')\n",
    "# , artifact_path=str(Path(analyser.hyperparams.models_path) / (umodel.name + \".blend.h5\"))\n",
    "\n",
    "mlflow.end_run()\n",
    "    \n",
    "\n",
    "    \n",
    "umodel.save_weights(Path(analyser.hyperparams.models_path) / (umodel.name + \".blend.h5\"))"
   ]
  }
 ],
 "metadata": {
  "kernelspec": {
   "display_name": "env",
   "language": "python",
   "name": "env"
  },
  "language_info": {
   "codemirror_mode": {
    "name": "ipython",
    "version": 3
   },
   "file_extension": ".py",
   "mimetype": "text/x-python",
   "name": "python",
   "nbconvert_exporter": "python",
   "pygments_lexer": "ipython3",
   "version": "3.8.10"
  }
 },
 "nbformat": 4,
 "nbformat_minor": 5
}
