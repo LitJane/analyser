{
 "cells": [
  {
   "cell_type": "code",
   "execution_count": 1,
   "metadata": {
    "tags": [
     "parameters"
    ]
   },
   "outputs": [],
   "source": [
    "DEBUG = False\n",
    "DISABLE_GPU = False\n",
    "USE_CONTROL_SET = True\n",
    "\n",
    "COLLECTION_NAME = 'documents'\n",
    "\n"
   ]
  },
  {
   "cell_type": "code",
   "execution_count": 2,
   "metadata": {},
   "outputs": [],
   "source": [
    "if USE_CONTROL_SET:\n",
    "    COLLECTION_NAME = 'documents_temp'"
   ]
  },
  {
   "cell_type": "code",
   "execution_count": 3,
   "metadata": {
    "tags": []
   },
   "outputs": [],
   "source": [
    "import logging\n",
    "import sys\n",
    "import os"
   ]
  },
  {
   "cell_type": "code",
   "execution_count": 4,
   "metadata": {},
   "outputs": [],
   "source": [
    "\n",
    "\n",
    "# DISABLE GPU\n",
    "if DISABLE_GPU:\n",
    "    os.environ['CUDA_VISIBLE_DEVICES'] = '-1'\n",
    "\n",
    "\n"
   ]
  },
  {
   "cell_type": "code",
   "execution_count": 5,
   "metadata": {
    "colab": {},
    "colab_type": "code",
    "id": "JoHJkn9yQIgg"
   },
   "outputs": [
    {
     "name": "stderr",
     "output_type": "stream",
     "text": [
      "INFO - 2023-04-17 21:04:22,972 - [3915278433.py:10] - eval_ipynb - --=logging started=--\n"
     ]
    },
    {
     "name": "stdout",
     "output_type": "stream",
     "text": [
      "Nemoware Analyser v23.4.14\n",
      "USING WORKDIR: [/root/artem/work]\n",
      " set ENV GPN_WORK_DIR to override\n",
      "datasets_dir: [/root/artem/work/datasets]\n",
      "reports_dir: [/root/artem/work/reports]\n"
     ]
    },
    {
     "name": "stderr",
     "output_type": "stream",
     "text": [
      "/root/artem/analyser/analyser/hyperparams.py:15: UserWarning: please set GPN_WORK_DIR environment variable\n",
      "  warnings.warn('please set GPN_WORK_DIR environment variable')\n"
     ]
    }
   ],
   "source": [
    "\n",
    "\n",
    "\n",
    "logger = logging.getLogger('eval_ipynb')\n",
    "logger.setLevel(logging.DEBUG)\n",
    "\n",
    "\n",
    "ch = logging.StreamHandler()\n",
    "ch.setLevel(logging.INFO)\n",
    "formatter = logging.Formatter('%(levelname)s - %(asctime)s - [%(filename)s:%(lineno)d] - %(name)s - %(message)s')\n",
    "ch.setFormatter(formatter)\n",
    "logger.addHandler(ch)\n",
    "logger.info('--=logging started=--')\n",
    "\n",
    "\n",
    "nb_dir = os.path.split(os.getcwd())[0]\n",
    "if nb_dir not in sys.path:\n",
    "  sys.path.append(nb_dir)\n",
    "\n",
    "import analyser.hyperparams"
   ]
  },
  {
   "cell_type": "code",
   "execution_count": 6,
   "metadata": {
    "colab": {},
    "colab_type": "code",
    "id": "jT7451NXspdw",
    "tags": []
   },
   "outputs": [
    {
     "name": "stdout",
     "output_type": "stream",
     "text": [
      "mlflow.active_run None\n"
     ]
    }
   ],
   "source": [
    "import mlflow\n",
    "print('mlflow.active_run', mlflow.active_run())"
   ]
  },
  {
   "cell_type": "code",
   "execution_count": 7,
   "metadata": {
    "tags": []
   },
   "outputs": [
    {
     "name": "stderr",
     "output_type": "stream",
     "text": [
      "/tmp/ipykernel_963484/2988255442.py:6: DeprecationWarning: The 'warn' method is deprecated, use 'warning' instead\n",
      "  logger.warn(f'set MLFLOW_URL env var to re-define; MLFLOW_URL={ml_flow_url}')\n",
      "WARNING - 2023-04-17 21:04:23,313 - [2988255442.py:6] - eval_ipynb - set MLFLOW_URL env var to re-define; MLFLOW_URL=http://192.168.10.38:5000\n"
     ]
    },
    {
     "name": "stdout",
     "output_type": "stream",
     "text": [
      "sub_mlflow_run <ActiveRun: >\n"
     ]
    }
   ],
   "source": [
    "sub_mlflow_run = None\n",
    "if mlflow.active_run() is None:\n",
    "\n",
    "    ml_flow_url = os.environ.get('MLFLOW_URL', \"http://192.168.10.38:5000\")\n",
    "    mlflow.set_tracking_uri(ml_flow_url)\n",
    "    logger.warn(f'set MLFLOW_URL env var to re-define; MLFLOW_URL={ml_flow_url}')\n",
    "\n",
    "    mlflow.set_experiment(\"Обучение анализатора\")\n",
    "    sub_mlflow_run = mlflow.start_run(nested=True)\n",
    " \n",
    "    print('sub_mlflow_run', sub_mlflow_run)\n",
    "    \n",
    "mlflow.set_tag(\"release.version\", analyser.__version__)\n",
    "mlflow.set_tag(\"USE_CONTROL_SET\", USE_CONTROL_SET)\n",
    "mlflow.set_tag(\"COLLECTION_NAME\", COLLECTION_NAME)\n"
   ]
  },
  {
   "cell_type": "markdown",
   "metadata": {
    "colab_type": "text",
    "id": "JbsxFAqC6pjQ"
   },
   "source": [
    "### Imports"
   ]
  },
  {
   "cell_type": "code",
   "execution_count": 8,
   "metadata": {
    "colab": {
     "base_uri": "https://localhost:8080/",
     "height": 87
    },
    "colab_type": "code",
    "id": "pexvDJbAtZM0",
    "outputId": "4f7e6e34-d675-423d-d102-1020d49d854f",
    "tags": []
   },
   "outputs": [
    {
     "name": "stderr",
     "output_type": "stream",
     "text": [
      "2023-04-17 21:04:23.743007: I tensorflow/stream_executor/platform/default/dso_loader.cc:53] Successfully opened dynamic library libcudart.so.11.0\n",
      "[documents.py:271 -             __init__() ] loading word cases stats model from: /root/artem/analyser/analyser/vocab/word_cases_stats.pickle\n",
      "[currencies.py:17 -             _env_var() ] Currency-service : define GPN_CURRENCY_USER environment variable! defaulting to None\n",
      "[currencies.py:17 -             _env_var() ] Currency-service : define GPN_CURRENCY_PASSWORD environment variable! defaulting to None\n",
      "[currencies.py:17 -             _env_var() ] Currency-service : define GPN_CURRENCY_URL environment variable! defaulting to None\n"
     ]
    },
    {
     "name": "stdout",
     "output_type": "stream",
     "text": [
      "HyperParameters.subsidiary_name_match_min_jaro_similarity 0.9649122807017544\n"
     ]
    },
    {
     "name": "stderr",
     "output_type": "stream",
     "text": [
      "[tools.py:28 -             __init__() ] model_checkpoint_path: /root/artem/analyser/analyser/vocab\n"
     ]
    },
    {
     "data": {
      "text/plain": [
       "['org-1-name',\n",
       " 'org-1-alias',\n",
       " 'org-1-type',\n",
       " 'org-2-name',\n",
       " 'org-2-alias',\n",
       " 'org-2-type']"
      ]
     },
     "execution_count": 8,
     "metadata": {},
     "output_type": "execute_result"
    }
   ],
   "source": [
    "%matplotlib inline\n",
    "\n",
    "from pathlib import Path\n",
    " \n",
    "import numpy as np\n",
    "import pandas as pd\n",
    "from pandas import DataFrame\n",
    "\n",
    "import json\n",
    "import re\n",
    "\n",
    "from bson import json_util\n",
    "from bson import ObjectId\n",
    "\n",
    "import traceback\n",
    "\n",
    "\n",
    "from sklearn.metrics import confusion_matrix\n",
    "from sklearn.metrics import classification_report\n",
    "import matplotlib.pyplot as plt\n",
    "\n",
    "from analyser.schemas import ContractPrice, merge_spans\n",
    "from analyser.finalizer import get_doc_by_id\n",
    "from analyser.documents import TextMap\n",
    "from analyser.ml_tools import SemanticTag\n",
    "from analyser.parsing import AuditContext\n",
    "from analyser.persistence import DbJsonDoc\n",
    "from analyser.legal_docs import find_value_sign\n",
    "from analyser.transaction_values import ValueSpansFinder\n",
    "from analyser.text_tools import to_float, span_len\n",
    "\n",
    "from analyser.contract_parser import nn_get_tag_values, nn_find_contract_value\n",
    "from analyser.contract_parser import nn_find_org_names, nn_get_subject, nn_get_contract_number, nn_get_contract_date\n",
    "from analyser.contract_parser import fix_contract_number\n",
    "\n",
    "from tf_support.tools import KerasTrainingContext\n",
    "from tf_support.tf_subject_model import decode_subj_prediction\n",
    "from tf_support.super_contract_model import make_xyw, semantic_map_keys_contract\n",
    "from tf_support.super_contract_model import validate_datapoint\n",
    "\n",
    "from integration.db import get_doc_by_id\n",
    "\n",
    "from trainsets.retrain_contract_uber_model import UberModelTrainsetManager\n",
    "\n",
    "from colab_support.renderer import plot_embedding, plot_cm\n",
    "from colab_support.renderer import HtmlRenderer\n",
    "\n",
    "from IPython.display import display, HTML, Markdown\n",
    "\n",
    "from tf_support.super_contract_model import t_semantic_map_keys_price, semantic_map_keys, t_semantic_map_keys_common, t_semantic_map_keys_org\n",
    "\n",
    "\n",
    "semantic_keys_numeric = ['amount', 'amount_brutto', 'amount_netto']\n",
    "org_keys=['name', 'alias', 'type']\n",
    "org_numbered_keys=[ f'org-1-{v}' for v in org_keys]\n",
    "org_numbered_keys+=[ f'org-2-{v}' for v in org_keys]\n",
    "org_numbered_keys"
   ]
  },
  {
   "cell_type": "code",
   "execution_count": 9,
   "metadata": {
    "tags": []
   },
   "outputs": [],
   "source": [
    "class DemoRenderer(HtmlRenderer):\n",
    "  def render_color_text(self, tokens, weights, colormap='coolwarm', print_debug=False, _range=None, separator=' '):\n",
    "    html = self.to_color_text(tokens, weights, colormap, print_debug, _range, separator=separator)\n",
    "    display(HTML(html))\n",
    "\n",
    "  def to_color_text(self, tokens, weights, colormap='coolwarm', print_debug=False, _range=None, separator=' '):\n",
    "    return super()._to_color_text(tokens, weights, matplotlib, colormap=colormap, _range=_range, separator=separator)\n",
    "\n",
    "renderer_ = DemoRenderer()"
   ]
  },
  {
   "cell_type": "markdown",
   "metadata": {
    "colab_type": "text",
    "id": "HRQOy7o0uyTv"
   },
   "source": [
    "# Prepare paths\n"
   ]
  },
  {
   "cell_type": "code",
   "execution_count": 10,
   "metadata": {
    "tags": []
   },
   "outputs": [
    {
     "name": "stdout",
     "output_type": "stream",
     "text": [
      "training_reports_path=PosixPath('/root/artem/analyser/training_reports')\n",
      "analyser.hyperparams.work_dir='/root/artem/work'\n",
      "work_dir=PosixPath('/root/artem/work')\n"
     ]
    }
   ],
   "source": [
    "\n",
    "\n",
    "work_dir = Path(analyser.hyperparams.work_dir)\n",
    "training_reports_path = Path(analyser.hyperparams.__file__).parent.parent / 'training_reports/'\n",
    "\n",
    "print(f'{training_reports_path=}')\n",
    "print(f'{analyser.hyperparams.work_dir=}')\n",
    "print(f'{work_dir=}')"
   ]
  },
  {
   "cell_type": "code",
   "execution_count": 11,
   "metadata": {
    "tags": []
   },
   "outputs": [
    {
     "data": {
      "text/plain": [
       "['amount',\n",
       " 'amount_brutto',\n",
       " 'amount_netto',\n",
       " 'vat',\n",
       " 'sign',\n",
       " 'currency',\n",
       " 'vat_unit']"
      ]
     },
     "execution_count": 11,
     "metadata": {},
     "output_type": "execute_result"
    }
   ],
   "source": [
    "t_semantic_map_keys_price"
   ]
  },
  {
   "cell_type": "markdown",
   "metadata": {},
   "source": [
    "# Loading control test set from DB"
   ]
  },
  {
   "cell_type": "code",
   "execution_count": 12,
   "metadata": {
    "tags": []
   },
   "outputs": [],
   "source": [
    "from integration.db import get_mongodb_connection\n",
    "from bson import ObjectId\n",
    "\n",
    "\n",
    "\n",
    "    \n",
    "def doc_as_table_row(jd:DbJsonDoc, df, col_suffix='_expected'):\n",
    "    _id = str(jd._id)\n",
    "    tree = jd.get_attributes_tree()\n",
    "    df.at[ _id, f'number{col_suffix}'] = jd.get_attribute_value('number')\n",
    "    df.at[ _id, f'date{col_suffix}']   = jd.get_attribute_value('date')\n",
    "    df.at[ _id, f'subject{col_suffix}']= jd.get_attribute_value('subject')\n",
    "    df.at[ _id, 'subject']= jd.get_attribute_value('subject')\n",
    "\n",
    "    orgs = tree.get('orgs', [])\n",
    "\n",
    "    if len(orgs)>0:\n",
    "        o1=orgs[0]\n",
    "    else:\n",
    "        o1={}\n",
    "\n",
    "    if len(orgs)>1:\n",
    "        o2=orgs[1]\n",
    "    else:\n",
    "        o2={}\n",
    "\n",
    "    for part in org_keys:\n",
    "        v1 = o1.get(part, {}).get('value', \"\").lower()\n",
    "        v2 = o2.get(part, {}).get('value', \"\").lower()\n",
    "        vv=sorted([v1,v2])\n",
    "        df.at[ _id, f'org-1-{part}{col_suffix}'] = vv[1]\n",
    "        df.at[ _id, f'org-2-{part}{col_suffix}'] = vv[0]\n",
    "\n",
    "\n",
    "    for v in t_semantic_map_keys_price[0:4]:\n",
    "        df.at[ _id, f'{v}{col_suffix}'] = -1\n",
    "    for v in t_semantic_map_keys_price[5:]:\n",
    "        df.at[ _id, f'{v}{col_suffix}'] = ''\n",
    "        \n",
    "    for v in t_semantic_map_keys_price:\n",
    "        df.at[ _id, f'{v}{col_suffix}'] =  tree.get('price', {}).get(v, {}).get('value')\n",
    "\n",
    "    df.at[ _id, f'analysis.version{col_suffix}'] = jd.analysis['version']\n",
    "    return jd\n",
    "\n",
    "\n",
    "\n",
    "def load_doc_as_table_row(documents_collection, _id, df, col_suffix='_expected'):\n",
    "    doc = documents_collection.find_one({'_id': ObjectId(_id)})  \n",
    "    if doc is None:\n",
    "        print (f'{_id} not found in db')\n",
    "        return\n",
    "\n",
    "    jd = DbJsonDoc(doc)\n",
    "    doc_as_table_row(jd, df, col_suffix)\n",
    "    return jd"
   ]
  },
  {
   "cell_type": "code",
   "execution_count": 13,
   "metadata": {
    "tags": []
   },
   "outputs": [
    {
     "name": "stderr",
     "output_type": "stream",
     "text": [
      "/root/artem/analyser/integration/db.py:14: UserWarning: MongoDB : define GPN_DB_NAME environment variable! defaulting to gpn\n",
      "  warnings.warn(msg)\n",
      "/root/artem/analyser/integration/db.py:14: UserWarning: MongoDB : define GPN_DB_PORT environment variable! defaulting to 27017\n",
      "  warnings.warn(msg)\n",
      "/root/artem/analyser/integration/db.py:14: UserWarning: MongoDB : define GPN_DB_USER environment variable! defaulting to None\n",
      "  warnings.warn(msg)\n",
      "/root/artem/analyser/integration/db.py:14: UserWarning: MongoDB : define GPN_DB_PASSWORD environment variable! defaulting to None\n",
      "  warnings.warn(msg)\n",
      "/root/artem/analyser/integration/db.py:14: UserWarning: MongoDB : define GPN_USE_MONGO_TLS environment variable! defaulting to False\n",
      "  warnings.warn(msg)\n",
      "/root/artem/analyser/integration/db.py:14: UserWarning: MongoDB : define GPN_DB_TLS_CA environment variable! defaulting to None\n",
      "  warnings.warn(msg)\n",
      "/root/artem/analyser/integration/db.py:14: UserWarning: MongoDB : define GPN_DB_TLS_KEY environment variable! defaulting to None\n",
      "  warnings.warn(msg)\n"
     ]
    },
    {
     "name": "stdout",
     "output_type": "stream",
     "text": [
      "DB HOST IS: 192.168.10.36\n"
     ]
    },
    {
     "data": {
      "text/markdown": [
       "#### 120 -- total test docs in documents_temp collection"
      ],
      "text/plain": [
       "<IPython.core.display.Markdown object>"
      ]
     },
     "metadata": {},
     "output_type": "display_data"
    }
   ],
   "source": [
    "\n",
    "\n",
    "db = get_mongodb_connection()\n",
    "documents_collection = db[COLLECTION_NAME]\n",
    "    \n",
    "    \n",
    " \n",
    "if USE_CONTROL_SET:    \n",
    "    query = {\n",
    "      '$and': [\n",
    "        {\"parse.documentType\":{ '$in': [\"AGREEMENT\", \"CONTRACT\", \"SUPPLEMENTARY_AGREEMENT\"] }  },      \n",
    "        { 'subset': 'CONTROL_TEST'}\n",
    "      ]\n",
    "    }    \n",
    "\n",
    "    res = documents_collection.find(filter=query, \n",
    "                                    projection={'_id': True, 'user.updateDate':True, 'state':True, 'parse.documentType':True}\n",
    "                                   ).limit(5000)\n",
    "\n",
    "\n",
    "    test_meta = DataFrame()\n",
    "\n",
    "    for i in res:\n",
    "        load_doc_as_table_row(documents_collection, str(i[\"_id\"]), test_meta)\n",
    "\n",
    "    test_meta['sample_weight'] = 1\n",
    "    test_meta['subject_weight'] = 1\n",
    "\n",
    "    # test_ids  = [i[\"_id\"] for i in res]\n",
    "    # print(len(test_ids))\n",
    "\n",
    "    _s = f\"#### {len(test_meta)} -- total test docs in {COLLECTION_NAME} collection\"\n",
    "    display(Markdown(_s))"
   ]
  },
  {
   "cell_type": "code",
   "execution_count": 14,
   "metadata": {
    "tags": []
   },
   "outputs": [
    {
     "name": "stdout",
     "output_type": "stream",
     "text": [
      "643831490fcb1a83bb18aef7 is ok\n",
      "643831490fcb1a83bb18aefb validating....\n",
      "643831490fcb1a83bb18aefb is ok\n",
      "643831490fcb1a83bb18aeff validating....\n",
      "643831490fcb1a83bb18aeff is ok\n",
      "643831490fcb1a83bb18af01 validating....\n",
      "643831490fcb1a83bb18af01 is ok\n",
      "643831490fcb1a83bb18af02 validating....\n",
      "643831490fcb1a83bb18af02 is ok\n",
      "643831490fcb1a83bb18af06 validating....\n",
      "643831490fcb1a83bb18af06 is ok\n",
      "643831490fcb1a83bb18af07 validating....\n",
      "643831490fcb1a83bb18af07 is ok\n",
      "643831490fcb1a83bb18af0a validating....\n",
      "643831490fcb1a83bb18af0a is ok\n",
      "643831490fcb1a83bb18af0b validating....\n",
      "643831490fcb1a83bb18af0b is ok\n",
      "643831490fcb1a83bb18af0e validating....\n",
      "643831490fcb1a83bb18af0e is ok\n"
     ]
    }
   ],
   "source": [
    "from retrain_contract_uber_model import save_contract_data_arrays\n",
    "from IPython.display import clear_output\n",
    "\n",
    "\n",
    "def recreate_data_point(_id:str, test_meta):\n",
    "    try:\n",
    "        doc = documents_collection.find_one({'_id': ObjectId(_id)})  \n",
    "        jd = DbJsonDoc(doc)\n",
    "        save_contract_data_arrays(jd)\n",
    "\n",
    "        test_meta.at[_id, 'valid'] = True\n",
    "        test_meta.at[_id, 'error'] = ''\n",
    "\n",
    "    except Exception as e:\n",
    "        # logger.error(e)\n",
    "        logger.exception(e)\n",
    "\n",
    "        test_meta.at[_id, 'valid'] = False\n",
    "        test_meta.at[_id, 'error'] = str(e)\n",
    "            \n",
    "            \n",
    "            \n",
    "if USE_CONTROL_SET:\n",
    "    test_meta['error']=''\n",
    "    test_meta['valid']=True\n",
    "\n",
    "    \n",
    "\n",
    "    for k, i in enumerate(test_meta.index):\n",
    "      print(i, 'validating....')\n",
    "      if k % 10 == 0:\n",
    "          clear_output(wait=True)\n",
    "\n",
    "      try:\n",
    "        validate_datapoint(str(i), test_meta)\n",
    "        print(i, 'is ok')\n",
    "      except Exception as e:\n",
    "        logger.error(e)\n",
    "        # logger.exceptoin(e)\n",
    "\n",
    "        test_meta.at[i, 'valid'] = False\n",
    "        test_meta.at[i, 'error'] = str(e)\n",
    "\n",
    "        recreate_data_point(str(i), test_meta)\n",
    "    "
   ]
  },
  {
   "cell_type": "markdown",
   "metadata": {},
   "source": [
    "# Loading data set meta"
   ]
  },
  {
   "cell_type": "code",
   "execution_count": 15,
   "metadata": {},
   "outputs": [],
   "source": [
    "if not USE_CONTROL_SET:\n",
    "\n",
    "    umtm = UberModelTrainsetManager (work_dir, training_reports_path)\n",
    "    umtm.load_contract_trainset_meta()\n",
    "    stats = umtm.stats\n",
    "    stats['sample_weight']  = -1.0 #TODO: describe why?\n",
    "    stats['subject_weight'] = -1.0\n",
    "\n",
    "    _s = f\"#### {len(stats)} -- total records in contract_trainset_meta\"\n",
    "    display(Markdown(_s))"
   ]
  },
  {
   "cell_type": "markdown",
   "metadata": {
    "colab_type": "text",
    "id": "IxEdSGOuq62R"
   },
   "source": [
    "## Validate data set "
   ]
  },
  {
   "cell_type": "code",
   "execution_count": 16,
   "metadata": {
    "tags": []
   },
   "outputs": [],
   "source": [
    "if not USE_CONTROL_SET:\n",
    "\n",
    "    # stats['valid'] = True\n",
    "    stats['error'] = ''\n",
    "\n",
    "    for i in stats.index:\n",
    "\n",
    "      try:\n",
    "        validate_datapoint(str(i), stats)\n",
    "\n",
    "      except Exception as e:\n",
    "        logger.error(e)\n",
    "\n",
    "        stats.at[i, 'valid'] = False\n",
    "        stats.at[i, 'error'] = str(e)\n",
    "         \n",
    "        recreate_data_point(str(i), stats)\n",
    "\n"
   ]
  },
  {
   "cell_type": "code",
   "execution_count": 17,
   "metadata": {
    "tags": []
   },
   "outputs": [],
   "source": [
    "if not USE_CONTROL_SET:\n",
    "    display(Markdown(f'####  {len(stats[stats.valid == False])} invalid records'))    \n",
    "    stats[stats.valid == False]['error']\n",
    "\n",
    "    stats_valid = stats[stats['valid']]\n",
    "    display(Markdown(f'####  {len(stats_valid)} valid records'))\n"
   ]
  },
  {
   "cell_type": "markdown",
   "metadata": {
    "tags": []
   },
   "source": [
    "## [Debug] Reading legacy docs from json"
   ]
  },
  {
   "cell_type": "code",
   "execution_count": 18,
   "metadata": {},
   "outputs": [],
   "source": [
    "fn = work_dir / 'documents.json'\n",
    "legacy_json_exists = fn.is_file()\n",
    "\n",
    "if DEBUG and legacy_json_exists:\n",
    "\n",
    "    with open(fn) as file:\n",
    "        file_data = json.load(file, object_hook=json_util.object_hook)    \n",
    "        display(Markdown(f'#### {len(file_data)} total docs in {fn}'))  \n",
    "    "
   ]
  },
  {
   "cell_type": "markdown",
   "metadata": {
    "tags": []
   },
   "source": [
    "### [Debug] Validating legacy data set"
   ]
  },
  {
   "cell_type": "code",
   "execution_count": 19,
   "metadata": {
    "tags": []
   },
   "outputs": [],
   "source": [
    "json_file_meta = DataFrame()\n",
    "json_file_meta['sample_weight']=1\n",
    "json_file_meta['subject_weight']=1\n",
    "\n",
    "if DEBUG and legacy_json_exists:\n",
    "\n",
    "    docs = {}\n",
    "    errors = 0\n",
    "\n",
    "    for fd in file_data:\n",
    "        try:\n",
    "          # validate_datapoint(str(fd['_id']), json_file_meta)\n",
    "          jd = DbJsonDoc(fd)\n",
    "          docs [fd['_id']] =  jd\n",
    "          doc_as_table_row(jd, json_file_meta, col_suffix='' )\n",
    "        \n",
    "        except NameError as e:\n",
    "            raise e\n",
    "            \n",
    "        except KeyError as e:\n",
    "          errors += 1\n",
    "          logger.error(f'No key in json_file_meta: {str(e)}')\n",
    "            \n",
    "        except Exception as e:\n",
    "          errors += 1\n",
    "\n",
    "          logger.error(f'{type(e)}, {str(e)}')\n",
    "          traceback.print_exc()\n",
    "\n",
    "    display(Markdown(f'#### {errors} invalid docs in in {fn}')) \n",
    "    display(Markdown(f'#### {len( list( docs.values() )  )} valid docs in {fn}'))"
   ]
  },
  {
   "cell_type": "markdown",
   "metadata": {
    "tags": []
   },
   "source": [
    "## [Debug] Get sample doc"
   ]
  },
  {
   "cell_type": "code",
   "execution_count": 20,
   "metadata": {},
   "outputs": [],
   "source": [
    "if DEBUG and legacy_json_exists:\n",
    "    a_doc_from_json = list(docs.values())[1]\n",
    "    print(a_doc_from_json.get_tokens_map_unchaged().text[:230])\n",
    "    \n",
    "    a_doc_from_json.get_attributes_tree()"
   ]
  },
  {
   "cell_type": "code",
   "execution_count": 21,
   "metadata": {
    "colab": {
     "base_uri": "https://localhost:8080/",
     "height": 1000
    },
    "colab_type": "code",
    "id": "_kJ0L2RnrHl3",
    "outputId": "4863cd27-1459-458a-951d-b054235ffaea",
    "tags": []
   },
   "outputs": [],
   "source": [
    "%matplotlib inline\n",
    "\n",
    "\n",
    "\n",
    "if DEBUG and legacy_json_exists:\n",
    "    SAMPLE_DOC_ID = str(a_doc_from_json.get_id()) # stats_valid.index[0]\n",
    "\n",
    "    print(f'{SAMPLE_DOC_ID=}')\n",
    "\n",
    "    (emb, tok_f), (sm, subj), (sample_weight, subject_weight) = make_xyw(SAMPLE_DOC_ID, json_file_meta)\n",
    "\n",
    "\n",
    "    print(f'semantic map shape {sm.shape=}')\n",
    "    _crop = 700\n",
    "    plot_embedding(tok_f[:_crop], title=f'Tokens features {SAMPLE_DOC_ID}') \n",
    "    plot_embedding(emb[:_crop], title=f'Embedding {SAMPLE_DOC_ID}') \n",
    "    plot_embedding(sm[:_crop], title=f'Semantic map {SAMPLE_DOC_ID}')"
   ]
  },
  {
   "cell_type": "markdown",
   "metadata": {
    "colab_type": "text",
    "id": "gAFmo0sG4H9k"
   },
   "source": [
    "# Init Model 🦖"
   ]
  },
  {
   "cell_type": "code",
   "execution_count": 22,
   "metadata": {},
   "outputs": [
    {
     "name": "stdout",
     "output_type": "stream",
     "text": [
      "TEST_FLOW=False\n"
     ]
    }
   ],
   "source": [
    "if 'TEST_FLOW' not in globals():\n",
    "    TEST_FLOW = False\n",
    "print(f'{TEST_FLOW=}')"
   ]
  },
  {
   "cell_type": "code",
   "execution_count": 23,
   "metadata": {},
   "outputs": [
    {
     "name": "stdout",
     "output_type": "stream",
     "text": [
      "model_factory_fn=<function make_att_model_03 at 0x7f89f7146940>\n"
     ]
    }
   ],
   "source": [
    "\n",
    "if 'model_factory_fn' in globals():\n",
    "    print ('*'*80)\n",
    "    print('model_factory_fn defined by external process as', model_factory_fn.__name__)\n",
    "else:\n",
    "    from tf_support.super_contract_model import make_att_model\n",
    "    model_factory_fn = make_att_model\n",
    "\n",
    "print(f'{model_factory_fn=}')"
   ]
  },
  {
   "cell_type": "code",
   "execution_count": 24,
   "metadata": {
    "tags": []
   },
   "outputs": [
    {
     "name": "stderr",
     "output_type": "stream",
     "text": [
      "[tools.py:28 -             __init__() ] model_checkpoint_path: /root/artem/work\n",
      "/tmp/ipykernel_963484/12767845.py:13: DeprecationWarning: The 'warn' method is deprecated, use 'warning' instead\n",
      "  logger.warn (f'LOADING: {model_factory_fn} -- {weights}')\n",
      "WARNING - 2023-04-17 21:04:31,638 - [12767845.py:13] - eval_ipynb - LOADING: <function make_att_model_03 at 0x7f89f7146940> -- /root/artem/analyser/training_reports/make_att_model_03.h5\n",
      "2023-04-17 21:04:31.642560: I tensorflow/stream_executor/platform/default/dso_loader.cc:53] Successfully opened dynamic library libcuda.so.1\n",
      "2023-04-17 21:04:32.139746: I tensorflow/stream_executor/cuda/cuda_gpu_executor.cc:937] successful NUMA node read from SysFS had negative value (-1), but there must be at least one NUMA node, so returning NUMA node zero\n",
      "2023-04-17 21:04:32.140398: I tensorflow/core/common_runtime/gpu/gpu_device.cc:1733] Found device 0 with properties: \n",
      "pciBusID: 0000:01:00.0 name: A100-PCIE-40GB computeCapability: 8.0\n",
      "coreClock: 1.41GHz coreCount: 108 deviceMemorySize: 39.59GiB deviceMemoryBandwidth: 1.41TiB/s\n",
      "2023-04-17 21:04:32.140419: I tensorflow/stream_executor/platform/default/dso_loader.cc:53] Successfully opened dynamic library libcudart.so.11.0\n",
      "2023-04-17 21:04:32.140451: I tensorflow/stream_executor/platform/default/dso_loader.cc:53] Successfully opened dynamic library libcublas.so.11\n",
      "2023-04-17 21:04:32.140468: I tensorflow/stream_executor/platform/default/dso_loader.cc:53] Successfully opened dynamic library libcublasLt.so.11\n",
      "2023-04-17 21:04:32.140956: I tensorflow/stream_executor/platform/default/dso_loader.cc:53] Successfully opened dynamic library libcufft.so.10\n",
      "2023-04-17 21:04:32.141102: I tensorflow/stream_executor/platform/default/dso_loader.cc:53] Successfully opened dynamic library libcurand.so.10\n",
      "2023-04-17 21:04:32.141520: I tensorflow/stream_executor/platform/default/dso_loader.cc:53] Successfully opened dynamic library libcusolver.so.11\n",
      "2023-04-17 21:04:32.141899: I tensorflow/stream_executor/platform/default/dso_loader.cc:53] Successfully opened dynamic library libcusparse.so.11\n",
      "2023-04-17 21:04:32.141926: I tensorflow/stream_executor/platform/default/dso_loader.cc:53] Successfully opened dynamic library libcudnn.so.8\n",
      "2023-04-17 21:04:32.141967: I tensorflow/stream_executor/cuda/cuda_gpu_executor.cc:937] successful NUMA node read from SysFS had negative value (-1), but there must be at least one NUMA node, so returning NUMA node zero\n",
      "2023-04-17 21:04:32.142617: I tensorflow/stream_executor/cuda/cuda_gpu_executor.cc:937] successful NUMA node read from SysFS had negative value (-1), but there must be at least one NUMA node, so returning NUMA node zero\n",
      "2023-04-17 21:04:32.143234: I tensorflow/core/common_runtime/gpu/gpu_device.cc:1871] Adding visible gpu devices: 0\n",
      "2023-04-17 21:04:32.143651: I tensorflow/core/platform/cpu_feature_guard.cc:142] This TensorFlow binary is optimized with oneAPI Deep Neural Network Library (oneDNN) to use the following CPU instructions in performance-critical operations:  AVX2 FMA\n",
      "To enable them in other operations, rebuild TensorFlow with the appropriate compiler flags.\n",
      "2023-04-17 21:04:32.144219: I tensorflow/stream_executor/cuda/cuda_gpu_executor.cc:937] successful NUMA node read from SysFS had negative value (-1), but there must be at least one NUMA node, so returning NUMA node zero\n",
      "2023-04-17 21:04:32.144868: I tensorflow/core/common_runtime/gpu/gpu_device.cc:1733] Found device 0 with properties: \n",
      "pciBusID: 0000:01:00.0 name: A100-PCIE-40GB computeCapability: 8.0\n",
      "coreClock: 1.41GHz coreCount: 108 deviceMemorySize: 39.59GiB deviceMemoryBandwidth: 1.41TiB/s\n",
      "2023-04-17 21:04:32.144906: I tensorflow/stream_executor/cuda/cuda_gpu_executor.cc:937] successful NUMA node read from SysFS had negative value (-1), but there must be at least one NUMA node, so returning NUMA node zero\n",
      "2023-04-17 21:04:32.145544: I tensorflow/stream_executor/cuda/cuda_gpu_executor.cc:937] successful NUMA node read from SysFS had negative value (-1), but there must be at least one NUMA node, so returning NUMA node zero\n",
      "2023-04-17 21:04:32.146199: I tensorflow/core/common_runtime/gpu/gpu_device.cc:1871] Adding visible gpu devices: 0\n",
      "2023-04-17 21:04:32.146221: I tensorflow/stream_executor/platform/default/dso_loader.cc:53] Successfully opened dynamic library libcudart.so.11.0\n",
      "2023-04-17 21:04:32.425174: I tensorflow/core/common_runtime/gpu/gpu_device.cc:1258] Device interconnect StreamExecutor with strength 1 edge matrix:\n",
      "2023-04-17 21:04:32.425192: I tensorflow/core/common_runtime/gpu/gpu_device.cc:1264]      0 \n",
      "2023-04-17 21:04:32.425197: I tensorflow/core/common_runtime/gpu/gpu_device.cc:1277] 0:   N \n",
      "2023-04-17 21:04:32.425330: I tensorflow/stream_executor/cuda/cuda_gpu_executor.cc:937] successful NUMA node read from SysFS had negative value (-1), but there must be at least one NUMA node, so returning NUMA node zero\n",
      "2023-04-17 21:04:32.426062: I tensorflow/stream_executor/cuda/cuda_gpu_executor.cc:937] successful NUMA node read from SysFS had negative value (-1), but there must be at least one NUMA node, so returning NUMA node zero\n",
      "2023-04-17 21:04:32.426708: I tensorflow/stream_executor/cuda/cuda_gpu_executor.cc:937] successful NUMA node read from SysFS had negative value (-1), but there must be at least one NUMA node, so returning NUMA node zero\n",
      "2023-04-17 21:04:32.427333: I tensorflow/core/common_runtime/gpu/gpu_device.cc:1418] Created TensorFlow device (/job:localhost/replica:0/task:0/device:GPU:0 with 38424 MB memory) -> physical GPU (device: 0, name: A100-PCIE-40GB, pci bus id: 0000:01:00.0, compute capability: 8.0)\n",
      "[tools.py:120 -           init_model() ] weights loaded: /root/artem/analyser/training_reports/make_att_model_03.h5\n"
     ]
    },
    {
     "name": "stdout",
     "output_type": "stream",
     "text": [
      "Model: \"make_att_model_03\"\n",
      "__________________________________________________________________________________________________\n",
      "Layer (type)                    Output Shape         Param #     Connected to                     \n",
      "==================================================================================================\n",
      "input_text_emb (InputLayer)     [(None, None, 1024)] 0                                            \n",
      "__________________________________________________________________________________________________\n",
      "token_features (InputLayer)     [(None, None, 15)]   0                                            \n",
      "__________________________________________________________________________________________________\n",
      "input_text_emb_norm (LayerNorma (None, None, 1024)   2048        input_text_emb[0][0]             \n",
      "__________________________________________________________________________________________________\n",
      "token_features_norm (LayerNorma (None, None, 15)     30          token_features[0][0]             \n",
      "__________________________________________________________________________________________________\n",
      "rmb_plus_tokens (Concatenate)   (None, None, 1039)   0           input_text_emb_norm[0][0]        \n",
      "                                                                 token_features_norm[0][0]        \n",
      "__________________________________________________________________________________________________\n",
      "embedding_reduced (Bidirectiona (None, None, 256)    1196032     rmb_plus_tokens[0][0]            \n",
      "__________________________________________________________________________________________________\n",
      "amnesia (Dropout)               (None, None, 256)    0           embedding_reduced[0][0]          \n",
      "__________________________________________________________________________________________________\n",
      "bn1 (BatchNormalization)        (None, None, 256)    1024        amnesia[0][0]                    \n",
      "__________________________________________________________________________________________________\n",
      "encoder_0/multiheadattention (M (None, None, 256)    263168      bn1[0][0]                        \n",
      "                                                                 bn1[0][0]                        \n",
      "                                                                 bn1[0][0]                        \n",
      "__________________________________________________________________________________________________\n",
      "encoder_0/att_dropout (Dropout) (None, None, 256)    0           encoder_0/multiheadattention[0][0\n",
      "__________________________________________________________________________________________________\n",
      "tf.__operators__.add (TFOpLambd (None, None, 256)    0           bn1[0][0]                        \n",
      "                                                                 encoder_0/att_dropout[0][0]      \n",
      "__________________________________________________________________________________________________\n",
      "encoder_0/att_layernormalizatio (None, None, 256)    512         tf.__operators__.add[0][0]       \n",
      "__________________________________________________________________________________________________\n",
      "encoder_0/ffn (Sequential)      (None, None, 256)    65920       encoder_0/att_layernormalization[\n",
      "__________________________________________________________________________________________________\n",
      "encoder_0/ffn_dropout (Dropout) (None, None, 256)    0           encoder_0/ffn[0][0]              \n",
      "__________________________________________________________________________________________________\n",
      "tf.__operators__.add_1 (TFOpLam (None, None, 256)    0           encoder_0/att_layernormalization[\n",
      "                                                                 encoder_0/ffn_dropout[0][0]      \n",
      "__________________________________________________________________________________________________\n",
      "encoder_0/ffn_layernormalizatio (None, None, 256)    512         tf.__operators__.add_1[0][0]     \n",
      "__________________________________________________________________________________________________\n",
      "encoder_1/multiheadattention (M (None, None, 256)    263168      encoder_0/ffn_layernormalization[\n",
      "                                                                 encoder_0/ffn_layernormalization[\n",
      "                                                                 encoder_0/ffn_layernormalization[\n",
      "__________________________________________________________________________________________________\n",
      "encoder_1/att_dropout (Dropout) (None, None, 256)    0           encoder_1/multiheadattention[0][0\n",
      "__________________________________________________________________________________________________\n",
      "tf.__operators__.add_2 (TFOpLam (None, None, 256)    0           encoder_0/ffn_layernormalization[\n",
      "                                                                 encoder_1/att_dropout[0][0]      \n",
      "__________________________________________________________________________________________________\n",
      "encoder_1/att_layernormalizatio (None, None, 256)    512         tf.__operators__.add_2[0][0]     \n",
      "__________________________________________________________________________________________________\n",
      "encoder_1/ffn (Sequential)      (None, None, 256)    65920       encoder_1/att_layernormalization[\n",
      "__________________________________________________________________________________________________\n",
      "encoder_1/ffn_dropout (Dropout) (None, None, 256)    0           encoder_1/ffn[0][0]              \n",
      "__________________________________________________________________________________________________\n",
      "tf.__operators__.add_3 (TFOpLam (None, None, 256)    0           encoder_1/att_layernormalization[\n",
      "                                                                 encoder_1/ffn_dropout[0][0]      \n",
      "__________________________________________________________________________________________________\n",
      "encoder_1/ffn_layernormalizatio (None, None, 256)    512         tf.__operators__.add_3[0][0]     \n",
      "__________________________________________________________________________________________________\n",
      "bn2 (BatchNormalization)        (None, None, 256)    1024        encoder_1/ffn_layernormalization[\n",
      "__________________________________________________________________________________________________\n",
      "O1_tagging_tanh (LSTM)          (None, None, 30)     34440       bn2[0][0]                        \n",
      "__________________________________________________________________________________________________\n",
      "some (Bidirectional)            (None, 32)           34944       bn2[0][0]                        \n",
      "__________________________________________________________________________________________________\n",
      "O1_tagging (ThresholdLayer)     (None, None, 30)     1           O1_tagging_tanh[0][0]            \n",
      "__________________________________________________________________________________________________\n",
      "O2_subject (Dense)              (None, 43)           1419        some[0][0]                       \n",
      "==================================================================================================\n",
      "Total params: 1,931,186\n",
      "Trainable params: 0\n",
      "Non-trainable params: 1,931,186\n",
      "__________________________________________________________________________________________________\n"
     ]
    }
   ],
   "source": [
    "\n",
    "ctx = KerasTrainingContext(work_dir, session_index=21)\n",
    "ctx.EVALUATE_ONLY = True\n",
    " \n",
    "    \n",
    "if 'umodel' in globals() and umodel is not None:\n",
    "    print ('*'*80)\n",
    "    print('umodel defined as', umodel.name)\n",
    "else:\n",
    " \n",
    "    weights = training_reports_path / f'{model_factory_fn.__name__}.h5'\n",
    "    mlflow.log_param('weights', str(weights))\n",
    "    \n",
    "    logger.warn (f'LOADING: {model_factory_fn} -- {weights}')\n",
    "    \n",
    "    \n",
    "    umodel = ctx.init_model(model_factory_fn, trained=True, trainable=True, weights=weights)\n",
    "    mlflow.log_param('model_name', str(umodel.name))\n",
    "    mlflow.log_param('model_params', umodel.count_params())\n",
    "    \n",
    "    \n",
    "umodel.trainable = False\n",
    "umodel.summary()"
   ]
  },
  {
   "cell_type": "markdown",
   "metadata": {
    "colab_type": "text",
    "id": "JUum89Tdhg-9",
    "tags": []
   },
   "source": [
    "# [Debug] Check model on a sigle doc"
   ]
  },
  {
   "cell_type": "markdown",
   "metadata": {},
   "source": [
    "## [Debug] Evaluate single doc "
   ]
  },
  {
   "cell_type": "code",
   "execution_count": 25,
   "metadata": {
    "tags": []
   },
   "outputs": [],
   "source": [
    "# sample_index = umtm.stats [umtm.stats['value']>0].index[2]\n",
    "\n",
    "if DEBUG and legacy_json_exists:\n",
    "    print(f'{SAMPLE_DOC_ID=}')\n",
    "    prediction = umodel.predict(x=[np.expand_dims(emb, axis=0), np.expand_dims(tok_f, axis=0)], batch_size=1)\n",
    "\n",
    "\n",
    "    tagsmap = pd.DataFrame(prediction[0][0], columns=semantic_map_keys_contract)\n",
    "    tagsmap_e = pd.DataFrame(sm, columns=semantic_map_keys_contract)\n",
    "    delta = tagsmap - tagsmap_e \n",
    "    # .T\n",
    "    plot_embedding(tagsmap[:_crop], f'Predicted Semantic Map {tagsmap.shape}')\n",
    "    plot_embedding(delta[:_crop], title=f'DELTA Semantic map {tagsmap_e.shape}')\n",
    "    plot_embedding(tagsmap_e[:_crop], title=f'EXPECTED Semantic map {tagsmap_e.shape}')"
   ]
  },
  {
   "cell_type": "code",
   "execution_count": 26,
   "metadata": {
    "tags": []
   },
   "outputs": [],
   "source": [
    "if DEBUG and legacy_json_exists:\n",
    "    print(\"mean delta\", delta.abs().sum().sum() / tagsmap_e.sum().sum())\n",
    "    print(\"sum of delatas\", delta.abs().sum().sum())"
   ]
  },
  {
   "cell_type": "code",
   "execution_count": 27,
   "metadata": {
    "tags": []
   },
   "outputs": [],
   "source": [
    "import matplotlib\n",
    "if DEBUG and legacy_json_exists:\n",
    "    av = tagsmap.max(axis=1) #tagsmap['amount-begin'] + tagsmap['vat-begin'] + tagsmap['number-begin'] + tagsmap['org-name-begin']\n",
    "\n",
    "    # av = tagsmap.sum(axis=1)\n",
    "    renderer_.render_color_text(a_doc_from_json.get_tokens_map_unchaged().tokens[:600], av[:600])"
   ]
  },
  {
   "cell_type": "markdown",
   "metadata": {},
   "source": [
    "### [Debug mode only] Getting tag values from inferred semantic map"
   ]
  },
  {
   "cell_type": "code",
   "execution_count": 28,
   "metadata": {},
   "outputs": [],
   "source": [
    "ac = AuditContext()"
   ]
  },
  {
   "cell_type": "markdown",
   "metadata": {},
   "source": [
    "#### Orgs"
   ]
  },
  {
   "cell_type": "code",
   "execution_count": 29,
   "metadata": {
    "tags": []
   },
   "outputs": [],
   "source": [
    "if DEBUG and legacy_json_exists:\n",
    "    cas = nn_find_org_names(a_doc_from_json.get_tokens_map_unchaged(), tagsmap, ac)\n",
    "    if cas:\n",
    "        if len(cas)>0:\n",
    "\n",
    "            print(cas[0].name)\n",
    "            print(cas[0].type)\n",
    "            print(cas[0].alias)\n",
    "        if len(cas)>1:\n",
    "            print()\n",
    "            print(cas[1].name)\n",
    "            print(cas[1].type)\n",
    "            print(cas[1].alias)"
   ]
  },
  {
   "cell_type": "markdown",
   "metadata": {},
   "source": [
    "#### Date/number"
   ]
  },
  {
   "cell_type": "code",
   "execution_count": 30,
   "metadata": {
    "tags": []
   },
   "outputs": [],
   "source": [
    "if DEBUG and legacy_json_exists:\n",
    "    date_tag = nn_get_contract_date     (a_doc_from_json.get_tokens_map_unchaged(), tagsmap) \n",
    "    number_tag = nn_get_contract_number (a_doc_from_json.get_tokens_map_unchaged(), tagsmap)\n",
    "    if date_tag:\n",
    "        print( f'{date_tag.value=}')\n",
    "    if number_tag:\n",
    "        print( f'{number_tag.value=}' )\n",
    "    \n",
    " \n",
    "    attention = tagsmap['date' + '-begin'].values.copy()\n",
    "\n",
    "    threshold = max(attention.max() * 0.8, 0.1)\n",
    "    print(f'{attention.max()=}')"
   ]
  },
  {
   "cell_type": "markdown",
   "metadata": {},
   "source": [
    "#### Amount"
   ]
  },
  {
   "cell_type": "code",
   "execution_count": 31,
   "metadata": {
    "tags": []
   },
   "outputs": [],
   "source": [
    "if DEBUG and legacy_json_exists:\n",
    "    textmap = a_doc_from_json.get_tokens_map_unchaged()"
   ]
  },
  {
   "cell_type": "code",
   "execution_count": 32,
   "metadata": {
    "tags": []
   },
   "outputs": [],
   "source": [
    "if DEBUG and legacy_json_exists:\n",
    "    #---\n",
    "    cps = nn_find_contract_value(textmap, tagsmap)\n",
    "    if cps:\n",
    "      print(str(cps[0].get_span()))\n",
    "      for k in cps[0].list_children():\n",
    "        print(str(k))\n",
    "\n",
    "      print()\n",
    "      print()\n",
    "\n",
    "      print('brutto', str(cps[0].amount_brutto))\n",
    "      print('netto', str(cps[0].amount_netto))\n",
    "      print('amount', str(cps[0].amount))\n",
    "      print('vat', str(cps[0].vat))\n",
    "    else:\n",
    "      print('nothing found')"
   ]
  },
  {
   "cell_type": "markdown",
   "metadata": {},
   "source": [
    "#### Miscl."
   ]
  },
  {
   "cell_type": "code",
   "execution_count": 33,
   "metadata": {
    "tags": []
   },
   "outputs": [],
   "source": [
    "if DEBUG and legacy_json_exists:\n",
    "    thresholds = dict(tagsmap.max()*.8)\n",
    "    thresholds"
   ]
  },
  {
   "cell_type": "markdown",
   "metadata": {},
   "source": [
    "#### Subj"
   ]
  },
  {
   "cell_type": "code",
   "execution_count": 34,
   "metadata": {
    "tags": []
   },
   "outputs": [],
   "source": [
    "if DEBUG and legacy_json_exists:\n",
    "    subject_tag = nn_get_tag_values('subject',  a_doc_from_json.get_tokens_map_unchaged(), tagsmap, max_tokens=200, threshold=0.02, limit=1, return_single=True)\n",
    "\n",
    "    print(subject_tag)"
   ]
  },
  {
   "cell_type": "markdown",
   "metadata": {},
   "source": [
    "# Reporting"
   ]
  },
  {
   "cell_type": "code",
   "execution_count": 35,
   "metadata": {},
   "outputs": [],
   "source": [
    "\n",
    "ev = None\n",
    "\n",
    "if not USE_CONTROL_SET:\n",
    "    ev =   umtm.stats.copy()\n",
    "else:\n",
    "    ev = test_meta.copy()\n",
    "    \n",
    "    \n",
    "tags =          pd.DataFrame()\n",
    "errors_report = pd.DataFrame()\n"
   ]
  },
  {
   "cell_type": "code",
   "execution_count": 36,
   "metadata": {},
   "outputs": [
    {
     "data": {
      "text/markdown": [
       "#### 120 (userdocs) in total for evaluation"
      ],
      "text/plain": [
       "<IPython.core.display.Markdown object>"
      ]
     },
     "metadata": {},
     "output_type": "display_data"
    }
   ],
   "source": [
    "if USE_CONTROL_SET:\n",
    "    userdocs = ev\n",
    "else:\n",
    "    userdocs = ev[ev.unseen==False]    \n",
    "    userdocs = userdocs[userdocs.source=='db']\n",
    "    userdocs = userdocs[userdocs.score < 50000]\n",
    "    \n",
    "userdocs = userdocs[userdocs['valid']==True]\n",
    "\n",
    "\n",
    "display(Markdown(f'#### {len(userdocs)} (userdocs) in total for evaluation'))   \n"
   ]
  },
  {
   "cell_type": "code",
   "execution_count": 37,
   "metadata": {},
   "outputs": [],
   "source": [
    "\n",
    "for v in semantic_map_keys:\n",
    "    for s in ['_expected', '_predicted']:\n",
    "        userdocs[f'{v}{s}'] = ''\n",
    "        userdocs[f'{v}{s}'] = userdocs[f'{v}{s}'].astype(str)\n",
    "        \n",
    "for v in semantic_keys_numeric:\n",
    "    for s in ['_expected', '_predicted']:\n",
    "        userdocs[f'{v}{s}'] = np.NaN\n",
    "        userdocs[f'{v}{s}'] = userdocs[f'{v}{s}'].astype(float)\n",
    "        \n"
   ]
  },
  {
   "cell_type": "code",
   "execution_count": 38,
   "metadata": {
    "tags": []
   },
   "outputs": [],
   "source": [
    "batch_size = 96\n",
    "maxlen = 128 * 12\n",
    "\n",
    "\n",
    "ac = AuditContext()\n",
    "\n",
    "def interpret_prediction(_id, tagsmap, df):\n",
    "    col_suffix=\"_predicted\"\n",
    "    \n",
    "    doc = load_doc_as_table_row(documents_collection, _id, df)\n",
    "    if doc is None: \n",
    "        return\n",
    "    \n",
    "    tokens = doc.get_tokens_map_unchaged()\n",
    "    \n",
    "    #---\n",
    "    # ORGS ------------------\n",
    "    orgs = nn_find_org_names(tokens, tagsmap, ac)\n",
    "    if len(orgs)>0:\n",
    "        o1 = orgs[0]\n",
    "    else:\n",
    "        o1={}\n",
    "        \n",
    "    if len(orgs)>1:\n",
    "        o2 = orgs[1]\n",
    "    else:\n",
    "        o2={}\n",
    "        \n",
    "    for part in ['name', 'alias', 'type']:\n",
    "        part_tag1 = getattr(o1, part, {})\n",
    "        part_tag2 = getattr(o2, part, {})\n",
    "        \n",
    "        v1 = getattr(part_tag1, 'value', '').lower()\n",
    "        v2 = getattr(part_tag2, 'value', '').lower()\n",
    "#         vv= [v1,v2]\n",
    "        vv=sorted([v1,v2])\n",
    "        df.at[ _id, f'org-1-{part}{col_suffix}'] = vv[1] \n",
    "        df.at[ _id, f'org-2-{part}{col_suffix}'] = vv[0] \n",
    " \n",
    "    # PRICE ------------------\n",
    "    cps = nn_find_contract_value(tokens, tagsmap)\n",
    "    if cps:\n",
    "        cps=cps[0]\n",
    "        for v in t_semantic_map_keys_price:\n",
    "            part = getattr(cps, v)\n",
    "            if part:\n",
    "                df.at[ _id, f'{v}{col_suffix}'] = part.value\n",
    "                 \n",
    " \n",
    "    # DATE NUMBER ------------------\n",
    "    number_tag = nn_get_contract_number(tokens, tagsmap)\n",
    "    date_tag =   nn_get_contract_date  (tokens, tagsmap) \n",
    "    \n",
    "        \n",
    "    if number_tag:\n",
    "        df.at[ _id, f'number{col_suffix}'] = str(number_tag.value)\n",
    "    else:\n",
    "        df.at[ _id, f'number{col_suffix}'] = ''\n",
    "        \n",
    "        \n",
    "    if date_tag:\n",
    "        df.at[ _id, f'date{col_suffix}'] = str(date_tag.value)\n",
    "    else:\n",
    "        df.at[ _id, f'date{col_suffix}'] = ''\n",
    " \n"
   ]
  },
  {
   "cell_type": "code",
   "execution_count": 39,
   "metadata": {
    "tags": []
   },
   "outputs": [
    {
     "name": "stdout",
     "output_type": "stream",
     "text": [
      "actual_batch_size=96\n"
     ]
    },
    {
     "name": "stderr",
     "output_type": "stream",
     "text": [
      "2023-04-17 21:04:34.439047: I tensorflow/compiler/mlir/mlir_graph_optimization_pass.cc:176] None of the MLIR Optimization Passes are enabled (registered 2)\n",
      "2023-04-17 21:04:34.457913: I tensorflow/core/platform/profile_utils/cpu_utils.cc:114] CPU Frequency: 3699850000 Hz\n",
      "2023-04-17 21:04:35.432963: I tensorflow/stream_executor/platform/default/dso_loader.cc:53] Successfully opened dynamic library libcudnn.so.8\n",
      "2023-04-17 21:04:36.061756: I tensorflow/stream_executor/cuda/cuda_dnn.cc:359] Loaded cuDNN version 8500\n",
      "2023-04-17 21:04:36.213572: I tensorflow/stream_executor/platform/default/dso_loader.cc:53] Successfully opened dynamic library libcublas.so.11\n",
      "2023-04-17 21:04:36.213829: I tensorflow/stream_executor/platform/default/dso_loader.cc:53] Successfully opened dynamic library libcublasLt.so.11\n",
      "2023-04-17 21:04:36.213849: I tensorflow/stream_executor/cuda/cuda_blas.cc:1838] TensorFloat-32 will be used for the matrix multiplication. This will only be logged once.\n",
      "[contract_parser.py:407 - nn_find_contract_value() ] smthinf wrong cp=<analyser.schemas.ContractPrice object at 0x7f89ca6bc160>\n",
      "Traceback (most recent call last):\n",
      "  File \"/root/artem/analyser/analyser/contract_parser.py\", line 388, in nn_find_contract_value\n",
      "    results = ValueSpansFinder(region)\n",
      "  File \"/root/artem/analyser/analyser/transaction_values.py\", line 144, in __init__\n",
      "    self.number_span, self.value, self.currency_span, self.currencly_name, self.including_vat, self.original_sum, self.vat = find_value_spans(\n",
      "TypeError: cannot unpack non-iterable NoneType object\n",
      "[contract_parser.py:408 - nn_find_contract_value() ] cannot unpack non-iterable NoneType object\n",
      "[contract_parser.py:407 - nn_find_contract_value() ] smthinf wrong cp=<analyser.schemas.ContractPrice object at 0x7f89ca6bc460>\n",
      "Traceback (most recent call last):\n",
      "  File \"/root/artem/analyser/analyser/contract_parser.py\", line 388, in nn_find_contract_value\n",
      "    results = ValueSpansFinder(region)\n",
      "  File \"/root/artem/analyser/analyser/transaction_values.py\", line 144, in __init__\n",
      "    self.number_span, self.value, self.currency_span, self.currencly_name, self.including_vat, self.original_sum, self.vat = find_value_spans(\n",
      "TypeError: cannot unpack non-iterable NoneType object\n",
      "[contract_parser.py:408 - nn_find_contract_value() ] cannot unpack non-iterable NoneType object\n",
      "[contract_parser.py:407 - nn_find_contract_value() ] smthinf wrong cp=<analyser.schemas.ContractPrice object at 0x7f89f405e9d0>\n",
      "Traceback (most recent call last):\n",
      "  File \"/root/artem/analyser/analyser/contract_parser.py\", line 388, in nn_find_contract_value\n",
      "    results = ValueSpansFinder(region)\n",
      "  File \"/root/artem/analyser/analyser/transaction_values.py\", line 144, in __init__\n",
      "    self.number_span, self.value, self.currency_span, self.currencly_name, self.including_vat, self.original_sum, self.vat = find_value_spans(\n",
      "TypeError: cannot unpack non-iterable NoneType object\n",
      "[contract_parser.py:408 - nn_find_contract_value() ] cannot unpack non-iterable NoneType object\n"
     ]
    },
    {
     "name": "stdout",
     "output_type": "stream",
     "text": [
      "actual_batch_size=24\n"
     ]
    },
    {
     "data": {
      "text/html": [
       "<div>\n",
       "<style scoped>\n",
       "    .dataframe tbody tr th:only-of-type {\n",
       "        vertical-align: middle;\n",
       "    }\n",
       "\n",
       "    .dataframe tbody tr th {\n",
       "        vertical-align: top;\n",
       "    }\n",
       "\n",
       "    .dataframe thead th {\n",
       "        text-align: right;\n",
       "    }\n",
       "</style>\n",
       "<table border=\"1\" class=\"dataframe\">\n",
       "  <thead>\n",
       "    <tr style=\"text-align: right;\">\n",
       "      <th></th>\n",
       "      <th>org-1-type_expected</th>\n",
       "      <th>org-1-type_predicted</th>\n",
       "      <th>org-1-name_expected</th>\n",
       "      <th>org-1-name_predicted</th>\n",
       "      <th>org-1-alias_expected</th>\n",
       "      <th>org-1-alias_predicted</th>\n",
       "      <th>org-2-type_expected</th>\n",
       "      <th>org-2-type_predicted</th>\n",
       "      <th>org-2-name_expected</th>\n",
       "      <th>org-2-name_predicted</th>\n",
       "      <th>org-2-alias_expected</th>\n",
       "      <th>org-2-alias_predicted</th>\n",
       "      <th>subject_expected</th>\n",
       "      <th>subject_predicted</th>\n",
       "      <th>date_expected</th>\n",
       "      <th>date_predicted</th>\n",
       "      <th>number_expected</th>\n",
       "      <th>number_predicted</th>\n",
       "    </tr>\n",
       "  </thead>\n",
       "  <tbody>\n",
       "    <tr>\n",
       "      <th>643831490fcb1a83bb18add8</th>\n",
       "      <td>открытое акционерное общество</td>\n",
       "      <td>открытое акционерное общество</td>\n",
       "      <td>ромашка</td>\n",
       "      <td>ромашка</td>\n",
       "      <td>продавец</td>\n",
       "      <td>продавец</td>\n",
       "      <td>общество с ограниченной ответственностью</td>\n",
       "      <td>общество с ограниченной ответственностью</td>\n",
       "      <td>гпн-инвест</td>\n",
       "      <td>гпн-инвест</td>\n",
       "      <td>покупатель</td>\n",
       "      <td>покупатель</td>\n",
       "      <td>SecuritiesTransactions</td>\n",
       "      <td>SecuritiesTransactions</td>\n",
       "      <td>2022-09-07 00:00:00</td>\n",
       "      <td>2022-09-07 00:00:00</td>\n",
       "      <td>None</td>\n",
       "      <td></td>\n",
       "    </tr>\n",
       "    <tr>\n",
       "      <th>643831490fcb1a83bb18add9</th>\n",
       "      <td>пао</td>\n",
       "      <td>публичное акционерное общество</td>\n",
       "      <td>ромашка</td>\n",
       "      <td>ромашка</td>\n",
       "      <td>продавец</td>\n",
       "      <td>продавец</td>\n",
       "      <td>оао</td>\n",
       "      <td>открытое акционерное общество</td>\n",
       "      <td>газпром нефть</td>\n",
       "      <td>газпром нефть</td>\n",
       "      <td>покупатель</td>\n",
       "      <td>покупатель</td>\n",
       "      <td>SecuritiesTransactions</td>\n",
       "      <td>SecuritiesTransactions</td>\n",
       "      <td>2022-09-07 00:00:00</td>\n",
       "      <td>2022-09-07 00:00:00</td>\n",
       "      <td>None</td>\n",
       "      <td></td>\n",
       "    </tr>\n",
       "    <tr>\n",
       "      <th>643831490fcb1a83bb18addb</th>\n",
       "      <td>публичное акционерное общество</td>\n",
       "      <td>публичное акционерное общество</td>\n",
       "      <td>газпромнефть-снабжение</td>\n",
       "      <td>газпромнефть-снабжение</td>\n",
       "      <td>продавец</td>\n",
       "      <td>продавец</td>\n",
       "      <td>общество с ограниченной ответственностью</td>\n",
       "      <td>общество с ограниченной ответственностью</td>\n",
       "      <td>альфа</td>\n",
       "      <td>альфа</td>\n",
       "      <td>покупатель</td>\n",
       "      <td>покупатель</td>\n",
       "      <td>SecuritiesTransactions</td>\n",
       "      <td>ParticipationInOtherOrganizations</td>\n",
       "      <td>None</td>\n",
       "      <td></td>\n",
       "      <td>None</td>\n",
       "      <td>Б 6972416</td>\n",
       "    </tr>\n",
       "    <tr>\n",
       "      <th>643831490fcb1a83bb18addc</th>\n",
       "      <td>публичное акционерное общество</td>\n",
       "      <td>публичное акционерное общество</td>\n",
       "      <td>газпромнефть-снабжение</td>\n",
       "      <td>газпромнефть-снабжение</td>\n",
       "      <td>продавец</td>\n",
       "      <td>продавец</td>\n",
       "      <td>общество с ограниченной ответственностью</td>\n",
       "      <td>общество с ограниченной ответственностью</td>\n",
       "      <td>альфа</td>\n",
       "      <td>альфа</td>\n",
       "      <td>покупатель</td>\n",
       "      <td>покупатель</td>\n",
       "      <td>SecuritiesTransactions</td>\n",
       "      <td>ParticipationInOtherOrganizations</td>\n",
       "      <td>None</td>\n",
       "      <td></td>\n",
       "      <td>None</td>\n",
       "      <td>Б 6972416</td>\n",
       "    </tr>\n",
       "    <tr>\n",
       "      <th>643831490fcb1a83bb18addd</th>\n",
       "      <td>публичное акционерное общество</td>\n",
       "      <td>публичное акционерное общество</td>\n",
       "      <td>йода</td>\n",
       "      <td>йода</td>\n",
       "      <td>продавец</td>\n",
       "      <td>продавец</td>\n",
       "      <td>общество с ограниченной ответственностью</td>\n",
       "      <td>общество с ограниченной ответственностью</td>\n",
       "      <td>газпромнефть-снабжение</td>\n",
       "      <td>газпромнефть-снабжение</td>\n",
       "      <td>покупатель</td>\n",
       "      <td>покупатель</td>\n",
       "      <td>ParticipationInOtherOrganizations</td>\n",
       "      <td>ParticipationInOtherOrganizations</td>\n",
       "      <td>None</td>\n",
       "      <td></td>\n",
       "      <td>None</td>\n",
       "      <td>Б 6972416</td>\n",
       "    </tr>\n",
       "    <tr>\n",
       "      <th>643831490fcb1a83bb18ade3</th>\n",
       "      <td>общество с ограниченной ответственностью</td>\n",
       "      <td>общество с ограниченной ответственностью</td>\n",
       "      <td>центр</td>\n",
       "      <td>центр</td>\n",
       "      <td>подрядчик</td>\n",
       "      <td>подрядчик</td>\n",
       "      <td>общество с ограниченной ответственностью</td>\n",
       "      <td>общество с ограниченной ответственностью</td>\n",
       "      <td>звездочка</td>\n",
       "      <td>звездочка</td>\n",
       "      <td>заказчик</td>\n",
       "      <td>заказчик</td>\n",
       "      <td>GeneralContract</td>\n",
       "      <td>GeneralContract</td>\n",
       "      <td>2021-04-06 00:00:00</td>\n",
       "      <td>2021-04-06 00:00:00</td>\n",
       "      <td>None</td>\n",
       "      <td></td>\n",
       "    </tr>\n",
       "    <tr>\n",
       "      <th>643831490fcb1a83bb18ade5</th>\n",
       "      <td>общество с ограниченной ответственностью</td>\n",
       "      <td>общество с ограниченной ответственностью</td>\n",
       "      <td>кен</td>\n",
       "      <td>кен</td>\n",
       "      <td>подрядчик</td>\n",
       "      <td>подрядчик</td>\n",
       "      <td>общество с ограниченной ответственностью</td>\n",
       "      <td>общество с ограниченной ответственностью</td>\n",
       "      <td>барби</td>\n",
       "      <td>барби</td>\n",
       "      <td>заказчик</td>\n",
       "      <td>заказчик</td>\n",
       "      <td>GeneralContract</td>\n",
       "      <td>GeneralContract</td>\n",
       "      <td>2021-10-21 00:00:00</td>\n",
       "      <td>2021-10-21 00:00:00</td>\n",
       "      <td>None</td>\n",
       "      <td></td>\n",
       "    </tr>\n",
       "    <tr>\n",
       "      <th>643831490fcb1a83bb18ade7</th>\n",
       "      <td>общество с ограниченной ответственностью</td>\n",
       "      <td>общество с ограниченной ответственностью</td>\n",
       "      <td>гпн-аэро</td>\n",
       "      <td>гпн-аэро</td>\n",
       "      <td>подрядчик</td>\n",
       "      <td>подрядчик</td>\n",
       "      <td>ип</td>\n",
       "      <td>индивидуальный предприниматель</td>\n",
       "      <td></td>\n",
       "      <td></td>\n",
       "      <td>заказчик</td>\n",
       "      <td>заказчик</td>\n",
       "      <td>GeneralContract</td>\n",
       "      <td>GeneralContract</td>\n",
       "      <td>2021-10-25 00:00:00</td>\n",
       "      <td>2021-10-25 00:00:00</td>\n",
       "      <td>None</td>\n",
       "      <td>На</td>\n",
       "    </tr>\n",
       "    <tr>\n",
       "      <th>643831490fcb1a83bb18ade8</th>\n",
       "      <td>публичное акционерное общество</td>\n",
       "      <td>публичное акционерное общество</td>\n",
       "      <td>газпром нефть</td>\n",
       "      <td>газпром нефть</td>\n",
       "      <td>кредитор</td>\n",
       "      <td>кредитор</td>\n",
       "      <td>ооо</td>\n",
       "      <td>общество с ограниченной ответственностью</td>\n",
       "      <td>бегония</td>\n",
       "      <td>бегония</td>\n",
       "      <td>заемщик</td>\n",
       "      <td>заемщик</td>\n",
       "      <td>Loans</td>\n",
       "      <td>Loans</td>\n",
       "      <td>None</td>\n",
       "      <td></td>\n",
       "      <td>None</td>\n",
       "      <td></td>\n",
       "    </tr>\n",
       "    <tr>\n",
       "      <th>643831490fcb1a83bb18ade9</th>\n",
       "      <td>открытое акционерное общество</td>\n",
       "      <td>открытое акционерное общество</td>\n",
       "      <td>гибискус</td>\n",
       "      <td>гибискус</td>\n",
       "      <td>кредитор</td>\n",
       "      <td>кредитор</td>\n",
       "      <td>общество с ограниченной ответственностью</td>\n",
       "      <td>общество с ограниченной ответственностью</td>\n",
       "      <td>газпром нефть</td>\n",
       "      <td>газпром нефть</td>\n",
       "      <td>заемщик</td>\n",
       "      <td>заемщик</td>\n",
       "      <td>Loans</td>\n",
       "      <td>Loans</td>\n",
       "      <td>None</td>\n",
       "      <td></td>\n",
       "      <td>None</td>\n",
       "      <td>*]</td>\n",
       "    </tr>\n",
       "  </tbody>\n",
       "</table>\n",
       "</div>"
      ],
      "text/plain": [
       "                                               org-1-type_expected  \\\n",
       "643831490fcb1a83bb18add8             открытое акционерное общество   \n",
       "643831490fcb1a83bb18add9                                       пао   \n",
       "643831490fcb1a83bb18addb            публичное акционерное общество   \n",
       "643831490fcb1a83bb18addc            публичное акционерное общество   \n",
       "643831490fcb1a83bb18addd            публичное акционерное общество   \n",
       "643831490fcb1a83bb18ade3  общество с ограниченной ответственностью   \n",
       "643831490fcb1a83bb18ade5  общество с ограниченной ответственностью   \n",
       "643831490fcb1a83bb18ade7  общество с ограниченной ответственностью   \n",
       "643831490fcb1a83bb18ade8            публичное акционерное общество   \n",
       "643831490fcb1a83bb18ade9             открытое акционерное общество   \n",
       "\n",
       "                                              org-1-type_predicted  \\\n",
       "643831490fcb1a83bb18add8             открытое акционерное общество   \n",
       "643831490fcb1a83bb18add9            публичное акционерное общество   \n",
       "643831490fcb1a83bb18addb            публичное акционерное общество   \n",
       "643831490fcb1a83bb18addc            публичное акционерное общество   \n",
       "643831490fcb1a83bb18addd            публичное акционерное общество   \n",
       "643831490fcb1a83bb18ade3  общество с ограниченной ответственностью   \n",
       "643831490fcb1a83bb18ade5  общество с ограниченной ответственностью   \n",
       "643831490fcb1a83bb18ade7  общество с ограниченной ответственностью   \n",
       "643831490fcb1a83bb18ade8            публичное акционерное общество   \n",
       "643831490fcb1a83bb18ade9             открытое акционерное общество   \n",
       "\n",
       "                             org-1-name_expected    org-1-name_predicted  \\\n",
       "643831490fcb1a83bb18add8                 ромашка                 ромашка   \n",
       "643831490fcb1a83bb18add9                 ромашка                 ромашка   \n",
       "643831490fcb1a83bb18addb  газпромнефть-снабжение  газпромнефть-снабжение   \n",
       "643831490fcb1a83bb18addc  газпромнефть-снабжение  газпромнефть-снабжение   \n",
       "643831490fcb1a83bb18addd                    йода                    йода   \n",
       "643831490fcb1a83bb18ade3                   центр                   центр   \n",
       "643831490fcb1a83bb18ade5                     кен                     кен   \n",
       "643831490fcb1a83bb18ade7                гпн-аэро                гпн-аэро   \n",
       "643831490fcb1a83bb18ade8           газпром нефть           газпром нефть   \n",
       "643831490fcb1a83bb18ade9                гибискус                гибискус   \n",
       "\n",
       "                         org-1-alias_expected org-1-alias_predicted  \\\n",
       "643831490fcb1a83bb18add8             продавец              продавец   \n",
       "643831490fcb1a83bb18add9             продавец              продавец   \n",
       "643831490fcb1a83bb18addb             продавец              продавец   \n",
       "643831490fcb1a83bb18addc             продавец              продавец   \n",
       "643831490fcb1a83bb18addd             продавец              продавец   \n",
       "643831490fcb1a83bb18ade3            подрядчик             подрядчик   \n",
       "643831490fcb1a83bb18ade5            подрядчик             подрядчик   \n",
       "643831490fcb1a83bb18ade7            подрядчик             подрядчик   \n",
       "643831490fcb1a83bb18ade8             кредитор              кредитор   \n",
       "643831490fcb1a83bb18ade9             кредитор              кредитор   \n",
       "\n",
       "                                               org-2-type_expected  \\\n",
       "643831490fcb1a83bb18add8  общество с ограниченной ответственностью   \n",
       "643831490fcb1a83bb18add9                                       оао   \n",
       "643831490fcb1a83bb18addb  общество с ограниченной ответственностью   \n",
       "643831490fcb1a83bb18addc  общество с ограниченной ответственностью   \n",
       "643831490fcb1a83bb18addd  общество с ограниченной ответственностью   \n",
       "643831490fcb1a83bb18ade3  общество с ограниченной ответственностью   \n",
       "643831490fcb1a83bb18ade5  общество с ограниченной ответственностью   \n",
       "643831490fcb1a83bb18ade7                                        ип   \n",
       "643831490fcb1a83bb18ade8                                       ооо   \n",
       "643831490fcb1a83bb18ade9  общество с ограниченной ответственностью   \n",
       "\n",
       "                                              org-2-type_predicted  \\\n",
       "643831490fcb1a83bb18add8  общество с ограниченной ответственностью   \n",
       "643831490fcb1a83bb18add9             открытое акционерное общество   \n",
       "643831490fcb1a83bb18addb  общество с ограниченной ответственностью   \n",
       "643831490fcb1a83bb18addc  общество с ограниченной ответственностью   \n",
       "643831490fcb1a83bb18addd  общество с ограниченной ответственностью   \n",
       "643831490fcb1a83bb18ade3  общество с ограниченной ответственностью   \n",
       "643831490fcb1a83bb18ade5  общество с ограниченной ответственностью   \n",
       "643831490fcb1a83bb18ade7            индивидуальный предприниматель   \n",
       "643831490fcb1a83bb18ade8  общество с ограниченной ответственностью   \n",
       "643831490fcb1a83bb18ade9  общество с ограниченной ответственностью   \n",
       "\n",
       "                             org-2-name_expected    org-2-name_predicted  \\\n",
       "643831490fcb1a83bb18add8              гпн-инвест              гпн-инвест   \n",
       "643831490fcb1a83bb18add9           газпром нефть           газпром нефть   \n",
       "643831490fcb1a83bb18addb                   альфа                   альфа   \n",
       "643831490fcb1a83bb18addc                   альфа                   альфа   \n",
       "643831490fcb1a83bb18addd  газпромнефть-снабжение  газпромнефть-снабжение   \n",
       "643831490fcb1a83bb18ade3               звездочка               звездочка   \n",
       "643831490fcb1a83bb18ade5                   барби                   барби   \n",
       "643831490fcb1a83bb18ade7                                                   \n",
       "643831490fcb1a83bb18ade8                 бегония                 бегония   \n",
       "643831490fcb1a83bb18ade9           газпром нефть           газпром нефть   \n",
       "\n",
       "                         org-2-alias_expected org-2-alias_predicted  \\\n",
       "643831490fcb1a83bb18add8           покупатель            покупатель   \n",
       "643831490fcb1a83bb18add9           покупатель            покупатель   \n",
       "643831490fcb1a83bb18addb           покупатель            покупатель   \n",
       "643831490fcb1a83bb18addc           покупатель            покупатель   \n",
       "643831490fcb1a83bb18addd           покупатель            покупатель   \n",
       "643831490fcb1a83bb18ade3             заказчик              заказчик   \n",
       "643831490fcb1a83bb18ade5             заказчик              заказчик   \n",
       "643831490fcb1a83bb18ade7             заказчик              заказчик   \n",
       "643831490fcb1a83bb18ade8              заемщик               заемщик   \n",
       "643831490fcb1a83bb18ade9              заемщик               заемщик   \n",
       "\n",
       "                                           subject_expected  \\\n",
       "643831490fcb1a83bb18add8             SecuritiesTransactions   \n",
       "643831490fcb1a83bb18add9             SecuritiesTransactions   \n",
       "643831490fcb1a83bb18addb             SecuritiesTransactions   \n",
       "643831490fcb1a83bb18addc             SecuritiesTransactions   \n",
       "643831490fcb1a83bb18addd  ParticipationInOtherOrganizations   \n",
       "643831490fcb1a83bb18ade3                    GeneralContract   \n",
       "643831490fcb1a83bb18ade5                    GeneralContract   \n",
       "643831490fcb1a83bb18ade7                    GeneralContract   \n",
       "643831490fcb1a83bb18ade8                              Loans   \n",
       "643831490fcb1a83bb18ade9                              Loans   \n",
       "\n",
       "                                          subject_predicted  \\\n",
       "643831490fcb1a83bb18add8             SecuritiesTransactions   \n",
       "643831490fcb1a83bb18add9             SecuritiesTransactions   \n",
       "643831490fcb1a83bb18addb  ParticipationInOtherOrganizations   \n",
       "643831490fcb1a83bb18addc  ParticipationInOtherOrganizations   \n",
       "643831490fcb1a83bb18addd  ParticipationInOtherOrganizations   \n",
       "643831490fcb1a83bb18ade3                    GeneralContract   \n",
       "643831490fcb1a83bb18ade5                    GeneralContract   \n",
       "643831490fcb1a83bb18ade7                    GeneralContract   \n",
       "643831490fcb1a83bb18ade8                              Loans   \n",
       "643831490fcb1a83bb18ade9                              Loans   \n",
       "\n",
       "                                date_expected       date_predicted  \\\n",
       "643831490fcb1a83bb18add8  2022-09-07 00:00:00  2022-09-07 00:00:00   \n",
       "643831490fcb1a83bb18add9  2022-09-07 00:00:00  2022-09-07 00:00:00   \n",
       "643831490fcb1a83bb18addb                 None                        \n",
       "643831490fcb1a83bb18addc                 None                        \n",
       "643831490fcb1a83bb18addd                 None                        \n",
       "643831490fcb1a83bb18ade3  2021-04-06 00:00:00  2021-04-06 00:00:00   \n",
       "643831490fcb1a83bb18ade5  2021-10-21 00:00:00  2021-10-21 00:00:00   \n",
       "643831490fcb1a83bb18ade7  2021-10-25 00:00:00  2021-10-25 00:00:00   \n",
       "643831490fcb1a83bb18ade8                 None                        \n",
       "643831490fcb1a83bb18ade9                 None                        \n",
       "\n",
       "                         number_expected number_predicted  \n",
       "643831490fcb1a83bb18add8            None                   \n",
       "643831490fcb1a83bb18add9            None                   \n",
       "643831490fcb1a83bb18addb            None        Б 6972416  \n",
       "643831490fcb1a83bb18addc            None        Б 6972416  \n",
       "643831490fcb1a83bb18addd            None        Б 6972416  \n",
       "643831490fcb1a83bb18ade3            None                   \n",
       "643831490fcb1a83bb18ade5            None                   \n",
       "643831490fcb1a83bb18ade7            None               На  \n",
       "643831490fcb1a83bb18ade8            None                   \n",
       "643831490fcb1a83bb18ade9            None               *]  "
      ]
     },
     "execution_count": 39,
     "metadata": {},
     "output_type": "execute_result"
    }
   ],
   "source": [
    "validation_set = userdocs\n",
    "\n",
    "if TEST_FLOW:\n",
    "    validation_set = userdocs[0:20]\n",
    "    \n",
    "    \n",
    "for i in range(0, len(validation_set), batch_size):\n",
    "    batch = userdocs[i:i+batch_size]\n",
    "    actual_batch_size=len(batch)\n",
    "    print(f'{actual_batch_size=}')\n",
    "    batch_input_emb=[]\n",
    "    batch_input_token_f=[]\n",
    "    for _id in batch.index.values:\n",
    " \n",
    "        dp = make_xyw(_id, userdocs)\n",
    "        dp = UberModelTrainsetManager.trim_maxlen(dp, 0, maxlen  )\n",
    "        (emb, tok_f), (sm, subj), (sample_weight, subject_weight) = dp\n",
    "\n",
    "        batch_input_emb.append(emb)\n",
    "        batch_input_token_f.append(tok_f)\n",
    "        \n",
    "        expected_subj =  decode_subj_prediction(subj)[0]\n",
    "        userdocs.at[_id, 'subject_expected'] = expected_subj.name\n",
    " \n",
    "\n",
    "    del _id\n",
    "    del dp\n",
    "\n",
    "    \n",
    "    dps =  [np.array(batch_input_emb), np.array(batch_input_token_f)]\n",
    " \n",
    "    \n",
    "    predictions = umodel.predict(x=dps, batch_size=actual_batch_size)\n",
    "    del batch_input_emb\n",
    "    del batch_input_token_f\n",
    "    \n",
    "    p_tags = predictions[0]\n",
    "    p_subj = predictions[1]\n",
    "    for k,_id in enumerate(batch.index.values):\n",
    "                   \n",
    "        tagsmap = pd.DataFrame(p_tags[k], columns=semantic_map_keys_contract)\n",
    "        interpret_prediction(_id, tagsmap, userdocs)\n",
    "        \n",
    "        subj_1hot = p_subj[k]\n",
    "\n",
    "        predicted = decode_subj_prediction(subj_1hot)[0]\n",
    "        userdocs.at[_id, 'subject_predicted'] = predicted.name\n",
    "        \n",
    "userdocs[\n",
    "  ['org-1-type_expected', 'org-1-type_predicted', 'org-1-name_expected', 'org-1-name_predicted', 'org-1-alias_expected', 'org-1-alias_predicted', \n",
    "   'org-2-type_expected', 'org-2-type_predicted', 'org-2-name_expected', 'org-2-name_predicted', 'org-2-alias_expected', 'org-2-alias_predicted', \n",
    "   'subject_expected', 'subject_predicted', 'date_expected',\n",
    "   'date_predicted', 'number_expected', 'number_predicted']].head(10)\n",
    "\n"
   ]
  },
  {
   "cell_type": "markdown",
   "metadata": {},
   "source": [
    "### Clean predicted/expected values"
   ]
  },
  {
   "cell_type": "code",
   "execution_count": 40,
   "metadata": {},
   "outputs": [],
   "source": [
    "\n",
    "columns = []\n",
    "for v in semantic_keys_numeric:\n",
    "    for s in ['_expected', '_predicted' ]:\n",
    "        col = f'{v}{s}'\n",
    "        userdocs[col] = userdocs[col].replace('',np.NaN).replace(np.NaN, -1).astype(int)\n",
    "        columns.append(col)\n",
    "        \n",
    "userdocs['date_predicted'] = userdocs['date_predicted'].astype(str)        \n",
    "userdocs['date_expected'] = userdocs['date_expected'].astype(str)        \n",
    "# userdocs[columns]"
   ]
  },
  {
   "cell_type": "code",
   "execution_count": 41,
   "metadata": {},
   "outputs": [],
   "source": [
    "userdocs=userdocs.replace('None', '')\n",
    "userdocs=userdocs.replace('none', '')\n",
    "userdocs=userdocs.replace('nan', '')\n",
    "\n",
    "userdocs.date_expected =  userdocs.date_expected.replace(np.NaN, '')\n",
    "userdocs.date_predicted = userdocs.date_predicted.replace(np.NaN, '')\n",
    "\n",
    "userdocs.number_expected =  userdocs.number_expected.replace(np.NaN, '')\n",
    "userdocs.number_predicted = userdocs.number_predicted.replace(np.NaN, '')\n",
    "\n",
    "userdocs.vat_unit_expected =  userdocs.vat_unit_expected.replace(np.NaN, '')\n",
    "userdocs.vat_unit_predicted = userdocs.vat_unit_predicted.replace(np.NaN, '')\n",
    "\n",
    "userdocs.vat_expected =  userdocs.vat_expected.replace(np.NaN, '')\n",
    "userdocs.vat_predicted = userdocs.vat_predicted.replace(np.NaN, '')\n",
    "\n",
    "userdocs.sign_expected =  userdocs.sign_expected.replace(np.NaN, '')\n",
    "userdocs.sign_predicted = userdocs.sign_predicted.replace(np.NaN, '')\n",
    "\n",
    "userdocs.currency_expected =  userdocs.currency_expected.replace(np.NaN, '')\n",
    "userdocs.currency_predicted = userdocs.currency_predicted.replace(np.NaN, '')\n",
    "\n",
    "# userdocs[['date_expected', 'date_predicted', 'number_expected', 'number_predicted']]"
   ]
  },
  {
   "cell_type": "code",
   "execution_count": 42,
   "metadata": {},
   "outputs": [],
   "source": [
    "def select_wrong(userdocs, key):\n",
    "    s= userdocs[userdocs[f'{key}_expected'] != userdocs[f'{key}_predicted']][[f'{key}_expected', f'{key}_predicted']]\n",
    "    p=float(len(s)) / len(userdocs)\n",
    "    return s,p"
   ]
  },
  {
   "cell_type": "markdown",
   "metadata": {},
   "source": [
    "# Tags report\n",
    "## accuracy report"
   ]
  },
  {
   "cell_type": "code",
   "execution_count": 43,
   "metadata": {
    "tags": []
   },
   "outputs": [
    {
     "data": {
      "text/html": [
       "<div>\n",
       "<style scoped>\n",
       "    .dataframe tbody tr th:only-of-type {\n",
       "        vertical-align: middle;\n",
       "    }\n",
       "\n",
       "    .dataframe tbody tr th {\n",
       "        vertical-align: top;\n",
       "    }\n",
       "\n",
       "    .dataframe thead th {\n",
       "        text-align: right;\n",
       "    }\n",
       "</style>\n",
       "<table border=\"1\" class=\"dataframe\">\n",
       "  <thead>\n",
       "    <tr style=\"text-align: right;\">\n",
       "      <th></th>\n",
       "      <th>accuracy</th>\n",
       "    </tr>\n",
       "  </thead>\n",
       "  <tbody>\n",
       "    <tr>\n",
       "      <th>subject</th>\n",
       "      <td>95.8%</td>\n",
       "    </tr>\n",
       "    <tr>\n",
       "      <th>date</th>\n",
       "      <td>95.0%</td>\n",
       "    </tr>\n",
       "    <tr>\n",
       "      <th>number</th>\n",
       "      <td>60.0%</td>\n",
       "    </tr>\n",
       "    <tr>\n",
       "      <th>amount</th>\n",
       "      <td>90.8%</td>\n",
       "    </tr>\n",
       "    <tr>\n",
       "      <th>amount_brutto</th>\n",
       "      <td>73.3%</td>\n",
       "    </tr>\n",
       "    <tr>\n",
       "      <th>amount_netto</th>\n",
       "      <td>76.7%</td>\n",
       "    </tr>\n",
       "    <tr>\n",
       "      <th>vat</th>\n",
       "      <td>73.3%</td>\n",
       "    </tr>\n",
       "    <tr>\n",
       "      <th>sign</th>\n",
       "      <td>78.3%</td>\n",
       "    </tr>\n",
       "    <tr>\n",
       "      <th>currency</th>\n",
       "      <td>73.3%</td>\n",
       "    </tr>\n",
       "    <tr>\n",
       "      <th>vat_unit</th>\n",
       "      <td>59.2%</td>\n",
       "    </tr>\n",
       "    <tr>\n",
       "      <th>org-1-name</th>\n",
       "      <td>95.0%</td>\n",
       "    </tr>\n",
       "    <tr>\n",
       "      <th>org-1-alias</th>\n",
       "      <td>97.5%</td>\n",
       "    </tr>\n",
       "    <tr>\n",
       "      <th>org-1-type</th>\n",
       "      <td>87.5%</td>\n",
       "    </tr>\n",
       "    <tr>\n",
       "      <th>org-2-name</th>\n",
       "      <td>87.5%</td>\n",
       "    </tr>\n",
       "    <tr>\n",
       "      <th>org-2-alias</th>\n",
       "      <td>92.5%</td>\n",
       "    </tr>\n",
       "    <tr>\n",
       "      <th>org-2-type</th>\n",
       "      <td>83.3%</td>\n",
       "    </tr>\n",
       "    <tr>\n",
       "      <th>ALL</th>\n",
       "      <td>82.4%</td>\n",
       "    </tr>\n",
       "  </tbody>\n",
       "</table>\n",
       "</div>"
      ],
      "text/plain": [
       "              accuracy\n",
       "subject          95.8%\n",
       "date             95.0%\n",
       "number           60.0%\n",
       "amount           90.8%\n",
       "amount_brutto    73.3%\n",
       "amount_netto     76.7%\n",
       "vat              73.3%\n",
       "sign             78.3%\n",
       "currency         73.3%\n",
       "vat_unit         59.2%\n",
       "org-1-name       95.0%\n",
       "org-1-alias      97.5%\n",
       "org-1-type       87.5%\n",
       "org-2-name       87.5%\n",
       "org-2-alias      92.5%\n",
       "org-2-type       83.3%\n",
       "ALL              82.4%"
      ]
     },
     "execution_count": 43,
     "metadata": {},
     "output_type": "execute_result"
    }
   ],
   "source": [
    "userdocs['number_of_errors'] = 0\n",
    "report = pd.DataFrame()\n",
    "\n",
    "n   = 0\n",
    "avg = 0\n",
    "\n",
    "for k in t_semantic_map_keys_common[1:] + t_semantic_map_keys_price + org_numbered_keys :\n",
    "    s, p = select_wrong(userdocs, k)\n",
    "    for _id, _ in s.iterrows():\n",
    "       userdocs.at[_id, 'number_of_errors'] += 1\n",
    "    \n",
    "    acc = 1.0 - p\n",
    "    report.at[k, 'accuracy']=f\"{acc:.1%}\"\n",
    "    mlflow.log_metric(f\"accuracy_{k}\", acc)\n",
    "    \n",
    "    n += 1\n",
    "    avg += acc\n",
    "    \n",
    "avg = avg / n\n",
    "\n",
    "report.at['ALL', 'accuracy']=f\"{avg:.1%}\"\n",
    "mlflow.log_metric(\"accuracy_TAGS\", avg)\n",
    "report.to_csv(training_reports_path /'attributes_accuracy.csv')    \n",
    "mlflow.log_artifact(training_reports_path / 'attributes_accuracy.csv')\n",
    "\n",
    "# 81.6%\n",
    "report    "
   ]
  },
  {
   "cell_type": "markdown",
   "metadata": {},
   "source": [
    "## Worst docs list"
   ]
  },
  {
   "cell_type": "code",
   "execution_count": 44,
   "metadata": {},
   "outputs": [
    {
     "data": {
      "text/html": [
       "<div>\n",
       "<style scoped>\n",
       "    .dataframe tbody tr th:only-of-type {\n",
       "        vertical-align: middle;\n",
       "    }\n",
       "\n",
       "    .dataframe tbody tr th {\n",
       "        vertical-align: top;\n",
       "    }\n",
       "\n",
       "    .dataframe thead th {\n",
       "        text-align: right;\n",
       "    }\n",
       "</style>\n",
       "<table border=\"1\" class=\"dataframe\">\n",
       "  <thead>\n",
       "    <tr style=\"text-align: right;\">\n",
       "      <th></th>\n",
       "      <th>number_of_errors</th>\n",
       "    </tr>\n",
       "  </thead>\n",
       "  <tbody>\n",
       "    <tr>\n",
       "      <th>643831490fcb1a83bb18aeb7</th>\n",
       "      <td>7</td>\n",
       "    </tr>\n",
       "    <tr>\n",
       "      <th>643831490fcb1a83bb18aee3</th>\n",
       "      <td>7</td>\n",
       "    </tr>\n",
       "    <tr>\n",
       "      <th>643831490fcb1a83bb18ae7e</th>\n",
       "      <td>6</td>\n",
       "    </tr>\n",
       "    <tr>\n",
       "      <th>643831490fcb1a83bb18ae07</th>\n",
       "      <td>6</td>\n",
       "    </tr>\n",
       "    <tr>\n",
       "      <th>643831490fcb1a83bb18aee4</th>\n",
       "      <td>6</td>\n",
       "    </tr>\n",
       "    <tr>\n",
       "      <th>643831490fcb1a83bb18aea1</th>\n",
       "      <td>5</td>\n",
       "    </tr>\n",
       "    <tr>\n",
       "      <th>643831490fcb1a83bb18ae7f</th>\n",
       "      <td>5</td>\n",
       "    </tr>\n",
       "    <tr>\n",
       "      <th>643831490fcb1a83bb18ae12</th>\n",
       "      <td>5</td>\n",
       "    </tr>\n",
       "    <tr>\n",
       "      <th>643831490fcb1a83bb18ae10</th>\n",
       "      <td>5</td>\n",
       "    </tr>\n",
       "    <tr>\n",
       "      <th>643831490fcb1a83bb18ae3e</th>\n",
       "      <td>5</td>\n",
       "    </tr>\n",
       "    <tr>\n",
       "      <th>643831490fcb1a83bb18adfe</th>\n",
       "      <td>5</td>\n",
       "    </tr>\n",
       "    <tr>\n",
       "      <th>643831490fcb1a83bb18ae5b</th>\n",
       "      <td>5</td>\n",
       "    </tr>\n",
       "    <tr>\n",
       "      <th>643831490fcb1a83bb18aebe</th>\n",
       "      <td>5</td>\n",
       "    </tr>\n",
       "    <tr>\n",
       "      <th>643831490fcb1a83bb18ae6c</th>\n",
       "      <td>5</td>\n",
       "    </tr>\n",
       "    <tr>\n",
       "      <th>643831490fcb1a83bb18af07</th>\n",
       "      <td>5</td>\n",
       "    </tr>\n",
       "    <tr>\n",
       "      <th>643831490fcb1a83bb18adec</th>\n",
       "      <td>5</td>\n",
       "    </tr>\n",
       "    <tr>\n",
       "      <th>643831490fcb1a83bb18aefb</th>\n",
       "      <td>5</td>\n",
       "    </tr>\n",
       "    <tr>\n",
       "      <th>643831490fcb1a83bb18aeb6</th>\n",
       "      <td>4</td>\n",
       "    </tr>\n",
       "    <tr>\n",
       "      <th>643831490fcb1a83bb18ae70</th>\n",
       "      <td>4</td>\n",
       "    </tr>\n",
       "    <tr>\n",
       "      <th>643831490fcb1a83bb18ae86</th>\n",
       "      <td>4</td>\n",
       "    </tr>\n",
       "    <tr>\n",
       "      <th>643831490fcb1a83bb18ae87</th>\n",
       "      <td>4</td>\n",
       "    </tr>\n",
       "    <tr>\n",
       "      <th>643831490fcb1a83bb18ae3b</th>\n",
       "      <td>4</td>\n",
       "    </tr>\n",
       "    <tr>\n",
       "      <th>643831490fcb1a83bb18ae5d</th>\n",
       "      <td>4</td>\n",
       "    </tr>\n",
       "    <tr>\n",
       "      <th>643831490fcb1a83bb18ae99</th>\n",
       "      <td>4</td>\n",
       "    </tr>\n",
       "    <tr>\n",
       "      <th>643831490fcb1a83bb18ae94</th>\n",
       "      <td>4</td>\n",
       "    </tr>\n",
       "    <tr>\n",
       "      <th>643831490fcb1a83bb18ae68</th>\n",
       "      <td>4</td>\n",
       "    </tr>\n",
       "    <tr>\n",
       "      <th>643831490fcb1a83bb18ae4f</th>\n",
       "      <td>4</td>\n",
       "    </tr>\n",
       "    <tr>\n",
       "      <th>643831490fcb1a83bb18ae52</th>\n",
       "      <td>4</td>\n",
       "    </tr>\n",
       "    <tr>\n",
       "      <th>643831490fcb1a83bb18ae55</th>\n",
       "      <td>4</td>\n",
       "    </tr>\n",
       "    <tr>\n",
       "      <th>643831490fcb1a83bb18aec8</th>\n",
       "      <td>4</td>\n",
       "    </tr>\n",
       "  </tbody>\n",
       "</table>\n",
       "</div>"
      ],
      "text/plain": [
       "                          number_of_errors\n",
       "643831490fcb1a83bb18aeb7                 7\n",
       "643831490fcb1a83bb18aee3                 7\n",
       "643831490fcb1a83bb18ae7e                 6\n",
       "643831490fcb1a83bb18ae07                 6\n",
       "643831490fcb1a83bb18aee4                 6\n",
       "643831490fcb1a83bb18aea1                 5\n",
       "643831490fcb1a83bb18ae7f                 5\n",
       "643831490fcb1a83bb18ae12                 5\n",
       "643831490fcb1a83bb18ae10                 5\n",
       "643831490fcb1a83bb18ae3e                 5\n",
       "643831490fcb1a83bb18adfe                 5\n",
       "643831490fcb1a83bb18ae5b                 5\n",
       "643831490fcb1a83bb18aebe                 5\n",
       "643831490fcb1a83bb18ae6c                 5\n",
       "643831490fcb1a83bb18af07                 5\n",
       "643831490fcb1a83bb18adec                 5\n",
       "643831490fcb1a83bb18aefb                 5\n",
       "643831490fcb1a83bb18aeb6                 4\n",
       "643831490fcb1a83bb18ae70                 4\n",
       "643831490fcb1a83bb18ae86                 4\n",
       "643831490fcb1a83bb18ae87                 4\n",
       "643831490fcb1a83bb18ae3b                 4\n",
       "643831490fcb1a83bb18ae5d                 4\n",
       "643831490fcb1a83bb18ae99                 4\n",
       "643831490fcb1a83bb18ae94                 4\n",
       "643831490fcb1a83bb18ae68                 4\n",
       "643831490fcb1a83bb18ae4f                 4\n",
       "643831490fcb1a83bb18ae52                 4\n",
       "643831490fcb1a83bb18ae55                 4\n",
       "643831490fcb1a83bb18aec8                 4"
      ]
     },
     "execution_count": 44,
     "metadata": {},
     "output_type": "execute_result"
    }
   ],
   "source": [
    "userdocs[['number_of_errors']].sort_values('number_of_errors', ascending=False)[:30]"
   ]
  },
  {
   "cell_type": "markdown",
   "metadata": {},
   "source": [
    "# Subjects predictions reports"
   ]
  },
  {
   "cell_type": "code",
   "execution_count": 45,
   "metadata": {},
   "outputs": [],
   "source": [
    "ev = userdocs.copy()"
   ]
  },
  {
   "cell_type": "code",
   "execution_count": 46,
   "metadata": {
    "colab": {},
    "colab_type": "code",
    "id": "Jh1WFsjprUr1"
   },
   "outputs": [],
   "source": [
    "subj_pred = ev[pd.notna(ev.subject_predicted)][pd.notna(ev.subject_expected)]\n",
    "subj_df = subj_pred[['subject_predicted', 'subject_expected']].copy()"
   ]
  },
  {
   "cell_type": "code",
   "execution_count": 47,
   "metadata": {},
   "outputs": [],
   "source": [
    "\n",
    "\n",
    "labels = sorted(np.unique(subj_df['subject_expected'].values))"
   ]
  },
  {
   "cell_type": "code",
   "execution_count": 48,
   "metadata": {},
   "outputs": [],
   "source": [
    "report = classification_report(subj_df.subject_expected, subj_df.subject_predicted, digits=3, output_dict=True)\n",
    "report['weighted avg']\n",
    "mlflow.log_metrics(report['weighted avg'])\n",
    "mlflow.log_metric('subject_F1',report['weighted avg']['f1-score'])\n",
    "mlflow.log_metric('subject_F1_support',report['weighted avg']['support'])\n",
    "mlflow.log_metric('subject_precision',report['weighted avg']['precision'])\n",
    "mlflow.log_metric('subject_recall',report['weighted avg']['recall'])"
   ]
  },
  {
   "cell_type": "code",
   "execution_count": 49,
   "metadata": {
    "colab": {},
    "colab_type": "code",
    "id": "MFh8SxP9J081"
   },
   "outputs": [
    {
     "name": "stdout",
     "output_type": "stream",
     "text": [
      "make_att_model_03\n",
      "                                   precision    recall  f1-score   support\n",
      "\n",
      "                   AgencyContract      1.000     1.000     1.000         3\n",
      "                          Charity      0.800     1.000     0.889         4\n",
      "                             Deal      1.000     1.000     1.000        10\n",
      "         DealIntellectualProperty      1.000     1.000     1.000         7\n",
      "                  GeneralContract      1.000     1.000     1.000        17\n",
      "                            Loans      0.933     1.000     0.966        14\n",
      "ParticipationInOtherOrganizations      0.667     1.000     0.800         4\n",
      "                       RealEstate      1.000     1.000     1.000         3\n",
      "           RealEstateTransactions      1.000     1.000     1.000         2\n",
      "                          Renting      1.000     1.000     1.000         9\n",
      "           SecuritiesTransactions      0.800     0.667     0.727         6\n",
      "                          Service      1.000     0.927     0.962        41\n",
      "\n",
      "                         accuracy                          0.958       120\n",
      "                        macro avg      0.933     0.966     0.945       120\n",
      "                     weighted avg      0.964     0.958     0.959       120\n",
      "\n"
     ]
    },
    {
     "data": {
      "image/png": "[encoded data removed]",
      "text/plain": [
       "<Figure size 1200x1200 with 2 Axes>"
      ]
     },
     "metadata": {},
     "output_type": "display_data"
    }
   ],
   "source": [
    "\n",
    "\n",
    "def make_report(umodel, subj_df):\n",
    "  plot_cm(subj_df.subject_expected.values, subj_df.subject_predicted.values, figsize=(12, 12))\n",
    "  \n",
    "  img_path = training_reports_path / f'subjects-confusion-matrix-{umodel.name}.png'\n",
    "  plt.savefig(img_path, bbox_inches='tight')\n",
    "  mlflow.log_artifact(img_path)\n",
    "\n",
    "  report = classification_report(subj_df.subject_expected, subj_df.subject_predicted, digits=3)\n",
    "  print(umodel.name)\n",
    "  print(report)\n",
    "\n",
    "  fn = training_reports_path / f'subjects-classification_report-{umodel.name}.txt'\n",
    "  with open(fn, \"w\") as text_file:\n",
    "    text_file.write(report)\n",
    " \n",
    "  mlflow.log_artifact(fn)\n",
    "\n",
    "\n",
    "make_report(umodel, subj_df)"
   ]
  },
  {
   "cell_type": "code",
   "execution_count": 50,
   "metadata": {
    "tags": []
   },
   "outputs": [],
   "source": [
    "if sub_mlflow_run is not None:\n",
    "    mlflow.end_run()"
   ]
  },
  {
   "cell_type": "code",
   "execution_count": null,
   "metadata": {},
   "outputs": [],
   "source": []
  }
 ],
 "metadata": {
  "colab": {
   "collapsed_sections": [
    "9eF-UGHyh-C9",
    "7X_zYCYEdlPM",
    "lyI4hbTRFjyM"
   ],
   "name": "Local: structure keras uber model - clean train, evaluate, test.ipynb",
   "provenance": [],
   "toc_visible": true
  },
  "kernelspec": {
   "display_name": "env",
   "language": "python",
   "name": "env"
  },
  "language_info": {
   "codemirror_mode": {
    "name": "ipython",
    "version": 3
   },
   "file_extension": ".py",
   "mimetype": "text/x-python",
   "name": "python",
   "nbconvert_exporter": "python",
   "pygments_lexer": "ipython3",
   "version": "3.8.10"
  },
  "toc-autonumbering": false,
  "toc-showmarkdowntxt": false
 },
 "nbformat": 4,
 "nbformat_minor": 4
}
