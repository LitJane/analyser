{
 "cells": [
  {
   "cell_type": "code",
   "execution_count": 1,
   "metadata": {
    "tags": []
   },
   "outputs": [],
   "source": [
    "import logging\n",
    "import sys\n",
    "import os"
   ]
  },
  {
   "cell_type": "code",
   "execution_count": 2,
   "metadata": {},
   "outputs": [],
   "source": [
    "# TODO: estimate NN thresholds on model validation phase!"
   ]
  },
  {
   "cell_type": "code",
   "execution_count": 3,
   "metadata": {
    "tags": [
     "parameters"
    ]
   },
   "outputs": [],
   "source": [
    "DEBUG = False\n",
    "DISABLE_GPU = True\n"
   ]
  },
  {
   "cell_type": "code",
   "execution_count": 4,
   "metadata": {
    "tags": []
   },
   "outputs": [
    {
     "name": "stdout",
     "output_type": "stream",
     "text": [
      "COLLECTION_NAME='documents'\n",
      "USE_CONTROL_SET=True\n"
     ]
    }
   ],
   "source": [
    "# if 'USE_CONTROL_SET' not in globals():\n",
    "#     USE_CONTROL_SET = os.environ.get('GPN_USE_CONTROL_SET', 0) == '1'\n",
    "\n",
    "USE_CONTROL_SET = True\n",
    "\n",
    "if 'COLLECTION_NAME' not in globals():\n",
    "    COLLECTION_NAME = 'documents'\n",
    "    \n",
    "print (f'{COLLECTION_NAME=}')\n",
    "print (f'{USE_CONTROL_SET=}')"
   ]
  },
  {
   "cell_type": "code",
   "execution_count": 5,
   "metadata": {},
   "outputs": [
    {
     "name": "stdout",
     "output_type": "stream",
     "text": [
      "DISABLE_GPU=True\n"
     ]
    }
   ],
   "source": [
    "\n",
    "# DISABLE GPU\n",
    "if DISABLE_GPU:\n",
    "    os.environ['CUDA_VISIBLE_DEVICES'] = '-1'\n",
    "print(f'{DISABLE_GPU=}')"
   ]
  },
  {
   "cell_type": "code",
   "execution_count": 6,
   "metadata": {
    "colab": {},
    "colab_type": "code",
    "id": "JoHJkn9yQIgg"
   },
   "outputs": [
    {
     "name": "stderr",
     "output_type": "stream",
     "text": [
      "INFO - 2023-04-26 16:34:03,466 - [2159728996.py:10] - eval_ipynb - --=logging started=--\n"
     ]
    },
    {
     "name": "stdout",
     "output_type": "stream",
     "text": [
      "Nemoware Analyser v23.4.14\n",
      "USING WORKDIR: [/root/artem/work]\n",
      " set ENV GPN_WORK_DIR to override\n",
      "datasets_dir: [/root/artem/work/datasets]\n",
      "reports_dir: [/root/artem/work/reports]\n"
     ]
    },
    {
     "name": "stderr",
     "output_type": "stream",
     "text": [
      "/root/artem/analyser/analyser/hyperparams.py:15: UserWarning: please set GPN_WORK_DIR environment variable\n",
      "  warnings.warn('please set GPN_WORK_DIR environment variable')\n"
     ]
    }
   ],
   "source": [
    "\n",
    "logger = logging.getLogger('eval_ipynb')\n",
    "logger.setLevel(logging.DEBUG)\n",
    "\n",
    "\n",
    "ch = logging.StreamHandler()\n",
    "ch.setLevel(logging.INFO)\n",
    "formatter = logging.Formatter('%(levelname)s - %(asctime)s - [%(filename)s:%(lineno)d] - %(name)s - %(message)s')\n",
    "ch.setFormatter(formatter)\n",
    "logger.addHandler(ch)\n",
    "logger.info('--=logging started=--')\n",
    "\n",
    "nb_dir = os.path.split(os.getcwd())[0]\n",
    "if nb_dir not in sys.path:\n",
    "  sys.path.append(nb_dir)\n",
    "\n",
    "import analyser.hyperparams"
   ]
  },
  {
   "cell_type": "code",
   "execution_count": 7,
   "metadata": {
    "colab": {},
    "colab_type": "code",
    "id": "jT7451NXspdw",
    "tags": []
   },
   "outputs": [
    {
     "name": "stdout",
     "output_type": "stream",
     "text": [
      "mlflow.active_run None\n"
     ]
    }
   ],
   "source": [
    "import mlflow\n",
    "print('mlflow.active_run', mlflow.active_run())"
   ]
  },
  {
   "cell_type": "code",

   "execution_count": null,
   "metadata": {},
   "outputs": [],
   "source": [
    "import gpn_config"
   ]
  },
  {
   "cell_type": "code",
   "execution_count": null,

   "metadata": {
    "tags": []
   },
   "outputs": [
    {
     "name": "stderr",
     "output_type": "stream",
     "text": [
      "/tmp/ipykernel_3171932/3089433087.py:6: DeprecationWarning: The 'warn' method is deprecated, use 'warning' instead\n",
      "  logger.warn(f'set MLFLOW_URL env var to re-define; MLFLOW_URL={ml_flow_url}')\n",
      "WARNING - 2023-04-26 16:34:03,810 - [3089433087.py:6] - eval_ipynb - set MLFLOW_URL env var to re-define; MLFLOW_URL=http://192.168.10.38:5000\n"
     ]
    },
    {
     "name": "stdout",
     "output_type": "stream",
     "text": [
      "sub_mlflow_run <ActiveRun: >\n"
     ]
    }
   ],
   "source": [
    "sub_mlflow_run = None\n",
    "if mlflow.active_run() is None:\n",
    "\n",
    "    ml_flow_url = gpn_config.configured ('MLFLOW_URL')\n",
    "    mlflow.set_tracking_uri(ml_flow_url)\n",
    "    logger.warn(f'set MLFLOW_URL env var to re-define; MLFLOW_URL={ml_flow_url}')\n",
    "\n",
    "    mlflow.set_experiment(\"Обучение анализатора\")\n",
    "    sub_mlflow_run = mlflow.start_run(nested=True)\n",
    " \n",
    "    print('sub_mlflow_run', sub_mlflow_run)\n",
    "    \n",
    "mlflow.set_tag(\"release.version\", analyser.__version__)\n",
    "mlflow.set_tag(\"test_db_collection\", COLLECTION_NAME)\n"
   ]
  },
  {
   "cell_type": "markdown",
   "metadata": {
    "colab_type": "text",
    "id": "JbsxFAqC6pjQ"
   },
   "source": [
    "### Imports"
   ]
  },
  {
   "cell_type": "code",
   "execution_count": 9,
   "metadata": {
    "colab": {
     "base_uri": "https://localhost:8080/",
     "height": 87
    },
    "colab_type": "code",
    "id": "pexvDJbAtZM0",
    "outputId": "4f7e6e34-d675-423d-d102-1020d49d854f",
    "tags": []
   },
   "outputs": [
    {
     "name": "stderr",
     "output_type": "stream",
     "text": [
      "2023-04-26 16:34:04.241335: I tensorflow/stream_executor/platform/default/dso_loader.cc:53] Successfully opened dynamic library libcudart.so.11.0\n",
      "[documents.py:271 -             __init__() ] loading word cases stats model from: /root/artem/analyser/analyser/vocab/word_cases_stats.pickle\n",
      "[currencies.py:17 -             _env_var() ] Currency-service : define GPN_CURRENCY_USER environment variable! defaulting to None\n",
      "[currencies.py:17 -             _env_var() ] Currency-service : define GPN_CURRENCY_PASSWORD environment variable! defaulting to None\n",
      "[currencies.py:17 -             _env_var() ] Currency-service : define GPN_CURRENCY_URL environment variable! defaulting to None\n"
     ]
    },
    {
     "name": "stdout",
     "output_type": "stream",
     "text": [
      "HyperParameters.subsidiary_name_match_min_jaro_similarity 0.9649122807017544\n"
     ]
    },
    {
     "name": "stderr",
     "output_type": "stream",
     "text": [
      "[tools.py:28 -             __init__() ] model_checkpoint_path: /root/artem/analyser/analyser/vocab\n"
     ]
    },
    {
     "data": {
      "text/plain": [
       "['org-1-name',\n",
       " 'org-1-alias',\n",
       " 'org-1-type',\n",
       " 'org-2-name',\n",
       " 'org-2-alias',\n",
       " 'org-2-type']"
      ]
     },
     "execution_count": 9,
     "metadata": {},
     "output_type": "execute_result"
    }
   ],
   "source": [
    "%matplotlib inline\n",
    "\n",
    "from pathlib import Path\n",
    " \n",
    "import numpy as np\n",
    "import pandas as pd\n",
    "from pandas import DataFrame\n",
    "\n",
    "import json\n",
    "import re\n",
    "\n",
    "from bson import json_util\n",
    "from bson import ObjectId\n",
    "\n",
    "import traceback\n",
    "\n",
    "\n",
    "from sklearn.metrics import confusion_matrix\n",
    "from sklearn.metrics import classification_report\n",
    "import matplotlib.pyplot as plt\n",
    "\n",
    "from analyser.schemas import ContractPrice, merge_spans\n",
    "from integration.db import get_doc_by_id\n",
    "from analyser.documents import TextMap\n",
    "from analyser.ml_tools import SemanticTag\n",
    "from analyser.parsing import AuditContext\n",
    "from analyser.persistence import DbJsonDoc\n",
    "from analyser.legal_docs import find_value_sign\n",
    "from analyser.transaction_values import ValueSpansFinder\n",
    "from analyser.text_tools import to_float, span_len\n",
    "\n",
    "from analyser.contract_parser import nn_get_tag_values, nn_find_contract_value\n",
    "from analyser.contract_parser import nn_find_org_names, nn_get_subject, nn_get_contract_number, nn_get_contract_date\n",
    "from analyser.contract_parser import fix_contract_number\n",
    "\n",
    "from analyser.persistence import DbJsonDoc\n",
    "\n",
    "from tf_support.tools import KerasTrainingContext\n",
    "from tf_support.tf_subject_model import decode_subj_prediction\n",
    "from tf_support.super_contract_model import make_xyw, semantic_map_keys_contract\n",
    "from tf_support.super_contract_model import validate_datapoint\n",
    "\n",
    "from integration.db import get_doc_by_id\n",
    "from integration.db import get_mongodb_connection\n",
    "\n",
    "from trainsets.retrain_contract_uber_model import UberModelTrainsetManager\n",
    "\n",
    "from colab_support.renderer import plot_embedding, plot_cm\n",
    "from colab_support.renderer import HtmlRenderer\n",
    "\n",
    "from IPython.display import display, HTML, Markdown\n",
    "\n",
    "from tf_support.super_contract_model import t_semantic_map_keys_price, semantic_map_keys, t_semantic_map_keys_common, t_semantic_map_keys_org\n",
    "\n",
    "\n",
    "semantic_keys_numeric = ['amount', 'amount_brutto', 'amount_netto']\n",
    "org_keys=['name', 'alias', 'type']\n",
    "org_numbered_keys=[ f'org-1-{v}' for v in org_keys]\n",
    "org_numbered_keys+=[ f'org-2-{v}' for v in org_keys]\n",
    "org_numbered_keys"
   ]
  },
  {
   "cell_type": "code",
   "execution_count": 10,
   "metadata": {
    "tags": []
   },
   "outputs": [],
   "source": [
    "class DemoRenderer(HtmlRenderer):\n",
    "  def render_color_text(self, tokens, weights, colormap='coolwarm', print_debug=False, _range=None, separator=' '):\n",
    "    html = self.to_color_text(tokens, weights, colormap, print_debug, _range, separator=separator)\n",
    "    display(HTML(html))\n",
    "\n",
    "  def to_color_text(self, tokens, weights, colormap='coolwarm', print_debug=False, _range=None, separator=' '):\n",
    "    return super()._to_color_text(tokens, weights, matplotlib, colormap=colormap, _range=_range, separator=separator)\n",
    "\n",
    "renderer_ = DemoRenderer()"
   ]
  },
  {
   "cell_type": "markdown",
   "metadata": {
    "colab_type": "text",
    "id": "HRQOy7o0uyTv"
   },
   "source": [
    "# Prepare paths\n"
   ]
  },
  {
   "cell_type": "code",
   "execution_count": 11,
   "metadata": {
    "tags": []
   },
   "outputs": [
    {
     "name": "stdout",
     "output_type": "stream",
     "text": [
      "training_reports_path=PosixPath('/root/artem/analyser/training_reports')\n",
      "analyser.hyperparams.work_dir='/root/artem/work'\n",
      "work_dir=PosixPath('/root/artem/work')\n"
     ]
    }
   ],
   "source": [
    "\n",
    "\n",
    "work_dir = Path(analyser.hyperparams.work_dir)\n",
    "training_reports_path = Path(analyser.hyperparams.__file__).parent.parent / 'training_reports/'\n",
    "\n",
    "print(f'{training_reports_path=}')\n",
    "print(f'{analyser.hyperparams.work_dir=}')\n",
    "print(f'{work_dir=}')"
   ]
  },
  {
   "cell_type": "code",
   "execution_count": 12,
   "metadata": {
    "tags": []
   },
   "outputs": [
    {
     "data": {
      "text/plain": [
       "['amount',\n",
       " 'amount_brutto',\n",
       " 'amount_netto',\n",
       " 'vat',\n",
       " 'sign',\n",
       " 'currency',\n",
       " 'vat_unit']"
      ]
     },
     "execution_count": 12,
     "metadata": {},
     "output_type": "execute_result"
    }
   ],
   "source": [
    "t_semantic_map_keys_price"
   ]
  },
  {
   "cell_type": "markdown",
   "metadata": {},
   "source": [
    "# Loading control test set from DB"
   ]
  },
  {
   "cell_type": "code",
   "execution_count": 13,
   "metadata": {
    "tags": []
   },
   "outputs": [],
   "source": [
    "\n",
    "from bson import ObjectId\n",
    "\n",
    "def doc_as_table_row(jd:DbJsonDoc, df, col_suffix='_expected'):\n",
    "    _id = str(jd._id)\n",
    "    tree = jd.get_attributes_tree()\n",
    "    df.at[ _id, f'number{col_suffix}'] = jd.get_attribute_value('number')\n",
    "    df.at[ _id, f'date{col_suffix}']   = jd.get_attribute_value('date')\n",
    "    df.at[ _id, f'subject{col_suffix}']= jd.get_attribute_value('subject')\n",
    "    df.at[ _id, 'subject']= jd.get_attribute_value('subject')\n",
    "\n",
    "    orgs = tree.get('orgs', [])\n",
    "\n",
    "    if len(orgs)>0:\n",
    "        o1=orgs[0]\n",
    "    else:\n",
    "        o1={}\n",
    "\n",
    "    if len(orgs)>1:\n",
    "        o2=orgs[1]\n",
    "    else:\n",
    "        o2={}\n",
    "\n",
    "    for part in org_keys:\n",
    "        v1 = o1.get(part, {}).get('value', \"\").lower()\n",
    "        v2 = o2.get(part, {}).get('value', \"\").lower()\n",
    "        vv=sorted([v1,v2])\n",
    "        df.at[ _id, f'org-1-{part}{col_suffix}'] = vv[1]\n",
    "        df.at[ _id, f'org-2-{part}{col_suffix}'] = vv[0]\n",
    "\n",
    "\n",
    "    for v in t_semantic_map_keys_price[0:4]:\n",
    "        df.at[ _id, f'{v}{col_suffix}'] = -1\n",
    "    for v in t_semantic_map_keys_price[5:]:\n",
    "        df.at[ _id, f'{v}{col_suffix}'] = ''\n",
    "        \n",
    "    for v in t_semantic_map_keys_price:\n",
    "        df.at[ _id, f'{v}{col_suffix}'] =  tree.get('price', {}).get(v, {}).get('value')\n",
    "\n",
    "    df.at[ _id, f'analysis.version{col_suffix}'] = jd.analysis['version']\n",
    "    return jd\n",
    "\n",
    "\n",
    "\n",
    "def load_doc_as_table_row(documents_collection, _id, df, col_suffix='_expected'):\n",
    "    doc = documents_collection.find_one({'_id': ObjectId(_id)})  \n",
    "    if doc is None:\n",
    "        print (f'{_id} not found in db')\n",
    "        return\n",
    "\n",
    "    jd = DbJsonDoc(doc)\n",
    "    doc_as_table_row(jd, df, col_suffix)\n",
    "    return jd"
   ]
  },
  {
   "cell_type": "code",
   "execution_count": 14,
   "metadata": {
    "tags": []
   },
   "outputs": [
    {
     "name": "stderr",
     "output_type": "stream",
     "text": [
      "/root/artem/analyser/integration/db.py:14: UserWarning: MongoDB : define GPN_DB_NAME environment variable! defaulting to gpn\n",
      "  warnings.warn(msg)\n",
      "/root/artem/analyser/integration/db.py:14: UserWarning: MongoDB : define GPN_DB_PORT environment variable! defaulting to 27017\n",
      "  warnings.warn(msg)\n",
      "/root/artem/analyser/integration/db.py:14: UserWarning: MongoDB : define GPN_DB_USER environment variable! defaulting to None\n",
      "  warnings.warn(msg)\n",
      "/root/artem/analyser/integration/db.py:14: UserWarning: MongoDB : define GPN_DB_PASSWORD environment variable! defaulting to None\n",
      "  warnings.warn(msg)\n",
      "/root/artem/analyser/integration/db.py:14: UserWarning: MongoDB : define GPN_USE_MONGO_TLS environment variable! defaulting to False\n",
      "  warnings.warn(msg)\n",
      "/root/artem/analyser/integration/db.py:14: UserWarning: MongoDB : define GPN_DB_TLS_CA environment variable! defaulting to None\n",
      "  warnings.warn(msg)\n",
      "/root/artem/analyser/integration/db.py:14: UserWarning: MongoDB : define GPN_DB_TLS_KEY environment variable! defaulting to None\n",
      "  warnings.warn(msg)\n"
     ]
    },
    {
     "name": "stdout",
     "output_type": "stream",
     "text": [
      "DB HOST IS: 192.168.10.36\n"
     ]
    },
    {
     "data": {
      "text/markdown": [
       "#### 120 -- total test docs in documents collection"
      ],
      "text/plain": [
       "<IPython.core.display.Markdown object>"
      ]
     },
     "metadata": {},
     "output_type": "display_data"
    }
   ],
   "source": [
    "\n",
    "\n",
    "db = get_mongodb_connection()\n",
    "documents_collection = db[COLLECTION_NAME]\n",
    "    \n",
    "    \n",
    "query = {\n",
    "  '$and': [\n",
    "    {\"parse.documentType\":{ '$in': [\"AGREEMENT\", \"CONTRACT\", \"SUPPLEMENTARY_AGREEMENT\"] }  },      \n",
    "    { 'subset': 'CONTROL_TEST'}\n",
    "  ]\n",
    "}    \n",
    "\n",
    "res = documents_collection.find(filter=query, \n",
    "                                projection={'_id': True, 'user.updateDate':True, 'state':True, 'parse.documentType':True}\n",
    "                               ).limit(5000)\n",
    "\n",
    "\n",
    "test_meta = DataFrame()\n",
    "\n",
    "for i in res:\n",
    "    load_doc_as_table_row(documents_collection, str(i[\"_id\"]), test_meta)\n",
    "\n",
    "test_meta['sample_weight'] = 1\n",
    "test_meta['subject_weight'] = 1\n",
    "\n",
    "# test_ids  = [i[\"_id\"] for i in res]\n",
    "# print(len(test_ids))\n",
    "\n",
    "_s = f\"#### {len(test_meta)} -- total test docs in {COLLECTION_NAME} collection\"\n",
    "display(Markdown(_s))\n",
    "\n",
    "    # mlflow.log_param('test set', len(test_meta))"
   ]
  },
  {
   "cell_type": "code",
   "execution_count": 15,
   "metadata": {
    "tags": []
   },
   "outputs": [
    {
     "name": "stdout",
     "output_type": "stream",
     "text": [
      "63ac1fa9862ea92bf713c50a is ok\n",
      "63c506c2e2456d59975e11a3 validating....\n",
      "63c506c2e2456d59975e11a3 is ok\n",
      "63c506c8e2456d59975e1251 validating....\n",
      "63c506c8e2456d59975e1251 is ok\n",
      "63c506d9e2456d59975e1402 validating....\n",
      "63c506d9e2456d59975e1402 is ok\n",
      "63c92b5dfb21317f1d5e0f82 validating....\n",
      "63c92b5dfb21317f1d5e0f82 is ok\n",
      "6405d2e990beb65b30080c9e validating....\n",
      "6405d2e990beb65b30080c9e is ok\n",
      "6405d9c890beb65b30080ca0 validating....\n",
      "6405d9c890beb65b30080ca0 is ok\n",
      "6405e9774d58ce260408093c validating....\n",
      "6405e9774d58ce260408093c is ok\n",
      "640ad5c74d58ce2604080954 validating....\n",
      "640ad5c74d58ce2604080954 is ok\n",
      "642fe0d96a3175b7d847288d validating....\n",
      "642fe0d96a3175b7d847288d is ok\n"
     ]
    }
   ],
   "source": [
    "from trainsets.retrain_contract_uber_model import save_contract_data_arrays\n",
    "from IPython.display import clear_output\n",
    "\n",
    "\n",
    "def recreate_data_point(_id:str, test_meta):\n",
    "    try:\n",
    "        doc = documents_collection.find_one({'_id': ObjectId(_id)})  \n",
    "        jd = DbJsonDoc(doc)\n",
    "        save_contract_data_arrays(jd)\n",
    "\n",
    "        test_meta.at[_id, 'valid'] = True\n",
    "        test_meta.at[_id, 'error'] = ''\n",
    "\n",
    "    except Exception as e:\n",
    "        # logger.error(e)\n",
    "        logger.exception(e)\n",
    "\n",
    "        test_meta.at[_id, 'valid'] = False\n",
    "        test_meta.at[_id, 'error'] = str(e)\n",
    "            \n",
    "                        \n",
    "if USE_CONTROL_SET:\n",
    "    test_meta['error']=''\n",
    "    test_meta['valid']=True\n",
    "\n",
    "    \n",
    "    for k, i in enumerate(test_meta.index):\n",
    "      print(i, 'validating....')\n",
    "      if k % 10 == 0:\n",
    "          clear_output(wait=True)\n",
    "\n",
    "      try:\n",
    "        validate_datapoint(str(i), test_meta)\n",
    "        print(i, 'is ok')\n",
    "      except Exception as e:\n",
    "        logger.error(e)\n",
    "        # logger.exceptoin(e)\n",
    "\n",
    "        test_meta.at[i, 'valid'] = False\n",
    "        test_meta.at[i, 'error'] = str(e)\n",
    "\n",
    "        recreate_data_point(str(i), test_meta)\n",
    "    "
   ]
  },
  {
   "cell_type": "markdown",
   "metadata": {
    "tags": []
   },
   "source": [
    "## [Debug] Reading legacy docs from json"
   ]
  },
  {
   "cell_type": "code",
   "execution_count": 16,
   "metadata": {
    "tags": []
   },
   "outputs": [],
   "source": [
    "fn = work_dir / 'documents.json'\n",
    "legacy_json_exists = fn.is_file()\n",
    "\n",
    "if DEBUG and legacy_json_exists:\n",
    "\n",
    "    with open(fn) as file:\n",
    "        file_data = json.load(file, object_hook=json_util.object_hook)    \n",
    "        display(Markdown(f'#### {len(file_data)} total docs in {fn}'))  \n",
    "    "
   ]
  },
  {
   "cell_type": "markdown",
   "metadata": {
    "tags": []
   },
   "source": [
    "### [Debug] Validating legacy data set"
   ]
  },
  {
   "cell_type": "code",
   "execution_count": 17,
   "metadata": {
    "tags": []
   },
   "outputs": [],
   "source": [
    "json_file_meta = DataFrame()\n",
    "json_file_meta['sample_weight']=1\n",
    "json_file_meta['subject_weight']=1\n",
    "\n",
    "if DEBUG and legacy_json_exists:\n",
    "\n",
    "    docs = {}\n",
    "    errors = 0\n",
    "\n",
    "    for fd in file_data:\n",
    "        try:\n",
    "          # validate_datapoint(str(fd['_id']), json_file_meta)\n",
    "          jd = DbJsonDoc(fd)\n",
    "          docs [fd['_id']] =  jd\n",
    "          doc_as_table_row(jd, json_file_meta, col_suffix='' )\n",
    "        \n",
    "        except NameError as e:\n",
    "            raise e\n",
    "            \n",
    "        except KeyError as e:\n",
    "          errors += 1\n",
    "          logger.error(f'No key in json_file_meta: {str(e)}')\n",
    "            \n",
    "        except Exception as e:\n",
    "          errors += 1\n",
    "\n",
    "          logger.error(f'{type(e)}, {str(e)}')\n",
    "          traceback.print_exc()\n",
    "\n",
    "    display(Markdown(f'#### {errors} invalid docs in in {fn}')) \n",
    "    display(Markdown(f'#### {len( list( docs.values() )  )} valid docs in {fn}'))"
   ]
  },
  {
   "cell_type": "markdown",
   "metadata": {
    "tags": []
   },
   "source": [
    "## [Debug] Get sample doc"
   ]
  },
  {
   "cell_type": "code",
   "execution_count": 18,
   "metadata": {
    "tags": []
   },
   "outputs": [],
   "source": [
    "if DEBUG and legacy_json_exists:\n",
    "    a_doc_from_json = list(docs.values())[1]\n",
    "    print(a_doc_from_json.get_tokens_map_unchaged().text[:230])\n",
    "    \n",
    "    a_doc_from_json.get_attributes_tree()"
   ]
  },
  {
   "cell_type": "code",
   "execution_count": 19,
   "metadata": {
    "colab": {
     "base_uri": "https://localhost:8080/",
     "height": 1000
    },
    "colab_type": "code",
    "id": "_kJ0L2RnrHl3",
    "outputId": "4863cd27-1459-458a-951d-b054235ffaea",
    "tags": []
   },
   "outputs": [],
   "source": [
    "%matplotlib inline\n",
    "\n",
    "\n",
    "\n",
    "if DEBUG and legacy_json_exists:\n",
    "    SAMPLE_DOC_ID = str(a_doc_from_json.get_id()) # stats_valid.index[0]\n",
    "\n",
    "    print(f'{SAMPLE_DOC_ID=}')\n",
    "\n",
    "    (emb, tok_f), (sm, subj), (sample_weight, subject_weight) = make_xyw(SAMPLE_DOC_ID, json_file_meta)\n",
    "\n",
    "\n",
    "    print(f'semantic map shape {sm.shape=}')\n",
    "    _crop = 700\n",
    "    plot_embedding(tok_f[:_crop], title=f'Tokens features {SAMPLE_DOC_ID}') \n",
    "    plot_embedding(emb[:_crop], title=f'Embedding {SAMPLE_DOC_ID}') \n",
    "    plot_embedding(sm[:_crop], title=f'Semantic map {SAMPLE_DOC_ID}')"
   ]
  },
  {
   "cell_type": "markdown",
   "metadata": {
    "colab_type": "text",
    "id": "gAFmo0sG4H9k"
   },
   "source": [
    "# Init Model 🦖"
   ]
  },
  {
   "cell_type": "code",
   "execution_count": 20,
   "metadata": {},
   "outputs": [
    {
     "name": "stdout",
     "output_type": "stream",
     "text": [
      "TEST_FLOW=False\n"
     ]
    }
   ],
   "source": [
    "if 'TEST_FLOW' not in globals():\n",
    "    TEST_FLOW = False\n",
    "print(f'{TEST_FLOW=}')"
   ]
  },
  {
   "cell_type": "code",
   "execution_count": 21,
   "metadata": {},
   "outputs": [
    {
     "name": "stdout",
     "output_type": "stream",
     "text": [
      "model_factory_fn=<function make_att_model_03 at 0x7ff6f66aab80>\n"
     ]
    }
   ],
   "source": [
    "\n",
    "if 'model_factory_fn' in globals():\n",
    "    print ('*'*80)\n",
    "    print('model_factory_fn defined by external process as', model_factory_fn.__name__)\n",
    "else:\n",
    "    from tf_support.super_contract_model import make_att_model\n",
    "    model_factory_fn = make_att_model\n",
    "\n",
    "print(f'{model_factory_fn=}')"
   ]
  },
  {
   "cell_type": "code",
   "execution_count": 22,
   "metadata": {
    "tags": []
   },
   "outputs": [
    {
     "name": "stderr",
     "output_type": "stream",
     "text": [
      "[tools.py:28 -             __init__() ] model_checkpoint_path: /root/artem/work\n",
      "/tmp/ipykernel_3171932/4257317648.py:14: DeprecationWarning: The 'warn' method is deprecated, use 'warning' instead\n",
      "  logger.warn (f'LOADING: {model_factory_fn} -- {weights}')\n",
      "WARNING - 2023-04-26 16:34:08,615 - [4257317648.py:14] - eval_ipynb - LOADING: <function make_att_model_03 at 0x7ff6f66aab80> -- /root/artem/analyser/training_reports/make_att_model_03.h5\n",
      "2023-04-26 16:34:08.620092: I tensorflow/stream_executor/platform/default/dso_loader.cc:53] Successfully opened dynamic library libcuda.so.1\n",
      "2023-04-26 16:34:08.641464: E tensorflow/stream_executor/cuda/cuda_driver.cc:328] failed call to cuInit: CUDA_ERROR_NO_DEVICE: no CUDA-capable device is detected\n",
      "2023-04-26 16:34:08.641486: I tensorflow/stream_executor/cuda/cuda_diagnostics.cc:169] retrieving CUDA diagnostic information for host: tensor\n",
      "2023-04-26 16:34:08.641490: I tensorflow/stream_executor/cuda/cuda_diagnostics.cc:176] hostname: tensor\n",
      "2023-04-26 16:34:08.641541: I tensorflow/stream_executor/cuda/cuda_diagnostics.cc:200] libcuda reported version is: 460.91.3\n",
      "2023-04-26 16:34:08.641556: I tensorflow/stream_executor/cuda/cuda_diagnostics.cc:204] kernel reported version is: 460.91.3\n",
      "2023-04-26 16:34:08.641560: I tensorflow/stream_executor/cuda/cuda_diagnostics.cc:310] kernel version seems to match DSO: 460.91.3\n",
      "2023-04-26 16:34:08.641791: I tensorflow/core/platform/cpu_feature_guard.cc:142] This TensorFlow binary is optimized with oneAPI Deep Neural Network Library (oneDNN) to use the following CPU instructions in performance-critical operations:  AVX2 FMA\n",
      "To enable them in other operations, rebuild TensorFlow with the appropriate compiler flags.\n",
      "[tools.py:120 -           init_model() ] weights loaded: /root/artem/analyser/training_reports/make_att_model_03.h5\n"
     ]
    },
    {
     "name": "stdout",
     "output_type": "stream",
     "text": [
      "Model: \"make_att_model_03\"\n",
      "__________________________________________________________________________________________________\n",
      "Layer (type)                    Output Shape         Param #     Connected to                     \n",
      "==================================================================================================\n",
      "input_text_emb (InputLayer)     [(None, None, 1024)] 0                                            \n",
      "__________________________________________________________________________________________________\n",
      "token_features (InputLayer)     [(None, None, 15)]   0                                            \n",
      "__________________________________________________________________________________________________\n",
      "input_text_emb_norm (LayerNorma (None, None, 1024)   2048        input_text_emb[0][0]             \n",
      "__________________________________________________________________________________________________\n",
      "token_features_norm (LayerNorma (None, None, 15)     30          token_features[0][0]             \n",
      "__________________________________________________________________________________________________\n",
      "rmb_plus_tokens (Concatenate)   (None, None, 1039)   0           input_text_emb_norm[0][0]        \n",
      "                                                                 token_features_norm[0][0]        \n",
      "__________________________________________________________________________________________________\n",
      "embedding_reduced (Bidirectiona (None, None, 256)    1196032     rmb_plus_tokens[0][0]            \n",
      "__________________________________________________________________________________________________\n",
      "amnesia (Dropout)               (None, None, 256)    0           embedding_reduced[0][0]          \n",
      "__________________________________________________________________________________________________\n",
      "bn1 (BatchNormalization)        (None, None, 256)    1024        amnesia[0][0]                    \n",
      "__________________________________________________________________________________________________\n",
      "encoder_0/multiheadattention (M (None, None, 256)    263168      bn1[0][0]                        \n",
      "                                                                 bn1[0][0]                        \n",
      "                                                                 bn1[0][0]                        \n",
      "__________________________________________________________________________________________________\n",
      "encoder_0/att_dropout (Dropout) (None, None, 256)    0           encoder_0/multiheadattention[0][0\n",
      "__________________________________________________________________________________________________\n",
      "tf.__operators__.add (TFOpLambd (None, None, 256)    0           bn1[0][0]                        \n",
      "                                                                 encoder_0/att_dropout[0][0]      \n",
      "__________________________________________________________________________________________________\n",
      "encoder_0/att_layernormalizatio (None, None, 256)    512         tf.__operators__.add[0][0]       \n",
      "__________________________________________________________________________________________________\n",
      "encoder_0/ffn (Sequential)      (None, None, 256)    65920       encoder_0/att_layernormalization[\n",
      "__________________________________________________________________________________________________\n",
      "encoder_0/ffn_dropout (Dropout) (None, None, 256)    0           encoder_0/ffn[0][0]              \n",
      "__________________________________________________________________________________________________\n",
      "tf.__operators__.add_1 (TFOpLam (None, None, 256)    0           encoder_0/att_layernormalization[\n",
      "                                                                 encoder_0/ffn_dropout[0][0]      \n",
      "__________________________________________________________________________________________________\n",
      "encoder_0/ffn_layernormalizatio (None, None, 256)    512         tf.__operators__.add_1[0][0]     \n",
      "__________________________________________________________________________________________________\n",
      "encoder_1/multiheadattention (M (None, None, 256)    263168      encoder_0/ffn_layernormalization[\n",
      "                                                                 encoder_0/ffn_layernormalization[\n",
      "                                                                 encoder_0/ffn_layernormalization[\n",
      "__________________________________________________________________________________________________\n",
      "encoder_1/att_dropout (Dropout) (None, None, 256)    0           encoder_1/multiheadattention[0][0\n",
      "__________________________________________________________________________________________________\n",
      "tf.__operators__.add_2 (TFOpLam (None, None, 256)    0           encoder_0/ffn_layernormalization[\n",
      "                                                                 encoder_1/att_dropout[0][0]      \n",
      "__________________________________________________________________________________________________\n",
      "encoder_1/att_layernormalizatio (None, None, 256)    512         tf.__operators__.add_2[0][0]     \n",
      "__________________________________________________________________________________________________\n",
      "encoder_1/ffn (Sequential)      (None, None, 256)    65920       encoder_1/att_layernormalization[\n",
      "__________________________________________________________________________________________________\n",
      "encoder_1/ffn_dropout (Dropout) (None, None, 256)    0           encoder_1/ffn[0][0]              \n",
      "__________________________________________________________________________________________________\n",
      "tf.__operators__.add_3 (TFOpLam (None, None, 256)    0           encoder_1/att_layernormalization[\n",
      "                                                                 encoder_1/ffn_dropout[0][0]      \n",
      "__________________________________________________________________________________________________\n",
      "encoder_1/ffn_layernormalizatio (None, None, 256)    512         tf.__operators__.add_3[0][0]     \n",
      "__________________________________________________________________________________________________\n",
      "bn2 (BatchNormalization)        (None, None, 256)    1024        encoder_1/ffn_layernormalization[\n",
      "__________________________________________________________________________________________________\n",
      "O1_tagging_tanh (LSTM)          (None, None, 30)     34440       bn2[0][0]                        \n",
      "__________________________________________________________________________________________________\n",
      "some (Bidirectional)            (None, 32)           34944       bn2[0][0]                        \n",
      "__________________________________________________________________________________________________\n",
      "O1_tagging (ThresholdLayer)     (None, None, 30)     1           O1_tagging_tanh[0][0]            \n",
      "__________________________________________________________________________________________________\n",
      "O2_subject (Dense)              (None, 43)           1419        some[0][0]                       \n",
      "==================================================================================================\n",
      "Total params: 1,931,186\n",
      "Trainable params: 0\n",
      "Non-trainable params: 1,931,186\n",
      "__________________________________________________________________________________________________\n"
     ]
    }
   ],
   "source": [
    "\n",
    "ctx = KerasTrainingContext(work_dir, session_index=21)\n",
    "ctx.EVALUATE_ONLY = True\n",
    " \n",
    "    \n",
    "if 'umodel' in globals() and umodel is not None:\n",
    "    print ('*'*80)\n",
    "    print('umodel defined as', umodel.name)\n",
    "else:\n",
    " \n",
    "    weights = training_reports_path / f'{model_factory_fn.__name__}.h5'\n",
    "    # weights = Path(analyser.hyperparams.models_path) / f'{model_factory_fn.__name__}.h5'\n",
    "    mlflow.log_param('weights', str(weights))\n",
    "    \n",
    "    logger.warn (f'LOADING: {model_factory_fn} -- {weights}')\n",
    "    \n",
    "    \n",
    "    umodel = ctx.init_model(model_factory_fn, trained=True, trainable=True, weights=weights)\n",
    "    mlflow.log_param('model_name', str(umodel.name))\n",
    "    mlflow.log_param('model_params', umodel.count_params())\n",
    "    \n",
    "    \n",
    "umodel.trainable = False\n",
    "umodel.summary()"
   ]
  },
  {
   "cell_type": "markdown",
   "metadata": {
    "colab_type": "text",
    "id": "JUum89Tdhg-9",
    "jp-MarkdownHeadingCollapsed": true,
    "tags": []
   },
   "source": [
    "# [Debug] Check model on a sigle doc"
   ]
  },
  {
   "cell_type": "markdown",
   "metadata": {},
   "source": [
    "## [Debug] Evaluate single doc "
   ]
  },
  {
   "cell_type": "code",
   "execution_count": 23,
   "metadata": {
    "tags": []
   },
   "outputs": [],
   "source": [
    "# sample_index = umtm.stats [umtm.stats['value']>0].index[2]\n",
    "\n",
    "if DEBUG and legacy_json_exists:\n",
    "    print(f'{SAMPLE_DOC_ID=}')\n",
    "    prediction = umodel.predict(x=[np.expand_dims(emb, axis=0), np.expand_dims(tok_f, axis=0)], batch_size=1)\n",
    "\n",
    "\n",
    "    tagsmap = pd.DataFrame(prediction[0][0], columns=semantic_map_keys_contract)\n",
    "    tagsmap_e = pd.DataFrame(sm, columns=semantic_map_keys_contract)\n",
    "    delta = tagsmap - tagsmap_e \n",
    "    # .T\n",
    "    plot_embedding(tagsmap[:_crop], f'Predicted Semantic Map {tagsmap.shape}')\n",
    "    plot_embedding(delta[:_crop], title=f'DELTA Semantic map {tagsmap_e.shape}')\n",
    "    plot_embedding(tagsmap_e[:_crop], title=f'EXPECTED Semantic map {tagsmap_e.shape}')"
   ]
  },
  {
   "cell_type": "code",
   "execution_count": 24,
   "metadata": {
    "tags": []
   },
   "outputs": [],
   "source": [
    "if DEBUG and legacy_json_exists:\n",
    "    print(\"mean delta\", delta.abs().sum().sum() / tagsmap_e.sum().sum())\n",
    "    print(\"sum of delatas\", delta.abs().sum().sum())"
   ]
  },
  {
   "cell_type": "code",
   "execution_count": 25,
   "metadata": {
    "tags": []
   },
   "outputs": [],
   "source": [
    "import matplotlib\n",
    "if DEBUG and legacy_json_exists:\n",
    "    av = tagsmap.max(axis=1) #tagsmap['amount-begin'] + tagsmap['vat-begin'] + tagsmap['number-begin'] + tagsmap['org-name-begin']\n",
    "\n",
    "    # av = tagsmap.sum(axis=1)\n",
    "    renderer_.render_color_text(a_doc_from_json.get_tokens_map_unchaged().tokens[:600], av[:600])"
   ]
  },
  {
   "cell_type": "markdown",
   "metadata": {},
   "source": [
    "### [Debug mode only] Getting tag values from inferred semantic map"
   ]
  },
  {
   "cell_type": "code",
   "execution_count": 26,
   "metadata": {},
   "outputs": [],
   "source": [
    "ac = AuditContext()"
   ]
  },
  {
   "cell_type": "markdown",
   "metadata": {},
   "source": [
    "#### Orgs"
   ]
  },
  {
   "cell_type": "code",
   "execution_count": 27,
   "metadata": {
    "tags": []
   },
   "outputs": [],
   "source": [
    "if DEBUG and legacy_json_exists:\n",
    "    cas = nn_find_org_names(a_doc_from_json.get_tokens_map_unchaged(), tagsmap, ac)\n",
    "    if cas:\n",
    "        if len(cas)>0:\n",
    "\n",
    "            print(cas[0].name)\n",
    "            print(cas[0].type)\n",
    "            print(cas[0].alias)\n",
    "        if len(cas)>1:\n",
    "            print()\n",
    "            print(cas[1].name)\n",
    "            print(cas[1].type)\n",
    "            print(cas[1].alias)"
   ]
  },
  {
   "cell_type": "markdown",
   "metadata": {},
   "source": [
    "#### Date/number"
   ]
  },
  {
   "cell_type": "code",
   "execution_count": 28,
   "metadata": {
    "tags": []
   },
   "outputs": [],
   "source": [
    "if DEBUG and legacy_json_exists:\n",
    "    date_tag = nn_get_contract_date     (a_doc_from_json.get_tokens_map_unchaged(), tagsmap) \n",
    "    number_tag = nn_get_contract_number (a_doc_from_json.get_tokens_map_unchaged(), tagsmap)\n",
    "    if date_tag:\n",
    "        print( f'{date_tag.value=}')\n",
    "    if number_tag:\n",
    "        print( f'{number_tag.value=}' )\n",
    "    \n",
    " \n",
    "    attention = tagsmap['date' + '-begin'].values.copy()\n",
    "\n",
    "    threshold = max(attention.max() * 0.8, 0.1)\n",
    "    print(f'{attention.max()=}')"
   ]
  },
  {
   "cell_type": "markdown",
   "metadata": {},
   "source": [
    "#### Amount"
   ]
  },
  {
   "cell_type": "code",
   "execution_count": 29,
   "metadata": {
    "tags": []
   },
   "outputs": [],
   "source": [
    "if DEBUG and legacy_json_exists:\n",
    "    textmap = a_doc_from_json.get_tokens_map_unchaged()"
   ]
  },
  {
   "cell_type": "code",
   "execution_count": 30,
   "metadata": {
    "tags": []
   },
   "outputs": [],
   "source": [
    "if DEBUG and legacy_json_exists:\n",
    "    #---\n",
    "    cps = nn_find_contract_value(textmap, tagsmap)\n",
    "    if cps:\n",
    "      print(str(cps[0].get_span()))\n",
    "      for k in cps[0].list_children():\n",
    "        print(str(k))\n",
    "\n",
    "      print()\n",
    "      print()\n",
    "\n",
    "      print('brutto', str(cps[0].amount_brutto))\n",
    "      print('netto', str(cps[0].amount_netto))\n",
    "      print('amount', str(cps[0].amount))\n",
    "      print('vat', str(cps[0].vat))\n",
    "    else:\n",
    "      print('nothing found')"
   ]
  },
  {
   "cell_type": "markdown",
   "metadata": {},
   "source": [
    "#### Miscl."
   ]
  },
  {
   "cell_type": "code",
   "execution_count": 31,
   "metadata": {
    "tags": []
   },
   "outputs": [],
   "source": [
    "if DEBUG and legacy_json_exists:\n",
    "    thresholds = dict(tagsmap.max()*.8)\n",
    "    thresholds"
   ]
  },
  {
   "cell_type": "markdown",
   "metadata": {},
   "source": [
    "#### Subj"
   ]
  },
  {
   "cell_type": "code",
   "execution_count": 32,
   "metadata": {
    "tags": []
   },
   "outputs": [],
   "source": [
    "if DEBUG and legacy_json_exists:\n",
    "    subject_tag = nn_get_tag_values('subject',  a_doc_from_json.get_tokens_map_unchaged(), tagsmap, max_tokens=200, threshold=0.02, limit=1, return_single=True)\n",
    "\n",
    "    print(subject_tag)"
   ]
  },
  {
   "cell_type": "markdown",
   "metadata": {},
   "source": [
    "# Reporting"
   ]
  },
  {
   "cell_type": "code",
   "execution_count": 33,
   "metadata": {},
   "outputs": [
    {
     "data": {
      "text/markdown": [
       "#### 120 (userdocs) in total for evaluation"
      ],
      "text/plain": [
       "<IPython.core.display.Markdown object>"
      ]
     },
     "metadata": {},
     "output_type": "display_data"
    },
    {
     "data": {
      "text/markdown": [
       "#### 0 invalid docs"
      ],
      "text/plain": [
       "<IPython.core.display.Markdown object>"
      ]
     },
     "metadata": {},
     "output_type": "display_data"
    }
   ],
   "source": [
    "\n",
    "ev = None\n",
    "ev = test_meta.copy()\n",
    "    \n",
    "    \n",
    "tags =          pd.DataFrame()\n",
    "errors_report = pd.DataFrame()\n",
    "\n",
    "\n",
    "userdocs = ev\n",
    "# userdocs = userdocs[userdocs['valid']==True]\n",
    "\n",
    "display(Markdown(f'#### {len(userdocs)} (userdocs) in total for evaluation'))   \n",
    "mlflow.log_param('test set', len(userdocs))\n",
    "\n",
    "if len(test_meta) != len(userdocs):\n",
    "    mlflow.log_param('test set invalid', len(test_meta) - len(userdocs) )\n",
    "display(Markdown(f'#### {len(test_meta) -  len(userdocs)} invalid docs'))   "
   ]
  },
  {
   "cell_type": "code",
   "execution_count": 34,
   "metadata": {
    "tags": []
   },
   "outputs": [
    {
     "name": "stdout",
     "output_type": "stream",
     "text": [
      "Service                              40\n",
      "GeneralContract                      18\n",
      "Loans                                14\n",
      "Deal                                 10\n",
      "Renting                               9\n",
      "DealIntellectualProperty              7\n",
      "SecuritiesTransactions                6\n",
      "Charity                               4\n",
      "ParticipationInOtherOrganizations     4\n",
      "AgencyContract                        3\n",
      "RealEstate                            3\n",
      "RealEstateTransactions                2\n",
      "Name: subject, dtype: int64\n"
     ]
    },
    {
     "data": {
      "image/png": "[encoded data removed]",
      "text/plain": [
       "<Figure size 1200x600 with 1 Axes>"
      ]
     },
     "metadata": {},
     "output_type": "display_data"
    }
   ],
   "source": [
    "\n",
    "\n",
    "import seaborn as sns\n",
    "%matplotlib inline\n",
    "try:\n",
    "    cnt = userdocs['subject'].value_counts()\n",
    "\n",
    "    plt.figure(figsize=(12, 6 ))\n",
    "    sns.barplot(x=cnt.values, y=cnt.index)\n",
    "\n",
    "    print(  cnt )\n",
    "\n",
    "    plt.title(f'test: Frequency Distribution of subjects; {len(userdocs)} total')\n",
    "    plt.xlabel('Number of Occurrences')\n",
    "    \n",
    "    _fn = training_reports_path / 'Distribution of subjects -test.png'\n",
    "    plt.savefig( _fn, bbox_inches='tight', pad_inches=0)\n",
    "    plt.show()\n",
    "\n",
    "    mlflow.log_artifact(_fn)\n",
    "\n",
    "\n",
    "except Exception as e:\n",
    "    logger.exception(e)"
   ]
  },
  {
   "cell_type": "code",
   "execution_count": 35,
   "metadata": {},
   "outputs": [],
   "source": [
    "\n",
    "for v in semantic_map_keys:\n",
    "    for s in ['_expected', '_predicted']:\n",
    "        userdocs[f'{v}{s}'] = ''\n",
    "        userdocs[f'{v}{s}'] = userdocs[f'{v}{s}'].astype(str)\n",
    "        \n",
    "for v in semantic_keys_numeric:\n",
    "    for s in ['_expected', '_predicted']:\n",
    "        userdocs[f'{v}{s}'] = np.NaN\n",
    "        userdocs[f'{v}{s}'] = userdocs[f'{v}{s}'].astype(float)\n",
    "        \n"
   ]
  },
  {
   "cell_type": "code",
   "execution_count": 36,
   "metadata": {
    "tags": []
   },
   "outputs": [],
   "source": [
    "batch_size = 96\n",
    "maxlen = 128 * 12\n",
    "\n",
    "\n",
    "ac = AuditContext()\n",
    "\n",
    "def interpret_prediction(_id, tagsmap, df):\n",
    "    col_suffix=\"_predicted\"\n",
    "    \n",
    "    doc = load_doc_as_table_row(documents_collection, _id, df)\n",
    "    if doc is None: \n",
    "        return\n",
    "    \n",
    "    tokens = doc.get_tokens_map_unchaged()\n",
    "    \n",
    "    #---\n",
    "    # ORGS ------------------\n",
    "    orgs = nn_find_org_names(tokens, tagsmap, ac)\n",
    "    if len(orgs)>0:\n",
    "        o1 = orgs[0]\n",
    "    else:\n",
    "        o1={}\n",
    "        \n",
    "    if len(orgs)>1:\n",
    "        o2 = orgs[1]\n",
    "    else:\n",
    "        o2={}\n",
    "        \n",
    "    for part in ['name', 'alias', 'type']:\n",
    "        part_tag1 = getattr(o1, part, {})\n",
    "        part_tag2 = getattr(o2, part, {})\n",
    "        \n",
    "        v1 = getattr(part_tag1, 'value', '').lower()\n",
    "        v2 = getattr(part_tag2, 'value', '').lower()\n",
    "#         vv= [v1,v2]\n",
    "        vv=sorted([v1,v2])\n",
    "        df.at[ _id, f'org-1-{part}{col_suffix}'] = vv[1] \n",
    "        df.at[ _id, f'org-2-{part}{col_suffix}'] = vv[0] \n",
    " \n",
    "    # PRICE ------------------\n",
    "    cps = nn_find_contract_value(tokens, tagsmap)\n",
    "    if cps:\n",
    "        cps=cps[0]\n",
    "        for v in t_semantic_map_keys_price:\n",
    "            part = getattr(cps, v)\n",
    "            if part:\n",
    "                df.at[ _id, f'{v}{col_suffix}'] = part.value\n",
    "                 \n",
    " \n",
    "    # DATE NUMBER ------------------\n",
    "    number_tag = nn_get_contract_number(tokens, tagsmap)\n",
    "    date_tag =   nn_get_contract_date  (tokens, tagsmap) \n",
    "    \n",
    "        \n",
    "    if number_tag:\n",
    "        df.at[ _id, f'number{col_suffix}'] = str(number_tag.value)\n",
    "    else:\n",
    "        df.at[ _id, f'number{col_suffix}'] = ''\n",
    "        \n",
    "        \n",
    "    if date_tag:\n",
    "        df.at[ _id, f'date{col_suffix}'] = str(date_tag.value)\n",
    "    else:\n",
    "        df.at[ _id, f'date{col_suffix}'] = ''\n",
    " \n"
   ]
  },
  {
   "cell_type": "markdown",
   "metadata": {},
   "source": [
    "# Main"
   ]
  },
  {
   "cell_type": "code",
   "execution_count": 37,
   "metadata": {
    "tags": []
   },
   "outputs": [
    {
     "name": "stdout",
     "output_type": "stream",
     "text": [
      "actual_batch_size=96\n"
     ]
    },
    {
     "name": "stderr",
     "output_type": "stream",
     "text": [
      "2023-04-26 16:34:10.781138: I tensorflow/compiler/mlir/mlir_graph_optimization_pass.cc:176] None of the MLIR Optimization Passes are enabled (registered 2)\n",
      "2023-04-26 16:34:10.801939: I tensorflow/core/platform/profile_utils/cpu_utils.cc:114] CPU Frequency: 3699850000 Hz\n",
      "[contract_parser.py:407 - nn_find_contract_value() ] smthinf wrong cp=<analyser.schemas.ContractPrice object at 0x7ff6f43c37f0>\n",
      "Traceback (most recent call last):\n",
      "  File \"/root/artem/analyser/analyser/contract_parser.py\", line 388, in nn_find_contract_value\n",
      "    results = ValueSpansFinder(region)\n",
      "  File \"/root/artem/analyser/analyser/transaction_values.py\", line 144, in __init__\n",
      "    self.number_span, self.value, self.currency_span, self.currencly_name, self.including_vat, self.original_sum, self.vat = find_value_spans(\n",
      "TypeError: cannot unpack non-iterable NoneType object\n",
      "[contract_parser.py:408 - nn_find_contract_value() ] cannot unpack non-iterable NoneType object\n"
     ]
    },
    {
     "name": "stdout",
     "output_type": "stream",
     "text": [
      "actual_batch_size=24\n"
     ]
    },
    {
     "data": {
      "text/html": [
       "<div>\n",
       "<style scoped>\n",
       "    .dataframe tbody tr th:only-of-type {\n",
       "        vertical-align: middle;\n",
       "    }\n",
       "\n",
       "    .dataframe tbody tr th {\n",
       "        vertical-align: top;\n",
       "    }\n",
       "\n",
       "    .dataframe thead th {\n",
       "        text-align: right;\n",
       "    }\n",
       "</style>\n",
       "<table border=\"1\" class=\"dataframe\">\n",
       "  <thead>\n",
       "    <tr style=\"text-align: right;\">\n",
       "      <th></th>\n",
       "      <th>org-1-type_expected</th>\n",
       "      <th>org-1-type_predicted</th>\n",
       "      <th>org-1-name_expected</th>\n",
       "      <th>org-1-name_predicted</th>\n",
       "      <th>org-1-alias_expected</th>\n",
       "      <th>org-1-alias_predicted</th>\n",
       "      <th>org-2-type_expected</th>\n",
       "      <th>org-2-type_predicted</th>\n",
       "      <th>org-2-name_expected</th>\n",
       "      <th>org-2-name_predicted</th>\n",
       "      <th>org-2-alias_expected</th>\n",
       "      <th>org-2-alias_predicted</th>\n",
       "      <th>subject_expected</th>\n",
       "      <th>subject_predicted</th>\n",
       "      <th>date_expected</th>\n",
       "      <th>date_predicted</th>\n",
       "      <th>number_expected</th>\n",
       "      <th>number_predicted</th>\n",
       "    </tr>\n",
       "  </thead>\n",
       "  <tbody>\n",
       "    <tr>\n",
       "      <th>5ec2b8d8665f7603e03b121f</th>\n",
       "      <td>акционерное общество</td>\n",
       "      <td>акционерное общество</td>\n",
       "      <td>гпн</td>\n",
       "      <td>гпн</td>\n",
       "      <td>продавец</td>\n",
       "      <td>продавец</td>\n",
       "      <td>акционерное общество</td>\n",
       "      <td>акционерное общество</td>\n",
       "      <td>вуз</td>\n",
       "      <td>вуз</td>\n",
       "      <td>покупатель</td>\n",
       "      <td>покупатель</td>\n",
       "      <td>Deal</td>\n",
       "      <td>Deal</td>\n",
       "      <td>2015-02-01 00:00:00</td>\n",
       "      <td>2015-02-01 00:00:00</td>\n",
       "      <td>1658/8549</td>\n",
       "      <td></td>\n",
       "    </tr>\n",
       "    <tr>\n",
       "      <th>5ec2b8d8665f7603e03b1224</th>\n",
       "      <td>общество с ограниченной ответственностью</td>\n",
       "      <td>общество с ограниченной ответственностью</td>\n",
       "      <td>компания</td>\n",
       "      <td>компания</td>\n",
       "      <td>займодавец</td>\n",
       "      <td>займодавец</td>\n",
       "      <td>акционерное общество</td>\n",
       "      <td>акционерное общество</td>\n",
       "      <td>гпн-гпн</td>\n",
       "      <td>гпн-гпн</td>\n",
       "      <td>заемщик</td>\n",
       "      <td>заемщик</td>\n",
       "      <td>Loans</td>\n",
       "      <td>Loans</td>\n",
       "      <td>2014-08-16 00:00:00</td>\n",
       "      <td>2014-08-16 00:00:00</td>\n",
       "      <td>7583-ЗР</td>\n",
       "      <td></td>\n",
       "    </tr>\n",
       "    <tr>\n",
       "      <th>5ec2b8d8665f7603e03b1225</th>\n",
       "      <td>общество с ограниченной ответственностью</td>\n",
       "      <td>общество с ограниченной ответственностью</td>\n",
       "      <td>чудеса</td>\n",
       "      <td>чудеса</td>\n",
       "      <td>исполнитель</td>\n",
       "      <td>исполнитель</td>\n",
       "      <td>общество с ограниченной ответственностью</td>\n",
       "      <td>общество с ограниченной ответственностью</td>\n",
       "      <td>газпромнефть-корпоративные продажи</td>\n",
       "      <td>газпромнефть-корпоративные продажи</td>\n",
       "      <td>заказчик</td>\n",
       "      <td>заказчик</td>\n",
       "      <td>Charity</td>\n",
       "      <td>Charity</td>\n",
       "      <td>2018-08-25 00:00:00</td>\n",
       "      <td>2018-08-25 00:00:00</td>\n",
       "      <td>КБ 019</td>\n",
       "      <td></td>\n",
       "    </tr>\n",
       "    <tr>\n",
       "      <th>5ec2b8d8665f7603e03b1226</th>\n",
       "      <td>акционерное общество</td>\n",
       "      <td>акционерное общество</td>\n",
       "      <td>ромашка</td>\n",
       "      <td>ромашка</td>\n",
       "      <td>арендодатель</td>\n",
       "      <td>арендодатель</td>\n",
       "      <td>акционерное общество</td>\n",
       "      <td>акционерное общество</td>\n",
       "      <td>гпн-гпн</td>\n",
       "      <td>гпн-гпн</td>\n",
       "      <td>арендатор</td>\n",
       "      <td>арендатор</td>\n",
       "      <td>Renting</td>\n",
       "      <td>Renting</td>\n",
       "      <td>2015-03-01 00:00:00</td>\n",
       "      <td>2015-03-01 00:00:00</td>\n",
       "      <td>_1569/12__</td>\n",
       "      <td></td>\n",
       "    </tr>\n",
       "    <tr>\n",
       "      <th>5ec2b8d8665f7603e03b1229</th>\n",
       "      <td>общество с ограниченной ответственностью</td>\n",
       "      <td>общество с ограниченной ответственностью</td>\n",
       "      <td>радуга</td>\n",
       "      <td>радуга</td>\n",
       "      <td>продавец</td>\n",
       "      <td>продавец</td>\n",
       "      <td>акционерное общество</td>\n",
       "      <td>акционерное общество</td>\n",
       "      <td>мессояханефтегаз</td>\n",
       "      <td>мессояханефтегаз</td>\n",
       "      <td>покупатель</td>\n",
       "      <td>покупатель</td>\n",
       "      <td>RealEstate</td>\n",
       "      <td>RealEstate</td>\n",
       "      <td>2018-03-16 00:00:00</td>\n",
       "      <td>2018-03-16 00:00:00</td>\n",
       "      <td>№6</td>\n",
       "      <td></td>\n",
       "    </tr>\n",
       "    <tr>\n",
       "      <th>5ec2b8d8665f7603e03b122a</th>\n",
       "      <td>общество с ограниченной ответственностью</td>\n",
       "      <td>общество с ограниченной ответственностью</td>\n",
       "      <td>зеленые луга</td>\n",
       "      <td>зеленые луга</td>\n",
       "      <td>исполнитель</td>\n",
       "      <td>исполнитель</td>\n",
       "      <td>общество с ограниченной ответственностью</td>\n",
       "      <td>общество с ограниченной ответственностью</td>\n",
       "      <td>газпромнефть-корпоративные продажи</td>\n",
       "      <td>газпромнефть-корпоративные продажи</td>\n",
       "      <td>заказчик</td>\n",
       "      <td>заказчик</td>\n",
       "      <td>Charity</td>\n",
       "      <td>Charity</td>\n",
       "      <td>2018-08-25 00:00:00</td>\n",
       "      <td>2018-08-25 00:00:00</td>\n",
       "      <td>КБ 0197531</td>\n",
       "      <td></td>\n",
       "    </tr>\n",
       "    <tr>\n",
       "      <th>5ec2b8d9665f7603e03b1241</th>\n",
       "      <td>общество с ограниченной ответственностью</td>\n",
       "      <td>общество с ограниченной ответственностью</td>\n",
       "      <td>рим</td>\n",
       "      <td>рим</td>\n",
       "      <td>арендодатель</td>\n",
       "      <td>арендодатель</td>\n",
       "      <td>общество с ограниченной ответственностью</td>\n",
       "      <td>общество с ограниченной ответственностью</td>\n",
       "      <td>газпромнефть</td>\n",
       "      <td>газпром нефть</td>\n",
       "      <td>арендатор</td>\n",
       "      <td>арендатор</td>\n",
       "      <td>Renting</td>\n",
       "      <td>Renting</td>\n",
       "      <td>2015-02-01 00:00:00</td>\n",
       "      <td>2015-02-01 00:00:00</td>\n",
       "      <td>965/03</td>\n",
       "      <td></td>\n",
       "    </tr>\n",
       "    <tr>\n",
       "      <th>5ec2b8d9665f7603e03b1243</th>\n",
       "      <td>общество с ограниченной ответственностью</td>\n",
       "      <td>общество с ограниченной ответственностью</td>\n",
       "      <td>гпн</td>\n",
       "      <td>гпн</td>\n",
       "      <td>арендодатель</td>\n",
       "      <td>арендодатель</td>\n",
       "      <td>общество с ограниченной ответственностью</td>\n",
       "      <td>общество с ограниченной ответственностью</td>\n",
       "      <td>время</td>\n",
       "      <td></td>\n",
       "      <td>арендатор</td>\n",
       "      <td>арендатор</td>\n",
       "      <td>Renting</td>\n",
       "      <td>Renting</td>\n",
       "      <td>2015-02-01 00:00:00</td>\n",
       "      <td>2015-02-01 00:00:00</td>\n",
       "      <td>321/569</td>\n",
       "      <td></td>\n",
       "    </tr>\n",
       "    <tr>\n",
       "      <th>5ec2b8da665f7603e03b1252</th>\n",
       "      <td>общество с ограниченной ответственностью</td>\n",
       "      <td>общество с ограниченной ответственностью</td>\n",
       "      <td>ромашка</td>\n",
       "      <td>ромашка</td>\n",
       "      <td>продавец</td>\n",
       "      <td>продавец</td>\n",
       "      <td>акционерное общество</td>\n",
       "      <td>акционерное общество</td>\n",
       "      <td>мессояханефтегаз</td>\n",
       "      <td>мессояханефтегаз</td>\n",
       "      <td>покупатель</td>\n",
       "      <td>покупатель</td>\n",
       "      <td>RealEstate</td>\n",
       "      <td>RealEstate</td>\n",
       "      <td>2018-01-01 00:00:00</td>\n",
       "      <td>2018-01-01 00:00:00</td>\n",
       "      <td>4</td>\n",
       "      <td></td>\n",
       "    </tr>\n",
       "    <tr>\n",
       "      <th>5ec2b8da665f7603e03b1256</th>\n",
       "      <td>общество с ограниченной ответственностью</td>\n",
       "      <td>общество с ограниченной ответственностью</td>\n",
       "      <td>комета</td>\n",
       "      <td>комета</td>\n",
       "      <td>займодавец</td>\n",
       "      <td>займодавец</td>\n",
       "      <td>общество с ограниченной ответственностью</td>\n",
       "      <td>общество с ограниченной ответственностью</td>\n",
       "      <td>газпромнефть шиппинг</td>\n",
       "      <td>газпромнефть шиппинг</td>\n",
       "      <td>заемщик</td>\n",
       "      <td>заемщик</td>\n",
       "      <td>Loans</td>\n",
       "      <td>Loans</td>\n",
       "      <td>2017-06-01 00:00:00</td>\n",
       "      <td>2017-06-01 00:00:00</td>\n",
       "      <td>1598З/859</td>\n",
       "      <td></td>\n",
       "    </tr>\n",
       "  </tbody>\n",
       "</table>\n",
       "</div>"
      ],
      "text/plain": [
       "                                               org-1-type_expected  \\\n",
       "5ec2b8d8665f7603e03b121f                      акционерное общество   \n",
       "5ec2b8d8665f7603e03b1224  общество с ограниченной ответственностью   \n",
       "5ec2b8d8665f7603e03b1225  общество с ограниченной ответственностью   \n",
       "5ec2b8d8665f7603e03b1226                      акционерное общество   \n",
       "5ec2b8d8665f7603e03b1229  общество с ограниченной ответственностью   \n",
       "5ec2b8d8665f7603e03b122a  общество с ограниченной ответственностью   \n",
       "5ec2b8d9665f7603e03b1241  общество с ограниченной ответственностью   \n",
       "5ec2b8d9665f7603e03b1243  общество с ограниченной ответственностью   \n",
       "5ec2b8da665f7603e03b1252  общество с ограниченной ответственностью   \n",
       "5ec2b8da665f7603e03b1256  общество с ограниченной ответственностью   \n",
       "\n",
       "                                              org-1-type_predicted  \\\n",
       "5ec2b8d8665f7603e03b121f                      акционерное общество   \n",
       "5ec2b8d8665f7603e03b1224  общество с ограниченной ответственностью   \n",
       "5ec2b8d8665f7603e03b1225  общество с ограниченной ответственностью   \n",
       "5ec2b8d8665f7603e03b1226                      акционерное общество   \n",
       "5ec2b8d8665f7603e03b1229  общество с ограниченной ответственностью   \n",
       "5ec2b8d8665f7603e03b122a  общество с ограниченной ответственностью   \n",
       "5ec2b8d9665f7603e03b1241  общество с ограниченной ответственностью   \n",
       "5ec2b8d9665f7603e03b1243  общество с ограниченной ответственностью   \n",
       "5ec2b8da665f7603e03b1252  общество с ограниченной ответственностью   \n",
       "5ec2b8da665f7603e03b1256  общество с ограниченной ответственностью   \n",
       "\n",
       "                         org-1-name_expected org-1-name_predicted  \\\n",
       "5ec2b8d8665f7603e03b121f                 гпн                  гпн   \n",
       "5ec2b8d8665f7603e03b1224            компания             компания   \n",
       "5ec2b8d8665f7603e03b1225              чудеса               чудеса   \n",
       "5ec2b8d8665f7603e03b1226             ромашка              ромашка   \n",
       "5ec2b8d8665f7603e03b1229              радуга               радуга   \n",
       "5ec2b8d8665f7603e03b122a        зеленые луга         зеленые луга   \n",
       "5ec2b8d9665f7603e03b1241                 рим                  рим   \n",
       "5ec2b8d9665f7603e03b1243                 гпн                  гпн   \n",
       "5ec2b8da665f7603e03b1252             ромашка              ромашка   \n",
       "5ec2b8da665f7603e03b1256              комета               комета   \n",
       "\n",
       "                         org-1-alias_expected org-1-alias_predicted  \\\n",
       "5ec2b8d8665f7603e03b121f             продавец              продавец   \n",
       "5ec2b8d8665f7603e03b1224           займодавец            займодавец   \n",
       "5ec2b8d8665f7603e03b1225          исполнитель           исполнитель   \n",
       "5ec2b8d8665f7603e03b1226         арендодатель          арендодатель   \n",
       "5ec2b8d8665f7603e03b1229             продавец              продавец   \n",
       "5ec2b8d8665f7603e03b122a          исполнитель           исполнитель   \n",
       "5ec2b8d9665f7603e03b1241         арендодатель          арендодатель   \n",
       "5ec2b8d9665f7603e03b1243         арендодатель          арендодатель   \n",
       "5ec2b8da665f7603e03b1252             продавец              продавец   \n",
       "5ec2b8da665f7603e03b1256           займодавец            займодавец   \n",
       "\n",
       "                                               org-2-type_expected  \\\n",
       "5ec2b8d8665f7603e03b121f                      акционерное общество   \n",
       "5ec2b8d8665f7603e03b1224                      акционерное общество   \n",
       "5ec2b8d8665f7603e03b1225  общество с ограниченной ответственностью   \n",
       "5ec2b8d8665f7603e03b1226                      акционерное общество   \n",
       "5ec2b8d8665f7603e03b1229                      акционерное общество   \n",
       "5ec2b8d8665f7603e03b122a  общество с ограниченной ответственностью   \n",
       "5ec2b8d9665f7603e03b1241  общество с ограниченной ответственностью   \n",
       "5ec2b8d9665f7603e03b1243  общество с ограниченной ответственностью   \n",
       "5ec2b8da665f7603e03b1252                      акционерное общество   \n",
       "5ec2b8da665f7603e03b1256  общество с ограниченной ответственностью   \n",
       "\n",
       "                                              org-2-type_predicted  \\\n",
       "5ec2b8d8665f7603e03b121f                      акционерное общество   \n",
       "5ec2b8d8665f7603e03b1224                      акционерное общество   \n",
       "5ec2b8d8665f7603e03b1225  общество с ограниченной ответственностью   \n",
       "5ec2b8d8665f7603e03b1226                      акционерное общество   \n",
       "5ec2b8d8665f7603e03b1229                      акционерное общество   \n",
       "5ec2b8d8665f7603e03b122a  общество с ограниченной ответственностью   \n",
       "5ec2b8d9665f7603e03b1241  общество с ограниченной ответственностью   \n",
       "5ec2b8d9665f7603e03b1243  общество с ограниченной ответственностью   \n",
       "5ec2b8da665f7603e03b1252                      акционерное общество   \n",
       "5ec2b8da665f7603e03b1256  общество с ограниченной ответственностью   \n",
       "\n",
       "                                         org-2-name_expected  \\\n",
       "5ec2b8d8665f7603e03b121f                                 вуз   \n",
       "5ec2b8d8665f7603e03b1224                             гпн-гпн   \n",
       "5ec2b8d8665f7603e03b1225  газпромнефть-корпоративные продажи   \n",
       "5ec2b8d8665f7603e03b1226                             гпн-гпн   \n",
       "5ec2b8d8665f7603e03b1229                    мессояханефтегаз   \n",
       "5ec2b8d8665f7603e03b122a  газпромнефть-корпоративные продажи   \n",
       "5ec2b8d9665f7603e03b1241                        газпромнефть   \n",
       "5ec2b8d9665f7603e03b1243                               время   \n",
       "5ec2b8da665f7603e03b1252                    мессояханефтегаз   \n",
       "5ec2b8da665f7603e03b1256                газпромнефть шиппинг   \n",
       "\n",
       "                                        org-2-name_predicted  \\\n",
       "5ec2b8d8665f7603e03b121f                                 вуз   \n",
       "5ec2b8d8665f7603e03b1224                             гпн-гпн   \n",
       "5ec2b8d8665f7603e03b1225  газпромнефть-корпоративные продажи   \n",
       "5ec2b8d8665f7603e03b1226                             гпн-гпн   \n",
       "5ec2b8d8665f7603e03b1229                    мессояханефтегаз   \n",
       "5ec2b8d8665f7603e03b122a  газпромнефть-корпоративные продажи   \n",
       "5ec2b8d9665f7603e03b1241                       газпром нефть   \n",
       "5ec2b8d9665f7603e03b1243                                       \n",
       "5ec2b8da665f7603e03b1252                    мессояханефтегаз   \n",
       "5ec2b8da665f7603e03b1256                газпромнефть шиппинг   \n",
       "\n",
       "                         org-2-alias_expected org-2-alias_predicted  \\\n",
       "5ec2b8d8665f7603e03b121f           покупатель            покупатель   \n",
       "5ec2b8d8665f7603e03b1224              заемщик               заемщик   \n",
       "5ec2b8d8665f7603e03b1225             заказчик              заказчик   \n",
       "5ec2b8d8665f7603e03b1226            арендатор             арендатор   \n",
       "5ec2b8d8665f7603e03b1229           покупатель            покупатель   \n",
       "5ec2b8d8665f7603e03b122a             заказчик              заказчик   \n",
       "5ec2b8d9665f7603e03b1241            арендатор             арендатор   \n",
       "5ec2b8d9665f7603e03b1243            арендатор             арендатор   \n",
       "5ec2b8da665f7603e03b1252           покупатель            покупатель   \n",
       "5ec2b8da665f7603e03b1256              заемщик               заемщик   \n",
       "\n",
       "                         subject_expected subject_predicted  \\\n",
       "5ec2b8d8665f7603e03b121f             Deal              Deal   \n",
       "5ec2b8d8665f7603e03b1224            Loans             Loans   \n",
       "5ec2b8d8665f7603e03b1225          Charity           Charity   \n",
       "5ec2b8d8665f7603e03b1226          Renting           Renting   \n",
       "5ec2b8d8665f7603e03b1229       RealEstate        RealEstate   \n",
       "5ec2b8d8665f7603e03b122a          Charity           Charity   \n",
       "5ec2b8d9665f7603e03b1241          Renting           Renting   \n",
       "5ec2b8d9665f7603e03b1243          Renting           Renting   \n",
       "5ec2b8da665f7603e03b1252       RealEstate        RealEstate   \n",
       "5ec2b8da665f7603e03b1256            Loans             Loans   \n",
       "\n",
       "                                date_expected       date_predicted  \\\n",
       "5ec2b8d8665f7603e03b121f  2015-02-01 00:00:00  2015-02-01 00:00:00   \n",
       "5ec2b8d8665f7603e03b1224  2014-08-16 00:00:00  2014-08-16 00:00:00   \n",
       "5ec2b8d8665f7603e03b1225  2018-08-25 00:00:00  2018-08-25 00:00:00   \n",
       "5ec2b8d8665f7603e03b1226  2015-03-01 00:00:00  2015-03-01 00:00:00   \n",
       "5ec2b8d8665f7603e03b1229  2018-03-16 00:00:00  2018-03-16 00:00:00   \n",
       "5ec2b8d8665f7603e03b122a  2018-08-25 00:00:00  2018-08-25 00:00:00   \n",
       "5ec2b8d9665f7603e03b1241  2015-02-01 00:00:00  2015-02-01 00:00:00   \n",
       "5ec2b8d9665f7603e03b1243  2015-02-01 00:00:00  2015-02-01 00:00:00   \n",
       "5ec2b8da665f7603e03b1252  2018-01-01 00:00:00  2018-01-01 00:00:00   \n",
       "5ec2b8da665f7603e03b1256  2017-06-01 00:00:00  2017-06-01 00:00:00   \n",
       "\n",
       "                         number_expected number_predicted  \n",
       "5ec2b8d8665f7603e03b121f       1658/8549                   \n",
       "5ec2b8d8665f7603e03b1224         7583-ЗР                   \n",
       "5ec2b8d8665f7603e03b1225          КБ 019                   \n",
       "5ec2b8d8665f7603e03b1226      _1569/12__                   \n",
       "5ec2b8d8665f7603e03b1229              №6                   \n",
       "5ec2b8d8665f7603e03b122a      КБ 0197531                   \n",
       "5ec2b8d9665f7603e03b1241          965/03                   \n",
       "5ec2b8d9665f7603e03b1243         321/569                   \n",
       "5ec2b8da665f7603e03b1252               4                   \n",
       "5ec2b8da665f7603e03b1256       1598З/859                   "
      ]
     },
     "execution_count": 37,
     "metadata": {},
     "output_type": "execute_result"
    }
   ],
   "source": [
    "validation_set = userdocs\n",
    "\n",
    "if TEST_FLOW:\n",
    "    validation_set = userdocs[0:20]\n",
    "    \n",
    "predictions_by_id = {}\n",
    "\n",
    "for i in range(0, len(validation_set), batch_size):\n",
    "    batch = userdocs[i:i+batch_size]\n",
    "    actual_batch_size=len(batch)\n",
    "    print(f'{actual_batch_size=}')\n",
    "    batch_input_emb=[]\n",
    "    batch_input_token_f=[]\n",
    "    for _id in batch.index.values:\n",
    " \n",
    "        dp = make_xyw(_id, userdocs)\n",
    "        dp = UberModelTrainsetManager.trim_maxlen(dp, 0, maxlen  )\n",
    "        (emb, tok_f), (sm, subj), (sample_weight, subject_weight) = dp\n",
    "\n",
    "        batch_input_emb.append(emb)\n",
    "        batch_input_token_f.append(tok_f)\n",
    "        \n",
    "        expected_subj =  decode_subj_prediction(subj)[0]\n",
    "        userdocs.at[_id, 'subject_expected'] = expected_subj.name\n",
    " \n",
    "\n",
    "    del _id\n",
    "    del dp\n",
    "\n",
    "    \n",
    "    dps =  [np.array(batch_input_emb), np.array(batch_input_token_f)]\n",
    " \n",
    "    \n",
    "    predictions = umodel.predict(x=dps, batch_size=actual_batch_size)\n",
    "    del batch_input_emb\n",
    "    del batch_input_token_f\n",
    "    \n",
    "    p_tags = predictions[0]\n",
    "    p_subj = predictions[1]\n",
    "    for k,_id in enumerate(batch.index.values):\n",
    "                   \n",
    "        tagsmap = pd.DataFrame(p_tags[k], columns=semantic_map_keys_contract)\n",
    "        interpret_prediction(_id, tagsmap, userdocs)\n",
    "        predictions_by_id[_id] = tagsmap\n",
    "        \n",
    "        subj_1hot = p_subj[k]\n",
    "\n",
    "        predicted = decode_subj_prediction(subj_1hot)[0]\n",
    "        userdocs.at[_id, 'subject_predicted'] = predicted.name\n",
    "        \n",
    "userdocs[\n",
    "  ['org-1-type_expected', 'org-1-type_predicted', 'org-1-name_expected', 'org-1-name_predicted', 'org-1-alias_expected', 'org-1-alias_predicted', \n",
    "   'org-2-type_expected', 'org-2-type_predicted', 'org-2-name_expected', 'org-2-name_predicted', 'org-2-alias_expected', 'org-2-alias_predicted', \n",
    "   'subject_expected', 'subject_predicted', 'date_expected',\n",
    "   'date_predicted', 'number_expected', 'number_predicted']].head(10)\n",
    "\n"
   ]
  },
  {
   "cell_type": "markdown",
   "metadata": {},
   "source": [
    "## Interpret predictions"
   ]
  },
  {
   "cell_type": "code",
   "execution_count": null,
   "metadata": {},
   "outputs": [],
   "source": []
  },
  {
   "cell_type": "code",
   "execution_count": 38,
   "metadata": {
    "tags": []
   },
   "outputs": [
    {
     "data": {
      "text/html": [
       "<div>\n",
       "<style scoped>\n",
       "    .dataframe tbody tr th:only-of-type {\n",
       "        vertical-align: middle;\n",
       "    }\n",
       "\n",
       "    .dataframe tbody tr th {\n",
       "        vertical-align: top;\n",
       "    }\n",
       "\n",
       "    .dataframe thead th {\n",
       "        text-align: right;\n",
       "    }\n",
       "</style>\n",
       "<table border=\"1\" class=\"dataframe\">\n",
       "  <thead>\n",
       "    <tr style=\"text-align: right;\">\n",
       "      <th></th>\n",
       "      <th>headline-begin</th>\n",
       "      <th>headline-end</th>\n",
       "      <th>subject-begin</th>\n",
       "      <th>subject-end</th>\n",
       "      <th>date-begin</th>\n",
       "      <th>date-end</th>\n",
       "      <th>number-begin</th>\n",
       "      <th>number-end</th>\n",
       "      <th>org-name-begin</th>\n",
       "      <th>org-name-end</th>\n",
       "      <th>...</th>\n",
       "      <th>vat-begin</th>\n",
       "      <th>vat-end</th>\n",
       "      <th>sign-begin</th>\n",
       "      <th>sign-end</th>\n",
       "      <th>currency-begin</th>\n",
       "      <th>currency-end</th>\n",
       "      <th>vat_unit-begin</th>\n",
       "      <th>vat_unit-end</th>\n",
       "      <th>value-begin</th>\n",
       "      <th>value-end</th>\n",
       "    </tr>\n",
       "  </thead>\n",
       "  <tbody>\n",
       "    <tr>\n",
       "      <th>0</th>\n",
       "      <td>1.000000</td>\n",
       "      <td>0.013287</td>\n",
       "      <td>0.000713</td>\n",
       "      <td>2.170851e-12</td>\n",
       "      <td>0.007649</td>\n",
       "      <td>0.003241</td>\n",
       "      <td>0.007168</td>\n",
       "      <td>0.027557</td>\n",
       "      <td>0.005397</td>\n",
       "      <td>0.000125</td>\n",
       "      <td>...</td>\n",
       "      <td>1.264238e-07</td>\n",
       "      <td>5.901357e-12</td>\n",
       "      <td>0.004235</td>\n",
       "      <td>1.074142e-05</td>\n",
       "      <td>0.000014</td>\n",
       "      <td>1.348409e-08</td>\n",
       "      <td>2.461460e-06</td>\n",
       "      <td>2.340923e-20</td>\n",
       "      <td>9.424064e-05</td>\n",
       "      <td>0.004445</td>\n",
       "    </tr>\n",
       "    <tr>\n",
       "      <th>1</th>\n",
       "      <td>1.000000</td>\n",
       "      <td>0.014216</td>\n",
       "      <td>0.001566</td>\n",
       "      <td>1.398343e-17</td>\n",
       "      <td>0.009270</td>\n",
       "      <td>0.008487</td>\n",
       "      <td>0.010784</td>\n",
       "      <td>0.040579</td>\n",
       "      <td>0.006771</td>\n",
       "      <td>0.000963</td>\n",
       "      <td>...</td>\n",
       "      <td>3.117696e-08</td>\n",
       "      <td>1.981446e-11</td>\n",
       "      <td>0.007377</td>\n",
       "      <td>1.066690e-04</td>\n",
       "      <td>0.000005</td>\n",
       "      <td>4.113426e-09</td>\n",
       "      <td>2.220337e-07</td>\n",
       "      <td>5.822065e-28</td>\n",
       "      <td>8.703147e-06</td>\n",
       "      <td>0.004919</td>\n",
       "    </tr>\n",
       "    <tr>\n",
       "      <th>2</th>\n",
       "      <td>1.000000</td>\n",
       "      <td>0.014731</td>\n",
       "      <td>0.000731</td>\n",
       "      <td>6.501762e-13</td>\n",
       "      <td>0.009533</td>\n",
       "      <td>0.011565</td>\n",
       "      <td>0.006512</td>\n",
       "      <td>0.024697</td>\n",
       "      <td>0.005745</td>\n",
       "      <td>0.000006</td>\n",
       "      <td>...</td>\n",
       "      <td>6.348170e-09</td>\n",
       "      <td>8.174837e-19</td>\n",
       "      <td>0.006845</td>\n",
       "      <td>8.796717e-09</td>\n",
       "      <td>0.000002</td>\n",
       "      <td>5.455092e-13</td>\n",
       "      <td>5.200912e-08</td>\n",
       "      <td>2.495344e-34</td>\n",
       "      <td>7.364558e-06</td>\n",
       "      <td>0.005684</td>\n",
       "    </tr>\n",
       "    <tr>\n",
       "      <th>3</th>\n",
       "      <td>1.000000</td>\n",
       "      <td>0.015043</td>\n",
       "      <td>0.000722</td>\n",
       "      <td>2.841842e-06</td>\n",
       "      <td>0.006386</td>\n",
       "      <td>0.010823</td>\n",
       "      <td>0.010819</td>\n",
       "      <td>0.022223</td>\n",
       "      <td>0.004344</td>\n",
       "      <td>0.000047</td>\n",
       "      <td>...</td>\n",
       "      <td>1.081388e-11</td>\n",
       "      <td>4.520006e-17</td>\n",
       "      <td>0.003211</td>\n",
       "      <td>3.357217e-07</td>\n",
       "      <td>0.000027</td>\n",
       "      <td>2.168699e-16</td>\n",
       "      <td>6.010293e-09</td>\n",
       "      <td>2.345891e-29</td>\n",
       "      <td>2.333329e-07</td>\n",
       "      <td>0.000298</td>\n",
       "    </tr>\n",
       "    <tr>\n",
       "      <th>4</th>\n",
       "      <td>1.000000</td>\n",
       "      <td>0.015524</td>\n",
       "      <td>0.002336</td>\n",
       "      <td>1.575149e-10</td>\n",
       "      <td>0.013222</td>\n",
       "      <td>0.014166</td>\n",
       "      <td>0.011198</td>\n",
       "      <td>0.033769</td>\n",
       "      <td>0.005468</td>\n",
       "      <td>0.000022</td>\n",
       "      <td>...</td>\n",
       "      <td>3.893325e-09</td>\n",
       "      <td>4.007467e-14</td>\n",
       "      <td>0.002993</td>\n",
       "      <td>5.040467e-04</td>\n",
       "      <td>0.000026</td>\n",
       "      <td>1.715751e-10</td>\n",
       "      <td>4.382256e-08</td>\n",
       "      <td>1.079730e-27</td>\n",
       "      <td>2.801349e-07</td>\n",
       "      <td>0.000516</td>\n",
       "    </tr>\n",
       "    <tr>\n",
       "      <th>...</th>\n",
       "      <td>...</td>\n",
       "      <td>...</td>\n",
       "      <td>...</td>\n",
       "      <td>...</td>\n",
       "      <td>...</td>\n",
       "      <td>...</td>\n",
       "      <td>...</td>\n",
       "      <td>...</td>\n",
       "      <td>...</td>\n",
       "      <td>...</td>\n",
       "      <td>...</td>\n",
       "      <td>...</td>\n",
       "      <td>...</td>\n",
       "      <td>...</td>\n",
       "      <td>...</td>\n",
       "      <td>...</td>\n",
       "      <td>...</td>\n",
       "      <td>...</td>\n",
       "      <td>...</td>\n",
       "      <td>...</td>\n",
       "      <td>...</td>\n",
       "    </tr>\n",
       "    <tr>\n",
       "      <th>1531</th>\n",
       "      <td>0.005515</td>\n",
       "      <td>0.001423</td>\n",
       "      <td>0.002338</td>\n",
       "      <td>3.330767e-03</td>\n",
       "      <td>0.000133</td>\n",
       "      <td>0.001255</td>\n",
       "      <td>0.000638</td>\n",
       "      <td>0.008282</td>\n",
       "      <td>0.003425</td>\n",
       "      <td>0.003917</td>\n",
       "      <td>...</td>\n",
       "      <td>5.187362e-03</td>\n",
       "      <td>5.901217e-03</td>\n",
       "      <td>0.007026</td>\n",
       "      <td>9.304047e-03</td>\n",
       "      <td>0.006236</td>\n",
       "      <td>1.276076e-03</td>\n",
       "      <td>6.704837e-03</td>\n",
       "      <td>6.414771e-03</td>\n",
       "      <td>4.330546e-03</td>\n",
       "      <td>0.006176</td>\n",
       "    </tr>\n",
       "    <tr>\n",
       "      <th>1532</th>\n",
       "      <td>0.005471</td>\n",
       "      <td>0.001371</td>\n",
       "      <td>0.002201</td>\n",
       "      <td>3.235966e-03</td>\n",
       "      <td>0.000093</td>\n",
       "      <td>0.001008</td>\n",
       "      <td>0.000564</td>\n",
       "      <td>0.008423</td>\n",
       "      <td>0.003149</td>\n",
       "      <td>0.003980</td>\n",
       "      <td>...</td>\n",
       "      <td>4.930407e-03</td>\n",
       "      <td>5.744427e-03</td>\n",
       "      <td>0.006804</td>\n",
       "      <td>9.294033e-03</td>\n",
       "      <td>0.005971</td>\n",
       "      <td>1.210868e-03</td>\n",
       "      <td>6.287038e-03</td>\n",
       "      <td>6.579757e-03</td>\n",
       "      <td>4.173458e-03</td>\n",
       "      <td>0.005993</td>\n",
       "    </tr>\n",
       "    <tr>\n",
       "      <th>1533</th>\n",
       "      <td>0.005440</td>\n",
       "      <td>0.001319</td>\n",
       "      <td>0.002060</td>\n",
       "      <td>3.141910e-03</td>\n",
       "      <td>0.000062</td>\n",
       "      <td>0.000788</td>\n",
       "      <td>0.000490</td>\n",
       "      <td>0.008566</td>\n",
       "      <td>0.002849</td>\n",
       "      <td>0.004020</td>\n",
       "      <td>...</td>\n",
       "      <td>4.648954e-03</td>\n",
       "      <td>5.588710e-03</td>\n",
       "      <td>0.006577</td>\n",
       "      <td>9.283364e-03</td>\n",
       "      <td>0.005684</td>\n",
       "      <td>1.147926e-03</td>\n",
       "      <td>5.874485e-03</td>\n",
       "      <td>6.748974e-03</td>\n",
       "      <td>4.015833e-03</td>\n",
       "      <td>0.005806</td>\n",
       "    </tr>\n",
       "    <tr>\n",
       "      <th>1534</th>\n",
       "      <td>0.005433</td>\n",
       "      <td>0.001270</td>\n",
       "      <td>0.001915</td>\n",
       "      <td>3.056079e-03</td>\n",
       "      <td>0.000038</td>\n",
       "      <td>0.000600</td>\n",
       "      <td>0.000417</td>\n",
       "      <td>0.008707</td>\n",
       "      <td>0.002528</td>\n",
       "      <td>0.004025</td>\n",
       "      <td>...</td>\n",
       "      <td>4.345715e-03</td>\n",
       "      <td>5.444020e-03</td>\n",
       "      <td>0.006358</td>\n",
       "      <td>9.273231e-03</td>\n",
       "      <td>0.005379</td>\n",
       "      <td>1.089454e-03</td>\n",
       "      <td>5.482763e-03</td>\n",
       "      <td>6.917655e-03</td>\n",
       "      <td>3.864229e-03</td>\n",
       "      <td>0.005618</td>\n",
       "    </tr>\n",
       "    <tr>\n",
       "      <th>1535</th>\n",
       "      <td>0.005461</td>\n",
       "      <td>0.001228</td>\n",
       "      <td>0.001768</td>\n",
       "      <td>2.990484e-03</td>\n",
       "      <td>0.000021</td>\n",
       "      <td>0.000447</td>\n",
       "      <td>0.000345</td>\n",
       "      <td>0.008842</td>\n",
       "      <td>0.002193</td>\n",
       "      <td>0.003977</td>\n",
       "      <td>...</td>\n",
       "      <td>4.027277e-03</td>\n",
       "      <td>5.325735e-03</td>\n",
       "      <td>0.006167</td>\n",
       "      <td>9.266049e-03</td>\n",
       "      <td>0.005062</td>\n",
       "      <td>1.038641e-03</td>\n",
       "      <td>5.134612e-03</td>\n",
       "      <td>7.076859e-03</td>\n",
       "      <td>3.727704e-03</td>\n",
       "      <td>0.005432</td>\n",
       "    </tr>\n",
       "  </tbody>\n",
       "</table>\n",
       "<p>1536 rows × 30 columns</p>\n",
       "</div>"
      ],
      "text/plain": [
       "      headline-begin  headline-end  subject-begin   subject-end  date-begin  \\\n",
       "0           1.000000      0.013287       0.000713  2.170851e-12    0.007649   \n",
       "1           1.000000      0.014216       0.001566  1.398343e-17    0.009270   \n",
       "2           1.000000      0.014731       0.000731  6.501762e-13    0.009533   \n",
       "3           1.000000      0.015043       0.000722  2.841842e-06    0.006386   \n",
       "4           1.000000      0.015524       0.002336  1.575149e-10    0.013222   \n",
       "...              ...           ...            ...           ...         ...   \n",
       "1531        0.005515      0.001423       0.002338  3.330767e-03    0.000133   \n",
       "1532        0.005471      0.001371       0.002201  3.235966e-03    0.000093   \n",
       "1533        0.005440      0.001319       0.002060  3.141910e-03    0.000062   \n",
       "1534        0.005433      0.001270       0.001915  3.056079e-03    0.000038   \n",
       "1535        0.005461      0.001228       0.001768  2.990484e-03    0.000021   \n",
       "\n",
       "      date-end  number-begin  number-end  org-name-begin  org-name-end  ...  \\\n",
       "0     0.003241      0.007168    0.027557        0.005397      0.000125  ...   \n",
       "1     0.008487      0.010784    0.040579        0.006771      0.000963  ...   \n",
       "2     0.011565      0.006512    0.024697        0.005745      0.000006  ...   \n",
       "3     0.010823      0.010819    0.022223        0.004344      0.000047  ...   \n",
       "4     0.014166      0.011198    0.033769        0.005468      0.000022  ...   \n",
       "...        ...           ...         ...             ...           ...  ...   \n",
       "1531  0.001255      0.000638    0.008282        0.003425      0.003917  ...   \n",
       "1532  0.001008      0.000564    0.008423        0.003149      0.003980  ...   \n",
       "1533  0.000788      0.000490    0.008566        0.002849      0.004020  ...   \n",
       "1534  0.000600      0.000417    0.008707        0.002528      0.004025  ...   \n",
       "1535  0.000447      0.000345    0.008842        0.002193      0.003977  ...   \n",
       "\n",
       "         vat-begin       vat-end  sign-begin      sign-end  currency-begin  \\\n",
       "0     1.264238e-07  5.901357e-12    0.004235  1.074142e-05        0.000014   \n",
       "1     3.117696e-08  1.981446e-11    0.007377  1.066690e-04        0.000005   \n",
       "2     6.348170e-09  8.174837e-19    0.006845  8.796717e-09        0.000002   \n",
       "3     1.081388e-11  4.520006e-17    0.003211  3.357217e-07        0.000027   \n",
       "4     3.893325e-09  4.007467e-14    0.002993  5.040467e-04        0.000026   \n",
       "...            ...           ...         ...           ...             ...   \n",
       "1531  5.187362e-03  5.901217e-03    0.007026  9.304047e-03        0.006236   \n",
       "1532  4.930407e-03  5.744427e-03    0.006804  9.294033e-03        0.005971   \n",
       "1533  4.648954e-03  5.588710e-03    0.006577  9.283364e-03        0.005684   \n",
       "1534  4.345715e-03  5.444020e-03    0.006358  9.273231e-03        0.005379   \n",
       "1535  4.027277e-03  5.325735e-03    0.006167  9.266049e-03        0.005062   \n",
       "\n",
       "      currency-end  vat_unit-begin  vat_unit-end   value-begin  value-end  \n",
       "0     1.348409e-08    2.461460e-06  2.340923e-20  9.424064e-05   0.004445  \n",
       "1     4.113426e-09    2.220337e-07  5.822065e-28  8.703147e-06   0.004919  \n",
       "2     5.455092e-13    5.200912e-08  2.495344e-34  7.364558e-06   0.005684  \n",
       "3     2.168699e-16    6.010293e-09  2.345891e-29  2.333329e-07   0.000298  \n",
       "4     1.715751e-10    4.382256e-08  1.079730e-27  2.801349e-07   0.000516  \n",
       "...            ...             ...           ...           ...        ...  \n",
       "1531  1.276076e-03    6.704837e-03  6.414771e-03  4.330546e-03   0.006176  \n",
       "1532  1.210868e-03    6.287038e-03  6.579757e-03  4.173458e-03   0.005993  \n",
       "1533  1.147926e-03    5.874485e-03  6.748974e-03  4.015833e-03   0.005806  \n",
       "1534  1.089454e-03    5.482763e-03  6.917655e-03  3.864229e-03   0.005618  \n",
       "1535  1.038641e-03    5.134612e-03  7.076859e-03  3.727704e-03   0.005432  \n",
       "\n",
       "[1536 rows x 30 columns]"
      ]
     },
     "execution_count": 38,
     "metadata": {},
     "output_type": "execute_result"
    }
   ],
   "source": [
    "_first_id  = list(predictions_by_id.keys())[0]\n",
    "_first_id\n",
    "_fp = predictions_by_id[_first_id]\n",
    "_fp"
   ]
  },
  {
   "cell_type": "code",
   "execution_count": null,
   "metadata": {
    "tags": []
   },
   "outputs": [],
   "source": []
  },
  {
   "cell_type": "code",
   "execution_count": 40,
   "metadata": {
    "tags": []
   },
   "outputs": [
    {
     "data": {
      "text/html": [
       "<div>\n",
       "<style scoped>\n",
       "    .dataframe tbody tr th:only-of-type {\n",
       "        vertical-align: middle;\n",
       "    }\n",
       "\n",
       "    .dataframe tbody tr th {\n",
       "        vertical-align: top;\n",
       "    }\n",
       "\n",
       "    .dataframe thead th {\n",
       "        text-align: right;\n",
       "    }\n",
       "</style>\n",
       "<table border=\"1\" class=\"dataframe\">\n",
       "  <thead>\n",
       "    <tr style=\"text-align: right;\">\n",
       "      <th></th>\n",
       "      <th>number_expected</th>\n",
       "      <th>date_expected</th>\n",
       "      <th>subject_expected</th>\n",
       "      <th>subject</th>\n",
       "      <th>org-1-name_expected</th>\n",
       "      <th>org-2-name_expected</th>\n",
       "      <th>org-1-alias_expected</th>\n",
       "      <th>org-2-alias_expected</th>\n",
       "      <th>org-1-type_expected</th>\n",
       "      <th>org-2-type_expected</th>\n",
       "      <th>...</th>\n",
       "      <th>org-1-alias_predicted</th>\n",
       "      <th>org-2-alias_predicted</th>\n",
       "      <th>org-1-type_predicted</th>\n",
       "      <th>org-2-type_predicted</th>\n",
       "      <th>amount_brutto_predicted</th>\n",
       "      <th>vat_predicted</th>\n",
       "      <th>currency_predicted</th>\n",
       "      <th>vat_unit_predicted</th>\n",
       "      <th>number_predicted</th>\n",
       "      <th>date_predicted</th>\n",
       "    </tr>\n",
       "  </thead>\n",
       "  <tbody>\n",
       "    <tr>\n",
       "      <th>5ec2b8d8665f7603e03b121f</th>\n",
       "      <td>1658/8549</td>\n",
       "      <td>2015-02-01</td>\n",
       "      <td>Deal</td>\n",
       "      <td>Deal</td>\n",
       "      <td>гпн</td>\n",
       "      <td>вуз</td>\n",
       "      <td>продавец</td>\n",
       "      <td>покупатель</td>\n",
       "      <td>акционерное общество</td>\n",
       "      <td>акционерное общество</td>\n",
       "      <td>...</td>\n",
       "      <td>продавец</td>\n",
       "      <td>покупатель</td>\n",
       "      <td>акционерное общество</td>\n",
       "      <td>акционерное общество</td>\n",
       "      <td>65000000.0</td>\n",
       "      <td>65000000.0</td>\n",
       "      <td>RUB</td>\n",
       "      <td>.</td>\n",
       "      <td></td>\n",
       "      <td>2015-02-01 00:00:00</td>\n",
       "    </tr>\n",
       "  </tbody>\n",
       "</table>\n",
       "<p>1 rows × 30 columns</p>\n",
       "</div>"
      ],
      "text/plain": [
       "                         number_expected date_expected subject_expected  \\\n",
       "5ec2b8d8665f7603e03b121f       1658/8549    2015-02-01             Deal   \n",
       "\n",
       "                         subject org-1-name_expected org-2-name_expected  \\\n",
       "5ec2b8d8665f7603e03b121f    Deal                 гпн                 вуз   \n",
       "\n",
       "                         org-1-alias_expected org-2-alias_expected  \\\n",
       "5ec2b8d8665f7603e03b121f             продавец           покупатель   \n",
       "\n",
       "                           org-1-type_expected   org-2-type_expected  ...  \\\n",
       "5ec2b8d8665f7603e03b121f  акционерное общество  акционерное общество  ...   \n",
       "\n",
       "                          org-1-alias_predicted  org-2-alias_predicted  \\\n",
       "5ec2b8d8665f7603e03b121f               продавец             покупатель   \n",
       "\n",
       "                          org-1-type_predicted  org-2-type_predicted  \\\n",
       "5ec2b8d8665f7603e03b121f  акционерное общество  акционерное общество   \n",
       "\n",
       "                         amount_brutto_predicted vat_predicted  \\\n",
       "5ec2b8d8665f7603e03b121f              65000000.0    65000000.0   \n",
       "\n",
       "                          currency_predicted vat_unit_predicted  \\\n",
       "5ec2b8d8665f7603e03b121f                 RUB                  .   \n",
       "\n",
       "                         number_predicted       date_predicted  \n",
       "5ec2b8d8665f7603e03b121f                   2015-02-01 00:00:00  \n",
       "\n",
       "[1 rows x 30 columns]"
      ]
     },
     "execution_count": 40,
     "metadata": {},
     "output_type": "execute_result"
    }
   ],
   "source": [
    "def threshold_predictions(p, col_name, threshold):\n",
    "    p = p.copy()\n",
    "    p[col_name][p[col_name] > threshold] = 1.0\n",
    "    p[col_name][p[col_name] < 1] = 0\n",
    "    return p\n",
    "\n",
    "# th = _fp.copy()\n",
    "# threshold = 0.8\n",
    "# th[th['val'] > threshold] = 1\n",
    "# th['subject-begin']=th[th['subject-begin']>0.1]\n",
    "\n",
    "\n",
    "_th = threshold_predictions(_fp, 'date-begin', 0.998)\n",
    "_df = DataFrame()\n",
    "interpret_prediction(_first_id, _th, _df)\n",
    "_df"
   ]
  },
  {
   "cell_type": "markdown",
   "metadata": {},
   "source": [
    "### Clean predicted/expected values"
   ]
  },
  {
   "cell_type": "code",
   "execution_count": 37,
   "metadata": {},
   "outputs": [],
   "source": [
    "\n",
    "columns = []\n",
    "for v in semantic_keys_numeric:\n",
    "    for s in ['_expected', '_predicted' ]:\n",
    "        col = f'{v}{s}'\n",
    "        userdocs[col] = userdocs[col].replace('',np.NaN).replace(np.NaN, -1).astype(int)\n",
    "        columns.append(col)\n",
    "        \n",
    "userdocs['date_predicted'] = userdocs['date_predicted'].astype(str)        \n",
    "userdocs['date_expected'] = userdocs['date_expected'].astype(str)        \n",
    "# userdocs[columns]"
   ]
  },
  {
   "cell_type": "code",
   "execution_count": 38,
   "metadata": {},
   "outputs": [],
   "source": [
    "userdocs=userdocs.replace('None', '')\n",
    "userdocs=userdocs.replace('none', '')\n",
    "userdocs=userdocs.replace('nan', '')\n",
    "\n",
    "userdocs.date_expected =  userdocs.date_expected.replace(np.NaN, '')\n",
    "userdocs.date_predicted = userdocs.date_predicted.replace(np.NaN, '')\n",
    "\n",
    "userdocs.number_expected =  userdocs.number_expected.replace(np.NaN, '')\n",
    "userdocs.number_predicted = userdocs.number_predicted.replace(np.NaN, '')\n",
    "\n",
    "userdocs.vat_unit_expected =  userdocs.vat_unit_expected.replace(np.NaN, '')\n",
    "userdocs.vat_unit_predicted = userdocs.vat_unit_predicted.replace(np.NaN, '')\n",
    "\n",
    "userdocs.vat_expected =  userdocs.vat_expected.replace(np.NaN, '')\n",
    "userdocs.vat_predicted = userdocs.vat_predicted.replace(np.NaN, '')\n",
    "\n",
    "userdocs.sign_expected =  userdocs.sign_expected.replace(np.NaN, '')\n",
    "userdocs.sign_predicted = userdocs.sign_predicted.replace(np.NaN, '')\n",
    "\n",
    "userdocs.currency_expected =  userdocs.currency_expected.replace(np.NaN, '')\n",
    "userdocs.currency_predicted = userdocs.currency_predicted.replace(np.NaN, '')\n",
    "\n",
    "# userdocs[['date_expected', 'date_predicted', 'number_expected', 'number_predicted']]"
   ]
  },
  {
   "cell_type": "code",
   "execution_count": 39,
   "metadata": {},
   "outputs": [],
   "source": [
    "def select_wrong(userdocs, key):\n",
    "    s= userdocs[userdocs[f'{key}_expected'] != userdocs[f'{key}_predicted']][[f'{key}_expected', f'{key}_predicted']]\n",
    "    p=float(len(s)) / len(userdocs)\n",
    "    return s,p"
   ]
  },
  {
   "cell_type": "markdown",
   "metadata": {},
   "source": [
    "# Tags report\n",
    "## accuracy report"
   ]
  },
  {
   "cell_type": "code",
   "execution_count": 40,
   "metadata": {
    "tags": []
   },
   "outputs": [
    {
     "data": {
      "text/html": [
       "<div>\n",
       "<style scoped>\n",
       "    .dataframe tbody tr th:only-of-type {\n",
       "        vertical-align: middle;\n",
       "    }\n",
       "\n",
       "    .dataframe tbody tr th {\n",
       "        vertical-align: top;\n",
       "    }\n",
       "\n",
       "    .dataframe thead th {\n",
       "        text-align: right;\n",
       "    }\n",
       "</style>\n",
       "<table border=\"1\" class=\"dataframe\">\n",
       "  <thead>\n",
       "    <tr style=\"text-align: right;\">\n",
       "      <th></th>\n",
       "      <th>accuracy</th>\n",
       "    </tr>\n",
       "  </thead>\n",
       "  <tbody>\n",
       "    <tr>\n",
       "      <th>subject</th>\n",
       "      <td>0.8%</td>\n",
       "    </tr>\n",
       "    <tr>\n",
       "      <th>date</th>\n",
       "      <td>45.8%</td>\n",
       "    </tr>\n",
       "    <tr>\n",
       "      <th>number</th>\n",
       "      <td>1.7%</td>\n",
       "    </tr>\n",
       "    <tr>\n",
       "      <th>amount</th>\n",
       "      <td>98.3%</td>\n",
       "    </tr>\n",
       "    <tr>\n",
       "      <th>amount_brutto</th>\n",
       "      <td>64.2%</td>\n",
       "    </tr>\n",
       "    <tr>\n",
       "      <th>amount_netto</th>\n",
       "      <td>37.5%</td>\n",
       "    </tr>\n",
       "    <tr>\n",
       "      <th>vat</th>\n",
       "      <td>69.2%</td>\n",
       "    </tr>\n",
       "    <tr>\n",
       "      <th>sign</th>\n",
       "      <td>0.0%</td>\n",
       "    </tr>\n",
       "    <tr>\n",
       "      <th>currency</th>\n",
       "      <td>27.5%</td>\n",
       "    </tr>\n",
       "    <tr>\n",
       "      <th>vat_unit</th>\n",
       "      <td>61.7%</td>\n",
       "    </tr>\n",
       "    <tr>\n",
       "      <th>org-1-name</th>\n",
       "      <td>0.8%</td>\n",
       "    </tr>\n",
       "    <tr>\n",
       "      <th>org-1-alias</th>\n",
       "      <td>0.0%</td>\n",
       "    </tr>\n",
       "    <tr>\n",
       "      <th>org-1-type</th>\n",
       "      <td>35.0%</td>\n",
       "    </tr>\n",
       "    <tr>\n",
       "      <th>org-2-name</th>\n",
       "      <td>3.3%</td>\n",
       "    </tr>\n",
       "    <tr>\n",
       "      <th>org-2-alias</th>\n",
       "      <td>1.7%</td>\n",
       "    </tr>\n",
       "    <tr>\n",
       "      <th>org-2-type</th>\n",
       "      <td>7.5%</td>\n",
       "    </tr>\n",
       "    <tr>\n",
       "      <th>ALL</th>\n",
       "      <td>28.4%</td>\n",
       "    </tr>\n",
       "  </tbody>\n",
       "</table>\n",
       "</div>"
      ],
      "text/plain": [
       "              accuracy\n",
       "subject           0.8%\n",
       "date             45.8%\n",
       "number            1.7%\n",
       "amount           98.3%\n",
       "amount_brutto    64.2%\n",
       "amount_netto     37.5%\n",
       "vat              69.2%\n",
       "sign              0.0%\n",
       "currency         27.5%\n",
       "vat_unit         61.7%\n",
       "org-1-name        0.8%\n",
       "org-1-alias       0.0%\n",
       "org-1-type       35.0%\n",
       "org-2-name        3.3%\n",
       "org-2-alias       1.7%\n",
       "org-2-type        7.5%\n",
       "ALL              28.4%"
      ]
     },
     "execution_count": 40,
     "metadata": {},
     "output_type": "execute_result"
    }
   ],
   "source": [
    "userdocs['number_of_errors'] = 0\n",
    "report = pd.DataFrame()\n",
    "\n",
    "n   = 0\n",
    "avg = 0\n",
    "\n",
    "for k in t_semantic_map_keys_common[1:] + t_semantic_map_keys_price + org_numbered_keys :\n",
    "    s, p = select_wrong(userdocs, k)\n",
    "    for _id, _ in s.iterrows():\n",
    "       userdocs.at[_id, 'number_of_errors'] += 1\n",
    "    \n",
    "    acc = 1.0 - p\n",
    "    report.at[k, 'accuracy']=f\"{acc:.1%}\"\n",
    "    mlflow.log_metric(f\"accuracy_{k}\", acc)\n",
    "    \n",
    "    n += 1\n",
    "    avg += acc\n",
    "    \n",
    "avg = avg / n\n",
    "\n",
    "report.at['ALL', 'accuracy']=f\"{avg:.1%}\"\n",
    "mlflow.log_metric(\"accuracy_TAGS\", avg)\n",
    "report.to_csv(training_reports_path /'attributes_accuracy.csv')    \n",
    "mlflow.log_artifact(training_reports_path / 'attributes_accuracy.csv')\n",
    "\n",
    "# 81.6%\n",
    "report    "
   ]
  },
  {
   "cell_type": "markdown",
   "metadata": {},
   "source": [
    "## Worst docs list"
   ]
  },
  {
   "cell_type": "code",
   "execution_count": 41,
   "metadata": {},
   "outputs": [
    {
     "data": {
      "text/html": [
       "<div>\n",
       "<style scoped>\n",
       "    .dataframe tbody tr th:only-of-type {\n",
       "        vertical-align: middle;\n",
       "    }\n",
       "\n",
       "    .dataframe tbody tr th {\n",
       "        vertical-align: top;\n",
       "    }\n",
       "\n",
       "    .dataframe thead th {\n",
       "        text-align: right;\n",
       "    }\n",
       "</style>\n",
       "<table border=\"1\" class=\"dataframe\">\n",
       "  <thead>\n",
       "    <tr style=\"text-align: right;\">\n",
       "      <th></th>\n",
       "      <th>number_of_errors</th>\n",
       "    </tr>\n",
       "  </thead>\n",
       "  <tbody>\n",
       "    <tr>\n",
       "      <th>6246a1b325a983726c76938a</th>\n",
       "      <td>15</td>\n",
       "    </tr>\n",
       "    <tr>\n",
       "      <th>5fe34f64b770574a005553e2</th>\n",
       "      <td>15</td>\n",
       "    </tr>\n",
       "    <tr>\n",
       "      <th>6391bbeb1002115a6029f397</th>\n",
       "      <td>15</td>\n",
       "    </tr>\n",
       "    <tr>\n",
       "      <th>5ec2b8d8665f7603e03b121f</th>\n",
       "      <td>14</td>\n",
       "    </tr>\n",
       "    <tr>\n",
       "      <th>638085666a07f3e980b2c116</th>\n",
       "      <td>14</td>\n",
       "    </tr>\n",
       "    <tr>\n",
       "      <th>5ec2b8d8665f7603e03b1229</th>\n",
       "      <td>14</td>\n",
       "    </tr>\n",
       "    <tr>\n",
       "      <th>638085676a07f3e980b2c11b</th>\n",
       "      <td>14</td>\n",
       "    </tr>\n",
       "    <tr>\n",
       "      <th>638085676a07f3e980b2c11e</th>\n",
       "      <td>14</td>\n",
       "    </tr>\n",
       "    <tr>\n",
       "      <th>5fe34f64b770574a005553e6</th>\n",
       "      <td>14</td>\n",
       "    </tr>\n",
       "    <tr>\n",
       "      <th>63c506c2e2456d59975e11a3</th>\n",
       "      <td>14</td>\n",
       "    </tr>\n",
       "    <tr>\n",
       "      <th>63ac1fa9862ea92bf713c50a</th>\n",
       "      <td>14</td>\n",
       "    </tr>\n",
       "    <tr>\n",
       "      <th>638085966a07f3e980b2c556</th>\n",
       "      <td>14</td>\n",
       "    </tr>\n",
       "    <tr>\n",
       "      <th>638085aa6a07f3e980b2c6ee</th>\n",
       "      <td>14</td>\n",
       "    </tr>\n",
       "    <tr>\n",
       "      <th>62838b2e4d1bfe5e5b297ddb</th>\n",
       "      <td>14</td>\n",
       "    </tr>\n",
       "    <tr>\n",
       "      <th>6380857e6a07f3e980b2c343</th>\n",
       "      <td>13</td>\n",
       "    </tr>\n",
       "    <tr>\n",
       "      <th>6380857d6a07f3e980b2c332</th>\n",
       "      <td>13</td>\n",
       "    </tr>\n",
       "    <tr>\n",
       "      <th>638085766a07f3e980b2c284</th>\n",
       "      <td>13</td>\n",
       "    </tr>\n",
       "    <tr>\n",
       "      <th>638085796a07f3e980b2c2c5</th>\n",
       "      <td>13</td>\n",
       "    </tr>\n",
       "    <tr>\n",
       "      <th>62c54895e599c73b751b7974</th>\n",
       "      <td>13</td>\n",
       "    </tr>\n",
       "    <tr>\n",
       "      <th>638085766a07f3e980b2c27d</th>\n",
       "      <td>13</td>\n",
       "    </tr>\n",
       "    <tr>\n",
       "      <th>638085686a07f3e980b2c124</th>\n",
       "      <td>13</td>\n",
       "    </tr>\n",
       "    <tr>\n",
       "      <th>6380855e6a07f3e980b2c0a4</th>\n",
       "      <td>13</td>\n",
       "    </tr>\n",
       "    <tr>\n",
       "      <th>638085946a07f3e980b2c53b</th>\n",
       "      <td>13</td>\n",
       "    </tr>\n",
       "    <tr>\n",
       "      <th>6380855c6a07f3e980b2c05b</th>\n",
       "      <td>13</td>\n",
       "    </tr>\n",
       "    <tr>\n",
       "      <th>5fe34f64b770574a005553f2</th>\n",
       "      <td>13</td>\n",
       "    </tr>\n",
       "    <tr>\n",
       "      <th>638085a86a07f3e980b2c6b5</th>\n",
       "      <td>13</td>\n",
       "    </tr>\n",
       "    <tr>\n",
       "      <th>5ec2b8da665f7603e03b126b</th>\n",
       "      <td>13</td>\n",
       "    </tr>\n",
       "    <tr>\n",
       "      <th>638f0a81b1363747e929f2fb</th>\n",
       "      <td>13</td>\n",
       "    </tr>\n",
       "    <tr>\n",
       "      <th>5ec2b8da665f7603e03b127c</th>\n",
       "      <td>13</td>\n",
       "    </tr>\n",
       "    <tr>\n",
       "      <th>6398392b4b01c8adaa5a4eb2</th>\n",
       "      <td>13</td>\n",
       "    </tr>\n",
       "  </tbody>\n",
       "</table>\n",
       "</div>"
      ],
      "text/plain": [
       "                          number_of_errors\n",
       "6246a1b325a983726c76938a                15\n",
       "5fe34f64b770574a005553e2                15\n",
       "6391bbeb1002115a6029f397                15\n",
       "5ec2b8d8665f7603e03b121f                14\n",
       "638085666a07f3e980b2c116                14\n",
       "5ec2b8d8665f7603e03b1229                14\n",
       "638085676a07f3e980b2c11b                14\n",
       "638085676a07f3e980b2c11e                14\n",
       "5fe34f64b770574a005553e6                14\n",
       "63c506c2e2456d59975e11a3                14\n",
       "63ac1fa9862ea92bf713c50a                14\n",
       "638085966a07f3e980b2c556                14\n",
       "638085aa6a07f3e980b2c6ee                14\n",
       "62838b2e4d1bfe5e5b297ddb                14\n",
       "6380857e6a07f3e980b2c343                13\n",
       "6380857d6a07f3e980b2c332                13\n",
       "638085766a07f3e980b2c284                13\n",
       "638085796a07f3e980b2c2c5                13\n",
       "62c54895e599c73b751b7974                13\n",
       "638085766a07f3e980b2c27d                13\n",
       "638085686a07f3e980b2c124                13\n",
       "6380855e6a07f3e980b2c0a4                13\n",
       "638085946a07f3e980b2c53b                13\n",
       "6380855c6a07f3e980b2c05b                13\n",
       "5fe34f64b770574a005553f2                13\n",
       "638085a86a07f3e980b2c6b5                13\n",
       "5ec2b8da665f7603e03b126b                13\n",
       "638f0a81b1363747e929f2fb                13\n",
       "5ec2b8da665f7603e03b127c                13\n",
       "6398392b4b01c8adaa5a4eb2                13"
      ]
     },
     "execution_count": 41,
     "metadata": {},
     "output_type": "execute_result"
    }
   ],
   "source": [
    "userdocs[['number_of_errors']].sort_values('number_of_errors', ascending=False)[:30]"
   ]
  },
  {
   "cell_type": "markdown",
   "metadata": {},
   "source": [
    "# Subjects predictions reports"
   ]
  },
  {
   "cell_type": "code",
   "execution_count": 42,
   "metadata": {},
   "outputs": [],
   "source": [
    "ev = userdocs.copy()"
   ]
  },
  {
   "cell_type": "code",
   "execution_count": 43,
   "metadata": {
    "colab": {},
    "colab_type": "code",
    "id": "Jh1WFsjprUr1"
   },
   "outputs": [],
   "source": [
    "subj_pred = ev[pd.notna(ev.subject_predicted)][pd.notna(ev.subject_expected)]\n",
    "subj_df = subj_pred[['subject_predicted', 'subject_expected']].copy()"
   ]
  },
  {
   "cell_type": "code",
   "execution_count": 44,
   "metadata": {},
   "outputs": [],
   "source": [
    "\n",
    "\n",
    "labels = sorted(np.unique(subj_df['subject_expected'].values))"
   ]
  },
  {
   "cell_type": "code",
   "execution_count": 45,
   "metadata": {},
   "outputs": [
    {
     "name": "stderr",
     "output_type": "stream",
     "text": [
      "/root/artem/env/lib/python3.8/site-packages/sklearn/metrics/_classification.py:1248: UndefinedMetricWarning: Precision and F-score are ill-defined and being set to 0.0 in labels with no predicted samples. Use `zero_division` parameter to control this behavior.\n",
      "  _warn_prf(average, modifier, msg_start, len(result))\n",
      "/root/artem/env/lib/python3.8/site-packages/sklearn/metrics/_classification.py:1248: UndefinedMetricWarning: Recall and F-score are ill-defined and being set to 0.0 in labels with no true samples. Use `zero_division` parameter to control this behavior.\n",
      "  _warn_prf(average, modifier, msg_start, len(result))\n",
      "/root/artem/env/lib/python3.8/site-packages/sklearn/metrics/_classification.py:1248: UndefinedMetricWarning: Precision and F-score are ill-defined and being set to 0.0 in labels with no predicted samples. Use `zero_division` parameter to control this behavior.\n",
      "  _warn_prf(average, modifier, msg_start, len(result))\n",
      "/root/artem/env/lib/python3.8/site-packages/sklearn/metrics/_classification.py:1248: UndefinedMetricWarning: Recall and F-score are ill-defined and being set to 0.0 in labels with no true samples. Use `zero_division` parameter to control this behavior.\n",
      "  _warn_prf(average, modifier, msg_start, len(result))\n",
      "/root/artem/env/lib/python3.8/site-packages/sklearn/metrics/_classification.py:1248: UndefinedMetricWarning: Precision and F-score are ill-defined and being set to 0.0 in labels with no predicted samples. Use `zero_division` parameter to control this behavior.\n",
      "  _warn_prf(average, modifier, msg_start, len(result))\n",
      "/root/artem/env/lib/python3.8/site-packages/sklearn/metrics/_classification.py:1248: UndefinedMetricWarning: Recall and F-score are ill-defined and being set to 0.0 in labels with no true samples. Use `zero_division` parameter to control this behavior.\n",
      "  _warn_prf(average, modifier, msg_start, len(result))\n"
     ]
    }
   ],
   "source": [
    "report = classification_report(subj_df.subject_expected, subj_df.subject_predicted, digits=3, output_dict=True)\n",
    "report['weighted avg']\n",
    "mlflow.log_metrics(report['weighted avg'])\n",
    "mlflow.log_metric('subject_F1',report['weighted avg']['f1-score'])\n",
    "mlflow.log_metric('subject_F1_support',report['weighted avg']['support'])\n",
    "mlflow.log_metric('subject_precision',report['weighted avg']['precision'])\n",
    "mlflow.log_metric('subject_recall',report['weighted avg']['recall'])"
   ]
  },
  {
   "cell_type": "code",
   "execution_count": 46,
   "metadata": {
    "colab": {},
    "colab_type": "code",
    "id": "MFh8SxP9J081"
   },
   "outputs": [
    {
     "name": "stderr",
     "output_type": "stream",
     "text": [
      "/root/artem/analyser/colab_support/renderer.py:480: RuntimeWarning: invalid value encountered in true_divide\n",
      "  cm_perc = cm / cm_sum.astype(float) * 100\n"
     ]
    },
    {
     "name": "stdout",
     "output_type": "stream",
     "text": [
      "make_att_model_03\n",
      "                                   precision    recall  f1-score   support\n",
      "\n",
      "                   AgencyContract      0.000     0.000     0.000         3\n",
      "                          BigDeal      0.000     0.000     0.000         0\n",
      "                          Charity      0.000     0.000     0.000         4\n",
      "                             Deal      0.000     0.000     0.000        10\n",
      "         DealIntellectualProperty      0.000     0.000     0.000         7\n",
      "                EmployeeContracts      0.000     0.000     0.000         0\n",
      "                  GeneralContract      0.000     0.000     0.000        18\n",
      "                        Insurance      0.000     0.000     0.000         0\n",
      "                      Liquidation      0.000     0.000     0.000         0\n",
      "                            Loans      0.200     0.071     0.105        14\n",
      "                            Other      0.000     0.000     0.000         0\n",
      "ParticipationInOtherOrganizations      0.000     0.000     0.000         4\n",
      "                       RealEstate      0.000     0.000     0.000         3\n",
      "           RealEstateTransactions      0.000     0.000     0.000         2\n",
      "                          Renting      0.000     0.000     0.000         9\n",
      "                       RentingOut      0.000     0.000     0.000         0\n",
      "           SecuritiesTransactions      0.000     0.000     0.000         6\n",
      "                          Service      0.000     0.000     0.000        40\n",
      "\n",
      "                         accuracy                          0.008       120\n",
      "                        macro avg      0.011     0.004     0.006       120\n",
      "                     weighted avg      0.023     0.008     0.012       120\n",
      "\n"
     ]
    },
    {
     "name": "stderr",
     "output_type": "stream",
     "text": [
      "/root/artem/env/lib/python3.8/site-packages/sklearn/metrics/_classification.py:1248: UndefinedMetricWarning: Precision and F-score are ill-defined and being set to 0.0 in labels with no predicted samples. Use `zero_division` parameter to control this behavior.\n",
      "  _warn_prf(average, modifier, msg_start, len(result))\n",
      "/root/artem/env/lib/python3.8/site-packages/sklearn/metrics/_classification.py:1248: UndefinedMetricWarning: Recall and F-score are ill-defined and being set to 0.0 in labels with no true samples. Use `zero_division` parameter to control this behavior.\n",
      "  _warn_prf(average, modifier, msg_start, len(result))\n",
      "/root/artem/env/lib/python3.8/site-packages/sklearn/metrics/_classification.py:1248: UndefinedMetricWarning: Precision and F-score are ill-defined and being set to 0.0 in labels with no predicted samples. Use `zero_division` parameter to control this behavior.\n",
      "  _warn_prf(average, modifier, msg_start, len(result))\n",
      "/root/artem/env/lib/python3.8/site-packages/sklearn/metrics/_classification.py:1248: UndefinedMetricWarning: Recall and F-score are ill-defined and being set to 0.0 in labels with no true samples. Use `zero_division` parameter to control this behavior.\n",
      "  _warn_prf(average, modifier, msg_start, len(result))\n",
      "/root/artem/env/lib/python3.8/site-packages/sklearn/metrics/_classification.py:1248: UndefinedMetricWarning: Precision and F-score are ill-defined and being set to 0.0 in labels with no predicted samples. Use `zero_division` parameter to control this behavior.\n",
      "  _warn_prf(average, modifier, msg_start, len(result))\n",
      "/root/artem/env/lib/python3.8/site-packages/sklearn/metrics/_classification.py:1248: UndefinedMetricWarning: Recall and F-score are ill-defined and being set to 0.0 in labels with no true samples. Use `zero_division` parameter to control this behavior.\n",
      "  _warn_prf(average, modifier, msg_start, len(result))\n"
     ]
    },
    {
     "data": {
      "image/png": "[encoded data removed]",
      "text/plain": [
       "<Figure size 1200x1200 with 2 Axes>"
      ]
     },
     "metadata": {},
     "output_type": "display_data"
    }
   ],
   "source": [
    "\n",
    "\n",
    "def make_report(umodel, subj_df):\n",
    "  plot_cm(subj_df.subject_expected.values, subj_df.subject_predicted.values, figsize=(12, 12))\n",
    "  \n",
    "  img_path = training_reports_path / f'subjects-confusion-matrix-{umodel.name}.png'\n",
    "  plt.savefig(img_path, bbox_inches='tight')\n",
    "  mlflow.log_artifact(img_path)\n",
    "\n",
    "  report = classification_report(subj_df.subject_expected, subj_df.subject_predicted, digits=3)\n",
    "  print(umodel.name)\n",
    "  print(report)\n",
    "\n",
    "  fn = training_reports_path / f'subjects-classification_report-{umodel.name}.txt'\n",
    "  with open(fn, \"w\") as text_file:\n",
    "    text_file.write(report)\n",
    " \n",
    "  mlflow.log_artifact(fn)\n",
    "\n",
    "\n",
    "make_report(umodel, subj_df)"
   ]
  },
  {
   "cell_type": "code",
   "execution_count": 47,
   "metadata": {
    "tags": []
   },
   "outputs": [],
   "source": [
    "if sub_mlflow_run is not None:\n",
    "    mlflow.end_run()"
   ]
  },
  {
   "cell_type": "code",
   "execution_count": null,
   "metadata": {},
   "outputs": [],
   "source": []
  },
  {
   "cell_type": "code",
   "execution_count": null,
   "metadata": {},
   "outputs": [],
   "source": []
  }
 ],
 "metadata": {
  "colab": {
   "collapsed_sections": [
    "9eF-UGHyh-C9",
    "7X_zYCYEdlPM",
    "lyI4hbTRFjyM"
   ],
   "name": "Local: structure keras uber model - clean train, evaluate, test.ipynb",
   "provenance": [],
   "toc_visible": true
  },
  "kernelspec": {
   "display_name": "Python 3 (ipykernel)",
   "language": "python",
   "name": "python3"
  },
  "language_info": {
   "codemirror_mode": {
    "name": "ipython",
    "version": 3
   },
   "file_extension": ".py",
   "mimetype": "text/x-python",
   "name": "python",
   "nbconvert_exporter": "python",
   "pygments_lexer": "ipython3",
   "version": "3.9.6"
  },
  "toc-autonumbering": false,
  "toc-showmarkdowntxt": false,
  "widgets": {
   "application/vnd.jupyter.widget-state+json": {
    "state": {},
    "version_major": 2,
    "version_minor": 0
   }
  }
 },
 "nbformat": 4,
 "nbformat_minor": 4
}
