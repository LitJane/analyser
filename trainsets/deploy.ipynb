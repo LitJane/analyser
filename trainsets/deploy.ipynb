{
 "cells": [
  {
   "cell_type": "code",
   "execution_count": null,
   "id": "bdf2cb20-d1c3-4dca-a55e-6e605b96f8e6",
   "metadata": {
    "tags": [
     "parameters"
    ]
   },
   "outputs": [],
   "source": [
    "RUN_ID = '4c379b0437794f32bbe728c182db57c6'"
   ]
  },
  {
   "cell_type": "code",
   "execution_count": null,
   "id": "68bdfb5c-f121-4d43-9ee4-a2ec61b0448b",
   "metadata": {
    "tags": []
   },
   "outputs": [],
   "source": [
    "print(f'{RUN_ID=}')"
   ]
  },
  {
   "cell_type": "code",
   "execution_count": null,
   "id": "b276bbe2-c32c-45de-9b08-941053303bf2",
   "metadata": {
    "tags": []
   },
   "outputs": [],
   "source": [
    "if RUN_ID is None:\n",
    "    print('Error! provide RUN_ID parameter')"
   ]
  },
  {
   "cell_type": "code",
   "execution_count": null,
   "id": "f38aeb43-ed04-432c-8401-8c974e39a57b",
   "metadata": {
    "tags": []
   },
   "outputs": [],
   "source": [
    "import mlflow\n",
    "import os\n",
    "import sys\n",
    "import gpn_config\n",
    "ml_flow_url = gpn_config.configured ('MLFLOW_URL')\n",
    "mlflow.set_tracking_uri(ml_flow_url)\n",
    "mlflow.set_experiment(\"Обучение анализатора\")\n",
    " "
   ]
  },
  {
   "cell_type": "code",
   "execution_count": null,
   "id": "98df8791-62ca-417f-a913-3f15ab99d350",
   "metadata": {
    "tags": []
   },
   "outputs": [],
   "source": [
    "nb_dir = os.path.split(os.getcwd())[0]\n",
    "if nb_dir not in sys.path:\n",
    "    sys.path.append(nb_dir)\n",
    "    \n",
    "import analyser.hyperparams "
   ]
  },
  {
   "cell_type": "code",
   "execution_count": null,
   "id": "fd1f38a4-0ed2-408a-b697-cf21f5ff8b01",
   "metadata": {
    "tags": []
   },
   "outputs": [],
   "source": [
    "mlflow_client = mlflow.tracking.MlflowClient(tracking_uri=ml_flow_url)\n",
    "mlflow_client"
   ]
  },
  {
   "cell_type": "code",
   "execution_count": null,
   "id": "ff3d191a-c405-45d7-a8a1-3e6eff18544e",
   "metadata": {
    "tags": []
   },
   "outputs": [],
   "source": [
    "\n",
    "tmp_path = mlflow_client.download_artifacts(run_id =RUN_ID, path='' )"
   ]
  },
  {
   "cell_type": "code",
   "execution_count": null,
   "id": "3ed890bb-38d0-4b8c-b88b-302d34f2bfed",
   "metadata": {
    "tags": []
   },
   "outputs": [],
   "source": [
    "from tf_support.super_contract_model import make_att_model\n",
    "umodel=make_att_model()"
   ]
  },
  {
   "cell_type": "code",
   "execution_count": null,
   "id": "3a8bd1f9-78e9-438b-b390-7a9870968e66",
   "metadata": {
    "tags": []
   },
   "outputs": [],
   "source": [
    "from pathlib import Path\n",
    "umodel.load_weights(Path(tmp_path) /  f'{umodel.name}.h5')\n",
    "umodel.summary()"
   ]
  },
  {
   "cell_type": "code",
   "execution_count": null,
   "id": "f982a218-8976-4e6f-ac59-d84c7259a1a6",
   "metadata": {
    "tags": []
   },
   "outputs": [],
   "source": [
    "umodel.save_weights(Path(analyser.hyperparams.models_path) / (umodel.name + \".h5\"))"
   ]
  }
 ],
 "metadata": {
  "kernelspec": {
   "display_name": "Python 3 (ipykernel)",
   "language": "python",
   "name": "python3"
  },
  "language_info": {
   "codemirror_mode": {
    "name": "ipython",
    "version": 3
   },
   "file_extension": ".py",
   "mimetype": "text/x-python",
   "name": "python",
   "nbconvert_exporter": "python",
   "pygments_lexer": "ipython3",
   "version": "3.9.6"
  },
  "widgets": {
   "application/vnd.jupyter.widget-state+json": {
    "state": {},
    "version_major": 2,
    "version_minor": 0
   }
  }
 },
 "nbformat": 4,
 "nbformat_minor": 5
}
