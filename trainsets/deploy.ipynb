{
 "cells": [
  {
   "cell_type": "code",
   "execution_count": 1,
   "id": "bdf2cb20-d1c3-4dca-a55e-6e605b96f8e6",
   "metadata": {
    "tags": [
     "parameters"
    ]
   },
   "outputs": [],
   "source": [
    "RUN_ID = '4c379b0437794f32bbe728c182db57c6'"
   ]
  },
  {
   "cell_type": "code",
   "execution_count": 2,
   "id": "68bdfb5c-f121-4d43-9ee4-a2ec61b0448b",
   "metadata": {
    "tags": []
   },
   "outputs": [
    {
     "name": "stdout",
     "output_type": "stream",
     "text": [
      "RUN_ID='4c379b0437794f32bbe728c182db57c6'\n"
     ]
    }
   ],
   "source": [
    "print(f'{RUN_ID=}')"
   ]
  },
  {
   "cell_type": "code",
   "execution_count": 3,
   "id": "b276bbe2-c32c-45de-9b08-941053303bf2",
   "metadata": {
    "tags": []
   },
   "outputs": [],
   "source": [
    "if RUN_ID is None:\n",
    "    print('Error! provide RUN_ID parameter')"
   ]
  },
  {
   "cell_type": "code",
   "execution_count": 4,
   "id": "f38aeb43-ed04-432c-8401-8c974e39a57b",
   "metadata": {
    "tags": []
   },
   "outputs": [
    {
     "data": {
      "text/plain": [
       "<Experiment: artifact_location='mlflow-artifacts:/734503408361585659', creation_time=1678465756231, experiment_id='734503408361585659', last_update_time=1678465756231, lifecycle_stage='active', name='Обучение анализатора', tags={}>"
      ]
     },
     "execution_count": 4,
     "metadata": {},
     "output_type": "execute_result"
    }
   ],
   "source": [
    "import mlflow\n",
    "import os\n",
    "import sys\n",
    "ml_flow_url = os.environ.get('MLFLOW_URL', \"http://192.168.10.38:5000\")\n",
    "mlflow.set_tracking_uri(ml_flow_url)\n",
    "mlflow.set_experiment(\"Обучение анализатора\")\n",
    " "
   ]
  },
  {
   "cell_type": "code",
   "execution_count": 5,
   "id": "98df8791-62ca-417f-a913-3f15ab99d350",
   "metadata": {
    "tags": []
   },
   "outputs": [
    {
     "name": "stdout",
     "output_type": "stream",
     "text": [
      "Nemoware Analyser v23.3.15\n",
      "USING WORKDIR: [/root/artem/work]\n",
      " set ENV GPN_WORK_DIR to override\n",
      "datasets_dir: [/root/artem/work/datasets]\n",
      "reports_dir: [/root/artem/work/reports]\n"
     ]
    },
    {
     "name": "stderr",
     "output_type": "stream",
     "text": [
      "/root/artem/analyser/analyser/hyperparams.py:15: UserWarning: please set GPN_WORK_DIR environment variable\n",
      "  warnings.warn('please set GPN_WORK_DIR environment variable')\n"
     ]
    }
   ],
   "source": [
    "nb_dir = os.path.split(os.getcwd())[0]\n",
    "if nb_dir not in sys.path:\n",
    "    sys.path.append(nb_dir)\n",
    "    \n",
    "import analyser.hyperparams "
   ]
  },
  {
   "cell_type": "code",
   "execution_count": 6,
   "id": "fd1f38a4-0ed2-408a-b697-cf21f5ff8b01",
   "metadata": {
    "tags": []
   },
   "outputs": [
    {
     "data": {
      "text/plain": [
       "<mlflow.tracking.client.MlflowClient at 0x7f482c439a90>"
      ]
     },
     "execution_count": 6,
     "metadata": {},
     "output_type": "execute_result"
    }
   ],
   "source": [
    "mlflow_client = mlflow.tracking.MlflowClient(tracking_uri=ml_flow_url)\n",
    "mlflow_client"
   ]
  },
  {
   "cell_type": "code",
   "execution_count": 7,
   "id": "ff3d191a-c405-45d7-a8a1-3e6eff18544e",
   "metadata": {
    "tags": []
   },
   "outputs": [
    {
     "name": "stderr",
     "output_type": "stream",
     "text": [
      "/tmp/ipykernel_2349567/1970305853.py:1: FutureWarning: ``mlflow.tracking.client.MlflowClient.download_artifacts`` is deprecated since 2.0. This method will be removed in a future release. Use ``mlflow.artifacts.download_artifacts`` instead.\n",
      "  tmp_path = mlflow_client.download_artifacts(run_id =RUN_ID, path='' )\n"
     ]
    }
   ],
   "source": [
    "\n",
    "tmp_path = mlflow_client.download_artifacts(run_id =RUN_ID, path='' )"
   ]
  },
  {
   "cell_type": "code",
   "execution_count": 8,
   "id": "3ed890bb-38d0-4b8c-b88b-302d34f2bfed",
   "metadata": {
    "tags": []
   },
   "outputs": [
    {
     "name": "stderr",
     "output_type": "stream",
     "text": [
      "2023-03-15 15:23:48.515543: I tensorflow/stream_executor/platform/default/dso_loader.cc:53] Successfully opened dynamic library libcudart.so.11.0\n",
      "[documents.py:270 -             __init__() ] loading word cases stats model from: /root/artem/analyser/analyser/vocab/word_cases_stats.pickle\n",
      "[tools.py:29 -             __init__() ] model_checkpoint_path: /root/artem/analyser/analyser/vocab\n",
      "2023-03-15 15:23:49.367695: I tensorflow/stream_executor/platform/default/dso_loader.cc:53] Successfully opened dynamic library libcuda.so.1\n",
      "2023-03-15 15:23:49.389561: I tensorflow/stream_executor/cuda/cuda_gpu_executor.cc:937] successful NUMA node read from SysFS had negative value (-1), but there must be at least one NUMA node, so returning NUMA node zero\n",
      "2023-03-15 15:23:49.390258: I tensorflow/core/common_runtime/gpu/gpu_device.cc:1733] Found device 0 with properties: \n",
      "pciBusID: 0000:01:00.0 name: A100-PCIE-40GB computeCapability: 8.0\n",
      "coreClock: 1.41GHz coreCount: 108 deviceMemorySize: 39.59GiB deviceMemoryBandwidth: 1.41TiB/s\n",
      "2023-03-15 15:23:49.390273: I tensorflow/stream_executor/platform/default/dso_loader.cc:53] Successfully opened dynamic library libcudart.so.11.0\n",
      "2023-03-15 15:23:49.392000: I tensorflow/stream_executor/platform/default/dso_loader.cc:53] Successfully opened dynamic library libcublas.so.11\n",
      "2023-03-15 15:23:49.392030: I tensorflow/stream_executor/platform/default/dso_loader.cc:53] Successfully opened dynamic library libcublasLt.so.11\n",
      "2023-03-15 15:23:49.392616: I tensorflow/stream_executor/platform/default/dso_loader.cc:53] Successfully opened dynamic library libcufft.so.10\n",
      "2023-03-15 15:23:49.392760: I tensorflow/stream_executor/platform/default/dso_loader.cc:53] Successfully opened dynamic library libcurand.so.10\n",
      "2023-03-15 15:23:49.393260: I tensorflow/stream_executor/platform/default/dso_loader.cc:53] Successfully opened dynamic library libcusolver.so.11\n",
      "2023-03-15 15:23:49.393688: I tensorflow/stream_executor/platform/default/dso_loader.cc:53] Successfully opened dynamic library libcusparse.so.11\n",
      "2023-03-15 15:23:49.393807: I tensorflow/stream_executor/platform/default/dso_loader.cc:53] Successfully opened dynamic library libcudnn.so.8\n",
      "2023-03-15 15:23:49.393852: I tensorflow/stream_executor/cuda/cuda_gpu_executor.cc:937] successful NUMA node read from SysFS had negative value (-1), but there must be at least one NUMA node, so returning NUMA node zero\n",
      "2023-03-15 15:23:49.394467: I tensorflow/stream_executor/cuda/cuda_gpu_executor.cc:937] successful NUMA node read from SysFS had negative value (-1), but there must be at least one NUMA node, so returning NUMA node zero\n",
      "2023-03-15 15:23:49.395051: I tensorflow/core/common_runtime/gpu/gpu_device.cc:1871] Adding visible gpu devices: 0\n",
      "2023-03-15 15:23:49.395301: I tensorflow/core/platform/cpu_feature_guard.cc:142] This TensorFlow binary is optimized with oneAPI Deep Neural Network Library (oneDNN) to use the following CPU instructions in performance-critical operations:  AVX2 FMA\n",
      "To enable them in other operations, rebuild TensorFlow with the appropriate compiler flags.\n",
      "2023-03-15 15:23:49.396118: I tensorflow/stream_executor/cuda/cuda_gpu_executor.cc:937] successful NUMA node read from SysFS had negative value (-1), but there must be at least one NUMA node, so returning NUMA node zero\n",
      "2023-03-15 15:23:49.396765: I tensorflow/core/common_runtime/gpu/gpu_device.cc:1733] Found device 0 with properties: \n",
      "pciBusID: 0000:01:00.0 name: A100-PCIE-40GB computeCapability: 8.0\n",
      "coreClock: 1.41GHz coreCount: 108 deviceMemorySize: 39.59GiB deviceMemoryBandwidth: 1.41TiB/s\n",
      "2023-03-15 15:23:49.396811: I tensorflow/stream_executor/cuda/cuda_gpu_executor.cc:937] successful NUMA node read from SysFS had negative value (-1), but there must be at least one NUMA node, so returning NUMA node zero\n",
      "2023-03-15 15:23:49.397442: I tensorflow/stream_executor/cuda/cuda_gpu_executor.cc:937] successful NUMA node read from SysFS had negative value (-1), but there must be at least one NUMA node, so returning NUMA node zero\n",
      "2023-03-15 15:23:49.398084: I tensorflow/core/common_runtime/gpu/gpu_device.cc:1871] Adding visible gpu devices: 0\n",
      "2023-03-15 15:23:49.398107: I tensorflow/stream_executor/platform/default/dso_loader.cc:53] Successfully opened dynamic library libcudart.so.11.0\n",
      "2023-03-15 15:23:49.705730: I tensorflow/core/common_runtime/gpu/gpu_device.cc:1258] Device interconnect StreamExecutor with strength 1 edge matrix:\n",
      "2023-03-15 15:23:49.705767: I tensorflow/core/common_runtime/gpu/gpu_device.cc:1264]      0 \n",
      "2023-03-15 15:23:49.705772: I tensorflow/core/common_runtime/gpu/gpu_device.cc:1277] 0:   N \n",
      "2023-03-15 15:23:49.705923: I tensorflow/stream_executor/cuda/cuda_gpu_executor.cc:937] successful NUMA node read from SysFS had negative value (-1), but there must be at least one NUMA node, so returning NUMA node zero\n",
      "2023-03-15 15:23:49.706569: I tensorflow/stream_executor/cuda/cuda_gpu_executor.cc:937] successful NUMA node read from SysFS had negative value (-1), but there must be at least one NUMA node, so returning NUMA node zero\n",
      "2023-03-15 15:23:49.707178: I tensorflow/stream_executor/cuda/cuda_gpu_executor.cc:937] successful NUMA node read from SysFS had negative value (-1), but there must be at least one NUMA node, so returning NUMA node zero\n",
      "2023-03-15 15:23:49.707773: I tensorflow/core/common_runtime/gpu/gpu_device.cc:1418] Created TensorFlow device (/job:localhost/replica:0/task:0/device:GPU:0 with 37113 MB memory) -> physical GPU (device: 0, name: A100-PCIE-40GB, pci bus id: 0000:01:00.0, compute capability: 8.0)\n"
     ]
    }
   ],
   "source": [
    "from tf_support.super_contract_model import make_att_model\n",
    "umodel=make_att_model()"
   ]
  },
  {
   "cell_type": "code",
   "execution_count": 9,
   "id": "3a8bd1f9-78e9-438b-b390-7a9870968e66",
   "metadata": {
    "tags": []
   },
   "outputs": [
    {
     "name": "stdout",
     "output_type": "stream",
     "text": [
      "Model: \"make_att_model_03\"\n",
      "__________________________________________________________________________________________________\n",
      "Layer (type)                    Output Shape         Param #     Connected to                     \n",
      "==================================================================================================\n",
      "input_text_emb (InputLayer)     [(None, None, 1024)] 0                                            \n",
      "__________________________________________________________________________________________________\n",
      "token_features (InputLayer)     [(None, None, 15)]   0                                            \n",
      "__________________________________________________________________________________________________\n",
      "input_text_emb_norm (LayerNorma (None, None, 1024)   2048        input_text_emb[0][0]             \n",
      "__________________________________________________________________________________________________\n",
      "token_features_norm (LayerNorma (None, None, 15)     30          token_features[0][0]             \n",
      "__________________________________________________________________________________________________\n",
      "rmb_plus_tokens (Concatenate)   (None, None, 1039)   0           input_text_emb_norm[0][0]        \n",
      "                                                                 token_features_norm[0][0]        \n",
      "__________________________________________________________________________________________________\n",
      "embedding_reduced (Bidirectiona (None, None, 256)    1196032     rmb_plus_tokens[0][0]            \n",
      "__________________________________________________________________________________________________\n",
      "amnesia (Dropout)               (None, None, 256)    0           embedding_reduced[0][0]          \n",
      "__________________________________________________________________________________________________\n",
      "bn1 (BatchNormalization)        (None, None, 256)    1024        amnesia[0][0]                    \n",
      "__________________________________________________________________________________________________\n",
      "encoder_0/multiheadattention (M (None, None, 256)    263168      bn1[0][0]                        \n",
      "                                                                 bn1[0][0]                        \n",
      "                                                                 bn1[0][0]                        \n",
      "__________________________________________________________________________________________________\n",
      "encoder_0/att_dropout (Dropout) (None, None, 256)    0           encoder_0/multiheadattention[0][0\n",
      "__________________________________________________________________________________________________\n",
      "tf.__operators__.add (TFOpLambd (None, None, 256)    0           bn1[0][0]                        \n",
      "                                                                 encoder_0/att_dropout[0][0]      \n",
      "__________________________________________________________________________________________________\n",
      "encoder_0/att_layernormalizatio (None, None, 256)    512         tf.__operators__.add[0][0]       \n",
      "__________________________________________________________________________________________________\n",
      "encoder_0/ffn (Sequential)      (None, None, 256)    65920       encoder_0/att_layernormalization[\n",
      "__________________________________________________________________________________________________\n",
      "encoder_0/ffn_dropout (Dropout) (None, None, 256)    0           encoder_0/ffn[0][0]              \n",
      "__________________________________________________________________________________________________\n",
      "tf.__operators__.add_1 (TFOpLam (None, None, 256)    0           encoder_0/att_layernormalization[\n",
      "                                                                 encoder_0/ffn_dropout[0][0]      \n",
      "__________________________________________________________________________________________________\n",
      "encoder_0/ffn_layernormalizatio (None, None, 256)    512         tf.__operators__.add_1[0][0]     \n",
      "__________________________________________________________________________________________________\n",
      "encoder_1/multiheadattention (M (None, None, 256)    263168      encoder_0/ffn_layernormalization[\n",
      "                                                                 encoder_0/ffn_layernormalization[\n",
      "                                                                 encoder_0/ffn_layernormalization[\n",
      "__________________________________________________________________________________________________\n",
      "encoder_1/att_dropout (Dropout) (None, None, 256)    0           encoder_1/multiheadattention[0][0\n",
      "__________________________________________________________________________________________________\n",
      "tf.__operators__.add_2 (TFOpLam (None, None, 256)    0           encoder_0/ffn_layernormalization[\n",
      "                                                                 encoder_1/att_dropout[0][0]      \n",
      "__________________________________________________________________________________________________\n",
      "encoder_1/att_layernormalizatio (None, None, 256)    512         tf.__operators__.add_2[0][0]     \n",
      "__________________________________________________________________________________________________\n",
      "encoder_1/ffn (Sequential)      (None, None, 256)    65920       encoder_1/att_layernormalization[\n",
      "__________________________________________________________________________________________________\n",
      "encoder_1/ffn_dropout (Dropout) (None, None, 256)    0           encoder_1/ffn[0][0]              \n",
      "__________________________________________________________________________________________________\n",
      "tf.__operators__.add_3 (TFOpLam (None, None, 256)    0           encoder_1/att_layernormalization[\n",
      "                                                                 encoder_1/ffn_dropout[0][0]      \n",
      "__________________________________________________________________________________________________\n",
      "encoder_1/ffn_layernormalizatio (None, None, 256)    512         tf.__operators__.add_3[0][0]     \n",
      "__________________________________________________________________________________________________\n",
      "bn2 (BatchNormalization)        (None, None, 256)    1024        encoder_1/ffn_layernormalization[\n",
      "__________________________________________________________________________________________________\n",
      "O1_tagging_tanh (LSTM)          (None, None, 30)     34440       bn2[0][0]                        \n",
      "__________________________________________________________________________________________________\n",
      "some (Bidirectional)            (None, 32)           34944       bn2[0][0]                        \n",
      "__________________________________________________________________________________________________\n",
      "O1_tagging (ThresholdLayer)     (None, None, 30)     1           O1_tagging_tanh[0][0]            \n",
      "__________________________________________________________________________________________________\n",
      "O2_subject (Dense)              (None, 43)           1419        some[0][0]                       \n",
      "==================================================================================================\n",
      "Total params: 1,931,186\n",
      "Trainable params: 1,930,162\n",
      "Non-trainable params: 1,024\n",
      "__________________________________________________________________________________________________\n"
     ]
    }
   ],
   "source": [
    "from pathlib import Path\n",
    "umodel.load_weights(Path(tmp_path) /  f'{umodel.name}.h5')\n",
    "umodel.summary()"
   ]
  },
  {
   "cell_type": "code",
   "execution_count": 10,
   "id": "f982a218-8976-4e6f-ac59-d84c7259a1a6",
   "metadata": {
    "tags": []
   },
   "outputs": [],
   "source": [
    "umodel.save_weights(Path(analyser.hyperparams.models_path) / (umodel.name + \".h5\"))"
   ]
  }
 ],
 "metadata": {
  "kernelspec": {
   "display_name": "env",
   "language": "python",
   "name": "env"
  },
  "language_info": {
   "codemirror_mode": {
    "name": "ipython",
    "version": 3
   },
   "file_extension": ".py",
   "mimetype": "text/x-python",
   "name": "python",
   "nbconvert_exporter": "python",
   "pygments_lexer": "ipython3",
   "version": "3.8.10"
  }
 },
 "nbformat": 4,
 "nbformat_minor": 5
}
