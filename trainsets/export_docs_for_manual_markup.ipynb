{
 "cells": [
  {
   "cell_type": "markdown",
   "id": "84416aa0",
   "metadata": {
    "colab_type": "text",
    "id": "JbsxFAqC6pjQ",
    "papermill": {
     "duration": 0.021067,
     "end_time": "2021-07-29T12:59:38.523325",
     "exception": false,
     "start_time": "2021-07-29T12:59:38.502258",
     "status": "completed"
    },
    "tags": []
   },
   "source": [
    "# Imports"
   ]
  },
  {
   "cell_type": "code",
   "execution_count": 1,
   "id": "a63d3c58-2d3a-4f27-a017-c9acd65e4806",
   "metadata": {
    "papermill": {
     "duration": 0.018415,
     "end_time": "2021-07-29T12:59:38.554850",
     "exception": false,
     "start_time": "2021-07-29T12:59:38.536435",
     "status": "completed"
    },
    "tags": []
   },
   "outputs": [],
   "source": [
    "IMPORT_FRESH_ONLY = True # re-import all if False"
   ]
  },
  {
   "cell_type": "code",
   "execution_count": 2,
   "id": "28d79173",
   "metadata": {
    "colab": {},
    "colab_type": "code",
    "id": "JoHJkn9yQIgg",
    "papermill": {
     "duration": 1.872553,
     "end_time": "2021-07-29T12:59:40.435671",
     "exception": false,
     "start_time": "2021-07-29T12:59:38.563118",
     "status": "completed"
    },
    "tags": []
   },
   "outputs": [
    {
     "name": "stderr",
     "output_type": "stream",
     "text": [
      "DEBUG - 2021-07-29 16:18:14,273 - retrain_ipynb - --=logging started=--\n"
     ]
    },
    {
     "name": "stdout",
     "output_type": "stream",
     "text": [
      "2.5.0\n",
      "Running on CPU:arm\n"
     ]
    }
   ],
   "source": [
    "import logging\n",
    "import platform\n",
    "import sys\n",
    "import os\n",
    "import seaborn as sns\n",
    "import matplotlib.pyplot as plt\n",
    "from IPython.display import display, Markdown\n",
    "from datetime import datetime\n",
    "import tensorflow as tf\n",
    "\n",
    "logger = logging.getLogger('retrain_ipynb')\n",
    "logger.setLevel(logging.DEBUG)\n",
    "\n",
    "\n",
    "ch = logging.StreamHandler()\n",
    "ch.setLevel(logging.DEBUG)\n",
    "formatter = logging.Formatter('%(levelname)s - %(asctime)s - %(name)s - %(message)s')\n",
    "ch.setFormatter(formatter)\n",
    "logger.addHandler(ch)\n",
    "logger.debug('--=logging started=--')\n",
    "\n",
    "print(tf.__version__)\n",
    "CPU = platform.processor()\n",
    "print (f'Running on CPU:{CPU}')"
   ]
  },
  {
   "cell_type": "code",
   "execution_count": 3,
   "id": "2e198c1d",
   "metadata": {
    "colab": {},
    "colab_type": "code",
    "id": "ZiBqnGnQfKWF",
    "papermill": {
     "duration": 0.013629,
     "end_time": "2021-07-29T12:59:40.455246",
     "exception": false,
     "start_time": "2021-07-29T12:59:40.441617",
     "status": "completed"
    },
    "tags": []
   },
   "outputs": [
    {
     "name": "stdout",
     "output_type": "stream",
     "text": [
      "Nemoware Analyser v2.4.4\n",
      "USING WORKDIR: [/Users/artem/work/nemo/work]\n",
      " set ENV GPN_WORK_DIR to override\n",
      "datasets_dir: [/Users/artem/work/nemo/work/datasets]\n",
      "reports_dir: [/Users/artem/work/nemo/work/reports]\n"
     ]
    },
    {
     "name": "stderr",
     "output_type": "stream",
     "text": [
      "/Users/artem/work/nemo/analyser/analyser/hyperparams.py:15: UserWarning: please set GPN_WORK_DIR environment variable\n",
      "  warnings.warn('please set GPN_WORK_DIR environment variable')\n"
     ]
    },
    {
     "data": {
      "text/plain": [
       "'/Users/artem/work/nemo/analyser/analyser/hyperparams.py'"
      ]
     },
     "execution_count": 3,
     "metadata": {},
     "output_type": "execute_result"
    }
   ],
   "source": [
    "nb_dir = os.path.split(os.getcwd())[0]\n",
    "if nb_dir not in sys.path:\n",
    "    sys.path.append(nb_dir)\n",
    "\n",
    "import analyser.hyperparams \n",
    "analyser.hyperparams.__file__"
   ]
  },
  {
   "cell_type": "markdown",
   "id": "ae495501",
   "metadata": {
    "papermill": {
     "duration": 0.005964,
     "end_time": "2021-07-29T12:59:40.467235",
     "exception": false,
     "start_time": "2021-07-29T12:59:40.461271",
     "status": "completed"
    },
    "tags": []
   },
   "source": [
    "### Prepare workdir"
   ]
  },
  {
   "cell_type": "code",
   "execution_count": 4,
   "id": "c1029623",
   "metadata": {
    "colab": {},
    "colab_type": "code",
    "id": "jT7451NXspdw",
    "papermill": {
     "duration": 0.010501,
     "end_time": "2021-07-29T12:59:40.484202",
     "exception": false,
     "start_time": "2021-07-29T12:59:40.473701",
     "status": "completed"
    },
    "tags": []
   },
   "outputs": [
    {
     "name": "stdout",
     "output_type": "stream",
     "text": [
      "work_dir= /Users/artem/work/nemo/work\n"
     ]
    }
   ],
   "source": [
    "_work_dir_default = os.path.realpath(os.path.join(  analyser.hyperparams.__file__, '..', '..', '..', 'work'))\n",
    "work_dir = os.environ.get('GPN_WORK_DIR', _work_dir_default)\n",
    "\n",
    "if not os.path.isdir(work_dir):\n",
    "    os.mkdir(work_dir)\n",
    "\n",
    "analyser.hyperparams.work_dir = work_dir\n",
    " \n",
    "\n",
    "print('work_dir=', analyser.hyperparams.work_dir)\n",
    "assert os.path.isdir(analyser.hyperparams.work_dir)"
   ]
  },
  {
   "cell_type": "markdown",
   "id": "8c55a33b",
   "metadata": {
    "papermill": {
     "duration": 0.006093,
     "end_time": "2021-07-29T12:59:40.496436",
     "exception": false,
     "start_time": "2021-07-29T12:59:40.490343",
     "status": "completed"
    },
    "tags": []
   },
   "source": [
    "### Imports..."
   ]
  },
  {
   "cell_type": "code",
   "execution_count": 5,
   "id": "34cde660",
   "metadata": {
    "colab": {
     "base_uri": "https://localhost:8080/",
     "height": 87
    },
    "colab_type": "code",
    "id": "pexvDJbAtZM0",
    "outputId": "4f7e6e34-d675-423d-d102-1020d49d854f",
    "papermill": {
     "duration": 1.454725,
     "end_time": "2021-07-29T12:59:41.957173",
     "exception": false,
     "start_time": "2021-07-29T12:59:40.502448",
     "status": "completed"
    },
    "tags": []
   },
   "outputs": [
    {
     "name": "stdout",
     "output_type": "stream",
     "text": [
      "HyperParameters.subsidiary_name_match_min_jaro_similarity 0.9629629629629629\n"
     ]
    }
   ],
   "source": [
    "%matplotlib inline\n",
    "\n",
    "\n",
    "import pandas as pd\n",
    "from pandas import DataFrame\n",
    "\n",
    "from analyser.finalizer import get_doc_by_id\n",
    "from analyser.persistence import DbJsonDoc\n",
    "from integration.db import get_mongodb_connection\n",
    "\n",
    "from pathlib import Path\n",
    " "
   ]
  },
  {
   "cell_type": "markdown",
   "id": "16ed5139",
   "metadata": {
    "papermill": {
     "duration": 0.00625,
     "end_time": "2021-07-29T12:59:41.969834",
     "exception": false,
     "start_time": "2021-07-29T12:59:41.963584",
     "status": "completed"
    },
    "tags": []
   },
   "source": [
    "### Query DB for contact IDs"
   ]
  },
  {
   "cell_type": "code",
   "execution_count": 6,
   "id": "b5e1f699",
   "metadata": {
    "papermill": {
     "duration": 0.03546,
     "end_time": "2021-07-29T12:59:42.011410",
     "exception": false,
     "start_time": "2021-07-29T12:59:41.975950",
     "status": "completed"
    },
    "tags": []
   },
   "outputs": [
    {
     "name": "stdout",
     "output_type": "stream",
     "text": [
      "2021-07-29 10:43:34.294000 /Users/artem/work/nemo/work/contract_trainset_meta.temp.csv\n"
     ]
    },
    {
     "data": {
      "text/html": [
       "<div>\n",
       "<style scoped>\n",
       "    .dataframe tbody tr th:only-of-type {\n",
       "        vertical-align: middle;\n",
       "    }\n",
       "\n",
       "    .dataframe tbody tr th {\n",
       "        vertical-align: top;\n",
       "    }\n",
       "\n",
       "    .dataframe thead th {\n",
       "        text-align: right;\n",
       "    }\n",
       "</style>\n",
       "<table border=\"1\" class=\"dataframe\">\n",
       "  <thead>\n",
       "    <tr style=\"text-align: right;\">\n",
       "      <th></th>\n",
       "      <th>url</th>\n",
       "      <th>version</th>\n",
       "      <th>org-1-name</th>\n",
       "      <th>org-2-name</th>\n",
       "      <th>org-1-alias</th>\n",
       "      <th>org-2-alias</th>\n",
       "      <th>subject</th>\n",
       "      <th>value</th>\n",
       "      <th>user_correction_date</th>\n",
       "      <th>analyze_date</th>\n",
       "      <th>checksum</th>\n",
       "      <th>export_date</th>\n",
       "      <th>subject confidence</th>\n",
       "      <th>value_log1p</th>\n",
       "      <th>value_span</th>\n",
       "      <th>valid</th>\n",
       "      <th>currency</th>\n",
       "      <th>len</th>\n",
       "    </tr>\n",
       "  </thead>\n",
       "  <tbody>\n",
       "    <tr>\n",
       "      <th>60b7a55b061c76d77545505a</th>\n",
       "      <td>http://gpn-audit.nemosoft.ru/#/audit/edit/60b7...</td>\n",
       "      <td>2.3.14</td>\n",
       "      <td>NaN</td>\n",
       "      <td>NaN</td>\n",
       "      <td>NaN</td>\n",
       "      <td>NaN</td>\n",
       "      <td>Service</td>\n",
       "      <td>7.000000e+08</td>\n",
       "      <td>2021-07-29 08:56:09.177</td>\n",
       "      <td>2021-06-04 21:39:30.461</td>\n",
       "      <td>51064791f578e6b4ba62f717a09832db</td>\n",
       "      <td>2021-07-29 14:20:27.093368</td>\n",
       "      <td>NaN</td>\n",
       "      <td>20.366591</td>\n",
       "      <td>1218.0</td>\n",
       "      <td>False</td>\n",
       "      <td>RUB</td>\n",
       "      <td>4088.0</td>\n",
       "    </tr>\n",
       "    <tr>\n",
       "      <th>60b7a4cc061c76d7754546b0</th>\n",
       "      <td>http://gpn-audit.nemosoft.ru/#/audit/edit/60b7...</td>\n",
       "      <td>2.3.14</td>\n",
       "      <td>NaN</td>\n",
       "      <td>NaN</td>\n",
       "      <td>NaN</td>\n",
       "      <td>NaN</td>\n",
       "      <td>Deal</td>\n",
       "      <td>4.285374e+08</td>\n",
       "      <td>2021-07-29 09:05:58.705</td>\n",
       "      <td>2021-06-03 06:10:15.320</td>\n",
       "      <td>1775ac8122d39314d9d8c7e8c0c03437</td>\n",
       "      <td>2021-07-29 14:20:25.189336</td>\n",
       "      <td>NaN</td>\n",
       "      <td>19.875888</td>\n",
       "      <td>563.0</td>\n",
       "      <td>NaN</td>\n",
       "      <td>RUB</td>\n",
       "      <td>774.0</td>\n",
       "    </tr>\n",
       "    <tr>\n",
       "      <th>60b7a5b1061c76d775455517</th>\n",
       "      <td>http://gpn-audit.nemosoft.ru/#/audit/edit/60b7...</td>\n",
       "      <td>2.3.14</td>\n",
       "      <td>NaN</td>\n",
       "      <td>NaN</td>\n",
       "      <td>NaN</td>\n",
       "      <td>NaN</td>\n",
       "      <td>Service</td>\n",
       "      <td>1.846700e+08</td>\n",
       "      <td>NaT</td>\n",
       "      <td>2021-06-05 16:36:09.054</td>\n",
       "      <td>50f010a37f21887b6d0242450c310cdb</td>\n",
       "      <td>2021-07-29 14:40:00.388647</td>\n",
       "      <td>NaN</td>\n",
       "      <td>19.034081</td>\n",
       "      <td>75.0</td>\n",
       "      <td>NaN</td>\n",
       "      <td>RUB</td>\n",
       "      <td>1062.0</td>\n",
       "    </tr>\n",
       "    <tr>\n",
       "      <th>60b7a5b1061c76d77545551e</th>\n",
       "      <td>http://gpn-audit.nemosoft.ru/#/audit/edit/60b7...</td>\n",
       "      <td>2.3.14</td>\n",
       "      <td>NaN</td>\n",
       "      <td>NaN</td>\n",
       "      <td>NaN</td>\n",
       "      <td>NaN</td>\n",
       "      <td>Service</td>\n",
       "      <td>2.969460e+07</td>\n",
       "      <td>NaT</td>\n",
       "      <td>2021-06-05 16:41:37.040</td>\n",
       "      <td>b14d88a9f8c9c698e7119e3c722267e2</td>\n",
       "      <td>2021-07-29 14:40:00.415121</td>\n",
       "      <td>NaN</td>\n",
       "      <td>17.206476</td>\n",
       "      <td>108.0</td>\n",
       "      <td>NaN</td>\n",
       "      <td>RUB</td>\n",
       "      <td>311.0</td>\n",
       "    </tr>\n",
       "    <tr>\n",
       "      <th>60b7a59a061c76d775455383</th>\n",
       "      <td>http://gpn-audit.nemosoft.ru/#/audit/edit/60b7...</td>\n",
       "      <td>2.3.14</td>\n",
       "      <td>NaN</td>\n",
       "      <td>NaN</td>\n",
       "      <td>NaN</td>\n",
       "      <td>NaN</td>\n",
       "      <td>Service</td>\n",
       "      <td>5.000000e+05</td>\n",
       "      <td>NaT</td>\n",
       "      <td>2021-06-05 10:03:03.705</td>\n",
       "      <td>2d78ec018ce5f8e710f0399e15a0f25f</td>\n",
       "      <td>2021-07-29 14:39:13.808920</td>\n",
       "      <td>NaN</td>\n",
       "      <td>13.122365</td>\n",
       "      <td>345.0</td>\n",
       "      <td>NaN</td>\n",
       "      <td>RUB</td>\n",
       "      <td>374.0</td>\n",
       "    </tr>\n",
       "    <tr>\n",
       "      <th>...</th>\n",
       "      <td>...</td>\n",
       "      <td>...</td>\n",
       "      <td>...</td>\n",
       "      <td>...</td>\n",
       "      <td>...</td>\n",
       "      <td>...</td>\n",
       "      <td>...</td>\n",
       "      <td>...</td>\n",
       "      <td>...</td>\n",
       "      <td>...</td>\n",
       "      <td>...</td>\n",
       "      <td>...</td>\n",
       "      <td>...</td>\n",
       "      <td>...</td>\n",
       "      <td>...</td>\n",
       "      <td>...</td>\n",
       "      <td>...</td>\n",
       "      <td>...</td>\n",
       "    </tr>\n",
       "    <tr>\n",
       "      <th>60b7a595061c76d775455308</th>\n",
       "      <td>NaN</td>\n",
       "      <td>2.3.14</td>\n",
       "      <td>Газпромнефть-Каталитические системы</td>\n",
       "      <td>Измерительная техника</td>\n",
       "      <td>Заказчик</td>\n",
       "      <td>Исполнитель</td>\n",
       "      <td>Service</td>\n",
       "      <td>2.540000e+05</td>\n",
       "      <td>NaT</td>\n",
       "      <td>2021-06-05 08:14:43.166</td>\n",
       "      <td>21b3cefccb16f68f46eab84875555ad9</td>\n",
       "      <td>2021-07-29 14:38:53.843724</td>\n",
       "      <td>NaN</td>\n",
       "      <td>12.445093</td>\n",
       "      <td>277.0</td>\n",
       "      <td>NaN</td>\n",
       "      <td>RUB</td>\n",
       "      <td>4970.0</td>\n",
       "    </tr>\n",
       "    <tr>\n",
       "      <th>60b7a599061c76d775455369</th>\n",
       "      <td>NaN</td>\n",
       "      <td>2.3.14</td>\n",
       "      <td>Бизнес для бизнеса</td>\n",
       "      <td>Газпромнефть-Каталитические системы</td>\n",
       "      <td>Исполнитель</td>\n",
       "      <td>Заказчик</td>\n",
       "      <td>Service</td>\n",
       "      <td>1.200000e+05</td>\n",
       "      <td>NaT</td>\n",
       "      <td>2021-06-05 09:41:59.288</td>\n",
       "      <td>e91883d22724485a0f74c9961350acfa</td>\n",
       "      <td>2021-07-29 14:39:09.497453</td>\n",
       "      <td>NaN</td>\n",
       "      <td>11.695255</td>\n",
       "      <td>577.0</td>\n",
       "      <td>NaN</td>\n",
       "      <td>RUB</td>\n",
       "      <td>1370.0</td>\n",
       "    </tr>\n",
       "    <tr>\n",
       "      <th>60b7a5b5061c76d77545557a</th>\n",
       "      <td>NaN</td>\n",
       "      <td>2.3.14</td>\n",
       "      <td>Центр предпринимательских рисков</td>\n",
       "      <td>Газпромнефть-Каталитические системы</td>\n",
       "      <td>Исполнитель</td>\n",
       "      <td>Заказчик</td>\n",
       "      <td>Service</td>\n",
       "      <td>4.100000e+04</td>\n",
       "      <td>NaT</td>\n",
       "      <td>2021-06-05 18:15:41.276</td>\n",
       "      <td>d10b504216611046cb75a7b314568fcb</td>\n",
       "      <td>2021-07-29 14:40:16.223362</td>\n",
       "      <td>NaN</td>\n",
       "      <td>10.621352</td>\n",
       "      <td>1319.0</td>\n",
       "      <td>NaN</td>\n",
       "      <td>RUB</td>\n",
       "      <td>3527.0</td>\n",
       "    </tr>\n",
       "    <tr>\n",
       "      <th>60ebe82ecddbb3c487368c25</th>\n",
       "      <td>NaN</td>\n",
       "      <td>2.4.4</td>\n",
       "      <td>БДО Юникон</td>\n",
       "      <td>Газпром-нефть</td>\n",
       "      <td>Исполнитель</td>\n",
       "      <td>NaN</td>\n",
       "      <td>Service</td>\n",
       "      <td>NaN</td>\n",
       "      <td>NaT</td>\n",
       "      <td>2021-07-12 09:59:02.421</td>\n",
       "      <td>9afd3f4c0c6385de2e8fcc34cae08127</td>\n",
       "      <td>2021-07-29 14:40:18.736357</td>\n",
       "      <td>NaN</td>\n",
       "      <td>NaN</td>\n",
       "      <td>NaN</td>\n",
       "      <td>NaN</td>\n",
       "      <td>NaN</td>\n",
       "      <td>6045.0</td>\n",
       "    </tr>\n",
       "    <tr>\n",
       "      <th>60ec5576cddbb3c487368c45</th>\n",
       "      <td>NaN</td>\n",
       "      <td>2.4.4</td>\n",
       "      <td>БДО Юникон</td>\n",
       "      <td>Газпром-нефть</td>\n",
       "      <td>Исполнитель</td>\n",
       "      <td>NaN</td>\n",
       "      <td>Service</td>\n",
       "      <td>NaN</td>\n",
       "      <td>NaT</td>\n",
       "      <td>2021-07-12 17:45:35.242</td>\n",
       "      <td>9afd3f4c0c6385de2e8fcc34cae08127</td>\n",
       "      <td>2021-07-29 14:40:19.384780</td>\n",
       "      <td>NaN</td>\n",
       "      <td>NaN</td>\n",
       "      <td>NaN</td>\n",
       "      <td>NaN</td>\n",
       "      <td>NaN</td>\n",
       "      <td>6045.0</td>\n",
       "    </tr>\n",
       "  </tbody>\n",
       "</table>\n",
       "<p>2616 rows × 18 columns</p>\n",
       "</div>"
      ],
      "text/plain": [
       "                                                                        url  \\\n",
       "60b7a55b061c76d77545505a  http://gpn-audit.nemosoft.ru/#/audit/edit/60b7...   \n",
       "60b7a4cc061c76d7754546b0  http://gpn-audit.nemosoft.ru/#/audit/edit/60b7...   \n",
       "60b7a5b1061c76d775455517  http://gpn-audit.nemosoft.ru/#/audit/edit/60b7...   \n",
       "60b7a5b1061c76d77545551e  http://gpn-audit.nemosoft.ru/#/audit/edit/60b7...   \n",
       "60b7a59a061c76d775455383  http://gpn-audit.nemosoft.ru/#/audit/edit/60b7...   \n",
       "...                                                                     ...   \n",
       "60b7a595061c76d775455308                                                NaN   \n",
       "60b7a599061c76d775455369                                                NaN   \n",
       "60b7a5b5061c76d77545557a                                                NaN   \n",
       "60ebe82ecddbb3c487368c25                                                NaN   \n",
       "60ec5576cddbb3c487368c45                                                NaN   \n",
       "\n",
       "                         version                           org-1-name  \\\n",
       "60b7a55b061c76d77545505a  2.3.14                                  NaN   \n",
       "60b7a4cc061c76d7754546b0  2.3.14                                  NaN   \n",
       "60b7a5b1061c76d775455517  2.3.14                                  NaN   \n",
       "60b7a5b1061c76d77545551e  2.3.14                                  NaN   \n",
       "60b7a59a061c76d775455383  2.3.14                                  NaN   \n",
       "...                          ...                                  ...   \n",
       "60b7a595061c76d775455308  2.3.14  Газпромнефть-Каталитические системы   \n",
       "60b7a599061c76d775455369  2.3.14                   Бизнес для бизнеса   \n",
       "60b7a5b5061c76d77545557a  2.3.14     Центр предпринимательских рисков   \n",
       "60ebe82ecddbb3c487368c25   2.4.4                           БДО Юникон   \n",
       "60ec5576cddbb3c487368c45   2.4.4                           БДО Юникон   \n",
       "\n",
       "                                                   org-2-name  org-1-alias  \\\n",
       "60b7a55b061c76d77545505a                                  NaN          NaN   \n",
       "60b7a4cc061c76d7754546b0                                  NaN          NaN   \n",
       "60b7a5b1061c76d775455517                                  NaN          NaN   \n",
       "60b7a5b1061c76d77545551e                                  NaN          NaN   \n",
       "60b7a59a061c76d775455383                                  NaN          NaN   \n",
       "...                                                       ...          ...   \n",
       "60b7a595061c76d775455308                Измерительная техника     Заказчик   \n",
       "60b7a599061c76d775455369  Газпромнефть-Каталитические системы  Исполнитель   \n",
       "60b7a5b5061c76d77545557a  Газпромнефть-Каталитические системы  Исполнитель   \n",
       "60ebe82ecddbb3c487368c25                        Газпром-нефть  Исполнитель   \n",
       "60ec5576cddbb3c487368c45                        Газпром-нефть  Исполнитель   \n",
       "\n",
       "                          org-2-alias  subject         value  \\\n",
       "60b7a55b061c76d77545505a          NaN  Service  7.000000e+08   \n",
       "60b7a4cc061c76d7754546b0          NaN     Deal  4.285374e+08   \n",
       "60b7a5b1061c76d775455517          NaN  Service  1.846700e+08   \n",
       "60b7a5b1061c76d77545551e          NaN  Service  2.969460e+07   \n",
       "60b7a59a061c76d775455383          NaN  Service  5.000000e+05   \n",
       "...                               ...      ...           ...   \n",
       "60b7a595061c76d775455308  Исполнитель  Service  2.540000e+05   \n",
       "60b7a599061c76d775455369     Заказчик  Service  1.200000e+05   \n",
       "60b7a5b5061c76d77545557a     Заказчик  Service  4.100000e+04   \n",
       "60ebe82ecddbb3c487368c25          NaN  Service           NaN   \n",
       "60ec5576cddbb3c487368c45          NaN  Service           NaN   \n",
       "\n",
       "                            user_correction_date            analyze_date  \\\n",
       "60b7a55b061c76d77545505a 2021-07-29 08:56:09.177 2021-06-04 21:39:30.461   \n",
       "60b7a4cc061c76d7754546b0 2021-07-29 09:05:58.705 2021-06-03 06:10:15.320   \n",
       "60b7a5b1061c76d775455517                     NaT 2021-06-05 16:36:09.054   \n",
       "60b7a5b1061c76d77545551e                     NaT 2021-06-05 16:41:37.040   \n",
       "60b7a59a061c76d775455383                     NaT 2021-06-05 10:03:03.705   \n",
       "...                                          ...                     ...   \n",
       "60b7a595061c76d775455308                     NaT 2021-06-05 08:14:43.166   \n",
       "60b7a599061c76d775455369                     NaT 2021-06-05 09:41:59.288   \n",
       "60b7a5b5061c76d77545557a                     NaT 2021-06-05 18:15:41.276   \n",
       "60ebe82ecddbb3c487368c25                     NaT 2021-07-12 09:59:02.421   \n",
       "60ec5576cddbb3c487368c45                     NaT 2021-07-12 17:45:35.242   \n",
       "\n",
       "                                                  checksum  \\\n",
       "60b7a55b061c76d77545505a  51064791f578e6b4ba62f717a09832db   \n",
       "60b7a4cc061c76d7754546b0  1775ac8122d39314d9d8c7e8c0c03437   \n",
       "60b7a5b1061c76d775455517  50f010a37f21887b6d0242450c310cdb   \n",
       "60b7a5b1061c76d77545551e  b14d88a9f8c9c698e7119e3c722267e2   \n",
       "60b7a59a061c76d775455383  2d78ec018ce5f8e710f0399e15a0f25f   \n",
       "...                                                    ...   \n",
       "60b7a595061c76d775455308  21b3cefccb16f68f46eab84875555ad9   \n",
       "60b7a599061c76d775455369  e91883d22724485a0f74c9961350acfa   \n",
       "60b7a5b5061c76d77545557a  d10b504216611046cb75a7b314568fcb   \n",
       "60ebe82ecddbb3c487368c25  9afd3f4c0c6385de2e8fcc34cae08127   \n",
       "60ec5576cddbb3c487368c45  9afd3f4c0c6385de2e8fcc34cae08127   \n",
       "\n",
       "                                         export_date  subject confidence  \\\n",
       "60b7a55b061c76d77545505a  2021-07-29 14:20:27.093368                 NaN   \n",
       "60b7a4cc061c76d7754546b0  2021-07-29 14:20:25.189336                 NaN   \n",
       "60b7a5b1061c76d775455517  2021-07-29 14:40:00.388647                 NaN   \n",
       "60b7a5b1061c76d77545551e  2021-07-29 14:40:00.415121                 NaN   \n",
       "60b7a59a061c76d775455383  2021-07-29 14:39:13.808920                 NaN   \n",
       "...                                              ...                 ...   \n",
       "60b7a595061c76d775455308  2021-07-29 14:38:53.843724                 NaN   \n",
       "60b7a599061c76d775455369  2021-07-29 14:39:09.497453                 NaN   \n",
       "60b7a5b5061c76d77545557a  2021-07-29 14:40:16.223362                 NaN   \n",
       "60ebe82ecddbb3c487368c25  2021-07-29 14:40:18.736357                 NaN   \n",
       "60ec5576cddbb3c487368c45  2021-07-29 14:40:19.384780                 NaN   \n",
       "\n",
       "                          value_log1p  value_span  valid currency     len  \n",
       "60b7a55b061c76d77545505a    20.366591      1218.0  False      RUB  4088.0  \n",
       "60b7a4cc061c76d7754546b0    19.875888       563.0    NaN      RUB   774.0  \n",
       "60b7a5b1061c76d775455517    19.034081        75.0    NaN      RUB  1062.0  \n",
       "60b7a5b1061c76d77545551e    17.206476       108.0    NaN      RUB   311.0  \n",
       "60b7a59a061c76d775455383    13.122365       345.0    NaN      RUB   374.0  \n",
       "...                               ...         ...    ...      ...     ...  \n",
       "60b7a595061c76d775455308    12.445093       277.0    NaN      RUB  4970.0  \n",
       "60b7a599061c76d775455369    11.695255       577.0    NaN      RUB  1370.0  \n",
       "60b7a5b5061c76d77545557a    10.621352      1319.0    NaN      RUB  3527.0  \n",
       "60ebe82ecddbb3c487368c25          NaN         NaN    NaN      NaN  6045.0  \n",
       "60ec5576cddbb3c487368c45          NaN         NaN    NaN      NaN  6045.0  \n",
       "\n",
       "[2616 rows x 18 columns]"
      ]
     },
     "execution_count": 6,
     "metadata": {},
     "output_type": "execute_result"
    }
   ],
   "source": [
    "export_fn = str(Path(work_dir) / 'contract_trainset_meta.temp.csv')\n",
    "# stats = pd.read_csv(export_fn, index_col=0)\n",
    "\n",
    "try:\n",
    "    stats = pd.read_csv(export_fn, index_col=0)\n",
    "    if not 'analyze_date' in stats:\n",
    "        stats['analyze_date'] = None\n",
    "    stats['analyze_date'] = pd.to_datetime(stats['analyze_date'])\n",
    "    stats['user_correction_date'] = pd.to_datetime(stats['user_correction_date'])\n",
    "\n",
    "    lastdate = stats[[\"user_correction_date\", 'analyze_date']].max().max()\n",
    "    \n",
    "except:\n",
    "    logger.error(f'cannot load {export_fn}')\n",
    "\n",
    "    lastdate = datetime(1900, 1, 1)\n",
    "    stats = DataFrame()\n",
    "    \n",
    "if not IMPORT_FRESH_ONLY:\n",
    "    lastdate = datetime(1900, 1, 1)\n",
    "    \n",
    "print(lastdate, export_fn)\n",
    "stats"
   ]
  },
  {
   "cell_type": "markdown",
   "id": "f2f1db37-2acc-4ead-bdf0-49e115e3c066",
   "metadata": {
    "papermill": {
     "duration": 0.006596,
     "end_time": "2021-07-29T12:59:42.024931",
     "exception": false,
     "start_time": "2021-07-29T12:59:42.018335",
     "status": "completed"
    },
    "tags": []
   },
   "source": [
    "## Fetch fresh docs from Mongo DB"
   ]
  },
  {
   "cell_type": "code",
   "execution_count": null,
   "id": "034c3cda",
   "metadata": {
    "papermill": {
     "duration": 0.453329,
     "end_time": "2021-07-29T12:59:42.484807",
     "exception": false,
     "start_time": "2021-07-29T12:59:42.031478",
     "status": "completed"
    },
    "tags": []
   },
   "outputs": [],
   "source": [
    "query = {\n",
    "  '$and': [\n",
    "    {\"parse.documentType\": \"CONTRACT\"},\n",
    "      \n",
    "    {\"state\": 15},\n",
    "    {'$or': [\n",
    "          {\"analysis.attributes_tree\": {\"$ne\": None}},\n",
    "          {\"user.attributes_tree\": {\"$ne\": None}}\n",
    "        ]},\n",
    "#       {'$and': [\n",
    "#           {\"user.updateDate\": {\"$ne\": None}},\n",
    "#           {'user.updateDate': {'$gt': lastdate}}\n",
    "#       ]}\n",
    "#     {\"user.attributes_tree.contract.people\": {\"$ne\": None}}\n",
    "\n",
    "    #     {'$or': [\n",
    "    #         {\"user.attributes_tree.contract.price.amount_netto\": {\"$ne\": None}},\n",
    "    #         {\"user.attributes_tree.contract.price.amount_brutto\": {\"$ne\": None}}\n",
    "    #     ]}\n",
    "    {'$or': [\n",
    "      {'analysis.analyze_timestamp': {'$gt': lastdate}},\n",
    "      {'user.updateDate': {'$gt': lastdate}}\n",
    "    ]}\n",
    "  ]\n",
    "}\n",
    "\n",
    "db = get_mongodb_connection()\n",
    "documents_collection = db['documents']\n",
    "res = documents_collection.find(filter=query,\n",
    "                                projection={'_id': True, 'user.updateDate':True}\n",
    "#                                             'analysis.attributes_tree.version': True,\n",
    "#                                             'analysis.attributes_tree.contract.subject': True}\n",
    "                               ).limit(3000)\n",
    "\n",
    "res = list([i for i in res])\n",
    "\n",
    "_s = f\"#### Всего новых документов после {lastdate} : {len(res)}\"\n",
    "display(Markdown(_s))\n",
    "\n",
    "res[:4]"
   ]
  },
  {
   "cell_type": "code",
   "execution_count": null,
   "id": "8e9c61cd",
   "metadata": {
    "papermill": {
     "duration": 0.030978,
     "end_time": "2021-07-29T12:59:42.535462",
     "exception": false,
     "start_time": "2021-07-29T12:59:42.504484",
     "status": "completed"
    },
    "tags": []
   },
   "outputs": [],
   "source": [
    "from datetime import datetime\n",
    "from math import log1p\n",
    "\n",
    "from pandas import DataFrame\n",
    "\n",
    "from analyser.persistence import DbJsonDoc\n",
    "from trainsets.retrain_contract_uber_model import flatten_attributes_tree\n",
    "\n",
    "\n",
    "def add_stats_record(d: DbJsonDoc, stats: DataFrame):\n",
    "  _id = str(d.get_id())\n",
    "\n",
    "  attr_map = flatten_attributes_tree(d.get_attributes_tree())\n",
    "\n",
    "  # stats.at[_id, 'valid'] = True\n",
    "\n",
    "  stats.at[_id, 'checksum'] = d.get_tokens_for_embedding().get_checksum()\n",
    "  if 'version' in d.analysis['attributes_tree']:\n",
    "    stats.at[_id, 'version'] = '.'.join([str(x) for x in d.analysis['attributes_tree']['version']])\n",
    "  else:\n",
    "    stats.at[_id, 'version'] = d.analysis['version']\n",
    "\n",
    "  stats.at[_id, 'export_date'] = datetime.now()\n",
    "  stats.at[_id, 'len'] = len(d)\n",
    "  stats.at[_id, 'analyze_date'] = d.analysis['analyze_timestamp']\n",
    "\n",
    "\n",
    "  _value_tag = attr_map['sign_value_currency/value']\n",
    "  if _value_tag:\n",
    "    stats.at[_id, 'value'] = _value_tag['value']\n",
    "    stats.at[_id, 'value_log1p'] = log1p(_value_tag['value'])\n",
    "    stats.at[_id, 'value_span'] = _value_tag['span'][0]\n",
    "    # find_in_dict('price.amount.span.0', d.get_attributes_tree())\n",
    "    \n",
    "  def _map_val(src, dest):\n",
    "    if attr_map[src]:\n",
    "        stats.at[_id, dest] = attr_map[src]['value']\n",
    "        \n",
    "  _map_val('sign_value_currency/currency', 'currency')\n",
    "  _map_val('org-1-alias', 'org-1-alias')\n",
    "  _map_val('org-2-alias', 'org-2-alias')\n",
    "  _map_val('org-1-name', 'org-1-name')\n",
    "  _map_val('org-2-name', 'org-2-name')\n",
    "  _map_val('subject', 'subject')\n",
    " \n",
    "\n",
    "\n",
    "  if d.user is not None:\n",
    "    # if 'attributes_tree' in d.user and 'creation_date' in d.user['attributes_tree']:\n",
    "    # stats.at[_id, 'user_correction_date'] = d.user['attributes_tree']['creation_date']\n",
    "    stats.at[_id, 'user_correction_date'] = d.user[\n",
    "      'updateDate']  # find_in_dict('attributes_tree.creation_date', d.user)\n"
   ]
  },
  {
   "cell_type": "code",
   "execution_count": null,
   "id": "b08dd23d",
   "metadata": {
    "papermill": {
     "duration": 0.03825,
     "end_time": "2021-07-29T12:59:42.584363",
     "exception": false,
     "start_time": "2021-07-29T12:59:42.546113",
     "status": "completed"
    },
    "tags": []
   },
   "outputs": [],
   "source": [
    "# res[:4]\n",
    "# from tqdm import tqdm\n",
    "\n",
    "docs_ids = [i[\"_id\"] for i in res]   \n",
    "# stats = DataFrame()\n",
    "    \n",
    "\n",
    "for k, oid in enumerate(docs_ids):\n",
    "    d = get_doc_by_id(oid)\n",
    "    jd = DbJsonDoc(d)\n",
    "    \n",
    "    add_stats_record(jd, stats)\n",
    "    \n",
    "    if k % 20 == 0:\n",
    "        print(k)\n",
    "        stats.to_csv(export_fn, index=True)\n",
    "    \n",
    "stats.to_csv(export_fn, index=True)\n",
    "stats"
   ]
  },
  {
   "cell_type": "code",
   "execution_count": null,
   "id": "2b60b51d",
   "metadata": {
    "papermill": {
     "duration": 0.021588,
     "end_time": "2021-07-29T12:59:42.613700",
     "exception": false,
     "start_time": "2021-07-29T12:59:42.592112",
     "status": "completed"
    },
    "tags": []
   },
   "outputs": [],
   "source": [
    "stats2 = stats.copy()\n",
    "stats2['org-2-alias'] = stats2['org-2-alias'].str.lower()\n",
    "stats2['org-1-alias'] = stats2['org-1-alias'].str.lower()\n",
    "stats2['org-1-name'] = stats2['org-1-name'].str.lower()\n",
    "stats2['org-2-name'] = stats2['org-2-name'].str.lower()\n",
    "stats2"
   ]
  },
  {
   "cell_type": "code",
   "execution_count": null,
   "id": "21ac49bc",
   "metadata": {
    "papermill": {
     "duration": 0.107539,
     "end_time": "2021-07-29T12:59:42.729214",
     "exception": false,
     "start_time": "2021-07-29T12:59:42.621675",
     "status": "completed"
    },
    "tags": []
   },
   "outputs": [],
   "source": [
    "%matplotlib inline\n",
    "\n",
    "cnt = stats2['subject'].value_counts()\n",
    "# alias_count = stats2['org-1-alias'].value_counts()\n",
    "\n",
    "#plot distribution---------------------\n",
    "plt.figure(figsize=(12, 12))\n",
    "sns.barplot(x=cnt.values, y=cnt.index)\n",
    "\n",
    "plt.title('Frequency Distribution of subjects')\n",
    "plt.xlabel('Number of Occurrences')\n",
    "plt.show()"
   ]
  },
  {
   "cell_type": "code",
   "execution_count": null,
   "id": "05733268-ba37-4545-aa59-e45c7f11ff6c",
   "metadata": {
    "papermill": {
     "duration": 0.012294,
     "end_time": "2021-07-29T12:59:42.749884",
     "exception": false,
     "start_time": "2021-07-29T12:59:42.737590",
     "status": "completed"
    },
    "tags": []
   },
   "outputs": [],
   "source": [
    "stats2['subject'].value_counts()"
   ]
  },
  {
   "cell_type": "code",
   "execution_count": null,
   "id": "0891e080",
   "metadata": {
    "papermill": {
     "duration": 0.012453,
     "end_time": "2021-07-29T12:59:42.770929",
     "exception": false,
     "start_time": "2021-07-29T12:59:42.758476",
     "status": "completed"
    },
    "tags": []
   },
   "outputs": [],
   "source": [
    "stats2['org-1-alias'].value_counts()"
   ]
  },
  {
   "cell_type": "code",
   "execution_count": null,
   "id": "26686529",
   "metadata": {
    "papermill": {
     "duration": 0.013108,
     "end_time": "2021-07-29T12:59:42.793354",
     "exception": false,
     "start_time": "2021-07-29T12:59:42.780246",
     "status": "completed"
    },
    "tags": []
   },
   "outputs": [],
   "source": [
    "stats2['org-2-alias'].value_counts()"
   ]
  },
  {
   "cell_type": "code",
   "execution_count": null,
   "id": "a08ae79a",
   "metadata": {
    "papermill": {
     "duration": 0.618615,
     "end_time": "2021-07-29T12:59:43.420797",
     "exception": false,
     "start_time": "2021-07-29T12:59:42.802182",
     "status": "completed"
    },
    "tags": []
   },
   "outputs": [],
   "source": [
    "score_column_name = \"score\"\n",
    "\n",
    "def calc_no_value_importance(stats2, column_name, score_k=2.):\n",
    "        \n",
    "    for i, row in stats2.iterrows():\n",
    "        if pd.isna(row[column_name]):\n",
    "            stats2.at[i, score_column_name] *= score_k\n",
    "                \n",
    "def calc_user_importance(stats2):\n",
    "        \n",
    "    for i, row in stats2.iterrows():\n",
    "        if not pd.isna(row['unseen']):\n",
    "\n",
    "            if row['unseen'] == True:\n",
    "                stats2.at[i, score_column_name] *= 2\n",
    "                \n",
    "def calc_val_importance(stats2):\n",
    " \n",
    "    for i, row in stats2.iterrows():\n",
    "        if not pd.isna(row['value']):\n",
    "            a_weight = row['value']\n",
    "            if a_weight>0:\n",
    "                stats2.at[i, score_column_name] *= log1p(a_weight)\n",
    "        \n",
    "            \n",
    "def calc_column_val_importance(stats2, column_name):\n",
    "    counts = stats2[column_name].value_counts()\n",
    " \n",
    "        \n",
    "    for i, row in stats2.iterrows():\n",
    "        val = row[column_name]\n",
    "        if val in counts:\n",
    "            a_weight = counts[val]\n",
    "            stats2.at[i, score_column_name] *= 1./log1p(a_weight)\n",
    "        else:\n",
    "            stats2.at[i, score_column_name] *= 1.0\n",
    "\n",
    "for i, row in stats2.iterrows():        \n",
    "  stats2.at[i, 'url'] = f'http://gpn-audit.nemosoft.ru/#/audit/edit/{i}'\n",
    "    \n",
    "stats2 ['unseen'] = pd.isna( stats2['user_correction_date'])\n",
    "\n",
    "stats2[score_column_name] = 1.\n",
    "\n",
    "calc_no_value_importance(stats2, 'org-1-alias', 2.)\n",
    "calc_no_value_importance(stats2, 'org-2-alias', 2.)\n",
    "calc_no_value_importance(stats2, 'org-1-name', 3.)\n",
    "calc_no_value_importance(stats2, 'org-2-name', 3.)\n",
    "calc_no_value_importance(stats2, 'user_correction_date', 2.)\n",
    "\n",
    "calc_column_val_importance(stats2, 'org-1-name')\n",
    "calc_column_val_importance(stats2, 'org-2-name')\n",
    "calc_column_val_importance(stats2, 'org-1-alias')\n",
    "calc_column_val_importance(stats2, 'org-2-alias')\n",
    "\n",
    "# calc_user_importance(stats2)\n",
    "calc_val_importance(stats2)\n",
    "\n",
    "# drop_duplicates(subset=['checksum']).\n",
    "stats2 = stats2.sort_values([score_column_name], ascending=False)\n",
    "# \n",
    "\n",
    "\n",
    "\n",
    "sub = stats2[['url','version','len', 'org-1-name', 'org-2-name', 'org-1-alias', 'org-2-alias', 'subject', 'value', 'user_correction_date']]\n",
    "sub.to_csv(Path(work_dir) / 'contract_trainset_meta.hp.csv', index=True)\n",
    "sub"
   ]
  },
  {
   "cell_type": "markdown",
   "id": "a8d8cc3c-1899-4eb0-beab-967ed8148316",
   "metadata": {
    "papermill": {
     "duration": 0.008966,
     "end_time": "2021-07-29T12:59:43.439102",
     "exception": false,
     "start_time": "2021-07-29T12:59:43.430136",
     "status": "completed"
    },
    "tags": []
   },
   "source": [
    "## Find duplicates"
   ]
  },
  {
   "cell_type": "code",
   "execution_count": null,
   "id": "f8ec7282-caa4-4eee-8289-6961e0e24eb1",
   "metadata": {
    "papermill": {
     "duration": 0.023481,
     "end_time": "2021-07-29T12:59:43.471912",
     "exception": false,
     "start_time": "2021-07-29T12:59:43.448431",
     "status": "completed"
    },
    "tags": []
   },
   "outputs": [],
   "source": [
    "stats2.sort_values(['len', 'org-1-name', 'org-2-name', 'org-1-alias','org-2-alias', 'value', 'subject'], ascending=False)"
   ]
  },
  {
   "cell_type": "code",
   "execution_count": null,
   "id": "e5701fce-1bf6-4b15-86dc-8aee903e160d",
   "metadata": {
    "papermill": {
     "duration": 0.102459,
     "end_time": "2021-07-29T12:59:43.583729",
     "exception": false,
     "start_time": "2021-07-29T12:59:43.481270",
     "status": "completed"
    },
    "tags": []
   },
   "outputs": [],
   "source": [
    "for i, row in stats2.iterrows():   \n",
    "#     print(row['org-1-name'])\n",
    "\n",
    "    _str = ':'.join(    sorted( [str(x) for x in [row['len'], row['org-1-alias'], row['org-2-alias'], row['org-1-name'], row['org-2-name'], row['value'], row['subject']]] ) )\n",
    "#     print(hash( _str  ), _str)\n",
    "    stats2.at[i, 'hash'] = hash( _str  )\n",
    "stats2.sort_values(['hash'])"
   ]
  },
  {
   "cell_type": "code",
   "execution_count": null,
   "id": "23073dff-1fbc-4bef-aeae-cdd9fb3dfe0d",
   "metadata": {
    "papermill": {
     "duration": 0.107294,
     "end_time": "2021-07-29T12:59:43.701069",
     "exception": false,
     "start_time": "2021-07-29T12:59:43.593775",
     "status": "completed"
    },
    "tags": []
   },
   "outputs": [],
   "source": [
    "unks = stats2['hash'].value_counts()\n",
    "\n",
    "for i, row in stats2.iterrows():   \n",
    "    stats2.at[i, 'dups'] = unks[row['hash']]\n",
    "    \n",
    "dups = stats2.sort_values(['dups', 'hash'], ascending=False)\n",
    "dups.to_csv(Path(work_dir) / 'contract_trainset_meta.duplicates.csv', index=True)\n",
    "\n",
    "dups[40:].head(40)"
   ]
  },
  {
   "cell_type": "code",
   "execution_count": null,
   "id": "dcf72526-1ad7-4699-91ac-abaeff5c23f7",
   "metadata": {
    "papermill": {
     "duration": 0.014593,
     "end_time": "2021-07-29T12:59:43.726456",
     "exception": false,
     "start_time": "2021-07-29T12:59:43.711863",
     "status": "completed"
    },
    "tags": []
   },
   "outputs": [],
   "source": [
    "unks"
   ]
  },
  {
   "cell_type": "code",
   "execution_count": null,
   "id": "966b8c5e-1123-4bdb-a493-e4687e28a7ac",
   "metadata": {
    "papermill": {
     "duration": 0.025883,
     "end_time": "2021-07-29T12:59:43.763276",
     "exception": false,
     "start_time": "2021-07-29T12:59:43.737393",
     "status": "completed"
    },
    "tags": []
   },
   "outputs": [],
   "source": [
    "dups_s = dups.sort_values([score_column_name], ascending=False).copy()\n",
    "dups_s = dups_s.drop_duplicates(subset=['hash'])\n",
    "dups_s.to_csv(Path(work_dir) / 'contract_trainset_meta.hp.csv', index=True)\n",
    "dups_s"
   ]
  },
  {
   "cell_type": "code",
   "execution_count": null,
   "id": "550f3f82-a6bc-4644-9623-d74e84ae94b3",
   "metadata": {
    "papermill": {
     "duration": 0.030381,
     "end_time": "2021-07-29T12:59:43.840987",
     "exception": false,
     "start_time": "2021-07-29T12:59:43.810606",
     "status": "completed"
    },
    "tags": []
   },
   "outputs": [],
   "source": [
    "\n"
   ]
  },
  {
   "cell_type": "code",
   "execution_count": null,
   "id": "0087ee9d-297f-4d28-8fe2-c460bed597ed",
   "metadata": {
    "papermill": {
     "duration": 0.011987,
     "end_time": "2021-07-29T12:59:43.864709",
     "exception": false,
     "start_time": "2021-07-29T12:59:43.852722",
     "status": "completed"
    },
    "tags": []
   },
   "outputs": [],
   "source": []
  }
 ],
 "metadata": {
  "colab": {
   "collapsed_sections": [
    "9eF-UGHyh-C9",
    "7X_zYCYEdlPM",
    "lyI4hbTRFjyM"
   ],
   "name": "Local: structure keras uber model - clean train, evaluate, test.ipynb",
   "provenance": [],
   "toc_visible": true
  },
  "kernelspec": {
   "display_name": "Python 3 (ipykernel)",
   "language": "python",
   "name": "python3"
  },
  "language_info": {
   "codemirror_mode": {
    "name": "ipython",
    "version": 3
   },
   "file_extension": ".py",
   "mimetype": "text/x-python",
   "name": "python",
   "nbconvert_exporter": "python",
   "pygments_lexer": "ipython3",
   "version": "3.9.6"
  },
  "papermill": {
   "default_parameters": {},
   "duration": 9.221006,
   "end_time": "2021-07-29T12:59:46.835106",
   "environment_variables": {},
   "exception": null,
   "input_path": "trainsets/export_docs_for_manual_markup.ipynb",
   "output_path": "trainsets/export_docs_for_manual_markup.ipynb",
   "parameters": {},
   "start_time": "2021-07-29T12:59:37.614100",
   "version": "2.3.3"
  }
 },
 "nbformat": 4,
 "nbformat_minor": 5
}
