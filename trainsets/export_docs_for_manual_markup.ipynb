{
 "cells": [
  {
   "cell_type": "markdown",
   "id": "84416aa0",
   "metadata": {
    "colab_type": "text",
    "id": "JbsxFAqC6pjQ",
    "papermill": {
     "duration": 0.021067,
     "end_time": "2021-07-29T12:59:38.523325",
     "exception": false,
     "start_time": "2021-07-29T12:59:38.502258",
     "status": "completed"
    },
    "tags": []
   },
   "source": [
    "# Imports"
   ]
  },
  {
   "cell_type": "code",
   "execution_count": null,
   "id": "a63d3c58-2d3a-4f27-a017-c9acd65e4806",
   "metadata": {
    "papermill": {
     "duration": 0.018415,
     "end_time": "2021-07-29T12:59:38.554850",
     "exception": false,
     "start_time": "2021-07-29T12:59:38.536435",
     "status": "completed"
    },
    "tags": []
   },
   "outputs": [],
   "source": [
    "IMPORT_FRESH_ONLY = True # re-import all if False"
   ]
  },
  {
   "cell_type": "code",
   "execution_count": null,
   "id": "28d79173",
   "metadata": {
    "colab": {},
    "colab_type": "code",
    "id": "JoHJkn9yQIgg",
    "papermill": {
     "duration": 1.872553,
     "end_time": "2021-07-29T12:59:40.435671",
     "exception": false,
     "start_time": "2021-07-29T12:59:38.563118",
     "status": "completed"
    },
    "tags": []
   },
   "outputs": [],
   "source": [
    "import logging\n",
    "import platform\n",
    "import sys\n",
    "import os\n",
    "import seaborn as sns\n",
    "import matplotlib.pyplot as plt\n",
    "from IPython.display import display, Markdown\n",
    "from datetime import datetime\n",
    "import tensorflow as tf\n",
    "\n",
    "logger = logging.getLogger('retrain_ipynb')\n",
    "logger.setLevel(logging.DEBUG)\n",
    "\n",
    "\n",
    "ch = logging.StreamHandler()\n",
    "ch.setLevel(logging.DEBUG)\n",
    "formatter = logging.Formatter('%(levelname)s - %(asctime)s - %(name)s - %(message)s')\n",
    "ch.setFormatter(formatter)\n",
    "logger.addHandler(ch)\n",
    "logger.debug('--=logging started=--')\n",
    "\n",
    "print(tf.__version__)\n",
    "CPU = platform.processor()\n",
    "print (f'Running on CPU:{CPU}')"
   ]
  },
  {
   "cell_type": "code",
   "execution_count": null,
   "id": "2e198c1d",
   "metadata": {
    "colab": {},
    "colab_type": "code",
    "id": "ZiBqnGnQfKWF",
    "papermill": {
     "duration": 0.013629,
     "end_time": "2021-07-29T12:59:40.455246",
     "exception": false,
     "start_time": "2021-07-29T12:59:40.441617",
     "status": "completed"
    },
    "tags": []
   },
   "outputs": [],
   "source": [
    "nb_dir = os.path.split(os.getcwd())[0]\n",
    "if nb_dir not in sys.path:\n",
    "    sys.path.append(nb_dir)\n",
    "\n",
    "import analyser.hyperparams \n",
    "analyser.hyperparams.__file__"
   ]
  },
  {
   "cell_type": "markdown",
   "id": "ae495501",
   "metadata": {
    "papermill": {
     "duration": 0.005964,
     "end_time": "2021-07-29T12:59:40.467235",
     "exception": false,
     "start_time": "2021-07-29T12:59:40.461271",
     "status": "completed"
    },
    "tags": []
   },
   "source": [
    "### Prepare workdir"
   ]
  },
  {
   "cell_type": "code",
   "execution_count": null,
   "id": "c1029623",
   "metadata": {
    "colab": {},
    "colab_type": "code",
    "id": "jT7451NXspdw",
    "papermill": {
     "duration": 0.010501,
     "end_time": "2021-07-29T12:59:40.484202",
     "exception": false,
     "start_time": "2021-07-29T12:59:40.473701",
     "status": "completed"
    },
    "tags": []
   },
   "outputs": [],
   "source": [
    "_work_dir_default = os.path.realpath(os.path.join(  analyser.hyperparams.__file__, '..', '..', '..', 'work'))\n",
    "work_dir = os.environ.get('GPN_WORK_DIR', _work_dir_default)\n",
    "\n",
    "if not os.path.isdir(work_dir):\n",
    "    os.mkdir(work_dir)\n",
    "\n",
    "analyser.hyperparams.work_dir = work_dir\n",
    " \n",
    "\n",
    "print('work_dir=', analyser.hyperparams.work_dir)\n",
    "assert os.path.isdir(analyser.hyperparams.work_dir)"
   ]
  },
  {
   "cell_type": "markdown",
   "id": "8c55a33b",
   "metadata": {
    "papermill": {
     "duration": 0.006093,
     "end_time": "2021-07-29T12:59:40.496436",
     "exception": false,
     "start_time": "2021-07-29T12:59:40.490343",
     "status": "completed"
    },
    "tags": []
   },
   "source": [
    "### Imports..."
   ]
  },
  {
   "cell_type": "code",
   "execution_count": null,
   "id": "34cde660",
   "metadata": {
    "colab": {
     "base_uri": "https://localhost:8080/",
     "height": 87
    },
    "colab_type": "code",
    "id": "pexvDJbAtZM0",
    "outputId": "4f7e6e34-d675-423d-d102-1020d49d854f",
    "papermill": {
     "duration": 1.454725,
     "end_time": "2021-07-29T12:59:41.957173",
     "exception": false,
     "start_time": "2021-07-29T12:59:40.502448",
     "status": "completed"
    },
    "tags": []
   },
   "outputs": [],
   "source": [
    "%matplotlib inline\n",
    "\n",
    "\n",
    "import pandas as pd\n",
    "from pandas import DataFrame\n",
    "\n",
    "from analyser.finalizer import get_doc_by_id\n",
    "from analyser.persistence import DbJsonDoc\n",
    "from integration.db import get_mongodb_connection\n",
    "\n",
    "from pathlib import Path\n",
    " "
   ]
  },
  {
   "cell_type": "markdown",
   "id": "16ed5139",
   "metadata": {
    "papermill": {
     "duration": 0.00625,
     "end_time": "2021-07-29T12:59:41.969834",
     "exception": false,
     "start_time": "2021-07-29T12:59:41.963584",
     "status": "completed"
    },
    "tags": []
   },
   "source": [
    "### Query DB for contact IDs"
   ]
  },
  {
   "cell_type": "code",
   "execution_count": null,
   "id": "b5e1f699",
   "metadata": {
    "papermill": {
     "duration": 0.03546,
     "end_time": "2021-07-29T12:59:42.011410",
     "exception": false,
     "start_time": "2021-07-29T12:59:41.975950",
     "status": "completed"
    },
    "tags": []
   },
   "outputs": [],
   "source": [
    "export_fn = str(Path(work_dir) / 'contract_trainset_meta.temp.csv')\n",
    "# stats = pd.read_csv(export_fn, index_col=0)\n",
    "\n",
    "try:\n",
    "    stats = pd.read_csv(export_fn, index_col=0)\n",
    "    if not 'analyze_date' in stats:\n",
    "        stats['analyze_date'] = None\n",
    "    stats['analyze_date'] = pd.to_datetime(stats['analyze_date'])\n",
    "    stats['user_correction_date'] = pd.to_datetime(stats['user_correction_date'])\n",
    "\n",
    "    lastdate = stats[[\"user_correction_date\", 'analyze_date']].max().max()\n",
    "    \n",
    "except:\n",
    "    logger.error(f'cannot load {export_fn}')\n",
    "\n",
    "    lastdate = datetime(1900, 1, 1)\n",
    "    stats = DataFrame()\n",
    "    \n",
    "if not IMPORT_FRESH_ONLY:\n",
    "    lastdate = datetime(1900, 1, 1)\n",
    "    \n",
    "print(lastdate, export_fn)\n",
    "stats"
   ]
  },
  {
   "cell_type": "markdown",
   "id": "f2f1db37-2acc-4ead-bdf0-49e115e3c066",
   "metadata": {
    "papermill": {
     "duration": 0.006596,
     "end_time": "2021-07-29T12:59:42.024931",
     "exception": false,
     "start_time": "2021-07-29T12:59:42.018335",
     "status": "completed"
    },
    "tags": []
   },
   "source": [
    "## Fetch fresh docs from Mongo DB"
   ]
  },
  {
   "cell_type": "code",
   "execution_count": null,
   "id": "034c3cda",
   "metadata": {
    "papermill": {
     "duration": 0.453329,
     "end_time": "2021-07-29T12:59:42.484807",
     "exception": false,
     "start_time": "2021-07-29T12:59:42.031478",
     "status": "completed"
    },
    "tags": []
   },
   "outputs": [],
   "source": [
    "query = {\n",
    "  '$and': [\n",
    "    {\"parse.documentType\": \"CONTRACT\"},\n",
    "      \n",
    "#     {\"state\": 15},\n",
    "    {'$or': [\n",
    "          {\"analysis.attributes_tree\": {\"$ne\": None}},\n",
    "          {\"user.attributes_tree\": {\"$ne\": None}}\n",
    "        ]},\n",
    "#       {'$and': [\n",
    "#           {\"user.updateDate\": {\"$ne\": None}},\n",
    "#           {'user.updateDate': {'$gt': lastdate}}\n",
    "#       ]}\n",
    "#     {\"user.attributes_tree.contract.people\": {\"$ne\": None}}\n",
    "\n",
    "    #     {'$or': [\n",
    "    #         {\"user.attributes_tree.contract.price.amount_netto\": {\"$ne\": None}},\n",
    "    #         {\"user.attributes_tree.contract.price.amount_brutto\": {\"$ne\": None}}\n",
    "    #     ]}\n",
    "    {'$or': [\n",
    "      {'analysis.analyze_timestamp': {'$gt': lastdate}},\n",
    "      {'user.updateDate': {'$gt': lastdate}}\n",
    "    ]}\n",
    "  ]\n",
    "}\n",
    "\n",
    "db = get_mongodb_connection()\n",
    "documents_collection = db['documents']\n",
    "res = documents_collection.find(filter=query,\n",
    "                                projection={'_id': True, 'user.updateDate':True}\n",
    "#                                             'analysis.attributes_tree.version': True,\n",
    "#                                             'analysis.attributes_tree.contract.subject': True}\n",
    "                               ).limit(3000)\n",
    "\n",
    "res = list([i for i in res])\n",
    "\n",
    "_s = f\"#### Всего новых документов после {lastdate} : {len(res)}\"\n",
    "display(Markdown(_s))\n",
    "\n",
    "res[:4]"
   ]
  },
  {
   "cell_type": "code",
   "execution_count": null,
   "id": "8e9c61cd",
   "metadata": {
    "papermill": {
     "duration": 0.030978,
     "end_time": "2021-07-29T12:59:42.535462",
     "exception": false,
     "start_time": "2021-07-29T12:59:42.504484",
     "status": "completed"
    },
    "tags": []
   },
   "outputs": [],
   "source": [
    "from datetime import datetime\n",
    "from math import log1p\n",
    "\n",
    "from pandas import DataFrame\n",
    "\n",
    "from analyser.persistence import DbJsonDoc\n",
    "from trainsets.retrain_contract_uber_model import flatten_attributes_tree\n",
    "\n",
    "\n",
    "def add_stats_record(d: DbJsonDoc, stats: DataFrame):\n",
    "  _id = str(d.get_id())\n",
    "\n",
    "  attr_map = flatten_attributes_tree(d.get_attributes_tree())\n",
    "\n",
    "  # stats.at[_id, 'valid'] = True\n",
    "\n",
    "  stats.at[_id, 'checksum'] = d.get_tokens_for_embedding().get_checksum()\n",
    "  if 'version' in d.analysis['attributes_tree']:\n",
    "    stats.at[_id, 'version'] = '.'.join([str(x) for x in d.analysis['attributes_tree']['version']])\n",
    "  else:\n",
    "    stats.at[_id, 'version'] = d.analysis['version']\n",
    "\n",
    "  stats.at[_id, 'export_date'] = datetime.now()\n",
    "  stats.at[_id, 'len'] = len(d)\n",
    "  stats.at[_id, 'analyze_date'] = d.analysis['analyze_timestamp']\n",
    "\n",
    "\n",
    "  _value_tag = attr_map['sign_value_currency/value']\n",
    "  if _value_tag:\n",
    "    stats.at[_id, 'value'] = _value_tag['value']\n",
    "    stats.at[_id, 'value_log1p'] = log1p(_value_tag['value'])\n",
    "    stats.at[_id, 'value_span'] = _value_tag['span'][0]\n",
    "    # find_in_dict('price.amount.span.0', d.get_attributes_tree())\n",
    "    \n",
    "  def _map_val(src, dest):\n",
    "    if attr_map[src]:\n",
    "        stats.at[_id, dest] = attr_map[src]['value']\n",
    "        \n",
    "  _map_val('sign_value_currency/currency', 'currency')\n",
    "  _map_val('org-1-alias', 'org-1-alias')\n",
    "  _map_val('org-2-alias', 'org-2-alias')\n",
    "  _map_val('org-1-name', 'org-1-name')\n",
    "  _map_val('org-2-name', 'org-2-name')\n",
    "  _map_val('subject', 'subject')\n",
    " \n",
    "\n",
    "\n",
    "  if d.user is not None:\n",
    "    # if 'attributes_tree' in d.user and 'creation_date' in d.user['attributes_tree']:\n",
    "    # stats.at[_id, 'user_correction_date'] = d.user['attributes_tree']['creation_date']\n",
    "    stats.at[_id, 'user_correction_date'] = d.user[\n",
    "      'updateDate']  # find_in_dict('attributes_tree.creation_date', d.user)\n"
   ]
  },
  {
   "cell_type": "code",
   "execution_count": null,
   "id": "b08dd23d",
   "metadata": {
    "papermill": {
     "duration": 0.03825,
     "end_time": "2021-07-29T12:59:42.584363",
     "exception": false,
     "start_time": "2021-07-29T12:59:42.546113",
     "status": "completed"
    },
    "tags": []
   },
   "outputs": [],
   "source": [
    "# res[:4]\n",
    "# from tqdm import tqdm\n",
    "\n",
    "docs_ids = [i[\"_id\"] for i in res]   \n",
    "# stats = DataFrame()\n",
    "    \n",
    "\n",
    "for k, oid in enumerate(docs_ids):\n",
    "    d = get_doc_by_id(oid)\n",
    "    jd = DbJsonDoc(d)\n",
    "    \n",
    "    add_stats_record(jd, stats)\n",
    "    \n",
    "    if k % 20 == 0:\n",
    "        print(k)\n",
    "        stats.to_csv(export_fn, index=True)\n",
    "    \n",
    "stats.to_csv(export_fn, index=True)\n",
    "stats"
   ]
  },
  {
   "cell_type": "code",
   "execution_count": null,
   "id": "2b60b51d",
   "metadata": {
    "papermill": {
     "duration": 0.021588,
     "end_time": "2021-07-29T12:59:42.613700",
     "exception": false,
     "start_time": "2021-07-29T12:59:42.592112",
     "status": "completed"
    },
    "tags": []
   },
   "outputs": [],
   "source": [
    "stats2 = stats.copy()\n",
    "stats2['org-2-alias'] = stats2['org-2-alias'].str.lower()\n",
    "stats2['org-1-alias'] = stats2['org-1-alias'].str.lower()\n",
    "stats2['org-1-name'] = stats2['org-1-name'].str.lower()\n",
    "stats2['org-2-name'] = stats2['org-2-name'].str.lower()\n",
    "stats2"
   ]
  },
  {
   "cell_type": "code",
   "execution_count": null,
   "id": "21ac49bc",
   "metadata": {
    "papermill": {
     "duration": 0.107539,
     "end_time": "2021-07-29T12:59:42.729214",
     "exception": false,
     "start_time": "2021-07-29T12:59:42.621675",
     "status": "completed"
    },
    "tags": []
   },
   "outputs": [],
   "source": [
    "%matplotlib inline\n",
    "\n",
    "cnt = stats2['subject'].value_counts()\n",
    "# alias_count = stats2['org-1-alias'].value_counts()\n",
    "\n",
    "#plot distribution---------------------\n",
    "plt.figure(figsize=(12, 12))\n",
    "sns.barplot(x=cnt.values, y=cnt.index)\n",
    "\n",
    "plt.title('Frequency Distribution of subjects')\n",
    "plt.xlabel('Number of Occurrences')\n",
    "plt.show()"
   ]
  },
  {
   "cell_type": "code",
   "execution_count": null,
   "id": "05733268-ba37-4545-aa59-e45c7f11ff6c",
   "metadata": {
    "papermill": {
     "duration": 0.012294,
     "end_time": "2021-07-29T12:59:42.749884",
     "exception": false,
     "start_time": "2021-07-29T12:59:42.737590",
     "status": "completed"
    },
    "tags": []
   },
   "outputs": [],
   "source": [
    "stats2['subject'].value_counts()"
   ]
  },
  {
   "cell_type": "code",
   "execution_count": null,
   "id": "0891e080",
   "metadata": {
    "papermill": {
     "duration": 0.012453,
     "end_time": "2021-07-29T12:59:42.770929",
     "exception": false,
     "start_time": "2021-07-29T12:59:42.758476",
     "status": "completed"
    },
    "tags": []
   },
   "outputs": [],
   "source": [
    "stats2['org-1-alias'].value_counts()"
   ]
  },
  {
   "cell_type": "code",
   "execution_count": null,
   "id": "26686529",
   "metadata": {
    "papermill": {
     "duration": 0.013108,
     "end_time": "2021-07-29T12:59:42.793354",
     "exception": false,
     "start_time": "2021-07-29T12:59:42.780246",
     "status": "completed"
    },
    "tags": []
   },
   "outputs": [],
   "source": [
    "stats2['org-2-alias'].value_counts()"
   ]
  },
  {
   "cell_type": "code",
   "execution_count": null,
   "id": "a08ae79a",
   "metadata": {
    "papermill": {
     "duration": 0.618615,
     "end_time": "2021-07-29T12:59:43.420797",
     "exception": false,
     "start_time": "2021-07-29T12:59:42.802182",
     "status": "completed"
    },
    "tags": []
   },
   "outputs": [],
   "source": [
    "score_column_name = \"score\"\n",
    "\n",
    "def calc_no_value_importance(stats2, column_name, score_k=2.):\n",
    "        \n",
    "    for i, row in stats2.iterrows():\n",
    "        if pd.isna(row[column_name]):\n",
    "            stats2.at[i, score_column_name] *= score_k\n",
    "                \n",
    "def calc_user_importance(stats2):\n",
    "        \n",
    "    for i, row in stats2.iterrows():\n",
    "        if not pd.isna(row['unseen']):\n",
    "\n",
    "            if row['unseen'] == True:\n",
    "                stats2.at[i, score_column_name] *= 2\n",
    "                \n",
    "def calc_val_importance(stats2):\n",
    " \n",
    "    for i, row in stats2.iterrows():\n",
    "        if not pd.isna(row['value']):\n",
    "            a_weight = row['value']\n",
    "            if a_weight>0:\n",
    "                stats2.at[i, score_column_name] *= log1p(a_weight)\n",
    "        \n",
    "            \n",
    "def calc_column_val_importance(stats2, column_name):\n",
    "    counts = stats2[column_name].value_counts()\n",
    " \n",
    "        \n",
    "    for i, row in stats2.iterrows():\n",
    "        val = row[column_name]\n",
    "        if val in counts:\n",
    "            a_weight = counts[val]\n",
    "            stats2.at[i, score_column_name] *= 1./log1p(a_weight)\n",
    "        else:\n",
    "            stats2.at[i, score_column_name] *= 1.0\n",
    "\n",
    "for i, row in stats2.iterrows():        \n",
    "  stats2.at[i, 'url'] = f'http://gpn-audit.nemosoft.ru/#/audit/edit/{i}'\n",
    "    \n",
    "stats2 ['unseen'] = pd.isna( stats2['user_correction_date'])\n",
    "\n",
    "stats2[score_column_name] = 1.\n",
    "\n",
    "calc_no_value_importance(stats2, 'org-1-alias', 2.)\n",
    "calc_no_value_importance(stats2, 'org-2-alias', 2.)\n",
    "calc_no_value_importance(stats2, 'org-1-name', 3.)\n",
    "calc_no_value_importance(stats2, 'org-2-name', 3.)\n",
    "calc_no_value_importance(stats2, 'user_correction_date', 2.)\n",
    "\n",
    "calc_column_val_importance(stats2, 'org-1-name')\n",
    "calc_column_val_importance(stats2, 'org-2-name')\n",
    "calc_column_val_importance(stats2, 'org-1-alias')\n",
    "calc_column_val_importance(stats2, 'org-2-alias')\n",
    "\n",
    "# calc_user_importance(stats2)\n",
    "calc_val_importance(stats2)\n",
    "\n",
    "# drop_duplicates(subset=['checksum']).\n",
    "stats2 = stats2.sort_values([score_column_name], ascending=False)\n",
    "# \n",
    "\n",
    "\n",
    "\n",
    "sub = stats2[['url','version','len', 'org-1-name', 'org-2-name', 'org-1-alias', 'org-2-alias', 'subject', 'value', 'user_correction_date']]\n",
    "sub.to_csv(Path(work_dir) / 'contract_trainset_meta.hp.csv', index=True)\n",
    "sub"
   ]
  },
  {
   "cell_type": "markdown",
   "id": "a8d8cc3c-1899-4eb0-beab-967ed8148316",
   "metadata": {
    "papermill": {
     "duration": 0.008966,
     "end_time": "2021-07-29T12:59:43.439102",
     "exception": false,
     "start_time": "2021-07-29T12:59:43.430136",
     "status": "completed"
    },
    "tags": []
   },
   "source": [
    "## Find duplicates"
   ]
  },
  {
   "cell_type": "code",
   "execution_count": null,
   "id": "f8ec7282-caa4-4eee-8289-6961e0e24eb1",
   "metadata": {
    "papermill": {
     "duration": 0.023481,
     "end_time": "2021-07-29T12:59:43.471912",
     "exception": false,
     "start_time": "2021-07-29T12:59:43.448431",
     "status": "completed"
    },
    "tags": []
   },
   "outputs": [],
   "source": [
    "stats2.sort_values(['len', 'org-1-name', 'org-2-name', 'org-1-alias','org-2-alias', 'value', 'subject'], ascending=False)"
   ]
  },
  {
   "cell_type": "code",
   "execution_count": null,
   "id": "e5701fce-1bf6-4b15-86dc-8aee903e160d",
   "metadata": {
    "papermill": {
     "duration": 0.102459,
     "end_time": "2021-07-29T12:59:43.583729",
     "exception": false,
     "start_time": "2021-07-29T12:59:43.481270",
     "status": "completed"
    },
    "tags": []
   },
   "outputs": [],
   "source": [
    "for i, row in stats2.iterrows():   \n",
    "#     print(row['org-1-name'])\n",
    "\n",
    "    _str = ':'.join(    sorted( [str(x) for x in [row['len'], row['org-1-alias'], row['org-2-alias'], row['org-1-name'], row['org-2-name'], row['value'], row['subject']]] ) )\n",
    "#     print(hash( _str  ), _str)\n",
    "    stats2.at[i, 'hash'] = hash( _str  )\n",
    "stats2.sort_values(['hash'])"
   ]
  },
  {
   "cell_type": "code",
   "execution_count": null,
   "id": "23073dff-1fbc-4bef-aeae-cdd9fb3dfe0d",
   "metadata": {
    "papermill": {
     "duration": 0.107294,
     "end_time": "2021-07-29T12:59:43.701069",
     "exception": false,
     "start_time": "2021-07-29T12:59:43.593775",
     "status": "completed"
    },
    "tags": []
   },
   "outputs": [],
   "source": [
    "unks = stats2['hash'].value_counts()\n",
    "\n",
    "for i, row in stats2.iterrows():   \n",
    "    stats2.at[i, 'dups'] = unks[row['hash']]\n",
    "    \n",
    "dups = stats2.sort_values(['dups', 'hash'], ascending=False)\n",
    "dups.to_csv(Path(work_dir) / 'contract_trainset_meta.duplicates.csv', index=True)\n",
    "\n",
    "dups[40:].head(40)"
   ]
  },
  {
   "cell_type": "code",
   "execution_count": null,
   "id": "dcf72526-1ad7-4699-91ac-abaeff5c23f7",
   "metadata": {
    "papermill": {
     "duration": 0.014593,
     "end_time": "2021-07-29T12:59:43.726456",
     "exception": false,
     "start_time": "2021-07-29T12:59:43.711863",
     "status": "completed"
    },
    "tags": []
   },
   "outputs": [],
   "source": [
    "unks"
   ]
  },
  {
   "cell_type": "code",
   "execution_count": null,
   "id": "966b8c5e-1123-4bdb-a493-e4687e28a7ac",
   "metadata": {
    "papermill": {
     "duration": 0.025883,
     "end_time": "2021-07-29T12:59:43.763276",
     "exception": false,
     "start_time": "2021-07-29T12:59:43.737393",
     "status": "completed"
    },
    "tags": []
   },
   "outputs": [],
   "source": [
    "dups_s = dups.sort_values([score_column_name], ascending=False).copy()\n",
    "dups_s = dups_s.drop_duplicates(subset=['hash'])\n",
    "dups_s.to_csv(Path(work_dir) / 'contract_trainset_meta.hp.csv', index=True)\n",
    "dups_s"
   ]
  },
  {
   "cell_type": "code",
   "execution_count": null,
   "id": "550f3f82-a6bc-4644-9623-d74e84ae94b3",
   "metadata": {
    "papermill": {
     "duration": 0.030381,
     "end_time": "2021-07-29T12:59:43.840987",
     "exception": false,
     "start_time": "2021-07-29T12:59:43.810606",
     "status": "completed"
    },
    "tags": []
   },
   "outputs": [],
   "source": [
    "\n"
   ]
  },
  {
   "cell_type": "code",
   "execution_count": null,
   "id": "0087ee9d-297f-4d28-8fe2-c460bed597ed",
   "metadata": {
    "papermill": {
     "duration": 0.011987,
     "end_time": "2021-07-29T12:59:43.864709",
     "exception": false,
     "start_time": "2021-07-29T12:59:43.852722",
     "status": "completed"
    },
    "tags": []
   },
   "outputs": [],
   "source": []
  }
 ],
 "metadata": {
  "colab": {
   "collapsed_sections": [
    "9eF-UGHyh-C9",
    "7X_zYCYEdlPM",
    "lyI4hbTRFjyM"
   ],
   "name": "Local: structure keras uber model - clean train, evaluate, test.ipynb",
   "provenance": [],
   "toc_visible": true
  },
  "kernelspec": {
   "display_name": "Python 3 (ipykernel)",
   "language": "python",
   "name": "python3"
  },
  "language_info": {
   "codemirror_mode": {
    "name": "ipython",
    "version": 3
   },
   "file_extension": ".py",
   "mimetype": "text/x-python",
   "name": "python",
   "nbconvert_exporter": "python",
   "pygments_lexer": "ipython3",
   "version": "3.9.6"
  },
  "papermill": {
   "default_parameters": {},
   "duration": 9.221006,
   "end_time": "2021-07-29T12:59:46.835106",
   "environment_variables": {},
   "exception": null,
   "input_path": "trainsets/export_docs_for_manual_markup.ipynb",
   "output_path": "trainsets/export_docs_for_manual_markup.ipynb",
   "parameters": {},
   "start_time": "2021-07-29T12:59:37.614100",
   "version": "2.3.3"
  }
 },
 "nbformat": 4,
 "nbformat_minor": 5
}
