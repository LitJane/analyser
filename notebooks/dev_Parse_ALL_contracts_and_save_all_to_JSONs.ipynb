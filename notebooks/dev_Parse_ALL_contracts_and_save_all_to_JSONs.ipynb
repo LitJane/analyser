{
  "nbformat": 4,
  "nbformat_minor": 0,
  "metadata": {
    "colab": {
      "name": "dev: Parse ALL contracts and save all to JSONs.ipynb",
      "provenance": [],
      "collapsed_sections": [
        "al6xZ5y6FBU1",
        "T9CRJ19ZAPyG",
        "B8DgCjtPAqKT"
      ],
      "toc_visible": true
    },
    "kernelspec": {
      "name": "python3",
      "display_name": "Python 3"
    },
    "accelerator": "GPU"
  },
  "cells": [
    {
      "cell_type": "code",
      "metadata": {
        "id": "raCAExPc0iE-",
        "colab_type": "code",
        "cellView": "both",
        "colab": {}
      },
      "source": [
        "#@title Params\n",
        " \n",
        "\n",
        "document_parser_lib_version='1.1.12'#@param {type:\"string\"}\n",
        "# _git_branch = 'protocols-4'\n",
        "_git_branch = 'charters-clean'#@param {type:\"string\"}\n",
        "# _git_branch = 'semantic-tags'\n",
        "\n",
        "do_parse_contracts=False#@param {type:\"boolean\"}\n",
        "do_parse_protocols=False#@param {type:\"boolean\"}\n",
        "do_parse_charters=True#@param {type:\"boolean\"}\n",
        "\n",
        "do_parse_zip=False#@param {type:\"boolean\"}\n"
      ],
      "execution_count": 0,
      "outputs": []
    },
    {
      "cell_type": "markdown",
      "metadata": {
        "id": "MGbb8gDSTvuW",
        "colab_type": "text"
      },
      "source": [
        "### Mount gDrive"
      ]
    },
    {
      "cell_type": "code",
      "metadata": {
        "id": "T7_rZoyzMRzo",
        "colab_type": "code",
        "colab": {
          "base_uri": "https://localhost:8080/",
          "height": 33
        },
        "outputId": "c5d0feae-a47a-45ac-cfa1-1cf30d98732f"
      },
      "source": [
        "if do_parse_contracts or do_parse_protocols or do_parse_charters:\n",
        "  from google.colab import drive\n",
        "  drive.mount('/content/gdrive' )"
      ],
      "execution_count": 2,
      "outputs": [
        {
          "output_type": "stream",
          "text": [
            "Drive already mounted at /content/gdrive; to attempt to forcibly remount, call drive.mount(\"/content/gdrive\", force_remount=True).\n"
          ],
          "name": "stdout"
        }
      ]
    },
    {
      "cell_type": "markdown",
      "metadata": {
        "id": "JbsxFAqC6pjQ",
        "colab_type": "text"
      },
      "source": [
        "# Import code from gitHub"
      ]
    },
    {
      "cell_type": "code",
      "metadata": {
        "id": "2F89NLdN6A8t",
        "colab_type": "code",
        "colab": {
          "base_uri": "https://localhost:8080/",
          "height": 310
        },
        "outputId": "41bb51f5-80a7-49ba-fa00-989061e510f7"
      },
      "source": [
        "import json\n",
        "import subprocess\n",
        "import sys\n",
        "import time\n",
        "\n",
        "import numpy as np\n",
        "from IPython.core.display import display, HTML\n",
        "from google.colab import files\n",
        "\n",
        "!pip install overrides\n",
        "\n",
        "Ничто = None\n",
        "\n",
        "\n",
        "\n",
        "def exec(x):\n",
        "  r = subprocess.check_output(x, shell=True)\n",
        "  r = r.decode('unicode-escape').encode('latin1').decode('utf8')\n",
        "  print(r)\n",
        "\n",
        "\n",
        "print(f\"fetching code from GitHub.....{_git_branch}\")\n",
        "try:\n",
        "  exec('rm -r nlp_tools')\n",
        "except:\n",
        "  pass\n",
        "exec(f'git clone --single-branch --branch {_git_branch} https://github.com/nemoware/analyser.git nlp_tools')\n",
        "\n",
        "print('🦊 GIT revision:')\n",
        "exec('cd nlp_tools\\ngit rev-list --reverse HEAD | awk \"{ print NR }\" | tail -n 1\\ngit branch\\ngit log -3 --pretty=%B')\n",
        "\n",
        "sys.path.insert(0, 'nlp_tools')\n",
        "\n",
        "print('❤️importing Code from GitHub ... DONE')\n",
        "\n",
        "\n",
        "#----\n",
        "import matplotlib as mpl\n",
        "from documents import TextMap\n",
        "from colab_support.renderer import HtmlRenderer\n",
        " \n",
        " \n",
        "\n",
        "class DemoRenderer(HtmlRenderer):\n",
        "  def render_color_text(self, tokens, weights, colormap='coolwarm', print_debug=False, _range=None):\n",
        "    html = self.to_color_text(tokens, weights, colormap, print_debug, _range)\n",
        "    display(HTML(html))\n",
        "\n",
        "  def to_color_text(self, tokens, weights, colormap='coolwarm', print_debug=False, _range=None):\n",
        "    return super()._to_color_text(tokens, weights, mpl, colormap=colormap, _range=_range)\n",
        "\n",
        "   \n",
        "renderer_ = DemoRenderer()\n",
        "\n",
        " \n",
        "  "
      ],
      "execution_count": 3,
      "outputs": [
        {
          "output_type": "stream",
          "text": [
            "Requirement already satisfied: overrides in /usr/local/lib/python3.6/dist-packages (2.5)\n",
            "fetching code from GitHub.....charters\n",
            "\n",
            "\n",
            "🦊 GIT revision:\n",
            "871\n",
            "* charters\n",
            "+patterns\n",
            "\n",
            "Fix _find_max_xy_in_matrix\n",
            "\n",
            "Update attribute_patternmatch_to_index\n",
            "\n",
            "\n",
            "❤️importing Code from GitHub ... DONE\n",
            "[nltk_data] Downloading package punkt to /root/nltk_data...\n",
            "[nltk_data]   Package punkt is already up-to-date!\n",
            "loading word cases stats model /content/nlp_tools/vocab/word_cases_stats.pickle\n"
          ],
          "name": "stdout"
        }
      ]
    },
    {
      "cell_type": "markdown",
      "metadata": {
        "id": "aPLjOzkOATgk",
        "colab_type": "text"
      },
      "source": [
        "### imports"
      ]
    },
    {
      "cell_type": "code",
      "metadata": {
        "id": "NCfuE2dw6wO5",
        "colab_type": "code",
        "colab": {
          "base_uri": "https://localhost:8080/",
          "height": 126
        },
        "outputId": "6524a340-e5fd-4280-aa93-13375fd590be"
      },
      "source": [
        "import pickle\n",
        "import unittest\n",
        "import warnings\n",
        "\n",
        "!pip install pyjarowinkler\n",
        "\n",
        "from contract_parser import ContractAnlysingContext, ContractDocument\n",
        "from contract_patterns import ContractPatternFactory\n",
        "from documents import TextMap\n",
        "from legal_docs import LegalDocument, DocumentJson\n",
        "from ml_tools import SemanticTag, filter_values_by_key_prefix\n",
        "\n",
        "import nltk\n",
        "nltk.download('punkt')"
      ],
      "execution_count": 4,
      "outputs": [
        {
          "output_type": "stream",
          "text": [
            "Requirement already satisfied: pyjarowinkler in /usr/local/lib/python3.6/dist-packages (1.8)\n"
          ],
          "name": "stdout"
        },
        {
          "output_type": "display_data",
          "data": {
            "text/html": [
              "<p style=\"color: red;\">\n",
              "The default version of TensorFlow in Colab will soon switch to TensorFlow 2.x.<br>\n",
              "We recommend you <a href=\"https://www.tensorflow.org/guide/migrate\" target=\"_blank\">upgrade</a> now \n",
              "or ensure your notebook will continue to use TensorFlow 1.x via the <code>%tensorflow_version 1.x</code> magic:\n",
              "<a href=\"https://colab.research.google.com/notebooks/tensorflow_version.ipynb\" target=\"_blank\">more info</a>.</p>\n"
            ],
            "text/plain": [
              "<IPython.core.display.HTML object>"
            ]
          },
          "metadata": {
            "tags": []
          }
        },
        {
          "output_type": "stream",
          "text": [
            "[nltk_data] Downloading package punkt to /root/nltk_data...\n",
            "[nltk_data]   Package punkt is already up-to-date!\n"
          ],
          "name": "stdout"
        },
        {
          "output_type": "execute_result",
          "data": {
            "text/plain": [
              "True"
            ]
          },
          "metadata": {
            "tags": []
          },
          "execution_count": 4
        }
      ]
    },
    {
      "cell_type": "markdown",
      "metadata": {
        "id": "esxRGxnjidln",
        "colab_type": "text"
      },
      "source": [
        "\n",
        " \n",
        "\n",
        "### Utilits"
      ]
    },
    {
      "cell_type": "code",
      "metadata": {
        "id": "Iceqc8qUjX8X",
        "colab_type": "code",
        "cellView": "form",
        "colab": {}
      },
      "source": [
        "#@title ✅Util funcs, rendering\n",
        "\n",
        "\n",
        "def print_semantic_tag(tag: SemanticTag, map: TextMap):\n",
        "  print('-->', f'{tag.kind} \\t\\t [{tag.value}]\\t [{map.text_range(tag.span)}]')\n",
        "\n",
        "def print_headers(contract):\n",
        "  for p in contract.paragraphs:\n",
        "    print ('\\t --> 📂',contract.substr(p.header))\n",
        "\n",
        "def print_json_summary(cd:DocumentJson):\n",
        "  wordsmap = TextMap(cd.normal_text, cd.tokenization_maps['$words'])\n",
        " \n",
        "  for tag in cd.tags:\n",
        "    if tag.kind !='headline':\n",
        "     print_semantic_tag(tag, wordsmap)\n",
        " \n",
        "\n",
        "\n",
        "def json2html(cd:DocumentJson, render_headlines=False):\n",
        "  wordsmap = TextMap(cd.normal_text, cd.tokenization_maps['words'])\n",
        "  markup_vector = np.zeros(len(wordsmap))\n",
        " \n",
        "  if render_headlines:\n",
        "    for hd in cd.headers:    \n",
        "      span = hd['span']      \n",
        "      markup_vector[span[0]:span[1]] += 0.2\n",
        "\n",
        "  for tag in cd.attributes:\n",
        "    if 'span' in  cd.attributes[tag]:\n",
        "      span = cd.attributes[tag]['span']\n",
        "      confidence = cd.attributes[tag]['confidence']\n",
        "      markup_vector[span[0]:span[1]] += confidence\n",
        "    else:\n",
        "      warnings.warn(f'{tag} has no span')\n",
        "\n",
        "  return renderer_.to_color_text(wordsmap.tokens, markup_vector)\n",
        "  \n",
        " \n",
        "def load_and_show_json(filename, render_headlines=False):\n",
        "  with open(filename, 'r') as json_file:\n",
        "    data_str = json_file.read()\n",
        "    # print(str(data_str))\n",
        "    json_obj:DocumentJson = DocumentJson.from_json( data_str)\n",
        "    html = json2html(json_obj, render_headlines=render_headlines)\n",
        "    display(HTML(html))\n",
        "\n",
        "\n"
      ],
      "execution_count": 0,
      "outputs": []
    },
    {
      "cell_type": "code",
      "metadata": {
        "id": "lpHstfXIOVqC",
        "colab_type": "code",
        "colab": {
          "base_uri": "https://localhost:8080/",
          "height": 362
        },
        "outputId": "9fc03648-ebfa-4dc8-fe7f-78672d5497a0"
      },
      "source": [
        "from tf_support.embedder_elmo import ElmoEmbedder\n",
        "elmo_embedder = ElmoEmbedder()\n",
        "elmo_embedder_default = ElmoEmbedder(layer_name=\"default\")\n",
        "# import tensorflow as tf\n",
        "# import tensorflow_hub as hub\n",
        " \n",
        "from contract_parser import ContractAnlysingContext\n",
        "contractAnlysingContext = ContractAnlysingContext(elmo_embedder, renderer_)\n",
        "\n"
      ],
      "execution_count": 6,
      "outputs": [
        {
          "output_type": "stream",
          "text": [
            "WARNING:tensorflow:From nlp_tools/tf_support/embedder_elmo.py:38: The name tf.placeholder is deprecated. Please use tf.compat.v1.placeholder instead.\n",
            "\n"
          ],
          "name": "stdout"
        },
        {
          "output_type": "stream",
          "text": [
            "WARNING:tensorflow:From nlp_tools/tf_support/embedder_elmo.py:38: The name tf.placeholder is deprecated. Please use tf.compat.v1.placeholder instead.\n",
            "\n"
          ],
          "name": "stderr"
        },
        {
          "output_type": "stream",
          "text": [
            "INFO:tensorflow:Saver not created because there are no variables in the graph to restore\n"
          ],
          "name": "stdout"
        },
        {
          "output_type": "stream",
          "text": [
            "INFO:tensorflow:Saver not created because there are no variables in the graph to restore\n"
          ],
          "name": "stderr"
        },
        {
          "output_type": "stream",
          "text": [
            "WARNING:tensorflow:From nlp_tools/tf_support/embedder_elmo.py:58: The name tf.global_variables_initializer is deprecated. Please use tf.compat.v1.global_variables_initializer instead.\n",
            "\n"
          ],
          "name": "stdout"
        },
        {
          "output_type": "stream",
          "text": [
            "WARNING:tensorflow:From nlp_tools/tf_support/embedder_elmo.py:58: The name tf.global_variables_initializer is deprecated. Please use tf.compat.v1.global_variables_initializer instead.\n",
            "\n"
          ],
          "name": "stderr"
        },
        {
          "output_type": "stream",
          "text": [
            "WARNING:tensorflow:From nlp_tools/tf_support/embedder_elmo.py:58: The name tf.tables_initializer is deprecated. Please use tf.compat.v1.tables_initializer instead.\n",
            "\n"
          ],
          "name": "stdout"
        },
        {
          "output_type": "stream",
          "text": [
            "WARNING:tensorflow:From nlp_tools/tf_support/embedder_elmo.py:58: The name tf.tables_initializer is deprecated. Please use tf.compat.v1.tables_initializer instead.\n",
            "\n"
          ],
          "name": "stderr"
        },
        {
          "output_type": "stream",
          "text": [
            "WARNING:tensorflow:From nlp_tools/tf_support/embedder_elmo.py:60: The name tf.Session is deprecated. Please use tf.compat.v1.Session instead.\n",
            "\n"
          ],
          "name": "stdout"
        },
        {
          "output_type": "stream",
          "text": [
            "WARNING:tensorflow:From nlp_tools/tf_support/embedder_elmo.py:60: The name tf.Session is deprecated. Please use tf.compat.v1.Session instead.\n",
            "\n"
          ],
          "name": "stderr"
        },
        {
          "output_type": "stream",
          "text": [
            "INFO:tensorflow:Saver not created because there are no variables in the graph to restore\n"
          ],
          "name": "stdout"
        },
        {
          "output_type": "stream",
          "text": [
            "INFO:tensorflow:Saver not created because there are no variables in the graph to restore\n"
          ],
          "name": "stderr"
        }
      ]
    },
    {
      "cell_type": "markdown",
      "metadata": {
        "id": "XKMB4pkuu2wi",
        "colab_type": "text"
      },
      "source": [
        "### Init document-parser lib"
      ]
    },
    {
      "cell_type": "code",
      "metadata": {
        "id": "415zlWl16SLf",
        "colab_type": "code",
        "colab": {}
      },
      "source": [
        "lib_version = document_parser_lib_version\n",
        "import os\n",
        "if not os.path.isfile(f'document-parser-{lib_version}-distribution.zip'):\n",
        "  !wget https://github.com/nemoware/document-parser/releases/download/$lib_version/document-parser-$lib_version-distribution.zip\n",
        "if not os.path.isdir(f'document-parser-{lib_version}'):\n",
        "  !unzip document-parser-$lib_version-distribution.zip\n",
        "\n",
        " \n",
        "os.environ ['documentparser']=f'/content/document-parser-{lib_version}'\n",
        "from integration.word_document_parser import WordDocParser, join_paragraphs\n"
      ],
      "execution_count": 0,
      "outputs": []
    },
    {
      "cell_type": "markdown",
      "metadata": {
        "id": "qHfhy1BhMNfm",
        "colab_type": "text"
      },
      "source": [
        "# Export all to JSON"
      ]
    },
    {
      "cell_type": "markdown",
      "metadata": {
        "id": "ClO8-VAuT63y",
        "colab_type": "text"
      },
      "source": [
        "#### Parse all"
      ]
    },
    {
      "cell_type": "code",
      "metadata": {
        "id": "107CPsZglZ7X",
        "colab_type": "code",
        "colab": {}
      },
      "source": [
        "attempt = 0"
      ],
      "execution_count": 0,
      "outputs": []
    },
    {
      "cell_type": "code",
      "metadata": {
        "id": "dobawgyTEZ0H",
        "colab_type": "code",
        "colab": {}
      },
      "source": [
        "import pandas as pd\n",
        "import hyperparams as hp\n",
        "\n",
        "codebasepath = os.path.realpath(os.path.join(os.getcwd(), os.path.dirname(hp.__file__)))\n",
        "expected = pd.read_csv ( os.path.join(codebasepath, 'vocab', 'contracts.validation.csv' ) )\n",
        "\n",
        "contracts_filename_prefix = '/content/gdrive/My Drive/GazpromOil/Contracts/'"
      ],
      "execution_count": 0,
      "outputs": []
    },
    {
      "cell_type": "code",
      "metadata": {
        "id": "LXnyIGsn68o4",
        "colab_type": "code",
        "colab": {
          "base_uri": "https://localhost:8080/",
          "height": 33
        },
        "outputId": "f2b2c21b-28b7-47ba-ef1f-f87e7dac4c46"
      },
      "source": [
        "import datetime\n",
        "import os\n",
        "\n",
        "attempt += 1\n",
        "dirname = '{0:%y.%m.%d}'.format(datetime.datetime.now())\n",
        "_out = f'/content/gdrive/My Drive/GazpromOil/Всяческая документация (shared)/JSONs/{_git_branch}-{dirname}-{attempt}/'\n",
        "\n",
        "\n",
        "if not os.path.exists(_out):\n",
        "  os.makedirs(_out)\n",
        "\n",
        "print(_out)"
      ],
      "execution_count": 10,
      "outputs": [
        {
          "output_type": "stream",
          "text": [
            "/content/gdrive/My Drive/GazpromOil/Всяческая документация (shared)/JSONs/charters-19.11.26-1/\n"
          ],
          "name": "stdout"
        }
      ]
    },
    {
      "cell_type": "code",
      "metadata": {
        "id": "-r0dVpb76jay",
        "colab_type": "code",
        "colab": {}
      },
      "source": [
        "import math\n",
        "import numbers\n",
        "import os\n",
        "\n",
        "import pandas as pd\n",
        "\n",
        "import hyperparams as hp\n",
        "from legal_docs import DocumentJson\n",
        "\n",
        "\n",
        "def validate_contracts():\n",
        "  codebasepath = os.path.realpath(os.path.join(os.getcwd(), os.path.dirname(hp.__file__)))\n",
        "  expected = pd.read_csv(os.path.join(codebasepath, 'vocab', 'contracts.validation.csv'))\n",
        "  actual = pd.read_csv(os.path.join(_out, 'contracts.validation.csv'))\n",
        "\n",
        "  msgs = []\n",
        "  errors = 0\n",
        "\n",
        "  def _check(key, e, a, col) -> int:\n",
        "    _x1 = e[col]\n",
        "    _x2 = a[col]\n",
        "    if (isinstance(_x1, numbers.Number) and math.isnan(_x1)) and (isinstance(_x2, numbers.Number) and math.isnan(_x2)):\n",
        "      return 0\n",
        "    if _x1 != _x2:\n",
        "      msg = f\"{key}:\\t{col} \\n\\t expected: '{e[col]}' \\n\\t   ACTUAL: '{a[col]}'\"\n",
        "      msgs.append(msg)\n",
        "      return 1\n",
        "    return 0\n",
        "\n",
        "  for x in actual['_id']:\n",
        "    r1 = expected[expected['_id'] == x].iloc[0]\n",
        "    r2 = actual[actual['_id'] == x].iloc[0]\n",
        "\n",
        "    errors += _check(x, r1, r2, 'org_1_name')\n",
        "    errors += _check(x, r1, r2, 'org_2_name')\n",
        "    errors += _check(x, r1, r2, 'value')\n",
        "    errors += _check(x, r1, r2, 'subject')\n",
        "\n",
        "  print('=' * 100)\n",
        "  print('^' * 100)\n",
        "  print(f\"ERRRORS: \\t{errors} of {len(actual)} docs\")\n",
        "\n",
        "  with open(os.path.join(_out, 'errors.txt'), 'w') as the_file:\n",
        "    for m in msgs:\n",
        "      the_file.write(m + '\\n')\n",
        "\n",
        "    the_file.write('^' * 100)\n",
        "    the_file.write(f\"\\nERRRORS: \\t{errors} of {len(actual)} docs\")\n",
        "    print(f'errors saved to {the_file}')\n",
        "  return msgs\n",
        "\n",
        "\n",
        "def __attr_val(d, a):\n",
        "  if a in d:\n",
        "    return d[a]['value']\n",
        "\n",
        "\n",
        "def to_csv(filenames_to_jsons):\n",
        "  df = pd.DataFrame(columns=('_id', 'value', 'org_1_name', 'org_2_name', 'subject'))\n",
        "\n",
        "  i = 0\n",
        "  for fn in filenames_to_jsons.keys():\n",
        "    for json_fn in filenames_to_jsons[fn]:\n",
        "      # print(json_fn)\n",
        "      with open(json_fn, 'r') as json_file:\n",
        "        data_str = json_file.read()\n",
        "        json_obj: DocumentJson = DocumentJson.from_json(data_str)\n",
        "        # _id =os.path.relpath( json_obj._id, contracts_filename_prefix )\n",
        "        _id = json_obj._id\n",
        "        df.loc[i] = [_id,\n",
        "                     __attr_val(json_obj.attributes, 'sign-value-currency_value'),\n",
        "                     __attr_val(json_obj.attributes, 'org-1-name'),\n",
        "                     __attr_val(json_obj.attributes, 'org-2-name'),\n",
        "                     __attr_val(json_obj.attributes, 'subject')]\n",
        "        i += 1\n",
        "\n",
        "  df.to_csv(os.path.join(_out, 'contracts.validation.csv'), encoding='utf-8', index=False)\n",
        "  return df\n",
        "\n",
        "# validate_contracts()\n"
      ],
      "execution_count": 0,
      "outputs": []
    },
    {
      "cell_type": "code",
      "metadata": {
        "id": "DIlMlf6BBG2s",
        "colab_type": "code",
        "colab": {}
      },
      "source": [
        "import os\n",
        "\n",
        "from integration.word_document_parser import join_paragraphs, WordDocParser\n",
        "from legal_docs import DocumentJson\n",
        "\n",
        "\n",
        "filenames_to_jsons = {}\n",
        "\n",
        "def for_each_document(filenames, accept, procedure, _out, save_json=True):\n",
        "  _common_path = os.path.commonpath (filenames)\n",
        "  \n",
        "  wp = WordDocParser()\n",
        "  cnt = 0\n",
        "  for fn in filenames:\n",
        "    filenames_to_jsons[fn] = []\n",
        "    cnt += 1\n",
        "    _relative = os.path.relpath(fn, _common_path )\n",
        "    short_fn = os.path.split (_relative)[-1]\n",
        "    subdir = os.path.dirname(_relative)\n",
        "    \n",
        "    # try:\n",
        "    # ------------------------\n",
        "    print('\\n\\n' )\n",
        "    print('=' * 100)\n",
        "    print(f'reading:\"{fn}\"')      \n",
        "    results = wp.read_doc(fn)\n",
        "    print(\"documents in file:\", len(results['documents']))\n",
        "    k = 0\n",
        "    for doc in results['documents']:  # XXX\n",
        "      k += 1\n",
        "      contract_id = _relative\n",
        "      if accept(doc):\n",
        "        \n",
        "        legal_doc = join_paragraphs(doc, contract_id)\n",
        "        # ------------------------\n",
        "        legal_doc = procedure(legal_doc)\n",
        "        assert legal_doc is not None\n",
        "\n",
        "        if save_json:\n",
        "          _dirr  = os.path.join(_out, subdir)\n",
        "          print('_dirr',_dirr)\n",
        "          _path = os.path.join(_dirr, f'{short_fn}--{k}.json')\n",
        "          print('_path',_path)\n",
        "          if not os.path.exists(_dirr):\n",
        "            os.makedirs(_dirr)\n",
        "\n",
        "          with open(_path, 'w') as file:\n",
        "            #\n",
        "            jjj = DocumentJson(legal_doc)\n",
        "            file.write(jjj.dumps())\n",
        "            filenames_to_jsons[fn].append(_path)\n",
        "            print(f'--> 📂saved file to {_path}')\n",
        "            print('^' * 100)\n",
        "\n",
        "    # except Exception as e:\n",
        "    #   print(e)\n",
        "   "
      ],
      "execution_count": 0,
      "outputs": []
    },
    {
      "cell_type": "markdown",
      "metadata": {
        "id": "lSaRWJP_-Azt",
        "colab_type": "text"
      },
      "source": [
        "### 🙏 Contracts: to JSON"
      ]
    },
    {
      "cell_type": "code",
      "metadata": {
        "id": "MUO6YXVOCihU",
        "colab_type": "code",
        "colab": {}
      },
      "source": [
        "def process_contract(contract:LegalDocument) -> LegalDocument:  \n",
        "  contractAnlysingContext.analyze_contract_doc(contract)  \n",
        "  print_headers(contract)\n",
        "\n",
        "  to_csv(filenames_to_jsons)  # TODO: do not read all here\n",
        "  validate_contracts()\n",
        " \n",
        "  return contract"
      ],
      "execution_count": 0,
      "outputs": []
    },
    {
      "cell_type": "markdown",
      "metadata": {
        "id": "dkHfn-lCE2V2",
        "colab_type": "text"
      },
      "source": [
        "# 🧠 Contracts\n",
        "Reading only short list of docs listed in the validation CSV"
      ]
    },
    {
      "cell_type": "code",
      "metadata": {
        "id": "tX2kddnPPtI5",
        "colab_type": "code",
        "colab": {}
      },
      "source": [
        "contract_filenames = [os.path.join(contracts_filename_prefix, fn) for fn in expected['_id']]"
      ],
      "execution_count": 0,
      "outputs": []
    },
    {
      "cell_type": "code",
      "metadata": {
        "id": "7n56iHHhE6FX",
        "colab_type": "code",
        "colab": {}
      },
      "source": [
        "# raise 'stop if not sure'"
      ],
      "execution_count": 0,
      "outputs": []
    },
    {
      "cell_type": "code",
      "metadata": {
        "id": "kUASEb5sMxJh",
        "colab_type": "code",
        "colab": {}
      },
      "source": [
        "if do_parse_contracts:\n",
        "  for_each_document(contract_filenames, accept=lambda doc: 'CONTRACT' == doc['documentType'], procedure=process_contract,\n",
        "                    _out=_out )\n"
      ],
      "execution_count": 0,
      "outputs": []
    },
    {
      "cell_type": "code",
      "metadata": {
        "id": "ZJQac-Z5FqMn",
        "colab_type": "code",
        "colab": {
          "base_uri": "https://localhost:8080/",
          "height": 47
        },
        "outputId": "e462800f-e7b1-4233-9039-a13e04874628"
      },
      "source": [
        "df = to_csv(filenames_to_jsons)\n",
        "from IPython.display import display, HTML\n",
        "\n",
        "display(HTML(df.to_html(index=False)))"
      ],
      "execution_count": 17,
      "outputs": [
        {
          "output_type": "display_data",
          "data": {
            "text/html": [
              "<table border=\"1\" class=\"dataframe\">\n",
              "  <thead>\n",
              "    <tr style=\"text-align: right;\">\n",
              "      <th>_id</th>\n",
              "      <th>value</th>\n",
              "      <th>org_1_name</th>\n",
              "      <th>org_2_name</th>\n",
              "      <th>subject</th>\n",
              "    </tr>\n",
              "  </thead>\n",
              "  <tbody>\n",
              "  </tbody>\n",
              "</table>"
            ],
            "text/plain": [
              "<IPython.core.display.HTML object>"
            ]
          },
          "metadata": {
            "tags": []
          }
        }
      ]
    },
    {
      "cell_type": "markdown",
      "metadata": {
        "id": "H-cATHm_btEt",
        "colab_type": "text"
      },
      "source": [
        "## 👌 Validation"
      ]
    },
    {
      "cell_type": "code",
      "metadata": {
        "id": "SdL0Wu-SCZ5k",
        "colab_type": "code",
        "colab": {}
      },
      "source": [
        "if do_parse_contracts:\n",
        "  validate_contracts()"
      ],
      "execution_count": 0,
      "outputs": []
    },
    {
      "cell_type": "markdown",
      "metadata": {
        "id": "8aZ4HQRstCLH",
        "colab_type": "text"
      },
      "source": [
        "### Verify random json files"
      ]
    },
    {
      "cell_type": "code",
      "metadata": {
        "id": "wIHEi_QqtGS-",
        "colab_type": "code",
        "colab": {
          "base_uri": "https://localhost:8080/",
          "height": 1000
        },
        "outputId": "5e5e772f-172c-476e-8bb3-4294c02a9e1e"
      },
      "source": [
        "# if do_parse_contracts:\n",
        "  # test_json_file = os.path.join(_out,filenames[3]).split('/')[-1]+'.json'\n",
        "  # test_json_file = '/content/gdrive/My Drive/GazpromOil/Всяческая документация (shared)/JSONs/contracts-19.10.17-4/1-! Договор _1.docx.json'\n",
        "  # test_json_file = os.path.join(_out, '1-ДД_6.docx.json')\n",
        "  # test_json_file = os.path.join(_out, '1-Договор 15.doc.json')\n",
        "\n",
        "load_and_show_json('/content/gdrive/My Drive/GazpromOil/Всяческая документация (shared)/JSONs/charters-19.11.19-1/7. Протокол заочного СД ГПН-РП БГ.docx--1.json')\n",
        " "
      ],
      "execution_count": 19,
      "outputs": [
        {
          "output_type": "display_data",
          "data": {
            "text/html": [
              "<span title=\"0 0.0000\" style=\"background-color:#88abfd\">ПРОТОКОЛ </span><span title=\"1 0.0000\" style=\"background-color:#88abfd\">заседания </span><span title=\"2 0.9889\" style=\"background-color:#f7aa8c\">Совета </span><span title=\"3 0.9889\" style=\"background-color:#f7aa8c\">директоров </span><span title=\"4 0.9800\" style=\"background-color:#f7ac8e\">Общество </span><span title=\"5 0.9800\" style=\"background-color:#f7ac8e\">с </span><span title=\"6 0.9800\" style=\"background-color:#f7ac8e\">ограниченной </span><span title=\"7 0.9800\" style=\"background-color:#f7ac8e\">ответственностью </span><span title=\"8 0.0000\" style=\"background-color:#88abfd\">« </span><span title=\"9 0.9550\" style=\"background-color:#f7b093\">Газпромнефть-Региональные </span><span title=\"10 0.9550\" style=\"background-color:#f7b093\">продажи </span><span title=\"11 0.0000\" style=\"background-color:#88abfd\">» </span><span title=\"12 0.0000\" style=\"background-color:#88abfd\">( </span><span title=\"13 0.0000\" style=\"background-color:#88abfd\">далее </span><span title=\"14 0.0000\" style=\"background-color:#88abfd\">– </span><span title=\"15 0.0000\" style=\"background-color:#88abfd\">ООО </span><span title=\"16 0.0000\" style=\"background-color:#88abfd\">« </span><span title=\"17 0.0000\" style=\"background-color:#88abfd\">Газпромнефть-Региональные </span><span title=\"18 0.0000\" style=\"background-color:#88abfd\">продажи </span><span title=\"19 0.0000\" style=\"background-color:#88abfd\">» </span><span title=\"20 0.0000\" style=\"background-color:#88abfd\">или </span><span title=\"21 0.0000\" style=\"background-color:#88abfd\">« </span><span title=\"22 0.0000\" style=\"background-color:#88abfd\">Общество </span><span title=\"23 0.0000\" style=\"background-color:#88abfd\">» </span><span title=\"24 0.0000\" style=\"background-color:#88abfd\">) </span><span title=\"25 0.0000\" style=\"background-color:#88abfd\">\n",
              " </span>¶<br><span title=\"26 0.0000\" style=\"background-color:#88abfd\">Место </span><span title=\"27 0.0000\" style=\"background-color:#88abfd\">проведения </span><span title=\"28 0.0000\" style=\"background-color:#88abfd\">заседания </span><span title=\"29 0.0000\" style=\"background-color:#88abfd\">: </span><span title=\"30 0.0000\" style=\"background-color:#88abfd\">\n",
              " </span>¶<br><span title=\"31 0.0000\" style=\"background-color:#88abfd\">г. </span><span title=\"32 0.0000\" style=\"background-color:#88abfd\">Санкт-Петербург </span><span title=\"33 0.0000\" style=\"background-color:#88abfd\">, </span><span title=\"34 0.0000\" style=\"background-color:#88abfd\">улица </span><span title=\"35 0.0000\" style=\"background-color:#88abfd\">Кирочная </span><span title=\"36 0.0000\" style=\"background-color:#88abfd\">, </span><span title=\"37 0.0000\" style=\"background-color:#88abfd\">дом </span><span title=\"38 0.0000\" style=\"background-color:#88abfd\">15 </span><span title=\"39 0.0000\" style=\"background-color:#88abfd\">\n",
              " </span>¶<br><span title=\"40 0.0000\" style=\"background-color:#88abfd\">Дата </span><span title=\"41 0.0000\" style=\"background-color:#88abfd\">и </span><span title=\"42 0.0000\" style=\"background-color:#88abfd\">время </span><span title=\"43 0.0000\" style=\"background-color:#88abfd\">проведения </span><span title=\"44 0.0000\" style=\"background-color:#88abfd\">заседания </span><span title=\"45 0.0000\" style=\"background-color:#88abfd\">: </span><span title=\"46 0.0000\" style=\"background-color:#88abfd\">\n",
              " </span>¶<br><span title=\"47 0.0000\" style=\"background-color:#88abfd\">« </span><span title=\"48 0.0000\" style=\"background-color:#88abfd\">21 </span><span title=\"49 0.0000\" style=\"background-color:#88abfd\">» </span><span title=\"50 0.0000\" style=\"background-color:#88abfd\">апреля </span><span title=\"51 0.0000\" style=\"background-color:#88abfd\">2018 </span><span title=\"52 0.0000\" style=\"background-color:#88abfd\">года </span><span title=\"53 0.0000\" style=\"background-color:#88abfd\">, </span><span title=\"54 0.0000\" style=\"background-color:#88abfd\">18 </span><span title=\"55 0.0000\" style=\"background-color:#88abfd\">часов </span><span title=\"56 0.0000\" style=\"background-color:#88abfd\">00 </span><span title=\"57 0.0000\" style=\"background-color:#88abfd\">минут </span><span title=\"58 0.0000\" style=\"background-color:#88abfd\">\n",
              " </span>¶<br><span title=\"59 0.0000\" style=\"background-color:#88abfd\">Форма </span><span title=\"60 0.0000\" style=\"background-color:#88abfd\">проведения </span><span title=\"61 0.0000\" style=\"background-color:#88abfd\">заседания </span><span title=\"62 0.0000\" style=\"background-color:#88abfd\">: </span><span title=\"63 0.0000\" style=\"background-color:#88abfd\">\n",
              " </span>¶<br><span title=\"64 0.0000\" style=\"background-color:#88abfd\">заочное </span><span title=\"65 0.0000\" style=\"background-color:#88abfd\">голосование </span><span title=\"66 0.0000\" style=\"background-color:#88abfd\">\n",
              " </span>¶<br><span title=\"67 0.0000\" style=\"background-color:#88abfd\">Место </span><span title=\"68 0.0000\" style=\"background-color:#88abfd\">подведения </span><span title=\"69 0.0000\" style=\"background-color:#88abfd\">итогов </span><span title=\"70 0.0000\" style=\"background-color:#88abfd\">голосования </span><span title=\"71 0.0000\" style=\"background-color:#88abfd\">: </span><span title=\"72 0.0000\" style=\"background-color:#88abfd\">\n",
              " </span>¶<br><span title=\"73 0.0000\" style=\"background-color:#88abfd\">г. </span><span title=\"74 0.0000\" style=\"background-color:#88abfd\">Санкт-Петербург </span><span title=\"75 0.0000\" style=\"background-color:#88abfd\">, </span><span title=\"76 0.0000\" style=\"background-color:#88abfd\">улица </span><span title=\"77 0.0000\" style=\"background-color:#88abfd\">Кирочная </span><span title=\"78 0.0000\" style=\"background-color:#88abfd\">, </span><span title=\"79 0.0000\" style=\"background-color:#88abfd\">дом </span><span title=\"80 0.0000\" style=\"background-color:#88abfd\">15 </span><span title=\"81 0.0000\" style=\"background-color:#88abfd\">\n",
              " </span>¶<br><span title=\"82 0.0000\" style=\"background-color:#88abfd\">Председатель </span><span title=\"83 0.0000\" style=\"background-color:#88abfd\">Совета </span><span title=\"84 0.0000\" style=\"background-color:#88abfd\">директоров </span><span title=\"85 0.0000\" style=\"background-color:#88abfd\">: </span><span title=\"86 0.0000\" style=\"background-color:#88abfd\">\n",
              " </span>¶<br><span title=\"87 0.0000\" style=\"background-color:#88abfd\">А. </span><span title=\"88 0.0000\" style=\"background-color:#88abfd\">В. </span><span title=\"89 0.0000\" style=\"background-color:#88abfd\">Иванов </span><span title=\"90 0.0000\" style=\"background-color:#88abfd\">\n",
              " </span>¶<br><span title=\"91 0.0000\" style=\"background-color:#88abfd\">Секретарь </span><span title=\"92 0.0000\" style=\"background-color:#88abfd\">Совета </span><span title=\"93 0.0000\" style=\"background-color:#88abfd\">директоров </span><span title=\"94 0.0000\" style=\"background-color:#88abfd\">: </span><span title=\"95 0.0000\" style=\"background-color:#88abfd\">\n",
              " </span>¶<br><span title=\"96 0.0000\" style=\"background-color:#88abfd\">Е. </span><span title=\"97 0.0000\" style=\"background-color:#88abfd\">С. </span><span title=\"98 0.0000\" style=\"background-color:#88abfd\">Любавина </span><span title=\"99 0.0000\" style=\"background-color:#88abfd\">\n",
              " </span>¶<br><span title=\"100 0.0000\" style=\"background-color:#88abfd\">\n",
              " </span>¶<br><span title=\"101 0.0000\" style=\"background-color:#88abfd\">Члены </span><span title=\"102 0.0000\" style=\"background-color:#88abfd\">Совета </span><span title=\"103 0.0000\" style=\"background-color:#88abfd\">директоров </span><span title=\"104 0.0000\" style=\"background-color:#88abfd\">, </span><span title=\"105 0.0000\" style=\"background-color:#88abfd\">принявшие </span><span title=\"106 0.0000\" style=\"background-color:#88abfd\">участие </span><span title=\"107 0.0000\" style=\"background-color:#88abfd\">в </span><span title=\"108 0.0000\" style=\"background-color:#88abfd\">заочном </span><span title=\"109 0.0000\" style=\"background-color:#88abfd\">голосовании </span><span title=\"110 0.0000\" style=\"background-color:#88abfd\">: </span><span title=\"111 0.0000\" style=\"background-color:#88abfd\">\n",
              " </span>¶<br><span title=\"112 0.0000\" style=\"background-color:#88abfd\">Иванов </span><span title=\"113 0.0000\" style=\"background-color:#88abfd\">А. </span><span title=\"114 0.0000\" style=\"background-color:#88abfd\">В. </span><span title=\"115 0.0000\" style=\"background-color:#88abfd\">, </span><span title=\"116 0.0000\" style=\"background-color:#88abfd\">Семенов </span><span title=\"117 0.0000\" style=\"background-color:#88abfd\">Д. </span><span title=\"118 0.0000\" style=\"background-color:#88abfd\">О. </span><span title=\"119 0.0000\" style=\"background-color:#88abfd\">, </span><span title=\"120 0.0000\" style=\"background-color:#88abfd\">Козлов </span><span title=\"121 0.0000\" style=\"background-color:#88abfd\">А. </span><span title=\"122 0.0000\" style=\"background-color:#88abfd\">В. </span><span title=\"123 0.0000\" style=\"background-color:#88abfd\">, </span><span title=\"124 0.0000\" style=\"background-color:#88abfd\">Петренко </span><span title=\"125 0.0000\" style=\"background-color:#88abfd\">А. </span><span title=\"126 0.0000\" style=\"background-color:#88abfd\">В. </span><span title=\"127 0.0000\" style=\"background-color:#88abfd\">, </span><span title=\"128 0.0000\" style=\"background-color:#88abfd\">Самойлов </span><span title=\"129 0.0000\" style=\"background-color:#88abfd\">В. </span><span title=\"130 0.0000\" style=\"background-color:#88abfd\">С. </span><span title=\"131 0.0000\" style=\"background-color:#88abfd\">, </span><span title=\"132 0.0000\" style=\"background-color:#88abfd\">Кряклин </span><span title=\"133 0.0000\" style=\"background-color:#88abfd\">Ф. </span><span title=\"134 0.0000\" style=\"background-color:#88abfd\">А. </span><span title=\"135 0.0000\" style=\"background-color:#88abfd\">, </span><span title=\"136 0.0000\" style=\"background-color:#88abfd\">Любавина </span><span title=\"137 0.0000\" style=\"background-color:#88abfd\">Е. </span><span title=\"138 0.0000\" style=\"background-color:#88abfd\">С. </span><span title=\"139 0.0000\" style=\"background-color:#88abfd\">, </span><span title=\"140 0.0000\" style=\"background-color:#88abfd\">Лебедева </span><span title=\"141 0.0000\" style=\"background-color:#88abfd\">М. </span><span title=\"142 0.0000\" style=\"background-color:#88abfd\">А. </span><span title=\"143 0.0000\" style=\"background-color:#88abfd\">, </span><span title=\"144 0.0000\" style=\"background-color:#88abfd\">Шепелев </span><span title=\"145 0.0000\" style=\"background-color:#88abfd\">В. </span><span title=\"146 0.0000\" style=\"background-color:#88abfd\">М. </span><span title=\"147 0.0000\" style=\"background-color:#88abfd\">\n",
              " </span>¶<br><span title=\"148 0.0000\" style=\"background-color:#88abfd\">В </span><span title=\"149 0.0000\" style=\"background-color:#88abfd\">соответствии </span><span title=\"150 0.0000\" style=\"background-color:#88abfd\">с </span><span title=\"151 0.0000\" style=\"background-color:#88abfd\">Уставом </span><span title=\"152 0.0000\" style=\"background-color:#88abfd\">Общества </span><span title=\"153 0.0000\" style=\"background-color:#88abfd\">в </span><span title=\"154 0.0000\" style=\"background-color:#88abfd\">Совет </span><span title=\"155 0.0000\" style=\"background-color:#88abfd\">директоров </span><span title=\"156 0.0000\" style=\"background-color:#88abfd\">избрано </span><span title=\"157 0.0000\" style=\"background-color:#88abfd\">9 </span><span title=\"158 0.0000\" style=\"background-color:#88abfd\">человек </span><span title=\"159 0.0000\" style=\"background-color:#88abfd\">. </span><span title=\"160 0.0000\" style=\"background-color:#88abfd\">\n",
              " </span>¶<br><span title=\"161 0.0000\" style=\"background-color:#88abfd\">Приняли </span><span title=\"162 0.0000\" style=\"background-color:#88abfd\">участие </span><span title=\"163 0.0000\" style=\"background-color:#88abfd\">в </span><span title=\"164 0.0000\" style=\"background-color:#88abfd\">голосовании </span><span title=\"165 0.0000\" style=\"background-color:#88abfd\">– </span><span title=\"166 0.0000\" style=\"background-color:#88abfd\">9 </span><span title=\"167 0.0000\" style=\"background-color:#88abfd\">человек </span><span title=\"168 0.0000\" style=\"background-color:#88abfd\">. </span><span title=\"169 0.0000\" style=\"background-color:#88abfd\">\n",
              " </span>¶<br><span title=\"170 0.0000\" style=\"background-color:#88abfd\">Все </span><span title=\"171 0.0000\" style=\"background-color:#88abfd\">предоставленные </span><span title=\"172 0.0000\" style=\"background-color:#88abfd\">бюллетени </span><span title=\"173 0.0000\" style=\"background-color:#88abfd\">являются </span><span title=\"174 0.0000\" style=\"background-color:#88abfd\">действительными </span><span title=\"175 0.0000\" style=\"background-color:#88abfd\">. </span><span title=\"176 0.0000\" style=\"background-color:#88abfd\">\n",
              " </span>¶<br><span title=\"177 0.0000\" style=\"background-color:#88abfd\">Кворум </span><span title=\"178 0.0000\" style=\"background-color:#88abfd\">для </span><span title=\"179 0.0000\" style=\"background-color:#88abfd\">проведения </span><span title=\"180 0.0000\" style=\"background-color:#88abfd\">заседания </span><span title=\"181 0.0000\" style=\"background-color:#88abfd\">и </span><span title=\"182 0.0000\" style=\"background-color:#88abfd\">принятия </span><span title=\"183 0.0000\" style=\"background-color:#88abfd\">решений </span><span title=\"184 0.0000\" style=\"background-color:#88abfd\">имеется </span><span title=\"185 0.0000\" style=\"background-color:#88abfd\">. </span><span title=\"186 0.0000\" style=\"background-color:#88abfd\">\n",
              " </span>¶<br><span title=\"187 0.0000\" style=\"background-color:#88abfd\">\n",
              " </span>¶<br><span title=\"188 0.0000\" style=\"background-color:#88abfd\">Повестка </span><span title=\"189 0.0000\" style=\"background-color:#88abfd\">дня </span><span title=\"190 0.0000\" style=\"background-color:#88abfd\">: </span><span title=\"191 0.0000\" style=\"background-color:#88abfd\">\n",
              " </span>¶<br><span title=\"192 0.0000\" style=\"background-color:#88abfd\">О </span><span title=\"193 0.0000\" style=\"background-color:#88abfd\">совершении </span><span title=\"194 0.0000\" style=\"background-color:#88abfd\">сделки </span><span title=\"195 0.0000\" style=\"background-color:#88abfd\">– </span><span title=\"196 0.0000\" style=\"background-color:#88abfd\">заключении </span><span title=\"197 0.0000\" style=\"background-color:#88abfd\">Соглашения </span><span title=\"198 0.0000\" style=\"background-color:#88abfd\">о </span><span title=\"199 0.0000\" style=\"background-color:#88abfd\">выдаче </span><span title=\"200 0.0000\" style=\"background-color:#88abfd\">банковских </span><span title=\"201 0.0000\" style=\"background-color:#88abfd\">гарантий </span><span title=\"202 0.0000\" style=\"background-color:#88abfd\">№___ </span><span title=\"203 0.0000\" style=\"background-color:#88abfd\">от </span><span title=\"204 0.0000\" style=\"background-color:#88abfd\">__ </span><span title=\"205 0.0000\" style=\"background-color:#88abfd\">апреля </span><span title=\"206 0.0000\" style=\"background-color:#88abfd\">2018 </span><span title=\"207 0.0000\" style=\"background-color:#88abfd\">года </span><span title=\"208 0.0000\" style=\"background-color:#88abfd\">. </span><span title=\"209 0.0000\" style=\"background-color:#88abfd\">\n",
              " </span>¶<br><span title=\"210 0.0000\" style=\"background-color:#88abfd\">\n",
              " </span>¶<br><span title=\"211 0.0000\" style=\"background-color:#88abfd\">Вопрос </span><span title=\"212 0.0000\" style=\"background-color:#88abfd\">повестки </span><span title=\"213 0.0000\" style=\"background-color:#88abfd\">дня </span><span title=\"214 0.0000\" style=\"background-color:#88abfd\">заседания </span><span title=\"215 0.0000\" style=\"background-color:#88abfd\">, </span><span title=\"216 0.0000\" style=\"background-color:#88abfd\">поставленный </span><span title=\"217 0.0000\" style=\"background-color:#88abfd\">на </span><span title=\"218 0.0000\" style=\"background-color:#88abfd\">голосование </span><span title=\"219 0.0000\" style=\"background-color:#88abfd\">: </span><span title=\"220 0.0000\" style=\"background-color:#88abfd\">\n",
              " </span>¶<br><span title=\"221 0.0000\" style=\"background-color:#88abfd\">О </span><span title=\"222 0.0000\" style=\"background-color:#88abfd\">совершении </span><span title=\"223 0.0000\" style=\"background-color:#88abfd\">сделки </span><span title=\"224 0.0000\" style=\"background-color:#88abfd\">– </span><span title=\"225 0.0000\" style=\"background-color:#88abfd\">заключении </span><span title=\"226 0.0000\" style=\"background-color:#88abfd\">Соглашения </span><span title=\"227 0.0000\" style=\"background-color:#88abfd\">о </span><span title=\"228 0.0000\" style=\"background-color:#88abfd\">выдаче </span><span title=\"229 0.0000\" style=\"background-color:#88abfd\">банковских </span><span title=\"230 0.0000\" style=\"background-color:#88abfd\">гарантий </span><span title=\"231 0.0000\" style=\"background-color:#88abfd\">№___ </span><span title=\"232 0.0000\" style=\"background-color:#88abfd\">от </span><span title=\"233 0.0000\" style=\"background-color:#88abfd\">__ </span><span title=\"234 0.0000\" style=\"background-color:#88abfd\">апреля </span><span title=\"235 0.0000\" style=\"background-color:#88abfd\">2018 </span><span title=\"236 0.0000\" style=\"background-color:#88abfd\">года </span><span title=\"237 0.0000\" style=\"background-color:#88abfd\">. </span><span title=\"238 0.0000\" style=\"background-color:#88abfd\">\n",
              " </span>¶<br><span title=\"239 0.0000\" style=\"background-color:#88abfd\">\n",
              " </span>¶<br><span title=\"240 0.0000\" style=\"background-color:#88abfd\">Формулировка </span><span title=\"241 0.0000\" style=\"background-color:#88abfd\">решения </span><span title=\"242 0.0000\" style=\"background-color:#88abfd\">по </span><span title=\"243 0.0000\" style=\"background-color:#88abfd\">вопросу </span><span title=\"244 0.0000\" style=\"background-color:#88abfd\">повестки </span><span title=\"245 0.0000\" style=\"background-color:#88abfd\">дня </span><span title=\"246 0.0000\" style=\"background-color:#88abfd\">заседания </span><span title=\"247 0.0000\" style=\"background-color:#88abfd\">: </span><span title=\"248 0.0000\" style=\"background-color:#88abfd\">\n",
              " </span>¶<br><span title=\"249 1.0000\" style=\"background-color:#f7a98b\">Принять </span><span title=\"250 1.0000\" style=\"background-color:#f7a98b\">решение </span><span title=\"251 1.0000\" style=\"background-color:#f7a98b\">о </span><span title=\"252 1.0000\" style=\"background-color:#f7a98b\">совершении </span><span title=\"253 1.0000\" style=\"background-color:#f7a98b\">сделки </span><span title=\"254 1.0000\" style=\"background-color:#f7a98b\">– </span><span title=\"255 1.0000\" style=\"background-color:#f7a98b\">заключении </span><span title=\"256 1.0000\" style=\"background-color:#f7a98b\">Соглашения </span><span title=\"257 1.0000\" style=\"background-color:#f7a98b\">о </span><span title=\"258 1.0000\" style=\"background-color:#f7a98b\">выдаче </span><span title=\"259 1.0000\" style=\"background-color:#f7a98b\">банковских </span><span title=\"260 1.0000\" style=\"background-color:#f7a98b\">гарантий </span><span title=\"261 1.0000\" style=\"background-color:#f7a98b\">№___ </span><span title=\"262 1.0000\" style=\"background-color:#f7a98b\">от </span><span title=\"263 1.0000\" style=\"background-color:#f7a98b\">__ </span><span title=\"264 1.0000\" style=\"background-color:#f7a98b\">апреля </span><span title=\"265 1.0000\" style=\"background-color:#f7a98b\">2017 </span><span title=\"266 1.0000\" style=\"background-color:#f7a98b\">года </span><span title=\"267 1.0000\" style=\"background-color:#f7a98b\">. </span><span title=\"268 1.0000\" style=\"background-color:#f7a98b\">( </span><span title=\"269 1.0000\" style=\"background-color:#f7a98b\">далее </span><span title=\"270 1.0000\" style=\"background-color:#f7a98b\">также </span><span title=\"271 1.0000\" style=\"background-color:#f7a98b\">– </span><span title=\"272 1.0000\" style=\"background-color:#f7a98b\">« </span><span title=\"273 1.0000\" style=\"background-color:#f7a98b\">Соглашение </span><span title=\"274 1.0000\" style=\"background-color:#f7a98b\">» </span><span title=\"275 1.0000\" style=\"background-color:#f7a98b\">) </span><span title=\"276 1.0000\" style=\"background-color:#f7a98b\">в </span><span title=\"277 1.0000\" style=\"background-color:#f7a98b\">соответствии </span><span title=\"278 1.0000\" style=\"background-color:#f7a98b\">с </span><span title=\"279 1.0000\" style=\"background-color:#f7a98b\">требованиями </span><span title=\"280 1.0000\" style=\"background-color:#f7a98b\">пп </span><span title=\"281 1.0000\" style=\"background-color:#f7a98b\">. </span><span title=\"282 1.0000\" style=\"background-color:#f7a98b\">12 </span><span title=\"283 1.0000\" style=\"background-color:#f7a98b\">пункт </span><span title=\"284 1.0000\" style=\"background-color:#f7a98b\">11.3. </span><span title=\"285 1.0000\" style=\"background-color:#f7a98b\">статьи </span><span title=\"286 1.0000\" style=\"background-color:#f7a98b\">11 </span><span title=\"287 1.0000\" style=\"background-color:#f7a98b\">Устава </span><span title=\"288 1.0000\" style=\"background-color:#f7a98b\">ООО </span><span title=\"289 1.0000\" style=\"background-color:#f7a98b\">« </span><span title=\"290 1.0000\" style=\"background-color:#f7a98b\">Газпромнефть-Региональные </span><span title=\"291 1.0000\" style=\"background-color:#f7a98b\">продажи </span><span title=\"292 1.0000\" style=\"background-color:#f7a98b\">» </span><span title=\"293 1.0000\" style=\"background-color:#f7a98b\">на </span><span title=\"294 1.0000\" style=\"background-color:#f7a98b\">следующих </span><span title=\"295 1.0000\" style=\"background-color:#f7a98b\">основных </span><span title=\"296 1.0000\" style=\"background-color:#f7a98b\">условиях </span><span title=\"297 1.0000\" style=\"background-color:#f7a98b\">: </span><span title=\"298 1.0000\" style=\"background-color:#f7a98b\">\n",
              " </span>¶<br><span title=\"299 1.0000\" style=\"background-color:#f7a98b\">1 </span><span title=\"300 1.0000\" style=\"background-color:#f7a98b\">. </span><span title=\"301 1.0000\" style=\"background-color:#f7a98b\">Стороны </span><span title=\"302 1.0000\" style=\"background-color:#f7a98b\">Соглашения </span><span title=\"303 1.0000\" style=\"background-color:#f7a98b\">: </span><span title=\"304 1.0000\" style=\"background-color:#f7a98b\">\n",
              " </span>¶<br><span title=\"305 1.0000\" style=\"background-color:#f7a98b\">Гарант </span><span title=\"306 1.0000\" style=\"background-color:#f7a98b\">– </span><span title=\"307 1.0000\" style=\"background-color:#f7a98b\">« </span><span title=\"308 1.0000\" style=\"background-color:#f7a98b\">БАНК </span><span title=\"309 1.0000\" style=\"background-color:#f7a98b\">» </span><span title=\"310 1.0000\" style=\"background-color:#f7a98b\">( </span><span title=\"311 1.0000\" style=\"background-color:#f7a98b\">публичное </span><span title=\"312 1.0000\" style=\"background-color:#f7a98b\">акционерное </span><span title=\"313 1.0000\" style=\"background-color:#f7a98b\">общество </span><span title=\"314 1.0000\" style=\"background-color:#f7a98b\">) </span><span title=\"315 1.0000\" style=\"background-color:#f7a98b\">, </span><span title=\"316 1.0000\" style=\"background-color:#f7a98b\">\n",
              " </span>¶<br><span title=\"317 1.0000\" style=\"background-color:#f7a98b\">Принципал </span><span title=\"318 1.0000\" style=\"background-color:#f7a98b\">– </span><span title=\"319 1.0000\" style=\"background-color:#f7a98b\">ООО </span><span title=\"320 1.0000\" style=\"background-color:#f7a98b\">« </span><span title=\"321 1.0000\" style=\"background-color:#f7a98b\">Газпромнефть-Региональные </span><span title=\"322 1.0000\" style=\"background-color:#f7a98b\">продажи </span><span title=\"323 1.0000\" style=\"background-color:#f7a98b\">» </span><span title=\"324 1.0000\" style=\"background-color:#f7a98b\">, </span><span title=\"325 1.0000\" style=\"background-color:#f7a98b\">\n",
              " </span>¶<br><span title=\"326 1.0000\" style=\"background-color:#f7a98b\">2 </span><span title=\"327 1.0000\" style=\"background-color:#f7a98b\">. </span><span title=\"328 1.0000\" style=\"background-color:#f7a98b\">Бенефициар </span><span title=\"329 1.0000\" style=\"background-color:#f7a98b\">: </span><span title=\"330 1.0000\" style=\"background-color:#f7a98b\">\n",
              " </span>¶<br><span title=\"331 1.0000\" style=\"background-color:#f7a98b\">Лицо </span><span title=\"332 1.0000\" style=\"background-color:#f7a98b\">, </span><span title=\"333 1.0000\" style=\"background-color:#f7a98b\">в </span><span title=\"334 1.0000\" style=\"background-color:#f7a98b\">пользу </span><span title=\"335 1.0000\" style=\"background-color:#f7a98b\">которого </span><span title=\"336 1.0000\" style=\"background-color:#f7a98b\">Гарант </span><span title=\"337 1.0000\" style=\"background-color:#f7a98b\">по </span><span title=\"338 1.0000\" style=\"background-color:#f7a98b\">просьбе </span><span title=\"339 1.0000\" style=\"background-color:#f7a98b\">Принципала </span><span title=\"340 1.0000\" style=\"background-color:#f7a98b\">в </span><span title=\"341 1.0000\" style=\"background-color:#f7a98b\">рамках </span><span title=\"342 1.0000\" style=\"background-color:#f7a98b\">Соглашения </span><span title=\"343 1.0000\" style=\"background-color:#f7a98b\">выдает </span><span title=\"344 1.0000\" style=\"background-color:#f7a98b\">Гарантии </span><span title=\"345 1.0000\" style=\"background-color:#f7a98b\">, </span><span title=\"346 1.0000\" style=\"background-color:#f7a98b\">а </span><span title=\"347 1.0000\" style=\"background-color:#f7a98b\">также </span><span title=\"348 1.0000\" style=\"background-color:#f7a98b\">любое </span><span title=\"349 1.0000\" style=\"background-color:#f7a98b\">лицо </span><span title=\"350 1.0000\" style=\"background-color:#f7a98b\">, </span><span title=\"351 1.0000\" style=\"background-color:#f7a98b\">которому </span><span title=\"352 1.0000\" style=\"background-color:#f7a98b\">уступлено </span><span title=\"353 1.0000\" style=\"background-color:#f7a98b\">право </span><span title=\"354 1.0000\" style=\"background-color:#f7a98b\">требования </span><span title=\"355 1.0000\" style=\"background-color:#f7a98b\">к </span><span title=\"356 1.0000\" style=\"background-color:#f7a98b\">Гаранту </span><span title=\"357 1.0000\" style=\"background-color:#f7a98b\">по </span><span title=\"358 1.0000\" style=\"background-color:#f7a98b\">выданным </span><span title=\"359 1.0000\" style=\"background-color:#f7a98b\">в </span><span title=\"360 1.0000\" style=\"background-color:#f7a98b\">рамках </span><span title=\"361 1.0000\" style=\"background-color:#f7a98b\">настоящего </span><span title=\"362 1.0000\" style=\"background-color:#f7a98b\">Соглашения </span><span title=\"363 1.0000\" style=\"background-color:#f7a98b\">Гарантиям </span><span title=\"364 1.0000\" style=\"background-color:#f7a98b\">( </span><span title=\"365 1.0000\" style=\"background-color:#f7a98b\">если </span><span title=\"366 1.0000\" style=\"background-color:#f7a98b\">условиями </span><span title=\"367 1.0000\" style=\"background-color:#f7a98b\">Гарантии </span><span title=\"368 1.0000\" style=\"background-color:#f7a98b\">допускается </span><span title=\"369 1.0000\" style=\"background-color:#f7a98b\">уступка </span><span title=\"370 1.0000\" style=\"background-color:#f7a98b\">права </span><span title=\"371 1.0000\" style=\"background-color:#f7a98b\">требования </span><span title=\"372 1.0000\" style=\"background-color:#f7a98b\">к </span><span title=\"373 1.0000\" style=\"background-color:#f7a98b\">Гаранту </span><span title=\"374 1.0000\" style=\"background-color:#f7a98b\">) </span><span title=\"375 1.0000\" style=\"background-color:#f7a98b\">или </span><span title=\"376 1.0000\" style=\"background-color:#f7a98b\">лицо </span><span title=\"377 1.0000\" style=\"background-color:#f7a98b\">, </span><span title=\"378 1.0000\" style=\"background-color:#f7a98b\">к </span><span title=\"379 1.0000\" style=\"background-color:#f7a98b\">которому </span><span title=\"380 1.0000\" style=\"background-color:#f7a98b\">в </span><span title=\"381 1.0000\" style=\"background-color:#f7a98b\">порядке </span><span title=\"382 1.0000\" style=\"background-color:#f7a98b\">универсального </span><span title=\"383 1.0000\" style=\"background-color:#f7a98b\">правопреемства </span><span title=\"384 1.0000\" style=\"background-color:#f7a98b\">перешло </span><span title=\"385 1.0000\" style=\"background-color:#f7a98b\">право </span><span title=\"386 1.0000\" style=\"background-color:#f7a98b\">требования </span><span title=\"387 1.0000\" style=\"background-color:#f7a98b\">к </span><span title=\"388 1.0000\" style=\"background-color:#f7a98b\">Гаранту </span><span title=\"389 1.0000\" style=\"background-color:#f7a98b\">по </span><span title=\"390 1.0000\" style=\"background-color:#f7a98b\">выданным </span><span title=\"391 1.0000\" style=\"background-color:#f7a98b\">в </span><span title=\"392 1.0000\" style=\"background-color:#f7a98b\">рамках </span><span title=\"393 1.0000\" style=\"background-color:#f7a98b\">настоящего </span><span title=\"394 1.0000\" style=\"background-color:#f7a98b\">Соглашения </span><span title=\"395 1.0000\" style=\"background-color:#f7a98b\">Гарантиям </span><span title=\"396 1.0000\" style=\"background-color:#f7a98b\">. </span><span title=\"397 1.0000\" style=\"background-color:#f7a98b\">\n",
              " </span>¶<br><span title=\"398 1.0000\" style=\"background-color:#f7a98b\">3 </span><span title=\"399 1.0000\" style=\"background-color:#f7a98b\">. </span><span title=\"400 1.0000\" style=\"background-color:#f7a98b\">Цель </span><span title=\"401 1.0000\" style=\"background-color:#f7a98b\">заключения </span><span title=\"402 1.0000\" style=\"background-color:#f7a98b\">Соглашения </span><span title=\"403 1.0000\" style=\"background-color:#f7a98b\">: </span><span title=\"404 1.0000\" style=\"background-color:#f7a98b\">обеспечение </span><span title=\"405 1.0000\" style=\"background-color:#f7a98b\">исполнения </span><span title=\"406 1.0000\" style=\"background-color:#f7a98b\">обязательств </span><span title=\"407 1.0000\" style=\"background-color:#f7a98b\">Принципала </span><span title=\"408 1.0000\" style=\"background-color:#f7a98b\">по </span><span title=\"409 1.0000\" style=\"background-color:#f7a98b\">следующим </span><span title=\"410 1.0000\" style=\"background-color:#f7a98b\">обязательствам </span><span title=\"411 1.0000\" style=\"background-color:#f7a98b\">: </span><span title=\"412 1.0000\" style=\"background-color:#f7a98b\">\n",
              " </span>¶<br><span title=\"413 1.0000\" style=\"background-color:#f7a98b\">3.1. </span><span title=\"414 1.0000\" style=\"background-color:#f7a98b\">обеспечение </span><span title=\"415 1.0000\" style=\"background-color:#f7a98b\">заявки </span><span title=\"416 1.0000\" style=\"background-color:#f7a98b\">на </span><span title=\"417 1.0000\" style=\"background-color:#f7a98b\">участие </span><span title=\"418 1.0000\" style=\"background-color:#f7a98b\">в </span><span title=\"419 1.0000\" style=\"background-color:#f7a98b\">конкурсе </span><span title=\"420 1.0000\" style=\"background-color:#f7a98b\">/ </span><span title=\"421 1.0000\" style=\"background-color:#f7a98b\">аукционе </span><span title=\"422 1.0000\" style=\"background-color:#f7a98b\">; </span><span title=\"423 1.0000\" style=\"background-color:#f7a98b\">\n",
              " </span>¶<br><span title=\"424 1.0000\" style=\"background-color:#f7a98b\">3.2. </span><span title=\"425 1.0000\" style=\"background-color:#f7a98b\">обеспечительная </span><span title=\"426 1.0000\" style=\"background-color:#f7a98b\">мера </span><span title=\"427 1.0000\" style=\"background-color:#f7a98b\">по </span><span title=\"428 1.0000\" style=\"background-color:#f7a98b\">исполнению </span><span title=\"429 1.0000\" style=\"background-color:#f7a98b\">решений </span><span title=\"430 1.0000\" style=\"background-color:#f7a98b\">( </span><span title=\"431 1.0000\" style=\"background-color:#f7a98b\">определений </span><span title=\"432 1.0000\" style=\"background-color:#f7a98b\">) </span><span title=\"433 1.0000\" style=\"background-color:#f7a98b\">судов </span><span title=\"434 1.0000\" style=\"background-color:#f7a98b\">, </span><span title=\"435 1.0000\" style=\"background-color:#f7a98b\">исков </span><span title=\"436 1.0000\" style=\"background-color:#f7a98b\">в </span><span title=\"437 1.0000\" style=\"background-color:#f7a98b\">соответствии </span><span title=\"438 1.0000\" style=\"background-color:#f7a98b\">с </span><span title=\"439 1.0000\" style=\"background-color:#f7a98b\">процессуальным </span><span title=\"440 1.0000\" style=\"background-color:#f7a98b\">законодательством </span><span title=\"441 1.0000\" style=\"background-color:#f7a98b\">РФ </span><span title=\"442 1.0000\" style=\"background-color:#f7a98b\">; </span><span title=\"443 1.0000\" style=\"background-color:#f7a98b\">\n",
              " </span>¶<br><span title=\"444 1.0000\" style=\"background-color:#f7a98b\">3.3. </span><span title=\"445 1.0000\" style=\"background-color:#f7a98b\">обязательств </span><span title=\"446 1.0000\" style=\"background-color:#f7a98b\">Принципала </span><span title=\"447 1.0000\" style=\"background-color:#f7a98b\">из </span><span title=\"448 1.0000\" style=\"background-color:#f7a98b\">Контрактов </span><span title=\"449 1.0000\" style=\"background-color:#f7a98b\">: </span><span title=\"450 1.0000\" style=\"background-color:#f7a98b\">\n",
              " </span>¶<br><span title=\"451 1.0000\" style=\"background-color:#f7a98b\">3.3.1. </span><span title=\"452 1.0000\" style=\"background-color:#f7a98b\">обязательств </span><span title=\"453 1.0000\" style=\"background-color:#f7a98b\">надлежащего </span><span title=\"454 1.0000\" style=\"background-color:#f7a98b\">исполнения </span><span title=\"455 1.0000\" style=\"background-color:#f7a98b\">контракта </span><span title=\"456 1.0000\" style=\"background-color:#f7a98b\">и </span><span title=\"457 1.0000\" style=\"background-color:#f7a98b\">государственного </span><span title=\"458 1.0000\" style=\"background-color:#f7a98b\">контракта </span><span title=\"459 1.0000\" style=\"background-color:#f7a98b\">( </span><span title=\"460 1.0000\" style=\"background-color:#f7a98b\">в </span><span title=\"461 1.0000\" style=\"background-color:#f7a98b\">том </span><span title=\"462 1.0000\" style=\"background-color:#f7a98b\">числе </span><span title=\"463 1.0000\" style=\"background-color:#f7a98b\">в </span><span title=\"464 1.0000\" style=\"background-color:#f7a98b\">рамках </span><span title=\"465 1.0000\" style=\"background-color:#f7a98b\">Закона </span><span title=\"466 1.0000\" style=\"background-color:#f7a98b\">от </span><span title=\"467 1.0000\" style=\"background-color:#f7a98b\">05-04-2013 </span><span title=\"468 1.0000\" style=\"background-color:#f7a98b\">№ </span><span title=\"469 1.0000\" style=\"background-color:#f7a98b\">44-ФЗ </span><span title=\"470 1.0000\" style=\"background-color:#f7a98b\">и </span><span title=\"471 1.0000\" style=\"background-color:#f7a98b\">государственного </span><span title=\"472 1.0000\" style=\"background-color:#f7a98b\">контракта </span><span title=\"473 1.0000\" style=\"background-color:#f7a98b\">( </span><span title=\"474 1.0000\" style=\"background-color:#f7a98b\">оборонный </span><span title=\"475 1.0000\" style=\"background-color:#f7a98b\">заказ </span><span title=\"476 1.0000\" style=\"background-color:#f7a98b\">) </span><span title=\"477 1.0000\" style=\"background-color:#f7a98b\">) </span><span title=\"478 1.0000\" style=\"background-color:#f7a98b\">; </span><span title=\"479 1.0000\" style=\"background-color:#f7a98b\">\n",
              " </span>¶<br><span title=\"480 1.0000\" style=\"background-color:#f7a98b\">3.3.2. </span><span title=\"481 1.0000\" style=\"background-color:#f7a98b\">обязательств </span><span title=\"482 1.0000\" style=\"background-color:#f7a98b\">в </span><span title=\"483 1.0000\" style=\"background-color:#f7a98b\">гарантийный </span><span title=\"484 1.0000\" style=\"background-color:#f7a98b\">период </span><span title=\"485 1.0000\" style=\"background-color:#f7a98b\">( </span><span title=\"486 1.0000\" style=\"background-color:#f7a98b\">в </span><span title=\"487 1.0000\" style=\"background-color:#f7a98b\">том </span><span title=\"488 1.0000\" style=\"background-color:#f7a98b\">числе </span><span title=\"489 1.0000\" style=\"background-color:#f7a98b\">в </span><span title=\"490 1.0000\" style=\"background-color:#f7a98b\">рамках </span><span title=\"491 1.0000\" style=\"background-color:#f7a98b\">Закона </span><span title=\"492 1.0000\" style=\"background-color:#f7a98b\">от </span><span title=\"493 1.0000\" style=\"background-color:#f7a98b\">05-04-2013 </span><span title=\"494 1.0000\" style=\"background-color:#f7a98b\">№ </span><span title=\"495 1.0000\" style=\"background-color:#f7a98b\">44-ФЗ </span><span title=\"496 1.0000\" style=\"background-color:#f7a98b\">) </span><span title=\"497 1.0000\" style=\"background-color:#f7a98b\">; </span><span title=\"498 1.0000\" style=\"background-color:#f7a98b\">\n",
              " </span>¶<br><span title=\"499 1.0000\" style=\"background-color:#f7a98b\">3.3.3. </span><span title=\"500 1.0000\" style=\"background-color:#f7a98b\">обязательств </span><span title=\"501 1.0000\" style=\"background-color:#f7a98b\">по </span><span title=\"502 1.0000\" style=\"background-color:#f7a98b\">возврату </span><span title=\"503 1.0000\" style=\"background-color:#f7a98b\">авансовых </span><span title=\"504 1.0000\" style=\"background-color:#f7a98b\">платежей </span><span title=\"505 1.0000\" style=\"background-color:#f7a98b\">( </span><span title=\"506 1.0000\" style=\"background-color:#f7a98b\">в </span><span title=\"507 1.0000\" style=\"background-color:#f7a98b\">том </span><span title=\"508 1.0000\" style=\"background-color:#f7a98b\">числе </span><span title=\"509 1.0000\" style=\"background-color:#f7a98b\">в </span><span title=\"510 1.0000\" style=\"background-color:#f7a98b\">рамках </span><span title=\"511 1.0000\" style=\"background-color:#f7a98b\">Закона </span><span title=\"512 1.0000\" style=\"background-color:#f7a98b\">от </span><span title=\"513 1.0000\" style=\"background-color:#f7a98b\">05-04-2013 </span><span title=\"514 1.0000\" style=\"background-color:#f7a98b\">№ </span><span title=\"515 1.0000\" style=\"background-color:#f7a98b\">44-ФЗ </span><span title=\"516 1.0000\" style=\"background-color:#f7a98b\">) </span><span title=\"517 1.0000\" style=\"background-color:#f7a98b\">; </span><span title=\"518 1.0000\" style=\"background-color:#f7a98b\">\n",
              " </span>¶<br><span title=\"519 1.0000\" style=\"background-color:#f7a98b\">3.3.4. </span><span title=\"520 1.0000\" style=\"background-color:#f7a98b\">обязательств </span><span title=\"521 1.0000\" style=\"background-color:#f7a98b\">по </span><span title=\"522 1.0000\" style=\"background-color:#f7a98b\">добровольному </span><span title=\"523 1.0000\" style=\"background-color:#f7a98b\">или </span><span title=\"524 1.0000\" style=\"background-color:#f7a98b\">обязательному </span><span title=\"525 1.0000\" style=\"background-color:#f7a98b\">предложению </span><span title=\"526 1.0000\" style=\"background-color:#f7a98b\">выкупа </span><span title=\"527 1.0000\" style=\"background-color:#f7a98b\">акций </span><span title=\"528 1.0000\" style=\"background-color:#f7a98b\">; </span><span title=\"529 1.0000\" style=\"background-color:#f7a98b\">\n",
              " </span>¶<br><span title=\"530 1.0000\" style=\"background-color:#f7a98b\">3.3.5. </span><span title=\"531 1.0000\" style=\"background-color:#f7a98b\">обязательств </span><span title=\"532 1.0000\" style=\"background-color:#f7a98b\">по </span><span title=\"533 1.0000\" style=\"background-color:#f7a98b\">гарантиям </span><span title=\"534 1.0000\" style=\"background-color:#f7a98b\">, </span><span title=\"535 1.0000\" style=\"background-color:#f7a98b\">предоставленным </span><span title=\"536 1.0000\" style=\"background-color:#f7a98b\">в </span><span title=\"537 1.0000\" style=\"background-color:#f7a98b\">адрес </span><span title=\"538 1.0000\" style=\"background-color:#f7a98b\">третьих </span><span title=\"539 1.0000\" style=\"background-color:#f7a98b\">лиц </span><span title=\"540 1.0000\" style=\"background-color:#f7a98b\">; </span><span title=\"541 1.0000\" style=\"background-color:#f7a98b\">\n",
              " </span>¶<br><span title=\"542 1.0000\" style=\"background-color:#f7a98b\">3.4. </span><span title=\"543 1.0000\" style=\"background-color:#f7a98b\">обязательств </span><span title=\"544 1.0000\" style=\"background-color:#f7a98b\">перед </span><span title=\"545 1.0000\" style=\"background-color:#f7a98b\">таможенными </span><span title=\"546 1.0000\" style=\"background-color:#f7a98b\">органами </span><span title=\"547 1.0000\" style=\"background-color:#f7a98b\">: </span><span title=\"548 1.0000\" style=\"background-color:#f7a98b\">\n",
              " </span>¶<br><span title=\"549 1.0000\" style=\"background-color:#f7a98b\">3.4.1. </span><span title=\"550 1.0000\" style=\"background-color:#f7a98b\">по </span><span title=\"551 1.0000\" style=\"background-color:#f7a98b\">уплате </span><span title=\"552 1.0000\" style=\"background-color:#f7a98b\">сумм </span><span title=\"553 1.0000\" style=\"background-color:#f7a98b\">таможенных </span><span title=\"554 1.0000\" style=\"background-color:#f7a98b\">платежей </span><span title=\"555 1.0000\" style=\"background-color:#f7a98b\">и </span><span title=\"556 1.0000\" style=\"background-color:#f7a98b\">возможных </span><span title=\"557 1.0000\" style=\"background-color:#f7a98b\">процентов </span><span title=\"558 1.0000\" style=\"background-color:#f7a98b\">и </span><span title=\"559 1.0000\" style=\"background-color:#f7a98b\">пеней </span><span title=\"560 1.0000\" style=\"background-color:#f7a98b\">; </span><span title=\"561 1.0000\" style=\"background-color:#f7a98b\">\n",
              " </span>¶<br><span title=\"562 1.0000\" style=\"background-color:#f7a98b\">перед </span><span title=\"563 1.0000\" style=\"background-color:#f7a98b\">налоговыми </span><span title=\"564 1.0000\" style=\"background-color:#f7a98b\">органами </span><span title=\"565 1.0000\" style=\"background-color:#f7a98b\">: </span><span title=\"566 1.0000\" style=\"background-color:#f7a98b\">\n",
              " </span>¶<br><span title=\"567 1.0000\" style=\"background-color:#f7a98b\">3.4.2. </span><span title=\"568 1.0000\" style=\"background-color:#f7a98b\">обеспечение </span><span title=\"569 1.0000\" style=\"background-color:#f7a98b\">обязательств </span><span title=\"570 1.0000\" style=\"background-color:#f7a98b\">перед </span><span title=\"571 1.0000\" style=\"background-color:#f7a98b\">налоговыми </span><span title=\"572 1.0000\" style=\"background-color:#f7a98b\">органами </span><span title=\"573 1.0000\" style=\"background-color:#f7a98b\">по </span><span title=\"574 1.0000\" style=\"background-color:#f7a98b\">уплате </span><span title=\"575 1.0000\" style=\"background-color:#f7a98b\">в </span><span title=\"576 1.0000\" style=\"background-color:#f7a98b\">бюджет </span><span title=\"577 1.0000\" style=\"background-color:#f7a98b\">суммы </span><span title=\"578 1.0000\" style=\"background-color:#f7a98b\">налога </span><span title=\"579 1.0000\" style=\"background-color:#f7a98b\">, </span><span title=\"580 1.0000\" style=\"background-color:#f7a98b\">по </span><span title=\"581 1.0000\" style=\"background-color:#f7a98b\">уплате </span><span title=\"582 1.0000\" style=\"background-color:#f7a98b\">акциза </span><span title=\"583 1.0000\" style=\"background-color:#f7a98b\">по </span><span title=\"584 1.0000\" style=\"background-color:#f7a98b\">подакцизным </span><span title=\"585 1.0000\" style=\"background-color:#f7a98b\">товарам </span><span title=\"586 1.0000\" style=\"background-color:#f7a98b\">, </span><span title=\"587 1.0000\" style=\"background-color:#f7a98b\">в </span><span title=\"588 1.0000\" style=\"background-color:#f7a98b\">целях </span><span title=\"589 1.0000\" style=\"background-color:#f7a98b\">освобождения </span><span title=\"590 1.0000\" style=\"background-color:#f7a98b\">уплаты </span><span title=\"591 1.0000\" style=\"background-color:#f7a98b\">авансового </span><span title=\"592 1.0000\" style=\"background-color:#f7a98b\">платежа </span><span title=\"593 1.0000\" style=\"background-color:#f7a98b\">акциза </span><span title=\"594 1.0000\" style=\"background-color:#f7a98b\">; </span><span title=\"595 1.0000\" style=\"background-color:#f7a98b\">\n",
              " </span>¶<br><span title=\"596 1.0000\" style=\"background-color:#f7a98b\">3.4.3. </span><span title=\"597 1.0000\" style=\"background-color:#f7a98b\">по </span><span title=\"598 1.0000\" style=\"background-color:#f7a98b\">возмещению </span><span title=\"599 1.0000\" style=\"background-color:#f7a98b\">НДС </span><span title=\"600 1.0000\" style=\"background-color:#f7a98b\">. </span><span title=\"601 1.0000\" style=\"background-color:#f7a98b\">\n",
              " </span>¶<br><span title=\"602 1.0000\" style=\"background-color:#f7a98b\">4 </span><span title=\"603 1.0000\" style=\"background-color:#f7a98b\">. </span><span title=\"604 1.0000\" style=\"background-color:#f7a98b\">Период </span><span title=\"605 1.0000\" style=\"background-color:#f7a98b\">выдачи </span><span title=\"606 1.0000\" style=\"background-color:#f7a98b\">банковских </span><span title=\"607 1.0000\" style=\"background-color:#f7a98b\">гарантий </span><span title=\"608 1.0000\" style=\"background-color:#f7a98b\">в </span><span title=\"609 1.0000\" style=\"background-color:#f7a98b\">рамках </span><span title=\"610 1.0000\" style=\"background-color:#f7a98b\">Соглашения </span><span title=\"611 1.0000\" style=\"background-color:#f7a98b\">– </span><span title=\"612 1.0000\" style=\"background-color:#f7a98b\">с </span><span title=\"613 1.0000\" style=\"background-color:#f7a98b\">даты </span><span title=\"614 1.0000\" style=\"background-color:#f7a98b\">подписания </span><span title=\"615 1.0000\" style=\"background-color:#f7a98b\">Соглашения </span><span title=\"616 1.0000\" style=\"background-color:#f7a98b\">по </span><span title=\"617 1.0000\" style=\"background-color:#f7a98b\">17 </span><span title=\"618 1.0000\" style=\"background-color:#f7a98b\">июня </span><span title=\"619 1.0000\" style=\"background-color:#f7a98b\">2019 </span><span title=\"620 1.0000\" style=\"background-color:#f7a98b\">года </span><span title=\"621 1.0000\" style=\"background-color:#f7a98b\">включительно </span><span title=\"622 1.0000\" style=\"background-color:#f7a98b\">с </span><span title=\"623 1.0000\" style=\"background-color:#f7a98b\">возможностью </span><span title=\"624 1.0000\" style=\"background-color:#f7a98b\">пролонгации </span><span title=\"625 1.0000\" style=\"background-color:#f7a98b\">без </span><span title=\"626 1.0000\" style=\"background-color:#f7a98b\">заключения </span><span title=\"627 1.0000\" style=\"background-color:#f7a98b\">дополнительных </span><span title=\"628 1.0000\" style=\"background-color:#f7a98b\">соглашений </span><span title=\"629 1.0000\" style=\"background-color:#f7a98b\">, </span><span title=\"630 1.0000\" style=\"background-color:#f7a98b\">путем </span><span title=\"631 1.0000\" style=\"background-color:#f7a98b\">направления </span><span title=\"632 1.0000\" style=\"background-color:#f7a98b\">Гарантом </span><span title=\"633 1.0000\" style=\"background-color:#f7a98b\">Принципалу </span><span title=\"634 1.0000\" style=\"background-color:#f7a98b\">соответствующего </span><span title=\"635 1.0000\" style=\"background-color:#f7a98b\">письменного </span><span title=\"636 1.0000\" style=\"background-color:#f7a98b\">уведомления </span><span title=\"637 1.0000\" style=\"background-color:#f7a98b\">не </span><span title=\"638 1.0000\" style=\"background-color:#f7a98b\">позднее </span><span title=\"639 1.0000\" style=\"background-color:#f7a98b\">чем </span><span title=\"640 1.0000\" style=\"background-color:#f7a98b\">за </span><span title=\"641 1.0000\" style=\"background-color:#f7a98b\">14 </span><span title=\"642 1.0000\" style=\"background-color:#f7a98b\">календарных </span><span title=\"643 1.0000\" style=\"background-color:#f7a98b\">дней </span><span title=\"644 1.0000\" style=\"background-color:#f7a98b\">до </span><span title=\"645 1.0000\" style=\"background-color:#f7a98b\">даты </span><span title=\"646 1.0000\" style=\"background-color:#f7a98b\">окончания </span><span title=\"647 1.0000\" style=\"background-color:#f7a98b\">периода </span><span title=\"648 1.0000\" style=\"background-color:#f7a98b\">выдачи </span><span title=\"649 1.0000\" style=\"background-color:#f7a98b\">. </span><span title=\"650 1.0000\" style=\"background-color:#f7a98b\">\n",
              " </span>¶<br><span title=\"651 1.0000\" style=\"background-color:#f7a98b\">5 </span><span title=\"652 1.0000\" style=\"background-color:#f7a98b\">. </span><span title=\"653 1.0000\" style=\"background-color:#f7a98b\">Срок </span><span title=\"654 1.0000\" style=\"background-color:#f7a98b\">действия </span><span title=\"655 1.0000\" style=\"background-color:#f7a98b\">каждой </span><span title=\"656 1.0000\" style=\"background-color:#f7a98b\">Гарантии </span><span title=\"657 1.0000\" style=\"background-color:#f7a98b\">не </span><span title=\"658 1.0000\" style=\"background-color:#f7a98b\">более </span><span title=\"659 1.0000\" style=\"background-color:#f7a98b\">18 </span><span title=\"660 1.0000\" style=\"background-color:#f7a98b\">( </span><span title=\"661 1.0000\" style=\"background-color:#f7a98b\">Восемнадцать </span><span title=\"662 1.0000\" style=\"background-color:#f7a98b\">) </span><span title=\"663 1.0000\" style=\"background-color:#f7a98b\">месяцев </span><span title=\"664 1.0000\" style=\"background-color:#f7a98b\">. </span><span title=\"665 1.0000\" style=\"background-color:#f7a98b\">\n",
              " </span>¶<br><span title=\"666 1.0000\" style=\"background-color:#f7a98b\">6 </span><span title=\"667 1.0000\" style=\"background-color:#f7a98b\">. </span><span title=\"668 1.0000\" style=\"background-color:#f7a98b\">Лимит </span><span title=\"669 1.0000\" style=\"background-color:#f7a98b\">Соглашения </span><span title=\"670 1.0000\" style=\"background-color:#f7a98b\">: </span><span title=\"671 1.5919\" style=\"background-color:#b70d28\">75000000,00 </span><span title=\"672 1.2838\" style=\"background-color:#e46e56\">( </span><span title=\"673 1.2838\" style=\"background-color:#e46e56\">Семьдесят </span><span title=\"674 1.2838\" style=\"background-color:#e46e56\">пять </span><span title=\"675 1.2838\" style=\"background-color:#e46e56\">миллионов </span><span title=\"676 1.2838\" style=\"background-color:#e46e56\">) </span><span title=\"677 1.5569\" style=\"background-color:#bd1f2d\">рублей </span><span title=\"678 1.2838\" style=\"background-color:#e46e56\">00 </span><span title=\"679 1.2838\" style=\"background-color:#e46e56\">копеек </span><span title=\"680 1.0000\" style=\"background-color:#f7a98b\">. </span><span title=\"681 1.0000\" style=\"background-color:#f7a98b\">Совокупный </span><span title=\"682 1.0000\" style=\"background-color:#f7a98b\">долг </span><span title=\"683 1.0000\" style=\"background-color:#f7a98b\">по </span><span title=\"684 1.0000\" style=\"background-color:#f7a98b\">всем </span><span title=\"685 1.0000\" style=\"background-color:#f7a98b\">выданным </span><span title=\"686 1.0000\" style=\"background-color:#f7a98b\">и </span><span title=\"687 1.0000\" style=\"background-color:#f7a98b\">не </span><span title=\"688 1.0000\" style=\"background-color:#f7a98b\">прекратившимся </span><span title=\"689 1.0000\" style=\"background-color:#f7a98b\">, </span><span title=\"690 1.0000\" style=\"background-color:#f7a98b\">в </span><span title=\"691 1.0000\" style=\"background-color:#f7a98b\">том </span><span title=\"692 1.0000\" style=\"background-color:#f7a98b\">числе </span><span title=\"693 1.0000\" style=\"background-color:#f7a98b\">не </span><span title=\"694 1.0000\" style=\"background-color:#f7a98b\">вступившим </span><span title=\"695 1.0000\" style=\"background-color:#f7a98b\">в </span><span title=\"696 1.0000\" style=\"background-color:#f7a98b\">силу </span><span title=\"697 1.0000\" style=\"background-color:#f7a98b\">, </span><span title=\"698 1.0000\" style=\"background-color:#f7a98b\">Гарантиям </span><span title=\"699 1.0000\" style=\"background-color:#f7a98b\">в </span><span title=\"700 1.0000\" style=\"background-color:#f7a98b\">рамках </span><span title=\"701 1.0000\" style=\"background-color:#f7a98b\">Соглашения </span><span title=\"702 1.0000\" style=\"background-color:#f7a98b\">, </span><span title=\"703 1.0000\" style=\"background-color:#f7a98b\">не </span><span title=\"704 1.0000\" style=\"background-color:#f7a98b\">должен </span><span title=\"705 1.2926\" style=\"background-color:#e36c55\">превышать </span><span title=\"706 1.6114\" style=\"background-color:#b40426\">75000000,00 </span><span title=\"707 1.2890\" style=\"background-color:#e46e56\">( </span><span title=\"708 1.2890\" style=\"background-color:#e46e56\">Семьдесят </span><span title=\"709 1.2890\" style=\"background-color:#e46e56\">пять </span><span title=\"710 1.2890\" style=\"background-color:#e46e56\">миллиардов </span><span title=\"711 1.2890\" style=\"background-color:#e46e56\">) </span><span title=\"712 1.5577\" style=\"background-color:#bd1f2d\">рублей </span><span title=\"713 1.2890\" style=\"background-color:#e46e56\">00 </span><span title=\"714 1.2890\" style=\"background-color:#e46e56\">копеек </span><span title=\"715 1.0000\" style=\"background-color:#f7a98b\">, </span><span title=\"716 1.0000\" style=\"background-color:#f7a98b\">по </span><span title=\"717 1.0000\" style=\"background-color:#f7a98b\">состоянию </span><span title=\"718 1.0000\" style=\"background-color:#f7a98b\">на </span><span title=\"719 1.0000\" style=\"background-color:#f7a98b\">день </span><span title=\"720 1.0000\" style=\"background-color:#f7a98b\">выдачи </span><span title=\"721 1.0000\" style=\"background-color:#f7a98b\">каждой </span><span title=\"722 1.0000\" style=\"background-color:#f7a98b\">Гарантии </span><span title=\"723 1.0000\" style=\"background-color:#f7a98b\">. </span><span title=\"724 1.0000\" style=\"background-color:#f7a98b\">Для </span><span title=\"725 1.0000\" style=\"background-color:#f7a98b\">целей </span><span title=\"726 1.0000\" style=\"background-color:#f7a98b\">определения </span><span title=\"727 1.0000\" style=\"background-color:#f7a98b\">лимита </span><span title=\"728 1.0000\" style=\"background-color:#f7a98b\">, </span><span title=\"729 1.0000\" style=\"background-color:#f7a98b\">совокупный </span><span title=\"730 1.0000\" style=\"background-color:#f7a98b\">долг </span><span title=\"731 1.0000\" style=\"background-color:#f7a98b\">по </span><span title=\"732 1.0000\" style=\"background-color:#f7a98b\">Гарантиям </span><span title=\"733 1.0000\" style=\"background-color:#f7a98b\">, </span><span title=\"734 1.0000\" style=\"background-color:#f7a98b\">выданным </span><span title=\"735 1.0000\" style=\"background-color:#f7a98b\">в </span><span title=\"736 1.0000\" style=\"background-color:#f7a98b\">долларах </span><span title=\"737 1.0000\" style=\"background-color:#f7a98b\">США </span><span title=\"738 1.0000\" style=\"background-color:#f7a98b\">, </span><span title=\"739 1.0000\" style=\"background-color:#f7a98b\">рассчитывается </span><span title=\"740 1.0000\" style=\"background-color:#f7a98b\">в </span><span title=\"741 1.0000\" style=\"background-color:#f7a98b\">российских </span><span title=\"742 1.0000\" style=\"background-color:#f7a98b\">рублях </span><span title=\"743 1.0000\" style=\"background-color:#f7a98b\">по </span><span title=\"744 1.0000\" style=\"background-color:#f7a98b\">курсу </span><span title=\"745 1.0000\" style=\"background-color:#f7a98b\">Банка </span><span title=\"746 1.0000\" style=\"background-color:#f7a98b\">России </span><span title=\"747 1.0000\" style=\"background-color:#f7a98b\">на </span><span title=\"748 1.0000\" style=\"background-color:#f7a98b\">дату </span><span title=\"749 1.0000\" style=\"background-color:#f7a98b\">расчета </span><span title=\"750 1.0000\" style=\"background-color:#f7a98b\">. </span><span title=\"751 1.0000\" style=\"background-color:#f7a98b\">\n",
              " </span>¶<br><span title=\"752 1.0000\" style=\"background-color:#f7a98b\">7 </span><span title=\"753 1.0000\" style=\"background-color:#f7a98b\">. </span><span title=\"754 1.0000\" style=\"background-color:#f7a98b\">Вознаграждение </span><span title=\"755 1.0000\" style=\"background-color:#f7a98b\">Гаранта </span><span title=\"756 1.0000\" style=\"background-color:#f7a98b\">: </span><span title=\"757 1.0000\" style=\"background-color:#f7a98b\">указывается </span><span title=\"758 1.0000\" style=\"background-color:#f7a98b\">в </span><span title=\"759 1.0000\" style=\"background-color:#f7a98b\">Заявлении </span><span title=\"760 1.0000\" style=\"background-color:#f7a98b\">, </span><span title=\"761 1.0000\" style=\"background-color:#f7a98b\">но </span><span title=\"762 1.0000\" style=\"background-color:#f7a98b\">не </span><span title=\"763 1.0000\" style=\"background-color:#f7a98b\">более </span><span title=\"764 1.0000\" style=\"background-color:#f7a98b\">5,0 </span><span title=\"765 1.0000\" style=\"background-color:#f7a98b\">% </span><span title=\"766 1.0000\" style=\"background-color:#f7a98b\">( </span><span title=\"767 1.0000\" style=\"background-color:#f7a98b\">пяти </span><span title=\"768 1.0000\" style=\"background-color:#f7a98b\">) </span><span title=\"769 1.0000\" style=\"background-color:#f7a98b\">процентов </span><span title=\"770 1.0000\" style=\"background-color:#f7a98b\">годовых </span><span title=\"771 1.0000\" style=\"background-color:#f7a98b\">от </span><span title=\"772 1.0000\" style=\"background-color:#f7a98b\">суммы </span><span title=\"773 1.0000\" style=\"background-color:#f7a98b\">каждой </span><span title=\"774 1.0000\" style=\"background-color:#f7a98b\">Гарантии </span><span title=\"775 1.0000\" style=\"background-color:#f7a98b\">. </span><span title=\"776 1.0000\" style=\"background-color:#f7a98b\">\n",
              " </span>¶<br><span title=\"777 1.0000\" style=\"background-color:#f7a98b\">8 </span><span title=\"778 1.0000\" style=\"background-color:#f7a98b\">. </span><span title=\"779 1.0000\" style=\"background-color:#f7a98b\">В </span><span title=\"780 1.0000\" style=\"background-color:#f7a98b\">части </span><span title=\"781 1.0000\" style=\"background-color:#f7a98b\">порядка </span><span title=\"782 1.0000\" style=\"background-color:#f7a98b\">предоставления </span><span title=\"783 1.0000\" style=\"background-color:#f7a98b\">гарантий </span><span title=\"784 1.0000\" style=\"background-color:#f7a98b\">: </span><span title=\"785 1.0000\" style=\"background-color:#f7a98b\">\n",
              " </span>¶<br><span title=\"786 1.0000\" style=\"background-color:#f7a98b\">Принципал </span><span title=\"787 1.0000\" style=\"background-color:#f7a98b\">предоставляет </span><span title=\"788 1.0000\" style=\"background-color:#f7a98b\">Гаранту </span><span title=\"789 1.0000\" style=\"background-color:#f7a98b\">Заявление </span><span title=\"790 1.0000\" style=\"background-color:#f7a98b\">на </span><span title=\"791 1.0000\" style=\"background-color:#f7a98b\">выдачу </span><span title=\"792 1.0000\" style=\"background-color:#f7a98b\">гарантии </span><span title=\"793 1.0000\" style=\"background-color:#f7a98b\">в </span><span title=\"794 1.0000\" style=\"background-color:#f7a98b\">Период </span><span title=\"795 1.0000\" style=\"background-color:#f7a98b\">предоставления </span><span title=\"796 1.0000\" style=\"background-color:#f7a98b\">Гарантий </span><span title=\"797 1.0000\" style=\"background-color:#f7a98b\">, </span><span title=\"798 1.0000\" style=\"background-color:#f7a98b\">но </span><span title=\"799 1.0000\" style=\"background-color:#f7a98b\">не </span><span title=\"800 1.0000\" style=\"background-color:#f7a98b\">позднее </span><span title=\"801 1.0000\" style=\"background-color:#f7a98b\">чем </span><span title=\"802 1.0000\" style=\"background-color:#f7a98b\">за </span><span title=\"803 1.0000\" style=\"background-color:#f7a98b\">5 </span><span title=\"804 1.0000\" style=\"background-color:#f7a98b\">( </span><span title=\"805 1.0000\" style=\"background-color:#f7a98b\">Пять </span><span title=\"806 1.0000\" style=\"background-color:#f7a98b\">) </span><span title=\"807 1.0000\" style=\"background-color:#f7a98b\">рабочих </span><span title=\"808 1.0000\" style=\"background-color:#f7a98b\">дней </span><span title=\"809 1.0000\" style=\"background-color:#f7a98b\">до </span><span title=\"810 1.0000\" style=\"background-color:#f7a98b\">предполагаемой </span><span title=\"811 1.0000\" style=\"background-color:#f7a98b\">даты </span><span title=\"812 1.0000\" style=\"background-color:#f7a98b\">выдачи </span><span title=\"813 1.0000\" style=\"background-color:#f7a98b\">Гарантии </span><span title=\"814 1.0000\" style=\"background-color:#f7a98b\">. </span><span title=\"815 1.0000\" style=\"background-color:#f7a98b\">\n",
              " </span>¶<br><span title=\"816 1.0000\" style=\"background-color:#f7a98b\">9 </span><span title=\"817 1.0000\" style=\"background-color:#f7a98b\">. </span><span title=\"818 1.0000\" style=\"background-color:#f7a98b\">В </span><span title=\"819 1.0000\" style=\"background-color:#f7a98b\">части </span><span title=\"820 1.0000\" style=\"background-color:#f7a98b\">платежей </span><span title=\"821 1.0000\" style=\"background-color:#f7a98b\">и </span><span title=\"822 1.0000\" style=\"background-color:#f7a98b\">порядка </span><span title=\"823 1.0000\" style=\"background-color:#f7a98b\">их </span><span title=\"824 1.0000\" style=\"background-color:#f7a98b\">уплаты </span><span title=\"825 1.0000\" style=\"background-color:#f7a98b\">: </span><span title=\"826 1.0000\" style=\"background-color:#f7a98b\">\n",
              " </span>¶<br><span title=\"827 1.0000\" style=\"background-color:#f7a98b\">Принципал </span><span title=\"828 1.0000\" style=\"background-color:#f7a98b\">обязан </span><span title=\"829 1.0000\" style=\"background-color:#f7a98b\">уплачивать </span><span title=\"830 1.0000\" style=\"background-color:#f7a98b\">Гаранту </span><span title=\"831 1.0000\" style=\"background-color:#f7a98b\">Вознаграждение </span><span title=\"832 1.0000\" style=\"background-color:#f7a98b\">ежемесячно </span><span title=\"833 1.0000\" style=\"background-color:#f7a98b\">не </span><span title=\"834 1.0000\" style=\"background-color:#f7a98b\">позднее </span><span title=\"835 1.0000\" style=\"background-color:#f7a98b\">15 </span><span title=\"836 1.0000\" style=\"background-color:#f7a98b\">( </span><span title=\"837 1.0000\" style=\"background-color:#f7a98b\">пятнадцатого </span><span title=\"838 1.0000\" style=\"background-color:#f7a98b\">) </span><span title=\"839 1.0000\" style=\"background-color:#f7a98b\">числа </span><span title=\"840 1.0000\" style=\"background-color:#f7a98b\">каждого </span><span title=\"841 1.0000\" style=\"background-color:#f7a98b\">месяца </span><span title=\"842 1.0000\" style=\"background-color:#f7a98b\">срока </span><span title=\"843 1.0000\" style=\"background-color:#f7a98b\">действия </span><span title=\"844 1.0000\" style=\"background-color:#f7a98b\">Гарантии </span><span title=\"845 1.0000\" style=\"background-color:#f7a98b\">и </span><span title=\"846 1.0000\" style=\"background-color:#f7a98b\">в </span><span title=\"847 1.0000\" style=\"background-color:#f7a98b\">день </span><span title=\"848 1.0000\" style=\"background-color:#f7a98b\">прекращения </span><span title=\"849 1.0000\" style=\"background-color:#f7a98b\">действия </span><span title=\"850 1.0000\" style=\"background-color:#f7a98b\">Гарантии </span><span title=\"851 1.0000\" style=\"background-color:#f7a98b\">. </span><span title=\"852 1.0000\" style=\"background-color:#f7a98b\">\n",
              " </span>¶<br><span title=\"853 1.0000\" style=\"background-color:#f7a98b\">Под </span><span title=\"854 1.0000\" style=\"background-color:#f7a98b\">« </span><span title=\"855 1.0000\" style=\"background-color:#f7a98b\">месяцем </span><span title=\"856 1.0000\" style=\"background-color:#f7a98b\">срока </span><span title=\"857 1.0000\" style=\"background-color:#f7a98b\">действия </span><span title=\"858 1.0000\" style=\"background-color:#f7a98b\">Гарантии </span><span title=\"859 1.0000\" style=\"background-color:#f7a98b\">» </span><span title=\"860 1.0000\" style=\"background-color:#f7a98b\">подразумевается </span><span title=\"861 1.0000\" style=\"background-color:#f7a98b\">фактический </span><span title=\"862 1.0000\" style=\"background-color:#f7a98b\">месяц </span><span title=\"863 1.0000\" style=\"background-color:#f7a98b\">срока </span><span title=\"864 1.0000\" style=\"background-color:#f7a98b\">действия </span><span title=\"865 1.0000\" style=\"background-color:#f7a98b\">Гарантии </span><span title=\"866 1.0000\" style=\"background-color:#f7a98b\">. </span><span title=\"867 1.0000\" style=\"background-color:#f7a98b\">Первый </span><span title=\"868 1.0000\" style=\"background-color:#f7a98b\">месяц </span><span title=\"869 1.0000\" style=\"background-color:#f7a98b\">срока </span><span title=\"870 1.0000\" style=\"background-color:#f7a98b\">действия </span><span title=\"871 1.0000\" style=\"background-color:#f7a98b\">Гарантии </span><span title=\"872 1.0000\" style=\"background-color:#f7a98b\">начинается </span><span title=\"873 1.0000\" style=\"background-color:#f7a98b\">в </span><span title=\"874 1.0000\" style=\"background-color:#f7a98b\">день </span><span title=\"875 1.0000\" style=\"background-color:#f7a98b\">вступления </span><span title=\"876 1.0000\" style=\"background-color:#f7a98b\">Гарантии </span><span title=\"877 1.0000\" style=\"background-color:#f7a98b\">в </span><span title=\"878 1.0000\" style=\"background-color:#f7a98b\">силу </span><span title=\"879 1.0000\" style=\"background-color:#f7a98b\">и </span><span title=\"880 1.0000\" style=\"background-color:#f7a98b\">заканчивается </span><span title=\"881 1.0000\" style=\"background-color:#f7a98b\">14 </span><span title=\"882 1.0000\" style=\"background-color:#f7a98b\">( </span><span title=\"883 1.0000\" style=\"background-color:#f7a98b\">четырнадцатого </span><span title=\"884 1.0000\" style=\"background-color:#f7a98b\">) </span><span title=\"885 1.0000\" style=\"background-color:#f7a98b\">числа </span><span title=\"886 1.0000\" style=\"background-color:#f7a98b\">месяца </span><span title=\"887 1.0000\" style=\"background-color:#f7a98b\">, </span><span title=\"888 1.0000\" style=\"background-color:#f7a98b\">следующего </span><span title=\"889 1.0000\" style=\"background-color:#f7a98b\">за </span><span title=\"890 1.0000\" style=\"background-color:#f7a98b\">месяцем </span><span title=\"891 1.0000\" style=\"background-color:#f7a98b\">, </span><span title=\"892 1.0000\" style=\"background-color:#f7a98b\">в </span><span title=\"893 1.0000\" style=\"background-color:#f7a98b\">котором </span><span title=\"894 1.0000\" style=\"background-color:#f7a98b\">Гарантия </span><span title=\"895 1.0000\" style=\"background-color:#f7a98b\">была </span><span title=\"896 1.0000\" style=\"background-color:#f7a98b\">выдана </span><span title=\"897 1.0000\" style=\"background-color:#f7a98b\">. </span><span title=\"898 1.0000\" style=\"background-color:#f7a98b\">Следующий </span><span title=\"899 1.0000\" style=\"background-color:#f7a98b\">месяц </span><span title=\"900 1.0000\" style=\"background-color:#f7a98b\">срока </span><span title=\"901 1.0000\" style=\"background-color:#f7a98b\">действия </span><span title=\"902 1.0000\" style=\"background-color:#f7a98b\">Гарантии </span><span title=\"903 1.0000\" style=\"background-color:#f7a98b\">начинается </span><span title=\"904 1.0000\" style=\"background-color:#f7a98b\">со </span><span title=\"905 1.0000\" style=\"background-color:#f7a98b\">дня </span><span title=\"906 1.0000\" style=\"background-color:#f7a98b\">, </span><span title=\"907 1.0000\" style=\"background-color:#f7a98b\">следующего </span><span title=\"908 1.0000\" style=\"background-color:#f7a98b\">за </span><span title=\"909 1.0000\" style=\"background-color:#f7a98b\">окончанием </span><span title=\"910 1.0000\" style=\"background-color:#f7a98b\">первого </span><span title=\"911 1.0000\" style=\"background-color:#f7a98b\">месяца </span><span title=\"912 1.0000\" style=\"background-color:#f7a98b\">срока </span><span title=\"913 1.0000\" style=\"background-color:#f7a98b\">действия </span><span title=\"914 1.0000\" style=\"background-color:#f7a98b\">Гарантии </span><span title=\"915 1.0000\" style=\"background-color:#f7a98b\">. </span><span title=\"916 1.0000\" style=\"background-color:#f7a98b\">Последний </span><span title=\"917 1.0000\" style=\"background-color:#f7a98b\">месяц </span><span title=\"918 1.0000\" style=\"background-color:#f7a98b\">срока </span><span title=\"919 1.0000\" style=\"background-color:#f7a98b\">действия </span><span title=\"920 1.0000\" style=\"background-color:#f7a98b\">Гарантии </span><span title=\"921 1.0000\" style=\"background-color:#f7a98b\">заканчивается </span><span title=\"922 1.0000\" style=\"background-color:#f7a98b\">в </span><span title=\"923 1.0000\" style=\"background-color:#f7a98b\">дату </span><span title=\"924 1.0000\" style=\"background-color:#f7a98b\">прекращения </span><span title=\"925 1.0000\" style=\"background-color:#f7a98b\">действия </span><span title=\"926 1.0000\" style=\"background-color:#f7a98b\">Гарантии </span><span title=\"927 1.0000\" style=\"background-color:#f7a98b\">. </span><span title=\"928 1.0000\" style=\"background-color:#f7a98b\">\n",
              " </span>¶<br><span title=\"929 1.0000\" style=\"background-color:#f7a98b\">\n",
              " </span>¶<br><span title=\"930 1.0000\" style=\"background-color:#f7a98b\">Итоги </span><span title=\"931 1.0000\" style=\"background-color:#f7a98b\">голосования </span><span title=\"932 1.0000\" style=\"background-color:#f7a98b\">: </span><span title=\"933 1.0000\" style=\"background-color:#f7a98b\">\n",
              " </span>¶<br><span title=\"934 1.0000\" style=\"background-color:#f7a98b\">« </span><span title=\"935 1.0000\" style=\"background-color:#f7a98b\">ЗА </span><span title=\"936 1.0000\" style=\"background-color:#f7a98b\">» </span><span title=\"937 1.0000\" style=\"background-color:#f7a98b\">- </span><span title=\"938 1.0000\" style=\"background-color:#f7a98b\">9 </span><span title=\"939 1.0000\" style=\"background-color:#f7a98b\">\n",
              " </span>¶<br><span title=\"940 1.0000\" style=\"background-color:#f7a98b\">« </span><span title=\"941 1.0000\" style=\"background-color:#f7a98b\">ПРОТИВ </span><span title=\"942 1.0000\" style=\"background-color:#f7a98b\">» </span><span title=\"943 1.0000\" style=\"background-color:#f7a98b\">- </span><span title=\"944 1.0000\" style=\"background-color:#f7a98b\">нет </span><span title=\"945 1.0000\" style=\"background-color:#f7a98b\">\n",
              " </span>¶<br><span title=\"946 1.0000\" style=\"background-color:#f7a98b\">« </span><span title=\"947 1.0000\" style=\"background-color:#f7a98b\">ВОЗДЕРЖАЛСЯ </span><span title=\"948 1.0000\" style=\"background-color:#f7a98b\">» </span><span title=\"949 1.0000\" style=\"background-color:#f7a98b\">- </span><span title=\"950 1.0000\" style=\"background-color:#f7a98b\">нет </span><span title=\"951 1.0000\" style=\"background-color:#f7a98b\">\n",
              " </span>¶<br><span title=\"952 1.0000\" style=\"background-color:#f7a98b\">РЕШЕНИЕ </span><span title=\"953 1.0000\" style=\"background-color:#f7a98b\">ПРИНЯТО </span><span title=\"954 1.0000\" style=\"background-color:#f7a98b\">\n",
              " </span>¶<br><span title=\"955 1.0000\" style=\"background-color:#f7a98b\">\n",
              " </span>¶<br><span title=\"956 0.0000\" style=\"background-color:#88abfd\">Решение </span><span title=\"957 0.0000\" style=\"background-color:#88abfd\">, </span><span title=\"958 0.0000\" style=\"background-color:#88abfd\">принятое </span><span title=\"959 0.0000\" style=\"background-color:#88abfd\">по </span><span title=\"960 0.0000\" style=\"background-color:#88abfd\">вопросу </span><span title=\"961 0.0000\" style=\"background-color:#88abfd\">повестки </span><span title=\"962 0.0000\" style=\"background-color:#88abfd\">дня </span><span title=\"963 0.0000\" style=\"background-color:#88abfd\">: </span><span title=\"964 0.0000\" style=\"background-color:#88abfd\">\n",
              " </span>¶<br><span title=\"965 1.0000\" style=\"background-color:#f7a98b\">Принять </span><span title=\"966 1.0000\" style=\"background-color:#f7a98b\">решение </span><span title=\"967 1.0000\" style=\"background-color:#f7a98b\">о </span><span title=\"968 1.0000\" style=\"background-color:#f7a98b\">совершении </span><span title=\"969 1.0000\" style=\"background-color:#f7a98b\">сделки </span><span title=\"970 1.0000\" style=\"background-color:#f7a98b\">– </span><span title=\"971 1.0000\" style=\"background-color:#f7a98b\">заключении </span><span title=\"972 1.0000\" style=\"background-color:#f7a98b\">Соглашения </span><span title=\"973 1.0000\" style=\"background-color:#f7a98b\">о </span><span title=\"974 1.0000\" style=\"background-color:#f7a98b\">выдаче </span><span title=\"975 1.0000\" style=\"background-color:#f7a98b\">банковских </span><span title=\"976 1.0000\" style=\"background-color:#f7a98b\">гарантий </span><span title=\"977 1.0000\" style=\"background-color:#f7a98b\">№___ </span><span title=\"978 1.0000\" style=\"background-color:#f7a98b\">от </span><span title=\"979 1.0000\" style=\"background-color:#f7a98b\">__ </span><span title=\"980 1.0000\" style=\"background-color:#f7a98b\">апреля </span><span title=\"981 1.0000\" style=\"background-color:#f7a98b\">2017 </span><span title=\"982 1.0000\" style=\"background-color:#f7a98b\">года </span><span title=\"983 1.0000\" style=\"background-color:#f7a98b\">. </span><span title=\"984 1.0000\" style=\"background-color:#f7a98b\">( </span><span title=\"985 1.0000\" style=\"background-color:#f7a98b\">далее </span><span title=\"986 1.0000\" style=\"background-color:#f7a98b\">также </span><span title=\"987 1.0000\" style=\"background-color:#f7a98b\">– </span><span title=\"988 1.0000\" style=\"background-color:#f7a98b\">« </span><span title=\"989 1.0000\" style=\"background-color:#f7a98b\">Соглашение </span><span title=\"990 1.0000\" style=\"background-color:#f7a98b\">» </span><span title=\"991 1.0000\" style=\"background-color:#f7a98b\">) </span><span title=\"992 1.0000\" style=\"background-color:#f7a98b\">в </span><span title=\"993 1.0000\" style=\"background-color:#f7a98b\">соответствии </span><span title=\"994 1.0000\" style=\"background-color:#f7a98b\">с </span><span title=\"995 1.0000\" style=\"background-color:#f7a98b\">требованиями </span><span title=\"996 1.0000\" style=\"background-color:#f7a98b\">пп </span><span title=\"997 1.0000\" style=\"background-color:#f7a98b\">. </span><span title=\"998 1.0000\" style=\"background-color:#f7a98b\">12 </span><span title=\"999 1.0000\" style=\"background-color:#f7a98b\">пункт </span><span title=\"1000 1.0000\" style=\"background-color:#f7a98b\">11.3. </span><span title=\"1001 1.0000\" style=\"background-color:#f7a98b\">статьи </span><span title=\"1002 1.0000\" style=\"background-color:#f7a98b\">11 </span><span title=\"1003 1.0000\" style=\"background-color:#f7a98b\">Устава </span><span title=\"1004 1.0000\" style=\"background-color:#f7a98b\">ООО </span><span title=\"1005 1.0000\" style=\"background-color:#f7a98b\">« </span><span title=\"1006 1.0000\" style=\"background-color:#f7a98b\">Газпромнефть-Региональные </span><span title=\"1007 1.0000\" style=\"background-color:#f7a98b\">продажи </span><span title=\"1008 1.0000\" style=\"background-color:#f7a98b\">» </span><span title=\"1009 1.0000\" style=\"background-color:#f7a98b\">на </span><span title=\"1010 1.0000\" style=\"background-color:#f7a98b\">следующих </span><span title=\"1011 1.0000\" style=\"background-color:#f7a98b\">основных </span><span title=\"1012 1.0000\" style=\"background-color:#f7a98b\">условиях </span><span title=\"1013 1.0000\" style=\"background-color:#f7a98b\">: </span><span title=\"1014 1.0000\" style=\"background-color:#f7a98b\">\n",
              " </span>¶<br><span title=\"1015 1.0000\" style=\"background-color:#f7a98b\">1 </span><span title=\"1016 1.0000\" style=\"background-color:#f7a98b\">. </span><span title=\"1017 1.0000\" style=\"background-color:#f7a98b\">Стороны </span><span title=\"1018 1.0000\" style=\"background-color:#f7a98b\">Соглашения </span><span title=\"1019 1.0000\" style=\"background-color:#f7a98b\">: </span><span title=\"1020 1.0000\" style=\"background-color:#f7a98b\">\n",
              " </span>¶<br><span title=\"1021 1.0000\" style=\"background-color:#f7a98b\">Гарант </span><span title=\"1022 1.0000\" style=\"background-color:#f7a98b\">– </span><span title=\"1023 1.0000\" style=\"background-color:#f7a98b\">« </span><span title=\"1024 1.0000\" style=\"background-color:#f7a98b\">БАНК </span><span title=\"1025 1.0000\" style=\"background-color:#f7a98b\">» </span><span title=\"1026 1.0000\" style=\"background-color:#f7a98b\">( </span><span title=\"1027 1.0000\" style=\"background-color:#f7a98b\">публичное </span><span title=\"1028 1.0000\" style=\"background-color:#f7a98b\">акционерное </span><span title=\"1029 1.0000\" style=\"background-color:#f7a98b\">общество </span><span title=\"1030 1.0000\" style=\"background-color:#f7a98b\">) </span><span title=\"1031 1.0000\" style=\"background-color:#f7a98b\">, </span><span title=\"1032 1.0000\" style=\"background-color:#f7a98b\">\n",
              " </span>¶<br><span title=\"1033 1.0000\" style=\"background-color:#f7a98b\">Принципал </span><span title=\"1034 1.0000\" style=\"background-color:#f7a98b\">– </span><span title=\"1035 1.0000\" style=\"background-color:#f7a98b\">ООО </span><span title=\"1036 1.0000\" style=\"background-color:#f7a98b\">« </span><span title=\"1037 1.0000\" style=\"background-color:#f7a98b\">Газпромнефть-Региональные </span><span title=\"1038 1.0000\" style=\"background-color:#f7a98b\">продажи </span><span title=\"1039 1.0000\" style=\"background-color:#f7a98b\">» </span><span title=\"1040 1.0000\" style=\"background-color:#f7a98b\">, </span><span title=\"1041 1.0000\" style=\"background-color:#f7a98b\">\n",
              " </span>¶<br><span title=\"1042 1.0000\" style=\"background-color:#f7a98b\">2 </span><span title=\"1043 1.0000\" style=\"background-color:#f7a98b\">. </span><span title=\"1044 1.0000\" style=\"background-color:#f7a98b\">Бенефициар </span><span title=\"1045 1.0000\" style=\"background-color:#f7a98b\">: </span><span title=\"1046 1.0000\" style=\"background-color:#f7a98b\">\n",
              " </span>¶<br><span title=\"1047 1.0000\" style=\"background-color:#f7a98b\">Лицо </span><span title=\"1048 1.0000\" style=\"background-color:#f7a98b\">, </span><span title=\"1049 1.0000\" style=\"background-color:#f7a98b\">в </span><span title=\"1050 1.0000\" style=\"background-color:#f7a98b\">пользу </span><span title=\"1051 1.0000\" style=\"background-color:#f7a98b\">которого </span><span title=\"1052 1.0000\" style=\"background-color:#f7a98b\">Гарант </span><span title=\"1053 1.0000\" style=\"background-color:#f7a98b\">по </span><span title=\"1054 1.0000\" style=\"background-color:#f7a98b\">просьбе </span><span title=\"1055 1.0000\" style=\"background-color:#f7a98b\">Принципала </span><span title=\"1056 1.0000\" style=\"background-color:#f7a98b\">в </span><span title=\"1057 1.0000\" style=\"background-color:#f7a98b\">рамках </span><span title=\"1058 1.0000\" style=\"background-color:#f7a98b\">Соглашения </span><span title=\"1059 1.0000\" style=\"background-color:#f7a98b\">выдает </span><span title=\"1060 1.0000\" style=\"background-color:#f7a98b\">Гарантии </span><span title=\"1061 1.0000\" style=\"background-color:#f7a98b\">, </span><span title=\"1062 1.0000\" style=\"background-color:#f7a98b\">а </span><span title=\"1063 1.0000\" style=\"background-color:#f7a98b\">также </span><span title=\"1064 1.0000\" style=\"background-color:#f7a98b\">любое </span><span title=\"1065 1.0000\" style=\"background-color:#f7a98b\">лицо </span><span title=\"1066 1.0000\" style=\"background-color:#f7a98b\">, </span><span title=\"1067 1.0000\" style=\"background-color:#f7a98b\">которому </span><span title=\"1068 1.0000\" style=\"background-color:#f7a98b\">уступлено </span><span title=\"1069 1.0000\" style=\"background-color:#f7a98b\">право </span><span title=\"1070 1.0000\" style=\"background-color:#f7a98b\">требования </span><span title=\"1071 1.0000\" style=\"background-color:#f7a98b\">к </span><span title=\"1072 1.0000\" style=\"background-color:#f7a98b\">Гаранту </span><span title=\"1073 1.0000\" style=\"background-color:#f7a98b\">по </span><span title=\"1074 1.0000\" style=\"background-color:#f7a98b\">выданным </span><span title=\"1075 1.0000\" style=\"background-color:#f7a98b\">в </span><span title=\"1076 1.0000\" style=\"background-color:#f7a98b\">рамках </span><span title=\"1077 1.0000\" style=\"background-color:#f7a98b\">настоящего </span><span title=\"1078 1.0000\" style=\"background-color:#f7a98b\">Соглашения </span><span title=\"1079 1.0000\" style=\"background-color:#f7a98b\">Гарантиям </span><span title=\"1080 1.0000\" style=\"background-color:#f7a98b\">( </span><span title=\"1081 1.0000\" style=\"background-color:#f7a98b\">если </span><span title=\"1082 1.0000\" style=\"background-color:#f7a98b\">условиями </span><span title=\"1083 1.0000\" style=\"background-color:#f7a98b\">Гарантии </span><span title=\"1084 1.0000\" style=\"background-color:#f7a98b\">допускается </span><span title=\"1085 1.0000\" style=\"background-color:#f7a98b\">уступка </span><span title=\"1086 1.0000\" style=\"background-color:#f7a98b\">права </span><span title=\"1087 1.0000\" style=\"background-color:#f7a98b\">требования </span><span title=\"1088 1.0000\" style=\"background-color:#f7a98b\">к </span><span title=\"1089 1.0000\" style=\"background-color:#f7a98b\">Гаранту </span><span title=\"1090 1.0000\" style=\"background-color:#f7a98b\">) </span><span title=\"1091 1.0000\" style=\"background-color:#f7a98b\">или </span><span title=\"1092 1.0000\" style=\"background-color:#f7a98b\">лицо </span><span title=\"1093 1.0000\" style=\"background-color:#f7a98b\">, </span><span title=\"1094 1.0000\" style=\"background-color:#f7a98b\">к </span><span title=\"1095 1.0000\" style=\"background-color:#f7a98b\">которому </span><span title=\"1096 1.0000\" style=\"background-color:#f7a98b\">в </span><span title=\"1097 1.0000\" style=\"background-color:#f7a98b\">порядке </span><span title=\"1098 1.0000\" style=\"background-color:#f7a98b\">универсального </span><span title=\"1099 1.0000\" style=\"background-color:#f7a98b\">правопреемства </span><span title=\"1100 1.0000\" style=\"background-color:#f7a98b\">перешло </span><span title=\"1101 1.0000\" style=\"background-color:#f7a98b\">право </span><span title=\"1102 1.0000\" style=\"background-color:#f7a98b\">требования </span><span title=\"1103 1.0000\" style=\"background-color:#f7a98b\">к </span><span title=\"1104 1.0000\" style=\"background-color:#f7a98b\">Гаранту </span><span title=\"1105 1.0000\" style=\"background-color:#f7a98b\">по </span><span title=\"1106 1.0000\" style=\"background-color:#f7a98b\">выданным </span><span title=\"1107 1.0000\" style=\"background-color:#f7a98b\">в </span><span title=\"1108 1.0000\" style=\"background-color:#f7a98b\">рамках </span><span title=\"1109 1.0000\" style=\"background-color:#f7a98b\">настоящего </span><span title=\"1110 1.0000\" style=\"background-color:#f7a98b\">Соглашения </span><span title=\"1111 1.0000\" style=\"background-color:#f7a98b\">Гарантиям </span><span title=\"1112 1.0000\" style=\"background-color:#f7a98b\">. </span><span title=\"1113 1.0000\" style=\"background-color:#f7a98b\">\n",
              " </span>¶<br><span title=\"1114 1.0000\" style=\"background-color:#f7a98b\">3 </span><span title=\"1115 1.0000\" style=\"background-color:#f7a98b\">. </span><span title=\"1116 1.0000\" style=\"background-color:#f7a98b\">Цель </span><span title=\"1117 1.0000\" style=\"background-color:#f7a98b\">заключения </span><span title=\"1118 1.0000\" style=\"background-color:#f7a98b\">Соглашения </span><span title=\"1119 1.0000\" style=\"background-color:#f7a98b\">: </span><span title=\"1120 1.0000\" style=\"background-color:#f7a98b\">обеспечение </span><span title=\"1121 1.0000\" style=\"background-color:#f7a98b\">исполнения </span><span title=\"1122 1.0000\" style=\"background-color:#f7a98b\">обязательств </span><span title=\"1123 1.0000\" style=\"background-color:#f7a98b\">Принципала </span><span title=\"1124 1.0000\" style=\"background-color:#f7a98b\">по </span><span title=\"1125 1.0000\" style=\"background-color:#f7a98b\">следующим </span><span title=\"1126 1.0000\" style=\"background-color:#f7a98b\">обязательствам </span><span title=\"1127 1.0000\" style=\"background-color:#f7a98b\">: </span><span title=\"1128 1.0000\" style=\"background-color:#f7a98b\">\n",
              " </span>¶<br><span title=\"1129 1.0000\" style=\"background-color:#f7a98b\">3.1. </span><span title=\"1130 1.0000\" style=\"background-color:#f7a98b\">обеспечение </span><span title=\"1131 1.0000\" style=\"background-color:#f7a98b\">заявки </span><span title=\"1132 1.0000\" style=\"background-color:#f7a98b\">на </span><span title=\"1133 1.0000\" style=\"background-color:#f7a98b\">участие </span><span title=\"1134 1.0000\" style=\"background-color:#f7a98b\">в </span><span title=\"1135 1.0000\" style=\"background-color:#f7a98b\">конкурсе </span><span title=\"1136 1.0000\" style=\"background-color:#f7a98b\">/ </span><span title=\"1137 1.0000\" style=\"background-color:#f7a98b\">аукционе </span><span title=\"1138 1.0000\" style=\"background-color:#f7a98b\">; </span><span title=\"1139 1.0000\" style=\"background-color:#f7a98b\">\n",
              " </span>¶<br><span title=\"1140 1.0000\" style=\"background-color:#f7a98b\">3.2. </span><span title=\"1141 1.0000\" style=\"background-color:#f7a98b\">обеспечительная </span><span title=\"1142 1.0000\" style=\"background-color:#f7a98b\">мера </span><span title=\"1143 1.0000\" style=\"background-color:#f7a98b\">по </span><span title=\"1144 1.0000\" style=\"background-color:#f7a98b\">исполнению </span><span title=\"1145 1.0000\" style=\"background-color:#f7a98b\">решений </span><span title=\"1146 1.0000\" style=\"background-color:#f7a98b\">( </span><span title=\"1147 1.0000\" style=\"background-color:#f7a98b\">определений </span><span title=\"1148 1.0000\" style=\"background-color:#f7a98b\">) </span><span title=\"1149 1.0000\" style=\"background-color:#f7a98b\">судов </span><span title=\"1150 1.0000\" style=\"background-color:#f7a98b\">, </span><span title=\"1151 1.0000\" style=\"background-color:#f7a98b\">исков </span><span title=\"1152 1.0000\" style=\"background-color:#f7a98b\">в </span><span title=\"1153 1.0000\" style=\"background-color:#f7a98b\">соответствии </span><span title=\"1154 1.0000\" style=\"background-color:#f7a98b\">с </span><span title=\"1155 1.0000\" style=\"background-color:#f7a98b\">процессуальным </span><span title=\"1156 1.0000\" style=\"background-color:#f7a98b\">законодательством </span><span title=\"1157 1.0000\" style=\"background-color:#f7a98b\">РФ </span><span title=\"1158 1.0000\" style=\"background-color:#f7a98b\">; </span><span title=\"1159 1.0000\" style=\"background-color:#f7a98b\">\n",
              " </span>¶<br><span title=\"1160 1.0000\" style=\"background-color:#f7a98b\">3.3. </span><span title=\"1161 1.0000\" style=\"background-color:#f7a98b\">обязательств </span><span title=\"1162 1.0000\" style=\"background-color:#f7a98b\">Принципала </span><span title=\"1163 1.0000\" style=\"background-color:#f7a98b\">из </span><span title=\"1164 1.0000\" style=\"background-color:#f7a98b\">Контрактов </span><span title=\"1165 1.0000\" style=\"background-color:#f7a98b\">: </span><span title=\"1166 1.0000\" style=\"background-color:#f7a98b\">\n",
              " </span>¶<br><span title=\"1167 1.0000\" style=\"background-color:#f7a98b\">3.3.1. </span><span title=\"1168 1.0000\" style=\"background-color:#f7a98b\">обязательств </span><span title=\"1169 1.0000\" style=\"background-color:#f7a98b\">надлежащего </span><span title=\"1170 1.0000\" style=\"background-color:#f7a98b\">исполнения </span><span title=\"1171 1.0000\" style=\"background-color:#f7a98b\">контракта </span><span title=\"1172 1.0000\" style=\"background-color:#f7a98b\">и </span><span title=\"1173 1.0000\" style=\"background-color:#f7a98b\">государственного </span><span title=\"1174 1.0000\" style=\"background-color:#f7a98b\">контракта </span><span title=\"1175 1.0000\" style=\"background-color:#f7a98b\">( </span><span title=\"1176 1.0000\" style=\"background-color:#f7a98b\">в </span><span title=\"1177 1.0000\" style=\"background-color:#f7a98b\">том </span><span title=\"1178 1.0000\" style=\"background-color:#f7a98b\">числе </span><span title=\"1179 1.0000\" style=\"background-color:#f7a98b\">в </span><span title=\"1180 1.0000\" style=\"background-color:#f7a98b\">рамках </span><span title=\"1181 1.0000\" style=\"background-color:#f7a98b\">Закона </span><span title=\"1182 1.0000\" style=\"background-color:#f7a98b\">от </span><span title=\"1183 1.0000\" style=\"background-color:#f7a98b\">05-04-2013 </span><span title=\"1184 1.0000\" style=\"background-color:#f7a98b\">№ </span><span title=\"1185 1.0000\" style=\"background-color:#f7a98b\">44-ФЗ </span><span title=\"1186 1.0000\" style=\"background-color:#f7a98b\">и </span><span title=\"1187 1.0000\" style=\"background-color:#f7a98b\">государственного </span><span title=\"1188 1.0000\" style=\"background-color:#f7a98b\">контракта </span><span title=\"1189 1.0000\" style=\"background-color:#f7a98b\">( </span><span title=\"1190 1.0000\" style=\"background-color:#f7a98b\">оборонный </span><span title=\"1191 1.0000\" style=\"background-color:#f7a98b\">заказ </span><span title=\"1192 1.0000\" style=\"background-color:#f7a98b\">) </span><span title=\"1193 1.0000\" style=\"background-color:#f7a98b\">) </span><span title=\"1194 1.0000\" style=\"background-color:#f7a98b\">; </span><span title=\"1195 1.0000\" style=\"background-color:#f7a98b\">\n",
              " </span>¶<br><span title=\"1196 1.0000\" style=\"background-color:#f7a98b\">3.3.2. </span><span title=\"1197 1.0000\" style=\"background-color:#f7a98b\">обязательств </span><span title=\"1198 1.0000\" style=\"background-color:#f7a98b\">в </span><span title=\"1199 1.0000\" style=\"background-color:#f7a98b\">гарантийный </span><span title=\"1200 1.0000\" style=\"background-color:#f7a98b\">период </span><span title=\"1201 1.0000\" style=\"background-color:#f7a98b\">( </span><span title=\"1202 1.0000\" style=\"background-color:#f7a98b\">в </span><span title=\"1203 1.0000\" style=\"background-color:#f7a98b\">том </span><span title=\"1204 1.0000\" style=\"background-color:#f7a98b\">числе </span><span title=\"1205 1.0000\" style=\"background-color:#f7a98b\">в </span><span title=\"1206 1.0000\" style=\"background-color:#f7a98b\">рамках </span><span title=\"1207 1.0000\" style=\"background-color:#f7a98b\">Закона </span><span title=\"1208 1.0000\" style=\"background-color:#f7a98b\">от </span><span title=\"1209 1.0000\" style=\"background-color:#f7a98b\">05-04-2013 </span><span title=\"1210 1.0000\" style=\"background-color:#f7a98b\">№ </span><span title=\"1211 1.0000\" style=\"background-color:#f7a98b\">44-ФЗ </span><span title=\"1212 1.0000\" style=\"background-color:#f7a98b\">) </span><span title=\"1213 1.0000\" style=\"background-color:#f7a98b\">; </span><span title=\"1214 1.0000\" style=\"background-color:#f7a98b\">\n",
              " </span>¶<br><span title=\"1215 1.0000\" style=\"background-color:#f7a98b\">3.3.3. </span><span title=\"1216 1.0000\" style=\"background-color:#f7a98b\">обязательств </span><span title=\"1217 1.0000\" style=\"background-color:#f7a98b\">по </span><span title=\"1218 1.0000\" style=\"background-color:#f7a98b\">возврату </span><span title=\"1219 1.0000\" style=\"background-color:#f7a98b\">авансовых </span><span title=\"1220 1.0000\" style=\"background-color:#f7a98b\">платежей </span><span title=\"1221 1.0000\" style=\"background-color:#f7a98b\">( </span><span title=\"1222 1.0000\" style=\"background-color:#f7a98b\">в </span><span title=\"1223 1.0000\" style=\"background-color:#f7a98b\">том </span><span title=\"1224 1.0000\" style=\"background-color:#f7a98b\">числе </span><span title=\"1225 1.0000\" style=\"background-color:#f7a98b\">в </span><span title=\"1226 1.0000\" style=\"background-color:#f7a98b\">рамках </span><span title=\"1227 1.0000\" style=\"background-color:#f7a98b\">Закона </span><span title=\"1228 1.0000\" style=\"background-color:#f7a98b\">от </span><span title=\"1229 1.0000\" style=\"background-color:#f7a98b\">05-04-2013 </span><span title=\"1230 1.0000\" style=\"background-color:#f7a98b\">№ </span><span title=\"1231 1.0000\" style=\"background-color:#f7a98b\">44-ФЗ </span><span title=\"1232 1.0000\" style=\"background-color:#f7a98b\">) </span><span title=\"1233 1.0000\" style=\"background-color:#f7a98b\">; </span><span title=\"1234 1.0000\" style=\"background-color:#f7a98b\">\n",
              " </span>¶<br><span title=\"1235 1.0000\" style=\"background-color:#f7a98b\">3.3.4. </span><span title=\"1236 1.0000\" style=\"background-color:#f7a98b\">обязательств </span><span title=\"1237 1.0000\" style=\"background-color:#f7a98b\">по </span><span title=\"1238 1.0000\" style=\"background-color:#f7a98b\">добровольному </span><span title=\"1239 1.0000\" style=\"background-color:#f7a98b\">или </span><span title=\"1240 1.0000\" style=\"background-color:#f7a98b\">обязательному </span><span title=\"1241 1.0000\" style=\"background-color:#f7a98b\">предложению </span><span title=\"1242 1.0000\" style=\"background-color:#f7a98b\">выкупа </span><span title=\"1243 1.0000\" style=\"background-color:#f7a98b\">акций </span><span title=\"1244 1.0000\" style=\"background-color:#f7a98b\">; </span><span title=\"1245 1.0000\" style=\"background-color:#f7a98b\">\n",
              " </span>¶<br><span title=\"1246 1.0000\" style=\"background-color:#f7a98b\">3.3.5. </span><span title=\"1247 1.0000\" style=\"background-color:#f7a98b\">обязательств </span><span title=\"1248 1.0000\" style=\"background-color:#f7a98b\">по </span><span title=\"1249 1.0000\" style=\"background-color:#f7a98b\">гарантиям </span><span title=\"1250 1.0000\" style=\"background-color:#f7a98b\">, </span><span title=\"1251 1.0000\" style=\"background-color:#f7a98b\">предоставленным </span><span title=\"1252 1.0000\" style=\"background-color:#f7a98b\">в </span><span title=\"1253 1.0000\" style=\"background-color:#f7a98b\">адрес </span><span title=\"1254 1.0000\" style=\"background-color:#f7a98b\">третьих </span><span title=\"1255 1.0000\" style=\"background-color:#f7a98b\">лиц </span><span title=\"1256 1.0000\" style=\"background-color:#f7a98b\">; </span><span title=\"1257 1.0000\" style=\"background-color:#f7a98b\">\n",
              " </span>¶<br><span title=\"1258 1.0000\" style=\"background-color:#f7a98b\">3.4. </span><span title=\"1259 1.0000\" style=\"background-color:#f7a98b\">обязательств </span><span title=\"1260 1.0000\" style=\"background-color:#f7a98b\">перед </span><span title=\"1261 1.0000\" style=\"background-color:#f7a98b\">таможенными </span><span title=\"1262 1.0000\" style=\"background-color:#f7a98b\">органами </span><span title=\"1263 1.0000\" style=\"background-color:#f7a98b\">: </span><span title=\"1264 1.0000\" style=\"background-color:#f7a98b\">\n",
              " </span>¶<br><span title=\"1265 1.0000\" style=\"background-color:#f7a98b\">3.4.1. </span><span title=\"1266 1.0000\" style=\"background-color:#f7a98b\">по </span><span title=\"1267 1.0000\" style=\"background-color:#f7a98b\">уплате </span><span title=\"1268 1.0000\" style=\"background-color:#f7a98b\">сумм </span><span title=\"1269 1.0000\" style=\"background-color:#f7a98b\">таможенных </span><span title=\"1270 1.0000\" style=\"background-color:#f7a98b\">платежей </span><span title=\"1271 1.0000\" style=\"background-color:#f7a98b\">и </span><span title=\"1272 1.0000\" style=\"background-color:#f7a98b\">возможных </span><span title=\"1273 1.0000\" style=\"background-color:#f7a98b\">процентов </span><span title=\"1274 1.0000\" style=\"background-color:#f7a98b\">и </span><span title=\"1275 1.0000\" style=\"background-color:#f7a98b\">пеней </span><span title=\"1276 1.0000\" style=\"background-color:#f7a98b\">; </span><span title=\"1277 1.0000\" style=\"background-color:#f7a98b\">\n",
              " </span>¶<br><span title=\"1278 1.0000\" style=\"background-color:#f7a98b\">перед </span><span title=\"1279 1.0000\" style=\"background-color:#f7a98b\">налоговыми </span><span title=\"1280 1.0000\" style=\"background-color:#f7a98b\">органами </span><span title=\"1281 1.0000\" style=\"background-color:#f7a98b\">: </span><span title=\"1282 1.0000\" style=\"background-color:#f7a98b\">\n",
              " </span>¶<br><span title=\"1283 1.0000\" style=\"background-color:#f7a98b\">3.4.2. </span><span title=\"1284 1.0000\" style=\"background-color:#f7a98b\">обеспечение </span><span title=\"1285 1.0000\" style=\"background-color:#f7a98b\">обязательств </span><span title=\"1286 1.0000\" style=\"background-color:#f7a98b\">перед </span><span title=\"1287 1.0000\" style=\"background-color:#f7a98b\">налоговыми </span><span title=\"1288 1.0000\" style=\"background-color:#f7a98b\">органами </span><span title=\"1289 1.0000\" style=\"background-color:#f7a98b\">по </span><span title=\"1290 1.0000\" style=\"background-color:#f7a98b\">уплате </span><span title=\"1291 1.0000\" style=\"background-color:#f7a98b\">в </span><span title=\"1292 1.0000\" style=\"background-color:#f7a98b\">бюджет </span><span title=\"1293 1.0000\" style=\"background-color:#f7a98b\">суммы </span><span title=\"1294 1.0000\" style=\"background-color:#f7a98b\">налога </span><span title=\"1295 1.0000\" style=\"background-color:#f7a98b\">, </span><span title=\"1296 1.0000\" style=\"background-color:#f7a98b\">по </span><span title=\"1297 1.0000\" style=\"background-color:#f7a98b\">уплате </span><span title=\"1298 1.0000\" style=\"background-color:#f7a98b\">акциза </span><span title=\"1299 1.0000\" style=\"background-color:#f7a98b\">по </span><span title=\"1300 1.0000\" style=\"background-color:#f7a98b\">подакцизным </span><span title=\"1301 1.0000\" style=\"background-color:#f7a98b\">товарам </span><span title=\"1302 1.0000\" style=\"background-color:#f7a98b\">, </span><span title=\"1303 1.0000\" style=\"background-color:#f7a98b\">в </span><span title=\"1304 1.0000\" style=\"background-color:#f7a98b\">целях </span><span title=\"1305 1.0000\" style=\"background-color:#f7a98b\">освобождения </span><span title=\"1306 1.0000\" style=\"background-color:#f7a98b\">уплаты </span><span title=\"1307 1.0000\" style=\"background-color:#f7a98b\">авансового </span><span title=\"1308 1.0000\" style=\"background-color:#f7a98b\">платежа </span><span title=\"1309 1.0000\" style=\"background-color:#f7a98b\">акциза </span><span title=\"1310 1.0000\" style=\"background-color:#f7a98b\">; </span><span title=\"1311 1.0000\" style=\"background-color:#f7a98b\">\n",
              " </span>¶<br><span title=\"1312 1.0000\" style=\"background-color:#f7a98b\">3.4.3. </span><span title=\"1313 1.0000\" style=\"background-color:#f7a98b\">по </span><span title=\"1314 1.0000\" style=\"background-color:#f7a98b\">возмещению </span><span title=\"1315 1.0000\" style=\"background-color:#f7a98b\">НДС </span><span title=\"1316 1.0000\" style=\"background-color:#f7a98b\">. </span><span title=\"1317 1.0000\" style=\"background-color:#f7a98b\">\n",
              " </span>¶<br><span title=\"1318 1.0000\" style=\"background-color:#f7a98b\">4 </span><span title=\"1319 1.0000\" style=\"background-color:#f7a98b\">. </span><span title=\"1320 1.0000\" style=\"background-color:#f7a98b\">Период </span><span title=\"1321 1.0000\" style=\"background-color:#f7a98b\">выдачи </span><span title=\"1322 1.0000\" style=\"background-color:#f7a98b\">банковских </span><span title=\"1323 1.0000\" style=\"background-color:#f7a98b\">гарантий </span><span title=\"1324 1.0000\" style=\"background-color:#f7a98b\">в </span><span title=\"1325 1.0000\" style=\"background-color:#f7a98b\">рамках </span><span title=\"1326 1.0000\" style=\"background-color:#f7a98b\">Соглашения </span><span title=\"1327 1.0000\" style=\"background-color:#f7a98b\">– </span><span title=\"1328 1.0000\" style=\"background-color:#f7a98b\">с </span><span title=\"1329 1.0000\" style=\"background-color:#f7a98b\">даты </span><span title=\"1330 1.0000\" style=\"background-color:#f7a98b\">подписания </span><span title=\"1331 1.0000\" style=\"background-color:#f7a98b\">Соглашения </span><span title=\"1332 1.0000\" style=\"background-color:#f7a98b\">по </span><span title=\"1333 1.0000\" style=\"background-color:#f7a98b\">17 </span><span title=\"1334 1.0000\" style=\"background-color:#f7a98b\">июня </span><span title=\"1335 1.0000\" style=\"background-color:#f7a98b\">2019 </span><span title=\"1336 1.0000\" style=\"background-color:#f7a98b\">года </span><span title=\"1337 1.0000\" style=\"background-color:#f7a98b\">включительно </span><span title=\"1338 1.0000\" style=\"background-color:#f7a98b\">с </span><span title=\"1339 1.0000\" style=\"background-color:#f7a98b\">возможностью </span><span title=\"1340 1.0000\" style=\"background-color:#f7a98b\">пролонгации </span><span title=\"1341 1.0000\" style=\"background-color:#f7a98b\">без </span><span title=\"1342 1.0000\" style=\"background-color:#f7a98b\">заключения </span><span title=\"1343 1.0000\" style=\"background-color:#f7a98b\">дополнительных </span><span title=\"1344 1.0000\" style=\"background-color:#f7a98b\">соглашений </span><span title=\"1345 1.0000\" style=\"background-color:#f7a98b\">, </span><span title=\"1346 1.0000\" style=\"background-color:#f7a98b\">путем </span><span title=\"1347 1.0000\" style=\"background-color:#f7a98b\">направления </span><span title=\"1348 1.0000\" style=\"background-color:#f7a98b\">Гарантом </span><span title=\"1349 1.0000\" style=\"background-color:#f7a98b\">Принципалу </span><span title=\"1350 1.0000\" style=\"background-color:#f7a98b\">соответствующего </span><span title=\"1351 1.0000\" style=\"background-color:#f7a98b\">письменного </span><span title=\"1352 1.0000\" style=\"background-color:#f7a98b\">уведомления </span><span title=\"1353 1.0000\" style=\"background-color:#f7a98b\">не </span><span title=\"1354 1.0000\" style=\"background-color:#f7a98b\">позднее </span><span title=\"1355 1.0000\" style=\"background-color:#f7a98b\">чем </span><span title=\"1356 1.0000\" style=\"background-color:#f7a98b\">за </span><span title=\"1357 1.0000\" style=\"background-color:#f7a98b\">14 </span><span title=\"1358 1.0000\" style=\"background-color:#f7a98b\">календарных </span><span title=\"1359 1.0000\" style=\"background-color:#f7a98b\">дней </span><span title=\"1360 1.0000\" style=\"background-color:#f7a98b\">до </span><span title=\"1361 1.0000\" style=\"background-color:#f7a98b\">даты </span><span title=\"1362 1.0000\" style=\"background-color:#f7a98b\">окончания </span><span title=\"1363 1.0000\" style=\"background-color:#f7a98b\">периода </span><span title=\"1364 1.0000\" style=\"background-color:#f7a98b\">выдачи </span><span title=\"1365 1.0000\" style=\"background-color:#f7a98b\">. </span><span title=\"1366 1.0000\" style=\"background-color:#f7a98b\">\n",
              " </span>¶<br><span title=\"1367 1.0000\" style=\"background-color:#f7a98b\">5 </span><span title=\"1368 1.0000\" style=\"background-color:#f7a98b\">. </span><span title=\"1369 1.0000\" style=\"background-color:#f7a98b\">Срок </span><span title=\"1370 1.0000\" style=\"background-color:#f7a98b\">действия </span><span title=\"1371 1.0000\" style=\"background-color:#f7a98b\">каждой </span><span title=\"1372 1.0000\" style=\"background-color:#f7a98b\">Гарантии </span><span title=\"1373 1.0000\" style=\"background-color:#f7a98b\">не </span><span title=\"1374 1.0000\" style=\"background-color:#f7a98b\">более </span><span title=\"1375 1.0000\" style=\"background-color:#f7a98b\">18 </span><span title=\"1376 1.0000\" style=\"background-color:#f7a98b\">( </span><span title=\"1377 1.0000\" style=\"background-color:#f7a98b\">Восемнадцать </span><span title=\"1378 1.0000\" style=\"background-color:#f7a98b\">) </span><span title=\"1379 1.0000\" style=\"background-color:#f7a98b\">месяцев </span><span title=\"1380 1.0000\" style=\"background-color:#f7a98b\">. </span><span title=\"1381 1.0000\" style=\"background-color:#f7a98b\">\n",
              " </span>¶<br><span title=\"1382 1.0000\" style=\"background-color:#f7a98b\">6 </span><span title=\"1383 1.0000\" style=\"background-color:#f7a98b\">. </span><span title=\"1384 1.0000\" style=\"background-color:#f7a98b\">Лимит </span><span title=\"1385 1.0000\" style=\"background-color:#f7a98b\">Соглашения </span><span title=\"1386 1.0000\" style=\"background-color:#f7a98b\">: </span><span title=\"1387 1.0010\" style=\"background-color:#f7a98b\">75000000,00 </span><span title=\"1388 1.0005\" style=\"background-color:#f7a98b\">( </span><span title=\"1389 1.0005\" style=\"background-color:#f7a98b\">Семьдесят </span><span title=\"1390 1.0005\" style=\"background-color:#f7a98b\">пять </span><span title=\"1391 1.0005\" style=\"background-color:#f7a98b\">миллионов </span><span title=\"1392 1.0005\" style=\"background-color:#f7a98b\">) </span><span title=\"1393 1.0010\" style=\"background-color:#f7a98b\">рублей </span><span title=\"1394 1.0005\" style=\"background-color:#f7a98b\">00 </span><span title=\"1395 1.0005\" style=\"background-color:#f7a98b\">копеек </span><span title=\"1396 1.0000\" style=\"background-color:#f7a98b\">. </span><span title=\"1397 1.0000\" style=\"background-color:#f7a98b\">Совокупный </span><span title=\"1398 1.0000\" style=\"background-color:#f7a98b\">долг </span><span title=\"1399 1.0000\" style=\"background-color:#f7a98b\">по </span><span title=\"1400 1.0000\" style=\"background-color:#f7a98b\">всем </span><span title=\"1401 1.0000\" style=\"background-color:#f7a98b\">выданным </span><span title=\"1402 1.0000\" style=\"background-color:#f7a98b\">и </span><span title=\"1403 1.0000\" style=\"background-color:#f7a98b\">не </span><span title=\"1404 1.0000\" style=\"background-color:#f7a98b\">прекратившимся </span><span title=\"1405 1.0000\" style=\"background-color:#f7a98b\">, </span><span title=\"1406 1.0000\" style=\"background-color:#f7a98b\">в </span><span title=\"1407 1.0000\" style=\"background-color:#f7a98b\">том </span><span title=\"1408 1.0000\" style=\"background-color:#f7a98b\">числе </span><span title=\"1409 1.0000\" style=\"background-color:#f7a98b\">не </span><span title=\"1410 1.0000\" style=\"background-color:#f7a98b\">вступившим </span><span title=\"1411 1.0000\" style=\"background-color:#f7a98b\">в </span><span title=\"1412 1.0000\" style=\"background-color:#f7a98b\">силу </span><span title=\"1413 1.0000\" style=\"background-color:#f7a98b\">, </span><span title=\"1414 1.0000\" style=\"background-color:#f7a98b\">Гарантиям </span><span title=\"1415 1.0000\" style=\"background-color:#f7a98b\">в </span><span title=\"1416 1.0000\" style=\"background-color:#f7a98b\">рамках </span><span title=\"1417 1.0000\" style=\"background-color:#f7a98b\">Соглашения </span><span title=\"1418 1.0000\" style=\"background-color:#f7a98b\">, </span><span title=\"1419 1.0000\" style=\"background-color:#f7a98b\">не </span><span title=\"1420 1.0000\" style=\"background-color:#f7a98b\">должен </span><span title=\"1421 1.0005\" style=\"background-color:#f7a98b\">превышать </span><span title=\"1422 1.0010\" style=\"background-color:#f7a98b\">75000000,00 </span><span title=\"1423 1.0005\" style=\"background-color:#f7a98b\">( </span><span title=\"1424 1.0005\" style=\"background-color:#f7a98b\">Семьдесят </span><span title=\"1425 1.0005\" style=\"background-color:#f7a98b\">пять </span><span title=\"1426 1.0005\" style=\"background-color:#f7a98b\">миллиардов </span><span title=\"1427 1.0005\" style=\"background-color:#f7a98b\">) </span><span title=\"1428 1.0010\" style=\"background-color:#f7a98b\">рублей </span><span title=\"1429 1.0005\" style=\"background-color:#f7a98b\">00 </span><span title=\"1430 1.0005\" style=\"background-color:#f7a98b\">копеек </span><span title=\"1431 1.0000\" style=\"background-color:#f7a98b\">, </span><span title=\"1432 1.0000\" style=\"background-color:#f7a98b\">по </span><span title=\"1433 1.0000\" style=\"background-color:#f7a98b\">состоянию </span><span title=\"1434 1.0000\" style=\"background-color:#f7a98b\">на </span><span title=\"1435 1.0000\" style=\"background-color:#f7a98b\">день </span><span title=\"1436 1.0000\" style=\"background-color:#f7a98b\">выдачи </span><span title=\"1437 1.0000\" style=\"background-color:#f7a98b\">каждой </span><span title=\"1438 1.0000\" style=\"background-color:#f7a98b\">Гарантии </span><span title=\"1439 1.0000\" style=\"background-color:#f7a98b\">. </span><span title=\"1440 1.0000\" style=\"background-color:#f7a98b\">Для </span><span title=\"1441 1.0000\" style=\"background-color:#f7a98b\">целей </span><span title=\"1442 1.0000\" style=\"background-color:#f7a98b\">определения </span><span title=\"1443 1.0000\" style=\"background-color:#f7a98b\">лимита </span><span title=\"1444 1.0000\" style=\"background-color:#f7a98b\">, </span><span title=\"1445 1.0000\" style=\"background-color:#f7a98b\">совокупный </span><span title=\"1446 1.0000\" style=\"background-color:#f7a98b\">долг </span><span title=\"1447 1.0000\" style=\"background-color:#f7a98b\">по </span><span title=\"1448 1.0000\" style=\"background-color:#f7a98b\">Гарантиям </span><span title=\"1449 1.0000\" style=\"background-color:#f7a98b\">, </span><span title=\"1450 1.0000\" style=\"background-color:#f7a98b\">выданным </span><span title=\"1451 1.0000\" style=\"background-color:#f7a98b\">в </span><span title=\"1452 1.0000\" style=\"background-color:#f7a98b\">долларах </span><span title=\"1453 1.0000\" style=\"background-color:#f7a98b\">США </span><span title=\"1454 1.0000\" style=\"background-color:#f7a98b\">, </span><span title=\"1455 1.0000\" style=\"background-color:#f7a98b\">рассчитывается </span><span title=\"1456 1.0000\" style=\"background-color:#f7a98b\">в </span><span title=\"1457 1.0000\" style=\"background-color:#f7a98b\">российских </span><span title=\"1458 1.0000\" style=\"background-color:#f7a98b\">рублях </span><span title=\"1459 1.0000\" style=\"background-color:#f7a98b\">по </span><span title=\"1460 1.0000\" style=\"background-color:#f7a98b\">курсу </span><span title=\"1461 1.0000\" style=\"background-color:#f7a98b\">Банка </span><span title=\"1462 1.0000\" style=\"background-color:#f7a98b\">России </span><span title=\"1463 1.0000\" style=\"background-color:#f7a98b\">на </span><span title=\"1464 1.0000\" style=\"background-color:#f7a98b\">дату </span><span title=\"1465 1.0000\" style=\"background-color:#f7a98b\">расчета </span><span title=\"1466 1.0000\" style=\"background-color:#f7a98b\">. </span><span title=\"1467 1.0000\" style=\"background-color:#f7a98b\">\n",
              " </span>¶<br><span title=\"1468 1.0000\" style=\"background-color:#f7a98b\">7 </span><span title=\"1469 1.0000\" style=\"background-color:#f7a98b\">. </span><span title=\"1470 1.0000\" style=\"background-color:#f7a98b\">Вознаграждение </span><span title=\"1471 1.0000\" style=\"background-color:#f7a98b\">Гаранта </span><span title=\"1472 1.0000\" style=\"background-color:#f7a98b\">: </span><span title=\"1473 1.0000\" style=\"background-color:#f7a98b\">указывается </span><span title=\"1474 1.0000\" style=\"background-color:#f7a98b\">в </span><span title=\"1475 1.0000\" style=\"background-color:#f7a98b\">Заявлении </span><span title=\"1476 1.0000\" style=\"background-color:#f7a98b\">, </span><span title=\"1477 1.0000\" style=\"background-color:#f7a98b\">но </span><span title=\"1478 1.0000\" style=\"background-color:#f7a98b\">не </span><span title=\"1479 1.0000\" style=\"background-color:#f7a98b\">более </span><span title=\"1480 1.0000\" style=\"background-color:#f7a98b\">5,0 </span><span title=\"1481 1.0000\" style=\"background-color:#f7a98b\">% </span><span title=\"1482 1.0000\" style=\"background-color:#f7a98b\">( </span><span title=\"1483 1.0000\" style=\"background-color:#f7a98b\">пяти </span><span title=\"1484 1.0000\" style=\"background-color:#f7a98b\">) </span><span title=\"1485 1.0000\" style=\"background-color:#f7a98b\">процентов </span><span title=\"1486 1.0000\" style=\"background-color:#f7a98b\">годовых </span><span title=\"1487 1.0000\" style=\"background-color:#f7a98b\">от </span><span title=\"1488 1.0000\" style=\"background-color:#f7a98b\">суммы </span><span title=\"1489 1.0000\" style=\"background-color:#f7a98b\">каждой </span><span title=\"1490 1.0000\" style=\"background-color:#f7a98b\">Гарантии </span><span title=\"1491 1.0000\" style=\"background-color:#f7a98b\">. </span><span title=\"1492 1.0000\" style=\"background-color:#f7a98b\">\n",
              " </span>¶<br><span title=\"1493 1.0000\" style=\"background-color:#f7a98b\">8 </span><span title=\"1494 1.0000\" style=\"background-color:#f7a98b\">. </span><span title=\"1495 1.0000\" style=\"background-color:#f7a98b\">В </span><span title=\"1496 1.0000\" style=\"background-color:#f7a98b\">части </span><span title=\"1497 1.0000\" style=\"background-color:#f7a98b\">порядка </span><span title=\"1498 1.0000\" style=\"background-color:#f7a98b\">предоставления </span><span title=\"1499 1.0000\" style=\"background-color:#f7a98b\">гарантий </span><span title=\"1500 1.0000\" style=\"background-color:#f7a98b\">: </span><span title=\"1501 1.0000\" style=\"background-color:#f7a98b\">\n",
              " </span>¶<br><span title=\"1502 1.0000\" style=\"background-color:#f7a98b\">Принципал </span><span title=\"1503 1.0000\" style=\"background-color:#f7a98b\">предоставляет </span><span title=\"1504 1.0000\" style=\"background-color:#f7a98b\">Гаранту </span><span title=\"1505 1.0000\" style=\"background-color:#f7a98b\">Заявление </span><span title=\"1506 1.0000\" style=\"background-color:#f7a98b\">на </span><span title=\"1507 1.0000\" style=\"background-color:#f7a98b\">выдачу </span><span title=\"1508 1.0000\" style=\"background-color:#f7a98b\">гарантии </span><span title=\"1509 1.0000\" style=\"background-color:#f7a98b\">в </span><span title=\"1510 1.0000\" style=\"background-color:#f7a98b\">Период </span><span title=\"1511 1.0000\" style=\"background-color:#f7a98b\">предоставления </span><span title=\"1512 1.0000\" style=\"background-color:#f7a98b\">Гарантий </span><span title=\"1513 1.0000\" style=\"background-color:#f7a98b\">, </span><span title=\"1514 1.0000\" style=\"background-color:#f7a98b\">но </span><span title=\"1515 1.0000\" style=\"background-color:#f7a98b\">не </span><span title=\"1516 1.0000\" style=\"background-color:#f7a98b\">позднее </span><span title=\"1517 1.0000\" style=\"background-color:#f7a98b\">чем </span><span title=\"1518 1.0000\" style=\"background-color:#f7a98b\">за </span><span title=\"1519 1.0000\" style=\"background-color:#f7a98b\">5 </span><span title=\"1520 1.0000\" style=\"background-color:#f7a98b\">( </span><span title=\"1521 1.0000\" style=\"background-color:#f7a98b\">Пять </span><span title=\"1522 1.0000\" style=\"background-color:#f7a98b\">) </span><span title=\"1523 1.0000\" style=\"background-color:#f7a98b\">рабочих </span><span title=\"1524 1.0000\" style=\"background-color:#f7a98b\">дней </span><span title=\"1525 1.0000\" style=\"background-color:#f7a98b\">до </span><span title=\"1526 1.0000\" style=\"background-color:#f7a98b\">предполагаемой </span><span title=\"1527 1.0000\" style=\"background-color:#f7a98b\">даты </span><span title=\"1528 1.0000\" style=\"background-color:#f7a98b\">выдачи </span><span title=\"1529 1.0000\" style=\"background-color:#f7a98b\">Гарантии </span><span title=\"1530 1.0000\" style=\"background-color:#f7a98b\">. </span><span title=\"1531 1.0000\" style=\"background-color:#f7a98b\">\n",
              " </span>¶<br><span title=\"1532 1.0000\" style=\"background-color:#f7a98b\">9 </span><span title=\"1533 1.0000\" style=\"background-color:#f7a98b\">. </span><span title=\"1534 1.0000\" style=\"background-color:#f7a98b\">В </span><span title=\"1535 1.0000\" style=\"background-color:#f7a98b\">части </span><span title=\"1536 1.0000\" style=\"background-color:#f7a98b\">платежей </span><span title=\"1537 1.0000\" style=\"background-color:#f7a98b\">и </span><span title=\"1538 1.0000\" style=\"background-color:#f7a98b\">порядка </span><span title=\"1539 1.0000\" style=\"background-color:#f7a98b\">их </span><span title=\"1540 1.0000\" style=\"background-color:#f7a98b\">уплаты </span><span title=\"1541 1.0000\" style=\"background-color:#f7a98b\">: </span><span title=\"1542 1.0000\" style=\"background-color:#f7a98b\">\n",
              " </span>¶<br><span title=\"1543 1.0000\" style=\"background-color:#f7a98b\">Принципал </span><span title=\"1544 1.0000\" style=\"background-color:#f7a98b\">обязан </span><span title=\"1545 1.0000\" style=\"background-color:#f7a98b\">уплачивать </span><span title=\"1546 1.0000\" style=\"background-color:#f7a98b\">Гаранту </span><span title=\"1547 1.0000\" style=\"background-color:#f7a98b\">Вознаграждение </span><span title=\"1548 1.0000\" style=\"background-color:#f7a98b\">ежемесячно </span><span title=\"1549 1.0000\" style=\"background-color:#f7a98b\">не </span><span title=\"1550 1.0000\" style=\"background-color:#f7a98b\">позднее </span><span title=\"1551 1.0000\" style=\"background-color:#f7a98b\">15 </span><span title=\"1552 1.0000\" style=\"background-color:#f7a98b\">( </span><span title=\"1553 1.0000\" style=\"background-color:#f7a98b\">пятнадцатого </span><span title=\"1554 1.0000\" style=\"background-color:#f7a98b\">) </span><span title=\"1555 1.0000\" style=\"background-color:#f7a98b\">числа </span><span title=\"1556 1.0000\" style=\"background-color:#f7a98b\">каждого </span><span title=\"1557 1.0000\" style=\"background-color:#f7a98b\">месяца </span><span title=\"1558 1.0000\" style=\"background-color:#f7a98b\">срока </span><span title=\"1559 1.0000\" style=\"background-color:#f7a98b\">действия </span><span title=\"1560 1.0000\" style=\"background-color:#f7a98b\">Гарантии </span><span title=\"1561 1.0000\" style=\"background-color:#f7a98b\">и </span><span title=\"1562 1.0000\" style=\"background-color:#f7a98b\">в </span><span title=\"1563 1.0000\" style=\"background-color:#f7a98b\">день </span><span title=\"1564 1.0000\" style=\"background-color:#f7a98b\">прекращения </span><span title=\"1565 1.0000\" style=\"background-color:#f7a98b\">действия </span><span title=\"1566 1.0000\" style=\"background-color:#f7a98b\">Гарантии </span><span title=\"1567 1.0000\" style=\"background-color:#f7a98b\">. </span><span title=\"1568 1.0000\" style=\"background-color:#f7a98b\">\n",
              " </span>¶<br><span title=\"1569 1.0000\" style=\"background-color:#f7a98b\">Под </span><span title=\"1570 1.0000\" style=\"background-color:#f7a98b\">« </span><span title=\"1571 1.0000\" style=\"background-color:#f7a98b\">месяцем </span><span title=\"1572 1.0000\" style=\"background-color:#f7a98b\">срока </span><span title=\"1573 1.0000\" style=\"background-color:#f7a98b\">действия </span><span title=\"1574 1.0000\" style=\"background-color:#f7a98b\">Гарантии </span><span title=\"1575 1.0000\" style=\"background-color:#f7a98b\">» </span><span title=\"1576 1.0000\" style=\"background-color:#f7a98b\">подразумевается </span><span title=\"1577 1.0000\" style=\"background-color:#f7a98b\">фактический </span><span title=\"1578 1.0000\" style=\"background-color:#f7a98b\">месяц </span><span title=\"1579 1.0000\" style=\"background-color:#f7a98b\">срока </span><span title=\"1580 1.0000\" style=\"background-color:#f7a98b\">действия </span><span title=\"1581 1.0000\" style=\"background-color:#f7a98b\">Гарантии </span><span title=\"1582 1.0000\" style=\"background-color:#f7a98b\">. </span><span title=\"1583 1.0000\" style=\"background-color:#f7a98b\">Первый </span><span title=\"1584 1.0000\" style=\"background-color:#f7a98b\">месяц </span><span title=\"1585 1.0000\" style=\"background-color:#f7a98b\">срока </span><span title=\"1586 1.0000\" style=\"background-color:#f7a98b\">действия </span><span title=\"1587 1.0000\" style=\"background-color:#f7a98b\">Гарантии </span><span title=\"1588 1.0000\" style=\"background-color:#f7a98b\">начинается </span><span title=\"1589 1.0000\" style=\"background-color:#f7a98b\">в </span><span title=\"1590 1.0000\" style=\"background-color:#f7a98b\">день </span><span title=\"1591 1.0000\" style=\"background-color:#f7a98b\">вступления </span><span title=\"1592 1.0000\" style=\"background-color:#f7a98b\">Гарантии </span><span title=\"1593 1.0000\" style=\"background-color:#f7a98b\">в </span><span title=\"1594 1.0000\" style=\"background-color:#f7a98b\">силу </span><span title=\"1595 1.0000\" style=\"background-color:#f7a98b\">и </span><span title=\"1596 1.0000\" style=\"background-color:#f7a98b\">заканчивается </span><span title=\"1597 1.0000\" style=\"background-color:#f7a98b\">14 </span><span title=\"1598 1.0000\" style=\"background-color:#f7a98b\">( </span><span title=\"1599 1.0000\" style=\"background-color:#f7a98b\">четырнадцатого </span><span title=\"1600 1.0000\" style=\"background-color:#f7a98b\">) </span><span title=\"1601 1.0000\" style=\"background-color:#f7a98b\">числа </span><span title=\"1602 1.0000\" style=\"background-color:#f7a98b\">месяца </span><span title=\"1603 1.0000\" style=\"background-color:#f7a98b\">, </span><span title=\"1604 1.0000\" style=\"background-color:#f7a98b\">следующего </span><span title=\"1605 1.0000\" style=\"background-color:#f7a98b\">за </span><span title=\"1606 1.0000\" style=\"background-color:#f7a98b\">месяцем </span><span title=\"1607 1.0000\" style=\"background-color:#f7a98b\">, </span><span title=\"1608 1.0000\" style=\"background-color:#f7a98b\">в </span><span title=\"1609 1.0000\" style=\"background-color:#f7a98b\">котором </span><span title=\"1610 1.0000\" style=\"background-color:#f7a98b\">Гарантия </span><span title=\"1611 1.0000\" style=\"background-color:#f7a98b\">была </span><span title=\"1612 1.0000\" style=\"background-color:#f7a98b\">выдана </span><span title=\"1613 1.0000\" style=\"background-color:#f7a98b\">. </span><span title=\"1614 1.0000\" style=\"background-color:#f7a98b\">Следующий </span><span title=\"1615 1.0000\" style=\"background-color:#f7a98b\">месяц </span><span title=\"1616 1.0000\" style=\"background-color:#f7a98b\">срока </span><span title=\"1617 1.0000\" style=\"background-color:#f7a98b\">действия </span><span title=\"1618 1.0000\" style=\"background-color:#f7a98b\">Гарантии </span><span title=\"1619 1.0000\" style=\"background-color:#f7a98b\">начинается </span><span title=\"1620 1.0000\" style=\"background-color:#f7a98b\">со </span><span title=\"1621 1.0000\" style=\"background-color:#f7a98b\">дня </span><span title=\"1622 1.0000\" style=\"background-color:#f7a98b\">, </span><span title=\"1623 1.0000\" style=\"background-color:#f7a98b\">следующего </span><span title=\"1624 1.0000\" style=\"background-color:#f7a98b\">за </span><span title=\"1625 1.0000\" style=\"background-color:#f7a98b\">окончанием </span><span title=\"1626 1.0000\" style=\"background-color:#f7a98b\">первого </span><span title=\"1627 1.0000\" style=\"background-color:#f7a98b\">месяца </span><span title=\"1628 1.0000\" style=\"background-color:#f7a98b\">срока </span><span title=\"1629 1.0000\" style=\"background-color:#f7a98b\">действия </span><span title=\"1630 1.0000\" style=\"background-color:#f7a98b\">Гарантии </span><span title=\"1631 1.0000\" style=\"background-color:#f7a98b\">. </span><span title=\"1632 1.0000\" style=\"background-color:#f7a98b\">Последний </span><span title=\"1633 1.0000\" style=\"background-color:#f7a98b\">месяц </span><span title=\"1634 1.0000\" style=\"background-color:#f7a98b\">срока </span><span title=\"1635 1.0000\" style=\"background-color:#f7a98b\">действия </span><span title=\"1636 1.0000\" style=\"background-color:#f7a98b\">Гарантии </span><span title=\"1637 1.0000\" style=\"background-color:#f7a98b\">заканчивается </span><span title=\"1638 1.0000\" style=\"background-color:#f7a98b\">в </span><span title=\"1639 1.0000\" style=\"background-color:#f7a98b\">дату </span><span title=\"1640 1.0000\" style=\"background-color:#f7a98b\">прекращения </span><span title=\"1641 1.0000\" style=\"background-color:#f7a98b\">действия </span><span title=\"1642 1.0000\" style=\"background-color:#f7a98b\">Гарантии </span><span title=\"1643 1.0000\" style=\"background-color:#f7a98b\">. </span><span title=\"1644 1.0000\" style=\"background-color:#f7a98b\">\n",
              " </span>¶<br><span title=\"1645 0.0000\" style=\"background-color:#88abfd\">Время </span><span title=\"1646 0.0000\" style=\"background-color:#88abfd\">подведения </span><span title=\"1647 0.0000\" style=\"background-color:#88abfd\">итогов </span><span title=\"1648 0.0000\" style=\"background-color:#88abfd\">голосования </span><span title=\"1649 0.0000\" style=\"background-color:#88abfd\">– </span><span title=\"1650 0.0000\" style=\"background-color:#88abfd\">18 </span><span title=\"1651 0.0000\" style=\"background-color:#88abfd\">часов </span><span title=\"1652 0.0000\" style=\"background-color:#88abfd\">00 </span><span title=\"1653 0.0000\" style=\"background-color:#88abfd\">минут </span><span title=\"1654 0.0000\" style=\"background-color:#88abfd\">. </span><span title=\"1655 0.0000\" style=\"background-color:#88abfd\">\n",
              " </span>¶<br><span title=\"1656 0.0000\" style=\"background-color:#88abfd\">Подсчет </span><span title=\"1657 0.0000\" style=\"background-color:#88abfd\">голосов </span><span title=\"1658 0.0000\" style=\"background-color:#88abfd\">осуществил </span><span title=\"1659 0.0000\" style=\"background-color:#88abfd\">Секретарь </span><span title=\"1660 0.0000\" style=\"background-color:#88abfd\">Совета </span><span title=\"1661 0.0000\" style=\"background-color:#88abfd\">директоров </span><span title=\"1662 0.0000\" style=\"background-color:#88abfd\">. </span><span title=\"1663 0.0000\" style=\"background-color:#88abfd\">\n",
              " </span>¶<br><span title=\"1664 0.0000\" style=\"background-color:#88abfd\">Протокол </span><span title=\"1665 0.0000\" style=\"background-color:#88abfd\">составлен </span><span title=\"1666 0.0000\" style=\"background-color:#88abfd\">« </span><span title=\"1667 0.0000\" style=\"background-color:#88abfd\">21 </span><span title=\"1668 0.0000\" style=\"background-color:#88abfd\">» </span><span title=\"1669 0.0000\" style=\"background-color:#88abfd\">апреля </span><span title=\"1670 0.0000\" style=\"background-color:#88abfd\">2018 </span><span title=\"1671 0.0000\" style=\"background-color:#88abfd\">года </span><span title=\"1672 0.0000\" style=\"background-color:#88abfd\">, </span><span title=\"1673 0.0000\" style=\"background-color:#88abfd\">в </span><span title=\"1674 0.0000\" style=\"background-color:#88abfd\">2-х </span><span title=\"1675 0.0000\" style=\"background-color:#88abfd\">экземплярах </span><span title=\"1676 0.0000\" style=\"background-color:#88abfd\">. </span><span title=\"1677 0.0000\" style=\"background-color:#88abfd\">\n",
              " </span>¶<br><span title=\"1678 0.0000\" style=\"background-color:#88abfd\">Приложение </span><span title=\"1679 0.0000\" style=\"background-color:#88abfd\">: </span><span title=\"1680 0.0000\" style=\"background-color:#88abfd\">\n",
              " </span>¶<br><span title=\"1681 0.0000\" style=\"background-color:#88abfd\">1 </span><span title=\"1682 0.0000\" style=\"background-color:#88abfd\">. </span><span title=\"1683 0.0000\" style=\"background-color:#88abfd\">Договор </span><span title=\"1684 0.0000\" style=\"background-color:#88abfd\">банковской </span><span title=\"1685 0.0000\" style=\"background-color:#88abfd\">гарантии </span><span title=\"1686 0.0000\" style=\"background-color:#88abfd\">. </span><span title=\"1687 0.0000\" style=\"background-color:#88abfd\">\n",
              " </span>¶<br><span title=\"1688 0.0000\" style=\"background-color:#88abfd\">2 </span><span title=\"1689 0.0000\" style=\"background-color:#88abfd\">. </span><span title=\"1690 0.0000\" style=\"background-color:#88abfd\">Полученные </span><span title=\"1691 0.0000\" style=\"background-color:#88abfd\">до </span><span title=\"1692 0.0000\" style=\"background-color:#88abfd\">начала </span><span title=\"1693 0.0000\" style=\"background-color:#88abfd\">заседания </span><span title=\"1694 0.0000\" style=\"background-color:#88abfd\">бюллетени </span><span title=\"1695 0.0000\" style=\"background-color:#88abfd\">для </span><span title=\"1696 0.0000\" style=\"background-color:#88abfd\">голосования </span><span title=\"1697 0.0000\" style=\"background-color:#88abfd\">членов </span><span title=\"1698 0.0000\" style=\"background-color:#88abfd\">Совета </span><span title=\"1699 0.0000\" style=\"background-color:#88abfd\">директоров </span><span title=\"1700 0.0000\" style=\"background-color:#88abfd\">по </span><span title=\"1701 0.0000\" style=\"background-color:#88abfd\">вопросу </span><span title=\"1702 0.0000\" style=\"background-color:#88abfd\">повестки </span><span title=\"1703 0.0000\" style=\"background-color:#88abfd\">дня </span><span title=\"1704 0.0000\" style=\"background-color:#88abfd\">заседания </span><span title=\"1705 0.0000\" style=\"background-color:#88abfd\">Совета </span><span title=\"1706 0.0000\" style=\"background-color:#88abfd\">директоров </span><span title=\"1707 0.0000\" style=\"background-color:#88abfd\">( </span><span title=\"1708 0.0000\" style=\"background-color:#88abfd\">всего </span><span title=\"1709 0.0000\" style=\"background-color:#88abfd\">на </span><span title=\"1710 0.0000\" style=\"background-color:#88abfd\">9 </span><span title=\"1711 0.0000\" style=\"background-color:#88abfd\">листах </span><span title=\"1712 0.0000\" style=\"background-color:#88abfd\">) </span><span title=\"1713 0.0000\" style=\"background-color:#88abfd\">. </span><span title=\"1714 0.0000\" style=\"background-color:#88abfd\">\n",
              " </span>¶<br><span title=\"1715 0.0000\" style=\"background-color:#88abfd\">Председатель </span><span title=\"1716 0.0000\" style=\"background-color:#88abfd\">\n",
              " </span>¶<br><span title=\"1717 0.0000\" style=\"background-color:#88abfd\">Совета </span><span title=\"1718 0.0000\" style=\"background-color:#88abfd\">директоров </span><span title=\"1719 0.0000\" style=\"background-color:#88abfd\">\n",
              " </span>¶<br><span title=\"1720 0.0000\" style=\"background-color:#88abfd\">А. </span><span title=\"1721 0.0000\" style=\"background-color:#88abfd\">В. </span><span title=\"1722 0.0000\" style=\"background-color:#88abfd\">Иванов </span><span title=\"1723 0.0000\" style=\"background-color:#88abfd\">\n",
              " </span>¶<br><span title=\"1724 0.0000\" style=\"background-color:#88abfd\">Секретарь </span><span title=\"1725 0.0000\" style=\"background-color:#88abfd\">\n",
              " </span>¶<br><span title=\"1726 0.0000\" style=\"background-color:#88abfd\">Совета </span><span title=\"1727 0.0000\" style=\"background-color:#88abfd\">директоров </span><span title=\"1728 0.0000\" style=\"background-color:#88abfd\">\n",
              " </span>¶<br><span title=\"1729 0.0000\" style=\"background-color:#88abfd\">Е. </span><span title=\"1730 0.0000\" style=\"background-color:#88abfd\">С. </span><span title=\"1731 0.0000\" style=\"background-color:#88abfd\">Любавина </span><span title=\"1732 0.0000\" style=\"background-color:#88abfd\">\n",
              " </span>¶<br><span title=\"1733 0.0000\" style=\"background-color:#88abfd\">\n",
              " </span>¶<br>"
            ],
            "text/plain": [
              "<IPython.core.display.HTML object>"
            ]
          },
          "metadata": {
            "tags": []
          }
        }
      ]
    },
    {
      "cell_type": "code",
      "metadata": {
        "id": "XAm0hQK3T1sd",
        "colab_type": "code",
        "colab": {}
      },
      "source": [
        "# "
      ],
      "execution_count": 0,
      "outputs": []
    },
    {
      "cell_type": "markdown",
      "metadata": {
        "id": "LvsD3meg-Qrx",
        "colab_type": "text"
      },
      "source": [
        "# 🧠 Protocols"
      ]
    },
    {
      "cell_type": "code",
      "metadata": {
        "id": "npTLGAaf-QCW",
        "colab_type": "code",
        "colab": {
          "base_uri": "https://localhost:8080/",
          "height": 50
        },
        "outputId": "571217b4-ec96-40ad-9beb-d37600829967"
      },
      "source": [
        "from google.colab import drive\n",
        "drive.mount('/content/gdrive' )\n",
        "\n",
        "from protocol_parser import   ProtocolDocument, ProtocolParser, find_protocol_org\n",
        "from hyperparams import HyperParameters\n",
        "\n",
        "def print_tags(doc):\n",
        "  for t in doc.get_tags():\n",
        "    print(t.get_key(), t.value)\n",
        "\n",
        "def process_protocol(doc: LegalDocument) -> LegalDocument:\n",
        "  protocol_analyser.analyse(doc)\n",
        "  print('print_tags---------')\n",
        "  print_tags(doc)\n",
        "  # print_headers(doc)\n",
        "\n",
        "  print('find_protocol_org---------')\n",
        "  print(find_protocol_org(doc))\n",
        "  return doc\n",
        "\n",
        "protocols_filename_prefix = '/content/gdrive/My Drive/GazpromOil/Protocols'\n",
        "protocols_filenames =  WordDocParser().list_filenames(protocols_filename_prefix)\n",
        "\n",
        "if do_parse_protocols:\n",
        "  protocol_analyser = ProtocolParser(elmo_embedder, elmo_embedder_default)\n",
        "  \n",
        "  # protocols_filenames = ['/content/gdrive/My Drive/GazpromOil/Protocols/7. Протокол заочного СД ГПН-РП БГ.docx']\n",
        "  for_each_document(protocols_filenames, accept=lambda doc: 'PROTOCOL' == doc['documentType'], procedure=process_protocol,\n",
        "                    _out=_out, save_json=True)"
      ],
      "execution_count": 21,
      "outputs": [
        {
          "output_type": "stream",
          "text": [
            "Drive already mounted at /content/gdrive; to attempt to forcibly remount, call drive.mount(\"/content/gdrive\", force_remount=True).\n",
            "/content/document-parser-1.1.12/classes:/content/document-parser-1.1.12/lib/*\n"
          ],
          "name": "stdout"
        }
      ]
    },
    {
      "cell_type": "code",
      "metadata": {
        "id": "PtZ8H9qIPR_L",
        "colab_type": "code",
        "colab": {
          "base_uri": "https://localhost:8080/",
          "height": 66
        },
        "outputId": "105ef118-e8ec-4365-9fd6-6fd86f1326d7"
      },
      "source": [
        "protocols_filenames[5:8]"
      ],
      "execution_count": 22,
      "outputs": [
        {
          "output_type": "execute_result",
          "data": {
            "text/plain": [
              "['/content/gdrive/My Drive/GazpromOil/Protocols/6. Протокол заочного СД ГПН-РП.docx',\n",
              " '/content/gdrive/My Drive/GazpromOil/Protocols/7. Протокол заочного СД ГПН-РП БГ.docx',\n",
              " '/content/gdrive/My Drive/GazpromOil/Protocols/Протокол ГПН-Транспорт 24.04.18.docx']"
            ]
          },
          "metadata": {
            "tags": []
          },
          "execution_count": 22
        }
      ]
    },
    {
      "cell_type": "code",
      "metadata": {
        "id": "rdLhR51-dcK_",
        "colab_type": "code",
        "colab": {}
      },
      "source": [
        "# raise 'stop here'"
      ],
      "execution_count": 0,
      "outputs": []
    },
    {
      "cell_type": "markdown",
      "metadata": {
        "id": "x_T-yqkhT2yo",
        "colab_type": "text"
      },
      "source": [
        "# Process contracts zip"
      ]
    },
    {
      "cell_type": "code",
      "metadata": {
        "id": "SS03zEe2UVOx",
        "colab_type": "code",
        "colab": {}
      },
      "source": [
        "#@title Params\n",
        " \n",
        "\n",
        "zip_file_name='contract-protocol-pairs'#@param {type:\"string\"}\n",
        " \n",
        "out_dir=f'{zip_file_name}-out'\n",
        "if do_parse_zip:\n",
        "  \n",
        "  zipfn=f'/content/{zip_file_name}.zip'\n",
        "  # zipfn = '/content/contract-protocol-pairs.zip'\n",
        "  !unzip $zipfn -d $zip_file_name\n",
        "  !mkdir $out_dir"
      ],
      "execution_count": 0,
      "outputs": []
    },
    {
      "cell_type": "code",
      "metadata": {
        "id": "6jDICSdRVmOx",
        "colab_type": "code",
        "colab": {
          "base_uri": "https://localhost:8080/",
          "height": 0
        },
        "outputId": "6ae9a669-2c8c-4a82-83e6-50f4d0273a41"
      },
      "source": [
        "import glob\n",
        " \n",
        "# zippp = 'contract-protocol-pairs'\n",
        "filenames = [file for file in glob.glob( f\"/content/{zip_file_name}/**/*.doc*\", recursive=True)] \n",
        "filenames[22:24]"
      ],
      "execution_count": 25,
      "outputs": [
        {
          "output_type": "execute_result",
          "data": {
            "text/plain": [
              "[]"
            ]
          },
          "metadata": {
            "tags": []
          },
          "execution_count": 25
        }
      ]
    },
    {
      "cell_type": "code",
      "metadata": {
        "id": "dNG1ya6hZXOs",
        "colab_type": "code",
        "colab": {}
      },
      "source": [
        "from protocol_parser import   ProtocolDocument, ProtocolParser\n",
        "from hyperparams import HyperParameters\n",
        "\n",
        "if do_parse_zip:\n",
        "\n",
        "  protocol_analyser = ProtocolParser(elmo_embedder, elmo_embedder_default)\n",
        "\n",
        "  ### TAKES TIME!!!\n",
        "  for_each_document(filenames, accept=lambda doc: 'PROTOCOL' == doc['documentType'], procedure=process_protocol,\n",
        "                    _out=out_dir)"
      ],
      "execution_count": 0,
      "outputs": []
    },
    {
      "cell_type": "code",
      "metadata": {
        "id": "08AEXStSU1N9",
        "colab_type": "code",
        "colab": {}
      },
      "source": [
        "if do_parse_zip:\n",
        "  load_and_show_json('contract-protocol-pairs-out/Крупная сделка(7)/1_Протокол_Тюмень.doc--1.json')"
      ],
      "execution_count": 0,
      "outputs": []
    },
    {
      "cell_type": "code",
      "metadata": {
        "id": "eaJ5OMrjU-Oz",
        "colab_type": "code",
        "colab": {}
      },
      "source": [
        "def process_zip_contract(contract:LegalDocument) -> LegalDocument:  \n",
        "  contractAnlysingContext.analyze_contract_doc(contract)  \n",
        "  print_headers(contract)  \n",
        "  return contract\n",
        "\n",
        "### TAKES TIME!!!\n",
        "if do_parse_zip:\n",
        "  for_each_document( filenames, accept=lambda doc: 'CONTRACT' == doc['documentType'], procedure=process_zip_contract,\n",
        "                    _out=out_dir )"
      ],
      "execution_count": 0,
      "outputs": []
    },
    {
      "cell_type": "code",
      "metadata": {
        "id": "QmAz_lJ1VMqZ",
        "colab_type": "code",
        "colab": {}
      },
      "source": [
        "if do_parse_zip:\n",
        "  load_and_show_json('contract-protocol-pairs-out/Регистратор_обезличен (1)/Договор_ГПН-Терминал.docx--1.json')"
      ],
      "execution_count": 0,
      "outputs": []
    },
    {
      "cell_type": "markdown",
      "metadata": {
        "id": "MMUz42spZ29X",
        "colab_type": "text"
      },
      "source": [
        "zip it"
      ]
    },
    {
      "cell_type": "code",
      "metadata": {
        "id": "zX1TpxHQZ2GP",
        "colab_type": "code",
        "colab": {}
      },
      "source": [
        "import zipfile\n",
        "import os\n",
        "import sys\n",
        "\n",
        "def zipfolder(foldername, target_dir):            \n",
        "  zipobj = zipfile.ZipFile(foldername + '.zip', 'w', zipfile.ZIP_DEFLATED)\n",
        "  rootlen = len(target_dir) + 1\n",
        "  for base, dirs, files in os.walk(target_dir):\n",
        "    for file in files:\n",
        "      fn = os.path.join(base, file)\n",
        "      zipobj.write(fn, fn[rootlen:])\n",
        "\n",
        "\n",
        "if do_parse_zip:\n",
        "  zipfolder(f'{zip_file_name}-out-branch-{_git_branch}', out_dir)"
      ],
      "execution_count": 0,
      "outputs": []
    },
    {
      "cell_type": "markdown",
      "metadata": {
        "colab_type": "text",
        "id": "WtVB6k47lC5J"
      },
      "source": [
        "# 🧠 Charters"
      ]
    },
    {
      "cell_type": "code",
      "metadata": {
        "id": "vmaq0CCBlU20",
        "colab_type": "code",
        "colab": {
          "base_uri": "https://localhost:8080/",
          "height": 1000
        },
        "outputId": "a9b304ff-a7b8-4760-b235-e8b9064d273d"
      },
      "source": [
        "from charter_parser import CharterParser\n",
        "charter_parser = CharterParser(elmo_embedder, elmo_embedder_default)\n",
        "\n",
        "def process_charter(charter: LegalDocument) -> LegalDocument:\n",
        "  # protocol_analyser.analyse(doc)\n",
        "  print_headers(charter)\n",
        "  charter_parser.ebmedd(charter)\n",
        "  charter_parser.analyse(charter)\n",
        "\n",
        "  \n",
        "  return charter\n",
        "\n",
        "charters_filename_prefix = '/content/gdrive/My Drive/GazpromOil/Charters'\n",
        "charters_filenames =  WordDocParser().list_filenames(charters_filename_prefix)\n",
        "\n",
        "if do_parse_charters:\n",
        "  for_each_document(charters_filenames, accept=lambda doc: 'CHARTER' == doc['documentType'], procedure=process_charter,\n",
        "                  _out=_out, save_json=True)"
      ],
      "execution_count": 31,
      "outputs": [
        {
          "output_type": "stream",
          "text": [
            "/content/document-parser-1.1.12/classes:/content/document-parser-1.1.12/lib/*\n",
            "/content/document-parser-1.1.12/classes:/content/document-parser-1.1.12/lib/*\n",
            "\n",
            "\n",
            "\n",
            "====================================================================================================\n",
            "reading:\"/content/gdrive/My Drive/GazpromOil/Charters/6.1.1(a) Project Tri-Neft - Sunrise Charter.docx\"\n",
            "documents in file: 1\n",
            "\t --> 📂 УТВЕРЖДЕН APPROVED Решением by the Resolution внеочередного Общего собрания Участников of the extraordinary General Meeting of the Participants Общества с ограниченной ответственностью of Limited Liability Company «Газпромнефть-Восток» Gazpromneft-Vostok (Протокол № []/2018 (Minutes No. []/2018 от __ [] 2018) dated __ [] 2018) \n",
            "\n",
            "\t --> 📂 УСТАВ CHARTER ОБЩЕСТВА С ОГРАНИЧЕННОЙ ОТВЕТСТВЕННОСТЬЮ «ГАЗПРОМНЕФТЬ-ВОСТОК» OF LIMITED LIABILITY COMPANY GAZPROMNEFT-VOSTOK (редакция № []) (version No. []) Томск Tomsk 2018 год 2018 СОДЕРЖАНИЕ TABLE OF CONTENTS\n",
            "\n",
            "\t --> 📂 1. ОБЩИЕ ПОЛОЖЕНИЯ 1. GENERAL PROVISIONS\n",
            "\n",
            "\t --> 📂 2. ПРАВОВОЙ СТАТУС ОБЩЕСТВА 2. LEGAL STATUS OF THE COMPANY\n",
            "\n",
            "\t --> 📂 3. ОТВЕТСТВЕННОСТЬ ОБЩЕСТВА 3. LIABILITY OF THE COMPANY\n",
            "\n",
            "\t --> 📂 4. ЦЕЛИ И ВИДЫ ДЕЯТЕЛЬНОСТИ ОБЩЕСТВА 4. PURPOSES AND BUSINESS ACTIVITIES OF THE COMPANY\n",
            "\n",
            "\t --> 📂 5. Уставный капитал Общества 5. charter CAPITAL OF THE COMPANY\n",
            "\n",
            "\t --> 📂 6. УВЕЛИЧЕНИЕ УСТАВНОГО КАПИТАЛА ОБЩЕСТВА ЗА СЧЕТ ДОПОЛНИТЕЛЬНЫХ ВКЛАДОВ УЧАСТНИКОВ 6. increase of the charter CAPITAL OF THE COMPANY BY ADDITIONAL CONTRIBUTIONS OF THE PARTICIPANTS\n",
            "\n",
            "\t --> 📂 7. ПРАВА И ОБЯЗАННОСТИ УЧАСТНИКОВ 7. RIGHTS AND OBLIGATIONS OF THE Participants \n",
            "\n",
            "\t --> 📂 8. ВЫХОД УЧАСТНИКА ИЗ ОБЩЕСТВА 8. WITHDRAWAL OF THE PARTICIPANT FROM THE COMPANY\n",
            "\n",
            "\t --> 📂 9. ПЕРЕДАЧА ДОЛИ УЧАСТНИКА 9. TRANSFER OF A Participant’S PARTICIPATION INTEREST\n",
            "\n",
            "\t --> 📂 10. ПРЕИМУЩЕСТВЕННОЕ ПРАВО 10. PRE-EMPTIVE RIGHT\n",
            "\n",
            "\t --> 📂 11. ЗАЛОГ ИЛИ ИНОЕ ОБРЕМЕНЕНИЕ ДОЛИ 11. PLEDGE OR OTHER ENCUMBRANCE OF A PARTICIPATION INTEREST\n",
            "\n",
            "\t --> 📂 12. СПИСОК УЧАСТНИКОВ ОБЩЕСТВА 12. LIST OF THE COMPANY’S ParticipantS\n",
            "\n",
            "\t --> 📂 13. ИМУЩЕСТВО ОБЩЕСТВА 13. ASSETS OF THE COMPANY\n",
            "\n",
            "\t --> 📂 14. РАСПРЕДЕЛЕНИЕ ПРИБЫЛИ 14. DISTRIBUTION OF PROFIT\n",
            "\n",
            "\t --> 📂 15. УПРАВЛЕНИЕ ОБЩЕСТВОМ 15. MANAGEMENT OF THE COMPANY\n",
            "\n",
            "\t --> 📂 16. ОБЩЕЕ СОБРАНИЕ УЧастников 16. GENERAL MEETING OF THE ParticipantS\n",
            "\n",
            "\t --> 📂 17. КОМПЕТЕНЦИЯ ОБЩЕГО СОБРАНИЯ УЧАСТНИКОВ 17. COMPETENCE OF THE GENERAL MEETING OF THE ParticipantS\n",
            "\n",
            "\t --> 📂 18. КВОРУМ И ПОРОГОВЫЕ ЗНАЧЕНИЯ ДЛЯ ГОЛОСОВАНИЯ НА ОБЩЕМ СОБРАНИИ УЧАСТНИКОВ 18. QUORUM AND VOTING PASSMARK OF THE GENERAL MEETING OF THE PARTICIPANTS\n",
            "\n",
            "\t --> 📂 19. ПРОЦЕДУРА СОЗЫВА ОБЩЕГО СОБРАНИЯ УЧАСТНИКОВ 19. PROCEDURE FOR CONVENING THE GENERAL MEETING OF THE PARTICIPANTS\n",
            "\n",
            "\t --> 📂 20. ПРОЦЕДУРА УЧАСТИЯ В ОБЩЕМ СОБРАНИИ УЧАСТНИКОВ 20. PROCEDURE FOR PARTICIPATION IN GENERAL MEETING OF THE PARTICIPANTS\n",
            "\n",
            "\t --> 📂 21. ПРОЦЕДУРА ПРОВЕДЕНИЯ ОБЩЕГО СОБРАНИЯ УЧАСТНИКОВ 21. PROCEDURE FOR CONDUCTING THE GENERAL MEETING OF THE PARTICIPANTS\n",
            "\n",
            "\t --> 📂 22. СОВЕТ ДИРЕКТОРОВ ОБЩЕСТВА 22. BOARD OF DIRECTORS OF THE COMPANY\n",
            "\n",
            "\t --> 📂 23. ПРОЦЕДУРА ПРОВЕДЕНИЯ ЗАСЕДАНИЙ СОВЕТА ДИРЕКТОРОВ 23. PROCEDURE FOR CONDUCTING MEETINGS OF THE BOARD\n",
            "\n",
            "\t --> 📂 24. ЕДИНОЛИЧНЫЙ ИСПОЛНИТЕЛЬНЫЙ ОРГАН ОБЩЕСТВА И УПРАВЛЕНИЕ ОБЩЕСТВОМ 24. SOLE EXECUTIVE BODY OF THE COMPANY AND MANAGEMENT\n",
            "\n",
            "\t --> 📂 25. СДЕЛКИ СО СВЯЗАННЫМИ СТОРОНАМИ 25. TRANSACTIONS WITH RELATED PARTIES\n",
            "\n",
            "\t --> 📂 26. АУДИТОР 26. AUDITOR\n",
            "\n",
            "\t --> 📂 27. ХРАНЕНИЕ ДОКУМЕНТОВ ОБЩЕСТВА 27. CUSTODY OF DOCUMENTS OF THE COMPANY\n",
            "\n",
            "\t --> 📂 28. РЕОРГАНИЗАЦИЯ И ЛИКВИДАЦИЯ ОБЩЕСТВА 28. REORGANIZATION AND LIQUIDATION OF THE COMPANY\n",
            "\n",
            "\t --> 📂 29. ОПРЕДЕЛЕНИЯ 29. DEFINITIONS\n",
            "\n",
            "\t --> 📂 30. ПРОЧИЕ ПОЛОЖЕНИЯ 30. MISCELLANEOUS\n",
            "\n"
          ],
          "name": "stdout"
        },
        {
          "output_type": "stream",
          "text": [
            "nlp_tools/legal_docs.py:684: UserWarning: WARNING: Document is too large for embedding: 1571 tokens. Splitting into 16 windows overlapping with 5 tokens \n",
            "  warnings.warn(msg)\n"
          ],
          "name": "stderr"
        },
        {
          "output_type": "stream",
          "text": [
            "patterns_names ['headline/AllMembers', 'headline/ShareholdersGeneralMeeting', 'headline/BoardOfDirectors', 'headline/CEO', 'headline/BoardOfCompany', 'headline/comp/q/AllMembers', 'headline/comp/q/ShareholdersGeneralMeeting', 'headline/comp/q/BoardOfDirectors', 'headline/comp/q/CEO', 'headline/comp/q/BoardOfCompany', 'headline/comp/AllMembers', 'headline/comp/ShareholdersGeneralMeeting', 'headline/comp/BoardOfDirectors', 'headline/comp/CEO', 'headline/comp/BoardOfCompany', 'headline/comp/qr/ShareholdersGeneralMeeting', 'headline/comp/qr/BoardOfDirectors', 'headline/comp/qr/CEO']\n",
            "(18, 1024)\n",
            "_dirr /content/gdrive/My Drive/GazpromOil/Всяческая документация (shared)/JSONs/charters-19.11.26-1/\n",
            "_path /content/gdrive/My Drive/GazpromOil/Всяческая документация (shared)/JSONs/charters-19.11.26-1/6.1.1(a) Project Tri-Neft - Sunrise Charter.docx--1.json\n",
            "--> 📂saved file to /content/gdrive/My Drive/GazpromOil/Всяческая документация (shared)/JSONs/charters-19.11.26-1/6.1.1(a) Project Tri-Neft - Sunrise Charter.docx--1.json\n",
            "^^^^^^^^^^^^^^^^^^^^^^^^^^^^^^^^^^^^^^^^^^^^^^^^^^^^^^^^^^^^^^^^^^^^^^^^^^^^^^^^^^^^^^^^^^^^^^^^^^^^\n",
            "\n",
            "\n",
            "\n",
            "====================================================================================================\n",
            "reading:\"/content/gdrive/My Drive/GazpromOil/Charters/ГПН Устав.docx\"\n",
            "documents in file: 1\n",
            "\t --> 📂 УТВЕРЖДЕН.\n",
            "\n",
            "\t --> 📂 УСТАВ Акционерного общества «ГПН-ГПН»\n",
            "\n",
            "\t --> 📂 г. Санкт-Петербург 2017 год.\n",
            "\n",
            "\t --> 📂 Статья 1. Общие положения.\n",
            "\n",
            "\t --> 📂 Статья 2. Фирменное наименование и место нахождения Общества.\n",
            "\n",
            "\t --> 📂 Статья 3. Юридический статус Общества.\n",
            "\n",
            "\t --> 📂 Статья 4. Ответственность Общества.\n",
            "\n",
            "\t --> 📂 Статья 5. Филиалы и представительства, дочерние общества.\n",
            "\n",
            "\t --> 📂 Статья 6. Цель создания и основные виды деятельности Общества.\n",
            "\n",
            "\t --> 📂 Статья 7. Права и обязанности акционеров Общества.\n",
            "\n",
            "\t --> 📂 Статья 8. Уставный капитал Общества. Размещенные и объявленные акции.\n",
            "\n",
            "\t --> 📂 Статья 9. Облигации и иные эмиссионные ценные бумаги Общества.\n",
            "\n",
            "\t --> 📂 Статья 10. Резервный фонд Общества.\n",
            "\n",
            "\t --> 📂 Статья 11. Дивиденды Общества.\n",
            "\n",
            "\t --> 📂 Статья 12. Структура органов управления\n",
            "\n",
            "\t --> 📂 Статья 13. Общее собрание акционеров Общества. \n",
            "\n",
            "\t --> 📂 Статья 14. Компетенция Общего собрания акционеров Общества.\n",
            "\n",
            "\t --> 📂 Статья 15. Решения Общего собрания акционеров Общества.\n",
            "\n",
            "\t --> 📂 Статья 16. Предложения в повестку дня, информация о проведении Общего собрания акционеров Общества.\n",
            "\n",
            "\t --> 📂 Статья 17. Участие и голосование на Общем собрании акционеров, протокол Общего собрания акционеров Общества.\n",
            "\n",
            "\t --> 📂 Статья 18. Совет директоров Общества. \n",
            "\n",
            "\t --> 📂 Статья 19. Компетенция Совета директоров Общества.\n",
            "\n",
            "\t --> 📂 Статья 20. Председатель Совета директоров Общества.\n",
            "\n",
            "\t --> 📂 Статья 21. Заседания Совета директоров Общества.\n",
            "\n",
            "\t --> 📂 Статья 22. Генеральный директор Общества.\n",
            "\n",
            "\t --> 📂 СТАТЬЯ 23. Порядок одобрения сделок, в совершении которых имеется заинтересованность\n",
            "\n",
            "\t --> 📂 Статья 24. Ревизионная комиссия Общества.\n",
            "\n",
            "\t --> 📂 Статья 25. Действие Устава Общества.\n",
            "\n"
          ],
          "name": "stdout"
        },
        {
          "output_type": "stream",
          "text": [
            "nlp_tools/legal_docs.py:684: UserWarning: WARNING: Document is too large for embedding: 494 tokens. Splitting into 5 windows overlapping with 5 tokens \n",
            "  warnings.warn(msg)\n"
          ],
          "name": "stderr"
        },
        {
          "output_type": "stream",
          "text": [
            "patterns_names ['headline/AllMembers', 'headline/ShareholdersGeneralMeeting', 'headline/BoardOfDirectors', 'headline/CEO', 'headline/BoardOfCompany', 'headline/comp/q/AllMembers', 'headline/comp/q/ShareholdersGeneralMeeting', 'headline/comp/q/BoardOfDirectors', 'headline/comp/q/CEO', 'headline/comp/q/BoardOfCompany', 'headline/comp/AllMembers', 'headline/comp/ShareholdersGeneralMeeting', 'headline/comp/BoardOfDirectors', 'headline/comp/CEO', 'headline/comp/BoardOfCompany', 'headline/comp/qr/ShareholdersGeneralMeeting', 'headline/comp/qr/BoardOfDirectors', 'headline/comp/qr/CEO']\n",
            "(18, 1024)\n",
            "filtered (('headline/comp/qr/ShareholdersGeneralMeeting', 16), 0.8912885785102844)\n",
            "_paragraph_id 16\n",
            "_pattern_name headline/comp/qr/ShareholdersGeneralMeeting\n",
            "filtered (('headline/ShareholdersGeneralMeeting', 15), 0.8631093502044678)\n",
            "_paragraph_id 15\n",
            "_pattern_name headline/ShareholdersGeneralMeeting\n",
            "filtered (('headline/comp/qr/BoardOfDirectors', 21), 0.854832112789154)\n",
            "_paragraph_id 21\n",
            "_pattern_name headline/comp/qr/BoardOfDirectors\n",
            "filtered (('headline/BoardOfDirectors', 20), 0.7846318483352661)\n",
            "_paragraph_id 20\n",
            "_pattern_name headline/BoardOfDirectors\n",
            "filtered (('headline/CEO', 24), 0.7507209777832031)\n",
            "_paragraph_id 24\n",
            "_pattern_name headline/CEO\n",
            "_dirr /content/gdrive/My Drive/GazpromOil/Всяческая документация (shared)/JSONs/charters-19.11.26-1/\n",
            "_path /content/gdrive/My Drive/GazpromOil/Всяческая документация (shared)/JSONs/charters-19.11.26-1/ГПН Устав.docx--1.json\n",
            "--> 📂saved file to /content/gdrive/My Drive/GazpromOil/Всяческая документация (shared)/JSONs/charters-19.11.26-1/ГПН Устав.docx--1.json\n",
            "^^^^^^^^^^^^^^^^^^^^^^^^^^^^^^^^^^^^^^^^^^^^^^^^^^^^^^^^^^^^^^^^^^^^^^^^^^^^^^^^^^^^^^^^^^^^^^^^^^^^\n",
            "\n",
            "\n",
            "\n",
            "====================================================================================================\n",
            "reading:\"/content/gdrive/My Drive/GazpromOil/Charters/ЕЮ Устав.docx\"\n",
            "documents in file: 1\n",
            "\t --> 📂 УТВЕРЖДЕНО Решением общего собрания акционеров акционерного общества «Евротэк - Югра» (Протокол № [_] от [_] 2019 год) ___________________________________________________________________ УСТАВ АКЦИОНЕРНОГО ОБЩЕСТВА «ЕВРОТЭК-ЮГРА» ___________________________________________________________________ Российская Федерация г. Москва 2019 год СОДЕРЖАНИЕ.\n",
            "\n",
            "\t --> 📂 1. Общие положения \n",
            "\n",
            "\t --> 📂 2. Цель и предмет деятельности Общества\n",
            "\n",
            "\t --> 📂 3. Уставный капитал Общества. Акции, облигации и другие эмиссионные ценные бумаги. Вклады в имущество Общества\n",
            "\n",
            "\t --> 📂 4. Передача акций. Обременение акций, преимущественное право на приобретение акций. Согласие на передачу акций\n",
            "\n",
            "\t --> 📂 5. Права и обязанности Акционеров \n",
            "\n",
            "\t --> 📂 6. Органы управления Общества\n",
            "\n",
            "\t --> 📂 7. Общее собрание акционеров \n",
            "\n",
            "\t --> 📂 8. Совет Директоров \n",
            "\n",
            "\t --> 📂 9. Единоличный исполнительный орган Общества \n",
            "\n",
            "\t --> 📂 10. Внутренняя Ревизионная комиссия и Аудитор\n",
            "\n",
            "\t --> 📂 11. Спорные вопросы\n",
            "\n",
            "\t --> 📂 12. Бухгалтерский учет и отчетность\n",
            "\n",
            "\t --> 📂 13. Распределение прибыли и дивиденды\n",
            "\n",
            "\t --> 📂 14. Резервный фонд и другие фонды\n",
            "\n",
            "\t --> 📂 15. Документы и информация \n",
            "\n",
            "\t --> 📂 16. Разрешение споров\n",
            "\n",
            "\t --> 📂 17. Определения\n",
            "\n"
          ],
          "name": "stdout"
        },
        {
          "output_type": "stream",
          "text": [
            "nlp_tools/legal_docs.py:684: UserWarning: WARNING: Document is too large for embedding: 1384 tokens. Splitting into 14 windows overlapping with 5 tokens \n",
            "  warnings.warn(msg)\n"
          ],
          "name": "stderr"
        },
        {
          "output_type": "stream",
          "text": [
            "patterns_names ['headline/AllMembers', 'headline/ShareholdersGeneralMeeting', 'headline/BoardOfDirectors', 'headline/CEO', 'headline/BoardOfCompany', 'headline/comp/q/AllMembers', 'headline/comp/q/ShareholdersGeneralMeeting', 'headline/comp/q/BoardOfDirectors', 'headline/comp/q/CEO', 'headline/comp/q/BoardOfCompany', 'headline/comp/AllMembers', 'headline/comp/ShareholdersGeneralMeeting', 'headline/comp/BoardOfDirectors', 'headline/comp/CEO', 'headline/comp/BoardOfCompany', 'headline/comp/qr/ShareholdersGeneralMeeting', 'headline/comp/qr/BoardOfDirectors', 'headline/comp/qr/CEO']\n",
            "(18, 1024)\n",
            "filtered (('headline/ShareholdersGeneralMeeting', 7), 0.9573136568069458)\n",
            "_paragraph_id 7\n",
            "_pattern_name headline/ShareholdersGeneralMeeting\n",
            "filtered (('headline/comp/qr/CEO', 9), 0.9552918672561646)\n",
            "_paragraph_id 9\n",
            "_pattern_name headline/comp/qr/CEO\n",
            "filtered (('headline/BoardOfDirectors', 8), 0.9343201518058777)\n",
            "_paragraph_id 8\n",
            "_pattern_name headline/BoardOfDirectors\n",
            "_dirr /content/gdrive/My Drive/GazpromOil/Всяческая документация (shared)/JSONs/charters-19.11.26-1/\n",
            "_path /content/gdrive/My Drive/GazpromOil/Всяческая документация (shared)/JSONs/charters-19.11.26-1/ЕЮ Устав.docx--1.json\n",
            "--> 📂saved file to /content/gdrive/My Drive/GazpromOil/Всяческая документация (shared)/JSONs/charters-19.11.26-1/ЕЮ Устав.docx--1.json\n",
            "^^^^^^^^^^^^^^^^^^^^^^^^^^^^^^^^^^^^^^^^^^^^^^^^^^^^^^^^^^^^^^^^^^^^^^^^^^^^^^^^^^^^^^^^^^^^^^^^^^^^\n",
            "\n",
            "\n",
            "\n",
            "====================================================================================================\n",
            "reading:\"/content/gdrive/My Drive/GazpromOil/Charters/МНГ Устав.docx\"\n",
            "documents in file: 1\n",
            "\t --> 📂 УТВЕРЖДЕН Общим собранием акционеров АО «Мессояханефтегаз» «28» декабря 2017 год (протокол от 28-12-2017 №б/н)\n",
            "\n",
            "\t --> 📂 У С Т А В Акционерного общества «Мессояханефтегаз»\n",
            "\n",
            "\t --> 📂 (новая редакция)\n",
            "\n",
            "\t --> 📂 г. Новый Уренгой 2017 год ОГЛАВЛЕНИЕ.\n",
            "\n",
            "\t --> 📂 Статья 1. Общие положения\n",
            "\n",
            "\t --> 📂 Статья 2. Фирменное наименование и место нахождения Общества\n",
            "\n",
            "\t --> 📂 «Мессояханефтегаз»;\n",
            "\n",
            "\t --> 📂 Статья 3. Юридический статус Общества\n",
            "\n",
            "\t --> 📂 Статья 4. Ответственность Общества\n",
            "\n",
            "\t --> 📂 Статья 5. Филиалы и представительства, дочерние и зависимые общества\n",
            "\n",
            "\t --> 📂 Статья 6. Цель создания и основные виды деятельности Общества\n",
            "\n",
            "\t --> 📂 Статья 7. Уставный капитал Общества. Размещенные и объявленные акции. Вклады в имущество общества, не увеличивающие уставный капитал\n",
            "\n",
            "\t --> 📂 Статья 8. Облигации и иные эмиссионные ценные бумаги Общества\n",
            "\n",
            "\t --> 📂 Статья 9. Права и обязанности акционеров Общества\n",
            "\n",
            "\t --> 📂 Статья 10. Фонды Общества\n",
            "\n",
            "\t --> 📂 Статья 11. Дивиденды Общества\n",
            "\n",
            "\t --> 📂 Статья 12. Органы управления\n",
            "\n",
            "\t --> 📂 Статья 13. Общее собрание акционеров Общества\n",
            "\n",
            "\t --> 📂 Статья 14. Компетенция Общего собрания акционеров Общества\n",
            "\n",
            "\t --> 📂 Статья 15. Решения Общего собрания акционеров Общества\n",
            "\n",
            "\t --> 📂 Статья 16. Предложения в повестку дня, информация о проведении Общего собрания акционеров Общества\n",
            "\n",
            "\t --> 📂 Статья 17. Участие и голосование на Общем собрании акционеров, протокол Общего собрания акционеров Общества\n",
            "\n",
            "\t --> 📂 Статья 18. Совет директоров Общества\n",
            "\n",
            "\t --> 📂 Статья 19. Компетенция Совета директоров Общества\n",
            "\n",
            "\t --> 📂 Статья 20. Председатель Совета директоров, Секретарь заседания Совета директоров и Секретарь Совета директоров Общества\n",
            "\n",
            "\t --> 📂 Статья 21. Заседания Совета директоров Общества\n",
            "\n",
            "\t --> 📂 Статья 22. Генеральный директор Общества\n",
            "\n",
            "\t --> 📂 Статья 23. Порядок отчуждения акций Общества. Ограничения в отношении сделок с акциями Общества.\n",
            "\n",
            "\t --> 📂 Статья 24. Ревизионная комиссия Общества\n",
            "\n",
            "\t --> 📂 Статья 25. Действие Устава Общества\n",
            "\n"
          ],
          "name": "stdout"
        },
        {
          "output_type": "stream",
          "text": [
            "nlp_tools/legal_docs.py:684: UserWarning: WARNING: Document is too large for embedding: 637 tokens. Splitting into 7 windows overlapping with 5 tokens \n",
            "  warnings.warn(msg)\n"
          ],
          "name": "stderr"
        },
        {
          "output_type": "stream",
          "text": [
            "patterns_names ['headline/AllMembers', 'headline/ShareholdersGeneralMeeting', 'headline/BoardOfDirectors', 'headline/CEO', 'headline/BoardOfCompany', 'headline/comp/q/AllMembers', 'headline/comp/q/ShareholdersGeneralMeeting', 'headline/comp/q/BoardOfDirectors', 'headline/comp/q/CEO', 'headline/comp/q/BoardOfCompany', 'headline/comp/AllMembers', 'headline/comp/ShareholdersGeneralMeeting', 'headline/comp/BoardOfDirectors', 'headline/comp/CEO', 'headline/comp/BoardOfCompany', 'headline/comp/qr/ShareholdersGeneralMeeting', 'headline/comp/qr/BoardOfDirectors', 'headline/comp/qr/CEO']\n",
            "(18, 1024)\n",
            "filtered (('headline/comp/qr/ShareholdersGeneralMeeting', 18), 0.8980176448822021)\n",
            "_paragraph_id 18\n",
            "_pattern_name headline/comp/qr/ShareholdersGeneralMeeting\n",
            "filtered (('headline/ShareholdersGeneralMeeting', 17), 0.8742135167121887)\n",
            "_paragraph_id 17\n",
            "_pattern_name headline/ShareholdersGeneralMeeting\n",
            "filtered (('headline/comp/qr/BoardOfDirectors', 23), 0.866753876209259)\n",
            "_paragraph_id 23\n",
            "_pattern_name headline/comp/qr/BoardOfDirectors\n",
            "filtered (('headline/BoardOfDirectors', 22), 0.8117476105690002)\n",
            "_paragraph_id 22\n",
            "_pattern_name headline/BoardOfDirectors\n",
            "filtered (('headline/CEO', 26), 0.7759307622909546)\n",
            "_paragraph_id 26\n",
            "_pattern_name headline/CEO\n",
            "filtered (('headline/comp/ShareholdersGeneralMeeting', 21), 0.7061358690261841)\n",
            "_paragraph_id 21\n",
            "_pattern_name headline/comp/ShareholdersGeneralMeeting\n",
            "_dirr /content/gdrive/My Drive/GazpromOil/Всяческая документация (shared)/JSONs/charters-19.11.26-1/\n",
            "_path /content/gdrive/My Drive/GazpromOil/Всяческая документация (shared)/JSONs/charters-19.11.26-1/МНГ Устав.docx--1.json\n",
            "--> 📂saved file to /content/gdrive/My Drive/GazpromOil/Всяческая документация (shared)/JSONs/charters-19.11.26-1/МНГ Устав.docx--1.json\n",
            "^^^^^^^^^^^^^^^^^^^^^^^^^^^^^^^^^^^^^^^^^^^^^^^^^^^^^^^^^^^^^^^^^^^^^^^^^^^^^^^^^^^^^^^^^^^^^^^^^^^^\n",
            "\n",
            "\n",
            "\n",
            "====================================================================================================\n",
            "reading:\"/content/gdrive/My Drive/GazpromOil/Charters/МНПЗ Устав.docx\"\n",
            "documents in file: 1\n",
            "\t --> 📂 УТВЕРЖДЕН.\n",
            "\n",
            "\t --> 📂 У С Т А В Акционерного общества «Газпромнефть – Московский НПЗ»\n",
            "\n",
            "\t --> 📂 г. Москва 2018 год.\n",
            "\n",
            "\t --> 📂 Статья 1. Общие положения.\n",
            "\n",
            "\t --> 📂 Статья 2. Фирменное наименование и место нахождения Общества.\n",
            "\n",
            "\t --> 📂 Статья 3. Юридический статус Общества.\n",
            "\n",
            "\t --> 📂 Статья 4. Ответственность Общества.\n",
            "\n",
            "\t --> 📂 Статья 5. Филиалы и представительства, дочерние общества.\n",
            "\n",
            "\t --> 📂 Статья 6. Цель создания и основные виды деятельности Общества.\n",
            "\n",
            "\t --> 📂 Статья 7. Права и обязанности акционеров Общества.\n",
            "\n",
            "\t --> 📂 Статья 8. Уставный капитал Общества. Размещенные и объявленные акции.\n",
            "\n",
            "\t --> 📂 Статья 9. Облигации и иные эмиссионные ценные бумаги Общества.\n",
            "\n",
            "\t --> 📂 Статья 10. Резервный фонд Общества.\n",
            "\n",
            "\t --> 📂 Статья 11. Дивиденды Общества.\n",
            "\n",
            "\t --> 📂 Статья 12. Структура органов управления\n",
            "\n",
            "\t --> 📂 Статья 13. Общее собрание акционеров Общества. \n",
            "\n",
            "\t --> 📂 Статья 14. Компетенция Общего собрания акционеров Общества.\n",
            "\n",
            "\t --> 📂 Статья 15. Решения Общего собрания акционеров Общества.\n",
            "\n",
            "\t --> 📂 Статья 16. Совет директоров Общества. \n",
            "\n",
            "\t --> 📂 Статья 17. Компетенция Совета директоров Общества.\n",
            "\n",
            "\t --> 📂 Статья 18. Председатель Совета директоров Общества.\n",
            "\n",
            "\t --> 📂 Статья 19. Заседания Совета директоров Общества.\n",
            "\n",
            "\t --> 📂 Статья 20. Генеральный директор Общества.\n",
            "\n",
            "\t --> 📂 Статья 21. Порядок одобрения сделок, в совершении которых имеется заинтересованность\n",
            "\n",
            "\t --> 📂 Статья 22. Ревизионная комиссия Общества.\n",
            "\n",
            "\t --> 📂 Статья 23. Действие Устава Общества.\n",
            "\n"
          ],
          "name": "stdout"
        },
        {
          "output_type": "stream",
          "text": [
            "nlp_tools/legal_docs.py:684: UserWarning: WARNING: Document is too large for embedding: 434 tokens. Splitting into 5 windows overlapping with 5 tokens \n",
            "  warnings.warn(msg)\n"
          ],
          "name": "stderr"
        },
        {
          "output_type": "stream",
          "text": [
            "patterns_names ['headline/AllMembers', 'headline/ShareholdersGeneralMeeting', 'headline/BoardOfDirectors', 'headline/CEO', 'headline/BoardOfCompany', 'headline/comp/q/AllMembers', 'headline/comp/q/ShareholdersGeneralMeeting', 'headline/comp/q/BoardOfDirectors', 'headline/comp/q/CEO', 'headline/comp/q/BoardOfCompany', 'headline/comp/AllMembers', 'headline/comp/ShareholdersGeneralMeeting', 'headline/comp/BoardOfDirectors', 'headline/comp/CEO', 'headline/comp/BoardOfCompany', 'headline/comp/qr/ShareholdersGeneralMeeting', 'headline/comp/qr/BoardOfDirectors', 'headline/comp/qr/CEO']\n",
            "(18, 1024)\n",
            "filtered (('headline/comp/qr/ShareholdersGeneralMeeting', 16), 0.892119824886322)\n",
            "_paragraph_id 16\n",
            "_pattern_name headline/comp/qr/ShareholdersGeneralMeeting\n",
            "filtered (('headline/ShareholdersGeneralMeeting', 15), 0.8617668151855469)\n",
            "_paragraph_id 15\n",
            "_pattern_name headline/ShareholdersGeneralMeeting\n",
            "filtered (('headline/comp/qr/BoardOfDirectors', 19), 0.8547133207321167)\n",
            "_paragraph_id 19\n",
            "_pattern_name headline/comp/qr/BoardOfDirectors\n",
            "filtered (('headline/BoardOfDirectors', 18), 0.7851977348327637)\n",
            "_paragraph_id 18\n",
            "_pattern_name headline/BoardOfDirectors\n",
            "filtered (('headline/CEO', 22), 0.7499626278877258)\n",
            "_paragraph_id 22\n",
            "_pattern_name headline/CEO\n",
            "_dirr /content/gdrive/My Drive/GazpromOil/Всяческая документация (shared)/JSONs/charters-19.11.26-1/\n",
            "_path /content/gdrive/My Drive/GazpromOil/Всяческая документация (shared)/JSONs/charters-19.11.26-1/МНПЗ Устав.docx--1.json\n",
            "--> 📂saved file to /content/gdrive/My Drive/GazpromOil/Всяческая документация (shared)/JSONs/charters-19.11.26-1/МНПЗ Устав.docx--1.json\n",
            "^^^^^^^^^^^^^^^^^^^^^^^^^^^^^^^^^^^^^^^^^^^^^^^^^^^^^^^^^^^^^^^^^^^^^^^^^^^^^^^^^^^^^^^^^^^^^^^^^^^^\n",
            "\n",
            "\n",
            "\n",
            "====================================================================================================\n",
            "reading:\"/content/gdrive/My Drive/GazpromOil/Charters/Новая редакция Устава.doc\"\n",
            "documents in file: 1\n",
            "\t --> 📂 УТВЕРЖДЕН.\n",
            "\n",
            "\t --> 📂 У С Т А В Общества с ограниченной ответственностью «Газпромнефть - Ямал»\n",
            "\n",
            "\t --> 📂 г. Салехард 2018 год.\n",
            "\n",
            "\t --> 📂 СТАТЬЯ 1. ОБЩИЕ ПОЛОЖЕНИЯ.\n",
            "\n",
            "\t --> 📂 СТАТЬЯ 2. ЮРИДИЧЕСКИЙ СТАТУС.\n",
            "\n",
            "\t --> 📂 СТАТЬЯ 3. УСТАВНЫЙ КАПИТАЛ.\n",
            "\n",
            "\t --> 📂 СТАТЬЯ 4. ПЕРЕХОД ДОЛИ ИЛИ ЧАСТИ ДОЛИ УЧАСТНИКА \n",
            "\n",
            "\t --> 📂 СТАТЬЯ 5. ВЫХОД УЧАСТНИКА ОБЩЕСТВА ИЗ ОБЩЕСТВА.\n",
            "\n",
            "\t --> 📂 СТАТЬЯ 6. УСЛОВИЯ И ПОРЯДОК РАСПРЕДЕЛЕНИЯ ПРИБЫЛИ МЕЖДУ УЧАСТНИКАМИ ОБЩЕСТВА.\n",
            "\n",
            "\t --> 📂 СТАТЬЯ 7. ПРАВА И ОБЯЗАННОСТИ УЧАСТНИКОВ ОБЩЕСТВА.\n",
            "\n",
            "\t --> 📂 СТАТЬЯ 8. ОРГАНЫ УПРАВЛЕНИЯ.\n",
            "\n",
            "\t --> 📂 СТАТЬЯ 9. ОБЩЕЕ СОБРАНИЕ УЧАСТНИКОВ.\n",
            "\n",
            "\t --> 📂 СТАТЬЯ 10. ИСПОЛНИТЕЛЬНЫЙ ОРГАН ОБЩЕСТВА.\n",
            "\n",
            "\t --> 📂 СТАТЬЯ 11. Порядок одобрения сделок, в совершении которых имеется заинтересованность\n",
            "\n",
            "\t --> 📂 СТАТЬЯ 12. ВЕДЕНИЕ СПИСКА УЧАСТНИКОВ ОБЩЕСТВА ХРАНЕНИЕ ДОКУМЕНТОВ ОБЩЕСТВА. ПРЕДОСТАВЛЕНИЕ ИНФОРМАЦИИ.\n",
            "\n",
            "\t --> 📂 СТАТЬЯ 13. ЗАКЛЮЧИТЕЛЬНЫЕ ПОЛОЖЕНИЯ.\n",
            "\n"
          ],
          "name": "stdout"
        },
        {
          "output_type": "stream",
          "text": [
            "nlp_tools/legal_docs.py:684: UserWarning: WARNING: Document is too large for embedding: 441 tokens. Splitting into 5 windows overlapping with 5 tokens \n",
            "  warnings.warn(msg)\n"
          ],
          "name": "stderr"
        },
        {
          "output_type": "stream",
          "text": [
            "patterns_names ['headline/AllMembers', 'headline/ShareholdersGeneralMeeting', 'headline/BoardOfDirectors', 'headline/CEO', 'headline/BoardOfCompany', 'headline/comp/q/AllMembers', 'headline/comp/q/ShareholdersGeneralMeeting', 'headline/comp/q/BoardOfDirectors', 'headline/comp/q/CEO', 'headline/comp/q/BoardOfCompany', 'headline/comp/AllMembers', 'headline/comp/ShareholdersGeneralMeeting', 'headline/comp/BoardOfDirectors', 'headline/comp/CEO', 'headline/comp/BoardOfCompany', 'headline/comp/qr/ShareholdersGeneralMeeting', 'headline/comp/qr/BoardOfDirectors', 'headline/comp/qr/CEO']\n",
            "(18, 1024)\n",
            "filtered (('headline/AllMembers', 11), 0.8664215803146362)\n",
            "_paragraph_id 11\n",
            "_pattern_name headline/AllMembers\n",
            "filtered (('headline/comp/qr/CEO', 12), 0.8130829930305481)\n",
            "_paragraph_id 12\n",
            "_pattern_name headline/comp/qr/CEO\n",
            "_dirr /content/gdrive/My Drive/GazpromOil/Всяческая документация (shared)/JSONs/charters-19.11.26-1/\n",
            "_path /content/gdrive/My Drive/GazpromOil/Всяческая документация (shared)/JSONs/charters-19.11.26-1/Новая редакция Устава.doc--1.json\n",
            "--> 📂saved file to /content/gdrive/My Drive/GazpromOil/Всяческая документация (shared)/JSONs/charters-19.11.26-1/Новая редакция Устава.doc--1.json\n",
            "^^^^^^^^^^^^^^^^^^^^^^^^^^^^^^^^^^^^^^^^^^^^^^^^^^^^^^^^^^^^^^^^^^^^^^^^^^^^^^^^^^^^^^^^^^^^^^^^^^^^\n",
            "\n",
            "\n",
            "\n",
            "====================================================================================================\n",
            "reading:\"/content/gdrive/My Drive/GazpromOil/Charters/Устав - ГПН-Транспорт_ГОСА-2018.docx\"\n",
            "documents in file: 1\n",
            "\t --> 📂 УТВЕРЖДЕН Решением единственного акционера Акционерного общества «Газпромнефть-Транспорт» от «29» июня 2018 года \n",
            "\n",
            "\t --> 📂 УСТАВ Акционерного общества «ГАЗПРОМНЕФТЬ-ТРАНСПОРТ»\n",
            "\n",
            "\t --> 📂 г. Омск, 2018 год Статья 1. Общие положения\n",
            "\n",
            "\t --> 📂 Статья 2. Фирменное наименование и место нахождения Общества\n",
            "\n",
            "\t --> 📂 Статья 3. Юридический статус Общества\n",
            "\n",
            "\t --> 📂 Статья 4. Ответственность Общества\n",
            "\n",
            "\t --> 📂 Статья 5. Филиалы и представительства, дочерние и зависимые общества\n",
            "\n",
            "\t --> 📂 Статья 6. Цель создания и основные виды деятельности Общества\n",
            "\n",
            "\t --> 📂 Статья 7. Уставный капитал Общества. Размещенные и объявленные акции\n",
            "\n",
            "\t --> 📂 Статья 8. Облигации и иные эмиссионные ценные бумаги Общества\n",
            "\n",
            "\t --> 📂 Статья 9. Права и обязанности акционеров Общества\n",
            "\n",
            "\t --> 📂 Статья 10. Резервный фонд Общества\n",
            "\n",
            "\t --> 📂 Статья 11. Дивиденды Общества\n",
            "\n",
            "\t --> 📂 Статья 12. Структура органов управления\n",
            "\n",
            "\t --> 📂 Статья 13. Общее собрание акционеров Общества\n",
            "\n",
            "\t --> 📂 Статья 14. Компетенция Общего собрания акционеров Общества\n",
            "\n",
            "\t --> 📂 Статья 15. Решения Общего собрания акционеров Общества\n",
            "\n",
            "\t --> 📂 Статья 16. Предложения в повестку дня, информация о проведении Общего собрания акционеров Общества\n",
            "\n",
            "\t --> 📂 Статья 17. Участие и голосование на Общем собрании акционеров, протокол Общего собрания акционеров Общества\n",
            "\n",
            "\t --> 📂 Статья 18. Совет директоров Общества\n",
            "\n",
            "\t --> 📂 Статья 19. Компетенция Совета директоров Общества\n",
            "\n",
            "\t --> 📂 Статья 20. Председатель Совета директоров Общества\n",
            "\n",
            "\t --> 📂 Статья 21. Заседания Совета директоров Общества\n",
            "\n",
            "\t --> 📂 Статья 22. Генеральный директор Общества\n",
            "\n",
            "\t --> 📂 Статья 23. Порядок одобрения сделок, в совершении которых имеется заинтересованность\n",
            "\n",
            "\t --> 📂 Статья 24. Действие Устава Общества\n",
            "\n"
          ],
          "name": "stdout"
        },
        {
          "output_type": "stream",
          "text": [
            "nlp_tools/legal_docs.py:684: UserWarning: WARNING: Document is too large for embedding: 487 tokens. Splitting into 5 windows overlapping with 5 tokens \n",
            "  warnings.warn(msg)\n"
          ],
          "name": "stderr"
        },
        {
          "output_type": "stream",
          "text": [
            "patterns_names ['headline/AllMembers', 'headline/ShareholdersGeneralMeeting', 'headline/BoardOfDirectors', 'headline/CEO', 'headline/BoardOfCompany', 'headline/comp/q/AllMembers', 'headline/comp/q/ShareholdersGeneralMeeting', 'headline/comp/q/BoardOfDirectors', 'headline/comp/q/CEO', 'headline/comp/q/BoardOfCompany', 'headline/comp/AllMembers', 'headline/comp/ShareholdersGeneralMeeting', 'headline/comp/BoardOfDirectors', 'headline/comp/CEO', 'headline/comp/BoardOfCompany', 'headline/comp/qr/ShareholdersGeneralMeeting', 'headline/comp/qr/BoardOfDirectors', 'headline/comp/qr/CEO']\n",
            "(18, 1024)\n",
            "filtered (('headline/comp/qr/ShareholdersGeneralMeeting', 15), 0.8979182243347168)\n",
            "_paragraph_id 15\n",
            "_pattern_name headline/comp/qr/ShareholdersGeneralMeeting\n",
            "filtered (('headline/ShareholdersGeneralMeeting', 14), 0.8736024498939514)\n",
            "_paragraph_id 14\n",
            "_pattern_name headline/ShareholdersGeneralMeeting\n",
            "filtered (('headline/comp/qr/BoardOfDirectors', 20), 0.8669724464416504)\n",
            "_paragraph_id 20\n",
            "_pattern_name headline/comp/qr/BoardOfDirectors\n",
            "filtered (('headline/BoardOfDirectors', 19), 0.812575101852417)\n",
            "_paragraph_id 19\n",
            "_pattern_name headline/BoardOfDirectors\n",
            "filtered (('headline/CEO', 23), 0.7726393938064575)\n",
            "_paragraph_id 23\n",
            "_pattern_name headline/CEO\n",
            "filtered (('headline/comp/ShareholdersGeneralMeeting', 18), 0.705822765827179)\n",
            "_paragraph_id 18\n",
            "_pattern_name headline/comp/ShareholdersGeneralMeeting\n",
            "_dirr /content/gdrive/My Drive/GazpromOil/Всяческая документация (shared)/JSONs/charters-19.11.26-1/\n",
            "_path /content/gdrive/My Drive/GazpromOil/Всяческая документация (shared)/JSONs/charters-19.11.26-1/Устав - ГПН-Транспорт_ГОСА-2018.docx--1.json\n",
            "--> 📂saved file to /content/gdrive/My Drive/GazpromOil/Всяческая документация (shared)/JSONs/charters-19.11.26-1/Устав - ГПН-Транспорт_ГОСА-2018.docx--1.json\n",
            "^^^^^^^^^^^^^^^^^^^^^^^^^^^^^^^^^^^^^^^^^^^^^^^^^^^^^^^^^^^^^^^^^^^^^^^^^^^^^^^^^^^^^^^^^^^^^^^^^^^^\n",
            "\n",
            "\n",
            "\n",
            "====================================================================================================\n",
            "reading:\"/content/gdrive/My Drive/GazpromOil/Charters/Устав 2.docx\"\n",
            "documents in file: 1\n",
            "\t --> 📂 УТВЕРЖДЕН.\n",
            "\n",
            "\t --> 📂 УСТАВ Акционерного общества «ГПН-ГПН»\n",
            "\n",
            "\t --> 📂 г. Санкт-Петербург 2017 год.\n",
            "\n",
            "\t --> 📂 Статья 1. Общие положения.\n",
            "\n",
            "\t --> 📂 Статья 2. Фирменное наименование и место нахождения Общества.\n",
            "\n",
            "\t --> 📂 Статья 3. Юридический статус Общества.\n",
            "\n",
            "\t --> 📂 Статья 4. Ответственность Общества.\n",
            "\n",
            "\t --> 📂 Статья 5. Филиалы и представительства, дочерние общества.\n",
            "\n",
            "\t --> 📂 Статья 6. Цель создания и основные виды деятельности Общества.\n",
            "\n",
            "\t --> 📂 Статья 7. Права и обязанности акционеров Общества.\n",
            "\n",
            "\t --> 📂 Статья 8. Уставный капитал Общества. Размещенные и объявленные акции.\n",
            "\n",
            "\t --> 📂 Статья 9. Облигации и иные эмиссионные ценные бумаги Общества.\n",
            "\n",
            "\t --> 📂 Статья 10. Резервный фонд Общества.\n",
            "\n",
            "\t --> 📂 Статья 11. Дивиденды Общества.\n",
            "\n",
            "\t --> 📂 Статья 12. Структура органов управления\n",
            "\n",
            "\t --> 📂 Статья 13. Общее собрание акционеров Общества. \n",
            "\n",
            "\t --> 📂 Статья 14. Компетенция Общего собрания акционеров Общества.\n",
            "\n",
            "\t --> 📂 Статья 15. Решения Общего собрания акционеров Общества.\n",
            "\n",
            "\t --> 📂 Статья 16. Предложения в повестку дня, информация о проведении Общего собрания акционеров Общества.\n",
            "\n",
            "\t --> 📂 Статья 17. Участие и голосование на Общем собрании акционеров, протокол Общего собрания акционеров Общества.\n",
            "\n",
            "\t --> 📂 Статья 18. Совет директоров Общества. \n",
            "\n",
            "\t --> 📂 Статья 19. Компетенция Совета директоров Общества.\n",
            "\n",
            "\t --> 📂 Статья 20. Председатель Совета директоров Общества.\n",
            "\n",
            "\t --> 📂 Статья 21. Заседания Совета директоров Общества.\n",
            "\n",
            "\t --> 📂 Статья 22. Генеральный директор Общества.\n",
            "\n",
            "\t --> 📂 СТАТЬЯ 23. Порядок одобрения сделок, в совершении которых имеется заинтересованность\n",
            "\n",
            "\t --> 📂 Статья 24. Ревизионная комиссия Общества.\n",
            "\n",
            "\t --> 📂 Статья 25. Действие Устава Общества.\n",
            "\n"
          ],
          "name": "stdout"
        },
        {
          "output_type": "stream",
          "text": [
            "nlp_tools/legal_docs.py:684: UserWarning: WARNING: Document is too large for embedding: 494 tokens. Splitting into 5 windows overlapping with 5 tokens \n",
            "  warnings.warn(msg)\n"
          ],
          "name": "stderr"
        },
        {
          "output_type": "stream",
          "text": [
            "patterns_names ['headline/AllMembers', 'headline/ShareholdersGeneralMeeting', 'headline/BoardOfDirectors', 'headline/CEO', 'headline/BoardOfCompany', 'headline/comp/q/AllMembers', 'headline/comp/q/ShareholdersGeneralMeeting', 'headline/comp/q/BoardOfDirectors', 'headline/comp/q/CEO', 'headline/comp/q/BoardOfCompany', 'headline/comp/AllMembers', 'headline/comp/ShareholdersGeneralMeeting', 'headline/comp/BoardOfDirectors', 'headline/comp/CEO', 'headline/comp/BoardOfCompany', 'headline/comp/qr/ShareholdersGeneralMeeting', 'headline/comp/qr/BoardOfDirectors', 'headline/comp/qr/CEO']\n",
            "(18, 1024)\n",
            "filtered (('headline/comp/qr/ShareholdersGeneralMeeting', 16), 0.8914605975151062)\n",
            "_paragraph_id 16\n",
            "_pattern_name headline/comp/qr/ShareholdersGeneralMeeting\n",
            "filtered (('headline/ShareholdersGeneralMeeting', 15), 0.8631797432899475)\n",
            "_paragraph_id 15\n",
            "_pattern_name headline/ShareholdersGeneralMeeting\n",
            "filtered (('headline/comp/qr/BoardOfDirectors', 21), 0.8548189401626587)\n",
            "_paragraph_id 21\n",
            "_pattern_name headline/comp/qr/BoardOfDirectors\n",
            "filtered (('headline/BoardOfDirectors', 20), 0.7845821380615234)\n",
            "_paragraph_id 20\n",
            "_pattern_name headline/BoardOfDirectors\n",
            "filtered (('headline/CEO', 24), 0.7507268190383911)\n",
            "_paragraph_id 24\n",
            "_pattern_name headline/CEO\n",
            "_dirr /content/gdrive/My Drive/GazpromOil/Всяческая документация (shared)/JSONs/charters-19.11.26-1/\n",
            "_path /content/gdrive/My Drive/GazpromOil/Всяческая документация (shared)/JSONs/charters-19.11.26-1/Устав 2.docx--1.json\n",
            "--> 📂saved file to /content/gdrive/My Drive/GazpromOil/Всяческая документация (shared)/JSONs/charters-19.11.26-1/Устав 2.docx--1.json\n",
            "^^^^^^^^^^^^^^^^^^^^^^^^^^^^^^^^^^^^^^^^^^^^^^^^^^^^^^^^^^^^^^^^^^^^^^^^^^^^^^^^^^^^^^^^^^^^^^^^^^^^\n",
            "\n",
            "\n",
            "\n",
            "====================================================================================================\n",
            "reading:\"/content/gdrive/My Drive/GazpromOil/Charters/Устав ГПН-КП_ГОСУ-2018_сентябрь end.doc\"\n",
            "documents in file: 1\n",
            "\t --> 📂 УТВЕРЖДЕН.\n",
            "\n",
            "\t --> 📂 У С Т А В Общества с ограниченной ответственностью «Газпромнефть - Корпоративные продажи»\n",
            "\n",
            "\t --> 📂 г. Санкт-Петербург 2018 год.\n",
            "\n",
            "\t --> 📂 СТАТЬЯ 1. ФИРМЕННОЕ НАИМЕНОВАНИЕ И МЕСТО НАХОЖДЕНИЯ ОБЩЕСТВА \n",
            "\n",
            "\t --> 📂 СТАТЬЯ 2. ЮРИДИЧЕСКИЙ СТАТУС \n",
            "\n",
            "\t --> 📂 СТАТЬЯ 3. УСТАВНЫЙ КАПИТАЛ.\n",
            "\n",
            "\t --> 📂 СТАТЬЯ 4. ПЕРЕХОД ДОЛИ ИЛИ ЧАСТИ ДОЛИ УЧАСТНИКА \n",
            "\n",
            "\t --> 📂 СТАТЬЯ 5. ВЫХОД УЧАСТНИКА ОБЩЕСТВА ИЗ ОБЩЕСТВА \n",
            "\n",
            "\t --> 📂 СТАТЬЯ 6. УСЛОВИЯ И ПОРЯДОК РАСПРЕДЕЛЕНИЯ ПРИБЫЛИ МЕЖДУ УЧАСТНИКАМИ ОБЩЕСТВА \n",
            "\n",
            "\t --> 📂 СТАТЬЯ 7. ПРАВА И ОБЯЗАННОСТИ УЧАСТНИКОВ ОБЩЕСТВА \n",
            "\n",
            "\t --> 📂 СТАТЬЯ 8. ОРГАНЫ УПРАВЛЕНИЯ \n",
            "\n",
            "\t --> 📂 СТАТЬЯ 9. ОБЩЕЕ СОБРАНИЕ УЧАСТНИКОВ \n",
            "\n",
            "\t --> 📂 СТАТЬЯ 10. СОВЕТ ДИРЕКТОРОВ ОБЩЕСТВА \n",
            "\n",
            "\t --> 📂 СТАТЬЯ 11. ИСПОЛНИТЕЛЬНЫЙ ОРГАН ОБЩЕСТВА \n",
            "\n",
            "\t --> 📂 СТАТЬЯ 12. Порядок одобрения сделок, в совершении которых имеется заинтересованность\n",
            "\n",
            "\t --> 📂 СТАТЬЯ 13. ВЕДЕНИЕ СПИСКА УЧАСТНИКОВ ОБЩЕСТВА ХРАНЕНИЕ ДОКУМЕНТОВ ОБЩЕСТВА. ПРЕДОСТАВЛЕНИЕ ИНФОРМАЦИИ \n",
            "\n",
            "\t --> 📂 СТАТЬЯ 14. ЗАКЛЮЧИТЕЛЬНЫЕ ПОЛОЖЕНИЯ \n",
            "\n"
          ],
          "name": "stdout"
        },
        {
          "output_type": "stream",
          "text": [
            "nlp_tools/legal_docs.py:684: UserWarning: WARNING: Document is too large for embedding: 534 tokens. Splitting into 6 windows overlapping with 5 tokens \n",
            "  warnings.warn(msg)\n"
          ],
          "name": "stderr"
        },
        {
          "output_type": "stream",
          "text": [
            "patterns_names ['headline/AllMembers', 'headline/ShareholdersGeneralMeeting', 'headline/BoardOfDirectors', 'headline/CEO', 'headline/BoardOfCompany', 'headline/comp/q/AllMembers', 'headline/comp/q/ShareholdersGeneralMeeting', 'headline/comp/q/BoardOfDirectors', 'headline/comp/q/CEO', 'headline/comp/q/BoardOfCompany', 'headline/comp/AllMembers', 'headline/comp/ShareholdersGeneralMeeting', 'headline/comp/BoardOfDirectors', 'headline/comp/CEO', 'headline/comp/BoardOfCompany', 'headline/comp/qr/ShareholdersGeneralMeeting', 'headline/comp/qr/BoardOfDirectors', 'headline/comp/qr/CEO']\n",
            "(18, 1024)\n",
            "filtered (('headline/AllMembers', 11), 0.8991155624389648)\n",
            "_paragraph_id 11\n",
            "_pattern_name headline/AllMembers\n",
            "filtered (('headline/comp/qr/CEO', 13), 0.8428569436073303)\n",
            "_paragraph_id 13\n",
            "_pattern_name headline/comp/qr/CEO\n",
            "filtered (('headline/BoardOfDirectors', 12), 0.8124660849571228)\n",
            "_paragraph_id 12\n",
            "_pattern_name headline/BoardOfDirectors\n",
            "_dirr /content/gdrive/My Drive/GazpromOil/Всяческая документация (shared)/JSONs/charters-19.11.26-1/\n",
            "_path /content/gdrive/My Drive/GazpromOil/Всяческая документация (shared)/JSONs/charters-19.11.26-1/Устав ГПН-КП_ГОСУ-2018_сентябрь end.doc--1.json\n",
            "--> 📂saved file to /content/gdrive/My Drive/GazpromOil/Всяческая документация (shared)/JSONs/charters-19.11.26-1/Устав ГПН-КП_ГОСУ-2018_сентябрь end.doc--1.json\n",
            "^^^^^^^^^^^^^^^^^^^^^^^^^^^^^^^^^^^^^^^^^^^^^^^^^^^^^^^^^^^^^^^^^^^^^^^^^^^^^^^^^^^^^^^^^^^^^^^^^^^^\n",
            "\n",
            "\n",
            "\n",
            "====================================================================================================\n",
            "reading:\"/content/gdrive/My Drive/GazpromOil/Charters/Устав ГПН-Новосибирск (НБ)_с СД.doc\"\n",
            "documents in file: 1\n",
            "\t --> 📂 УТВЕРЖДЕН.\n",
            "\n",
            "\t --> 📂 У С Т А В Общества с ограниченной ответственностью «Газпромнефть-Новосибирск (НБ)»\n",
            "\n",
            "\t --> 📂 г. Москва, 2017 год.\n",
            "\n",
            "\t --> 📂 Статья 1. Фирменное наименование и место нахождения Общества\n",
            "\n",
            "\t --> 📂 СТАТЬЯ 2. ЮРИДИЧЕСКИЙ СТАТУС \n",
            "\n",
            "\t --> 📂 СТАТЬЯ 3. УСТАВНЫЙ КАПИТАЛ \n",
            "\n",
            "\t --> 📂 СТАТЬЯ 4. ПЕРЕХОД ДОЛИ ИЛИ ЧАСТИ ДОЛИ УЧАСТНИКА \n",
            "\n",
            "\t --> 📂 СТАТЬЯ 5. ВЫХОД УЧАСТНИКА ОБЩЕСТВА ИЗ ОБЩЕСТВА \n",
            "\n",
            "\t --> 📂 СТАТЬЯ 6. УСЛОВИЯ И ПОРЯДОК РАСПРЕДЕЛЕНИЯ ПРИБЫЛИ МЕЖДУ УЧАСТНИКАМИ ОБЩЕСТВА \n",
            "\n",
            "\t --> 📂 СТАТЬЯ 7. ПРАВА И ОБЯЗАННОСТИ УЧАСТНИКОВ ОБЩЕСТВА \n",
            "\n",
            "\t --> 📂 СТАТЬЯ 8. ОРГАНЫ УПРАВЛЕНИЯ \n",
            "\n",
            "\t --> 📂 СТАТЬЯ 9. ОБЩЕЕ СОБРАНИЕ УЧАСТНИКОВ \n",
            "\n",
            "\t --> 📂 СТАТЬЯ 10. СОВЕТ ДИРЕКТОРОВ ОБЩЕСТВА \n",
            "\n",
            "\t --> 📂 СТАТЬЯ 11. ИСПОЛНИТЕЛЬНЫЙ ОРГАН ОБЩЕСТВА \n",
            "\n",
            "\t --> 📂 СТАТЬЯ 12. Порядок одобрения сделок, в совершении которых имеется заинтересованность\n",
            "\n",
            "\t --> 📂 СТАТЬЯ 13. ВЕДЕНИЕ СПИСКА УЧАСТНИКОВ ОБЩЕСТВА ХРАНЕНИЕ ДОКУМЕНТОВ ОБЩЕСТВА. ПРЕДОСТАВЛЕНИЕ ИНФОРМАЦИИ \n",
            "\n",
            "\t --> 📂 СТАТЬЯ 14. ЗАКЛЮЧИТЕЛЬНЫЕ ПОЛОЖЕНИЯ \n",
            "\n"
          ],
          "name": "stdout"
        },
        {
          "output_type": "stream",
          "text": [
            "nlp_tools/legal_docs.py:684: UserWarning: WARNING: Document is too large for embedding: 517 tokens. Splitting into 6 windows overlapping with 5 tokens \n",
            "  warnings.warn(msg)\n"
          ],
          "name": "stderr"
        },
        {
          "output_type": "stream",
          "text": [
            "patterns_names ['headline/AllMembers', 'headline/ShareholdersGeneralMeeting', 'headline/BoardOfDirectors', 'headline/CEO', 'headline/BoardOfCompany', 'headline/comp/q/AllMembers', 'headline/comp/q/ShareholdersGeneralMeeting', 'headline/comp/q/BoardOfDirectors', 'headline/comp/q/CEO', 'headline/comp/q/BoardOfCompany', 'headline/comp/AllMembers', 'headline/comp/ShareholdersGeneralMeeting', 'headline/comp/BoardOfDirectors', 'headline/comp/CEO', 'headline/comp/BoardOfCompany', 'headline/comp/qr/ShareholdersGeneralMeeting', 'headline/comp/qr/BoardOfDirectors', 'headline/comp/qr/CEO']\n",
            "(18, 1024)\n",
            "filtered (('headline/AllMembers', 11), 0.8993299603462219)\n",
            "_paragraph_id 11\n",
            "_pattern_name headline/AllMembers\n",
            "filtered (('headline/comp/qr/CEO', 13), 0.843376636505127)\n",
            "_paragraph_id 13\n",
            "_pattern_name headline/comp/qr/CEO\n",
            "filtered (('headline/BoardOfDirectors', 12), 0.8119738698005676)\n",
            "_paragraph_id 12\n",
            "_pattern_name headline/BoardOfDirectors\n",
            "_dirr /content/gdrive/My Drive/GazpromOil/Всяческая документация (shared)/JSONs/charters-19.11.26-1/\n",
            "_path /content/gdrive/My Drive/GazpromOil/Всяческая документация (shared)/JSONs/charters-19.11.26-1/Устав ГПН-Новосибирск (НБ)_с СД.doc--1.json\n",
            "--> 📂saved file to /content/gdrive/My Drive/GazpromOil/Всяческая документация (shared)/JSONs/charters-19.11.26-1/Устав ГПН-Новосибирск (НБ)_с СД.doc--1.json\n",
            "^^^^^^^^^^^^^^^^^^^^^^^^^^^^^^^^^^^^^^^^^^^^^^^^^^^^^^^^^^^^^^^^^^^^^^^^^^^^^^^^^^^^^^^^^^^^^^^^^^^^\n",
            "\n",
            "\n",
            "\n",
            "====================================================================================================\n",
            "reading:\"/content/gdrive/My Drive/GazpromOil/Charters/Устав ООО.doc\"\n",
            "documents in file: 1\n",
            "\t --> 📂 УТВЕРЖДЕН.\n",
            "\n",
            "\t --> 📂 У С Т А В Общества с ограниченной ответственностью «Ромашка»\n",
            "\n",
            "\t --> 📂 г. Москва 2019 год.\n",
            "\n",
            "\t --> 📂 СТАТЬЯ 1. ФИРМЕННОЕ НАИМЕНОВАНИЕ И МЕСТО НАХОЖДЕНИЯ ОБЩЕСТВА.\n",
            "\n",
            "\t --> 📂 СТАТЬЯ 2. ЮРИДИЧЕСКИЙ СТАТУС \n",
            "\n",
            "\t --> 📂 СТАТЬЯ 3. УСТАВНЫЙ КАПИТАЛ \n",
            "\n",
            "\t --> 📂 СТАТЬЯ 4. ПЕРЕХОД ДОЛИ ИЛИ ЧАСТИ ДОЛИ УЧАСТНИКА \n",
            "\n",
            "\t --> 📂 СТАТЬЯ 5. ВЫХОД УЧАСТНИКА ОБЩЕСТВА ИЗ ОБЩЕСТВА \n",
            "\n",
            "\t --> 📂 СТАТЬЯ 6. УСЛОВИЯ И ПОРЯДОК РАСПРЕДЕЛЕНИЯ ПРИБЫЛИ МЕЖДУ УЧАСТНИКАМИ ОБЩЕСТВА \n",
            "\n",
            "\t --> 📂 СТАТЬЯ 7. ПРАВА И ОБЯЗАННОСТИ УЧАСТНИКОВ ОБЩЕСТВА \n",
            "\n",
            "\t --> 📂 СТАТЬЯ 8. ОРГАНЫ УПРАВЛЕНИЯ \n",
            "\n",
            "\t --> 📂 СТАТЬЯ 9. ОБЩЕЕ СОБРАНИЕ УЧАСТНИКОВ \n",
            "\n",
            "\t --> 📂 СТАТЬЯ 10. СОВЕТ ДИРЕКТОРОВ ОБЩЕСТВА \n",
            "\n",
            "\t --> 📂 СТАТЬЯ 11. ИСПОЛНИТЕЛЬНЫЙ ОРГАН ОБЩЕСТВА \n",
            "\n",
            "\t --> 📂 СТАТЬЯ 12. Порядок одобрения сделок, в совершении которых имеется заинтересованность \n",
            "\n",
            "\t --> 📂 СТАТЬЯ 13. ВЕДЕНИЕ СПИСКА УЧАСТНИКОВ ОБЩЕСТВА ХРАНЕНИЕ ДОКУМЕНТОВ ОБЩЕСТВА. ПРЕДОСТАВЛЕНИЕ ИНФОРМАЦИИ \n",
            "\n",
            "\t --> 📂 СТАТЬЯ 14. ЗАКЛЮЧИТЕЛЬНЫЕ ПОЛОЖЕНИЯ \n",
            "\n"
          ],
          "name": "stdout"
        },
        {
          "output_type": "stream",
          "text": [
            "nlp_tools/legal_docs.py:684: UserWarning: WARNING: Document is too large for embedding: 519 tokens. Splitting into 6 windows overlapping with 5 tokens \n",
            "  warnings.warn(msg)\n"
          ],
          "name": "stderr"
        },
        {
          "output_type": "stream",
          "text": [
            "patterns_names ['headline/AllMembers', 'headline/ShareholdersGeneralMeeting', 'headline/BoardOfDirectors', 'headline/CEO', 'headline/BoardOfCompany', 'headline/comp/q/AllMembers', 'headline/comp/q/ShareholdersGeneralMeeting', 'headline/comp/q/BoardOfDirectors', 'headline/comp/q/CEO', 'headline/comp/q/BoardOfCompany', 'headline/comp/AllMembers', 'headline/comp/ShareholdersGeneralMeeting', 'headline/comp/BoardOfDirectors', 'headline/comp/CEO', 'headline/comp/BoardOfCompany', 'headline/comp/qr/ShareholdersGeneralMeeting', 'headline/comp/qr/BoardOfDirectors', 'headline/comp/qr/CEO']\n",
            "(18, 1024)\n",
            "filtered (('headline/AllMembers', 11), 0.900000810623169)\n",
            "_paragraph_id 11\n",
            "_pattern_name headline/AllMembers\n",
            "filtered (('headline/comp/qr/CEO', 13), 0.843794584274292)\n",
            "_paragraph_id 13\n",
            "_pattern_name headline/comp/qr/CEO\n",
            "filtered (('headline/BoardOfDirectors', 12), 0.8119077682495117)\n",
            "_paragraph_id 12\n",
            "_pattern_name headline/BoardOfDirectors\n",
            "_dirr /content/gdrive/My Drive/GazpromOil/Всяческая документация (shared)/JSONs/charters-19.11.26-1/\n",
            "_path /content/gdrive/My Drive/GazpromOil/Всяческая документация (shared)/JSONs/charters-19.11.26-1/Устав ООО.doc--1.json\n",
            "--> 📂saved file to /content/gdrive/My Drive/GazpromOil/Всяческая документация (shared)/JSONs/charters-19.11.26-1/Устав ООО.doc--1.json\n",
            "^^^^^^^^^^^^^^^^^^^^^^^^^^^^^^^^^^^^^^^^^^^^^^^^^^^^^^^^^^^^^^^^^^^^^^^^^^^^^^^^^^^^^^^^^^^^^^^^^^^^\n",
            "\n",
            "\n",
            "\n",
            "====================================================================================================\n",
            "reading:\"/content/gdrive/My Drive/GazpromOil/Charters/Устав_ООО ЮП ГПЗ_ред 5.doc\"\n",
            "documents in file: 1\n",
            "\t --> 📂 УТВЕРЖДЕН Общим собранием участников Общества с ограниченной ответственностью «Южно-Приобский газоперерабатывающий завод» от «__» [●] 2017 года, Протокол №____ У С Т А В ОБЩЕСТВА С ОГРАНИЧЕННОЙ ОТВЕТСТВЕННОСТЬЮ «ЮЖНО-ПРИОБСКИЙ ГАЗОПЕРЕРАБАТЫВАЮЩИЙ ЗАВОД» (редакция № 5) \n",
            "\n",
            "\t --> 📂 г. Ханты-Мансийск 2017 год.\n",
            "\n",
            "\t --> 📂 Статья 1. Общие положения\n",
            "\n",
            "\t --> 📂 Статья 2. Цель создания и виды деятельности Общества\n",
            "\n",
            "\t --> 📂 Статья 3. Права и обязанности Участников Общества\n",
            "\n",
            "\t --> 📂 Статья 4. Уставный капитал\n",
            "\n",
            "\t --> 📂 Статья 5. Распределение прибыли, фонды Общества\n",
            "\n",
            "\t --> 📂 Статья 6. Переход доли, выход из Общества\n",
            "\n",
            "\t --> 📂 Статья 7. Вклады в имущество\n",
            "\n",
            "\t --> 📂 Статья 8. Отчетность Общества\n",
            "\n",
            "\t --> 📂 Статья 9. Ведение списка участников Общества\n",
            "\n",
            "\t --> 📂 Статья 10. Органы управления\n",
            "\n",
            "\t --> 📂 Статья 11. Общее собрание участников Общества\n",
            "\n",
            "\t --> 📂 Статья 12. Совет директоров Общества\n",
            "\n",
            "\t --> 📂 Статья 13. Правление Общества\n",
            "\n",
            "\t --> 📂 Статья 14. Генеральный директор Общества\n",
            "\n",
            "\t --> 📂 Статья 15. Контроль за финансово-хозяйственной деятельностью Общества\n",
            "\n",
            "\t --> 📂 Статья 16. Филиалы и представительства Общества\n",
            "\n",
            "\t --> 📂 Статья 17. Отчетность, хранение документов Общества\n",
            "\n",
            "\t --> 📂 Статья 18. Ликвидация и реорганизация Общества\n",
            "\n",
            "\t --> 📂 Статья 19. Действие Устава Общества\n",
            "\n"
          ],
          "name": "stdout"
        },
        {
          "output_type": "stream",
          "text": [
            "nlp_tools/legal_docs.py:684: UserWarning: WARNING: Document is too large for embedding: 735 tokens. Splitting into 8 windows overlapping with 5 tokens \n",
            "  warnings.warn(msg)\n"
          ],
          "name": "stderr"
        },
        {
          "output_type": "stream",
          "text": [
            "patterns_names ['headline/AllMembers', 'headline/ShareholdersGeneralMeeting', 'headline/BoardOfDirectors', 'headline/CEO', 'headline/BoardOfCompany', 'headline/comp/q/AllMembers', 'headline/comp/q/ShareholdersGeneralMeeting', 'headline/comp/q/BoardOfDirectors', 'headline/comp/q/CEO', 'headline/comp/q/BoardOfCompany', 'headline/comp/AllMembers', 'headline/comp/ShareholdersGeneralMeeting', 'headline/comp/BoardOfDirectors', 'headline/comp/CEO', 'headline/comp/BoardOfCompany', 'headline/comp/qr/ShareholdersGeneralMeeting', 'headline/comp/qr/BoardOfDirectors', 'headline/comp/qr/CEO']\n",
            "(18, 1024)\n",
            "filtered (('headline/BoardOfCompany', 14), 0.8324514627456665)\n",
            "_paragraph_id 14\n",
            "_pattern_name headline/BoardOfCompany\n",
            "filtered (('headline/BoardOfDirectors', 13), 0.8119148015975952)\n",
            "_paragraph_id 13\n",
            "_pattern_name headline/BoardOfDirectors\n",
            "filtered (('headline/AllMembers', 12), 0.8116768002510071)\n",
            "_paragraph_id 12\n",
            "_pattern_name headline/AllMembers\n",
            "filtered (('headline/CEO', 15), 0.7777308225631714)\n",
            "_paragraph_id 15\n",
            "_pattern_name headline/CEO\n",
            "_dirr /content/gdrive/My Drive/GazpromOil/Всяческая документация (shared)/JSONs/charters-19.11.26-1/\n",
            "_path /content/gdrive/My Drive/GazpromOil/Всяческая документация (shared)/JSONs/charters-19.11.26-1/Устав_ООО ЮП ГПЗ_ред 5.doc--1.json\n",
            "--> 📂saved file to /content/gdrive/My Drive/GazpromOil/Всяческая документация (shared)/JSONs/charters-19.11.26-1/Устав_ООО ЮП ГПЗ_ред 5.doc--1.json\n",
            "^^^^^^^^^^^^^^^^^^^^^^^^^^^^^^^^^^^^^^^^^^^^^^^^^^^^^^^^^^^^^^^^^^^^^^^^^^^^^^^^^^^^^^^^^^^^^^^^^^^^\n",
            "\n",
            "\n",
            "\n",
            "====================================================================================================\n",
            "reading:\"/content/gdrive/My Drive/GazpromOil/Charters/Устав_Рег. продажи авг 2018.docx\"\n",
            "documents in file: 1\n",
            "\t --> 📂 УТВЕРЖДЕН РЕШЕНИЕМ внеочередного общего собрания участников Общества с ограниченной ответственностью «Газпромнефть-Региональные продажи» от «08» августа 2018 год.\n",
            "\n",
            "\t --> 📂 У С Т А В Общества с ограниченной ответственностью «Газпромнефть - Региональные продажи»\n",
            "\n",
            "\t --> 📂 г. Санкт-Петербург 2018 год СТАТЬЯ 1. ОБЩИЕ ПОЛОЖЕНИЯ.\n",
            "\n",
            "\t --> 📂 СТАТЬЯ 2. ФИРМЕННОЕ НАИМЕНОВАНИЕ И МЕСТО НАХОЖДЕНИЯ ОБЩЕСТВА \n",
            "\n",
            "\t --> 📂 СТАТЬЯ 3. ЮРИДИЧЕСКИЙ СТАТУС \n",
            "\n",
            "\t --> 📂 СТАТЬЯ 4. УСТАВНЫЙ КАПИТАЛ \n",
            "\n",
            "\t --> 📂 СТАТЬЯ 5. ПЕРЕХОД ДОЛИ ИЛИ ЧАСТИ ДОЛИ УЧАСТНИКА \n",
            "\n",
            "\t --> 📂 СТАТЬЯ 6. ВЫХОД УЧАСТНИКА ОБЩЕСТВА ИЗ ОБЩЕСТВА \n",
            "\n",
            "\t --> 📂 СТАТЬЯ 7. УСЛОВИЯ И ПОРЯДОК РАСПРЕДЕЛЕНИЯ ПРИБЫЛИ МЕЖДУ УЧАСТНИКАМИ ОБЩЕСТВА \n",
            "\n",
            "\t --> 📂 СТАТЬЯ 8. ПРАВА И ОБЯЗАННОСТИ УЧАСТНИКОВ ОБЩЕСТВА \n",
            "\n",
            "\t --> 📂 СТАТЬЯ 9. ОРГАНЫ УПРАВЛЕНИЯ \n",
            "\n",
            "\t --> 📂 СТАТЬЯ 10. ОБЩЕЕ СОБРАНИЕ УЧАСТНИКОВ \n",
            "\n",
            "\t --> 📂 СТАТЬЯ 11. СОВЕТ ДИРЕКТОРОВ ОБЩЕСТВА \n",
            "\n",
            "\t --> 📂 СТАТЬЯ 12. ИСПОЛНИТЕЛЬНЫЙ ОРГАН ОБЩЕСТВА \n",
            "\n",
            "\t --> 📂 СТАТЬЯ 13. Порядок одобрения сделок, в совершении которых имеется заинтересованность\n",
            "\n",
            "\t --> 📂 СТАТЬЯ 14. ВЕДЕНИЕ СПИСКА УЧАСТНИКОВ ОБЩЕСТВА ХРАНЕНИЕ ДОКУМЕНТОВ ОБЩЕСТВА. ПРЕДОСТАВЛЕНИЕ ИНФОРМАЦИИ \n",
            "\n",
            "\t --> 📂 СТАТЬЯ 15. ЗАКЛЮЧИТЕЛЬНЫЕ ПОЛОЖЕНИЯ \n",
            "\n"
          ],
          "name": "stdout"
        },
        {
          "output_type": "stream",
          "text": [
            "nlp_tools/legal_docs.py:684: UserWarning: WARNING: Document is too large for embedding: 520 tokens. Splitting into 6 windows overlapping with 5 tokens \n",
            "  warnings.warn(msg)\n"
          ],
          "name": "stderr"
        },
        {
          "output_type": "stream",
          "text": [
            "patterns_names ['headline/AllMembers', 'headline/ShareholdersGeneralMeeting', 'headline/BoardOfDirectors', 'headline/CEO', 'headline/BoardOfCompany', 'headline/comp/q/AllMembers', 'headline/comp/q/ShareholdersGeneralMeeting', 'headline/comp/q/BoardOfDirectors', 'headline/comp/q/CEO', 'headline/comp/q/BoardOfCompany', 'headline/comp/AllMembers', 'headline/comp/ShareholdersGeneralMeeting', 'headline/comp/BoardOfDirectors', 'headline/comp/CEO', 'headline/comp/BoardOfCompany', 'headline/comp/qr/ShareholdersGeneralMeeting', 'headline/comp/qr/BoardOfDirectors', 'headline/comp/qr/CEO']\n",
            "(18, 1024)\n",
            "filtered (('headline/AllMembers', 11), 0.8992334604263306)\n",
            "_paragraph_id 11\n",
            "_pattern_name headline/AllMembers\n",
            "filtered (('headline/comp/qr/CEO', 13), 0.8430503606796265)\n",
            "_paragraph_id 13\n",
            "_pattern_name headline/comp/qr/CEO\n",
            "filtered (('headline/BoardOfDirectors', 12), 0.8120832443237305)\n",
            "_paragraph_id 12\n",
            "_pattern_name headline/BoardOfDirectors\n",
            "_dirr /content/gdrive/My Drive/GazpromOil/Всяческая документация (shared)/JSONs/charters-19.11.26-1/\n",
            "_path /content/gdrive/My Drive/GazpromOil/Всяческая документация (shared)/JSONs/charters-19.11.26-1/Устав_Рег. продажи авг 2018.docx--1.json\n",
            "--> 📂saved file to /content/gdrive/My Drive/GazpromOil/Всяческая документация (shared)/JSONs/charters-19.11.26-1/Устав_Рег. продажи авг 2018.docx--1.json\n",
            "^^^^^^^^^^^^^^^^^^^^^^^^^^^^^^^^^^^^^^^^^^^^^^^^^^^^^^^^^^^^^^^^^^^^^^^^^^^^^^^^^^^^^^^^^^^^^^^^^^^^\n",
            "\n",
            "\n",
            "\n",
            "====================================================================================================\n",
            "reading:\"/content/gdrive/My Drive/GazpromOil/Charters/яМессояха Устава.docx\"\n",
            "documents in file: 1\n",
            "\t --> 📂 УТВЕРЖДЕН.\n",
            "\n",
            "\t --> 📂 У С Т А В Акционерного общества «Мессояханефтегаз»\n",
            "\n",
            "\t --> 📂 (новая редакция)\n",
            "\n",
            "\t --> 📂 г. Новый Уренгой 2017 год ОГЛАВЛЕНИЕ \n",
            "\n",
            "\t --> 📂 Статья 1. Общие положения\n",
            "\n",
            "\t --> 📂 Статья 2. Фирменное наименование и место нахождения Общества\n",
            "\n",
            "\t --> 📂 Статья 3. Юридический статус Общества\n",
            "\n",
            "\t --> 📂 Статья 4. Ответственность Общества\n",
            "\n",
            "\t --> 📂 Статья 5. Филиалы и представительства, дочерние и зависимые общества\n",
            "\n",
            "\t --> 📂 Статья 6. Цель создания и основные виды деятельности Общества\n",
            "\n",
            "\t --> 📂 Статья 7. Уставный капитал Общества. Размещенные и объявленные акции. Вклады в имущество общества, не увеличивающие уставный капитал \n",
            "\n",
            "\t --> 📂 Статья 8. Облигации и иные эмиссионные ценные бумаги Общества\n",
            "\n",
            "\t --> 📂 Статья 9. Права и обязанности акционеров Общества\n",
            "\n",
            "\t --> 📂 Статья 10. Фонды Общества\n",
            "\n",
            "\t --> 📂 Статья 11. Дивиденды Общества\n",
            "\n",
            "\t --> 📂 Статья 12. Органы управления\n",
            "\n",
            "\t --> 📂 Статья 13. Общее собрание акционеров Общества\n",
            "\n",
            "\t --> 📂 Статья 14. Компетенция Общего собрания акционеров Общества\n",
            "\n",
            "\t --> 📂 Статья 15. Решения Общего собрания акционеров Общества\n",
            "\n",
            "\t --> 📂 Статья 16. Предложения в повестку дня, информация о проведении Общего собрания акционеров Общества\n",
            "\n",
            "\t --> 📂 Статья 17. Участие и голосование на Общем собрании акционеров, протокол Общего собрания акционеров Общества\n",
            "\n",
            "\t --> 📂 Статья 18. Совет директоров Общества\n",
            "\n",
            "\t --> 📂 Статья 19. Компетенция Совета директоров Общества \n",
            "\n",
            "\t --> 📂 Статья 20. Председатель Совета директоров, Секретарь заседания Совета директоров и Секретарь Совета директоров Общества \n",
            "\n",
            "\t --> 📂 Статья 21. Заседания Совета директоров Общества\n",
            "\n",
            "\t --> 📂 Статья 22. Генеральный директор Общества\n",
            "\n",
            "\t --> 📂 Статья 23. Порядок отчуждения акций Общества. Ограничения в отношении сделок с акциями Общества. \n",
            "\n",
            "\t --> 📂 Статья 24. Ревизионная комиссия Общества\n",
            "\n",
            "\t --> 📂 Статья 25. Действие Устава Общества\n",
            "\n"
          ],
          "name": "stdout"
        },
        {
          "output_type": "stream",
          "text": [
            "nlp_tools/legal_docs.py:684: UserWarning: WARNING: Document is too large for embedding: 633 tokens. Splitting into 7 windows overlapping with 5 tokens \n",
            "  warnings.warn(msg)\n"
          ],
          "name": "stderr"
        },
        {
          "output_type": "stream",
          "text": [
            "patterns_names ['headline/AllMembers', 'headline/ShareholdersGeneralMeeting', 'headline/BoardOfDirectors', 'headline/CEO', 'headline/BoardOfCompany', 'headline/comp/q/AllMembers', 'headline/comp/q/ShareholdersGeneralMeeting', 'headline/comp/q/BoardOfDirectors', 'headline/comp/q/CEO', 'headline/comp/q/BoardOfCompany', 'headline/comp/AllMembers', 'headline/comp/ShareholdersGeneralMeeting', 'headline/comp/BoardOfDirectors', 'headline/comp/CEO', 'headline/comp/BoardOfCompany', 'headline/comp/qr/ShareholdersGeneralMeeting', 'headline/comp/qr/BoardOfDirectors', 'headline/comp/qr/CEO']\n",
            "(18, 1024)\n",
            "filtered (('headline/comp/qr/ShareholdersGeneralMeeting', 17), 0.8978687524795532)\n",
            "_paragraph_id 17\n",
            "_pattern_name headline/comp/qr/ShareholdersGeneralMeeting\n",
            "filtered (('headline/ShareholdersGeneralMeeting', 16), 0.8742919564247131)\n",
            "_paragraph_id 16\n",
            "_pattern_name headline/ShareholdersGeneralMeeting\n",
            "filtered (('headline/comp/qr/BoardOfDirectors', 22), 0.8662330508232117)\n",
            "_paragraph_id 22\n",
            "_pattern_name headline/comp/qr/BoardOfDirectors\n",
            "filtered (('headline/BoardOfDirectors', 21), 0.811773419380188)\n",
            "_paragraph_id 21\n",
            "_pattern_name headline/BoardOfDirectors\n",
            "filtered (('headline/CEO', 25), 0.7761728763580322)\n",
            "_paragraph_id 25\n",
            "_pattern_name headline/CEO\n",
            "filtered (('headline/comp/ShareholdersGeneralMeeting', 20), 0.7067182064056396)\n",
            "_paragraph_id 20\n",
            "_pattern_name headline/comp/ShareholdersGeneralMeeting\n",
            "_dirr /content/gdrive/My Drive/GazpromOil/Всяческая документация (shared)/JSONs/charters-19.11.26-1/\n",
            "_path /content/gdrive/My Drive/GazpromOil/Всяческая документация (shared)/JSONs/charters-19.11.26-1/яМессояха Устава.docx--1.json\n",
            "--> 📂saved file to /content/gdrive/My Drive/GazpromOil/Всяческая документация (shared)/JSONs/charters-19.11.26-1/яМессояха Устава.docx--1.json\n",
            "^^^^^^^^^^^^^^^^^^^^^^^^^^^^^^^^^^^^^^^^^^^^^^^^^^^^^^^^^^^^^^^^^^^^^^^^^^^^^^^^^^^^^^^^^^^^^^^^^^^^\n"
          ],
          "name": "stdout"
        }
      ]
    },
    {
      "cell_type": "code",
      "metadata": {
        "id": "JlPN0TNVt7x-",
        "colab_type": "code",
        "colab": {
          "base_uri": "https://localhost:8080/",
          "height": 158
        },
        "outputId": "14a69a12-14ec-4b63-aff7-d133b4f7e225"
      },
      "source": [
        "raise('not sure, not run')"
      ],
      "execution_count": 32,
      "outputs": [
        {
          "output_type": "error",
          "ename": "TypeError",
          "evalue": "ignored",
          "traceback": [
            "\u001b[0;31m---------------------------------------------------------------------------\u001b[0m",
            "\u001b[0;31mTypeError\u001b[0m                                 Traceback (most recent call last)",
            "\u001b[0;32m<ipython-input-32-9683542b374f>\u001b[0m in \u001b[0;36m<module>\u001b[0;34m()\u001b[0m\n\u001b[0;32m----> 1\u001b[0;31m \u001b[0;32mraise\u001b[0m\u001b[0;34m(\u001b[0m\u001b[0;34m'not sure, not run'\u001b[0m\u001b[0;34m)\u001b[0m\u001b[0;34m\u001b[0m\u001b[0;34m\u001b[0m\u001b[0m\n\u001b[0m",
            "\u001b[0;31mTypeError\u001b[0m: exceptions must derive from BaseException"
          ]
        }
      ]
    },
    {
      "cell_type": "markdown",
      "metadata": {
        "id": "-19diMBJejNZ",
        "colab_type": "text"
      },
      "source": [
        "#Parse 2K sectioned contracts (Achtung, dis takes time)\n",
        "- upload zipped results of document-parser first "
      ]
    },
    {
      "cell_type": "code",
      "metadata": {
        "id": "jxlAyKnbh4O8",
        "colab_type": "code",
        "colab": {}
      },
      "source": [
        "from google.colab import files\n",
        "uploaded = files.upload()\n",
        "!unzip /content/jsons_phase0.zip\n",
        "import glob\n",
        "filenames = [file for file in glob.glob( \"/content/jsons_phase0/**/*.json\", recursive=True)] \n",
        "\n",
        "!mkdir out"
      ],
      "execution_count": 0,
      "outputs": []
    },
    {
      "cell_type": "code",
      "metadata": {
        "id": "mPkY14L71ieD",
        "colab_type": "code",
        "colab": {}
      },
      "source": [
        "\n",
        "import csv, json\n",
        "from bson import json_util\n",
        "\n",
        "\n",
        "from contract_parser import ContractAnlysingContext\n",
        "from integration.word_document_parser import join_paragraphs\n",
        "\n",
        "\n",
        "def export_csv(rows, headline=['1', '2', '3', '4', '5', '6', '7', '8', '9']):\n",
        "  with open(f'contracts-stats.csv', mode='w') as csv_file:\n",
        "    _writer = csv.writer(csv_file, delimiter=',', quotechar='\"', quoting=csv.QUOTE_MINIMAL)\n",
        "    _writer.writerow(headline)\n",
        "    for l in rows:\n",
        "      _writer.writerow(l)\n",
        "\n",
        "\n",
        "def _parse_contract(res, doc_id, row, ctx: ContractAnlysingContext):\n",
        "  contract = join_paragraphs(res, doc_id)\n",
        "  ctx.analyze_contract_doc(contract)\n",
        "\n",
        "  row[4:8] = [contract.tag_value('org.1.name'),\n",
        "              contract.tag_value('org.1.alias'),\n",
        "              contract.tag_value('org.2.name'),\n",
        "              contract.tag_value('org.2.alias')]\n",
        "  return contract\n",
        "\n",
        " \n",
        "rows=[]\n",
        "cnt=0\n",
        "\n",
        "for fn in filenames[200:]:\n",
        "  with open(fn, 'r') as file:\n",
        "    json_string = file.read()\n",
        "    res = json.loads(json_string, object_hook=json_util.object_hook)\n",
        "\n",
        "  if 'CONTRACT' == res[\"documentType\"]:\n",
        "    row = [cnt, '', None, None, None, None, None, None, fn, None]\n",
        "    row[2:4] = [res[\"documentType\"], res[\"documentDate\"]]\n",
        "    contract = _parse_contract(res, fn,  row, contractAnlysingContext)\n",
        "         \n",
        "    short_fn = fn.split('/')[-1]\n",
        "    with open(f'/content/out/{short_fn}.json', 'w') as file:\n",
        "      jjj = DocumentJson(contract)\n",
        "      file.write(jjj.dumps())\n",
        "\n",
        "\n",
        "    rows.append(row)\n",
        "    if cnt % 5 == 0: #save every 5 rows\n",
        "      export_csv(rows)\n",
        "\n",
        "  cnt+=1"
      ],
      "execution_count": 0,
      "outputs": []
    },
    {
      "cell_type": "code",
      "metadata": {
        "id": "DoWC-mK1zwlp",
        "colab_type": "code",
        "colab": {}
      },
      "source": [
        "cnt"
      ],
      "execution_count": 0,
      "outputs": []
    },
    {
      "cell_type": "code",
      "metadata": {
        "id": "qln4vihrY9gg",
        "colab_type": "code",
        "colab": {}
      },
      "source": [
        "import zipfile\n",
        "import os\n",
        "import sys\n",
        "\n",
        "def zipfolder(foldername, target_dir):            \n",
        "  zipobj = zipfile.ZipFile(foldername + '.zip', 'w', zipfile.ZIP_DEFLATED)\n",
        "  rootlen = len(target_dir) + 1\n",
        "  for base, dirs, files in os.walk(target_dir):\n",
        "    for file in files:\n",
        "      fn = os.path.join(base, file)\n",
        "      zipobj.write(fn, fn[rootlen:])\n",
        "\n",
        "\n",
        "\n",
        "zipfolder('out','/content/out')"
      ],
      "execution_count": 0,
      "outputs": []
    }
  ]
}