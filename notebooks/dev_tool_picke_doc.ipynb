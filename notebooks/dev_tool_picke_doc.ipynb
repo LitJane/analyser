{
  "nbformat": 4,
  "nbformat_minor": 0,
  "metadata": {
    "colab": {
      "name": "dev: tool: picke doc.ipynb",
      "provenance": [],
      "collapsed_sections": [],
      "toc_visible": true,
      "include_colab_link": true
    },
    "kernelspec": {
      "name": "python3",
      "display_name": "Python 3"
    },
    "accelerator": "GPU"
  },
  "cells": [
    {
      "cell_type": "markdown",
      "metadata": {
        "id": "view-in-github",
        "colab_type": "text"
      },
      "source": [
        "<a href=\"https://colab.research.google.com/github/nemoware/analyser/blob/protocols-4/notebooks/dev_tool_picke_doc.ipynb\" target=\"_parent\"><img src=\"https://colab.research.google.com/assets/colab-badge.svg\" alt=\"Open In Colab\"/></a>"
      ]
    },
    {
      "cell_type": "markdown",
      "metadata": {
        "id": "lGoExQvowHLP",
        "colab_type": "text"
      },
      "source": [
        "# Pickle\n",
        "- processing all files and saving results to scv"
      ]
    },
    {
      "cell_type": "code",
      "metadata": {
        "id": "vXHjbkIfc8Ws",
        "colab_type": "code",
        "cellView": "both",
        "colab": {}
      },
      "source": [
        "#@title Config\n",
        "_git_branch = \"protocols-4\" #@param {type:\"string\"}\n",
        "GLOBALS__={}"
      ],
      "execution_count": 0,
      "outputs": []
    },
    {
      "cell_type": "code",
      "metadata": {
        "id": "MN9nfwicwxBJ",
        "colab_type": "code",
        "colab": {}
      },
      "source": [
        "''' AZ:-IMPORT CODE GITHUB----------------------------------------------😺------ '''\n",
        "\n",
        "\n",
        "import tensorflow as tf\n",
        "import tensorflow_hub as hub\n",
        "\n",
        "import sys\n",
        "\n",
        "\n",
        "def _init_import_code_from_gh():\n",
        "  if 'GLOBALS__' not in globals():\n",
        "    print('adding global GLOBALS__')\n",
        "    global GLOBALS__\n",
        "    GLOBALS__ = {}\n",
        "\n",
        "  if '_init_import_code_from_gh' in GLOBALS__:\n",
        "    print('👌 code already imported from GitHub!')\n",
        "    return\n",
        "\n",
        "  import subprocess\n",
        "  def exec(x):\n",
        "    r = subprocess.check_output(x, shell=True)\n",
        "    r = r.decode('unicode-escape').encode('latin1').decode('utf8')\n",
        "    print(r)\n",
        "\n",
        "  print(f\"fetching code from GitHub.....{_git_branch}\")\n",
        "  try:\n",
        "    exec('rm -r nlp_tools')\n",
        "  except:\n",
        "    pass\n",
        "  exec(f'git clone --single-branch --branch {_git_branch} https://github.com/nemoware/analyser.git nlp_tools')\n",
        "\n",
        "  print('🦊 GIT revision:')\n",
        "  exec('cd nlp_tools\\ngit rev-list --reverse HEAD | awk \"{ print NR }\" | tail -n 1\\ngit branch\\ngit log -3 --pretty=%B')\n",
        "\n",
        "  sys.path.insert(0, 'nlp_tools')\n",
        "\n",
        "  GLOBALS__['_init_import_code_from_gh'] = True\n",
        "\n",
        "  print('❤️ DONE importing Code fro GitHub')\n",
        "\n",
        " \n",
        "\n",
        "# AZ:-INIT EMBEDDER-----------------------------------------------------------------------------------\n",
        "def _init_embedder():\n",
        "  if 'elmo_embedder' in GLOBALS__:\n",
        "    print('👌 Embedder is already created! ')\n",
        "    return\n",
        "\n",
        "  from embedding_tools import ElmoEmbedder\n",
        "  GLOBALS__['elmo_embedder'] = ElmoEmbedder(module_url = 'https://storage.googleapis.com/az-nlp/elmo_ru-news_wmt11-16_1.5M_steps.tar.gz')\n",
        "  print('❤️ DONE creating words embedding model')\n",
        "  return GLOBALS__['elmo_embedder']\n",
        "\n",
        "\n",
        "def _init_contracts():\n",
        "  if 'ContractAnlysingContext' in GLOBALS__:\n",
        "    print('👌 Contracts-related tools are already inited ')\n",
        "    return\n",
        "\n",
        "  from contract_parser import ContractAnlysingContext\n",
        "  GLOBALS__['ContractAnlysingContext'] = ContractAnlysingContext(GLOBALS__['elmo_embedder'], GLOBALS__['renderer'])\n",
        "  print('❤️ DONE initing Contracts-related tools and models ')\n",
        "\n",
        "\n",
        "# AZ:- THE CODE----------------------------------------------------------------------------------\n",
        "def _init_the_code():\n",
        "  if '_init_the_code' in GLOBALS__:\n",
        "    print('👌 Code is alredy imported!')\n",
        "    return\n",
        "\n",
        "  from renderer import SilentRenderer\n",
        "\n",
        "  class RendererForBatch(SilentRenderer):\n",
        "    pass\n",
        "\n",
        "  GLOBALS__['renderer'] = RendererForBatch()\n",
        "  GLOBALS__['_init_the_code'] = True\n",
        "\n",
        "\n",
        "  print(\"❤️ DONE initializing the code\")\n",
        "\n",
        "# AZ:---------------------------------------------------------------------------END OF THE THE CODE, See you later\n",
        "import nltk\n",
        "nltk.download('punkt')\n",
        "\n",
        "\n",
        "\n",
        "## do preparation here   \n",
        "    \n",
        "#1.\n",
        "_init_import_code_from_gh()\n",
        "#2.\n",
        "_init_embedder()\n",
        "#3.\n",
        "_init_the_code()\n",
        "#4. \n",
        "# if batch_charters:\n",
        "# #   _init_charters()\n",
        "# if batch_contracts:\n",
        "#   _init_contracts()"
      ],
      "execution_count": 0,
      "outputs": []
    },
    {
      "cell_type": "code",
      "metadata": {
        "id": "83ENUGvcVCrC",
        "colab_type": "code",
        "colab": {}
      },
      "source": [
        "from google.colab import drive\n",
        "drive.mount('/content/gdrive', force_remount=True)"
      ],
      "execution_count": 0,
      "outputs": []
    },
    {
      "cell_type": "code",
      "metadata": {
        "id": "X72vKg7Yiy1O",
        "colab_type": "code",
        "colab": {}
      },
      "source": [
        "!pip install overrides\n",
        "!pip install pyjarowinkler\n",
        "from overrides import overrides\n",
        "# from integration.doc_providers import GDriveTestDocProvider\n",
        "\n",
        "\n",
        "# doc_provider = GDriveTestDocProvider()\n",
        "\n",
        "from contract_parser import ContractAnlysingContext, ContractDocument\n",
        "from contract_patterns import ContractPatternFactory\n",
        "from documents import TextMap\n",
        "from legal_docs import LegalDocument\n",
        "from ml_tools import SemanticTag\n",
        "from structures import ContractTags"
      ],
      "execution_count": 0,
      "outputs": []
    },
    {
      "cell_type": "markdown",
      "metadata": {
        "id": "M9nEHJDuFyXZ",
        "colab_type": "text"
      },
      "source": [
        "# UTIL"
      ]
    },
    {
      "cell_type": "code",
      "metadata": {
        "id": "6cC3wQNEoA0t",
        "colab_type": "code",
        "colab": {}
      },
      "source": [
        "parser_lib_version='1.0.8'\n",
        "!wget https://github.com/nemoware/document-parser/releases/download/$parser_lib_version/document-parser-$parser_lib_version-distribution.zip\n",
        "!unzip document-parser-$parser_lib_version-distribution.zip\n"
      ],
      "execution_count": 0,
      "outputs": []
    },
    {
      "cell_type": "markdown",
      "metadata": {
        "id": "9t3AoR1UDN73",
        "colab_type": "text"
      },
      "source": [
        "## Export Contract Pattern Factory"
      ]
    },
    {
      "cell_type": "code",
      "metadata": {
        "id": "i6s5qIs-LHoH",
        "colab_type": "code",
        "colab": {}
      },
      "source": [
        "import pickle\n",
        "from contract_patterns import ContractPatternFactory\n",
        "\n",
        "contract_pattern_factory = ContractPatternFactory(GLOBALS__['elmo_embedder'])\n",
        "contract_pattern_factory.embedder=None\n",
        "\n",
        "with open('contract_pattern_factory.pickle', 'wb') as handle:\n",
        "  pickle.dump(contract_pattern_factory, handle, protocol=pickle.HIGHEST_PROTOCOL)"
      ],
      "execution_count": 0,
      "outputs": []
    },
    {
      "cell_type": "code",
      "metadata": {
        "id": "AJI7NBqsF2Ji",
        "colab_type": "code",
        "colab": {}
      },
      "source": [
        "# from contract_parser import ContractDocument\n",
        "from integration.word_document_parser import WordDocParser, join_paragraphs\n",
        "from legal_docs import LegalDocument, Paragraph\n",
        "from ml_tools import SemanticTag\n",
        "import pickle, os\n",
        "\n",
        "# '/content/gdrive/My Drive/GazpromOil/Contracts/3 этап по правилам/Договор_2_.doc'\n",
        "# FN = 'Договор _2_.docx'\n",
        "# FILENAME=f'/content/gdrive/My Drive/GazpromOil/Contracts/3 этап по правилам/{FN}'\n",
        "FN='Протокол_СД_ 3.docx'\n",
        "FILENAME=f'/content/{FN}'\n",
        "os.environ ['documentparser']=f'/content/document-parser-{parser_lib_version}'\n",
        " \n",
        "res = WordDocParser().read_doc(FILENAME)\n",
        "\n",
        "#------------------------\n",
        "cd = join_paragraphs(res, FILENAME)\n",
        "#------------------------\n",
        " \n",
        "cd.embedd_tokens(GLOBALS__['elmo_embedder'])\n",
        "print('embedded ok', cd.embeddings.shape)\n",
        "\n",
        "with open(f'{FN}.pickle', 'wb') as handle:\n",
        "  pickle.dump(cd, handle, protocol=pickle.HIGHEST_PROTOCOL)\n",
        "\n",
        " "
      ],
      "execution_count": 0,
      "outputs": []
    },
    {
      "cell_type": "code",
      "metadata": {
        "id": "6DFbQIcNEcj8",
        "colab_type": "code",
        "colab": {}
      },
      "source": [
        "print(' '.join( cd.tokens_cc))"
      ],
      "execution_count": 0,
      "outputs": []
    },
    {
      "cell_type": "code",
      "metadata": {
        "id": "qAD1B1QxHa3Y",
        "colab_type": "code",
        "colab": {}
      },
      "source": [
        "with open(f'{FN}.pickle', 'rb') as handle:\n",
        "  b = pickle.load(handle)\n",
        "  print('embedded ok', b.embeddings.shape)"
      ],
      "execution_count": 0,
      "outputs": []
    },
    {
      "cell_type": "markdown",
      "metadata": {
        "id": "l3t0lkgqWW02",
        "colab_type": "text"
      },
      "source": [
        "#Tests"
      ]
    },
    {
      "cell_type": "code",
      "metadata": {
        "id": "ry768DPkWWIQ",
        "colab_type": "code",
        "colab": {}
      },
      "source": [
        "  def test_find_contract_subject_region_in_doc_head(doc, ctx):\n",
        "    section = doc.subdoc_slice(slice(0, 1500))\n",
        "    denominator = 0.7\n",
        " \n",
        "    # ----------------------------------------\n",
        "    result = ctx.find_contract_subject_regions(section, denominator)\n",
        "    # ---------------------\n",
        "\n",
        "    self.print_semantic_tag(result, doc.tokens_map)\n",
        "    # assert  '1.1 Благотворитель оплачивает следующий счет, выставленный на Благополучателя:'== doc.tokens_map.text_range(result.span).strip())\n",
        "\n",
        "\n",
        "\n",
        "test_find_contract_subject_region_in_doc_head()\n",
        "  "
      ],
      "execution_count": 0,
      "outputs": []
    }
  ]
}