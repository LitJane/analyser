{
  "nbformat": 4,
  "nbformat_minor": 0,
  "metadata": {
    "colab": {
      "name": "Basic Named Entity Recognition (NER, deeppavlov).ipynb",
      "version": "0.3.2",
      "provenance": [],
      "collapsed_sections": [],
      "toc_visible": true,
      "include_colab_link": true
    },
    "kernelspec": {
      "name": "python3",
      "display_name": "Python 3"
    }
  },
  "cells": [
    {
      "cell_type": "markdown",
      "metadata": {
        "id": "view-in-github",
        "colab_type": "text"
      },
      "source": [
        "<a href=\"https://colab.research.google.com/github/compartia/nlp_tools/blob/master/Basic_Named_Entity_Recognition_(NER%2C_deeppavlov).ipynb\" target=\"_parent\"><img src=\"https://colab.research.google.com/assets/colab-badge.svg\" alt=\"Open In Colab\"/></a>"
      ]
    },
    {
      "cell_type": "markdown",
      "metadata": {
        "id": "QF4JPDUuiYKc",
        "colab_type": "text"
      },
      "source": [
        "# Deeep Pavlov:  Named Entity Recognition (NER)\n"
      ]
    },
    {
      "cell_type": "code",
      "metadata": {
        "id": "Dx9eKKaSigan",
        "colab_type": "code",
        "colab": {}
      },
      "source": [
        "!pip3 install deeppavlov\n",
        "!pip install git+https://github.com/facebookresearch/fastText.git"
      ],
      "execution_count": 0,
      "outputs": []
    },
    {
      "cell_type": "code",
      "metadata": {
        "id": "zyMRjBQEjRIm",
        "colab_type": "code",
        "colab": {}
      },
      "source": [
        "from deeppavlov import build_model, configs"
      ],
      "execution_count": 0,
      "outputs": []
    },
    {
      "cell_type": "code",
      "metadata": {
        "id": "4bMBI3FslyFx",
        "colab_type": "code",
        "colab": {}
      },
      "source": [
        "!python -m deeppavlov install squad_bert"
      ],
      "execution_count": 0,
      "outputs": []
    },
    {
      "cell_type": "code",
      "metadata": {
        "id": "exk53jZxmE4C",
        "colab_type": "code",
        "colab": {}
      },
      "source": [
        "ner_model = build_model(configs.ner.ner_rus_bert , download=True)"
      ],
      "execution_count": 0,
      "outputs": []
    },
    {
      "cell_type": "code",
      "metadata": {
        "id": "ss8nFAdwYcfU",
        "colab_type": "code",
        "outputId": "b4aad67a-efd1-463c-d156-7485a331d416",
        "colab": {
          "base_uri": "https://localhost:8080/",
          "height": 407
        }
      },
      "source": [
        "\n",
        "import numpy as np\n",
        "\n",
        "t2=\"\"\"\n",
        "ООО «Газпромнефть – КП», именуемое в дальнейшем «Заказчик»,  в лице Генерального директора Иванова Ивана Васильевича, действующего на основании  Устава, с одной стороны, и ООО «Формула», именуемое в дальнейшем «Исполнитель», в лице Генерального директора Ивановой Натальи Геннадьевны, действующей на основании Устава, с другой стороны, именуемые в дальнейшем «Стороны», заключили настоящий Договор о нижеследующем:\n",
        "\"\"\"\n",
        "\n",
        "t3=\"\"\"\n",
        "Статья 1. Общие положения\n",
        "\n",
        "Акционерное общество «Суперсубстанция» (прежние фирменные наименования: Открытое акционерное общество «Суперсубстанция», Закрытое акционерное общество «Суперсубстанцияз»), именуемое в дальнейшем «Общество», создано с наименованием Открытое акционерное общество «Мессояханефтегаз» путем реорганизации в форме выделения из ЗАО «Заполярнефтегазгеология» и зарегистрировано распоряжением Главы Тазовского района Ямало-Ненецкого автономного округа Тюменской области (свидетельство о государственной регистрации от 13 августа 1998 г. № 273).\n",
        "\"\"\"\n",
        "\n",
        "t4=\"\"\"\n",
        "Акционерное общество «Газпромнефть – Адамантий» (АО «Газпромнефть-АДМТ»), именуемое в дальнейшем «Благотворитель», в лице заместителя генерального директора по персоналу и организационному развитию Обфускатов Д.В., действующего на основании на основании Доверенности № Д-17 от 29.01.2018г, с одной стороны, и Фонд поддержки социальных инициатив «Чужестранец», именуемый в дальнейшем «Благополучатель», в лице Генерального директора Анонимова Никонора Обфускатыча, действующего на основании Устава, с другой стороны, именуемые совместно «Стороны», а по отдельности «Сторона», заключили настоящий Договор о нижеследующем:\n",
        "\"\"\"\n",
        "\n",
        "res = ner_model([t4])\n",
        "print (np.transpose(res).flatten())"
      ],
      "execution_count": 57,
      "outputs": [
        {
          "output_type": "stream",
          "text": [
            "['\\n' 'O' 'Акционерное' 'B-ORG' 'общество' 'I-ORG' '«' 'I-ORG'\n",
            " 'Газпромнефть' 'I-ORG' '–' 'I-ORG' 'Адамантий' 'I-ORG' '»' 'I-ORG' '('\n",
            " 'I-ORG' 'АО' 'I-ORG' '«' 'I-ORG' 'Газпромнефть' 'I-ORG' '-' 'I-ORG'\n",
            " 'АДМТ' 'I-ORG' '»' 'I-ORG' ')' 'I-ORG' ',' 'O' 'именуемое' 'O' 'в' 'O'\n",
            " 'дальнейшем' 'O' '«' 'O' 'Благотворитель' 'B-ORG' '»' 'I-ORG' ',' 'O' 'в'\n",
            " 'O' 'лице' 'O' 'заместителя' 'O' 'генерального' 'O' 'директора' 'O' 'по'\n",
            " 'O' 'персоналу' 'O' 'и' 'O' 'организационному' 'O' 'развитию' 'O'\n",
            " 'Обфускатов' 'B-PER' 'Д' 'I-PER' '.' 'I-PER' 'В' 'I-PER' '.' 'I-PER' ','\n",
            " 'O' 'действующего' 'O' 'на' 'O' 'основании' 'O' 'на' 'O' 'основании' 'O'\n",
            " 'Доверенности' 'O' '№' 'O' 'Д' 'O' '-' 'O' '17' 'O' 'от' 'O' '29' 'O' '.'\n",
            " 'O' '01' 'O' '.' 'O' '2018г' 'O' ',' 'O' 'с' 'O' 'одной' 'O' 'стороны'\n",
            " 'O' ',' 'O' 'и' 'O' 'Фонд' 'B-ORG' 'поддержки' 'I-ORG' 'социальных'\n",
            " 'I-ORG' 'инициатив' 'I-ORG' '«' 'I-ORG' 'Чужестранец' 'I-ORG' '»' 'I-ORG'\n",
            " ',' 'O' 'именуемый' 'O' 'в' 'O' 'дальнейшем' 'O' '«' 'O'\n",
            " 'Благополучатель' 'B-ORG' '»' 'O' ',' 'O' 'в' 'O' 'лице' 'O'\n",
            " 'Генерального' 'O' 'директора' 'O' 'Анонимова' 'B-PER' 'Никонора' 'I-PER'\n",
            " 'Обфускатыча' 'I-PER' ',' 'O' 'действующего' 'O' 'на' 'O' 'основании' 'O'\n",
            " 'Устава' 'O' ',' 'O' 'с' 'O' 'другой' 'O' 'стороны' 'O' ',' 'O'\n",
            " 'именуемые' 'O' 'совместно' 'O' '«' 'O' 'Стороны' 'O' '»' 'O' ',' 'O' 'а'\n",
            " 'O' 'по' 'O' 'отдельности' 'O' '«' 'O' 'Сторона' 'B-ORG' '»' 'O' ',' 'O'\n",
            " 'заключили' 'O' 'настоящий' 'O' 'Договор' 'O' 'о' 'O' 'нижеследующем' 'O'\n",
            " ':' 'O' '\\n' 'O']\n"
          ],
          "name": "stdout"
        }
      ]
    },
    {
      "cell_type": "code",
      "metadata": {
        "id": "M6z-yM1smrCY",
        "colab_type": "code",
        "colab": {
          "base_uri": "https://localhost:8080/",
          "height": 112
        },
        "outputId": "bb8b75aa-1cfe-43b6-ef7b-f184a40dbdc2"
      },
      "source": [
        "\n",
        "import IPython\n",
        "\n",
        "colors={\n",
        "    'I-ORG':\"#ff6666\",\n",
        "    'B-ORG':\"#ff6666\",\n",
        "    'I-PER':\"#6666ff\",\n",
        "    'B-PER':\"#6666ff\",\n",
        "    'I-LOC':\"#66ffff\",\n",
        "    'B-LOC':\"#66ffff\",\n",
        "    'O':\"#ffffff\"\n",
        "}\n",
        "\n",
        "_html = '<p>'\n",
        "\n",
        "tags = res[1][0]\n",
        "tokens = res[0][0]\n",
        "\n",
        "for i in range(len(tokens)):\n",
        " \n",
        "  if tags[i] in colors:\n",
        "    color = colors[tags[i]]\n",
        "  else:\n",
        "    color = '#ff00ff'\n",
        "  _html +=  f'<span style=\"background:{color}\">{tokens[i]} </span>'\n",
        "_html+= 'EOF</p>'\n",
        "\n",
        "\n",
        "IPython.display.HTML(_html)\n"
      ],
      "execution_count": 58,
      "outputs": [
        {
          "output_type": "execute_result",
          "data": {
            "text/html": [
              "<p><span style=\"background:#ffffff\">\n",
              " </span><span style=\"background:#ff6666\">Акционерное </span><span style=\"background:#ff6666\">общество </span><span style=\"background:#ff6666\">« </span><span style=\"background:#ff6666\">Газпромнефть </span><span style=\"background:#ff6666\">– </span><span style=\"background:#ff6666\">Адамантий </span><span style=\"background:#ff6666\">» </span><span style=\"background:#ff6666\">( </span><span style=\"background:#ff6666\">АО </span><span style=\"background:#ff6666\">« </span><span style=\"background:#ff6666\">Газпромнефть </span><span style=\"background:#ff6666\">- </span><span style=\"background:#ff6666\">АДМТ </span><span style=\"background:#ff6666\">» </span><span style=\"background:#ff6666\">) </span><span style=\"background:#ffffff\">, </span><span style=\"background:#ffffff\">именуемое </span><span style=\"background:#ffffff\">в </span><span style=\"background:#ffffff\">дальнейшем </span><span style=\"background:#ffffff\">« </span><span style=\"background:#ff6666\">Благотворитель </span><span style=\"background:#ff6666\">» </span><span style=\"background:#ffffff\">, </span><span style=\"background:#ffffff\">в </span><span style=\"background:#ffffff\">лице </span><span style=\"background:#ffffff\">заместителя </span><span style=\"background:#ffffff\">генерального </span><span style=\"background:#ffffff\">директора </span><span style=\"background:#ffffff\">по </span><span style=\"background:#ffffff\">персоналу </span><span style=\"background:#ffffff\">и </span><span style=\"background:#ffffff\">организационному </span><span style=\"background:#ffffff\">развитию </span><span style=\"background:#6666ff\">Обфускатов </span><span style=\"background:#6666ff\">Д </span><span style=\"background:#6666ff\">. </span><span style=\"background:#6666ff\">В </span><span style=\"background:#6666ff\">. </span><span style=\"background:#ffffff\">, </span><span style=\"background:#ffffff\">действующего </span><span style=\"background:#ffffff\">на </span><span style=\"background:#ffffff\">основании </span><span style=\"background:#ffffff\">на </span><span style=\"background:#ffffff\">основании </span><span style=\"background:#ffffff\">Доверенности </span><span style=\"background:#ffffff\">№ </span><span style=\"background:#ffffff\">Д </span><span style=\"background:#ffffff\">- </span><span style=\"background:#ffffff\">17 </span><span style=\"background:#ffffff\">от </span><span style=\"background:#ffffff\">29 </span><span style=\"background:#ffffff\">. </span><span style=\"background:#ffffff\">01 </span><span style=\"background:#ffffff\">. </span><span style=\"background:#ffffff\">2018г </span><span style=\"background:#ffffff\">, </span><span style=\"background:#ffffff\">с </span><span style=\"background:#ffffff\">одной </span><span style=\"background:#ffffff\">стороны </span><span style=\"background:#ffffff\">, </span><span style=\"background:#ffffff\">и </span><span style=\"background:#ff6666\">Фонд </span><span style=\"background:#ff6666\">поддержки </span><span style=\"background:#ff6666\">социальных </span><span style=\"background:#ff6666\">инициатив </span><span style=\"background:#ff6666\">« </span><span style=\"background:#ff6666\">Чужестранец </span><span style=\"background:#ff6666\">» </span><span style=\"background:#ffffff\">, </span><span style=\"background:#ffffff\">именуемый </span><span style=\"background:#ffffff\">в </span><span style=\"background:#ffffff\">дальнейшем </span><span style=\"background:#ffffff\">« </span><span style=\"background:#ff6666\">Благополучатель </span><span style=\"background:#ffffff\">» </span><span style=\"background:#ffffff\">, </span><span style=\"background:#ffffff\">в </span><span style=\"background:#ffffff\">лице </span><span style=\"background:#ffffff\">Генерального </span><span style=\"background:#ffffff\">директора </span><span style=\"background:#6666ff\">Анонимова </span><span style=\"background:#6666ff\">Никонора </span><span style=\"background:#6666ff\">Обфускатыча </span><span style=\"background:#ffffff\">, </span><span style=\"background:#ffffff\">действующего </span><span style=\"background:#ffffff\">на </span><span style=\"background:#ffffff\">основании </span><span style=\"background:#ffffff\">Устава </span><span style=\"background:#ffffff\">, </span><span style=\"background:#ffffff\">с </span><span style=\"background:#ffffff\">другой </span><span style=\"background:#ffffff\">стороны </span><span style=\"background:#ffffff\">, </span><span style=\"background:#ffffff\">именуемые </span><span style=\"background:#ffffff\">совместно </span><span style=\"background:#ffffff\">« </span><span style=\"background:#ffffff\">Стороны </span><span style=\"background:#ffffff\">» </span><span style=\"background:#ffffff\">, </span><span style=\"background:#ffffff\">а </span><span style=\"background:#ffffff\">по </span><span style=\"background:#ffffff\">отдельности </span><span style=\"background:#ffffff\">« </span><span style=\"background:#ff6666\">Сторона </span><span style=\"background:#ffffff\">» </span><span style=\"background:#ffffff\">, </span><span style=\"background:#ffffff\">заключили </span><span style=\"background:#ffffff\">настоящий </span><span style=\"background:#ffffff\">Договор </span><span style=\"background:#ffffff\">о </span><span style=\"background:#ffffff\">нижеследующем </span><span style=\"background:#ffffff\">: </span><span style=\"background:#ffffff\">\n",
              " </span>EOF</p>"
            ],
            "text/plain": [
              "<IPython.core.display.HTML object>"
            ]
          },
          "metadata": {
            "tags": []
          },
          "execution_count": 58
        }
      ]
    }
  ]
}