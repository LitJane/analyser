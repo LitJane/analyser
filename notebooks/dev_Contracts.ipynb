{
  "nbformat": 4,
  "nbformat_minor": 0,
  "metadata": {
    "colab": {
      "name": "dev Contracts.ipynb",
      "provenance": [],
      "private_outputs": true,
      "collapsed_sections": [
        "0n-DlKATL2JQ",
        "WPEjJV3Elb8t",
        "IoDRgHbFkdPL",
        "Aejr-po6QVeZ",
        "q58BgdvHanlN"
      ],
      "toc_visible": true
    },
    "kernelspec": {
      "name": "python3",
      "display_name": "Python 3"
    },
    "accelerator": "GPU"
  },
  "cells": [
    {
      "cell_type": "markdown",
      "metadata": {
        "id": "JJjbZeN6Pbtx",
        "colab_type": "text"
      },
      "source": [
        "# CONTRACTS analyse \n",
        "## Instruction:\n",
        "1. On the left-side panel, change to Files tab \n",
        "2. Upload a contract file\n",
        "3. Right click on the uploaded file -> Copy path\n",
        "2. Enter (paste) its path/name into the 'Read doc' form below\n",
        "3. top menu: Runtime/run all"
      ]
    },
    {
      "cell_type": "code",
      "metadata": {
        "id": "OQnl3VnQZQML",
        "colab_type": "code",
        "colab": {}
      },
      "source": [
        "_git_branch = 'master'\n",
        "\n",
        "#Document parser, refer https://github.com/nemoware/document-parser/releases\n",
        "lib_version = '1.1.15'"
      ],
      "execution_count": 0,
      "outputs": []
    },
    {
      "cell_type": "markdown",
      "metadata": {
        "id": "0n-DlKATL2JQ",
        "colab_type": "text"
      },
      "source": [
        "# INIT"
      ]
    },
    {
      "cell_type": "markdown",
      "metadata": {
        "id": "WPEjJV3Elb8t",
        "colab_type": "text"
      },
      "source": [
        "## pull code"
      ]
    },
    {
      "cell_type": "code",
      "metadata": {
        "id": "ZPFNIoGZL198",
        "colab_type": "code",
        "colab": {}
      },
      "source": [
        "import json\n",
        "import subprocess\n",
        "import sys\n",
        "import time\n",
        "\n",
        "import numpy as np\n",
        "from IPython.core.display import display, HTML\n",
        "from google.colab import files\n",
        "\n",
        "!pip install overrides\n",
        "\n",
        "Ничто = None\n",
        "\n",
        "\n",
        "\n",
        "def exec(x):\n",
        "  r = subprocess.check_output(x, shell=True)\n",
        "  r = r.decode('unicode-escape').encode('latin1').decode('utf8')\n",
        "  print(r)\n",
        "\n",
        "\n",
        "print(f\"fetching code from GitHub.....{_git_branch}\")\n",
        "try:\n",
        "  exec('rm -r nlp_tools')\n",
        "except:\n",
        "  pass\n",
        "exec(f'git clone --single-branch --branch {_git_branch} https://github.com/nemoware/analyser.git nlp_tools')\n",
        "\n",
        "print('🦊 GIT revision:')\n",
        "exec('cd nlp_tools\\ngit rev-list --reverse HEAD | awk \"{ print NR }\" | tail -n 1\\ngit branch\\ngit log -3 --pretty=%B')\n",
        "\n",
        "sys.path.insert(0, 'nlp_tools')\n",
        "\n",
        "print('❤️importing Code from GitHub ... DONE')\n",
        "\n",
        "\n",
        "#----\n",
        "import matplotlib as mpl\n",
        "from analyser.documents import TextMap\n",
        "from analyser.legal_docs import DocumentJson\n",
        "from colab_support.renderer import HtmlRenderer\n",
        "\n",
        " \n",
        "\n",
        "class DemoRenderer(HtmlRenderer):\n",
        "  def render_color_text(self, tokens, weights, colormap='coolwarm', print_debug=False, _range=None, separator=' '):\n",
        "    html = self.to_color_text(tokens, weights, colormap, print_debug, _range, separator=separator)\n",
        "    display(HTML(html))\n",
        "\n",
        "  def to_color_text(self, tokens, weights, colormap='coolwarm', print_debug=False, _range=None, separator=' '):\n",
        "    return super()._to_color_text(tokens, weights, mpl, colormap=colormap, _range=_range, separator=separator)\n",
        "\n",
        "   \n",
        "renderer_ = DemoRenderer()\n",
        "\n",
        "def print_json_summary(cd:DocumentJson):\n",
        "  wordsmap = TextMap(cd.normal_text, cd.tokenization_maps['$words'])\n",
        "  print(f'read file {cd.filename}')\n",
        "\n",
        "  for tag in cd.tags:\n",
        "    span = tag.span\n",
        "    _map = cd.tokenization_maps[tag.span_map]\n",
        "    print(tag)\n",
        " \n",
        "  "
      ],
      "execution_count": 0,
      "outputs": []
    },
    {
      "cell_type": "code",
      "metadata": {
        "id": "U_mlpzzdNAWw",
        "colab_type": "code",
        "colab": {}
      },
      "source": [
        "!pip install pyjarowinkler"
      ],
      "execution_count": 0,
      "outputs": []
    },
    {
      "cell_type": "markdown",
      "metadata": {
        "id": "XKMB4pkuu2wi",
        "colab_type": "text"
      },
      "source": [
        "### Init document-parser lib"
      ]
    },
    {
      "cell_type": "code",
      "metadata": {
        "id": "415zlWl16SLf",
        "colab_type": "code",
        "colab": {}
      },
      "source": [
        "\n",
        "import os\n",
        "if not os.path.isfile(f'document-parser-{lib_version}-distribution.zip'):\n",
        "  !wget https://github.com/nemoware/document-parser/releases/download/$lib_version/document-parser-$lib_version-distribution.zip\n",
        "if not os.path.isdir(f'document-parser-{lib_version}'):\n",
        "  !unzip document-parser-$lib_version-distribution.zip\n",
        "\n",
        " \n",
        "os.environ ['documentparser']=f'/content/document-parser-{lib_version}'\n",
        "from integration.word_document_parser import WordDocParser, join_paragraphs\n",
        "wp = WordDocParser()"
      ],
      "execution_count": 0,
      "outputs": []
    },
    {
      "cell_type": "markdown",
      "metadata": {
        "colab_type": "text",
        "id": "mlw0zEdTs0oN"
      },
      "source": [
        "### imports"
      ]
    },
    {
      "cell_type": "code",
      "metadata": {
        "colab_type": "code",
        "id": "ZJp3CFJXs0oR",
        "colab": {}
      },
      "source": [
        "import os\n",
        "import pickle\n",
        "import unittest\n",
        "\n",
        "import numpy as np\n",
        "\n",
        "from analyser.contract_parser import ContractAnlysingContext, ContractDocument\n",
        "from analyser.contract_parser import find_value_sign_currency_attention\n",
        " \n",
        "from analyser.hyperparams import HyperParameters\n",
        "from analyser.parsing import AuditContext\n",
        "\n",
        "from analyser.legal_docs import LegalDocument, ContractValue\n",
        "from analyser.ml_tools import *\n",
        "from analyser.patterns import *\n",
        "from analyser.text_tools import *\n",
        "\n",
        "from tf_support.embedder_elmo import ElmoEmbedder\n",
        " "
      ],
      "execution_count": 0,
      "outputs": []
    },
    {
      "cell_type": "code",
      "metadata": {
        "id": "r3k194xUFy20",
        "colab_type": "code",
        "colab": {}
      },
      "source": [
        "from tf_support.embedder_elmo import ElmoEmbedder\n",
        "elmo_embedder = ElmoEmbedder()"
      ],
      "execution_count": 0,
      "outputs": []
    },
    {
      "cell_type": "markdown",
      "metadata": {
        "id": "eCveVZqvNhsr",
        "colab_type": "text"
      },
      "source": [
        "## 💅 Init Embedder(s)"
      ]
    },
    {
      "cell_type": "code",
      "metadata": {
        "id": "N2ttjnsaMC3i",
        "colab_type": "code",
        "colab": {}
      },
      "source": [
        "contract_analyser = ContractAnlysingContext(elmo_embedder)"
      ],
      "execution_count": 0,
      "outputs": []
    },
    {
      "cell_type": "markdown",
      "metadata": {
        "id": "UDRIF48ks3OV",
        "colab_type": "text"
      },
      "source": [
        "# Read doc"
      ]
    },
    {
      "cell_type": "code",
      "metadata": {
        "id": "waeVpcnaLgEJ",
        "colab_type": "code",
        "cellView": "form",
        "colab": {}
      },
      "source": [
        "#@title Enter uploaded file path\n",
        "\n",
        "filename = '/content/1\\u0423\\u0441\\u043B\\u0443\\u0433\\u0430_\\u0414\\u043E\\u0433\\u043E\\u0432\\u043E\\u0440_.doc' #@param {type:\"string\"}\n",
        "subsidiary_name = '--\\u041E\\u043F\\u0446\\u0438\\u043E\\u043D\\u0430\\u043B\\u044C\\u043D\\u043E--' #@param {type:\"string\"}\n",
        "\n",
        "\n",
        "results = wp.read_doc(filename)\n",
        "for doc in results['documents'][:1]:  # XXX\n",
        "  if 'CONTRACT' == doc['documentType']:    \n",
        "    doc = join_paragraphs(doc, 'no_id')\n",
        "\n",
        "\n",
        "for p in doc.paragraphs:\n",
        "  print ('☢️', p.header.value.strip())"
      ],
      "execution_count": 0,
      "outputs": []
    },
    {
      "cell_type": "markdown",
      "metadata": {
        "id": "pEgJ63pck0tM",
        "colab_type": "text"
      },
      "source": [
        "# 🧠 Analyse PHASE 0"
      ]
    },
    {
      "cell_type": "code",
      "metadata": {
        "id": "IrQOg1UimOtg",
        "colab_type": "code",
        "colab": {}
      },
      "source": [
        "# =====================================\n",
        "from analyser.parsing import AuditContext\n",
        "actx = AuditContext()\n",
        "contract_analyser.find_org_date_number(doc, actx)"
      ],
      "execution_count": 0,
      "outputs": []
    },
    {
      "cell_type": "markdown",
      "metadata": {
        "id": "Aejr-po6QVeZ",
        "colab_type": "text"
      },
      "source": [
        "### render PHASE 0 results"
      ]
    },
    {
      "cell_type": "code",
      "metadata": {
        "id": "LEYJEzygQO9U",
        "colab_type": "code",
        "colab": {}
      },
      "source": [
        "for t in doc.get_tags():\n",
        "  print(t)\n",
        "renderer_.render_color_text(doc.tokens,  doc.get_tags_attention() )\n",
        "\n"
      ],
      "execution_count": 0,
      "outputs": []
    },
    {
      "cell_type": "markdown",
      "metadata": {
        "id": "mUIhU4cCQhRx",
        "colab_type": "text"
      },
      "source": [
        "# 🧠 Analyse PHASE 1 \n",
        "(requires phase 0)"
      ]
    },
    {
      "cell_type": "code",
      "metadata": {
        "id": "pr733JbFQj4F",
        "colab_type": "code",
        "colab": {}
      },
      "source": [
        "contract_analyser.find_attributes(doc, actx)"
      ],
      "execution_count": 0,
      "outputs": []
    },
    {
      "cell_type": "markdown",
      "metadata": {
        "id": "RtldMdmoQpj-",
        "colab_type": "text"
      },
      "source": [
        "### render PHASE 1 results"
      ]
    },
    {
      "cell_type": "code",
      "metadata": {
        "id": "tzPEiquCFEx3",
        "colab_type": "code",
        "colab": {}
      },
      "source": [
        "for t in doc.get_tags():\n",
        "  print('\\n', t, '-' * 80)\n",
        "  print(doc.substr(t))\n",
        "renderer_.render_color_text(doc.tokens,  doc.get_tags_attention() )"
      ],
      "execution_count": 0,
      "outputs": []
    },
    {
      "cell_type": "markdown",
      "metadata": {
        "id": "ylTE3isTYq7e",
        "colab_type": "text"
      },
      "source": [
        "# save to JSON"
      ]
    },
    {
      "cell_type": "code",
      "metadata": {
        "id": "XNG4G5_RY7d3",
        "colab_type": "code",
        "colab": {}
      },
      "source": [
        "fn =  f'{filename}.json'\n",
        "print('saving JSON to', fn)\n",
        "\n",
        "with open(fn, 'w') as file:\n",
        "  jjj = DocumentJson(doc)\n",
        "  file.write(jjj.dumps())\n",
        "  "
      ],
      "execution_count": 0,
      "outputs": []
    },
    {
      "cell_type": "code",
      "metadata": {
        "id": "ADGhJ8CxuqtU",
        "colab_type": "code",
        "colab": {}
      },
      "source": [
        "doc.to_json_obj()['warnings']"
      ],
      "execution_count": 0,
      "outputs": []
    },
    {
      "cell_type": "code",
      "metadata": {
        "id": "NsMYnR_WKjpr",
        "colab_type": "code",
        "colab": {}
      },
      "source": [
        "doc.to_json_obj()['attributes']"
      ],
      "execution_count": 0,
      "outputs": []
    },
    {
      "cell_type": "code",
      "metadata": {
        "id": "BBlILIQ0asrI",
        "colab_type": "code",
        "colab": {}
      },
      "source": [
        "raise('STOP HERE')"
      ],
      "execution_count": 0,
      "outputs": []
    }
  ]
}