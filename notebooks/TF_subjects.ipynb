{
  "nbformat": 4,
  "nbformat_minor": 0,
  "metadata": {
    "colab": {
      "name": "TF: subjects.ipynb",
      "provenance": [],
      "collapsed_sections": [],
      "toc_visible": true,
      "authorship_tag": "ABX9TyOS4g5QopJu+MWvCe28tGzy"
    },
    "kernelspec": {
      "name": "python3",
      "display_name": "Python 3"
    },
    "accelerator": "GPU"
  },
  "cells": [
    {
      "cell_type": "code",
      "metadata": {
        "id": "raCAExPc0iE-",
        "colab_type": "code",
        "outputId": "93252c9a-2485-4cf2-ff8c-1f969d12696a",
        "colab": {
          "base_uri": "https://localhost:8080/",
          "height": 52
        }
      },
      "source": [
        "_git_branch = 'trainset'\n",
        "%tensorflow_version 1.x\n",
        "\n",
        "import tensorflow as tf\n",
        "print(tf.__version__)"
      ],
      "execution_count": 1,
      "outputs": [
        {
          "output_type": "stream",
          "text": [
            "TensorFlow 1.x selected.\n",
            "1.15.2\n"
          ],
          "name": "stdout"
        }
      ]
    },
    {
      "cell_type": "markdown",
      "metadata": {
        "id": "JbsxFAqC6pjQ",
        "colab_type": "text"
      },
      "source": [
        "# Import code from gitHub"
      ]
    },
    {
      "cell_type": "code",
      "metadata": {
        "id": "e-Bqj3YApTmi",
        "colab_type": "code",
        "outputId": "d7059867-420e-471b-c304-dbf36b75f3ab",
        "colab": {
          "base_uri": "https://localhost:8080/",
          "height": 354
        }
      },
      "source": [
        "import json\n",
        "import subprocess\n",
        "import sys\n",
        "import time\n",
        "\n",
        "import numpy as np\n",
        "from IPython.core.display import display, HTML\n",
        "from google.colab import files\n",
        "\n",
        "!pip install overrides\n",
        "!pip install pyjarowinkler\n",
        " \n",
        "def exec(x):\n",
        "  r = subprocess.check_output(x, shell=True)\n",
        "  r = r.decode('unicode-escape').encode('latin1').decode('utf8')\n",
        "  print(r)\n",
        "\n",
        "\n",
        "print(f\"fetching code from GitHub.....{_git_branch}\")\n",
        "try:\n",
        "  exec('rm -r nlp_tools')\n",
        "except:\n",
        "  pass\n",
        "exec(f'git clone --single-branch --branch {_git_branch} https://github.com/nemoware/analyser.git nlp_tools')\n",
        "\n",
        "print('🦊 GIT revision:')\n",
        "exec('cd nlp_tools\\ngit rev-list --reverse HEAD | awk \"{ print NR }\" | tail -n 1\\ngit branch\\ngit log -3 --pretty=%B')\n",
        "\n",
        "sys.path.insert(0, 'nlp_tools')\n",
        "\n",
        "print('❤️importing Code from GitHub ... DONE')\n",
        "\n",
        "#----- other deps\n",
        "\n",
        "import nltk\n",
        "nltk.download('punkt')"
      ],
      "execution_count": 2,
      "outputs": [
        {
          "output_type": "stream",
          "text": [
            "Requirement already satisfied: overrides in /usr/local/lib/python3.6/dist-packages (2.8.0)\n",
            "Requirement already satisfied: pyjarowinkler in /usr/local/lib/python3.6/dist-packages (1.8)\n",
            "fetching code from GitHub.....trainset\n",
            "\n",
            "\n",
            "🦊 GIT revision:\n",
            "1286\n",
            "* trainset\n",
            "Tunning headline patterns\n",
            "\n",
            "Inc parser version\n",
            "\n",
            "Reading all contracts, saving to db\n",
            "\n",
            "\n",
            "❤️importing Code from GitHub ... DONE\n",
            "[nltk_data] Downloading package punkt to /root/nltk_data...\n",
            "[nltk_data]   Package punkt is already up-to-date!\n"
          ],
          "name": "stdout"
        },
        {
          "output_type": "execute_result",
          "data": {
            "text/plain": [
              "True"
            ]
          },
          "metadata": {
            "tags": []
          },
          "execution_count": 2
        }
      ]
    },
    {
      "cell_type": "code",
      "metadata": {
        "id": "pexvDJbAtZM0",
        "colab_type": "code",
        "colab": {}
      },
      "source": [
        "def plot_emb(matrix):\n",
        "    \n",
        "  mt = matrix.T\n",
        "  \n",
        "  with sns.axes_style(\"white\"):\n",
        "    plt.figure(figsize=(25, 6))\n",
        "    ax = sns.heatmap(mt, square=False,  cmap=\"RdYlBu\")\n",
        "    plt.show()"
      ],
      "execution_count": 0,
      "outputs": []
    },
    {
      "cell_type": "markdown",
      "metadata": {
        "id": "HRQOy7o0uyTv",
        "colab_type": "text"
      },
      "source": [
        "#Prepare trainset\n"
      ]
    },
    {
      "cell_type": "markdown",
      "metadata": {
        "id": "FUvEWUXaznMF",
        "colab_type": "text"
      },
      "source": [
        "#### Mount drive"
      ]
    },
    {
      "cell_type": "code",
      "metadata": {
        "id": "-y8mWLfkgAgU",
        "colab_type": "code",
        "colab": {
          "base_uri": "https://localhost:8080/",
          "height": 34
        },
        "outputId": "9b021a0f-a004-4d38-9470-95a90822bbf8"
      },
      "source": [
        "from google.colab import drive\n",
        "drive.mount('/content/drive')\n"
      ],
      "execution_count": 4,
      "outputs": [
        {
          "output_type": "stream",
          "text": [
            "Drive already mounted at /content/drive; to attempt to forcibly remount, call drive.mount(\"/content/drive\", force_remount=True).\n"
          ],
          "name": "stdout"
        }
      ]
    },
    {
      "cell_type": "markdown",
      "metadata": {
        "id": "LgE3SdTlwe_y",
        "colab_type": "text"
      },
      "source": [
        "#### Read meta"
      ]
    },
    {
      "cell_type": "code",
      "metadata": {
        "id": "CmVLUoOpu1-Y",
        "colab_type": "code",
        "colab": {}
      },
      "source": [
        "import pandas as pd\n",
        "from os import path\n",
        "\n",
        "\n",
        "TRAINSETS_PATH='/content/drive/My Drive/GazpromOil/trainsets'\n",
        "VERSION_PATH='1_1_19'\n",
        "TRAINSET_META_FN='contracts.subjects-manually-filtered.csv'\n",
        "\n",
        "csv_path = path.join(TRAINSETS_PATH, VERSION_PATH, TRAINSET_META_FN)\n",
        "\n",
        "trainset_meta = pd.read_csv(csv_path, encoding='utf-8' )\n",
        "trainset_rows = trainset_meta[trainset_meta['valid']]\n",
        "print(trainset_rows.info())\n",
        "trainset_rows\n",
        "\n"
      ],
      "execution_count": 0,
      "outputs": []
    },
    {
      "cell_type": "code",
      "metadata": {
        "id": "PG-oKEy60Vib",
        "colab_type": "code",
        "colab": {
          "base_uri": "https://localhost:8080/",
          "height": 294
        },
        "outputId": "469ffe80-9ac1-4eec-e664-d06371cf4b54"
      },
      "source": [
        "%matplotlib inline\n",
        "import seaborn as sns\n",
        "import matplotlib.pyplot as plt\n",
        "\n",
        "subj_count = trainset_rows['subject'].value_counts()\n",
        "sns.barplot(subj_count.values, subj_count.index)\n",
        "plt.title('Frequency Distribution of subjects')\n",
        "plt.xlabel('Number of Occurrences')\n",
        "plt.show()"
      ],
      "execution_count": 6,
      "outputs": [
        {
          "output_type": "display_data",
          "data": {
            "image/png": "[encoded data removed]",
            "text/plain": [
              "<Figure size 432x288 with 1 Axes>"
            ]
          },
          "metadata": {
            "tags": []
          }
        }
      ]
    },
    {
      "cell_type": "markdown",
      "metadata": {
        "id": "aBd4npeP5b69",
        "colab_type": "text"
      },
      "source": [
        "### Replace subject codes with `one-hots`"
      ]
    },
    {
      "cell_type": "code",
      "metadata": {
        "id": "8C2z8hJLqULh",
        "colab_type": "code",
        "colab": {}
      },
      "source": [
        "from analyser.structures import ContractSubject\n",
        "from keras.utils import to_categorical\n",
        "\n",
        "# all_subjects = np.array( [ [s.name, s.value] for s in ContractSubject] ).T\n",
        "all_subjects_map ={s.name : s.value  for s in ContractSubject}\n",
        "\n",
        "_cats = to_categorical( list(all_subjects_map.values()) )\n",
        "print(_cats.shape)\n",
        "\n",
        "subject_name_1hot_map={}\n",
        "for i, k in enumerate(all_subjects_map.keys()):\n",
        "  print (k)\n",
        "  subject_name_1hot_map[k] = _cats[i]\n",
        "\n",
        "plot_emb( np.array( list(  subject_name_1hot_map.values())))\n",
        " "
      ],
      "execution_count": 0,
      "outputs": []
    },
    {
      "cell_type": "code",
      "metadata": {
        "id": "pG2dm3ofsPD7",
        "colab_type": "code",
        "colab": {}
      },
      "source": [
        "# all_subjects_map ={s.name : s.value  for s in ContractSubject}\n",
        "# print(all_subjects_map)\n",
        "# print(all_subjects_map.values())"
      ],
      "execution_count": 0,
      "outputs": []
    },
    {
      "cell_type": "code",
      "metadata": {
        "id": "Zrmw_L8L5deN",
        "colab_type": "code",
        "colab": {}
      },
      "source": [
        "_cats = trainset_rows['subject'].astype('category').cat.categories.tolist()\n",
        "replace_map  =  { k: v for k, v in zip(_cats, list(range(1, len(_cats)+1))) }\n",
        "\n",
        "trainset_rows_r = trainset_rows.replace({'subject':replace_map}, inplace=False)\n",
        "trainset_rows_r.head()\n",
        "\n",
        "#----\n",
        "del trainset_rows_r\n",
        "del replace_map"
      ],
      "execution_count": 0,
      "outputs": []
    },
    {
      "cell_type": "code",
      "metadata": {
        "id": "_jtl_Rg8yhEI",
        "colab_type": "code",
        "colab": {}
      },
      "source": [
        "# import numpy as np\n",
        "# from keras.utils import to_categorical\n",
        "\n",
        "# Y = to_categorical(trainset_rows_r['subject'])\n",
        "# print(Y.shape, Y[0])"
      ],
      "execution_count": 0,
      "outputs": []
    },
    {
      "cell_type": "markdown",
      "metadata": {
        "id": "Xg1TmS05X19B",
        "colab_type": "text"
      },
      "source": [
        "### Balance trainset\n"
      ]
    },
    {
      "cell_type": "code",
      "metadata": {
        "id": "DgW1kA6jX-p5",
        "colab_type": "code",
        "colab": {
          "base_uri": "https://localhost:8080/",
          "height": 247
        },
        "outputId": "e831971f-4b59-4427-ecc3-ce08cf29abf4"
      },
      "source": [
        "print ('-distribution-')\n",
        "for si in subj_count.index:\n",
        "  print(si, subj_count[si])\n",
        "\n",
        "print ('\\nmin', min (subj_count.values))\n",
        "print ('max', max (subj_count.values))\n",
        "print ('total', sum (subj_count.values))"
      ],
      "execution_count": 11,
      "outputs": [
        {
          "output_type": "stream",
          "text": [
            "-distribution-\n",
            "Service 369\n",
            "Charity 52\n",
            "Renting 33\n",
            "Loans 25\n",
            "RealEstate 14\n",
            "Insurance 13\n",
            "PledgeEncumbrance 3\n",
            "Deal 1\n",
            "\n",
            "min 1\n",
            "max 369\n",
            "total 510\n"
          ],
          "name": "stdout"
        }
      ]
    },
    {
      "cell_type": "markdown",
      "metadata": {
        "id": "F9zcJr7FomCg",
        "colab_type": "text"
      },
      "source": [
        "#### Group by subjects (put row indices into bags)"
      ]
    },
    {
      "cell_type": "markdown",
      "metadata": {
        "id": "rp2BPL_Apozb",
        "colab_type": "text"
      },
      "source": [
        "1. distribute row numbers by bags\n",
        "2. oversample each bag"
      ]
    },
    {
      "cell_type": "code",
      "metadata": {
        "id": "sN9nYKJNYuZR",
        "colab_type": "code",
        "colab": {
          "base_uri": "https://localhost:8080/",
          "height": 70
        },
        "outputId": "5a396f86-f979-4be2-e813-ef22eb0ea390"
      },
      "source": [
        "#make empty bags\n",
        "subject_bags = {}\n",
        "for key in subj_count.index:\n",
        "  subject_bags[key]=[]\n",
        "print(subject_bags)\n",
        "\n",
        "\n",
        "row_no:int = 0\n",
        "for index, row in trainset_rows.iterrows():\n",
        "\n",
        "  row_by_no = trainset_rows.iloc[row_no]\n",
        "  subj_code = row[\"subject\"]\n",
        "  bag = subject_bags[subj_code]\n",
        "  bag.append(row_no)\n",
        "  # print (row_no, index, row_by_no[\"subject\"], row[\"subject\"], row[\"confidence\"])\n",
        "  \n",
        "  row_no += 1\n",
        "print('sample bag ')\n",
        "subject_bags['PledgeEncumbrance']"
      ],
      "execution_count": 12,
      "outputs": [
        {
          "output_type": "stream",
          "text": [
            "{'Service': [], 'Charity': [], 'Renting': [], 'Loans': [], 'RealEstate': [], 'Insurance': [], 'PledgeEncumbrance': [], 'Deal': []}\n",
            "sample bag \n"
          ],
          "name": "stdout"
        },
        {
          "output_type": "execute_result",
          "data": {
            "text/plain": [
              "[91, 92, 93]"
            ]
          },
          "metadata": {
            "tags": []
          },
          "execution_count": 12
        }
      ]
    },
    {
      "cell_type": "markdown",
      "metadata": {
        "id": "iOqAH7gUp48I",
        "colab_type": "text"
      },
      "source": [
        "2. oversample with np.tile: just repeat the indices stored in named bags. \n",
        "\n",
        "WARN: do not run it twice\n"
      ]
    },
    {
      "cell_type": "code",
      "metadata": {
        "id": "kLyjYVOXp77U",
        "colab_type": "code",
        "colab": {
          "base_uri": "https://localhost:8080/",
          "height": 214
        },
        "outputId": "10a2a29e-2ca7-442b-ff49-9babe802efe5"
      },
      "source": [
        "_desired_number_of_samples = max (subj_count.values)\n",
        "for subj_code in subject_bags:\n",
        "  bag = subject_bags[subj_code]\n",
        "  if len(bag)<_desired_number_of_samples:  \n",
        "    repeats = int(_desired_number_of_samples / len(bag))\n",
        "    bag = sorted(np.tile(bag, repeats))\n",
        "    subject_bags[subj_code] = bag\n",
        "  print (subj_code, len(bag))\n",
        "\n",
        "print()\n",
        "print('sample bag after oversampling:', subject_bags['PledgeEncumbrance'])\n"
      ],
      "execution_count": 13,
      "outputs": [
        {
          "output_type": "stream",
          "text": [
            "Service 369\n",
            "Charity 364\n",
            "Renting 363\n",
            "Loans 350\n",
            "RealEstate 364\n",
            "Insurance 364\n",
            "PledgeEncumbrance 369\n",
            "Deal 369\n",
            "\n",
            "sample bag after oversampling: [91, 91, 91, 91, 91, 91, 91, 91, 91, 91, 91, 91, 91, 91, 91, 91, 91, 91, 91, 91, 91, 91, 91, 91, 91, 91, 91, 91, 91, 91, 91, 91, 91, 91, 91, 91, 91, 91, 91, 91, 91, 91, 91, 91, 91, 91, 91, 91, 91, 91, 91, 91, 91, 91, 91, 91, 91, 91, 91, 91, 91, 91, 91, 91, 91, 91, 91, 91, 91, 91, 91, 91, 91, 91, 91, 91, 91, 91, 91, 91, 91, 91, 91, 91, 91, 91, 91, 91, 91, 91, 91, 91, 91, 91, 91, 91, 91, 91, 91, 91, 91, 91, 91, 91, 91, 91, 91, 91, 91, 91, 91, 91, 91, 91, 91, 91, 91, 91, 91, 91, 91, 91, 91, 92, 92, 92, 92, 92, 92, 92, 92, 92, 92, 92, 92, 92, 92, 92, 92, 92, 92, 92, 92, 92, 92, 92, 92, 92, 92, 92, 92, 92, 92, 92, 92, 92, 92, 92, 92, 92, 92, 92, 92, 92, 92, 92, 92, 92, 92, 92, 92, 92, 92, 92, 92, 92, 92, 92, 92, 92, 92, 92, 92, 92, 92, 92, 92, 92, 92, 92, 92, 92, 92, 92, 92, 92, 92, 92, 92, 92, 92, 92, 92, 92, 92, 92, 92, 92, 92, 92, 92, 92, 92, 92, 92, 92, 92, 92, 92, 92, 92, 92, 92, 92, 92, 92, 92, 92, 92, 92, 92, 92, 92, 92, 92, 92, 92, 92, 92, 92, 92, 92, 92, 92, 92, 92, 93, 93, 93, 93, 93, 93, 93, 93, 93, 93, 93, 93, 93, 93, 93, 93, 93, 93, 93, 93, 93, 93, 93, 93, 93, 93, 93, 93, 93, 93, 93, 93, 93, 93, 93, 93, 93, 93, 93, 93, 93, 93, 93, 93, 93, 93, 93, 93, 93, 93, 93, 93, 93, 93, 93, 93, 93, 93, 93, 93, 93, 93, 93, 93, 93, 93, 93, 93, 93, 93, 93, 93, 93, 93, 93, 93, 93, 93, 93, 93, 93, 93, 93, 93, 93, 93, 93, 93, 93, 93, 93, 93, 93, 93, 93, 93, 93, 93, 93, 93, 93, 93, 93, 93, 93, 93, 93, 93, 93, 93, 93, 93, 93, 93, 93, 93, 93, 93, 93, 93, 93, 93, 93]\n"
          ],
          "name": "stdout"
        }
      ]
    },
    {
      "cell_type": "markdown",
      "metadata": {
        "id": "oz0azb0K2vog",
        "colab_type": "text"
      },
      "source": [
        "split all bags into train and validation sets"
      ]
    },
    {
      "cell_type": "code",
      "metadata": {
        "id": "9BLIBjzH24V0",
        "colab_type": "code",
        "colab": {
          "base_uri": "https://localhost:8080/",
          "height": 514
        },
        "outputId": "d2534819-4354-4f5c-9d36-86defb4d7fff"
      },
      "source": [
        "VALIDATION_SET_PROPORTION = 0.25\n",
        "subject_bags_test = {}\n",
        "subject_bags_train = {}\n",
        "\n",
        "for subj_code in subject_bags:\n",
        "  bag = subject_bags[subj_code]\n",
        "  split_index:int = int(len(bag) * VALIDATION_SET_PROPORTION)\n",
        "  print(split_index)\n",
        "  \n",
        "  subject_bags_test [subj_code] = bag[:split_index]\n",
        "  subject_bags_train [subj_code] = bag[split_index:]\n",
        "\n",
        "print('\\n--subject_bags_train')\n",
        "for subj_code in subject_bags_train:\n",
        "  bag = subject_bags_train[subj_code]  \n",
        "  print (subj_code, len(bag))\n",
        "print('\\n--subject_bags_test')\n",
        "for subj_code in subject_bags_test:\n",
        "  bag = subject_bags_test[subj_code]  \n",
        "  print (subj_code, len(bag))"
      ],
      "execution_count": 14,
      "outputs": [
        {
          "output_type": "stream",
          "text": [
            "92\n",
            "91\n",
            "90\n",
            "87\n",
            "91\n",
            "91\n",
            "92\n",
            "92\n",
            "\n",
            "--subject_bags_train\n",
            "Service 277\n",
            "Charity 273\n",
            "Renting 273\n",
            "Loans 263\n",
            "RealEstate 273\n",
            "Insurance 273\n",
            "PledgeEncumbrance 277\n",
            "Deal 277\n",
            "\n",
            "--subject_bags_test\n",
            "Service 92\n",
            "Charity 91\n",
            "Renting 90\n",
            "Loans 87\n",
            "RealEstate 91\n",
            "Insurance 91\n",
            "PledgeEncumbrance 92\n",
            "Deal 92\n"
          ],
          "name": "stdout"
        }
      ]
    },
    {
      "cell_type": "markdown",
      "metadata": {
        "id": "niaa4g6g2Q7g",
        "colab_type": "text"
      },
      "source": [
        "## Batch generator"
      ]
    },
    {
      "cell_type": "code",
      "metadata": {
        "id": "dZ4V7y_92YD-",
        "colab_type": "code",
        "colab": {}
      },
      "source": [
        "train_indices = [] \n",
        "for _arr in subject_bags_train.values():\n",
        "  train_indices+=_arr;\n",
        "\n",
        "test_indices = [] \n",
        "for _arr in subject_bags_test.values():\n",
        "  test_indices+=_arr;\n",
        "\n",
        "#TODO: they probably intersect!!\n",
        "\n",
        "\n",
        "from keras.preprocessing.sequence import pad_sequences\n",
        "import pickle \n",
        "from analyser.legal_docs import LegalDocument\n",
        "\n",
        "MAX_SEQUENCE_LENGTH = 999\n",
        "\n",
        "batch_indices = np.random.choice(a = train_indices,  size = 32)\n",
        "# batch_indices\n",
        "\n",
        "embeddings_cache={}\n",
        "\n",
        "\n",
        "\n",
        "def get_embeddings(filename):\n",
        "  if filename in embeddings_cache:\n",
        "    return embeddings_cache[filename]\n",
        "  else:\n",
        "    with open(filename, \"rb\") as pickle_in:    \n",
        "      # print('reading... ', filename)\n",
        "      doc:LegalDocument = pickle.load(pickle_in)\n",
        "      embedding = pad_sequences([doc.embeddings], maxlen=MAX_SEQUENCE_LENGTH)[0]\n",
        "      # print(doc.embeddings.shape, 'vs', embedding.shape)\n",
        "      \n",
        "\n",
        "    embeddings_cache[filename]=embedding\n",
        "    return embedding\n",
        "\n",
        "def subj_batch_generator(batch_size = 32, all_indices=train_indices):    \n",
        "  while True:\n",
        "    # Select files (paths/indices) for the batch\n",
        "    batch_indices = np.random.choice(a = all_indices,  size = batch_size)\n",
        "\n",
        "    batch_input  = []\n",
        "    batch_output = [] \n",
        "    \n",
        "    # Read in each input, perform preprocessing and get labels\n",
        "    for i in batch_indices:\n",
        "      _row = trainset_rows.iloc[i]\n",
        "      _subj = _row['subject']\n",
        "      _filename = _row['pickle']\n",
        "      _emb = get_embeddings(_filename)\n",
        "            \n",
        "      _subject_emb = subject_name_1hot_map[_subj]\n",
        "\n",
        "      batch_input +=  [_emb]\n",
        "      batch_output +=  [_subject_emb]\n",
        "\n",
        "\n",
        "    # Return a tuple of (input, output) to feed the network    \n",
        "    batch_x = np.array( batch_input )\n",
        "    batch_y = np.array( batch_output )\n",
        "\n",
        "    yield (batch_x, batch_y)\n",
        "\n",
        "test_generator = subj_batch_generator(4, all_indices = train_indices)\n",
        "_t_x, _t_y =  next(test_generator)\n",
        "print(\"sample\", _t_x.shape)\n",
        "print(\"sample\", _t_y.shape)\n",
        "\n",
        "\n",
        "\n",
        "\n",
        "plot_emb(_t_x[3])"
      ],
      "execution_count": 0,
      "outputs": []
    },
    {
      "cell_type": "markdown",
      "metadata": {
        "id": "jI12QrahQfbq",
        "colab_type": "text"
      },
      "source": [
        "### Resample trainset (deprecated)"
      ]
    },
    {
      "cell_type": "code",
      "metadata": {
        "id": "HyCGTpJ_RylF",
        "colab_type": "code",
        "colab": {}
      },
      "source": [
        "# from sklearn.model_selection import train_test_split\n",
        "\n",
        "# for i in sorted(subj_count.index):\n",
        "#   print(i, subj_count[i])\n",
        "# X.shape\n",
        "\n",
        "# X_train, X_test, y_train, y_test = train_test_split(X, labels, test_size=0.33, random_state=42)\n",
        "# y_test.shape\n"
      ],
      "execution_count": 0,
      "outputs": []
    },
    {
      "cell_type": "markdown",
      "metadata": {
        "id": "KGQlHw3Y-0pl",
        "colab_type": "text"
      },
      "source": [
        "# Build Models"
      ]
    },
    {
      "cell_type": "markdown",
      "metadata": {
        "id": "Q4I679zI4FW8",
        "colab_type": "text"
      },
      "source": [
        "### common"
      ]
    },
    {
      "cell_type": "code",
      "metadata": {
        "id": "iev4P0ib3ONw",
        "colab_type": "code",
        "colab": {
          "base_uri": "https://localhost:8080/",
          "height": 34
        },
        "outputId": "fa356918-2f87-4154-e0f1-00d2272fa329"
      },
      "source": [
        "%tensorflow_version 1.x\n",
        "import tensorflow as tf\n",
        "print(tf.__version__)\n",
        "\n",
        "from keras.utils.vis_utils import model_to_dot\n",
        "from sklearn.metrics import classification_report\n",
        "from IPython.display import SVG\n",
        "\n",
        "\n",
        "from tensorflow import keras\n",
        "from keras.layers import Conv1D, LSTM, GRU, BatchNormalization, TimeDistributed, Dense, Bidirectional, Input\n",
        "from keras.models import Sequential, Model\n",
        " \n",
        "  \n"
      ],
      "execution_count": 16,
      "outputs": [
        {
          "output_type": "stream",
          "text": [
            "1.15.2\n"
          ],
          "name": "stdout"
        }
      ]
    },
    {
      "cell_type": "code",
      "metadata": {
        "id": "0z7qDhTwWsgM",
        "colab_type": "code",
        "colab": {}
      },
      "source": [
        "HISTORIES={}\n",
        "\n",
        "def plot_training_history(history):\n",
        "  # Plot training & validation accuracy values\n",
        "  plt.plot(history.history['acc'])\n",
        "  plt.plot(history.history['val_acc'])\n",
        "  plt.title('Model accuracy')\n",
        "  plt.ylabel('Accuracy')\n",
        "  plt.xlabel('Epoch')\n",
        "  plt.legend(['Train', 'Test'], loc='upper left')\n",
        "  plt.show()\n",
        "\n",
        "  # Plot training & validation loss values\n",
        "  plt.plot(history.history['loss'])\n",
        "  plt.plot(history.history['val_loss'])\n",
        "  plt.title('Model loss')\n",
        "  plt.ylabel('Loss')\n",
        "  plt.xlabel('Epoch')\n",
        "  plt.legend(['Train', 'Test'], loc='upper left')\n",
        "  plt.show()\n",
        "  \n",
        "\n",
        "def plot_compare_models():\n",
        "  for key in HISTORIES:\n",
        "    history=HISTORIES[key]\n",
        "#     plt.plot(history.history['loss'], label=f'{key} loss')\n",
        "    plt.plot(history.history['val_loss'], label=f'{key} val_loss')\n",
        "  \n",
        "  plt.title('Models loss')   \n",
        "  plt.legend(loc='upper left')\n",
        "  plt.show()"
      ],
      "execution_count": 0,
      "outputs": []
    },
    {
      "cell_type": "code",
      "metadata": {
        "id": "iKLcFgcJa1u-",
        "colab_type": "code",
        "colab": {}
      },
      "source": [
        "EPOCHS=8\n",
        "BATCH_SIZE=32\n",
        "EMB=1024 #;//X.shape[-1]\n",
        "\n",
        "CLASSES=len(list(subject_name_1hot_map.values())[0])"
      ],
      "execution_count": 0,
      "outputs": []
    },
    {
      "cell_type": "code",
      "metadata": {
        "id": "wPvo2BA5ytv4",
        "colab_type": "code",
        "colab": {
          "base_uri": "https://localhost:8080/",
          "height": 34
        },
        "outputId": "248dd0d0-6d6f-426e-f580-0362e3e4002b"
      },
      "source": [
        ""
      ],
      "execution_count": 29,
      "outputs": [
        {
          "output_type": "execute_result",
          "data": {
            "text/plain": [
              "43"
            ]
          },
          "metadata": {
            "tags": []
          },
          "execution_count": 29
        }
      ]
    },
    {
      "cell_type": "code",
      "metadata": {
        "id": "nRNv6aHY6eUu",
        "colab_type": "code",
        "colab": {
          "base_uri": "https://localhost:8080/",
          "height": 34
        },
        "outputId": "30bec2fe-b229-400f-d9ca-2a689de89ff7"
      },
      "source": [
        "from keras.callbacks import ModelCheckpoint, ReduceLROnPlateau\n",
        "from os import mkdir\n",
        "\n",
        "model_checkpoint_path = csv_path = path.join(TRAINSETS_PATH, 'checkpoints', VERSION_PATH)\n",
        "reduce_lr = ReduceLROnPlateau(monitor='val_loss', factor=0.2, patience=6, min_lr=1E-6, verbose=1)\n",
        "\n",
        "print('model_checkpoint_path', model_checkpoint_path)\n",
        " \n",
        "\n",
        "b_generator = subj_batch_generator(BATCH_SIZE)\n"
      ],
      "execution_count": 31,
      "outputs": [
        {
          "output_type": "stream",
          "text": [
            "model_checkpoint_path /content/drive/My Drive/GazpromOil/trainsets/checkpoints/1_1_19\n"
          ],
          "name": "stdout"
        }
      ]
    },
    {
      "cell_type": "code",
      "metadata": {
        "id": "mmTAYj_xW5g-",
        "colab_type": "code",
        "colab": {
          "base_uri": "https://localhost:8080/",
          "height": 52
        },
        "outputId": "ec74d8e7-e608-4bf3-a012-3159723bdc88"
      },
      "source": [
        "\n",
        "\n",
        "validation_steps = int(len(test_indices)/BATCH_SIZE)\n",
        "steps_per_epoch = int(len(train_indices)/BATCH_SIZE/2)\n",
        "\n",
        "print('validation_steps=', validation_steps)\n",
        "print('steps_per_epoch=', steps_per_epoch)\n",
        "\n",
        "def train_and_evaluate_model(model):\n",
        "  checkpoint = ModelCheckpoint( path.join(model_checkpoint_path, model.name), \n",
        "                               monitor='val_loss', mode='min', save_best_only=True,\n",
        "                               verbose=1) \n",
        "  history = model.fit_generator(\n",
        "      generator=b_generator, \n",
        "      epochs=EPOCHS,  callbacks=[reduce_lr, checkpoint], steps_per_epoch=steps_per_epoch,\n",
        "      validation_data = test_generator,\n",
        "      validation_steps=validation_steps )\n",
        "\n",
        "  HISTORIES[model.name]=history\n",
        "  plot_training_history(history)\n",
        "  plot_compare_models()\n",
        "\n"
      ],
      "execution_count": 20,
      "outputs": [
        {
          "output_type": "stream",
          "text": [
            "validation_steps= 22\n",
            "steps_per_epoch= 34\n"
          ],
          "name": "stdout"
        }
      ]
    },
    {
      "cell_type": "markdown",
      "metadata": {
        "id": "gAFmo0sG4H9k",
        "colab_type": "text"
      },
      "source": [
        "## models"
      ]
    },
    {
      "cell_type": "markdown",
      "metadata": {
        "id": "qiR2X1n84PUx",
        "colab_type": "text"
      },
      "source": [
        "### baseline LSTM model"
      ]
    },
    {
      "cell_type": "code",
      "metadata": {
        "id": "MXUMDnvg-2zh",
        "colab_type": "code",
        "colab": {
          "base_uri": "https://localhost:8080/",
          "height": 283
        },
        "outputId": "d3076683-af42-445f-f7cb-498431890d13"
      },
      "source": [
        "\n",
        "# define baseline model\n",
        "def baseline_LSTM_model():\n",
        "  classes = min(10, CLASSES)\n",
        "\n",
        "  input_text = Input(shape=[ None, EMB], dtype='float32', name=\"input_text_emb\")\n",
        "\t \n",
        "  bi =  LSTM(classes*4, return_sequences=False)(input_text)  \n",
        "  dense = Dense(CLASSES, activation='softmax')(bi)\n",
        "  _out = dense\n",
        "  model = Model(inputs=[input_text], outputs=_out, name='baseline_LSTM_model')\n",
        "  model.compile(loss='categorical_crossentropy', optimizer='Nadam', metrics=['accuracy'])\n",
        "  \n",
        "  model.summary()\n",
        "  return model\n",
        "\n",
        "\n",
        "\n",
        " \n",
        "model = baseline_LSTM_model(  )\n",
        "SVG(model_to_dot(model, show_layer_names=True, show_shapes=True).create(prog='dot', format='svg'))\n",
        "model.name\n",
        "\n",
        "# print(\"TEST:--does it work?\")\n",
        "# k=model.predict( X)\n",
        "# k[0]\n"
      ],
      "execution_count": 34,
      "outputs": [
        {
          "output_type": "stream",
          "text": [
            "Model: \"baseline_LSTM_model\"\n",
            "_________________________________________________________________\n",
            "Layer (type)                 Output Shape              Param #   \n",
            "=================================================================\n",
            "input_text_emb (InputLayer)  (None, None, 1024)        0         \n",
            "_________________________________________________________________\n",
            "lstm_3 (LSTM)                (None, 40)                170400    \n",
            "_________________________________________________________________\n",
            "dense_3 (Dense)              (None, 43)                1763      \n",
            "=================================================================\n",
            "Total params: 172,163\n",
            "Trainable params: 172,163\n",
            "Non-trainable params: 0\n",
            "_________________________________________________________________\n"
          ],
          "name": "stdout"
        },
        {
          "output_type": "execute_result",
          "data": {
            "text/plain": [
              "'baseline_LSTM_model'"
            ]
          },
          "metadata": {
            "tags": []
          },
          "execution_count": 34
        }
      ]
    },
    {
      "cell_type": "code",
      "metadata": {
        "id": "yt8fz4fi4jWM",
        "colab_type": "code",
        "colab": {}
      },
      "source": [
        "SVG(model_to_dot(model, show_layer_names=True, show_shapes=True).create(prog='dot', format='svg'))"
      ],
      "execution_count": 0,
      "outputs": []
    },
    {
      "cell_type": "code",
      "metadata": {
        "id": "hoOHofHkXtoI",
        "colab_type": "code",
        "colab": {
          "base_uri": "https://localhost:8080/",
          "height": 1000
        },
        "outputId": "1819e9e0-a093-4e6b-82a4-8e57445e7564"
      },
      "source": [
        "# b_generator\n",
        "# checkpoint = ModelCheckpoint( path.join(model_checkpoint_path, model.name), monitor='val_loss', verbose=1, save_best_only=True, mode='min') \n",
        "# model.fit_generator(generator=b_generator, epochs=EPOCHS*2,  callbacks=[reduce_lr, checkpoint], steps_per_epoch=2 )\n",
        "\n",
        "EPOCHS=4\n",
        "train_and_evaluate_model(model)"
      ],
      "execution_count": 35,
      "outputs": [
        {
          "output_type": "stream",
          "text": [
            "Epoch 1/4\n",
            "WARNING:tensorflow:From /usr/local/lib/python3.6/dist-packages/keras/backend/tensorflow_backend.py:190: The name tf.get_default_session is deprecated. Please use tf.compat.v1.get_default_session instead.\n",
            "\n",
            "WARNING:tensorflow:From /usr/local/lib/python3.6/dist-packages/keras/backend/tensorflow_backend.py:197: The name tf.ConfigProto is deprecated. Please use tf.compat.v1.ConfigProto instead.\n",
            "\n",
            "WARNING:tensorflow:From /usr/local/lib/python3.6/dist-packages/keras/backend/tensorflow_backend.py:207: The name tf.global_variables is deprecated. Please use tf.compat.v1.global_variables instead.\n",
            "\n",
            "WARNING:tensorflow:From /usr/local/lib/python3.6/dist-packages/keras/backend/tensorflow_backend.py:216: The name tf.is_variable_initialized is deprecated. Please use tf.compat.v1.is_variable_initialized instead.\n",
            "\n",
            "WARNING:tensorflow:From /usr/local/lib/python3.6/dist-packages/keras/backend/tensorflow_backend.py:223: The name tf.variables_initializer is deprecated. Please use tf.compat.v1.variables_initializer instead.\n",
            "\n",
            "34/34 [==============================] - 56s 2s/step - loss: 1.4048 - acc: 0.7822 - val_loss: 0.3149 - val_acc: 0.9545\n",
            "\n",
            "Epoch 00001: val_loss improved from inf to 0.31485, saving model to /content/drive/My Drive/GazpromOil/trainsets/checkpoints/1_1_19/baseline_LSTM_model\n",
            "Epoch 2/4\n",
            "34/34 [==============================] - 50s 1s/step - loss: 0.1788 - acc: 0.9733 - val_loss: 0.0619 - val_acc: 1.0000\n",
            "\n",
            "Epoch 00002: val_loss improved from 0.31485 to 0.06188, saving model to /content/drive/My Drive/GazpromOil/trainsets/checkpoints/1_1_19/baseline_LSTM_model\n",
            "Epoch 3/4\n",
            "34/34 [==============================] - 49s 1s/step - loss: 0.0444 - acc: 1.0000 - val_loss: 0.0346 - val_acc: 1.0000\n",
            "\n",
            "Epoch 00003: val_loss improved from 0.06188 to 0.03465, saving model to /content/drive/My Drive/GazpromOil/trainsets/checkpoints/1_1_19/baseline_LSTM_model\n",
            "Epoch 4/4\n",
            "34/34 [==============================] - 49s 1s/step - loss: 0.0506 - acc: 0.9945 - val_loss: 0.0357 - val_acc: 1.0000\n",
            "\n",
            "Epoch 00004: val_loss did not improve from 0.03465\n"
          ],
          "name": "stdout"
        },
        {
          "output_type": "display_data",
          "data": {
            "image/png": "[encoded data removed]",
            "text/plain": [
              "<Figure size 432x288 with 1 Axes>"
            ]
          },
          "metadata": {
            "tags": []
          }
        },
        {
          "output_type": "display_data",
          "data": {
            "image/png": "[encoded data removed]",
            "text/plain": [
              "<Figure size 432x288 with 1 Axes>"
            ]
          },
          "metadata": {
            "tags": []
          }
        },
        {
          "output_type": "display_data",
          "data": {
            "image/png": "[encoded data removed]",
            "text/plain": [
              "<Figure size 432x288 with 1 Axes>"
            ]
          },
          "metadata": {
            "tags": []
          }
        }
      ]
    },
    {
      "cell_type": "code",
      "metadata": {
        "id": "Ckb7YjM1MOMp",
        "colab_type": "code",
        "colab": {
          "base_uri": "https://localhost:8080/",
          "height": 34
        },
        "outputId": "fd98b7ce-165d-47ea-a92d-d1761964997c"
      },
      "source": [
        "# k=model.predict( X)\n",
        "# subjs = list(trainset_rows['subject'])\n",
        "# subjs_c = list(trainset_rows_r['subject'])\n",
        "\n",
        "# _t_x, _t_y =  next(test_generator)\n",
        "\n",
        "# p=model.predict(_t_x)\n",
        "# for i  in range(0,200):\n",
        "#   print(  subjs[i], subjs_c[i], p[i].argmax())\n",
        "\n",
        "e=model.evaluate_generator(generator=test_generator, steps=10)\n",
        "print(e)"
      ],
      "execution_count": 22,
      "outputs": [
        {
          "output_type": "stream",
          "text": [
            "[0.09674552977085113, 1.0]\n"
          ],
          "name": "stdout"
        }
      ]
    },
    {
      "cell_type": "markdown",
      "metadata": {
        "colab_type": "text",
        "id": "jaWNcEae5Bsr"
      },
      "source": [
        "### baseline bi-GRU  model"
      ]
    },
    {
      "cell_type": "code",
      "metadata": {
        "colab_type": "code",
        "id": "lWgJtDlg5Bss",
        "colab": {
          "base_uri": "https://localhost:8080/",
          "height": 662
        },
        "outputId": "cfd1314d-0176-411c-b07a-76883cebe59f"
      },
      "source": [
        "def simple_bi_GRU_model(name=\"new_model\"):\n",
        "  classes = min(10, CLASSES)\n",
        "\n",
        "  input_text = Input(shape=[ None, EMB], dtype='float32', name=\"input_text_emb\")\n",
        "\t \n",
        "  bi =  Bidirectional(GRU(classes*2, return_sequences=False))(input_text)   \n",
        "  dense = Dense(CLASSES, activation='softmax')(bi)\n",
        "  _out = dense\n",
        "  model = Model(inputs=[input_text], outputs=_out, name=name)\n",
        "  model.compile(loss='categorical_crossentropy', optimizer='Nadam', metrics=['accuracy'])\n",
        "  \n",
        "  model.summary()\n",
        "  \n",
        "  return model\n",
        "\n",
        "\n",
        " \n",
        "model = simple_bi_GRU_model( simple_bi_GRU_model.__name__ )\n",
        "SVG(model_to_dot(model, show_layer_names=True, show_shapes=True).create(prog='dot', format='svg'))\n",
        "\n",
        "# print(\"TEST:--does it work?\")\n",
        "# k=model.predict( X)\n",
        "# k[0]\n"
      ],
      "execution_count": 36,
      "outputs": [
        {
          "output_type": "stream",
          "text": [
            "Model: \"simple_bi_GRU_model\"\n",
            "_________________________________________________________________\n",
            "Layer (type)                 Output Shape              Param #   \n",
            "=================================================================\n",
            "input_text_emb (InputLayer)  (None, None, 1024)        0         \n",
            "_________________________________________________________________\n",
            "bidirectional_1 (Bidirection (None, 40)                125400    \n",
            "_________________________________________________________________\n",
            "dense_4 (Dense)              (None, 43)                1763      \n",
            "=================================================================\n",
            "Total params: 127,163\n",
            "Trainable params: 127,163\n",
            "Non-trainable params: 0\n",
            "_________________________________________________________________\n"
          ],
          "name": "stdout"
        },
        {
          "output_type": "execute_result",
          "data": {
            "text/plain": [
              "<IPython.core.display.SVG object>"
            ],
            "image/svg+xml": "<svg height=\"295pt\" viewBox=\"0.00 0.00 467.00 221.00\" width=\"623pt\" xmlns=\"http://www.w3.org/2000/svg\" xmlns:xlink=\"http://www.w3.org/1999/xlink\">\n<g class=\"graph\" id=\"graph0\" transform=\"scale(1.3333 1.3333) rotate(0) translate(4 217)\">\n<title>G</title>\n<polygon fill=\"#ffffff\" points=\"-4,4 -4,-217 463,-217 463,4 -4,4\" stroke=\"transparent\"/>\n<!-- 140428258528728 -->\n<g class=\"node\" id=\"node1\">\n<title>140428258528728</title>\n<polygon fill=\"none\" points=\"44,-166.5 44,-212.5 415,-212.5 415,-166.5 44,-166.5\" stroke=\"#000000\"/>\n<text fill=\"#000000\" font-family=\"Times,serif\" font-size=\"14.00\" text-anchor=\"middle\" x=\"133.5\" y=\"-185.8\">input_text_emb: InputLayer</text>\n<polyline fill=\"none\" points=\"223,-166.5 223,-212.5 \" stroke=\"#000000\"/>\n<text fill=\"#000000\" font-family=\"Times,serif\" font-size=\"14.00\" text-anchor=\"middle\" x=\"252\" y=\"-197.3\">input:</text>\n<polyline fill=\"none\" points=\"223,-189.5 281,-189.5 \" stroke=\"#000000\"/>\n<text fill=\"#000000\" font-family=\"Times,serif\" font-size=\"14.00\" text-anchor=\"middle\" x=\"252\" y=\"-174.3\">output:</text>\n<polyline fill=\"none\" points=\"281,-166.5 281,-212.5 \" stroke=\"#000000\"/>\n<text fill=\"#000000\" font-family=\"Times,serif\" font-size=\"14.00\" text-anchor=\"middle\" x=\"348\" y=\"-197.3\">(None, None, 1024)</text>\n<polyline fill=\"none\" points=\"281,-189.5 415,-189.5 \" stroke=\"#000000\"/>\n<text fill=\"#000000\" font-family=\"Times,serif\" font-size=\"14.00\" text-anchor=\"middle\" x=\"348\" y=\"-174.3\">(None, None, 1024)</text>\n</g>\n<!-- 140428258525256 -->\n<g class=\"node\" id=\"node2\">\n<title>140428258525256</title>\n<polygon fill=\"none\" points=\"0,-83.5 0,-129.5 459,-129.5 459,-83.5 0,-83.5\" stroke=\"#000000\"/>\n<text fill=\"#000000\" font-family=\"Times,serif\" font-size=\"14.00\" text-anchor=\"middle\" x=\"133.5\" y=\"-102.8\">bidirectional_1(gru_1): Bidirectional(GRU)</text>\n<polyline fill=\"none\" points=\"267,-83.5 267,-129.5 \" stroke=\"#000000\"/>\n<text fill=\"#000000\" font-family=\"Times,serif\" font-size=\"14.00\" text-anchor=\"middle\" x=\"296\" y=\"-114.3\">input:</text>\n<polyline fill=\"none\" points=\"267,-106.5 325,-106.5 \" stroke=\"#000000\"/>\n<text fill=\"#000000\" font-family=\"Times,serif\" font-size=\"14.00\" text-anchor=\"middle\" x=\"296\" y=\"-91.3\">output:</text>\n<polyline fill=\"none\" points=\"325,-83.5 325,-129.5 \" stroke=\"#000000\"/>\n<text fill=\"#000000\" font-family=\"Times,serif\" font-size=\"14.00\" text-anchor=\"middle\" x=\"392\" y=\"-114.3\">(None, None, 1024)</text>\n<polyline fill=\"none\" points=\"325,-106.5 459,-106.5 \" stroke=\"#000000\"/>\n<text fill=\"#000000\" font-family=\"Times,serif\" font-size=\"14.00\" text-anchor=\"middle\" x=\"392\" y=\"-91.3\">(None, 40)</text>\n</g>\n<!-- 140428258528728&#45;&gt;140428258525256 -->\n<g class=\"edge\" id=\"edge1\">\n<title>140428258528728-&gt;140428258525256</title>\n<path d=\"M229.5,-166.3799C229.5,-158.1745 229.5,-148.7679 229.5,-139.8786\" fill=\"none\" stroke=\"#000000\"/>\n<polygon fill=\"#000000\" points=\"233.0001,-139.784 229.5,-129.784 226.0001,-139.784 233.0001,-139.784\" stroke=\"#000000\"/>\n</g>\n<!-- 140428258498376 -->\n<g class=\"node\" id=\"node3\">\n<title>140428258498376</title>\n<polygon fill=\"none\" points=\"107,-.5 107,-46.5 352,-46.5 352,-.5 107,-.5\" stroke=\"#000000\"/>\n<text fill=\"#000000\" font-family=\"Times,serif\" font-size=\"14.00\" text-anchor=\"middle\" x=\"160.5\" y=\"-19.8\">dense_4: Dense</text>\n<polyline fill=\"none\" points=\"214,-.5 214,-46.5 \" stroke=\"#000000\"/>\n<text fill=\"#000000\" font-family=\"Times,serif\" font-size=\"14.00\" text-anchor=\"middle\" x=\"243\" y=\"-31.3\">input:</text>\n<polyline fill=\"none\" points=\"214,-23.5 272,-23.5 \" stroke=\"#000000\"/>\n<text fill=\"#000000\" font-family=\"Times,serif\" font-size=\"14.00\" text-anchor=\"middle\" x=\"243\" y=\"-8.3\">output:</text>\n<polyline fill=\"none\" points=\"272,-.5 272,-46.5 \" stroke=\"#000000\"/>\n<text fill=\"#000000\" font-family=\"Times,serif\" font-size=\"14.00\" text-anchor=\"middle\" x=\"312\" y=\"-31.3\">(None, 40)</text>\n<polyline fill=\"none\" points=\"272,-23.5 352,-23.5 \" stroke=\"#000000\"/>\n<text fill=\"#000000\" font-family=\"Times,serif\" font-size=\"14.00\" text-anchor=\"middle\" x=\"312\" y=\"-8.3\">(None, 43)</text>\n</g>\n<!-- 140428258525256&#45;&gt;140428258498376 -->\n<g class=\"edge\" id=\"edge2\">\n<title>140428258525256-&gt;140428258498376</title>\n<path d=\"M229.5,-83.3799C229.5,-75.1745 229.5,-65.7679 229.5,-56.8786\" fill=\"none\" stroke=\"#000000\"/>\n<polygon fill=\"#000000\" points=\"233.0001,-56.784 229.5,-46.784 226.0001,-56.784 233.0001,-56.784\" stroke=\"#000000\"/>\n</g>\n</g>\n</svg>"
          },
          "metadata": {
            "tags": []
          },
          "execution_count": 36
        }
      ]
    },
    {
      "cell_type": "code",
      "metadata": {
        "colab_type": "code",
        "id": "LBZkTqEt5Bsv",
        "colab": {}
      },
      "source": [
        "# SVG(model_to_dot(model, show_layer_names=True, show_shapes=True).create(prog='dot', format='svg'))"
      ],
      "execution_count": 0,
      "outputs": []
    },
    {
      "cell_type": "code",
      "metadata": {
        "colab_type": "code",
        "id": "d-DGKqpI5Bsx",
        "colab": {
          "base_uri": "https://localhost:8080/",
          "height": 1000
        },
        "outputId": "62af8b77-55bd-4c7d-d076-2381f624aaf5"
      },
      "source": [
        "# checkpoint = ModelCheckpoint( path.join(model_checkpoint_path, model.name), monitor='val_loss', verbose=1, save_best_only=True, mode='min') \n",
        "# # //model.fit(  X[test_region] ,  labels[test_region] , validation_split=0.25, epochs=EPOCHS, batch_size=64,  callbacks=[reduce_lr, checkpoint] )\n",
        "\n",
        "# # model.fit(  X_train ,  y_train , validation_split=0.25, epochs=EPOCHS*4, batch_size=32,  callbacks=[reduce_lr, checkpoint], validation_data=(X_test, y_test) )\n",
        "# model.fit_generator(generator=b_generator, epochs=EPOCHS*2,  callbacks=[reduce_lr, checkpoint], steps_per_epoch=20 )\n",
        "\n",
        "EPOCHS=4\n",
        "train_and_evaluate_model(model)"
      ],
      "execution_count": 37,
      "outputs": [
        {
          "output_type": "stream",
          "text": [
            "Epoch 1/4\n",
            "34/34 [==============================] - 77s 2s/step - loss: 1.8872 - acc: 0.7031 - val_loss: 0.7509 - val_acc: 0.9545\n",
            "\n",
            "Epoch 00001: val_loss improved from inf to 0.75088, saving model to /content/drive/My Drive/GazpromOil/trainsets/checkpoints/1_1_19/simple_bi_GRU_model\n",
            "Epoch 2/4\n",
            "34/34 [==============================] - 75s 2s/step - loss: 0.5066 - acc: 0.9807 - val_loss: 0.2835 - val_acc: 0.9886\n",
            "\n",
            "Epoch 00002: val_loss improved from 0.75088 to 0.28353, saving model to /content/drive/My Drive/GazpromOil/trainsets/checkpoints/1_1_19/simple_bi_GRU_model\n",
            "Epoch 3/4\n",
            "34/34 [==============================] - 74s 2s/step - loss: 0.2381 - acc: 0.9917 - val_loss: 0.1707 - val_acc: 0.9886\n",
            "\n",
            "Epoch 00003: val_loss improved from 0.28353 to 0.17072, saving model to /content/drive/My Drive/GazpromOil/trainsets/checkpoints/1_1_19/simple_bi_GRU_model\n",
            "Epoch 4/4\n",
            "34/34 [==============================] - 74s 2s/step - loss: 0.1320 - acc: 0.9991 - val_loss: 0.0992 - val_acc: 1.0000\n",
            "\n",
            "Epoch 00004: val_loss improved from 0.17072 to 0.09915, saving model to /content/drive/My Drive/GazpromOil/trainsets/checkpoints/1_1_19/simple_bi_GRU_model\n"
          ],
          "name": "stdout"
        },
        {
          "output_type": "display_data",
          "data": {
            "image/png": "[encoded data removed]",
            "text/plain": [
              "<Figure size 432x288 with 1 Axes>"
            ]
          },
          "metadata": {
            "tags": []
          }
        },
        {
          "output_type": "display_data",
          "data": {
            "image/png": "[encoded data removed]",
            "text/plain": [
              "<Figure size 432x288 with 1 Axes>"
            ]
          },
          "metadata": {
            "tags": []
          }
        },
        {
          "output_type": "display_data",
          "data": {
            "image/png": "[encoded data removed]",
            "text/plain": [
              "<Figure size 432x288 with 1 Axes>"
            ]
          },
          "metadata": {
            "tags": []
          }
        }
      ]
    },
    {
      "cell_type": "code",
      "metadata": {
        "colab_type": "code",
        "id": "Dip8u8JC5Bs0",
        "colab": {
          "base_uri": "https://localhost:8080/",
          "height": 34
        },
        "outputId": "01b05ba2-9cfa-45d9-ec84-0ac23106fcab"
      },
      "source": [
        "# # k=model.predict( X)\n",
        "# subjs = list(trainset_rows['subject'])\n",
        "# subjs_c = list(trainset_rows_r['subject'])\n",
        "\n",
        "# p=model.predict(X)\n",
        "# for i  in range(0,len(p)):\n",
        "#   max_i=p[i].argmax()\n",
        "#   print(  subjs[i], subjs_c[i], max_i, f'{p[i][max_i]}')\n",
        "\n",
        "\n",
        "model.evaluate_generator(generator=test_generator, steps=100)\n"
      ],
      "execution_count": 26,
      "outputs": [
        {
          "output_type": "execute_result",
          "data": {
            "text/plain": [
              "[0.008997679337626322, 1.0]"
            ]
          },
          "metadata": {
            "tags": []
          },
          "execution_count": 26
        }
      ]
    },
    {
      "cell_type": "code",
      "metadata": {
        "id": "z7FvotxVJDcT",
        "colab_type": "code",
        "colab": {
          "base_uri": "https://localhost:8080/",
          "height": 34
        },
        "outputId": "5f2ef2cb-dfc7-4772-fc55-c05a03c91a93"
      },
      "source": [
        "model.evaluate_generator(generator=b_generator, steps=100)"
      ],
      "execution_count": 27,
      "outputs": [
        {
          "output_type": "execute_result",
          "data": {
            "text/plain": [
              "[0.008753084745258093, 1.0]"
            ]
          },
          "metadata": {
            "tags": []
          },
          "execution_count": 27
        }
      ]
    },
    {
      "cell_type": "code",
      "metadata": {
        "id": "jMzx9DLfcSL5",
        "colab_type": "code",
        "colab": {
          "base_uri": "https://localhost:8080/",
          "height": 34
        },
        "outputId": "84380c46-bdfb-47cb-8599-da91e3c991a3"
      },
      "source": [
        ""
      ],
      "execution_count": 43,
      "outputs": [
        {
          "output_type": "execute_result",
          "data": {
            "text/plain": [
              "'baseline_GRU_model'"
            ]
          },
          "metadata": {
            "tags": []
          },
          "execution_count": 43
        }
      ]
    },
    {
      "cell_type": "markdown",
      "metadata": {
        "id": "291tboIGdoGy",
        "colab_type": "text"
      },
      "source": [
        "# Playground"
      ]
    },
    {
      "cell_type": "code",
      "metadata": {
        "id": "ol9C48kSdq-1",
        "colab_type": "code",
        "colab": {
          "base_uri": "https://localhost:8080/",
          "height": 1000
        },
        "outputId": "5a922c42-f862-478d-aa2c-2ed0c484f7c0"
      },
      "source": [
        "row_no:int=0\n",
        "\n",
        "model_validation_meta = trainset_meta[ trainset_meta['subject']!='?' ].copy()\n",
        "\n",
        "for index, row in model_validation_meta.iterrows():\n",
        "  row_by_no = model_validation_meta.iloc[row_no]\n",
        "   \n",
        "  _subj=row_by_no['subject']\n",
        "  _onehot = subject_name_1hot_map[ _subj ]\n",
        "  print(row_no, index, _subj, row_by_no['valid'], _onehot)\n",
        "\n",
        "  \n",
        "  row_no+=1\n",
        "\n",
        "  if row_no>50:\n",
        "    break"
      ],
      "execution_count": 38,
      "outputs": [
        {
          "output_type": "stream",
          "text": [
            "0 33 Charity False [0. 1. 0. 0. 0. 0. 0. 0. 0. 0. 0. 0. 0. 0. 0. 0. 0. 0. 0. 0. 0. 0. 0. 0.\n",
            " 0. 0. 0. 0. 0. 0. 0. 0. 0. 0. 0. 0. 0. 0. 0. 0. 0. 0. 0.]\n",
            "1 34 Charity False [0. 1. 0. 0. 0. 0. 0. 0. 0. 0. 0. 0. 0. 0. 0. 0. 0. 0. 0. 0. 0. 0. 0. 0.\n",
            " 0. 0. 0. 0. 0. 0. 0. 0. 0. 0. 0. 0. 0. 0. 0. 0. 0. 0. 0.]\n",
            "2 35 Charity False [0. 1. 0. 0. 0. 0. 0. 0. 0. 0. 0. 0. 0. 0. 0. 0. 0. 0. 0. 0. 0. 0. 0. 0.\n",
            " 0. 0. 0. 0. 0. 0. 0. 0. 0. 0. 0. 0. 0. 0. 0. 0. 0. 0. 0.]\n",
            "3 36 Charity False [0. 1. 0. 0. 0. 0. 0. 0. 0. 0. 0. 0. 0. 0. 0. 0. 0. 0. 0. 0. 0. 0. 0. 0.\n",
            " 0. 0. 0. 0. 0. 0. 0. 0. 0. 0. 0. 0. 0. 0. 0. 0. 0. 0. 0.]\n",
            "4 37 Charity False [0. 1. 0. 0. 0. 0. 0. 0. 0. 0. 0. 0. 0. 0. 0. 0. 0. 0. 0. 0. 0. 0. 0. 0.\n",
            " 0. 0. 0. 0. 0. 0. 0. 0. 0. 0. 0. 0. 0. 0. 0. 0. 0. 0. 0.]\n",
            "5 38 Charity False [0. 1. 0. 0. 0. 0. 0. 0. 0. 0. 0. 0. 0. 0. 0. 0. 0. 0. 0. 0. 0. 0. 0. 0.\n",
            " 0. 0. 0. 0. 0. 0. 0. 0. 0. 0. 0. 0. 0. 0. 0. 0. 0. 0. 0.]\n",
            "6 39 Charity False [0. 1. 0. 0. 0. 0. 0. 0. 0. 0. 0. 0. 0. 0. 0. 0. 0. 0. 0. 0. 0. 0. 0. 0.\n",
            " 0. 0. 0. 0. 0. 0. 0. 0. 0. 0. 0. 0. 0. 0. 0. 0. 0. 0. 0.]\n",
            "7 40 Charity False [0. 1. 0. 0. 0. 0. 0. 0. 0. 0. 0. 0. 0. 0. 0. 0. 0. 0. 0. 0. 0. 0. 0. 0.\n",
            " 0. 0. 0. 0. 0. 0. 0. 0. 0. 0. 0. 0. 0. 0. 0. 0. 0. 0. 0.]\n",
            "8 41 Charity False [0. 1. 0. 0. 0. 0. 0. 0. 0. 0. 0. 0. 0. 0. 0. 0. 0. 0. 0. 0. 0. 0. 0. 0.\n",
            " 0. 0. 0. 0. 0. 0. 0. 0. 0. 0. 0. 0. 0. 0. 0. 0. 0. 0. 0.]\n",
            "9 42 Charity False [0. 1. 0. 0. 0. 0. 0. 0. 0. 0. 0. 0. 0. 0. 0. 0. 0. 0. 0. 0. 0. 0. 0. 0.\n",
            " 0. 0. 0. 0. 0. 0. 0. 0. 0. 0. 0. 0. 0. 0. 0. 0. 0. 0. 0.]\n",
            "10 43 Charity False [0. 1. 0. 0. 0. 0. 0. 0. 0. 0. 0. 0. 0. 0. 0. 0. 0. 0. 0. 0. 0. 0. 0. 0.\n",
            " 0. 0. 0. 0. 0. 0. 0. 0. 0. 0. 0. 0. 0. 0. 0. 0. 0. 0. 0.]\n",
            "11 44 Charity False [0. 1. 0. 0. 0. 0. 0. 0. 0. 0. 0. 0. 0. 0. 0. 0. 0. 0. 0. 0. 0. 0. 0. 0.\n",
            " 0. 0. 0. 0. 0. 0. 0. 0. 0. 0. 0. 0. 0. 0. 0. 0. 0. 0. 0.]\n",
            "12 45 Charity False [0. 1. 0. 0. 0. 0. 0. 0. 0. 0. 0. 0. 0. 0. 0. 0. 0. 0. 0. 0. 0. 0. 0. 0.\n",
            " 0. 0. 0. 0. 0. 0. 0. 0. 0. 0. 0. 0. 0. 0. 0. 0. 0. 0. 0.]\n",
            "13 46 Charity False [0. 1. 0. 0. 0. 0. 0. 0. 0. 0. 0. 0. 0. 0. 0. 0. 0. 0. 0. 0. 0. 0. 0. 0.\n",
            " 0. 0. 0. 0. 0. 0. 0. 0. 0. 0. 0. 0. 0. 0. 0. 0. 0. 0. 0.]\n",
            "14 47 Charity False [0. 1. 0. 0. 0. 0. 0. 0. 0. 0. 0. 0. 0. 0. 0. 0. 0. 0. 0. 0. 0. 0. 0. 0.\n",
            " 0. 0. 0. 0. 0. 0. 0. 0. 0. 0. 0. 0. 0. 0. 0. 0. 0. 0. 0.]\n",
            "15 48 Charity False [0. 1. 0. 0. 0. 0. 0. 0. 0. 0. 0. 0. 0. 0. 0. 0. 0. 0. 0. 0. 0. 0. 0. 0.\n",
            " 0. 0. 0. 0. 0. 0. 0. 0. 0. 0. 0. 0. 0. 0. 0. 0. 0. 0. 0.]\n",
            "16 49 Charity False [0. 1. 0. 0. 0. 0. 0. 0. 0. 0. 0. 0. 0. 0. 0. 0. 0. 0. 0. 0. 0. 0. 0. 0.\n",
            " 0. 0. 0. 0. 0. 0. 0. 0. 0. 0. 0. 0. 0. 0. 0. 0. 0. 0. 0.]\n",
            "17 50 Charity False [0. 1. 0. 0. 0. 0. 0. 0. 0. 0. 0. 0. 0. 0. 0. 0. 0. 0. 0. 0. 0. 0. 0. 0.\n",
            " 0. 0. 0. 0. 0. 0. 0. 0. 0. 0. 0. 0. 0. 0. 0. 0. 0. 0. 0.]\n",
            "18 51 Charity False [0. 1. 0. 0. 0. 0. 0. 0. 0. 0. 0. 0. 0. 0. 0. 0. 0. 0. 0. 0. 0. 0. 0. 0.\n",
            " 0. 0. 0. 0. 0. 0. 0. 0. 0. 0. 0. 0. 0. 0. 0. 0. 0. 0. 0.]\n",
            "19 52 Charity False [0. 1. 0. 0. 0. 0. 0. 0. 0. 0. 0. 0. 0. 0. 0. 0. 0. 0. 0. 0. 0. 0. 0. 0.\n",
            " 0. 0. 0. 0. 0. 0. 0. 0. 0. 0. 0. 0. 0. 0. 0. 0. 0. 0. 0.]\n",
            "20 53 Charity False [0. 1. 0. 0. 0. 0. 0. 0. 0. 0. 0. 0. 0. 0. 0. 0. 0. 0. 0. 0. 0. 0. 0. 0.\n",
            " 0. 0. 0. 0. 0. 0. 0. 0. 0. 0. 0. 0. 0. 0. 0. 0. 0. 0. 0.]\n",
            "21 54 Charity False [0. 1. 0. 0. 0. 0. 0. 0. 0. 0. 0. 0. 0. 0. 0. 0. 0. 0. 0. 0. 0. 0. 0. 0.\n",
            " 0. 0. 0. 0. 0. 0. 0. 0. 0. 0. 0. 0. 0. 0. 0. 0. 0. 0. 0.]\n",
            "22 55 Charity False [0. 1. 0. 0. 0. 0. 0. 0. 0. 0. 0. 0. 0. 0. 0. 0. 0. 0. 0. 0. 0. 0. 0. 0.\n",
            " 0. 0. 0. 0. 0. 0. 0. 0. 0. 0. 0. 0. 0. 0. 0. 0. 0. 0. 0.]\n",
            "23 56 Deal False [1. 0. 0. 0. 0. 0. 0. 0. 0. 0. 0. 0. 0. 0. 0. 0. 0. 0. 0. 0. 0. 0. 0. 0.\n",
            " 0. 0. 0. 0. 0. 0. 0. 0. 0. 0. 0. 0. 0. 0. 0. 0. 0. 0. 0.]\n",
            "24 57 Deal False [1. 0. 0. 0. 0. 0. 0. 0. 0. 0. 0. 0. 0. 0. 0. 0. 0. 0. 0. 0. 0. 0. 0. 0.\n",
            " 0. 0. 0. 0. 0. 0. 0. 0. 0. 0. 0. 0. 0. 0. 0. 0. 0. 0. 0.]\n",
            "25 58 Deal False [1. 0. 0. 0. 0. 0. 0. 0. 0. 0. 0. 0. 0. 0. 0. 0. 0. 0. 0. 0. 0. 0. 0. 0.\n",
            " 0. 0. 0. 0. 0. 0. 0. 0. 0. 0. 0. 0. 0. 0. 0. 0. 0. 0. 0.]\n",
            "26 59 Deal False [1. 0. 0. 0. 0. 0. 0. 0. 0. 0. 0. 0. 0. 0. 0. 0. 0. 0. 0. 0. 0. 0. 0. 0.\n",
            " 0. 0. 0. 0. 0. 0. 0. 0. 0. 0. 0. 0. 0. 0. 0. 0. 0. 0. 0.]\n",
            "27 60 GeneralContract False [0. 0. 0. 0. 0. 0. 0. 0. 0. 0. 0. 0. 0. 0. 0. 0. 0. 0. 0. 0. 0. 0. 0. 0.\n",
            " 1. 0. 0. 0. 0. 0. 0. 0. 0. 0. 0. 0. 0. 0. 0. 0. 0. 0. 0.]\n",
            "28 61 GeneralContract False [0. 0. 0. 0. 0. 0. 0. 0. 0. 0. 0. 0. 0. 0. 0. 0. 0. 0. 0. 0. 0. 0. 0. 0.\n",
            " 1. 0. 0. 0. 0. 0. 0. 0. 0. 0. 0. 0. 0. 0. 0. 0. 0. 0. 0.]\n",
            "29 62 GeneralContract False [0. 0. 0. 0. 0. 0. 0. 0. 0. 0. 0. 0. 0. 0. 0. 0. 0. 0. 0. 0. 0. 0. 0. 0.\n",
            " 1. 0. 0. 0. 0. 0. 0. 0. 0. 0. 0. 0. 0. 0. 0. 0. 0. 0. 0.]\n",
            "30 63 GeneralContract False [0. 0. 0. 0. 0. 0. 0. 0. 0. 0. 0. 0. 0. 0. 0. 0. 0. 0. 0. 0. 0. 0. 0. 0.\n",
            " 1. 0. 0. 0. 0. 0. 0. 0. 0. 0. 0. 0. 0. 0. 0. 0. 0. 0. 0.]\n",
            "31 64 GeneralContract False [0. 0. 0. 0. 0. 0. 0. 0. 0. 0. 0. 0. 0. 0. 0. 0. 0. 0. 0. 0. 0. 0. 0. 0.\n",
            " 1. 0. 0. 0. 0. 0. 0. 0. 0. 0. 0. 0. 0. 0. 0. 0. 0. 0. 0.]\n",
            "32 65 GeneralContract False [0. 0. 0. 0. 0. 0. 0. 0. 0. 0. 0. 0. 0. 0. 0. 0. 0. 0. 0. 0. 0. 0. 0. 0.\n",
            " 1. 0. 0. 0. 0. 0. 0. 0. 0. 0. 0. 0. 0. 0. 0. 0. 0. 0. 0.]\n",
            "33 66 Loans False [0. 0. 0. 0. 0. 0. 0. 1. 0. 0. 0. 0. 0. 0. 0. 0. 0. 0. 0. 0. 0. 0. 0. 0.\n",
            " 0. 0. 0. 0. 0. 0. 0. 0. 0. 0. 0. 0. 0. 0. 0. 0. 0. 0. 0.]\n",
            "34 67 RealEstate False [0. 0. 0. 0. 1. 0. 0. 0. 0. 0. 0. 0. 0. 0. 0. 0. 0. 0. 0. 0. 0. 0. 0. 0.\n",
            " 0. 0. 0. 0. 0. 0. 0. 0. 0. 0. 0. 0. 0. 0. 0. 0. 0. 0. 0.]\n",
            "35 68 RealEstate False [0. 0. 0. 0. 1. 0. 0. 0. 0. 0. 0. 0. 0. 0. 0. 0. 0. 0. 0. 0. 0. 0. 0. 0.\n",
            " 0. 0. 0. 0. 0. 0. 0. 0. 0. 0. 0. 0. 0. 0. 0. 0. 0. 0. 0.]\n",
            "36 69 RealEstate False [0. 0. 0. 0. 1. 0. 0. 0. 0. 0. 0. 0. 0. 0. 0. 0. 0. 0. 0. 0. 0. 0. 0. 0.\n",
            " 0. 0. 0. 0. 0. 0. 0. 0. 0. 0. 0. 0. 0. 0. 0. 0. 0. 0. 0.]\n",
            "37 70 RealEstate False [0. 0. 0. 0. 1. 0. 0. 0. 0. 0. 0. 0. 0. 0. 0. 0. 0. 0. 0. 0. 0. 0. 0. 0.\n",
            " 0. 0. 0. 0. 0. 0. 0. 0. 0. 0. 0. 0. 0. 0. 0. 0. 0. 0. 0.]\n",
            "38 71 RealEstate False [0. 0. 0. 0. 1. 0. 0. 0. 0. 0. 0. 0. 0. 0. 0. 0. 0. 0. 0. 0. 0. 0. 0. 0.\n",
            " 0. 0. 0. 0. 0. 0. 0. 0. 0. 0. 0. 0. 0. 0. 0. 0. 0. 0. 0.]\n",
            "39 72 RealEstate False [0. 0. 0. 0. 1. 0. 0. 0. 0. 0. 0. 0. 0. 0. 0. 0. 0. 0. 0. 0. 0. 0. 0. 0.\n",
            " 0. 0. 0. 0. 0. 0. 0. 0. 0. 0. 0. 0. 0. 0. 0. 0. 0. 0. 0.]\n",
            "40 73 RealEstate False [0. 0. 0. 0. 1. 0. 0. 0. 0. 0. 0. 0. 0. 0. 0. 0. 0. 0. 0. 0. 0. 0. 0. 0.\n",
            " 0. 0. 0. 0. 0. 0. 0. 0. 0. 0. 0. 0. 0. 0. 0. 0. 0. 0. 0.]\n",
            "41 74 RealEstate False [0. 0. 0. 0. 1. 0. 0. 0. 0. 0. 0. 0. 0. 0. 0. 0. 0. 0. 0. 0. 0. 0. 0. 0.\n",
            " 0. 0. 0. 0. 0. 0. 0. 0. 0. 0. 0. 0. 0. 0. 0. 0. 0. 0. 0.]\n",
            "42 75 RealEstate False [0. 0. 0. 0. 1. 0. 0. 0. 0. 0. 0. 0. 0. 0. 0. 0. 0. 0. 0. 0. 0. 0. 0. 0.\n",
            " 0. 0. 0. 0. 0. 0. 0. 0. 0. 0. 0. 0. 0. 0. 0. 0. 0. 0. 0.]\n",
            "43 76 RealEstate False [0. 0. 0. 0. 1. 0. 0. 0. 0. 0. 0. 0. 0. 0. 0. 0. 0. 0. 0. 0. 0. 0. 0. 0.\n",
            " 0. 0. 0. 0. 0. 0. 0. 0. 0. 0. 0. 0. 0. 0. 0. 0. 0. 0. 0.]\n",
            "44 77 Renting False [0. 0. 0. 0. 0. 0. 0. 0. 0. 1. 0. 0. 0. 0. 0. 0. 0. 0. 0. 0. 0. 0. 0. 0.\n",
            " 0. 0. 0. 0. 0. 0. 0. 0. 0. 0. 0. 0. 0. 0. 0. 0. 0. 0. 0.]\n",
            "45 78 Renting False [0. 0. 0. 0. 0. 0. 0. 0. 0. 1. 0. 0. 0. 0. 0. 0. 0. 0. 0. 0. 0. 0. 0. 0.\n",
            " 0. 0. 0. 0. 0. 0. 0. 0. 0. 0. 0. 0. 0. 0. 0. 0. 0. 0. 0.]\n",
            "46 79 Renting False [0. 0. 0. 0. 0. 0. 0. 0. 0. 1. 0. 0. 0. 0. 0. 0. 0. 0. 0. 0. 0. 0. 0. 0.\n",
            " 0. 0. 0. 0. 0. 0. 0. 0. 0. 0. 0. 0. 0. 0. 0. 0. 0. 0. 0.]\n",
            "47 80 Renting False [0. 0. 0. 0. 0. 0. 0. 0. 0. 1. 0. 0. 0. 0. 0. 0. 0. 0. 0. 0. 0. 0. 0. 0.\n",
            " 0. 0. 0. 0. 0. 0. 0. 0. 0. 0. 0. 0. 0. 0. 0. 0. 0. 0. 0.]\n",
            "48 81 Renting False [0. 0. 0. 0. 0. 0. 0. 0. 0. 1. 0. 0. 0. 0. 0. 0. 0. 0. 0. 0. 0. 0. 0. 0.\n",
            " 0. 0. 0. 0. 0. 0. 0. 0. 0. 0. 0. 0. 0. 0. 0. 0. 0. 0. 0.]\n",
            "49 82 Renting False [0. 0. 0. 0. 0. 0. 0. 0. 0. 1. 0. 0. 0. 0. 0. 0. 0. 0. 0. 0. 0. 0. 0. 0.\n",
            " 0. 0. 0. 0. 0. 0. 0. 0. 0. 0. 0. 0. 0. 0. 0. 0. 0. 0. 0.]\n",
            "50 83 Renting False [0. 0. 0. 0. 0. 0. 0. 0. 0. 1. 0. 0. 0. 0. 0. 0. 0. 0. 0. 0. 0. 0. 0. 0.\n",
            " 0. 0. 0. 0. 0. 0. 0. 0. 0. 0. 0. 0. 0. 0. 0. 0. 0. 0. 0.]\n"
          ],
          "name": "stdout"
        }
      ]
    }
  ]
}