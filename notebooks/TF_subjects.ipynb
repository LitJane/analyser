{
  "nbformat": 4,
  "nbformat_minor": 0,
  "metadata": {
    "colab": {
      "name": "TF: subjects.ipynb",
      "provenance": [],
      "collapsed_sections": [
        "qiR2X1n84PUx",
        "jaWNcEae5Bsr",
        "8TSUdLhE2y7v",
        "xYCsKWoyh3lI",
        "291tboIGdoGy"
      ],
      "authorship_tag": "ABX9TyNOoKnn19mNJ403gzln6h+W"
    },
    "kernelspec": {
      "name": "python3",
      "display_name": "Python 3"
    },
    "accelerator": "GPU"
  },
  "cells": [
    {
      "cell_type": "code",
      "metadata": {
        "id": "raCAExPc0iE-",
        "colab_type": "code",
        "outputId": "6366c2e6-424d-4f89-e0e7-e94b370ed247",
        "colab": {
          "base_uri": "https://localhost:8080/",
          "height": 52
        }
      },
      "source": [
        "_git_branch = 'trainset'\n",
        "%tensorflow_version 1.x\n",
        "\n",
        "import tensorflow as tf\n",
        "print(tf.__version__)"
      ],
      "execution_count": 1,
      "outputs": [
        {
          "output_type": "stream",
          "text": [
            "TensorFlow 1.x selected.\n",
            "1.15.2\n"
          ],
          "name": "stdout"
        }
      ]
    },
    {
      "cell_type": "markdown",
      "metadata": {
        "id": "JbsxFAqC6pjQ",
        "colab_type": "text"
      },
      "source": [
        "# Import code from gitHub"
      ]
    },
    {
      "cell_type": "code",
      "metadata": {
        "id": "e-Bqj3YApTmi",
        "colab_type": "code",
        "outputId": "f898762b-b801-40a9-8872-d18827fec3b8",
        "colab": {
          "base_uri": "https://localhost:8080/",
          "height": 478
        }
      },
      "source": [
        "import json\n",
        "import subprocess\n",
        "import sys\n",
        "import time\n",
        "\n",
        "import numpy as np\n",
        "from IPython.core.display import display, HTML\n",
        "from google.colab import files\n",
        "\n",
        "!pip install overrides\n",
        "!pip install pyjarowinkler\n",
        " \n",
        "def exec(x):\n",
        "  r = subprocess.check_output(x, shell=True)\n",
        "  r = r.decode('unicode-escape').encode('latin1').decode('utf8')\n",
        "  print(r)\n",
        "\n",
        "\n",
        "print(f\"fetching code from GitHub.....{_git_branch}\")\n",
        "try:\n",
        "  exec('rm -r nlp_tools')\n",
        "except:\n",
        "  pass\n",
        "exec(f'git clone --single-branch --branch {_git_branch} https://github.com/nemoware/analyser.git nlp_tools')\n",
        "\n",
        "print('🦊 GIT revision:')\n",
        "exec('cd nlp_tools\\ngit rev-list --reverse HEAD | awk \"{ print NR }\" | tail -n 1\\ngit branch\\ngit log -3 --pretty=%B')\n",
        "\n",
        "sys.path.insert(0, 'nlp_tools')\n",
        "\n",
        "print('❤️importing Code from GitHub ... DONE')\n",
        "\n",
        "#----- other deps\n",
        "\n",
        "import nltk\n",
        "nltk.download('punkt')"
      ],
      "execution_count": 2,
      "outputs": [
        {
          "output_type": "stream",
          "text": [
            "Collecting overrides\n",
            "  Downloading https://files.pythonhosted.org/packages/72/dd/ac49f9c69540d7e09210415801a05d0a54d4d0ca8401503c46847dacd3a0/overrides-2.8.0.tar.gz\n",
            "Building wheels for collected packages: overrides\n",
            "  Building wheel for overrides (setup.py) ... \u001b[?25l\u001b[?25hdone\n",
            "  Created wheel for overrides: filename=overrides-2.8.0-cp36-none-any.whl size=5609 sha256=b69f8b45594b66cfaff0fde999485a1fb8aa2f8918ba9852e27cd9227ed5dc26\n",
            "  Stored in directory: /root/.cache/pip/wheels/df/f1/ba/eaf6cd7d284d2f257dc71436ce72d25fd3be5a5813a37794ab\n",
            "Successfully built overrides\n",
            "Installing collected packages: overrides\n",
            "Successfully installed overrides-2.8.0\n",
            "Collecting pyjarowinkler\n",
            "  Downloading https://files.pythonhosted.org/packages/b9/58/b89073047b447e02b08d4f64fbb984e5a4dfef4134477350b256c625c779/pyjarowinkler-1.8-py2.py3-none-any.whl\n",
            "Installing collected packages: pyjarowinkler\n",
            "Successfully installed pyjarowinkler-1.8\n",
            "fetching code from GitHub.....trainset\n",
            "\n",
            "🦊 GIT revision:\n",
            "1294\n",
            "* trainset\n",
            "clean\n",
            "trying smaller lstm\n",
            "Created using Colaboratory\n",
            "\n",
            "❤️importing Code from GitHub ... DONE\n",
            "[nltk_data] Downloading package punkt to /root/nltk_data...\n",
            "[nltk_data]   Unzipping tokenizers/punkt.zip.\n"
          ],
          "name": "stdout"
        },
        {
          "output_type": "execute_result",
          "data": {
            "text/plain": [
              "True"
            ]
          },
          "metadata": {
            "tags": []
          },
          "execution_count": 2
        }
      ]
    },
    {
      "cell_type": "code",
      "metadata": {
        "id": "pexvDJbAtZM0",
        "colab_type": "code",
        "colab": {}
      },
      "source": [
        "%matplotlib inline\n",
        "import seaborn as sns\n",
        "import matplotlib.pyplot as plt\n",
        "\n",
        "def plot_emb(matrix):\n",
        "    \n",
        "  mt = matrix.T\n",
        "  \n",
        "  with sns.axes_style(\"white\"):\n",
        "    plt.figure(figsize=(25, 6))\n",
        "    ax = sns.heatmap(mt, square=False,  cmap=\"RdYlBu\")\n",
        "    plt.show()"
      ],
      "execution_count": 0,
      "outputs": []
    },
    {
      "cell_type": "markdown",
      "metadata": {
        "id": "HRQOy7o0uyTv",
        "colab_type": "text"
      },
      "source": [
        "#Prepare trainset\n"
      ]
    },
    {
      "cell_type": "markdown",
      "metadata": {
        "id": "FUvEWUXaznMF",
        "colab_type": "text"
      },
      "source": [
        "#### Mount drive"
      ]
    },
    {
      "cell_type": "code",
      "metadata": {
        "id": "-y8mWLfkgAgU",
        "colab_type": "code",
        "colab": {
          "base_uri": "https://localhost:8080/",
          "height": 125
        },
        "outputId": "120e284a-44aa-4948-da86-44572c642ac9"
      },
      "source": [
        "from google.colab import drive\n",
        "drive.mount('/content/drive')\n"
      ],
      "execution_count": 4,
      "outputs": [
        {
          "output_type": "stream",
          "text": [
            "Go to this URL in a browser: https://accounts.google.com/o/oauth2/auth?client_id=947318989803-6bn6qk8qdgf4n4g3pfee6491hc0brc4i.apps.googleusercontent.com&redirect_uri=urn%3aietf%3awg%3aoauth%3a2.0%3aoob&response_type=code&scope=email%20https%3a%2f%2fwww.googleapis.com%2fauth%2fdocs.test%20https%3a%2f%2fwww.googleapis.com%2fauth%2fdrive%20https%3a%2f%2fwww.googleapis.com%2fauth%2fdrive.photos.readonly%20https%3a%2f%2fwww.googleapis.com%2fauth%2fpeopleapi.readonly\n",
            "\n",
            "Enter your authorization code:\n",
            "··········\n",
            "Mounted at /content/drive\n"
          ],
          "name": "stdout"
        }
      ]
    },
    {
      "cell_type": "markdown",
      "metadata": {
        "id": "LgE3SdTlwe_y",
        "colab_type": "text"
      },
      "source": [
        "#### Read meta"
      ]
    },
    {
      "cell_type": "code",
      "metadata": {
        "id": "CmVLUoOpu1-Y",
        "colab_type": "code",
        "colab": {
          "base_uri": "https://localhost:8080/",
          "height": 318
        },
        "outputId": "beadc494-ff29-41e6-a0e2-43de7932fb94"
      },
      "source": [
        "import pandas as pd\n",
        "from os import path\n",
        "\n",
        "\n",
        "TRAINSETS_PATH='/content/drive/My Drive/GazpromOil/trainsets'\n",
        "VERSION_PATH='1_1_19'\n",
        "TRAINSET_META_FN='contracts.subjects-manually-filtered.csv'\n",
        "\n",
        "csv_path = path.join(TRAINSETS_PATH, VERSION_PATH, TRAINSET_META_FN)\n",
        "\n",
        "trainset_meta = pd.read_csv(csv_path, encoding='utf-8' )\n",
        "trainset_rows = trainset_meta[trainset_meta['valid']]\n",
        "print(trainset_rows.info())\n",
        "# trainset_rows.head()"
      ],
      "execution_count": 5,
      "outputs": [
        {
          "output_type": "stream",
          "text": [
            "<class 'pandas.core.frame.DataFrame'>\n",
            "Int64Index: 510 entries, 280 to 789\n",
            "Data columns (total 11 columns):\n",
            "idx            510 non-null int64\n",
            "section        510 non-null object\n",
            "subject        510 non-null object\n",
            "confidence     510 non-null float64\n",
            "valid          510 non-null bool\n",
            "header         510 non-null object\n",
            "_id            510 non-null object\n",
            "len            510 non-null int64\n",
            "pickle         510 non-null object\n",
            "org-1-alias    404 non-null object\n",
            "org-2-alias    341 non-null object\n",
            "dtypes: bool(1), float64(1), int64(2), object(7)\n",
            "memory usage: 44.3+ KB\n",
            "None\n"
          ],
          "name": "stdout"
        }
      ]
    },
    {
      "cell_type": "markdown",
      "metadata": {
        "id": "aBd4npeP5b69",
        "colab_type": "text"
      },
      "source": [
        "###  One-1-hots: subject codes -> `subject_name_1hot_map`"
      ]
    },
    {
      "cell_type": "code",
      "metadata": {
        "id": "8C2z8hJLqULh",
        "colab_type": "code",
        "colab": {
          "base_uri": "https://localhost:8080/",
          "height": 565
        },
        "outputId": "7eff19e2-86d9-4d09-b04c-772be3628fe3"
      },
      "source": [
        "\n",
        "from analyser.structures import ContractSubject\n",
        "from keras.utils import to_categorical\n",
        "\n",
        "\n",
        "all_subjects_map ={s.name : s.value  for s in ContractSubject}\n",
        "\n",
        "# encoding integer subject codes in one-hot vectors\n",
        "_cats = to_categorical( list(all_subjects_map.values()) )\n",
        "print(_cats.shape)\n",
        "print(all_subjects_map.keys())\n",
        "\n",
        "subject_name_1hot_map={}\n",
        "for i, k in enumerate(all_subjects_map.keys()):  \n",
        "  subject_name_1hot_map[k] = _cats[i]\n",
        "\n",
        "# debug: render all onne-hots as a marix\n",
        "# plot_emb( np.array( list(  subject_name_1hot_map.values())))\n",
        "\n",
        "mt = np.array(list( subject_name_1hot_map.values()))\n",
        "with sns.axes_style(\"white\"):\n",
        "  plt.figure(figsize=(6, 6))\n",
        "  ax = sns.heatmap(mt, square=False,  cmap=\"RdYlBu\")\n",
        "  ax.set_xticklabels(all_subjects_map.keys())\n",
        "  plt.show()\n",
        " "
      ],
      "execution_count": 6,
      "outputs": [
        {
          "output_type": "stream",
          "text": [
            "Nemoware Analyser v1.6.8\n",
            "(33, 43)\n",
            "dict_keys(['Other', 'Deal', 'Charity', 'RealEstate', 'Loans', 'BigDeal', 'Lawsuit', 'Insurance', 'Consulting', 'RentingOut', 'Renting', 'AgencyContract', 'BankGuarantees', 'RelatedTransactions', 'GeneralContract', 'EmployeeContracts', 'PledgeEncumbrance', 'Liquidation', 'Service', 'CashPayments', 'RefusalToLeaseLand', 'DealGeneralBusiness', 'RevisionCommission', 'Reorganization', 'InterestedPartyTransaction', 'RelatedPartyTransaction', 'AssetTransactions', 'DealIntellectualProperty', 'RealEstateTransactions', 'SecuritiesTransactions', 'RegisteredCapital', 'ParticipationInOtherOrganizations', 'DecisionsForSubsidiary'])\n"
          ],
          "name": "stdout"
        },
        {
          "output_type": "stream",
          "text": [
            "Using TensorFlow backend.\n"
          ],
          "name": "stderr"
        },
        {
          "output_type": "display_data",
          "data": {
            "image/png": "[encoded data removed]",
            "text/plain": [
              "<Figure size 432x432 with 2 Axes>"
            ]
          },
          "metadata": {
            "tags": []
          }
        }
      ]
    },
    {
      "cell_type": "markdown",
      "metadata": {
        "id": "Xg1TmS05X19B",
        "colab_type": "text"
      },
      "source": [
        "### Balance trainset\n",
        "TODO: consider https://www.kaggle.com/rafjaa/resampling-strategies-for-imbalanced-datasets"
      ]
    },
    {
      "cell_type": "code",
      "metadata": {
        "id": "DgW1kA6jX-p5",
        "colab_type": "code",
        "colab": {
          "base_uri": "https://localhost:8080/",
          "height": 365
        },
        "outputId": "a3e805c7-5665-47c4-e4af-4a07eb1b0786"
      },
      "source": [
        "\n",
        "\n",
        "subj_count = trainset_rows['subject'].value_counts()\n",
        "\n",
        "#plot distribution\n",
        "sns.barplot(subj_count.values, subj_count.index)\n",
        "plt.title('Frequency Distribution of subjects')\n",
        "plt.xlabel('Number of Occurrences')\n",
        "plt.show()\n",
        "\n",
        "\n",
        "print ('\\nmin', min (subj_count.values))\n",
        "print ('max', max (subj_count.values))\n",
        "print ('total', sum (subj_count.values))"
      ],
      "execution_count": 7,
      "outputs": [
        {
          "output_type": "display_data",
          "data": {
            "image/png": "[encoded data removed]",
            "text/plain": [
              "<Figure size 432x288 with 1 Axes>"
            ]
          },
          "metadata": {
            "tags": []
          }
        },
        {
          "output_type": "stream",
          "text": [
            "\n",
            "min 1\n",
            "max 369\n",
            "total 510\n"
          ],
          "name": "stdout"
        }
      ]
    },
    {
      "cell_type": "markdown",
      "metadata": {
        "id": "F9zcJr7FomCg",
        "colab_type": "text"
      },
      "source": [
        "#### Group by subjects (put row indices into bags)"
      ]
    },
    {
      "cell_type": "markdown",
      "metadata": {
        "id": "rp2BPL_Apozb",
        "colab_type": "text"
      },
      "source": [
        "1. distribute row numbers by bags\n",
        "2. oversample each bag"
      ]
    },
    {
      "cell_type": "code",
      "metadata": {
        "id": "sN9nYKJNYuZR",
        "colab_type": "code",
        "colab": {
          "base_uri": "https://localhost:8080/",
          "height": 70
        },
        "outputId": "92857fa1-b93b-494b-f50a-d05928f42b12"
      },
      "source": [
        "#make empty bags\n",
        "subject_bags = {}\n",
        "for key in subj_count.index:\n",
        "  subject_bags[key]=[]\n",
        "print(subject_bags)\n",
        "\n",
        "\n",
        "row_no:int = 0\n",
        "for index, row in trainset_rows.iterrows():\n",
        "\n",
        "  row_by_no = trainset_rows.iloc[row_no]\n",
        "  subj_code = row[\"subject\"]\n",
        "  bag = subject_bags[subj_code]\n",
        "  bag.append(row_no)\n",
        "  \n",
        "  row_no += 1\n",
        "\n",
        "\n",
        "# --- debug\n",
        "print('sample bag ')\n",
        "subject_bags['PledgeEncumbrance']"
      ],
      "execution_count": 8,
      "outputs": [
        {
          "output_type": "stream",
          "text": [
            "{'Service': [], 'Charity': [], 'Renting': [], 'Loans': [], 'RealEstate': [], 'Insurance': [], 'PledgeEncumbrance': [], 'Deal': []}\n",
            "sample bag \n"
          ],
          "name": "stdout"
        },
        {
          "output_type": "execute_result",
          "data": {
            "text/plain": [
              "[91, 92, 93]"
            ]
          },
          "metadata": {
            "tags": []
          },
          "execution_count": 8
        }
      ]
    },
    {
      "cell_type": "markdown",
      "metadata": {
        "id": "iOqAH7gUp48I",
        "colab_type": "text"
      },
      "source": [
        "2. oversample with np.tile: just repeat the indices stored in named bags. \n",
        "\n"
      ]
    },
    {
      "cell_type": "code",
      "metadata": {
        "id": "kLyjYVOXp77U",
        "colab_type": "code",
        "colab": {
          "base_uri": "https://localhost:8080/",
          "height": 214
        },
        "outputId": "5b13aa90-6d7a-47eb-9238-68f39fc157d7"
      },
      "source": [
        "_desired_number_of_samples = max (subj_count.values)\n",
        "for subj_code in subject_bags:\n",
        "  bag = subject_bags[subj_code]\n",
        "  if len(bag)<_desired_number_of_samples:  \n",
        "    repeats = int(_desired_number_of_samples / len(bag))\n",
        "    bag = sorted(np.tile(bag, repeats))\n",
        "    subject_bags[subj_code] = bag\n",
        "  print (subj_code, len(bag))\n",
        "\n",
        "print()\n",
        "print('sample bag after oversampling:', subject_bags['PledgeEncumbrance'])\n"
      ],
      "execution_count": 9,
      "outputs": [
        {
          "output_type": "stream",
          "text": [
            "Service 369\n",
            "Charity 364\n",
            "Renting 363\n",
            "Loans 350\n",
            "RealEstate 364\n",
            "Insurance 364\n",
            "PledgeEncumbrance 369\n",
            "Deal 369\n",
            "\n",
            "sample bag after oversampling: [91, 91, 91, 91, 91, 91, 91, 91, 91, 91, 91, 91, 91, 91, 91, 91, 91, 91, 91, 91, 91, 91, 91, 91, 91, 91, 91, 91, 91, 91, 91, 91, 91, 91, 91, 91, 91, 91, 91, 91, 91, 91, 91, 91, 91, 91, 91, 91, 91, 91, 91, 91, 91, 91, 91, 91, 91, 91, 91, 91, 91, 91, 91, 91, 91, 91, 91, 91, 91, 91, 91, 91, 91, 91, 91, 91, 91, 91, 91, 91, 91, 91, 91, 91, 91, 91, 91, 91, 91, 91, 91, 91, 91, 91, 91, 91, 91, 91, 91, 91, 91, 91, 91, 91, 91, 91, 91, 91, 91, 91, 91, 91, 91, 91, 91, 91, 91, 91, 91, 91, 91, 91, 91, 92, 92, 92, 92, 92, 92, 92, 92, 92, 92, 92, 92, 92, 92, 92, 92, 92, 92, 92, 92, 92, 92, 92, 92, 92, 92, 92, 92, 92, 92, 92, 92, 92, 92, 92, 92, 92, 92, 92, 92, 92, 92, 92, 92, 92, 92, 92, 92, 92, 92, 92, 92, 92, 92, 92, 92, 92, 92, 92, 92, 92, 92, 92, 92, 92, 92, 92, 92, 92, 92, 92, 92, 92, 92, 92, 92, 92, 92, 92, 92, 92, 92, 92, 92, 92, 92, 92, 92, 92, 92, 92, 92, 92, 92, 92, 92, 92, 92, 92, 92, 92, 92, 92, 92, 92, 92, 92, 92, 92, 92, 92, 92, 92, 92, 92, 92, 92, 92, 92, 92, 92, 92, 92, 93, 93, 93, 93, 93, 93, 93, 93, 93, 93, 93, 93, 93, 93, 93, 93, 93, 93, 93, 93, 93, 93, 93, 93, 93, 93, 93, 93, 93, 93, 93, 93, 93, 93, 93, 93, 93, 93, 93, 93, 93, 93, 93, 93, 93, 93, 93, 93, 93, 93, 93, 93, 93, 93, 93, 93, 93, 93, 93, 93, 93, 93, 93, 93, 93, 93, 93, 93, 93, 93, 93, 93, 93, 93, 93, 93, 93, 93, 93, 93, 93, 93, 93, 93, 93, 93, 93, 93, 93, 93, 93, 93, 93, 93, 93, 93, 93, 93, 93, 93, 93, 93, 93, 93, 93, 93, 93, 93, 93, 93, 93, 93, 93, 93, 93, 93, 93, 93, 93, 93, 93, 93, 93]\n"
          ],
          "name": "stdout"
        }
      ]
    },
    {
      "cell_type": "markdown",
      "metadata": {
        "id": "oz0azb0K2vog",
        "colab_type": "text"
      },
      "source": [
        "split all bags into train and validation sets"
      ]
    },
    {
      "cell_type": "code",
      "metadata": {
        "id": "9BLIBjzH24V0",
        "colab_type": "code",
        "colab": {
          "base_uri": "https://localhost:8080/",
          "height": 372
        },
        "outputId": "879d74f7-0898-4eb4-8620-8c2ccd96fdca"
      },
      "source": [
        "VALIDATION_SET_PROPORTION = 0.25\n",
        "subject_bags_test = {}\n",
        "subject_bags_train = {}\n",
        "\n",
        "for subj_code in subject_bags:\n",
        "  bag = subject_bags[subj_code]\n",
        "  split_index:int = int(len(bag) * VALIDATION_SET_PROPORTION)\n",
        "  #print(split_index)\n",
        "  \n",
        "  subject_bags_test [subj_code] = bag[:split_index]\n",
        "  subject_bags_train [subj_code] = bag[split_index:]\n",
        "\n",
        "print('\\n--subject_bags_train')\n",
        "for subj_code in subject_bags_train:\n",
        "  bag = subject_bags_train[subj_code]  \n",
        "  print (subj_code, len(bag))\n",
        "print('\\n--subject_bags_test')\n",
        "for subj_code in subject_bags_test:\n",
        "  bag = subject_bags_test[subj_code]  \n",
        "  print (subj_code, len(bag))"
      ],
      "execution_count": 10,
      "outputs": [
        {
          "output_type": "stream",
          "text": [
            "\n",
            "--subject_bags_train\n",
            "Service 277\n",
            "Charity 273\n",
            "Renting 273\n",
            "Loans 263\n",
            "RealEstate 273\n",
            "Insurance 273\n",
            "PledgeEncumbrance 277\n",
            "Deal 277\n",
            "\n",
            "--subject_bags_test\n",
            "Service 92\n",
            "Charity 91\n",
            "Renting 90\n",
            "Loans 87\n",
            "RealEstate 91\n",
            "Insurance 91\n",
            "PledgeEncumbrance 92\n",
            "Deal 92\n"
          ],
          "name": "stdout"
        }
      ]
    },
    {
      "cell_type": "markdown",
      "metadata": {
        "id": "niaa4g6g2Q7g",
        "colab_type": "text"
      },
      "source": [
        "## Batch generator\n",
        "\n",
        "TODO: try different embedding padding"
      ]
    },
    {
      "cell_type": "code",
      "metadata": {
        "id": "dZ4V7y_92YD-",
        "colab_type": "code",
        "colab": {
          "base_uri": "https://localhost:8080/",
          "height": 105
        },
        "outputId": "1f958749-f8c6-41bf-a22a-04d06bbbef56"
      },
      "source": [
        "import pickle\n",
        "\n",
        "import numpy as np\n",
        "from keras.preprocessing.sequence import pad_sequences\n",
        "\n",
        "from analyser.legal_docs import LegalDocument\n",
        "\n",
        "train_indices = []\n",
        "test_indices = []\n",
        "\n",
        "for _arr in subject_bags_train.values():\n",
        "  train_indices += _arr;\n",
        "\n",
        "for _arr in subject_bags_test.values():\n",
        "  test_indices += _arr;\n",
        "\n",
        "print('test_indices=', len(test_indices))\n",
        "print('train_indices=', len(train_indices))\n",
        "\n",
        "# TODO: they probably intersect!!\n",
        "\n",
        "\n",
        "MAX_SEQUENCE_LENGTH = 999\n",
        "\n",
        "embeddings_cache = {}\n",
        "\n",
        "\n",
        "def get_embeddings(filename):\n",
        "  if filename in embeddings_cache:\n",
        "    return embeddings_cache[filename]\n",
        "  else:\n",
        "    with open(filename, \"rb\") as pickle_in:\n",
        "      # print('reading... ', filename)\n",
        "      doc: LegalDocument = pickle.load(pickle_in)\n",
        "      embedding = pad_sequences([doc.embeddings], maxlen=MAX_SEQUENCE_LENGTH)[0]\n",
        "      # print(doc.embeddings.shape, 'vs', embedding.shape)\n",
        "\n",
        "    embeddings_cache[filename] = embedding\n",
        "    return embedding\n",
        "\n",
        "\n",
        "def subj_batch_generator(batch_size, all_indices):\n",
        "  while True:\n",
        "    # Select files (paths/indices) for the batch\n",
        "    batch_indices = np.random.choice(a=all_indices, size=batch_size)\n",
        "\n",
        "    batch_input = []\n",
        "    batch_output = []\n",
        "\n",
        "    # Read in each input, perform preprocessing and get labels\n",
        "    for i in batch_indices:\n",
        "      _row = trainset_rows.iloc[i]\n",
        "      _subj = _row['subject']\n",
        "      _filename = _row['pickle']\n",
        "      _emb = get_embeddings(_filename)\n",
        "\n",
        "      _subject_emb = subject_name_1hot_map[_subj]\n",
        "\n",
        "      batch_input += [_emb]\n",
        "      batch_output += [_subject_emb]\n",
        "\n",
        "    # Return a tuple of (input, output) to feed the network    \n",
        "    batch_x = np.array(batch_input)\n",
        "    batch_y = np.array(batch_output)\n",
        "\n",
        "    yield (batch_x, batch_y)\n"
      ],
      "execution_count": 11,
      "outputs": [
        {
          "output_type": "stream",
          "text": [
            "[nltk_data] Downloading package punkt to /root/nltk_data...\n",
            "[nltk_data]   Package punkt is already up-to-date!\n",
            "loading word cases stats model /content/nlp_tools/analyser/vocab/word_cases_stats.pickle\n",
            "test_indices= 726\n",
            "train_indices= 2186\n"
          ],
          "name": "stdout"
        }
      ]
    },
    {
      "cell_type": "code",
      "metadata": {
        "id": "lQJ9w2vShHNX",
        "colab_type": "code",
        "colab": {}
      },
      "source": [
        "EPOCHS=8\n",
        "BATCH_SIZE=48\n",
        "EMB=1024 #;//X.shape[-1]\n",
        "\n",
        "CLASSES=len(list(subject_name_1hot_map.values())[0])\n",
        "\n",
        "\n",
        "#create gens\n",
        "test_generator = subj_batch_generator(BATCH_SIZE, all_indices = test_indices)\n",
        "train_generator = subj_batch_generator(BATCH_SIZE, all_indices = train_indices)\n",
        "all_generator = subj_batch_generator(BATCH_SIZE, all_indices = train_indices+test_indices)\n",
        "\n",
        "\n",
        "#debug ---------------------\n",
        "_t_x, _t_y =  next(test_generator)\n",
        "print(\"sample\", _t_x.shape)\n",
        "print(\"sample\", _t_y.shape)\n",
        "\n",
        "plot_emb(_t_x[3])"
      ],
      "execution_count": 0,
      "outputs": []
    },
    {
      "cell_type": "markdown",
      "metadata": {
        "id": "KGQlHw3Y-0pl",
        "colab_type": "text"
      },
      "source": [
        "# Build Models"
      ]
    },
    {
      "cell_type": "markdown",
      "metadata": {
        "id": "Q4I679zI4FW8",
        "colab_type": "text"
      },
      "source": [
        "### common"
      ]
    },
    {
      "cell_type": "code",
      "metadata": {
        "id": "iev4P0ib3ONw",
        "colab_type": "code",
        "colab": {
          "base_uri": "https://localhost:8080/",
          "height": 34
        },
        "outputId": "1713f9b3-e48f-4afa-ef63-9f1423f0b020"
      },
      "source": [
        "%tensorflow_version 1.x\n",
        "import tensorflow as tf\n",
        "print(tf.__version__)\n",
        "\n",
        "from keras.utils.vis_utils import model_to_dot\n",
        "from sklearn.metrics import classification_report\n",
        "from IPython.display import SVG\n",
        "\n",
        "\n",
        "from tensorflow import keras\n",
        "from keras.layers import Conv1D, LSTM, GRU, BatchNormalization, TimeDistributed, Dense, Bidirectional, Input, Dropout\n",
        "from keras.models import Sequential, Model\n",
        " \n",
        "  \n"
      ],
      "execution_count": 13,
      "outputs": [
        {
          "output_type": "stream",
          "text": [
            "1.15.2\n"
          ],
          "name": "stdout"
        }
      ]
    },
    {
      "cell_type": "code",
      "metadata": {
        "id": "0z7qDhTwWsgM",
        "colab_type": "code",
        "colab": {}
      },
      "source": [
        "HISTORIES={}\n",
        "\n",
        "def plot_training_history(history):\n",
        "  # Plot training & validation accuracy values\n",
        "  plt.plot(history.history['acc'])\n",
        "  plt.plot(history.history['val_acc'])\n",
        "  plt.title('Model accuracy')\n",
        "  plt.ylabel('Accuracy')\n",
        "  plt.xlabel('Epoch')\n",
        "  plt.legend(['Train', 'Test'], loc='upper left')\n",
        "  plt.show()\n",
        "\n",
        "  # Plot training & validation loss values\n",
        "  plt.plot(history.history['loss'])\n",
        "  plt.plot(history.history['val_loss'])\n",
        "  plt.title('Model loss')\n",
        "  plt.ylabel('Loss')\n",
        "  plt.xlabel('Epoch')\n",
        "  plt.legend(['Train', 'Test'], loc='upper left')\n",
        "  plt.show()\n",
        "  \n",
        "\n",
        "def plot_compare_models():\n",
        "  for key in HISTORIES:\n",
        "    history=HISTORIES[key]\n",
        "#     plt.plot(history.history['loss'], label=f'{key} loss')\n",
        "    plt.plot(history.history['val_loss'], label=f'{key} val_loss')\n",
        "  \n",
        "  plt.title('Models loss')   \n",
        "  plt.legend(loc='upper left')\n",
        "  plt.show()"
      ],
      "execution_count": 0,
      "outputs": []
    },
    {
      "cell_type": "code",
      "metadata": {
        "id": "nRNv6aHY6eUu",
        "colab_type": "code",
        "colab": {
          "base_uri": "https://localhost:8080/",
          "height": 34
        },
        "outputId": "1466890f-2eae-4055-99ff-b1aff8f21ec6"
      },
      "source": [
        "from keras.callbacks import ModelCheckpoint, ReduceLROnPlateau\n",
        "from os import mkdir\n",
        "\n",
        "model_checkpoint_path = csv_path = path.join(TRAINSETS_PATH, 'checkpoints', VERSION_PATH)\n",
        "reduce_lr = ReduceLROnPlateau(monitor='val_loss', factor=0.2, patience=6, min_lr=1E-6, verbose=1)\n",
        "\n",
        "print('model_checkpoint_path', model_checkpoint_path)\n",
        " \n"
      ],
      "execution_count": 15,
      "outputs": [
        {
          "output_type": "stream",
          "text": [
            "model_checkpoint_path /content/drive/My Drive/GazpromOil/trainsets/checkpoints/1_1_19\n"
          ],
          "name": "stdout"
        }
      ]
    },
    {
      "cell_type": "code",
      "metadata": {
        "id": "mmTAYj_xW5g-",
        "colab_type": "code",
        "colab": {
          "base_uri": "https://localhost:8080/",
          "height": 52
        },
        "outputId": "e22061ec-f26d-47e1-8b3d-95f0b1af2c75"
      },
      "source": [
        "\n",
        "validation_steps = int(len(test_indices)/BATCH_SIZE)\n",
        "steps_per_epoch = int(len(train_indices)/BATCH_SIZE/2)\n",
        "\n",
        "print('validation_steps=', validation_steps)\n",
        "print('steps_per_epoch=', steps_per_epoch)\n",
        "\n",
        "def train_and_evaluate_model(model, generator=train_generator):\n",
        "  checkpoint = ModelCheckpoint( path.join(model_checkpoint_path, model.name), \n",
        "                               monitor='val_loss', mode='min', save_best_only=True,\n",
        "                               verbose=1) \n",
        "  history = model.fit_generator(\n",
        "      generator=generator, \n",
        "      epochs=EPOCHS,  callbacks=[reduce_lr, checkpoint], steps_per_epoch=steps_per_epoch,\n",
        "      validation_data = test_generator,\n",
        "      validation_steps=validation_steps )\n",
        "\n",
        "  HISTORIES[model.name]=history\n",
        "  plot_training_history(history)\n",
        "  plot_compare_models()\n",
        "\n"
      ],
      "execution_count": 16,
      "outputs": [
        {
          "output_type": "stream",
          "text": [
            "validation_steps= 15\n",
            "steps_per_epoch= 22\n"
          ],
          "name": "stdout"
        }
      ]
    },
    {
      "cell_type": "markdown",
      "metadata": {
        "id": "gAFmo0sG4H9k",
        "colab_type": "text"
      },
      "source": [
        "## models"
      ]
    },
    {
      "cell_type": "markdown",
      "metadata": {
        "id": "qiR2X1n84PUx",
        "colab_type": "text"
      },
      "source": [
        "### baseline LSTM model"
      ]
    },
    {
      "cell_type": "code",
      "metadata": {
        "id": "MXUMDnvg-2zh",
        "colab_type": "code",
        "colab": {
          "base_uri": "https://localhost:8080/",
          "height": 463
        },
        "outputId": "49cff90a-f08e-4d0e-c5f0-c46ccf383ac5"
      },
      "source": [
        "\n",
        "# define baseline model\n",
        "def baseline_LSTM_model():\n",
        "  classes = min(10, CLASSES)\n",
        "\n",
        "  input_text = Input(shape=[ None, EMB], dtype='float32', name=\"input_text_emb\")\n",
        "\t \n",
        "  bi =  LSTM(classes*4, return_sequences=False)(input_text)  \n",
        "  dense = Dense(CLASSES, activation='softmax')(bi)\n",
        "  _out = dense\n",
        "  model = Model(inputs=[input_text], outputs=_out, name='baseline_LSTM_model')\n",
        "  model.compile(loss='categorical_crossentropy', optimizer='adam', metrics=['accuracy'])\n",
        "  \n",
        "  model.summary()\n",
        "  return model\n",
        "\n",
        "\n",
        "\n",
        " \n",
        "model = baseline_LSTM_model(  )\n",
        "# SVG(model_to_dot(model, show_layer_names=True, show_shapes=True).create(prog='dot', format='svg'))\n",
        " \n",
        "\n",
        "# print(\"TEST:--does it work?\")\n",
        "# k=model.predict( X)\n",
        "# k[0]\n"
      ],
      "execution_count": 17,
      "outputs": [
        {
          "output_type": "stream",
          "text": [
            "WARNING:tensorflow:From /usr/local/lib/python3.6/dist-packages/keras/backend/tensorflow_backend.py:541: The name tf.placeholder is deprecated. Please use tf.compat.v1.placeholder instead.\n",
            "\n",
            "WARNING:tensorflow:From /usr/local/lib/python3.6/dist-packages/keras/backend/tensorflow_backend.py:66: The name tf.get_default_graph is deprecated. Please use tf.compat.v1.get_default_graph instead.\n",
            "\n",
            "WARNING:tensorflow:From /usr/local/lib/python3.6/dist-packages/keras/backend/tensorflow_backend.py:4432: The name tf.random_uniform is deprecated. Please use tf.random.uniform instead.\n",
            "\n",
            "WARNING:tensorflow:From /usr/local/lib/python3.6/dist-packages/keras/optimizers.py:793: The name tf.train.Optimizer is deprecated. Please use tf.compat.v1.train.Optimizer instead.\n",
            "\n",
            "WARNING:tensorflow:From /usr/local/lib/python3.6/dist-packages/keras/backend/tensorflow_backend.py:3576: The name tf.log is deprecated. Please use tf.math.log instead.\n",
            "\n",
            "Model: \"baseline_LSTM_model\"\n",
            "_________________________________________________________________\n",
            "Layer (type)                 Output Shape              Param #   \n",
            "=================================================================\n",
            "input_text_emb (InputLayer)  (None, None, 1024)        0         \n",
            "_________________________________________________________________\n",
            "lstm_1 (LSTM)                (None, 40)                170400    \n",
            "_________________________________________________________________\n",
            "dense_1 (Dense)              (None, 43)                1763      \n",
            "=================================================================\n",
            "Total params: 172,163\n",
            "Trainable params: 172,163\n",
            "Non-trainable params: 0\n",
            "_________________________________________________________________\n"
          ],
          "name": "stdout"
        }
      ]
    },
    {
      "cell_type": "code",
      "metadata": {
        "id": "hoOHofHkXtoI",
        "colab_type": "code",
        "colab": {
          "base_uri": "https://localhost:8080/",
          "height": 1000
        },
        "outputId": "28e87467-4707-4da3-f5af-3e30effa1b48"
      },
      "source": [
        "EPOCHS=32\n",
        "train_and_evaluate_model(model)"
      ],
      "execution_count": 18,
      "outputs": [
        {
          "output_type": "stream",
          "text": [
            "WARNING:tensorflow:From /tensorflow-1.15.2/python3.6/tensorflow_core/python/ops/math_grad.py:1424: where (from tensorflow.python.ops.array_ops) is deprecated and will be removed in a future version.\n",
            "Instructions for updating:\n",
            "Use tf.where in 2.0, which has the same broadcast rule as np.where\n",
            "WARNING:tensorflow:From /usr/local/lib/python3.6/dist-packages/keras/backend/tensorflow_backend.py:1033: The name tf.assign_add is deprecated. Please use tf.compat.v1.assign_add instead.\n",
            "\n",
            "WARNING:tensorflow:From /usr/local/lib/python3.6/dist-packages/keras/backend/tensorflow_backend.py:1020: The name tf.assign is deprecated. Please use tf.compat.v1.assign instead.\n",
            "\n",
            "WARNING:tensorflow:From /usr/local/lib/python3.6/dist-packages/keras/backend/tensorflow_backend.py:3005: The name tf.Session is deprecated. Please use tf.compat.v1.Session instead.\n",
            "\n",
            "Epoch 1/32\n",
            "WARNING:tensorflow:From /usr/local/lib/python3.6/dist-packages/keras/backend/tensorflow_backend.py:190: The name tf.get_default_session is deprecated. Please use tf.compat.v1.get_default_session instead.\n",
            "\n",
            "WARNING:tensorflow:From /usr/local/lib/python3.6/dist-packages/keras/backend/tensorflow_backend.py:197: The name tf.ConfigProto is deprecated. Please use tf.compat.v1.ConfigProto instead.\n",
            "\n",
            "WARNING:tensorflow:From /usr/local/lib/python3.6/dist-packages/keras/backend/tensorflow_backend.py:207: The name tf.global_variables is deprecated. Please use tf.compat.v1.global_variables instead.\n",
            "\n",
            "WARNING:tensorflow:From /usr/local/lib/python3.6/dist-packages/keras/backend/tensorflow_backend.py:216: The name tf.is_variable_initialized is deprecated. Please use tf.compat.v1.is_variable_initialized instead.\n",
            "\n",
            "WARNING:tensorflow:From /usr/local/lib/python3.6/dist-packages/keras/backend/tensorflow_backend.py:223: The name tf.variables_initializer is deprecated. Please use tf.compat.v1.variables_initializer instead.\n",
            "\n",
            "22/22 [==============================] - 120s 5s/step - loss: 2.8538 - acc: 0.4413 - val_loss: 2.1084 - val_acc: 0.5792\n",
            "\n",
            "Epoch 00001: val_loss improved from inf to 2.10842, saving model to /content/drive/My Drive/GazpromOil/trainsets/checkpoints/1_1_19/baseline_LSTM_model\n",
            "Epoch 2/32\n",
            "22/22 [==============================] - 47s 2s/step - loss: 1.1223 - acc: 0.8731 - val_loss: 0.8141 - val_acc: 0.9778\n",
            "\n",
            "Epoch 00002: val_loss improved from 2.10842 to 0.81407, saving model to /content/drive/My Drive/GazpromOil/trainsets/checkpoints/1_1_19/baseline_LSTM_model\n",
            "Epoch 3/32\n",
            "22/22 [==============================] - 37s 2s/step - loss: 0.3444 - acc: 0.9792 - val_loss: 0.5040 - val_acc: 0.8806\n",
            "\n",
            "Epoch 00003: val_loss improved from 0.81407 to 0.50397, saving model to /content/drive/My Drive/GazpromOil/trainsets/checkpoints/1_1_19/baseline_LSTM_model\n",
            "Epoch 4/32\n",
            "22/22 [==============================] - 35s 2s/step - loss: 0.1463 - acc: 0.9943 - val_loss: 0.4180 - val_acc: 0.9028\n",
            "\n",
            "Epoch 00004: val_loss improved from 0.50397 to 0.41803, saving model to /content/drive/My Drive/GazpromOil/trainsets/checkpoints/1_1_19/baseline_LSTM_model\n",
            "Epoch 5/32\n",
            "22/22 [==============================] - 34s 2s/step - loss: 0.0903 - acc: 0.9943 - val_loss: 0.4013 - val_acc: 0.8847\n",
            "\n",
            "Epoch 00005: val_loss improved from 0.41803 to 0.40126, saving model to /content/drive/My Drive/GazpromOil/trainsets/checkpoints/1_1_19/baseline_LSTM_model\n",
            "Epoch 6/32\n",
            "22/22 [==============================] - 33s 1s/step - loss: 0.0638 - acc: 1.0000 - val_loss: 0.3573 - val_acc: 0.9319\n",
            "\n",
            "Epoch 00006: val_loss improved from 0.40126 to 0.35728, saving model to /content/drive/My Drive/GazpromOil/trainsets/checkpoints/1_1_19/baseline_LSTM_model\n",
            "Epoch 7/32\n",
            "22/22 [==============================] - 33s 2s/step - loss: 0.0511 - acc: 1.0000 - val_loss: 0.4210 - val_acc: 0.8708\n",
            "\n",
            "Epoch 00007: val_loss did not improve from 0.35728\n",
            "Epoch 8/32\n",
            "22/22 [==============================] - 33s 2s/step - loss: 0.0407 - acc: 1.0000 - val_loss: 0.4732 - val_acc: 0.8958\n",
            "\n",
            "Epoch 00008: val_loss did not improve from 0.35728\n",
            "Epoch 9/32\n",
            "22/22 [==============================] - 33s 1s/step - loss: 0.0331 - acc: 1.0000 - val_loss: 0.4274 - val_acc: 0.8736\n",
            "\n",
            "Epoch 00009: val_loss did not improve from 0.35728\n",
            "Epoch 10/32\n",
            "22/22 [==============================] - 32s 1s/step - loss: 0.0298 - acc: 1.0000 - val_loss: 0.5181 - val_acc: 0.8583\n",
            "\n",
            "Epoch 00010: val_loss did not improve from 0.35728\n",
            "Epoch 11/32\n",
            "22/22 [==============================] - 32s 1s/step - loss: 0.0244 - acc: 1.0000 - val_loss: 0.4921 - val_acc: 0.8806\n",
            "\n",
            "Epoch 00011: val_loss did not improve from 0.35728\n",
            "Epoch 12/32\n",
            "22/22 [==============================] - 33s 1s/step - loss: 0.0212 - acc: 1.0000 - val_loss: 0.4881 - val_acc: 0.8597\n",
            "\n",
            "Epoch 00012: ReduceLROnPlateau reducing learning rate to 0.00020000000949949026.\n",
            "\n",
            "Epoch 00012: val_loss did not improve from 0.35728\n",
            "Epoch 13/32\n",
            "22/22 [==============================] - 32s 1s/step - loss: 0.0195 - acc: 1.0000 - val_loss: 0.5056 - val_acc: 0.8597\n",
            "\n",
            "Epoch 00013: val_loss did not improve from 0.35728\n",
            "Epoch 14/32\n",
            "22/22 [==============================] - 32s 1s/step - loss: 0.0187 - acc: 1.0000 - val_loss: 0.4791 - val_acc: 0.8750\n",
            "\n",
            "Epoch 00014: val_loss did not improve from 0.35728\n",
            "Epoch 15/32\n",
            "22/22 [==============================] - 32s 1s/step - loss: 0.0182 - acc: 1.0000 - val_loss: 0.5454 - val_acc: 0.8583\n",
            "\n",
            "Epoch 00015: val_loss did not improve from 0.35728\n",
            "Epoch 16/32\n",
            "22/22 [==============================] - 32s 1s/step - loss: 0.0187 - acc: 1.0000 - val_loss: 0.5454 - val_acc: 0.8625\n",
            "\n",
            "Epoch 00016: val_loss did not improve from 0.35728\n",
            "Epoch 17/32\n",
            "22/22 [==============================] - 32s 1s/step - loss: 0.0176 - acc: 1.0000 - val_loss: 0.4508 - val_acc: 0.8847\n",
            "\n",
            "Epoch 00017: val_loss did not improve from 0.35728\n",
            "Epoch 18/32\n",
            "22/22 [==============================] - 32s 1s/step - loss: 0.0168 - acc: 1.0000 - val_loss: 0.4824 - val_acc: 0.8764\n",
            "\n",
            "Epoch 00018: ReduceLROnPlateau reducing learning rate to 4.0000001899898055e-05.\n",
            "\n",
            "Epoch 00018: val_loss did not improve from 0.35728\n",
            "Epoch 19/32\n",
            "22/22 [==============================] - 32s 1s/step - loss: 0.0171 - acc: 1.0000 - val_loss: 0.5019 - val_acc: 0.8722\n",
            "\n",
            "Epoch 00019: val_loss did not improve from 0.35728\n",
            "Epoch 20/32\n",
            "22/22 [==============================] - 32s 1s/step - loss: 0.0166 - acc: 1.0000 - val_loss: 0.4999 - val_acc: 0.8625\n",
            "\n",
            "Epoch 00020: val_loss did not improve from 0.35728\n",
            "Epoch 21/32\n",
            "22/22 [==============================] - 33s 1s/step - loss: 0.0158 - acc: 1.0000 - val_loss: 0.4756 - val_acc: 0.8736\n",
            "\n",
            "Epoch 00021: val_loss did not improve from 0.35728\n",
            "Epoch 22/32\n",
            "22/22 [==============================] - 32s 1s/step - loss: 0.0165 - acc: 1.0000 - val_loss: 0.5149 - val_acc: 0.8556\n",
            "\n",
            "Epoch 00022: val_loss did not improve from 0.35728\n",
            "Epoch 23/32\n",
            "22/22 [==============================] - 32s 1s/step - loss: 0.0164 - acc: 1.0000 - val_loss: 0.4752 - val_acc: 0.8819\n",
            "\n",
            "Epoch 00023: val_loss did not improve from 0.35728\n",
            "Epoch 24/32\n",
            "22/22 [==============================] - 32s 1s/step - loss: 0.0162 - acc: 1.0000 - val_loss: 0.5130 - val_acc: 0.8597\n",
            "\n",
            "Epoch 00024: ReduceLROnPlateau reducing learning rate to 8.000000525498762e-06.\n",
            "\n",
            "Epoch 00024: val_loss did not improve from 0.35728\n",
            "Epoch 25/32\n",
            "22/22 [==============================] - 32s 1s/step - loss: 0.0165 - acc: 1.0000 - val_loss: 0.5010 - val_acc: 0.8625\n",
            "\n",
            "Epoch 00025: val_loss did not improve from 0.35728\n",
            "Epoch 26/32\n",
            "22/22 [==============================] - 32s 1s/step - loss: 0.0167 - acc: 1.0000 - val_loss: 0.4755 - val_acc: 0.8722\n",
            "\n",
            "Epoch 00026: val_loss did not improve from 0.35728\n",
            "Epoch 27/32\n",
            "22/22 [==============================] - 32s 1s/step - loss: 0.0163 - acc: 1.0000 - val_loss: 0.4891 - val_acc: 0.8833\n",
            "\n",
            "Epoch 00027: val_loss did not improve from 0.35728\n",
            "Epoch 28/32\n",
            "22/22 [==============================] - 32s 1s/step - loss: 0.0161 - acc: 1.0000 - val_loss: 0.4834 - val_acc: 0.8694\n",
            "\n",
            "Epoch 00028: val_loss did not improve from 0.35728\n",
            "Epoch 29/32\n",
            "22/22 [==============================] - 32s 1s/step - loss: 0.0154 - acc: 1.0000 - val_loss: 0.5784 - val_acc: 0.8486\n",
            "\n",
            "Epoch 00029: val_loss did not improve from 0.35728\n",
            "Epoch 30/32\n",
            "22/22 [==============================] - 32s 1s/step - loss: 0.0164 - acc: 1.0000 - val_loss: 0.5415 - val_acc: 0.8514\n",
            "\n",
            "Epoch 00030: ReduceLROnPlateau reducing learning rate to 1.6000001778593287e-06.\n",
            "\n",
            "Epoch 00030: val_loss did not improve from 0.35728\n",
            "Epoch 31/32\n",
            "22/22 [==============================] - 32s 1s/step - loss: 0.0163 - acc: 1.0000 - val_loss: 0.4750 - val_acc: 0.8708\n",
            "\n",
            "Epoch 00031: val_loss did not improve from 0.35728\n",
            "Epoch 32/32\n",
            "22/22 [==============================] - 32s 1s/step - loss: 0.0156 - acc: 1.0000 - val_loss: 0.5230 - val_acc: 0.8583\n",
            "\n",
            "Epoch 00032: val_loss did not improve from 0.35728\n"
          ],
          "name": "stdout"
        },
        {
          "output_type": "display_data",
          "data": {
            "image/png": "[encoded data removed]",
            "text/plain": [
              "<Figure size 432x288 with 1 Axes>"
            ]
          },
          "metadata": {
            "tags": []
          }
        },
        {
          "output_type": "display_data",
          "data": {
            "image/png": "[encoded data removed]",
            "text/plain": [
              "<Figure size 432x288 with 1 Axes>"
            ]
          },
          "metadata": {
            "tags": []
          }
        },
        {
          "output_type": "display_data",
          "data": {
            "image/png": "[encoded data removed]",
            "text/plain": [
              "<Figure size 432x288 with 1 Axes>"
            ]
          },
          "metadata": {
            "tags": []
          }
        }
      ]
    },
    {
      "cell_type": "code",
      "metadata": {
        "id": "Ckb7YjM1MOMp",
        "colab_type": "code",
        "colab": {
          "base_uri": "https://localhost:8080/",
          "height": 34
        },
        "outputId": "d68cb8f0-0aef-428a-c2ed-bfaca1a78c88"
      },
      "source": [
        "e=model.evaluate_generator(generator=test_generator, steps=100)\n",
        "print(e)"
      ],
      "execution_count": 19,
      "outputs": [
        {
          "output_type": "stream",
          "text": [
            "[0.5080123087763786, 0.8647916692495347]\n"
          ],
          "name": "stdout"
        }
      ]
    },
    {
      "cell_type": "markdown",
      "metadata": {
        "colab_type": "text",
        "id": "jaWNcEae5Bsr"
      },
      "source": [
        "### baseline bi-GRU  model\n",
        "overfits"
      ]
    },
    {
      "cell_type": "code",
      "metadata": {
        "colab_type": "code",
        "id": "lWgJtDlg5Bss",
        "colab": {
          "base_uri": "https://localhost:8080/",
          "height": 265
        },
        "outputId": "dce7969c-341e-4ab6-f6e7-1076cf28ea9f"
      },
      "source": [
        "def simple_bi_GRU_model(name=\"new_model\"):\n",
        "  classes = min(10, CLASSES)\n",
        "\n",
        "  input_text = Input(shape=[ None, EMB], dtype='float32', name=\"input_text_emb\")\n",
        "\t \n",
        "  bi =  Bidirectional(GRU(classes*2, return_sequences=False))(input_text)   \n",
        "  dense = Dense(CLASSES, activation='softmax')(bi)\n",
        "  _out = dense\n",
        "  model = Model(inputs=[input_text], outputs=_out, name=name)\n",
        "  model.compile(loss='categorical_crossentropy', optimizer='adam', metrics=['accuracy'])\n",
        "  \n",
        "  model.summary()\n",
        "  \n",
        "  return model\n",
        "\n",
        "\n",
        " \n",
        "model = simple_bi_GRU_model( simple_bi_GRU_model.__name__ )\n",
        "# SVG(model_to_dot(model, show_layer_names=True, show_shapes=True).create(prog='dot', format='svg'))\n",
        "\n",
        "# print(\"TEST:--does it work?\")\n",
        "# k=model.predict( X)\n",
        "# k[0]\n"
      ],
      "execution_count": 23,
      "outputs": [
        {
          "output_type": "stream",
          "text": [
            "Model: \"simple_bi_GRU_model\"\n",
            "_________________________________________________________________\n",
            "Layer (type)                 Output Shape              Param #   \n",
            "=================================================================\n",
            "input_text_emb (InputLayer)  (None, None, 1024)        0         \n",
            "_________________________________________________________________\n",
            "bidirectional_2 (Bidirection (None, 40)                125400    \n",
            "_________________________________________________________________\n",
            "dense_3 (Dense)              (None, 43)                1763      \n",
            "=================================================================\n",
            "Total params: 127,163\n",
            "Trainable params: 127,163\n",
            "Non-trainable params: 0\n",
            "_________________________________________________________________\n"
          ],
          "name": "stdout"
        }
      ]
    },
    {
      "cell_type": "code",
      "metadata": {
        "colab_type": "code",
        "id": "LBZkTqEt5Bsv",
        "colab": {}
      },
      "source": [
        "# SVG(model_to_dot(model, show_layer_names=True, show_shapes=True).create(prog='dot', format='svg'))"
      ],
      "execution_count": 0,
      "outputs": []
    },
    {
      "cell_type": "code",
      "metadata": {
        "colab_type": "code",
        "id": "d-DGKqpI5Bsx",
        "colab": {
          "base_uri": "https://localhost:8080/",
          "height": 1000
        },
        "outputId": "2644df3a-3b94-4993-84cb-464daa4ca9e3"
      },
      "source": [
        "\n",
        "EPOCHS=32\n",
        "train_and_evaluate_model(model)"
      ],
      "execution_count": 25,
      "outputs": [
        {
          "output_type": "stream",
          "text": [
            "Epoch 1/32\n",
            "22/22 [==============================] - 54s 2s/step - loss: 3.0270 - acc: 0.4394 - val_loss: 2.5371 - val_acc: 0.5000\n",
            "\n",
            "Epoch 00001: val_loss improved from inf to 2.53707, saving model to /content/drive/My Drive/GazpromOil/trainsets/checkpoints/1_1_19/simple_bi_GRU_model\n",
            "Epoch 2/32\n",
            "22/22 [==============================] - 50s 2s/step - loss: 1.8536 - acc: 0.7225 - val_loss: 1.8002 - val_acc: 0.6139\n",
            "\n",
            "Epoch 00002: val_loss improved from 2.53707 to 1.80021, saving model to /content/drive/My Drive/GazpromOil/trainsets/checkpoints/1_1_19/simple_bi_GRU_model\n",
            "Epoch 3/32\n",
            "22/22 [==============================] - 51s 2s/step - loss: 1.1718 - acc: 0.8807 - val_loss: 1.4311 - val_acc: 0.6458\n",
            "\n",
            "Epoch 00003: val_loss improved from 1.80021 to 1.43113, saving model to /content/drive/My Drive/GazpromOil/trainsets/checkpoints/1_1_19/simple_bi_GRU_model\n",
            "Epoch 4/32\n",
            "22/22 [==============================] - 51s 2s/step - loss: 0.8045 - acc: 0.9479 - val_loss: 1.2095 - val_acc: 0.6708\n",
            "\n",
            "Epoch 00004: val_loss improved from 1.43113 to 1.20952, saving model to /content/drive/My Drive/GazpromOil/trainsets/checkpoints/1_1_19/simple_bi_GRU_model\n",
            "Epoch 5/32\n",
            "22/22 [==============================] - 50s 2s/step - loss: 0.6016 - acc: 0.9763 - val_loss: 1.2236 - val_acc: 0.6667\n",
            "\n",
            "Epoch 00005: val_loss did not improve from 1.20952\n",
            "Epoch 6/32\n",
            "22/22 [==============================] - 51s 2s/step - loss: 0.4526 - acc: 0.9811 - val_loss: 1.0529 - val_acc: 0.6847\n",
            "\n",
            "Epoch 00006: val_loss improved from 1.20952 to 1.05291, saving model to /content/drive/My Drive/GazpromOil/trainsets/checkpoints/1_1_19/simple_bi_GRU_model\n",
            "Epoch 7/32\n",
            "22/22 [==============================] - 51s 2s/step - loss: 0.3075 - acc: 0.9896 - val_loss: 0.8898 - val_acc: 0.7278\n",
            "\n",
            "Epoch 00007: val_loss improved from 1.05291 to 0.88984, saving model to /content/drive/My Drive/GazpromOil/trainsets/checkpoints/1_1_19/simple_bi_GRU_model\n",
            "Epoch 8/32\n",
            "22/22 [==============================] - 50s 2s/step - loss: 0.2235 - acc: 0.9905 - val_loss: 0.9151 - val_acc: 0.6792\n",
            "\n",
            "Epoch 00008: val_loss did not improve from 0.88984\n",
            "Epoch 9/32\n",
            "22/22 [==============================] - 50s 2s/step - loss: 0.1828 - acc: 0.9972 - val_loss: 0.8985 - val_acc: 0.6750\n",
            "\n",
            "Epoch 00009: val_loss did not improve from 0.88984\n",
            "Epoch 10/32\n",
            "22/22 [==============================] - 50s 2s/step - loss: 0.1441 - acc: 0.9981 - val_loss: 0.8570 - val_acc: 0.6778\n",
            "\n",
            "Epoch 00010: val_loss improved from 0.88984 to 0.85698, saving model to /content/drive/My Drive/GazpromOil/trainsets/checkpoints/1_1_19/simple_bi_GRU_model\n",
            "Epoch 11/32\n",
            "22/22 [==============================] - 49s 2s/step - loss: 0.1146 - acc: 0.9991 - val_loss: 0.8402 - val_acc: 0.7000\n",
            "\n",
            "Epoch 00011: val_loss improved from 0.85698 to 0.84023, saving model to /content/drive/My Drive/GazpromOil/trainsets/checkpoints/1_1_19/simple_bi_GRU_model\n",
            "Epoch 12/32\n",
            "22/22 [==============================] - 50s 2s/step - loss: 0.0926 - acc: 1.0000 - val_loss: 0.8242 - val_acc: 0.6931\n",
            "\n",
            "Epoch 00012: val_loss improved from 0.84023 to 0.82424, saving model to /content/drive/My Drive/GazpromOil/trainsets/checkpoints/1_1_19/simple_bi_GRU_model\n",
            "Epoch 13/32\n",
            "22/22 [==============================] - 51s 2s/step - loss: 0.0904 - acc: 0.9991 - val_loss: 0.8802 - val_acc: 0.6931\n",
            "\n",
            "Epoch 00013: val_loss did not improve from 0.82424\n",
            "Epoch 14/32\n",
            "22/22 [==============================] - 50s 2s/step - loss: 0.0744 - acc: 1.0000 - val_loss: 0.8117 - val_acc: 0.7111\n",
            "\n",
            "Epoch 00014: val_loss improved from 0.82424 to 0.81170, saving model to /content/drive/My Drive/GazpromOil/trainsets/checkpoints/1_1_19/simple_bi_GRU_model\n",
            "Epoch 15/32\n",
            "22/22 [==============================] - 49s 2s/step - loss: 0.0607 - acc: 1.0000 - val_loss: 0.8356 - val_acc: 0.6819\n",
            "\n",
            "Epoch 00015: val_loss did not improve from 0.81170\n",
            "Epoch 16/32\n",
            "22/22 [==============================] - 50s 2s/step - loss: 0.0544 - acc: 1.0000 - val_loss: 0.8789 - val_acc: 0.6875\n",
            "\n",
            "Epoch 00016: val_loss did not improve from 0.81170\n",
            "Epoch 17/32\n",
            "22/22 [==============================] - 51s 2s/step - loss: 0.0523 - acc: 1.0000 - val_loss: 0.9039 - val_acc: 0.6764\n",
            "\n",
            "Epoch 00017: val_loss did not improve from 0.81170\n",
            "Epoch 18/32\n",
            "22/22 [==============================] - 50s 2s/step - loss: 0.0456 - acc: 1.0000 - val_loss: 0.8982 - val_acc: 0.6861\n",
            "\n",
            "Epoch 00018: val_loss did not improve from 0.81170\n",
            "Epoch 19/32\n",
            "22/22 [==============================] - 50s 2s/step - loss: 0.0395 - acc: 1.0000 - val_loss: 0.8785 - val_acc: 0.6875\n",
            "\n",
            "Epoch 00019: val_loss did not improve from 0.81170\n",
            "Epoch 20/32\n",
            "22/22 [==============================] - 50s 2s/step - loss: 0.0360 - acc: 1.0000 - val_loss: 0.9470 - val_acc: 0.6792\n",
            "\n",
            "Epoch 00020: ReduceLROnPlateau reducing learning rate to 0.00020000000949949026.\n",
            "\n",
            "Epoch 00020: val_loss did not improve from 0.81170\n",
            "Epoch 21/32\n",
            "22/22 [==============================] - 50s 2s/step - loss: 0.0349 - acc: 1.0000 - val_loss: 0.8691 - val_acc: 0.6917\n",
            "\n",
            "Epoch 00021: val_loss did not improve from 0.81170\n",
            "Epoch 22/32\n",
            "22/22 [==============================] - 50s 2s/step - loss: 0.0339 - acc: 1.0000 - val_loss: 0.8924 - val_acc: 0.6903\n",
            "\n",
            "Epoch 00022: val_loss did not improve from 0.81170\n",
            "Epoch 23/32\n",
            "22/22 [==============================] - 50s 2s/step - loss: 0.0341 - acc: 1.0000 - val_loss: 0.9728 - val_acc: 0.6625\n",
            "\n",
            "Epoch 00023: val_loss did not improve from 0.81170\n",
            "Epoch 24/32\n",
            "22/22 [==============================] - 49s 2s/step - loss: 0.0325 - acc: 1.0000 - val_loss: 0.8381 - val_acc: 0.7042\n",
            "\n",
            "Epoch 00024: val_loss did not improve from 0.81170\n",
            "Epoch 25/32\n",
            "22/22 [==============================] - 50s 2s/step - loss: 0.0335 - acc: 1.0000 - val_loss: 0.8699 - val_acc: 0.7056\n",
            "\n",
            "Epoch 00025: val_loss did not improve from 0.81170\n",
            "Epoch 26/32\n",
            "22/22 [==============================] - 50s 2s/step - loss: 0.0311 - acc: 1.0000 - val_loss: 0.9315 - val_acc: 0.6764\n",
            "\n",
            "Epoch 00026: ReduceLROnPlateau reducing learning rate to 4.0000001899898055e-05.\n",
            "\n",
            "Epoch 00026: val_loss did not improve from 0.81170\n",
            "Epoch 27/32\n",
            "22/22 [==============================] - 50s 2s/step - loss: 0.0311 - acc: 1.0000 - val_loss: 0.8317 - val_acc: 0.7167\n",
            "\n",
            "Epoch 00027: val_loss did not improve from 0.81170\n",
            "Epoch 28/32\n",
            "22/22 [==============================] - 51s 2s/step - loss: 0.0325 - acc: 1.0000 - val_loss: 0.9101 - val_acc: 0.6750\n",
            "\n",
            "Epoch 00028: val_loss did not improve from 0.81170\n",
            "Epoch 29/32\n",
            "22/22 [==============================] - 51s 2s/step - loss: 0.0319 - acc: 1.0000 - val_loss: 0.8766 - val_acc: 0.6944\n",
            "\n",
            "Epoch 00029: val_loss did not improve from 0.81170\n",
            "Epoch 30/32\n",
            "22/22 [==============================] - 50s 2s/step - loss: 0.0319 - acc: 1.0000 - val_loss: 0.9136 - val_acc: 0.6819\n",
            "\n",
            "Epoch 00030: val_loss did not improve from 0.81170\n",
            "Epoch 31/32\n",
            "22/22 [==============================] - 51s 2s/step - loss: 0.0301 - acc: 1.0000 - val_loss: 0.8850 - val_acc: 0.6986\n",
            "\n",
            "Epoch 00031: val_loss did not improve from 0.81170\n",
            "Epoch 32/32\n",
            "22/22 [==============================] - 50s 2s/step - loss: 0.0303 - acc: 1.0000 - val_loss: 0.7580 - val_acc: 0.7361\n",
            "\n",
            "Epoch 00032: val_loss improved from 0.81170 to 0.75804, saving model to /content/drive/My Drive/GazpromOil/trainsets/checkpoints/1_1_19/simple_bi_GRU_model\n"
          ],
          "name": "stdout"
        },
        {
          "output_type": "display_data",
          "data": {
            "image/png": "[encoded data removed]",
            "text/plain": [
              "<Figure size 432x288 with 1 Axes>"
            ]
          },
          "metadata": {
            "tags": []
          }
        },
        {
          "output_type": "display_data",
          "data": {
            "image/png": "[encoded data removed]",
            "text/plain": [
              "<Figure size 432x288 with 1 Axes>"
            ]
          },
          "metadata": {
            "tags": []
          }
        },
        {
          "output_type": "display_data",
          "data": {
            "image/png": "[encoded data removed]",
            "text/plain": [
              "<Figure size 432x288 with 1 Axes>"
            ]
          },
          "metadata": {
            "tags": []
          }
        }
      ]
    },
    {
      "cell_type": "code",
      "metadata": {
        "colab_type": "code",
        "id": "Dip8u8JC5Bs0",
        "colab": {
          "base_uri": "https://localhost:8080/",
          "height": 34
        },
        "outputId": "d9d0212f-1cc2-412d-a761-5950298e7425"
      },
      "source": [
        "model.evaluate_generator(generator=test_generator, steps=100)"
      ],
      "execution_count": 26,
      "outputs": [
        {
          "output_type": "execute_result",
          "data": {
            "text/plain": [
              "[0.918385394513607, 0.6789583343267441]"
            ]
          },
          "metadata": {
            "tags": []
          },
          "execution_count": 26
        }
      ]
    },
    {
      "cell_type": "code",
      "metadata": {
        "id": "z7FvotxVJDcT",
        "colab_type": "code",
        "colab": {
          "base_uri": "https://localhost:8080/",
          "height": 34
        },
        "outputId": "6ea592c8-c4bc-4e3e-ac56-cd5c3dc1827c"
      },
      "source": [
        "model.evaluate_generator(generator=train_generator, steps=100)"
      ],
      "execution_count": 27,
      "outputs": [
        {
          "output_type": "execute_result",
          "data": {
            "text/plain": [
              "[0.030149191971868276, 1.0]"
            ]
          },
          "metadata": {
            "tags": []
          },
          "execution_count": 27
        }
      ]
    },
    {
      "cell_type": "code",
      "metadata": {
        "id": "jMzx9DLfcSL5",
        "colab_type": "code",
        "colab": {}
      },
      "source": [
        ""
      ],
      "execution_count": 0,
      "outputs": []
    },
    {
      "cell_type": "markdown",
      "metadata": {
        "colab_type": "text",
        "id": "8TSUdLhE2y7v"
      },
      "source": [
        "### simple LSTM model + Dropouts"
      ]
    },
    {
      "cell_type": "code",
      "metadata": {
        "colab_type": "code",
        "outputId": "087b221d-16a8-400f-bcea-6bd61dd5b664",
        "id": "You33Vv02y7y",
        "colab": {
          "base_uri": "https://localhost:8080/",
          "height": 860
        }
      },
      "source": [
        "\n",
        "# define baseline model\n",
        "def simple_LSTM_model_drops(name=\"no_name\"):\n",
        "  classes = min(10, CLASSES)\n",
        "\n",
        "  input_text = Input(shape=[ None, EMB], dtype='float32', name=\"input_text_emb\")\n",
        "\t \n",
        "  bi =  LSTM(classes*4, return_sequences=False, dropout=0.5, recurrent_dropout=0.5)(input_text)  \n",
        "  dense = Dense(CLASSES, activation='softmax')(bi)\n",
        "  _out = dense\n",
        "  model = Model(inputs=[input_text], outputs=_out, name=name)\n",
        "  model.compile(loss='categorical_crossentropy', optimizer='Nadam', metrics=['accuracy'])\n",
        "  \n",
        "  model.summary()\n",
        "  return model\n",
        "\n",
        "\n",
        " \n",
        "model = simple_LSTM_model_drops( simple_LSTM_model_drops.__name__ )\n",
        "SVG(model_to_dot(model, show_layer_names=True, show_shapes=True).create(prog='dot', format='svg'))\n",
        " \n",
        "\n",
        "# print(\"TEST:--does it work?\")\n",
        "# k=model.predict( X)\n",
        "# k[0]\n"
      ],
      "execution_count": 28,
      "outputs": [
        {
          "output_type": "stream",
          "text": [
            "WARNING:tensorflow:From /usr/local/lib/python3.6/dist-packages/keras/backend/tensorflow_backend.py:148: The name tf.placeholder_with_default is deprecated. Please use tf.compat.v1.placeholder_with_default instead.\n",
            "\n"
          ],
          "name": "stdout"
        },
        {
          "output_type": "stream",
          "text": [
            "WARNING:tensorflow:From /usr/local/lib/python3.6/dist-packages/keras/backend/tensorflow_backend.py:148: The name tf.placeholder_with_default is deprecated. Please use tf.compat.v1.placeholder_with_default instead.\n",
            "\n"
          ],
          "name": "stderr"
        },
        {
          "output_type": "stream",
          "text": [
            "WARNING:tensorflow:From /usr/local/lib/python3.6/dist-packages/keras/backend/tensorflow_backend.py:3733: calling dropout (from tensorflow.python.ops.nn_ops) with keep_prob is deprecated and will be removed in a future version.\n",
            "Instructions for updating:\n",
            "Please use `rate` instead of `keep_prob`. Rate should be set to `rate = 1 - keep_prob`.\n"
          ],
          "name": "stdout"
        },
        {
          "output_type": "stream",
          "text": [
            "WARNING:tensorflow:From /usr/local/lib/python3.6/dist-packages/keras/backend/tensorflow_backend.py:3733: calling dropout (from tensorflow.python.ops.nn_ops) with keep_prob is deprecated and will be removed in a future version.\n",
            "Instructions for updating:\n",
            "Please use `rate` instead of `keep_prob`. Rate should be set to `rate = 1 - keep_prob`.\n"
          ],
          "name": "stderr"
        },
        {
          "output_type": "stream",
          "text": [
            "Model: \"simple_LSTM_model_drops\"\n",
            "_________________________________________________________________\n",
            "Layer (type)                 Output Shape              Param #   \n",
            "=================================================================\n",
            "input_text_emb (InputLayer)  (None, None, 1024)        0         \n",
            "_________________________________________________________________\n",
            "lstm_2 (LSTM)                (None, 40)                170400    \n",
            "_________________________________________________________________\n",
            "dense_4 (Dense)              (None, 43)                1763      \n",
            "=================================================================\n",
            "Total params: 172,163\n",
            "Trainable params: 172,163\n",
            "Non-trainable params: 0\n",
            "_________________________________________________________________\n"
          ],
          "name": "stdout"
        },
        {
          "output_type": "execute_result",
          "data": {
            "text/plain": [
              "<IPython.core.display.SVG object>"
            ],
            "image/svg+xml": "<svg height=\"295pt\" viewBox=\"0.00 0.00 379.00 221.00\" width=\"505pt\" xmlns=\"http://www.w3.org/2000/svg\" xmlns:xlink=\"http://www.w3.org/1999/xlink\">\n<g class=\"graph\" id=\"graph0\" transform=\"scale(1.3333 1.3333) rotate(0) translate(4 217)\">\n<title>G</title>\n<polygon fill=\"#ffffff\" points=\"-4,4 -4,-217 375,-217 375,4 -4,4\" stroke=\"transparent\"/>\n<!-- 140580484199704 -->\n<g class=\"node\" id=\"node1\">\n<title>140580484199704</title>\n<polygon fill=\"none\" points=\"0,-166.5 0,-212.5 371,-212.5 371,-166.5 0,-166.5\" stroke=\"#000000\"/>\n<text fill=\"#000000\" font-family=\"Times,serif\" font-size=\"14.00\" text-anchor=\"middle\" x=\"89.5\" y=\"-185.8\">input_text_emb: InputLayer</text>\n<polyline fill=\"none\" points=\"179,-166.5 179,-212.5 \" stroke=\"#000000\"/>\n<text fill=\"#000000\" font-family=\"Times,serif\" font-size=\"14.00\" text-anchor=\"middle\" x=\"208\" y=\"-197.3\">input:</text>\n<polyline fill=\"none\" points=\"179,-189.5 237,-189.5 \" stroke=\"#000000\"/>\n<text fill=\"#000000\" font-family=\"Times,serif\" font-size=\"14.00\" text-anchor=\"middle\" x=\"208\" y=\"-174.3\">output:</text>\n<polyline fill=\"none\" points=\"237,-166.5 237,-212.5 \" stroke=\"#000000\"/>\n<text fill=\"#000000\" font-family=\"Times,serif\" font-size=\"14.00\" text-anchor=\"middle\" x=\"304\" y=\"-197.3\">(None, None, 1024)</text>\n<polyline fill=\"none\" points=\"237,-189.5 371,-189.5 \" stroke=\"#000000\"/>\n<text fill=\"#000000\" font-family=\"Times,serif\" font-size=\"14.00\" text-anchor=\"middle\" x=\"304\" y=\"-174.3\">(None, None, 1024)</text>\n</g>\n<!-- 140580484288408 -->\n<g class=\"node\" id=\"node2\">\n<title>140580484288408</title>\n<polygon fill=\"none\" points=\"38.5,-83.5 38.5,-129.5 332.5,-129.5 332.5,-83.5 38.5,-83.5\" stroke=\"#000000\"/>\n<text fill=\"#000000\" font-family=\"Times,serif\" font-size=\"14.00\" text-anchor=\"middle\" x=\"89.5\" y=\"-102.8\">lstm_2: LSTM</text>\n<polyline fill=\"none\" points=\"140.5,-83.5 140.5,-129.5 \" stroke=\"#000000\"/>\n<text fill=\"#000000\" font-family=\"Times,serif\" font-size=\"14.00\" text-anchor=\"middle\" x=\"169.5\" y=\"-114.3\">input:</text>\n<polyline fill=\"none\" points=\"140.5,-106.5 198.5,-106.5 \" stroke=\"#000000\"/>\n<text fill=\"#000000\" font-family=\"Times,serif\" font-size=\"14.00\" text-anchor=\"middle\" x=\"169.5\" y=\"-91.3\">output:</text>\n<polyline fill=\"none\" points=\"198.5,-83.5 198.5,-129.5 \" stroke=\"#000000\"/>\n<text fill=\"#000000\" font-family=\"Times,serif\" font-size=\"14.00\" text-anchor=\"middle\" x=\"265.5\" y=\"-114.3\">(None, None, 1024)</text>\n<polyline fill=\"none\" points=\"198.5,-106.5 332.5,-106.5 \" stroke=\"#000000\"/>\n<text fill=\"#000000\" font-family=\"Times,serif\" font-size=\"14.00\" text-anchor=\"middle\" x=\"265.5\" y=\"-91.3\">(None, 40)</text>\n</g>\n<!-- 140580484199704&#45;&gt;140580484288408 -->\n<g class=\"edge\" id=\"edge1\">\n<title>140580484199704-&gt;140580484288408</title>\n<path d=\"M185.5,-166.3799C185.5,-158.1745 185.5,-148.7679 185.5,-139.8786\" fill=\"none\" stroke=\"#000000\"/>\n<polygon fill=\"#000000\" points=\"189.0001,-139.784 185.5,-129.784 182.0001,-139.784 189.0001,-139.784\" stroke=\"#000000\"/>\n</g>\n<!-- 140580483839424 -->\n<g class=\"node\" id=\"node3\">\n<title>140580483839424</title>\n<polygon fill=\"none\" points=\"63,-.5 63,-46.5 308,-46.5 308,-.5 63,-.5\" stroke=\"#000000\"/>\n<text fill=\"#000000\" font-family=\"Times,serif\" font-size=\"14.00\" text-anchor=\"middle\" x=\"116.5\" y=\"-19.8\">dense_4: Dense</text>\n<polyline fill=\"none\" points=\"170,-.5 170,-46.5 \" stroke=\"#000000\"/>\n<text fill=\"#000000\" font-family=\"Times,serif\" font-size=\"14.00\" text-anchor=\"middle\" x=\"199\" y=\"-31.3\">input:</text>\n<polyline fill=\"none\" points=\"170,-23.5 228,-23.5 \" stroke=\"#000000\"/>\n<text fill=\"#000000\" font-family=\"Times,serif\" font-size=\"14.00\" text-anchor=\"middle\" x=\"199\" y=\"-8.3\">output:</text>\n<polyline fill=\"none\" points=\"228,-.5 228,-46.5 \" stroke=\"#000000\"/>\n<text fill=\"#000000\" font-family=\"Times,serif\" font-size=\"14.00\" text-anchor=\"middle\" x=\"268\" y=\"-31.3\">(None, 40)</text>\n<polyline fill=\"none\" points=\"228,-23.5 308,-23.5 \" stroke=\"#000000\"/>\n<text fill=\"#000000\" font-family=\"Times,serif\" font-size=\"14.00\" text-anchor=\"middle\" x=\"268\" y=\"-8.3\">(None, 43)</text>\n</g>\n<!-- 140580484288408&#45;&gt;140580483839424 -->\n<g class=\"edge\" id=\"edge2\">\n<title>140580484288408-&gt;140580483839424</title>\n<path d=\"M185.5,-83.3799C185.5,-75.1745 185.5,-65.7679 185.5,-56.8786\" fill=\"none\" stroke=\"#000000\"/>\n<polygon fill=\"#000000\" points=\"189.0001,-56.784 185.5,-46.784 182.0001,-56.784 189.0001,-56.784\" stroke=\"#000000\"/>\n</g>\n</g>\n</svg>"
          },
          "metadata": {
            "tags": []
          },
          "execution_count": 28
        }
      ]
    },
    {
      "cell_type": "code",
      "metadata": {
        "colab_type": "code",
        "outputId": "85a53e6a-cba6-4a94-8450-c3d8b0658739",
        "id": "gW3OeMDv2y71",
        "colab": {
          "base_uri": "https://localhost:8080/",
          "height": 1000
        }
      },
      "source": [
        "# EPOCHS=16\n",
        "train_and_evaluate_model(model)"
      ],
      "execution_count": 29,
      "outputs": [
        {
          "output_type": "stream",
          "text": [
            "Epoch 1/32\n",
            "22/22 [==============================] - 38s 2s/step - loss: 2.5037 - acc: 0.4015 - val_loss: 1.2709 - val_acc: 0.6861\n",
            "\n",
            "Epoch 00001: val_loss improved from inf to 1.27086, saving model to /content/drive/My Drive/GazpromOil/trainsets/checkpoints/1_1_19/simple_LSTM_model_drops\n",
            "Epoch 2/32\n",
            "22/22 [==============================] - 37s 2s/step - loss: 0.7903 - acc: 0.8684 - val_loss: 0.6866 - val_acc: 0.7361\n",
            "\n",
            "Epoch 00002: val_loss improved from 1.27086 to 0.68662, saving model to /content/drive/My Drive/GazpromOil/trainsets/checkpoints/1_1_19/simple_LSTM_model_drops\n",
            "Epoch 3/32\n",
            "22/22 [==============================] - 36s 2s/step - loss: 0.2873 - acc: 0.9631 - val_loss: 0.5329 - val_acc: 0.8514\n",
            "\n",
            "Epoch 00003: val_loss improved from 0.68662 to 0.53286, saving model to /content/drive/My Drive/GazpromOil/trainsets/checkpoints/1_1_19/simple_LSTM_model_drops\n",
            "Epoch 4/32\n",
            "22/22 [==============================] - 36s 2s/step - loss: 0.1342 - acc: 0.9886 - val_loss: 0.3980 - val_acc: 0.8458\n",
            "\n",
            "Epoch 00004: val_loss improved from 0.53286 to 0.39802, saving model to /content/drive/My Drive/GazpromOil/trainsets/checkpoints/1_1_19/simple_LSTM_model_drops\n",
            "Epoch 5/32\n",
            "22/22 [==============================] - 36s 2s/step - loss: 0.0922 - acc: 0.9896 - val_loss: 0.4399 - val_acc: 0.8403\n",
            "\n",
            "Epoch 00005: val_loss did not improve from 0.39802\n",
            "Epoch 6/32\n",
            "22/22 [==============================] - 36s 2s/step - loss: 0.0552 - acc: 0.9962 - val_loss: 0.4993 - val_acc: 0.7847\n",
            "\n",
            "Epoch 00006: val_loss did not improve from 0.39802\n",
            "Epoch 7/32\n",
            "22/22 [==============================] - 36s 2s/step - loss: 0.0369 - acc: 0.9991 - val_loss: 0.4130 - val_acc: 0.8736\n",
            "\n",
            "Epoch 00007: val_loss did not improve from 0.39802\n",
            "Epoch 8/32\n",
            "22/22 [==============================] - 36s 2s/step - loss: 0.0365 - acc: 0.9972 - val_loss: 0.4340 - val_acc: 0.8333\n",
            "\n",
            "Epoch 00008: val_loss did not improve from 0.39802\n",
            "Epoch 9/32\n",
            "22/22 [==============================] - 37s 2s/step - loss: 0.0278 - acc: 0.9972 - val_loss: 0.5108 - val_acc: 0.8431\n",
            "\n",
            "Epoch 00009: val_loss did not improve from 0.39802\n",
            "Epoch 10/32\n",
            "22/22 [==============================] - 37s 2s/step - loss: 0.0189 - acc: 0.9991 - val_loss: 0.5226 - val_acc: 0.8167\n",
            "\n",
            "Epoch 00010: ReduceLROnPlateau reducing learning rate to 0.0004000000189989805.\n",
            "\n",
            "Epoch 00010: val_loss did not improve from 0.39802\n",
            "Epoch 11/32\n",
            "22/22 [==============================] - 36s 2s/step - loss: 0.0194 - acc: 0.9981 - val_loss: 0.4851 - val_acc: 0.8319\n",
            "\n",
            "Epoch 00011: val_loss did not improve from 0.39802\n",
            "Epoch 12/32\n",
            "22/22 [==============================] - 36s 2s/step - loss: 0.0163 - acc: 1.0000 - val_loss: 0.3953 - val_acc: 0.8583\n",
            "\n",
            "Epoch 00012: val_loss improved from 0.39802 to 0.39533, saving model to /content/drive/My Drive/GazpromOil/trainsets/checkpoints/1_1_19/simple_LSTM_model_drops\n",
            "Epoch 13/32\n",
            "22/22 [==============================] - 36s 2s/step - loss: 0.0183 - acc: 0.9981 - val_loss: 0.5705 - val_acc: 0.8014\n",
            "\n",
            "Epoch 00013: val_loss did not improve from 0.39533\n",
            "Epoch 14/32\n",
            "22/22 [==============================] - 37s 2s/step - loss: 0.0168 - acc: 0.9981 - val_loss: 0.5101 - val_acc: 0.8361\n",
            "\n",
            "Epoch 00014: val_loss did not improve from 0.39533\n",
            "Epoch 15/32\n",
            "22/22 [==============================] - 36s 2s/step - loss: 0.0145 - acc: 1.0000 - val_loss: 0.4743 - val_acc: 0.8208\n",
            "\n",
            "Epoch 00015: val_loss did not improve from 0.39533\n",
            "Epoch 16/32\n",
            "22/22 [==============================] - 37s 2s/step - loss: 0.0186 - acc: 0.9981 - val_loss: 0.4766 - val_acc: 0.8472\n",
            "\n",
            "Epoch 00016: val_loss did not improve from 0.39533\n",
            "Epoch 17/32\n",
            "22/22 [==============================] - 36s 2s/step - loss: 0.0117 - acc: 1.0000 - val_loss: 0.4952 - val_acc: 0.8389\n",
            "\n",
            "Epoch 00017: val_loss did not improve from 0.39533\n",
            "Epoch 18/32\n",
            "22/22 [==============================] - 37s 2s/step - loss: 0.0188 - acc: 0.9962 - val_loss: 0.4375 - val_acc: 0.8500\n",
            "\n",
            "Epoch 00018: ReduceLROnPlateau reducing learning rate to 8.000000379979611e-05.\n",
            "\n",
            "Epoch 00018: val_loss did not improve from 0.39533\n",
            "Epoch 19/32\n",
            "22/22 [==============================] - 36s 2s/step - loss: 0.0121 - acc: 1.0000 - val_loss: 0.5526 - val_acc: 0.8222\n",
            "\n",
            "Epoch 00019: val_loss did not improve from 0.39533\n",
            "Epoch 20/32\n",
            "22/22 [==============================] - 36s 2s/step - loss: 0.0125 - acc: 1.0000 - val_loss: 0.5433 - val_acc: 0.8139\n",
            "\n",
            "Epoch 00020: val_loss did not improve from 0.39533\n",
            "Epoch 21/32\n",
            "22/22 [==============================] - 36s 2s/step - loss: 0.0120 - acc: 1.0000 - val_loss: 0.5150 - val_acc: 0.8306\n",
            "\n",
            "Epoch 00021: val_loss did not improve from 0.39533\n",
            "Epoch 22/32\n",
            "22/22 [==============================] - 36s 2s/step - loss: 0.0127 - acc: 0.9991 - val_loss: 0.3987 - val_acc: 0.8569\n",
            "\n",
            "Epoch 00022: val_loss did not improve from 0.39533\n",
            "Epoch 23/32\n",
            "22/22 [==============================] - 36s 2s/step - loss: 0.0124 - acc: 1.0000 - val_loss: 0.5105 - val_acc: 0.8319\n",
            "\n",
            "Epoch 00023: val_loss did not improve from 0.39533\n",
            "Epoch 24/32\n",
            "22/22 [==============================] - 36s 2s/step - loss: 0.0104 - acc: 1.0000 - val_loss: 0.4844 - val_acc: 0.8431\n",
            "\n",
            "Epoch 00024: ReduceLROnPlateau reducing learning rate to 1.6000001050997525e-05.\n",
            "\n",
            "Epoch 00024: val_loss did not improve from 0.39533\n",
            "Epoch 25/32\n",
            "22/22 [==============================] - 36s 2s/step - loss: 0.0125 - acc: 1.0000 - val_loss: 0.4295 - val_acc: 0.8389\n",
            "\n",
            "Epoch 00025: val_loss did not improve from 0.39533\n",
            "Epoch 26/32\n",
            "22/22 [==============================] - 36s 2s/step - loss: 0.0115 - acc: 1.0000 - val_loss: 0.4828 - val_acc: 0.8458\n",
            "\n",
            "Epoch 00026: val_loss did not improve from 0.39533\n",
            "Epoch 27/32\n",
            "22/22 [==============================] - 37s 2s/step - loss: 0.0115 - acc: 1.0000 - val_loss: 0.4663 - val_acc: 0.8403\n",
            "\n",
            "Epoch 00027: val_loss did not improve from 0.39533\n",
            "Epoch 28/32\n",
            "22/22 [==============================] - 36s 2s/step - loss: 0.0150 - acc: 0.9981 - val_loss: 0.4652 - val_acc: 0.8319\n",
            "\n",
            "Epoch 00028: val_loss did not improve from 0.39533\n",
            "Epoch 29/32\n",
            "22/22 [==============================] - 36s 2s/step - loss: 0.0135 - acc: 0.9991 - val_loss: 0.3866 - val_acc: 0.8722\n",
            "\n",
            "Epoch 00029: val_loss improved from 0.39533 to 0.38664, saving model to /content/drive/My Drive/GazpromOil/trainsets/checkpoints/1_1_19/simple_LSTM_model_drops\n",
            "Epoch 30/32\n",
            "22/22 [==============================] - 36s 2s/step - loss: 0.0115 - acc: 1.0000 - val_loss: 0.5173 - val_acc: 0.8292\n",
            "\n",
            "Epoch 00030: val_loss did not improve from 0.38664\n",
            "Epoch 31/32\n",
            "22/22 [==============================] - 36s 2s/step - loss: 0.0105 - acc: 1.0000 - val_loss: 0.5554 - val_acc: 0.8167\n",
            "\n",
            "Epoch 00031: val_loss did not improve from 0.38664\n",
            "Epoch 32/32\n",
            "22/22 [==============================] - 36s 2s/step - loss: 0.0133 - acc: 0.9981 - val_loss: 0.4984 - val_acc: 0.8375\n",
            "\n",
            "Epoch 00032: val_loss did not improve from 0.38664\n"
          ],
          "name": "stdout"
        },
        {
          "output_type": "display_data",
          "data": {
            "image/png": "[encoded data removed]",
            "text/plain": [
              "<Figure size 432x288 with 1 Axes>"
            ]
          },
          "metadata": {
            "tags": []
          }
        },
        {
          "output_type": "display_data",
          "data": {
            "image/png": "[encoded data removed]",
            "text/plain": [
              "<Figure size 432x288 with 1 Axes>"
            ]
          },
          "metadata": {
            "tags": []
          }
        },
        {
          "output_type": "display_data",
          "data": {
            "image/png": "[encoded data removed]",
            "text/plain": [
              "<Figure size 432x288 with 1 Axes>"
            ]
          },
          "metadata": {
            "tags": []
          }
        }
      ]
    },
    {
      "cell_type": "code",
      "metadata": {
        "colab_type": "code",
        "outputId": "a6a56ae2-3716-4926-959d-c0432eda78ca",
        "id": "BmQ_ePE92y74",
        "colab": {
          "base_uri": "https://localhost:8080/",
          "height": 34
        }
      },
      "source": [
        "e=model.evaluate_generator(generator=test_generator, steps=100)\n",
        "print(e)"
      ],
      "execution_count": 30,
      "outputs": [
        {
          "output_type": "stream",
          "text": [
            "[0.4770390363037586, 0.8358333331346511]\n"
          ],
          "name": "stdout"
        }
      ]
    },
    {
      "cell_type": "code",
      "metadata": {
        "id": "5lLbPuST5hnv",
        "colab_type": "code",
        "colab": {
          "base_uri": "https://localhost:8080/",
          "height": 34
        },
        "outputId": "49bde1b9-37c5-46af-c7eb-1d579bfaa775"
      },
      "source": [
        "e=model.evaluate_generator(generator=all_generator, steps=100)\n",
        "print(e)"
      ],
      "execution_count": 31,
      "outputs": [
        {
          "output_type": "stream",
          "text": [
            "[0.11907755377236753, 0.960208335518837]\n"
          ],
          "name": "stdout"
        }
      ]
    },
    {
      "cell_type": "markdown",
      "metadata": {
        "colab_type": "text",
        "id": "HhrE8F8D6eQP"
      },
      "source": [
        "### smaller LSTM model + Dropouts"
      ]
    },
    {
      "cell_type": "code",
      "metadata": {
        "colab_type": "code",
        "outputId": "e2e24b5f-91fb-42be-93be-702e1eb21a77",
        "id": "2zUknpEl6eQQ",
        "colab": {
          "base_uri": "https://localhost:8080/",
          "height": 265
        }
      },
      "source": [
        "\n",
        "# define baseline model\n",
        "def smaller_LSTM_model_drops(name=\"no_name\"):\n",
        "  classes = min(10, CLASSES)\n",
        "\n",
        "  input_text = Input(shape=[ None, EMB], dtype='float32', name=\"input_text_emb\")\n",
        "\t \n",
        "  bi =  LSTM(classes, return_sequences=False, dropout=0.5, recurrent_dropout=0.5)(input_text)  \n",
        "  dense = Dense(CLASSES, activation='softmax')(bi)\n",
        "  _out = dense\n",
        "  model = Model(inputs=[input_text], outputs=_out, name=name)\n",
        "  model.compile(loss='categorical_crossentropy', optimizer='Nadam', metrics=['accuracy'])\n",
        "  \n",
        "  model.summary()\n",
        "  return model\n",
        "\n",
        "\n",
        " \n",
        "model = smaller_LSTM_model_drops( smaller_LSTM_model_drops.__name__ )\n",
        "# SVG(model_to_dot(model, show_layer_names=True, show_shapes=True).create(prog='dot', format='svg'))\n",
        " "
      ],
      "execution_count": 32,
      "outputs": [
        {
          "output_type": "stream",
          "text": [
            "Model: \"smaller_LSTM_model_drops\"\n",
            "_________________________________________________________________\n",
            "Layer (type)                 Output Shape              Param #   \n",
            "=================================================================\n",
            "input_text_emb (InputLayer)  (None, None, 1024)        0         \n",
            "_________________________________________________________________\n",
            "lstm_3 (LSTM)                (None, 10)                41400     \n",
            "_________________________________________________________________\n",
            "dense_5 (Dense)              (None, 43)                473       \n",
            "=================================================================\n",
            "Total params: 41,873\n",
            "Trainable params: 41,873\n",
            "Non-trainable params: 0\n",
            "_________________________________________________________________\n"
          ],
          "name": "stdout"
        }
      ]
    },
    {
      "cell_type": "code",
      "metadata": {
        "colab_type": "code",
        "outputId": "3e5f84e8-cf28-4b2f-fa44-4039bf18b5b0",
        "id": "jQLBh2i56eQU",
        "colab": {
          "base_uri": "https://localhost:8080/",
          "height": 1000
        }
      },
      "source": [
        "EPOCHS=32\n",
        "train_and_evaluate_model(model)"
      ],
      "execution_count": 33,
      "outputs": [
        {
          "output_type": "stream",
          "text": [
            "Epoch 1/32\n",
            "22/22 [==============================] - 39s 2s/step - loss: 3.3298 - acc: 0.2017 - val_loss: 2.7582 - val_acc: 0.3611\n",
            "\n",
            "Epoch 00001: val_loss improved from inf to 2.75819, saving model to /content/drive/My Drive/GazpromOil/trainsets/checkpoints/1_1_19/smaller_LSTM_model_drops\n",
            "Epoch 2/32\n",
            "22/22 [==============================] - 36s 2s/step - loss: 2.3027 - acc: 0.5227 - val_loss: 1.9532 - val_acc: 0.5625\n",
            "\n",
            "Epoch 00002: val_loss improved from 2.75819 to 1.95322, saving model to /content/drive/My Drive/GazpromOil/trainsets/checkpoints/1_1_19/smaller_LSTM_model_drops\n",
            "Epoch 3/32\n",
            "22/22 [==============================] - 36s 2s/step - loss: 1.6251 - acc: 0.7633 - val_loss: 1.5808 - val_acc: 0.7528\n",
            "\n",
            "Epoch 00003: val_loss improved from 1.95322 to 1.58079, saving model to /content/drive/My Drive/GazpromOil/trainsets/checkpoints/1_1_19/smaller_LSTM_model_drops\n",
            "Epoch 4/32\n",
            "22/22 [==============================] - 36s 2s/step - loss: 1.2410 - acc: 0.9034 - val_loss: 1.3349 - val_acc: 0.7583\n",
            "\n",
            "Epoch 00004: val_loss improved from 1.58079 to 1.33486, saving model to /content/drive/My Drive/GazpromOil/trainsets/checkpoints/1_1_19/smaller_LSTM_model_drops\n",
            "Epoch 5/32\n",
            "22/22 [==============================] - 36s 2s/step - loss: 0.9712 - acc: 0.9347 - val_loss: 1.1196 - val_acc: 0.8000\n",
            "\n",
            "Epoch 00005: val_loss improved from 1.33486 to 1.11957, saving model to /content/drive/My Drive/GazpromOil/trainsets/checkpoints/1_1_19/smaller_LSTM_model_drops\n",
            "Epoch 6/32\n",
            "22/22 [==============================] - 36s 2s/step - loss: 0.7729 - acc: 0.9583 - val_loss: 0.9633 - val_acc: 0.7500\n",
            "\n",
            "Epoch 00006: val_loss improved from 1.11957 to 0.96334, saving model to /content/drive/My Drive/GazpromOil/trainsets/checkpoints/1_1_19/smaller_LSTM_model_drops\n",
            "Epoch 7/32\n",
            "22/22 [==============================] - 36s 2s/step - loss: 0.6305 - acc: 0.9735 - val_loss: 0.8609 - val_acc: 0.8319\n",
            "\n",
            "Epoch 00007: val_loss improved from 0.96334 to 0.86088, saving model to /content/drive/My Drive/GazpromOil/trainsets/checkpoints/1_1_19/smaller_LSTM_model_drops\n",
            "Epoch 8/32\n",
            "22/22 [==============================] - 36s 2s/step - loss: 0.5363 - acc: 0.9848 - val_loss: 0.8194 - val_acc: 0.8569\n",
            "\n",
            "Epoch 00008: val_loss improved from 0.86088 to 0.81939, saving model to /content/drive/My Drive/GazpromOil/trainsets/checkpoints/1_1_19/smaller_LSTM_model_drops\n",
            "Epoch 9/32\n",
            "22/22 [==============================] - 36s 2s/step - loss: 0.4681 - acc: 0.9877 - val_loss: 0.7754 - val_acc: 0.8528\n",
            "\n",
            "Epoch 00009: val_loss improved from 0.81939 to 0.77539, saving model to /content/drive/My Drive/GazpromOil/trainsets/checkpoints/1_1_19/smaller_LSTM_model_drops\n",
            "Epoch 10/32\n",
            "22/22 [==============================] - 37s 2s/step - loss: 0.3958 - acc: 0.9886 - val_loss: 0.6374 - val_acc: 0.8833\n",
            "\n",
            "Epoch 00010: val_loss improved from 0.77539 to 0.63743, saving model to /content/drive/My Drive/GazpromOil/trainsets/checkpoints/1_1_19/smaller_LSTM_model_drops\n",
            "Epoch 11/32\n",
            "22/22 [==============================] - 36s 2s/step - loss: 0.3538 - acc: 0.9839 - val_loss: 0.6244 - val_acc: 0.8861\n",
            "\n",
            "Epoch 00011: val_loss improved from 0.63743 to 0.62439, saving model to /content/drive/My Drive/GazpromOil/trainsets/checkpoints/1_1_19/smaller_LSTM_model_drops\n",
            "Epoch 12/32\n",
            "22/22 [==============================] - 36s 2s/step - loss: 0.3082 - acc: 0.9934 - val_loss: 0.6062 - val_acc: 0.8653\n",
            "\n",
            "Epoch 00012: val_loss improved from 0.62439 to 0.60616, saving model to /content/drive/My Drive/GazpromOil/trainsets/checkpoints/1_1_19/smaller_LSTM_model_drops\n",
            "Epoch 13/32\n",
            "22/22 [==============================] - 36s 2s/step - loss: 0.2734 - acc: 0.9924 - val_loss: 0.5679 - val_acc: 0.8306\n",
            "\n",
            "Epoch 00013: val_loss improved from 0.60616 to 0.56791, saving model to /content/drive/My Drive/GazpromOil/trainsets/checkpoints/1_1_19/smaller_LSTM_model_drops\n",
            "Epoch 14/32\n",
            "22/22 [==============================] - 36s 2s/step - loss: 0.2574 - acc: 0.9867 - val_loss: 0.5608 - val_acc: 0.8681\n",
            "\n",
            "Epoch 00014: val_loss improved from 0.56791 to 0.56083, saving model to /content/drive/My Drive/GazpromOil/trainsets/checkpoints/1_1_19/smaller_LSTM_model_drops\n",
            "Epoch 15/32\n",
            "22/22 [==============================] - 36s 2s/step - loss: 0.2176 - acc: 0.9953 - val_loss: 0.5763 - val_acc: 0.8181\n",
            "\n",
            "Epoch 00015: val_loss did not improve from 0.56083\n",
            "Epoch 16/32\n",
            "22/22 [==============================] - 36s 2s/step - loss: 0.2059 - acc: 0.9962 - val_loss: 0.5654 - val_acc: 0.8667\n",
            "\n",
            "Epoch 00016: val_loss did not improve from 0.56083\n",
            "Epoch 17/32\n",
            "22/22 [==============================] - 36s 2s/step - loss: 0.1851 - acc: 0.9953 - val_loss: 0.5239 - val_acc: 0.8778\n",
            "\n",
            "Epoch 00017: val_loss improved from 0.56083 to 0.52390, saving model to /content/drive/My Drive/GazpromOil/trainsets/checkpoints/1_1_19/smaller_LSTM_model_drops\n",
            "Epoch 18/32\n",
            "22/22 [==============================] - 36s 2s/step - loss: 0.1767 - acc: 0.9972 - val_loss: 0.4650 - val_acc: 0.9111\n",
            "\n",
            "Epoch 00018: val_loss improved from 0.52390 to 0.46503, saving model to /content/drive/My Drive/GazpromOil/trainsets/checkpoints/1_1_19/smaller_LSTM_model_drops\n",
            "Epoch 19/32\n",
            "22/22 [==============================] - 36s 2s/step - loss: 0.1639 - acc: 0.9953 - val_loss: 0.4879 - val_acc: 0.8875\n",
            "\n",
            "Epoch 00019: val_loss did not improve from 0.46503\n",
            "Epoch 20/32\n",
            "22/22 [==============================] - 36s 2s/step - loss: 0.1420 - acc: 1.0000 - val_loss: 0.5559 - val_acc: 0.8556\n",
            "\n",
            "Epoch 00020: val_loss did not improve from 0.46503\n",
            "Epoch 21/32\n",
            "22/22 [==============================] - 36s 2s/step - loss: 0.1333 - acc: 0.9991 - val_loss: 0.4492 - val_acc: 0.9069\n",
            "\n",
            "Epoch 00021: val_loss improved from 0.46503 to 0.44916, saving model to /content/drive/My Drive/GazpromOil/trainsets/checkpoints/1_1_19/smaller_LSTM_model_drops\n",
            "Epoch 22/32\n",
            "22/22 [==============================] - 36s 2s/step - loss: 0.1202 - acc: 1.0000 - val_loss: 0.3595 - val_acc: 0.9264\n",
            "\n",
            "Epoch 00022: val_loss improved from 0.44916 to 0.35953, saving model to /content/drive/My Drive/GazpromOil/trainsets/checkpoints/1_1_19/smaller_LSTM_model_drops\n",
            "Epoch 23/32\n",
            "22/22 [==============================] - 36s 2s/step - loss: 0.1203 - acc: 1.0000 - val_loss: 0.4762 - val_acc: 0.8972\n",
            "\n",
            "Epoch 00023: val_loss did not improve from 0.35953\n",
            "Epoch 24/32\n",
            "22/22 [==============================] - 36s 2s/step - loss: 0.1097 - acc: 0.9991 - val_loss: 0.5318 - val_acc: 0.8639\n",
            "\n",
            "Epoch 00024: val_loss did not improve from 0.35953\n",
            "Epoch 25/32\n",
            "22/22 [==============================] - 36s 2s/step - loss: 0.1049 - acc: 0.9991 - val_loss: 0.4299 - val_acc: 0.8819\n",
            "\n",
            "Epoch 00025: val_loss did not improve from 0.35953\n",
            "Epoch 26/32\n",
            "22/22 [==============================] - 36s 2s/step - loss: 0.1000 - acc: 0.9991 - val_loss: 0.5025 - val_acc: 0.8542\n",
            "\n",
            "Epoch 00026: val_loss did not improve from 0.35953\n",
            "Epoch 27/32\n",
            "22/22 [==============================] - 37s 2s/step - loss: 0.0922 - acc: 1.0000 - val_loss: 0.4285 - val_acc: 0.8847\n",
            "\n",
            "Epoch 00027: val_loss did not improve from 0.35953\n",
            "Epoch 28/32\n",
            "22/22 [==============================] - 36s 2s/step - loss: 0.0920 - acc: 0.9991 - val_loss: 0.5416 - val_acc: 0.8542\n",
            "\n",
            "Epoch 00028: ReduceLROnPlateau reducing learning rate to 0.0004000000189989805.\n",
            "\n",
            "Epoch 00028: val_loss did not improve from 0.35953\n",
            "Epoch 29/32\n",
            "22/22 [==============================] - 36s 2s/step - loss: 0.0875 - acc: 0.9991 - val_loss: 0.5110 - val_acc: 0.8653\n",
            "\n",
            "Epoch 00029: val_loss did not improve from 0.35953\n",
            "Epoch 30/32\n",
            "22/22 [==============================] - 36s 2s/step - loss: 0.0845 - acc: 0.9991 - val_loss: 0.4891 - val_acc: 0.8736\n",
            "\n",
            "Epoch 00030: val_loss did not improve from 0.35953\n",
            "Epoch 31/32\n",
            "22/22 [==============================] - 36s 2s/step - loss: 0.0807 - acc: 1.0000 - val_loss: 0.5398 - val_acc: 0.8611\n",
            "\n",
            "Epoch 00031: val_loss did not improve from 0.35953\n",
            "Epoch 32/32\n",
            "22/22 [==============================] - 36s 2s/step - loss: 0.0816 - acc: 1.0000 - val_loss: 0.4445 - val_acc: 0.8778\n",
            "\n",
            "Epoch 00032: val_loss did not improve from 0.35953\n"
          ],
          "name": "stdout"
        },
        {
          "output_type": "display_data",
          "data": {
            "image/png": "[encoded data removed]",
            "text/plain": [
              "<Figure size 432x288 with 1 Axes>"
            ]
          },
          "metadata": {
            "tags": []
          }
        },
        {
          "output_type": "display_data",
          "data": {
            "image/png": "[encoded data removed]",
            "text/plain": [
              "<Figure size 432x288 with 1 Axes>"
            ]
          },
          "metadata": {
            "tags": []
          }
        },
        {
          "output_type": "display_data",
          "data": {
            "image/png": "[encoded data removed]",
            "text/plain": [
              "<Figure size 432x288 with 1 Axes>"
            ]
          },
          "metadata": {
            "tags": []
          }
        }
      ]
    },
    {
      "cell_type": "code",
      "metadata": {
        "colab_type": "code",
        "outputId": "8d44ac19-a59f-4081-f473-4218dbc02f93",
        "id": "2hRxibtQ6eQX",
        "colab": {
          "base_uri": "https://localhost:8080/",
          "height": 34
        }
      },
      "source": [
        "e=model.evaluate_generator(generator=test_generator, steps=100)\n",
        "print(e)"
      ],
      "execution_count": 34,
      "outputs": [
        {
          "output_type": "stream",
          "text": [
            "[0.45429866075515746, 0.8764583307504654]\n"
          ],
          "name": "stdout"
        }
      ]
    },
    {
      "cell_type": "code",
      "metadata": {
        "colab_type": "code",
        "outputId": "3a57dba0-c6b5-44e9-de23-e6e056fa1031",
        "id": "x2fBQ8AY6eQZ",
        "colab": {
          "base_uri": "https://localhost:8080/",
          "height": 34
        }
      },
      "source": [
        "e=model.evaluate_generator(generator=all_generator, steps=100)\n",
        "print(e)"
      ],
      "execution_count": 35,
      "outputs": [
        {
          "output_type": "stream",
          "text": [
            "[0.16832914434373378, 0.9672916692495346]\n"
          ],
          "name": "stdout"
        }
      ]
    },
    {
      "cell_type": "markdown",
      "metadata": {
        "colab_type": "text",
        "id": "foDNyQmaFAXf"
      },
      "source": [
        "### small LSTM model + Dropout layer"
      ]
    },
    {
      "cell_type": "code",
      "metadata": {
        "colab_type": "code",
        "outputId": "ddd354f0-123a-4a0e-81c5-4a3ee7abbc9b",
        "id": "FE9PlUAwFAXi",
        "colab": {
          "base_uri": "https://localhost:8080/",
          "height": 301
        }
      },
      "source": [
        "\n",
        "# define baseline model\n",
        "def small_LSTM_model_dropout_l(name=\"no_name\"):\n",
        "  classes = min(16, CLASSES)\n",
        "\n",
        "  input_text = Input(shape=[ None, EMB], dtype='float32', name=\"input_text_emb\")\n",
        "\t\n",
        "  dr = Dropout(0.1, name=\"drops\")(input_text)\n",
        "  # bi =  LSTM(classes, return_sequences=False, dropout=0.5, recurrent_dropout=0.5)(dr)  \n",
        "  bi =  LSTM(classes, return_sequences=False, dropout=0.05, recurrent_dropout=0.05)(dr)  \n",
        "  dense = Dense(CLASSES, activation='softmax')(bi)\n",
        "  _out = dense\n",
        "  model = Model(inputs=[input_text], outputs=_out, name=name)\n",
        "  model.compile(loss='categorical_crossentropy', optimizer='Nadam', metrics=['accuracy'])\n",
        "  \n",
        "  model.summary()\n",
        "  return model\n",
        "\n",
        "\n",
        " \n",
        "model = small_LSTM_model_dropout_l( small_LSTM_model_dropout_l.__name__ )\n",
        "# SVG(model_to_dot(model, show_layer_names=True, show_shapes=True).create(prog='dot', format='svg'))\n",
        " "
      ],
      "execution_count": 36,
      "outputs": [
        {
          "output_type": "stream",
          "text": [
            "Model: \"small_LSTM_model_dropout_l\"\n",
            "_________________________________________________________________\n",
            "Layer (type)                 Output Shape              Param #   \n",
            "=================================================================\n",
            "input_text_emb (InputLayer)  (None, None, 1024)        0         \n",
            "_________________________________________________________________\n",
            "drops (Dropout)              (None, None, 1024)        0         \n",
            "_________________________________________________________________\n",
            "lstm_4 (LSTM)                (None, 16)                66624     \n",
            "_________________________________________________________________\n",
            "dense_6 (Dense)              (None, 43)                731       \n",
            "=================================================================\n",
            "Total params: 67,355\n",
            "Trainable params: 67,355\n",
            "Non-trainable params: 0\n",
            "_________________________________________________________________\n"
          ],
          "name": "stdout"
        }
      ]
    },
    {
      "cell_type": "code",
      "metadata": {
        "colab_type": "code",
        "outputId": "71f1de31-dd83-45cd-a25a-701abb6a12d3",
        "id": "W3rAIPuDFAXo",
        "colab": {
          "base_uri": "https://localhost:8080/",
          "height": 1000
        }
      },
      "source": [
        "EPOCHS=32\n",
        "train_and_evaluate_model(model)"
      ],
      "execution_count": 37,
      "outputs": [
        {
          "output_type": "stream",
          "text": [
            "Epoch 1/32\n",
            "22/22 [==============================] - 40s 2s/step - loss: 2.8651 - acc: 0.5748 - val_loss: 1.9987 - val_acc: 0.6542\n",
            "\n",
            "Epoch 00001: val_loss improved from inf to 1.99869, saving model to /content/drive/My Drive/GazpromOil/trainsets/checkpoints/1_1_19/small_LSTM_model_dropout_l\n",
            "Epoch 2/32\n",
            "22/22 [==============================] - 37s 2s/step - loss: 1.2992 - acc: 0.9252 - val_loss: 1.1306 - val_acc: 0.7694\n",
            "\n",
            "Epoch 00002: val_loss improved from 1.99869 to 1.13058, saving model to /content/drive/My Drive/GazpromOil/trainsets/checkpoints/1_1_19/small_LSTM_model_dropout_l\n",
            "Epoch 3/32\n",
            "22/22 [==============================] - 37s 2s/step - loss: 0.6601 - acc: 0.9830 - val_loss: 0.7981 - val_acc: 0.8986\n",
            "\n",
            "Epoch 00003: val_loss improved from 1.13058 to 0.79813, saving model to /content/drive/My Drive/GazpromOil/trainsets/checkpoints/1_1_19/small_LSTM_model_dropout_l\n",
            "Epoch 4/32\n",
            "22/22 [==============================] - 37s 2s/step - loss: 0.4145 - acc: 0.9924 - val_loss: 0.6790 - val_acc: 0.8819\n",
            "\n",
            "Epoch 00004: val_loss improved from 0.79813 to 0.67900, saving model to /content/drive/My Drive/GazpromOil/trainsets/checkpoints/1_1_19/small_LSTM_model_dropout_l\n",
            "Epoch 5/32\n",
            "22/22 [==============================] - 37s 2s/step - loss: 0.2895 - acc: 0.9943 - val_loss: 0.5886 - val_acc: 0.9042\n",
            "\n",
            "Epoch 00005: val_loss improved from 0.67900 to 0.58861, saving model to /content/drive/My Drive/GazpromOil/trainsets/checkpoints/1_1_19/small_LSTM_model_dropout_l\n",
            "Epoch 6/32\n",
            "22/22 [==============================] - 37s 2s/step - loss: 0.2198 - acc: 0.9915 - val_loss: 0.5314 - val_acc: 0.9181\n",
            "\n",
            "Epoch 00006: val_loss improved from 0.58861 to 0.53136, saving model to /content/drive/My Drive/GazpromOil/trainsets/checkpoints/1_1_19/small_LSTM_model_dropout_l\n",
            "Epoch 7/32\n",
            "22/22 [==============================] - 37s 2s/step - loss: 0.1657 - acc: 0.9953 - val_loss: 0.4750 - val_acc: 0.8514\n",
            "\n",
            "Epoch 00007: val_loss improved from 0.53136 to 0.47499, saving model to /content/drive/My Drive/GazpromOil/trainsets/checkpoints/1_1_19/small_LSTM_model_dropout_l\n",
            "Epoch 8/32\n",
            "22/22 [==============================] - 37s 2s/step - loss: 0.1438 - acc: 0.9886 - val_loss: 0.5080 - val_acc: 0.9083\n",
            "\n",
            "Epoch 00008: val_loss did not improve from 0.47499\n",
            "Epoch 9/32\n",
            "22/22 [==============================] - 37s 2s/step - loss: 0.1113 - acc: 0.9962 - val_loss: 0.5549 - val_acc: 0.8903\n",
            "\n",
            "Epoch 00009: val_loss did not improve from 0.47499\n",
            "Epoch 10/32\n",
            "22/22 [==============================] - 37s 2s/step - loss: 0.0939 - acc: 0.9962 - val_loss: 0.5639 - val_acc: 0.8611\n",
            "\n",
            "Epoch 00010: val_loss did not improve from 0.47499\n",
            "Epoch 11/32\n",
            "22/22 [==============================] - 37s 2s/step - loss: 0.1168 - acc: 0.9896 - val_loss: 0.4548 - val_acc: 0.8819\n",
            "\n",
            "Epoch 00011: val_loss improved from 0.47499 to 0.45479, saving model to /content/drive/My Drive/GazpromOil/trainsets/checkpoints/1_1_19/small_LSTM_model_dropout_l\n",
            "Epoch 12/32\n",
            "22/22 [==============================] - 37s 2s/step - loss: 0.0828 - acc: 1.0000 - val_loss: 0.4486 - val_acc: 0.8708\n",
            "\n",
            "Epoch 00012: val_loss improved from 0.45479 to 0.44862, saving model to /content/drive/My Drive/GazpromOil/trainsets/checkpoints/1_1_19/small_LSTM_model_dropout_l\n",
            "Epoch 13/32\n",
            "22/22 [==============================] - 37s 2s/step - loss: 0.0702 - acc: 0.9991 - val_loss: 0.4343 - val_acc: 0.8833\n",
            "\n",
            "Epoch 00013: val_loss improved from 0.44862 to 0.43434, saving model to /content/drive/My Drive/GazpromOil/trainsets/checkpoints/1_1_19/small_LSTM_model_dropout_l\n",
            "Epoch 14/32\n",
            "22/22 [==============================] - 37s 2s/step - loss: 0.0640 - acc: 1.0000 - val_loss: 0.4303 - val_acc: 0.9153\n",
            "\n",
            "Epoch 00014: val_loss improved from 0.43434 to 0.43028, saving model to /content/drive/My Drive/GazpromOil/trainsets/checkpoints/1_1_19/small_LSTM_model_dropout_l\n",
            "Epoch 15/32\n",
            "22/22 [==============================] - 37s 2s/step - loss: 0.0532 - acc: 1.0000 - val_loss: 0.3730 - val_acc: 0.9181\n",
            "\n",
            "Epoch 00015: val_loss improved from 0.43028 to 0.37302, saving model to /content/drive/My Drive/GazpromOil/trainsets/checkpoints/1_1_19/small_LSTM_model_dropout_l\n",
            "Epoch 16/32\n",
            "22/22 [==============================] - 37s 2s/step - loss: 0.0538 - acc: 0.9991 - val_loss: 0.6044 - val_acc: 0.8722\n",
            "\n",
            "Epoch 00016: val_loss did not improve from 0.37302\n",
            "Epoch 17/32\n",
            "22/22 [==============================] - 37s 2s/step - loss: 0.0418 - acc: 1.0000 - val_loss: 0.5366 - val_acc: 0.8611\n",
            "\n",
            "Epoch 00017: val_loss did not improve from 0.37302\n",
            "Epoch 18/32\n",
            "22/22 [==============================] - 37s 2s/step - loss: 0.0367 - acc: 1.0000 - val_loss: 0.5008 - val_acc: 0.8472\n",
            "\n",
            "Epoch 00018: val_loss did not improve from 0.37302\n",
            "Epoch 19/32\n",
            "22/22 [==============================] - 37s 2s/step - loss: 0.0345 - acc: 1.0000 - val_loss: 0.6222 - val_acc: 0.8306\n",
            "\n",
            "Epoch 00019: val_loss did not improve from 0.37302\n",
            "Epoch 20/32\n",
            "22/22 [==============================] - 37s 2s/step - loss: 0.0363 - acc: 1.0000 - val_loss: 0.4866 - val_acc: 0.8542\n",
            "\n",
            "Epoch 00020: val_loss did not improve from 0.37302\n",
            "Epoch 21/32\n",
            "22/22 [==============================] - 37s 2s/step - loss: 0.0295 - acc: 1.0000 - val_loss: 0.5611 - val_acc: 0.8292\n",
            "\n",
            "Epoch 00021: ReduceLROnPlateau reducing learning rate to 0.0004000000189989805.\n",
            "\n",
            "Epoch 00021: val_loss did not improve from 0.37302\n",
            "Epoch 22/32\n",
            "22/22 [==============================] - 37s 2s/step - loss: 0.0266 - acc: 1.0000 - val_loss: 0.5027 - val_acc: 0.8472\n",
            "\n",
            "Epoch 00022: val_loss did not improve from 0.37302\n",
            "Epoch 23/32\n",
            "22/22 [==============================] - 37s 2s/step - loss: 0.0293 - acc: 1.0000 - val_loss: 0.5660 - val_acc: 0.8417\n",
            "\n",
            "Epoch 00023: val_loss did not improve from 0.37302\n",
            "Epoch 24/32\n",
            "22/22 [==============================] - 37s 2s/step - loss: 0.0260 - acc: 1.0000 - val_loss: 0.5063 - val_acc: 0.8486\n",
            "\n",
            "Epoch 00024: val_loss did not improve from 0.37302\n",
            "Epoch 25/32\n",
            "22/22 [==============================] - 37s 2s/step - loss: 0.0248 - acc: 1.0000 - val_loss: 0.5342 - val_acc: 0.8403\n",
            "\n",
            "Epoch 00025: val_loss did not improve from 0.37302\n",
            "Epoch 26/32\n",
            "22/22 [==============================] - 37s 2s/step - loss: 0.0259 - acc: 1.0000 - val_loss: 0.5516 - val_acc: 0.8236\n",
            "\n",
            "Epoch 00026: val_loss did not improve from 0.37302\n",
            "Epoch 27/32\n",
            "22/22 [==============================] - 37s 2s/step - loss: 0.0275 - acc: 1.0000 - val_loss: 0.5125 - val_acc: 0.8500\n",
            "\n",
            "Epoch 00027: ReduceLROnPlateau reducing learning rate to 8.000000379979611e-05.\n",
            "\n",
            "Epoch 00027: val_loss did not improve from 0.37302\n",
            "Epoch 28/32\n",
            "22/22 [==============================] - 37s 2s/step - loss: 0.0234 - acc: 1.0000 - val_loss: 0.5301 - val_acc: 0.8431\n",
            "\n",
            "Epoch 00028: val_loss did not improve from 0.37302\n",
            "Epoch 29/32\n",
            "22/22 [==============================] - 37s 2s/step - loss: 0.0236 - acc: 1.0000 - val_loss: 0.5074 - val_acc: 0.8458\n",
            "\n",
            "Epoch 00029: val_loss did not improve from 0.37302\n",
            "Epoch 30/32\n",
            "22/22 [==============================] - 37s 2s/step - loss: 0.0249 - acc: 1.0000 - val_loss: 0.5173 - val_acc: 0.8431\n",
            "\n",
            "Epoch 00030: val_loss did not improve from 0.37302\n",
            "Epoch 31/32\n",
            "22/22 [==============================] - 37s 2s/step - loss: 0.0251 - acc: 1.0000 - val_loss: 0.5436 - val_acc: 0.8361\n",
            "\n",
            "Epoch 00031: val_loss did not improve from 0.37302\n",
            "Epoch 32/32\n",
            "22/22 [==============================] - 37s 2s/step - loss: 0.0261 - acc: 1.0000 - val_loss: 0.4986 - val_acc: 0.8486\n",
            "\n",
            "Epoch 00032: val_loss did not improve from 0.37302\n"
          ],
          "name": "stdout"
        },
        {
          "output_type": "display_data",
          "data": {
            "image/png": "[encoded data removed]",
            "text/plain": [
              "<Figure size 432x288 with 1 Axes>"
            ]
          },
          "metadata": {
            "tags": []
          }
        },
        {
          "output_type": "display_data",
          "data": {
            "image/png": "[encoded data removed]",
            "text/plain": [
              "<Figure size 432x288 with 1 Axes>"
            ]
          },
          "metadata": {
            "tags": []
          }
        },
        {
          "output_type": "display_data",
          "data": {
            "image/png": "[encoded data removed]",
            "text/plain": [
              "<Figure size 432x288 with 1 Axes>"
            ]
          },
          "metadata": {
            "tags": []
          }
        }
      ]
    },
    {
      "cell_type": "code",
      "metadata": {
        "colab_type": "code",
        "outputId": "9b7be559-c1de-404a-c011-5681ce82f4fa",
        "id": "--RXpeZrFAXr",
        "colab": {
          "base_uri": "https://localhost:8080/",
          "height": 34
        }
      },
      "source": [
        "e=model.evaluate_generator(generator=test_generator, steps=100)\n",
        "print(e)"
      ],
      "execution_count": 38,
      "outputs": [
        {
          "output_type": "stream",
          "text": [
            "[0.545985923781991, 0.8358333331346511]\n"
          ],
          "name": "stdout"
        }
      ]
    },
    {
      "cell_type": "code",
      "metadata": {
        "colab_type": "code",
        "outputId": "4879569e-3be8-4f1d-eed1-eed80b225fd9",
        "id": "gX0tRfCLFAXt",
        "colab": {
          "base_uri": "https://localhost:8080/",
          "height": 34
        }
      },
      "source": [
        "e=model.evaluate_generator(generator=all_generator, steps=100)\n",
        "print(e)"
      ],
      "execution_count": 39,
      "outputs": [
        {
          "output_type": "stream",
          "text": [
            "[0.14382789321243764, 0.9625]\n"
          ],
          "name": "stdout"
        }
      ]
    },
    {
      "cell_type": "markdown",
      "metadata": {
        "id": "xYCsKWoyh3lI",
        "colab_type": "text"
      },
      "source": [
        "#Train final model"
      ]
    },
    {
      "cell_type": "code",
      "metadata": {
        "id": "uaD7-TQ8h66W",
        "colab_type": "code",
        "colab": {
          "base_uri": "https://localhost:8080/",
          "height": 1000
        },
        "outputId": "a798da83-2501-45f4-f4ec-9effd58e7bb8"
      },
      "source": [
        "# generator\n",
        "final_model = baseline_LSTM_model(  )\n",
        "train_and_evaluate_model(final_model, generator=all_generator)"
      ],
      "execution_count": 40,
      "outputs": [
        {
          "output_type": "stream",
          "text": [
            "Model: \"baseline_LSTM_model\"\n",
            "_________________________________________________________________\n",
            "Layer (type)                 Output Shape              Param #   \n",
            "=================================================================\n",
            "input_text_emb (InputLayer)  (None, None, 1024)        0         \n",
            "_________________________________________________________________\n",
            "lstm_5 (LSTM)                (None, 40)                170400    \n",
            "_________________________________________________________________\n",
            "dense_7 (Dense)              (None, 43)                1763      \n",
            "=================================================================\n",
            "Total params: 172,163\n",
            "Trainable params: 172,163\n",
            "Non-trainable params: 0\n",
            "_________________________________________________________________\n",
            "Epoch 1/32\n",
            "22/22 [==============================] - 35s 2s/step - loss: 2.7412 - acc: 0.4422 - val_loss: 1.6429 - val_acc: 0.8222\n",
            "\n",
            "Epoch 00001: val_loss improved from inf to 1.64285, saving model to /content/drive/My Drive/GazpromOil/trainsets/checkpoints/1_1_19/baseline_LSTM_model\n",
            "Epoch 2/32\n",
            "22/22 [==============================] - 31s 1s/step - loss: 0.9059 - acc: 0.9309 - val_loss: 0.3100 - val_acc: 0.9986\n",
            "\n",
            "Epoch 00002: val_loss improved from 1.64285 to 0.30997, saving model to /content/drive/My Drive/GazpromOil/trainsets/checkpoints/1_1_19/baseline_LSTM_model\n",
            "Epoch 3/32\n",
            "22/22 [==============================] - 32s 1s/step - loss: 0.2157 - acc: 0.9896 - val_loss: 0.1355 - val_acc: 0.9958\n",
            "\n",
            "Epoch 00003: val_loss improved from 0.30997 to 0.13549, saving model to /content/drive/My Drive/GazpromOil/trainsets/checkpoints/1_1_19/baseline_LSTM_model\n",
            "Epoch 4/32\n",
            "22/22 [==============================] - 32s 1s/step - loss: 0.1254 - acc: 0.9905 - val_loss: 0.0679 - val_acc: 1.0000\n",
            "\n",
            "Epoch 00004: val_loss improved from 0.13549 to 0.06789, saving model to /content/drive/My Drive/GazpromOil/trainsets/checkpoints/1_1_19/baseline_LSTM_model\n",
            "Epoch 5/32\n",
            "22/22 [==============================] - 32s 1s/step - loss: 0.0675 - acc: 0.9962 - val_loss: 0.0497 - val_acc: 1.0000\n",
            "\n",
            "Epoch 00005: val_loss improved from 0.06789 to 0.04967, saving model to /content/drive/My Drive/GazpromOil/trainsets/checkpoints/1_1_19/baseline_LSTM_model\n",
            "Epoch 6/32\n",
            "22/22 [==============================] - 32s 1s/step - loss: 0.0453 - acc: 1.0000 - val_loss: 0.0345 - val_acc: 1.0000\n",
            "\n",
            "Epoch 00006: val_loss improved from 0.04967 to 0.03452, saving model to /content/drive/My Drive/GazpromOil/trainsets/checkpoints/1_1_19/baseline_LSTM_model\n",
            "Epoch 7/32\n",
            "22/22 [==============================] - 32s 1s/step - loss: 0.0340 - acc: 1.0000 - val_loss: 0.0281 - val_acc: 1.0000\n",
            "\n",
            "Epoch 00007: val_loss improved from 0.03452 to 0.02808, saving model to /content/drive/My Drive/GazpromOil/trainsets/checkpoints/1_1_19/baseline_LSTM_model\n",
            "Epoch 8/32\n",
            "22/22 [==============================] - 32s 1s/step - loss: 0.0287 - acc: 1.0000 - val_loss: 0.0234 - val_acc: 1.0000\n",
            "\n",
            "Epoch 00008: val_loss improved from 0.02808 to 0.02337, saving model to /content/drive/My Drive/GazpromOil/trainsets/checkpoints/1_1_19/baseline_LSTM_model\n",
            "Epoch 9/32\n",
            "22/22 [==============================] - 32s 1s/step - loss: 0.0230 - acc: 1.0000 - val_loss: 0.0202 - val_acc: 1.0000\n",
            "\n",
            "Epoch 00009: val_loss improved from 0.02337 to 0.02021, saving model to /content/drive/My Drive/GazpromOil/trainsets/checkpoints/1_1_19/baseline_LSTM_model\n",
            "Epoch 10/32\n",
            "22/22 [==============================] - 32s 1s/step - loss: 0.0213 - acc: 1.0000 - val_loss: 0.0174 - val_acc: 1.0000\n",
            "\n",
            "Epoch 00010: val_loss improved from 0.02021 to 0.01742, saving model to /content/drive/My Drive/GazpromOil/trainsets/checkpoints/1_1_19/baseline_LSTM_model\n",
            "Epoch 11/32\n",
            "22/22 [==============================] - 32s 1s/step - loss: 0.0170 - acc: 1.0000 - val_loss: 0.0154 - val_acc: 1.0000\n",
            "\n",
            "Epoch 00011: val_loss improved from 0.01742 to 0.01542, saving model to /content/drive/My Drive/GazpromOil/trainsets/checkpoints/1_1_19/baseline_LSTM_model\n",
            "Epoch 12/32\n",
            "22/22 [==============================] - 32s 1s/step - loss: 0.0196 - acc: 0.9991 - val_loss: 0.0140 - val_acc: 1.0000\n",
            "\n",
            "Epoch 00012: val_loss improved from 0.01542 to 0.01397, saving model to /content/drive/My Drive/GazpromOil/trainsets/checkpoints/1_1_19/baseline_LSTM_model\n",
            "Epoch 13/32\n",
            "22/22 [==============================] - 32s 1s/step - loss: 0.0149 - acc: 1.0000 - val_loss: 0.0127 - val_acc: 1.0000\n",
            "\n",
            "Epoch 00013: val_loss improved from 0.01397 to 0.01266, saving model to /content/drive/My Drive/GazpromOil/trainsets/checkpoints/1_1_19/baseline_LSTM_model\n",
            "Epoch 14/32\n",
            "22/22 [==============================] - 32s 1s/step - loss: 0.0125 - acc: 1.0000 - val_loss: 0.0115 - val_acc: 1.0000\n",
            "\n",
            "Epoch 00014: val_loss improved from 0.01266 to 0.01147, saving model to /content/drive/My Drive/GazpromOil/trainsets/checkpoints/1_1_19/baseline_LSTM_model\n",
            "Epoch 15/32\n",
            "22/22 [==============================] - 32s 1s/step - loss: 0.0113 - acc: 1.0000 - val_loss: 0.0100 - val_acc: 1.0000\n",
            "\n",
            "Epoch 00015: val_loss improved from 0.01147 to 0.01003, saving model to /content/drive/My Drive/GazpromOil/trainsets/checkpoints/1_1_19/baseline_LSTM_model\n",
            "Epoch 16/32\n",
            "22/22 [==============================] - 32s 1s/step - loss: 0.0102 - acc: 1.0000 - val_loss: 0.0093 - val_acc: 1.0000\n",
            "\n",
            "Epoch 00016: val_loss improved from 0.01003 to 0.00932, saving model to /content/drive/My Drive/GazpromOil/trainsets/checkpoints/1_1_19/baseline_LSTM_model\n",
            "Epoch 17/32\n",
            "22/22 [==============================] - 32s 1s/step - loss: 0.0094 - acc: 1.0000 - val_loss: 0.0085 - val_acc: 1.0000\n",
            "\n",
            "Epoch 00017: val_loss improved from 0.00932 to 0.00853, saving model to /content/drive/My Drive/GazpromOil/trainsets/checkpoints/1_1_19/baseline_LSTM_model\n",
            "Epoch 18/32\n",
            "22/22 [==============================] - 32s 1s/step - loss: 0.0085 - acc: 1.0000 - val_loss: 0.0078 - val_acc: 1.0000\n",
            "\n",
            "Epoch 00018: val_loss improved from 0.00853 to 0.00783, saving model to /content/drive/My Drive/GazpromOil/trainsets/checkpoints/1_1_19/baseline_LSTM_model\n",
            "Epoch 19/32\n",
            "22/22 [==============================] - 32s 1s/step - loss: 0.0079 - acc: 1.0000 - val_loss: 0.0073 - val_acc: 1.0000\n",
            "\n",
            "Epoch 00019: val_loss improved from 0.00783 to 0.00729, saving model to /content/drive/My Drive/GazpromOil/trainsets/checkpoints/1_1_19/baseline_LSTM_model\n",
            "Epoch 20/32\n",
            "22/22 [==============================] - 33s 1s/step - loss: 0.0073 - acc: 1.0000 - val_loss: 0.0068 - val_acc: 1.0000\n",
            "\n",
            "Epoch 00020: val_loss improved from 0.00729 to 0.00676, saving model to /content/drive/My Drive/GazpromOil/trainsets/checkpoints/1_1_19/baseline_LSTM_model\n",
            "Epoch 21/32\n",
            "22/22 [==============================] - 32s 1s/step - loss: 0.0070 - acc: 1.0000 - val_loss: 0.0062 - val_acc: 1.0000\n",
            "\n",
            "Epoch 00021: val_loss improved from 0.00676 to 0.00624, saving model to /content/drive/My Drive/GazpromOil/trainsets/checkpoints/1_1_19/baseline_LSTM_model\n",
            "Epoch 22/32\n",
            "22/22 [==============================] - 32s 1s/step - loss: 0.0062 - acc: 1.0000 - val_loss: 0.0058 - val_acc: 1.0000\n",
            "\n",
            "Epoch 00022: val_loss improved from 0.00624 to 0.00581, saving model to /content/drive/My Drive/GazpromOil/trainsets/checkpoints/1_1_19/baseline_LSTM_model\n",
            "Epoch 23/32\n",
            "22/22 [==============================] - 32s 1s/step - loss: 0.0059 - acc: 1.0000 - val_loss: 0.0054 - val_acc: 1.0000\n",
            "\n",
            "Epoch 00023: val_loss improved from 0.00581 to 0.00537, saving model to /content/drive/My Drive/GazpromOil/trainsets/checkpoints/1_1_19/baseline_LSTM_model\n",
            "Epoch 24/32\n",
            "22/22 [==============================] - 32s 1s/step - loss: 0.0056 - acc: 1.0000 - val_loss: 0.0051 - val_acc: 1.0000\n",
            "\n",
            "Epoch 00024: val_loss improved from 0.00537 to 0.00509, saving model to /content/drive/My Drive/GazpromOil/trainsets/checkpoints/1_1_19/baseline_LSTM_model\n",
            "Epoch 25/32\n",
            "22/22 [==============================] - 32s 1s/step - loss: 0.0053 - acc: 1.0000 - val_loss: 0.0048 - val_acc: 1.0000\n",
            "\n",
            "Epoch 00025: val_loss improved from 0.00509 to 0.00478, saving model to /content/drive/My Drive/GazpromOil/trainsets/checkpoints/1_1_19/baseline_LSTM_model\n",
            "Epoch 26/32\n",
            "22/22 [==============================] - 32s 1s/step - loss: 0.0048 - acc: 1.0000 - val_loss: 0.0045 - val_acc: 1.0000\n",
            "\n",
            "Epoch 00026: val_loss improved from 0.00478 to 0.00449, saving model to /content/drive/My Drive/GazpromOil/trainsets/checkpoints/1_1_19/baseline_LSTM_model\n",
            "Epoch 27/32\n",
            "22/22 [==============================] - 32s 1s/step - loss: 0.0047 - acc: 1.0000 - val_loss: 0.0042 - val_acc: 1.0000\n",
            "\n",
            "Epoch 00027: val_loss improved from 0.00449 to 0.00423, saving model to /content/drive/My Drive/GazpromOil/trainsets/checkpoints/1_1_19/baseline_LSTM_model\n",
            "Epoch 28/32\n",
            "22/22 [==============================] - 32s 1s/step - loss: 0.0044 - acc: 1.0000 - val_loss: 0.0040 - val_acc: 1.0000\n",
            "\n",
            "Epoch 00028: val_loss improved from 0.00423 to 0.00402, saving model to /content/drive/My Drive/GazpromOil/trainsets/checkpoints/1_1_19/baseline_LSTM_model\n",
            "Epoch 29/32\n",
            "22/22 [==============================] - 32s 1s/step - loss: 0.0042 - acc: 1.0000 - val_loss: 0.0038 - val_acc: 1.0000\n",
            "\n",
            "Epoch 00029: val_loss improved from 0.00402 to 0.00380, saving model to /content/drive/My Drive/GazpromOil/trainsets/checkpoints/1_1_19/baseline_LSTM_model\n",
            "Epoch 30/32\n",
            "22/22 [==============================] - 32s 1s/step - loss: 0.0039 - acc: 1.0000 - val_loss: 0.0036 - val_acc: 1.0000\n",
            "\n",
            "Epoch 00030: val_loss improved from 0.00380 to 0.00359, saving model to /content/drive/My Drive/GazpromOil/trainsets/checkpoints/1_1_19/baseline_LSTM_model\n",
            "Epoch 31/32\n",
            "22/22 [==============================] - 32s 1s/step - loss: 0.0038 - acc: 1.0000 - val_loss: 0.0035 - val_acc: 1.0000\n",
            "\n",
            "Epoch 00031: val_loss improved from 0.00359 to 0.00345, saving model to /content/drive/My Drive/GazpromOil/trainsets/checkpoints/1_1_19/baseline_LSTM_model\n",
            "Epoch 32/32\n",
            "22/22 [==============================] - 32s 1s/step - loss: 0.0035 - acc: 1.0000 - val_loss: 0.0033 - val_acc: 1.0000\n",
            "\n",
            "Epoch 00032: val_loss improved from 0.00345 to 0.00329, saving model to /content/drive/My Drive/GazpromOil/trainsets/checkpoints/1_1_19/baseline_LSTM_model\n"
          ],
          "name": "stdout"
        },
        {
          "output_type": "display_data",
          "data": {
            "image/png": "[encoded data removed]",
            "text/plain": [
              "<Figure size 432x288 with 1 Axes>"
            ]
          },
          "metadata": {
            "tags": []
          }
        },
        {
          "output_type": "display_data",
          "data": {
            "image/png": "[encoded data removed]",
            "text/plain": [
              "<Figure size 432x288 with 1 Axes>"
            ]
          },
          "metadata": {
            "tags": []
          }
        },
        {
          "output_type": "display_data",
          "data": {
            "image/png": "[encoded data removed]",
            "text/plain": [
              "<Figure size 432x288 with 1 Axes>"
            ]
          },
          "metadata": {
            "tags": []
          }
        }
      ]
    },
    {
      "cell_type": "markdown",
      "metadata": {
        "id": "291tboIGdoGy",
        "colab_type": "text"
      },
      "source": [
        "# Playground"
      ]
    },
    {
      "cell_type": "code",
      "metadata": {
        "id": "ol9C48kSdq-1",
        "colab_type": "code",
        "colab": {}
      },
      "source": [
        "model=final_model\n",
        "\n",
        "\n",
        "row_no:int=0\n",
        "\n",
        "prediction_col_name='predicted_subj'\n",
        "model_validation_meta = trainset_meta[ trainset_meta['subject']!='?' ].copy()\n",
        "model_validation_meta[prediction_col_name]='?'\n",
        "model_validation_meta[prediction_col_name+\"_conf\"]=0.0\n",
        "model_validation_meta[prediction_col_name+\"_valid\"]=False\n",
        "\n",
        "for index, row in model_validation_meta.iterrows():\n",
        "  row_by_no = model_validation_meta.iloc[row_no]\n",
        "\n",
        "  _subj=row_by_no['subject']\n",
        "  _filename=row_by_no['pickle']   \n",
        "  \n",
        "  _emb = get_embeddings(_filename)  \n",
        "  _onehot = subject_name_1hot_map[ _subj ]\n",
        "\n",
        "  \n",
        "\n",
        "  result = model.predict( np.array( []+ [_emb]) )\n",
        "  max_i=result[0].argmax()\n",
        "  predicted_subj_name=ContractSubject(max_i).name\n",
        "\n",
        "  model_validation_meta[prediction_col_name][index]  = predicted_subj_name\n",
        "  model_validation_meta[prediction_col_name+\"_conf\"][index]  = result[0][max_i]\n",
        "  model_validation_meta[prediction_col_name+\"_valid\"][index]  = predicted_subj_name==_subj\n",
        "\n",
        "  print(row_no, index, _subj,'-->', predicted_subj_name, row_by_no['valid'], result[0][max_i] )\n",
        "  \n",
        "\n",
        "  if row_no%5==0:\n",
        "    model_validation_meta.to_csv(path.join(model_checkpoint_path, model.name)+'.csv', encoding='utf-8', index=True)\n",
        "    model_validation_meta.to_csv(  model.name+'.csv', encoding='utf-8', index=True)\n",
        "\n",
        "  row_no+=1\n",
        "\n",
        "  # if row_no > 21:\n",
        "  #   break\n",
        "\n",
        "model_validation_meta.to_csv(  model.name+'.csv', encoding='utf-8', index=True)"
      ],
      "execution_count": 0,
      "outputs": []
    },
    {
      "cell_type": "code",
      "metadata": {
        "id": "OeFg5UwjAw7h",
        "colab_type": "code",
        "colab": {}
      },
      "source": [
        "\n",
        "model_validation_meta[model_validation_meta[prediction_col_name] != '?']"
      ],
      "execution_count": 0,
      "outputs": []
    }
  ]
}