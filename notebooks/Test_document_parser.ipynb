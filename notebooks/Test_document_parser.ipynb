{
  "nbformat": 4,
  "nbformat_minor": 0,
  "metadata": {
    "colab": {
      "name": "Test document-parser.ipynb",
      "provenance": [],
      "include_colab_link": true
    },
    "kernelspec": {
      "name": "python3",
      "display_name": "Python 3"
    }
  },
  "cells": [
    {
      "cell_type": "markdown",
      "metadata": {
        "id": "view-in-github",
        "colab_type": "text"
      },
      "source": [
        "<a href=\"https://colab.research.google.com/github/nemoware/analyser/blob/dev/notebooks/Test_document_parser.ipynb\" target=\"_parent\"><img src=\"https://colab.research.google.com/assets/colab-badge.svg\" alt=\"Open In Colab\"/></a>"
      ]
    },
    {
      "cell_type": "code",
      "metadata": {
        "id": "ONkEsKP0Mwg7",
        "colab_type": "code",
        "colab": {}
      },
      "source": [
        "parser_version='1.1.5'\n",
        "!wget https://github.com/nemoware/document-parser/releases/download/$parser_version/document-parser-$parser_version-distribution.zip\n",
        "!unzip document-parser-$parser_version-distribution.zip"
      ],
      "execution_count": 0,
      "outputs": []
    },
    {
      "cell_type": "code",
      "metadata": {
        "id": "5EAji8z5aP9G",
        "colab_type": "code",
        "colab": {}
      },
      "source": [
        "FILENAME = '/content/Протокол_СД_ 3.docx'"
      ],
      "execution_count": 0,
      "outputs": []
    },
    {
      "cell_type": "code",
      "metadata": {
        "id": "eNlkLgy2VTtA",
        "colab_type": "code",
        "colab": {}
      },
      "source": [
        "import uuid\n",
        "from IPython.display import display_javascript, display_html, display\n",
        "import json\n",
        "\n",
        "class RenderJSON(object):\n",
        "    def __init__(self, json_data):\n",
        "        if isinstance(json_data, dict):\n",
        "            self.json_str = json.dumps(json_data)\n",
        "        else:\n",
        "            self.json_str = json_data\n",
        "        self.uuid = str(uuid.uuid4())\n",
        "\n",
        "    def _ipython_display_(self):\n",
        "        display_html('<div id=\"{}\" style=\"height: 600px; width:100%;\"></div>'.format(self.uuid), raw=True)\n",
        "        display_javascript(\"\"\"\n",
        "        require([\"https://rawgit.com/caldwell/renderjson/master/renderjson.js\"], function() {\n",
        "        document.getElementById('%s').appendChild(renderjson(%s))\n",
        "        });\n",
        "        \"\"\" % (self.uuid, self.json_str), raw=True)"
      ],
      "execution_count": 0,
      "outputs": []
    },
    {
      "cell_type": "code",
      "metadata": {
        "id": "ekcmNc_vl_aq",
        "colab_type": "code",
        "colab": {}
      },
      "source": [
        "import subprocess\n",
        "import os\n",
        " \n",
        "s=[\"java\", \"-cp\", f\"/content/document-parser-{parser_version}/classes:/content/document-parser-{parser_version}/lib/*\",\n",
        "   \"com.nemo.document.parser.App\", \"-i\", FILENAME]\n",
        "result = subprocess.run(s, stdout=subprocess.PIPE, encoding='utf-8')\n",
        "print(result.stdout)"
      ],
      "execution_count": 0,
      "outputs": []
    },
    {
      "cell_type": "code",
      "metadata": {
        "id": "jLROKQEXiG0r",
        "colab_type": "code",
        "colab": {}
      },
      "source": [
        "import json\n",
        "\n",
        "class bcolors:\n",
        "    HEADER = '\\033[95m'\n",
        "    OKBLUE = '\\033[94m'\n",
        "    OKGREEN = '\\033[92m'\n",
        "    WARNING = '\\033[93m'\n",
        "    FAIL = '\\033[91m'\n",
        "    ENDC = '\\033[0m'\n",
        "    BOLD = '\\033[1m'\n",
        "    UNDERLINE = '\\033[4m'\n",
        "\n",
        "res = json.loads(result.stdout)\n",
        "for doc in res['documents']:\n",
        "  print('^'*100)\n",
        "  for p in doc['paragraphs']:\n",
        "    print(bcolors.BOLD+bcolors.OKBLUE,  p['paragraphHeader']['text'], bcolors.ENDC)\n",
        "    print(p['paragraphBody']['text'])"
      ],
      "execution_count": 0,
      "outputs": []
    }
  ]
}