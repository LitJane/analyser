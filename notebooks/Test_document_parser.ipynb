{
  "nbformat": 4,
  "nbformat_minor": 0,
  "metadata": {
    "colab": {
      "name": "Test document-parser.ipynb",
      "version": "0.3.2",
      "provenance": [],
      "include_colab_link": true
    },
    "kernelspec": {
      "name": "python3",
      "display_name": "Python 3"
    }
  },
  "cells": [
    {
      "cell_type": "markdown",
      "metadata": {
        "id": "view-in-github",
        "colab_type": "text"
      },
      "source": [
        "<a href=\"https://colab.research.google.com/github/compartia/nlp_tools/blob/master/notebooks/Test_document_parser.ipynb\" target=\"_parent\"><img src=\"https://colab.research.google.com/assets/colab-badge.svg\" alt=\"Open In Colab\"/></a>"
      ]
    },
    {
      "cell_type": "code",
      "metadata": {
        "id": "ONkEsKP0Mwg7",
        "colab_type": "code",
        "colab": {}
      },
      "source": [
        "parser_version='1.0.5'\n",
        "!wget https://github.com/nemoware/document-parser/releases/download/$parser_version/document-parser-$parser_version-distribution.zip\n",
        "!unzip document-parser-$parser_version-distribution.zip"
      ],
      "execution_count": 0,
      "outputs": []
    },
    {
      "cell_type": "code",
      "metadata": {
        "id": "bXNt32I_O42f",
        "colab_type": "code",
        "colab": {}
      },
      "source": [
        "from google.colab import drive\n",
        "drive.mount('/content/gdrive', force_remount=True)"
      ],
      "execution_count": 0,
      "outputs": []
    },
    {
      "cell_type": "code",
      "metadata": {
        "id": "n8AZjgxqNBza",
        "colab_type": "code",
        "colab": {}
      },
      "source": [
        "!java -cp /content/document-parser-$parser_version/classes:/content/document-parser-$parser_version/lib/* com.nemo.document.parser.App -i '/content/gdrive/My Drive/GazpromOil/Contracts/6. ДОГОВОР аренда.docx'"
      ],
      "execution_count": 0,
      "outputs": []
    },
    {
      "cell_type": "code",
      "metadata": {
        "id": "ekcmNc_vl_aq",
        "colab_type": "code",
        "colab": {}
      },
      "source": [
        "import subprocess\n",
        "FN='2. Договор по благ-ти Радуга.docx'\n",
        "FILENAME = f\"/content/gdrive/My Drive/GazpromOil/Contracts/{FN}\"\n",
        "FILENAME = FILENAME.encode('utf-8')\n",
        "s=[\"java\", \"-cp\", f\"/content/document-parser-{parser_version}/classes:/content/document-parser-{parser_version}/lib/*\",\n",
        "   \"com.nemo.document.parser.App\", \"-i\", FILENAME]\n",
        "result = subprocess.run(s, stdout=subprocess.PIPE, encoding='utf-8')\n",
        "print(result.stdout)"
      ],
      "execution_count": 0,
      "outputs": []
    },
    {
      "cell_type": "code",
      "metadata": {
        "id": "jLROKQEXiG0r",
        "colab_type": "code",
        "colab": {}
      },
      "source": [
        "import json\n",
        "res = json.loads(result.stdout)\n",
        "\n",
        "for p in res['paragraphs']:\n",
        "  print('HEADER\\t',p['paragraphHeader'])\n",
        "  print(p['paragraphBody'])"
      ],
      "execution_count": 0,
      "outputs": []
    }
  ]
}