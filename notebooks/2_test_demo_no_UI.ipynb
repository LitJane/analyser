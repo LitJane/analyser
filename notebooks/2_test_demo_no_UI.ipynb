{
  "nbformat": 4,
  "nbformat_minor": 0,
  "metadata": {
    "colab": {
      "name": "2 test demo no UI.ipynb",
      "version": "0.3.2",
      "provenance": [],
      "collapsed_sections": [],
      "toc_visible": true,
      "include_colab_link": true
    },
    "kernelspec": {
      "name": "python3",
      "display_name": "Python 3"
    },
    "accelerator": "GPU"
  },
  "cells": [
    {
      "cell_type": "markdown",
      "metadata": {
        "id": "view-in-github",
        "colab_type": "text"
      },
      "source": [
        "<a href=\"https://colab.research.google.com/github/compartia/nlp_tools/blob/tensorflow-model/notebooks/2_test_demo_no_UI.ipynb\" target=\"_parent\"><img src=\"https://colab.research.google.com/assets/colab-badge.svg\" alt=\"Open In Colab\"/></a>"
      ]
    },
    {
      "cell_type": "code",
      "metadata": {
        "id": "vXHjbkIfc8Ws",
        "colab_type": "code",
        "colab": {}
      },
      "source": [
        "GLOBALS__={}"
      ],
      "execution_count": 0,
      "outputs": []
    },
    {
      "cell_type": "code",
      "metadata": {
        "id": "zGPbyfYp6nIq",
        "colab_type": "code",
        "colab": {
          "base_uri": "https://localhost:8080/",
          "height": 33
        },
        "outputId": "d4b951a4-36ad-4d70-b21a-e5cb82bc69e4"
      },
      "source": [
        "#@title Настройки { run: \"auto\", vertical-output: true, display-mode: \"form\" }\n",
        "USD_to_RUB = 20034.02 #@param {type:\"number\"}\n",
        "RUB_to_USD = 1.0/USD_to_RUB\n",
        "\n",
        "# print('USD_to_RUB=',USD_to_RUB)\n",
        "# print('RUB_to_USD=',RUB_to_USD)\n",
        "\n",
        "\n",
        "\n",
        "currency_converter = {\n",
        "  'USD': USD_to_RUB,\n",
        "  'RUB': 1.0\n",
        "}\n",
        "\n",
        "print(currency_converter)"
      ],
      "execution_count": 2,
      "outputs": [
        {
          "output_type": "stream",
          "text": [
            "{'USD': 20034.02, 'RUB': 1.0}\n"
          ],
          "name": "stdout"
        }
      ]
    },
    {
      "cell_type": "markdown",
      "metadata": {
        "id": "nwpPPXqRQs6-",
        "colab_type": "text"
      },
      "source": [
        "#MAIN"
      ]
    },
    {
      "cell_type": "code",
      "metadata": {
        "id": "-2Oe-BsTcCIW",
        "colab_type": "code",
        "colab": {}
      },
      "source": [
        "# @title Обработка документов { output-height: 800, form-width: \"300px\", display-mode: \"form\" }\n",
        "\n",
        "\n",
        "import os\n",
        "import sys\n",
        "\n",
        "\n",
        "def interactive_upload(filetype):\n",
        "  from google.colab import files\n",
        "  import docx2txt\n",
        "\n",
        "  print(f'Please select \"{filetype}\" .docx file:')\n",
        "  uploaded = files.upload()\n",
        "  docs = []\n",
        "  for fn in uploaded.keys():\n",
        "    print('User uploaded file \"{name}\" with length {length} bytes'.format(\n",
        "      name=fn, length=len(uploaded[fn])))\n",
        "\n",
        "    with open(fn, \"wb\") as df:\n",
        "      df.write(uploaded[fn])\n",
        "      df.close()\n",
        "\n",
        "    # extract text\n",
        "\n",
        "    text = ''\n",
        "    try:\n",
        "      text = docx2txt.process(fn)\n",
        "    except:\n",
        "      print(\"Unexpected error:\", sys.exc_info())\n",
        "      os.system('antiword -w 0 \"' + fn + '\" > \"' + fn + '.txt\"')\n",
        "      with open(fn + '.txt') as f:\n",
        "        text = f.read()\n",
        "    print(\"Символов в оригинальном документе:\", len(text))\n",
        "    docs.append(text)\n",
        "    return docs\n",
        "\n",
        "\n",
        "# ====================================\n",
        "# ====================================\n",
        "_git_branch = \"tensorflow-model\"  # @param {type:\"string\"}\n",
        "# ====================================\n",
        "# ====================================\n",
        "\n",
        "\n",
        "# ''' AZ:-IMPORT CODE GITHUB----------------------------------------------😺------ '''\n",
        "import sys\n",
        "\n",
        "\n",
        "def _init_import_code_from_gh():\n",
        "  if 'GLOBALS__' not in globals():\n",
        "    print('adding global GLOBALS__')\n",
        "    global GLOBALS__\n",
        "    GLOBALS__ = {}\n",
        "\n",
        "  if '_init_import_code_from_gh' in GLOBALS__:\n",
        "    print('👌 code already imported from GitHub!')\n",
        "    return\n",
        "\n",
        "  import subprocess\n",
        "  def exec(x):\n",
        "    r = subprocess.check_output(x, shell=True)\n",
        "    r = r.decode('unicode-escape').encode('latin1').decode('utf8')\n",
        "    print(r)\n",
        "\n",
        "  print(f\"fetching code from GitHub.....{_git_branch}\")\n",
        "  try:\n",
        "    exec('rm -r nlp_tools')\n",
        "  except:\n",
        "    pass\n",
        "  exec(f'git clone --single-branch --branch {_git_branch} https://github.com/compartia/nlp_tools.git nlp_tools')\n",
        "\n",
        "  print('🦊 GIT revision:')\n",
        "  exec('cd nlp_tools\\ngit rev-list --reverse HEAD | awk \"{ print NR }\" | tail -n 1\\ngit branch\\ngit log -3 --pretty=%B')\n",
        "\n",
        "  sys.path.insert(0, 'nlp_tools')\n",
        "\n",
        "  \n",
        "  print('code imported OK 👍')\n",
        "\n",
        "  print('installing antiword...')\n",
        "  exec('sudo apt-get install antiword')\n",
        "\n",
        "  print('installing docx2txt...')\n",
        "  exec(\"pip install docx2txt\")\n",
        "\n",
        "  GLOBALS__['_init_import_code_from_gh'] = True\n",
        "\n",
        "  ''' AZ:-------------------------------------------------IMPORT CODE GITHUB-😺---'''\n",
        "  print('❤️ DONE importing Code fro GitHub')\n",
        "\n",
        "\n",
        "# AZ:-INIT ELMO-----------------------------------------------------------------------------------\n",
        "\n",
        "import tensorflow as tf\n",
        "import tensorflow_hub as hub\n",
        "\n",
        "\n",
        "def _import_elmo():\n",
        "  \"\"\"\n",
        "  ACHTUNG!! this method is called later by ElmoEmbedder\n",
        "  \"\"\"\n",
        "\n",
        "  elmo = hub.Module('https://storage.googleapis.com/az-nlp/elmo_ru-news_wmt11-16_1.5M_steps.tar.gz',\n",
        "                    trainable=False)  # news\n",
        "  #   elmo = hub.Module('https://storage.googleapis.com/az-nlp/elmo_ru-twitter_2013-01_2018-04_600k_steps.tar.gz',\n",
        "  #                     trainable=False)  # twitter\n",
        "  print('❤️ ❤️ ❤️ DONE (re)importing Tensorflow hub.Module ')\n",
        "  print('Tensorflow version is', tf.__version__)\n",
        "\n",
        "  return elmo\n",
        "\n",
        "\n",
        "# AZ:-INIT EMBEDDER-----------------------------------------------------------------------------------\n",
        "\n",
        "def _init_embedder():\n",
        "  if 'elmo_embedder' in GLOBALS__:\n",
        "    print('👌 Embedder is already created! ')\n",
        "    return\n",
        "\n",
        "  from embedding_tools import ElmoEmbedder\n",
        "  GLOBALS__['elmo_embedder'] = ElmoEmbedder(_import_elmo(), tf, 'elmo', _import_elmo)\n",
        "\n",
        "  print('❤️ DONE creating words embedding model')\n",
        "  return GLOBALS__['elmo_embedder']\n",
        "\n",
        "\n",
        "# AZ:-Init chartes context-----------------------------------------------------------------------------------\n",
        "def _init_charters():\n",
        "  if 'CharterAnlysingContext' in GLOBALS__:\n",
        "    print('👌 Charters-related tools are already inited ')\n",
        "    return\n",
        "\n",
        "  _init_embedder()  # PRECONDITION\n",
        "  from charter_patterns import CharterPatternFactory\n",
        "  from charter_parser import CharterDocumentParser\n",
        "  CPF = CharterPatternFactory(GLOBALS__['elmo_embedder'])\n",
        "  GLOBALS__['CharterAnlysingContext'] = CharterDocumentParser(CPF)\n",
        "  print('❤️ DONE initing Charters-related tools and models ')\n",
        "\n",
        "\n",
        "def _init_contracts():\n",
        "  if 'ContractAnlysingContext' in GLOBALS__:\n",
        "    print('👌 Contracts-related tools are already inited ')\n",
        "    return\n",
        "\n",
        "  from contract_parser import ContractAnlysingContext\n",
        "  GLOBALS__['ContractAnlysingContext'] = ContractAnlysingContext(GLOBALS__['elmo_embedder'], GLOBALS__['renderer'])\n",
        "  print('❤️ DONE initing Contracts-related tools and models ')\n",
        "\n",
        "\n",
        "# AZ:- THE CODE----------------------------------------------------------------------------------\n",
        "from typing import List\n",
        "\n",
        "\n",
        "def _init_the_code(reset=False):\n",
        "  if '_init_the_code' in GLOBALS__ and not reset:\n",
        "    print('👌 Code is alredy imported!')\n",
        "    return\n",
        "\n",
        "  from transaction_values import ValueConstraint\n",
        "\n",
        "  import matplotlib as mpl\n",
        "  from IPython.core.display import display, HTML\n",
        "  import matplotlib.pyplot as plt\n",
        "  \n",
        "  from renderer import AbstractRenderer, HtmlRenderer, head_types_colors\n",
        "  from renderer import to_multicolor_text, as_headline_3, as_offset\n",
        "  from renderer import as_msg, as_quote, as_c_quote\n",
        "  from renderer import as_error_html, known_subjects_dict, v_color_map\n",
        "  from transaction_values import ValueConstraint\n",
        "  from parsing import head_types_dict, head_types\n",
        "  from legal_docs import PatternSearchResults, ConstraintsSearchResult, PatternSearchResult, CharterDocument\n",
        "  \n",
        "  import numpy as np\n",
        "  \n",
        "  from charter_patterns import known_subjects\n",
        "  from patterns import AV_SOFT, AV_PREFIX\n",
        "  from structures import ContractSubject\n",
        "  from contract_parser import ContractDocument3\n",
        "\n",
        "  def _as_smaller(txt):\n",
        "    return f'<div font-size:12px\">{txt}</div>'\n",
        " \n",
        "  \n",
        "      \n",
        "  class DemoRenderer(HtmlRenderer):\n",
        "\n",
        "    def render_color_text(self, tokens, weights, colormap='coolwarm', print_debug=False, _range=None):\n",
        "      print('render_color_text')\n",
        "      html = self.to_color_text(tokens, weights, colormap, print_debug, _range)\n",
        "      display(HTML(html))\n",
        "                \n",
        "\n",
        "    def to_color_text(self, tokens, weights, colormap='coolwarm', print_debug=False, _range=None):\n",
        "      if len(tokens) == 0:\n",
        "        return \" - empty -\"\n",
        "      if len(weights) != len(tokens):\n",
        "        raise ValueError(\"number of weights differs weights={} tokens={}\".format(len(weights), len(tokens)))\n",
        "\n",
        "      #   if()\n",
        "      vmin = weights.min()\n",
        "      vmax = weights.max()\n",
        "\n",
        "      if _range is not None:\n",
        "        vmin = _range[0]\n",
        "        vmax = _range[1]\n",
        "\n",
        "      if print_debug:\n",
        "        print(vmin, vmax)\n",
        "\n",
        "      norm = mpl.colors.Normalize(vmin=vmin - 0.5, vmax=vmax)\n",
        "      html = \"\"\n",
        "      cmap = mpl.cm.get_cmap(colormap)\n",
        "\n",
        "      for d in range(0, len(weights)):\n",
        "        word = tokens[d]\n",
        "        if word == ' ':\n",
        "          word = '&nbsp;_ '\n",
        "\n",
        "        html += '<span title=\"{} {:.4f}\" style=\"background-color:{}\">{} </span>'.format(\n",
        "          d,\n",
        "          weights[d],\n",
        "          mpl.colors.to_hex(cmap(norm(weights[d]))),\n",
        "          word)\n",
        "\n",
        "        #     html+='<span style=\"background-color:' +mpl.colors.to_hex(cmap(norm(weights[d]) ))+ '\">' + str(tokens[d]) + \" </span>\"\n",
        "        if tokens[d] == '\\n':\n",
        "          html += \"<br>\"\n",
        "\n",
        "      return html\n",
        "\n",
        "    ''' AZ:-Rendering CHARITY🔥-----💸------💸-------💸------------------------------'''\n",
        "    def render_multicolor_text(self, tokens, vectors, colormap, min_color=None, _slice=None):\n",
        "      display(HTML(to_multicolor_text(tokens, vectors, colormap, min_color=min_color, _slice=_slice)))\n",
        "\n",
        "    \n",
        "\n",
        "    ''' AZ:------💸------💸-------💸----------------------END--Rendering CHARITY🔥------'''\n",
        "\n",
        "    \n",
        "\n",
        "\n",
        "\n",
        "    def render_subj(self, contract: ContractDocument3):\n",
        "      subjects: List[ProbableValue] = contract.subjects\n",
        "\n",
        "      if len(subjects) > 0:\n",
        "        sorted_ = [y for y in sorted(subjects, key=lambda x: -x.confidence)]\n",
        "        subject_kind = sorted_[0].value\n",
        "        confidence = sorted_[0].confidence\n",
        "      else:\n",
        "        subject_kind = ContractSubject.Other\n",
        "\n",
        "      if subject_kind in known_subjects_dict:\n",
        "        rendering_name = known_subjects_dict[subject_kind]\n",
        "      else:\n",
        "        rendering_name = 'прочее'\n",
        "\n",
        "      display(\n",
        "        HTML(f'Предмет договора:'\n",
        "             f'<h3 style=\"margin:0\">{rendering_name}<sup> {subject_kind}</sup> </h3> '\n",
        "             f'confidence:{confidence:20,.2f}'))\n",
        "\n",
        "\n",
        "\n",
        "    def sign_to_text(self, sign: int):\n",
        "      if sign < 0: return \" &lt; \"\n",
        "      if sign > 0: return \" &gt; \"\n",
        "      return ' = '\n",
        "\n",
        "    def probable_value_to_html(self, pv):\n",
        "      vc = pv.value\n",
        "      color = '#333333'\n",
        "      if vc.sign > 0:\n",
        "        color = '#993300'\n",
        "      elif vc.sign < 0:\n",
        "        color = '#009933'\n",
        "\n",
        "      return f'<b style=\"color:{color}\">{self.sign_to_text(vc.sign)} {vc.currency} {vc.value:20,.2f} confidence={pv.confidence:20,.2f}</b> '\n",
        "\n",
        "    def render_contents(self, doc):\n",
        "      html = as_headline_3('Выявленное Содержание документа')\n",
        "      html += \"<ul>\"\n",
        "      for i in doc.structure.headline_indexes:\n",
        "        line = doc.structure.structure[i].to_string(doc.tokens_cc)\n",
        "        html += f'<li> {line} <sup>line {i}</sup></li>'\n",
        "      html += \"</ul>\"\n",
        "\n",
        "      display(HTML(html))\n",
        "\n",
        "    def render_sections(self, sections):\n",
        "      from legal_docs import HeadlineMeta\n",
        "      html = as_headline_3('Выявленное секции документа')\n",
        "      html += \"<ul>\"\n",
        "      for section_type in sections:\n",
        "        section: HeadlineMeta = sections[section_type]\n",
        "        body = section.body.untokenize_cc()[:1000]\n",
        "        headline = section.subdoc.untokenize_cc()[:500]\n",
        "        #     line = doc.structure.structure[i].to_string(doc.tokens_cc)\n",
        "        html += f'<li><h3> {headline} <sup>type: {section_type}</sup> </h3> <p>{body}</p> </li>'\n",
        "      html += \"</ul>\"\n",
        "\n",
        "      display(HTML(html))\n",
        "\n",
        "    def render_values(self, values):\n",
        "      if len(values) > 0:\n",
        "        for pv in values:\n",
        "          h = self.probable_value_to_html(pv)\n",
        "          display(HTML(h))\n",
        "      else:\n",
        "        display(HTML('сумма не найдена'))\n",
        "\n",
        "    def render_value_section_details(self, value_section_info):\n",
        "      value_section = value_section_info.body\n",
        "      headline_doc = value_section_info.subdoc\n",
        "\n",
        "      headline = headline_doc.untokenize_cc()\n",
        "\n",
        "      v_names = {\n",
        "        'value_attention_vector',\n",
        "        'novalue_attention_vector',\n",
        "\n",
        "        'novalue_attention_vector_local_contrast',\n",
        "        'value_attention_vector_tuned'}\n",
        "\n",
        "      fig = plt.figure(figsize=(20, 6))\n",
        "      ax = plt.axes()\n",
        "      for vector_name in v_names:\n",
        "        ax.plot(value_section.distances_per_pattern_dict[vector_name], label=vector_name, alpha=0.4)\n",
        "\n",
        "      ax.plot(value_section.distances_per_pattern_dict['value_attention_vector_tuned'], label='value_attention result',\n",
        "              alpha=0.9, color='black')\n",
        "      plt.legend(loc='upper right')\n",
        "\n",
        "      text = self.to_color_text(value_section.tokens_cc,\n",
        "                                value_section.distances_per_pattern_dict['value_attention_vector_tuned'], _range=(0, 1))\n",
        "      html = f'{ as_headline_3(headline)} <div style=\"margin-left:4em; font-size=90%\">{text}</div>'\n",
        "      display(HTML(html))\n",
        "\n",
        "     \n",
        "    def render_charter_parsing_results_2(self, charter):\n",
        "      display(HTML(self.charter_parsing_results_to_html(charter)))\n",
        "      \n",
        "    def render_charter_parsing_results(self, doc, org, rz, charity_constraints):\n",
        "      WARN = '\\033[1;31m======== Dear Artem, ACHTUNG! 🔞 '\n",
        "      print (WARN+f\"use {self.render_charter_parsing_results} is deprecated\")\n",
        "      txt_html = self.to_color_text(org['tokens'], org['attention_vector'], _range=[0, 1])\n",
        "\n",
        "      html = '<div style=\"background:#eeeeff; padding:0.5em\"> recognized NE(s): <br><br> org type:<h3 style=\"margin:0\">  {} </h3>org full name:<h2 style=\"margin:0\">  {} </h2> <br>quote: <div style=\"font-size:90%; background:white\">{}</div> </div>'.format(\n",
        "        org['type_name'], org['name'], txt_html)\n",
        "      # html+=txt_html\n",
        "      html += self.render_constraint_values(doc, rz, charity_constraints)\n",
        "\n",
        "      display(HTML(html))\n",
        "\n",
        " \n",
        "\n",
        "     \n",
        "\n",
        "    \n",
        " \n",
        "\n",
        "  GLOBALS__['renderer'] = DemoRenderer()\n",
        "\n",
        "  # AZ:----------PROTOCOLS RENDERER-------------------------\n",
        "\n",
        "  from legal_docs import LegalDocument\n",
        "\n",
        "  import matplotlib as mpl\n",
        "  from IPython.core.display import display, HTML\n",
        "  from renderer import as_headline_3, as_headline_4\n",
        "  \n",
        "  class ProtocolRenderer(DemoRenderer):\n",
        "\n",
        "    def winning_patterns_to_html(self, _tokens, ranges, winning_patterns, _range,\n",
        "                                 colormaps=['Reds', 'Purples', 'Blues', 'Greens', 'Greys']):\n",
        "      vmin = -ranges[1]\n",
        "      vmax = -ranges[0]\n",
        "\n",
        "      #     print(\"winning_patterns_to_html _range\", _range, \"min max=\", ranges)\n",
        "\n",
        "      norm = mpl.colors.Normalize(vmax=vmax, vmin=vmin)\n",
        "\n",
        "      cmaps = []\n",
        "\n",
        "      #     print (colormaps)\n",
        "      for n in colormaps:\n",
        "        cmap = mpl.cm.get_cmap(n)\n",
        "        cmaps.append(cmap)\n",
        "\n",
        "      html = \"\"\n",
        "\n",
        "      for d in _range:\n",
        "        winning_pattern_i = winning_patterns[d][0]\n",
        "        colormap = cmaps[winning_pattern_i % len(colormaps)]\n",
        "        normed = norm(-winning_patterns[d][1])\n",
        "        color = mpl.colors.to_hex(colormap(normed))\n",
        "        html += '<span title=\"' + '{} {:.2f}'.format(d, winning_patterns[d][\n",
        "          1]) + '\" style=\"background-color:' + color + '\">' + str(\n",
        "          _tokens[d]) + \" </span>\"\n",
        "        if _tokens[d] == '\\n':\n",
        "          html += \"<br>\"\n",
        "\n",
        "      return html\n",
        "\n",
        "    def _render_doc_subject_fragments(self, doc):\n",
        "      #     print(doc.per_subject_distances)\n",
        "\n",
        "      _html = \"\"\n",
        "      if doc.per_subject_distances is not None:\n",
        "\n",
        "        type = \"Договор  благотворительного пожертвования\"\n",
        "        if doc.per_subject_distances[0] > doc.per_subject_distances[1]:\n",
        "          type = \"Договор возмездного оказания услуг\"\n",
        "\n",
        "        _html += \"<h3>\" + type + \"</h3>\"\n",
        "\n",
        "        colormaps = ['PuRd'] * 5 + ['Blues'] * 7 + ['Greys']\n",
        "\n",
        "        _html += as_headline_4('Предмет договора')\n",
        "\n",
        "        for region in [doc.subj_range]:\n",
        "          _html += self.winning_patterns_to_html(_tokens=doc.tokens, ranges=doc.subj_ranges,\n",
        "                                                 winning_patterns=doc.winning_subj_patterns, _range=region,\n",
        "                                                 colormaps=colormaps)\n",
        "\n",
        "      return _html\n",
        "\n",
        "    def render_subject(self, counter):\n",
        "      html = as_headline_3('Предмет документа (X):') + self.subject_type_weights_to_html(counter)\n",
        "      display(HTML(html))\n",
        "\n",
        "    def print_results(self, _doc: LegalDocument, results=None):\n",
        "\n",
        "      if results is None:\n",
        "        results = _doc.found_sum\n",
        "\n",
        "      result, (start, end), sentence, meta = results\n",
        "\n",
        "      html = \"<hr>\"\n",
        "\n",
        "      html += self._render_doc_subject_fragments(_doc)\n",
        "\n",
        "      if result is None:\n",
        "        html += '<h2 style=\"color:red\">СУММА НЕ НАЙДЕНА</h2>'\n",
        "      else:\n",
        "        html += '<h2>' + str(result[0]) + ' ' + str(result[1]) + '</h2>'\n",
        "\n",
        "      for key in meta.keys():\n",
        "        html += '<div style=\"font-size:9px\">' + str(key) + \" = \" + str(meta[key]) + \"</div>\"\n",
        "\n",
        "      display(HTML(html))\n",
        "      self.render_color_text(_doc.tokens[start:end], _doc.sums[start:end])\n",
        "\n",
        "    def subject_type_weights_to_html(self, counter):\n",
        "      dict = {\n",
        "        't_dea': 'Сделка',\n",
        "        't_cha': 'Благотворительность',\n",
        "        't_org': 'Организационные решения'\n",
        "      }\n",
        "\n",
        "      maxkey = \"None\"\n",
        "      for key in dict:\n",
        "        if counter[key] > counter[maxkey]:\n",
        "          maxkey = key\n",
        "\n",
        "      html = \"\"\n",
        "      for key in dict:\n",
        "        templ = \"<div>{}: {}</div>\"\n",
        "        if key == maxkey:\n",
        "          templ = '<b style=\"font-size:135%; color:maroon\">{}: {}</b>'\n",
        "        html += templ.format(counter[key], dict[key])\n",
        "\n",
        "      return html\n",
        "\n",
        "  GLOBALS__['ProtocolRenderer'] = ProtocolRenderer()\n",
        "\n",
        "  from demo_protocols import ProtocolAnlysingContext\n",
        "  GLOBALS__['ProtocolAnlysingContext'] = ProtocolAnlysingContext(GLOBALS__['elmo_embedder'], GLOBALS__['ProtocolRenderer'])\n",
        "  GLOBALS__['_init_the_code'] = True\n",
        "\n",
        "  # AZ:-------------------------------------------------Init Protocols context===\n",
        "\n",
        "  # AZ:-------------------------------------------------Init Charters context====\n",
        "\n",
        "  def read_doc(fn):\n",
        "    import docx2txt, sys, os\n",
        "    text = ''\n",
        "    try:\n",
        "      text = docx2txt.process(fn)\n",
        "    except:\n",
        "      print(\"Unexpected error:\", sys.exc_info())\n",
        "      os.system('antiword -w 0 \"' + fn + '\" > \"' + fn + '.txt\"')\n",
        "      with open(fn + '.txt') as f:\n",
        "        text = f.read()\n",
        "\n",
        "    return text\n",
        "\n",
        "  GLOBALS__['read_doc'] = read_doc\n",
        "\n",
        "  print(\"❤️ DONE initializing the code\")\n",
        "\n",
        "\n",
        "# AZ:-FINDING_VIOLATIONS--------------------------------------------------------\n",
        "def find_and_show_violations():\n",
        "  from IPython.core.display import display, HTML\n",
        "\n",
        "  from contract_parser import ContractAnlysingContext\n",
        "  from renderer import as_headline_2, as_error_html\n",
        "\n",
        "  print('Поиск нарушений')\n",
        "\n",
        "  charterAnlysingContext: CharterAnlysingContext = GLOBALS__['CharterAnlysingContext']\n",
        "  contractAnlysingContext: ContractAnlysingContext = GLOBALS__['ContractAnlysingContext']\n",
        "\n",
        "  contract = contractAnlysingContext.contract\n",
        "  charter = charterAnlysingContext.doc\n",
        "  charter_constraints = charterAnlysingContext.constraints  # XXX: move to doc\n",
        "\n",
        "  renderer = GLOBALS__['renderer']\n",
        "  renderer.render_subj(contract)\n",
        "\n",
        "  import copy\n",
        "\n",
        "  def convert(v):\n",
        "    v_converted = copy.copy(v)\n",
        "    if v.currency in currency_converter:\n",
        "      v_converted.value = currency_converter[v.currency] * v.value\n",
        "      v_converted.currency = 'RUB'\n",
        "      return v_converted\n",
        "    else:\n",
        "      display(HTML(as_error_html(\n",
        "        f\"мы не в настроении (пока) конвертировать {v.currency} --> RUB. Это вообще валюта какой страны? Румынии?\")))\n",
        "      return v\n",
        "\n",
        "  best_value = contractAnlysingContext.find_contract_best_value(convert)\n",
        "\n",
        "  # rendering:----------------------------\n",
        "\n",
        "  def _render_violations(ranges_by_group, best_value):\n",
        "    for group_key in ranges_by_group:\n",
        "      group = ranges_by_group[group_key]\n",
        "      display(HTML(as_headline_2(group['name'])))\n",
        "\n",
        "      for rk in group['ranges']:\n",
        "        r = group['ranges'][rk]\n",
        "        display(HTML(r.check_contract_value(best_value, convert, renderer)))\n",
        "\n",
        "  print(\"Сумма Договора:\")\n",
        "  renderer.render_values([best_value])\n",
        "  renderer.render_color_text(best_value.value.context.tokens, best_value.value.context.attention, _range=[0, 1])\n",
        "\n",
        "  _render_violations(\n",
        "    charterAnlysingContext.find_ranges_by_group(charter_constraints, convert, verbose=False),\n",
        "    best_value)\n",
        "\n",
        "#   display(HTML(renderer.render_constraint_values(charter_constraints)))\n",
        "\n",
        "\n",
        "# AZ:--------------------------------------------------------FINDING_VIOLATIONS-\n",
        "\n",
        "# AZ:- ENDO OF THE THE CODE------------------------------------------------XXXXX\n",
        "# AZ:- ENDO OF THE THE CODE------------------------------------------------XXXXX\n",
        "# AZ:- ENDO OF THE THE CODE------------------------------------------------XXXXX\n",
        "# AZ:- ENDO OF THE THE CODE------------------------------------------------XXXX"
      ],
      "execution_count": 0,
      "outputs": []
    },
    {
      "cell_type": "markdown",
      "metadata": {
        "id": "YhjI5YF61cpd",
        "colab_type": "text"
      },
      "source": [
        "# step 0. Инит всега"
      ]
    },
    {
      "cell_type": "code",
      "metadata": {
        "id": "6BnrLv2k1iVq",
        "colab_type": "code",
        "colab": {
          "base_uri": "https://localhost:8080/",
          "height": 915
        },
        "outputId": "0e151748-b2e2-41df-bd56-6b7034c18203"
      },
      "source": [
        "## do preparation here\n",
        "\n",
        "# 1.\n",
        "_init_import_code_from_gh()\n",
        "# 2.\n",
        "_init_embedder()\n",
        "# 3.\n",
        "_init_the_code()\n",
        "4.\n",
        "_init_charters()\n",
        "# 5.\n",
        "_init_contracts()"
      ],
      "execution_count": 4,
      "outputs": [
        {
          "output_type": "stream",
          "text": [
            "fetching code from GitHub.....tensorflow-model\n",
            "\n",
            "\n",
            "🦊 GIT revision:\n",
            "448\n",
            "* tensorflow-model\n",
            "Created using Colaboratory\n",
            "Merge branch 'master' into tensorflow-model\n",
            "\n",
            "# Conflicts:\n",
            "#\tlegal_docs.py\n",
            "\n",
            "Merge remote-tracking branch 'origin/tensorflow-model' into tensorflow-model\n",
            "\n",
            "# Conflicts:\n",
            "#\tnotebooks/Search_patterns_right_in_TF.ipynb\n",
            "\n",
            "\n",
            "code imported OK 👍\n",
            "installing antiword...\n",
            "Reading package lists...\n",
            "Building dependency tree...\n",
            "Reading state information...\n",
            "antiword is already the newest version (0.37-11build1).\n",
            "The following package was automatically installed and is no longer required:\n",
            "  libnvidia-common-410\n",
            "Use 'sudo apt autoremove' to remove it.\n",
            "0 upgraded, 0 newly installed, 0 to remove and 4 not upgraded.\n",
            "\n",
            "installing docx2txt...\n",
            "Requirement already satisfied: docx2txt in /usr/local/lib/python3.6/dist-packages (0.8)\n",
            "\n",
            "❤️ DONE importing Code fro GitHub\n",
            "[nltk_data] Downloading package punkt to /root/nltk_data...\n",
            "[nltk_data]   Package punkt is already up-to-date!\n"
          ],
          "name": "stdout"
        },
        {
          "output_type": "stream",
          "text": [
            "WARNING: Logging before flag parsing goes to stderr.\n",
            "W0709 08:32:30.422722 140167165036416 deprecation_wrapper.py:119] From nlp_tools/embedding_tools.py:109: The name tf.ConfigProto is deprecated. Please use tf.compat.v1.ConfigProto instead.\n",
            "\n",
            "W0709 08:32:30.423968 140167165036416 deprecation_wrapper.py:119] From nlp_tools/embedding_tools.py:116: The name tf.Session is deprecated. Please use tf.compat.v1.Session instead.\n",
            "\n"
          ],
          "name": "stderr"
        },
        {
          "output_type": "stream",
          "text": [
            "❤️ ❤️ ❤️ DONE (re)importing Tensorflow hub.Module \n",
            "Tensorflow version is 1.14.0\n",
            "❤️ DONE creating words embedding model\n",
            "<nltk.tokenize.punkt.PunktSentenceTokenizer object at 0x7f7adbebaba8>\n",
            "❤️ DONE initializing the code\n",
            "👌 Embedder is already created! \n",
            "🐌 Embedding 871 words... it takes time (☕️?)..\n"
          ],
          "name": "stdout"
        },
        {
          "output_type": "stream",
          "text": [
            "W0709 08:32:32.266366 140167165036416 deprecation_wrapper.py:119] From nlp_tools/embedding_tools.py:132: The name tf.global_variables_initializer is deprecated. Please use tf.compat.v1.global_variables_initializer instead.\n",
            "\n"
          ],
          "name": "stderr"
        },
        {
          "output_type": "stream",
          "text": [
            "Embedding complete 🐌 ; the shape is (83, 20, 1024)\n",
            "❤️ DONE initing Charters-related tools and models \n",
            "🐌 Embedding 513 words... it takes time (☕️?)..\n",
            "Embedding complete 🐌 ; the shape is (61, 33, 1024)\n",
            "❤️ DONE initing Contracts-related tools and models \n"
          ],
          "name": "stdout"
        }
      ]
    },
    {
      "cell_type": "markdown",
      "metadata": {
        "id": "zNNi8ZkbzLwx",
        "colab_type": "text"
      },
      "source": [
        "# step 1. Устафф"
      ]
    },
    {
      "cell_type": "code",
      "metadata": {
        "id": "z2rA1VotgOSo",
        "colab_type": "code",
        "colab": {}
      },
      "source": [
        "uploaded = interactive_upload('Устафф, он лёххх, но подумафф он осознал, что он не такой уж и Лёхх')\n",
        "\n",
        "_CTX = GLOBALS__['CharterAnlysingContext']\n",
        "_CTX.verbosity_level=2\n",
        "_CTX.analyze_charter(uploaded[0], True)\n",
        "\n",
        "\n",
        "GLOBALS__['renderer'].render_charter_parsing_results_2(_CTX.charter)\n",
        "GLOBALS__['renderer'].render_contents(_CTX.doc)\n"
      ],
      "execution_count": 0,
      "outputs": []
    },
    {
      "cell_type": "code",
      "metadata": {
        "id": "olVwh_GqMs52",
        "colab_type": "code",
        "colab": {}
      },
      "source": [
        "# GLOBALS__['renderer'].render_charter_parsing_results(_CTX.doc, _CTX.org, _CTX.constraints, _CTX.charity_constraints)\n",
        "# _CTX.charter._constraints[0].__dict__\n",
        "for c in GLOBALS__['CharterAnlysingContext'].charter._constraints:\n",
        "  print(c.__dict__)\n",
        "\n"
      ],
      "execution_count": 0,
      "outputs": []
    },
    {
      "cell_type": "code",
      "metadata": {
        "id": "7OFOIGEs5pZC",
        "colab_type": "code",
        "colab": {}
      },
      "source": [
        "## NEW\n",
        "# del(GLOBALS__['_init_the_code'] )\n",
        "_init_the_code(True)\n",
        "GLOBALS__['renderer'].render_charter_parsing_results_2(_CTX.charter)\n",
        "# GLOBALS__['renderer'].render_contents(_CTX.doc)"
      ],
      "execution_count": 0,
      "outputs": []
    },
    {
      "cell_type": "code",
      "metadata": {
        "id": "slIYoTxBAkNN",
        "colab_type": "code",
        "colab": {}
      },
      "source": [
        "GLOBALS__['renderer'].render_charter_parsing_results(_CTX.doc, _CTX.org, _CTX.constraints, _CTX.charity_constraints)\n",
        "# GLOBALS__['renderer'].render_contents(_CTX.doc)"
      ],
      "execution_count": 0,
      "outputs": []
    },
    {
      "cell_type": "code",
      "metadata": {
        "id": "9fV5mnSXciKX",
        "colab_type": "code",
        "colab": {}
      },
      "source": [
        "GLOBALS__['CharterAnlysingContext'].constraints['head.directors'][0].__dict__"
      ],
      "execution_count": 0,
      "outputs": []
    },
    {
      "cell_type": "markdown",
      "metadata": {
        "id": "SnsM7Qzwci1J",
        "colab_type": "text"
      },
      "source": [
        "### tests, experiments"
      ]
    },
    {
      "cell_type": "code",
      "metadata": {
        "id": "ycJrZCWAFEXw",
        "colab_type": "code",
        "colab": {}
      },
      "source": [
        "if False:\n",
        "  GLOBALS__['CharterAnlysingContext'].verbosity_level=2\n",
        "  org, rz = GLOBALS__['CharterAnlysingContext'].analyze_charter(text, True)\n",
        "  doc = GLOBALS__['CharterAnlysingContext'].doc\n",
        "  charity_constraints = GLOBALS__['CharterAnlysingContext'].charity_constraints\n",
        "  org = GLOBALS__['CharterAnlysingContext'].org\n",
        "\n",
        "\n",
        "  GLOBALS__['renderer'].render_contents(doc)\n",
        "  GLOBALS__['renderer'].render_charter_parsing_results(doc, org, rz)"
      ],
      "execution_count": 0,
      "outputs": []
    },
    {
      "cell_type": "code",
      "metadata": {
        "id": "ejjvjf3I4SWj",
        "colab_type": "code",
        "colab": {}
      },
      "source": [
        "str(_CTX.constraints['head.all'][0].subdoc.subject_mapping[\"subj\"])"
      ],
      "execution_count": 0,
      "outputs": []
    },
    {
      "cell_type": "code",
      "metadata": {
        "id": "J_CqKEG514Xf",
        "colab_type": "code",
        "colab": {}
      },
      "source": [
        ""
      ],
      "execution_count": 0,
      "outputs": []
    },
    {
      "cell_type": "markdown",
      "metadata": {
        "id": "JVPCRaSAmYHt",
        "colab_type": "text"
      },
      "source": [
        "## 👞 Constraint type detection"
      ]
    },
    {
      "cell_type": "markdown",
      "metadata": {
        "id": "RpYvYObHBAxc",
        "colab_type": "text"
      },
      "source": [
        "### Factory extension (careful)"
      ]
    },
    {
      "cell_type": "code",
      "metadata": {
        "id": "ZJxb5ytdYI_-",
        "colab_type": "code",
        "colab": {}
      },
      "source": [
        ""
      ],
      "execution_count": 0,
      "outputs": []
    },
    {
      "cell_type": "code",
      "metadata": {
        "id": "1r41cS5RCxcv",
        "colab_type": "code",
        "colab": {}
      },
      "source": [
        "def build_lawsuit_patterns(factory):\n",
        "  def cp(name, tuples):\n",
        "    return factory.create_pattern(name, tuples)\n",
        "\n",
        "#   cp('x_lawsuit_4', ('начало/урегулирование любых', 'судебных', \n",
        "#                 'споров, подписание мирового соглашения, признание иска, отказ от иска, а также любые другие  ',\n",
        "#                       ))\n",
        "\n",
        "#   cp('x_lawsuit_3', ('судебных споров, цена ',\n",
        "#                        'иска',\n",
        "#                        'по которым превышает'))\n",
        "  cp('x_lawsuit_6', ( 'принятие решения об осуществлении следующих действий и решений , связанных со', 'спорами', 'Общества с Органами государственной власти , на суммы '  ))\n",
        "  \n",
        "  \n",
        " \n",
        "  \n",
        "  \n",
        "build_lawsuit_patterns(GLOBALS__['CharterAnlysingContext'].pattern_factory)\n",
        "GLOBALS__['CharterAnlysingContext'].pattern_factory.embedd()"
      ],
      "execution_count": 0,
      "outputs": []
    },
    {
      "cell_type": "code",
      "metadata": {
        "colab_type": "code",
        "id": "YY3e0XMpYL-V",
        "colab": {}
      },
      "source": [
        "raise sure?\n",
        "\n",
        "# def build_realestate_patterns(factory):\n",
        "#   def cp(name, tuples):\n",
        "#     return factory.create_pattern(name, tuples)\n",
        "\n",
        "#   cp('x_realestate_1', ('отчуждению активов общества ( включая', 'недвижимость', '',))\n",
        "\n",
        "#   cp('x_realestate_2', ('судебных споров, цена ',\n",
        "#                        'иска',\n",
        "#                        'по которым превышает'))\n",
        " \n",
        "  \n",
        "  \n",
        "# build_realestate_patterns(GLOBALS__['CharterAnlysingContext'].pattern_factory)\n",
        "# GLOBALS__['CharterAnlysingContext'].pattern_factory.embedd()"
      ],
      "execution_count": 0,
      "outputs": []
    },
    {
      "cell_type": "code",
      "metadata": {
        "id": "zDgF5nNkLZ88",
        "colab_type": "code",
        "colab": {}
      },
      "source": [
        "# def build_incl_patterns(factory):\n",
        "#   def cp(name, tuples):\n",
        "#     return factory.create_pattern(name, tuples)\n",
        "\n",
        "#   cp('x_exclusive_1', ('', 'исключая', 'сделки'))\n",
        "\n",
        "#   cp('x_inclusive_1', ('', 'включая', 'сделки'))\n",
        "  \n",
        "# build_incl_patterns(GLOBALS__['CharterAnlysingContext'].pattern_factory)\n",
        "# GLOBALS__['CharterAnlysingContext'].pattern_factory.embedd()"
      ],
      "execution_count": 0,
      "outputs": []
    },
    {
      "cell_type": "code",
      "metadata": {
        "id": "EAreL6ew6Nh5",
        "colab_type": "code",
        "colab": {}
      },
      "source": [
        "_init_the_code(True)"
      ],
      "execution_count": 0,
      "outputs": []
    },
    {
      "cell_type": "code",
      "metadata": {
        "id": "T6wc-fUn0aek",
        "colab_type": "code",
        "colab": {}
      },
      "source": [
        "from IPython.core.display import display, HTML\n",
        "\n",
        "CH_CTX=GLOBALS__['CharterAnlysingContext']\n",
        "\n",
        "from charter_patterns import find_sentences_by_pattern_prefix\n",
        "\n",
        "a:dict = find_sentences_by_pattern_prefix(  CH_CTX.pattern_factory, CH_CTX._get_head_sections(), 'x_charity_')\n",
        "b:dict = find_sentences_by_pattern_prefix(  CH_CTX.pattern_factory, CH_CTX._get_head_sections(), 'sum__')\n",
        "lawsuits = find_sentences_by_pattern_prefix(  CH_CTX.pattern_factory, CH_CTX._get_head_sections(), 'x_lawsuit_')\n",
        "  \n",
        "def merge_quotes_by_head_type (a, b):\n",
        "  res={}\n",
        "  for head in a:\n",
        "    res[head] = a[head]+b[head]\n",
        "  return res\n",
        "  \n",
        "merged=merge_quotes_by_head_type(a, b)\n",
        "merged=merge_quotes_by_head_type(merged, lawsuits)\n",
        "# soft$.$at_sum__\n",
        "for head in merged:\n",
        "  print(CH_CTX.doc.sections[head].body.distances_per_pattern_dict.keys())\n",
        "  html = GLOBALS__['renderer'].html_charity_constraints_by_head(merged[head] )\n",
        "  display(HTML(html))"
      ],
      "execution_count": 0,
      "outputs": []
    },
    {
      "cell_type": "code",
      "metadata": {
        "colab_type": "code",
        "id": "S70aM1xD2zLN",
        "colab": {}
      },
      "source": [
        "from IPython.core.display import display, HTML\n",
        "_init_the_code(True)\n",
        "CH_CTX=GLOBALS__['CharterAnlysingContext']\n",
        "\n",
        "from charter_patterns import find_sentences_by_pattern_prefix\n",
        "realestates = find_sentences_by_pattern_prefix( CH_CTX.pattern_factory, CH_CTX._get_head_sections(), 'sum__')\n",
        "  \n",
        "\n",
        "for head in lawsuits:\n",
        "  html = GLOBALS__['renderer'].html_charity_constraints_by_head(realestates[head] )\n",
        "  display(HTML(html))"
      ],
      "execution_count": 0,
      "outputs": []
    },
    {
      "cell_type": "code",
      "metadata": {
        "colab_type": "code",
        "id": "JQWRoJf_OfS7",
        "colab": {}
      },
      "source": [
        "from IPython.core.display import display, HTML\n",
        "\n",
        "CH_CTX=GLOBALS__['CharterAnlysingContext']\n",
        "\n",
        "from charter_patterns import find_sentences_by_pattern_prefix\n",
        "lawsuits = find_sentences_by_pattern_prefix( CH_CTX.pattern_factory, CH_CTX._get_head_sections(), 'x_ContractSubject.RealEstate')\n",
        "  \n",
        " \n",
        "  \n",
        "# soft$.$at_sum__\n",
        "for head in lawsuits:\n",
        "  print(CH_CTX.doc.sections[head].body.distances_per_pattern_dict.keys())\n",
        "  html = GLOBALS__['renderer'].html_charity_constraints_by_head(lawsuits[head] )\n",
        "  display(HTML(html))"
      ],
      "execution_count": 0,
      "outputs": []
    },
    {
      "cell_type": "code",
      "metadata": {
        "id": "6C5LhlUp0Jln",
        "colab_type": "code",
        "colab": {}
      },
      "source": [
        "\n",
        "from legal_docs import ConstraintsSearchResult, PatternSearchResult\n",
        "from IPython.core.display import display, HTML\n",
        "from renderer import as_quote, to_multicolor_text\n",
        " \n",
        "\n",
        "CH_CTX=GLOBALS__['CharterAnlysingContext']\n",
        "\n",
        "\n",
        "def estimate_confidence(vector):\n",
        "  sum_ = sum(vector)\n",
        "  _max = np.max( np.nonzero(vector) )\n",
        "  nonzeros_count = len(np.nonzero(vector)[0])\n",
        "  confidence = 0\n",
        "\n",
        "  if nonzeros_count > 0:\n",
        "    confidence = sum_ / nonzeros_count\n",
        "    \n",
        "  return confidence, sum_, nonzeros_count,  _max\n",
        "\n",
        "for constraints in CH_CTX.constraints['head.directors']:\n",
        "  html =GLOBALS__['renderer']._render_sentence(constraints)\n",
        "  display(HTML(html))\n",
        "  context:PatternSearchResult = constraints.subdoc\n",
        "  print(context.confidence)\n",
        "  print(context.pattern_prefix)\n",
        "  print(context.tokens)\n",
        "#   'soft$.$at_x_realestate_'\n",
        "  confidence, sum_, nonzeros_count, _max = estimate_confidence(context.get_attention())\n",
        "  print(f'confidence={confidence:.4f} \\t sum_{sum_} \\t nonzeros_count={nonzeros_count} \\t_max={_max:.4f}')\n",
        "  \n",
        "  GLOBALS__['renderer'].render_color_text(context.tokens, context.get_attention('soft$.$at_x_realestate_'), _range=[0,1])"
      ],
      "execution_count": 0,
      "outputs": []
    },
    {
      "cell_type": "code",
      "metadata": {
        "id": "XtXmlhVD8uIB",
        "colab_type": "code",
        "colab": {}
      },
      "source": [
        ""
      ],
      "execution_count": 0,
      "outputs": []
    },
    {
      "cell_type": "code",
      "metadata": {
        "id": "2qD6gSJ_1rQH",
        "colab_type": "code",
        "colab": {}
      },
      "source": [
        "from legal_docs import calculate_distances_per_pattern\n",
        "from ml_tools import *\n",
        "from patterns import *\n",
        "\n",
        "#XXX: renamed from find_charity_sentences\n",
        "\n",
        "\n",
        "  \n",
        " \n",
        "\n",
        "###-----test\n",
        "CH_CTX=GLOBALS__['CharterAnlysingContext']\n",
        "renderer = GLOBALS__['renderer']\n",
        "charter = CH_CTX.doc\n",
        "section = charter.sections['head.directors'].body\n",
        "\n",
        "\n",
        "slices1, attention_v_name_consent = find_sentences_by_pattern_prefix (section, CH_CTX.pattern_factory, pattern_prefix='d_order_consent')\n",
        "slices2, attention_v_name_charity = find_sentences_by_pattern_prefix (section, CH_CTX.pattern_factory, pattern_prefix='x_charity')\n",
        "slices3, attention_v_name_law = find_sentences_by_pattern_prefix (section, CH_CTX.pattern_factory, pattern_prefix='x_lawsuit_')\n",
        "slices4, attention_v_currency = find_sentences_by_pattern_prefix (section, CH_CTX.pattern_factory, pattern_prefix='currency')\n",
        "\n",
        "\n",
        "attention_incl,_ = make_attention_vector(section, CH_CTX.pattern_factory, 'x_inclusive')\n",
        "attention_excl,_ = make_attention_vector(section, CH_CTX.pattern_factory, 'x_exclusive')\n",
        "\n",
        "attention_excl=momentum(attention_excl, 0.9)\n",
        "\n",
        "colormap = {\n",
        "    'red':(1,0,0),\n",
        "    'red1':(1,0.4,0),\n",
        "    'green':(0,1,0),\n",
        "    'blue':(0,0,1),\n",
        "    'cyan':(0,0.7,1),\n",
        "    'yellow':(0.9,0.8,0)\n",
        "}\n",
        "\n",
        "alltogether={}\n",
        "def merge_slices(slices1):\n",
        "  for _slice in slices1:\n",
        "    alltogether[_slice [0].start] = _slice\n",
        "    ss=section.subdoc_slice( _slice [0] )\n",
        "\n",
        "merge_slices(slices1)\n",
        "merge_slices(slices3)\n",
        "merge_slices(slices2)\n",
        "merge_slices(slices4)\n",
        "\n",
        "ssss=[]\n",
        "for k in alltogether:\n",
        "  _slice=alltogether[k]\n",
        "#   print(_slice)\n",
        "  ss=section.subdoc_slice( _slice [0] )\n",
        "  vectors = {\n",
        "    'red':ss.distances_per_pattern_dict['soft$.'+attention_v_name_law],\n",
        "    'cyan':ss.distances_per_pattern_dict['soft$.'+attention_v_name_charity],\n",
        "#     'green':ss.distances_per_pattern_dict['soft$.'+attention_v_name_consent],\n",
        "    'red1':ss.distances_per_pattern_dict['soft$.'+attention_v_currency],\n",
        "      \n",
        "    'yellow':attention_incl[_slice [0] ],\n",
        "    'green':attention_excl[_slice [0] ],\n",
        "  }\n",
        "  ssss.append(ss)\n",
        "#   print (ss.tokens_cc)\n",
        "  renderer.render_multicolor_text(ss.tokens_cc, vectors, colormap=colormap)\n",
        "#   renderer.render_color_text(ss.tokens, vectors['red'])\n",
        "del ssss\n",
        "# print (slices)\n",
        "# print(section.distances_per_pattern_dict)\n",
        "# vectors['red']\n",
        "from IPython.core.display import display, HTML\n",
        "display(HTML('ddd'))\n",
        "GLOBALS__['renderer'].__dict__"
      ],
      "execution_count": 0,
      "outputs": []
    },
    {
      "cell_type": "code",
      "metadata": {
        "id": "s0XY6kIFS2X8",
        "colab_type": "code",
        "colab": {}
      },
      "source": [
        "# contract value: 5\n",
        "  \n",
        "# directors:{\n",
        "    \n",
        "#     [4, 6]: True\n",
        "#     [6, 20]: False\n",
        "#     [2, inf]: True\n",
        "#     [-inf, 4]: False\n",
        "    \n",
        "# } ==> True | False | True | False ===> True\n",
        "  \n",
        "  \n",
        "  \n",
        "# all:{    \n",
        "#     [6, inf]: False\n",
        "#     [6, 20]: False\n",
        "#     [2, inf]: True\n",
        "#     [-inf, 4]: False\n",
        "    \n",
        "# } ==> True | False | True | False ===> True\n",
        "  \n",
        "  \n",
        "# for level in OrgLevel:\n",
        "#   for constraint in OrgLevel.constraints:\n",
        "#     if contract.value in range(constraint.min, constraint.max) \n",
        "#       if constraint.subj == contract.subj\n",
        "#         raise RedFlag('а чо протокол-то есть?')\n",
        "\n",
        "# if contract.value > max ( every constraint.max)\n",
        "#    raise RedFlag('что-то не так')"
      ],
      "execution_count": 0,
      "outputs": []
    },
    {
      "cell_type": "markdown",
      "metadata": {
        "id": "gEM5XvFcA_J-",
        "colab_type": "text"
      },
      "source": [
        "#### Charitiy finder"
      ]
    },
    {
      "cell_type": "code",
      "metadata": {
        "id": "PhCbZyLYiBnz",
        "colab_type": "code",
        "colab": {}
      },
      "source": [
        "def build_charity_patterns(factory):\n",
        "  def cp(name, tuples):\n",
        "    return factory.create_pattern(name, tuples)\n",
        "\n",
        "  cp('x_charity_1', ('договор',\n",
        "                     'благотворительного',\n",
        "                     'пожертвования'))\n",
        "\n",
        "  cp('x_charity_1.1', ('одобрение внесения Обществом каких-либо вкладов или пожертвований на политические или',\n",
        "                       'благотворительные',\n",
        "                       'цели'))\n",
        "\n",
        "  cp('x_charity_1.2', ('одобрение внесения Обществом каких-либо вкладов или',\n",
        "                       'пожертвований',\n",
        "                       'на политические или благотворительные цели '))\n",
        "\n",
        "  cp('x_charity_2', ('предоставление',\n",
        "                     'безвозмездной',\n",
        "                     'помощи финансовой')),\n",
        "\n",
        "  cp('x_charity_3', ('согласование сделок',\n",
        "                     ' дарения ',\n",
        "                     ' '))\n",
        "\n",
        "\n",
        "from typing import List\n",
        "\n",
        "import numpy as np\n",
        "\n",
        "from legal_docs import calculate_distances_per_pattern\n",
        "from ml_tools import filter_values_by_key_prefix, max_exclusive_pattern, relu\n",
        "from patterns import improve_attention_vector\n",
        "from text_tools import get_sentence_bounds_at_index\n",
        "\n",
        "\n",
        "def find_charity_constraints(doc, factory, head_sections:dict ) -> dict:\n",
        "  charity_quotes_by_head_type = {}\n",
        "  for section_name in head_sections:\n",
        "\n",
        "    # section_name = section_prefix + head\n",
        "    # print(head, '->', section_name)\n",
        "    if section_name in doc.sections:\n",
        "      subdoc = doc.sections[section_name].body\n",
        "      # subdoc.calculate_distances_per_pattern(TFAA)\n",
        "\n",
        "      print(section_name)\n",
        "      bounds = find_charity_sentences(subdoc, factory)\n",
        "      charity_quotes_by_head_type[section_name] = bounds\n",
        "\n",
        "      # print('ok')\n",
        "  return charity_quotes_by_head_type\n",
        "\n",
        "\n",
        "def find_charity_sentences(subdoc, factory) -> List:\n",
        "  \"\"\"\n",
        "    returns list of tuples (slice, confidence, summa-of-attention-)\n",
        "  \"\"\"\n",
        "\n",
        "  calculate_distances_per_pattern(subdoc, factory, merge=True, pattern_prefix='x_charity_')\n",
        "\n",
        "  slices = []\n",
        "  vectors = filter_values_by_key_prefix(subdoc.distances_per_pattern_dict, 'x_charity_')\n",
        "  vectors_i = []\n",
        "  for v in vectors:\n",
        "    if max(v) > 0.6:\n",
        "      vector_i, _ = improve_attention_vector(subdoc.embeddings, v, relu_th=0.6, mix=0.9)\n",
        "      vectors_i.append(vector_i)\n",
        "    else:\n",
        "      vectors_i.append(v)\n",
        "\n",
        "  x = max_exclusive_pattern(vectors_i)\n",
        "  x = relu(x, 0.8)\n",
        "  subdoc.distances_per_pattern_dict['$at_x_charity_'] = x\n",
        "\n",
        "  dups = {}\n",
        "  for i in np.nonzero(x)[0]:\n",
        "    bounds = get_sentence_bounds_at_index(i, subdoc.tokens)\n",
        "\n",
        "    if bounds[0] not in dups:\n",
        "      sl = slice(bounds[0], bounds[1])\n",
        "      sum_ = sum(x[sl])\n",
        "      confidence = 'x'\n",
        "      #       confidence = np.mean( np.nonzero(x[sl]) )\n",
        "      nonzeros_count = len(np.nonzero(x[sl])[0])\n",
        "      print('nonzeros_count=', nonzeros_count)\n",
        "      confidence = 0\n",
        "\n",
        "      if nonzeros_count > 0:\n",
        "        confidence = sum_ / nonzeros_count\n",
        "      print('confidence=', confidence)\n",
        "      if confidence > 0.8:\n",
        "        # GLOBALS__['renderer'].render_color_text(subdoc.tokens_cc[sl],\n",
        "        #                                         subdoc.distances_per_pattern_dict['$at_x_charity_'][sl], _range=(0, 1))\n",
        "        print(i, sum_)\n",
        "\n",
        "        slices.append((sl, confidence, sum_))\n",
        "\n",
        "      dups[bounds[0]] = True\n",
        "\n",
        "  return slices\n",
        "\n",
        "\n",
        "\n",
        "\n",
        "##---test\n",
        "\n",
        "# find_charity_constraints(self.doc, GLOBALS__['CharterAnlysingContext'].pattern_factory, self._get_head_sections())\n",
        "# GLOBALS__['CharterAnlysingContext'].\n",
        "\n",
        "charity_constraints = find_charity_constraints(doc, \n",
        "                                               GLOBALS__['CharterAnlysingContext'].pattern_factory, \n",
        "                                               GLOBALS__['CharterAnlysingContext']._get_head_sections())\n"
      ],
      "execution_count": 0,
      "outputs": []
    },
    {
      "cell_type": "markdown",
      "metadata": {
        "id": "QflbPNjUDQJT",
        "colab_type": "text"
      },
      "source": [
        "#### Render charity constraints"
      ]
    },
    {
      "cell_type": "code",
      "metadata": {
        "id": "AsbjbSMmDOnN",
        "colab_type": "code",
        "colab": {}
      },
      "source": [
        "\n",
        "\n",
        " \n",
        "  \n",
        "\n",
        "\n",
        "\n",
        "#---CharterRenderer\n",
        "_CTX = GLOBALS__['CharterAnlysingContext']\n",
        "_cr = CharterRenderer()\n",
        "_cr.render_charter_parsing_results(_CTX.doc, _CTX.org, _CTX.constraints, _CTX.charity_constraints)\n",
        "# _cr.render_contents(_CTX.doc)\n"
      ],
      "execution_count": 0,
      "outputs": []
    },
    {
      "cell_type": "code",
      "metadata": {
        "id": "nLEZH3mDiRUm",
        "colab_type": "code",
        "colab": {}
      },
      "source": [
        "# # GLOBALS__['renderer'].render_color_text(subdoc.tokens_cc, subdoc.distances_per_pattern_dict['x_charity_1.2'], _range=(0,1))\n",
        "# # x = max_exclusive_pattern_by_prefix(subdoc.distances_per_pattern_dict, 'x_charity_')\n",
        "# import numpy as np\n",
        "# from text_tools import get_sentence_bounds_at_index\n",
        "# from ml_tools import filter_values_by_key_prefix,max_exclusive_pattern, momentum, smooth_safe, smooth, relu\n",
        "# from patterns import improve_attention_vector\n",
        "# vectors = filter_values_by_key_prefix(subdoc.distances_per_pattern_dict, 'x_charity_')\n",
        "# vectors_i=[]\n",
        "# for v in vectors:\n",
        "#   if max(v)>0.6:\n",
        "#     vector_i, _ = improve_attention_vector(subdoc.embeddings, v, relu_th=0.6, mix=0.9)\n",
        "#     vectors_i.append(vector_i)\n",
        "#   else:\n",
        "#     vectors_i.append(v)\n",
        "    \n",
        "# x = max_exclusive_pattern(vectors_i)\n",
        "# x=relu(x, 0.8)\n",
        "# i = np.argmax(x)\n",
        "# sl = slice( i-150, i+150)\n",
        "\n",
        "\n",
        "\n",
        "# dups={}\n",
        "# for i in np.nonzero(x)[0]:\n",
        "#   bounds = get_sentence_bounds_at_index( i, subdoc.tokens)\n",
        "  \n",
        "#   if bounds[0] not in dups:\n",
        "#     sl=slice(bounds[0], bounds[1])\n",
        "#     sum_ = sum(x[sl])\n",
        "\n",
        "#     if sum_ >2:\n",
        "#       GLOBALS__['renderer'].render_color_text(subdoc.tokens_cc[sl], x[sl], _range=(0,1))\n",
        "#       print(i, sum_)\n",
        "# #       yeld (bounds)\n",
        "\n",
        "#     dups[bounds[0]]=True"
      ],
      "execution_count": 0,
      "outputs": []
    },
    {
      "cell_type": "markdown",
      "metadata": {
        "id": "oX4OH7NMBNUB",
        "colab_type": "text"
      },
      "source": [
        "### Miscl\n"
      ]
    },
    {
      "cell_type": "code",
      "metadata": {
        "id": "8h2m0krc_KM4",
        "colab_type": "code",
        "colab": {}
      },
      "source": [
        "if False:\n",
        "  doc.embedd(GLOBALS__['ContractAnlysingContext'].hadlines_factory)\n"
      ],
      "execution_count": 0,
      "outputs": []
    },
    {
      "cell_type": "code",
      "metadata": {
        "id": "vUnmEKg0HE0I",
        "colab_type": "code",
        "colab": {}
      },
      "source": [
        "if False:\n",
        "  # GLOBALS__['ContractAnlysingContext'].hadlines_factory.\n",
        "\n",
        "  doc.calculate_distances_per_pattern(GLOBALS__['CharterAnlysingContext'].hadlines_factory)\n",
        "\n"
      ],
      "execution_count": 0,
      "outputs": []
    },
    {
      "cell_type": "code",
      "metadata": {
        "id": "jqnUuNcxHlmc",
        "colab_type": "code",
        "colab": {}
      },
      "source": [
        "# print(doc.distances_per_pattern_dict.keys())\n",
        "from legal_docs import rectifyed_sum_by_pattern_prefix\n",
        "\n",
        "from ml_tools import max_exclusive_pattern_by_prefix\n",
        "\n",
        "\n",
        "\n",
        "\n",
        "vv = max_exclusive_pattern_by_prefix(doc.distances_per_pattern_dict, 'headline.name.1')\n",
        "print(vv[0:10])\n",
        "\n",
        "\n",
        "\n",
        "# GLOBALS__['renderer'].render_color_text(doc.tokens_cc, vv)\n",
        "\n",
        "for s in doc.sections:\n",
        "  print (s)\n",
        "  \n",
        "if 'head.directors' in doc.sections:\n",
        "  subdoc = doc.sections['head.directors'].body\n",
        "  for ky in subdoc.distances_per_pattern_dict:\n",
        "    print(ky)\n",
        "  GLOBALS__['renderer'].render_color_text(subdoc.tokens_cc, subdoc.distances_per_pattern_dict['deal_attention_vector'])\n",
        "  \n"
      ],
      "execution_count": 0,
      "outputs": []
    },
    {
      "cell_type": "code",
      "metadata": {
        "id": "7Rv4ja_xLmxW",
        "colab_type": "code",
        "colab": {}
      },
      "source": [
        " \n",
        "\n",
        "level_by_line = [ max ( i._possible_levels) for i in doc.structure.structure ]\n",
        " \n",
        "\n",
        "\n",
        "headlines_attention_vector=[]\n",
        "for i in doc.structure.structure:\n",
        "  l = i.span[1]-i.span[0]\n",
        "  headlines_attention_vector+=[level_by_line[ i.line_number ]]*l\n",
        "  \n",
        "# print (pv[0:100])\n",
        "headlines_attention_vector = normalize(headlines_attention_vector)\n",
        "headlines_attention_vector = relu(headlines_attention_vector, 0.4)\n",
        "\n",
        "# headlines_attention_vector = smooth(headlines_attention_vector, 20)\n",
        "\n",
        "av= relu(headlines_attention_vector/2 + vv, 0.6)\n",
        "av = momentum(av, 0.99)\n",
        "\n",
        "GLOBALS__['renderer'].render_color_text(doc.tokens_cc, av)\n",
        "\n",
        "\n"
      ],
      "execution_count": 0,
      "outputs": []
    },
    {
      "cell_type": "markdown",
      "metadata": {
        "id": "kT3NPG52fAjK",
        "colab_type": "text"
      },
      "source": [
        "## Meta-pattern! (Cool!!(!))\n",
        "типа самообучение"
      ]
    },
    {
      "cell_type": "code",
      "metadata": {
        "id": "xUcxb8lmc1Dq",
        "colab_type": "code",
        "colab": {}
      },
      "source": [
        "# ---------\n",
        "from patterns import FuzzyPattern\n",
        "best_id=np.argmax(av)\n",
        "best_embedding_v = doc.embeddings[best_id]\n",
        "\n",
        "meta_pattern=FuzzyPattern('s-meta-na')\n",
        "meta_pattern.embeddings =  np.array([ best_embedding_v ])\n",
        "\n",
        "meta_pattern_attention = 1.0 - meta_pattern._eval_distances(doc.embeddings)\n",
        "meta_pattern_attention = relu(meta_pattern_attention,  0.7)\n",
        "\n",
        "\n",
        "GLOBALS__['renderer'].render_color_text(doc.tokens_cc, meta_pattern_attention, _range=(0,1))"
      ],
      "execution_count": 0,
      "outputs": []
    },
    {
      "cell_type": "code",
      "metadata": {
        "id": "uFctYf9efjFt",
        "colab_type": "code",
        "colab": {}
      },
      "source": [
        "import matplotlib as mpl\n",
        "import matplotlib.pyplot as plt\n",
        "fig = plt.figure(figsize=(20, 6))\n",
        "ax = plt.axes()\n",
        "span=1400\n",
        "ax.plot(meta_pattern_attention[best_id-span:best_id+span], alpha=0.5, color='green', label='meta_pattern_attention');\n",
        "ax.plot(normalize(av[best_id-span:best_id+span]), alpha=0.5, color='red', label='av');\n",
        " "
      ],
      "execution_count": 0,
      "outputs": []
    },
    {
      "cell_type": "markdown",
      "metadata": {
        "id": "CsmnVkodzR7h",
        "colab_type": "text"
      },
      "source": [
        "# step 2. Договор"
      ]
    },
    {
      "cell_type": "code",
      "metadata": {
        "id": "ysQTF-wAzwtV",
        "colab_type": "code",
        "colab": {
          "resources": {
            "http://localhost:8080/nbextensions/google.colab/files.js": {
              "data": "Ly8gQ29weXJpZ2h0IDIwMTcgR29vZ2xlIExMQwovLwovLyBMaWNlbnNlZCB1bmRlciB0aGUgQXBhY2hlIExpY2Vuc2UsIFZlcnNpb24gMi4wICh0aGUgIkxpY2Vuc2UiKTsKLy8geW91IG1heSBub3QgdXNlIHRoaXMgZmlsZSBleGNlcHQgaW4gY29tcGxpYW5jZSB3aXRoIHRoZSBMaWNlbnNlLgovLyBZb3UgbWF5IG9idGFpbiBhIGNvcHkgb2YgdGhlIExpY2Vuc2UgYXQKLy8KLy8gICAgICBodHRwOi8vd3d3LmFwYWNoZS5vcmcvbGljZW5zZXMvTElDRU5TRS0yLjAKLy8KLy8gVW5sZXNzIHJlcXVpcmVkIGJ5IGFwcGxpY2FibGUgbGF3IG9yIGFncmVlZCB0byBpbiB3cml0aW5nLCBzb2Z0d2FyZQovLyBkaXN0cmlidXRlZCB1bmRlciB0aGUgTGljZW5zZSBpcyBkaXN0cmlidXRlZCBvbiBhbiAiQVMgSVMiIEJBU0lTLAovLyBXSVRIT1VUIFdBUlJBTlRJRVMgT1IgQ09ORElUSU9OUyBPRiBBTlkgS0lORCwgZWl0aGVyIGV4cHJlc3Mgb3IgaW1wbGllZC4KLy8gU2VlIHRoZSBMaWNlbnNlIGZvciB0aGUgc3BlY2lmaWMgbGFuZ3VhZ2UgZ292ZXJuaW5nIHBlcm1pc3Npb25zIGFuZAovLyBsaW1pdGF0aW9ucyB1bmRlciB0aGUgTGljZW5zZS4KCi8qKgogKiBAZmlsZW92ZXJ2aWV3IEhlbHBlcnMgZm9yIGdvb2dsZS5jb2xhYiBQeXRob24gbW9kdWxlLgogKi8KKGZ1bmN0aW9uKHNjb3BlKSB7CmZ1bmN0aW9uIHNwYW4odGV4dCwgc3R5bGVBdHRyaWJ1dGVzID0ge30pIHsKICBjb25zdCBlbGVtZW50ID0gZG9jdW1lbnQuY3JlYXRlRWxlbWVudCgnc3BhbicpOwogIGVsZW1lbnQudGV4dENvbnRlbnQgPSB0ZXh0OwogIGZvciAoY29uc3Qga2V5IG9mIE9iamVjdC5rZXlzKHN0eWxlQXR0cmlidXRlcykpIHsKICAgIGVsZW1lbnQuc3R5bGVba2V5XSA9IHN0eWxlQXR0cmlidXRlc1trZXldOwogIH0KICByZXR1cm4gZWxlbWVudDsKfQoKLy8gTWF4IG51bWJlciBvZiBieXRlcyB3aGljaCB3aWxsIGJlIHVwbG9hZGVkIGF0IGEgdGltZS4KY29uc3QgTUFYX1BBWUxPQURfU0laRSA9IDEwMCAqIDEwMjQ7Ci8vIE1heCBhbW91bnQgb2YgdGltZSB0byBibG9jayB3YWl0aW5nIGZvciB0aGUgdXNlci4KY29uc3QgRklMRV9DSEFOR0VfVElNRU9VVF9NUyA9IDMwICogMTAwMDsKCmZ1bmN0aW9uIF91cGxvYWRGaWxlcyhpbnB1dElkLCBvdXRwdXRJZCkgewogIGNvbnN0IHN0ZXBzID0gdXBsb2FkRmlsZXNTdGVwKGlucHV0SWQsIG91dHB1dElkKTsKICBjb25zdCBvdXRwdXRFbGVtZW50ID0gZG9jdW1lbnQuZ2V0RWxlbWVudEJ5SWQob3V0cHV0SWQpOwogIC8vIENhY2hlIHN0ZXBzIG9uIHRoZSBvdXRwdXRFbGVtZW50IHRvIG1ha2UgaXQgYXZhaWxhYmxlIGZvciB0aGUgbmV4dCBjYWxsCiAgLy8gdG8gdXBsb2FkRmlsZXNDb250aW51ZSBmcm9tIFB5dGhvbi4KICBvdXRwdXRFbGVtZW50LnN0ZXBzID0gc3RlcHM7CgogIHJldHVybiBfdXBsb2FkRmlsZXNDb250aW51ZShvdXRwdXRJZCk7Cn0KCi8vIFRoaXMgaXMgcm91Z2hseSBhbiBhc3luYyBnZW5lcmF0b3IgKG5vdCBzdXBwb3J0ZWQgaW4gdGhlIGJyb3dzZXIgeWV0KSwKLy8gd2hlcmUgdGhlcmUgYXJlIG11bHRpcGxlIGFzeW5jaHJvbm91cyBzdGVwcyBhbmQgdGhlIFB5dGhvbiBzaWRlIGlzIGdvaW5nCi8vIHRvIHBvbGwgZm9yIGNvbXBsZXRpb24gb2YgZWFjaCBzdGVwLgovLyBUaGlzIHVzZXMgYSBQcm9taXNlIHRvIGJsb2NrIHRoZSBweXRob24gc2lkZSBvbiBjb21wbGV0aW9uIG9mIGVhY2ggc3RlcCwKLy8gdGhlbiBwYXNzZXMgdGhlIHJlc3VsdCBvZiB0aGUgcHJldmlvdXMgc3RlcCBhcyB0aGUgaW5wdXQgdG8gdGhlIG5leHQgc3RlcC4KZnVuY3Rpb24gX3VwbG9hZEZpbGVzQ29udGludWUob3V0cHV0SWQpIHsKICBjb25zdCBvdXRwdXRFbGVtZW50ID0gZG9jdW1lbnQuZ2V0RWxlbWVudEJ5SWQob3V0cHV0SWQpOwogIGNvbnN0IHN0ZXBzID0gb3V0cHV0RWxlbWVudC5zdGVwczsKCiAgY29uc3QgbmV4dCA9IHN0ZXBzLm5leHQob3V0cHV0RWxlbWVudC5sYXN0UHJvbWlzZVZhbHVlKTsKICByZXR1cm4gUHJvbWlzZS5yZXNvbHZlKG5leHQudmFsdWUucHJvbWlzZSkudGhlbigodmFsdWUpID0+IHsKICAgIC8vIENhY2hlIHRoZSBsYXN0IHByb21pc2UgdmFsdWUgdG8gbWFrZSBpdCBhdmFpbGFibGUgdG8gdGhlIG5leHQKICAgIC8vIHN0ZXAgb2YgdGhlIGdlbmVyYXRvci4KICAgIG91dHB1dEVsZW1lbnQubGFzdFByb21pc2VWYWx1ZSA9IHZhbHVlOwogICAgcmV0dXJuIG5leHQudmFsdWUucmVzcG9uc2U7CiAgfSk7Cn0KCi8qKgogKiBHZW5lcmF0b3IgZnVuY3Rpb24gd2hpY2ggaXMgY2FsbGVkIGJldHdlZW4gZWFjaCBhc3luYyBzdGVwIG9mIHRoZSB1cGxvYWQKICogcHJvY2Vzcy4KICogQHBhcmFtIHtzdHJpbmd9IGlucHV0SWQgRWxlbWVudCBJRCBvZiB0aGUgaW5wdXQgZmlsZSBwaWNrZXIgZWxlbWVudC4KICogQHBhcmFtIHtzdHJpbmd9IG91dHB1dElkIEVsZW1lbnQgSUQgb2YgdGhlIG91dHB1dCBkaXNwbGF5LgogKiBAcmV0dXJuIHshSXRlcmFibGU8IU9iamVjdD59IEl0ZXJhYmxlIG9mIG5leHQgc3RlcHMuCiAqLwpmdW5jdGlvbiogdXBsb2FkRmlsZXNTdGVwKGlucHV0SWQsIG91dHB1dElkKSB7CiAgY29uc3QgaW5wdXRFbGVtZW50ID0gZG9jdW1lbnQuZ2V0RWxlbWVudEJ5SWQoaW5wdXRJZCk7CiAgaW5wdXRFbGVtZW50LmRpc2FibGVkID0gZmFsc2U7CgogIGNvbnN0IG91dHB1dEVsZW1lbnQgPSBkb2N1bWVudC5nZXRFbGVtZW50QnlJZChvdXRwdXRJZCk7CiAgb3V0cHV0RWxlbWVudC5pbm5lckhUTUwgPSAnJzsKCiAgY29uc3QgcGlja2VkUHJvbWlzZSA9IG5ldyBQcm9taXNlKChyZXNvbHZlKSA9PiB7CiAgICBpbnB1dEVsZW1lbnQuYWRkRXZlbnRMaXN0ZW5lcignY2hhbmdlJywgKGUpID0+IHsKICAgICAgcmVzb2x2ZShlLnRhcmdldC5maWxlcyk7CiAgICB9KTsKICB9KTsKCiAgY29uc3QgY2FuY2VsID0gZG9jdW1lbnQuY3JlYXRlRWxlbWVudCgnYnV0dG9uJyk7CiAgaW5wdXRFbGVtZW50LnBhcmVudEVsZW1lbnQuYXBwZW5kQ2hpbGQoY2FuY2VsKTsKICBjYW5jZWwudGV4dENvbnRlbnQgPSAnQ2FuY2VsIHVwbG9hZCc7CiAgY29uc3QgY2FuY2VsUHJvbWlzZSA9IG5ldyBQcm9taXNlKChyZXNvbHZlKSA9PiB7CiAgICBjYW5jZWwub25jbGljayA9ICgpID0+IHsKICAgICAgcmVzb2x2ZShudWxsKTsKICAgIH07CiAgfSk7CgogIC8vIENhbmNlbCB1cGxvYWQgaWYgdXNlciBoYXNuJ3QgcGlja2VkIGFueXRoaW5nIGluIHRpbWVvdXQuCiAgY29uc3QgdGltZW91dFByb21pc2UgPSBuZXcgUHJvbWlzZSgocmVzb2x2ZSkgPT4gewogICAgc2V0VGltZW91dCgoKSA9PiB7CiAgICAgIHJlc29sdmUobnVsbCk7CiAgICB9LCBGSUxFX0NIQU5HRV9USU1FT1VUX01TKTsKICB9KTsKCiAgLy8gV2FpdCBmb3IgdGhlIHVzZXIgdG8gcGljayB0aGUgZmlsZXMuCiAgY29uc3QgZmlsZXMgPSB5aWVsZCB7CiAgICBwcm9taXNlOiBQcm9taXNlLnJhY2UoW3BpY2tlZFByb21pc2UsIHRpbWVvdXRQcm9taXNlLCBjYW5jZWxQcm9taXNlXSksCiAgICByZXNwb25zZTogewogICAgICBhY3Rpb246ICdzdGFydGluZycsCiAgICB9CiAgfTsKCiAgaWYgKCFmaWxlcykgewogICAgcmV0dXJuIHsKICAgICAgcmVzcG9uc2U6IHsKICAgICAgICBhY3Rpb246ICdjb21wbGV0ZScsCiAgICAgIH0KICAgIH07CiAgfQoKICBjYW5jZWwucmVtb3ZlKCk7CgogIC8vIERpc2FibGUgdGhlIGlucHV0IGVsZW1lbnQgc2luY2UgZnVydGhlciBwaWNrcyBhcmUgbm90IGFsbG93ZWQuCiAgaW5wdXRFbGVtZW50LmRpc2FibGVkID0gdHJ1ZTsKCiAgZm9yIChjb25zdCBmaWxlIG9mIGZpbGVzKSB7CiAgICBjb25zdCBsaSA9IGRvY3VtZW50LmNyZWF0ZUVsZW1lbnQoJ2xpJyk7CiAgICBsaS5hcHBlbmQoc3BhbihmaWxlLm5hbWUsIHtmb250V2VpZ2h0OiAnYm9sZCd9KSk7CiAgICBsaS5hcHBlbmQoc3BhbigKICAgICAgICBgKCR7ZmlsZS50eXBlIHx8ICduL2EnfSkgLSAke2ZpbGUuc2l6ZX0gYnl0ZXMsIGAgKwogICAgICAgIGBsYXN0IG1vZGlmaWVkOiAkewogICAgICAgICAgICBmaWxlLmxhc3RNb2RpZmllZERhdGUgPyBmaWxlLmxhc3RNb2RpZmllZERhdGUudG9Mb2NhbGVEYXRlU3RyaW5nKCkgOgogICAgICAgICAgICAgICAgICAgICAgICAgICAgICAgICAgICAnbi9hJ30gLSBgKSk7CiAgICBjb25zdCBwZXJjZW50ID0gc3BhbignMCUgZG9uZScpOwogICAgbGkuYXBwZW5kQ2hpbGQocGVyY2VudCk7CgogICAgb3V0cHV0RWxlbWVudC5hcHBlbmRDaGlsZChsaSk7CgogICAgY29uc3QgZmlsZURhdGFQcm9taXNlID0gbmV3IFByb21pc2UoKHJlc29sdmUpID0+IHsKICAgICAgY29uc3QgcmVhZGVyID0gbmV3IEZpbGVSZWFkZXIoKTsKICAgICAgcmVhZGVyLm9ubG9hZCA9IChlKSA9PiB7CiAgICAgICAgcmVzb2x2ZShlLnRhcmdldC5yZXN1bHQpOwogICAgICB9OwogICAgICByZWFkZXIucmVhZEFzQXJyYXlCdWZmZXIoZmlsZSk7CiAgICB9KTsKICAgIC8vIFdhaXQgZm9yIHRoZSBkYXRhIHRvIGJlIHJlYWR5LgogICAgbGV0IGZpbGVEYXRhID0geWllbGQgewogICAgICBwcm9taXNlOiBmaWxlRGF0YVByb21pc2UsCiAgICAgIHJlc3BvbnNlOiB7CiAgICAgICAgYWN0aW9uOiAnY29udGludWUnLAogICAgICB9CiAgICB9OwoKICAgIC8vIFVzZSBhIGNodW5rZWQgc2VuZGluZyB0byBhdm9pZCBtZXNzYWdlIHNpemUgbGltaXRzLiBTZWUgYi82MjExNTY2MC4KICAgIGxldCBwb3NpdGlvbiA9IDA7CiAgICB3aGlsZSAocG9zaXRpb24gPCBmaWxlRGF0YS5ieXRlTGVuZ3RoKSB7CiAgICAgIGNvbnN0IGxlbmd0aCA9IE1hdGgubWluKGZpbGVEYXRhLmJ5dGVMZW5ndGggLSBwb3NpdGlvbiwgTUFYX1BBWUxPQURfU0laRSk7CiAgICAgIGNvbnN0IGNodW5rID0gbmV3IFVpbnQ4QXJyYXkoZmlsZURhdGEsIHBvc2l0aW9uLCBsZW5ndGgpOwogICAgICBwb3NpdGlvbiArPSBsZW5ndGg7CgogICAgICBjb25zdCBiYXNlNjQgPSBidG9hKFN0cmluZy5mcm9tQ2hhckNvZGUuYXBwbHkobnVsbCwgY2h1bmspKTsKICAgICAgeWllbGQgewogICAgICAgIHJlc3BvbnNlOiB7CiAgICAgICAgICBhY3Rpb246ICdhcHBlbmQnLAogICAgICAgICAgZmlsZTogZmlsZS5uYW1lLAogICAgICAgICAgZGF0YTogYmFzZTY0LAogICAgICAgIH0sCiAgICAgIH07CiAgICAgIHBlcmNlbnQudGV4dENvbnRlbnQgPQogICAgICAgICAgYCR7TWF0aC5yb3VuZCgocG9zaXRpb24gLyBmaWxlRGF0YS5ieXRlTGVuZ3RoKSAqIDEwMCl9JSBkb25lYDsKICAgIH0KICB9CgogIC8vIEFsbCBkb25lLgogIHlpZWxkIHsKICAgIHJlc3BvbnNlOiB7CiAgICAgIGFjdGlvbjogJ2NvbXBsZXRlJywKICAgIH0KICB9Owp9CgpzY29wZS5nb29nbGUgPSBzY29wZS5nb29nbGUgfHwge307CnNjb3BlLmdvb2dsZS5jb2xhYiA9IHNjb3BlLmdvb2dsZS5jb2xhYiB8fCB7fTsKc2NvcGUuZ29vZ2xlLmNvbGFiLl9maWxlcyA9IHsKICBfdXBsb2FkRmlsZXMsCiAgX3VwbG9hZEZpbGVzQ29udGludWUsCn07Cn0pKHNlbGYpOwo=",
              "ok": true,
              "headers": [
                [
                  "content-type",
                  "application/javascript"
                ]
              ],
              "status": 200,
              "status_text": ""
            }
          },
          "base_uri": "https://localhost:8080/",
          "height": 1000
        },
        "outputId": "1e6f7ef4-205b-48e1-da4f-afc44cd368f1"
      },
      "source": [
        "_init_the_code(True)\n",
        "\n",
        "uploaded = interactive_upload('Договор в законе')\n",
        "\n",
        "GLOBALS__['ContractAnlysingContext'].analyze_contract(uploaded[0])\n",
        "doc = GLOBALS__['ContractAnlysingContext'].contract\n",
        "\n",
        "GLOBALS__['renderer'].render_subj(doc)\n",
        "GLOBALS__['renderer'].render_contents(doc)\n",
        "\n",
        "\n"
      ],
      "execution_count": 5,
      "outputs": [
        {
          "output_type": "stream",
          "text": [
            "❤️ DONE initializing the code\n",
            "Please select \"Договор в законе\" .docx file:\n"
          ],
          "name": "stdout"
        },
        {
          "output_type": "display_data",
          "data": {
            "text/html": [
              "\n",
              "     <input type=\"file\" id=\"files-23850aa2-305d-4a9d-ad9f-bd657be7d944\" name=\"files[]\" multiple disabled />\n",
              "     <output id=\"result-23850aa2-305d-4a9d-ad9f-bd657be7d944\">\n",
              "      Upload widget is only available when the cell has been executed in the\n",
              "      current browser session. Please rerun this cell to enable.\n",
              "      </output>\n",
              "      <script src=\"/nbextensions/google.colab/files.js\"></script> "
            ],
            "text/plain": [
              "<IPython.core.display.HTML object>"
            ]
          },
          "metadata": {
            "tags": []
          }
        },
        {
          "output_type": "stream",
          "text": [
            "Saving Договор Формула.docx to Договор Формула.docx\n",
            "User uploaded file \"Договор Формула.docx\" with length 44863 bytes\n",
            "Символов в оригинальном документе: 42964\n",
            "❤️ ACCOMPLISHED: \t 0.\t parsing document 👞 and detecting document high-level structure\n",
            "WARNING: Document is too large for embedding: 6783 tokens. Splitting into 2 windows overlapping with 1200 tokens \n",
            "Embedding region: 0 6783\n",
            "🐌 Embedding 6783 words... it takes time (☕️?)..\n",
            "Embedding complete 🐌 ; the shape is (1, 6783, 1024)\n",
            "Function _emb called 1 times. \n",
            "Execution time max: 17.9348, average: 17.9348\n",
            "Embedding region: 6000 783\n",
            "🐌 Embedding 783 words... it takes time (☕️?)..\n",
            "Embedding complete 🐌 ; the shape is (1, 783, 1024)\n",
            "Function _emb called 2 times. \n",
            "Execution time max: 17.9348, average: 11.2447\n",
            "Function _emb called 2 times. \n",
            "Execution time max: 17.9348, average: 11.2447\n",
            "Function _embedd_large called 1 times. \n",
            "Execution time max: 22.5006, average: 22.5006\n",
            "❤️ ACCOMPLISHED: \t 1.\t Splitting Document into sections ✂️ 📃 -> 📄📄📄\n",
            "----WARNING!: function rectifyed_sum_by_pattern_prefix is deprecated\n",
            "REG: 50 950000 ( пятьдесят миллионов девятьсот пятьдесят тысяч ) рублей 00 копеек\n"
          ],
          "name": "stdout"
        },
        {
          "output_type": "display_data",
          "data": {
            "text/html": [
              "<h3 style=\"margin:0\">5. СТОИМОСТЬ РАБОТ И ПОРЯДОК ОПЛАТЫ.</h3> <div style=\"margin-left:4em; font-size=90%\"><span title=\"0 -0.0000\" style=\"background-color:#aac7fd\">5 </span><span title=\"1 -0.0000\" style=\"background-color:#aac7fd\">. </span><span title=\"2 0.0000\" style=\"background-color:#aac7fd\">СТОИМОСТЬ </span><span title=\"3 0.0000\" style=\"background-color:#aac7fd\">РАБОТ </span><span title=\"4 0.0000\" style=\"background-color:#aac7fd\">И </span><span title=\"5 0.0000\" style=\"background-color:#aac7fd\">ПОРЯДОК </span><span title=\"6 0.0000\" style=\"background-color:#aac7fd\">ОПЛАТЫ </span><span title=\"7 0.0000\" style=\"background-color:#aac7fd\">. </span><span title=\"8 0.0000\" style=\"background-color:#aac7fd\">\n",
              " </span><br><span title=\"9 0.0000\" style=\"background-color:#aac7fd\">5.1 </span><span title=\"10 0.0000\" style=\"background-color:#aac7fd\">. </span><span title=\"11 0.0000\" style=\"background-color:#aac7fd\">Общая </span><span title=\"12 0.0000\" style=\"background-color:#aac7fd\">стоимость </span><span title=\"13 0.0000\" style=\"background-color:#aac7fd\">выполненных </span><span title=\"14 0.0000\" style=\"background-color:#aac7fd\">Исполнителем </span><span title=\"15 0.0000\" style=\"background-color:#aac7fd\">Работ </span><span title=\"16 0.0000\" style=\"background-color:#aac7fd\">по </span><span title=\"17 0.0000\" style=\"background-color:#aac7fd\">Договору </span><span title=\"18 0.0000\" style=\"background-color:#aac7fd\">определяется </span><span title=\"19 0.0000\" style=\"background-color:#aac7fd\">путем </span><span title=\"20 0.0000\" style=\"background-color:#aac7fd\">сложения </span><span title=\"21 0.0000\" style=\"background-color:#aac7fd\">стоимости </span><span title=\"22 0.0000\" style=\"background-color:#aac7fd\">Работ </span><span title=\"23 0.0000\" style=\"background-color:#aac7fd\">по </span><span title=\"24 0.0000\" style=\"background-color:#aac7fd\">всем </span><span title=\"25 0.0000\" style=\"background-color:#aac7fd\">Приложениям </span><span title=\"26 0.0000\" style=\"background-color:#aac7fd\">, </span><span title=\"27 0.0000\" style=\"background-color:#aac7fd\">заключенным </span><span title=\"28 0.0000\" style=\"background-color:#aac7fd\">Сторонами </span><span title=\"29 0.0000\" style=\"background-color:#aac7fd\">к </span><span title=\"30 0.0000\" style=\"background-color:#aac7fd\">Договору </span><span title=\"31 0.0000\" style=\"background-color:#aac7fd\">, </span><span title=\"32 0.0000\" style=\"background-color:#aac7fd\">и </span><span title=\"33 0.0000\" style=\"background-color:#aac7fd\">не </span><span title=\"34 0.0000\" style=\"background-color:#aac7fd\">должна </span><span title=\"35 0.0000\" style=\"background-color:#aac7fd\">превышать </span><span title=\"36 0.0000\" style=\"background-color:#aac7fd\">сумму </span><span title=\"37 0.5425\" style=\"background-color:#f7af91\">50 </span><span title=\"38 0.5673\" style=\"background-color:#f7a889\">950000 </span><span title=\"39 0.4961\" style=\"background-color:#f7b99e\">( </span><span title=\"40 0.4198\" style=\"background-color:#f3c8b2\">пятьдесят </span><span title=\"41 0.3698\" style=\"background-color:#efcfbf\">миллионов </span><span title=\"42 0.3293\" style=\"background-color:#ead5c9\">девятьсот </span><span title=\"43 0.2701\" style=\"background-color:#e0dbd8\">пятьдесят </span><span title=\"44 0.2157\" style=\"background-color:#d7dce3\">тысяч </span><span title=\"45 0.0000\" style=\"background-color:#aac7fd\">) </span><span title=\"46 0.3457\" style=\"background-color:#ecd3c5\">рублей </span><span title=\"47 0.5186\" style=\"background-color:#f7b497\">00 </span><span title=\"48 0.4484\" style=\"background-color:#f5c2aa\">копеек </span><span title=\"49 0.3879\" style=\"background-color:#f1cdba\">без </span><span title=\"50 0.2964\" style=\"background-color:#e4d9d2\">НДС </span><span title=\"51 0.2617\" style=\"background-color:#dfdbd9\">, </span><span title=\"52 0.0000\" style=\"background-color:#aac7fd\">НДС </span><span title=\"53 0.0000\" style=\"background-color:#aac7fd\">не </span><span title=\"54 0.0000\" style=\"background-color:#aac7fd\">облагается </span><span title=\"55 0.0000\" style=\"background-color:#aac7fd\">на </span><span title=\"56 0.0000\" style=\"background-color:#aac7fd\">основании </span><span title=\"57 0.0000\" style=\"background-color:#aac7fd\">пункт </span><span title=\"58 0.0000\" style=\"background-color:#aac7fd\">2 </span><span title=\"59 0.0000\" style=\"background-color:#aac7fd\">статьи </span><span title=\"60 0.0000\" style=\"background-color:#aac7fd\">346.11 </span><span title=\"61 0.0000\" style=\"background-color:#aac7fd\">. </span><span title=\"62 0.0000\" style=\"background-color:#aac7fd\">Налогового </span><span title=\"63 0.0000\" style=\"background-color:#aac7fd\">Кодекса </span><span title=\"64 0.0000\" style=\"background-color:#aac7fd\">РФ </span><span title=\"65 0.0000\" style=\"background-color:#aac7fd\">в </span><span title=\"66 0.0000\" style=\"background-color:#aac7fd\">связи </span><span title=\"67 0.0000\" style=\"background-color:#aac7fd\">с </span><span title=\"68 0.0000\" style=\"background-color:#aac7fd\">применением </span><span title=\"69 0.0000\" style=\"background-color:#aac7fd\">упрощенной </span><span title=\"70 0.0000\" style=\"background-color:#aac7fd\">системы </span><span title=\"71 0.0000\" style=\"background-color:#aac7fd\">налогообложения </span><span title=\"72 0.0000\" style=\"background-color:#aac7fd\">. </span><span title=\"73 0.0000\" style=\"background-color:#aac7fd\">\n",
              " </span><br><span title=\"74 0.0000\" style=\"background-color:#aac7fd\">Стоимость </span><span title=\"75 0.0000\" style=\"background-color:#aac7fd\">Работ </span><span title=\"76 0.0000\" style=\"background-color:#aac7fd\">Исполнителя </span><span title=\"77 0.0000\" style=\"background-color:#aac7fd\">, </span><span title=\"78 0.0000\" style=\"background-color:#aac7fd\">выполняемой </span><span title=\"79 0.0000\" style=\"background-color:#aac7fd\">для </span><span title=\"80 0.0000\" style=\"background-color:#aac7fd\">Заказчика </span><span title=\"81 0.0000\" style=\"background-color:#aac7fd\">на </span><span title=\"82 0.0000\" style=\"background-color:#aac7fd\">основании </span><span title=\"83 0.0000\" style=\"background-color:#aac7fd\">согласованного </span><span title=\"84 0.0000\" style=\"background-color:#aac7fd\">и </span><span title=\"85 0.0000\" style=\"background-color:#aac7fd\">подписанного </span><span title=\"86 0.0000\" style=\"background-color:#aac7fd\">к </span><span title=\"87 0.0000\" style=\"background-color:#aac7fd\">Договору </span><span title=\"88 0.0000\" style=\"background-color:#aac7fd\">Приложения </span><span title=\"89 0.0000\" style=\"background-color:#aac7fd\">, </span><span title=\"90 0.0000\" style=\"background-color:#aac7fd\">определяется </span><span title=\"91 0.0000\" style=\"background-color:#aac7fd\">и </span><span title=\"92 0.0000\" style=\"background-color:#aac7fd\">указывается </span><span title=\"93 0.0000\" style=\"background-color:#aac7fd\">Сторонами </span><span title=\"94 0.0000\" style=\"background-color:#aac7fd\">в </span><span title=\"95 0.0000\" style=\"background-color:#aac7fd\">соответствующей </span><span title=\"96 0.0000\" style=\"background-color:#aac7fd\">Заявке </span><span title=\"97 0.0000\" style=\"background-color:#aac7fd\">в </span><span title=\"98 0.0000\" style=\"background-color:#aac7fd\">рамках </span><span title=\"99 0.0000\" style=\"background-color:#aac7fd\">определенного </span><span title=\"100 0.0000\" style=\"background-color:#aac7fd\">этапа </span><span title=\"101 0.0000\" style=\"background-color:#aac7fd\">Работ </span><span title=\"102 0.0000\" style=\"background-color:#aac7fd\">, </span><span title=\"103 0.0000\" style=\"background-color:#aac7fd\">оформляемой </span><span title=\"104 0.0000\" style=\"background-color:#aac7fd\">отдельным </span><span title=\"105 0.0000\" style=\"background-color:#aac7fd\">Приложением </span><span title=\"106 0.0000\" style=\"background-color:#aac7fd\">к </span><span title=\"107 0.0000\" style=\"background-color:#aac7fd\">Договору </span><span title=\"108 0.0000\" style=\"background-color:#aac7fd\">. </span><span title=\"109 0.0000\" style=\"background-color:#aac7fd\">\n",
              " </span><br><span title=\"110 0.0000\" style=\"background-color:#aac7fd\">5.2 </span><span title=\"111 0.0000\" style=\"background-color:#aac7fd\">. </span><span title=\"112 0.0000\" style=\"background-color:#aac7fd\">Оплата </span><span title=\"113 0.0000\" style=\"background-color:#aac7fd\">каждой </span><span title=\"114 0.0000\" style=\"background-color:#aac7fd\">Работы </span><span title=\"115 0.0000\" style=\"background-color:#aac7fd\">, </span><span title=\"116 0.0000\" style=\"background-color:#aac7fd\">выполненной </span><span title=\"117 0.0000\" style=\"background-color:#aac7fd\">Исполнителем </span><span title=\"118 0.0000\" style=\"background-color:#aac7fd\">, </span><span title=\"119 0.0000\" style=\"background-color:#aac7fd\">осуществляется </span><span title=\"120 0.0000\" style=\"background-color:#aac7fd\">отдельно </span><span title=\"121 0.0000\" style=\"background-color:#aac7fd\">по </span><span title=\"122 0.0000\" style=\"background-color:#aac7fd\">каждому </span><span title=\"123 0.0000\" style=\"background-color:#aac7fd\">Приложению </span><span title=\"124 0.0000\" style=\"background-color:#aac7fd\">в </span><span title=\"125 0.0000\" style=\"background-color:#aac7fd\">рублях </span><span title=\"126 0.0000\" style=\"background-color:#aac7fd\">путем </span><span title=\"127 0.0000\" style=\"background-color:#aac7fd\">перечисления </span><span title=\"128 0.0000\" style=\"background-color:#aac7fd\">денежных </span><span title=\"129 0.0000\" style=\"background-color:#aac7fd\">средств </span><span title=\"130 0.0000\" style=\"background-color:#aac7fd\">на </span><span title=\"131 0.0000\" style=\"background-color:#aac7fd\">расчетный </span><span title=\"132 0.0000\" style=\"background-color:#aac7fd\">счет </span><span title=\"133 0.0000\" style=\"background-color:#aac7fd\">Исполнителя </span><span title=\"134 0.0000\" style=\"background-color:#aac7fd\">. </span><span title=\"135 0.0000\" style=\"background-color:#aac7fd\">\n",
              " </span><br><span title=\"136 0.0000\" style=\"background-color:#aac7fd\">5.3 </span><span title=\"137 0.0000\" style=\"background-color:#aac7fd\">. </span><span title=\"138 0.0000\" style=\"background-color:#aac7fd\">Оплата </span><span title=\"139 0.0000\" style=\"background-color:#aac7fd\">за </span><span title=\"140 0.0000\" style=\"background-color:#aac7fd\">выполненную </span><span title=\"141 0.0000\" style=\"background-color:#aac7fd\">Работу </span><span title=\"142 0.0000\" style=\"background-color:#aac7fd\">осуществляется </span><span title=\"143 0.0000\" style=\"background-color:#aac7fd\">в </span><span title=\"144 0.0000\" style=\"background-color:#aac7fd\">течение </span><span title=\"145 0.5090\" style=\"background-color:#f7b599\">5 </span><span title=\"146 0.4659\" style=\"background-color:#f6bfa6\">( </span><span title=\"147 0.3775\" style=\"background-color:#efcebd\">пяти </span><span title=\"148 0.3172\" style=\"background-color:#e8d6cc\">) </span><span title=\"149 0.2414\" style=\"background-color:#dbdcde\">рабочих </span><span title=\"150 0.2160\" style=\"background-color:#d7dce3\">дней </span><span title=\"151 0.0000\" style=\"background-color:#aac7fd\">с </span><span title=\"152 0.0000\" style=\"background-color:#aac7fd\">момента </span><span title=\"153 0.0000\" style=\"background-color:#aac7fd\">подписания </span><span title=\"154 0.0000\" style=\"background-color:#aac7fd\">Сторонами </span><span title=\"155 0.0000\" style=\"background-color:#aac7fd\">акта </span><span title=\"156 0.0000\" style=\"background-color:#aac7fd\">сдачи-приемки </span><span title=\"157 0.0000\" style=\"background-color:#aac7fd\">работ </span><span title=\"158 0.0000\" style=\"background-color:#aac7fd\">, </span><span title=\"159 0.0000\" style=\"background-color:#aac7fd\">на </span><span title=\"160 0.0000\" style=\"background-color:#aac7fd\">основании </span><span title=\"161 0.0000\" style=\"background-color:#aac7fd\">выставленного </span><span title=\"162 0.0000\" style=\"background-color:#aac7fd\">Исполнителем </span><span title=\"163 0.0000\" style=\"background-color:#aac7fd\">оригинала </span><span title=\"164 0.0000\" style=\"background-color:#aac7fd\">счета </span><span title=\"165 0.0000\" style=\"background-color:#aac7fd\">при </span><span title=\"166 0.0000\" style=\"background-color:#aac7fd\">условии </span><span title=\"167 0.0000\" style=\"background-color:#aac7fd\">получения </span><span title=\"168 0.0000\" style=\"background-color:#aac7fd\">оригинала </span><span title=\"169 0.0000\" style=\"background-color:#aac7fd\">закрывающих </span><span title=\"170 0.0000\" style=\"background-color:#aac7fd\">бухгалтерских </span><span title=\"171 0.0000\" style=\"background-color:#aac7fd\">документов </span><span title=\"172 0.0000\" style=\"background-color:#aac7fd\">. </span><span title=\"173 0.0000\" style=\"background-color:#aac7fd\">\n",
              " </span><br><span title=\"174 0.0000\" style=\"background-color:#aac7fd\">Исполнитель </span><span title=\"175 0.0000\" style=\"background-color:#aac7fd\">обязуется </span><span title=\"176 0.0000\" style=\"background-color:#aac7fd\">предоставлять </span><span title=\"177 0.0000\" style=\"background-color:#aac7fd\">оригиналы </span><span title=\"178 0.0000\" style=\"background-color:#aac7fd\">счета-фактуры </span><span title=\"179 0.0000\" style=\"background-color:#aac7fd\">и </span><span title=\"180 0.0000\" style=\"background-color:#aac7fd\">( </span><span title=\"181 0.0000\" style=\"background-color:#aac7fd\">или </span><span title=\"182 0.0000\" style=\"background-color:#aac7fd\">) </span><span title=\"183 0.0000\" style=\"background-color:#aac7fd\">первичных </span><span title=\"184 0.0000\" style=\"background-color:#aac7fd\">отчетных </span><span title=\"185 0.0000\" style=\"background-color:#aac7fd\">документов </span><span title=\"186 0.0000\" style=\"background-color:#aac7fd\">по </span><span title=\"187 0.0000\" style=\"background-color:#aac7fd\">Договору </span><span title=\"188 0.0000\" style=\"background-color:#aac7fd\">в </span><span title=\"189 0.0000\" style=\"background-color:#aac7fd\">соответствие </span><span title=\"190 0.0000\" style=\"background-color:#aac7fd\">с </span><span title=\"191 0.0000\" style=\"background-color:#aac7fd\">требованиями </span><span title=\"192 0.0000\" style=\"background-color:#aac7fd\">действующего </span><span title=\"193 0.0000\" style=\"background-color:#aac7fd\">законодательства </span><span title=\"194 0.0000\" style=\"background-color:#aac7fd\">. </span><span title=\"195 0.0000\" style=\"background-color:#aac7fd\">Оригиналы </span><span title=\"196 0.0000\" style=\"background-color:#aac7fd\">таких </span><span title=\"197 0.0000\" style=\"background-color:#aac7fd\">документов </span><span title=\"198 0.0000\" style=\"background-color:#aac7fd\">направляются </span><span title=\"199 0.0000\" style=\"background-color:#aac7fd\">в </span><span title=\"200 -0.0000\" style=\"background-color:#aac7fd\">течение </span><span title=\"201 -0.0000\" style=\"background-color:#aac7fd\">2 </span><span title=\"202 0.0000\" style=\"background-color:#aac7fd\">( </span><span title=\"203 -0.0000\" style=\"background-color:#aac7fd\">двух </span><span title=\"204 -0.0000\" style=\"background-color:#aac7fd\">) </span><span title=\"205 -0.0000\" style=\"background-color:#aac7fd\">рабочих </span><span title=\"206 -0.0000\" style=\"background-color:#aac7fd\">дней </span><span title=\"207 0.0000\" style=\"background-color:#aac7fd\">с </span><span title=\"208 0.0000\" style=\"background-color:#aac7fd\">момента </span><span title=\"209 0.0000\" style=\"background-color:#aac7fd\">подписания </span><span title=\"210 0.0000\" style=\"background-color:#aac7fd\">Сторонами </span><span title=\"211 0.0000\" style=\"background-color:#aac7fd\">прима-передачи </span><span title=\"212 0.0000\" style=\"background-color:#aac7fd\">результатов </span><span title=\"213 0.0000\" style=\"background-color:#aac7fd\">Работы </span><span title=\"214 0.0000\" style=\"background-color:#aac7fd\">. </span><span title=\"215 0.0000\" style=\"background-color:#aac7fd\">В </span><span title=\"216 0.0000\" style=\"background-color:#aac7fd\">случае </span><span title=\"217 0.0000\" style=\"background-color:#aac7fd\">выявления </span><span title=\"218 0.0000\" style=\"background-color:#aac7fd\">факта </span><span title=\"219 0.0000\" style=\"background-color:#aac7fd\">ненадлежащего </span><span title=\"220 0.0000\" style=\"background-color:#aac7fd\">оформления </span><span title=\"221 0.0000\" style=\"background-color:#aac7fd\">таких </span><span title=\"222 0.0000\" style=\"background-color:#aac7fd\">документов </span><span title=\"223 0.0000\" style=\"background-color:#aac7fd\">Исполнитель </span><span title=\"224 0.0000\" style=\"background-color:#aac7fd\">обязуется </span><span title=\"225 0.0000\" style=\"background-color:#aac7fd\">в </span><span title=\"226 -0.0000\" style=\"background-color:#aac7fd\">течение </span><span title=\"227 -0.0000\" style=\"background-color:#aac7fd\">3 </span><span title=\"228 -0.0000\" style=\"background-color:#aac7fd\">( </span><span title=\"229 -0.0000\" style=\"background-color:#aac7fd\">трех </span><span title=\"230 -0.0000\" style=\"background-color:#aac7fd\">) </span><span title=\"231 -0.0000\" style=\"background-color:#aac7fd\">дней </span><span title=\"232 0.0000\" style=\"background-color:#aac7fd\">предоставить </span><span title=\"233 0.0000\" style=\"background-color:#aac7fd\">корректно </span><span title=\"234 0.0000\" style=\"background-color:#aac7fd\">оформленные </span><span title=\"235 0.0000\" style=\"background-color:#aac7fd\">документы </span><span title=\"236 0.0000\" style=\"background-color:#aac7fd\">или </span><span title=\"237 0.0000\" style=\"background-color:#aac7fd\">внести </span><span title=\"238 0.0000\" style=\"background-color:#aac7fd\">в </span><span title=\"239 0.0000\" style=\"background-color:#aac7fd\">документы </span><span title=\"240 0.0000\" style=\"background-color:#aac7fd\">исправления </span><span title=\"241 -0.0000\" style=\"background-color:#aac7fd\">в </span><span title=\"242 -0.0000\" style=\"background-color:#aac7fd\">порядке </span><span title=\"243 0.0000\" style=\"background-color:#aac7fd\">, </span><span title=\"244 0.0000\" style=\"background-color:#aac7fd\">установленном </span><span title=\"245 0.0000\" style=\"background-color:#aac7fd\">законодательством </span><span title=\"246 0.0000\" style=\"background-color:#aac7fd\">. </span><span title=\"247 0.0000\" style=\"background-color:#aac7fd\">В </span><span title=\"248 0.0000\" style=\"background-color:#aac7fd\">случае </span><span title=\"249 0.0000\" style=\"background-color:#aac7fd\">, </span><span title=\"250 0.0000\" style=\"background-color:#aac7fd\">если </span><span title=\"251 0.0000\" style=\"background-color:#aac7fd\">по </span><span title=\"252 0.0000\" style=\"background-color:#aac7fd\">вине </span><span title=\"253 0.0000\" style=\"background-color:#aac7fd\">Исполнителя </span><span title=\"254 0.0000\" style=\"background-color:#aac7fd\">Заказчику </span><span title=\"255 0.0000\" style=\"background-color:#aac7fd\">нанесен </span><span title=\"256 0.0000\" style=\"background-color:#aac7fd\">материальный </span><span title=\"257 -0.0000\" style=\"background-color:#aac7fd\">ущерб </span><span title=\"258 0.0000\" style=\"background-color:#aac7fd\">, </span><span title=\"259 0.0000\" style=\"background-color:#aac7fd\">в </span><span title=\"260 0.0000\" style=\"background-color:#aac7fd\">том </span><span title=\"261 0.0000\" style=\"background-color:#aac7fd\">числе </span><span title=\"262 0.0000\" style=\"background-color:#aac7fd\">в </span><span title=\"263 0.0000\" style=\"background-color:#aac7fd\">результате </span><span title=\"264 0.0000\" style=\"background-color:#aac7fd\">действий </span><span title=\"265 0.0000\" style=\"background-color:#aac7fd\">или </span><span title=\"266 0.0000\" style=\"background-color:#aac7fd\">бездействий </span><span title=\"267 0.0000\" style=\"background-color:#aac7fd\">по </span><span title=\"268 -0.0000\" style=\"background-color:#aac7fd\">исполнению </span><span title=\"269 -0.0000\" style=\"background-color:#aac7fd\">обязательств </span><span title=\"270 0.0000\" style=\"background-color:#aac7fd\">, </span><span title=\"271 0.0000\" style=\"background-color:#aac7fd\">изложенных </span><span title=\"272 0.0000\" style=\"background-color:#aac7fd\">в </span><span title=\"273 -0.0000\" style=\"background-color:#aac7fd\">настоящем </span><span title=\"274 -0.0000\" style=\"background-color:#aac7fd\">абзаце </span><span title=\"275 -0.0000\" style=\"background-color:#aac7fd\">, </span><span title=\"276 0.0000\" style=\"background-color:#aac7fd\">Исполнитель </span><span title=\"277 0.0000\" style=\"background-color:#aac7fd\">обязуется </span><span title=\"278 0.0000\" style=\"background-color:#aac7fd\">его </span><span title=\"279 0.0000\" style=\"background-color:#aac7fd\">возместить </span><span title=\"280 0.0000\" style=\"background-color:#aac7fd\">в </span><span title=\"281 0.0000\" style=\"background-color:#aac7fd\">полном </span><span title=\"282 0.0000\" style=\"background-color:#aac7fd\">объеме </span><span title=\"283 0.0000\" style=\"background-color:#aac7fd\">. </span><span title=\"284 0.0000\" style=\"background-color:#aac7fd\">\n",
              " </span><br><span title=\"285 -0.0000\" style=\"background-color:#aac7fd\">5.4 </span><span title=\"286 0.0000\" style=\"background-color:#aac7fd\">. </span><span title=\"287 0.0000\" style=\"background-color:#aac7fd\">В </span><span title=\"288 0.0000\" style=\"background-color:#aac7fd\">случае </span><span title=\"289 0.0000\" style=\"background-color:#aac7fd\">получения </span><span title=\"290 0.0000\" style=\"background-color:#aac7fd\">предварительной </span><span title=\"291 0.0000\" style=\"background-color:#aac7fd\">оплаты </span><span title=\"292 0.0000\" style=\"background-color:#aac7fd\">от </span><span title=\"293 0.0000\" style=\"background-color:#aac7fd\">Заказчика </span><span title=\"294 0.0000\" style=\"background-color:#aac7fd\">, </span><span title=\"295 0.0000\" style=\"background-color:#aac7fd\">Исполнитель </span><span title=\"296 0.0000\" style=\"background-color:#aac7fd\">обязуется </span><span title=\"297 -0.0000\" style=\"background-color:#aac7fd\">в </span><span title=\"298 -0.0000\" style=\"background-color:#aac7fd\">течение </span><span title=\"299 -0.0000\" style=\"background-color:#aac7fd\">5 </span><span title=\"300 -0.0000\" style=\"background-color:#aac7fd\">( </span><span title=\"301 -0.0000\" style=\"background-color:#aac7fd\">пяти </span><span title=\"302 -0.0000\" style=\"background-color:#aac7fd\">) </span><span title=\"303 -0.0000\" style=\"background-color:#aac7fd\">календарных </span><span title=\"304 -0.0000\" style=\"background-color:#aac7fd\">дней </span><span title=\"305 -0.0000\" style=\"background-color:#aac7fd\">со </span><span title=\"306 0.0000\" style=\"background-color:#aac7fd\">дня </span><span title=\"307 0.0000\" style=\"background-color:#aac7fd\">получения </span><span title=\"308 -0.0000\" style=\"background-color:#aac7fd\">предварительной </span><span title=\"309 -0.0000\" style=\"background-color:#aac7fd\">оплаты </span><span title=\"310 0.0000\" style=\"background-color:#aac7fd\">выполнения </span><span title=\"311 -0.0000\" style=\"background-color:#aac7fd\">работ </span><span title=\"312 -0.0000\" style=\"background-color:#aac7fd\">( </span><span title=\"313 0.0000\" style=\"background-color:#aac7fd\">оказания </span><span title=\"314 -0.0000\" style=\"background-color:#aac7fd\">услуг </span><span title=\"315 0.0000\" style=\"background-color:#aac7fd\">, </span><span title=\"316 0.0000\" style=\"background-color:#aac7fd\">поставок </span><span title=\"317 -0.0000\" style=\"background-color:#aac7fd\">товаров </span><span title=\"318 -0.0000\" style=\"background-color:#aac7fd\">) </span><span title=\"319 -0.0000\" style=\"background-color:#aac7fd\">выставить </span><span title=\"320 -0.0000\" style=\"background-color:#aac7fd\">и </span><span title=\"321 -0.0000\" style=\"background-color:#aac7fd\">направить </span><span title=\"322 -0.0000\" style=\"background-color:#aac7fd\">Заказчику </span><span title=\"323 -0.0000\" style=\"background-color:#aac7fd\">оригинал </span><span title=\"324 -0.0000\" style=\"background-color:#aac7fd\">первичных </span><span title=\"325 -0.0000\" style=\"background-color:#aac7fd\">бухгалтерских </span><span title=\"326 -0.0000\" style=\"background-color:#aac7fd\">документов </span><span title=\"327 -0.0000\" style=\"background-color:#aac7fd\">установленного </span><span title=\"328 0.0000\" style=\"background-color:#aac7fd\">образца </span><span title=\"329 0.0000\" style=\"background-color:#aac7fd\">. </span><span title=\"330 -0.0000\" style=\"background-color:#aac7fd\">\n",
              " </span><br><span title=\"331 -0.0000\" style=\"background-color:#aac7fd\">5.5 </span><span title=\"332 -0.0000\" style=\"background-color:#aac7fd\">. </span><span title=\"333 0.0000\" style=\"background-color:#aac7fd\">Датой </span><span title=\"334 0.0000\" style=\"background-color:#aac7fd\">оплаты </span><span title=\"335 0.0000\" style=\"background-color:#aac7fd\">считается </span><span title=\"336 0.0000\" style=\"background-color:#aac7fd\">дата </span><span title=\"337 0.0000\" style=\"background-color:#aac7fd\">списания </span><span title=\"338 0.0000\" style=\"background-color:#aac7fd\">соответствующих </span><span title=\"339 0.0000\" style=\"background-color:#aac7fd\">денежных </span><span title=\"340 0.0000\" style=\"background-color:#aac7fd\">средств </span><span title=\"341 0.0000\" style=\"background-color:#aac7fd\">с </span><span title=\"342 0.0000\" style=\"background-color:#aac7fd\">расчетного </span><span title=\"343 0.0000\" style=\"background-color:#aac7fd\">счета </span><span title=\"344 0.0000\" style=\"background-color:#aac7fd\">Заказчика </span><span title=\"345 0.0000\" style=\"background-color:#aac7fd\">. </span><span title=\"346 0.0000\" style=\"background-color:#aac7fd\">\n",
              " </span><br><span title=\"347 0.0000\" style=\"background-color:#aac7fd\">5.6 </span><span title=\"348 0.0000\" style=\"background-color:#aac7fd\">. </span><span title=\"349 0.0000\" style=\"background-color:#aac7fd\">Установленная </span><span title=\"350 0.0000\" style=\"background-color:#aac7fd\">в </span><span title=\"351 0.0000\" style=\"background-color:#aac7fd\">Приложении </span><span title=\"352 0.0000\" style=\"background-color:#aac7fd\">стоимость </span><span title=\"353 0.0000\" style=\"background-color:#aac7fd\">и </span><span title=\"354 0.0000\" style=\"background-color:#aac7fd\">условия </span><span title=\"355 0.0000\" style=\"background-color:#aac7fd\">оплаты </span><span title=\"356 0.0000\" style=\"background-color:#aac7fd\">Работ </span><span title=\"357 0.0000\" style=\"background-color:#aac7fd\">в </span><span title=\"358 0.0000\" style=\"background-color:#aac7fd\">период </span><span title=\"359 0.0000\" style=\"background-color:#aac7fd\">действия </span><span title=\"360 0.0000\" style=\"background-color:#aac7fd\">настоящего </span><span title=\"361 0.0000\" style=\"background-color:#aac7fd\">Договора </span><span title=\"362 0.0000\" style=\"background-color:#aac7fd\">может </span><span title=\"363 0.0000\" style=\"background-color:#aac7fd\">быть </span><span title=\"364 0.0000\" style=\"background-color:#aac7fd\">изменена </span><span title=\"365 0.0000\" style=\"background-color:#aac7fd\">только </span><span title=\"366 0.0000\" style=\"background-color:#aac7fd\">по </span><span title=\"367 0.0000\" style=\"background-color:#aac7fd\">письменному </span><span title=\"368 0.0000\" style=\"background-color:#aac7fd\">соглашению </span><span title=\"369 0.0000\" style=\"background-color:#aac7fd\">Сторон </span><span title=\"370 0.0000\" style=\"background-color:#aac7fd\">. </span><span title=\"371 0.0000\" style=\"background-color:#aac7fd\">\n",
              " </span><br><span title=\"372 0.0000\" style=\"background-color:#aac7fd\">\n",
              " </span><br></div>"
            ],
            "text/plain": [
              "<IPython.core.display.HTML object>"
            ]
          },
          "metadata": {
            "tags": []
          }
        },
        {
          "output_type": "stream",
          "text": [
            "❤️ ACCOMPLISHED: \t 2.\t searching for transaction values in section  \"5. СТОИМОСТЬ РАБОТ И ПОРЯДОК ОПЛАТЫ.\"\n",
            "❤️ ACCOMPLISHED: \t 3.\t fetching transaction values\n"
          ],
          "name": "stdout"
        },
        {
          "output_type": "display_data",
          "data": {
            "text/html": [
              "<b style=\"color:#993300\"> &gt;  RUB        50,950,000.00 confidence=                0.54</b> "
            ],
            "text/plain": [
              "<IPython.core.display.HTML object>"
            ]
          },
          "metadata": {
            "tags": []
          }
        },
        {
          "output_type": "display_data",
          "data": {
            "text/html": [
              "Предмет договора:<h3 style=\"margin:0\">Совершение сделки<sup> ContractSubject.Deal</sup> </h3> confidence:                0.39"
            ],
            "text/plain": [
              "<IPython.core.display.HTML object>"
            ]
          },
          "metadata": {
            "tags": []
          }
        },
        {
          "output_type": "display_data",
          "data": {
            "text/html": [
              "<h3 style=\"margin:0\">Выявленное Содержание документа</h3><ul><li> ДОГОВОР №___________ <sup>line 0</sup></li><li> 1. ПРЕДМЕТ ДОГОВОРА. <sup>line 7</sup></li><li> 2. ЗАЯВКА НА РАБОТУ <sup>line 14</sup></li><li> 3. ПОРЯДОК ПРИЕМА-ПЕРЕДАЧИ РЕЗУЛЬТАТОВ РАБОТ <sup>line 34</sup></li><li> 4. ОБЯЗАННОСТИ СТОРОН. <sup>line 40</sup></li><li> 5. СТОИМОСТЬ РАБОТ И ПОРЯДОК ОПЛАТЫ. <sup>line 53</sup></li><li> 6. ОТВЕТСТВЕННОСТЬ СТОРОН. <sup>line 63</sup></li><li> 7. ИНТЕЛЛЕКТУАЛЬНАЯ СОБСТВЕННОСТЬ. <sup>line 74</sup></li><li> 9. ФОРС-МАЖОР. <sup>line 130</sup></li><li> 10. КОНФИДЕНЦИАЛЬНОСТЬ. <sup>line 134</sup></li><li> 11. ПРОЧИЕ УСЛОВИЯ. <sup>line 137</sup></li><li> 12. ЮРИДИЧЕСКИЕ АДРЕСА И БАНКОВСКИЕ РЕКВИЗИТЫ СТОРОН. <sup>line 155</sup></li><li> Приложение №1 <sup>line 186</sup></li><li> Наименование Работы <sup>line 200</sup></li><li> ИТОГО. <sup>line 225</sup></li><li> Заказчик: Исполнитель: <sup>line 238</sup></li><li> Образец. <sup>line 256</sup></li><li> Заказчик: ___________________ Исполнитель: ______________________ <sup>line 271</sup></li></ul>"
            ],
            "text/plain": [
              "<IPython.core.display.HTML object>"
            ]
          },
          "metadata": {
            "tags": []
          }
        },
        {
          "output_type": "display_data",
          "data": {
            "image/png": "[encoded data removed]",
            "text/plain": [
              "<Figure size 1440x432 with 1 Axes>"
            ]
          },
          "metadata": {
            "tags": []
          }
        }
      ]
    },
    {
      "cell_type": "code",
      "metadata": {
        "id": "vHF4mlGBAEAh",
        "colab_type": "code",
        "colab": {
          "base_uri": "https://localhost:8080/",
          "height": 458
        },
        "outputId": "6f1de297-af11-4e76-f1cf-9c8894cd3724"
      },
      "source": [
        "_init_the_code(True)\n",
        "GLOBALS__['renderer'].render_subj(doc)\n",
        "GLOBALS__['renderer'].render_contents(doc)"
      ],
      "execution_count": 6,
      "outputs": [
        {
          "output_type": "stream",
          "text": [
            "❤️ DONE initializing the code\n"
          ],
          "name": "stdout"
        },
        {
          "output_type": "display_data",
          "data": {
            "text/html": [
              "Предмет договора:<h3 style=\"margin:0\">Совершение сделки<sup> ContractSubject.Deal</sup> </h3> confidence:                0.39"
            ],
            "text/plain": [
              "<IPython.core.display.HTML object>"
            ]
          },
          "metadata": {
            "tags": []
          }
        },
        {
          "output_type": "display_data",
          "data": {
            "text/html": [
              "<h3 style=\"margin:0\">Выявленное Содержание документа</h3><ul><li> ДОГОВОР №___________ <sup>line 0</sup></li><li> 1. ПРЕДМЕТ ДОГОВОРА. <sup>line 7</sup></li><li> 2. ЗАЯВКА НА РАБОТУ <sup>line 14</sup></li><li> 3. ПОРЯДОК ПРИЕМА-ПЕРЕДАЧИ РЕЗУЛЬТАТОВ РАБОТ <sup>line 34</sup></li><li> 4. ОБЯЗАННОСТИ СТОРОН. <sup>line 40</sup></li><li> 5. СТОИМОСТЬ РАБОТ И ПОРЯДОК ОПЛАТЫ. <sup>line 53</sup></li><li> 6. ОТВЕТСТВЕННОСТЬ СТОРОН. <sup>line 63</sup></li><li> 7. ИНТЕЛЛЕКТУАЛЬНАЯ СОБСТВЕННОСТЬ. <sup>line 74</sup></li><li> 9. ФОРС-МАЖОР. <sup>line 130</sup></li><li> 10. КОНФИДЕНЦИАЛЬНОСТЬ. <sup>line 134</sup></li><li> 11. ПРОЧИЕ УСЛОВИЯ. <sup>line 137</sup></li><li> 12. ЮРИДИЧЕСКИЕ АДРЕСА И БАНКОВСКИЕ РЕКВИЗИТЫ СТОРОН. <sup>line 155</sup></li><li> Приложение №1 <sup>line 186</sup></li><li> Наименование Работы <sup>line 200</sup></li><li> ИТОГО. <sup>line 225</sup></li><li> Заказчик: Исполнитель: <sup>line 238</sup></li><li> Образец. <sup>line 256</sup></li><li> Заказчик: ___________________ Исполнитель: ______________________ <sup>line 271</sup></li></ul>"
            ],
            "text/plain": [
              "<IPython.core.display.HTML object>"
            ]
          },
          "metadata": {
            "tags": []
          }
        }
      ]
    },
    {
      "cell_type": "markdown",
      "metadata": {
        "id": "QGv3HNDn5sFP",
        "colab_type": "text"
      },
      "source": [
        "### Ext"
      ]
    },
    {
      "cell_type": "code",
      "metadata": {
        "id": "J1iHjpFi5trH",
        "colab_type": "code",
        "colab": {}
      },
      "source": [
        "[(y.confidence, y.value) for y in sorted(GLOBALS__['ContractAnlysingContext'].contract.subjects, key=lambda x:-x.confidence )]"
      ],
      "execution_count": 0,
      "outputs": []
    },
    {
      "cell_type": "code",
      "metadata": {
        "id": "K5oq9UKV6GjV",
        "colab_type": "code",
        "colab": {}
      },
      "source": [
        "GLOBALS__['ContractAnlysingContext'].contract.subjects[0].__dict__"
      ],
      "execution_count": 0,
      "outputs": []
    },
    {
      "cell_type": "code",
      "metadata": {
        "id": "gp_RaSmD6Jkx",
        "colab_type": "code",
        "colab": {}
      },
      "source": [
        "GLOBALS__['ContractAnlysingContext'].contract.subjects[1].__dict__"
      ],
      "execution_count": 0,
      "outputs": []
    },
    {
      "cell_type": "code",
      "metadata": {
        "id": "EvJhXqHE6NuB",
        "colab_type": "code",
        "colab": {}
      },
      "source": [
        "GLOBALS__['ContractAnlysingContext'].contract.subjects[2].__dict__"
      ],
      "execution_count": 0,
      "outputs": []
    },
    {
      "cell_type": "code",
      "metadata": {
        "id": "li0QqB4C7OiN",
        "colab_type": "code",
        "colab": {}
      },
      "source": [
        "GLOBALS__['CharterAnlysingContext'].charter.subjects[2].__dict__"
      ],
      "execution_count": 0,
      "outputs": []
    },
    {
      "cell_type": "markdown",
      "metadata": {
        "id": "GnyR3dSIzUyE",
        "colab_type": "text"
      },
      "source": [
        "# step 3. Поиск вреда"
      ]
    },
    {
      "cell_type": "code",
      "metadata": {
        "id": "3ob6Mmo4z5BZ",
        "colab_type": "code",
        "colab": {}
      },
      "source": [
        "find_and_show_violations()"
      ],
      "execution_count": 0,
      "outputs": []
    },
    {
      "cell_type": "markdown",
      "metadata": {
        "id": "Qo8nIebSl7rE",
        "colab_type": "text"
      },
      "source": [
        "### subj correlations"
      ]
    },
    {
      "cell_type": "code",
      "metadata": {
        "id": "KWXN-Ecjl_GZ",
        "colab_type": "code",
        "colab": {}
      },
      "source": [
        "print(GLOBALS__['ContractAnlysingContext'].contract.sections['subj'].body.untokenize_cc())\n",
        "print(\"-\"*20)\n",
        "print(GLOBALS__['CharterAnlysingContext'].constraints['head.directors']['sentences'][1]['subdoc'].untokenize_cc())\n",
        "\n",
        "\n",
        "docA=GLOBALS__['ContractAnlysingContext'].contract.sections['subj'].body\n",
        "docB=GLOBALS__['CharterAnlysingContext'].constraints['head.directors']['sentences'][1]['subdoc']\n",
        "\n",
        "\n",
        "GLOBALS__['CharterAnlysingContext'].constraints['head.directors']['sentences'][1]"
      ],
      "execution_count": 0,
      "outputs": []
    },
    {
      "cell_type": "code",
      "metadata": {
        "id": "TboOY5t3plhK",
        "colab_type": "code",
        "colab": {}
      },
      "source": [
        "# GLOBALS__['CharterAnlysingContext'].doc.constraints\n",
        "_init_the_code(reset=True)\n",
        " "
      ],
      "execution_count": 0,
      "outputs": []
    },
    {
      "cell_type": "code",
      "metadata": {
        "id": "PGcbxq5poBH5",
        "colab_type": "code",
        "colab": {}
      },
      "source": [
        "from patterns import dist_mean_cosine as DF\n",
        "from text_tools import untokenize\n",
        "\n",
        "#\n",
        "# docA.embedd( GLOBALS__['CharterAnlysingContext'].pattern_factory )\n",
        "# docB.embeddings[0:10]\n",
        "# docA.embeddings = None\n",
        "import numpy as np\n",
        "\n",
        "\n",
        "def match_contract_to_charter_constraints(contract, charter, charter_constraints, charity_constraints):\n",
        "  \"\"\"\n",
        "  find best constraint to apply to Contract\n",
        "  \"\"\"\n",
        "\n",
        "  r_quotes = []\n",
        "  r_vector = []\n",
        "\n",
        "  quote_slice = slice(0, 17)\n",
        "\n",
        "  if 'subj' not in contract.sections:\n",
        "    raise ValueError(\"contract has no subject section\")\n",
        "\n",
        "  subj = contract.sections['subj'].body\n",
        "  print(subj.untokenize_cc())\n",
        "  print('------')\n",
        "  if subj.embeddings is None:\n",
        "    print(\"Subj embeddings are gone, restoring...\")\n",
        "    subj.embeddings = contract.embeddings[subj.start:subj.end]\n",
        "    #     subj.tokens = doc.tokens[subj.start:subj.end]\n",
        "    #     subj.tokens_cc = doc.tokens_cc[subj.start:subj.end]\n",
        "    #     subj.embedd( GLOBALS__['CharterAnlysingContext'].pattern_factory )\n",
        "    print('\\t\\t sample:', subj.embeddings[0][1:10])\n",
        "\n",
        "  for head_type in charter_constraints:\n",
        "\n",
        "    ##charity:\n",
        "    if head_type in charity_constraints:\n",
        "      print(f'{head_type} has charity constrinats')\n",
        "      \n",
        "      charity_constraints_by_head = charity_constraints[head_type]\n",
        "      charity_constraints_by_head_new = []\n",
        "      \n",
        "      charity_constraints['new.'+head_type] = charity_constraints_by_head_new\n",
        "      \n",
        "      for i in range(len(charity_constraints_by_head)):\n",
        "        _tuple = charity_constraints_by_head[i] \n",
        "#       for cc in charity_constraints[head_type]:\n",
        "        _slice = _tuple[0]\n",
        "        emb_charter = charter.sections[head_type].body.embeddings[_slice]\n",
        "        \n",
        "        distance = 1 - DF(emb_charter,  subj.embeddings[5:])\n",
        "        \n",
        "#         cc.add['subj_correlation'] = distance\n",
        "        \n",
        "#         detupling\n",
        "        charity_constraints_by_head_new.append ( {\n",
        "            'slice':_slice,\n",
        "            'subj_correlation': distance,\n",
        "            'confidence': _tuple[1],\n",
        "            'sum': _tuple[2]\n",
        "        })\n",
        "  \n",
        "        print('\\t'*4, 'cc=', charity_constraints_by_head_new[i])\n",
        "        \n",
        "        #         print('\\t\\t---CC', cc[0])\n",
        "        \n",
        "\n",
        "    #       GLOBALS__['CharterAnlysingContext'].doc.sections['head.directors'].body.embeddings[_slice]\n",
        "\n",
        "    ##------------------------charity end\n",
        "    print(f'measuring {head_type} constraints...'.upper())\n",
        "    cc = charter_constraints[head_type]\n",
        "    quotes = cc['sentences']\n",
        "    for quote in quotes:\n",
        "      print()\n",
        "      _q = untokenize(quote['subdoc'].tokens_cc[quote_slice])\n",
        "      print(_q)\n",
        "\n",
        "      distance = 1 - DF(quote['subdoc'].embeddings[quote_slice],\n",
        "                        subj.embeddings[5:])\n",
        "\n",
        "      quote['subj_correlation'] = distance\n",
        "\n",
        "      print(f'distance = {distance:.4f}')\n",
        "\n",
        "      r_quotes.append(_q)\n",
        "      r_vector.append(distance)\n",
        "      r_quotes.append('\\n')\n",
        "      r_vector.append(distance)\n",
        "\n",
        "  GLOBALS__['renderer'].render_color_text(r_quotes, r_vector)\n",
        "  print(r_vector)\n",
        "  print(r_quotes)\n",
        "  \n",
        "  \n",
        "match_contract_to_charter_constraints(GLOBALS__['ContractAnlysingContext'].contract,\n",
        "                                      GLOBALS__['CharterAnlysingContext'].doc,\n",
        "                                      GLOBALS__['CharterAnlysingContext'].constraints,\n",
        "                                      GLOBALS__['CharterAnlysingContext'].charity_constraints\n",
        "                                     )"
      ],
      "execution_count": 0,
      "outputs": []
    },
    {
      "cell_type": "code",
      "metadata": {
        "id": "hiOWiOKX9MEy",
        "colab_type": "code",
        "colab": {}
      },
      "source": [
        "from ml_tools import ProbableValue, np, TokensWithAttention\n",
        "from renderer import as_warning, as_offset, as_error_html, as_msg, as_quote, as_currency\n",
        "from text_tools import untokenize\n",
        "from transaction_values import ValueConstraint\n",
        "\n",
        "# //copy\n",
        "class ViolationsFinder:\n",
        "\n",
        "  def find_ranges_by_group(self, charter_constraints, m_convert, verbose=False):\n",
        "    ranges_by_group = {}\n",
        "    for head_group in charter_constraints:\n",
        "      #     print('-' * 20)\n",
        "      group_c = charter_constraints[head_group]\n",
        "      data = self._combine_constraints_in_group(group_c, m_convert, verbose)\n",
        "      ranges_by_group[head_group] = data\n",
        "    return ranges_by_group\n",
        "\n",
        "  @staticmethod\n",
        "  def _combine_constraints_in_group(group_c, m_convert, verbose=False):\n",
        "    # print(group_c)\n",
        "    # print(group_c['section'])\n",
        "\n",
        "    data = {\n",
        "      'name': group_c['section'],\n",
        "      'ranges': {}\n",
        "    }\n",
        "\n",
        "    sentences = group_c['sentences']\n",
        "    #   print (charter_constraints[head_group]['sentences'])\n",
        "    sentence_id = 0\n",
        "    for sentence in sentences:\n",
        "      constraint_low = None\n",
        "      constraint_up = None\n",
        "\n",
        "      sentence_id += 1\n",
        "      #     print (sentence['constraints'])\n",
        "\n",
        "      s_constraints = sentence['constraints']\n",
        "      # большие ищем\n",
        "      maximals = [x for x in s_constraints if x.value.sign > 0]\n",
        "\n",
        "      if len(maximals) > 0:\n",
        "        constraint_low = min(maximals, key=lambda item: m_convert(item.value).value)\n",
        "        # if verbose:\n",
        "        #   print(\"all maximals:\")\n",
        "        #   self.renderer.render_values(maximals)\n",
        "        #   print('\\t\\t\\t constraint_low', constraint_low.value.value)\n",
        "        #   self.renderer.render_values([constraint_low])\n",
        "\n",
        "      minimals = [x for x in s_constraints if x.value.sign <= 0]\n",
        "      if len(minimals) > 0:\n",
        "        constraint_up = min(minimals, key=lambda item: m_convert(item.value).value)\n",
        "        # if verbose:\n",
        "        #   print(\"all: minimals\")\n",
        "        #   self.renderer.render_values(minimals)\n",
        "        #   print('\\t\\t\\t constraint_upper', constraint_up.value.value)\n",
        "        #   self.renderer.render_values([constraint_up])\n",
        "        #   print(\"----X\")\n",
        "\n",
        "      if constraint_low is not None or constraint_up is not None:\n",
        "        data['ranges'][sentence_id] = VConstraint(constraint_low, constraint_up, group_c)\n",
        "\n",
        "    return data\n",
        "    # ==================================================================VIOLATIONS\n",
        "\n",
        "\n",
        "class VConstraint:\n",
        "  def __init__(self, lower, upper, head_group):\n",
        "    _emp = TokensWithAttention([''], [0])\n",
        "    self.lower = ProbableValue(ValueConstraint(0, 'RUB', +1, context=_emp), 0)\n",
        "    self.upper = ProbableValue(ValueConstraint(np.inf, 'RUB', -1, context=_emp), 0)\n",
        "\n",
        "    if lower is not None:\n",
        "      self.lower = lower\n",
        "\n",
        "    if upper is not None:\n",
        "      self.upper = upper\n",
        "\n",
        "    self.head_group = head_group\n",
        "\n",
        "  @staticmethod\n",
        "  def maybe_convert(v: ValueConstraint, convet_m):\n",
        "    html = \"\"\n",
        "    v_converted = v\n",
        "    if v.currency != 'RUB':\n",
        "      v_converted = convet_m(v)\n",
        "      html += as_warning(f\"конвертация валют {as_currency(v)} --> RUB \")\n",
        "      html += as_offset(as_warning(f\"примерно: {as_currency(v)} ~~  {as_currency(v_converted)}  \"))\n",
        "    return v, v_converted, html\n",
        "\n",
        "  def check_contract_value(self, _v: ProbableValue, convet_m, renderer):\n",
        "    greather_lower = False\n",
        "    greather_upper = False\n",
        "\n",
        "    if _v is None:\n",
        "      return as_error_html(\"сумма контракта неизвестна\")\n",
        "    v: ValueConstraint = _v.value\n",
        "\n",
        "    if v is None:\n",
        "      return as_error_html(\"сумма контракта не верна\")\n",
        "\n",
        "    if v.value is None:\n",
        "      return as_error_html(f\"сумма контракта не верна {v.currency}\")\n",
        "    ###----\n",
        "\n",
        "    lower_v = None\n",
        "    upper_v = None\n",
        "    if self.lower is not None:\n",
        "      lower_v: ValueConstraint = self.lower.value\n",
        "    if self.upper is not None:\n",
        "      upper_v: ValueConstraint = self.upper.value\n",
        "\n",
        "    html = as_msg(f\"Диапазон: {as_currency(lower_v)} < ..... < {as_currency(upper_v)}\")\n",
        "\n",
        "    v, v_converted, h = self.maybe_convert(v, convet_m)\n",
        "    html += h\n",
        "\n",
        "    if self.lower is not None:\n",
        "      lower_v: ValueConstraint = self.lower.value\n",
        "      lower_v, lower_converted, h = self.maybe_convert(lower_v, convet_m)\n",
        "      html += h\n",
        "\n",
        "      if v_converted.value >= lower_converted.value:\n",
        "        greather_lower = True\n",
        "        html += as_warning(\"требуется одобрение...\".upper())\n",
        "        html += as_warning(\n",
        "          f\"сумма договора  {as_currency(v_converted)}  БОЛЬШЕ нижней пороговой {as_currency(lower_converted)} \")\n",
        "        html += as_quote(untokenize(lower_v.context.tokens))\n",
        "\n",
        "    if self.upper is not None:\n",
        "\n",
        "      upper_v: ValueConstraint = self.upper.value\n",
        "      upper_v, upper_converted, h = self.maybe_convert(upper_v, convet_m)\n",
        "      html += h\n",
        "\n",
        "      if v_converted.value >= upper_converted.value:\n",
        "\n",
        "        html += as_error_html(\n",
        "          f\"сумма договора  {as_currency(v_converted)} БОЛЬШЕ верхней пороговой {as_currency(upper_converted)} \")\n",
        "\n",
        "      elif greather_lower:\n",
        "        head_name = self.head_group['section']\n",
        "        html += as_error_html(f'требуется одобрение со стороны \"{head_name.upper()}\"')\n",
        "\n",
        "        if lower_v.context is not None:\n",
        "          html += as_quote(renderer.to_color_text(lower_v.context.tokens, lower_v.context.attention, _range=[0, 1]))\n",
        "\n",
        "        if upper_v.context is not None:\n",
        "          html += '<br>'\n",
        "          html += as_quote(renderer.to_color_text(upper_v.context.tokens, upper_v.context.attention, _range=[0, 1]))\n",
        "\n",
        "    return html \n",
        "  \n",
        "  \n",
        "  \n",
        "  # AZ:-FINDING_VIOLATIONS--------------------------------------------------------\n",
        "def find_and_show_violations():\n",
        "  from IPython.core.display import display, HTML\n",
        "\n",
        "  from contract_parser import ContractAnlysingContext\n",
        "  from renderer import as_headline_2, as_error_html\n",
        "\n",
        "  charterAnlysingContext: CharterAnlysingContext = GLOBALS__['CharterAnlysingContext']\n",
        "  contractAnlysingContext: ContractAnlysingContext = GLOBALS__['ContractAnlysingContext']\n",
        "\n",
        "  contract = contractAnlysingContext.contract\n",
        "  charter = charterAnlysingContext.doc\n",
        "  \n",
        "  charter_constraints = charterAnlysingContext.constraints  # XXX: move to doc\n",
        "  charity_constraints = charterAnlysingContext.charity_constraints  # XXX: move to doc\n",
        "\n",
        "  \n",
        "\n",
        "  import copy\n",
        "\n",
        "  def convert(v):\n",
        "    v_converted = copy.copy(v)\n",
        "    if v.currency in currency_converter:\n",
        "      v_converted.value = currency_converter[v.currency] * v.value\n",
        "      v_converted.currency = 'RUB'\n",
        "      return v_converted\n",
        "    else:\n",
        "      display(HTML(as_error_html(\n",
        "        f\"мы не в настроении (пока) конвертировать {v.currency} --> RUB. Это вообще валюта какой страны? Румынии?\")))\n",
        "      return v\n",
        "\n",
        "  best_value = contractAnlysingContext.find_contract_best_value(convert)\n",
        "\n",
        "  # rendering:----------------------------\n",
        "\n",
        "  def _render_violations(ranges_by_group, best_value):\n",
        "    \n",
        "    for group_key in ranges_by_group:\n",
        "      group = ranges_by_group[group_key]\n",
        "      display(HTML(as_headline_2(group['name'])))\n",
        "\n",
        "      for rk in group['ranges']:\n",
        "        r = group['ranges'][rk]\n",
        "        display(HTML(r.check_contract_value(best_value, convert, renderer)))\n",
        "\n",
        "        \n",
        "  renderer = GLOBALS__['renderer']\n",
        "  renderer.render_subj(contract)\n",
        "  \n",
        "  print('---')\n",
        "  print(\"Сумма Договора:\")\n",
        "  renderer.render_values([best_value])\n",
        "  renderer.render_color_text(best_value.value.context.tokens, best_value.value.context.attention, _range=[0, 1])\n",
        "\n",
        "  violations_finder = ViolationsFinder()####//XXXX: remplaced\n",
        "  \n",
        "  \n",
        "  _render_violations(    \n",
        "    violations_finder.find_ranges_by_group(charter_constraints, convert, verbose=False),\n",
        "    best_value)\n",
        "  \n",
        "  \n",
        "  \n",
        "  \n",
        "  \n",
        "  \n",
        "find_and_show_violations()"
      ],
      "execution_count": 0,
      "outputs": []
    },
    {
      "cell_type": "code",
      "metadata": {
        "id": "1xOiDjj3KQN-",
        "colab_type": "code",
        "colab": {}
      },
      "source": [
        "contract= GLOBALS__['ContractAnlysingContext'].contract\n",
        "charter = GLOBALS__['CharterAnlysingContext'].doc\n",
        "# if( GLOBALS__['ContractAnlysingContext'].contract.subject[0] == 'charity'):\n",
        "#   print('charity')\n",
        "\n",
        "charity_constraints =  GLOBALS__['CharterAnlysingContext'].charity_constraints\n",
        "for cc in charity_constraints:\n",
        "  if cc[:4]=='new.':\n",
        "    print(cc[4:].upper() )\n",
        "    constraints = charity_constraints[cc]\n",
        "    for constraint in constraints:\n",
        "#       print(constraint)\n",
        "      if constraint['subj_correlation'] > 0.5:\n",
        "        GLOBALS__['ContractAnlysingContext'].renderer.render_subj(contract)\n",
        "        print(contract.sections['subj'].body.untokenize_cc())\n",
        "#         GLOBALS__['ContractAnlysingContext'].renderer.render_color_text(contract.sections['subj'].tokens, contract.sections['subj'].)\n",
        "\n",
        "        print (f\"\\nКореляция с ограничением устава: {constraint['subj_correlation']:.4f}\\n\\n\"  )\n",
        "        print(constraint['slice'])\n",
        "\n",
        "# contract.sections"
      ],
      "execution_count": 0,
      "outputs": []
    },
    {
      "cell_type": "code",
      "metadata": {
        "id": "2uZVU4M1osVo",
        "colab_type": "code",
        "colab": {}
      },
      "source": [
        "DIST_FUNC(docA.embeddings,  docB.embeddings)"
      ],
      "execution_count": 0,
      "outputs": []
    },
    {
      "cell_type": "markdown",
      "metadata": {
        "id": "NQMHGw2NzZU1",
        "colab_type": "text"
      },
      "source": [
        "# step 4. Протокол\n",
        "\n"
      ]
    },
    {
      "cell_type": "code",
      "metadata": {
        "id": "85aO_7B1zKFq",
        "colab_type": "code",
        "colab": {}
      },
      "source": [
        "uploaded = interactive_upload('Протокол, протокую и буду протоковать')\n",
        "GLOBALS__['ProtocolAnlysingContext'].process(uploaded[0])"
      ],
      "execution_count": 0,
      "outputs": []
    },
    {
      "cell_type": "code",
      "metadata": {
        "id": "TKaWFEoWcK_u",
        "colab_type": "code",
        "colab": {}
      },
      "source": [
        "## do preparation here   \n",
        "\n",
        "#1.\n",
        "_init_import_code_from_gh()\n",
        "#2.\n",
        "_init_embedder()\n",
        "#3.\n",
        "_init_the_code()\n",
        "#4. \n",
        "_init_charters()\n",
        "#5. \n",
        "# _init_contracts()"
      ],
      "execution_count": 0,
      "outputs": []
    },
    {
      "cell_type": "markdown",
      "metadata": {
        "id": "jzn0JxepKxei",
        "colab_type": "text"
      },
      "source": [
        "# Sample Charter"
      ]
    },
    {
      "cell_type": "code",
      "metadata": {
        "id": "BiDo5o2YcRkH",
        "colab_type": "code",
        "colab": {}
      },
      "source": [
        ""
      ],
      "execution_count": 0,
      "outputs": []
    },
    {
      "cell_type": "code",
      "metadata": {
        "id": "Yi0yZHbPsXHg",
        "colab_type": "code",
        "colab": {}
      },
      "source": [
        "SAMPLE=\"\"\"\n",
        " \n",
        "\n",
        "Общие положения\n",
        "\n",
        "\n",
        "\n",
        "\n",
        "\n",
        " \n",
        "\n",
        "\n",
        "Уставный капитал\n",
        "\n",
        "\n",
        "xxvii Уставный капитал Общества составляется из номинальной стоимости долей его Участников и составляет  6 734 244 615 (Шесть миллиардов семьсот тридцать четыре миллиона двести сорок четыре тысячи шестьсот пятнадцать) рублей.\n",
        "\n",
        "\n",
        "\n",
        "xxxv Общее собрание участников не вправе принимать решение о распределении прибыли Общества между Участниками Общества:\n",
        "\n",
        "       • до полной оплаты всего уставного капитала Общества;\n",
        "\n",
        "     \n",
        "\n",
        "Органы управления\n",
        "\n",
        "\n",
        "lxxxiv Органами управления Общества являются:\n",
        "\n",
        "\n",
        "       • Общее собрание участников Общества;\n",
        "\n",
        "\n",
        "       • Совет директоров – Коллегиальный орган управления;\n",
        "\n",
        "\n",
        "       • Правление Общества - Коллегиальный исполнительный орган;\n",
        "\n",
        "\n",
        "       • Генеральный директор - Единоличный исполнительный орган.\n",
        "\n",
        "\n",
        "Общее собрание участников Общества\n",
        "\n",
        "\n",
        "lxxxvi Высшим органом управления Общества является Общее собрание участников Общества. Очередное Общее собрание участников Общества  рассматривает и утверждает результаты деятельности Общества за финансовый год и проводится в период с 1 марта по 30 апреля. Проводимые помимо очередного Общие собрания участников Общества являются внеочередными. Внеочередные Общие собрания участников Общества проводятся в случаях, когда этого требуют интересы Общества.\n",
        "\n",
        "\n",
        "lxxxvii К исключительной компетенции Общего собрания участников Общества относятся следующие вопросы:\n",
        "\n",
        "    \n",
        "\n",
        "       12) установление размера, состава, формы и порядка внесения дополнительных вкладов, определение общей стоимости таких дополнительных вкладов, а также иных условий внесения дополнительных вкладов Участниками Общества;\n",
        "       13) принятие решения о согласии на совершение или о последующем одобрении крупных сделок, связанных с приобретением, отчуждением или возможностью отчуждения Обществом прямо или косвенно имущества, цена или балансовая стоимость которого составляет 25 (Двадцать пять) и более процентов балансовой стоимости имущества Общества по данным бухгалтерской отчетности на последнюю отчетную дату;\n",
        "       14) принятие решения о согласии на совершение или о последующем одобрении сделок, в совершении которых имеется заинтересованность, если цена или стоимость имущества, являющегося предметом сделки,  превышает 10 (десять) процентов балансовой процентов  балансовой стоимости имущества Общества по данным бухгалтерской отчетности на последнюю отчетную дату.\n",
        "       15) принятие решения о реорганизации или ликвидации Общества;\n",
        "       26) принятие решения о согласии на совершение или о последующем одобрении сделок мены, дарения, иных сделок, предусматривающих безвозмездное отчуждение имущества Общества либо оплату (встречное предоставление) в неденежной форме,  одобрение договоров спонсорского и благотворительного характера, независимо от суммы сделки, за исключением случаев, когда такие сделки требуют получения согласия органов управления Общества как крупные сделки и сделки с заинтересованностью;\n",
        "       27) решение вопросов, отнесенных к компетенции Совета директоров, в случае, если Совет директоров не избран;\n",
        "       28) решение иных вопросов, отнесенных в соответствии с действующим законодательством к компетенции Общего собрания участников Общества.\n",
        "\n",
        "\n",
        "\n",
        "Совет директоров Общества\n",
        "\n",
        "\n",
        "      1. Совет директоров осуществляет общее руководство деятельностью Общества, а также контроль над исполнением решений Общего собрания участников Общества и иной деятельностью его исполнительного органа.\n",
        "\n",
        "      2. Совет директоров состоит из 4 (Четырех) человек.\n",
        "\n",
        "      3. К компетенции Совета директоров относится:\n",
        "\n",
        "\n",
        "      14) утверждение процедур внутреннего контроля за финансово-хозяйственной деятельностью Общества, в том числе утверждение положения о внутрихозяйственном контроле, документальных проверках и ревизиях;\n",
        "\n",
        "      15) принятие решения о согласии на совершение или о последующем одобрении сделок, связанных с осуществлением денежных выплат и (или) приобретением, отчуждением и возможностью отчуждения, обременением и возможностью обременения Обществом имущества, в рамках которых цена предложения или стоимость отчуждаемого имущества, определенная на момент совершения сделки, превышает в рамках одной сделки или нескольких взаимосвязанных сделок, заключенных в течение 6 (шести) месяцев, в совокупности 50 000 000 (Пятьдесят миллионов) рублей или эквивалент данной суммы в иной валюте, за исключением случаев, когда такие сделки требуют получения согласия органов управления Общества  как крупные сделки и сделки с заинтересованностью, а также для сделок, одобряемых в соответствии с подпунктами 22)-26) пункта 11.2 настоящего Устава, подпунктами 17) –22), 30) пункта 12.3 настоящего Устава;\n",
        "\n",
        "      16) принятие решения о начале/урегулировании любых судебных споров и разбирательств, цена иска по которым превышает 50 000 000 (Пятьдесят миллионов) рублей (или эквивалент в другой валюте) в том числе, подписание мирового соглашения, признание иска, отказ от иска, а также совершение любых других процессуальных действий, кроме судебных споров, принятие решения, в отношении которых отнесено к компетенции Общего собрания участников Общества;\n",
        "\n",
        "\n",
        "Правление Общества\n",
        "\n",
        "\n",
        " 1. Правление является Коллегиальным исполнительным органом Общества. Правление Общества избирается Общим собранием участников Общества в количестве  2 (Двух) человек – членов Правления Общества.\n",
        "\n",
        "\n",
        "12. В случае непринятия Правлением решения по одному и тому же вопросу в ходе 2 (Двух) надлежаще созванных заседаний Правления по любым причинам, включая отсутствие кворума и недостаточность количества голосов для принятия решения, вопрос, по которому не было принято решение, выносится на рассмотрение Совета директоров (включается в повестку дня следующего созываемого Совета директоров). Во избежание сомнений, решение не может рассматриваться как непринятое для целей настоящего пункта, в случае, если решение не принято вследствие того, что против него проголосовали или воздержались от голосования все члены Правления.\n",
        "\n",
        "13. К компетенции Правления Общества относятся:\n",
        "\n",
        "\n",
        "\n",
        "         • согласование кандидатур на должности руководителей структурных подразделений (за исключением филиалов и представительств) Общества, а также условий трудовых договоров с указанными лицами, согласование освобождения от должностей указанных лиц;\n",
        "\n",
        "\n",
        "         • принятие решения о согласии на совершение или о последующем одобрении сделок, связанных с осуществлением денежных выплат и (или) приобретением, отчуждением и возможностью отчуждения, обременением и возможностью обременения Обществом имущества, стоимость которого в рамках одной сделки или нескольких взаимосвязанных сделок в совокупности составляет от 1 000 000 (Одного) миллиона рублей до 50 000 000 (Пятьдесят миллионов) рублей или эквивалент данной суммы в иной валюте, за исключением случаев, когда  такие сделки требуют получения согласия органов управления Общества  в соответствии с Законом и Уставом;\n",
        "\n",
        "\n",
        "         • принятие решения по приемке и оплате Обществом выполненных работ по Агентскому договору на строительство объекта «Южно-Приобский газоперерабатывающий завод (ЮП ГПЗ). Газокомпрессорная станция ЮЛТ Приобского месторождения» №10-875 от 29.09.2010 г., заключенному между Обществом и ООО «Газпромнефть-Хантос».\n",
        "\n",
        "\n",
        "Генеральный директор Общества\n",
        "\n",
        "\n",
        "cvi Руководство текущей деятельностью Общества осуществляется единоличным исполнительным органом Общества - Генеральным директором. Генеральный директор избирается Общим собранием участников Общества сроком на 3 (Три) года, если решением Общего собрания участников не предусмотрен иной срок. Генеральный директор может быть переизбран решением Общего собрания участников Общества неограниченное количество раз. Генеральный директор действует на основании Устава Общества и трудового договора, заключаемого с ним Обществом.\n",
        "\n",
        "\n",
        "       • утверждать внутренние документы, регулирующие текущую (операционную) деятельность Общества, и локальные нормативные акты (за исключением локальных нормативных актов, устанавливающих системы оплаты труда и других документов, утверждение которых отнесено к компетенции иных органов управления Общества);\n",
        "\n",
        "       • вносить вопросы на рассмотрение Общих собраний участников Общества, заседания Совета директоров;\n",
        "\n",
        "       • принимать решения по другим вопросам, относящимся к его компетенции.\n",
        "\n",
        "\n",
        "\n",
        "cxlv Недействительность любого положения настоящего Устава не влечет недействительности остальных его положений. В случае вступления в силу новых нормативных актов, в соответствии с которыми отдельные положения настоящего Устава становятся недействительными, и которые требуют внести изменения в Устав, Участники обязаны принять решения о внесении соответствующих изменений в настоящий Устав.\n",
        "\n",
        "v Полное фирменное наименование Общества на русском языке:\n",
        "\n",
        "      Общество с ограниченной ответственностью «Южно-Приобский газоперерабатывающий завод».\n",
        "\n",
        "      Сокращенное наименование на русском языке:\n",
        "\n",
        "      ООО «Южно-Приобский ГПЗ».\n",
        "\n",
        "\n",
        "      Полное фирменное наименование Общества на английском языке: Yuzhno-Priobsky Gaz Processing Plant Limited Liability Company.\n",
        "\n",
        "\n",
        "      Сокращенное наименование на английском языке:  Yuzhno-Priobsky GPP LLC.\n",
        "\n",
        "\n",
        "\"\"\"\n",
        "\n",
        "GLOBALS__['CharterAnlysingContext'].analyze_charter(SAMPLE)"
      ],
      "execution_count": 0,
      "outputs": []
    },
    {
      "cell_type": "code",
      "metadata": {
        "id": "_0s47A-ZhVN4",
        "colab_type": "code",
        "colab": {}
      },
      "source": [
        "'пииииууу'[::-1]"
      ],
      "execution_count": 0,
      "outputs": []
    },
    {
      "cell_type": "code",
      "metadata": {
        "id": "XpYNZGtEJRmR",
        "colab_type": "code",
        "colab": {}
      },
      "source": [
        "\n",
        "from IPython.core.display import display, HTML\n",
        "doc = GLOBALS__['CharterAnlysingContext'].doc\n",
        "GLOBALS__['renderer'].render_contents(doc)\n",
        "\n",
        " \n",
        "GLOBALS__['renderer'].render_charter_parsing_results(GLOBALS__['CharterAnlysingContext'].org,GLOBALS__['CharterAnlysingContext'].constraints)\n",
        "\n",
        "\n",
        "def render_sections(sections):\n",
        "  html = '<h3>Выявленное секции документа</h4>'\n",
        "  html += \"<ul>\"\n",
        "  for section_type in sections:\n",
        "    section:HeadlineMeta = sections[section_type]\n",
        "    body = section.body.untokenize_cc()[:1000]\n",
        "    headline = section.subdoc.untokenize_cc()[:500]\n",
        "    #     line = doc.structure.structure[i].to_string(doc.tokens_cc)\n",
        "    html += f'<li><h3> {headline} <sup>type: {section_type}</sup> </h3> <p>{body}</p> </li>'\n",
        "  html += \"</ul>\"\n",
        "\n",
        "  display(HTML(html))\n",
        "  \n",
        "def render_contents(doc):\n",
        "  html = '<h3>Выявленное Содержание документа</h4>'\n",
        "  html += \"<ul>\"\n",
        "  for i in doc.structure.headline_indexes:\n",
        "    line = doc.structure.structure[i].to_string(doc.tokens_cc)\n",
        "    html += f'<li> {line} <sup>line {i}</sup></li>'\n",
        "  html += \"</ul>\"\n",
        "\n",
        "  display(HTML(html))\n",
        "  \n",
        "render_sections(doc.sections)"
      ],
      "execution_count": 0,
      "outputs": []
    },
    {
      "cell_type": "code",
      "metadata": {
        "id": "8tyMy_vPK8GQ",
        "colab_type": "code",
        "colab": {}
      },
      "source": [
        ""
      ],
      "execution_count": 0,
      "outputs": []
    },
    {
      "cell_type": "markdown",
      "metadata": {
        "id": "6TUp36Q8K8ea",
        "colab_type": "text"
      },
      "source": [
        "#Upload charter"
      ]
    },
    {
      "cell_type": "code",
      "metadata": {
        "id": "twCGd5TFcTKI",
        "colab_type": "code",
        "colab": {}
      },
      "source": [
        "if False:\n",
        "  uploaded = interactive_upload('Charter')  \n",
        "  org, rz = GLOBALS__['CharterAnlysingContext'] .analyze_charter(uploaded[0])\n",
        "\n",
        "\n"
      ],
      "execution_count": 0,
      "outputs": []
    },
    {
      "cell_type": "code",
      "metadata": {
        "id": "dGRLbJ5kJuaO",
        "colab_type": "code",
        "colab": {}
      },
      "source": [
        "_init_contracts()"
      ],
      "execution_count": 0,
      "outputs": []
    },
    {
      "cell_type": "code",
      "metadata": {
        "id": "R6c9siQi9k_U",
        "colab_type": "code",
        "colab": {}
      },
      "source": [
        "GLOBALS__"
      ],
      "execution_count": 0,
      "outputs": []
    },
    {
      "cell_type": "markdown",
      "metadata": {
        "id": "6ZVFmJtpK_fG",
        "colab_type": "text"
      },
      "source": [
        "#Upload contract"
      ]
    },
    {
      "cell_type": "code",
      "metadata": {
        "id": "HEyYz8iPJ-4X",
        "colab_type": "code",
        "colab": {}
      },
      "source": [
        "uploaded = interactive_upload('Договор')  \n"
      ],
      "execution_count": 0,
      "outputs": []
    },
    {
      "cell_type": "code",
      "metadata": {
        "id": "xIOjRq7EKQA9",
        "colab_type": "code",
        "colab": {}
      },
      "source": [
        "GLOBALS__['ContractAnlysingContext'].verbosity_level=4\n",
        "GLOBALS__['ContractAnlysingContext'].analyze_contract(uploaded[0])"
      ],
      "execution_count": 0,
      "outputs": []
    },
    {
      "cell_type": "markdown",
      "metadata": {
        "id": "Eb6EitqjLF3O",
        "colab_type": "text"
      },
      "source": [
        "# Violations"
      ]
    },
    {
      "cell_type": "code",
      "metadata": {
        "id": "9YWejFEKKUrc",
        "colab_type": "code",
        "colab": {}
      },
      "source": [
        "#@title Настройки { run: \"auto\", display-mode: \"form\" }\n",
        "USD_to_RUB = 64.02 #@param {type:\"number\"}\n",
        "RUB_to_USD = 1.0/USD_to_RUB\n",
        "\n",
        "# print('USD_to_RUB=',USD_to_RUB)\n",
        "# print('RUB_to_USD=',RUB_to_USD)\n",
        "\n",
        "\n",
        "\n",
        "currency_converter = {\n",
        "  'USD': USD_to_RUB,\n",
        "  'RUB': 1.0\n",
        "}\n",
        "\n",
        "print(currency_converter)\n",
        "\n",
        "find_and_show_violations()"
      ],
      "execution_count": 0,
      "outputs": []
    },
    {
      "cell_type": "code",
      "metadata": {
        "id": "8igUeguItG3s",
        "colab_type": "code",
        "colab": {}
      },
      "source": [
        "doc=GLOBALS__['ContractAnlysingContext'].contract\n",
        "GLOBALS__['renderer'].render_contents(doc)\n"
      ],
      "execution_count": 0,
      "outputs": []
    },
    {
      "cell_type": "code",
      "metadata": {
        "id": "BhF8cq_PKKaK",
        "colab_type": "code",
        "colab": {}
      },
      "source": [
        "\n",
        "\n",
        "h = GLOBALS__['renderer'].render_constraint_values(GLOBALS__['CharterAnlysingContext'].constraints)\n",
        "display(HTML(h))\n",
        "\n",
        "\n"
      ],
      "execution_count": 0,
      "outputs": []
    },
    {
      "cell_type": "markdown",
      "metadata": {
        "id": "s2HHEc7cCZv-",
        "colab_type": "text"
      },
      "source": [
        "#violations (move and erase)"
      ]
    },
    {
      "cell_type": "code",
      "metadata": {
        "id": "ffboeHGOCdcM",
        "colab_type": "code",
        "colab": {}
      },
      "source": [
        "from transaction_values import ValueConstraint\n",
        "\n",
        "print('Поиск нарушений')\n",
        "from IPython.core.display import display, HTML\n",
        "\n",
        "contract = GLOBALS__['ContractAnlysingContext'].contract\n",
        "charter = GLOBALS__['CharterAnlysingContext'].doc\n",
        "charter_constraints = GLOBALS__['CharterAnlysingContext'].constraints  # XXX: move to doc\n",
        "\n",
        "#       h = GLOBALS__['renderer'].render_constraint_values(GLOBALS__['CharterAnlysingContext'].constraints)\n",
        "#       display(HTML(h))\n",
        "\n",
        "\n",
        "# def max_constraint_val(constraints):\n",
        "renderer = GLOBALS__['renderer']\n",
        "renderer.render_subj(contract)\n",
        "print()\n",
        "# GLOBALS__['renderer'].render_values(contract.contract_values)\n",
        "\n",
        "print(\"----------\")\n",
        "\n",
        "# GLOBALS__['renderer'].render_values([most_confident_value])\n",
        "# GLOBALS__['renderer'].render_color_text (most_confident_value.value.context[0], most_confident_value.value.context[1], _range=[0,1])\n",
        "\n",
        "# for c in contract.contract_values:\n",
        "#   print(c.confidence)\n",
        "#   print(c.value.value)\n",
        "# #   if c.value.value > best_c.value.value:\n",
        "\n",
        "\n",
        "# #   print(c.value.context)\n",
        "#   GLOBALS__['renderer'].render_color_text (c.value.context[0], c.value.context[1], _range=[0,1])\n",
        "\n",
        "# GLOBALS__['renderer'].render_contents(contract)\n",
        "\n",
        "\n",
        "# -------------------charter\n",
        "\n",
        "charter_constraints = GLOBALS__['CharterAnlysingContext'].constraints  # XXX: move to doc\n",
        "\n",
        "\n",
        "from ml_tools import ProbableValue\n",
        "\n",
        "currency_converter = {\n",
        "  'USD': USD_to_RUB,\n",
        "  'RUB': 1.0\n",
        "\n",
        "}\n",
        "import copy\n",
        "\n",
        "\n",
        "def convert(v, currency_converter=currency_converter):\n",
        "  v_converted = copy.copy(v)\n",
        "  if v.currency in currency_converter:\n",
        "    v_converted.value = currency_converter[v.currency] * v.value\n",
        "    v_converted.currency = 'RUB'\n",
        "    return v_converted\n",
        "  else:\n",
        "    display(HTML(as_error_html(\n",
        "      f\"мы не в настроении (пока) конвертировать {v.currency} --> RUB. Это вообще валюта какой страны? Румынии?\")))\n",
        "    return v\n",
        "\n",
        "\n",
        "from text_tools import untokenize\n",
        "import numpy as np\n",
        "\n",
        "class VConstraint:\n",
        "  def __init__(self, lower, upper, head_group):\n",
        "    self.lower = ProbableValue( ValueConstraint(0, 'RUB', +1), 0 )\n",
        "    self.upper = ProbableValue( ValueConstraint(np.inf, 'RUB', -1), 0 )\n",
        "    \n",
        "    if lower is not None:\n",
        "      self.lower = lower\n",
        "     \n",
        "\n",
        "    if upper is not None:\n",
        "      self.upper = upper\n",
        "     \n",
        "      \n",
        "    self.head_group = head_group\n",
        "\n",
        "  def maybe_convert(self, v: ValueConstraint, currency_converter):\n",
        "    html = \"\"\n",
        "    v_converted = v\n",
        "    if v.currency != 'RUB':\n",
        "      v_converted = convert(v, currency_converter)\n",
        "      html += as_warning(f\"конвертация валют {as_currency(v)} --> RUB \")\n",
        "      html += as_offset(as_warning(f\"примерно: {as_currency(v)} ~~  {as_currency(v_converted)}  \"))\n",
        "    return v, v_converted, html\n",
        "\n",
        "  def check_contract_value(self, _v: ProbableValue, currency_converter):\n",
        "    greather_lower = False\n",
        "    greather_upper = False\n",
        "\n",
        "    if _v is None:\n",
        "      return as_error_html(\"сумма контракта не известна\")\n",
        "    v: ValueConstraint = _v.value\n",
        "\n",
        "    if v is None:\n",
        "      return as_error_html(\"сумма контракта не верна\")\n",
        "\n",
        "    if v.value is None:\n",
        "      return as_error_html(f\"сумма контракта не верна {v.currency}\")\n",
        "    ###----\n",
        "\n",
        "    lower_v = None\n",
        "    upper_v = None\n",
        "    if self.lower is not None:\n",
        "      lower_v: ValueConstraint = self.lower.value\n",
        "    if self.upper is not None:\n",
        "      upper_v: ValueConstraint = self.upper.value\n",
        "\n",
        "    html = as_msg(f\"диапазон: {as_currency(lower_v)} < ..... < {as_currency(upper_v)}\")\n",
        "\n",
        "    v, v_converted, h = self.maybe_convert(v, currency_converter)\n",
        "    html += h\n",
        "\n",
        "    if self.lower is not None:\n",
        "      lower_v: ValueConstraint = self.lower.value\n",
        "      lower_v, lower_converted, h = self.maybe_convert(lower_v, currency_converter)\n",
        "      html += h\n",
        "\n",
        "      if v_converted.value >= lower_converted.value:\n",
        "        greather_lower = True\n",
        "        html += as_warning(\"требуется одобрение...\".upper())\n",
        "        html += as_warning(\n",
        "          f\"сумма договора  {as_currency(v_converted)}  БОЛЬШЕ нижней пороговой {as_currency(lower_converted)} \")\n",
        "        html += as_quote(untokenize(lower_v.context[0]))\n",
        "\n",
        "    if self.upper is not None:\n",
        "\n",
        "      upper_v: ValueConstraint = self.upper.value\n",
        "      upper_v, upper_converted, h = self.maybe_convert(upper_v, currency_converter)\n",
        "      html += h\n",
        "\n",
        "      if v_converted.value >= upper_converted.value:\n",
        "\n",
        "        html += as_error_html(\n",
        "          f\"сумма договора  {as_currency(v_converted)} БОЛЬШЕ верхней пороговой {as_currency(upper_converted)} \")\n",
        "\n",
        "      elif greather_lower:\n",
        "        head_name = self.head_group['section']\n",
        "        html += as_error_html(f'требуется одобрение со стороны \"{head_name.upper()}\"')\n",
        "\n",
        "        if lower_v.context is not None:\n",
        "          html += as_quote(renderer.to_color_text(lower_v.context[0], lower_v.context[1], _range=[0, 1]))\n",
        "        if upper_v.context is not None:\n",
        "          html += '<br>'\n",
        "          html += as_quote(renderer.to_color_text(upper_v.context[0], upper_v.context[1], _range=[0, 1]))\n",
        "\n",
        "    return html\n",
        "\n",
        "\n",
        "# -----------\n",
        "\n",
        "\n",
        "def _combine_constraints_in_group(group_c, verbose=False):\n",
        "  # print(group_c)\n",
        "  # print(group_c['section'])\n",
        "\n",
        "  data = {\n",
        "    'name': group_c['section'],\n",
        "    'ranges': {}\n",
        "  }\n",
        "\n",
        "  sentences = group_c['sentences']\n",
        "  #   print (charter_constraints[head_group]['sentences'])\n",
        "  sentence_id = 0\n",
        "  for sentence in sentences:\n",
        "    constraint_low = None\n",
        "    constraint_up = None\n",
        "\n",
        "    sentence_id += 1\n",
        "    #     print (sentence['constraints'])\n",
        "\n",
        "    s_constraints = sentence['constraints']\n",
        "    # большие ищем\n",
        "    maximals = [x for x in s_constraints if x.value.sign > 0]\n",
        "\n",
        "    if len(maximals) > 0:\n",
        "      constraint_low = min(maximals, key=lambda item: convert(item.value, currency_converter).value)\n",
        "      if verbose:\n",
        "        print(\"all maximals:\")\n",
        "        renderer.render_values(maximals)\n",
        "        print('\\t\\t\\t constraint_low', constraint_low.value.value)\n",
        "        renderer.render_values([constraint_low])\n",
        "\n",
        "    minimals = [x for x in s_constraints if x.value.sign <= 0]\n",
        "    if len(minimals) > 0:\n",
        "      constraint_up = min(minimals, key=lambda item: convert(item.value, currency_converter).value)\n",
        "      if verbose:\n",
        "        print(\"all: minimals\")\n",
        "        renderer.render_values(minimals)\n",
        "        print('\\t\\t\\t constraint_upper', constraint_up.value.value)\n",
        "        renderer.render_values([constraint_up])\n",
        "        print(\"----X\")\n",
        "\n",
        "    if constraint_low is not None or constraint_up is not None:\n",
        "      data['ranges'][sentence_id] = VConstraint(constraint_low, constraint_up, group_c)\n",
        "\n",
        "  return data\n",
        "\n",
        "\n",
        "def find_ranges_by_group(charter_constraints):\n",
        "  ranges_by_group = {}\n",
        "  for head_group in charter_constraints:\n",
        "    #     print('-' * 20)\n",
        "    group_c = charter_constraints[head_group]\n",
        "    data = _combine_constraints_in_group(group_c)\n",
        "    ranges_by_group[head_group] = data\n",
        "  return ranges_by_group\n",
        "\n",
        "\n",
        "def select_most_confident_if_almost_equal(a: ProbableValue, alternative: ProbableValue, equality_range=0):\n",
        "  if abs(convert(a.value).value - convert(alternative.value).value) < equality_range:\n",
        "    if a.confidence > alternative.confidence:\n",
        "      return a\n",
        "    else:\n",
        "      return alternative\n",
        "  return a\n",
        "\n",
        "\n",
        "def find_contract_best_value(contract):\n",
        "  best_value: ProbableValue = max(contract.contract_values,\n",
        "                                  key=lambda item: convert(item.value, currency_converter).value)\n",
        "\n",
        "  most_confident_value = max(contract.contract_values, key=lambda item: item.confidence)\n",
        "  best_value = select_most_confident_if_almost_equal(best_value, most_confident_value, 20)\n",
        "\n",
        "  return best_value\n",
        "\n",
        "\n",
        "best_value = find_contract_best_value(contract)\n",
        "\n",
        "\n",
        "# rendering:----------------------------\n",
        "\n",
        "\n",
        "def _render_violations(ranges_by_group, best_value):\n",
        "  for group_key in ranges_by_group:\n",
        "    group = ranges_by_group[group_key]\n",
        "    #   print(group['name'])\n",
        "    display(HTML(as_headline_2(group['name'])))\n",
        "\n",
        "    for rk in group['ranges']:\n",
        "      r = group['ranges'][rk]\n",
        "      display(HTML(r.check_contract_value(best_value, currency_converter)))\n",
        "\n",
        "\n",
        "print(\"Сумма Договора:\")\n",
        "renderer.render_values([best_value])\n",
        "renderer.render_color_text(best_value.value.context[0], best_value.value.context[1], _range=[0, 1])\n",
        "\n",
        "_render_violations(\n",
        "  find_ranges_by_group(charter_constraints),\n",
        "  best_value)\n",
        "\n",
        "display(HTML(renderer.render_constraint_values(charter_constraints)))\n"
      ],
      "execution_count": 0,
      "outputs": []
    },
    {
      "cell_type": "markdown",
      "metadata": {
        "id": "IdYrfpIZCnZp",
        "colab_type": "text"
      },
      "source": [
        "## чистовик"
      ]
    },
    {
      "cell_type": "code",
      "metadata": {
        "id": "dvXylOnCCqDN",
        "colab_type": "code",
        "colab": {}
      },
      "source": [
        "from transaction_values import ValueConstraint\n",
        "\n",
        "print('Поиск нарушений')\n",
        "from IPython.core.display import display, HTML\n",
        "\n",
        "contract = GLOBALS__['ContractAnlysingContext'].contract\n",
        "charter = GLOBALS__['CharterAnlysingContext'].doc\n",
        "charter_constraints = GLOBALS__['CharterAnlysingContext'].constraints  # XXX: move to doc\n",
        "\n",
        " \n",
        "renderer = GLOBALS__['renderer']\n",
        "renderer.render_subj(contract)\n",
        "  \n",
        "\n",
        "charter_constraints = GLOBALS__['CharterAnlysingContext'].constraints  # XXX: move to doc\n",
        "\n",
        "\n",
        "from ml_tools import ProbableValue\n",
        "from text_tools import untokenize\n",
        "import numpy as np\n",
        "\n",
        "\n",
        "def convert(v):\n",
        "  \n",
        "  v_converted = copy.copy(v)\n",
        "  if v.currency in currency_converter:\n",
        "    v_converted.value = currency_converter[v.currency] * v.value\n",
        "    v_converted.currency = 'RUB'\n",
        "    return v_converted\n",
        "  else:\n",
        "    display(HTML(as_error_html(\n",
        "      f\"мы не в настроении (пока) конвертировать {v.currency} --> RUB. Это вообще валюта какой страны? Румынии?\")))\n",
        "    return v\n",
        "\n",
        "\n",
        " \n",
        "\n",
        "\n",
        "def _combine_constraints_in_group(group_c, verbose=False):\n",
        "  # print(group_c)\n",
        "  # print(group_c['section'])\n",
        "\n",
        "  data = {\n",
        "    'name': group_c['section'],\n",
        "    'ranges': {}\n",
        "  }\n",
        "\n",
        "  sentences = group_c['sentences']\n",
        "  #   print (charter_constraints[head_group]['sentences'])\n",
        "  sentence_id = 0\n",
        "  for sentence in sentences:\n",
        "    constraint_low = None\n",
        "    constraint_up = None\n",
        "\n",
        "    sentence_id += 1\n",
        "    #     print (sentence['constraints'])\n",
        "\n",
        "    s_constraints = sentence['constraints']\n",
        "    # большие ищем\n",
        "    maximals = [x for x in s_constraints if x.value.sign > 0]\n",
        "\n",
        "    if len(maximals) > 0:\n",
        "      constraint_low = min(maximals, key=lambda item: convert(item.value, currency_converter).value)\n",
        "      if verbose:\n",
        "        print(\"all maximals:\")\n",
        "        renderer.render_values(maximals)\n",
        "        print('\\t\\t\\t constraint_low', constraint_low.value.value)\n",
        "        renderer.render_values([constraint_low])\n",
        "\n",
        "    minimals = [x for x in s_constraints if x.value.sign <= 0]\n",
        "    if len(minimals) > 0:\n",
        "      constraint_up = min(minimals, key=lambda item: convert(item.value, currency_converter).value)\n",
        "      if verbose:\n",
        "        print(\"all: minimals\")\n",
        "        renderer.render_values(minimals)\n",
        "        print('\\t\\t\\t constraint_upper', constraint_up.value.value)\n",
        "        renderer.render_values([constraint_up])\n",
        "        print(\"----X\")\n",
        "\n",
        "    if constraint_low is not None or constraint_up is not None:\n",
        "      data['ranges'][sentence_id] = VConstraint(constraint_low, constraint_up, group_c)\n",
        "\n",
        "  return data\n",
        "\n",
        "\n",
        "def find_ranges_by_group(charter_constraints):\n",
        "  ranges_by_group = {}\n",
        "  for head_group in charter_constraints:\n",
        "    #     print('-' * 20)\n",
        "    group_c = charter_constraints[head_group]\n",
        "    data = _combine_constraints_in_group(group_c)\n",
        "    ranges_by_group[head_group] = data\n",
        "  return ranges_by_group\n",
        "\n",
        "\n",
        "def select_most_confident_if_almost_equal(a: ProbableValue, alternative: ProbableValue, equality_range=0):\n",
        "  if abs(convert(a.value).value - convert(alternative.value).value) < equality_range:\n",
        "    if a.confidence > alternative.confidence:\n",
        "      return a\n",
        "    else:\n",
        "      return alternative\n",
        "  return a\n",
        "\n",
        "\n",
        "def find_contract_best_value(contract):\n",
        "  best_value: ProbableValue = max(contract.contract_values,\n",
        "                                  key=lambda item: convert(item.value, currency_converter).value)\n",
        "\n",
        "  most_confident_value = max(contract.contract_values, key=lambda item: item.confidence)\n",
        "  best_value = select_most_confident_if_almost_equal(best_value, most_confident_value, 20)\n",
        "\n",
        "  return best_value\n",
        "\n",
        "\n",
        "best_value = find_contract_best_value(contract)\n",
        "\n",
        "\n",
        "# rendering:----------------------------\n",
        "\n",
        "\n",
        "def _render_violations(ranges_by_group, best_value):\n",
        "  for group_key in ranges_by_group:\n",
        "    group = ranges_by_group[group_key]\n",
        "    #   print(group['name'])\n",
        "    display(HTML(as_headline_2(group['name'])))\n",
        "\n",
        "    for rk in group['ranges']:\n",
        "      r = group['ranges'][rk]\n",
        "      display(HTML(r.check_contract_value(best_value, currency_converter, renderer)))\n",
        "\n",
        "\n",
        "print(\"Сумма Договора:\")\n",
        "renderer.render_values([best_value])\n",
        "renderer.render_color_text(best_value.value.context[0], best_value.value.context[1], _range=[0, 1])\n",
        "\n",
        "_render_violations(\n",
        "  find_ranges_by_group(charter_constraints),\n",
        "  best_value)\n",
        "\n",
        "display(HTML(renderer.render_constraint_values(charter_constraints)))\n"
      ],
      "execution_count": 0,
      "outputs": []
    },
    {
      "cell_type": "markdown",
      "metadata": {
        "id": "T1D7Zdk9L5GY",
        "colab_type": "text"
      },
      "source": [
        "#~~~~ Garbage, to be removed"
      ]
    },
    {
      "cell_type": "code",
      "metadata": {
        "id": "ItuAG1-lClzz",
        "colab_type": "code",
        "colab": {}
      },
      "source": [
        ""
      ],
      "execution_count": 0,
      "outputs": []
    },
    {
      "cell_type": "code",
      "metadata": {
        "id": "m4fYh_qZL4Kb",
        "colab_type": "code",
        "colab": {}
      },
      "source": [
        ""
      ],
      "execution_count": 0,
      "outputs": []
    },
    {
      "cell_type": "code",
      "metadata": {
        "id": "ijcdJr7MCXgI",
        "colab_type": "code",
        "colab": {}
      },
      "source": [
        "# violations "
      ],
      "execution_count": 0,
      "outputs": []
    },
    {
      "cell_type": "code",
      "metadata": {
        "id": "IiDHL0oNGfOU",
        "colab_type": "code",
        "colab": {}
      },
      "source": [
        "\n",
        "from IPython.core.display import display, HTML\n",
        "def render_subj(self, doc):\n",
        "      from demo import subject_types_dict\n",
        "      subj=doc.subject\n",
        "      s_name=subject_types_dict[ subj[0]].upper()\n",
        "      \n",
        "      display(HTML(f'Предмет договора:<h3 style=\"margin:0\">{s_name}<sup> {subj[0]}</sup> </h3> confidence:{subj[1]:20,.2f}'))\n",
        "\n",
        "r=GLOBALS__['renderer']\n",
        "# GLOBALS__['renderer'].render_subj = render_subj \n",
        "\n",
        "import types\n",
        "r.render_subj = types.MethodType( render_subj, r )\n",
        "\n",
        "contract = GLOBALS__['ContractAnlysingContext'].contract\n",
        "GLOBALS__['renderer'].render_subj(contract)\n"
      ],
      "execution_count": 0,
      "outputs": []
    },
    {
      "cell_type": "code",
      "metadata": {
        "id": "KcCp4a1F-gl0",
        "colab_type": "code",
        "colab": {}
      },
      "source": [
        "doc = GLOBALS__['CharterAnlysingContext'].doc\n",
        "from IPython.core.display import display, HTML\n",
        "\n",
        "\n",
        "def render_contents(doc):\n",
        "  html='<h3>Выявленное Содержание документа</h4>'\n",
        "  html+=\"<ul>\"\n",
        "  for i in doc.structure.headline_indexes:\n",
        "    line = doc.structure.structure[i].to_string(doc.tokens_cc)\n",
        "    html+=f'<li> {line} <sup>line {i}</sup></li>'\n",
        "  html+=\"</ul>\"\n",
        " \n",
        "  \n",
        "  display(HTML(html))\n",
        "    \n",
        "render_contents(doc)"
      ],
      "execution_count": 0,
      "outputs": []
    },
    {
      "cell_type": "code",
      "metadata": {
        "id": "uHc0PpyRMq5r",
        "colab_type": "code",
        "colab": {}
      },
      "source": [
        "print(GLOBALS__['ContractAnlysingContext'].contract)\n"
      ],
      "execution_count": 0,
      "outputs": []
    },
    {
      "cell_type": "code",
      "metadata": {
        "id": "P_2rjssX0KUp",
        "colab_type": "code",
        "colab": {}
      },
      "source": [
        "\n",
        "\n",
        "# constraints = GLOBALS__['CharterAnlysingContext'].constraints\n",
        "\n",
        "# GLOBALS__['renderer'].render_values(GLOBALS__['ContractAnlysingContext'].contract_values)\n",
        "# GLOBALS__['renderer'].render_charter_parsing_results(GLOBALS__['CharterAnlysingContext'].org, GLOBALS__['CharterAnlysingContext'].constraints)\n",
        "\n",
        "\n",
        "# # for i in \n",
        "\n",
        "# for headkey in constraints:\n",
        "#   cc = constraints[headkey]\n",
        "#   print (cc)\n",
        "#   print (cc['section'])\n",
        "#   print (cc['caption'])\n",
        "  \n",
        "#   for s in cc['sentences']:\n",
        "#     print ('\\t\\t',s['constraints'])\n",
        "#     c = s['constraints']\n",
        "#     for vc in c:\n",
        "#       print(f'\\t\\t\\t {vc.value} \\t {vc.sign} \\t {vc.currency}')\n",
        "\n"
      ],
      "execution_count": 0,
      "outputs": []
    }
  ]
}