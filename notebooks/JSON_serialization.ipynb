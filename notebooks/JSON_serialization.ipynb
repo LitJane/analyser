{
  "nbformat": 4,
  "nbformat_minor": 0,
  "metadata": {
    "colab": {
      "name": "JSON serialization.ipynb",
      "version": "0.3.2",
      "provenance": [],
      "collapsed_sections": [],
      "toc_visible": true,
      "include_colab_link": true
    },
    "kernelspec": {
      "name": "python3",
      "display_name": "Python 3"
    }
  },
  "cells": [
    {
      "cell_type": "markdown",
      "metadata": {
        "id": "view-in-github",
        "colab_type": "text"
      },
      "source": [
        "<a href=\"https://colab.research.google.com/github/compartia/nlp_tools/blob/tensorflow-model/notebooks/JSON_serialization.ipynb\" target=\"_parent\"><img src=\"https://colab.research.google.com/assets/colab-badge.svg\" alt=\"Open In Colab\"/></a>"
      ]
    },
    {
      "cell_type": "markdown",
      "metadata": {
        "id": "iLxw4t56_uSZ",
        "colab_type": "text"
      },
      "source": [
        "#JSON serialization"
      ]
    },
    {
      "cell_type": "code",
      "metadata": {
        "id": "vXHjbkIfc8Ws",
        "colab_type": "code",
        "colab": {}
      },
      "source": [
        "GLOBALS__={}"
      ],
      "execution_count": 0,
      "outputs": []
    },
    {
      "cell_type": "markdown",
      "metadata": {
        "id": "nwpPPXqRQs6-",
        "colab_type": "text"
      },
      "source": [
        "## MAIN, init, load code"
      ]
    },
    {
      "cell_type": "code",
      "metadata": {
        "id": "-2Oe-BsTcCIW",
        "colab_type": "code",
        "outputId": "24e55579-636c-4675-a799-6b526197a1e1",
        "colab": {
          "base_uri": "https://localhost:8080/",
          "height": 638
        }
      },
      "source": [
        "#@title  { form-width: \"300px\", display-mode: \"form\" }\n",
        "import os\n",
        "ГребаноеНичто = None\n",
        "\n",
        "\n",
        "\n",
        "\n",
        "\n",
        "# ''' AZ:-IMPORT CODE GITHUB----------------------------------------------😺------ '''\n",
        "import sys\n",
        "# ====================================\n",
        "# ====================================\n",
        "_git_branch = \"tensorflow-model\"  # @param {type:\"string\"}\n",
        "# ====================================\n",
        "# ====================================\n",
        "\n",
        "\n",
        "def _init_import_code_from_gh():\n",
        "  if 'GLOBALS__' not in globals():\n",
        "    print('adding global GLOBALS__')\n",
        "    global GLOBALS__\n",
        "    GLOBALS__ = {}\n",
        "\n",
        "  if '_init_import_code_from_gh' in GLOBALS__:\n",
        "    print('👌 code already imported from GitHub!')\n",
        "    return\n",
        "\n",
        "  import subprocess\n",
        "  def exec(x):\n",
        "    r = subprocess.check_output(x, shell=True)\n",
        "    r = r.decode('unicode-escape').encode('latin1').decode('utf8')\n",
        "    print(r)\n",
        "\n",
        "  print(f\"fetching code from GitHub.....{_git_branch}\")\n",
        "  try:\n",
        "    exec('rm -r nlp_tools')\n",
        "  except:\n",
        "    pass\n",
        "  exec(f'git clone --single-branch --branch {_git_branch} https://github.com/compartia/nlp_tools.git nlp_tools')\n",
        "\n",
        "  print('🦊 GIT revision:')\n",
        "  exec('cd nlp_tools\\ngit rev-list --reverse HEAD | awk \"{ print NR }\" | tail -n 1\\ngit branch\\ngit log -3 --pretty=%B')\n",
        "\n",
        "  sys.path.insert(0, 'nlp_tools')\n",
        "\n",
        "  # self-test\n",
        "  from text_tools import untokenize\n",
        "  print(untokenize(['code', 'imported', 'OK 👍']))\n",
        "\n",
        "  print('installing antiword...')\n",
        "  exec('sudo apt-get install antiword')\n",
        "\n",
        "  print('installing docx2txt...')\n",
        "  exec(\"pip install docx2txt\")\n",
        "\n",
        "  GLOBALS__['_init_import_code_from_gh'] = True\n",
        "\n",
        "  ''' AZ:-------------------------------------------------IMPORT CODE GITHUB-😺---'''\n",
        "  print('❤️ DONE importing Code fro GitHub')\n",
        "\n",
        "\n",
        "# AZ:-INIT ELMO-----------------------------------------------------------------------------------\n",
        "\n",
        "import tensorflow_hub as hub\n",
        "\n",
        "#\n",
        "import matplotlib as mpl\n",
        "import matplotlib.pyplot as plt\n",
        "from IPython.core.display import display, HTML\n",
        "\n",
        "\n",
        " \n",
        "\n",
        "# AZ:- THE CODE----------------------------------------------------------------------------------\n",
        "\n",
        "def _init_the_code(reset=False):\n",
        "  if '_init_the_code' in GLOBALS__ and not reset:\n",
        "    print('👌 Code is alredy imported!')\n",
        "    return\n",
        "\n",
        "  from renderer import HtmlRenderer\n",
        "  from renderer import to_multicolor_text\n",
        "  from renderer import known_subjects_dict\n",
        "\n",
        "  from structures import ContractSubject\n",
        "  from contract_parser import ContractDocument3\n",
        "\n",
        "  from ml_tools import ProbableValue\n",
        "\n",
        "  from legal_docs import LegalDocument\n",
        "  from renderer import as_warning, as_headline_3, as_offset, as_smaller\n",
        "\n",
        "  class DemoRenderer(HtmlRenderer):\n",
        "\n",
        "    def render_color_text(self, tokens, weights, colormap='coolwarm', print_debug=False, _range=None):\n",
        "      html = self.to_color_text(tokens, weights, colormap, print_debug, _range)\n",
        "      display(HTML(html))\n",
        "\n",
        "    def to_color_text(self, tokens, weights, colormap='coolwarm', print_debug=False, _range=None):\n",
        "      return super()._to_color_text(tokens, weights, mpl, colormap=colormap, _range=_range)\n",
        "\n",
        "    def render_multicolor_text(self, tokens, vectors, colormap, min_color=None, _slice=None):\n",
        "      display(HTML(to_multicolor_text(tokens, vectors, colormap, min_color=min_color, _slice=_slice)))\n",
        "\n",
        "     \n",
        "     \n",
        "\n",
        "     \n",
        "  GLOBALS__['renderer'] = DemoRenderer()\n",
        "\n",
        "  GLOBALS__['_init_the_code'] = True\n",
        "  print(\"❤️ DONE initializing the code\")\n",
        "\n",
        "  # AZ:-------------------------------------------------Init Protocols context===\n",
        "\n",
        "\n",
        "def read_doc(fn):\n",
        "  import docx2txt, sys, os\n",
        "\n",
        "  text = ''\n",
        "  try:\n",
        "    text = docx2txt.process(fn)\n",
        "\n",
        "  except:\n",
        "    print(\"Unexpected error:\", sys.exc_info())\n",
        "    os.system('antiword -w 0 \"' + fn + '\" > \"' + fn + '.txt\"')\n",
        "    with open(fn + '.txt') as f:\n",
        "      text = f.read()\n",
        "\n",
        "  return text\n",
        "\n",
        "def interactive_upload(filetype):\n",
        "  from google.colab import files\n",
        "  import docx2txt\n",
        "\n",
        "  print(f'Please select \"{filetype}\" .docx file:')\n",
        "  uploaded = files.upload()\n",
        "  docs = []\n",
        "  for fn in uploaded.keys():\n",
        "    print('User uploaded file \"{name}\" with length {length} bytes'.format(\n",
        "      name=fn, length=len(uploaded[fn])))\n",
        "\n",
        "    with open(fn, \"wb\") as df:\n",
        "      df.write(uploaded[fn])\n",
        "      df.close()\n",
        "\n",
        "    # extract text\n",
        "\n",
        "    text = ''\n",
        "    try:\n",
        "      text = docx2txt.process(fn)\n",
        "    except:\n",
        "      print(\"Unexpected error:\", sys.exc_info())\n",
        "      os.system('antiword -w 0 \"' + fn + '\" > \"' + fn + '.txt\"')\n",
        "      with open(fn + '.txt') as f:\n",
        "        text = f.read()\n",
        "    print(\"Символов в оригинальном документе:\", len(text))\n",
        "    docs.append(text)\n",
        "    return docs\n",
        "\n",
        "  \n",
        "# AZ:- ENDO OF THE THE CODE------------------------------------------------XXXX\n",
        "\n",
        "\n",
        "# 1.\n",
        "_init_import_code_from_gh()\n",
        " \n",
        "# 3.\n",
        "_init_the_code(True)\n",
        "\n"
      ],
      "execution_count": 2,
      "outputs": [
        {
          "output_type": "stream",
          "text": [
            "fetching code from GitHub.....tensorflow-model\n",
            "\n",
            "\n",
            "🦊 GIT revision:\n",
            "481\n",
            "* tensorflow-model\n",
            "Struggling with tokenisation\n",
            "\n",
            "Tokenizer\n",
            "\n",
            "+ PatternSearchModelDiff\n",
            "\n",
            "\n",
            "[nltk_data] Downloading package punkt to /root/nltk_data...\n",
            "[nltk_data]   Package punkt is already up-to-date!\n",
            "code imported OK 👍\n",
            "installing antiword...\n",
            "Reading package lists...\n",
            "Building dependency tree...\n",
            "Reading state information...\n",
            "antiword is already the newest version (0.37-11build1).\n",
            "The following package was automatically installed and is no longer required:\n",
            "  libnvidia-common-410\n",
            "Use 'sudo apt autoremove' to remove it.\n",
            "0 upgraded, 0 newly installed, 0 to remove and 4 not upgraded.\n",
            "\n",
            "installing docx2txt...\n",
            "Requirement already satisfied: docx2txt in /usr/local/lib/python3.6/dist-packages (0.8)\n",
            "\n",
            "❤️ DONE importing Code fro GitHub\n",
            "[nltk_data] Downloading package punkt to /root/nltk_data...\n",
            "[nltk_data]   Package punkt is already up-to-date!\n",
            "<nltk.tokenize.punkt.PunktSentenceTokenizer object at 0x7f732b656cc0>\n",
            "loading word cases stats model /content/nlp_tools/vocab/word_cases_stats.pickle\n",
            "❤️ DONE initializing the code\n"
          ],
          "name": "stdout"
        }
      ]
    },
    {
      "cell_type": "code",
      "metadata": {
        "id": "7rxLGXpB_-fe",
        "colab_type": "code",
        "colab": {}
      },
      "source": [
        ""
      ],
      "execution_count": 0,
      "outputs": []
    },
    {
      "cell_type": "markdown",
      "metadata": {
        "id": "riyxetjX_-yr",
        "colab_type": "text"
      },
      "source": [
        "## Mount GDrive"
      ]
    },
    {
      "cell_type": "code",
      "metadata": {
        "colab_type": "code",
        "outputId": "9e41ba39-5fb6-4df0-bc06-6e8ee34d3182",
        "id": "tGCs9IjyznUk",
        "colab": {
          "base_uri": "https://localhost:8080/",
          "height": 34
        }
      },
      "source": [
        "\n",
        "from google.colab import auth\n",
        "from google.colab import drive\n",
        " \n",
        "\n",
        "drive.mount('/content/gdrive', force_remount=True)"
      ],
      "execution_count": 3,
      "outputs": [
        {
          "output_type": "stream",
          "text": [
            "Mounted at /content/gdrive\n"
          ],
          "name": "stdout"
        }
      ]
    },
    {
      "cell_type": "markdown",
      "metadata": {
        "colab_type": "text",
        "id": "zYVejKzZznUk"
      },
      "source": [
        "### Read a doc from gdrive"
      ]
    },
    {
      "cell_type": "code",
      "metadata": {
        "id": "fQSYNFuDAQZf",
        "colab_type": "code",
        "colab": {
          "base_uri": "https://localhost:8080/",
          "height": 34
        },
        "outputId": "8aa8764c-9280-4716-f906-d22914c33052"
      },
      "source": [
        "\n",
        "\n",
        "import glob\n",
        "\n",
        "contracts_filename_prefix='/content/gdrive/My Drive/GazpromOil/Contracts/'\n",
        "doc_x_filenames=sorted(glob.glob(contracts_filename_prefix+\"*.docx\"))\n",
        "\n",
        "_filename = doc_x_filenames[3]\n",
        "print(_filename)\n",
        "\n",
        "contracts = {}\n",
        "try:\n",
        "  text = read_doc(_filename)\n",
        "  contracts[_filename] = text\n",
        "except:\n",
        "  print('WRONG *.docx FILE!!', file)\n",
        "  raise 'cannot continue blah blah'\n",
        " \n"
      ],
      "execution_count": 10,
      "outputs": [
        {
          "output_type": "stream",
          "text": [
            "/content/gdrive/My Drive/GazpromOil/Contracts/3. Договор Олимп.docx\n"
          ],
          "name": "stdout"
        }
      ]
    },
    {
      "cell_type": "markdown",
      "metadata": {
        "id": "V0jICoNUOcjV",
        "colab_type": "text"
      },
      "source": [
        "### Contract: parse and serialize  "
      ]
    },
    {
      "cell_type": "code",
      "metadata": {
        "id": "45A2wSkmODqz",
        "colab_type": "code",
        "outputId": "0a87b864-76b6-436c-e01a-3e6108b4c83a",
        "colab": {
          "base_uri": "https://localhost:8080/",
          "height": 34
        }
      },
      "source": [
        "import json\n",
        "import time\n",
        "\n",
        "from contract_agents import find_org_names_spans, entities_types\n",
        "from contract_parser import ContractDocument3\n",
        "from documents import TOKENIZER_DEFAULT\n",
        "from text_tools import untokenize\n",
        "\n",
        "\n",
        "class ContractDocument4(ContractDocument3):\n",
        "  def __init__(self, contract_text):\n",
        "    super().__init__(contract_text)\n",
        "\n",
        "  def parse(self, txt=None):\n",
        "    super().parse()\n",
        "    find_org_names_spans(self)\n",
        "\n",
        "  def to_json(self) -> str:\n",
        "    \"\"\"\n",
        "    XXX: move this to GitHub code\n",
        "    \"\"\"\n",
        "    j = ContractDocumentJson(self)\n",
        "    return json.dumps(j.__dict__, indent=4, ensure_ascii=False, default=lambda o: '<not serializable>')\n",
        "\n",
        "\n",
        "class ContractDocumentJson:\n",
        "\n",
        "  def from_json(jsondata):\n",
        "    c = ContractDocumentJson(None)\n",
        "    c.__dict__ = jsondata\n",
        "    return c\n",
        "\n",
        "  def __init__(self, doc: ContractDocument4):\n",
        "    self.ID = ГребаноеНичто\n",
        "    self.filename = ГребаноеНичто\n",
        "    self.original_text = ГребаноеНичто\n",
        "    self.normal_text = ГребаноеНичто\n",
        "\n",
        "    self.import_timestamp = time.time()\n",
        "    self.analyze_timestamp = time.time()\n",
        "\n",
        "    if doc is None:\n",
        "      return\n",
        "\n",
        "    self.checksum = hash(doc.normal_text)\n",
        "\n",
        "    self.tags = []\n",
        "    self.tokenization_maps = {}\n",
        "\n",
        "    self.tokenization_maps['$words'] = TOKENIZER_DEFAULT.tokens_map(doc.normal_text)\n",
        "\n",
        "    for field in doc.__dict__:\n",
        "      if field in self.__dict__:\n",
        "        self.__dict__[field] = doc.__dict__[field]\n",
        "\n",
        "    for hi in doc.structure.headline_indexes:\n",
        "      s = doc.structure.structure[hi]\n",
        "      _t = {\n",
        "        \"kind\": \"headline\",\n",
        "        \"value\": untokenize(doc.tokens_cc[slice(s.span[0], s.span[1])]),\n",
        "        \"span\": [\n",
        "          s.span[0],\n",
        "          s.span[1]\n",
        "        ],\n",
        "        \"span_map\": '$words'\n",
        "      }\n",
        "\n",
        "      self.tags.append(_t)\n",
        "\n",
        "    self._agent_infos_to_tags(doc)\n",
        "\n",
        "    \n",
        "\n",
        "  def _agent_infos_to_tags(self, doc):\n",
        "    org_i = 0\n",
        "    #     keys = ['type','type_ext','name','alt_name', 'alias']\n",
        "    for ai in doc.agent_infos:\n",
        "      org_i += 1\n",
        "      for k in entities_types:\n",
        "        if k in ai:\n",
        "          tag = {\n",
        "            'kind': f'org.{org_i}.{k}',\n",
        "            'value': ai[k][0],\n",
        "            'span': (ai[k][2].start, ai[k][2].stop),\n",
        "            \"span_map\": '$words'\n",
        "          }\n",
        "          self.tags.append(tag)\n",
        "\n",
        "\n",
        "### test    ===============\n",
        "contract_text = contracts[_filename]\n",
        "doc = ContractDocument4(contract_text)\n",
        "doc.filename = _filename\n",
        "doc.parse()\n",
        "\n",
        "## WRITE IT\n",
        "_path = '/content/gdrive/My Drive/GazpromOil/Всяческая документация (shared)/JSONs/contract_info_almost_real.json'\n",
        "with open(_path, 'w') as file:\n",
        "  file.write(doc.to_json())\n",
        "  print(f'saved file to {_path}')\n"
      ],
      "execution_count": 11,
      "outputs": [
        {
          "output_type": "stream",
          "text": [
            "saved file to /content/gdrive/My Drive/GazpromOil/Всяческая документация (shared)/JSONs/contract_info_almost_real.json\n"
          ],
          "name": "stdout"
        }
      ]
    },
    {
      "cell_type": "markdown",
      "metadata": {
        "id": "SoFJxWFlJMZb",
        "colab_type": "text"
      },
      "source": [
        "#### read json"
      ]
    },
    {
      "cell_type": "code",
      "metadata": {
        "id": "3J-wuxzNJL0Y",
        "colab_type": "code",
        "colab": {
          "base_uri": "https://localhost:8080/",
          "height": 1000
        },
        "outputId": "319d9db5-6c2b-4389-f1c8-d03489acd521"
      },
      "source": [
        "## REÅD it\n",
        "\n",
        "import json\n",
        "\n",
        "import numpy as np\n",
        "\n",
        "\n",
        "def text_range_by_map(text, _map, span):\n",
        "  start = _map[span[0]][0]\n",
        "  stop = _map[span[1]][1]\n",
        "  # assume map is ordered\n",
        "  return text[start: stop]\n",
        "\n",
        "\n",
        "def tokens_in_range(text, _map, span):\n",
        "  tokens_i = _map[span[0]:span[1]]\n",
        "  return [\n",
        "    text[tr[0]:tr[1]] for tr in tokens_i\n",
        "  ]\n",
        "\n",
        "\n",
        "with open(_path) as json_file:\n",
        "  data = json.load(json_file)\n",
        "  cd = ContractDocumentJson.from_json(data)\n",
        "\n",
        "  wordsmap = cd.tokenization_maps['$words']\n",
        "  markup_vector = np.zeros(len(wordsmap))\n",
        "  tokens = tokens_in_range(cd.normal_text, wordsmap, [0, len(wordsmap)])\n",
        "\n",
        "  print(f'read file {cd.filename}')\n",
        "\n",
        "  #   print(len(cd.normal_text))\n",
        "  print('Listing all tags:', '*' * 80)\n",
        "  for tag in cd.tags:\n",
        "    span = tag['span']\n",
        "    _map = cd.tokenization_maps[tag['span_map']]\n",
        "    print(tag['kind'], tokens_in_range(cd.normal_text, _map, span))\n",
        "    markup_vector[span[0]:span[1]] += 1\n",
        "    \n",
        "    \n",
        "  markup_vector[0:500]+=1\n",
        "  GLOBALS__['renderer'].render_color_text(tokens, markup_vector)\n"
      ],
      "execution_count": 15,
      "outputs": [
        {
          "output_type": "stream",
          "text": [
            "read file /content/gdrive/My Drive/GazpromOil/Contracts/3. Договор Олимп.docx\n",
            "Listing all tags: ********************************************************************************\n",
            "headline ['ДОГОВОР', '.', '\\n']\n",
            "headline ['Предмет', 'Договора', '\\n']\n",
            "headline ['Права', 'и', 'обязанности', 'Сторон', '\\n']\n",
            "headline ['Благополучатель', '»', 'имеет', 'право', ':', '\\n']\n",
            "headline ['Ответственность', 'сторон', '\\n']\n",
            "headline ['Прочие', 'условия', '\\n']\n",
            "headline ['2']\n",
            "org.1.type ['ООО']\n",
            "org.1.name ['Газпромнефть-Региональные', 'продажи']\n",
            "org.1.alt_name []\n",
            "org.1.alias ['Благотворитель']\n",
            "org.1.type_ext []\n",
            "org.2.type ['Фонд']\n",
            "org.2.name ['Олимп']\n",
            "org.2.alt_name []\n",
            "org.2.alias ['Благополучатель']\n",
            "org.2.type_ext []\n"
          ],
          "name": "stdout"
        },
        {
          "output_type": "display_data",
          "data": {
            "text/html": [
              "<span title=\"0 2.0000\" style=\"background-color:#b40426\">ДОГОВОР </span><span title=\"1 2.0000\" style=\"background-color:#b40426\">. </span><span title=\"2 2.0000\" style=\"background-color:#b40426\">\n",
              " </span><br><span title=\"3 1.0000\" style=\"background-color:#f2cbb7\">о </span><span title=\"4 1.0000\" style=\"background-color:#f2cbb7\">безвозмездной </span><span title=\"5 1.0000\" style=\"background-color:#f2cbb7\">помощи </span><span title=\"6 1.0000\" style=\"background-color:#f2cbb7\">\n",
              " </span><br><span title=\"7 1.0000\" style=\"background-color:#f2cbb7\">( </span><span title=\"8 1.0000\" style=\"background-color:#f2cbb7\">пожертвование </span><span title=\"9 1.0000\" style=\"background-color:#f2cbb7\">) </span><span title=\"10 1.0000\" style=\"background-color:#f2cbb7\">\n",
              " </span><br><span title=\"11 1.0000\" style=\"background-color:#f2cbb7\">\n",
              " </span><br><span title=\"12 1.0000\" style=\"background-color:#f2cbb7\">г. </span><span title=\"13 1.0000\" style=\"background-color:#f2cbb7\">Санкт-Петербург </span><span title=\"14 1.0000\" style=\"background-color:#f2cbb7\">\n",
              " </span><br><span title=\"15 1.0000\" style=\"background-color:#f2cbb7\">« </span><span title=\"16 1.0000\" style=\"background-color:#f2cbb7\">17 </span><span title=\"17 1.0000\" style=\"background-color:#f2cbb7\">» </span><span title=\"18 1.0000\" style=\"background-color:#f2cbb7\">июля </span><span title=\"19 1.0000\" style=\"background-color:#f2cbb7\">2018 </span><span title=\"20 1.0000\" style=\"background-color:#f2cbb7\">год </span><span title=\"21 1.0000\" style=\"background-color:#f2cbb7\">. </span><span title=\"22 1.0000\" style=\"background-color:#f2cbb7\">\n",
              " </span><br><span title=\"23 2.0000\" style=\"background-color:#b40426\">ООО </span><span title=\"24 1.0000\" style=\"background-color:#f2cbb7\">« </span><span title=\"25 2.0000\" style=\"background-color:#b40426\">Газпромнефть-Региональные </span><span title=\"26 2.0000\" style=\"background-color:#b40426\">продажи </span><span title=\"27 1.0000\" style=\"background-color:#f2cbb7\">» </span><span title=\"28 1.0000\" style=\"background-color:#f2cbb7\">, </span><span title=\"29 1.0000\" style=\"background-color:#f2cbb7\">именуемое </span><span title=\"30 1.0000\" style=\"background-color:#f2cbb7\">в </span><span title=\"31 1.0000\" style=\"background-color:#f2cbb7\">дальнейшем </span><span title=\"32 1.0000\" style=\"background-color:#f2cbb7\">« </span><span title=\"33 2.0000\" style=\"background-color:#b40426\">Благотворитель </span><span title=\"34 1.0000\" style=\"background-color:#f2cbb7\">» </span><span title=\"35 1.0000\" style=\"background-color:#f2cbb7\">, </span><span title=\"36 1.0000\" style=\"background-color:#f2cbb7\">в </span><span title=\"37 1.0000\" style=\"background-color:#f2cbb7\">лице </span><span title=\"38 1.0000\" style=\"background-color:#f2cbb7\">генерального </span><span title=\"39 1.0000\" style=\"background-color:#f2cbb7\">директора </span><span title=\"40 1.0000\" style=\"background-color:#f2cbb7\">Петрова </span><span title=\"41 1.0000\" style=\"background-color:#f2cbb7\">Семена </span><span title=\"42 1.0000\" style=\"background-color:#f2cbb7\">Анатольевича </span><span title=\"43 1.0000\" style=\"background-color:#f2cbb7\">, </span><span title=\"44 1.0000\" style=\"background-color:#f2cbb7\">действующего </span><span title=\"45 1.0000\" style=\"background-color:#f2cbb7\">на </span><span title=\"46 1.0000\" style=\"background-color:#f2cbb7\">основании </span><span title=\"47 1.0000\" style=\"background-color:#f2cbb7\">Устава </span><span title=\"48 1.0000\" style=\"background-color:#f2cbb7\">, </span><span title=\"49 1.0000\" style=\"background-color:#f2cbb7\">с </span><span title=\"50 1.0000\" style=\"background-color:#f2cbb7\">одной </span><span title=\"51 1.0000\" style=\"background-color:#f2cbb7\">стороны </span><span title=\"52 1.0000\" style=\"background-color:#f2cbb7\">, </span><span title=\"53 1.0000\" style=\"background-color:#f2cbb7\">и </span><span title=\"54 2.0000\" style=\"background-color:#b40426\">Фонд </span><span title=\"55 1.0000\" style=\"background-color:#f2cbb7\">« </span><span title=\"56 2.0000\" style=\"background-color:#b40426\">Олимп </span><span title=\"57 1.0000\" style=\"background-color:#f2cbb7\">» </span><span title=\"58 1.0000\" style=\"background-color:#f2cbb7\">, </span><span title=\"59 1.0000\" style=\"background-color:#f2cbb7\">именуемое </span><span title=\"60 1.0000\" style=\"background-color:#f2cbb7\">в </span><span title=\"61 1.0000\" style=\"background-color:#f2cbb7\">дальнейшем </span><span title=\"62 1.0000\" style=\"background-color:#f2cbb7\">« </span><span title=\"63 2.0000\" style=\"background-color:#b40426\">Благополучатель </span><span title=\"64 1.0000\" style=\"background-color:#f2cbb7\">» </span><span title=\"65 1.0000\" style=\"background-color:#f2cbb7\">, </span><span title=\"66 1.0000\" style=\"background-color:#f2cbb7\">в </span><span title=\"67 1.0000\" style=\"background-color:#f2cbb7\">лице </span><span title=\"68 1.0000\" style=\"background-color:#f2cbb7\">председателя </span><span title=\"69 1.0000\" style=\"background-color:#f2cbb7\">правления </span><span title=\"70 1.0000\" style=\"background-color:#f2cbb7\">Шарфиков </span><span title=\"71 1.0000\" style=\"background-color:#f2cbb7\">Валерия </span><span title=\"72 1.0000\" style=\"background-color:#f2cbb7\">Львовича </span><span title=\"73 1.0000\" style=\"background-color:#f2cbb7\">, </span><span title=\"74 1.0000\" style=\"background-color:#f2cbb7\">действующего </span><span title=\"75 1.0000\" style=\"background-color:#f2cbb7\">на </span><span title=\"76 1.0000\" style=\"background-color:#f2cbb7\">основании </span><span title=\"77 1.0000\" style=\"background-color:#f2cbb7\">Устава </span><span title=\"78 1.0000\" style=\"background-color:#f2cbb7\">, </span><span title=\"79 1.0000\" style=\"background-color:#f2cbb7\">с </span><span title=\"80 1.0000\" style=\"background-color:#f2cbb7\">другой </span><span title=\"81 1.0000\" style=\"background-color:#f2cbb7\">стороны </span><span title=\"82 1.0000\" style=\"background-color:#f2cbb7\">, </span><span title=\"83 1.0000\" style=\"background-color:#f2cbb7\">именуемые </span><span title=\"84 1.0000\" style=\"background-color:#f2cbb7\">совместно </span><span title=\"85 1.0000\" style=\"background-color:#f2cbb7\">« </span><span title=\"86 1.0000\" style=\"background-color:#f2cbb7\">Стороны </span><span title=\"87 1.0000\" style=\"background-color:#f2cbb7\">» </span><span title=\"88 1.0000\" style=\"background-color:#f2cbb7\">, </span><span title=\"89 1.0000\" style=\"background-color:#f2cbb7\">а </span><span title=\"90 1.0000\" style=\"background-color:#f2cbb7\">по </span><span title=\"91 1.0000\" style=\"background-color:#f2cbb7\">отдельности </span><span title=\"92 1.0000\" style=\"background-color:#f2cbb7\">« </span><span title=\"93 1.0000\" style=\"background-color:#f2cbb7\">Сторона </span><span title=\"94 1.0000\" style=\"background-color:#f2cbb7\">» </span><span title=\"95 1.0000\" style=\"background-color:#f2cbb7\">, </span><span title=\"96 1.0000\" style=\"background-color:#f2cbb7\">заключили </span><span title=\"97 1.0000\" style=\"background-color:#f2cbb7\">настоящий </span><span title=\"98 1.0000\" style=\"background-color:#f2cbb7\">Договор </span><span title=\"99 1.0000\" style=\"background-color:#f2cbb7\">о </span><span title=\"100 1.0000\" style=\"background-color:#f2cbb7\">нижеследующем </span><span title=\"101 1.0000\" style=\"background-color:#f2cbb7\">: </span><span title=\"102 1.0000\" style=\"background-color:#f2cbb7\">\n",
              " </span><br><span title=\"103 2.0000\" style=\"background-color:#b40426\">Предмет </span><span title=\"104 2.0000\" style=\"background-color:#b40426\">Договора </span><span title=\"105 2.0000\" style=\"background-color:#b40426\">\n",
              " </span><br><span title=\"106 1.0000\" style=\"background-color:#f2cbb7\">1.1 </span><span title=\"107 1.0000\" style=\"background-color:#f2cbb7\">. </span><span title=\"108 1.0000\" style=\"background-color:#f2cbb7\">« </span><span title=\"109 1.0000\" style=\"background-color:#f2cbb7\">Благотворитель </span><span title=\"110 1.0000\" style=\"background-color:#f2cbb7\">» </span><span title=\"111 1.0000\" style=\"background-color:#f2cbb7\">обязуется </span><span title=\"112 1.0000\" style=\"background-color:#f2cbb7\">передать </span><span title=\"113 1.0000\" style=\"background-color:#f2cbb7\">« </span><span title=\"114 1.0000\" style=\"background-color:#f2cbb7\">Благополучателю </span><span title=\"115 1.0000\" style=\"background-color:#f2cbb7\">» </span><span title=\"116 1.0000\" style=\"background-color:#f2cbb7\">в </span><span title=\"117 1.0000\" style=\"background-color:#f2cbb7\">порядке </span><span title=\"118 1.0000\" style=\"background-color:#f2cbb7\">добровольного </span><span title=\"119 1.0000\" style=\"background-color:#f2cbb7\">пожертвования </span><span title=\"120 1.0000\" style=\"background-color:#f2cbb7\">денежные </span><span title=\"121 1.0000\" style=\"background-color:#f2cbb7\">средства </span><span title=\"122 1.0000\" style=\"background-color:#f2cbb7\">в </span><span title=\"123 1.0000\" style=\"background-color:#f2cbb7\">сумме </span><span title=\"124 1.0000\" style=\"background-color:#f2cbb7\">1500000 </span><span title=\"125 1.0000\" style=\"background-color:#f2cbb7\">( </span><span title=\"126 1.0000\" style=\"background-color:#f2cbb7\">один </span><span title=\"127 1.0000\" style=\"background-color:#f2cbb7\">миллион </span><span title=\"128 1.0000\" style=\"background-color:#f2cbb7\">пятьсот </span><span title=\"129 1.0000\" style=\"background-color:#f2cbb7\">тысяч </span><span title=\"130 1.0000\" style=\"background-color:#f2cbb7\">) </span><span title=\"131 1.0000\" style=\"background-color:#f2cbb7\">рублей </span><span title=\"132 1.0000\" style=\"background-color:#f2cbb7\">00 </span><span title=\"133 1.0000\" style=\"background-color:#f2cbb7\">копеек </span><span title=\"134 1.0000\" style=\"background-color:#f2cbb7\">для </span><span title=\"135 1.0000\" style=\"background-color:#f2cbb7\">создания </span><span title=\"136 1.0000\" style=\"background-color:#f2cbb7\">и </span><span title=\"137 1.0000\" style=\"background-color:#f2cbb7\">организации </span><span title=\"138 1.0000\" style=\"background-color:#f2cbb7\">работы </span><span title=\"139 1.0000\" style=\"background-color:#f2cbb7\">интернет-платформы </span><span title=\"140 1.0000\" style=\"background-color:#f2cbb7\">« </span><span title=\"141 1.0000\" style=\"background-color:#f2cbb7\">Олимп </span><span title=\"142 1.0000\" style=\"background-color:#f2cbb7\">» </span><span title=\"143 1.0000\" style=\"background-color:#f2cbb7\">по </span><span title=\"144 1.0000\" style=\"background-color:#f2cbb7\">поддержке </span><span title=\"145 1.0000\" style=\"background-color:#f2cbb7\">стартапов </span><span title=\"146 1.0000\" style=\"background-color:#f2cbb7\">в </span><span title=\"147 1.0000\" style=\"background-color:#f2cbb7\">сфере </span><span title=\"148 1.0000\" style=\"background-color:#f2cbb7\">взаимопомощи </span><span title=\"149 1.0000\" style=\"background-color:#f2cbb7\">. </span><span title=\"150 1.0000\" style=\"background-color:#f2cbb7\">\n",
              " </span><br><span title=\"151 2.0000\" style=\"background-color:#b40426\">Права </span><span title=\"152 2.0000\" style=\"background-color:#b40426\">и </span><span title=\"153 2.0000\" style=\"background-color:#b40426\">обязанности </span><span title=\"154 2.0000\" style=\"background-color:#b40426\">Сторон </span><span title=\"155 2.0000\" style=\"background-color:#b40426\">\n",
              " </span><br><span title=\"156 1.0000\" style=\"background-color:#f2cbb7\">« </span><span title=\"157 1.0000\" style=\"background-color:#f2cbb7\">Благотворитель </span><span title=\"158 1.0000\" style=\"background-color:#f2cbb7\">» </span><span title=\"159 1.0000\" style=\"background-color:#f2cbb7\">перечисляет </span><span title=\"160 1.0000\" style=\"background-color:#f2cbb7\">денежные </span><span title=\"161 1.0000\" style=\"background-color:#f2cbb7\">средства </span><span title=\"162 1.0000\" style=\"background-color:#f2cbb7\">в </span><span title=\"163 1.0000\" style=\"background-color:#f2cbb7\">сумме </span><span title=\"164 1.0000\" style=\"background-color:#f2cbb7\">1500000 </span><span title=\"165 1.0000\" style=\"background-color:#f2cbb7\">( </span><span title=\"166 1.0000\" style=\"background-color:#f2cbb7\">один </span><span title=\"167 1.0000\" style=\"background-color:#f2cbb7\">миллион </span><span title=\"168 1.0000\" style=\"background-color:#f2cbb7\">пятьсот </span><span title=\"169 1.0000\" style=\"background-color:#f2cbb7\">тысяч </span><span title=\"170 1.0000\" style=\"background-color:#f2cbb7\">) </span><span title=\"171 1.0000\" style=\"background-color:#f2cbb7\">рублей </span><span title=\"172 1.0000\" style=\"background-color:#f2cbb7\">00 </span><span title=\"173 1.0000\" style=\"background-color:#f2cbb7\">копеек </span><span title=\"174 1.0000\" style=\"background-color:#f2cbb7\">на </span><span title=\"175 1.0000\" style=\"background-color:#f2cbb7\">расчетный </span><span title=\"176 1.0000\" style=\"background-color:#f2cbb7\">счет </span><span title=\"177 1.0000\" style=\"background-color:#f2cbb7\">« </span><span title=\"178 1.0000\" style=\"background-color:#f2cbb7\">Благополучателя </span><span title=\"179 1.0000\" style=\"background-color:#f2cbb7\">» </span><span title=\"180 1.0000\" style=\"background-color:#f2cbb7\">одним </span><span title=\"181 1.0000\" style=\"background-color:#f2cbb7\">платежом </span><span title=\"182 1.0000\" style=\"background-color:#f2cbb7\">в </span><span title=\"183 1.0000\" style=\"background-color:#f2cbb7\">течение </span><span title=\"184 1.0000\" style=\"background-color:#f2cbb7\">10 </span><span title=\"185 1.0000\" style=\"background-color:#f2cbb7\">( </span><span title=\"186 1.0000\" style=\"background-color:#f2cbb7\">десяти </span><span title=\"187 1.0000\" style=\"background-color:#f2cbb7\">) </span><span title=\"188 1.0000\" style=\"background-color:#f2cbb7\">рабочих </span><span title=\"189 1.0000\" style=\"background-color:#f2cbb7\">дней </span><span title=\"190 1.0000\" style=\"background-color:#f2cbb7\">с </span><span title=\"191 1.0000\" style=\"background-color:#f2cbb7\">даты </span><span title=\"192 1.0000\" style=\"background-color:#f2cbb7\">заключения </span><span title=\"193 1.0000\" style=\"background-color:#f2cbb7\">настоящего </span><span title=\"194 1.0000\" style=\"background-color:#f2cbb7\">Договора </span><span title=\"195 1.0000\" style=\"background-color:#f2cbb7\">. </span><span title=\"196 1.0000\" style=\"background-color:#f2cbb7\">\n",
              " </span><br><span title=\"197 1.0000\" style=\"background-color:#f2cbb7\">« </span><span title=\"198 1.0000\" style=\"background-color:#f2cbb7\">Благотворитель </span><span title=\"199 1.0000\" style=\"background-color:#f2cbb7\">» </span><span title=\"200 1.0000\" style=\"background-color:#f2cbb7\">имеет </span><span title=\"201 1.0000\" style=\"background-color:#f2cbb7\">право </span><span title=\"202 1.0000\" style=\"background-color:#f2cbb7\">контролировать </span><span title=\"203 1.0000\" style=\"background-color:#f2cbb7\">целевое </span><span title=\"204 1.0000\" style=\"background-color:#f2cbb7\">использование </span><span title=\"205 1.0000\" style=\"background-color:#f2cbb7\">денежных </span><span title=\"206 1.0000\" style=\"background-color:#f2cbb7\">средств </span><span title=\"207 1.0000\" style=\"background-color:#f2cbb7\">. </span><span title=\"208 1.0000\" style=\"background-color:#f2cbb7\">\n",
              " </span><br><span title=\"209 1.0000\" style=\"background-color:#f2cbb7\">Использование </span><span title=\"210 1.0000\" style=\"background-color:#f2cbb7\">денежных </span><span title=\"211 1.0000\" style=\"background-color:#f2cbb7\">средств </span><span title=\"212 1.0000\" style=\"background-color:#f2cbb7\">не </span><span title=\"213 1.0000\" style=\"background-color:#f2cbb7\">по </span><span title=\"214 1.0000\" style=\"background-color:#f2cbb7\">назначению </span><span title=\"215 1.0000\" style=\"background-color:#f2cbb7\">, </span><span title=\"216 1.0000\" style=\"background-color:#f2cbb7\">указанному </span><span title=\"217 1.0000\" style=\"background-color:#f2cbb7\">в </span><span title=\"218 1.0000\" style=\"background-color:#f2cbb7\">пункт </span><span title=\"219 1.0000\" style=\"background-color:#f2cbb7\">1.1. </span><span title=\"220 1.0000\" style=\"background-color:#f2cbb7\">, </span><span title=\"221 1.0000\" style=\"background-color:#f2cbb7\">дает </span><span title=\"222 1.0000\" style=\"background-color:#f2cbb7\">« </span><span title=\"223 1.0000\" style=\"background-color:#f2cbb7\">Благотворителю </span><span title=\"224 1.0000\" style=\"background-color:#f2cbb7\">» </span><span title=\"225 1.0000\" style=\"background-color:#f2cbb7\">право </span><span title=\"226 1.0000\" style=\"background-color:#f2cbb7\">требовать </span><span title=\"227 1.0000\" style=\"background-color:#f2cbb7\">от </span><span title=\"228 1.0000\" style=\"background-color:#f2cbb7\">« </span><span title=\"229 1.0000\" style=\"background-color:#f2cbb7\">Благополучателя </span><span title=\"230 1.0000\" style=\"background-color:#f2cbb7\">» </span><span title=\"231 1.0000\" style=\"background-color:#f2cbb7\">возврата </span><span title=\"232 1.0000\" style=\"background-color:#f2cbb7\">денежных </span><span title=\"233 1.0000\" style=\"background-color:#f2cbb7\">средств </span><span title=\"234 1.0000\" style=\"background-color:#f2cbb7\">в </span><span title=\"235 1.0000\" style=\"background-color:#f2cbb7\">полном </span><span title=\"236 1.0000\" style=\"background-color:#f2cbb7\">объеме </span><span title=\"237 1.0000\" style=\"background-color:#f2cbb7\">. </span><span title=\"238 1.0000\" style=\"background-color:#f2cbb7\">\n",
              " </span><br><span title=\"239 1.0000\" style=\"background-color:#f2cbb7\">« </span><span title=\"240 1.0000\" style=\"background-color:#f2cbb7\">Благополучатель </span><span title=\"241 1.0000\" style=\"background-color:#f2cbb7\">» </span><span title=\"242 1.0000\" style=\"background-color:#f2cbb7\">обязан </span><span title=\"243 1.0000\" style=\"background-color:#f2cbb7\">: </span><span title=\"244 1.0000\" style=\"background-color:#f2cbb7\">\n",
              " </span><br><span title=\"245 1.0000\" style=\"background-color:#f2cbb7\">Использовать </span><span title=\"246 1.0000\" style=\"background-color:#f2cbb7\">добровольные </span><span title=\"247 1.0000\" style=\"background-color:#f2cbb7\">пожертвования </span><span title=\"248 1.0000\" style=\"background-color:#f2cbb7\">исключительно </span><span title=\"249 1.0000\" style=\"background-color:#f2cbb7\">для </span><span title=\"250 1.0000\" style=\"background-color:#f2cbb7\">целей </span><span title=\"251 1.0000\" style=\"background-color:#f2cbb7\">, </span><span title=\"252 1.0000\" style=\"background-color:#f2cbb7\">указанных </span><span title=\"253 1.0000\" style=\"background-color:#f2cbb7\">в </span><span title=\"254 1.0000\" style=\"background-color:#f2cbb7\">пункт </span><span title=\"255 1.0000\" style=\"background-color:#f2cbb7\">1.1. </span><span title=\"256 1.0000\" style=\"background-color:#f2cbb7\">настоящего </span><span title=\"257 1.0000\" style=\"background-color:#f2cbb7\">Договора </span><span title=\"258 1.0000\" style=\"background-color:#f2cbb7\">. </span><span title=\"259 1.0000\" style=\"background-color:#f2cbb7\">\n",
              " </span><br><span title=\"260 1.0000\" style=\"background-color:#f2cbb7\">Вести </span><span title=\"261 1.0000\" style=\"background-color:#f2cbb7\">бухгалтерскую </span><span title=\"262 1.0000\" style=\"background-color:#f2cbb7\">документацию </span><span title=\"263 1.0000\" style=\"background-color:#f2cbb7\">в </span><span title=\"264 1.0000\" style=\"background-color:#f2cbb7\">соответствии </span><span title=\"265 1.0000\" style=\"background-color:#f2cbb7\">с </span><span title=\"266 1.0000\" style=\"background-color:#f2cbb7\">требованиями </span><span title=\"267 1.0000\" style=\"background-color:#f2cbb7\">законодательства </span><span title=\"268 1.0000\" style=\"background-color:#f2cbb7\">Российской </span><span title=\"269 1.0000\" style=\"background-color:#f2cbb7\">Федерации </span><span title=\"270 1.0000\" style=\"background-color:#f2cbb7\">. </span><span title=\"271 1.0000\" style=\"background-color:#f2cbb7\">\n",
              " </span><br><span title=\"272 1.0000\" style=\"background-color:#f2cbb7\">Указывать </span><span title=\"273 1.0000\" style=\"background-color:#f2cbb7\">в </span><span title=\"274 1.0000\" style=\"background-color:#f2cbb7\">своих </span><span title=\"275 1.0000\" style=\"background-color:#f2cbb7\">отчетах </span><span title=\"276 1.0000\" style=\"background-color:#f2cbb7\">, </span><span title=\"277 1.0000\" style=\"background-color:#f2cbb7\">предоставляемых </span><span title=\"278 1.0000\" style=\"background-color:#f2cbb7\">« </span><span title=\"279 1.0000\" style=\"background-color:#f2cbb7\">Благотворителю </span><span title=\"280 1.0000\" style=\"background-color:#f2cbb7\">» </span><span title=\"281 1.0000\" style=\"background-color:#f2cbb7\">, </span><span title=\"282 1.0000\" style=\"background-color:#f2cbb7\">общественности </span><span title=\"283 1.0000\" style=\"background-color:#f2cbb7\">и </span><span title=\"284 1.0000\" style=\"background-color:#f2cbb7\">государственным </span><span title=\"285 1.0000\" style=\"background-color:#f2cbb7\">органам </span><span title=\"286 1.0000\" style=\"background-color:#f2cbb7\">, </span><span title=\"287 1.0000\" style=\"background-color:#f2cbb7\">информацию </span><span title=\"288 1.0000\" style=\"background-color:#f2cbb7\">о </span><span title=\"289 1.0000\" style=\"background-color:#f2cbb7\">поступивших </span><span title=\"290 1.0000\" style=\"background-color:#f2cbb7\">на </span><span title=\"291 1.0000\" style=\"background-color:#f2cbb7\">свой </span><span title=\"292 1.0000\" style=\"background-color:#f2cbb7\">счет </span><span title=\"293 1.0000\" style=\"background-color:#f2cbb7\">благотворительных </span><span title=\"294 1.0000\" style=\"background-color:#f2cbb7\">пожертвованиях </span><span title=\"295 1.0000\" style=\"background-color:#f2cbb7\">в </span><span title=\"296 1.0000\" style=\"background-color:#f2cbb7\">соответствии </span><span title=\"297 1.0000\" style=\"background-color:#f2cbb7\">с </span><span title=\"298 1.0000\" style=\"background-color:#f2cbb7\">настоящим </span><span title=\"299 1.0000\" style=\"background-color:#f2cbb7\">Договором </span><span title=\"300 1.0000\" style=\"background-color:#f2cbb7\">как </span><span title=\"301 1.0000\" style=\"background-color:#f2cbb7\">о </span><span title=\"302 1.0000\" style=\"background-color:#f2cbb7\">« </span><span title=\"303 1.0000\" style=\"background-color:#f2cbb7\">пожертвовании </span><span title=\"304 1.0000\" style=\"background-color:#f2cbb7\">на </span><span title=\"305 1.0000\" style=\"background-color:#f2cbb7\">благотворительные </span><span title=\"306 1.0000\" style=\"background-color:#f2cbb7\">цели </span><span title=\"307 1.0000\" style=\"background-color:#f2cbb7\">» </span><span title=\"308 1.0000\" style=\"background-color:#f2cbb7\">. </span><span title=\"309 1.0000\" style=\"background-color:#f2cbb7\">\n",
              " </span><br><span title=\"310 1.0000\" style=\"background-color:#f2cbb7\">Предоставить </span><span title=\"311 1.0000\" style=\"background-color:#f2cbb7\">« </span><span title=\"312 1.0000\" style=\"background-color:#f2cbb7\">Благотворителю </span><span title=\"313 1.0000\" style=\"background-color:#f2cbb7\">» </span><span title=\"314 1.0000\" style=\"background-color:#f2cbb7\">отчет </span><span title=\"315 1.0000\" style=\"background-color:#f2cbb7\">о </span><span title=\"316 1.0000\" style=\"background-color:#f2cbb7\">целевом </span><span title=\"317 1.0000\" style=\"background-color:#f2cbb7\">использовании </span><span title=\"318 1.0000\" style=\"background-color:#f2cbb7\">денежных </span><span title=\"319 1.0000\" style=\"background-color:#f2cbb7\">средств </span><span title=\"320 1.0000\" style=\"background-color:#f2cbb7\">и </span><span title=\"321 1.0000\" style=\"background-color:#f2cbb7\">документы </span><span title=\"322 1.0000\" style=\"background-color:#f2cbb7\">, </span><span title=\"323 1.0000\" style=\"background-color:#f2cbb7\">подтверждающие </span><span title=\"324 1.0000\" style=\"background-color:#f2cbb7\">целевое </span><span title=\"325 1.0000\" style=\"background-color:#f2cbb7\">использование </span><span title=\"326 1.0000\" style=\"background-color:#f2cbb7\">средств </span><span title=\"327 1.0000\" style=\"background-color:#f2cbb7\">до </span><span title=\"328 1.0000\" style=\"background-color:#f2cbb7\">« </span><span title=\"329 1.0000\" style=\"background-color:#f2cbb7\">01 </span><span title=\"330 1.0000\" style=\"background-color:#f2cbb7\">» </span><span title=\"331 1.0000\" style=\"background-color:#f2cbb7\">декабря </span><span title=\"332 1.0000\" style=\"background-color:#f2cbb7\">2018 </span><span title=\"333 1.0000\" style=\"background-color:#f2cbb7\">год </span><span title=\"334 1.0000\" style=\"background-color:#f2cbb7\">. </span><span title=\"335 1.0000\" style=\"background-color:#f2cbb7\">\n",
              " </span><br><span title=\"336 2.0000\" style=\"background-color:#b40426\">Благополучатель </span><span title=\"337 2.0000\" style=\"background-color:#b40426\">» </span><span title=\"338 2.0000\" style=\"background-color:#b40426\">имеет </span><span title=\"339 2.0000\" style=\"background-color:#b40426\">право </span><span title=\"340 2.0000\" style=\"background-color:#b40426\">: </span><span title=\"341 2.0000\" style=\"background-color:#b40426\">\n",
              " </span><br><span title=\"342 1.0000\" style=\"background-color:#f2cbb7\">Указывать </span><span title=\"343 1.0000\" style=\"background-color:#f2cbb7\">« </span><span title=\"344 1.0000\" style=\"background-color:#f2cbb7\">Благотворителя </span><span title=\"345 1.0000\" style=\"background-color:#f2cbb7\">» </span><span title=\"346 1.0000\" style=\"background-color:#f2cbb7\">в </span><span title=\"347 1.0000\" style=\"background-color:#f2cbb7\">качестве </span><span title=\"348 1.0000\" style=\"background-color:#f2cbb7\">партнера </span><span title=\"349 1.0000\" style=\"background-color:#f2cbb7\">проектов </span><span title=\"350 1.0000\" style=\"background-color:#f2cbb7\">, </span><span title=\"351 1.0000\" style=\"background-color:#f2cbb7\">прописанных </span><span title=\"352 1.0000\" style=\"background-color:#f2cbb7\">в </span><span title=\"353 1.0000\" style=\"background-color:#f2cbb7\">пункт </span><span title=\"354 1.0000\" style=\"background-color:#f2cbb7\">1.1. </span><span title=\"355 1.0000\" style=\"background-color:#f2cbb7\">настоящего </span><span title=\"356 1.0000\" style=\"background-color:#f2cbb7\">Договора </span><span title=\"357 1.0000\" style=\"background-color:#f2cbb7\">. </span><span title=\"358 1.0000\" style=\"background-color:#f2cbb7\">\n",
              " </span><br><span title=\"359 1.0000\" style=\"background-color:#f2cbb7\">Размещать </span><span title=\"360 1.0000\" style=\"background-color:#f2cbb7\">по </span><span title=\"361 1.0000\" style=\"background-color:#f2cbb7\">согласованию </span><span title=\"362 1.0000\" style=\"background-color:#f2cbb7\">с </span><span title=\"363 1.0000\" style=\"background-color:#f2cbb7\">« </span><span title=\"364 1.0000\" style=\"background-color:#f2cbb7\">Благотворителем </span><span title=\"365 1.0000\" style=\"background-color:#f2cbb7\">» </span><span title=\"366 1.0000\" style=\"background-color:#f2cbb7\">логотип </span><span title=\"367 1.0000\" style=\"background-color:#f2cbb7\">« </span><span title=\"368 1.0000\" style=\"background-color:#f2cbb7\">Благотворителя </span><span title=\"369 1.0000\" style=\"background-color:#f2cbb7\">» </span><span title=\"370 1.0000\" style=\"background-color:#f2cbb7\">( </span><span title=\"371 1.0000\" style=\"background-color:#f2cbb7\">пригласительные </span><span title=\"372 1.0000\" style=\"background-color:#f2cbb7\">билеты </span><span title=\"373 1.0000\" style=\"background-color:#f2cbb7\">, </span><span title=\"374 1.0000\" style=\"background-color:#f2cbb7\">баннеры </span><span title=\"375 1.0000\" style=\"background-color:#f2cbb7\">, </span><span title=\"376 1.0000\" style=\"background-color:#f2cbb7\">интернет-сайт </span><span title=\"377 1.0000\" style=\"background-color:#f2cbb7\">, </span><span title=\"378 1.0000\" style=\"background-color:#f2cbb7\">буклеты </span><span title=\"379 1.0000\" style=\"background-color:#f2cbb7\">, </span><span title=\"380 1.0000\" style=\"background-color:#f2cbb7\">журналы </span><span title=\"381 1.0000\" style=\"background-color:#f2cbb7\">) </span><span title=\"382 1.0000\" style=\"background-color:#f2cbb7\">на </span><span title=\"383 1.0000\" style=\"background-color:#f2cbb7\">мероприятиях </span><span title=\"384 1.0000\" style=\"background-color:#f2cbb7\">в </span><span title=\"385 1.0000\" style=\"background-color:#f2cbb7\">рамках </span><span title=\"386 1.0000\" style=\"background-color:#f2cbb7\">проекта </span><span title=\"387 1.0000\" style=\"background-color:#f2cbb7\">, </span><span title=\"388 1.0000\" style=\"background-color:#f2cbb7\">указанного </span><span title=\"389 1.0000\" style=\"background-color:#f2cbb7\">в </span><span title=\"390 1.0000\" style=\"background-color:#f2cbb7\">пункт </span><span title=\"391 1.0000\" style=\"background-color:#f2cbb7\">1.1. </span><span title=\"392 1.0000\" style=\"background-color:#f2cbb7\">настоящего </span><span title=\"393 1.0000\" style=\"background-color:#f2cbb7\">Договора </span><span title=\"394 1.0000\" style=\"background-color:#f2cbb7\">. </span><span title=\"395 1.0000\" style=\"background-color:#f2cbb7\">\n",
              " </span><br><span title=\"396 2.0000\" style=\"background-color:#b40426\">Ответственность </span><span title=\"397 2.0000\" style=\"background-color:#b40426\">сторон </span><span title=\"398 2.0000\" style=\"background-color:#b40426\">\n",
              " </span><br><span title=\"399 1.0000\" style=\"background-color:#f2cbb7\">В </span><span title=\"400 1.0000\" style=\"background-color:#f2cbb7\">случае </span><span title=\"401 1.0000\" style=\"background-color:#f2cbb7\">нецелевого </span><span title=\"402 1.0000\" style=\"background-color:#f2cbb7\">использования </span><span title=\"403 1.0000\" style=\"background-color:#f2cbb7\">полученных </span><span title=\"404 1.0000\" style=\"background-color:#f2cbb7\">средств </span><span title=\"405 1.0000\" style=\"background-color:#f2cbb7\">, </span><span title=\"406 1.0000\" style=\"background-color:#f2cbb7\">т. </span><span title=\"407 1.0000\" style=\"background-color:#f2cbb7\">е. </span><span title=\"408 1.0000\" style=\"background-color:#f2cbb7\">использования </span><span title=\"409 1.0000\" style=\"background-color:#f2cbb7\">полученных </span><span title=\"410 1.0000\" style=\"background-color:#f2cbb7\">средств </span><span title=\"411 1.0000\" style=\"background-color:#f2cbb7\">на </span><span title=\"412 1.0000\" style=\"background-color:#f2cbb7\">цели </span><span title=\"413 1.0000\" style=\"background-color:#f2cbb7\">, </span><span title=\"414 1.0000\" style=\"background-color:#f2cbb7\">не </span><span title=\"415 1.0000\" style=\"background-color:#f2cbb7\">указанные </span><span title=\"416 1.0000\" style=\"background-color:#f2cbb7\">в </span><span title=\"417 1.0000\" style=\"background-color:#f2cbb7\">пункт </span><span title=\"418 1.0000\" style=\"background-color:#f2cbb7\">1.1. </span><span title=\"419 1.0000\" style=\"background-color:#f2cbb7\">настоящего </span><span title=\"420 1.0000\" style=\"background-color:#f2cbb7\">Договора </span><span title=\"421 1.0000\" style=\"background-color:#f2cbb7\">, </span><span title=\"422 1.0000\" style=\"background-color:#f2cbb7\">« </span><span title=\"423 1.0000\" style=\"background-color:#f2cbb7\">Благополучатель </span><span title=\"424 1.0000\" style=\"background-color:#f2cbb7\">» </span><span title=\"425 1.0000\" style=\"background-color:#f2cbb7\">обязан </span><span title=\"426 1.0000\" style=\"background-color:#f2cbb7\">вернуть </span><span title=\"427 1.0000\" style=\"background-color:#f2cbb7\">« </span><span title=\"428 1.0000\" style=\"background-color:#f2cbb7\">Благотворителю </span><span title=\"429 1.0000\" style=\"background-color:#f2cbb7\">» </span><span title=\"430 1.0000\" style=\"background-color:#f2cbb7\">все </span><span title=\"431 1.0000\" style=\"background-color:#f2cbb7\">использованные </span><span title=\"432 1.0000\" style=\"background-color:#f2cbb7\">нецелевым </span><span title=\"433 1.0000\" style=\"background-color:#f2cbb7\">образом </span><span title=\"434 1.0000\" style=\"background-color:#f2cbb7\">средства </span><span title=\"435 1.0000\" style=\"background-color:#f2cbb7\">в </span><span title=\"436 1.0000\" style=\"background-color:#f2cbb7\">срок </span><span title=\"437 1.0000\" style=\"background-color:#f2cbb7\">до </span><span title=\"438 1.0000\" style=\"background-color:#f2cbb7\">« </span><span title=\"439 1.0000\" style=\"background-color:#f2cbb7\">01 </span><span title=\"440 1.0000\" style=\"background-color:#f2cbb7\">» </span><span title=\"441 1.0000\" style=\"background-color:#f2cbb7\">декабря </span><span title=\"442 1.0000\" style=\"background-color:#f2cbb7\">2018 </span><span title=\"443 1.0000\" style=\"background-color:#f2cbb7\">года </span><span title=\"444 1.0000\" style=\"background-color:#f2cbb7\">. </span><span title=\"445 1.0000\" style=\"background-color:#f2cbb7\">\n",
              " </span><br><span title=\"446 1.0000\" style=\"background-color:#f2cbb7\">Ответственность </span><span title=\"447 1.0000\" style=\"background-color:#f2cbb7\">в </span><span title=\"448 1.0000\" style=\"background-color:#f2cbb7\">связи </span><span title=\"449 1.0000\" style=\"background-color:#f2cbb7\">с </span><span title=\"450 1.0000\" style=\"background-color:#f2cbb7\">неисполнением </span><span title=\"451 1.0000\" style=\"background-color:#f2cbb7\">настоящего </span><span title=\"452 1.0000\" style=\"background-color:#f2cbb7\">Договора </span><span title=\"453 1.0000\" style=\"background-color:#f2cbb7\">« </span><span title=\"454 1.0000\" style=\"background-color:#f2cbb7\">Стороны </span><span title=\"455 1.0000\" style=\"background-color:#f2cbb7\">» </span><span title=\"456 1.0000\" style=\"background-color:#f2cbb7\">несут </span><span title=\"457 1.0000\" style=\"background-color:#f2cbb7\">в </span><span title=\"458 1.0000\" style=\"background-color:#f2cbb7\">соответствии </span><span title=\"459 1.0000\" style=\"background-color:#f2cbb7\">с </span><span title=\"460 1.0000\" style=\"background-color:#f2cbb7\">действующим </span><span title=\"461 1.0000\" style=\"background-color:#f2cbb7\">законодательством </span><span title=\"462 1.0000\" style=\"background-color:#f2cbb7\">Российской </span><span title=\"463 1.0000\" style=\"background-color:#f2cbb7\">Федерации </span><span title=\"464 1.0000\" style=\"background-color:#f2cbb7\">. </span><span title=\"465 1.0000\" style=\"background-color:#f2cbb7\">\n",
              " </span><br><span title=\"466 1.0000\" style=\"background-color:#f2cbb7\">Все </span><span title=\"467 1.0000\" style=\"background-color:#f2cbb7\">споры </span><span title=\"468 1.0000\" style=\"background-color:#f2cbb7\">, </span><span title=\"469 1.0000\" style=\"background-color:#f2cbb7\">претензии </span><span title=\"470 1.0000\" style=\"background-color:#f2cbb7\">и </span><span title=\"471 1.0000\" style=\"background-color:#f2cbb7\">разногласия </span><span title=\"472 1.0000\" style=\"background-color:#f2cbb7\">между </span><span title=\"473 1.0000\" style=\"background-color:#f2cbb7\">« </span><span title=\"474 1.0000\" style=\"background-color:#f2cbb7\">Сторонами </span><span title=\"475 1.0000\" style=\"background-color:#f2cbb7\">» </span><span title=\"476 1.0000\" style=\"background-color:#f2cbb7\">настоящего </span><span title=\"477 1.0000\" style=\"background-color:#f2cbb7\">Договора </span><span title=\"478 1.0000\" style=\"background-color:#f2cbb7\">, </span><span title=\"479 1.0000\" style=\"background-color:#f2cbb7\">которые </span><span title=\"480 1.0000\" style=\"background-color:#f2cbb7\">могут </span><span title=\"481 1.0000\" style=\"background-color:#f2cbb7\">возникнуть </span><span title=\"482 1.0000\" style=\"background-color:#f2cbb7\">по </span><span title=\"483 1.0000\" style=\"background-color:#f2cbb7\">настоящему </span><span title=\"484 1.0000\" style=\"background-color:#f2cbb7\">Договору </span><span title=\"485 1.0000\" style=\"background-color:#f2cbb7\">или </span><span title=\"486 1.0000\" style=\"background-color:#f2cbb7\">в </span><span title=\"487 1.0000\" style=\"background-color:#f2cbb7\">связи </span><span title=\"488 1.0000\" style=\"background-color:#f2cbb7\">с </span><span title=\"489 1.0000\" style=\"background-color:#f2cbb7\">ним </span><span title=\"490 1.0000\" style=\"background-color:#f2cbb7\">, </span><span title=\"491 1.0000\" style=\"background-color:#f2cbb7\">если </span><span title=\"492 1.0000\" style=\"background-color:#f2cbb7\">они </span><span title=\"493 1.0000\" style=\"background-color:#f2cbb7\">не </span><span title=\"494 1.0000\" style=\"background-color:#f2cbb7\">будут </span><span title=\"495 1.0000\" style=\"background-color:#f2cbb7\">разрешены </span><span title=\"496 1.0000\" style=\"background-color:#f2cbb7\">путем </span><span title=\"497 1.0000\" style=\"background-color:#f2cbb7\">переговоров </span><span title=\"498 1.0000\" style=\"background-color:#f2cbb7\">, </span><span title=\"499 1.0000\" style=\"background-color:#f2cbb7\">должны </span><span title=\"500 0.0000\" style=\"background-color:#7b9ff9\">решаться </span><span title=\"501 0.0000\" style=\"background-color:#7b9ff9\">в </span><span title=\"502 0.0000\" style=\"background-color:#7b9ff9\">Арбитражном </span><span title=\"503 0.0000\" style=\"background-color:#7b9ff9\">суде </span><span title=\"504 0.0000\" style=\"background-color:#7b9ff9\">Санкт-Петербурга </span><span title=\"505 0.0000\" style=\"background-color:#7b9ff9\">и </span><span title=\"506 0.0000\" style=\"background-color:#7b9ff9\">Ленинградской </span><span title=\"507 0.0000\" style=\"background-color:#7b9ff9\">области </span><span title=\"508 0.0000\" style=\"background-color:#7b9ff9\">в </span><span title=\"509 0.0000\" style=\"background-color:#7b9ff9\">соответствии </span><span title=\"510 0.0000\" style=\"background-color:#7b9ff9\">с </span><span title=\"511 0.0000\" style=\"background-color:#7b9ff9\">действующим </span><span title=\"512 0.0000\" style=\"background-color:#7b9ff9\">законодательством </span><span title=\"513 0.0000\" style=\"background-color:#7b9ff9\">Российской </span><span title=\"514 0.0000\" style=\"background-color:#7b9ff9\">Федерации </span><span title=\"515 0.0000\" style=\"background-color:#7b9ff9\">. </span><span title=\"516 0.0000\" style=\"background-color:#7b9ff9\">\n",
              " </span><br><span title=\"517 1.0000\" style=\"background-color:#f2cbb7\">Прочие </span><span title=\"518 1.0000\" style=\"background-color:#f2cbb7\">условия </span><span title=\"519 1.0000\" style=\"background-color:#f2cbb7\">\n",
              " </span><br><span title=\"520 0.0000\" style=\"background-color:#7b9ff9\">Договор </span><span title=\"521 0.0000\" style=\"background-color:#7b9ff9\">вступает </span><span title=\"522 0.0000\" style=\"background-color:#7b9ff9\">в </span><span title=\"523 0.0000\" style=\"background-color:#7b9ff9\">силу </span><span title=\"524 0.0000\" style=\"background-color:#7b9ff9\">с </span><span title=\"525 0.0000\" style=\"background-color:#7b9ff9\">момента </span><span title=\"526 0.0000\" style=\"background-color:#7b9ff9\">подписания </span><span title=\"527 0.0000\" style=\"background-color:#7b9ff9\">« </span><span title=\"528 0.0000\" style=\"background-color:#7b9ff9\">Сторонами </span><span title=\"529 0.0000\" style=\"background-color:#7b9ff9\">» </span><span title=\"530 0.0000\" style=\"background-color:#7b9ff9\">и </span><span title=\"531 0.0000\" style=\"background-color:#7b9ff9\">действует </span><span title=\"532 0.0000\" style=\"background-color:#7b9ff9\">до </span><span title=\"533 0.0000\" style=\"background-color:#7b9ff9\">исполнения </span><span title=\"534 0.0000\" style=\"background-color:#7b9ff9\">« </span><span title=\"535 0.0000\" style=\"background-color:#7b9ff9\">Сторонами </span><span title=\"536 0.0000\" style=\"background-color:#7b9ff9\">» </span><span title=\"537 0.0000\" style=\"background-color:#7b9ff9\">принятых </span><span title=\"538 0.0000\" style=\"background-color:#7b9ff9\">на </span><span title=\"539 0.0000\" style=\"background-color:#7b9ff9\">себя </span><span title=\"540 0.0000\" style=\"background-color:#7b9ff9\">обязательств </span><span title=\"541 0.0000\" style=\"background-color:#7b9ff9\">. </span><span title=\"542 0.0000\" style=\"background-color:#7b9ff9\">\n",
              " </span><br><span title=\"543 0.0000\" style=\"background-color:#7b9ff9\">С </span><span title=\"544 0.0000\" style=\"background-color:#7b9ff9\">момента </span><span title=\"545 0.0000\" style=\"background-color:#7b9ff9\">подписания </span><span title=\"546 0.0000\" style=\"background-color:#7b9ff9\">настоящего </span><span title=\"547 0.0000\" style=\"background-color:#7b9ff9\">Договора </span><span title=\"548 0.0000\" style=\"background-color:#7b9ff9\">вся </span><span title=\"549 0.0000\" style=\"background-color:#7b9ff9\">предыдущая </span><span title=\"550 0.0000\" style=\"background-color:#7b9ff9\">переписка </span><span title=\"551 0.0000\" style=\"background-color:#7b9ff9\">и </span><span title=\"552 0.0000\" style=\"background-color:#7b9ff9\">все </span><span title=\"553 0.0000\" style=\"background-color:#7b9ff9\">предшествующие </span><span title=\"554 0.0000\" style=\"background-color:#7b9ff9\">переговоры </span><span title=\"555 0.0000\" style=\"background-color:#7b9ff9\">« </span><span title=\"556 0.0000\" style=\"background-color:#7b9ff9\">Сторон </span><span title=\"557 0.0000\" style=\"background-color:#7b9ff9\">» </span><span title=\"558 0.0000\" style=\"background-color:#7b9ff9\">по </span><span title=\"559 0.0000\" style=\"background-color:#7b9ff9\">нему </span><span title=\"560 0.0000\" style=\"background-color:#7b9ff9\">утрачивают </span><span title=\"561 0.0000\" style=\"background-color:#7b9ff9\">силу </span><span title=\"562 0.0000\" style=\"background-color:#7b9ff9\">. </span><span title=\"563 0.0000\" style=\"background-color:#7b9ff9\">\n",
              " </span><br><span title=\"564 0.0000\" style=\"background-color:#7b9ff9\">Все </span><span title=\"565 0.0000\" style=\"background-color:#7b9ff9\">изменения </span><span title=\"566 0.0000\" style=\"background-color:#7b9ff9\">, </span><span title=\"567 0.0000\" style=\"background-color:#7b9ff9\">дополнения </span><span title=\"568 0.0000\" style=\"background-color:#7b9ff9\">и </span><span title=\"569 0.0000\" style=\"background-color:#7b9ff9\">приложения </span><span title=\"570 0.0000\" style=\"background-color:#7b9ff9\">к </span><span title=\"571 0.0000\" style=\"background-color:#7b9ff9\">настоящему </span><span title=\"572 0.0000\" style=\"background-color:#7b9ff9\">Договору </span><span title=\"573 0.0000\" style=\"background-color:#7b9ff9\">должны </span><span title=\"574 0.0000\" style=\"background-color:#7b9ff9\">быть </span><span title=\"575 0.0000\" style=\"background-color:#7b9ff9\">совершены </span><span title=\"576 0.0000\" style=\"background-color:#7b9ff9\">в </span><span title=\"577 0.0000\" style=\"background-color:#7b9ff9\">письменной </span><span title=\"578 0.0000\" style=\"background-color:#7b9ff9\">форме </span><span title=\"579 0.0000\" style=\"background-color:#7b9ff9\">и </span><span title=\"580 0.0000\" style=\"background-color:#7b9ff9\">подписаны </span><span title=\"581 0.0000\" style=\"background-color:#7b9ff9\">надлежащим </span><span title=\"582 0.0000\" style=\"background-color:#7b9ff9\">образом </span><span title=\"583 0.0000\" style=\"background-color:#7b9ff9\">уполномоченными </span><span title=\"584 0.0000\" style=\"background-color:#7b9ff9\">представителями </span><span title=\"585 0.0000\" style=\"background-color:#7b9ff9\">« </span><span title=\"586 0.0000\" style=\"background-color:#7b9ff9\">Сторон </span><span title=\"587 0.0000\" style=\"background-color:#7b9ff9\">» </span><span title=\"588 0.0000\" style=\"background-color:#7b9ff9\">. </span><span title=\"589 0.0000\" style=\"background-color:#7b9ff9\">Все </span><span title=\"590 0.0000\" style=\"background-color:#7b9ff9\">изменения </span><span title=\"591 0.0000\" style=\"background-color:#7b9ff9\">, </span><span title=\"592 0.0000\" style=\"background-color:#7b9ff9\">приложения </span><span title=\"593 0.0000\" style=\"background-color:#7b9ff9\">и </span><span title=\"594 0.0000\" style=\"background-color:#7b9ff9\">дополнения </span><span title=\"595 0.0000\" style=\"background-color:#7b9ff9\">, </span><span title=\"596 0.0000\" style=\"background-color:#7b9ff9\">составленные </span><span title=\"597 0.0000\" style=\"background-color:#7b9ff9\">в </span><span title=\"598 0.0000\" style=\"background-color:#7b9ff9\">надлежащей </span><span title=\"599 0.0000\" style=\"background-color:#7b9ff9\">форме </span><span title=\"600 0.0000\" style=\"background-color:#7b9ff9\">и </span><span title=\"601 0.0000\" style=\"background-color:#7b9ff9\">в </span><span title=\"602 0.0000\" style=\"background-color:#7b9ff9\">соответствии </span><span title=\"603 0.0000\" style=\"background-color:#7b9ff9\">с </span><span title=\"604 0.0000\" style=\"background-color:#7b9ff9\">условиями </span><span title=\"605 0.0000\" style=\"background-color:#7b9ff9\">настоящего </span><span title=\"606 0.0000\" style=\"background-color:#7b9ff9\">Договора </span><span title=\"607 0.0000\" style=\"background-color:#7b9ff9\">, </span><span title=\"608 0.0000\" style=\"background-color:#7b9ff9\">являются </span><span title=\"609 0.0000\" style=\"background-color:#7b9ff9\">его </span><span title=\"610 0.0000\" style=\"background-color:#7b9ff9\">составной </span><span title=\"611 0.0000\" style=\"background-color:#7b9ff9\">и </span><span title=\"612 0.0000\" style=\"background-color:#7b9ff9\">неотъемлемой </span><span title=\"613 0.0000\" style=\"background-color:#7b9ff9\">частью </span><span title=\"614 0.0000\" style=\"background-color:#7b9ff9\">. </span><span title=\"615 0.0000\" style=\"background-color:#7b9ff9\">\n",
              " </span><br><span title=\"616 0.0000\" style=\"background-color:#7b9ff9\">Ни </span><span title=\"617 0.0000\" style=\"background-color:#7b9ff9\">одна </span><span title=\"618 0.0000\" style=\"background-color:#7b9ff9\">из </span><span title=\"619 0.0000\" style=\"background-color:#7b9ff9\">« </span><span title=\"620 0.0000\" style=\"background-color:#7b9ff9\">Сторон </span><span title=\"621 0.0000\" style=\"background-color:#7b9ff9\">» </span><span title=\"622 0.0000\" style=\"background-color:#7b9ff9\">не </span><span title=\"623 0.0000\" style=\"background-color:#7b9ff9\">имеет </span><span title=\"624 0.0000\" style=\"background-color:#7b9ff9\">права </span><span title=\"625 0.0000\" style=\"background-color:#7b9ff9\">передавать </span><span title=\"626 0.0000\" style=\"background-color:#7b9ff9\">свои </span><span title=\"627 0.0000\" style=\"background-color:#7b9ff9\">права </span><span title=\"628 0.0000\" style=\"background-color:#7b9ff9\">и </span><span title=\"629 0.0000\" style=\"background-color:#7b9ff9\">обязанности </span><span title=\"630 0.0000\" style=\"background-color:#7b9ff9\">по </span><span title=\"631 0.0000\" style=\"background-color:#7b9ff9\">настоящему </span><span title=\"632 0.0000\" style=\"background-color:#7b9ff9\">Договору </span><span title=\"633 0.0000\" style=\"background-color:#7b9ff9\">третьим </span><span title=\"634 0.0000\" style=\"background-color:#7b9ff9\">лицам </span><span title=\"635 0.0000\" style=\"background-color:#7b9ff9\">без </span><span title=\"636 0.0000\" style=\"background-color:#7b9ff9\">предварительного </span><span title=\"637 0.0000\" style=\"background-color:#7b9ff9\">письменного </span><span title=\"638 0.0000\" style=\"background-color:#7b9ff9\">согласия </span><span title=\"639 0.0000\" style=\"background-color:#7b9ff9\">другой </span><span title=\"640 0.0000\" style=\"background-color:#7b9ff9\">« </span><span title=\"641 0.0000\" style=\"background-color:#7b9ff9\">Стороны </span><span title=\"642 0.0000\" style=\"background-color:#7b9ff9\">» </span><span title=\"643 0.0000\" style=\"background-color:#7b9ff9\">. </span><span title=\"644 0.0000\" style=\"background-color:#7b9ff9\">\n",
              " </span><br><span title=\"645 0.0000\" style=\"background-color:#7b9ff9\">« </span><span title=\"646 0.0000\" style=\"background-color:#7b9ff9\">Стороны </span><span title=\"647 0.0000\" style=\"background-color:#7b9ff9\">» </span><span title=\"648 0.0000\" style=\"background-color:#7b9ff9\">не </span><span title=\"649 0.0000\" style=\"background-color:#7b9ff9\">предполагают </span><span title=\"650 0.0000\" style=\"background-color:#7b9ff9\">обмен </span><span title=\"651 0.0000\" style=\"background-color:#7b9ff9\">конфиденциальной </span><span title=\"652 0.0000\" style=\"background-color:#7b9ff9\">информацией </span><span title=\"653 0.0000\" style=\"background-color:#7b9ff9\">в </span><span title=\"654 0.0000\" style=\"background-color:#7b9ff9\">рамках </span><span title=\"655 0.0000\" style=\"background-color:#7b9ff9\">настоящего </span><span title=\"656 0.0000\" style=\"background-color:#7b9ff9\">Договора </span><span title=\"657 0.0000\" style=\"background-color:#7b9ff9\">. </span><span title=\"658 0.0000\" style=\"background-color:#7b9ff9\">В </span><span title=\"659 0.0000\" style=\"background-color:#7b9ff9\">случае </span><span title=\"660 0.0000\" style=\"background-color:#7b9ff9\">необходимости </span><span title=\"661 0.0000\" style=\"background-color:#7b9ff9\">передачи </span><span title=\"662 0.0000\" style=\"background-color:#7b9ff9\">в </span><span title=\"663 0.0000\" style=\"background-color:#7b9ff9\">рамках </span><span title=\"664 0.0000\" style=\"background-color:#7b9ff9\">настоящего </span><span title=\"665 0.0000\" style=\"background-color:#7b9ff9\">Договора </span><span title=\"666 0.0000\" style=\"background-color:#7b9ff9\">конфиденциальной </span><span title=\"667 0.0000\" style=\"background-color:#7b9ff9\">информации </span><span title=\"668 0.0000\" style=\"background-color:#7b9ff9\">« </span><span title=\"669 0.0000\" style=\"background-color:#7b9ff9\">Стороны </span><span title=\"670 0.0000\" style=\"background-color:#7b9ff9\">» </span><span title=\"671 0.0000\" style=\"background-color:#7b9ff9\">обязуются </span><span title=\"672 0.0000\" style=\"background-color:#7b9ff9\">заключить </span><span title=\"673 0.0000\" style=\"background-color:#7b9ff9\">Соглашение </span><span title=\"674 0.0000\" style=\"background-color:#7b9ff9\">о </span><span title=\"675 0.0000\" style=\"background-color:#7b9ff9\">конфиденциальности </span><span title=\"676 0.0000\" style=\"background-color:#7b9ff9\">. </span><span title=\"677 0.0000\" style=\"background-color:#7b9ff9\">\n",
              " </span><br><span title=\"678 0.0000\" style=\"background-color:#7b9ff9\">Все </span><span title=\"679 0.0000\" style=\"background-color:#7b9ff9\">сообщения </span><span title=\"680 0.0000\" style=\"background-color:#7b9ff9\">, </span><span title=\"681 0.0000\" style=\"background-color:#7b9ff9\">передаваемые </span><span title=\"682 0.0000\" style=\"background-color:#7b9ff9\">« </span><span title=\"683 0.0000\" style=\"background-color:#7b9ff9\">Сторонами </span><span title=\"684 0.0000\" style=\"background-color:#7b9ff9\">» </span><span title=\"685 0.0000\" style=\"background-color:#7b9ff9\">друг </span><span title=\"686 0.0000\" style=\"background-color:#7b9ff9\">другу </span><span title=\"687 0.0000\" style=\"background-color:#7b9ff9\">, </span><span title=\"688 0.0000\" style=\"background-color:#7b9ff9\">производятся </span><span title=\"689 0.0000\" style=\"background-color:#7b9ff9\">в </span><span title=\"690 0.0000\" style=\"background-color:#7b9ff9\">письменном </span><span title=\"691 0.0000\" style=\"background-color:#7b9ff9\">виде </span><span title=\"692 0.0000\" style=\"background-color:#7b9ff9\">( </span><span title=\"693 0.0000\" style=\"background-color:#7b9ff9\">в </span><span title=\"694 0.0000\" style=\"background-color:#7b9ff9\">том </span><span title=\"695 0.0000\" style=\"background-color:#7b9ff9\">числе </span><span title=\"696 0.0000\" style=\"background-color:#7b9ff9\">заказным </span><span title=\"697 0.0000\" style=\"background-color:#7b9ff9\">письмом </span><span title=\"698 0.0000\" style=\"background-color:#7b9ff9\">, </span><span title=\"699 0.0000\" style=\"background-color:#7b9ff9\">телеграммой </span><span title=\"700 0.0000\" style=\"background-color:#7b9ff9\">или </span><span title=\"701 0.0000\" style=\"background-color:#7b9ff9\">по </span><span title=\"702 0.0000\" style=\"background-color:#7b9ff9\">факсимильной </span><span title=\"703 0.0000\" style=\"background-color:#7b9ff9\">связи </span><span title=\"704 0.0000\" style=\"background-color:#7b9ff9\">) </span><span title=\"705 0.0000\" style=\"background-color:#7b9ff9\">с </span><span title=\"706 0.0000\" style=\"background-color:#7b9ff9\">отметкой </span><span title=\"707 0.0000\" style=\"background-color:#7b9ff9\">о </span><span title=\"708 0.0000\" style=\"background-color:#7b9ff9\">вручении </span><span title=\"709 0.0000\" style=\"background-color:#7b9ff9\">( </span><span title=\"710 0.0000\" style=\"background-color:#7b9ff9\">получении </span><span title=\"711 0.0000\" style=\"background-color:#7b9ff9\">) </span><span title=\"712 0.0000\" style=\"background-color:#7b9ff9\">. </span><span title=\"713 0.0000\" style=\"background-color:#7b9ff9\">Риск </span><span title=\"714 0.0000\" style=\"background-color:#7b9ff9\">искажения </span><span title=\"715 0.0000\" style=\"background-color:#7b9ff9\">информации </span><span title=\"716 0.0000\" style=\"background-color:#7b9ff9\">при </span><span title=\"717 0.0000\" style=\"background-color:#7b9ff9\">ее </span><span title=\"718 0.0000\" style=\"background-color:#7b9ff9\">передаче </span><span title=\"719 0.0000\" style=\"background-color:#7b9ff9\">посредством </span><span title=\"720 0.0000\" style=\"background-color:#7b9ff9\">факсимильной </span><span title=\"721 0.0000\" style=\"background-color:#7b9ff9\">связи </span><span title=\"722 0.0000\" style=\"background-color:#7b9ff9\">несет </span><span title=\"723 0.0000\" style=\"background-color:#7b9ff9\">« </span><span title=\"724 0.0000\" style=\"background-color:#7b9ff9\">Сторона </span><span title=\"725 0.0000\" style=\"background-color:#7b9ff9\">» </span><span title=\"726 0.0000\" style=\"background-color:#7b9ff9\">, </span><span title=\"727 0.0000\" style=\"background-color:#7b9ff9\">передающая </span><span title=\"728 0.0000\" style=\"background-color:#7b9ff9\">такую </span><span title=\"729 0.0000\" style=\"background-color:#7b9ff9\">информацию </span><span title=\"730 0.0000\" style=\"background-color:#7b9ff9\">. </span><span title=\"731 0.0000\" style=\"background-color:#7b9ff9\">\n",
              " </span><br><span title=\"732 0.0000\" style=\"background-color:#7b9ff9\">Настоящий </span><span title=\"733 0.0000\" style=\"background-color:#7b9ff9\">Договор </span><span title=\"734 0.0000\" style=\"background-color:#7b9ff9\">составлен </span><span title=\"735 0.0000\" style=\"background-color:#7b9ff9\">в </span><span title=\"736 0.0000\" style=\"background-color:#7b9ff9\">2 </span><span title=\"737 0.0000\" style=\"background-color:#7b9ff9\">( </span><span title=\"738 0.0000\" style=\"background-color:#7b9ff9\">двух </span><span title=\"739 0.0000\" style=\"background-color:#7b9ff9\">) </span><span title=\"740 0.0000\" style=\"background-color:#7b9ff9\">экземплярах </span><span title=\"741 0.0000\" style=\"background-color:#7b9ff9\">, </span><span title=\"742 0.0000\" style=\"background-color:#7b9ff9\">имеющих </span><span title=\"743 0.0000\" style=\"background-color:#7b9ff9\">равную </span><span title=\"744 0.0000\" style=\"background-color:#7b9ff9\">юридическую </span><span title=\"745 0.0000\" style=\"background-color:#7b9ff9\">силу </span><span title=\"746 0.0000\" style=\"background-color:#7b9ff9\">, </span><span title=\"747 0.0000\" style=\"background-color:#7b9ff9\">по </span><span title=\"748 0.0000\" style=\"background-color:#7b9ff9\">1 </span><span title=\"749 0.0000\" style=\"background-color:#7b9ff9\">( </span><span title=\"750 0.0000\" style=\"background-color:#7b9ff9\">одному </span><span title=\"751 0.0000\" style=\"background-color:#7b9ff9\">) </span><span title=\"752 0.0000\" style=\"background-color:#7b9ff9\">для </span><span title=\"753 0.0000\" style=\"background-color:#7b9ff9\">каждой </span><span title=\"754 0.0000\" style=\"background-color:#7b9ff9\">из </span><span title=\"755 0.0000\" style=\"background-color:#7b9ff9\">« </span><span title=\"756 0.0000\" style=\"background-color:#7b9ff9\">Сторон </span><span title=\"757 0.0000\" style=\"background-color:#7b9ff9\">» </span><span title=\"758 0.0000\" style=\"background-color:#7b9ff9\">. </span><span title=\"759 0.0000\" style=\"background-color:#7b9ff9\">\n",
              " </span><br><span title=\"760 0.0000\" style=\"background-color:#7b9ff9\">\n",
              " </span><br><span title=\"761 0.0000\" style=\"background-color:#7b9ff9\">\n",
              " </span><br><span title=\"762 0.0000\" style=\"background-color:#7b9ff9\">\n",
              " </span><br><span title=\"763 0.0000\" style=\"background-color:#7b9ff9\">\n",
              " </span><br><span title=\"764 0.0000\" style=\"background-color:#7b9ff9\">\n",
              " </span><br><span title=\"765 0.0000\" style=\"background-color:#7b9ff9\">\n",
              " </span><br><span title=\"766 0.0000\" style=\"background-color:#7b9ff9\">\n",
              " </span><br><span title=\"767 0.0000\" style=\"background-color:#7b9ff9\">\n",
              " </span><br><span title=\"768 0.0000\" style=\"background-color:#7b9ff9\">\n",
              " </span><br><span title=\"769 0.0000\" style=\"background-color:#7b9ff9\">\n",
              " </span><br><span title=\"770 0.0000\" style=\"background-color:#7b9ff9\">\n",
              " </span><br><span title=\"771 0.0000\" style=\"background-color:#7b9ff9\">\n",
              " </span><br><span title=\"772 0.0000\" style=\"background-color:#7b9ff9\">\n",
              " </span><br><span title=\"773 0.0000\" style=\"background-color:#7b9ff9\">\n",
              " </span><br><span title=\"774 0.0000\" style=\"background-color:#7b9ff9\">\n",
              " </span><br><span title=\"775 0.0000\" style=\"background-color:#7b9ff9\">\n",
              " </span><br><span title=\"776 0.0000\" style=\"background-color:#7b9ff9\">\n",
              " </span><br><span title=\"777 0.0000\" style=\"background-color:#7b9ff9\">\n",
              " </span><br><span title=\"778 0.0000\" style=\"background-color:#7b9ff9\">\n",
              " </span><br><span title=\"779 0.0000\" style=\"background-color:#7b9ff9\">\n",
              " </span><br><span title=\"780 0.0000\" style=\"background-color:#7b9ff9\">\n",
              " </span><br><span title=\"781 1.0000\" style=\"background-color:#f2cbb7\">2 </span>"
            ],
            "text/plain": [
              "<IPython.core.display.HTML object>"
            ]
          },
          "metadata": {
            "tags": []
          }
        }
      ]
    }
  ]
}