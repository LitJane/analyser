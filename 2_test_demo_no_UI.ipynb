{
  "nbformat": 4,
  "nbformat_minor": 0,
  "metadata": {
    "colab": {
      "name": "2 test demo no UI.ipynb",
      "version": "0.3.2",
      "provenance": [],
      "collapsed_sections": [],
      "toc_visible": true,
      "include_colab_link": true
    },
    "kernelspec": {
      "name": "python3",
      "display_name": "Python 3"
    },
    "accelerator": "GPU"
  },
  "cells": [
    {
      "cell_type": "markdown",
      "metadata": {
        "id": "view-in-github",
        "colab_type": "text"
      },
      "source": [
        "<a href=\"https://colab.research.google.com/github/compartia/nlp_tools/blob/show-violations/2_test_demo_no_UI.ipynb\" target=\"_parent\"><img src=\"https://colab.research.google.com/assets/colab-badge.svg\" alt=\"Open In Colab\"/></a>"
      ]
    },
    {
      "metadata": {
        "id": "vXHjbkIfc8Ws",
        "colab_type": "code",
        "colab": {}
      },
      "cell_type": "code",
      "source": [
        "GLOBALS__={}"
      ],
      "execution_count": 0,
      "outputs": []
    },
    {
      "metadata": {
        "id": "zGPbyfYp6nIq",
        "colab_type": "code",
        "outputId": "ee2e2a24-a43a-42b6-e659-36f04a68cd13",
        "colab": {
          "base_uri": "https://localhost:8080/",
          "height": 34
        }
      },
      "cell_type": "code",
      "source": [
        "#@title Настройки { run: \"auto\", vertical-output: true, display-mode: \"form\" }\n",
        "USD_to_RUB = 34.02 #@param {type:\"number\"}\n",
        "RUB_to_USD = 1.0/USD_to_RUB\n",
        "\n",
        "# print('USD_to_RUB=',USD_to_RUB)\n",
        "# print('RUB_to_USD=',RUB_to_USD)\n",
        "\n",
        "\n",
        "\n",
        "currency_converter = {\n",
        "  'USD': USD_to_RUB,\n",
        "  'RUB': 1.0\n",
        "}\n",
        "\n",
        "print(currency_converter)"
      ],
      "execution_count": 2,
      "outputs": [
        {
          "output_type": "stream",
          "text": [
            "{'USD': 34.02, 'RUB': 1.0}\n"
          ],
          "name": "stdout"
        }
      ]
    },
    {
      "metadata": {
        "id": "nwpPPXqRQs6-",
        "colab_type": "text"
      },
      "cell_type": "markdown",
      "source": [
        "#MAIN"
      ]
    },
    {
      "metadata": {
        "id": "-2Oe-BsTcCIW",
        "colab_type": "code",
        "colab": {}
      },
      "cell_type": "code",
      "source": [
        "#@title Обработка документов { vertical-output: true, output-height: 800, form-width: \"300px\", display-mode: \"form\" }\n",
        "\n",
        "\n",
        "import os\n",
        "import sys\n",
        "\n",
        "\n",
        "\n",
        "def interactive_upload(filetype):\n",
        "  from google.colab import files\n",
        "  import docx2txt\n",
        "\n",
        "  print(f'Please select \"{filetype}\" .docx file:')\n",
        "  uploaded = files.upload()\n",
        "  docs = []\n",
        "  for fn in uploaded.keys():\n",
        "    print('User uploaded file \"{name}\" with length {length} bytes'.format(\n",
        "      name=fn, length=len(uploaded[fn])))\n",
        "\n",
        "    with open(fn, \"wb\") as df:\n",
        "      df.write(uploaded[fn])\n",
        "      df.close()\n",
        "\n",
        "    # extract text\n",
        "\n",
        "    text = ''\n",
        "    try:\n",
        "      text = docx2txt.process(fn)\n",
        "    except:\n",
        "      print(\"Unexpected error:\", sys.exc_info())\n",
        "      os.system('antiword -w 0 \"' + fn + '\" > \"' + fn + '.txt\"')\n",
        "      with open(fn + '.txt') as f:\n",
        "        text = f.read()\n",
        "    print(\"Символов в оригинальном документе:\", len(text))\n",
        "    docs.append(text)\n",
        "    return docs\n",
        "\n",
        "\n",
        "# ====================================\n",
        "# ====================================\n",
        "_git_branch = \"show-violations\"  # @param {type:\"string\"}\n",
        "# ====================================\n",
        "# ====================================\n",
        " \n",
        "\n",
        "\n",
        "\n",
        "#''' AZ:-IMPORT CODE GITHUB----------------------------------------------😺------ '''\n",
        "import sys\n",
        "\n",
        "\n",
        "def _init_import_code_from_gh():\n",
        "  if 'GLOBALS__' not in globals():\n",
        "    print('adding global GLOBALS__')\n",
        "    global GLOBALS__\n",
        "    GLOBALS__ = {}\n",
        "\n",
        "  if '_init_import_code_from_gh' in GLOBALS__:\n",
        "    print('👌 code already imported from GitHub!')\n",
        "    return\n",
        "\n",
        "  import subprocess\n",
        "  def exec(x):\n",
        "    r = subprocess.check_output(x, shell=True)\n",
        "    r = r.decode('unicode-escape').encode('latin1').decode('utf8')\n",
        "    print(r)\n",
        "\n",
        "  print(f\"fetching code from GitHub.....{_git_branch}\")\n",
        "  try:\n",
        "    exec('rm -r nlp_tools')\n",
        "  except:\n",
        "    pass\n",
        "  exec(f'git clone --single-branch --branch {_git_branch} https://github.com/compartia/nlp_tools.git nlp_tools')\n",
        "\n",
        "  print('🦊 GIT revision:')\n",
        "  exec('cd nlp_tools\\ngit rev-list --reverse HEAD | awk \"{ print NR }\" | tail -n 1\\ngit branch\\ngit log -3 --pretty=%B')\n",
        "\n",
        "  sys.path.insert(0, 'nlp_tools')\n",
        "\n",
        "  # self-test\n",
        "  from text_tools import untokenize\n",
        "  print(untokenize(['code', 'imported', 'OK 👍']))\n",
        "\n",
        "  print('installing antiword...')\n",
        "  exec('sudo apt-get install antiword')\n",
        "\n",
        "  print('installing docx2txt...')\n",
        "  exec(\"pip install docx2txt\")\n",
        "\n",
        "  GLOBALS__['_init_import_code_from_gh'] = True\n",
        "\n",
        "\n",
        "  ''' AZ:-------------------------------------------------IMPORT CODE GITHUB-😺---'''\n",
        "  print('❤️ DONE importing Code fro GitHub')\n",
        "\n",
        "\n",
        "  \n",
        "  \n",
        "# AZ:-INIT ELMO-----------------------------------------------------------------------------------\n",
        "\n",
        "import tensorflow as tf\n",
        "import tensorflow_hub as hub\n",
        "\n",
        "\n",
        "def _import_elmo():\n",
        "  \"\"\"\n",
        "  ACHTUNG!! this method is called later by ElmoEmbedder\n",
        "  \"\"\"\n",
        "\n",
        "\n",
        "\n",
        "  elmo = hub.Module('https://storage.googleapis.com/az-nlp/elmo_ru-news_wmt11-16_1.5M_steps.tar.gz',\n",
        "                    trainable=False)  # twitter\n",
        "  print('❤️ ❤️ ❤️ DONE (re)importing Tensorflow hub.Module ')\n",
        "  print('Tensorflow version is', tf.__version__)\n",
        "\n",
        "  return elmo\n",
        "\n",
        "\n",
        "\n",
        "# AZ:-INIT EMBEDDER-----------------------------------------------------------------------------------\n",
        "\n",
        "def _init_embedder():\n",
        "  if 'elmo_embedder' in GLOBALS__:\n",
        "    print('👌 Embedder is already created! ')\n",
        "    return\n",
        "\n",
        "  from embedding_tools import ElmoEmbedder\n",
        "  GLOBALS__['elmo_embedder'] = ElmoEmbedder(_import_elmo(), tf, 'elmo', _import_elmo)\n",
        "\n",
        "  print('❤️ DONE creating words embedding model')\n",
        "  return GLOBALS__['elmo_embedder']\n",
        "\n",
        "\n",
        "# AZ:-Init chartes context-----------------------------------------------------------------------------------\n",
        "def _init_charters():\n",
        "  if 'CharterAnlysingContext' in GLOBALS__:\n",
        "    print('👌 Charters-related tools are already inited ')\n",
        "    return\n",
        "\n",
        "  _init_embedder()# PRECONDITION\n",
        "  from charter_patterns import CharterPatternFactory \n",
        "  from charter_parser import CharterDocumentParser\n",
        "  CPF = CharterPatternFactory( GLOBALS__[ 'elmo_embedder']  )  \n",
        "  GLOBALS__['CharterAnlysingContext'] = CharterDocumentParser(CPF)\n",
        "  print('❤️ DONE initing Charters-related tools and models ')\n",
        "\n",
        "\n",
        "def _init_contracts():\n",
        "  if 'ContractAnlysingContext' in GLOBALS__:\n",
        "    print('👌 Contracts-related tools are already inited ')\n",
        "    return\n",
        "\n",
        "  from demo import ContractAnlysingContext\n",
        "  GLOBALS__['ContractAnlysingContext'] = ContractAnlysingContext(GLOBALS__['elmo_embedder'], GLOBALS__['renderer'])\n",
        "  print('❤️ DONE initing Contracts-related tools and models ')\n",
        "  \n",
        "  \n",
        "  \n",
        "  \n",
        "\n",
        "\n",
        "# AZ:- THE CODE----------------------------------------------------------------------------------\n",
        "from typing import List\n",
        "\n",
        "\n",
        "\n",
        "\n",
        "def _init_the_code(reset=False):\n",
        "  if '_init_the_code' in GLOBALS__ and not reset:\n",
        "    print('👌 Code is alredy imported!')\n",
        "    return\n",
        "\n",
        "  from transaction_values import ValueConstraint\n",
        "\n",
        "  import matplotlib as mpl\n",
        "  from IPython.core.display import display, HTML\n",
        "  import matplotlib.pyplot as plt\n",
        "  from renderer import AbstractRenderer, head_types_colors\n",
        "  from renderer import to_multicolor_text, as_headline_3, as_offset\n",
        "  from renderer import as_msg, as_quote\n",
        "  from renderer import as_error_html\n",
        "  from transaction_values import ValueConstraint\n",
        "  from parsing import head_types_dict, head_types\n",
        "\n",
        "  def _as_smaller(txt):\n",
        "    return f'<div font-size:12px\">{txt}</div>'\n",
        "\n",
        "  def as_c_quote(txt):\n",
        "    return f'<div style=\"margin-top:0.2em; margin-left:2em; font-size:14px\">\"...{txt} ...\"</div>'\n",
        "\n",
        "  v_color_map = {\n",
        "    'deal_value_attention_vector': (0.0, 0.5, 1.0),\n",
        "    'value_attention_vector': (1.0, 0.5, 0.0),\n",
        "    'd_order_consent': (0.0, 0.3, 0.9),\n",
        "    'at_x_charity_': (0.0, 1.0, 0.0)\n",
        "  }\n",
        "\n",
        "  import numpy as np\n",
        "  class DemoRenderer(AbstractRenderer):\n",
        "    \n",
        "    def render_color_text(self, tokens, weights, colormap='coolwarm', print_debug=False, _range=None):\n",
        "      html = self.to_color_text(tokens, weights, colormap, print_debug, _range)\n",
        "      display(HTML(html))\n",
        "    \n",
        "    def to_color_text(self, tokens, weights, colormap='coolwarm', print_debug=False, _range=None):\n",
        "      if len(tokens) == 0:\n",
        "        return \" - empty -\"\n",
        "      if len(weights) != len(tokens):\n",
        "        raise ValueError(\"number of weights differs weights={} tokens={}\".format(len(weights), len(tokens)))\n",
        "\n",
        "      #   if()\n",
        "      vmin = weights.min()\n",
        "      vmax = weights.max()\n",
        "\n",
        "      if _range is not None:\n",
        "        vmin = _range[0]\n",
        "        vmax = _range[1]\n",
        "\n",
        "      if print_debug:\n",
        "        print(vmin, vmax)\n",
        "\n",
        "      norm = mpl.colors.Normalize(vmin=vmin - 0.5, vmax=vmax)\n",
        "      html = \"\"\n",
        "      cmap = mpl.cm.get_cmap(colormap)\n",
        "\n",
        "      for d in range(0, len(weights)):\n",
        "        word = tokens[d]\n",
        "        if word == ' ':\n",
        "          word = '&nbsp;_ '\n",
        "\n",
        "        html += '<span title=\"{} {:.4f}\" style=\"background-color:{}\">{} </span>'.format(\n",
        "          d,\n",
        "          weights[d],\n",
        "          mpl.colors.to_hex(cmap(norm(weights[d]))),\n",
        "          word)\n",
        "\n",
        "        #     html+='<span style=\"background-color:' +mpl.colors.to_hex(cmap(norm(weights[d]) ))+ '\">' + str(tokens[d]) + \" </span>\"\n",
        "        if tokens[d] == '\\n':\n",
        "          html += \"<br>\"\n",
        "\n",
        "      return html\n",
        "    \n",
        "    def render_multicolor_text(self, tokens, vectors, colormap, min_color=None, _slice=None):\n",
        "      display(HTML(to_multicolor_text(tokens, vectors, colormap, min_color=min_color, _slice=_slice)))\n",
        "\n",
        "    ''' AZ:-Rendering CHARITY🔥-----💸------💸-------💸------------------------------'''\n",
        "\n",
        "    def render_charity_constraints(self, doc, charity_constraints):\n",
        "      #       html=''\n",
        "      for head in charity_constraints:\n",
        "        charity_constraints_by_head = charity_constraints[head]\n",
        "        display(HTML(as_headline_3(f'{head} ({len(charity_constraints_by_head)})')))\n",
        "        html = self.html_charity_constraints_by_head(charity_constraints_by_head, doc, head)\n",
        "        display(HTML(html))\n",
        "\n",
        "    ''' AZ:------💸------💸-------💸----------------------END--Rendering CHARITY🔥------'''\n",
        "\n",
        "    def render_subj(self, doc):\n",
        "      from demo import subject_types_dict\n",
        "      subj = doc.subject\n",
        "      s_name = subject_types_dict[subj[0]].upper()\n",
        "\n",
        "      display(\n",
        "        HTML(f'Предмет договора:<h3 style=\"margin:0\">{s_name}<sup> {subj[0]}</sup> </h3> confidence:{subj[1]:20,.2f}'))\n",
        "\n",
        "    def sign_to_text(self, sign: int):\n",
        "      if sign < 0: return \" &lt; \"\n",
        "      if sign > 0: return \" &gt; \"\n",
        "      return ' = '\n",
        "\n",
        "    def probable_value_to_html(self, pv):\n",
        "      vc = pv.value\n",
        "      color = '#333333'\n",
        "      if vc.sign > 0:\n",
        "        color = '#993300'\n",
        "      elif vc.sign < 0:\n",
        "        color = '#009933'\n",
        "\n",
        "      return f'<b style=\"color:{color}\">{self.sign_to_text(vc.sign)} {vc.currency} {vc.value:20,.2f} confidence={pv.confidence:20,.2f}</b> '\n",
        "\n",
        "    def render_contents(self, doc):\n",
        "      html =  as_headline_3('Выявленное Содержание документа')\n",
        "      html += \"<ul>\"\n",
        "      for i in doc.structure.headline_indexes:\n",
        "        line = doc.structure.structure[i].to_string(doc.tokens_cc)\n",
        "        html += f'<li> {line} <sup>line {i}</sup></li>'\n",
        "      html += \"</ul>\"\n",
        "\n",
        "      display(HTML(html))\n",
        "      \n",
        "\n",
        "    def render_sections(self, sections):\n",
        "      from legal_docs import HeadlineMeta\n",
        "      html = as_headline_3('Выявленное секции документа')\n",
        "      html += \"<ul>\"\n",
        "      for section_type in sections:\n",
        "        section: HeadlineMeta = sections[section_type]\n",
        "        body = section.body.untokenize_cc()[:1000]\n",
        "        headline = section.subdoc.untokenize_cc()[:500]\n",
        "        #     line = doc.structure.structure[i].to_string(doc.tokens_cc)\n",
        "        html += f'<li><h3> {headline} <sup>type: {section_type}</sup> </h3> <p>{body}</p> </li>'\n",
        "      html += \"</ul>\"\n",
        "\n",
        "      display(HTML(html))\n",
        "\n",
        "    def render_values(self, values):\n",
        "      if len(values) > 0:\n",
        "        for pv in values:\n",
        "          h = self.probable_value_to_html(pv)\n",
        "          display(HTML(h))\n",
        "      else:\n",
        "        display(HTML('сумма не найдена'))\n",
        "\n",
        "    \n",
        "\n",
        "    def render_value_section_details(self, value_section_info):\n",
        "      value_section = value_section_info.body\n",
        "      headline_doc = value_section_info.subdoc\n",
        "\n",
        "      headline = headline_doc.untokenize_cc()\n",
        "\n",
        "      v_names = {\n",
        "        'value_attention_vector',\n",
        "        'novalue_attention_vector',\n",
        "\n",
        "        'novalue_attention_vector_local_contrast',\n",
        "        'value_attention_vector_tuned'}\n",
        "\n",
        "      fig = plt.figure(figsize=(20, 6))\n",
        "      ax = plt.axes()\n",
        "      for vector_name in v_names:\n",
        "        ax.plot(value_section.distances_per_pattern_dict[vector_name], label=vector_name, alpha=0.4)\n",
        "        \n",
        "      ax.plot(value_section.distances_per_pattern_dict['value_attention_vector_tuned'], label=vector_name.upper(),\n",
        "              alpha=0.9, color='black')\n",
        "      plt.legend(loc='upper right')\n",
        "\n",
        "      text = self.to_color_text(value_section.tokens_cc,\n",
        "                                value_section.distances_per_pattern_dict['value_attention_vector_tuned'], _range=(0, 1))\n",
        "      html = f'{ as_headline_3(headline)} <div style=\"margin-left:4em; font-size=90%\">{text}</div>'\n",
        "      display(HTML(html))\n",
        "\n",
        "    def to_color_text(self, tokens, weights, colormap='coolwarm', print_debug=False, _range=None):\n",
        "      if len(tokens) == 0:\n",
        "        return \" - empty -\"\n",
        "      if len(weights) != len(tokens):\n",
        "        raise ValueError(\"number of weights differs weights={} tokens={}\".format(len(weights), len(tokens)))\n",
        "\n",
        "      #   if()\n",
        "      vmin = np.min(weights)\n",
        "      vmax = np.max(weights)\n",
        "\n",
        "      if _range is not None:\n",
        "        vmin = _range[0]\n",
        "        vmax = _range[1]\n",
        "\n",
        "      if print_debug:\n",
        "        print(vmin, vmax)\n",
        "\n",
        "      norm = mpl.colors.Normalize(vmin=vmin - 0.5, vmax=vmax)\n",
        "      html = \"\"\n",
        "      cmap = mpl.cm.get_cmap(colormap)\n",
        "\n",
        "      for d in range(0, len(weights)):\n",
        "        word = tokens[d]\n",
        "        if word == ' ':\n",
        "          word = '&nbsp;_ '\n",
        "\n",
        "        html += '<span title=\"{} {:.4f}\" style=\"background-color:{}\">{} </span>'.format(\n",
        "          d,\n",
        "          weights[d],\n",
        "          mpl.colors.to_hex(cmap(norm(weights[d]))),\n",
        "          word)\n",
        "\n",
        "        #     html+='<span style=\"background-color:' +mpl.colors.to_hex(cmap(norm(weights[d]) ))+ '\">' + str(tokens[d]) + \" </span>\"\n",
        "        if tokens[d] == '\\n':\n",
        "          html += \"<br>\"\n",
        "\n",
        "      return html\n",
        "\n",
        "    def render_charter_parsing_results(self, doc, org, rz, charity_constraints):\n",
        "\n",
        "      txt_html = self.to_color_text(org['tokens'], org['attention_vector'], _range=[0, 1])\n",
        "  \n",
        "      html = '<div style=\"background:#eeeeff; padding:0.5em\"> recognized NE(s): <br><br> org type:<h3 style=\"margin:0\">  {} </h3>org full name:<h2 style=\"margin:0\">  {} </h2> <br>quote: <div style=\"font-size:90%; background:white\">{}</div> </div>'.format(\n",
        "        org['type_name'], org['name'], txt_html)\n",
        "      # html+=txt_html\n",
        "      html += self.render_constraint_values(doc, rz, charity_constraints)\n",
        "  \n",
        "      display(HTML(html))\n",
        "\n",
        "    def _render_sentence(self, sentence):\n",
        "  \n",
        "      html = \"\"\n",
        "      constraints: List[ValueConstraint] = sentence['constraints']\n",
        "      html += \"<br>\"\n",
        "      for probable_v in constraints:\n",
        "        html += self.value_to_html(probable_v.value)\n",
        "  \n",
        "      if len(constraints) > 0:\n",
        "        html += '<div style=\"border-bottom:1px solid #ccc; margin-top:1em\"></div>'\n",
        "        section = sentence['subdoc']\n",
        "        #         html += \"TODO:\"#self.to_color_text(section.tokens, section.distances_per_pattern_dict['deal_value_attention_vector'])\n",
        "  \n",
        "        v = {\n",
        "          'deal_value_attention_vector': section.distances_per_pattern_dict['deal_value_attention_vector'],\n",
        "          'value_attention_vector': section.distances_per_pattern_dict['value_attention_vector'],\n",
        "          'd_order_consent': section.distances_per_pattern_dict['d_order_consent']\n",
        "        }\n",
        "        min_color = (0.3, 0.3, 0.33)\n",
        "        html += as_c_quote(to_multicolor_text(section.tokens_cc, v, v_color_map, min_color=min_color, _slice=None))\n",
        "  \n",
        "      return html\n",
        "\n",
        "    def render_constraint_values(self, doc, rz, charity_constraints):\n",
        "  \n",
        "      html = ''\n",
        "      for head_type in rz.keys():\n",
        "  \n",
        "        r_by_head_type = rz[head_type]\n",
        "  \n",
        "        html += '<hr style=\"margin-top: 45px\">'\n",
        "  \n",
        "        html += f'<h2 style=\"color:{head_types_colors[head_type]}; padding:0; margin:0\">{head_types_dict[head_type]}</h2>'\n",
        "  \n",
        "        sentences = r_by_head_type['sentences']\n",
        "        html += as_quote(r_by_head_type['caption'])\n",
        "  \n",
        "        charity_constraints_by_head = charity_constraints[head_type]\n",
        "        html_i = ''\n",
        "        html_i += self.html_charity_constraints_by_head(charity_constraints_by_head, doc, head_type)\n",
        "  \n",
        "        if True:\n",
        "          html_i += as_headline_3('решения о пороговых суммах:')\n",
        "  \n",
        "          if len(sentences) > 0:\n",
        "            for sentence in sentences:\n",
        "              html_i += self._render_sentence(sentence)\n",
        "  \n",
        "          else:\n",
        "            html_i += as_error_html('Пороговые суммы не найдены или не заданы')\n",
        "  \n",
        "        html += as_offset(html_i)\n",
        "  \n",
        "      return html\n",
        "\n",
        "    \n",
        "\n",
        "    ''' AZ:-Rendering CHARITY🔥-----💸------💸-------💸------------------------------'''\n",
        "\n",
        "     \n",
        "\n",
        "    def html_charity_constraints_by_head(self, charity_constraints_by_head, doc, head) -> str:\n",
        "      html = ''\n",
        "\n",
        "      html += as_headline_3('одобрение сделок Благотворительности:')\n",
        "      if len(charity_constraints_by_head) > 0:\n",
        "        for _slice, _confidence, _sum in charity_constraints_by_head:\n",
        "          html += '<BR>'\n",
        "          _slice_post = slice(_slice.stop, _slice.stop + 80)\n",
        "          _slice_pre = slice(_slice.start - 40, _slice.start)\n",
        "          subdoc = doc.sections[head].body\n",
        "\n",
        "          v = {\n",
        "            'at_x_charity_': subdoc.distances_per_pattern_dict['$at_x_charity_'],\n",
        "            'deal_value_attention_vector': subdoc.distances_per_pattern_dict['deal_value_attention_vector'],\n",
        "            'd_order_consent': subdoc.distances_per_pattern_dict['d_order_consent']\n",
        "          }\n",
        "\n",
        "          min_color = (0.3, 0.3, 0.33)\n",
        "          q_html = ''\n",
        "          #         q_html += _as_smaller(to_multicolor_text(subdoc.tokens_cc, v, v_color_map, min_color=min_color, _slice=_slice_pre))\n",
        "          q_html += to_multicolor_text(subdoc.tokens_cc, v, v_color_map, min_color=min_color, _slice=_slice)\n",
        "          #         q_html += _as_smaller(to_multicolor_text(subdoc.tokens_cc, v, v_color_map, min_color=min_color, _slice=_slice_post))\n",
        "          html += as_c_quote(q_html)\n",
        "      else:\n",
        "        html += as_msg('не выявлено')\n",
        "\n",
        "      return html\n",
        "       \n",
        "\n",
        "  GLOBALS__['renderer'] = DemoRenderer()\n",
        "\n",
        "  \n",
        "  # AZ:----------PROTOCOLS RENDERER-------------------------\n",
        "\n",
        "  from legal_docs import LegalDocument\n",
        "\n",
        "  import matplotlib as mpl\n",
        "  from IPython.core.display import display, HTML\n",
        "  from renderer import  as_headline_3\n",
        "  class ProtocolRenderer(DemoRenderer):\n",
        "\n",
        "    def winning_patterns_to_html(self, _tokens, ranges, winning_patterns, _range,\n",
        "                                 colormaps=['Reds', 'Purples', 'Blues', 'Greens', 'Greys']):\n",
        "      vmin = -ranges[1]\n",
        "      vmax = -ranges[0]\n",
        "\n",
        "      #     print(\"winning_patterns_to_html _range\", _range, \"min max=\", ranges)\n",
        "\n",
        "      norm = mpl.colors.Normalize(vmax=vmax, vmin=vmin)\n",
        "\n",
        "      cmaps = []\n",
        "\n",
        "      #     print (colormaps)\n",
        "      for n in colormaps:\n",
        "        cmap = mpl.cm.get_cmap(n)\n",
        "        cmaps.append(cmap)\n",
        "\n",
        "      html = \"\"\n",
        "\n",
        "      for d in _range:\n",
        "        winning_pattern_i = winning_patterns[d][0]\n",
        "        colormap = cmaps[winning_pattern_i % len(colormaps)]\n",
        "        normed = norm(-winning_patterns[d][1])\n",
        "        color = mpl.colors.to_hex(colormap(normed))\n",
        "        html += '<span title=\"' + '{} {:.2f}'.format(d, winning_patterns[d][\n",
        "          1]) + '\" style=\"background-color:' + color + '\">' + str(\n",
        "          _tokens[d]) + \" </span>\"\n",
        "        if _tokens[d] == '\\n':\n",
        "          html += \"<br>\"\n",
        "\n",
        "      return html\n",
        "\n",
        "    def _render_doc_subject_fragments(self, doc):\n",
        "      #     print(doc.per_subject_distances)\n",
        "\n",
        "      _html = \"\"\n",
        "      if doc.per_subject_distances is not None:\n",
        "\n",
        "        type = \"Договор  благотворительного пожертвования\"\n",
        "        if doc.per_subject_distances[0] > doc.per_subject_distances[1]:\n",
        "          type = \"Договор возмездного оказания услуг\"\n",
        "\n",
        "        _html += \"<h3>\" + type + \"</h3>\"\n",
        "\n",
        "        colormaps = ['PuRd'] * 5 + ['Blues'] * 7 + ['Greys']\n",
        "\n",
        "        _html += as_headline_4('Предмет договора')\n",
        "\n",
        "        for region in [doc.subj_range]:\n",
        "          _html += self.winning_patterns_to_html(_tokens=doc.tokens, ranges=doc.subj_ranges,\n",
        "                                                 winning_patterns=doc.winning_subj_patterns, _range=region,\n",
        "                                                 colormaps=colormaps)\n",
        "\n",
        "      return _html\n",
        "\n",
        "    def render_subject(self, counter):\n",
        "      html = as_headline_3('Предмет документа (X):') + self.subject_type_weights_to_html(counter)\n",
        "      display(HTML(html))\n",
        "\n",
        "    def print_results(self, _doc: LegalDocument, results=None):\n",
        "\n",
        "      if results is None:\n",
        "        results = _doc.found_sum\n",
        "\n",
        "      result, (start, end), sentence, meta = results\n",
        "\n",
        "      html = \"<hr>\"\n",
        "\n",
        "      html += self._render_doc_subject_fragments(_doc)\n",
        "\n",
        "      if result is None:\n",
        "        html += '<h2 style=\"color:red\">СУММА НЕ НАЙДЕНА</h2>'\n",
        "      else:\n",
        "        html += '<h2>' + str(result[0]) + ' ' + str(result[1]) + '</h2>'\n",
        "\n",
        "      for key in meta.keys():\n",
        "        html += '<div style=\"font-size:9px\">' + str(key) + \" = \" + str(meta[key]) + \"</div>\"\n",
        "\n",
        "      display(HTML(html))\n",
        "      self.render_color_text(_doc.tokens[start:end], _doc.sums[start:end])\n",
        "\n",
        "    def subject_type_weights_to_html(self, counter):\n",
        "      dict = {\n",
        "        't_dea': 'Сделка',\n",
        "        't_cha': 'Благотворительность',\n",
        "        't_org': 'Организационные решения'\n",
        "      }\n",
        "\n",
        "      maxkey = \"None\"\n",
        "      for key in dict:\n",
        "        if counter[key] > counter[maxkey]:\n",
        "          maxkey = key\n",
        "\n",
        "      html = \"\"\n",
        "      for key in dict:\n",
        "        templ = \"<div>{}: {}</div>\"\n",
        "        if key == maxkey:\n",
        "          templ = '<b style=\"font-size:135%; color:maroon\">{}: {}</b>'\n",
        "        html += templ.format(counter[key], dict[key])\n",
        "\n",
        "      return html\n",
        "\n",
        "  GLOBALS__['ProtocolRenderer'] = ProtocolRenderer()\n",
        "  \n",
        "  from demo_protocols import ProtocolAnlysingContext\n",
        "  GLOBALS__['ProtocolAnlysingContext'] = ProtocolAnlysingContext(GLOBALS__['elmo_embedder'],\n",
        "                                                                 GLOBALS__['ProtocolRenderer'])\n",
        "  GLOBALS__['_init_the_code'] = True\n",
        "    # AZ:-------------------------------------------------Init Protocols context===\n",
        "  \n",
        "\n",
        "  # AZ:-------------------------------------------------Init Charters context====\n",
        "\n",
        "  def read_doc(fn):\n",
        "    import docx2txt, sys, os\n",
        "    text = ''\n",
        "    try:\n",
        "      text = docx2txt.process(fn)\n",
        "    except:\n",
        "      print(\"Unexpected error:\", sys.exc_info())\n",
        "      os.system('antiword -w 0 \"' + fn + '\" > \"' + fn + '.txt\"')\n",
        "      with open(fn + '.txt') as f:\n",
        "        text = f.read()\n",
        "\n",
        "    return text\n",
        "\n",
        "  GLOBALS__['read_doc'] = read_doc\n",
        "\n",
        "  print(\"❤️ DONE initializing the code\")\n",
        "\n",
        "\n",
        "# AZ:-FINDING_VIOLATIONS--------------------------------------------------------\n",
        "def find_and_show_violations():\n",
        "  from IPython.core.display import display, HTML\n",
        "\n",
        "  from demo import ContractAnlysingContext\n",
        "  from renderer import as_headline_2, as_error_html\n",
        "\n",
        "  print('Поиск нарушений')\n",
        "\n",
        "  charterAnlysingContext: CharterAnlysingContext = GLOBALS__['CharterAnlysingContext']\n",
        "  contractAnlysingContext: ContractAnlysingContext = GLOBALS__['ContractAnlysingContext']\n",
        "\n",
        "  contract = contractAnlysingContext.contract\n",
        "  charter = charterAnlysingContext.doc\n",
        "  charter_constraints = charterAnlysingContext.constraints  # XXX: move to doc\n",
        "\n",
        "  renderer = GLOBALS__['renderer']\n",
        "  renderer.render_subj(contract)\n",
        "\n",
        "  import copy\n",
        "\n",
        "  def convert(v):\n",
        "    v_converted = copy.copy(v)\n",
        "    if v.currency in currency_converter:\n",
        "      v_converted.value = currency_converter[v.currency] * v.value\n",
        "      v_converted.currency = 'RUB'\n",
        "      return v_converted\n",
        "    else:\n",
        "      display(HTML(as_error_html(\n",
        "        f\"мы не в настроении (пока) конвертировать {v.currency} --> RUB. Это вообще валюта какой страны? Румынии?\")))\n",
        "      return v\n",
        "\n",
        "  best_value = contractAnlysingContext.find_contract_best_value(convert)\n",
        "\n",
        "  # rendering:----------------------------\n",
        "\n",
        "  def _render_violations(ranges_by_group, best_value):\n",
        "    for group_key in ranges_by_group:\n",
        "      group = ranges_by_group[group_key]\n",
        "      display(HTML(as_headline_2(group['name'])))\n",
        "\n",
        "      for rk in group['ranges']:\n",
        "        r = group['ranges'][rk]\n",
        "        display(HTML(r.check_contract_value(best_value, convert, renderer)))\n",
        "\n",
        "  print(\"Сумма Договора:\")\n",
        "  renderer.render_values([best_value])\n",
        "  renderer.render_color_text(best_value.value.context.tokens, best_value.value.context.attention, _range=[0, 1])\n",
        "\n",
        "  _render_violations(\n",
        "    charterAnlysingContext.find_ranges_by_group(charter_constraints, convert, verbose=False),\n",
        "    best_value)\n",
        "\n",
        "\n",
        "#   display(HTML(renderer.render_constraint_values(charter_constraints)))\n",
        "\n",
        "\n",
        "# AZ:--------------------------------------------------------FINDING_VIOLATIONS-\n",
        "\n",
        "# AZ:- ENDO OF THE THE CODE------------------------------------------------XXXXX\n",
        "# AZ:- ENDO OF THE THE CODE------------------------------------------------XXXXX\n",
        "# AZ:- ENDO OF THE THE CODE------------------------------------------------XXXXX\n",
        "# AZ:- ENDO OF THE THE CODE------------------------------------------------XXXX"
      ],
      "execution_count": 0,
      "outputs": []
    },
    {
      "metadata": {
        "id": "YhjI5YF61cpd",
        "colab_type": "text"
      },
      "cell_type": "markdown",
      "source": [
        "# step 0. Инит всега"
      ]
    },
    {
      "metadata": {
        "id": "6BnrLv2k1iVq",
        "colab_type": "code",
        "outputId": "b1ca02f4-6d2c-4a33-c539-d23fb7086291",
        "colab": {
          "base_uri": "https://localhost:8080/",
          "height": 1085
        }
      },
      "cell_type": "code",
      "source": [
        "## do preparation here\n",
        "\n",
        "# 1.\n",
        "_init_import_code_from_gh()\n",
        "# 2.\n",
        "_init_embedder()\n",
        "# 3.\n",
        "_init_the_code()\n",
        "4.\n",
        "_init_charters()\n",
        "# 5.\n",
        "_init_contracts()"
      ],
      "execution_count": 4,
      "outputs": [
        {
          "output_type": "stream",
          "text": [
            "fetching code from GitHub.....show-violations\n",
            "\n",
            "\n",
            "🦊 GIT revision:\n",
            "309\n",
            "* show-violations\n",
            "Created using Colaboratory\n",
            "Created using Colaboratory\n",
            "Merge pull request #15 from compartia/charters-smarter\n",
            "\n",
            "Charters smarter\n",
            "\n",
            "[nltk_data] Downloading package punkt to /root/nltk_data...\n",
            "[nltk_data]   Package punkt is already up-to-date!\n",
            "code imported OK 👍\n",
            "installing antiword...\n",
            "Reading package lists...\n",
            "Building dependency tree...\n",
            "Reading state information...\n",
            "antiword is already the newest version (0.37-11build1).\n",
            "The following package was automatically installed and is no longer required:\n",
            "  libnvidia-common-410\n",
            "Use 'sudo apt autoremove' to remove it.\n",
            "0 upgraded, 0 newly installed, 0 to remove and 6 not upgraded.\n",
            "\n",
            "installing docx2txt...\n",
            "Requirement already satisfied: docx2txt in /usr/local/lib/python3.6/dist-packages (0.7)\n",
            "\n",
            "❤️ DONE importing Code fro GitHub\n",
            "WARNING:tensorflow:From /usr/local/lib/python3.6/dist-packages/tensorflow/python/ops/control_flow_ops.py:3632: colocate_with (from tensorflow.python.framework.ops) is deprecated and will be removed in a future version.\n",
            "Instructions for updating:\n",
            "Colocations handled automatically by placer.\n"
          ],
          "name": "stdout"
        },
        {
          "output_type": "stream",
          "text": [
            "W0422 10:24:42.026571 139777148024704 deprecation.py:323] From /usr/local/lib/python3.6/dist-packages/tensorflow/python/ops/control_flow_ops.py:3632: colocate_with (from tensorflow.python.framework.ops) is deprecated and will be removed in a future version.\n",
            "Instructions for updating:\n",
            "Colocations handled automatically by placer.\n"
          ],
          "name": "stderr"
        },
        {
          "output_type": "stream",
          "text": [
            "❤️ ❤️ ❤️ DONE (re)importing Tensorflow hub.Module \n",
            "Tensorflow version is 1.13.1\n",
            "❤️ DONE creating words embedding model\n",
            "<nltk.tokenize.punkt.PunktSentenceTokenizer object at 0x7f1fe84b6fd0>\n",
            "❤️ DONE initializing the code\n",
            "👌 Embedder is already created! \n",
            "🐌 Embedding 579 words... it takes time (☕️?)..\n",
            "INFO:tensorflow:Saver not created because there are no variables in the graph to restore\n"
          ],
          "name": "stdout"
        },
        {
          "output_type": "stream",
          "text": [
            "I0422 10:24:46.052934 139777148024704 saver.py:1483] Saver not created because there are no variables in the graph to restore\n"
          ],
          "name": "stderr"
        },
        {
          "output_type": "stream",
          "text": [
            "Embedding complete 🐌 ; the shape is (62, 20, 1024)\n",
            "❤️ DONE initing Charters-related tools and models \n",
            "🐌 Embedding 176 words... it takes time (☕️?)..\n",
            "INFO:tensorflow:Saver not created because there are no variables in the graph to restore\n"
          ],
          "name": "stdout"
        },
        {
          "output_type": "stream",
          "text": [
            "I0422 10:24:52.146714 139777148024704 saver.py:1483] Saver not created because there are no variables in the graph to restore\n"
          ],
          "name": "stderr"
        },
        {
          "output_type": "stream",
          "text": [
            "Embedding complete 🐌 ; the shape is (12, 33, 1024)\n",
            "🐌 Embedding 221 words... it takes time (☕️?)..\n",
            "INFO:tensorflow:Saver not created because there are no variables in the graph to restore\n"
          ],
          "name": "stdout"
        },
        {
          "output_type": "stream",
          "text": [
            "I0422 10:24:54.899865 139777148024704 saver.py:1483] Saver not created because there are no variables in the graph to restore\n"
          ],
          "name": "stderr"
        },
        {
          "output_type": "stream",
          "text": [
            "Embedding complete 🐌 ; the shape is (30, 29, 1024)\n",
            "🐌 Embedding 86 words... it takes time (☕️?)..\n",
            "INFO:tensorflow:Saver not created because there are no variables in the graph to restore\n"
          ],
          "name": "stdout"
        },
        {
          "output_type": "stream",
          "text": [
            "I0422 10:24:58.661063 139777148024704 saver.py:1483] Saver not created because there are no variables in the graph to restore\n"
          ],
          "name": "stderr"
        },
        {
          "output_type": "stream",
          "text": [
            "Embedding complete 🐌 ; the shape is (15, 13, 1024)\n",
            "❤️ DONE initing Contracts-related tools and models \n"
          ],
          "name": "stdout"
        }
      ]
    },
    {
      "metadata": {
        "id": "zNNi8ZkbzLwx",
        "colab_type": "text"
      },
      "cell_type": "markdown",
      "source": [
        "# step 1. Устафф"
      ]
    },
    {
      "metadata": {
        "id": "z2rA1VotgOSo",
        "colab_type": "code",
        "colab": {
          "resources": {
            "http://localhost:8080/nbextensions/google.colab/files.js": {
              "data": "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",
              "ok": true,
              "headers": [
                [
                  "content-type",
                  "application/javascript"
                ]
              ],
              "status": 200,
              "status_text": ""
            }
          },
          "base_uri": "https://localhost:8080/",
          "height": 3860
        },
        "outputId": "57b45b0b-a2cb-46a2-8741-bb86aecadcac"
      },
      "cell_type": "code",
      "source": [
        "uploaded = interactive_upload('Устафф, он лёххх, но подумафф он осознал, что он не такой уж и Лёхх')\n",
        "\n",
        "_CTX = GLOBALS__['CharterAnlysingContext']\n",
        "_CTX.verbosity_level=2\n",
        "org, rz = _CTX.analyze_charter(uploaded[0], True)\n",
        "\n",
        "\n",
        "GLOBALS__['renderer'].render_charter_parsing_results(_CTX.doc, _CTX.org, _CTX.constraints, _CTX.charity_constraints)\n",
        "GLOBALS__['renderer'].render_contents(_CTX.doc)\n"
      ],
      "execution_count": 148,
      "outputs": [
        {
          "output_type": "stream",
          "text": [
            "Please select \"Устафф, он лёххх, но подумафф он осознал, что он не такой уж и Лёхх\" .docx file:\n"
          ],
          "name": "stdout"
        },
        {
          "output_type": "display_data",
          "data": {
            "text/html": [
              "\n",
              "     <input type=\"file\" id=\"files-e7717c78-b458-4da9-9d30-180844324dc4\" name=\"files[]\" multiple disabled />\n",
              "     <output id=\"result-e7717c78-b458-4da9-9d30-180844324dc4\">\n",
              "      Upload widget is only available when the cell has been executed in the\n",
              "      current browser session. Please rerun this cell to enable.\n",
              "      </output>\n",
              "      <script src=\"/nbextensions/google.colab/files.js\"></script> "
            ],
            "text/plain": [
              "<IPython.core.display.HTML object>"
            ]
          },
          "metadata": {
            "tags": []
          }
        },
        {
          "output_type": "stream",
          "text": [
            "Saving МНГ Устав.docx to МНГ Устав (5).docx\n",
            "User uploaded file \"МНГ Устав.docx\" with length 332083 bytes\n",
            "Символов в оригинальном документе: 71981\n",
            "WARNING: Document is too large for embedding: 10388 tokens. Splitting into 2 windows overlapping with 1200 tokens \n",
            "Embedding region: 0 7200\n",
            "🐌 Embedding 7200 words... it takes time (☕️?)..\n",
            "INFO:tensorflow:Saver not created because there are no variables in the graph to restore\n"
          ],
          "name": "stdout"
        },
        {
          "output_type": "stream",
          "text": [
            "I0422 12:32:46.840621 139777148024704 saver.py:1483] Saver not created because there are no variables in the graph to restore\n"
          ],
          "name": "stderr"
        },
        {
          "output_type": "stream",
          "text": [
            "Embedding complete 🐌 ; the shape is (1, 7200, 1024)\n",
            "Function _emb called 9 times. \n",
            "Execution time max: 21.3589, average: 8.8326\n",
            "Function _embedd_large called 1 times. \n",
            "Execution time max: 33.4513, average: 33.4513\n",
            "Function calculate_distances_per_pattern called 31 times. \n",
            "Execution time max: 3.7717, average: 0.5458\n",
            "Embedding region: 6000 4388\n",
            "🐌 Embedding 4388 words... it takes time (☕️?)..\n",
            "INFO:tensorflow:Saver not created because there are no variables in the graph to restore\n"
          ],
          "name": "stdout"
        },
        {
          "output_type": "stream",
          "text": [
            "I0422 12:33:07.599730 139777148024704 saver.py:1483] Saver not created because there are no variables in the graph to restore\n"
          ],
          "name": "stderr"
        },
        {
          "output_type": "stream",
          "text": [
            "Embedding complete 🐌 ; the shape is (1, 4388, 1024)\n",
            "Function _emb called 10 times. \n",
            "Execution time max: 21.3589, average: 9.3861\n",
            "Function _embedd_large called 1 times. \n",
            "Execution time max: 33.4513, average: 33.4513\n",
            "Function calculate_distances_per_pattern called 31 times. \n",
            "Execution time max: 3.7717, average: 0.5458\n",
            "Function _emb called 10 times. \n",
            "Execution time max: 21.3589, average: 9.3861\n",
            "Function _embedd_large called 2 times. \n",
            "Execution time max: 35.7443, average: 34.5978\n",
            "Function calculate_distances_per_pattern called 31 times. \n",
            "Execution time max: 3.7717, average: 0.5458\n",
            "----------------- LegalDocument charter.name.undef deleted. Ciao bella!\n",
            "❤️ ACCOMPLISHED: \t 0.\t extracting NERs (named entities)\n",
            "❤️ ACCOMPLISHED: \t 1.\t detecting sections: \"{'head.all': <legal_docs.HeadlineMeta object at 0x7f1e139d7cc0>, 'head.directors': <legal_docs.HeadlineMeta object at 0x7f1e139d7d30>, 'head.gen': <legal_docs.HeadlineMeta object at 0x7f1e139d7c50>}\" \n",
            "extract_constraint_values_from_section head.all\n",
            "extract_constraint_values_from_section embedding....\n",
            "❤️ ACCOMPLISHED: \t 2.\t Finding margin transaction values in section Статья 14. Компетенция Общего собрания акционеров Общества\n",
            "extract_constraint_values_from_section head.directors\n",
            "extract_constraint_values_from_section embedding....\n",
            "❤️ ACCOMPLISHED: \t 3.\t Finding margin transaction values in section Статья 19. Компетенция Совета директоров Общества\n",
            "extract_constraint_values_from_section head.gen\n",
            "extract_constraint_values_from_section embedding....\n",
            "❤️ ACCOMPLISHED: \t 4.\t Finding margin transaction values in section Статья 22. Генеральный директор Общества\n",
            "head.all\n",
            "head.directors\n",
            "nonzeros_count= 2\n",
            "confidence= 0.9726510673761368\n",
            "1213 1.9453021347522736\n",
            "head.gen\n"
          ],
          "name": "stdout"
        },
        {
          "output_type": "display_data",
          "data": {
            "text/html": [
              "<div style=\"background:#eeeeff; padding:0.5em\"> recognized NE(s): <br><br> org type:<h3 style=\"margin:0\">  Акционерное общество </h3>org full name:<h2 style=\"margin:0\">  « Мессояханефтегаз » </h2> <br>quote: <div style=\"font-size:90%; background:white\"><span title=\"0 0.1889\" style=\"background-color:#d2dbe8\">Статья </span><span title=\"1 0.1915\" style=\"background-color:#d3dbe7\">2 </span><span title=\"2 0.3608\" style=\"background-color:#edd1c2\">. </span><span title=\"3 0.3703\" style=\"background-color:#efcfbf\">Фирменное </span><span title=\"4 0.2848\" style=\"background-color:#e2dad5\">наименование </span><span title=\"5 0.2635\" style=\"background-color:#dfdbd9\">и </span><span title=\"6 0.2296\" style=\"background-color:#d9dce1\">место </span><span title=\"7 0.3297\" style=\"background-color:#ead5c9\">нахождения </span><span title=\"8 0.3758\" style=\"background-color:#efcebd\">Общества </span><span title=\"9 0.2285\" style=\"background-color:#d9dce1\">\n",
              " </span><br><span title=\"10 0.3660\" style=\"background-color:#eed0c0\">\n",
              " </span><br><span title=\"11 0.3870\" style=\"background-color:#f1cdba\">Фирменное </span><span title=\"12 0.4215\" style=\"background-color:#f3c7b1\">наименование </span><span title=\"13 0.3633\" style=\"background-color:#eed0c0\">Общества </span><span title=\"14 0.2082\" style=\"background-color:#d5dbe5\">на </span><span title=\"15 0.2012\" style=\"background-color:#d4dbe6\">русском </span><span title=\"16 0.2445\" style=\"background-color:#dcdddd\">языке </span><span title=\"17 0.2413\" style=\"background-color:#dbdcde\">: </span><span title=\"18 0.3102\" style=\"background-color:#e7d7ce\">\n",
              " </span><br><span title=\"19 0.3676\" style=\"background-color:#efcfbf\">полное </span><span title=\"20 0.3663\" style=\"background-color:#eed0c0\">фирменное </span><span title=\"21 0.3200\" style=\"background-color:#e8d6cc\">наименование </span><span title=\"22 0.6399\" style=\"background-color:#f39577\">– </span><span title=\"23 0.7919\" style=\"background-color:#e16751\">Акционерное </span><span title=\"24 0.5151\" style=\"background-color:#f7b497\">общество </span><span title=\"25 0.2742\" style=\"background-color:#e1dad6\">\n",
              " </span><br><span title=\"26 0.3005\" style=\"background-color:#e5d8d1\">« </span><span title=\"27 0.2589\" style=\"background-color:#dedcdb\">Мессояханефтегаз </span><span title=\"28 0.2361\" style=\"background-color:#dadce0\">» </span><span title=\"29 0.2695\" style=\"background-color:#e0dbd8\">; </span><span title=\"30 0.3152\" style=\"background-color:#e8d6cc\">\n",
              " </span><br><span title=\"31 0.3634\" style=\"background-color:#eed0c0\">сокращенное </span><span title=\"32 0.3744\" style=\"background-color:#efcebd\">фирменное </span><span title=\"33 0.3245\" style=\"background-color:#e9d5cb\">наименование </span><span title=\"34 0.6372\" style=\"background-color:#f39577\">– </span><span title=\"35 0.7969\" style=\"background-color:#e0654f\">Акционерное </span><span title=\"36 0.5529\" style=\"background-color:#f7ac8e\">Общество </span><span title=\"37 0.3195\" style=\"background-color:#e8d6cc\">« </span><span title=\"38 0.2632\" style=\"background-color:#dfdbd9\">Мессояханефтегаз </span><span title=\"39 0.2136\" style=\"background-color:#d6dce4\">» </span><span title=\"40 0.2504\" style=\"background-color:#dddcdc\">. </span><span title=\"41 0.3102\" style=\"background-color:#e7d7ce\">\n",
              " </span><br><span title=\"42 0.2604\" style=\"background-color:#dedcdb\">Место </span><span title=\"43 0.3167\" style=\"background-color:#e8d6cc\">нахождения </span><span title=\"44 0.3431\" style=\"background-color:#ebd3c6\">Общества </span><span title=\"45 0.2377\" style=\"background-color:#dadce0\">: </span><span title=\"46 0.2832\" style=\"background-color:#e2dad5\">Российская </span><span title=\"47 0.2708\" style=\"background-color:#e0dbd8\">Федерация </span><span title=\"48 0.2126\" style=\"background-color:#d6dce4\">, </span><span title=\"49 0.2495\" style=\"background-color:#dcdddd\">Тюменская </span><span title=\"50 0.2350\" style=\"background-color:#dadce0\">область </span><span title=\"51 0.2211\" style=\"background-color:#d8dce2\">, </span><span title=\"52 0.2353\" style=\"background-color:#dadce0\">Ямало-Ненецкий </span><span title=\"53 0.2264\" style=\"background-color:#d8dce2\">автономный </span><span title=\"54 0.1956\" style=\"background-color:#d3dbe7\">округ </span><span title=\"55 0.1874\" style=\"background-color:#d2dbe8\">, </span><span title=\"56 0.1782\" style=\"background-color:#cfdaea\">город </span><span title=\"57 0.1520\" style=\"background-color:#cbd8ee\">Новый </span><span title=\"58 0.1648\" style=\"background-color:#cdd9ec\">Уренгой </span><span title=\"59 0.1992\" style=\"background-color:#d4dbe6\">. </span><span title=\"60 0.1890\" style=\"background-color:#d2dbe8\">\n",
              " </span><br><span title=\"61 0.1772\" style=\"background-color:#cfdaea\">\n",
              " </span><br></div> </div><hr style=\"margin-top: 45px\"><h2 style=\"color:orange; padding:0; margin:0\">Общее собрание участников/акционеров</h2><i style=\"margin-top:0.2em; margin-left:2em; font-size:90%\">Статья 14. Компетенция Общего собрания акционеров Общества</i><div style=\"margin-left:2em\"><h3 style=\"margin:0\">одобрение сделок Благотворительности:</h3><div>не выявлено</div><h3 style=\"margin:0\">решения о пороговых суммах:</h3><br><b style=\"color:#993300\"> &gt;  RUB       100,000,000.00</b> <b style=\"color:#993300\"> &gt;  RUB       100,000,000.00</b> <div style=\"border-bottom:1px solid #ccc; margin-top:1em\"></div><div style=\"margin-top:0.2em; margin-left:2em; font-size:14px\">\"...<span style=\"background:rgb(76,117,207)\"> принятие </span><span style=\"background:rgb(76,113,196)\"> решений </span><span style=\"background:rgb(76,110,185)\"> о </span><span style=\"background:rgb(76,123,224)\"> совершении </span><span style=\"background:rgb(76,117,208)\"> сделок </span><span style=\"background:rgb(76,103,163)\"> ( </span><span style=\"background:rgb(76,98,149)\"> в </span><span style=\"background:rgb(76,95,141)\"> том </span><span style=\"background:rgb(76,104,167)\"> числе </span><span style=\"background:rgb(76,110,186)\"> нескольких </span><span style=\"background:rgb(76,116,203)\"> взаимосвязанных </span><span style=\"background:rgb(76,115,199)\"> сделок </span><span style=\"background:rgb(76,100,156)\"> ) </span><span style=\"background:rgb(76,97,145)\"> на </span><span style=\"background:rgb(76,93,134)\"> сумму </span><span style=\"background:rgb(255,255,255)\"> , </span><span style=\"background:rgb(255,255,255)\"> превышающую </span><span style=\"background:rgb(255,255,255)\"> 100 </span><span style=\"background:rgb(255,255,255)\"> 000000 </span><span style=\"background:rgb(255,255,255)\"> ( </span><span style=\"background:rgb(201,246,255)\"> сто </span><span style=\"background:rgb(163,132,120)\"> миллионов </span><span style=\"background:rgb(137,124,135)\"> ) </span><span style=\"background:rgb(119,116,140)\"> рублей </span><span style=\"background:rgb(106,105,127)\"> ( </span><span style=\"background:rgb(97,99,122)\"> или </span><span style=\"background:rgb(91,99,132)\"> эквивалент </span><span style=\"background:rgb(86,102,148)\"> указанной </span><span style=\"background:rgb(83,101,148)\"> суммы </span><span style=\"background:rgb(81,94,130)\"> в </span><span style=\"background:rgb(80,89,118)\"> любой </span><span style=\"background:rgb(78,91,124)\"> другой </span><span style=\"background:rgb(78,98,147)\"> валюте </span><span style=\"background:rgb(77,102,160)\"> ) </span><span style=\"background:rgb(77,101,158)\"> , </span><span style=\"background:rgb(77,115,201)\"> и </span><span style=\"background:rgb(76,116,202)\"> сделок </span><span style=\"background:rgb(76,103,164)\"> ( </span><span style=\"background:rgb(76,97,148)\"> в </span><span style=\"background:rgb(76,95,140)\"> том </span><span style=\"background:rgb(76,103,164)\"> числе </span><span style=\"background:rgb(76,109,182)\"> нескольких </span><span style=\"background:rgb(76,115,200)\"> взаимосвязанных </span><span style=\"background:rgb(76,113,195)\"> сделок </span><span style=\"background:rgb(76,100,155)\"> ) </span><span style=\"background:rgb(76,100,155)\"> с </span><span style=\"background:rgb(76,102,163)\"> имуществом </span><span style=\"background:rgb(76,101,160)\"> Общества </span><span style=\"background:rgb(76,100,154)\"> , </span><span style=\"background:rgb(76,103,163)\"> стоимость </span><span style=\"background:rgb(76,99,151)\"> которого </span><span style=\"background:rgb(76,95,140)\"> на </span><span style=\"background:rgb(76,99,154)\"> основании </span><span style=\"background:rgb(76,97,146)\"> данных </span><span style=\"background:rgb(76,97,148)\"> бухгалтерской </span><span style=\"background:rgb(76,104,168)\"> отчетности </span><span style=\"background:rgb(76,98,150)\"> Общества </span><span style=\"background:rgb(76,90,124)\"> за </span><span style=\"background:rgb(76,88,119)\"> последний </span><span style=\"background:rgb(76,93,134)\"> отчетный </span><span style=\"background:rgb(76,98,149)\"> период </span><span style=\"background:rgb(76,96,145)\"> , </span><span style=\"background:rgb(76,95,141)\"> предшествующий </span><span style=\"background:rgb(76,106,175)\"> дню </span><span style=\"background:rgb(76,115,200)\"> принятия </span><span style=\"background:rgb(76,108,179)\"> решения </span><span style=\"background:rgb(76,106,174)\"> о </span><span style=\"background:rgb(76,110,186)\"> совершении </span><span style=\"background:rgb(76,117,207)\"> таких </span><span style=\"background:rgb(76,114,199)\"> сделок </span><span style=\"background:rgb(255,255,255)\"> , </span><span style=\"background:rgb(255,255,255)\"> превышает </span><span style=\"background:rgb(255,255,255)\"> 100 </span><span style=\"background:rgb(255,255,255)\"> 000000 </span><span style=\"background:rgb(255,255,255)\"> ( </span><span style=\"background:rgb(201,251,255)\"> сто </span><span style=\"background:rgb(163,132,120)\"> миллионов </span><span style=\"background:rgb(137,122,131)\"> ) </span><span style=\"background:rgb(119,115,136)\"> рублей </span><span style=\"background:rgb(106,105,127)\"> ( </span><span style=\"background:rgb(97,99,121)\"> или </span><span style=\"background:rgb(91,98,128)\"> эквивалент </span><span style=\"background:rgb(86,101,144)\"> указанной </span><span style=\"background:rgb(83,100,144)\"> суммы </span><span style=\"background:rgb(81,92,125)\"> в </span><span style=\"background:rgb(80,88,114)\"> любой </span><span style=\"background:rgb(78,90,122)\"> другой </span><span style=\"background:rgb(78,97,143)\"> валюте </span><span style=\"background:rgb(77,100,154)\"> ) </span><span style=\"background:rgb(77,100,155)\"> , </span><span style=\"background:rgb(77,101,158)\"> за </span><span style=\"background:rgb(76,116,203)\"> исключением </span><span style=\"background:rgb(76,115,202)\"> сделок </span><span style=\"background:rgb(76,106,173)\"> , </span><span style=\"background:rgb(76,104,168)\"> совершаемых </span><span style=\"background:rgb(76,98,151)\"> в </span><span style=\"background:rgb(76,100,154)\"> процессе </span><span style=\"background:rgb(76,97,146)\"> обычной </span><span style=\"background:rgb(76,103,163)\"> хозяйственной </span><span style=\"background:rgb(76,108,179)\"> деятельности </span><span style=\"background:rgb(76,104,169)\"> Общества </span><span style=\"background:rgb(76,100,157)\"> , </span><span style=\"background:rgb(76,99,153)\"> а </span><span style=\"background:rgb(76,100,154)\"> также </span><span style=\"background:rgb(76,101,159)\"> за </span><span style=\"background:rgb(76,115,199)\"> исключением </span><span style=\"background:rgb(76,114,197)\"> сделок </span><span style=\"background:rgb(76,98,150)\"> с </span><span style=\"background:rgb(76,97,146)\"> ПАО </span><span style=\"background:rgb(76,95,142)\"> « </span><span style=\"background:rgb(76,93,136)\"> Газпром </span><span style=\"background:rgb(76,94,137)\"> нефть </span><span style=\"background:rgb(76,95,141)\"> » </span><span style=\"background:rgb(76,99,153)\"> и </span><span style=\"background:rgb(76,100,157)\"> обществами </span><span style=\"background:rgb(76,98,150)\"> , </span><span style=\"background:rgb(76,94,138)\"> входящими </span><span style=\"background:rgb(76,93,136)\"> в </span><span style=\"background:rgb(76,101,158)\"> группу </span><span style=\"background:rgb(76,101,158)\"> лиц </span><span style=\"background:rgb(76,98,151)\"> с </span><span style=\"background:rgb(76,103,164)\"> ним </span><span style=\"background:rgb(76,104,168)\"> , </span><span style=\"background:rgb(76,100,155)\"> когда </span><span style=\"background:rgb(76,104,167)\"> такая </span><span style=\"background:rgb(76,103,165)\"> сделка </span><span style=\"background:rgb(76,98,149)\"> или </span><span style=\"background:rgb(76,106,174)\"> несколько </span><span style=\"background:rgb(76,118,208)\"> взаимосвязанных </span><span style=\"background:rgb(76,115,200)\"> сделок </span><span style=\"background:rgb(76,101,160)\"> является </span><span style=\"background:rgb(76,97,147)\"> ( </span><span style=\"background:rgb(76,95,142)\"> -ются </span><span style=\"background:rgb(76,105,172)\"> ) </span><span style=\"background:rgb(76,108,178)\"> сделкой </span><span style=\"background:rgb(76,100,155)\"> , </span><span style=\"background:rgb(76,104,166)\"> в </span><span style=\"background:rgb(76,105,170)\"> совершении </span><span style=\"background:rgb(76,97,147)\"> которой </span><span style=\"background:rgb(76,95,142)\"> имеется </span><span style=\"background:rgb(76,99,152)\"> заинтересованность </span><span style=\"background:rgb(76,97,148)\"> ) </span><span style=\"background:rgb(76,97,145)\"> ; </span><br><span style=\"background:rgb(76,105,170)\"> \n",
              " </span> ...\"</div></div><hr style=\"margin-top: 45px\"><h2 style=\"color:crimson; padding:0; margin:0\">Совет директоров</h2><i style=\"margin-top:0.2em; margin-left:2em; font-size:90%\">Статья 19. Компетенция Совета директоров Общества</i><div style=\"margin-left:2em\"><h3 style=\"margin:0\">одобрение сделок Благотворительности:</h3><BR><div style=\"margin-top:0.2em; margin-left:2em; font-size:14px\">\"...<span style=\"background:rgb(76,132,250)\"> одобрение </span><span style=\"background:rgb(76,122,222)\"> сделок </span><span style=\"background:rgb(76,108,179)\"> о </span><span style=\"background:rgb(76,109,184)\"> передаче </span><span style=\"background:rgb(76,106,174)\"> имущества </span><span style=\"background:rgb(76,101,160)\"> Общества </span><span style=\"background:rgb(76,96,143)\"> в </span><span style=\"background:rgb(76,100,155)\"> безвозмездное </span><span style=\"background:rgb(76,102,161)\"> пользование </span><span style=\"background:rgb(76,97,146)\"> или </span><span style=\"background:rgb(76,99,153)\"> доверительное </span><span style=\"background:rgb(76,104,167)\"> управление </span><span style=\"background:rgb(76,117,206)\"> , </span><span style=\"background:rgb(76,120,217)\"> сделок </span><span style=\"background:rgb(76,255,186)\"> дарения </span><span style=\"background:rgb(76,110,185)\"> , </span><span style=\"background:rgb(76,255,189)\"> пожертвований </span><span style=\"background:rgb(76,117,206)\"> , </span><span style=\"background:rgb(76,115,202)\"> сделок </span><span style=\"background:rgb(76,104,167)\"> , </span><span style=\"background:rgb(76,103,163)\"> связанных </span><span style=\"background:rgb(76,101,159)\"> с </span><span style=\"background:rgb(76,102,161)\"> благотворительностью </span><span style=\"background:rgb(76,96,144)\"> ; </span> ...\"</div><h3 style=\"margin:0\">решения о пороговых суммах:</h3><br><b style=\"color:#993300\"> &gt;  RUB    15,000,000,000.00</b> <div style=\"border-bottom:1px solid #ccc; margin-top:1em\"></div><div style=\"margin-top:0.2em; margin-left:2em; font-size:14px\">\"...<span style=\"background:rgb(76,106,174)\"> рассмотрение </span><span style=\"background:rgb(76,106,175)\"> и </span><span style=\"background:rgb(76,111,188)\"> утверждение </span><span style=\"background:rgb(76,104,167)\"> крупных </span><span style=\"background:rgb(76,109,181)\"> инвестиционных </span><span style=\"background:rgb(76,112,191)\"> проектов </span><span style=\"background:rgb(76,106,174)\"> Общества </span><span style=\"background:rgb(76,101,159)\"> , </span><span style=\"background:rgb(76,97,146)\"> если </span><span style=\"background:rgb(76,94,138)\"> в </span><span style=\"background:rgb(76,94,137)\"> совокупности </span><span style=\"background:rgb(76,96,144)\"> такой </span><span style=\"background:rgb(76,97,146)\"> проект </span><span style=\"background:rgb(76,89,122)\"> соответствует </span><span style=\"background:rgb(76,83,105)\"> следующим </span><span style=\"background:rgb(76,85,111)\"> основным </span><span style=\"background:rgb(76,91,128)\"> характеристикам </span><span style=\"background:rgb(76,91,130)\"> : </span><span style=\"background:rgb(255,217,126)\"> 1 </span><span style=\"background:rgb(255,182,134)\"> ) </span><span style=\"background:rgb(201,164,161)\"> объем </span><span style=\"background:rgb(163,143,153)\"> инвестиций </span><span style=\"background:rgb(137,122,130)\"> по </span><span style=\"background:rgb(119,114,133)\"> проекту </span><span style=\"background:rgb(106,106,129)\"> в </span><span style=\"background:rgb(97,100,124)\"> целом </span><span style=\"background:rgb(91,96,121)\"> превышает </span><span style=\"background:rgb(255,255,255)\"> 15000000000 </span><span style=\"background:rgb(255,255,255)\"> ( </span><span style=\"background:rgb(255,255,255)\"> пятнадцать </span><span style=\"background:rgb(255,178,121)\"> миллиардов </span><span style=\"background:rgb(201,153,128)\"> ) </span><span style=\"background:rgb(163,138,139)\"> рублей </span><span style=\"background:rgb(137,123,132)\"> ; </span><span style=\"background:rgb(119,113,129)\"> 2 </span><span style=\"background:rgb(106,104,122)\"> ) </span><span style=\"background:rgb(97,99,122)\"> высокий </span><span style=\"background:rgb(91,104,147)\"> уровень </span><span style=\"background:rgb(86,113,178)\"> сложности </span><span style=\"background:rgb(83,109,170)\"> реализации </span><span style=\"background:rgb(81,96,135)\"> , </span><span style=\"background:rgb(80,95,137)\"> критерием </span><span style=\"background:rgb(78,99,148)\"> для </span><span style=\"background:rgb(78,94,136)\"> этого </span><span style=\"background:rgb(77,87,115)\"> может </span><span style=\"background:rgb(77,87,115)\"> быть </span><span style=\"background:rgb(77,93,133)\"> высокая </span><span style=\"background:rgb(76,99,151)\"> неопределенность </span><span style=\"background:rgb(76,105,170)\"> в </span><span style=\"background:rgb(76,110,187)\"> реализации </span><span style=\"background:rgb(76,102,160)\"> проекта </span><span style=\"background:rgb(76,91,128)\"> , </span><span style=\"background:rgb(76,89,122)\"> т. </span><span style=\"background:rgb(76,90,127)\"> е. </span><span style=\"background:rgb(76,96,144)\"> совокупность </span><span style=\"background:rgb(76,98,151)\"> факторов </span><span style=\"background:rgb(76,100,154)\"> , </span><span style=\"background:rgb(76,99,151)\"> связанных </span><span style=\"background:rgb(76,96,142)\"> со </span><span style=\"background:rgb(76,106,173)\"> сложностью </span><span style=\"background:rgb(76,109,182)\"> исполнения </span><span style=\"background:rgb(76,102,161)\"> проекта </span><span style=\"background:rgb(76,94,136)\"> , </span><span style=\"background:rgb(76,94,138)\"> технологическими </span><span style=\"background:rgb(76,98,150)\"> рисками </span><span style=\"background:rgb(76,99,151)\"> , </span><span style=\"background:rgb(76,101,159)\"> наличием </span><span style=\"background:rgb(76,104,167)\"> потенциальных </span><span style=\"background:rgb(76,101,158)\"> угроз </span><span style=\"background:rgb(76,95,141)\"> в </span><span style=\"background:rgb(76,94,138)\"> области </span><span style=\"background:rgb(76,94,137)\"> промышленной </span><span style=\"background:rgb(76,97,147)\"> безопасности </span><span style=\"background:rgb(76,100,156)\"> , </span><span style=\"background:rgb(76,100,157)\"> охраны </span><span style=\"background:rgb(76,96,144)\"> труда </span><span style=\"background:rgb(76,90,126)\"> и </span><span style=\"background:rgb(76,91,130)\"> окружающей </span><span style=\"background:rgb(76,97,145)\"> среды </span><span style=\"background:rgb(76,94,139)\"> , </span><span style=\"background:rgb(76,96,143)\"> низкой </span><span style=\"background:rgb(76,100,157)\"> изученностью </span><span style=\"background:rgb(76,99,153)\"> запасов </span><span style=\"background:rgb(76,96,143)\"> или </span><span style=\"background:rgb(76,97,147)\"> особенностью </span><span style=\"background:rgb(76,95,141)\"> строения </span><span style=\"background:rgb(76,95,140)\"> пласта </span><span style=\"background:rgb(76,94,138)\"> ; </span><br><span style=\"background:rgb(76,100,155)\"> \n",
              " </span> ...\"</div><br><b style=\"color:#993300\"> &gt;  RUB        50,000,000.00</b> <b style=\"color:#009933\"> &lt;  RUB       100,000,000.00</b> <b style=\"color:#993300\"> &gt;  RUB        50,000,000.00</b> <b style=\"color:#009933\"> &lt;  RUB       100,000,000.00</b> <div style=\"border-bottom:1px solid #ccc; margin-top:1em\"></div><div style=\"margin-top:0.2em; margin-left:2em; font-size:14px\">\"...<span style=\"background:rgb(76,125,231)\"> одобрение </span><span style=\"background:rgb(76,112,192)\"> сделки </span><span style=\"background:rgb(76,104,167)\"> или </span><span style=\"background:rgb(76,110,186)\"> нескольких </span><span style=\"background:rgb(76,120,217)\"> взаимосвязанных </span><span style=\"background:rgb(76,118,209)\"> сделок </span><span style=\"background:rgb(76,102,161)\"> ( </span><span style=\"background:rgb(76,103,164)\"> за </span><span style=\"background:rgb(76,115,199)\"> исключением </span><span style=\"background:rgb(76,114,197)\"> сделок </span><span style=\"background:rgb(76,102,162)\"> , </span><span style=\"background:rgb(76,100,155)\"> указанных </span><span style=\"background:rgb(76,95,140)\"> в </span><span style=\"background:rgb(76,94,137)\"> пунктах </span><span style=\"background:rgb(76,89,123)\"> 11 </span><span style=\"background:rgb(76,89,122)\"> , </span><span style=\"background:rgb(76,92,132)\"> 37 </span><span style=\"background:rgb(76,93,135)\"> – </span><span style=\"background:rgb(76,90,126)\"> 40 </span><span style=\"background:rgb(76,89,123)\"> и </span><span style=\"background:rgb(76,91,129)\"> 45 </span><span style=\"background:rgb(76,92,130)\"> статьи </span><span style=\"background:rgb(76,91,129)\"> 19.1 </span><span style=\"background:rgb(76,89,122)\"> и </span><span style=\"background:rgb(76,89,122)\"> в </span><span style=\"background:rgb(76,90,126)\"> пункте </span><span style=\"background:rgb(76,91,128)\"> 18 </span><span style=\"background:rgb(76,89,124)\"> статьи </span><span style=\"background:rgb(76,91,130)\"> 14.1 </span><span style=\"background:rgb(76,94,139)\"> настоящего </span><span style=\"background:rgb(76,98,150)\"> Устава </span><span style=\"background:rgb(76,98,150)\"> ) </span><span style=\"background:rgb(76,96,143)\"> , </span><span style=\"background:rgb(76,93,135)\"> на </span><span style=\"background:rgb(255,255,255)\"> сумму </span><span style=\"background:rgb(255,255,255)\"> свыше </span><span style=\"background:rgb(255,255,255)\"> 50 </span><span style=\"background:rgb(255,255,255)\"> 000000 </span><span style=\"background:rgb(255,255,255)\"> ( </span><span style=\"background:rgb(201,148,112)\"> пятидесяти </span><span style=\"background:rgb(163,131,117)\"> миллионов </span><span style=\"background:rgb(137,122,129)\"> ) </span><span style=\"background:rgb(119,113,132)\"> рублей </span><span style=\"background:rgb(106,104,124)\"> ( </span><span style=\"background:rgb(97,99,121)\"> или </span><span style=\"background:rgb(91,98,128)\"> эквивалент </span><span style=\"background:rgb(86,101,143)\"> указанной </span><span style=\"background:rgb(83,99,142)\"> суммы </span><span style=\"background:rgb(81,93,126)\"> в </span><span style=\"background:rgb(80,89,116)\"> любой </span><span style=\"background:rgb(78,89,120)\"> другой </span><span style=\"background:rgb(78,93,132)\"> валюте </span><span style=\"background:rgb(77,95,138)\"> ) </span><span style=\"background:rgb(77,96,141)\"> , </span><span style=\"background:rgb(255,255,255)\"> но </span><span style=\"background:rgb(255,255,255)\"> не </span><span style=\"background:rgb(255,255,255)\"> превышающую </span><span style=\"background:rgb(255,255,255)\"> 100 </span><span style=\"background:rgb(255,255,255)\"> 000 </span><span style=\"background:rgb(223,158,109)\"> 000 </span><span style=\"background:rgb(179,135,106)\"> ( </span><span style=\"background:rgb(148,119,105)\"> сто </span><span style=\"background:rgb(127,111,112)\"> миллионов </span><span style=\"background:rgb(111,108,125)\"> ) </span><span style=\"background:rgb(101,105,133)\"> рублей </span><span style=\"background:rgb(93,99,126)\"> ( </span><span style=\"background:rgb(88,94,121)\"> или </span><span style=\"background:rgb(84,96,130)\"> эквивалент </span><span style=\"background:rgb(82,99,145)\"> указанной </span><span style=\"background:rgb(80,99,146)\"> суммы </span><span style=\"background:rgb(79,93,130)\"> в </span><span style=\"background:rgb(78,89,119)\"> любой </span><span style=\"background:rgb(77,90,123)\"> другой </span><span style=\"background:rgb(77,96,143)\"> валюте </span><span style=\"background:rgb(77,101,156)\"> ) </span><span style=\"background:rgb(76,100,155)\"> , </span><span style=\"background:rgb(76,115,199)\"> и </span><span style=\"background:rgb(76,116,202)\"> сделок </span><span style=\"background:rgb(76,103,164)\"> ( </span><span style=\"background:rgb(76,98,148)\"> в </span><span style=\"background:rgb(76,95,140)\"> том </span><span style=\"background:rgb(76,103,164)\"> числе </span><span style=\"background:rgb(76,109,182)\"> нескольких </span><span style=\"background:rgb(76,115,200)\"> взаимосвязанных </span><span style=\"background:rgb(76,112,193)\"> сделок </span><span style=\"background:rgb(76,98,150)\"> ) </span><span style=\"background:rgb(76,98,151)\"> с </span><span style=\"background:rgb(76,101,159)\"> имуществом </span><span style=\"background:rgb(76,100,154)\"> Общества </span><span style=\"background:rgb(76,98,149)\"> , </span><span style=\"background:rgb(76,101,158)\"> стоимость </span><span style=\"background:rgb(76,97,146)\"> которого </span><span style=\"background:rgb(76,93,135)\"> на </span><span style=\"background:rgb(76,98,149)\"> основании </span><span style=\"background:rgb(76,96,144)\"> данных </span><span style=\"background:rgb(76,97,146)\"> бухгалтерской </span><span style=\"background:rgb(76,103,165)\"> отчетности </span><span style=\"background:rgb(76,97,146)\"> Общества </span><span style=\"background:rgb(76,88,121)\"> за </span><span style=\"background:rgb(76,87,116)\"> последний </span><span style=\"background:rgb(76,92,132)\"> отчетный </span><span style=\"background:rgb(76,96,145)\"> период </span><span style=\"background:rgb(76,95,141)\"> , </span><span style=\"background:rgb(76,94,138)\"> предшествующий </span><span style=\"background:rgb(76,105,170)\"> дню </span><span style=\"background:rgb(76,113,195)\"> принятия </span><span style=\"background:rgb(76,106,175)\"> решения </span><span style=\"background:rgb(76,105,170)\"> о </span><span style=\"background:rgb(76,109,183)\"> совершении </span><span style=\"background:rgb(76,116,202)\"> таких </span><span style=\"background:rgb(76,112,191)\"> сделок </span><span style=\"background:rgb(255,255,255)\"> , </span><span style=\"background:rgb(255,255,255)\"> превышает </span><span style=\"background:rgb(255,255,255)\"> 50 </span><span style=\"background:rgb(255,255,255)\"> 000 </span><span style=\"background:rgb(255,255,255)\"> 000 </span><span style=\"background:rgb(201,249,255)\"> ( </span><span style=\"background:rgb(163,127,104)\"> пятьдесят </span><span style=\"background:rgb(137,116,111)\"> миллионов </span><span style=\"background:rgb(119,110,121)\"> ) </span><span style=\"background:rgb(106,105,127)\"> рублей </span><span style=\"background:rgb(97,99,121)\"> ( </span><span style=\"background:rgb(91,94,116)\"> или </span><span style=\"background:rgb(86,94,123)\"> эквивалент </span><span style=\"background:rgb(83,98,138)\"> указанной </span><span style=\"background:rgb(81,96,136)\"> суммы </span><span style=\"background:rgb(80,90,121)\"> в </span><span style=\"background:rgb(78,87,113)\"> любой </span><span style=\"background:rgb(78,89,119)\"> другой </span><span style=\"background:rgb(77,93,132)\"> валюте </span><span style=\"background:rgb(77,94,137)\"> ) </span><span style=\"background:rgb(255,255,255)\"> , </span><span style=\"background:rgb(255,255,255)\"> но </span><span style=\"background:rgb(255,255,255)\"> не </span><span style=\"background:rgb(255,255,255)\"> превышает </span><span style=\"background:rgb(255,255,255)\"> 100 </span><span style=\"background:rgb(255,255,255)\"> 000 </span><span style=\"background:rgb(223,255,255)\"> 000 </span><span style=\"background:rgb(179,136,109)\"> ( </span><span style=\"background:rgb(148,120,107)\"> сто </span><span style=\"background:rgb(126,111,114)\"> миллионов </span><span style=\"background:rgb(111,107,124)\"> ) </span><span style=\"background:rgb(101,104,131)\"> рублей </span><span style=\"background:rgb(93,98,125)\"> ( </span><span style=\"background:rgb(88,94,119)\"> или </span><span style=\"background:rgb(84,94,126)\"> эквивалент </span><span style=\"background:rgb(82,98,141)\"> указанной </span><span style=\"background:rgb(80,97,141)\"> суммы </span><span style=\"background:rgb(79,91,124)\"> в </span><span style=\"background:rgb(78,87,114)\"> любой </span><span style=\"background:rgb(77,89,120)\"> другой </span><span style=\"background:rgb(77,95,139)\"> валюте </span><span style=\"background:rgb(77,98,149)\"> ) </span><span style=\"background:rgb(76,99,151)\"> , </span><span style=\"background:rgb(76,100,154)\"> за </span><span style=\"background:rgb(76,115,199)\"> исключением </span><span style=\"background:rgb(76,115,201)\"> сделок </span><span style=\"background:rgb(76,107,176)\"> , </span><span style=\"background:rgb(76,108,179)\"> совершаемых </span><span style=\"background:rgb(76,99,152)\"> в </span><span style=\"background:rgb(76,99,154)\"> процессе </span><span style=\"background:rgb(76,97,146)\"> обычной </span><span style=\"background:rgb(76,103,163)\"> хозяйственной </span><span style=\"background:rgb(76,107,178)\"> деятельности </span><span style=\"background:rgb(76,105,170)\"> Общества </span><span style=\"background:rgb(76,119,213)\"> , </span><span style=\"background:rgb(76,117,207)\"> сделок </span><span style=\"background:rgb(76,98,151)\"> с </span><span style=\"background:rgb(76,97,145)\"> ПАО </span><span style=\"background:rgb(76,95,141)\"> « </span><span style=\"background:rgb(76,93,134)\"> Газпром </span><span style=\"background:rgb(76,92,133)\"> нефть </span><span style=\"background:rgb(76,94,137)\"> » </span><span style=\"background:rgb(76,99,152)\"> и </span><span style=\"background:rgb(76,101,158)\"> обществами </span><span style=\"background:rgb(76,98,150)\"> , </span><span style=\"background:rgb(76,94,137)\"> входящими </span><span style=\"background:rgb(76,94,137)\"> в </span><span style=\"background:rgb(76,102,161)\"> группу </span><span style=\"background:rgb(76,100,156)\"> лиц </span><span style=\"background:rgb(76,97,148)\"> с </span><span style=\"background:rgb(76,104,167)\"> ним </span><span style=\"background:rgb(76,103,165)\"> , </span><span style=\"background:rgb(76,99,154)\"> а </span><span style=\"background:rgb(76,100,155)\"> также </span><span style=\"background:rgb(76,100,156)\"> за </span><span style=\"background:rgb(76,104,167)\"> исключением </span><span style=\"background:rgb(76,107,176)\"> случаев </span><span style=\"background:rgb(76,103,165)\"> , </span><span style=\"background:rgb(76,114,198)\"> когда </span><span style=\"background:rgb(76,119,213)\"> одобрение </span><span style=\"background:rgb(76,121,220)\"> указанных </span><span style=\"background:rgb(76,116,205)\"> сделок </span><span style=\"background:rgb(76,97,147)\"> относится </span><span style=\"background:rgb(76,98,150)\"> к </span><span style=\"background:rgb(76,99,153)\"> компетенции </span><span style=\"background:rgb(76,100,157)\"> Общего </span><span style=\"background:rgb(76,105,171)\"> собрания </span><span style=\"background:rgb(76,104,168)\"> акционеров </span><span style=\"background:rgb(76,102,162)\"> Общества </span><span style=\"background:rgb(76,95,140)\"> ; </span><br><span style=\"background:rgb(76,108,180)\"> \n",
              " </span> ...\"</div><br><b style=\"color:#993300\"> &gt;  USD        25,000,000.00</b> <div style=\"border-bottom:1px solid #ccc; margin-top:1em\"></div><div style=\"margin-top:0.2em; margin-left:2em; font-size:14px\">\"...<span style=\"background:rgb(76,122,221)\"> одобрение </span><span style=\"background:rgb(76,113,196)\"> привлечения </span><span style=\"background:rgb(76,106,173)\"> Обществом </span><span style=\"background:rgb(76,110,186)\"> любого </span><span style=\"background:rgb(76,109,183)\"> финансирования </span><span style=\"background:rgb(76,100,156)\"> со </span><span style=\"background:rgb(76,101,158)\"> стороны </span><span style=\"background:rgb(76,103,166)\"> третьих </span><span style=\"background:rgb(76,105,172)\"> лиц </span><span style=\"background:rgb(76,111,188)\"> путем </span><span style=\"background:rgb(76,112,191)\"> заключения </span><span style=\"background:rgb(76,101,158)\"> одной </span><span style=\"background:rgb(76,102,162)\"> или </span><span style=\"background:rgb(76,109,182)\"> нескольких </span><span style=\"background:rgb(76,121,218)\"> взаимосвязанных </span><span style=\"background:rgb(76,117,205)\"> сделок </span><span style=\"background:rgb(255,255,255)\"> на </span><span style=\"background:rgb(255,255,255)\"> суммы </span><span style=\"background:rgb(255,255,255)\"> свыше </span><span style=\"background:rgb(255,255,255)\"> эквивалента </span><span style=\"background:rgb(255,255,255)\"> 25000000 </span><span style=\"background:rgb(255,255,255)\"> ( </span><span style=\"background:rgb(255,255,255)\"> двадцати </span><span style=\"background:rgb(255,255,255)\"> пяти </span><span style=\"background:rgb(255,255,255)\"> миллионов </span><span style=\"background:rgb(201,160,150)\"> ) </span><span style=\"background:rgb(163,143,154)\"> долларов </span><span style=\"background:rgb(137,125,139)\"> США </span><span style=\"background:rgb(119,112,128)\"> по </span><span style=\"background:rgb(106,110,140)\"> курсу </span><span style=\"background:rgb(97,109,152)\"> Банка </span><span style=\"background:rgb(91,104,145)\"> России </span><span style=\"background:rgb(86,102,145)\"> на </span><span style=\"background:rgb(83,114,188)\"> дату </span><span style=\"background:rgb(81,119,206)\"> принятия </span><span style=\"background:rgb(80,111,184)\"> решения </span><span style=\"background:rgb(78,103,161)\"> , </span><span style=\"background:rgb(78,103,162)\"> а </span><span style=\"background:rgb(77,113,192)\"> также </span><span style=\"background:rgb(77,111,189)\"> договоров </span><span style=\"background:rgb(77,104,167)\"> о </span><span style=\"background:rgb(76,111,188)\"> выпуске </span><span style=\"background:rgb(76,107,177)\"> гарантий </span><span style=\"background:rgb(76,108,178)\"> и </span><span style=\"background:rgb(76,110,186)\"> аккредитивов </span><span style=\"background:rgb(76,103,166)\"> , </span><span style=\"background:rgb(76,110,184)\"> выпуск </span><span style=\"background:rgb(76,107,178)\"> векселей </span><span style=\"background:rgb(76,98,148)\"> независимо </span><span style=\"background:rgb(76,98,150)\"> от </span><span style=\"background:rgb(76,101,158)\"> суммы </span><span style=\"background:rgb(76,96,145)\"> ; </span><br><span style=\"background:rgb(76,109,184)\"> \n",
              " </span> ...\"</div><br><b style=\"color:#993300\"> &gt;  RUB        25,000,000.00</b> <div style=\"border-bottom:1px solid #ccc; margin-top:1em\"></div><div style=\"margin-top:0.2em; margin-left:2em; font-size:14px\">\"...<span style=\"background:rgb(76,119,212)\"> одобрение </span><span style=\"background:rgb(76,112,192)\"> кандидатуры </span><span style=\"background:rgb(76,111,190)\"> и </span><span style=\"background:rgb(76,118,209)\"> условий </span><span style=\"background:rgb(76,117,205)\"> договоров </span><span style=\"background:rgb(76,110,186)\"> с </span><span style=\"background:rgb(76,111,190)\"> оценщиками </span><span style=\"background:rgb(76,107,177)\"> , </span><span style=\"background:rgb(76,103,163)\"> лицами </span><span style=\"background:rgb(76,101,159)\"> , </span><span style=\"background:rgb(76,103,166)\"> привлекаемыми </span><span style=\"background:rgb(76,106,174)\"> для </span><span style=\"background:rgb(76,104,167)\"> оказания </span><span style=\"background:rgb(76,98,151)\"> Обществу </span><span style=\"background:rgb(76,97,147)\"> консультационных </span><span style=\"background:rgb(76,96,145)\"> , </span><span style=\"background:rgb(76,103,164)\"> юридических </span><span style=\"background:rgb(76,109,183)\"> услуг </span><span style=\"background:rgb(76,105,170)\"> , </span><span style=\"background:rgb(76,103,165)\"> если </span><span style=\"background:rgb(76,103,165)\"> стоимость </span><span style=\"background:rgb(76,104,168)\"> оказываемых </span><span style=\"background:rgb(255,255,255)\"> услуг </span><span style=\"background:rgb(255,255,255)\"> превышает </span><span style=\"background:rgb(255,255,255)\"> 25000000 </span><span style=\"background:rgb(255,255,255)\"> ( </span><span style=\"background:rgb(201,241,255)\"> двадцать </span><span style=\"background:rgb(255,255,255)\"> пять </span><span style=\"background:rgb(221,160,117)\"> миллионов </span><span style=\"background:rgb(178,143,132)\"> ) </span><span style=\"background:rgb(147,133,147)\"> рублей </span><span style=\"background:rgb(126,120,140)\"> ; </span><br><span style=\"background:rgb(111,126,182)\"> \n",
              " </span> ...\"</div><br><b style=\"color:#993300\"> &gt;  RUB        20,000,000.00</b> <div style=\"border-bottom:1px solid #ccc; margin-top:1em\"></div><div style=\"margin-top:0.2em; margin-left:2em; font-size:14px\">\"...<span style=\"background:rgb(100,130,208)\"> одобрение </span><span style=\"background:rgb(93,123,200)\"> следующих </span><span style=\"background:rgb(88,119,194)\"> действий </span><span style=\"background:rgb(84,116,190)\"> и </span><span style=\"background:rgb(82,114,188)\"> решений </span><span style=\"background:rgb(80,108,172)\"> , </span><span style=\"background:rgb(79,105,165)\"> связанных </span><span style=\"background:rgb(78,105,169)\"> со </span><span style=\"background:rgb(77,109,179)\"> спорами </span><span style=\"background:rgb(77,103,162)\"> Общества </span><span style=\"background:rgb(77,96,141)\"> с </span><span style=\"background:rgb(76,93,133)\"> федеральными </span><span style=\"background:rgb(76,93,136)\"> или </span><span style=\"background:rgb(76,97,148)\"> региональными </span><span style=\"background:rgb(76,95,142)\"> органами </span><span style=\"background:rgb(76,92,132)\"> законодательной </span><span style=\"background:rgb(76,92,131)\"> , </span><span style=\"background:rgb(76,94,138)\"> исполнительной </span><span style=\"background:rgb(76,96,144)\"> власти </span><span style=\"background:rgb(76,97,147)\"> Российской </span><span style=\"background:rgb(76,102,161)\"> Федерации </span><span style=\"background:rgb(76,98,149)\"> , </span><span style=\"background:rgb(76,97,148)\"> или </span><span style=\"background:rgb(76,95,140)\"> органами </span><span style=\"background:rgb(76,99,151)\"> местного </span><span style=\"background:rgb(76,102,162)\"> самоуправления </span><span style=\"background:rgb(76,95,141)\"> ( </span><span style=\"background:rgb(76,94,136)\"> далее </span><span style=\"background:rgb(76,93,135)\"> – </span><span style=\"background:rgb(76,94,137)\"> « </span><span style=\"background:rgb(76,92,130)\"> Органы </span><span style=\"background:rgb(76,92,130)\"> государственной </span><span style=\"background:rgb(76,93,135)\"> власти </span><span style=\"background:rgb(76,95,142)\"> » </span><span style=\"background:rgb(76,100,156)\"> ) </span><span style=\"background:rgb(76,98,150)\"> , </span><span style=\"background:rgb(76,96,145)\"> на </span><span style=\"background:rgb(76,95,140)\"> суммы </span><span style=\"background:rgb(76,92,131)\"> , </span><span style=\"background:rgb(76,91,127)\"> превышающие </span><span style=\"background:rgb(255,255,255)\"> 20000000 </span><span style=\"background:rgb(255,255,255)\"> ( </span><span style=\"background:rgb(201,147,108)\"> Двадцать </span><span style=\"background:rgb(163,131,118)\"> миллионов </span><span style=\"background:rgb(137,122,131)\"> ) </span><span style=\"background:rgb(119,119,149)\"> рублей </span><span style=\"background:rgb(106,114,152)\"> , </span><span style=\"background:rgb(97,107,146)\"> а </span><span style=\"background:rgb(91,102,139)\"> также </span><span style=\"background:rgb(86,106,158)\"> со </span><span style=\"background:rgb(83,108,168)\"> спорами </span><span style=\"background:rgb(81,102,155)\"> , </span><span style=\"background:rgb(80,100,151)\"> независимо </span><span style=\"background:rgb(78,99,148)\"> от </span><span style=\"background:rgb(78,102,158)\"> их </span><span style=\"background:rgb(77,103,163)\"> суммы </span><span style=\"background:rgb(77,98,147)\"> , </span><span style=\"background:rgb(77,99,151)\"> между </span><span style=\"background:rgb(76,99,152)\"> Обществом </span><span style=\"background:rgb(76,97,147)\"> и </span><span style=\"background:rgb(76,101,158)\"> аффилированными </span><span style=\"background:rgb(76,105,170)\"> лицами </span><span style=\"background:rgb(76,104,169)\"> акционеров </span><span style=\"background:rgb(76,101,158)\"> Общества </span><span style=\"background:rgb(76,97,147)\"> , </span><span style=\"background:rgb(76,100,154)\"> членом </span><span style=\"background:rgb(76,101,158)\"> Совета </span><span style=\"background:rgb(76,99,153)\"> директоров </span><span style=\"background:rgb(76,92,130)\"> , </span><span style=\"background:rgb(76,91,128)\"> Генеральным </span><span style=\"background:rgb(76,97,147)\"> директором </span><span style=\"background:rgb(76,96,142)\"> : </span><span style=\"background:rgb(76,91,130)\"> ( </span><span style=\"background:rgb(76,93,133)\"> i </span><span style=\"background:rgb(76,103,164)\"> ) </span><span style=\"background:rgb(76,100,157)\"> предъявление </span><span style=\"background:rgb(76,97,145)\"> в </span><span style=\"background:rgb(76,107,175)\"> суд </span><span style=\"background:rgb(76,106,173)\"> исков </span><span style=\"background:rgb(76,104,168)\"> или </span><span style=\"background:rgb(76,105,171)\"> заявлений </span><span style=\"background:rgb(76,95,140)\"> ; </span><span style=\"background:rgb(76,93,134)\"> ( </span><span style=\"background:rgb(76,95,141)\"> ii </span><span style=\"background:rgb(76,101,159)\"> ) </span><span style=\"background:rgb(76,101,157)\"> изменение </span><span style=\"background:rgb(76,101,160)\"> исковых </span><span style=\"background:rgb(76,101,160)\"> требований </span><span style=\"background:rgb(76,89,121)\"> ( </span><span style=\"background:rgb(76,92,130)\"> iii </span><span style=\"background:rgb(76,100,157)\"> ) </span><span style=\"background:rgb(76,100,156)\"> отказ </span><span style=\"background:rgb(76,104,168)\"> от </span><span style=\"background:rgb(76,103,164)\"> иска </span><span style=\"background:rgb(76,89,123)\"> или </span><br><span style=\"background:rgb(76,88,119)\"> \n",
              " </span> ...\"</div><br><b style=\"color:#993300\"> &gt;  USD        25,000,000.00</b> <div style=\"border-bottom:1px solid #ccc; margin-top:1em\"></div><div style=\"margin-top:0.2em; margin-left:2em; font-size:14px\">\"...<span style=\"background:rgb(76,118,211)\"> одобрение </span><span style=\"background:rgb(76,115,202)\"> следующих </span><span style=\"background:rgb(76,113,195)\"> действий </span><span style=\"background:rgb(76,112,191)\"> и </span><span style=\"background:rgb(76,111,188)\"> решений </span><span style=\"background:rgb(76,106,172)\"> , </span><span style=\"background:rgb(76,104,167)\"> связанных </span><span style=\"background:rgb(76,104,169)\"> со </span><span style=\"background:rgb(76,109,182)\"> спорами </span><span style=\"background:rgb(76,104,167)\"> Общества </span><span style=\"background:rgb(76,101,159)\"> с </span><span style=\"background:rgb(76,101,158)\"> лицами </span><span style=\"background:rgb(76,99,153)\"> , </span><span style=\"background:rgb(76,98,149)\"> которые </span><span style=\"background:rgb(76,96,144)\"> не </span><span style=\"background:rgb(76,100,156)\"> являются </span><span style=\"background:rgb(76,102,162)\"> аффилированными </span><span style=\"background:rgb(76,106,173)\"> лицами </span><span style=\"background:rgb(76,106,174)\"> Общества </span><span style=\"background:rgb(76,99,152)\"> , </span><span style=\"background:rgb(76,97,147)\"> на </span><span style=\"background:rgb(76,95,142)\"> суммы </span><span style=\"background:rgb(76,92,131)\"> , </span><span style=\"background:rgb(76,92,133)\"> превышающие </span><span style=\"background:rgb(76,91,128)\"> сумму </span><span style=\"background:rgb(76,88,121)\"> , </span><span style=\"background:rgb(76,87,118)\"> эквивалентную </span><span style=\"background:rgb(255,255,255)\"> 25000000 </span><span style=\"background:rgb(255,255,255)\"> ( </span><span style=\"background:rgb(201,144,100)\"> Двадцати </span><span style=\"background:rgb(255,255,255)\"> пяти </span><span style=\"background:rgb(224,161,116)\"> миллионам </span><span style=\"background:rgb(179,146,138)\"> ) </span><span style=\"background:rgb(148,133,146)\"> долларов </span><span style=\"background:rgb(127,122,147)\"> США </span><span style=\"background:rgb(111,113,141)\"> : </span><span style=\"background:rgb(101,103,128)\"> ( </span><span style=\"background:rgb(93,102,135)\"> i </span><span style=\"background:rgb(88,109,165)\"> ) </span><span style=\"background:rgb(85,105,157)\"> предъявление </span><span style=\"background:rgb(82,99,145)\"> в </span><span style=\"background:rgb(80,109,176)\"> суд </span><span style=\"background:rgb(79,107,172)\"> исков </span><span style=\"background:rgb(78,104,166)\"> или </span><span style=\"background:rgb(77,106,171)\"> заявлений </span><span style=\"background:rgb(77,95,139)\"> ; </span><span style=\"background:rgb(77,93,134)\"> ( </span><span style=\"background:rgb(76,95,141)\"> ii </span><span style=\"background:rgb(76,102,160)\"> ) </span><span style=\"background:rgb(76,101,159)\"> изменение </span><span style=\"background:rgb(76,102,162)\"> исковых </span><span style=\"background:rgb(76,103,164)\"> требований </span><span style=\"background:rgb(76,90,127)\"> ( </span><span style=\"background:rgb(76,93,133)\"> iii </span><span style=\"background:rgb(76,101,159)\"> ) </span><span style=\"background:rgb(76,101,159)\"> отказ </span><span style=\"background:rgb(76,105,172)\"> от </span><span style=\"background:rgb(76,105,171)\"> иска </span><span style=\"background:rgb(76,102,162)\"> или </span><span style=\"background:rgb(76,108,181)\"> признание </span><span style=\"background:rgb(76,105,171)\"> иска </span><span style=\"background:rgb(76,95,141)\"> ( </span><span style=\"background:rgb(76,90,125)\"> полное </span><span style=\"background:rgb(76,89,123)\"> или </span><span style=\"background:rgb(76,95,141)\"> частичное </span><span style=\"background:rgb(76,98,150)\"> ) </span><span style=\"background:rgb(76,95,141)\"> ; </span><span style=\"background:rgb(76,92,132)\"> ( </span><span style=\"background:rgb(76,95,139)\"> iv </span><span style=\"background:rgb(76,104,169)\"> ) </span><span style=\"background:rgb(76,105,170)\"> заключение </span><span style=\"background:rgb(76,107,176)\"> мирового </span><span style=\"background:rgb(76,107,177)\"> соглашения </span><span style=\"background:rgb(76,106,172)\"> или </span><span style=\"background:rgb(76,106,174)\"> соглашения </span><span style=\"background:rgb(76,94,137)\"> по </span><span style=\"background:rgb(76,93,135)\"> фактическим </span><span style=\"background:rgb(76,98,149)\"> обстоятельствам </span><span style=\"background:rgb(76,97,145)\"> ; </span><span style=\"background:rgb(76,93,135)\"> ( </span><span style=\"background:rgb(76,94,138)\"> v </span><span style=\"background:rgb(76,100,157)\"> ) </span><span style=\"background:rgb(76,107,176)\"> передача </span><span style=\"background:rgb(76,101,159)\"> спора </span><span style=\"background:rgb(76,101,159)\"> на </span><span style=\"background:rgb(76,103,164)\"> рассмотрение </span><span style=\"background:rgb(76,101,159)\"> третейского </span><span style=\"background:rgb(76,102,163)\"> суда </span><span style=\"background:rgb(76,95,140)\"> ; </span><span style=\"background:rgb(76,92,133)\"> ( </span><span style=\"background:rgb(76,95,140)\"> vi </span><span style=\"background:rgb(76,105,170)\"> ) </span><span style=\"background:rgb(76,115,201)\"> заключение </span><span style=\"background:rgb(76,109,184)\"> соглашений </span><span style=\"background:rgb(76,104,166)\"> об </span><span style=\"background:rgb(76,108,179)\"> изменении </span><span style=\"background:rgb(76,102,162)\"> подсудности </span><span style=\"background:rgb(76,95,140)\"> ; </span><br><span style=\"background:rgb(76,100,155)\"> \n",
              " </span> ...\"</div></div><hr style=\"margin-top: 45px\"><h2 style=\"color:blue; padding:0; margin:0\">Генеральный директор</h2><i style=\"margin-top:0.2em; margin-left:2em; font-size:90%\">Статья 22. Генеральный директор Общества</i><div style=\"margin-left:2em\"><h3 style=\"margin:0\">одобрение сделок Благотворительности:</h3><div>не выявлено</div><h3 style=\"margin:0\">решения о пороговых суммах:</h3><br><b style=\"color:#993300\"> &gt;  USD        25,000,000.00</b> <div style=\"border-bottom:1px solid #ccc; margin-top:1em\"></div><div style=\"margin-top:0.2em; margin-left:2em; font-size:14px\">\"...<span style=\"background:rgb(76,120,214)\"> заключение </span><span style=\"background:rgb(76,119,212)\"> договоров </span><span style=\"background:rgb(76,110,184)\"> займа </span><span style=\"background:rgb(76,108,179)\"> , </span><span style=\"background:rgb(76,111,190)\"> кредита </span><span style=\"background:rgb(76,107,175)\"> , </span><span style=\"background:rgb(76,108,179)\"> а </span><span style=\"background:rgb(76,111,190)\"> также </span><span style=\"background:rgb(76,123,226)\"> иных </span><span style=\"background:rgb(76,122,222)\"> сделок </span><span style=\"background:rgb(76,108,181)\"> , </span><span style=\"background:rgb(76,105,171)\"> направленных </span><span style=\"background:rgb(76,103,164)\"> на </span><span style=\"background:rgb(76,112,191)\"> привлечение </span><span style=\"background:rgb(76,114,197)\"> финансирования </span><span style=\"background:rgb(76,110,185)\"> Общества </span><span style=\"background:rgb(76,105,172)\"> , </span><span style=\"background:rgb(76,103,166)\"> если </span><span style=\"background:rgb(76,104,167)\"> сумма </span><span style=\"background:rgb(76,110,187)\"> каждой </span><span style=\"background:rgb(76,107,177)\"> сделки </span><span style=\"background:rgb(76,101,160)\"> или </span><span style=\"background:rgb(76,107,177)\"> нескольких </span><span style=\"background:rgb(76,116,204)\"> взаимосвязанных </span><span style=\"background:rgb(76,112,192)\"> сделок </span><span style=\"background:rgb(76,98,151)\"> в </span><span style=\"background:rgb(255,255,255)\"> совокупности </span><span style=\"background:rgb(255,255,255)\"> составляет </span><span style=\"background:rgb(255,255,255)\"> не </span><span style=\"background:rgb(255,255,255)\"> более </span><span style=\"background:rgb(249,255,255)\"> суммы </span><span style=\"background:rgb(197,255,255)\"> , </span><span style=\"background:rgb(161,229,255)\"> эквивалентной </span><span style=\"background:rgb(255,255,255)\"> 25000000 </span><span style=\"background:rgb(255,255,255)\"> ( </span><span style=\"background:rgb(201,243,255)\"> двадцати </span><span style=\"background:rgb(255,255,255)\"> пяти </span><span style=\"background:rgb(255,255,255)\"> миллионам </span><span style=\"background:rgb(201,156,135)\"> ) </span><span style=\"background:rgb(163,139,141)\"> долларов </span><span style=\"background:rgb(137,122,130)\"> США </span><span style=\"background:rgb(119,110,123)\"> по </span><span style=\"background:rgb(106,107,132)\"> курсу </span><span style=\"background:rgb(97,105,140)\"> Банка </span><span style=\"background:rgb(91,101,137)\"> России </span><span style=\"background:rgb(86,101,143)\"> на </span><span style=\"background:rgb(83,113,182)\"> дату </span><span style=\"background:rgb(81,114,192)\"> подписания </span><span style=\"background:rgb(80,116,197)\"> такой </span><span style=\"background:rgb(78,112,188)\"> сделки </span><span style=\"background:rgb(78,96,142)\"> ( </span><span style=\"background:rgb(77,94,137)\"> или </span><span style=\"background:rgb(77,96,142)\"> на </span><span style=\"background:rgb(77,107,176)\"> дату </span><span style=\"background:rgb(76,109,183)\"> подписания </span><span style=\"background:rgb(76,100,157)\"> каждой </span><span style=\"background:rgb(76,104,167)\"> из </span><span style=\"background:rgb(76,117,206)\"> взаимосвязанных </span><span style=\"background:rgb(76,116,202)\"> сделок </span><span style=\"background:rgb(76,98,150)\"> ) </span><span style=\"background:rgb(76,95,140)\"> ; </span><br><span style=\"background:rgb(76,103,164)\"> \n",
              " </span> ...\"</div><br><b style=\"color:#993300\"> &gt;  USD        25,000,000.00</b> <div style=\"border-bottom:1px solid #ccc; margin-top:1em\"></div><div style=\"margin-top:0.2em; margin-left:2em; font-size:14px\">\"...<span style=\"background:rgb(76,119,211)\"> заключение </span><span style=\"background:rgb(76,112,193)\"> сделки </span><span style=\"background:rgb(76,104,169)\"> или </span><span style=\"background:rgb(76,111,189)\"> нескольких </span><span style=\"background:rgb(76,123,223)\"> взаимосвязанных </span><span style=\"background:rgb(76,120,217)\"> сделок </span><span style=\"background:rgb(76,102,161)\"> ( </span><span style=\"background:rgb(76,103,164)\"> за </span><span style=\"background:rgb(76,116,205)\"> исключением </span><span style=\"background:rgb(76,116,205)\"> сделок </span><span style=\"background:rgb(76,104,167)\"> , </span><span style=\"background:rgb(76,100,157)\"> указанных </span><span style=\"background:rgb(76,94,139)\"> в </span><span style=\"background:rgb(76,93,135)\"> пунктах </span><span style=\"background:rgb(76,89,122)\"> 11 </span><span style=\"background:rgb(76,89,123)\"> , </span><span style=\"background:rgb(76,92,132)\"> 37 </span><span style=\"background:rgb(76,93,134)\"> – </span><span style=\"background:rgb(76,90,125)\"> 40 </span><span style=\"background:rgb(76,90,125)\"> и </span><span style=\"background:rgb(76,93,134)\"> 45 </span><span style=\"background:rgb(76,93,134)\"> статьи </span><span style=\"background:rgb(76,92,131)\"> 19.1 </span><span style=\"background:rgb(76,89,123)\"> и </span><span style=\"background:rgb(76,89,121)\"> в </span><span style=\"background:rgb(76,91,128)\"> пункте </span><span style=\"background:rgb(76,92,131)\"> 18 </span><span style=\"background:rgb(76,90,124)\"> статьи </span><span style=\"background:rgb(76,92,131)\"> 14.1 </span><span style=\"background:rgb(76,96,144)\"> настоящего </span><span style=\"background:rgb(76,102,160)\"> Устава </span><span style=\"background:rgb(76,104,167)\"> ) </span><span style=\"background:rgb(76,105,171)\"> , </span><span style=\"background:rgb(76,103,166)\"> если </span><span style=\"background:rgb(76,110,185)\"> сумма </span><span style=\"background:rgb(76,108,180)\"> сделки </span><span style=\"background:rgb(76,95,141)\"> или </span><span style=\"background:rgb(76,97,148)\"> балансовая </span><span style=\"background:rgb(76,104,168)\"> стоимость </span><span style=\"background:rgb(76,102,161)\"> имущества </span><span style=\"background:rgb(76,100,156)\"> , </span><span style=\"background:rgb(76,102,161)\"> являющегося </span><span style=\"background:rgb(76,102,162)\"> предметом </span><span style=\"background:rgb(76,111,188)\"> такой </span><span style=\"background:rgb(76,111,188)\"> сделки </span><span style=\"background:rgb(255,255,255)\"> , </span><span style=\"background:rgb(255,255,255)\"> не </span><span style=\"background:rgb(255,255,255)\"> превышает </span><span style=\"background:rgb(228,255,255)\"> сумму </span><span style=\"background:rgb(182,247,255)\"> , </span><span style=\"background:rgb(150,226,255)\"> эквивалентную </span><span style=\"background:rgb(255,255,255)\"> 25000000 </span><span style=\"background:rgb(255,255,255)\"> ( </span><span style=\"background:rgb(201,246,255)\"> двадцати </span><span style=\"background:rgb(255,255,255)\"> пяти </span><span style=\"background:rgb(255,255,255)\"> миллионам </span><span style=\"background:rgb(201,154,130)\"> ) </span><span style=\"background:rgb(163,137,134)\"> долларов </span><span style=\"background:rgb(137,120,125)\"> США </span><span style=\"background:rgb(119,110,121)\"> по </span><span style=\"background:rgb(106,107,131)\"> курсу </span><span style=\"background:rgb(97,104,137)\"> Банка </span><span style=\"background:rgb(91,100,133)\"> России </span><span style=\"background:rgb(86,100,141)\"> на </span><span style=\"background:rgb(83,113,183)\"> дату </span><span style=\"background:rgb(81,115,193)\"> подписания </span><span style=\"background:rgb(80,116,198)\"> такой </span><span style=\"background:rgb(78,112,187)\"> сделки </span><span style=\"background:rgb(78,96,142)\"> ( </span><span style=\"background:rgb(77,95,140)\"> или </span><span style=\"background:rgb(77,97,147)\"> в </span><span style=\"background:rgb(77,98,149)\"> совокупности </span><span style=\"background:rgb(76,97,145)\"> по </span><span style=\"background:rgb(76,105,171)\"> сумме </span><span style=\"background:rgb(76,117,205)\"> взаимосвязанных </span><span style=\"background:rgb(76,111,187)\"> сделок </span><span style=\"background:rgb(76,96,145)\"> на </span><span style=\"background:rgb(76,108,179)\"> дату </span><span style=\"background:rgb(76,108,178)\"> подписания </span><span style=\"background:rgb(76,97,147)\"> каждой </span><span style=\"background:rgb(76,100,156)\"> из </span><span style=\"background:rgb(76,103,164)\"> них </span><span style=\"background:rgb(76,97,148)\"> ) </span><span style=\"background:rgb(76,95,140)\"> ; </span><br><span style=\"background:rgb(76,102,162)\"> \n",
              " </span> ...\"</div><br><b style=\"color:#009933\"> &lt;  RUB        20,000,000.00</b> <div style=\"border-bottom:1px solid #ccc; margin-top:1em\"></div><div style=\"margin-top:0.2em; margin-left:2em; font-size:14px\">\"...<span style=\"background:rgb(76,114,198)\"> принятие </span><span style=\"background:rgb(76,110,186)\"> решения </span><span style=\"background:rgb(76,107,178)\"> об </span><span style=\"background:rgb(76,110,187)\"> осуществлении </span><span style=\"background:rgb(76,112,193)\"> следующих </span><span style=\"background:rgb(76,112,191)\"> действий </span><span style=\"background:rgb(76,111,190)\"> и </span><span style=\"background:rgb(76,111,188)\"> решений </span><span style=\"background:rgb(76,104,169)\"> , </span><span style=\"background:rgb(76,101,160)\"> связанных </span><span style=\"background:rgb(76,103,165)\"> со </span><span style=\"background:rgb(76,108,179)\"> спорами </span><span style=\"background:rgb(76,101,159)\"> Общества </span><span style=\"background:rgb(76,96,143)\"> с </span><span style=\"background:rgb(76,91,129)\"> Органами </span><span style=\"background:rgb(76,91,130)\"> государственной </span><span style=\"background:rgb(76,102,161)\"> власти </span><span style=\"background:rgb(76,100,157)\"> , </span><span style=\"background:rgb(76,98,149)\"> на </span><span style=\"background:rgb(255,255,255)\"> суммы </span><span style=\"background:rgb(255,255,255)\"> , </span><span style=\"background:rgb(255,255,255)\"> не </span><span style=\"background:rgb(255,255,255)\"> превышающие </span><span style=\"background:rgb(255,255,255)\"> 20000000 </span><span style=\"background:rgb(255,255,255)\"> ( </span><span style=\"background:rgb(201,146,106)\"> Двадцать </span><span style=\"background:rgb(163,130,116)\"> миллионов </span><span style=\"background:rgb(137,122,131)\"> ) </span><span style=\"background:rgb(119,118,147)\"> рублей </span><span style=\"background:rgb(106,109,139)\"> : </span><span style=\"background:rgb(97,101,127)\"> ( </span><span style=\"background:rgb(91,100,134)\"> i </span><span style=\"background:rgb(86,109,167)\"> ) </span><span style=\"background:rgb(83,104,158)\"> предъявление </span><span style=\"background:rgb(81,100,147)\"> в </span><span style=\"background:rgb(80,109,177)\"> суд </span><span style=\"background:rgb(78,106,171)\"> исков </span><span style=\"background:rgb(78,104,165)\"> или </span><span style=\"background:rgb(77,106,171)\"> заявлений </span><span style=\"background:rgb(77,95,140)\"> ; </span><span style=\"background:rgb(77,93,134)\"> ( </span><span style=\"background:rgb(76,95,140)\"> ii </span><span style=\"background:rgb(76,102,160)\"> ) </span><span style=\"background:rgb(76,101,158)\"> изменение </span><span style=\"background:rgb(76,102,161)\"> исковых </span><span style=\"background:rgb(76,104,166)\"> требований </span><span style=\"background:rgb(76,92,132)\"> ; </span><span style=\"background:rgb(76,88,120)\"> ( </span><span style=\"background:rgb(76,91,129)\"> iii </span><span style=\"background:rgb(76,100,156)\"> ) </span><span style=\"background:rgb(76,101,158)\"> отказ </span><span style=\"background:rgb(76,106,172)\"> от </span><span style=\"background:rgb(76,105,171)\"> иска </span><span style=\"background:rgb(76,101,160)\"> или </span><span style=\"background:rgb(76,108,178)\"> признание </span><span style=\"background:rgb(76,105,169)\"> иска </span><span style=\"background:rgb(76,95,140)\"> ( </span><span style=\"background:rgb(76,90,125)\"> полное </span><span style=\"background:rgb(76,89,121)\"> или </span><span style=\"background:rgb(76,94,138)\"> частичное </span><span style=\"background:rgb(76,96,144)\"> ) </span><span style=\"background:rgb(76,93,136)\"> ; </span><br><span style=\"background:rgb(76,90,125)\"> \n",
              " </span> ...\"</div><br><b style=\"color:#993300\"> &gt;  USD        25,000,000.00</b> <div style=\"border-bottom:1px solid #ccc; margin-top:1em\"></div><div style=\"margin-top:0.2em; margin-left:2em; font-size:14px\">\"...<span style=\"background:rgb(76,114,197)\"> принятие </span><span style=\"background:rgb(76,110,186)\"> решения </span><span style=\"background:rgb(76,108,179)\"> об </span><span style=\"background:rgb(76,111,188)\"> осуществлении </span><span style=\"background:rgb(76,112,193)\"> следующих </span><span style=\"background:rgb(76,111,189)\"> действий </span><span style=\"background:rgb(76,111,187)\"> и </span><span style=\"background:rgb(76,110,185)\"> решений </span><span style=\"background:rgb(76,104,169)\"> , </span><span style=\"background:rgb(76,103,164)\"> связанных </span><span style=\"background:rgb(76,104,167)\"> со </span><span style=\"background:rgb(76,108,180)\"> спорами </span><span style=\"background:rgb(76,103,165)\"> Общества </span><span style=\"background:rgb(76,100,157)\"> с </span><span style=\"background:rgb(76,100,155)\"> лицами </span><span style=\"background:rgb(76,98,151)\"> , </span><span style=\"background:rgb(76,97,147)\"> которые </span><span style=\"background:rgb(76,95,142)\"> не </span><span style=\"background:rgb(76,99,154)\"> являются </span><span style=\"background:rgb(76,101,160)\"> аффилированными </span><span style=\"background:rgb(76,105,170)\"> лицами </span><span style=\"background:rgb(76,105,170)\"> Общества </span><span style=\"background:rgb(76,97,148)\"> , </span><span style=\"background:rgb(76,97,146)\"> на </span><span style=\"background:rgb(76,95,140)\"> суммы </span><span style=\"background:rgb(76,90,126)\"> , </span><span style=\"background:rgb(255,255,255)\"> не </span><span style=\"background:rgb(231,255,255)\"> превышающие </span><span style=\"background:rgb(185,241,255)\"> сумму </span><span style=\"background:rgb(152,125,117)\"> , </span><span style=\"background:rgb(129,114,117)\"> эквивалентную </span><span style=\"background:rgb(255,255,255)\"> 25000000 </span><span style=\"background:rgb(255,255,255)\"> ( </span><span style=\"background:rgb(201,144,102)\"> Двадцати </span><span style=\"background:rgb(255,255,255)\"> пяти </span><span style=\"background:rgb(224,161,115)\"> миллионам </span><span style=\"background:rgb(180,145,136)\"> ) </span><span style=\"background:rgb(149,133,145)\"> долларов </span><span style=\"background:rgb(127,118,134)\"> США </span><span style=\"background:rgb(112,107,122)\"> по </span><span style=\"background:rgb(101,104,132)\"> курсу </span><span style=\"background:rgb(93,104,142)\"> ЦБ </span><span style=\"background:rgb(88,100,136)\"> РФ </span><span style=\"background:rgb(85,98,138)\"> на </span><span style=\"background:rgb(82,109,175)\"> дату </span><span style=\"background:rgb(80,109,176)\"> совершения </span><span style=\"background:rgb(79,106,169)\"> такого </span><span style=\"background:rgb(78,103,162)\"> действия </span><span style=\"background:rgb(77,93,133)\"> : </span><span style=\"background:rgb(77,89,122)\"> ( </span><span style=\"background:rgb(77,93,132)\"> i </span><span style=\"background:rgb(76,104,166)\"> ) </span><span style=\"background:rgb(76,101,158)\"> предъявление </span><span style=\"background:rgb(76,97,147)\"> в </span><span style=\"background:rgb(76,107,178)\"> суд </span><span style=\"background:rgb(76,106,172)\"> исков </span><span style=\"background:rgb(76,104,168)\"> или </span><span style=\"background:rgb(76,106,173)\"> заявлений </span><span style=\"background:rgb(76,95,140)\"> ; </span><span style=\"background:rgb(76,93,135)\"> ( </span><span style=\"background:rgb(76,96,142)\"> ii </span><span style=\"background:rgb(76,102,161)\"> ) </span><span style=\"background:rgb(76,102,160)\"> изменение </span><span style=\"background:rgb(76,102,163)\"> исковых </span><span style=\"background:rgb(76,104,168)\"> требований </span><span style=\"background:rgb(76,93,134)\"> ; </span><span style=\"background:rgb(76,89,123)\"> ( </span><span style=\"background:rgb(76,92,132)\"> iii </span><span style=\"background:rgb(76,101,159)\"> ) </span><span style=\"background:rgb(76,102,160)\"> отказ </span><span style=\"background:rgb(76,106,175)\"> от </span><span style=\"background:rgb(76,106,173)\"> иска </span><span style=\"background:rgb(76,102,162)\"> или </span><span style=\"background:rgb(76,109,182)\"> признание </span><span style=\"background:rgb(76,106,172)\"> иска </span><span style=\"background:rgb(76,95,141)\"> ( </span><span style=\"background:rgb(76,90,125)\"> полное </span><span style=\"background:rgb(76,89,123)\"> или </span><span style=\"background:rgb(76,95,141)\"> частичное </span><span style=\"background:rgb(76,98,150)\"> ) </span><span style=\"background:rgb(76,95,140)\"> ; </span><span style=\"background:rgb(76,92,131)\"> ( </span><span style=\"background:rgb(76,94,139)\"> iv </span><span style=\"background:rgb(76,105,169)\"> ) </span><span style=\"background:rgb(76,105,171)\"> заключение </span><span style=\"background:rgb(76,107,177)\"> мирового </span><span style=\"background:rgb(76,107,177)\"> соглашения </span><span style=\"background:rgb(76,106,173)\"> или </span><span style=\"background:rgb(76,107,175)\"> соглашения </span><span style=\"background:rgb(76,94,137)\"> по </span><span style=\"background:rgb(76,93,136)\"> фактическим </span><span style=\"background:rgb(76,98,150)\"> обстоятельствам </span><span style=\"background:rgb(76,96,144)\"> ; </span><span style=\"background:rgb(76,93,134)\"> ( </span><span style=\"background:rgb(76,94,138)\"> v </span><span style=\"background:rgb(76,101,157)\"> ) </span><span style=\"background:rgb(76,107,176)\"> передача </span><span style=\"background:rgb(76,101,160)\"> спора </span><span style=\"background:rgb(76,102,161)\"> на </span><span style=\"background:rgb(76,103,165)\"> рассмотрение </span><span style=\"background:rgb(76,101,159)\"> третейского </span><span style=\"background:rgb(76,102,163)\"> суда </span><span style=\"background:rgb(76,94,138)\"> ; </span><span style=\"background:rgb(76,92,132)\"> ( </span><span style=\"background:rgb(76,95,140)\"> vi </span><span style=\"background:rgb(76,105,172)\"> ) </span><span style=\"background:rgb(76,115,202)\"> заключение </span><span style=\"background:rgb(76,110,186)\"> соглашений </span><span style=\"background:rgb(76,104,169)\"> об </span><span style=\"background:rgb(76,108,181)\"> изменении </span><span style=\"background:rgb(76,102,162)\"> подсудности </span><span style=\"background:rgb(76,94,138)\"> ; </span><br><span style=\"background:rgb(76,104,167)\"> \n",
              " </span> ...\"</div></div>"
            ],
            "text/plain": [
              "<IPython.core.display.HTML object>"
            ]
          },
          "metadata": {
            "tags": []
          }
        },
        {
          "output_type": "display_data",
          "data": {
            "text/html": [
              "<h3 style=\"margin:0\">Выявленное Содержание документа</h3><ul><li> УТВЕРЖДЕН. <sup>line 0</sup></li><li> У С Т А В. <sup>line 16</sup></li><li> Статья 1. Общие положения <sup>line 39</sup></li><li> Статья 2. Фирменное наименование и место нахождения Общества <sup>line 45</sup></li><li> Статья 3. Юридический статус Общества <sup>line 53</sup></li><li> Статья 4. Ответственность Общества <sup>line 69</sup></li><li> Статья 5. Филиалы и представительства, дочерние и зависимые общества <sup>line 75</sup></li><li> Статья 6. Цель создания и основные виды деятельности Общества <sup>line 84</sup></li><li> Статья 8. Облигации и иные эмиссионные ценные бумаги Общества <sup>line 116</sup></li><li> Статья 9. Права и обязанности акционеров Общества <sup>line 120</sup></li><li> Статья 10. Фонды Общества <sup>line 137</sup></li><li> Статья 11. Дивиденды Общества <sup>line 143</sup></li><li> Статья 12. Органы управления <sup>line 152</sup></li><li> Статья 13. Общее собрание акционеров Общества <sup>line 158</sup></li><li> Статья 14. Компетенция Общего собрания акционеров Общества <sup>line 169</sup></li><li> Статья 15. Решения Общего собрания акционеров Общества <sup>line 199</sup></li><li> Статья 16. Предложения в повестку дня, информация о проведении Общего собрания акционеров Общества <sup>line 206</sup></li><li> Статья 17. Участие и голосование на Общем собрании акционеров, протокол Общего собрания акционеров Общества <sup>line 223</sup></li><li> Статья 18. Совет директоров Общества <sup>line 234</sup></li><li> Статья 19. Компетенция Совета директоров Общества <sup>line 243</sup></li><li> Статья 20. Председатель Совета директоров, Секретарь заседания Совета директоров и Секретарь Совета директоров Общества <sup>line 324</sup></li><li> Статья 21. Заседания Совета директоров Общества <sup>line 348</sup></li><li> Статья 22. Генеральный директор Общества <sup>line 364</sup></li><li> Статья 23. Порядок отчуждения акций Общества. Ограничения в отношении сделок с акциями Общества. <sup>line 408</sup></li><li> Статья 24. Ревизионная комиссия Общества <sup>line 426</sup></li><li> Статья 25. Действие Устава Общества <sup>line 453</sup></li><li> 11 <sup>line 463</sup></li></ul>"
            ],
            "text/plain": [
              "<IPython.core.display.HTML object>"
            ]
          },
          "metadata": {
            "tags": []
          }
        }
      ]
    },
    {
      "metadata": {
        "id": "7OFOIGEs5pZC",
        "colab_type": "code",
        "colab": {}
      },
      "cell_type": "code",
      "source": [
        "del(GLOBALS__['_init_the_code'] )\n",
        "_init_the_code()\n",
        "GLOBALS__['renderer'].render_charter_parsing_results(_CTX.doc, _CTX.org, _CTX.constraints, _CTX.charity_constraints)\n",
        "GLOBALS__['renderer'].render_contents(_CTX.doc)"
      ],
      "execution_count": 0,
      "outputs": []
    },
    {
      "metadata": {
        "id": "9fV5mnSXciKX",
        "colab_type": "code",
        "colab": {}
      },
      "cell_type": "code",
      "source": [
        ""
      ],
      "execution_count": 0,
      "outputs": []
    },
    {
      "metadata": {
        "id": "SnsM7Qzwci1J",
        "colab_type": "text"
      },
      "cell_type": "markdown",
      "source": [
        "### tests, experiments"
      ]
    },
    {
      "metadata": {
        "id": "ycJrZCWAFEXw",
        "colab_type": "code",
        "colab": {}
      },
      "cell_type": "code",
      "source": [
        "if False:\n",
        "  GLOBALS__['CharterAnlysingContext'].verbosity_level=2\n",
        "  org, rz = GLOBALS__['CharterAnlysingContext'].analyze_charter(text, True)\n",
        "  doc = GLOBALS__['CharterAnlysingContext'].doc\n",
        "  charity_constraints = GLOBALS__['CharterAnlysingContext'].charity_constraints\n",
        "  org = GLOBALS__['CharterAnlysingContext'].org\n",
        "\n",
        "\n",
        "  GLOBALS__['renderer'].render_contents(doc)\n",
        "  GLOBALS__['renderer'].render_charter_parsing_results(doc, org, rz)"
      ],
      "execution_count": 0,
      "outputs": []
    },
    {
      "metadata": {
        "id": "gEM5XvFcA_J-",
        "colab_type": "text"
      },
      "cell_type": "markdown",
      "source": [
        "#### Charitiy finder"
      ]
    },
    {
      "metadata": {
        "id": "WQxMWb_OgB74",
        "colab_type": "code",
        "colab": {}
      },
      "cell_type": "code",
      "source": [
        "# from patterns import AbstractPatternFactoryLowCase\n",
        "# class Tfa(AbstractPatternFactoryLowCase):\n",
        "\n",
        "#   def __init__(self, embedder):\n",
        "#     AbstractPatternFactoryLowCase.__init__(self, embedder)\n",
        "#     self._build_charity_patterns()\n",
        "#     self.embedd()\n",
        "\n",
        "#   def _build_charity_patterns(self):\n",
        "#     def cp(name, tuples):\n",
        "#       return self.create_pattern(name, tuples)\n",
        "     \n",
        "    \n",
        "#     cp('x_charity_1', ('договор',\n",
        "#                        'благотворительного',\n",
        "#                        'пожертвования'))\n",
        "    \n",
        "#     cp('x_charity_1.1', ('одобрение внесения Обществом каких-либо вкладов или пожертвований на политические или',\n",
        "#                        'благотворительные',\n",
        "#                        'цели'))\n",
        "    \n",
        "#     cp('x_charity_1.2', ('одобрение внесения Обществом каких-либо вкладов или',\n",
        "#                        'пожертвований',\n",
        "#                        'на политические или благотворительные цели '))\n",
        " \n",
        "\n",
        "#     cp('x_charity_2', ('предоставление',\n",
        "#                        'безвозмездной',\n",
        "#                        'помощи финансовой')),\n",
        "  \n",
        "#     cp('x_charity_3', ('согласование сделок',\n",
        "#                        ' дарения ',\n",
        "#                        ' '))\n",
        "  \n",
        "\n",
        "     \n",
        " \n",
        "    \n",
        "    \n",
        "# TFAA = Tfa(GLOBALS__['elmo_embedder'])\n",
        "\n",
        "\n",
        "\n"
      ],
      "execution_count": 0,
      "outputs": []
    },
    {
      "metadata": {
        "id": "ebEKtQY-CBTu",
        "colab_type": "code",
        "colab": {}
      },
      "cell_type": "code",
      "source": [
        "doc.sections"
      ],
      "execution_count": 0,
      "outputs": []
    },
    {
      "metadata": {
        "id": "PhCbZyLYiBnz",
        "colab_type": "code",
        "colab": {}
      },
      "cell_type": "code",
      "source": [
        "def build_charity_patterns(factory):\n",
        "  def cp(name, tuples):\n",
        "    return factory.create_pattern(name, tuples)\n",
        "\n",
        "  cp('x_charity_1', ('договор',\n",
        "                     'благотворительного',\n",
        "                     'пожертвования'))\n",
        "\n",
        "  cp('x_charity_1.1', ('одобрение внесения Обществом каких-либо вкладов или пожертвований на политические или',\n",
        "                       'благотворительные',\n",
        "                       'цели'))\n",
        "\n",
        "  cp('x_charity_1.2', ('одобрение внесения Обществом каких-либо вкладов или',\n",
        "                       'пожертвований',\n",
        "                       'на политические или благотворительные цели '))\n",
        "\n",
        "  cp('x_charity_2', ('предоставление',\n",
        "                     'безвозмездной',\n",
        "                     'помощи финансовой')),\n",
        "\n",
        "  cp('x_charity_3', ('согласование сделок',\n",
        "                     ' дарения ',\n",
        "                     ' '))\n",
        "\n",
        "\n",
        "from typing import List\n",
        "\n",
        "import numpy as np\n",
        "\n",
        "from legal_docs import calculate_distances_per_pattern\n",
        "from ml_tools import filter_values_by_key_prefix, max_exclusive_pattern, relu\n",
        "from patterns import improve_attention_vector\n",
        "from text_tools import get_sentence_bounds_at_index\n",
        "\n",
        "\n",
        "def find_charity_constraints(doc, factory, head_sections:dict ) -> dict:\n",
        "  charity_quotes_by_head_type = {}\n",
        "  for section_name in head_sections:\n",
        "\n",
        "    # section_name = section_prefix + head\n",
        "    # print(head, '->', section_name)\n",
        "    if section_name in doc.sections:\n",
        "      subdoc = doc.sections[section_name].body\n",
        "      # subdoc.calculate_distances_per_pattern(TFAA)\n",
        "\n",
        "      print(section_name)\n",
        "      bounds = find_charity_sentences(subdoc, factory)\n",
        "      charity_quotes_by_head_type[section_name] = bounds\n",
        "\n",
        "      # print('ok')\n",
        "  return charity_quotes_by_head_type\n",
        "\n",
        "\n",
        "def find_charity_sentences(subdoc, factory) -> List:\n",
        "  \"\"\"\n",
        "    returns list of tuples (slice, confidence, summa-of-attention-)\n",
        "  \"\"\"\n",
        "\n",
        "  calculate_distances_per_pattern(subdoc, factory, merge=True, pattern_prefix='x_charity_')\n",
        "\n",
        "  slices = []\n",
        "  vectors = filter_values_by_key_prefix(subdoc.distances_per_pattern_dict, 'x_charity_')\n",
        "  vectors_i = []\n",
        "  for v in vectors:\n",
        "    if max(v) > 0.6:\n",
        "      vector_i, _ = improve_attention_vector(subdoc.embeddings, v, relu_th=0.6, mix=0.9)\n",
        "      vectors_i.append(vector_i)\n",
        "    else:\n",
        "      vectors_i.append(v)\n",
        "\n",
        "  x = max_exclusive_pattern(vectors_i)\n",
        "  x = relu(x, 0.8)\n",
        "  subdoc.distances_per_pattern_dict['$at_x_charity_'] = x\n",
        "\n",
        "  dups = {}\n",
        "  for i in np.nonzero(x)[0]:\n",
        "    bounds = get_sentence_bounds_at_index(i, subdoc.tokens)\n",
        "\n",
        "    if bounds[0] not in dups:\n",
        "      sl = slice(bounds[0], bounds[1])\n",
        "      sum_ = sum(x[sl])\n",
        "      confidence = 'x'\n",
        "      #       confidence = np.mean( np.nonzero(x[sl]) )\n",
        "      nonzeros_count = len(np.nonzero(x[sl])[0])\n",
        "      print('nonzeros_count=', nonzeros_count)\n",
        "      confidence = 0\n",
        "\n",
        "      if nonzeros_count > 0:\n",
        "        confidence = sum_ / nonzeros_count\n",
        "      print('confidence=', confidence)\n",
        "      if confidence > 0.8:\n",
        "        # GLOBALS__['renderer'].render_color_text(subdoc.tokens_cc[sl],\n",
        "        #                                         subdoc.distances_per_pattern_dict['$at_x_charity_'][sl], _range=(0, 1))\n",
        "        print(i, sum_)\n",
        "\n",
        "        slices.append((sl, confidence, sum_))\n",
        "\n",
        "      dups[bounds[0]] = True\n",
        "\n",
        "  return slices\n",
        "\n",
        "\n",
        "\n",
        "\n",
        "##---test\n",
        "\n",
        "# find_charity_constraints(self.doc, GLOBALS__['CharterAnlysingContext'].pattern_factory, self._get_head_sections())\n",
        "# GLOBALS__['CharterAnlysingContext'].\n",
        "\n",
        "charity_constraints = find_charity_constraints(doc, \n",
        "                                               GLOBALS__['CharterAnlysingContext'].pattern_factory, \n",
        "                                               GLOBALS__['CharterAnlysingContext']._get_head_sections())\n"
      ],
      "execution_count": 0,
      "outputs": []
    },
    {
      "metadata": {
        "id": "QflbPNjUDQJT",
        "colab_type": "text"
      },
      "cell_type": "markdown",
      "source": [
        "#### Render charity constraints"
      ]
    },
    {
      "metadata": {
        "id": "AsbjbSMmDOnN",
        "colab_type": "code",
        "colab": {}
      },
      "cell_type": "code",
      "source": [
        "\n",
        "\n",
        " \n",
        "  \n",
        "\n",
        "\n",
        "\n",
        "#---CharterRenderer\n",
        "_CTX = GLOBALS__['CharterAnlysingContext']\n",
        "_cr = CharterRenderer()\n",
        "_cr.render_charter_parsing_results(_CTX.doc, _CTX.org, _CTX.constraints, _CTX.charity_constraints)\n",
        "# _cr.render_contents(_CTX.doc)\n"
      ],
      "execution_count": 0,
      "outputs": []
    },
    {
      "metadata": {
        "id": "nLEZH3mDiRUm",
        "colab_type": "code",
        "colab": {}
      },
      "cell_type": "code",
      "source": [
        "# # GLOBALS__['renderer'].render_color_text(subdoc.tokens_cc, subdoc.distances_per_pattern_dict['x_charity_1.2'], _range=(0,1))\n",
        "# # x = max_exclusive_pattern_by_prefix(subdoc.distances_per_pattern_dict, 'x_charity_')\n",
        "# import numpy as np\n",
        "# from text_tools import get_sentence_bounds_at_index\n",
        "# from ml_tools import filter_values_by_key_prefix,max_exclusive_pattern, momentum, smooth_safe, smooth, relu\n",
        "# from patterns import improve_attention_vector\n",
        "# vectors = filter_values_by_key_prefix(subdoc.distances_per_pattern_dict, 'x_charity_')\n",
        "# vectors_i=[]\n",
        "# for v in vectors:\n",
        "#   if max(v)>0.6:\n",
        "#     vector_i, _ = improve_attention_vector(subdoc.embeddings, v, relu_th=0.6, mix=0.9)\n",
        "#     vectors_i.append(vector_i)\n",
        "#   else:\n",
        "#     vectors_i.append(v)\n",
        "    \n",
        "# x = max_exclusive_pattern(vectors_i)\n",
        "# x=relu(x, 0.8)\n",
        "# i = np.argmax(x)\n",
        "# sl = slice( i-150, i+150)\n",
        "\n",
        "\n",
        "\n",
        "# dups={}\n",
        "# for i in np.nonzero(x)[0]:\n",
        "#   bounds = get_sentence_bounds_at_index( i, subdoc.tokens)\n",
        "  \n",
        "#   if bounds[0] not in dups:\n",
        "#     sl=slice(bounds[0], bounds[1])\n",
        "#     sum_ = sum(x[sl])\n",
        "\n",
        "#     if sum_ >2:\n",
        "#       GLOBALS__['renderer'].render_color_text(subdoc.tokens_cc[sl], x[sl], _range=(0,1))\n",
        "#       print(i, sum_)\n",
        "# #       yeld (bounds)\n",
        "\n",
        "#     dups[bounds[0]]=True"
      ],
      "execution_count": 0,
      "outputs": []
    },
    {
      "metadata": {
        "id": "oX4OH7NMBNUB",
        "colab_type": "text"
      },
      "cell_type": "markdown",
      "source": [
        "### Miscl\n"
      ]
    },
    {
      "metadata": {
        "id": "8h2m0krc_KM4",
        "colab_type": "code",
        "colab": {}
      },
      "cell_type": "code",
      "source": [
        "if False:\n",
        "  doc.embedd(GLOBALS__['ContractAnlysingContext'].hadlines_factory)\n"
      ],
      "execution_count": 0,
      "outputs": []
    },
    {
      "metadata": {
        "id": "vUnmEKg0HE0I",
        "colab_type": "code",
        "colab": {}
      },
      "cell_type": "code",
      "source": [
        "if False:\n",
        "  # GLOBALS__['ContractAnlysingContext'].hadlines_factory.\n",
        "\n",
        "  doc.calculate_distances_per_pattern(GLOBALS__['CharterAnlysingContext'].hadlines_factory)\n",
        "\n"
      ],
      "execution_count": 0,
      "outputs": []
    },
    {
      "metadata": {
        "id": "jqnUuNcxHlmc",
        "colab_type": "code",
        "colab": {}
      },
      "cell_type": "code",
      "source": [
        "# print(doc.distances_per_pattern_dict.keys())\n",
        "from legal_docs import rectifyed_sum_by_pattern_prefix\n",
        "\n",
        "from ml_tools import max_exclusive_pattern_by_prefix\n",
        "\n",
        "\n",
        "\n",
        "\n",
        "vv = max_exclusive_pattern_by_prefix(doc.distances_per_pattern_dict, 'headline.name.1')\n",
        "print(vv[0:10])\n",
        "\n",
        "\n",
        "\n",
        "# GLOBALS__['renderer'].render_color_text(doc.tokens_cc, vv)\n",
        "\n",
        "for s in doc.sections:\n",
        "  print (s)\n",
        "  \n",
        "if 'head.directors' in doc.sections:\n",
        "  subdoc = doc.sections['head.directors'].body\n",
        "  for ky in subdoc.distances_per_pattern_dict:\n",
        "    print(ky)\n",
        "  GLOBALS__['renderer'].render_color_text(subdoc.tokens_cc, subdoc.distances_per_pattern_dict['deal_attention_vector'])\n",
        "  \n"
      ],
      "execution_count": 0,
      "outputs": []
    },
    {
      "metadata": {
        "id": "7Rv4ja_xLmxW",
        "colab_type": "code",
        "colab": {}
      },
      "cell_type": "code",
      "source": [
        " \n",
        "\n",
        "level_by_line = [ max ( i._possible_levels) for i in doc.structure.structure ]\n",
        " \n",
        "\n",
        "\n",
        "headlines_attention_vector=[]\n",
        "for i in doc.structure.structure:\n",
        "  l = i.span[1]-i.span[0]\n",
        "  headlines_attention_vector+=[level_by_line[ i.line_number ]]*l\n",
        "  \n",
        "# print (pv[0:100])\n",
        "headlines_attention_vector = normalize(headlines_attention_vector)\n",
        "headlines_attention_vector = relu(headlines_attention_vector, 0.4)\n",
        "\n",
        "# headlines_attention_vector = smooth(headlines_attention_vector, 20)\n",
        "\n",
        "av= relu(headlines_attention_vector/2 + vv, 0.6)\n",
        "av = momentum(av, 0.99)\n",
        "\n",
        "GLOBALS__['renderer'].render_color_text(doc.tokens_cc, av)\n",
        "\n",
        "\n"
      ],
      "execution_count": 0,
      "outputs": []
    },
    {
      "metadata": {
        "id": "kT3NPG52fAjK",
        "colab_type": "text"
      },
      "cell_type": "markdown",
      "source": [
        "## Meta-pattern! (Cool!!(!))\n",
        "типа самообучение"
      ]
    },
    {
      "metadata": {
        "id": "xUcxb8lmc1Dq",
        "colab_type": "code",
        "colab": {}
      },
      "cell_type": "code",
      "source": [
        "# ---------\n",
        "from patterns import FuzzyPattern\n",
        "best_id=np.argmax(av)\n",
        "best_embedding_v = doc.embeddings[best_id]\n",
        "\n",
        "meta_pattern=FuzzyPattern('s-meta-na')\n",
        "meta_pattern.embeddings =  np.array([ best_embedding_v ])\n",
        "\n",
        "meta_pattern_attention = 1.0 - meta_pattern._eval_distances(doc.embeddings)\n",
        "meta_pattern_attention = relu(meta_pattern_attention,  0.7)\n",
        "\n",
        "\n",
        "GLOBALS__['renderer'].render_color_text(doc.tokens_cc, meta_pattern_attention, _range=(0,1))"
      ],
      "execution_count": 0,
      "outputs": []
    },
    {
      "metadata": {
        "id": "uFctYf9efjFt",
        "colab_type": "code",
        "colab": {}
      },
      "cell_type": "code",
      "source": [
        "import matplotlib as mpl\n",
        "import matplotlib.pyplot as plt\n",
        "fig = plt.figure(figsize=(20, 6))\n",
        "ax = plt.axes()\n",
        "span=1400\n",
        "ax.plot(meta_pattern_attention[best_id-span:best_id+span], alpha=0.5, color='green', label='meta_pattern_attention');\n",
        "ax.plot(normalize(av[best_id-span:best_id+span]), alpha=0.5, color='red', label='av');\n",
        " "
      ],
      "execution_count": 0,
      "outputs": []
    },
    {
      "metadata": {
        "id": "CsmnVkodzR7h",
        "colab_type": "text"
      },
      "cell_type": "markdown",
      "source": [
        "# step 2. Договор"
      ]
    },
    {
      "metadata": {
        "id": "ysQTF-wAzwtV",
        "colab_type": "code",
        "outputId": "0b7ca39c-fcb7-4b13-95bc-631f74bc5787",
        "colab": {
          "resources": {
            "http://localhost:8080/nbextensions/google.colab/files.js": {
              "data": "Ly8gQ29weXJpZ2h0IDIwMTcgR29vZ2xlIExMQwovLwovLyBMaWNlbnNlZCB1bmRlciB0aGUgQXBhY2hlIExpY2Vuc2UsIFZlcnNpb24gMi4wICh0aGUgIkxpY2Vuc2UiKTsKLy8geW91IG1heSBub3QgdXNlIHRoaXMgZmlsZSBleGNlcHQgaW4gY29tcGxpYW5jZSB3aXRoIHRoZSBMaWNlbnNlLgovLyBZb3UgbWF5IG9idGFpbiBhIGNvcHkgb2YgdGhlIExpY2Vuc2UgYXQKLy8KLy8gICAgICBodHRwOi8vd3d3LmFwYWNoZS5vcmcvbGljZW5zZXMvTElDRU5TRS0yLjAKLy8KLy8gVW5sZXNzIHJlcXVpcmVkIGJ5IGFwcGxpY2FibGUgbGF3IG9yIGFncmVlZCB0byBpbiB3cml0aW5nLCBzb2Z0d2FyZQovLyBkaXN0cmlidXRlZCB1bmRlciB0aGUgTGljZW5zZSBpcyBkaXN0cmlidXRlZCBvbiBhbiAiQVMgSVMiIEJBU0lTLAovLyBXSVRIT1VUIFdBUlJBTlRJRVMgT1IgQ09ORElUSU9OUyBPRiBBTlkgS0lORCwgZWl0aGVyIGV4cHJlc3Mgb3IgaW1wbGllZC4KLy8gU2VlIHRoZSBMaWNlbnNlIGZvciB0aGUgc3BlY2lmaWMgbGFuZ3VhZ2UgZ292ZXJuaW5nIHBlcm1pc3Npb25zIGFuZAovLyBsaW1pdGF0aW9ucyB1bmRlciB0aGUgTGljZW5zZS4KCi8qKgogKiBAZmlsZW92ZXJ2aWV3IEhlbHBlcnMgZm9yIGdvb2dsZS5jb2xhYiBQeXRob24gbW9kdWxlLgogKi8KKGZ1bmN0aW9uKHNjb3BlKSB7CmZ1bmN0aW9uIHNwYW4odGV4dCwgc3R5bGVBdHRyaWJ1dGVzID0ge30pIHsKICBjb25zdCBlbGVtZW50ID0gZG9jdW1lbnQuY3JlYXRlRWxlbWVudCgnc3BhbicpOwogIGVsZW1lbnQudGV4dENvbnRlbnQgPSB0ZXh0OwogIGZvciAoY29uc3Qga2V5IG9mIE9iamVjdC5rZXlzKHN0eWxlQXR0cmlidXRlcykpIHsKICAgIGVsZW1lbnQuc3R5bGVba2V5XSA9IHN0eWxlQXR0cmlidXRlc1trZXldOwogIH0KICByZXR1cm4gZWxlbWVudDsKfQoKLy8gTWF4IG51bWJlciBvZiBieXRlcyB3aGljaCB3aWxsIGJlIHVwbG9hZGVkIGF0IGEgdGltZS4KY29uc3QgTUFYX1BBWUxPQURfU0laRSA9IDEwMCAqIDEwMjQ7Ci8vIE1heCBhbW91bnQgb2YgdGltZSB0byBibG9jayB3YWl0aW5nIGZvciB0aGUgdXNlci4KY29uc3QgRklMRV9DSEFOR0VfVElNRU9VVF9NUyA9IDMwICogMTAwMDsKCmZ1bmN0aW9uIF91cGxvYWRGaWxlcyhpbnB1dElkLCBvdXRwdXRJZCkgewogIGNvbnN0IHN0ZXBzID0gdXBsb2FkRmlsZXNTdGVwKGlucHV0SWQsIG91dHB1dElkKTsKICBjb25zdCBvdXRwdXRFbGVtZW50ID0gZG9jdW1lbnQuZ2V0RWxlbWVudEJ5SWQob3V0cHV0SWQpOwogIC8vIENhY2hlIHN0ZXBzIG9uIHRoZSBvdXRwdXRFbGVtZW50IHRvIG1ha2UgaXQgYXZhaWxhYmxlIGZvciB0aGUgbmV4dCBjYWxsCiAgLy8gdG8gdXBsb2FkRmlsZXNDb250aW51ZSBmcm9tIFB5dGhvbi4KICBvdXRwdXRFbGVtZW50LnN0ZXBzID0gc3RlcHM7CgogIHJldHVybiBfdXBsb2FkRmlsZXNDb250aW51ZShvdXRwdXRJZCk7Cn0KCi8vIFRoaXMgaXMgcm91Z2hseSBhbiBhc3luYyBnZW5lcmF0b3IgKG5vdCBzdXBwb3J0ZWQgaW4gdGhlIGJyb3dzZXIgeWV0KSwKLy8gd2hlcmUgdGhlcmUgYXJlIG11bHRpcGxlIGFzeW5jaHJvbm91cyBzdGVwcyBhbmQgdGhlIFB5dGhvbiBzaWRlIGlzIGdvaW5nCi8vIHRvIHBvbGwgZm9yIGNvbXBsZXRpb24gb2YgZWFjaCBzdGVwLgovLyBUaGlzIHVzZXMgYSBQcm9taXNlIHRvIGJsb2NrIHRoZSBweXRob24gc2lkZSBvbiBjb21wbGV0aW9uIG9mIGVhY2ggc3RlcCwKLy8gdGhlbiBwYXNzZXMgdGhlIHJlc3VsdCBvZiB0aGUgcHJldmlvdXMgc3RlcCBhcyB0aGUgaW5wdXQgdG8gdGhlIG5leHQgc3RlcC4KZnVuY3Rpb24gX3VwbG9hZEZpbGVzQ29udGludWUob3V0cHV0SWQpIHsKICBjb25zdCBvdXRwdXRFbGVtZW50ID0gZG9jdW1lbnQuZ2V0RWxlbWVudEJ5SWQob3V0cHV0SWQpOwogIGNvbnN0IHN0ZXBzID0gb3V0cHV0RWxlbWVudC5zdGVwczsKCiAgY29uc3QgbmV4dCA9IHN0ZXBzLm5leHQob3V0cHV0RWxlbWVudC5sYXN0UHJvbWlzZVZhbHVlKTsKICByZXR1cm4gUHJvbWlzZS5yZXNvbHZlKG5leHQudmFsdWUucHJvbWlzZSkudGhlbigodmFsdWUpID0+IHsKICAgIC8vIENhY2hlIHRoZSBsYXN0IHByb21pc2UgdmFsdWUgdG8gbWFrZSBpdCBhdmFpbGFibGUgdG8gdGhlIG5leHQKICAgIC8vIHN0ZXAgb2YgdGhlIGdlbmVyYXRvci4KICAgIG91dHB1dEVsZW1lbnQubGFzdFByb21pc2VWYWx1ZSA9IHZhbHVlOwogICAgcmV0dXJuIG5leHQudmFsdWUucmVzcG9uc2U7CiAgfSk7Cn0KCi8qKgogKiBHZW5lcmF0b3IgZnVuY3Rpb24gd2hpY2ggaXMgY2FsbGVkIGJldHdlZW4gZWFjaCBhc3luYyBzdGVwIG9mIHRoZSB1cGxvYWQKICogcHJvY2Vzcy4KICogQHBhcmFtIHtzdHJpbmd9IGlucHV0SWQgRWxlbWVudCBJRCBvZiB0aGUgaW5wdXQgZmlsZSBwaWNrZXIgZWxlbWVudC4KICogQHBhcmFtIHtzdHJpbmd9IG91dHB1dElkIEVsZW1lbnQgSUQgb2YgdGhlIG91dHB1dCBkaXNwbGF5LgogKiBAcmV0dXJuIHshSXRlcmFibGU8IU9iamVjdD59IEl0ZXJhYmxlIG9mIG5leHQgc3RlcHMuCiAqLwpmdW5jdGlvbiogdXBsb2FkRmlsZXNTdGVwKGlucHV0SWQsIG91dHB1dElkKSB7CiAgY29uc3QgaW5wdXRFbGVtZW50ID0gZG9jdW1lbnQuZ2V0RWxlbWVudEJ5SWQoaW5wdXRJZCk7CiAgaW5wdXRFbGVtZW50LmRpc2FibGVkID0gZmFsc2U7CgogIGNvbnN0IG91dHB1dEVsZW1lbnQgPSBkb2N1bWVudC5nZXRFbGVtZW50QnlJZChvdXRwdXRJZCk7CiAgb3V0cHV0RWxlbWVudC5pbm5lckhUTUwgPSAnJzsKCiAgY29uc3QgcGlja2VkUHJvbWlzZSA9IG5ldyBQcm9taXNlKChyZXNvbHZlKSA9PiB7CiAgICBpbnB1dEVsZW1lbnQuYWRkRXZlbnRMaXN0ZW5lcignY2hhbmdlJywgKGUpID0+IHsKICAgICAgcmVzb2x2ZShlLnRhcmdldC5maWxlcyk7CiAgICB9KTsKICB9KTsKCiAgY29uc3QgY2FuY2VsID0gZG9jdW1lbnQuY3JlYXRlRWxlbWVudCgnYnV0dG9uJyk7CiAgaW5wdXRFbGVtZW50LnBhcmVudEVsZW1lbnQuYXBwZW5kQ2hpbGQoY2FuY2VsKTsKICBjYW5jZWwudGV4dENvbnRlbnQgPSAnQ2FuY2VsIHVwbG9hZCc7CiAgY29uc3QgY2FuY2VsUHJvbWlzZSA9IG5ldyBQcm9taXNlKChyZXNvbHZlKSA9PiB7CiAgICBjYW5jZWwub25jbGljayA9ICgpID0+IHsKICAgICAgcmVzb2x2ZShudWxsKTsKICAgIH07CiAgfSk7CgogIC8vIENhbmNlbCB1cGxvYWQgaWYgdXNlciBoYXNuJ3QgcGlja2VkIGFueXRoaW5nIGluIHRpbWVvdXQuCiAgY29uc3QgdGltZW91dFByb21pc2UgPSBuZXcgUHJvbWlzZSgocmVzb2x2ZSkgPT4gewogICAgc2V0VGltZW91dCgoKSA9PiB7CiAgICAgIHJlc29sdmUobnVsbCk7CiAgICB9LCBGSUxFX0NIQU5HRV9USU1FT1VUX01TKTsKICB9KTsKCiAgLy8gV2FpdCBmb3IgdGhlIHVzZXIgdG8gcGljayB0aGUgZmlsZXMuCiAgY29uc3QgZmlsZXMgPSB5aWVsZCB7CiAgICBwcm9taXNlOiBQcm9taXNlLnJhY2UoW3BpY2tlZFByb21pc2UsIHRpbWVvdXRQcm9taXNlLCBjYW5jZWxQcm9taXNlXSksCiAgICByZXNwb25zZTogewogICAgICBhY3Rpb246ICdzdGFydGluZycsCiAgICB9CiAgfTsKCiAgaWYgKCFmaWxlcykgewogICAgcmV0dXJuIHsKICAgICAgcmVzcG9uc2U6IHsKICAgICAgICBhY3Rpb246ICdjb21wbGV0ZScsCiAgICAgIH0KICAgIH07CiAgfQoKICBjYW5jZWwucmVtb3ZlKCk7CgogIC8vIERpc2FibGUgdGhlIGlucHV0IGVsZW1lbnQgc2luY2UgZnVydGhlciBwaWNrcyBhcmUgbm90IGFsbG93ZWQuCiAgaW5wdXRFbGVtZW50LmRpc2FibGVkID0gdHJ1ZTsKCiAgZm9yIChjb25zdCBmaWxlIG9mIGZpbGVzKSB7CiAgICBjb25zdCBsaSA9IGRvY3VtZW50LmNyZWF0ZUVsZW1lbnQoJ2xpJyk7CiAgICBsaS5hcHBlbmQoc3BhbihmaWxlLm5hbWUsIHtmb250V2VpZ2h0OiAnYm9sZCd9KSk7CiAgICBsaS5hcHBlbmQoc3BhbigKICAgICAgICBgKCR7ZmlsZS50eXBlIHx8ICduL2EnfSkgLSAke2ZpbGUuc2l6ZX0gYnl0ZXMsIGAgKwogICAgICAgIGBsYXN0IG1vZGlmaWVkOiAkewogICAgICAgICAgICBmaWxlLmxhc3RNb2RpZmllZERhdGUgPyBmaWxlLmxhc3RNb2RpZmllZERhdGUudG9Mb2NhbGVEYXRlU3RyaW5nKCkgOgogICAgICAgICAgICAgICAgICAgICAgICAgICAgICAgICAgICAnbi9hJ30gLSBgKSk7CiAgICBjb25zdCBwZXJjZW50ID0gc3BhbignMCUgZG9uZScpOwogICAgbGkuYXBwZW5kQ2hpbGQocGVyY2VudCk7CgogICAgb3V0cHV0RWxlbWVudC5hcHBlbmRDaGlsZChsaSk7CgogICAgY29uc3QgZmlsZURhdGFQcm9taXNlID0gbmV3IFByb21pc2UoKHJlc29sdmUpID0+IHsKICAgICAgY29uc3QgcmVhZGVyID0gbmV3IEZpbGVSZWFkZXIoKTsKICAgICAgcmVhZGVyLm9ubG9hZCA9IChlKSA9PiB7CiAgICAgICAgcmVzb2x2ZShlLnRhcmdldC5yZXN1bHQpOwogICAgICB9OwogICAgICByZWFkZXIucmVhZEFzQXJyYXlCdWZmZXIoZmlsZSk7CiAgICB9KTsKICAgIC8vIFdhaXQgZm9yIHRoZSBkYXRhIHRvIGJlIHJlYWR5LgogICAgbGV0IGZpbGVEYXRhID0geWllbGQgewogICAgICBwcm9taXNlOiBmaWxlRGF0YVByb21pc2UsCiAgICAgIHJlc3BvbnNlOiB7CiAgICAgICAgYWN0aW9uOiAnY29udGludWUnLAogICAgICB9CiAgICB9OwoKICAgIC8vIFVzZSBhIGNodW5rZWQgc2VuZGluZyB0byBhdm9pZCBtZXNzYWdlIHNpemUgbGltaXRzLiBTZWUgYi82MjExNTY2MC4KICAgIGxldCBwb3NpdGlvbiA9IDA7CiAgICB3aGlsZSAocG9zaXRpb24gPCBmaWxlRGF0YS5ieXRlTGVuZ3RoKSB7CiAgICAgIGNvbnN0IGxlbmd0aCA9IE1hdGgubWluKGZpbGVEYXRhLmJ5dGVMZW5ndGggLSBwb3NpdGlvbiwgTUFYX1BBWUxPQURfU0laRSk7CiAgICAgIGNvbnN0IGNodW5rID0gbmV3IFVpbnQ4QXJyYXkoZmlsZURhdGEsIHBvc2l0aW9uLCBsZW5ndGgpOwogICAgICBwb3NpdGlvbiArPSBsZW5ndGg7CgogICAgICBjb25zdCBiYXNlNjQgPSBidG9hKFN0cmluZy5mcm9tQ2hhckNvZGUuYXBwbHkobnVsbCwgY2h1bmspKTsKICAgICAgeWllbGQgewogICAgICAgIHJlc3BvbnNlOiB7CiAgICAgICAgICBhY3Rpb246ICdhcHBlbmQnLAogICAgICAgICAgZmlsZTogZmlsZS5uYW1lLAogICAgICAgICAgZGF0YTogYmFzZTY0LAogICAgICAgIH0sCiAgICAgIH07CiAgICAgIHBlcmNlbnQudGV4dENvbnRlbnQgPQogICAgICAgICAgYCR7TWF0aC5yb3VuZCgocG9zaXRpb24gLyBmaWxlRGF0YS5ieXRlTGVuZ3RoKSAqIDEwMCl9JSBkb25lYDsKICAgIH0KICB9CgogIC8vIEFsbCBkb25lLgogIHlpZWxkIHsKICAgIHJlc3BvbnNlOiB7CiAgICAgIGFjdGlvbjogJ2NvbXBsZXRlJywKICAgIH0KICB9Owp9CgpzY29wZS5nb29nbGUgPSBzY29wZS5nb29nbGUgfHwge307CnNjb3BlLmdvb2dsZS5jb2xhYiA9IHNjb3BlLmdvb2dsZS5jb2xhYiB8fCB7fTsKc2NvcGUuZ29vZ2xlLmNvbGFiLl9maWxlcyA9IHsKICBfdXBsb2FkRmlsZXMsCiAgX3VwbG9hZEZpbGVzQ29udGludWUsCn07Cn0pKHNlbGYpOwo=",
              "ok": true,
              "headers": [
                [
                  "content-type",
                  "application/javascript"
                ]
              ],
              "status": 200,
              "status_text": ""
            }
          },
          "base_uri": "https://localhost:8080/",
          "height": 1347
        }
      },
      "cell_type": "code",
      "source": [
        " \n",
        "\n",
        "uploaded = interactive_upload('Договор в законе')\n",
        "\n",
        "GLOBALS__['ContractAnlysingContext'].analyze_contract(uploaded[0])\n",
        "doc = GLOBALS__['ContractAnlysingContext'].contract\n",
        "\n",
        "GLOBALS__['renderer'].render_subj(doc)\n",
        "GLOBALS__['renderer'].render_contents(doc)\n",
        "\n",
        "\n"
      ],
      "execution_count": 8,
      "outputs": [
        {
          "output_type": "stream",
          "text": [
            "Please select \"Договор в законе\" .docx file:\n"
          ],
          "name": "stdout"
        },
        {
          "output_type": "display_data",
          "data": {
            "text/html": [
              "\n",
              "     <input type=\"file\" id=\"files-e0e5a071-0b5b-4318-8ce8-438058b932ee\" name=\"files[]\" multiple disabled />\n",
              "     <output id=\"result-e0e5a071-0b5b-4318-8ce8-438058b932ee\">\n",
              "      Upload widget is only available when the cell has been executed in the\n",
              "      current browser session. Please rerun this cell to enable.\n",
              "      </output>\n",
              "      <script src=\"/nbextensions/google.colab/files.js\"></script> "
            ],
            "text/plain": [
              "<IPython.core.display.HTML object>"
            ]
          },
          "metadata": {
            "tags": []
          }
        },
        {
          "output_type": "stream",
          "text": [
            "Saving ЕЮ Договор Купля-продажа.doc to ЕЮ Договор Купля-продажа (3).doc\n",
            "User uploaded file \"ЕЮ Договор Купля-продажа.doc\" with length 66048 bytes\n",
            "Unexpected error: (<class 'KeyError'>, KeyError(\"There is no item named 'word/document.xml' in the archive\",), <traceback object at 0x7f1edb776288>)\n",
            "Символов в оригинальном документе: 5984\n",
            "❤️ ACCOMPLISHED: \t 0.\t parsing document and detecting document high-level structure\n",
            "🐌 Embedding 981 words... it takes time (☕️?)..\n",
            "INFO:tensorflow:Saver not created because there are no variables in the graph to restore\n"
          ],
          "name": "stdout"
        },
        {
          "output_type": "stream",
          "text": [
            "I0422 10:28:23.212196 139777148024704 saver.py:1483] Saver not created because there are no variables in the graph to restore\n"
          ],
          "name": "stderr"
        },
        {
          "output_type": "stream",
          "text": [
            "Embedding complete 🐌 ; the shape is (1, 981, 1024)\n",
            "Function _emb called 3 times. \n",
            "Execution time max: 19.9641, average: 13.1037\n",
            "Function _embedd_large called 1 times. \n",
            "Execution time max: 33.4513, average: 33.4513\n",
            "Function calculate_distances_per_pattern called 18 times. \n",
            "Execution time max: 3.7717, average: 0.8510\n",
            "----------------- LegalDocument legal_doc.pricecond deleted. Ciao bella!\n"
          ],
          "name": "stdout"
        },
        {
          "output_type": "display_data",
          "data": {
            "text/html": [
              "<h3 style=\"margin:0\">2. Стоимость и порядок расчетов</h3> <div style=\"margin-left:4em; font-size=90%\"><span title=\"0 0.3228\" style=\"background-color:#e9d5cb\">2 </span><span title=\"1 0.2991\" style=\"background-color:#e5d8d1\">. </span><span title=\"2 0.4013\" style=\"background-color:#f2cbb7\">Стоимость </span><span title=\"3 0.3621\" style=\"background-color:#eed0c0\">и </span><span title=\"4 0.3040\" style=\"background-color:#e6d7cf\">порядок </span><span title=\"5 0.2611\" style=\"background-color:#dedcdb\">расчетов </span><span title=\"6 0.2334\" style=\"background-color:#dadce0\">\n",
              " </span><br><span title=\"7 0.0000\" style=\"background-color:#aac7fd\">2.1 </span><span title=\"8 0.0000\" style=\"background-color:#aac7fd\">. </span><span title=\"9 0.0000\" style=\"background-color:#aac7fd\">Указанное </span><span title=\"10 0.0000\" style=\"background-color:#aac7fd\">в </span><span title=\"11 0.0000\" style=\"background-color:#aac7fd\">пункт </span><span title=\"12 0.0000\" style=\"background-color:#aac7fd\">1.1. </span><span title=\"13 0.0000\" style=\"background-color:#aac7fd\">настоящего </span><span title=\"14 0.0000\" style=\"background-color:#aac7fd\">Договора </span><span title=\"15 0.0000\" style=\"background-color:#aac7fd\">Имущество </span><span title=\"16 0.0000\" style=\"background-color:#aac7fd\">продается </span><span title=\"17 0.0000\" style=\"background-color:#aac7fd\">Покупателю </span><span title=\"18 0.0000\" style=\"background-color:#aac7fd\">по </span><span title=\"19 0.0000\" style=\"background-color:#aac7fd\">цене </span><span title=\"20 0.5202\" style=\"background-color:#f7b396\">1 </span><span title=\"21 0.5447\" style=\"background-color:#f7ad90\">000000 </span><span title=\"22 0.4733\" style=\"background-color:#f6bda2\">( </span><span title=\"23 0.3931\" style=\"background-color:#f1ccb8\">Один </span><span title=\"24 0.3203\" style=\"background-color:#e8d6cc\">миллион </span><span title=\"25 0.2611\" style=\"background-color:#dedcdb\">) </span><span title=\"26 0.2156\" style=\"background-color:#d7dce3\">долларов </span><span title=\"27 0.0000\" style=\"background-color:#aac7fd\">США </span><span title=\"28 0.0000\" style=\"background-color:#aac7fd\">, </span><span title=\"29 0.0000\" style=\"background-color:#aac7fd\">в </span><span title=\"30 0.0000\" style=\"background-color:#aac7fd\">том </span><span title=\"31 0.0000\" style=\"background-color:#aac7fd\">числе </span><span title=\"32 0.0000\" style=\"background-color:#aac7fd\">НДС </span><span title=\"33 0.4757\" style=\"background-color:#f6bda2\">20 </span><span title=\"34 0.4106\" style=\"background-color:#f2c9b4\">% </span><span title=\"35 0.3919\" style=\"background-color:#f1ccb8\">. </span><span title=\"36 0.3113\" style=\"background-color:#e7d7ce\">\n",
              " </span><br><span title=\"37 0.2349\" style=\"background-color:#dadce0\">2.2 </span><span title=\"38 0.2001\" style=\"background-color:#d4dbe6\">. </span><span title=\"39 0.3441\" style=\"background-color:#ecd3c5\">Сумма </span><span title=\"40 0.3133\" style=\"background-color:#e7d7ce\">задатка </span><span title=\"41 0.2790\" style=\"background-color:#e1dad6\">в </span><span title=\"42 0.2364\" style=\"background-color:#dadce0\">размере </span><span title=\"43 0.6616\" style=\"background-color:#f18f71\">1 </span><span title=\"44 0.6774\" style=\"background-color:#f08b6e\">000000 </span><span title=\"45 0.5931\" style=\"background-color:#f6a283\">( </span><span title=\"46 0.5143\" style=\"background-color:#f7b497\">Один </span><span title=\"47 0.4375\" style=\"background-color:#f5c4ac\">миллион </span><span title=\"48 0.3840\" style=\"background-color:#f0cdbb\">) </span><span title=\"49 0.3433\" style=\"background-color:#ebd3c6\">долларов </span><span title=\"50 0.3059\" style=\"background-color:#e6d7cf\">США </span><span title=\"51 0.2845\" style=\"background-color:#e2dad5\">, </span><span title=\"52 0.2738\" style=\"background-color:#e1dad6\">в </span><span title=\"53 0.2506\" style=\"background-color:#dddcdc\">том </span><span title=\"54 0.2140\" style=\"background-color:#d6dce4\">числе </span><span title=\"55 0.0000\" style=\"background-color:#aac7fd\">НДС </span><span title=\"56 0.5816\" style=\"background-color:#f6a586\">20 </span><span title=\"57 0.5021\" style=\"background-color:#f7b79b\">% </span><span title=\"58 0.4949\" style=\"background-color:#f7b99e\">, </span><span title=\"59 0.4461\" style=\"background-color:#f5c2aa\">внесенная </span><span title=\"60 0.3856\" style=\"background-color:#f1cdba\">Покупателем </span><span title=\"61 0.3349\" style=\"background-color:#ead4c8\">в </span><span title=\"62 0.2996\" style=\"background-color:#e5d8d1\">соответствии </span><span title=\"63 0.2863\" style=\"background-color:#e3d9d3\">с </span><span title=\"64 0.2700\" style=\"background-color:#e0dbd8\">правилами </span><span title=\"65 0.2656\" style=\"background-color:#dfdbd9\">ст </span><span title=\"66 0.2378\" style=\"background-color:#dadce0\">. </span><span title=\"67 0.2054\" style=\"background-color:#d5dbe5\">448 </span><span title=\"68 0.2339\" style=\"background-color:#dadce0\">Гражданского </span><span title=\"69 0.0000\" style=\"background-color:#aac7fd\">кодекса </span><span title=\"70 0.0000\" style=\"background-color:#aac7fd\">РФ </span><span title=\"71 0.0000\" style=\"background-color:#aac7fd\">, </span><span title=\"72 0.0000\" style=\"background-color:#aac7fd\">засчитывается </span><span title=\"73 0.0000\" style=\"background-color:#aac7fd\">в </span><span title=\"74 0.0000\" style=\"background-color:#aac7fd\">счет </span><span title=\"75 0.0000\" style=\"background-color:#aac7fd\">оплаты </span><span title=\"76 0.0000\" style=\"background-color:#aac7fd\">по </span><span title=\"77 0.0000\" style=\"background-color:#aac7fd\">настоящему </span><span title=\"78 0.0000\" style=\"background-color:#aac7fd\">Договору </span><span title=\"79 0.0000\" style=\"background-color:#aac7fd\">. </span><span title=\"80 0.0000\" style=\"background-color:#aac7fd\">В </span><span title=\"81 0.0000\" style=\"background-color:#aac7fd\">случае </span><span title=\"82 0.0000\" style=\"background-color:#aac7fd\">отказа </span><span title=\"83 0.0000\" style=\"background-color:#aac7fd\">Покупателя </span><span title=\"84 0.0000\" style=\"background-color:#aac7fd\">от </span><span title=\"85 0.0000\" style=\"background-color:#aac7fd\">исполнения </span><span title=\"86 0.0000\" style=\"background-color:#aac7fd\">настоящего </span><span title=\"87 0.0000\" style=\"background-color:#aac7fd\">Договора </span><span title=\"88 0.0000\" style=\"background-color:#aac7fd\">указанный </span><span title=\"89 0.0000\" style=\"background-color:#aac7fd\">задаток </span><span title=\"90 0.0000\" style=\"background-color:#aac7fd\">не </span><span title=\"91 0.0000\" style=\"background-color:#aac7fd\">возвращается </span><span title=\"92 0.0000\" style=\"background-color:#aac7fd\">. </span><span title=\"93 0.0000\" style=\"background-color:#aac7fd\">\n",
              " </span><br><span title=\"94 0.0000\" style=\"background-color:#aac7fd\">2.3 </span><span title=\"95 0.0000\" style=\"background-color:#aac7fd\">. </span><span title=\"96 0.0000\" style=\"background-color:#aac7fd\">Оплата </span><span title=\"97 0.0000\" style=\"background-color:#aac7fd\">за </span><span title=\"98 0.0000\" style=\"background-color:#aac7fd\">материалы </span><span title=\"99 0.0000\" style=\"background-color:#aac7fd\">, </span><span title=\"100 0.0000\" style=\"background-color:#aac7fd\">указанное </span><span title=\"101 0.0000\" style=\"background-color:#aac7fd\">в </span><span title=\"102 0.0000\" style=\"background-color:#aac7fd\">пункт </span><span title=\"103 0.0000\" style=\"background-color:#aac7fd\">1.1. </span><span title=\"104 0.0000\" style=\"background-color:#aac7fd\">настоящего </span><span title=\"105 0.0000\" style=\"background-color:#aac7fd\">Договора </span><span title=\"106 0.0000\" style=\"background-color:#aac7fd\">, </span><span title=\"107 0.0000\" style=\"background-color:#aac7fd\">производится </span><span title=\"108 0.0000\" style=\"background-color:#aac7fd\">путем </span><span title=\"109 0.0000\" style=\"background-color:#aac7fd\">предоставления </span><span title=\"110 0.0000\" style=\"background-color:#aac7fd\">рассрочки </span><span title=\"111 0.0000\" style=\"background-color:#aac7fd\">платежа </span><span title=\"112 0.0000\" style=\"background-color:#aac7fd\">по </span><span title=\"113 0.0000\" style=\"background-color:#aac7fd\">настоящему </span><span title=\"114 0.0000\" style=\"background-color:#aac7fd\">Договору </span><span title=\"115 0.0000\" style=\"background-color:#aac7fd\">. </span><span title=\"116 0.0000\" style=\"background-color:#aac7fd\">Перечисление </span><span title=\"117 0.0000\" style=\"background-color:#aac7fd\">денежных </span><span title=\"118 0.0000\" style=\"background-color:#aac7fd\">средств </span><span title=\"119 0.0000\" style=\"background-color:#aac7fd\">на </span><span title=\"120 0.0000\" style=\"background-color:#aac7fd\">расчетный </span><span title=\"121 0.0000\" style=\"background-color:#aac7fd\">счет </span><span title=\"122 0.0000\" style=\"background-color:#aac7fd\">, </span><span title=\"123 0.0000\" style=\"background-color:#aac7fd\">указанный </span><span title=\"124 0.0000\" style=\"background-color:#aac7fd\">Продавцом </span><span title=\"125 0.0000\" style=\"background-color:#aac7fd\">в </span><span title=\"126 0.0000\" style=\"background-color:#aac7fd\">настоящем </span><span title=\"127 0.0000\" style=\"background-color:#aac7fd\">Договоре </span><span title=\"128 0.0000\" style=\"background-color:#aac7fd\">, </span><span title=\"129 0.0000\" style=\"background-color:#aac7fd\">осуществляется </span><span title=\"130 0.0000\" style=\"background-color:#aac7fd\">Покупателем </span><span title=\"131 -0.0000\" style=\"background-color:#aac7fd\">в </span><span title=\"132 -0.0000\" style=\"background-color:#aac7fd\">размере </span><span title=\"133 0.0000\" style=\"background-color:#aac7fd\">суммы </span><span title=\"134 0.0000\" style=\"background-color:#aac7fd\">, </span><span title=\"135 0.0000\" style=\"background-color:#aac7fd\">указанной </span><span title=\"136 0.0000\" style=\"background-color:#aac7fd\">в </span><span title=\"137 0.0000\" style=\"background-color:#aac7fd\">\n",
              " </span><br><span title=\"138 0.0000\" style=\"background-color:#aac7fd\">пункт </span><span title=\"139 0.0000\" style=\"background-color:#aac7fd\">2.1. </span><span title=\"140 0.0000\" style=\"background-color:#aac7fd\">настоящего </span><span title=\"141 0.0000\" style=\"background-color:#aac7fd\">Договора </span><span title=\"142 0.0000\" style=\"background-color:#aac7fd\">, </span><span title=\"143 0.0000\" style=\"background-color:#aac7fd\">за </span><span title=\"144 0.0000\" style=\"background-color:#aac7fd\">вычетом </span><span title=\"145 0.0000\" style=\"background-color:#aac7fd\">суммы </span><span title=\"146 0.0000\" style=\"background-color:#aac7fd\">, </span><span title=\"147 0.0000\" style=\"background-color:#aac7fd\">указанной </span><span title=\"148 0.0000\" style=\"background-color:#aac7fd\">в </span><span title=\"149 0.0000\" style=\"background-color:#aac7fd\">пункт </span><span title=\"150 0.0000\" style=\"background-color:#aac7fd\">2.2. </span><span title=\"151 0.0000\" style=\"background-color:#aac7fd\">настоящего </span><span title=\"152 0.0000\" style=\"background-color:#aac7fd\">Договора </span><span title=\"153 0.0000\" style=\"background-color:#aac7fd\">, </span><span title=\"154 0.0000\" style=\"background-color:#aac7fd\">и </span><span title=\"155 0.0000\" style=\"background-color:#aac7fd\">в </span><span title=\"156 0.0000\" style=\"background-color:#aac7fd\">сроки </span><span title=\"157 0.0000\" style=\"background-color:#aac7fd\">, </span><span title=\"158 0.0000\" style=\"background-color:#aac7fd\">указанные </span><span title=\"159 0.0000\" style=\"background-color:#aac7fd\">ниже </span><span title=\"160 0.0000\" style=\"background-color:#aac7fd\">: </span><span title=\"161 0.0000\" style=\"background-color:#aac7fd\">\n",
              " </span><br><span title=\"162 0.0000\" style=\"background-color:#aac7fd\">✓ </span><span title=\"163 0.0000\" style=\"background-color:#aac7fd\">не </span><span title=\"164 0.0000\" style=\"background-color:#aac7fd\">позднее </span><span title=\"165 0.5352\" style=\"background-color:#f7b093\">15 </span><span title=\"166 0.4549\" style=\"background-color:#f5c1a9\">числа </span><span title=\"167 0.3825\" style=\"background-color:#f0cdbb\">первого </span><span title=\"168 0.3260\" style=\"background-color:#e9d5cb\">месяца </span><span title=\"169 0.2727\" style=\"background-color:#e0dbd8\">I </span><span title=\"170 0.2316\" style=\"background-color:#d9dce1\">( </span><span title=\"171 0.0000\" style=\"background-color:#aac7fd\">первого </span><span title=\"172 0.0000\" style=\"background-color:#aac7fd\">) </span><span title=\"173 0.0000\" style=\"background-color:#aac7fd\">квартала </span><span title=\"174 0.0000\" style=\"background-color:#aac7fd\">2019 </span><span title=\"175 0.0000\" style=\"background-color:#aac7fd\">года </span><span title=\"176 0.0000\" style=\"background-color:#aac7fd\">в </span><span title=\"177 0.0000\" style=\"background-color:#aac7fd\">сумме </span><span title=\"178 0.5080\" style=\"background-color:#f7b599\">500000 </span><span title=\"179 0.4331\" style=\"background-color:#f4c5ad\">( </span><span title=\"180 0.3494\" style=\"background-color:#ecd3c5\">Пятьсот </span><span title=\"181 0.2694\" style=\"background-color:#e0dbd8\">тысяч </span><span title=\"182 0.2096\" style=\"background-color:#d6dce4\">) </span><span title=\"183 0.0000\" style=\"background-color:#aac7fd\">долларов </span><span title=\"184 0.0000\" style=\"background-color:#aac7fd\">США </span><span title=\"185 0.0000\" style=\"background-color:#aac7fd\">, </span><span title=\"186 0.0000\" style=\"background-color:#aac7fd\">в </span><span title=\"187 0.0000\" style=\"background-color:#aac7fd\">том </span><span title=\"188 0.0000\" style=\"background-color:#aac7fd\">числе </span><span title=\"189 0.0000\" style=\"background-color:#aac7fd\">НДС </span><span title=\"190 0.4364\" style=\"background-color:#f4c5ad\">20 </span><span title=\"191 0.3638\" style=\"background-color:#eed0c0\">% </span><span title=\"192 0.3346\" style=\"background-color:#ead4c8\">; </span><span title=\"193 0.2749\" style=\"background-color:#e1dad6\">\n",
              " </span><br><span title=\"194 0.2195\" style=\"background-color:#d7dce3\">✓ </span><span title=\"195 0.0000\" style=\"background-color:#aac7fd\">не </span><span title=\"196 0.0000\" style=\"background-color:#aac7fd\">позднее </span><span title=\"197 0.4947\" style=\"background-color:#f7b99e\">15 </span><span title=\"198 0.4113\" style=\"background-color:#f2c9b4\">числа </span><span title=\"199 0.3419\" style=\"background-color:#ebd3c6\">первого </span><span title=\"200 0.2791\" style=\"background-color:#e1dad6\">месяца </span><span title=\"201 0.2194\" style=\"background-color:#d7dce3\">II </span><span title=\"202 0.0000\" style=\"background-color:#aac7fd\">( </span><span title=\"203 0.0000\" style=\"background-color:#aac7fd\">второго </span><span title=\"204 0.0000\" style=\"background-color:#aac7fd\">) </span><span title=\"205 0.0000\" style=\"background-color:#aac7fd\">квартала </span><span title=\"206 0.0000\" style=\"background-color:#aac7fd\">2019 </span><span title=\"207 0.0000\" style=\"background-color:#aac7fd\">года </span><span title=\"208 0.0000\" style=\"background-color:#aac7fd\">в </span><span title=\"209 0.0000\" style=\"background-color:#aac7fd\">сумме </span><span title=\"210 0.5114\" style=\"background-color:#f7b599\">500000 </span><span title=\"211 0.4370\" style=\"background-color:#f4c5ad\">( </span><span title=\"212 0.3559\" style=\"background-color:#edd1c2\">Пятьсот </span><span title=\"213 0.2747\" style=\"background-color:#e1dad6\">тысяч </span><span title=\"214 0.2180\" style=\"background-color:#d7dce3\">) </span><span title=\"215 0.0000\" style=\"background-color:#aac7fd\">долларов </span><span title=\"216 0.0000\" style=\"background-color:#aac7fd\">США </span><span title=\"217 0.0000\" style=\"background-color:#aac7fd\">, </span><span title=\"218 0.0000\" style=\"background-color:#aac7fd\">в </span><span title=\"219 0.0000\" style=\"background-color:#aac7fd\">том </span><span title=\"220 0.0000\" style=\"background-color:#aac7fd\">числе </span><span title=\"221 0.0000\" style=\"background-color:#aac7fd\">НДС </span><span title=\"222 0.4527\" style=\"background-color:#f5c1a9\">20 </span><span title=\"223 0.3841\" style=\"background-color:#f0cdbb\">% </span><span title=\"224 0.3491\" style=\"background-color:#ecd3c5\">; </span><span title=\"225 0.2808\" style=\"background-color:#e2dad5\">\n",
              " </span><br><span title=\"226 0.5298\" style=\"background-color:#f7b194\">2.4 </span><span title=\"227 0.4578\" style=\"background-color:#f5c0a7\">. </span><span title=\"228 0.3658\" style=\"background-color:#eed0c0\">Обязательства </span><span title=\"229 0.2853\" style=\"background-color:#e3d9d3\">по </span><span title=\"230 0.2272\" style=\"background-color:#d9dce1\">оплате </span><span title=\"231 0.0000\" style=\"background-color:#aac7fd\">стоимости </span><span title=\"232 0.0000\" style=\"background-color:#aac7fd\">Материалов </span><span title=\"233 0.0000\" style=\"background-color:#aac7fd\">считаются </span><span title=\"234 0.0000\" style=\"background-color:#aac7fd\">исполненными </span><span title=\"235 0.0000\" style=\"background-color:#aac7fd\">Покупателем </span><span title=\"236 0.0000\" style=\"background-color:#aac7fd\">в </span><span title=\"237 0.0000\" style=\"background-color:#aac7fd\">день </span><span title=\"238 0.0000\" style=\"background-color:#aac7fd\">поступления </span><span title=\"239 0.0000\" style=\"background-color:#aac7fd\">денежных </span><span title=\"240 0.0000\" style=\"background-color:#aac7fd\">средств </span><span title=\"241 0.0000\" style=\"background-color:#aac7fd\">, </span><span title=\"242 0.0000\" style=\"background-color:#aac7fd\">в </span><span title=\"243 0.0000\" style=\"background-color:#aac7fd\">полном </span><span title=\"244 0.0000\" style=\"background-color:#aac7fd\">объеме </span><span title=\"245 0.0000\" style=\"background-color:#aac7fd\">на </span><span title=\"246 0.0000\" style=\"background-color:#aac7fd\">расчетный </span><span title=\"247 0.0000\" style=\"background-color:#aac7fd\">счет </span><span title=\"248 0.0000\" style=\"background-color:#aac7fd\">Продавца </span><span title=\"249 0.0000\" style=\"background-color:#aac7fd\">. </span><span title=\"250 0.0000\" style=\"background-color:#aac7fd\">\n",
              " </span><br></div>"
            ],
            "text/plain": [
              "<IPython.core.display.HTML object>"
            ]
          },
          "metadata": {
            "tags": []
          }
        },
        {
          "output_type": "stream",
          "text": [
            "❤️ ACCOMPLISHED: \t 1.\t searching for transaction values in section  \"2. Стоимость и порядок расчетов\"\n",
            "❤️ ACCOMPLISHED: \t 2.\t fetching transaction values\n"
          ],
          "name": "stdout"
        },
        {
          "output_type": "display_data",
          "data": {
            "text/html": [
              "<b style=\"color:#333333\"> =  USD         1,000,000.00 confidence=                0.54</b> "
            ],
            "text/plain": [
              "<IPython.core.display.HTML object>"
            ]
          },
          "metadata": {
            "tags": []
          }
        },
        {
          "output_type": "display_data",
          "data": {
            "text/html": [
              "<b style=\"color:#333333\"> =  USD         1,000,000.00 confidence=                0.68</b> "
            ],
            "text/plain": [
              "<IPython.core.display.HTML object>"
            ]
          },
          "metadata": {
            "tags": []
          }
        },
        {
          "output_type": "display_data",
          "data": {
            "text/html": [
              "<b style=\"color:#333333\"> =  USD           500,000.00 confidence=                0.51</b> "
            ],
            "text/plain": [
              "<IPython.core.display.HTML object>"
            ]
          },
          "metadata": {
            "tags": []
          }
        },
        {
          "output_type": "display_data",
          "data": {
            "text/html": [
              "<b style=\"color:#333333\"> =  USD           500,000.00 confidence=                0.51</b> "
            ],
            "text/plain": [
              "<IPython.core.display.HTML object>"
            ]
          },
          "metadata": {
            "tags": []
          }
        },
        {
          "output_type": "display_data",
          "data": {
            "text/html": [
              "Предмет договора:<h3 style=\"margin:0\">КОММЕРЧЕСКАЯ СДЕЛКА<sup> comm</sup> </h3> confidence:                0.90"
            ],
            "text/plain": [
              "<IPython.core.display.HTML object>"
            ]
          },
          "metadata": {
            "tags": []
          }
        },
        {
          "output_type": "display_data",
          "data": {
            "text/html": [
              "<h3 style=\"margin:0\">Выявленное Содержание документа</h3><ul><li> Договор купли-продажи <sup>line 1</sup></li><li> 1. Предмет договора <sup>line 6</sup></li><li> 2. Стоимость и порядок расчетов <sup>line 8</sup></li><li> 3. Гарантии Продавца <sup>line 16</sup></li><li> 4. Передача Имущества <sup>line 20</sup></li><li> 5. Права и обязанности Сторон <sup>line 23</sup></li><li> 6. Ответственность Сторон <sup>line 30</sup></li><li> 7. Порядок разрешения споров <sup>line 33</sup></li><li> 8. Срок действия Договора и иные условия <sup>line 35</sup></li><li> 9. <sup>line 41</sup></li></ul>"
            ],
            "text/plain": [
              "<IPython.core.display.HTML object>"
            ]
          },
          "metadata": {
            "tags": []
          }
        },
        {
          "output_type": "display_data",
          "data": {
            "image/png": "[encoded data removed]",
            "text/plain": [
              "<Figure size 1440x432 with 1 Axes>"
            ]
          },
          "metadata": {
            "tags": []
          }
        }
      ]
    },
    {
      "metadata": {
        "id": "GnyR3dSIzUyE",
        "colab_type": "text"
      },
      "cell_type": "markdown",
      "source": [
        "# step 3. Поиск вреда"
      ]
    },
    {
      "metadata": {
        "id": "3ob6Mmo4z5BZ",
        "colab_type": "code",
        "colab": {
          "base_uri": "https://localhost:8080/",
          "height": 1350
        },
        "outputId": "942dd3bc-ae8b-44c3-f3ec-1d52ca2f4db8"
      },
      "cell_type": "code",
      "source": [
        "find_and_show_violations()"
      ],
      "execution_count": 146,
      "outputs": [
        {
          "output_type": "stream",
          "text": [
            "Поиск нарушений\n"
          ],
          "name": "stdout"
        },
        {
          "output_type": "display_data",
          "data": {
            "text/html": [
              "Предмет договора:<h3 style=\"margin:0\">КОММЕРЧЕСКАЯ СДЕЛКА<sup> comm</sup> </h3> confidence:                0.90"
            ],
            "text/plain": [
              "<IPython.core.display.HTML object>"
            ]
          },
          "metadata": {
            "tags": []
          }
        },
        {
          "output_type": "stream",
          "text": [
            "Сумма Договора:\n"
          ],
          "name": "stdout"
        },
        {
          "output_type": "display_data",
          "data": {
            "text/html": [
              "<b style=\"color:#333333\"> =  USD         1,000,000.00 confidence=                0.68</b> "
            ],
            "text/plain": [
              "<IPython.core.display.HTML object>"
            ]
          },
          "metadata": {
            "tags": []
          }
        },
        {
          "output_type": "display_data",
          "data": {
            "text/html": [
              "<span title=\"0 0.4106\" style=\"background-color:#f2c9b4\">% </span><span title=\"1 0.3919\" style=\"background-color:#f1ccb8\">. </span><span title=\"2 0.3113\" style=\"background-color:#e7d7ce\">\n",
              " </span><br><span title=\"3 0.2349\" style=\"background-color:#dadce0\">2.2 </span><span title=\"4 0.2001\" style=\"background-color:#d4dbe6\">. </span><span title=\"5 0.3441\" style=\"background-color:#ecd3c5\">сумма </span><span title=\"6 0.3133\" style=\"background-color:#e7d7ce\">задатка </span><span title=\"7 0.2790\" style=\"background-color:#e1dad6\">в </span><span title=\"8 0.2364\" style=\"background-color:#dadce0\">размере </span><span title=\"9 0.6616\" style=\"background-color:#f18f71\">1 </span><span title=\"10 0.6774\" style=\"background-color:#f08b6e\">000000 </span><span title=\"11 0.5931\" style=\"background-color:#f6a283\">( </span><span title=\"12 0.5143\" style=\"background-color:#f7b497\">один </span><span title=\"13 0.4375\" style=\"background-color:#f5c4ac\">миллион </span><span title=\"14 0.3840\" style=\"background-color:#f0cdbb\">) </span><span title=\"15 0.3433\" style=\"background-color:#ebd3c6\">долларов </span><span title=\"16 0.3059\" style=\"background-color:#e6d7cf\">сша </span><span title=\"17 0.2845\" style=\"background-color:#e2dad5\">, </span><span title=\"18 0.2738\" style=\"background-color:#e1dad6\">в </span><span title=\"19 0.2506\" style=\"background-color:#dddcdc\">том </span><span title=\"20 0.2140\" style=\"background-color:#d6dce4\">числе </span><span title=\"21 0.0000\" style=\"background-color:#aac7fd\">ндс </span><span title=\"22 0.5816\" style=\"background-color:#f6a586\">20 </span><span title=\"23 0.5021\" style=\"background-color:#f7b79b\">% </span><span title=\"24 0.4949\" style=\"background-color:#f7b99e\">, </span><span title=\"25 0.4461\" style=\"background-color:#f5c2aa\">внесенная </span><span title=\"26 0.3856\" style=\"background-color:#f1cdba\">покупателем </span><span title=\"27 0.3349\" style=\"background-color:#ead4c8\">в </span><span title=\"28 0.2996\" style=\"background-color:#e5d8d1\">соответствии </span><span title=\"29 0.2863\" style=\"background-color:#e3d9d3\">с </span><span title=\"30 0.2700\" style=\"background-color:#e0dbd8\">правилами </span><span title=\"31 0.2656\" style=\"background-color:#dfdbd9\">ст </span>"
            ],
            "text/plain": [
              "<IPython.core.display.HTML object>"
            ]
          },
          "metadata": {
            "tags": []
          }
        },
        {
          "output_type": "display_data",
          "data": {
            "text/html": [
              "<h2>Общее собрание участников/акционеров</h2>"
            ],
            "text/plain": [
              "<IPython.core.display.HTML object>"
            ]
          },
          "metadata": {
            "tags": []
          }
        },
        {
          "output_type": "display_data",
          "data": {
            "text/html": [
              "<div>диапазон:          100,000,000 RUB  < ..... <                  inf RUB </div><div style=\"color:orange\">конвертация валют            1,000,000 USD  --> RUB </div><div style=\"margin-left:2em\"><div style=\"color:orange\">примерно:            1,000,000 USD  ~~            34,020,000 RUB   </div></div>"
            ],
            "text/plain": [
              "<IPython.core.display.HTML object>"
            ]
          },
          "metadata": {
            "tags": []
          }
        },
        {
          "output_type": "display_data",
          "data": {
            "text/html": [
              "<h2>Совет директоров</h2>"
            ],
            "text/plain": [
              "<IPython.core.display.HTML object>"
            ]
          },
          "metadata": {
            "tags": []
          }
        },
        {
          "output_type": "display_data",
          "data": {
            "text/html": [
              "<div>диапазон:       15,000,000,000 RUB  < ..... <                  inf RUB </div><div style=\"color:orange\">конвертация валют            1,000,000 USD  --> RUB </div><div style=\"margin-left:2em\"><div style=\"color:orange\">примерно:            1,000,000 USD  ~~            34,020,000 RUB   </div></div>"
            ],
            "text/plain": [
              "<IPython.core.display.HTML object>"
            ]
          },
          "metadata": {
            "tags": []
          }
        },
        {
          "output_type": "display_data",
          "data": {
            "text/html": [
              "<div>диапазон:           50,000,000 RUB  < ..... <          100,000,000 RUB </div><div style=\"color:orange\">конвертация валют            1,000,000 USD  --> RUB </div><div style=\"margin-left:2em\"><div style=\"color:orange\">примерно:            1,000,000 USD  ~~            34,020,000 RUB   </div></div>"
            ],
            "text/plain": [
              "<IPython.core.display.HTML object>"
            ]
          },
          "metadata": {
            "tags": []
          }
        },
        {
          "output_type": "display_data",
          "data": {
            "text/html": [
              "<div>диапазон:           25,000,000 USD  < ..... <                  inf RUB </div><div style=\"color:orange\">конвертация валют            1,000,000 USD  --> RUB </div><div style=\"margin-left:2em\"><div style=\"color:orange\">примерно:            1,000,000 USD  ~~            34,020,000 RUB   </div></div><div style=\"color:orange\">конвертация валют           25,000,000 USD  --> RUB </div><div style=\"margin-left:2em\"><div style=\"color:orange\">примерно:           25,000,000 USD  ~~           850,500,000 RUB   </div></div>"
            ],
            "text/plain": [
              "<IPython.core.display.HTML object>"
            ]
          },
          "metadata": {
            "tags": []
          }
        },
        {
          "output_type": "display_data",
          "data": {
            "text/html": [
              "<div>диапазон:           25,000,000 RUB  < ..... <                  inf RUB </div><div style=\"color:orange\">конвертация валют            1,000,000 USD  --> RUB </div><div style=\"margin-left:2em\"><div style=\"color:orange\">примерно:            1,000,000 USD  ~~            34,020,000 RUB   </div></div><div style=\"color:orange\">ТРЕБУЕТСЯ ОДОБРЕНИЕ...</div><div style=\"color:orange\">сумма договора            34,020,000 RUB   БОЛЬШЕ нижней пороговой           25,000,000 RUB  </div><i style=\"margin-top:0.2em; margin-left:2em; font-size:90%\">консультационных, юридических услуг, если стоимость оказываемых услуг превышает 25000000 ( двадцать пять миллионов ) рублей;</i><div style=\"color:red\">требуется одобрение со стороны \"СОВЕТ ДИРЕКТОРОВ\"</div><i style=\"margin-top:0.2em; margin-left:2em; font-size:90%\"><span title=\"0 0.0000\" style=\"background-color:#aac7fd\">консультационных </span><span title=\"1 0.0000\" style=\"background-color:#aac7fd\">, </span><span title=\"2 0.0000\" style=\"background-color:#aac7fd\">юридических </span><span title=\"3 0.0000\" style=\"background-color:#aac7fd\">услуг </span><span title=\"4 0.0000\" style=\"background-color:#aac7fd\">, </span><span title=\"5 0.0000\" style=\"background-color:#aac7fd\">если </span><span title=\"6 0.0000\" style=\"background-color:#aac7fd\">стоимость </span><span title=\"7 0.0000\" style=\"background-color:#aac7fd\">оказываемых </span><span title=\"8 0.8998\" style=\"background-color:#cc403a\">услуг </span><span title=\"9 0.8898\" style=\"background-color:#cd423b\">превышает </span><span title=\"10 0.9099\" style=\"background-color:#ca3b37\">25000000 </span><span title=\"11 0.8201\" style=\"background-color:#dc5d4a\">( </span><span title=\"12 0.7534\" style=\"background-color:#e7745b\">двадцать </span><span title=\"13 0.8205\" style=\"background-color:#dc5d4a\">пять </span><span title=\"14 0.0000\" style=\"background-color:#aac7fd\">миллионов </span><span title=\"15 0.0000\" style=\"background-color:#aac7fd\">) </span><span title=\"16 0.0000\" style=\"background-color:#aac7fd\">рублей </span><span title=\"17 0.0000\" style=\"background-color:#aac7fd\">; </span><span title=\"18 0.0000\" style=\"background-color:#aac7fd\">\n",
              " </span><br></i><br><i style=\"margin-top:0.2em; margin-left:2em; font-size:90%\"><span title=\"0 0.0000\" style=\"background-color:#aac7fd\"> </span></i>"
            ],
            "text/plain": [
              "<IPython.core.display.HTML object>"
            ]
          },
          "metadata": {
            "tags": []
          }
        },
        {
          "output_type": "display_data",
          "data": {
            "text/html": [
              "<div>диапазон:           20,000,000 RUB  < ..... <                  inf RUB </div><div style=\"color:orange\">конвертация валют            1,000,000 USD  --> RUB </div><div style=\"margin-left:2em\"><div style=\"color:orange\">примерно:            1,000,000 USD  ~~            34,020,000 RUB   </div></div><div style=\"color:orange\">ТРЕБУЕТСЯ ОДОБРЕНИЕ...</div><div style=\"color:orange\">сумма договора            34,020,000 RUB   БОЛЬШЕ нижней пороговой           20,000,000 RUB  </div><i style=\"margin-top:0.2em; margin-left:2em; font-size:90%\">органы государственной власти » ), на суммы, превышающие 20000000 ( двадцать миллионов ) рублей, а также со спорами, независимо от их суммы, между обществом и аффилированными лицами акционеров общества, членом совета директоров, генеральным директором: ( i ) предъявление в суд исков или заявлений; ( ii ) изменение исковых требований ( iii ) отказ от иска или</i><div style=\"color:red\">требуется одобрение со стороны \"СОВЕТ ДИРЕКТОРОВ\"</div><i style=\"margin-top:0.2em; margin-left:2em; font-size:90%\"><span title=\"0 0.0000\" style=\"background-color:#aac7fd\">органы </span><span title=\"1 0.0000\" style=\"background-color:#aac7fd\">государственной </span><span title=\"2 0.0000\" style=\"background-color:#aac7fd\">власти </span><span title=\"3 0.0000\" style=\"background-color:#aac7fd\">» </span><span title=\"4 0.0000\" style=\"background-color:#aac7fd\">) </span><span title=\"5 0.0000\" style=\"background-color:#aac7fd\">, </span><span title=\"6 0.0000\" style=\"background-color:#aac7fd\">на </span><span title=\"7 0.0000\" style=\"background-color:#aac7fd\">суммы </span><span title=\"8 0.0000\" style=\"background-color:#aac7fd\">, </span><span title=\"9 0.0000\" style=\"background-color:#aac7fd\">превышающие </span><span title=\"10 0.8445\" style=\"background-color:#d75445\">20000000 </span><span title=\"11 0.7561\" style=\"background-color:#e67259\">( </span><span title=\"12 0.0000\" style=\"background-color:#aac7fd\">двадцать </span><span title=\"13 0.0000\" style=\"background-color:#aac7fd\">миллионов </span><span title=\"14 0.0000\" style=\"background-color:#aac7fd\">) </span><span title=\"15 0.0000\" style=\"background-color:#aac7fd\">рублей </span><span title=\"16 0.0000\" style=\"background-color:#aac7fd\">, </span><span title=\"17 0.0000\" style=\"background-color:#aac7fd\">а </span><span title=\"18 0.0000\" style=\"background-color:#aac7fd\">также </span><span title=\"19 0.0000\" style=\"background-color:#aac7fd\">со </span><span title=\"20 0.0000\" style=\"background-color:#aac7fd\">спорами </span><span title=\"21 0.0000\" style=\"background-color:#aac7fd\">, </span><span title=\"22 0.0000\" style=\"background-color:#aac7fd\">независимо </span><span title=\"23 0.0000\" style=\"background-color:#aac7fd\">от </span><span title=\"24 0.0000\" style=\"background-color:#aac7fd\">их </span><span title=\"25 0.0000\" style=\"background-color:#aac7fd\">суммы </span><span title=\"26 0.0000\" style=\"background-color:#aac7fd\">, </span><span title=\"27 0.0000\" style=\"background-color:#aac7fd\">между </span><span title=\"28 0.0000\" style=\"background-color:#aac7fd\">обществом </span><span title=\"29 0.0000\" style=\"background-color:#aac7fd\">и </span><span title=\"30 0.0000\" style=\"background-color:#aac7fd\">аффилированными </span><span title=\"31 0.0000\" style=\"background-color:#aac7fd\">лицами </span><span title=\"32 0.0000\" style=\"background-color:#aac7fd\">акционеров </span><span title=\"33 0.0000\" style=\"background-color:#aac7fd\">общества </span><span title=\"34 0.0000\" style=\"background-color:#aac7fd\">, </span><span title=\"35 0.0000\" style=\"background-color:#aac7fd\">членом </span><span title=\"36 0.0000\" style=\"background-color:#aac7fd\">совета </span><span title=\"37 0.0000\" style=\"background-color:#aac7fd\">директоров </span><span title=\"38 0.0000\" style=\"background-color:#aac7fd\">, </span><span title=\"39 0.0000\" style=\"background-color:#aac7fd\">генеральным </span><span title=\"40 0.0000\" style=\"background-color:#aac7fd\">директором </span><span title=\"41 0.0000\" style=\"background-color:#aac7fd\">: </span><span title=\"42 0.0000\" style=\"background-color:#aac7fd\">( </span><span title=\"43 0.0000\" style=\"background-color:#aac7fd\">i </span><span title=\"44 0.0000\" style=\"background-color:#aac7fd\">) </span><span title=\"45 0.0000\" style=\"background-color:#aac7fd\">предъявление </span><span title=\"46 0.0000\" style=\"background-color:#aac7fd\">в </span><span title=\"47 0.0000\" style=\"background-color:#aac7fd\">суд </span><span title=\"48 0.0000\" style=\"background-color:#aac7fd\">исков </span><span title=\"49 0.0000\" style=\"background-color:#aac7fd\">или </span><span title=\"50 0.0000\" style=\"background-color:#aac7fd\">заявлений </span><span title=\"51 0.0000\" style=\"background-color:#aac7fd\">; </span><span title=\"52 0.0000\" style=\"background-color:#aac7fd\">( </span><span title=\"53 0.0000\" style=\"background-color:#aac7fd\">ii </span><span title=\"54 0.0000\" style=\"background-color:#aac7fd\">) </span><span title=\"55 0.0000\" style=\"background-color:#aac7fd\">изменение </span><span title=\"56 0.0000\" style=\"background-color:#aac7fd\">исковых </span><span title=\"57 0.0000\" style=\"background-color:#aac7fd\">требований </span><span title=\"58 0.0000\" style=\"background-color:#aac7fd\">( </span><span title=\"59 0.0000\" style=\"background-color:#aac7fd\">iii </span><span title=\"60 0.0000\" style=\"background-color:#aac7fd\">) </span><span title=\"61 0.0000\" style=\"background-color:#aac7fd\">отказ </span><span title=\"62 0.0000\" style=\"background-color:#aac7fd\">от </span><span title=\"63 0.0000\" style=\"background-color:#aac7fd\">иска </span><span title=\"64 0.0000\" style=\"background-color:#aac7fd\">или </span><span title=\"65 0.0000\" style=\"background-color:#aac7fd\">\n",
              " </span><br></i><br><i style=\"margin-top:0.2em; margin-left:2em; font-size:90%\"><span title=\"0 0.0000\" style=\"background-color:#aac7fd\"> </span></i>"
            ],
            "text/plain": [
              "<IPython.core.display.HTML object>"
            ]
          },
          "metadata": {
            "tags": []
          }
        },
        {
          "output_type": "display_data",
          "data": {
            "text/html": [
              "<div>диапазон:           25,000,000 USD  < ..... <                  inf RUB </div><div style=\"color:orange\">конвертация валют            1,000,000 USD  --> RUB </div><div style=\"margin-left:2em\"><div style=\"color:orange\">примерно:            1,000,000 USD  ~~            34,020,000 RUB   </div></div><div style=\"color:orange\">конвертация валют           25,000,000 USD  --> RUB </div><div style=\"margin-left:2em\"><div style=\"color:orange\">примерно:           25,000,000 USD  ~~           850,500,000 RUB   </div></div>"
            ],
            "text/plain": [
              "<IPython.core.display.HTML object>"
            ]
          },
          "metadata": {
            "tags": []
          }
        },
        {
          "output_type": "display_data",
          "data": {
            "text/html": [
              "<h2>Генеральный директор</h2>"
            ],
            "text/plain": [
              "<IPython.core.display.HTML object>"
            ]
          },
          "metadata": {
            "tags": []
          }
        },
        {
          "output_type": "display_data",
          "data": {
            "text/html": [
              "<div>диапазон:           25,000,000 USD  < ..... <                  inf RUB </div><div style=\"color:orange\">конвертация валют            1,000,000 USD  --> RUB </div><div style=\"margin-left:2em\"><div style=\"color:orange\">примерно:            1,000,000 USD  ~~            34,020,000 RUB   </div></div><div style=\"color:orange\">конвертация валют           25,000,000 USD  --> RUB </div><div style=\"margin-left:2em\"><div style=\"color:orange\">примерно:           25,000,000 USD  ~~           850,500,000 RUB   </div></div>"
            ],
            "text/plain": [
              "<IPython.core.display.HTML object>"
            ]
          },
          "metadata": {
            "tags": []
          }
        },
        {
          "output_type": "display_data",
          "data": {
            "text/html": [
              "<div>диапазон:           25,000,000 USD  < ..... <                  inf RUB </div><div style=\"color:orange\">конвертация валют            1,000,000 USD  --> RUB </div><div style=\"margin-left:2em\"><div style=\"color:orange\">примерно:            1,000,000 USD  ~~            34,020,000 RUB   </div></div><div style=\"color:orange\">конвертация валют           25,000,000 USD  --> RUB </div><div style=\"margin-left:2em\"><div style=\"color:orange\">примерно:           25,000,000 USD  ~~           850,500,000 RUB   </div></div>"
            ],
            "text/plain": [
              "<IPython.core.display.HTML object>"
            ]
          },
          "metadata": {
            "tags": []
          }
        },
        {
          "output_type": "display_data",
          "data": {
            "text/html": [
              "<div>диапазон:                    0 RUB  < ..... <           20,000,000 RUB </div><div style=\"color:orange\">конвертация валют            1,000,000 USD  --> RUB </div><div style=\"margin-left:2em\"><div style=\"color:orange\">примерно:            1,000,000 USD  ~~            34,020,000 RUB   </div></div><div style=\"color:orange\">ТРЕБУЕТСЯ ОДОБРЕНИЕ...</div><div style=\"color:orange\">сумма договора            34,020,000 RUB   БОЛЬШЕ нижней пороговой                    0 RUB  </div><i style=\"margin-top:0.2em; margin-left:2em; font-size:90%\"></i><div style=\"color:red\">сумма договора            34,020,000 RUB  БОЛЬШЕ верхней пороговой           20,000,000 RUB  </div>"
            ],
            "text/plain": [
              "<IPython.core.display.HTML object>"
            ]
          },
          "metadata": {
            "tags": []
          }
        },
        {
          "output_type": "display_data",
          "data": {
            "text/html": [
              "<div>диапазон:           25,000,000 USD  < ..... <                  inf RUB </div><div style=\"color:orange\">конвертация валют            1,000,000 USD  --> RUB </div><div style=\"margin-left:2em\"><div style=\"color:orange\">примерно:            1,000,000 USD  ~~            34,020,000 RUB   </div></div><div style=\"color:orange\">конвертация валют           25,000,000 USD  --> RUB </div><div style=\"margin-left:2em\"><div style=\"color:orange\">примерно:           25,000,000 USD  ~~           850,500,000 RUB   </div></div>"
            ],
            "text/plain": [
              "<IPython.core.display.HTML object>"
            ]
          },
          "metadata": {
            "tags": []
          }
        }
      ]
    },
    {
      "metadata": {
        "id": "Qo8nIebSl7rE",
        "colab_type": "text"
      },
      "cell_type": "markdown",
      "source": [
        "### subj correlations"
      ]
    },
    {
      "metadata": {
        "id": "KWXN-Ecjl_GZ",
        "colab_type": "code",
        "colab": {
          "base_uri": "https://localhost:8080/",
          "height": 214
        },
        "outputId": "5642cb2d-3c7c-400e-9cc1-1cce3f4fea87"
      },
      "cell_type": "code",
      "source": [
        "print(GLOBALS__['ContractAnlysingContext'].contract.sections['subj'].body.untokenize_cc())\n",
        "print(\"-\"*20)\n",
        "print(GLOBALS__['CharterAnlysingContext'].constraints['head.directors']['sentences'][1]['subdoc'].untokenize_cc())\n",
        "\n",
        "\n",
        "docA=GLOBALS__['ContractAnlysingContext'].contract.sections['subj'].body\n",
        "docB=GLOBALS__['CharterAnlysingContext'].constraints['head.directors']['sentences'][1]['subdoc']\n",
        "\n",
        "\n",
        "GLOBALS__['CharterAnlysingContext'].constraints['head.directors']['sentences'][1]"
      ],
      "execution_count": 119,
      "outputs": [
        {
          "output_type": "stream",
          "text": [
            "1. Предмет договора \n",
            " 1. Продавец обязуется передать в собственность Покупателя, а Покупатель обязуется принять и оплатить материалы по спецификации.\n",
            "--------------------\n",
            "одобрение сделки или нескольких взаимосвязанных сделок ( за исключением сделок, указанных в пунктах 11, 37 – 40 и 45 статьи 19.1 и в пункте 18 статьи 14.1 настоящего Устава ), на сумму свыше 50 000000 ( пятидесяти миллионов ) рублей ( или эквивалент указанной суммы в любой другой валюте ), но не превышающую 100 000 000 ( сто миллионов ) рублей ( или эквивалент указанной суммы в любой другой валюте ), и сделок ( в том числе нескольких взаимосвязанных сделок ) с имуществом Общества, стоимость которого на основании данных бухгалтерской отчетности Общества за последний отчетный период, предшествующий дню принятия решения о совершении таких сделок, превышает 50 000 000 ( пятьдесят миллионов ) рублей ( или эквивалент указанной суммы в любой другой валюте ), но не превышает 100 000 000 ( сто миллионов ) рублей ( или эквивалент указанной суммы в любой другой валюте ), за исключением сделок, совершаемых в процессе обычной хозяйственной деятельности Общества, сделок с ПАО « Газпром нефть » и обществами, входящими в группу лиц с ним, а также за исключением случаев, когда одобрение указанных сделок относится к компетенции Общего собрания акционеров Общества;\n"
          ],
          "name": "stdout"
        },
        {
          "output_type": "execute_result",
          "data": {
            "text/plain": [
              "{'constraints': [<ml_tools.ProbableValue at 0x7f1fe82d78d0>,\n",
              "  <ml_tools.ProbableValue at 0x7f1fe82d7a20>,\n",
              "  <ml_tools.ProbableValue at 0x7f1fe82d7550>,\n",
              "  <ml_tools.ProbableValue at 0x7f1fe82d7b38>],\n",
              " 'subdoc': <legal_docs.CharterDocument at 0x7f1fe82d77b8>,\n",
              " 'subj_correlation': 0.47449174523353577}"
            ]
          },
          "metadata": {
            "tags": []
          },
          "execution_count": 119
        }
      ]
    },
    {
      "metadata": {
        "id": "TboOY5t3plhK",
        "colab_type": "code",
        "colab": {
          "base_uri": "https://localhost:8080/",
          "height": 34
        },
        "outputId": "8f70084b-7c8a-460f-da36-1377e93b16ee"
      },
      "cell_type": "code",
      "source": [
        "# GLOBALS__['CharterAnlysingContext'].doc.constraints\n",
        "_init_the_code(reset=True)\n",
        " "
      ],
      "execution_count": 95,
      "outputs": [
        {
          "output_type": "stream",
          "text": [
            "❤️ DONE initializing the code\n"
          ],
          "name": "stdout"
        }
      ]
    },
    {
      "metadata": {
        "id": "PGcbxq5poBH5",
        "colab_type": "code",
        "colab": {
          "base_uri": "https://localhost:8080/",
          "height": 1073
        },
        "outputId": "a5a5e029-7e8f-4cad-a926-8159f1726e85"
      },
      "cell_type": "code",
      "source": [
        "from patterns import dist_mean_cosine as DF\n",
        "from text_tools import untokenize\n",
        "\n",
        "#\n",
        "# docA.embedd( GLOBALS__['CharterAnlysingContext'].pattern_factory )\n",
        "docB.embeddings[0:10]\n",
        "docA.embeddings = None\n",
        "import numpy as np\n",
        "\n",
        "\n",
        "def match_contract_to_charter_constraints(contract, charter, charter_constraints, charity_constraints):\n",
        "  \"\"\"\n",
        "  find best constraint to apply to Contract\n",
        "  \"\"\"\n",
        "\n",
        "  r_quotes = []\n",
        "  r_vector = []\n",
        "\n",
        "  quote_slice = slice(0, 17)\n",
        "\n",
        "  if 'subj' not in contract.sections:\n",
        "    raise ValueError(\"contract has no subject section\")\n",
        "\n",
        "  subj = contract.sections['subj'].body\n",
        "  print(subj.untokenize_cc())\n",
        "  print('------')\n",
        "  if subj.embeddings is None:\n",
        "    print(\"Subj embeddings are gone, restoring...\")\n",
        "    subj.embeddings = contract.embeddings[subj.start:subj.end]\n",
        "    #     subj.tokens = doc.tokens[subj.start:subj.end]\n",
        "    #     subj.tokens_cc = doc.tokens_cc[subj.start:subj.end]\n",
        "    #     subj.embedd( GLOBALS__['CharterAnlysingContext'].pattern_factory )\n",
        "    print('\\t\\t sample:', subj.embeddings[0][1:10])\n",
        "\n",
        "  for head_type in charter_constraints:\n",
        "\n",
        "    ##charity:\n",
        "    if head_type in charity_constraints:\n",
        "      print(f'{head_type} has charity constrinats')\n",
        "      \n",
        "      charity_constraints_by_head = charity_constraints[head_type]\n",
        "      charity_constraints_by_head_new = []\n",
        "      \n",
        "      charity_constraints['new.', head_type] = charity_constraints_by_head_new\n",
        "      \n",
        "      for i in range(len(charity_constraints_by_head)):\n",
        "        _tuple = charity_constraints_by_head[i] \n",
        "#       for cc in charity_constraints[head_type]:\n",
        "        _slice = _tuple[0]\n",
        "        emb_charter = charter.sections[head_type].body.embeddings[_slice]\n",
        "        \n",
        "        distance = 1 - DF(emb_charter,  subj.embeddings[5:])\n",
        "        \n",
        "#         cc.add['subj_correlation'] = distance\n",
        "        \n",
        "#         detupling\n",
        "        charity_constraints_by_head_new.append ( {\n",
        "            'slice':_slice,\n",
        "            'subj_correlation': distance,\n",
        "            'confidence': _tuple[1],\n",
        "            'sum': _tuple[2]\n",
        "        })\n",
        "  \n",
        "        print('\\t'*4, 'cc=', charity_constraints_by_head_new[i])\n",
        "        \n",
        "        #         print('\\t\\t---CC', cc[0])\n",
        "        \n",
        "\n",
        "    #       GLOBALS__['CharterAnlysingContext'].doc.sections['head.directors'].body.embeddings[_slice]\n",
        "\n",
        "    ##------------------------charity end\n",
        "    print(f'measuring {head_type} constraints...'.upper())\n",
        "    cc = charter_constraints[head_type]\n",
        "    quotes = cc['sentences']\n",
        "    for quote in quotes:\n",
        "      print()\n",
        "      _q = untokenize(quote['subdoc'].tokens_cc[quote_slice])\n",
        "      print(_q)\n",
        "\n",
        "      distance = 1 - DF(quote['subdoc'].embeddings[quote_slice],\n",
        "                        subj.embeddings[5:])\n",
        "\n",
        "      quote['subj_correlation'] = distance\n",
        "\n",
        "      print(f'distance = {distance:.4f}')\n",
        "\n",
        "      r_quotes.append(_q)\n",
        "      r_vector.append(distance)\n",
        "      r_quotes.append('\\n')\n",
        "      r_vector.append(distance)\n",
        "\n",
        "  GLOBALS__['renderer'].render_color_text(r_quotes, r_vector)\n",
        "  print(r_vector)\n",
        "  print(r_quotes)\n",
        "  \n",
        "  \n",
        "match_contract_to_charter_constraints(GLOBALS__['ContractAnlysingContext'].contract,\n",
        "                                      GLOBALS__['CharterAnlysingContext'].doc,\n",
        "                                      GLOBALS__['CharterAnlysingContext'].constraints,\n",
        "                                      GLOBALS__['CharterAnlysingContext'].charity_constraints\n",
        "                                     )"
      ],
      "execution_count": 150,
      "outputs": [
        {
          "output_type": "stream",
          "text": [
            "1. Предмет договора \n",
            " 1. Продавец обязуется передать в собственность Покупателя, а Покупатель обязуется принять и оплатить материалы по спецификации.\n",
            "------\n",
            "Subj embeddings are gone, restoring...\n",
            "\t\t sample: [ 0.17443621  0.8051945   0.0944066   0.21421747 -0.28625652 -0.4043951\n",
            " -0.47019526  0.40734613  0.14933766]\n",
            "head.all has charity constrinats\n",
            "MEASURING HEAD.ALL CONSTRAINTS...\n",
            "\n",
            "принятие решений о совершении сделок ( в том числе нескольких взаимосвязанных сделок ) на сумму, превышающую\n",
            "distance = 0.4724\n",
            "head.directors has charity constrinats\n",
            "\t\t\t\t cc= {'slice': slice(1199, 1223, None), 'subj_correlation': 0.5397786498069763, 'confidence': 0.9726510673761368, 'sum': 1.9453021347522736}\n",
            "MEASURING HEAD.DIRECTORS CONSTRAINTS...\n",
            "\n",
            "рассмотрение и утверждение крупных инвестиционных проектов Общества, если в совокупности такой проект соответствует следующим основным характеристикам\n",
            "distance = 0.4405\n",
            "\n",
            "одобрение сделки или нескольких взаимосвязанных сделок ( за исключением сделок, указанных в пунктах 11, 37\n",
            "distance = 0.4745\n",
            "\n",
            "одобрение привлечения Обществом любого финансирования со стороны третьих лиц путем заключения одной или нескольких взаимосвязанных сделок на\n",
            "distance = 0.4636\n",
            "\n",
            "одобрение кандидатуры и условий договоров с оценщиками, лицами, привлекаемыми для оказания Обществу консультационных, юридических\n",
            "distance = 0.5176\n",
            "\n",
            "одобрение следующих действий и решений, связанных со спорами Общества с федеральными или региональными органами законодательной,\n",
            "distance = 0.4319\n",
            "\n",
            "одобрение следующих действий и решений, связанных со спорами Общества с лицами, которые не являются аффилированными\n",
            "distance = 0.4823\n",
            "head.gen has charity constrinats\n",
            "MEASURING HEAD.GEN CONSTRAINTS...\n",
            "\n",
            "заключение договоров займа, кредита, а также иных сделок, направленных на привлечение финансирования Общества,\n",
            "distance = 0.5339\n",
            "\n",
            "заключение сделки или нескольких взаимосвязанных сделок ( за исключением сделок, указанных в пунктах 11, 37\n",
            "distance = 0.4872\n",
            "\n",
            "принятие решения об осуществлении следующих действий и решений, связанных со спорами Общества с Органами государственной власти\n",
            "distance = 0.4395\n",
            "\n",
            "принятие решения об осуществлении следующих действий и решений, связанных со спорами Общества с лицами, которые\n",
            "distance = 0.4979\n"
          ],
          "name": "stdout"
        },
        {
          "output_type": "display_data",
          "data": {
            "text/html": [
              "<span title=\"0 0.4724\" style=\"background-color:#d75445\">принятие решений о совершении сделок ( в том числе нескольких взаимосвязанных сделок ) на сумму, превышающую </span><span title=\"1 0.4724\" style=\"background-color:#d75445\">\n",
              " </span><br><span title=\"2 0.4405\" style=\"background-color:#e46e56\">рассмотрение и утверждение крупных инвестиционных проектов Общества, если в совокупности такой проект соответствует следующим основным характеристикам </span><span title=\"3 0.4405\" style=\"background-color:#e46e56\">\n",
              " </span><br><span title=\"4 0.4745\" style=\"background-color:#d65244\">одобрение сделки или нескольких взаимосвязанных сделок ( за исключением сделок, указанных в пунктах 11, 37 </span><span title=\"5 0.4745\" style=\"background-color:#d65244\">\n",
              " </span><br><span title=\"6 0.4636\" style=\"background-color:#da5a49\">одобрение привлечения Обществом любого финансирования со стороны третьих лиц путем заключения одной или нескольких взаимосвязанных сделок на </span><span title=\"7 0.4636\" style=\"background-color:#da5a49\">\n",
              " </span><br><span title=\"8 0.5176\" style=\"background-color:#bd1f2d\">одобрение кандидатуры и условий договоров с оценщиками, лицами, привлекаемыми для оказания Обществу консультационных, юридических </span><span title=\"9 0.5176\" style=\"background-color:#bd1f2d\">\n",
              " </span><br><span title=\"10 0.4319\" style=\"background-color:#e8765c\">одобрение следующих действий и решений, связанных со спорами Общества с федеральными или региональными органами законодательной, </span><span title=\"11 0.4319\" style=\"background-color:#e8765c\">\n",
              " </span><br><span title=\"12 0.4823\" style=\"background-color:#d1493f\">одобрение следующих действий и решений, связанных со спорами Общества с лицами, которые не являются аффилированными </span><span title=\"13 0.4823\" style=\"background-color:#d1493f\">\n",
              " </span><br><span title=\"14 0.5339\" style=\"background-color:#b40426\">заключение договоров займа, кредита, а также иных сделок, направленных на привлечение финансирования Общества, </span><span title=\"15 0.5339\" style=\"background-color:#b40426\">\n",
              " </span><br><span title=\"16 0.4872\" style=\"background-color:#cf453c\">заключение сделки или нескольких взаимосвязанных сделок ( за исключением сделок, указанных в пунктах 11, 37 </span><span title=\"17 0.4872\" style=\"background-color:#cf453c\">\n",
              " </span><br><span title=\"18 0.4395\" style=\"background-color:#e57058\">принятие решения об осуществлении следующих действий и решений, связанных со спорами Общества с Органами государственной власти </span><span title=\"19 0.4395\" style=\"background-color:#e57058\">\n",
              " </span><br><span title=\"20 0.4979\" style=\"background-color:#ca3b37\">принятие решения об осуществлении следующих действий и решений, связанных со спорами Общества с лицами, которые </span><span title=\"21 0.4979\" style=\"background-color:#ca3b37\">\n",
              " </span><br>"
            ],
            "text/plain": [
              "<IPython.core.display.HTML object>"
            ]
          },
          "metadata": {
            "tags": []
          }
        },
        {
          "output_type": "stream",
          "text": [
            "[0.4724038243293762, 0.4724038243293762, 0.4405031204223633, 0.4405031204223633, 0.47449174523353577, 0.47449174523353577, 0.4635617733001709, 0.4635617733001709, 0.517593264579773, 0.517593264579773, 0.43191757798194885, 0.43191757798194885, 0.48232436180114746, 0.48232436180114746, 0.5338621735572815, 0.5338621735572815, 0.48718756437301636, 0.48718756437301636, 0.4395488202571869, 0.4395488202571869, 0.49786868691444397, 0.49786868691444397]\n",
            "['принятие решений о совершении сделок ( в том числе нескольких взаимосвязанных сделок ) на сумму, превышающую', '\\n', 'рассмотрение и утверждение крупных инвестиционных проектов Общества, если в совокупности такой проект соответствует следующим основным характеристикам', '\\n', 'одобрение сделки или нескольких взаимосвязанных сделок ( за исключением сделок, указанных в пунктах 11, 37', '\\n', 'одобрение привлечения Обществом любого финансирования со стороны третьих лиц путем заключения одной или нескольких взаимосвязанных сделок на', '\\n', 'одобрение кандидатуры и условий договоров с оценщиками, лицами, привлекаемыми для оказания Обществу консультационных, юридических', '\\n', 'одобрение следующих действий и решений, связанных со спорами Общества с федеральными или региональными органами законодательной,', '\\n', 'одобрение следующих действий и решений, связанных со спорами Общества с лицами, которые не являются аффилированными', '\\n', 'заключение договоров займа, кредита, а также иных сделок, направленных на привлечение финансирования Общества,', '\\n', 'заключение сделки или нескольких взаимосвязанных сделок ( за исключением сделок, указанных в пунктах 11, 37', '\\n', 'принятие решения об осуществлении следующих действий и решений, связанных со спорами Общества с Органами государственной власти', '\\n', 'принятие решения об осуществлении следующих действий и решений, связанных со спорами Общества с лицами, которые', '\\n']\n"
          ],
          "name": "stdout"
        }
      ]
    },
    {
      "metadata": {
        "id": "hiOWiOKX9MEy",
        "colab_type": "code",
        "colab": {}
      },
      "cell_type": "code",
      "source": [
        "from ml_tools import ProbableValue, np, TokensWithAttention\n",
        "from renderer import as_warning, as_offset, as_error_html, as_msg, as_quote, as_currency\n",
        "from text_tools import untokenize\n",
        "from transaction_values import ValueConstraint\n",
        "\n",
        "\n",
        "class ViolationsFinder:\n",
        "\n",
        "  def find_ranges_by_group(self, charter_constraints, m_convert, verbose=False):\n",
        "    ranges_by_group = {}\n",
        "    for head_group in charter_constraints:\n",
        "      #     print('-' * 20)\n",
        "      group_c = charter_constraints[head_group]\n",
        "      data = self._combine_constraints_in_group(group_c, m_convert, verbose)\n",
        "      ranges_by_group[head_group] = data\n",
        "    return ranges_by_group\n",
        "\n",
        "  @staticmethod\n",
        "  def _combine_constraints_in_group(group_c, m_convert, verbose=False):\n",
        "    # print(group_c)\n",
        "    # print(group_c['section'])\n",
        "\n",
        "    data = {\n",
        "      'name': group_c['section'],\n",
        "      'ranges': {}\n",
        "    }\n",
        "\n",
        "    sentences = group_c['sentences']\n",
        "    #   print (charter_constraints[head_group]['sentences'])\n",
        "    sentence_id = 0\n",
        "    for sentence in sentences:\n",
        "      constraint_low = None\n",
        "      constraint_up = None\n",
        "\n",
        "      sentence_id += 1\n",
        "      #     print (sentence['constraints'])\n",
        "\n",
        "      s_constraints = sentence['constraints']\n",
        "      # большие ищем\n",
        "      maximals = [x for x in s_constraints if x.value.sign > 0]\n",
        "\n",
        "      if len(maximals) > 0:\n",
        "        constraint_low = min(maximals, key=lambda item: m_convert(item.value).value)\n",
        "        # if verbose:\n",
        "        #   print(\"all maximals:\")\n",
        "        #   self.renderer.render_values(maximals)\n",
        "        #   print('\\t\\t\\t constraint_low', constraint_low.value.value)\n",
        "        #   self.renderer.render_values([constraint_low])\n",
        "\n",
        "      minimals = [x for x in s_constraints if x.value.sign <= 0]\n",
        "      if len(minimals) > 0:\n",
        "        constraint_up = min(minimals, key=lambda item: m_convert(item.value).value)\n",
        "        # if verbose:\n",
        "        #   print(\"all: minimals\")\n",
        "        #   self.renderer.render_values(minimals)\n",
        "        #   print('\\t\\t\\t constraint_upper', constraint_up.value.value)\n",
        "        #   self.renderer.render_values([constraint_up])\n",
        "        #   print(\"----X\")\n",
        "\n",
        "      if constraint_low is not None or constraint_up is not None:\n",
        "        data['ranges'][sentence_id] = VConstraint(constraint_low, constraint_up, group_c)\n",
        "\n",
        "    return data\n",
        "    # ==================================================================VIOLATIONS\n",
        "\n",
        "\n",
        "class VConstraint:\n",
        "  def __init__(self, lower, upper, head_group):\n",
        "    _emp = TokensWithAttention([''], [0])\n",
        "    self.lower = ProbableValue(ValueConstraint(0, 'RUB', +1, context=_emp), 0)\n",
        "    self.upper = ProbableValue(ValueConstraint(np.inf, 'RUB', -1, context=_emp), 0)\n",
        "\n",
        "    if lower is not None:\n",
        "      self.lower = lower\n",
        "\n",
        "    if upper is not None:\n",
        "      self.upper = upper\n",
        "\n",
        "    self.head_group = head_group\n",
        "\n",
        "  @staticmethod\n",
        "  def maybe_convert(v: ValueConstraint, convet_m):\n",
        "    html = \"\"\n",
        "    v_converted = v\n",
        "    if v.currency != 'RUB':\n",
        "      v_converted = convet_m(v)\n",
        "      html += as_warning(f\"конвертация валют {as_currency(v)} --> RUB \")\n",
        "      html += as_offset(as_warning(f\"примерно: {as_currency(v)} ~~  {as_currency(v_converted)}  \"))\n",
        "    return v, v_converted, html\n",
        "\n",
        "  def check_contract_value(self, _v: ProbableValue, convet_m, renderer):\n",
        "    greather_lower = False\n",
        "    greather_upper = False\n",
        "\n",
        "    if _v is None:\n",
        "      return as_error_html(\"сумма контракта неизвестна\")\n",
        "    v: ValueConstraint = _v.value\n",
        "\n",
        "    if v is None:\n",
        "      return as_error_html(\"сумма контракта не верна\")\n",
        "\n",
        "    if v.value is None:\n",
        "      return as_error_html(f\"сумма контракта не верна {v.currency}\")\n",
        "    ###----\n",
        "\n",
        "    lower_v = None\n",
        "    upper_v = None\n",
        "    if self.lower is not None:\n",
        "      lower_v: ValueConstraint = self.lower.value\n",
        "    if self.upper is not None:\n",
        "      upper_v: ValueConstraint = self.upper.value\n",
        "\n",
        "    html = as_msg(f\"диапазон: {as_currency(lower_v)} < ..... < {as_currency(upper_v)}\")\n",
        "\n",
        "    v, v_converted, h = self.maybe_convert(v, convet_m)\n",
        "    html += h\n",
        "\n",
        "    if self.lower is not None:\n",
        "      lower_v: ValueConstraint = self.lower.value\n",
        "      lower_v, lower_converted, h = self.maybe_convert(lower_v, convet_m)\n",
        "      html += h\n",
        "\n",
        "      if v_converted.value >= lower_converted.value:\n",
        "        greather_lower = True\n",
        "        html += as_warning(\"требуется одобрение...\".upper())\n",
        "        html += as_warning(\n",
        "          f\"сумма договора  {as_currency(v_converted)}  БОЛЬШЕ нижней пороговой {as_currency(lower_converted)} \")\n",
        "        html += as_quote(untokenize(lower_v.context.tokens))\n",
        "\n",
        "    if self.upper is not None:\n",
        "\n",
        "      upper_v: ValueConstraint = self.upper.value\n",
        "      upper_v, upper_converted, h = self.maybe_convert(upper_v, convet_m)\n",
        "      html += h\n",
        "\n",
        "      if v_converted.value >= upper_converted.value:\n",
        "\n",
        "        html += as_error_html(\n",
        "          f\"сумма договора  {as_currency(v_converted)} БОЛЬШЕ верхней пороговой {as_currency(upper_converted)} \")\n",
        "\n",
        "      elif greather_lower:\n",
        "        head_name = self.head_group['section']\n",
        "        html += as_error_html(f'требуется одобрение со стороны \"{head_name.upper()}\"')\n",
        "\n",
        "        if lower_v.context is not None:\n",
        "          html += as_quote(renderer.to_color_text(lower_v.context.tokens, lower_v.context.attention, _range=[0, 1]))\n",
        "\n",
        "        if upper_v.context is not None:\n",
        "          html += '<br>'\n",
        "          html += as_quote(renderer.to_color_text(upper_v.context.tokens, upper_v.context.attention, _range=[0, 1]))\n",
        "\n",
        "    return html "
      ],
      "execution_count": 0,
      "outputs": []
    },
    {
      "metadata": {
        "id": "QC2aThXL3gD2",
        "colab_type": "code",
        "colab": {
          "base_uri": "https://localhost:8080/",
          "height": 247
        },
        "outputId": "9dba4069-bac1-4eb6-c061-33899144d6c9"
      },
      "cell_type": "code",
      "source": [
        "ccc=GLOBALS__['CharterAnlysingContext'].charity_constraints\n",
        "ccc['head.directors']\n",
        "_slice = ccc['head.directors'][0][0]\n",
        "GLOBALS__['CharterAnlysingContext'].doc.sections['head.directors'].body.embeddings[_slice]\n"
      ],
      "execution_count": 133,
      "outputs": [
        {
          "output_type": "execute_result",
          "data": {
            "text/plain": [
              "array([[-0.46010733, -0.18712154,  0.18096054, ...,  0.3665863 ,\n",
              "        -0.38246417,  0.4640348 ],\n",
              "       [-0.41679308,  0.24270381, -0.4342171 , ..., -0.45355657,\n",
              "        -0.70935386,  0.03015661],\n",
              "       [-1.2562714 , -0.5032677 , -0.08174672, ...,  0.57876754,\n",
              "        -0.35709888,  0.31210342],\n",
              "       ...,\n",
              "       [-0.5900506 , -0.131162  , -0.03140806, ...,  1.0957189 ,\n",
              "        -0.5394912 ,  0.00325301],\n",
              "       [ 0.00790921,  0.27347597, -0.51857495, ...,  0.58054775,\n",
              "        -0.86094785,  0.38368887],\n",
              "       [-0.7098246 , -0.21378139, -0.68788403, ..., -0.06164981,\n",
              "         0.4408977 ,  0.7901598 ]], dtype=float32)"
            ]
          },
          "metadata": {
            "tags": []
          },
          "execution_count": 133
        }
      ]
    },
    {
      "metadata": {
        "id": "2uZVU4M1osVo",
        "colab_type": "code",
        "colab": {
          "base_uri": "https://localhost:8080/",
          "height": 34
        },
        "outputId": "a72adba6-e888-40b4-f1e1-441f487b4e29"
      },
      "cell_type": "code",
      "source": [
        "DIST_FUNC(docA.embeddings,  docB.embeddings)"
      ],
      "execution_count": 48,
      "outputs": [
        {
          "output_type": "execute_result",
          "data": {
            "text/plain": [
              "0.44626832008361816"
            ]
          },
          "metadata": {
            "tags": []
          },
          "execution_count": 48
        }
      ]
    },
    {
      "metadata": {
        "id": "NQMHGw2NzZU1",
        "colab_type": "text"
      },
      "cell_type": "markdown",
      "source": [
        "# step 4. Протокол\n",
        "\n"
      ]
    },
    {
      "metadata": {
        "id": "85aO_7B1zKFq",
        "colab_type": "code",
        "colab": {}
      },
      "cell_type": "code",
      "source": [
        "uploaded = interactive_upload('Протокол, протокую и буду протоковать')\n",
        "GLOBALS__['ProtocolAnlysingContext'].process(uploaded[0])"
      ],
      "execution_count": 0,
      "outputs": []
    },
    {
      "metadata": {
        "id": "TKaWFEoWcK_u",
        "colab_type": "code",
        "colab": {}
      },
      "cell_type": "code",
      "source": [
        "## do preparation here   \n",
        "\n",
        "#1.\n",
        "_init_import_code_from_gh()\n",
        "#2.\n",
        "_init_embedder()\n",
        "#3.\n",
        "_init_the_code()\n",
        "#4. \n",
        "_init_charters()\n",
        "#5. \n",
        "# _init_contracts()"
      ],
      "execution_count": 0,
      "outputs": []
    },
    {
      "metadata": {
        "id": "jzn0JxepKxei",
        "colab_type": "text"
      },
      "cell_type": "markdown",
      "source": [
        "# Sample Charter"
      ]
    },
    {
      "metadata": {
        "id": "BiDo5o2YcRkH",
        "colab_type": "code",
        "colab": {}
      },
      "cell_type": "code",
      "source": [
        ""
      ],
      "execution_count": 0,
      "outputs": []
    },
    {
      "metadata": {
        "id": "Yi0yZHbPsXHg",
        "colab_type": "code",
        "colab": {}
      },
      "cell_type": "code",
      "source": [
        "SAMPLE=\"\"\"\n",
        " \n",
        "\n",
        "Общие положения\n",
        "\n",
        "\n",
        "\n",
        "\n",
        "\n",
        " \n",
        "\n",
        "\n",
        "Уставный капитал\n",
        "\n",
        "\n",
        "xxvii Уставный капитал Общества составляется из номинальной стоимости долей его Участников и составляет  6 734 244 615 (Шесть миллиардов семьсот тридцать четыре миллиона двести сорок четыре тысячи шестьсот пятнадцать) рублей.\n",
        "\n",
        "\n",
        "\n",
        "xxxv Общее собрание участников не вправе принимать решение о распределении прибыли Общества между Участниками Общества:\n",
        "\n",
        "       • до полной оплаты всего уставного капитала Общества;\n",
        "\n",
        "     \n",
        "\n",
        "Органы управления\n",
        "\n",
        "\n",
        "lxxxiv Органами управления Общества являются:\n",
        "\n",
        "\n",
        "       • Общее собрание участников Общества;\n",
        "\n",
        "\n",
        "       • Совет директоров – Коллегиальный орган управления;\n",
        "\n",
        "\n",
        "       • Правление Общества - Коллегиальный исполнительный орган;\n",
        "\n",
        "\n",
        "       • Генеральный директор - Единоличный исполнительный орган.\n",
        "\n",
        "\n",
        "Общее собрание участников Общества\n",
        "\n",
        "\n",
        "lxxxvi Высшим органом управления Общества является Общее собрание участников Общества. Очередное Общее собрание участников Общества  рассматривает и утверждает результаты деятельности Общества за финансовый год и проводится в период с 1 марта по 30 апреля. Проводимые помимо очередного Общие собрания участников Общества являются внеочередными. Внеочередные Общие собрания участников Общества проводятся в случаях, когда этого требуют интересы Общества.\n",
        "\n",
        "\n",
        "lxxxvii К исключительной компетенции Общего собрания участников Общества относятся следующие вопросы:\n",
        "\n",
        "    \n",
        "\n",
        "       12) установление размера, состава, формы и порядка внесения дополнительных вкладов, определение общей стоимости таких дополнительных вкладов, а также иных условий внесения дополнительных вкладов Участниками Общества;\n",
        "       13) принятие решения о согласии на совершение или о последующем одобрении крупных сделок, связанных с приобретением, отчуждением или возможностью отчуждения Обществом прямо или косвенно имущества, цена или балансовая стоимость которого составляет 25 (Двадцать пять) и более процентов балансовой стоимости имущества Общества по данным бухгалтерской отчетности на последнюю отчетную дату;\n",
        "       14) принятие решения о согласии на совершение или о последующем одобрении сделок, в совершении которых имеется заинтересованность, если цена или стоимость имущества, являющегося предметом сделки,  превышает 10 (десять) процентов балансовой процентов  балансовой стоимости имущества Общества по данным бухгалтерской отчетности на последнюю отчетную дату.\n",
        "       15) принятие решения о реорганизации или ликвидации Общества;\n",
        "       26) принятие решения о согласии на совершение или о последующем одобрении сделок мены, дарения, иных сделок, предусматривающих безвозмездное отчуждение имущества Общества либо оплату (встречное предоставление) в неденежной форме,  одобрение договоров спонсорского и благотворительного характера, независимо от суммы сделки, за исключением случаев, когда такие сделки требуют получения согласия органов управления Общества как крупные сделки и сделки с заинтересованностью;\n",
        "       27) решение вопросов, отнесенных к компетенции Совета директоров, в случае, если Совет директоров не избран;\n",
        "       28) решение иных вопросов, отнесенных в соответствии с действующим законодательством к компетенции Общего собрания участников Общества.\n",
        "\n",
        "\n",
        "\n",
        "Совет директоров Общества\n",
        "\n",
        "\n",
        "      1. Совет директоров осуществляет общее руководство деятельностью Общества, а также контроль над исполнением решений Общего собрания участников Общества и иной деятельностью его исполнительного органа.\n",
        "\n",
        "      2. Совет директоров состоит из 4 (Четырех) человек.\n",
        "\n",
        "      3. К компетенции Совета директоров относится:\n",
        "\n",
        "\n",
        "      14) утверждение процедур внутреннего контроля за финансово-хозяйственной деятельностью Общества, в том числе утверждение положения о внутрихозяйственном контроле, документальных проверках и ревизиях;\n",
        "\n",
        "      15) принятие решения о согласии на совершение или о последующем одобрении сделок, связанных с осуществлением денежных выплат и (или) приобретением, отчуждением и возможностью отчуждения, обременением и возможностью обременения Обществом имущества, в рамках которых цена предложения или стоимость отчуждаемого имущества, определенная на момент совершения сделки, превышает в рамках одной сделки или нескольких взаимосвязанных сделок, заключенных в течение 6 (шести) месяцев, в совокупности 50 000 000 (Пятьдесят миллионов) рублей или эквивалент данной суммы в иной валюте, за исключением случаев, когда такие сделки требуют получения согласия органов управления Общества  как крупные сделки и сделки с заинтересованностью, а также для сделок, одобряемых в соответствии с подпунктами 22)-26) пункта 11.2 настоящего Устава, подпунктами 17) –22), 30) пункта 12.3 настоящего Устава;\n",
        "\n",
        "      16) принятие решения о начале/урегулировании любых судебных споров и разбирательств, цена иска по которым превышает 50 000 000 (Пятьдесят миллионов) рублей (или эквивалент в другой валюте) в том числе, подписание мирового соглашения, признание иска, отказ от иска, а также совершение любых других процессуальных действий, кроме судебных споров, принятие решения, в отношении которых отнесено к компетенции Общего собрания участников Общества;\n",
        "\n",
        "\n",
        "Правление Общества\n",
        "\n",
        "\n",
        " 1. Правление является Коллегиальным исполнительным органом Общества. Правление Общества избирается Общим собранием участников Общества в количестве  2 (Двух) человек – членов Правления Общества.\n",
        "\n",
        "\n",
        "12. В случае непринятия Правлением решения по одному и тому же вопросу в ходе 2 (Двух) надлежаще созванных заседаний Правления по любым причинам, включая отсутствие кворума и недостаточность количества голосов для принятия решения, вопрос, по которому не было принято решение, выносится на рассмотрение Совета директоров (включается в повестку дня следующего созываемого Совета директоров). Во избежание сомнений, решение не может рассматриваться как непринятое для целей настоящего пункта, в случае, если решение не принято вследствие того, что против него проголосовали или воздержались от голосования все члены Правления.\n",
        "\n",
        "13. К компетенции Правления Общества относятся:\n",
        "\n",
        "\n",
        "\n",
        "         • согласование кандидатур на должности руководителей структурных подразделений (за исключением филиалов и представительств) Общества, а также условий трудовых договоров с указанными лицами, согласование освобождения от должностей указанных лиц;\n",
        "\n",
        "\n",
        "         • принятие решения о согласии на совершение или о последующем одобрении сделок, связанных с осуществлением денежных выплат и (или) приобретением, отчуждением и возможностью отчуждения, обременением и возможностью обременения Обществом имущества, стоимость которого в рамках одной сделки или нескольких взаимосвязанных сделок в совокупности составляет от 1 000 000 (Одного) миллиона рублей до 50 000 000 (Пятьдесят миллионов) рублей или эквивалент данной суммы в иной валюте, за исключением случаев, когда  такие сделки требуют получения согласия органов управления Общества  в соответствии с Законом и Уставом;\n",
        "\n",
        "\n",
        "         • принятие решения по приемке и оплате Обществом выполненных работ по Агентскому договору на строительство объекта «Южно-Приобский газоперерабатывающий завод (ЮП ГПЗ). Газокомпрессорная станция ЮЛТ Приобского месторождения» №10-875 от 29.09.2010 г., заключенному между Обществом и ООО «Газпромнефть-Хантос».\n",
        "\n",
        "\n",
        "Генеральный директор Общества\n",
        "\n",
        "\n",
        "cvi Руководство текущей деятельностью Общества осуществляется единоличным исполнительным органом Общества - Генеральным директором. Генеральный директор избирается Общим собранием участников Общества сроком на 3 (Три) года, если решением Общего собрания участников не предусмотрен иной срок. Генеральный директор может быть переизбран решением Общего собрания участников Общества неограниченное количество раз. Генеральный директор действует на основании Устава Общества и трудового договора, заключаемого с ним Обществом.\n",
        "\n",
        "\n",
        "       • утверждать внутренние документы, регулирующие текущую (операционную) деятельность Общества, и локальные нормативные акты (за исключением локальных нормативных актов, устанавливающих системы оплаты труда и других документов, утверждение которых отнесено к компетенции иных органов управления Общества);\n",
        "\n",
        "       • вносить вопросы на рассмотрение Общих собраний участников Общества, заседания Совета директоров;\n",
        "\n",
        "       • принимать решения по другим вопросам, относящимся к его компетенции.\n",
        "\n",
        "\n",
        "\n",
        "cxlv Недействительность любого положения настоящего Устава не влечет недействительности остальных его положений. В случае вступления в силу новых нормативных актов, в соответствии с которыми отдельные положения настоящего Устава становятся недействительными, и которые требуют внести изменения в Устав, Участники обязаны принять решения о внесении соответствующих изменений в настоящий Устав.\n",
        "\n",
        "v Полное фирменное наименование Общества на русском языке:\n",
        "\n",
        "      Общество с ограниченной ответственностью «Южно-Приобский газоперерабатывающий завод».\n",
        "\n",
        "      Сокращенное наименование на русском языке:\n",
        "\n",
        "      ООО «Южно-Приобский ГПЗ».\n",
        "\n",
        "\n",
        "      Полное фирменное наименование Общества на английском языке: Yuzhno-Priobsky Gaz Processing Plant Limited Liability Company.\n",
        "\n",
        "\n",
        "      Сокращенное наименование на английском языке:  Yuzhno-Priobsky GPP LLC.\n",
        "\n",
        "\n",
        "\"\"\"\n",
        "\n",
        "GLOBALS__['CharterAnlysingContext'].analyze_charter(SAMPLE)"
      ],
      "execution_count": 0,
      "outputs": []
    },
    {
      "metadata": {
        "id": "XpYNZGtEJRmR",
        "colab_type": "code",
        "colab": {}
      },
      "cell_type": "code",
      "source": [
        "\n",
        "from IPython.core.display import display, HTML\n",
        "doc = GLOBALS__['CharterAnlysingContext'].doc\n",
        "GLOBALS__['renderer'].render_contents(doc)\n",
        "\n",
        " \n",
        "GLOBALS__['renderer'].render_charter_parsing_results(GLOBALS__['CharterAnlysingContext'].org,GLOBALS__['CharterAnlysingContext'].constraints)\n",
        "\n",
        "\n",
        "def render_sections(sections):\n",
        "  html = '<h3>Выявленное секции документа</h4>'\n",
        "  html += \"<ul>\"\n",
        "  for section_type in sections:\n",
        "    section:HeadlineMeta = sections[section_type]\n",
        "    body = section.body.untokenize_cc()[:1000]\n",
        "    headline = section.subdoc.untokenize_cc()[:500]\n",
        "    #     line = doc.structure.structure[i].to_string(doc.tokens_cc)\n",
        "    html += f'<li><h3> {headline} <sup>type: {section_type}</sup> </h3> <p>{body}</p> </li>'\n",
        "  html += \"</ul>\"\n",
        "\n",
        "  display(HTML(html))\n",
        "  \n",
        "def render_contents(doc):\n",
        "  html = '<h3>Выявленное Содержание документа</h4>'\n",
        "  html += \"<ul>\"\n",
        "  for i in doc.structure.headline_indexes:\n",
        "    line = doc.structure.structure[i].to_string(doc.tokens_cc)\n",
        "    html += f'<li> {line} <sup>line {i}</sup></li>'\n",
        "  html += \"</ul>\"\n",
        "\n",
        "  display(HTML(html))\n",
        "  \n",
        "render_sections(doc.sections)"
      ],
      "execution_count": 0,
      "outputs": []
    },
    {
      "metadata": {
        "id": "8tyMy_vPK8GQ",
        "colab_type": "code",
        "colab": {}
      },
      "cell_type": "code",
      "source": [
        ""
      ],
      "execution_count": 0,
      "outputs": []
    },
    {
      "metadata": {
        "id": "6TUp36Q8K8ea",
        "colab_type": "text"
      },
      "cell_type": "markdown",
      "source": [
        "#Upload charter"
      ]
    },
    {
      "metadata": {
        "id": "twCGd5TFcTKI",
        "colab_type": "code",
        "colab": {}
      },
      "cell_type": "code",
      "source": [
        "if False:\n",
        "  uploaded = interactive_upload('Charter')  \n",
        "  org, rz = GLOBALS__['CharterAnlysingContext'] .analyze_charter(uploaded[0])\n",
        "\n",
        "\n"
      ],
      "execution_count": 0,
      "outputs": []
    },
    {
      "metadata": {
        "id": "dGRLbJ5kJuaO",
        "colab_type": "code",
        "colab": {}
      },
      "cell_type": "code",
      "source": [
        "_init_contracts()"
      ],
      "execution_count": 0,
      "outputs": []
    },
    {
      "metadata": {
        "id": "R6c9siQi9k_U",
        "colab_type": "code",
        "colab": {}
      },
      "cell_type": "code",
      "source": [
        "GLOBALS__"
      ],
      "execution_count": 0,
      "outputs": []
    },
    {
      "metadata": {
        "id": "6ZVFmJtpK_fG",
        "colab_type": "text"
      },
      "cell_type": "markdown",
      "source": [
        "#Upload contract"
      ]
    },
    {
      "metadata": {
        "id": "HEyYz8iPJ-4X",
        "colab_type": "code",
        "colab": {}
      },
      "cell_type": "code",
      "source": [
        "uploaded = interactive_upload('Договор')  \n"
      ],
      "execution_count": 0,
      "outputs": []
    },
    {
      "metadata": {
        "id": "xIOjRq7EKQA9",
        "colab_type": "code",
        "colab": {}
      },
      "cell_type": "code",
      "source": [
        "GLOBALS__['ContractAnlysingContext'].verbosity_level=4\n",
        "GLOBALS__['ContractAnlysingContext'].analyze_contract(uploaded[0])"
      ],
      "execution_count": 0,
      "outputs": []
    },
    {
      "metadata": {
        "id": "Eb6EitqjLF3O",
        "colab_type": "text"
      },
      "cell_type": "markdown",
      "source": [
        "# Violations"
      ]
    },
    {
      "metadata": {
        "id": "9YWejFEKKUrc",
        "colab_type": "code",
        "colab": {}
      },
      "cell_type": "code",
      "source": [
        "#@title Настройки { run: \"auto\", display-mode: \"form\" }\n",
        "USD_to_RUB = 64.02 #@param {type:\"number\"}\n",
        "RUB_to_USD = 1.0/USD_to_RUB\n",
        "\n",
        "# print('USD_to_RUB=',USD_to_RUB)\n",
        "# print('RUB_to_USD=',RUB_to_USD)\n",
        "\n",
        "\n",
        "\n",
        "currency_converter = {\n",
        "  'USD': USD_to_RUB,\n",
        "  'RUB': 1.0\n",
        "}\n",
        "\n",
        "print(currency_converter)\n",
        "\n",
        "find_and_show_violations()"
      ],
      "execution_count": 0,
      "outputs": []
    },
    {
      "metadata": {
        "id": "8igUeguItG3s",
        "colab_type": "code",
        "colab": {}
      },
      "cell_type": "code",
      "source": [
        "doc=GLOBALS__['ContractAnlysingContext'].contract\n",
        "GLOBALS__['renderer'].render_contents(doc)\n"
      ],
      "execution_count": 0,
      "outputs": []
    },
    {
      "metadata": {
        "id": "BhF8cq_PKKaK",
        "colab_type": "code",
        "colab": {}
      },
      "cell_type": "code",
      "source": [
        "\n",
        "\n",
        "h = GLOBALS__['renderer'].render_constraint_values(GLOBALS__['CharterAnlysingContext'].constraints)\n",
        "display(HTML(h))\n",
        "\n",
        "\n"
      ],
      "execution_count": 0,
      "outputs": []
    },
    {
      "metadata": {
        "id": "s2HHEc7cCZv-",
        "colab_type": "text"
      },
      "cell_type": "markdown",
      "source": [
        "#violations (move and erase)"
      ]
    },
    {
      "metadata": {
        "id": "ffboeHGOCdcM",
        "colab_type": "code",
        "colab": {}
      },
      "cell_type": "code",
      "source": [
        "from transaction_values import ValueConstraint\n",
        "\n",
        "print('Поиск нарушений')\n",
        "from IPython.core.display import display, HTML\n",
        "\n",
        "contract = GLOBALS__['ContractAnlysingContext'].contract\n",
        "charter = GLOBALS__['CharterAnlysingContext'].doc\n",
        "charter_constraints = GLOBALS__['CharterAnlysingContext'].constraints  # XXX: move to doc\n",
        "\n",
        "#       h = GLOBALS__['renderer'].render_constraint_values(GLOBALS__['CharterAnlysingContext'].constraints)\n",
        "#       display(HTML(h))\n",
        "\n",
        "\n",
        "# def max_constraint_val(constraints):\n",
        "renderer = GLOBALS__['renderer']\n",
        "renderer.render_subj(contract)\n",
        "print()\n",
        "# GLOBALS__['renderer'].render_values(contract.contract_values)\n",
        "\n",
        "print(\"----------\")\n",
        "\n",
        "# GLOBALS__['renderer'].render_values([most_confident_value])\n",
        "# GLOBALS__['renderer'].render_color_text (most_confident_value.value.context[0], most_confident_value.value.context[1], _range=[0,1])\n",
        "\n",
        "# for c in contract.contract_values:\n",
        "#   print(c.confidence)\n",
        "#   print(c.value.value)\n",
        "# #   if c.value.value > best_c.value.value:\n",
        "\n",
        "\n",
        "# #   print(c.value.context)\n",
        "#   GLOBALS__['renderer'].render_color_text (c.value.context[0], c.value.context[1], _range=[0,1])\n",
        "\n",
        "# GLOBALS__['renderer'].render_contents(contract)\n",
        "\n",
        "\n",
        "# -------------------charter\n",
        "\n",
        "charter_constraints = GLOBALS__['CharterAnlysingContext'].constraints  # XXX: move to doc\n",
        "\n",
        "\n",
        "from ml_tools import ProbableValue\n",
        "\n",
        "currency_converter = {\n",
        "  'USD': USD_to_RUB,\n",
        "  'RUB': 1.0\n",
        "\n",
        "}\n",
        "import copy\n",
        "\n",
        "\n",
        "def convert(v, currency_converter=currency_converter):\n",
        "  v_converted = copy.copy(v)\n",
        "  if v.currency in currency_converter:\n",
        "    v_converted.value = currency_converter[v.currency] * v.value\n",
        "    v_converted.currency = 'RUB'\n",
        "    return v_converted\n",
        "  else:\n",
        "    display(HTML(as_error_html(\n",
        "      f\"мы не в настроении (пока) конвертировать {v.currency} --> RUB. Это вообще валюта какой страны? Румынии?\")))\n",
        "    return v\n",
        "\n",
        "\n",
        "from text_tools import untokenize\n",
        "import numpy as np\n",
        "\n",
        "class VConstraint:\n",
        "  def __init__(self, lower, upper, head_group):\n",
        "    self.lower = ProbableValue( ValueConstraint(0, 'RUB', +1), 0 )\n",
        "    self.upper = ProbableValue( ValueConstraint(np.inf, 'RUB', -1), 0 )\n",
        "    \n",
        "    if lower is not None:\n",
        "      self.lower = lower\n",
        "     \n",
        "\n",
        "    if upper is not None:\n",
        "      self.upper = upper\n",
        "     \n",
        "      \n",
        "    self.head_group = head_group\n",
        "\n",
        "  def maybe_convert(self, v: ValueConstraint, currency_converter):\n",
        "    html = \"\"\n",
        "    v_converted = v\n",
        "    if v.currency != 'RUB':\n",
        "      v_converted = convert(v, currency_converter)\n",
        "      html += as_warning(f\"конвертация валют {as_currency(v)} --> RUB \")\n",
        "      html += as_offset(as_warning(f\"примерно: {as_currency(v)} ~~  {as_currency(v_converted)}  \"))\n",
        "    return v, v_converted, html\n",
        "\n",
        "  def check_contract_value(self, _v: ProbableValue, currency_converter):\n",
        "    greather_lower = False\n",
        "    greather_upper = False\n",
        "\n",
        "    if _v is None:\n",
        "      return as_error_html(\"сумма контракта не известна\")\n",
        "    v: ValueConstraint = _v.value\n",
        "\n",
        "    if v is None:\n",
        "      return as_error_html(\"сумма контракта не верна\")\n",
        "\n",
        "    if v.value is None:\n",
        "      return as_error_html(f\"сумма контракта не верна {v.currency}\")\n",
        "    ###----\n",
        "\n",
        "    lower_v = None\n",
        "    upper_v = None\n",
        "    if self.lower is not None:\n",
        "      lower_v: ValueConstraint = self.lower.value\n",
        "    if self.upper is not None:\n",
        "      upper_v: ValueConstraint = self.upper.value\n",
        "\n",
        "    html = as_msg(f\"диапазон: {as_currency(lower_v)} < ..... < {as_currency(upper_v)}\")\n",
        "\n",
        "    v, v_converted, h = self.maybe_convert(v, currency_converter)\n",
        "    html += h\n",
        "\n",
        "    if self.lower is not None:\n",
        "      lower_v: ValueConstraint = self.lower.value\n",
        "      lower_v, lower_converted, h = self.maybe_convert(lower_v, currency_converter)\n",
        "      html += h\n",
        "\n",
        "      if v_converted.value >= lower_converted.value:\n",
        "        greather_lower = True\n",
        "        html += as_warning(\"требуется одобрение...\".upper())\n",
        "        html += as_warning(\n",
        "          f\"сумма договора  {as_currency(v_converted)}  БОЛЬШЕ нижней пороговой {as_currency(lower_converted)} \")\n",
        "        html += as_quote(untokenize(lower_v.context[0]))\n",
        "\n",
        "    if self.upper is not None:\n",
        "\n",
        "      upper_v: ValueConstraint = self.upper.value\n",
        "      upper_v, upper_converted, h = self.maybe_convert(upper_v, currency_converter)\n",
        "      html += h\n",
        "\n",
        "      if v_converted.value >= upper_converted.value:\n",
        "\n",
        "        html += as_error_html(\n",
        "          f\"сумма договора  {as_currency(v_converted)} БОЛЬШЕ верхней пороговой {as_currency(upper_converted)} \")\n",
        "\n",
        "      elif greather_lower:\n",
        "        head_name = self.head_group['section']\n",
        "        html += as_error_html(f'требуется одобрение со стороны \"{head_name.upper()}\"')\n",
        "\n",
        "        if lower_v.context is not None:\n",
        "          html += as_quote(renderer.to_color_text(lower_v.context[0], lower_v.context[1], _range=[0, 1]))\n",
        "        if upper_v.context is not None:\n",
        "          html += '<br>'\n",
        "          html += as_quote(renderer.to_color_text(upper_v.context[0], upper_v.context[1], _range=[0, 1]))\n",
        "\n",
        "    return html\n",
        "\n",
        "\n",
        "# -----------\n",
        "\n",
        "\n",
        "def _combine_constraints_in_group(group_c, verbose=False):\n",
        "  # print(group_c)\n",
        "  # print(group_c['section'])\n",
        "\n",
        "  data = {\n",
        "    'name': group_c['section'],\n",
        "    'ranges': {}\n",
        "  }\n",
        "\n",
        "  sentences = group_c['sentences']\n",
        "  #   print (charter_constraints[head_group]['sentences'])\n",
        "  sentence_id = 0\n",
        "  for sentence in sentences:\n",
        "    constraint_low = None\n",
        "    constraint_up = None\n",
        "\n",
        "    sentence_id += 1\n",
        "    #     print (sentence['constraints'])\n",
        "\n",
        "    s_constraints = sentence['constraints']\n",
        "    # большие ищем\n",
        "    maximals = [x for x in s_constraints if x.value.sign > 0]\n",
        "\n",
        "    if len(maximals) > 0:\n",
        "      constraint_low = min(maximals, key=lambda item: convert(item.value, currency_converter).value)\n",
        "      if verbose:\n",
        "        print(\"all maximals:\")\n",
        "        renderer.render_values(maximals)\n",
        "        print('\\t\\t\\t constraint_low', constraint_low.value.value)\n",
        "        renderer.render_values([constraint_low])\n",
        "\n",
        "    minimals = [x for x in s_constraints if x.value.sign <= 0]\n",
        "    if len(minimals) > 0:\n",
        "      constraint_up = min(minimals, key=lambda item: convert(item.value, currency_converter).value)\n",
        "      if verbose:\n",
        "        print(\"all: minimals\")\n",
        "        renderer.render_values(minimals)\n",
        "        print('\\t\\t\\t constraint_upper', constraint_up.value.value)\n",
        "        renderer.render_values([constraint_up])\n",
        "        print(\"----X\")\n",
        "\n",
        "    if constraint_low is not None or constraint_up is not None:\n",
        "      data['ranges'][sentence_id] = VConstraint(constraint_low, constraint_up, group_c)\n",
        "\n",
        "  return data\n",
        "\n",
        "\n",
        "def find_ranges_by_group(charter_constraints):\n",
        "  ranges_by_group = {}\n",
        "  for head_group in charter_constraints:\n",
        "    #     print('-' * 20)\n",
        "    group_c = charter_constraints[head_group]\n",
        "    data = _combine_constraints_in_group(group_c)\n",
        "    ranges_by_group[head_group] = data\n",
        "  return ranges_by_group\n",
        "\n",
        "\n",
        "def select_most_confident_if_almost_equal(a: ProbableValue, alternative: ProbableValue, equality_range=0):\n",
        "  if abs(convert(a.value).value - convert(alternative.value).value) < equality_range:\n",
        "    if a.confidence > alternative.confidence:\n",
        "      return a\n",
        "    else:\n",
        "      return alternative\n",
        "  return a\n",
        "\n",
        "\n",
        "def find_contract_best_value(contract):\n",
        "  best_value: ProbableValue = max(contract.contract_values,\n",
        "                                  key=lambda item: convert(item.value, currency_converter).value)\n",
        "\n",
        "  most_confident_value = max(contract.contract_values, key=lambda item: item.confidence)\n",
        "  best_value = select_most_confident_if_almost_equal(best_value, most_confident_value, 20)\n",
        "\n",
        "  return best_value\n",
        "\n",
        "\n",
        "best_value = find_contract_best_value(contract)\n",
        "\n",
        "\n",
        "# rendering:----------------------------\n",
        "\n",
        "\n",
        "def _render_violations(ranges_by_group, best_value):\n",
        "  for group_key in ranges_by_group:\n",
        "    group = ranges_by_group[group_key]\n",
        "    #   print(group['name'])\n",
        "    display(HTML(as_headline_2(group['name'])))\n",
        "\n",
        "    for rk in group['ranges']:\n",
        "      r = group['ranges'][rk]\n",
        "      display(HTML(r.check_contract_value(best_value, currency_converter)))\n",
        "\n",
        "\n",
        "print(\"Сумма Договора:\")\n",
        "renderer.render_values([best_value])\n",
        "renderer.render_color_text(best_value.value.context[0], best_value.value.context[1], _range=[0, 1])\n",
        "\n",
        "_render_violations(\n",
        "  find_ranges_by_group(charter_constraints),\n",
        "  best_value)\n",
        "\n",
        "display(HTML(renderer.render_constraint_values(charter_constraints)))\n"
      ],
      "execution_count": 0,
      "outputs": []
    },
    {
      "metadata": {
        "id": "IdYrfpIZCnZp",
        "colab_type": "text"
      },
      "cell_type": "markdown",
      "source": [
        "## чистовик"
      ]
    },
    {
      "metadata": {
        "id": "dvXylOnCCqDN",
        "colab_type": "code",
        "colab": {}
      },
      "cell_type": "code",
      "source": [
        "from transaction_values import ValueConstraint\n",
        "\n",
        "print('Поиск нарушений')\n",
        "from IPython.core.display import display, HTML\n",
        "\n",
        "contract = GLOBALS__['ContractAnlysingContext'].contract\n",
        "charter = GLOBALS__['CharterAnlysingContext'].doc\n",
        "charter_constraints = GLOBALS__['CharterAnlysingContext'].constraints  # XXX: move to doc\n",
        "\n",
        " \n",
        "renderer = GLOBALS__['renderer']\n",
        "renderer.render_subj(contract)\n",
        "  \n",
        "\n",
        "charter_constraints = GLOBALS__['CharterAnlysingContext'].constraints  # XXX: move to doc\n",
        "\n",
        "\n",
        "from ml_tools import ProbableValue\n",
        "from text_tools import untokenize\n",
        "import numpy as np\n",
        "\n",
        "\n",
        "def convert(v):\n",
        "  \n",
        "  v_converted = copy.copy(v)\n",
        "  if v.currency in currency_converter:\n",
        "    v_converted.value = currency_converter[v.currency] * v.value\n",
        "    v_converted.currency = 'RUB'\n",
        "    return v_converted\n",
        "  else:\n",
        "    display(HTML(as_error_html(\n",
        "      f\"мы не в настроении (пока) конвертировать {v.currency} --> RUB. Это вообще валюта какой страны? Румынии?\")))\n",
        "    return v\n",
        "\n",
        "\n",
        " \n",
        "\n",
        "\n",
        "def _combine_constraints_in_group(group_c, verbose=False):\n",
        "  # print(group_c)\n",
        "  # print(group_c['section'])\n",
        "\n",
        "  data = {\n",
        "    'name': group_c['section'],\n",
        "    'ranges': {}\n",
        "  }\n",
        "\n",
        "  sentences = group_c['sentences']\n",
        "  #   print (charter_constraints[head_group]['sentences'])\n",
        "  sentence_id = 0\n",
        "  for sentence in sentences:\n",
        "    constraint_low = None\n",
        "    constraint_up = None\n",
        "\n",
        "    sentence_id += 1\n",
        "    #     print (sentence['constraints'])\n",
        "\n",
        "    s_constraints = sentence['constraints']\n",
        "    # большие ищем\n",
        "    maximals = [x for x in s_constraints if x.value.sign > 0]\n",
        "\n",
        "    if len(maximals) > 0:\n",
        "      constraint_low = min(maximals, key=lambda item: convert(item.value, currency_converter).value)\n",
        "      if verbose:\n",
        "        print(\"all maximals:\")\n",
        "        renderer.render_values(maximals)\n",
        "        print('\\t\\t\\t constraint_low', constraint_low.value.value)\n",
        "        renderer.render_values([constraint_low])\n",
        "\n",
        "    minimals = [x for x in s_constraints if x.value.sign <= 0]\n",
        "    if len(minimals) > 0:\n",
        "      constraint_up = min(minimals, key=lambda item: convert(item.value, currency_converter).value)\n",
        "      if verbose:\n",
        "        print(\"all: minimals\")\n",
        "        renderer.render_values(minimals)\n",
        "        print('\\t\\t\\t constraint_upper', constraint_up.value.value)\n",
        "        renderer.render_values([constraint_up])\n",
        "        print(\"----X\")\n",
        "\n",
        "    if constraint_low is not None or constraint_up is not None:\n",
        "      data['ranges'][sentence_id] = VConstraint(constraint_low, constraint_up, group_c)\n",
        "\n",
        "  return data\n",
        "\n",
        "\n",
        "def find_ranges_by_group(charter_constraints):\n",
        "  ranges_by_group = {}\n",
        "  for head_group in charter_constraints:\n",
        "    #     print('-' * 20)\n",
        "    group_c = charter_constraints[head_group]\n",
        "    data = _combine_constraints_in_group(group_c)\n",
        "    ranges_by_group[head_group] = data\n",
        "  return ranges_by_group\n",
        "\n",
        "\n",
        "def select_most_confident_if_almost_equal(a: ProbableValue, alternative: ProbableValue, equality_range=0):\n",
        "  if abs(convert(a.value).value - convert(alternative.value).value) < equality_range:\n",
        "    if a.confidence > alternative.confidence:\n",
        "      return a\n",
        "    else:\n",
        "      return alternative\n",
        "  return a\n",
        "\n",
        "\n",
        "def find_contract_best_value(contract):\n",
        "  best_value: ProbableValue = max(contract.contract_values,\n",
        "                                  key=lambda item: convert(item.value, currency_converter).value)\n",
        "\n",
        "  most_confident_value = max(contract.contract_values, key=lambda item: item.confidence)\n",
        "  best_value = select_most_confident_if_almost_equal(best_value, most_confident_value, 20)\n",
        "\n",
        "  return best_value\n",
        "\n",
        "\n",
        "best_value = find_contract_best_value(contract)\n",
        "\n",
        "\n",
        "# rendering:----------------------------\n",
        "\n",
        "\n",
        "def _render_violations(ranges_by_group, best_value):\n",
        "  for group_key in ranges_by_group:\n",
        "    group = ranges_by_group[group_key]\n",
        "    #   print(group['name'])\n",
        "    display(HTML(as_headline_2(group['name'])))\n",
        "\n",
        "    for rk in group['ranges']:\n",
        "      r = group['ranges'][rk]\n",
        "      display(HTML(r.check_contract_value(best_value, currency_converter, renderer)))\n",
        "\n",
        "\n",
        "print(\"Сумма Договора:\")\n",
        "renderer.render_values([best_value])\n",
        "renderer.render_color_text(best_value.value.context[0], best_value.value.context[1], _range=[0, 1])\n",
        "\n",
        "_render_violations(\n",
        "  find_ranges_by_group(charter_constraints),\n",
        "  best_value)\n",
        "\n",
        "display(HTML(renderer.render_constraint_values(charter_constraints)))\n"
      ],
      "execution_count": 0,
      "outputs": []
    },
    {
      "metadata": {
        "id": "T1D7Zdk9L5GY",
        "colab_type": "text"
      },
      "cell_type": "markdown",
      "source": [
        "#~~~~ Garbage, to be removed"
      ]
    },
    {
      "metadata": {
        "id": "ItuAG1-lClzz",
        "colab_type": "code",
        "colab": {}
      },
      "cell_type": "code",
      "source": [
        ""
      ],
      "execution_count": 0,
      "outputs": []
    },
    {
      "metadata": {
        "id": "m4fYh_qZL4Kb",
        "colab_type": "code",
        "colab": {}
      },
      "cell_type": "code",
      "source": [
        ""
      ],
      "execution_count": 0,
      "outputs": []
    },
    {
      "metadata": {
        "id": "ijcdJr7MCXgI",
        "colab_type": "code",
        "colab": {}
      },
      "cell_type": "code",
      "source": [
        "# violations "
      ],
      "execution_count": 0,
      "outputs": []
    },
    {
      "metadata": {
        "id": "IiDHL0oNGfOU",
        "colab_type": "code",
        "colab": {}
      },
      "cell_type": "code",
      "source": [
        "\n",
        "from IPython.core.display import display, HTML\n",
        "def render_subj(self, doc):\n",
        "      from demo import subject_types_dict\n",
        "      subj=doc.subject\n",
        "      s_name=subject_types_dict[ subj[0]].upper()\n",
        "      \n",
        "      display(HTML(f'Предмет договора:<h3 style=\"margin:0\">{s_name}<sup> {subj[0]}</sup> </h3> confidence:{subj[1]:20,.2f}'))\n",
        "\n",
        "r=GLOBALS__['renderer']\n",
        "# GLOBALS__['renderer'].render_subj = render_subj \n",
        "\n",
        "import types\n",
        "r.render_subj = types.MethodType( render_subj, r )\n",
        "\n",
        "contract = GLOBALS__['ContractAnlysingContext'].contract\n",
        "GLOBALS__['renderer'].render_subj(contract)\n"
      ],
      "execution_count": 0,
      "outputs": []
    },
    {
      "metadata": {
        "id": "KcCp4a1F-gl0",
        "colab_type": "code",
        "colab": {}
      },
      "cell_type": "code",
      "source": [
        "doc = GLOBALS__['CharterAnlysingContext'].doc\n",
        "from IPython.core.display import display, HTML\n",
        "\n",
        "\n",
        "def render_contents(doc):\n",
        "  html='<h3>Выявленное Содержание документа</h4>'\n",
        "  html+=\"<ul>\"\n",
        "  for i in doc.structure.headline_indexes:\n",
        "    line = doc.structure.structure[i].to_string(doc.tokens_cc)\n",
        "    html+=f'<li> {line} <sup>line {i}</sup></li>'\n",
        "  html+=\"</ul>\"\n",
        " \n",
        "  \n",
        "  display(HTML(html))\n",
        "    \n",
        "render_contents(doc)"
      ],
      "execution_count": 0,
      "outputs": []
    },
    {
      "metadata": {
        "id": "uHc0PpyRMq5r",
        "colab_type": "code",
        "colab": {}
      },
      "cell_type": "code",
      "source": [
        "print(GLOBALS__['ContractAnlysingContext'].contract)\n"
      ],
      "execution_count": 0,
      "outputs": []
    },
    {
      "metadata": {
        "id": "P_2rjssX0KUp",
        "colab_type": "code",
        "colab": {}
      },
      "cell_type": "code",
      "source": [
        "\n",
        "\n",
        "# constraints = GLOBALS__['CharterAnlysingContext'].constraints\n",
        "\n",
        "# GLOBALS__['renderer'].render_values(GLOBALS__['ContractAnlysingContext'].contract_values)\n",
        "# GLOBALS__['renderer'].render_charter_parsing_results(GLOBALS__['CharterAnlysingContext'].org, GLOBALS__['CharterAnlysingContext'].constraints)\n",
        "\n",
        "\n",
        "# # for i in \n",
        "\n",
        "# for headkey in constraints:\n",
        "#   cc = constraints[headkey]\n",
        "#   print (cc)\n",
        "#   print (cc['section'])\n",
        "#   print (cc['caption'])\n",
        "  \n",
        "#   for s in cc['sentences']:\n",
        "#     print ('\\t\\t',s['constraints'])\n",
        "#     c = s['constraints']\n",
        "#     for vc in c:\n",
        "#       print(f'\\t\\t\\t {vc.value} \\t {vc.sign} \\t {vc.currency}')\n",
        "\n"
      ],
      "execution_count": 0,
      "outputs": []
    }
  ]
}