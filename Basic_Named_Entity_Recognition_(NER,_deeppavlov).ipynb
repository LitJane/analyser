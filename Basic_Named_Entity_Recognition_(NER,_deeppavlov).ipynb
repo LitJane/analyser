{
  "nbformat": 4,
  "nbformat_minor": 0,
  "metadata": {
    "colab": {
      "name": "Basic Named Entity Recognition (NER, deeppavlov).ipynb",
      "version": "0.3.2",
      "provenance": [],
      "collapsed_sections": [],
      "toc_visible": true,
      "include_colab_link": true
    },
    "kernelspec": {
      "name": "python3",
      "display_name": "Python 3"
    }
  },
  "cells": [
    {
      "cell_type": "markdown",
      "metadata": {
        "id": "view-in-github",
        "colab_type": "text"
      },
      "source": [
        "<a href=\"https://colab.research.google.com/github/compartia/nlp_tools/blob/master/Basic_Named_Entity_Recognition_(NER%2C_deeppavlov).ipynb\" target=\"_parent\"><img src=\"https://colab.research.google.com/assets/colab-badge.svg\" alt=\"Open In Colab\"/></a>"
      ]
    },
    {
      "cell_type": "markdown",
      "metadata": {
        "id": "QF4JPDUuiYKc",
        "colab_type": "text"
      },
      "source": [
        "# Deeep Pavlov:  Named Entity Recognition (NER)\n"
      ]
    },
    {
      "cell_type": "code",
      "metadata": {
        "id": "Dx9eKKaSigan",
        "colab_type": "code",
        "colab": {}
      },
      "source": [
        "!pip3 install deeppavlov\n",
        "!pip install git+https://github.com/facebookresearch/fastText.git"
      ],
      "execution_count": 0,
      "outputs": []
    },
    {
      "cell_type": "code",
      "metadata": {
        "id": "zyMRjBQEjRIm",
        "colab_type": "code",
        "colab": {}
      },
      "source": [
        "from deeppavlov import build_model, configs"
      ],
      "execution_count": 0,
      "outputs": []
    },
    {
      "cell_type": "code",
      "metadata": {
        "id": "4bMBI3FslyFx",
        "colab_type": "code",
        "colab": {}
      },
      "source": [
        "!python -m deeppavlov install squad_bert"
      ],
      "execution_count": 0,
      "outputs": []
    },
    {
      "cell_type": "code",
      "metadata": {
        "id": "exk53jZxmE4C",
        "colab_type": "code",
        "colab": {
          "base_uri": "https://localhost:8080/",
          "height": 978
        },
        "outputId": "7c9a161a-ed08-4f19-dc8f-d8ca790c2d3e"
      },
      "source": [
        "ner_model = build_model(configs.ner.ner_rus_bert , download=True)"
      ],
      "execution_count": 5,
      "outputs": [
        {
          "output_type": "stream",
          "text": [
            "WARNING: Logging before flag parsing goes to stderr.\n",
            "W0731 19:53:42.612014 139853390546816 deprecation_wrapper.py:119] From /usr/local/lib/python3.6/dist-packages/bert_dp/tokenization.py:125: The name tf.gfile.GFile is deprecated. Please use tf.io.gfile.GFile instead.\n",
            "\n",
            "2019-07-31 19:53:43.149 INFO in 'deeppavlov.core.data.simple_vocab'['simple_vocab'] at line 112: [loading vocabulary from /root/.deeppavlov/models/ner_rus_bert/tag.dict]\n",
            "I0731 19:53:43.149455 139853390546816 simple_vocab.py:112] [loading vocabulary from /root/.deeppavlov/models/ner_rus_bert/tag.dict]\n",
            "W0731 19:53:43.171106 139853390546816 deprecation_wrapper.py:119] From /usr/local/lib/python3.6/dist-packages/deeppavlov/core/models/tf_model.py:38: The name tf.Session is deprecated. Please use tf.compat.v1.Session instead.\n",
            "\n",
            "W0731 19:53:43.173881 139853390546816 deprecation_wrapper.py:119] From /usr/local/lib/python3.6/dist-packages/deeppavlov/core/models/tf_model.py:223: The name tf.placeholder is deprecated. Please use tf.compat.v1.placeholder instead.\n",
            "\n",
            "W0731 19:53:43.175630 139853390546816 deprecation_wrapper.py:119] From /usr/local/lib/python3.6/dist-packages/deeppavlov/core/models/tf_model.py:223: The name tf.train.Optimizer is deprecated. Please use tf.compat.v1.train.Optimizer instead.\n",
            "\n",
            "Using TensorFlow backend.\n",
            "W0731 19:53:43.349140 139853390546816 deprecation_wrapper.py:119] From /usr/local/lib/python3.6/dist-packages/deeppavlov/core/models/tf_model.py:194: The name tf.train.AdamOptimizer is deprecated. Please use tf.compat.v1.train.AdamOptimizer instead.\n",
            "\n",
            "W0731 19:53:43.366504 139853390546816 deprecation_wrapper.py:119] From /usr/local/lib/python3.6/dist-packages/deeppavlov/models/bert/bert_ner.py:126: The name tf.ConfigProto is deprecated. Please use tf.compat.v1.ConfigProto instead.\n",
            "\n",
            "W0731 19:53:43.403004 139853390546816 deprecation_wrapper.py:119] From /usr/local/lib/python3.6/dist-packages/deeppavlov/models/bert/bert_ner.py:227: The name tf.placeholder_with_default is deprecated. Please use tf.compat.v1.placeholder_with_default instead.\n",
            "\n",
            "W0731 19:53:43.448044 139853390546816 deprecation_wrapper.py:119] From /usr/local/lib/python3.6/dist-packages/bert_dp/modeling.py:178: The name tf.variable_scope is deprecated. Please use tf.compat.v1.variable_scope instead.\n",
            "\n",
            "W0731 19:53:45.384159 139853390546816 lazy_loader.py:50] \n",
            "The TensorFlow contrib module will not be included in TensorFlow 2.0.\n",
            "For more information, please see:\n",
            "  * https://github.com/tensorflow/community/blob/master/rfcs/20180907-contrib-sunset.md\n",
            "  * https://github.com/tensorflow/addons\n",
            "  * https://github.com/tensorflow/io (for I/O related ops)\n",
            "If you depend on functionality not listed there, please file an issue.\n",
            "\n",
            "W0731 19:53:45.412016 139853390546816 deprecation.py:506] From /usr/local/lib/python3.6/dist-packages/bert_dp/modeling.py:366: calling dropout (from tensorflow.python.ops.nn_ops) with keep_prob is deprecated and will be removed in a future version.\n",
            "Instructions for updating:\n",
            "Please use `rate` instead of `keep_prob`. Rate should be set to `rate = 1 - keep_prob`.\n",
            "W0731 19:53:45.467616 139853390546816 deprecation.py:323] From /usr/local/lib/python3.6/dist-packages/bert_dp/modeling.py:680: dense (from tensorflow.python.layers.core) is deprecated and will be removed in a future version.\n",
            "Instructions for updating:\n",
            "Use keras.layers.dense instead.\n",
            "W0731 19:53:48.925166 139853390546816 deprecation.py:506] From /usr/local/lib/python3.6/dist-packages/tensorflow/python/ops/init_ops.py:1251: calling VarianceScaling.__init__ (from tensorflow.python.ops.init_ops) with dtype is deprecated and will be removed in a future version.\n",
            "Instructions for updating:\n",
            "Call initializer instance with the dtype argument instead of passing it to the constructor\n",
            "W0731 19:53:49.012534 139853390546816 deprecation.py:323] From /usr/local/lib/python3.6/dist-packages/deeppavlov/models/bert/bert_ner.py:350: add_dispatch_support.<locals>.wrapper (from tensorflow.python.ops.array_ops) is deprecated and will be removed in a future version.\n",
            "Instructions for updating:\n",
            "Use tf.where in 2.0, which has the same broadcast rule as np.where\n",
            "W0731 19:53:49.297048 139853390546816 deprecation.py:323] From /usr/local/lib/python3.6/dist-packages/tensorflow/contrib/crf/python/ops/crf.py:213: dynamic_rnn (from tensorflow.python.ops.rnn) is deprecated and will be removed in a future version.\n",
            "Instructions for updating:\n",
            "Please use `keras.layers.RNN(cell)`, which is equivalent to this API\n",
            "W0731 19:53:59.699118 139853390546816 deprecation.py:323] From /usr/local/lib/python3.6/dist-packages/tensorflow/python/training/moving_averages.py:433: Variable.initialized_value (from tensorflow.python.ops.variables) is deprecated and will be removed in a future version.\n",
            "Instructions for updating:\n",
            "Use Variable.read_value. Variables in 2.X are initialized automatically both in eager and graph (inside tf.defun) contexts.\n",
            "W0731 19:54:18.276178 139853390546816 deprecation.py:323] From /usr/local/lib/python3.6/dist-packages/deeppavlov/models/bert/bert_ner.py:139: checkpoint_exists (from tensorflow.python.training.checkpoint_management) is deprecated and will be removed in a future version.\n",
            "Instructions for updating:\n",
            "Use standard file APIs to check for files with this prefix.\n",
            "2019-07-31 19:54:18.290 INFO in 'deeppavlov.core.models.tf_model'['tf_model'] at line 52: [loading model from /root/.deeppavlov/models/ner_rus_bert/model]\n",
            "I0731 19:54:18.290127 139853390546816 tf_model.py:52] [loading model from /root/.deeppavlov/models/ner_rus_bert/model]\n",
            "W0731 19:54:18.296150 139853390546816 deprecation_wrapper.py:119] From /usr/local/lib/python3.6/dist-packages/deeppavlov/core/models/tf_model.py:55: The name tf.train.Saver is deprecated. Please use tf.compat.v1.train.Saver instead.\n",
            "\n"
          ],
          "name": "stderr"
        }
      ]
    },
    {
      "cell_type": "code",
      "metadata": {
        "id": "ss8nFAdwYcfU",
        "colab_type": "code",
        "outputId": "7a56d507-3205-4818-9256-67c676acb18e",
        "colab": {
          "base_uri": "https://localhost:8080/",
          "height": 390
        }
      },
      "source": [
        "\n",
        "import numpy as np\n",
        "\n",
        "t2=\"\"\"\n",
        "ООО «Газпромнефть – КП», именуемое в дальнейшем «Заказчик»,  в лице Генерального директора Иванова Ивана Васильевича, действующего на основании  Устава, с одной стороны, и ООО «Формула», именуемое в дальнейшем «Исполнитель», в лице Генерального директора Ивановой Натальи Геннадьевны, действующей на основании Устава, с другой стороны, именуемые в дальнейшем «Стороны», заключили настоящий Договор о нижеследующем:\n",
        "\"\"\"\n",
        "\n",
        "t3=\"\"\"\n",
        "Статья 1. Общие положения\n",
        "\n",
        "Акционерное общество «Мессояханефтегаз» (прежние фирменные наименования: Открытое акционерное общество «Мессояханефтегаз», Закрытое акционерное общество «Мессояханефтегаз»), именуемое в дальнейшем «Общество», создано с наименованием Открытое акционерное общество «Мессояханефтегаз» путем реорганизации в форме выделения из ЗАО «Заполярнефтегазгеология» и зарегистрировано распоряжением Главы Тазовского района Ямало-Ненецкого автономного округа Тюменской области (свидетельство о государственной регистрации от 13 августа 1998 г. № 273).\n",
        "\"\"\"\n",
        "\n",
        "t4=\"\"\"\n",
        "Акционерное общество «Газпромнефть – Московский НПЗ» (АО «Газпромнефть-МНПЗ»), именуемое в дальнейшем «Благотворитель», в лице заместителя генерального директора по персоналу и организационному развитию Зыкова Д.В., действующего на основании на основании Доверенности № Д-17 от 29.01.2018г, с одной стороны, и Фонд поддержки социальных инициатив «Родные города», именуемый в дальнейшем «Благополучатель», в лице Генерального директора ____________________действующего на основании Устава, с другой стороны, именуемые совместно «Стороны», а по отдельности «Сторона», заключили настоящий Договор о нижеследующем:\n",
        "\"\"\"\n",
        "\n",
        "res = ner_model([t4])\n",
        "print (np.transpose(res).flatten())"
      ],
      "execution_count": 53,
      "outputs": [
        {
          "output_type": "stream",
          "text": [
            "['\\n' 'O' 'Акционерное' 'B-ORG' 'общество' 'I-ORG' '«' 'I-ORG'\n",
            " 'Газпромнефть' 'I-ORG' '–' 'I-ORG' 'Московский' 'I-ORG' 'НПЗ' 'I-ORG' '»'\n",
            " 'I-ORG' '(' 'I-ORG' 'АО' 'I-ORG' '«' 'I-ORG' 'Газпромнефть' 'I-ORG' '-'\n",
            " 'I-ORG' 'МНПЗ' 'I-ORG' '»' 'I-ORG' ')' 'I-ORG' ',' 'O' 'именуемое' 'O'\n",
            " 'в' 'O' 'дальнейшем' 'O' '«' 'O' 'Благотворитель' 'B-ORG' '»' 'O' ',' 'O'\n",
            " 'в' 'O' 'лице' 'O' 'заместителя' 'O' 'генерального' 'O' 'директора' 'O'\n",
            " 'по' 'O' 'персоналу' 'O' 'и' 'O' 'организационному' 'O' 'развитию' 'O'\n",
            " 'Зыкова' 'B-PER' 'Д' 'I-PER' '.' 'I-PER' 'В' 'I-PER' '.' 'I-PER' ',' 'O'\n",
            " 'действующего' 'O' 'на' 'O' 'основании' 'O' 'на' 'O' 'основании' 'O'\n",
            " 'Доверенности' 'O' '№' 'O' 'Д' 'O' '-' 'O' '17' 'O' 'от' 'O' '29' 'O' '.'\n",
            " 'O' '01' 'O' '.' 'O' '2018г' 'O' ',' 'O' 'с' 'O' 'одной' 'O' 'стороны'\n",
            " 'O' ',' 'O' 'и' 'O' 'Фонд' 'B-ORG' 'поддержки' 'I-ORG' 'социальных'\n",
            " 'I-ORG' 'инициатив' 'I-ORG' '«' 'I-ORG' 'Родные' 'I-ORG' 'города' 'I-ORG'\n",
            " '»' 'I-ORG' ',' 'O' 'именуемый' 'O' 'в' 'O' 'дальнейшем' 'O' '«' 'O'\n",
            " 'Благополучатель' 'B-ORG' '»' 'O' ',' 'O' 'в' 'O' 'лице' 'O'\n",
            " 'Генерального' 'O' 'директора' 'O' '____________________действующего' 'O'\n",
            " 'на' 'O' 'основании' 'O' 'Устава' 'O' ',' 'O' 'с' 'O' 'другой' 'O'\n",
            " 'стороны' 'O' ',' 'O' 'именуемые' 'O' 'совместно' 'O' '«' 'O' 'Стороны'\n",
            " 'O' '»' 'O' ',' 'O' 'а' 'O' 'по' 'O' 'отдельности' 'O' '«' 'O' 'Сторона'\n",
            " 'O' '»' 'O' ',' 'O' 'заключили' 'O' 'настоящий' 'O' 'Договор' 'O' 'о' 'O'\n",
            " 'нижеследующем' 'O' ':' 'O' '\\n' 'O']\n"
          ],
          "name": "stdout"
        }
      ]
    },
    {
      "cell_type": "code",
      "metadata": {
        "id": "M6z-yM1smrCY",
        "colab_type": "code",
        "colab": {
          "base_uri": "https://localhost:8080/",
          "height": 112
        },
        "outputId": "6eac716c-78a0-4c33-8c2e-1961784e49bc"
      },
      "source": [
        "\n",
        "import IPython\n",
        "\n",
        "colors={\n",
        "    'I-ORG':\"#ff6666\",\n",
        "    'B-ORG':\"#ff6666\",\n",
        "    'I-PER':\"#6666ff\",\n",
        "    'B-PER':\"#6666ff\",\n",
        "    'I-LOC':\"#66ffff\",\n",
        "    'B-LOC':\"#66ffff\",\n",
        "    'O':\"#ffffff\"\n",
        "}\n",
        "\n",
        "_html = '<p>'\n",
        "\n",
        "tags = res[1][0]\n",
        "tokens = res[0][0]\n",
        "\n",
        "for i in range(len(tokens)):\n",
        " \n",
        "  if tags[i] in colors:\n",
        "    color = colors[tags[i]]\n",
        "  else:\n",
        "    color = '#ff00ff'\n",
        "  _html +=  f'<span style=\"background:{color}\">{tokens[i]} </span>'\n",
        "_html+= 'EOF</p>'\n",
        "\n",
        "\n",
        "IPython.display.HTML(_html)\n"
      ],
      "execution_count": 54,
      "outputs": [
        {
          "output_type": "execute_result",
          "data": {
            "text/html": [
              "<p><span style=\"background:#ffffff\">\n",
              " </span><span style=\"background:#ff6666\">Акционерное </span><span style=\"background:#ff6666\">общество </span><span style=\"background:#ff6666\">« </span><span style=\"background:#ff6666\">Газпромнефть </span><span style=\"background:#ff6666\">– </span><span style=\"background:#ff6666\">Московский </span><span style=\"background:#ff6666\">НПЗ </span><span style=\"background:#ff6666\">» </span><span style=\"background:#ff6666\">( </span><span style=\"background:#ff6666\">АО </span><span style=\"background:#ff6666\">« </span><span style=\"background:#ff6666\">Газпромнефть </span><span style=\"background:#ff6666\">- </span><span style=\"background:#ff6666\">МНПЗ </span><span style=\"background:#ff6666\">» </span><span style=\"background:#ff6666\">) </span><span style=\"background:#ffffff\">, </span><span style=\"background:#ffffff\">именуемое </span><span style=\"background:#ffffff\">в </span><span style=\"background:#ffffff\">дальнейшем </span><span style=\"background:#ffffff\">« </span><span style=\"background:#ff6666\">Благотворитель </span><span style=\"background:#ffffff\">» </span><span style=\"background:#ffffff\">, </span><span style=\"background:#ffffff\">в </span><span style=\"background:#ffffff\">лице </span><span style=\"background:#ffffff\">заместителя </span><span style=\"background:#ffffff\">генерального </span><span style=\"background:#ffffff\">директора </span><span style=\"background:#ffffff\">по </span><span style=\"background:#ffffff\">персоналу </span><span style=\"background:#ffffff\">и </span><span style=\"background:#ffffff\">организационному </span><span style=\"background:#ffffff\">развитию </span><span style=\"background:#6666ff\">Зыкова </span><span style=\"background:#6666ff\">Д </span><span style=\"background:#6666ff\">. </span><span style=\"background:#6666ff\">В </span><span style=\"background:#6666ff\">. </span><span style=\"background:#ffffff\">, </span><span style=\"background:#ffffff\">действующего </span><span style=\"background:#ffffff\">на </span><span style=\"background:#ffffff\">основании </span><span style=\"background:#ffffff\">на </span><span style=\"background:#ffffff\">основании </span><span style=\"background:#ffffff\">Доверенности </span><span style=\"background:#ffffff\">№ </span><span style=\"background:#ffffff\">Д </span><span style=\"background:#ffffff\">- </span><span style=\"background:#ffffff\">17 </span><span style=\"background:#ffffff\">от </span><span style=\"background:#ffffff\">29 </span><span style=\"background:#ffffff\">. </span><span style=\"background:#ffffff\">01 </span><span style=\"background:#ffffff\">. </span><span style=\"background:#ffffff\">2018г </span><span style=\"background:#ffffff\">, </span><span style=\"background:#ffffff\">с </span><span style=\"background:#ffffff\">одной </span><span style=\"background:#ffffff\">стороны </span><span style=\"background:#ffffff\">, </span><span style=\"background:#ffffff\">и </span><span style=\"background:#ff6666\">Фонд </span><span style=\"background:#ff6666\">поддержки </span><span style=\"background:#ff6666\">социальных </span><span style=\"background:#ff6666\">инициатив </span><span style=\"background:#ff6666\">« </span><span style=\"background:#ff6666\">Родные </span><span style=\"background:#ff6666\">города </span><span style=\"background:#ff6666\">» </span><span style=\"background:#ffffff\">, </span><span style=\"background:#ffffff\">именуемый </span><span style=\"background:#ffffff\">в </span><span style=\"background:#ffffff\">дальнейшем </span><span style=\"background:#ffffff\">« </span><span style=\"background:#ff6666\">Благополучатель </span><span style=\"background:#ffffff\">» </span><span style=\"background:#ffffff\">, </span><span style=\"background:#ffffff\">в </span><span style=\"background:#ffffff\">лице </span><span style=\"background:#ffffff\">Генерального </span><span style=\"background:#ffffff\">директора </span><span style=\"background:#ffffff\">____________________действующего </span><span style=\"background:#ffffff\">на </span><span style=\"background:#ffffff\">основании </span><span style=\"background:#ffffff\">Устава </span><span style=\"background:#ffffff\">, </span><span style=\"background:#ffffff\">с </span><span style=\"background:#ffffff\">другой </span><span style=\"background:#ffffff\">стороны </span><span style=\"background:#ffffff\">, </span><span style=\"background:#ffffff\">именуемые </span><span style=\"background:#ffffff\">совместно </span><span style=\"background:#ffffff\">« </span><span style=\"background:#ffffff\">Стороны </span><span style=\"background:#ffffff\">» </span><span style=\"background:#ffffff\">, </span><span style=\"background:#ffffff\">а </span><span style=\"background:#ffffff\">по </span><span style=\"background:#ffffff\">отдельности </span><span style=\"background:#ffffff\">« </span><span style=\"background:#ffffff\">Сторона </span><span style=\"background:#ffffff\">» </span><span style=\"background:#ffffff\">, </span><span style=\"background:#ffffff\">заключили </span><span style=\"background:#ffffff\">настоящий </span><span style=\"background:#ffffff\">Договор </span><span style=\"background:#ffffff\">о </span><span style=\"background:#ffffff\">нижеследующем </span><span style=\"background:#ffffff\">: </span><span style=\"background:#ffffff\">\n",
              " </span>EOF</p>"
            ],
            "text/plain": [
              "<IPython.core.display.HTML object>"
            ]
          },
          "metadata": {
            "tags": []
          },
          "execution_count": 54
        }
      ]
    },
    {
      "cell_type": "code",
      "metadata": {
        "id": "Ju2V78XJo9ma",
        "colab_type": "code",
        "colab": {
          "base_uri": "https://localhost:8080/",
          "height": 33
        },
        "outputId": "669061e1-a58c-41db-81cf-aa9f7df53259"
      },
      "source": [
        ""
      ],
      "execution_count": 37,
      "outputs": [
        {
          "output_type": "execute_result",
          "data": {
            "text/html": [
              "<img src=\"https://github.com/blablabla/elmo_1.jpg?raw=1\">"
            ],
            "text/plain": [
              "<IPython.core.display.HTML object>"
            ]
          },
          "metadata": {
            "tags": []
          },
          "execution_count": 37
        }
      ]
    }
  ]
}